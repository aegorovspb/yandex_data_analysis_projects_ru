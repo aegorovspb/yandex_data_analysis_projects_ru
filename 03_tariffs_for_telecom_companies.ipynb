{
 "cells": [
  {
   "cell_type": "markdown",
   "metadata": {},
   "source": [
    "# Определение перспективного тарифа для телеком-компании\n",
    "\n",
    "Нам предстоит сделать предварительный анализ тарифов на небольшой выборке клиентов. В нашем распоряжении данные 500 пользователей «Мегалайна»: кто они, откуда, каким тарифом пользуются, сколько звонков и сообщений каждый отправил за 2018 год. Нужно проанализировать поведение клиентов и сделать вывод — какой тариф лучше.\n",
    "Клиентам предлагают два тарифных плана: «Смарт» и «Ультра». Чтобы скорректировать рекламный бюджет, коммерческий департамент хочет понять, какой тариф приносит больше денег.\n",
    "\n",
    "Шаги исследования:\n",
    "* Шаг 1. Откроем файлы с данными и изучим общую информацию\n",
    "* Шаг 2. Подготовка данных\n",
    "* Шаг 3. Анализ данных\n",
    "* Шаг 4. Проверка гипотез\n",
    "* Шаг 5. Общий вывод\n",
    "\n",
    "**Главная цель проекта** - определить, какой из двух тарифов приносит большую прибыль компании из расчета в среднем на одного пользователя и в целом по представленной выборке."
   ]
  },
  {
   "cell_type": "markdown",
   "metadata": {
    "toc": true
   },
   "source": [
    "<h1>Содержание<span class=\"tocSkip\"></span></h1>\n",
    "<div class=\"toc\"><ul class=\"toc-item\"><li><span><a href=\"#Откроем-файлы-с-данными-и-изучим-общую-информацию\" data-toc-modified-id=\"Откроем-файлы-с-данными-и-изучим-общую-информацию-1\"><span class=\"toc-item-num\">1&nbsp;&nbsp;</span>Откроем файлы с данными и изучим общую информацию</a></span><ul class=\"toc-item\"><li><span><a href=\"#Выводы-по-предобработке-данных\" data-toc-modified-id=\"Выводы-по-предобработке-данных-1.1\"><span class=\"toc-item-num\">1.1&nbsp;&nbsp;</span>Выводы по предобработке данных</a></span></li></ul></li><li><span><a href=\"#Подготовка-данных\" data-toc-modified-id=\"Подготовка-данных-2\"><span class=\"toc-item-num\">2&nbsp;&nbsp;</span>Подготовка данных</a></span><ul class=\"toc-item\"><li><span><a href=\"#Таблица-users-(информация-о-пользователях)\" data-toc-modified-id=\"Таблица-users-(информация-о-пользователях)-2.1\"><span class=\"toc-item-num\">2.1&nbsp;&nbsp;</span>Таблица users (информация о пользователях)</a></span></li><li><span><a href=\"#Таблица-calls-(информация-о-звонках)\" data-toc-modified-id=\"Таблица-calls-(информация-о-звонках)-2.2\"><span class=\"toc-item-num\">2.2&nbsp;&nbsp;</span>Таблица calls (информация о звонках)</a></span></li><li><span><a href=\"#Таблица-messages-(информация-о-сообщениях)\" data-toc-modified-id=\"Таблица-messages-(информация-о-сообщениях)-2.3\"><span class=\"toc-item-num\">2.3&nbsp;&nbsp;</span>Таблица messages (информация о сообщениях)</a></span></li><li><span><a href=\"#Таблица-internet-(информация-об-интернет-сессиях)\" data-toc-modified-id=\"Таблица-internet-(информация-об-интернет-сессиях)-2.4\"><span class=\"toc-item-num\">2.4&nbsp;&nbsp;</span>Таблица internet (информация об интернет-сессиях)</a></span></li><li><span><a href=\"#Таблица-tariffs-(информация-о-тарифах)\" data-toc-modified-id=\"Таблица-tariffs-(информация-о-тарифах)-2.5\"><span class=\"toc-item-num\">2.5&nbsp;&nbsp;</span>Таблица tariffs (информация о тарифах)</a></span></li><li><span><a href=\"#Вывод-по-этапу-&quot;Подготовка-данных&quot;\" data-toc-modified-id=\"Вывод-по-этапу-&quot;Подготовка-данных&quot;-2.6\"><span class=\"toc-item-num\">2.6&nbsp;&nbsp;</span>Вывод по этапу \"Подготовка данных\"</a></span></li><li><span><a href=\"#Рассчитайте-для-каждого-пользователя:\" data-toc-modified-id=\"Рассчитайте-для-каждого-пользователя:-2.7\"><span class=\"toc-item-num\">2.7&nbsp;&nbsp;</span>Рассчитайте для каждого пользователя:</a></span><ul class=\"toc-item\"><li><span><a href=\"#количество-сделанных-звонков-и-израсходованных-минут-разговора-по-месяцам\" data-toc-modified-id=\"количество-сделанных-звонков-и-израсходованных-минут-разговора-по-месяцам-2.7.1\"><span class=\"toc-item-num\">2.7.1&nbsp;&nbsp;</span>количество сделанных звонков и израсходованных минут разговора по месяцам</a></span></li><li><span><a href=\"#количество-отправленных-сообщений-по-месяцам\" data-toc-modified-id=\"количество-отправленных-сообщений-по-месяцам-2.7.2\"><span class=\"toc-item-num\">2.7.2&nbsp;&nbsp;</span>количество отправленных сообщений по месяцам</a></span></li><li><span><a href=\"#объем-израсходованного-интернет-трафика-по-месяцам\" data-toc-modified-id=\"объем-израсходованного-интернет-трафика-по-месяцам-2.7.3\"><span class=\"toc-item-num\">2.7.3&nbsp;&nbsp;</span>объем израсходованного интернет-трафика по месяцам</a></span></li></ul></li><li><span><a href=\"#Объединим-таблицы\" data-toc-modified-id=\"Объединим-таблицы-2.8\"><span class=\"toc-item-num\">2.8&nbsp;&nbsp;</span>Объединим таблицы</a></span><ul class=\"toc-item\"><li><span><a href=\"#Заменим-Nan-и-изменим-тип-данных\" data-toc-modified-id=\"Заменим-Nan-и-изменим-тип-данных-2.8.1\"><span class=\"toc-item-num\">2.8.1&nbsp;&nbsp;</span>Заменим Nan и изменим тип данных</a></span></li><li><span><a href=\"#выводы-по-объединению-таблиц\" data-toc-modified-id=\"выводы-по-объединению-таблиц-2.8.2\"><span class=\"toc-item-num\">2.8.2&nbsp;&nbsp;</span>выводы по объединению таблиц</a></span></li></ul></li></ul></li><li><span><a href=\"#Расчет-выручки-для-каждого-пользователя\" data-toc-modified-id=\"Расчет-выручки-для-каждого-пользователя-3\"><span class=\"toc-item-num\">3&nbsp;&nbsp;</span>Расчет выручки для каждого пользователя</a></span></li><li><span><a href=\"#Рассчитаем-среднее-для-каждого-пользователя-по-месяцам\" data-toc-modified-id=\"Рассчитаем-среднее-для-каждого-пользователя-по-месяцам-4\"><span class=\"toc-item-num\">4&nbsp;&nbsp;</span>Рассчитаем среднее для каждого пользователя по месяцам</a></span><ul class=\"toc-item\"><li><span><a href=\"#Рассчет-средних-показателей-для-тарифа-Smart\" data-toc-modified-id=\"Рассчет-средних-показателей-для-тарифа-Smart-4.1\"><span class=\"toc-item-num\">4.1&nbsp;&nbsp;</span>Рассчет средних показателей для тарифа Smart</a></span></li><li><span><a href=\"#Рассчет-средних-показателей-для-тарифа-Ultra\" data-toc-modified-id=\"Рассчет-средних-показателей-для-тарифа-Ultra-4.2\"><span class=\"toc-item-num\">4.2&nbsp;&nbsp;</span>Рассчет средних показателей для тарифа Ultra</a></span></li><li><span><a href=\"#Анализ-средних-показателей-для-тарифа-Smart\" data-toc-modified-id=\"Анализ-средних-показателей-для-тарифа-Smart-4.3\"><span class=\"toc-item-num\">4.3&nbsp;&nbsp;</span>Анализ средних показателей для тарифа Smart</a></span></li><li><span><a href=\"#Выводы-для-тарифа-Smart\" data-toc-modified-id=\"Выводы-для-тарифа-Smart-4.4\"><span class=\"toc-item-num\">4.4&nbsp;&nbsp;</span>Выводы для тарифа Smart</a></span></li><li><span><a href=\"#Графики-для-тарифа-Smart\" data-toc-modified-id=\"Графики-для-тарифа-Smart-4.5\"><span class=\"toc-item-num\">4.5&nbsp;&nbsp;</span>Графики для тарифа Smart</a></span></li><li><span><a href=\"#Анализ-средних-показателей-для-тарифа-Ultra\" data-toc-modified-id=\"Анализ-средних-показателей-для-тарифа-Ultra-4.6\"><span class=\"toc-item-num\">4.6&nbsp;&nbsp;</span>Анализ средних показателей для тарифа Ultra</a></span></li><li><span><a href=\"#Выводы-для-тарифа-Ultra\" data-toc-modified-id=\"Выводы-для-тарифа-Ultra-4.7\"><span class=\"toc-item-num\">4.7&nbsp;&nbsp;</span>Выводы для тарифа Ultra</a></span></li><li><span><a href=\"#Графики-для-тарифа-Ultra\" data-toc-modified-id=\"Графики-для-тарифа-Ultra-4.8\"><span class=\"toc-item-num\">4.8&nbsp;&nbsp;</span>Графики для тарифа Ultra</a></span></li></ul></li><li><span><a href=\"#Сравнение-показателей-для-Москвы-и-других-регионов\" data-toc-modified-id=\"Сравнение-показателей-для-Москвы-и-других-регионов-5\"><span class=\"toc-item-num\">5&nbsp;&nbsp;</span>Сравнение показателей для Москвы и других регионов</a></span><ul class=\"toc-item\"><li><ul class=\"toc-item\"><li><span><a href=\"#Проверка-гипотезы:-выручка-в-Москве-отличается-от-других-городов\" data-toc-modified-id=\"Проверка-гипотезы:-выручка-в-Москве-отличается-от-других-городов-5.0.1\"><span class=\"toc-item-num\">5.0.1&nbsp;&nbsp;</span>Проверка гипотезы: выручка в Москве отличается от других городов</a></span></li><li><span><a href=\"#Вывод-по-гипотезе:-выручка-в-Москве-отличается-от-других-городов\" data-toc-modified-id=\"Вывод-по-гипотезе:-выручка-в-Москве-отличается-от-других-городов-5.0.2\"><span class=\"toc-item-num\">5.0.2&nbsp;&nbsp;</span>Вывод по гипотезе: выручка в Москве отличается от других городов</a></span></li></ul></li></ul></li><li><span><a href=\"#Проверка-гипотезы:-средняя-выручка-пользователей-тарифов-«Ультра»-и-«Смарт»-различаются\" data-toc-modified-id=\"Проверка-гипотезы:-средняя-выручка-пользователей-тарифов-«Ультра»-и-«Смарт»-различаются-6\"><span class=\"toc-item-num\">6&nbsp;&nbsp;</span>Проверка гипотезы: средняя выручка пользователей тарифов «Ультра» и «Смарт» различаются</a></span><ul class=\"toc-item\"><li><span><a href=\"#Вывод-по-гипотезе:-средняя-выручка-пользователей-тарифов-«Ультра»-и-«Смарт»-различаются\" data-toc-modified-id=\"Вывод-по-гипотезе:-средняя-выручка-пользователей-тарифов-«Ультра»-и-«Смарт»-различаются-6.1\"><span class=\"toc-item-num\">6.1&nbsp;&nbsp;</span>Вывод по гипотезе: средняя выручка пользователей тарифов «Ультра» и «Смарт» различаются</a></span></li></ul></li><li><span><a href=\"#Общий-вывод-по-проведенному-анализу\" data-toc-modified-id=\"Общий-вывод-по-проведенному-анализу-7\"><span class=\"toc-item-num\">7&nbsp;&nbsp;</span>Общий вывод по проведенному анализу</a></span></li></ul></div>"
   ]
  },
  {
   "cell_type": "markdown",
   "metadata": {},
   "source": [
    "## Откроем файлы с данными и изучим общую информацию"
   ]
  },
  {
   "cell_type": "code",
   "execution_count": 1,
   "metadata": {},
   "outputs": [],
   "source": [
    "# загружаем библиотеку pandas\n",
    "import pandas as pd\n",
    "\n",
    "# получение названия файла БД\n",
    "import os\n",
    "\n",
    "# загружаем библиотеку numpy\n",
    "import numpy as np\n",
    "\n",
    "# загружаем библиотеку pylab для подписей заголовков\n",
    "import pylab as pl\n",
    "\n",
    "# import scipy для рассчета статистической значимости\n",
    "from scipy import stats as st\n",
    "\n",
    "# import matplotlib для построения графиков\n",
    "import matplotlib as plt\n"
   ]
  },
  {
   "cell_type": "code",
   "execution_count": 2,
   "metadata": {},
   "outputs": [],
   "source": [
    "# выводим заголовок таблиц и описание данных\n",
    "\n",
    "# users (информация о пользователях)\n",
    "df_users = pd.read_csv('https://code.s3.yandex.net/datasets/users.csv')\n",
    "# calls (информация о звонках)\n",
    "df_calls = pd.read_csv('https://code.s3.yandex.net/datasets/calls.csv')\n",
    "# messages (информация о сообщениях)\n",
    "df_messages = pd.read_csv('https://code.s3.yandex.net/datasets/messages.csv')\n",
    "# internet (информация об интернет-сессиях)\n",
    "df_internet = pd.read_csv('https://code.s3.yandex.net/datasets/internet.csv')\n",
    "# tariffs (информация о тарифах)\n",
    "df_tariffs = pd.read_csv('https://code.s3.yandex.net/datasets/tariffs.csv')"
   ]
  },
  {
   "cell_type": "code",
   "execution_count": 3,
   "metadata": {},
   "outputs": [],
   "source": [
    "# создадим список таблиц\n",
    "df_list = [df_tariffs, df_calls, df_internet, df_messages, df_users]"
   ]
  },
  {
   "cell_type": "code",
   "execution_count": 4,
   "metadata": {},
   "outputs": [
    {
     "data": {
      "text/html": [
       "<div>\n",
       "<style scoped>\n",
       "    .dataframe tbody tr th:only-of-type {\n",
       "        vertical-align: middle;\n",
       "    }\n",
       "\n",
       "    .dataframe tbody tr th {\n",
       "        vertical-align: top;\n",
       "    }\n",
       "\n",
       "    .dataframe thead th {\n",
       "        text-align: right;\n",
       "    }\n",
       "</style>\n",
       "<table border=\"1\" class=\"dataframe\">\n",
       "  <thead>\n",
       "    <tr style=\"text-align: right;\">\n",
       "      <th></th>\n",
       "      <th>messages_included</th>\n",
       "      <th>mb_per_month_included</th>\n",
       "      <th>minutes_included</th>\n",
       "      <th>rub_monthly_fee</th>\n",
       "      <th>rub_per_gb</th>\n",
       "      <th>rub_per_message</th>\n",
       "      <th>rub_per_minute</th>\n",
       "      <th>tariff_name</th>\n",
       "    </tr>\n",
       "  </thead>\n",
       "  <tbody>\n",
       "    <tr>\n",
       "      <th>0</th>\n",
       "      <td>50</td>\n",
       "      <td>15360</td>\n",
       "      <td>500</td>\n",
       "      <td>550</td>\n",
       "      <td>200</td>\n",
       "      <td>3</td>\n",
       "      <td>3</td>\n",
       "      <td>smart</td>\n",
       "    </tr>\n",
       "    <tr>\n",
       "      <th>1</th>\n",
       "      <td>1000</td>\n",
       "      <td>30720</td>\n",
       "      <td>3000</td>\n",
       "      <td>1950</td>\n",
       "      <td>150</td>\n",
       "      <td>1</td>\n",
       "      <td>1</td>\n",
       "      <td>ultra</td>\n",
       "    </tr>\n",
       "  </tbody>\n",
       "</table>\n",
       "</div>"
      ],
      "text/plain": [
       "   messages_included  mb_per_month_included  minutes_included  \\\n",
       "0                 50                  15360               500   \n",
       "1               1000                  30720              3000   \n",
       "\n",
       "   rub_monthly_fee  rub_per_gb  rub_per_message  rub_per_minute tariff_name  \n",
       "0              550         200                3               3       smart  \n",
       "1             1950         150                1               1       ultra  "
      ]
     },
     "metadata": {},
     "output_type": "display_data"
    },
    {
     "name": "stdout",
     "output_type": "stream",
     "text": [
      "<class 'pandas.core.frame.DataFrame'>\n",
      "RangeIndex: 2 entries, 0 to 1\n",
      "Data columns (total 8 columns):\n",
      " #   Column                 Non-Null Count  Dtype \n",
      "---  ------                 --------------  ----- \n",
      " 0   messages_included      2 non-null      int64 \n",
      " 1   mb_per_month_included  2 non-null      int64 \n",
      " 2   minutes_included       2 non-null      int64 \n",
      " 3   rub_monthly_fee        2 non-null      int64 \n",
      " 4   rub_per_gb             2 non-null      int64 \n",
      " 5   rub_per_message        2 non-null      int64 \n",
      " 6   rub_per_minute         2 non-null      int64 \n",
      " 7   tariff_name            2 non-null      object\n",
      "dtypes: int64(7), object(1)\n",
      "memory usage: 256.0+ bytes\n"
     ]
    },
    {
     "data": {
      "text/plain": [
       "None"
      ]
     },
     "metadata": {},
     "output_type": "display_data"
    },
    {
     "name": "stdout",
     "output_type": "stream",
     "text": [
      "\n"
     ]
    },
    {
     "data": {
      "text/html": [
       "<div>\n",
       "<style scoped>\n",
       "    .dataframe tbody tr th:only-of-type {\n",
       "        vertical-align: middle;\n",
       "    }\n",
       "\n",
       "    .dataframe tbody tr th {\n",
       "        vertical-align: top;\n",
       "    }\n",
       "\n",
       "    .dataframe thead th {\n",
       "        text-align: right;\n",
       "    }\n",
       "</style>\n",
       "<table border=\"1\" class=\"dataframe\">\n",
       "  <thead>\n",
       "    <tr style=\"text-align: right;\">\n",
       "      <th></th>\n",
       "      <th>id</th>\n",
       "      <th>call_date</th>\n",
       "      <th>duration</th>\n",
       "      <th>user_id</th>\n",
       "    </tr>\n",
       "  </thead>\n",
       "  <tbody>\n",
       "    <tr>\n",
       "      <th>0</th>\n",
       "      <td>1000_0</td>\n",
       "      <td>2018-07-25</td>\n",
       "      <td>0.00</td>\n",
       "      <td>1000</td>\n",
       "    </tr>\n",
       "    <tr>\n",
       "      <th>1</th>\n",
       "      <td>1000_1</td>\n",
       "      <td>2018-08-17</td>\n",
       "      <td>0.00</td>\n",
       "      <td>1000</td>\n",
       "    </tr>\n",
       "    <tr>\n",
       "      <th>2</th>\n",
       "      <td>1000_2</td>\n",
       "      <td>2018-06-11</td>\n",
       "      <td>2.85</td>\n",
       "      <td>1000</td>\n",
       "    </tr>\n",
       "  </tbody>\n",
       "</table>\n",
       "</div>"
      ],
      "text/plain": [
       "       id   call_date  duration  user_id\n",
       "0  1000_0  2018-07-25      0.00     1000\n",
       "1  1000_1  2018-08-17      0.00     1000\n",
       "2  1000_2  2018-06-11      2.85     1000"
      ]
     },
     "metadata": {},
     "output_type": "display_data"
    },
    {
     "name": "stdout",
     "output_type": "stream",
     "text": [
      "<class 'pandas.core.frame.DataFrame'>\n",
      "RangeIndex: 202607 entries, 0 to 202606\n",
      "Data columns (total 4 columns):\n",
      " #   Column     Non-Null Count   Dtype  \n",
      "---  ------     --------------   -----  \n",
      " 0   id         202607 non-null  object \n",
      " 1   call_date  202607 non-null  object \n",
      " 2   duration   202607 non-null  float64\n",
      " 3   user_id    202607 non-null  int64  \n",
      "dtypes: float64(1), int64(1), object(2)\n",
      "memory usage: 6.2+ MB\n"
     ]
    },
    {
     "data": {
      "text/plain": [
       "None"
      ]
     },
     "metadata": {},
     "output_type": "display_data"
    },
    {
     "name": "stdout",
     "output_type": "stream",
     "text": [
      "\n"
     ]
    },
    {
     "data": {
      "text/html": [
       "<div>\n",
       "<style scoped>\n",
       "    .dataframe tbody tr th:only-of-type {\n",
       "        vertical-align: middle;\n",
       "    }\n",
       "\n",
       "    .dataframe tbody tr th {\n",
       "        vertical-align: top;\n",
       "    }\n",
       "\n",
       "    .dataframe thead th {\n",
       "        text-align: right;\n",
       "    }\n",
       "</style>\n",
       "<table border=\"1\" class=\"dataframe\">\n",
       "  <thead>\n",
       "    <tr style=\"text-align: right;\">\n",
       "      <th></th>\n",
       "      <th>Unnamed: 0</th>\n",
       "      <th>id</th>\n",
       "      <th>mb_used</th>\n",
       "      <th>session_date</th>\n",
       "      <th>user_id</th>\n",
       "    </tr>\n",
       "  </thead>\n",
       "  <tbody>\n",
       "    <tr>\n",
       "      <th>0</th>\n",
       "      <td>0</td>\n",
       "      <td>1000_0</td>\n",
       "      <td>112.95</td>\n",
       "      <td>2018-11-25</td>\n",
       "      <td>1000</td>\n",
       "    </tr>\n",
       "    <tr>\n",
       "      <th>1</th>\n",
       "      <td>1</td>\n",
       "      <td>1000_1</td>\n",
       "      <td>1052.81</td>\n",
       "      <td>2018-09-07</td>\n",
       "      <td>1000</td>\n",
       "    </tr>\n",
       "    <tr>\n",
       "      <th>2</th>\n",
       "      <td>2</td>\n",
       "      <td>1000_2</td>\n",
       "      <td>1197.26</td>\n",
       "      <td>2018-06-25</td>\n",
       "      <td>1000</td>\n",
       "    </tr>\n",
       "  </tbody>\n",
       "</table>\n",
       "</div>"
      ],
      "text/plain": [
       "   Unnamed: 0      id  mb_used session_date  user_id\n",
       "0           0  1000_0   112.95   2018-11-25     1000\n",
       "1           1  1000_1  1052.81   2018-09-07     1000\n",
       "2           2  1000_2  1197.26   2018-06-25     1000"
      ]
     },
     "metadata": {},
     "output_type": "display_data"
    },
    {
     "name": "stdout",
     "output_type": "stream",
     "text": [
      "<class 'pandas.core.frame.DataFrame'>\n",
      "RangeIndex: 149396 entries, 0 to 149395\n",
      "Data columns (total 5 columns):\n",
      " #   Column        Non-Null Count   Dtype  \n",
      "---  ------        --------------   -----  \n",
      " 0   Unnamed: 0    149396 non-null  int64  \n",
      " 1   id            149396 non-null  object \n",
      " 2   mb_used       149396 non-null  float64\n",
      " 3   session_date  149396 non-null  object \n",
      " 4   user_id       149396 non-null  int64  \n",
      "dtypes: float64(1), int64(2), object(2)\n",
      "memory usage: 5.7+ MB\n"
     ]
    },
    {
     "data": {
      "text/plain": [
       "None"
      ]
     },
     "metadata": {},
     "output_type": "display_data"
    },
    {
     "name": "stdout",
     "output_type": "stream",
     "text": [
      "\n"
     ]
    },
    {
     "data": {
      "text/html": [
       "<div>\n",
       "<style scoped>\n",
       "    .dataframe tbody tr th:only-of-type {\n",
       "        vertical-align: middle;\n",
       "    }\n",
       "\n",
       "    .dataframe tbody tr th {\n",
       "        vertical-align: top;\n",
       "    }\n",
       "\n",
       "    .dataframe thead th {\n",
       "        text-align: right;\n",
       "    }\n",
       "</style>\n",
       "<table border=\"1\" class=\"dataframe\">\n",
       "  <thead>\n",
       "    <tr style=\"text-align: right;\">\n",
       "      <th></th>\n",
       "      <th>id</th>\n",
       "      <th>message_date</th>\n",
       "      <th>user_id</th>\n",
       "    </tr>\n",
       "  </thead>\n",
       "  <tbody>\n",
       "    <tr>\n",
       "      <th>0</th>\n",
       "      <td>1000_0</td>\n",
       "      <td>2018-06-27</td>\n",
       "      <td>1000</td>\n",
       "    </tr>\n",
       "    <tr>\n",
       "      <th>1</th>\n",
       "      <td>1000_1</td>\n",
       "      <td>2018-10-08</td>\n",
       "      <td>1000</td>\n",
       "    </tr>\n",
       "    <tr>\n",
       "      <th>2</th>\n",
       "      <td>1000_2</td>\n",
       "      <td>2018-08-04</td>\n",
       "      <td>1000</td>\n",
       "    </tr>\n",
       "  </tbody>\n",
       "</table>\n",
       "</div>"
      ],
      "text/plain": [
       "       id message_date  user_id\n",
       "0  1000_0   2018-06-27     1000\n",
       "1  1000_1   2018-10-08     1000\n",
       "2  1000_2   2018-08-04     1000"
      ]
     },
     "metadata": {},
     "output_type": "display_data"
    },
    {
     "name": "stdout",
     "output_type": "stream",
     "text": [
      "<class 'pandas.core.frame.DataFrame'>\n",
      "RangeIndex: 123036 entries, 0 to 123035\n",
      "Data columns (total 3 columns):\n",
      " #   Column        Non-Null Count   Dtype \n",
      "---  ------        --------------   ----- \n",
      " 0   id            123036 non-null  object\n",
      " 1   message_date  123036 non-null  object\n",
      " 2   user_id       123036 non-null  int64 \n",
      "dtypes: int64(1), object(2)\n",
      "memory usage: 2.8+ MB\n"
     ]
    },
    {
     "data": {
      "text/plain": [
       "None"
      ]
     },
     "metadata": {},
     "output_type": "display_data"
    },
    {
     "name": "stdout",
     "output_type": "stream",
     "text": [
      "\n"
     ]
    },
    {
     "data": {
      "text/html": [
       "<div>\n",
       "<style scoped>\n",
       "    .dataframe tbody tr th:only-of-type {\n",
       "        vertical-align: middle;\n",
       "    }\n",
       "\n",
       "    .dataframe tbody tr th {\n",
       "        vertical-align: top;\n",
       "    }\n",
       "\n",
       "    .dataframe thead th {\n",
       "        text-align: right;\n",
       "    }\n",
       "</style>\n",
       "<table border=\"1\" class=\"dataframe\">\n",
       "  <thead>\n",
       "    <tr style=\"text-align: right;\">\n",
       "      <th></th>\n",
       "      <th>user_id</th>\n",
       "      <th>age</th>\n",
       "      <th>churn_date</th>\n",
       "      <th>city</th>\n",
       "      <th>first_name</th>\n",
       "      <th>last_name</th>\n",
       "      <th>reg_date</th>\n",
       "      <th>tariff</th>\n",
       "    </tr>\n",
       "  </thead>\n",
       "  <tbody>\n",
       "    <tr>\n",
       "      <th>0</th>\n",
       "      <td>1000</td>\n",
       "      <td>52</td>\n",
       "      <td>NaN</td>\n",
       "      <td>Краснодар</td>\n",
       "      <td>Рафаил</td>\n",
       "      <td>Верещагин</td>\n",
       "      <td>2018-05-25</td>\n",
       "      <td>ultra</td>\n",
       "    </tr>\n",
       "    <tr>\n",
       "      <th>1</th>\n",
       "      <td>1001</td>\n",
       "      <td>41</td>\n",
       "      <td>NaN</td>\n",
       "      <td>Москва</td>\n",
       "      <td>Иван</td>\n",
       "      <td>Ежов</td>\n",
       "      <td>2018-11-01</td>\n",
       "      <td>smart</td>\n",
       "    </tr>\n",
       "    <tr>\n",
       "      <th>2</th>\n",
       "      <td>1002</td>\n",
       "      <td>59</td>\n",
       "      <td>NaN</td>\n",
       "      <td>Стерлитамак</td>\n",
       "      <td>Евгений</td>\n",
       "      <td>Абрамович</td>\n",
       "      <td>2018-06-17</td>\n",
       "      <td>smart</td>\n",
       "    </tr>\n",
       "  </tbody>\n",
       "</table>\n",
       "</div>"
      ],
      "text/plain": [
       "   user_id  age churn_date         city first_name  last_name    reg_date  \\\n",
       "0     1000   52        NaN    Краснодар     Рафаил  Верещагин  2018-05-25   \n",
       "1     1001   41        NaN       Москва       Иван       Ежов  2018-11-01   \n",
       "2     1002   59        NaN  Стерлитамак    Евгений  Абрамович  2018-06-17   \n",
       "\n",
       "  tariff  \n",
       "0  ultra  \n",
       "1  smart  \n",
       "2  smart  "
      ]
     },
     "metadata": {},
     "output_type": "display_data"
    },
    {
     "name": "stdout",
     "output_type": "stream",
     "text": [
      "<class 'pandas.core.frame.DataFrame'>\n",
      "RangeIndex: 500 entries, 0 to 499\n",
      "Data columns (total 8 columns):\n",
      " #   Column      Non-Null Count  Dtype \n",
      "---  ------      --------------  ----- \n",
      " 0   user_id     500 non-null    int64 \n",
      " 1   age         500 non-null    int64 \n",
      " 2   churn_date  38 non-null     object\n",
      " 3   city        500 non-null    object\n",
      " 4   first_name  500 non-null    object\n",
      " 5   last_name   500 non-null    object\n",
      " 6   reg_date    500 non-null    object\n",
      " 7   tariff      500 non-null    object\n",
      "dtypes: int64(2), object(6)\n",
      "memory usage: 31.4+ KB\n"
     ]
    },
    {
     "data": {
      "text/plain": [
       "None"
      ]
     },
     "metadata": {},
     "output_type": "display_data"
    },
    {
     "name": "stdout",
     "output_type": "stream",
     "text": [
      "\n"
     ]
    }
   ],
   "source": [
    "# выводим заголовок таблиц и описание данных\n",
    "for index in df_list:\n",
    "    display(index.head(3))\n",
    "    display(index.info())\n",
    "    print()"
   ]
  },
  {
   "cell_type": "markdown",
   "metadata": {},
   "source": [
    "### Выводы по предобработке данных"
   ]
  },
  {
   "cell_type": "markdown",
   "metadata": {},
   "source": [
    "* В таблице df_users (информация о пользователях)\n",
    "\n",
    "2   churn_date  38 non-null     object\n",
    "из 500 строк заполнены 38, проверим эти данные\n",
    "\n",
    "* Все данные и типы данных корректны"
   ]
  },
  {
   "cell_type": "markdown",
   "metadata": {},
   "source": [
    "## Подготовка данных"
   ]
  },
  {
   "cell_type": "markdown",
   "metadata": {},
   "source": [
    "Проверим данные на возможные ошибки и приведем данные к нужным типам."
   ]
  },
  {
   "cell_type": "markdown",
   "metadata": {},
   "source": [
    "### Таблица users (информация о пользователях)"
   ]
  },
  {
   "cell_type": "code",
   "execution_count": 5,
   "metadata": {},
   "outputs": [
    {
     "name": "stdout",
     "output_type": "stream",
     "text": [
      "<class 'pandas.core.frame.DataFrame'>\n",
      "RangeIndex: 500 entries, 0 to 499\n",
      "Data columns (total 8 columns):\n",
      " #   Column      Non-Null Count  Dtype \n",
      "---  ------      --------------  ----- \n",
      " 0   user_id     500 non-null    int64 \n",
      " 1   age         500 non-null    int64 \n",
      " 2   churn_date  38 non-null     object\n",
      " 3   city        500 non-null    object\n",
      " 4   first_name  500 non-null    object\n",
      " 5   last_name   500 non-null    object\n",
      " 6   reg_date    500 non-null    object\n",
      " 7   tariff      500 non-null    object\n",
      "dtypes: int64(2), object(6)\n",
      "memory usage: 31.4+ KB\n"
     ]
    }
   ],
   "source": [
    "df_users.info()"
   ]
  },
  {
   "cell_type": "markdown",
   "metadata": {},
   "source": [
    "Приведенные данные и типы данных корректны. Проверим на уникальность тарифы, их должно бы только два."
   ]
  },
  {
   "cell_type": "code",
   "execution_count": 6,
   "metadata": {
    "scrolled": true
   },
   "outputs": [
    {
     "name": "stdout",
     "output_type": "stream",
     "text": [
      "tariff\n",
      "smart    351\n",
      "ultra    149\n",
      "Name: tariff, dtype: int64\n"
     ]
    }
   ],
   "source": [
    "# проверим данные на уникальность тарифов\n",
    "tariff_unic = df_users.groupby('tariff')['tariff'].count()\n",
    "print(tariff_unic)"
   ]
  },
  {
   "cell_type": "code",
   "execution_count": 7,
   "metadata": {
    "scrolled": true
   },
   "outputs": [
    {
     "data": {
      "text/plain": [
       "churn_date\n",
       "2018-08-17    1\n",
       "2018-08-31    1\n",
       "2018-09-02    1\n",
       "2018-09-26    1\n",
       "2018-09-27    1\n",
       "2018-10-03    2\n",
       "2018-10-04    1\n",
       "2018-10-05    1\n",
       "2018-10-14    2\n",
       "2018-10-25    1\n",
       "2018-10-27    1\n",
       "2018-10-28    1\n",
       "2018-11-07    1\n",
       "2018-11-13    1\n",
       "2018-11-16    1\n",
       "2018-11-21    1\n",
       "2018-11-22    1\n",
       "2018-11-26    1\n",
       "2018-11-27    1\n",
       "2018-11-30    1\n",
       "2018-12-03    2\n",
       "2018-12-09    2\n",
       "2018-12-11    1\n",
       "2018-12-14    1\n",
       "2018-12-16    1\n",
       "2018-12-18    1\n",
       "2018-12-20    1\n",
       "2018-12-21    2\n",
       "2018-12-23    1\n",
       "2018-12-24    1\n",
       "2018-12-25    1\n",
       "2018-12-26    1\n",
       "2018-12-30    1\n",
       "Name: churn_date, dtype: int64"
      ]
     },
     "metadata": {},
     "output_type": "display_data"
    }
   ],
   "source": [
    "# проверим данные churn_date\n",
    "tariff_unic = df_users.groupby('churn_date')['churn_date'].count()\n",
    "display(tariff_unic)"
   ]
  },
  {
   "cell_type": "markdown",
   "metadata": {},
   "source": [
    "Из описания данных:\n",
    "churn_date — дата прекращения пользования тарифом (если значение пропущено, то тариф ещё действовал на момент выгрузки данных)\n",
    "\n",
    "Из указанных данных видно, что пользователи или меняли тариф или прекращали пользоваться услугами связи, из общей выборки это 13%. На проводимый анализ эти данные не оказывают существенного влияния т.к. стоит задача сделать анализ помесячно, но можно сделать отдельный анализ по этим данным."
   ]
  },
  {
   "cell_type": "code",
   "execution_count": 8,
   "metadata": {},
   "outputs": [
    {
     "data": {
      "text/plain": [
       "'явные дубликаты (users)'"
      ]
     },
     "metadata": {},
     "output_type": "display_data"
    },
    {
     "data": {
      "text/plain": [
       "0"
      ]
     },
     "metadata": {},
     "output_type": "display_data"
    }
   ],
   "source": [
    "# проверим данные на явные дубликаты (users)\n",
    "\n",
    "display('явные дубликаты (users)', df_users.duplicated().sum()) #  ['name'].unique()"
   ]
  },
  {
   "cell_type": "markdown",
   "metadata": {},
   "source": [
    "### Таблица calls (информация о звонках)"
   ]
  },
  {
   "cell_type": "code",
   "execution_count": 9,
   "metadata": {},
   "outputs": [
    {
     "name": "stdout",
     "output_type": "stream",
     "text": [
      "<class 'pandas.core.frame.DataFrame'>\n",
      "RangeIndex: 202607 entries, 0 to 202606\n",
      "Data columns (total 4 columns):\n",
      " #   Column     Non-Null Count   Dtype  \n",
      "---  ------     --------------   -----  \n",
      " 0   id         202607 non-null  object \n",
      " 1   call_date  202607 non-null  object \n",
      " 2   duration   202607 non-null  float64\n",
      " 3   user_id    202607 non-null  int64  \n",
      "dtypes: float64(1), int64(1), object(2)\n",
      "memory usage: 6.2+ MB\n"
     ]
    }
   ],
   "source": [
    "df_calls.info()"
   ]
  },
  {
   "cell_type": "markdown",
   "metadata": {},
   "source": [
    "Днные корректны, но т.к. при использовании тарифов длительность звонков округляется в целую сторону, округлим данные duration до целых и изменим тип на int64 (целочисленный тип).\n",
    "При этом по условию предоставления тарифа известно, что все взонки округляются в большую сторону, т.е. да же звонок длительностью 1 секунда округляется до 1 минуты.\n",
    "Для этого последовательно воспользуемся методом math.ceil(), т.к. метод round() округляет по математическим правилам, в данных условиях он неприменим. Метод math.ceil() не применить при копировании данных, создадим функцию для последовательной обработки данных. Для использования math.ceil() необходимо подключить модуль math.\n",
    "\n",
    "Вторым этапом найдем максимальную длительность звонка, для проверки корректности данных.\n",
    "\n",
    "Третим этапом проверим данные user_id на уникальность пользователей, по условию задания их должно быть 500."
   ]
  },
  {
   "cell_type": "code",
   "execution_count": 10,
   "metadata": {},
   "outputs": [
    {
     "data": {
      "text/html": [
       "<div>\n",
       "<style scoped>\n",
       "    .dataframe tbody tr th:only-of-type {\n",
       "        vertical-align: middle;\n",
       "    }\n",
       "\n",
       "    .dataframe tbody tr th {\n",
       "        vertical-align: top;\n",
       "    }\n",
       "\n",
       "    .dataframe thead th {\n",
       "        text-align: right;\n",
       "    }\n",
       "</style>\n",
       "<table border=\"1\" class=\"dataframe\">\n",
       "  <thead>\n",
       "    <tr style=\"text-align: right;\">\n",
       "      <th></th>\n",
       "      <th>id</th>\n",
       "      <th>call_date</th>\n",
       "      <th>duration</th>\n",
       "      <th>user_id</th>\n",
       "      <th>duration_round</th>\n",
       "    </tr>\n",
       "  </thead>\n",
       "  <tbody>\n",
       "    <tr>\n",
       "      <th>0</th>\n",
       "      <td>1000_0</td>\n",
       "      <td>2018-07-25</td>\n",
       "      <td>0.00</td>\n",
       "      <td>1000</td>\n",
       "      <td>0.0</td>\n",
       "    </tr>\n",
       "    <tr>\n",
       "      <th>1</th>\n",
       "      <td>1000_1</td>\n",
       "      <td>2018-08-17</td>\n",
       "      <td>0.00</td>\n",
       "      <td>1000</td>\n",
       "      <td>0.0</td>\n",
       "    </tr>\n",
       "    <tr>\n",
       "      <th>2</th>\n",
       "      <td>1000_2</td>\n",
       "      <td>2018-06-11</td>\n",
       "      <td>2.85</td>\n",
       "      <td>1000</td>\n",
       "      <td>3.0</td>\n",
       "    </tr>\n",
       "  </tbody>\n",
       "</table>\n",
       "</div>"
      ],
      "text/plain": [
       "       id   call_date  duration  user_id  duration_round\n",
       "0  1000_0  2018-07-25      0.00     1000             0.0\n",
       "1  1000_1  2018-08-17      0.00     1000             0.0\n",
       "2  1000_2  2018-06-11      2.85     1000             3.0"
      ]
     },
     "metadata": {},
     "output_type": "display_data"
    }
   ],
   "source": [
    "#df['column'] = df['column'].round().astype('int')\n",
    "\n",
    "# создадим функцию calls_round\n",
    "# в функции есть только одна переменная index, которая итеррирует столбец duration\n",
    "# для округления к этой переменной применяем метод math.ceil и возвращаем измененное значение\n",
    "\n",
    "df_calls['duration_round'] = np.ceil(df_calls['duration'])\n",
    "\n",
    "display(df_calls.head(3))"
   ]
  },
  {
   "cell_type": "code",
   "execution_count": 11,
   "metadata": {},
   "outputs": [
    {
     "name": "stdout",
     "output_type": "stream",
     "text": [
      "duration\n",
      "38.00    1\n",
      "27.57    1\n",
      "27.56    1\n",
      "27.54    1\n",
      "27.53    1\n",
      "27.50    1\n",
      "27.49    1\n",
      "Name: duration, dtype: int64\n"
     ]
    }
   ],
   "source": [
    "# выведем список уникальных значений методом groupby() и count()\n",
    "# отсортируем по возрастанию\n",
    "\n",
    "calls_max = df_calls.groupby('duration')['duration'].count().sort_values()\n",
    "print(calls_max.head(7))"
   ]
  },
  {
   "cell_type": "code",
   "execution_count": 12,
   "metadata": {
    "scrolled": true
   },
   "outputs": [
    {
     "data": {
      "text/plain": [
       "user_id\n",
       "1000    1\n",
       "1001    1\n",
       "1002    1\n",
       "1003    1\n",
       "1004    1\n",
       "       ..\n",
       "1495    1\n",
       "1496    1\n",
       "1497    1\n",
       "1498    1\n",
       "1499    1\n",
       "Name: user_id, Length: 500, dtype: int64"
      ]
     },
     "metadata": {},
     "output_type": "display_data"
    }
   ],
   "source": [
    "# проверим данные на уникальность пользователей.\n",
    "df_calls_unic_user_id = df_users.groupby('user_id')['user_id'].count()\n",
    "display(df_calls_unic_user_id)"
   ]
  },
  {
   "cell_type": "code",
   "execution_count": 13,
   "metadata": {},
   "outputs": [
    {
     "data": {
      "text/html": [
       "<div>\n",
       "<style scoped>\n",
       "    .dataframe tbody tr th:only-of-type {\n",
       "        vertical-align: middle;\n",
       "    }\n",
       "\n",
       "    .dataframe tbody tr th {\n",
       "        vertical-align: top;\n",
       "    }\n",
       "\n",
       "    .dataframe thead th {\n",
       "        text-align: right;\n",
       "    }\n",
       "</style>\n",
       "<table border=\"1\" class=\"dataframe\">\n",
       "  <thead>\n",
       "    <tr style=\"text-align: right;\">\n",
       "      <th></th>\n",
       "      <th>id</th>\n",
       "      <th>call_date</th>\n",
       "      <th>duration</th>\n",
       "      <th>user_id</th>\n",
       "      <th>duration_round</th>\n",
       "      <th>month</th>\n",
       "    </tr>\n",
       "  </thead>\n",
       "  <tbody>\n",
       "    <tr>\n",
       "      <th>0</th>\n",
       "      <td>1000_0</td>\n",
       "      <td>2018-07-25</td>\n",
       "      <td>0.00</td>\n",
       "      <td>1000</td>\n",
       "      <td>0.0</td>\n",
       "      <td>7</td>\n",
       "    </tr>\n",
       "    <tr>\n",
       "      <th>1</th>\n",
       "      <td>1000_1</td>\n",
       "      <td>2018-08-17</td>\n",
       "      <td>0.00</td>\n",
       "      <td>1000</td>\n",
       "      <td>0.0</td>\n",
       "      <td>8</td>\n",
       "    </tr>\n",
       "    <tr>\n",
       "      <th>2</th>\n",
       "      <td>1000_2</td>\n",
       "      <td>2018-06-11</td>\n",
       "      <td>2.85</td>\n",
       "      <td>1000</td>\n",
       "      <td>3.0</td>\n",
       "      <td>6</td>\n",
       "    </tr>\n",
       "    <tr>\n",
       "      <th>3</th>\n",
       "      <td>1000_3</td>\n",
       "      <td>2018-09-21</td>\n",
       "      <td>13.80</td>\n",
       "      <td>1000</td>\n",
       "      <td>14.0</td>\n",
       "      <td>9</td>\n",
       "    </tr>\n",
       "    <tr>\n",
       "      <th>4</th>\n",
       "      <td>1000_4</td>\n",
       "      <td>2018-12-15</td>\n",
       "      <td>5.18</td>\n",
       "      <td>1000</td>\n",
       "      <td>6.0</td>\n",
       "      <td>12</td>\n",
       "    </tr>\n",
       "  </tbody>\n",
       "</table>\n",
       "</div>"
      ],
      "text/plain": [
       "       id   call_date  duration  user_id  duration_round  month\n",
       "0  1000_0  2018-07-25      0.00     1000             0.0      7\n",
       "1  1000_1  2018-08-17      0.00     1000             0.0      8\n",
       "2  1000_2  2018-06-11      2.85     1000             3.0      6\n",
       "3  1000_3  2018-09-21     13.80     1000            14.0      9\n",
       "4  1000_4  2018-12-15      5.18     1000             6.0     12"
      ]
     },
     "metadata": {},
     "output_type": "display_data"
    },
    {
     "name": "stdout",
     "output_type": "stream",
     "text": [
      "<class 'pandas.core.frame.DataFrame'>\n",
      "RangeIndex: 202607 entries, 0 to 202606\n",
      "Data columns (total 6 columns):\n",
      " #   Column          Non-Null Count   Dtype  \n",
      "---  ------          --------------   -----  \n",
      " 0   id              202607 non-null  object \n",
      " 1   call_date       202607 non-null  object \n",
      " 2   duration        202607 non-null  float64\n",
      " 3   user_id         202607 non-null  int64  \n",
      " 4   duration_round  202607 non-null  float64\n",
      " 5   month           202607 non-null  int64  \n",
      "dtypes: float64(2), int64(2), object(2)\n",
      "memory usage: 9.3+ MB\n"
     ]
    }
   ],
   "source": [
    "# добавим столбец со значением месяца для данных calls\n",
    "\n",
    "df_calls['month'] = pd.to_datetime(df_calls['call_date'], format='%Y-%m-%d').dt.month\n",
    "display(df_calls.head(5))\n",
    "df_calls.info()"
   ]
  },
  {
   "cell_type": "code",
   "execution_count": 14,
   "metadata": {},
   "outputs": [
    {
     "data": {
      "text/plain": [
       "'явные дубликаты (calls)'"
      ]
     },
     "metadata": {},
     "output_type": "display_data"
    },
    {
     "data": {
      "text/plain": [
       "0"
      ]
     },
     "metadata": {},
     "output_type": "display_data"
    }
   ],
   "source": [
    "# проверим данные на явные дубликаты (calls)\n",
    "\n",
    "display('явные дубликаты (calls)', df_calls.duplicated().sum()) #  ['name'].unique()"
   ]
  },
  {
   "cell_type": "markdown",
   "metadata": {},
   "source": [
    "### Таблица messages (информация о сообщениях)"
   ]
  },
  {
   "cell_type": "code",
   "execution_count": 15,
   "metadata": {},
   "outputs": [
    {
     "data": {
      "text/html": [
       "<div>\n",
       "<style scoped>\n",
       "    .dataframe tbody tr th:only-of-type {\n",
       "        vertical-align: middle;\n",
       "    }\n",
       "\n",
       "    .dataframe tbody tr th {\n",
       "        vertical-align: top;\n",
       "    }\n",
       "\n",
       "    .dataframe thead th {\n",
       "        text-align: right;\n",
       "    }\n",
       "</style>\n",
       "<table border=\"1\" class=\"dataframe\">\n",
       "  <thead>\n",
       "    <tr style=\"text-align: right;\">\n",
       "      <th></th>\n",
       "      <th>id</th>\n",
       "      <th>message_date</th>\n",
       "      <th>user_id</th>\n",
       "    </tr>\n",
       "  </thead>\n",
       "  <tbody>\n",
       "    <tr>\n",
       "      <th>0</th>\n",
       "      <td>1000_0</td>\n",
       "      <td>2018-06-27</td>\n",
       "      <td>1000</td>\n",
       "    </tr>\n",
       "    <tr>\n",
       "      <th>1</th>\n",
       "      <td>1000_1</td>\n",
       "      <td>2018-10-08</td>\n",
       "      <td>1000</td>\n",
       "    </tr>\n",
       "    <tr>\n",
       "      <th>2</th>\n",
       "      <td>1000_2</td>\n",
       "      <td>2018-08-04</td>\n",
       "      <td>1000</td>\n",
       "    </tr>\n",
       "    <tr>\n",
       "      <th>3</th>\n",
       "      <td>1000_3</td>\n",
       "      <td>2018-06-16</td>\n",
       "      <td>1000</td>\n",
       "    </tr>\n",
       "    <tr>\n",
       "      <th>4</th>\n",
       "      <td>1000_4</td>\n",
       "      <td>2018-12-05</td>\n",
       "      <td>1000</td>\n",
       "    </tr>\n",
       "  </tbody>\n",
       "</table>\n",
       "</div>"
      ],
      "text/plain": [
       "       id message_date  user_id\n",
       "0  1000_0   2018-06-27     1000\n",
       "1  1000_1   2018-10-08     1000\n",
       "2  1000_2   2018-08-04     1000\n",
       "3  1000_3   2018-06-16     1000\n",
       "4  1000_4   2018-12-05     1000"
      ]
     },
     "metadata": {},
     "output_type": "display_data"
    },
    {
     "name": "stdout",
     "output_type": "stream",
     "text": [
      "<class 'pandas.core.frame.DataFrame'>\n",
      "RangeIndex: 123036 entries, 0 to 123035\n",
      "Data columns (total 3 columns):\n",
      " #   Column        Non-Null Count   Dtype \n",
      "---  ------        --------------   ----- \n",
      " 0   id            123036 non-null  object\n",
      " 1   message_date  123036 non-null  object\n",
      " 2   user_id       123036 non-null  int64 \n",
      "dtypes: int64(1), object(2)\n",
      "memory usage: 2.8+ MB\n"
     ]
    }
   ],
   "source": [
    "# выводим заголовок таблиц и описание данных\n",
    "# messages (информация о сообщениях)\n",
    "display(df_messages.head())\n",
    "df_messages.info()"
   ]
  },
  {
   "cell_type": "markdown",
   "metadata": {},
   "source": [
    "Все данные корректны, проверим количество уникальных пользователей, по условию задания их должно быть 500"
   ]
  },
  {
   "cell_type": "code",
   "execution_count": 16,
   "metadata": {
    "scrolled": true
   },
   "outputs": [
    {
     "name": "stdout",
     "output_type": "stream",
     "text": [
      "user_id\n",
      "1000    1\n",
      "1001    1\n",
      "1002    1\n",
      "1003    1\n",
      "1004    1\n",
      "       ..\n",
      "1495    1\n",
      "1496    1\n",
      "1497    1\n",
      "1498    1\n",
      "1499    1\n",
      "Name: user_id, Length: 500, dtype: int64\n",
      "2018-12-31\n",
      "2018-01-02\n"
     ]
    }
   ],
   "source": [
    "# проверим данные на уникальность пользователей.\n",
    "df_messages_unic_user_id = df_messages.groupby('user_id')['user_id'].count()\n",
    "print(df_calls_unic_user_id)\n",
    "\n",
    "df_messages_max = df_messages['message_date'].max()\n",
    "df_messages_min = df_messages['message_date'].min()\n",
    "print(df_messages_max)\n",
    "print(df_messages_min)\n"
   ]
  },
  {
   "cell_type": "code",
   "execution_count": 17,
   "metadata": {
    "scrolled": true
   },
   "outputs": [
    {
     "data": {
      "text/plain": [
       "'явные дубликаты (messages)'"
      ]
     },
     "metadata": {},
     "output_type": "display_data"
    },
    {
     "data": {
      "text/plain": [
       "0"
      ]
     },
     "metadata": {},
     "output_type": "display_data"
    },
    {
     "data": {
      "text/html": [
       "<div>\n",
       "<style scoped>\n",
       "    .dataframe tbody tr th:only-of-type {\n",
       "        vertical-align: middle;\n",
       "    }\n",
       "\n",
       "    .dataframe tbody tr th {\n",
       "        vertical-align: top;\n",
       "    }\n",
       "\n",
       "    .dataframe thead th {\n",
       "        text-align: right;\n",
       "    }\n",
       "</style>\n",
       "<table border=\"1\" class=\"dataframe\">\n",
       "  <thead>\n",
       "    <tr style=\"text-align: right;\">\n",
       "      <th></th>\n",
       "      <th>id</th>\n",
       "      <th>message_date</th>\n",
       "      <th>user_id</th>\n",
       "      <th>month</th>\n",
       "    </tr>\n",
       "  </thead>\n",
       "  <tbody>\n",
       "    <tr>\n",
       "      <th>0</th>\n",
       "      <td>1000_0</td>\n",
       "      <td>2018-06-27</td>\n",
       "      <td>1000</td>\n",
       "      <td>6</td>\n",
       "    </tr>\n",
       "    <tr>\n",
       "      <th>1</th>\n",
       "      <td>1000_1</td>\n",
       "      <td>2018-10-08</td>\n",
       "      <td>1000</td>\n",
       "      <td>10</td>\n",
       "    </tr>\n",
       "    <tr>\n",
       "      <th>2</th>\n",
       "      <td>1000_2</td>\n",
       "      <td>2018-08-04</td>\n",
       "      <td>1000</td>\n",
       "      <td>8</td>\n",
       "    </tr>\n",
       "    <tr>\n",
       "      <th>3</th>\n",
       "      <td>1000_3</td>\n",
       "      <td>2018-06-16</td>\n",
       "      <td>1000</td>\n",
       "      <td>6</td>\n",
       "    </tr>\n",
       "    <tr>\n",
       "      <th>4</th>\n",
       "      <td>1000_4</td>\n",
       "      <td>2018-12-05</td>\n",
       "      <td>1000</td>\n",
       "      <td>12</td>\n",
       "    </tr>\n",
       "  </tbody>\n",
       "</table>\n",
       "</div>"
      ],
      "text/plain": [
       "       id message_date  user_id  month\n",
       "0  1000_0   2018-06-27     1000      6\n",
       "1  1000_1   2018-10-08     1000     10\n",
       "2  1000_2   2018-08-04     1000      8\n",
       "3  1000_3   2018-06-16     1000      6\n",
       "4  1000_4   2018-12-05     1000     12"
      ]
     },
     "metadata": {},
     "output_type": "display_data"
    }
   ],
   "source": [
    "# добавим столбец со значением месяца для данных messages\n",
    "\n",
    "df_messages['month'] = pd.to_datetime(df_messages['message_date'], format='%Y-%m-%d').dt.month\n",
    "\n",
    "# проверим данные на явные дубликаты (messages)\n",
    "\n",
    "display('явные дубликаты (messages)', df_messages.duplicated().sum()) #  ['name'].unique()\n",
    "\n",
    "display(df_messages.head(5))"
   ]
  },
  {
   "cell_type": "markdown",
   "metadata": {},
   "source": [
    "### Таблица internet (информация об интернет-сессиях)"
   ]
  },
  {
   "cell_type": "code",
   "execution_count": 18,
   "metadata": {},
   "outputs": [
    {
     "data": {
      "text/html": [
       "<div>\n",
       "<style scoped>\n",
       "    .dataframe tbody tr th:only-of-type {\n",
       "        vertical-align: middle;\n",
       "    }\n",
       "\n",
       "    .dataframe tbody tr th {\n",
       "        vertical-align: top;\n",
       "    }\n",
       "\n",
       "    .dataframe thead th {\n",
       "        text-align: right;\n",
       "    }\n",
       "</style>\n",
       "<table border=\"1\" class=\"dataframe\">\n",
       "  <thead>\n",
       "    <tr style=\"text-align: right;\">\n",
       "      <th></th>\n",
       "      <th>Unnamed: 0</th>\n",
       "      <th>id</th>\n",
       "      <th>mb_used</th>\n",
       "      <th>session_date</th>\n",
       "      <th>user_id</th>\n",
       "    </tr>\n",
       "  </thead>\n",
       "  <tbody>\n",
       "    <tr>\n",
       "      <th>0</th>\n",
       "      <td>0</td>\n",
       "      <td>1000_0</td>\n",
       "      <td>112.95</td>\n",
       "      <td>2018-11-25</td>\n",
       "      <td>1000</td>\n",
       "    </tr>\n",
       "    <tr>\n",
       "      <th>1</th>\n",
       "      <td>1</td>\n",
       "      <td>1000_1</td>\n",
       "      <td>1052.81</td>\n",
       "      <td>2018-09-07</td>\n",
       "      <td>1000</td>\n",
       "    </tr>\n",
       "    <tr>\n",
       "      <th>2</th>\n",
       "      <td>2</td>\n",
       "      <td>1000_2</td>\n",
       "      <td>1197.26</td>\n",
       "      <td>2018-06-25</td>\n",
       "      <td>1000</td>\n",
       "    </tr>\n",
       "    <tr>\n",
       "      <th>3</th>\n",
       "      <td>3</td>\n",
       "      <td>1000_3</td>\n",
       "      <td>550.27</td>\n",
       "      <td>2018-08-22</td>\n",
       "      <td>1000</td>\n",
       "    </tr>\n",
       "    <tr>\n",
       "      <th>4</th>\n",
       "      <td>4</td>\n",
       "      <td>1000_4</td>\n",
       "      <td>302.56</td>\n",
       "      <td>2018-09-24</td>\n",
       "      <td>1000</td>\n",
       "    </tr>\n",
       "  </tbody>\n",
       "</table>\n",
       "</div>"
      ],
      "text/plain": [
       "   Unnamed: 0      id  mb_used session_date  user_id\n",
       "0           0  1000_0   112.95   2018-11-25     1000\n",
       "1           1  1000_1  1052.81   2018-09-07     1000\n",
       "2           2  1000_2  1197.26   2018-06-25     1000\n",
       "3           3  1000_3   550.27   2018-08-22     1000\n",
       "4           4  1000_4   302.56   2018-09-24     1000"
      ]
     },
     "metadata": {},
     "output_type": "display_data"
    },
    {
     "name": "stdout",
     "output_type": "stream",
     "text": [
      "<class 'pandas.core.frame.DataFrame'>\n",
      "RangeIndex: 149396 entries, 0 to 149395\n",
      "Data columns (total 5 columns):\n",
      " #   Column        Non-Null Count   Dtype  \n",
      "---  ------        --------------   -----  \n",
      " 0   Unnamed: 0    149396 non-null  int64  \n",
      " 1   id            149396 non-null  object \n",
      " 2   mb_used       149396 non-null  float64\n",
      " 3   session_date  149396 non-null  object \n",
      " 4   user_id       149396 non-null  int64  \n",
      "dtypes: float64(1), int64(2), object(2)\n",
      "memory usage: 5.7+ MB\n"
     ]
    }
   ],
   "source": [
    "# выводим заголовок таблиц и описание данных\n",
    "# internet (информация об интернет-сессиях)\n",
    "\n",
    "display(df_internet.head(5))\n",
    "\n",
    "df_internet.info()"
   ]
  },
  {
   "cell_type": "code",
   "execution_count": 19,
   "metadata": {},
   "outputs": [
    {
     "data": {
      "text/html": [
       "<div>\n",
       "<style scoped>\n",
       "    .dataframe tbody tr th:only-of-type {\n",
       "        vertical-align: middle;\n",
       "    }\n",
       "\n",
       "    .dataframe tbody tr th {\n",
       "        vertical-align: top;\n",
       "    }\n",
       "\n",
       "    .dataframe thead th {\n",
       "        text-align: right;\n",
       "    }\n",
       "</style>\n",
       "<table border=\"1\" class=\"dataframe\">\n",
       "  <thead>\n",
       "    <tr style=\"text-align: right;\">\n",
       "      <th></th>\n",
       "      <th>Unnamed: 0</th>\n",
       "      <th>id</th>\n",
       "      <th>mb_used</th>\n",
       "      <th>session_date</th>\n",
       "      <th>user_id</th>\n",
       "      <th>month</th>\n",
       "    </tr>\n",
       "  </thead>\n",
       "  <tbody>\n",
       "    <tr>\n",
       "      <th>0</th>\n",
       "      <td>0</td>\n",
       "      <td>1000_0</td>\n",
       "      <td>112.95</td>\n",
       "      <td>2018-11-25</td>\n",
       "      <td>1000</td>\n",
       "      <td>11</td>\n",
       "    </tr>\n",
       "    <tr>\n",
       "      <th>1</th>\n",
       "      <td>1</td>\n",
       "      <td>1000_1</td>\n",
       "      <td>1052.81</td>\n",
       "      <td>2018-09-07</td>\n",
       "      <td>1000</td>\n",
       "      <td>9</td>\n",
       "    </tr>\n",
       "    <tr>\n",
       "      <th>2</th>\n",
       "      <td>2</td>\n",
       "      <td>1000_2</td>\n",
       "      <td>1197.26</td>\n",
       "      <td>2018-06-25</td>\n",
       "      <td>1000</td>\n",
       "      <td>6</td>\n",
       "    </tr>\n",
       "    <tr>\n",
       "      <th>3</th>\n",
       "      <td>3</td>\n",
       "      <td>1000_3</td>\n",
       "      <td>550.27</td>\n",
       "      <td>2018-08-22</td>\n",
       "      <td>1000</td>\n",
       "      <td>8</td>\n",
       "    </tr>\n",
       "    <tr>\n",
       "      <th>4</th>\n",
       "      <td>4</td>\n",
       "      <td>1000_4</td>\n",
       "      <td>302.56</td>\n",
       "      <td>2018-09-24</td>\n",
       "      <td>1000</td>\n",
       "      <td>9</td>\n",
       "    </tr>\n",
       "  </tbody>\n",
       "</table>\n",
       "</div>"
      ],
      "text/plain": [
       "   Unnamed: 0      id  mb_used session_date  user_id  month\n",
       "0           0  1000_0   112.95   2018-11-25     1000     11\n",
       "1           1  1000_1  1052.81   2018-09-07     1000      9\n",
       "2           2  1000_2  1197.26   2018-06-25     1000      6\n",
       "3           3  1000_3   550.27   2018-08-22     1000      8\n",
       "4           4  1000_4   302.56   2018-09-24     1000      9"
      ]
     },
     "metadata": {},
     "output_type": "display_data"
    },
    {
     "name": "stdout",
     "output_type": "stream",
     "text": [
      "<class 'pandas.core.frame.DataFrame'>\n",
      "RangeIndex: 149396 entries, 0 to 149395\n",
      "Data columns (total 6 columns):\n",
      " #   Column        Non-Null Count   Dtype  \n",
      "---  ------        --------------   -----  \n",
      " 0   Unnamed: 0    149396 non-null  int64  \n",
      " 1   id            149396 non-null  object \n",
      " 2   mb_used       149396 non-null  float64\n",
      " 3   session_date  149396 non-null  object \n",
      " 4   user_id       149396 non-null  int64  \n",
      " 5   month         149396 non-null  int64  \n",
      "dtypes: float64(1), int64(3), object(2)\n",
      "memory usage: 6.8+ MB\n"
     ]
    }
   ],
   "source": [
    "# добавим столбец month для internet\n",
    "\n",
    "df_internet['month'] = pd.to_datetime(df_internet['session_date'], format='%Y-%m-%d').dt.month\n",
    "\n",
    "display(df_internet.head(5))\n",
    "df_internet.info()"
   ]
  },
  {
   "cell_type": "code",
   "execution_count": 20,
   "metadata": {},
   "outputs": [
    {
     "data": {
      "text/plain": [
       "'явные дубликаты (internet)'"
      ]
     },
     "metadata": {},
     "output_type": "display_data"
    },
    {
     "data": {
      "text/plain": [
       "0"
      ]
     },
     "metadata": {},
     "output_type": "display_data"
    }
   ],
   "source": [
    "# проверим данные на явные дубликаты (internet)\n",
    "\n",
    "display('явные дубликаты (internet)', df_internet.duplicated().sum()) #  ['name'].unique()\n"
   ]
  },
  {
   "cell_type": "markdown",
   "metadata": {},
   "source": [
    "### Таблица tariffs (информация о тарифах)"
   ]
  },
  {
   "cell_type": "code",
   "execution_count": 21,
   "metadata": {},
   "outputs": [
    {
     "data": {
      "text/html": [
       "<div>\n",
       "<style scoped>\n",
       "    .dataframe tbody tr th:only-of-type {\n",
       "        vertical-align: middle;\n",
       "    }\n",
       "\n",
       "    .dataframe tbody tr th {\n",
       "        vertical-align: top;\n",
       "    }\n",
       "\n",
       "    .dataframe thead th {\n",
       "        text-align: right;\n",
       "    }\n",
       "</style>\n",
       "<table border=\"1\" class=\"dataframe\">\n",
       "  <thead>\n",
       "    <tr style=\"text-align: right;\">\n",
       "      <th></th>\n",
       "      <th>messages_included</th>\n",
       "      <th>mb_per_month_included</th>\n",
       "      <th>minutes_included</th>\n",
       "      <th>rub_monthly_fee</th>\n",
       "      <th>rub_per_gb</th>\n",
       "      <th>rub_per_message</th>\n",
       "      <th>rub_per_minute</th>\n",
       "      <th>tariff_name</th>\n",
       "    </tr>\n",
       "  </thead>\n",
       "  <tbody>\n",
       "    <tr>\n",
       "      <th>0</th>\n",
       "      <td>50</td>\n",
       "      <td>15360</td>\n",
       "      <td>500</td>\n",
       "      <td>550</td>\n",
       "      <td>200</td>\n",
       "      <td>3</td>\n",
       "      <td>3</td>\n",
       "      <td>smart</td>\n",
       "    </tr>\n",
       "    <tr>\n",
       "      <th>1</th>\n",
       "      <td>1000</td>\n",
       "      <td>30720</td>\n",
       "      <td>3000</td>\n",
       "      <td>1950</td>\n",
       "      <td>150</td>\n",
       "      <td>1</td>\n",
       "      <td>1</td>\n",
       "      <td>ultra</td>\n",
       "    </tr>\n",
       "  </tbody>\n",
       "</table>\n",
       "</div>"
      ],
      "text/plain": [
       "   messages_included  mb_per_month_included  minutes_included  \\\n",
       "0                 50                  15360               500   \n",
       "1               1000                  30720              3000   \n",
       "\n",
       "   rub_monthly_fee  rub_per_gb  rub_per_message  rub_per_minute tariff_name  \n",
       "0              550         200                3               3       smart  \n",
       "1             1950         150                1               1       ultra  "
      ]
     },
     "metadata": {},
     "output_type": "display_data"
    },
    {
     "name": "stdout",
     "output_type": "stream",
     "text": [
      "<class 'pandas.core.frame.DataFrame'>\n",
      "RangeIndex: 2 entries, 0 to 1\n",
      "Data columns (total 8 columns):\n",
      " #   Column                 Non-Null Count  Dtype \n",
      "---  ------                 --------------  ----- \n",
      " 0   messages_included      2 non-null      int64 \n",
      " 1   mb_per_month_included  2 non-null      int64 \n",
      " 2   minutes_included       2 non-null      int64 \n",
      " 3   rub_monthly_fee        2 non-null      int64 \n",
      " 4   rub_per_gb             2 non-null      int64 \n",
      " 5   rub_per_message        2 non-null      int64 \n",
      " 6   rub_per_minute         2 non-null      int64 \n",
      " 7   tariff_name            2 non-null      object\n",
      "dtypes: int64(7), object(1)\n",
      "memory usage: 256.0+ bytes\n"
     ]
    }
   ],
   "source": [
    "# tariffs (информация о тарифах)\n",
    "\n",
    "display(df_tariffs.head(5))\n",
    "\n",
    "df_tariffs.info()"
   ]
  },
  {
   "cell_type": "markdown",
   "metadata": {},
   "source": [
    "Все данные корректны и не требуют корректировок."
   ]
  },
  {
   "cell_type": "markdown",
   "metadata": {},
   "source": [
    "### Вывод по этапу \"Подготовка данных\""
   ]
  },
  {
   "cell_type": "markdown",
   "metadata": {},
   "source": [
    "Все предоставленные данные корректны и не вызывают подозрений о возможных ошибках в имеющейся выборке.\n",
    "\n",
    "Данные проверены на наличие явных дубликатов, дубликатов не обнаружено.\n",
    "\n",
    "В результате обработки данных были внесены изменения: \n",
    "* округленно значение для длительности звонка\n",
    "* округлено значение для использованных мегабайт"
   ]
  },
  {
   "cell_type": "markdown",
   "metadata": {},
   "source": [
    "### Рассчитайте для каждого пользователя:"
   ]
  },
  {
   "cell_type": "markdown",
   "metadata": {},
   "source": [
    "#### количество сделанных звонков и израсходованных минут разговора по месяцам"
   ]
  },
  {
   "cell_type": "markdown",
   "metadata": {},
   "source": [
    "Для этого создадим сводную таблицу, в качестве индекса воспользуемся данными 'user_id' и 'month'\n",
    "\n",
    "В качестве применяемой функции 'count' и 'sum'. Таким образом мы посчитаем, количество сделанных звонков и их длительность.\n",
    "\n",
    "Переименуем столбцы с получеными значениями calls.columns = ['user_id', 'month', 'calls_count', 'calls_sum']\n",
    "\n",
    "Где 'calls_count' - количество сделанных звонков, 'calls_sum' - общая продолжительность звонков, сделанных в этом месяце.\n",
    "\n",
    "Для рассчета отправленных сообщений и израсходованного интернет трафика поступип аналогично."
   ]
  },
  {
   "cell_type": "code",
   "execution_count": 22,
   "metadata": {
    "scrolled": true
   },
   "outputs": [
    {
     "name": "stdout",
     "output_type": "stream",
     "text": [
      "202607\n",
      "3174\n"
     ]
    },
    {
     "data": {
      "text/html": [
       "<div>\n",
       "<style scoped>\n",
       "    .dataframe tbody tr th:only-of-type {\n",
       "        vertical-align: middle;\n",
       "    }\n",
       "\n",
       "    .dataframe tbody tr th {\n",
       "        vertical-align: top;\n",
       "    }\n",
       "\n",
       "    .dataframe thead th {\n",
       "        text-align: right;\n",
       "    }\n",
       "</style>\n",
       "<table border=\"1\" class=\"dataframe\">\n",
       "  <thead>\n",
       "    <tr style=\"text-align: right;\">\n",
       "      <th></th>\n",
       "      <th>user_id</th>\n",
       "      <th>month</th>\n",
       "      <th>calls_count</th>\n",
       "      <th>calls_sum</th>\n",
       "    </tr>\n",
       "  </thead>\n",
       "  <tbody>\n",
       "    <tr>\n",
       "      <th>0</th>\n",
       "      <td>1000</td>\n",
       "      <td>5</td>\n",
       "      <td>22</td>\n",
       "      <td>159.0</td>\n",
       "    </tr>\n",
       "    <tr>\n",
       "      <th>1</th>\n",
       "      <td>1000</td>\n",
       "      <td>6</td>\n",
       "      <td>43</td>\n",
       "      <td>172.0</td>\n",
       "    </tr>\n",
       "    <tr>\n",
       "      <th>2</th>\n",
       "      <td>1000</td>\n",
       "      <td>7</td>\n",
       "      <td>47</td>\n",
       "      <td>340.0</td>\n",
       "    </tr>\n",
       "    <tr>\n",
       "      <th>3</th>\n",
       "      <td>1000</td>\n",
       "      <td>8</td>\n",
       "      <td>52</td>\n",
       "      <td>408.0</td>\n",
       "    </tr>\n",
       "    <tr>\n",
       "      <th>4</th>\n",
       "      <td>1000</td>\n",
       "      <td>9</td>\n",
       "      <td>58</td>\n",
       "      <td>466.0</td>\n",
       "    </tr>\n",
       "  </tbody>\n",
       "</table>\n",
       "</div>"
      ],
      "text/plain": [
       "   user_id  month  calls_count  calls_sum\n",
       "0     1000      5           22      159.0\n",
       "1     1000      6           43      172.0\n",
       "2     1000      7           47      340.0\n",
       "3     1000      8           52      408.0\n",
       "4     1000      9           58      466.0"
      ]
     },
     "metadata": {},
     "output_type": "display_data"
    }
   ],
   "source": [
    "# количество сделанных звонков и общая продолжительность звонков\n",
    "\n",
    "calls = df_calls.pivot_table(index=['user_id', 'month'], values='duration_round', aggfunc=['count', 'sum']).reset_index()\n",
    "calls.columns = ['user_id', 'month', 'calls_count', 'calls_sum']\n",
    "\n",
    "print(len(df_calls))\n",
    "print(len(calls))\n",
    "display(calls.head(5))"
   ]
  },
  {
   "cell_type": "markdown",
   "metadata": {},
   "source": [
    "#### количество отправленных сообщений по месяцам"
   ]
  },
  {
   "cell_type": "code",
   "execution_count": 23,
   "metadata": {},
   "outputs": [
    {
     "data": {
      "text/html": [
       "<div>\n",
       "<style scoped>\n",
       "    .dataframe tbody tr th:only-of-type {\n",
       "        vertical-align: middle;\n",
       "    }\n",
       "\n",
       "    .dataframe tbody tr th {\n",
       "        vertical-align: top;\n",
       "    }\n",
       "\n",
       "    .dataframe thead th {\n",
       "        text-align: right;\n",
       "    }\n",
       "</style>\n",
       "<table border=\"1\" class=\"dataframe\">\n",
       "  <thead>\n",
       "    <tr style=\"text-align: right;\">\n",
       "      <th></th>\n",
       "      <th>user_id</th>\n",
       "      <th>month</th>\n",
       "      <th>mess_count</th>\n",
       "    </tr>\n",
       "  </thead>\n",
       "  <tbody>\n",
       "    <tr>\n",
       "      <th>0</th>\n",
       "      <td>1000</td>\n",
       "      <td>5</td>\n",
       "      <td>22</td>\n",
       "    </tr>\n",
       "    <tr>\n",
       "      <th>1</th>\n",
       "      <td>1000</td>\n",
       "      <td>6</td>\n",
       "      <td>60</td>\n",
       "    </tr>\n",
       "    <tr>\n",
       "      <th>2</th>\n",
       "      <td>1000</td>\n",
       "      <td>7</td>\n",
       "      <td>75</td>\n",
       "    </tr>\n",
       "  </tbody>\n",
       "</table>\n",
       "</div>"
      ],
      "text/plain": [
       "   user_id  month  mess_count\n",
       "0     1000      5          22\n",
       "1     1000      6          60\n",
       "2     1000      7          75"
      ]
     },
     "execution_count": 23,
     "metadata": {},
     "output_type": "execute_result"
    }
   ],
   "source": [
    "# количество отправленных СМС\n",
    "# mess_count - количество отправленных СМС по месяцам\n",
    "\n",
    "messages = df_messages.pivot_table(index=['user_id', 'month'], values='id', aggfunc=['count']).reset_index()\n",
    "messages.columns = ['user_id', 'month', 'mess_count']\n",
    "\n",
    "messages.head(3)"
   ]
  },
  {
   "cell_type": "markdown",
   "metadata": {},
   "source": [
    "#### объем израсходованного интернет-трафика по месяцам"
   ]
  },
  {
   "cell_type": "code",
   "execution_count": 24,
   "metadata": {},
   "outputs": [
    {
     "data": {
      "text/html": [
       "<div>\n",
       "<style scoped>\n",
       "    .dataframe tbody tr th:only-of-type {\n",
       "        vertical-align: middle;\n",
       "    }\n",
       "\n",
       "    .dataframe tbody tr th {\n",
       "        vertical-align: top;\n",
       "    }\n",
       "\n",
       "    .dataframe thead th {\n",
       "        text-align: right;\n",
       "    }\n",
       "</style>\n",
       "<table border=\"1\" class=\"dataframe\">\n",
       "  <thead>\n",
       "    <tr style=\"text-align: right;\">\n",
       "      <th></th>\n",
       "      <th>Unnamed: 0</th>\n",
       "      <th>id</th>\n",
       "      <th>mb_used</th>\n",
       "      <th>session_date</th>\n",
       "      <th>user_id</th>\n",
       "      <th>month</th>\n",
       "    </tr>\n",
       "  </thead>\n",
       "  <tbody>\n",
       "    <tr>\n",
       "      <th>0</th>\n",
       "      <td>0</td>\n",
       "      <td>1000_0</td>\n",
       "      <td>112.95</td>\n",
       "      <td>2018-11-25</td>\n",
       "      <td>1000</td>\n",
       "      <td>11</td>\n",
       "    </tr>\n",
       "    <tr>\n",
       "      <th>1</th>\n",
       "      <td>1</td>\n",
       "      <td>1000_1</td>\n",
       "      <td>1052.81</td>\n",
       "      <td>2018-09-07</td>\n",
       "      <td>1000</td>\n",
       "      <td>9</td>\n",
       "    </tr>\n",
       "    <tr>\n",
       "      <th>2</th>\n",
       "      <td>2</td>\n",
       "      <td>1000_2</td>\n",
       "      <td>1197.26</td>\n",
       "      <td>2018-06-25</td>\n",
       "      <td>1000</td>\n",
       "      <td>6</td>\n",
       "    </tr>\n",
       "  </tbody>\n",
       "</table>\n",
       "</div>"
      ],
      "text/plain": [
       "   Unnamed: 0      id  mb_used session_date  user_id  month\n",
       "0           0  1000_0   112.95   2018-11-25     1000     11\n",
       "1           1  1000_1  1052.81   2018-09-07     1000      9\n",
       "2           2  1000_2  1197.26   2018-06-25     1000      6"
      ]
     },
     "execution_count": 24,
     "metadata": {},
     "output_type": "execute_result"
    }
   ],
   "source": [
    "df_internet.head(3)"
   ]
  },
  {
   "cell_type": "code",
   "execution_count": 25,
   "metadata": {},
   "outputs": [
    {
     "name": "stdout",
     "output_type": "stream",
     "text": [
      "149396\n",
      "3203\n"
     ]
    }
   ],
   "source": [
    "# количество израсходованного интернет-трафика по месяцам\n",
    "# mb_sum - количество израсходованных Mb по месяцам\n",
    "# проверим длину таблиц\n",
    "\n",
    "internet = df_internet.pivot_table(index=['user_id', 'month'], values='mb_used', aggfunc=['sum']).reset_index()\n",
    "internet.columns = ['user_id', 'month', 'mb_sum']\n",
    "\n",
    "# проверим длину таблиц\n",
    "print(len(df_internet))\n",
    "print(len(internet))"
   ]
  },
  {
   "cell_type": "code",
   "execution_count": 26,
   "metadata": {},
   "outputs": [
    {
     "data": {
      "text/html": [
       "<div>\n",
       "<style scoped>\n",
       "    .dataframe tbody tr th:only-of-type {\n",
       "        vertical-align: middle;\n",
       "    }\n",
       "\n",
       "    .dataframe tbody tr th {\n",
       "        vertical-align: top;\n",
       "    }\n",
       "\n",
       "    .dataframe thead th {\n",
       "        text-align: right;\n",
       "    }\n",
       "</style>\n",
       "<table border=\"1\" class=\"dataframe\">\n",
       "  <thead>\n",
       "    <tr style=\"text-align: right;\">\n",
       "      <th></th>\n",
       "      <th>user_id</th>\n",
       "      <th>month</th>\n",
       "      <th>mb_sum</th>\n",
       "    </tr>\n",
       "  </thead>\n",
       "  <tbody>\n",
       "    <tr>\n",
       "      <th>0</th>\n",
       "      <td>1000</td>\n",
       "      <td>5</td>\n",
       "      <td>2253.49</td>\n",
       "    </tr>\n",
       "    <tr>\n",
       "      <th>1</th>\n",
       "      <td>1000</td>\n",
       "      <td>6</td>\n",
       "      <td>23233.77</td>\n",
       "    </tr>\n",
       "    <tr>\n",
       "      <th>2</th>\n",
       "      <td>1000</td>\n",
       "      <td>7</td>\n",
       "      <td>14003.64</td>\n",
       "    </tr>\n",
       "  </tbody>\n",
       "</table>\n",
       "</div>"
      ],
      "text/plain": [
       "   user_id  month    mb_sum\n",
       "0     1000      5   2253.49\n",
       "1     1000      6  23233.77\n",
       "2     1000      7  14003.64"
      ]
     },
     "execution_count": 26,
     "metadata": {},
     "output_type": "execute_result"
    }
   ],
   "source": [
    "# выведем заголовок сводной таблицы количество израсходованного интернет-трафика по месяцам\n",
    "internet.head(3)"
   ]
  },
  {
   "cell_type": "markdown",
   "metadata": {},
   "source": [
    "### Объединим таблицы"
   ]
  },
  {
   "cell_type": "markdown",
   "metadata": {},
   "source": [
    "Поэтапно объединим таблицы:\n",
    "* calls\n",
    "* messages\n",
    "* internet\n",
    "* tariffs"
   ]
  },
  {
   "cell_type": "code",
   "execution_count": 27,
   "metadata": {},
   "outputs": [
    {
     "name": "stdout",
     "output_type": "stream",
     "text": [
      "3174\n",
      "2717\n"
     ]
    }
   ],
   "source": [
    "# проверим длинну каждой из объединяемых таблиц\n",
    "\n",
    "print(len(calls))\n",
    "print(len(messages))"
   ]
  },
  {
   "cell_type": "code",
   "execution_count": 28,
   "metadata": {},
   "outputs": [
    {
     "data": {
      "text/html": [
       "<div>\n",
       "<style scoped>\n",
       "    .dataframe tbody tr th:only-of-type {\n",
       "        vertical-align: middle;\n",
       "    }\n",
       "\n",
       "    .dataframe tbody tr th {\n",
       "        vertical-align: top;\n",
       "    }\n",
       "\n",
       "    .dataframe thead th {\n",
       "        text-align: right;\n",
       "    }\n",
       "</style>\n",
       "<table border=\"1\" class=\"dataframe\">\n",
       "  <thead>\n",
       "    <tr style=\"text-align: right;\">\n",
       "      <th></th>\n",
       "      <th>user_id</th>\n",
       "      <th>month</th>\n",
       "      <th>calls_count</th>\n",
       "      <th>calls_sum</th>\n",
       "      <th>mess_count</th>\n",
       "    </tr>\n",
       "  </thead>\n",
       "  <tbody>\n",
       "    <tr>\n",
       "      <th>0</th>\n",
       "      <td>1000</td>\n",
       "      <td>5</td>\n",
       "      <td>22.0</td>\n",
       "      <td>159.0</td>\n",
       "      <td>22.0</td>\n",
       "    </tr>\n",
       "    <tr>\n",
       "      <th>1</th>\n",
       "      <td>1000</td>\n",
       "      <td>6</td>\n",
       "      <td>43.0</td>\n",
       "      <td>172.0</td>\n",
       "      <td>60.0</td>\n",
       "    </tr>\n",
       "    <tr>\n",
       "      <th>2</th>\n",
       "      <td>1000</td>\n",
       "      <td>7</td>\n",
       "      <td>47.0</td>\n",
       "      <td>340.0</td>\n",
       "      <td>75.0</td>\n",
       "    </tr>\n",
       "  </tbody>\n",
       "</table>\n",
       "</div>"
      ],
      "text/plain": [
       "   user_id  month  calls_count  calls_sum  mess_count\n",
       "0     1000      5         22.0      159.0        22.0\n",
       "1     1000      6         43.0      172.0        60.0\n",
       "2     1000      7         47.0      340.0        75.0"
      ]
     },
     "metadata": {},
     "output_type": "display_data"
    },
    {
     "name": "stdout",
     "output_type": "stream",
     "text": [
      "<class 'pandas.core.frame.DataFrame'>\n",
      "Int64Index: 3213 entries, 0 to 3212\n",
      "Data columns (total 5 columns):\n",
      " #   Column       Non-Null Count  Dtype  \n",
      "---  ------       --------------  -----  \n",
      " 0   user_id      3213 non-null   int64  \n",
      " 1   month        3213 non-null   int64  \n",
      " 2   calls_count  3174 non-null   float64\n",
      " 3   calls_sum    3174 non-null   float64\n",
      " 4   mess_count   2717 non-null   float64\n",
      "dtypes: float64(3), int64(2)\n",
      "memory usage: 150.6 KB\n"
     ]
    },
    {
     "data": {
      "text/plain": [
       "None"
      ]
     },
     "metadata": {},
     "output_type": "display_data"
    }
   ],
   "source": [
    "# объединим таблицы calls и messages\n",
    "# проверим таблицу\n",
    "\n",
    "df_all = calls.merge(messages, on=['user_id', 'month'], how='outer')\n",
    "display(df_all.head(3))\n",
    "display(df_all.info())"
   ]
  },
  {
   "cell_type": "markdown",
   "metadata": {},
   "source": [
    "После объединения таблица стала длинне на 39 строк, при этом появились строки с пустыми значениями.\n",
    "Проверим эти данные, разберемся почему так произошло.\n",
    "\n",
    "* Длинна таблицы calls 3174\n",
    "* Длинна таблицы messages 2717\n",
    "\n",
    "Логично предположить, что после объединения таблиц общая длинна должна получиться 3174, без пустых строк."
   ]
  },
  {
   "cell_type": "code",
   "execution_count": 29,
   "metadata": {},
   "outputs": [
    {
     "data": {
      "text/plain": [
       "user_id\n",
       "1000    1\n",
       "1001    1\n",
       "1002    1\n",
       "1003    1\n",
       "1004    1\n",
       "       ..\n",
       "1495    1\n",
       "1496    1\n",
       "1497    1\n",
       "1498    1\n",
       "1499    1\n",
       "Name: user_id, Length: 500, dtype: int64"
      ]
     },
     "metadata": {},
     "output_type": "display_data"
    }
   ],
   "source": [
    "# проверим данные на уникальность пользователей, их должно быть 500\n",
    "user_unic = df_users.groupby('user_id')['user_id'].count()\n",
    "display(user_unic)"
   ]
  },
  {
   "cell_type": "code",
   "execution_count": 30,
   "metadata": {},
   "outputs": [
    {
     "data": {
      "text/html": [
       "<div>\n",
       "<style scoped>\n",
       "    .dataframe tbody tr th:only-of-type {\n",
       "        vertical-align: middle;\n",
       "    }\n",
       "\n",
       "    .dataframe tbody tr th {\n",
       "        vertical-align: top;\n",
       "    }\n",
       "\n",
       "    .dataframe thead th {\n",
       "        text-align: right;\n",
       "    }\n",
       "</style>\n",
       "<table border=\"1\" class=\"dataframe\">\n",
       "  <thead>\n",
       "    <tr style=\"text-align: right;\">\n",
       "      <th></th>\n",
       "      <th>user_id</th>\n",
       "      <th>month</th>\n",
       "      <th>calls_count</th>\n",
       "      <th>calls_sum</th>\n",
       "      <th>mess_count</th>\n",
       "    </tr>\n",
       "  </thead>\n",
       "  <tbody>\n",
       "    <tr>\n",
       "      <th>8</th>\n",
       "      <td>1001</td>\n",
       "      <td>11</td>\n",
       "      <td>59.0</td>\n",
       "      <td>430.0</td>\n",
       "      <td>NaN</td>\n",
       "    </tr>\n",
       "    <tr>\n",
       "      <th>9</th>\n",
       "      <td>1001</td>\n",
       "      <td>12</td>\n",
       "      <td>63.0</td>\n",
       "      <td>414.0</td>\n",
       "      <td>NaN</td>\n",
       "    </tr>\n",
       "    <tr>\n",
       "      <th>42</th>\n",
       "      <td>1006</td>\n",
       "      <td>2</td>\n",
       "      <td>3.0</td>\n",
       "      <td>42.0</td>\n",
       "      <td>NaN</td>\n",
       "    </tr>\n",
       "    <tr>\n",
       "      <th>43</th>\n",
       "      <td>1006</td>\n",
       "      <td>3</td>\n",
       "      <td>46.0</td>\n",
       "      <td>286.0</td>\n",
       "      <td>NaN</td>\n",
       "    </tr>\n",
       "    <tr>\n",
       "      <th>44</th>\n",
       "      <td>1006</td>\n",
       "      <td>4</td>\n",
       "      <td>47.0</td>\n",
       "      <td>356.0</td>\n",
       "      <td>NaN</td>\n",
       "    </tr>\n",
       "    <tr>\n",
       "      <th>...</th>\n",
       "      <td>...</td>\n",
       "      <td>...</td>\n",
       "      <td>...</td>\n",
       "      <td>...</td>\n",
       "      <td>...</td>\n",
       "    </tr>\n",
       "    <tr>\n",
       "      <th>3208</th>\n",
       "      <td>1489</td>\n",
       "      <td>8</td>\n",
       "      <td>NaN</td>\n",
       "      <td>NaN</td>\n",
       "      <td>17.0</td>\n",
       "    </tr>\n",
       "    <tr>\n",
       "      <th>3209</th>\n",
       "      <td>1489</td>\n",
       "      <td>9</td>\n",
       "      <td>NaN</td>\n",
       "      <td>NaN</td>\n",
       "      <td>32.0</td>\n",
       "    </tr>\n",
       "    <tr>\n",
       "      <th>3210</th>\n",
       "      <td>1489</td>\n",
       "      <td>10</td>\n",
       "      <td>NaN</td>\n",
       "      <td>NaN</td>\n",
       "      <td>21.0</td>\n",
       "    </tr>\n",
       "    <tr>\n",
       "      <th>3211</th>\n",
       "      <td>1489</td>\n",
       "      <td>11</td>\n",
       "      <td>NaN</td>\n",
       "      <td>NaN</td>\n",
       "      <td>20.0</td>\n",
       "    </tr>\n",
       "    <tr>\n",
       "      <th>3212</th>\n",
       "      <td>1489</td>\n",
       "      <td>12</td>\n",
       "      <td>NaN</td>\n",
       "      <td>NaN</td>\n",
       "      <td>35.0</td>\n",
       "    </tr>\n",
       "  </tbody>\n",
       "</table>\n",
       "<p>535 rows × 5 columns</p>\n",
       "</div>"
      ],
      "text/plain": [
       "      user_id  month  calls_count  calls_sum  mess_count\n",
       "8        1001     11         59.0      430.0         NaN\n",
       "9        1001     12         63.0      414.0         NaN\n",
       "42       1006      2          3.0       42.0         NaN\n",
       "43       1006      3         46.0      286.0         NaN\n",
       "44       1006      4         47.0      356.0         NaN\n",
       "...       ...    ...          ...        ...         ...\n",
       "3208     1489      8          NaN        NaN        17.0\n",
       "3209     1489      9          NaN        NaN        32.0\n",
       "3210     1489     10          NaN        NaN        21.0\n",
       "3211     1489     11          NaN        NaN        20.0\n",
       "3212     1489     12          NaN        NaN        35.0\n",
       "\n",
       "[535 rows x 5 columns]"
      ]
     },
     "metadata": {},
     "output_type": "display_data"
    }
   ],
   "source": [
    "# рассмотрим все строки с пустыми значениями\n",
    "\n",
    "display(df_all[df_all.isna().any(axis=1)])"
   ]
  },
  {
   "cell_type": "code",
   "execution_count": 31,
   "metadata": {},
   "outputs": [
    {
     "data": {
      "text/html": [
       "<div>\n",
       "<style scoped>\n",
       "    .dataframe tbody tr th:only-of-type {\n",
       "        vertical-align: middle;\n",
       "    }\n",
       "\n",
       "    .dataframe tbody tr th {\n",
       "        vertical-align: top;\n",
       "    }\n",
       "\n",
       "    .dataframe thead th {\n",
       "        text-align: right;\n",
       "    }\n",
       "</style>\n",
       "<table border=\"1\" class=\"dataframe\">\n",
       "  <thead>\n",
       "    <tr style=\"text-align: right;\">\n",
       "      <th></th>\n",
       "      <th>user_id</th>\n",
       "      <th>month</th>\n",
       "      <th>calls_count</th>\n",
       "      <th>calls_sum</th>\n",
       "      <th>mess_count</th>\n",
       "    </tr>\n",
       "  </thead>\n",
       "  <tbody>\n",
       "    <tr>\n",
       "      <th>3208</th>\n",
       "      <td>1489</td>\n",
       "      <td>8</td>\n",
       "      <td>NaN</td>\n",
       "      <td>NaN</td>\n",
       "      <td>17.0</td>\n",
       "    </tr>\n",
       "    <tr>\n",
       "      <th>3209</th>\n",
       "      <td>1489</td>\n",
       "      <td>9</td>\n",
       "      <td>NaN</td>\n",
       "      <td>NaN</td>\n",
       "      <td>32.0</td>\n",
       "    </tr>\n",
       "    <tr>\n",
       "      <th>3210</th>\n",
       "      <td>1489</td>\n",
       "      <td>10</td>\n",
       "      <td>NaN</td>\n",
       "      <td>NaN</td>\n",
       "      <td>21.0</td>\n",
       "    </tr>\n",
       "    <tr>\n",
       "      <th>3211</th>\n",
       "      <td>1489</td>\n",
       "      <td>11</td>\n",
       "      <td>NaN</td>\n",
       "      <td>NaN</td>\n",
       "      <td>20.0</td>\n",
       "    </tr>\n",
       "    <tr>\n",
       "      <th>3212</th>\n",
       "      <td>1489</td>\n",
       "      <td>12</td>\n",
       "      <td>NaN</td>\n",
       "      <td>NaN</td>\n",
       "      <td>35.0</td>\n",
       "    </tr>\n",
       "  </tbody>\n",
       "</table>\n",
       "</div>"
      ],
      "text/plain": [
       "      user_id  month  calls_count  calls_sum  mess_count\n",
       "3208     1489      8          NaN        NaN        17.0\n",
       "3209     1489      9          NaN        NaN        32.0\n",
       "3210     1489     10          NaN        NaN        21.0\n",
       "3211     1489     11          NaN        NaN        20.0\n",
       "3212     1489     12          NaN        NaN        35.0"
      ]
     },
     "metadata": {},
     "output_type": "display_data"
    }
   ],
   "source": [
    "# рассмотрим выборочно пользователей для которых появляются строки с пустыми значениями\n",
    "\n",
    "display(df_all.loc[df_all.loc[:, 'user_id'] == 1489])"
   ]
  },
  {
   "cell_type": "code",
   "execution_count": 32,
   "metadata": {},
   "outputs": [
    {
     "data": {
      "text/html": [
       "<div>\n",
       "<style scoped>\n",
       "    .dataframe tbody tr th:only-of-type {\n",
       "        vertical-align: middle;\n",
       "    }\n",
       "\n",
       "    .dataframe tbody tr th {\n",
       "        vertical-align: top;\n",
       "    }\n",
       "\n",
       "    .dataframe thead th {\n",
       "        text-align: right;\n",
       "    }\n",
       "</style>\n",
       "<table border=\"1\" class=\"dataframe\">\n",
       "  <thead>\n",
       "    <tr style=\"text-align: right;\">\n",
       "      <th></th>\n",
       "      <th>user_id</th>\n",
       "      <th>month</th>\n",
       "      <th>calls_count</th>\n",
       "      <th>calls_sum</th>\n",
       "      <th>mess_count</th>\n",
       "    </tr>\n",
       "  </thead>\n",
       "  <tbody>\n",
       "    <tr>\n",
       "      <th>42</th>\n",
       "      <td>1006</td>\n",
       "      <td>2</td>\n",
       "      <td>3.0</td>\n",
       "      <td>42.0</td>\n",
       "      <td>NaN</td>\n",
       "    </tr>\n",
       "    <tr>\n",
       "      <th>43</th>\n",
       "      <td>1006</td>\n",
       "      <td>3</td>\n",
       "      <td>46.0</td>\n",
       "      <td>286.0</td>\n",
       "      <td>NaN</td>\n",
       "    </tr>\n",
       "    <tr>\n",
       "      <th>44</th>\n",
       "      <td>1006</td>\n",
       "      <td>4</td>\n",
       "      <td>47.0</td>\n",
       "      <td>356.0</td>\n",
       "      <td>NaN</td>\n",
       "    </tr>\n",
       "    <tr>\n",
       "      <th>45</th>\n",
       "      <td>1006</td>\n",
       "      <td>5</td>\n",
       "      <td>56.0</td>\n",
       "      <td>370.0</td>\n",
       "      <td>NaN</td>\n",
       "    </tr>\n",
       "    <tr>\n",
       "      <th>46</th>\n",
       "      <td>1006</td>\n",
       "      <td>6</td>\n",
       "      <td>53.0</td>\n",
       "      <td>478.0</td>\n",
       "      <td>NaN</td>\n",
       "    </tr>\n",
       "    <tr>\n",
       "      <th>47</th>\n",
       "      <td>1006</td>\n",
       "      <td>7</td>\n",
       "      <td>49.0</td>\n",
       "      <td>316.0</td>\n",
       "      <td>NaN</td>\n",
       "    </tr>\n",
       "    <tr>\n",
       "      <th>48</th>\n",
       "      <td>1006</td>\n",
       "      <td>8</td>\n",
       "      <td>42.0</td>\n",
       "      <td>275.0</td>\n",
       "      <td>NaN</td>\n",
       "    </tr>\n",
       "    <tr>\n",
       "      <th>49</th>\n",
       "      <td>1006</td>\n",
       "      <td>9</td>\n",
       "      <td>54.0</td>\n",
       "      <td>360.0</td>\n",
       "      <td>NaN</td>\n",
       "    </tr>\n",
       "    <tr>\n",
       "      <th>50</th>\n",
       "      <td>1006</td>\n",
       "      <td>10</td>\n",
       "      <td>44.0</td>\n",
       "      <td>267.0</td>\n",
       "      <td>NaN</td>\n",
       "    </tr>\n",
       "    <tr>\n",
       "      <th>51</th>\n",
       "      <td>1006</td>\n",
       "      <td>11</td>\n",
       "      <td>62.0</td>\n",
       "      <td>372.0</td>\n",
       "      <td>NaN</td>\n",
       "    </tr>\n",
       "    <tr>\n",
       "      <th>52</th>\n",
       "      <td>1006</td>\n",
       "      <td>12</td>\n",
       "      <td>50.0</td>\n",
       "      <td>379.0</td>\n",
       "      <td>NaN</td>\n",
       "    </tr>\n",
       "  </tbody>\n",
       "</table>\n",
       "</div>"
      ],
      "text/plain": [
       "    user_id  month  calls_count  calls_sum  mess_count\n",
       "42     1006      2          3.0       42.0         NaN\n",
       "43     1006      3         46.0      286.0         NaN\n",
       "44     1006      4         47.0      356.0         NaN\n",
       "45     1006      5         56.0      370.0         NaN\n",
       "46     1006      6         53.0      478.0         NaN\n",
       "47     1006      7         49.0      316.0         NaN\n",
       "48     1006      8         42.0      275.0         NaN\n",
       "49     1006      9         54.0      360.0         NaN\n",
       "50     1006     10         44.0      267.0         NaN\n",
       "51     1006     11         62.0      372.0         NaN\n",
       "52     1006     12         50.0      379.0         NaN"
      ]
     },
     "metadata": {},
     "output_type": "display_data"
    }
   ],
   "source": [
    "# рассмотрим выборочно пользователей для которых появляются строки с пустыми значениями\n",
    "\n",
    "display(df_all.loc[df_all.loc[:, 'user_id'] == 1006])"
   ]
  },
  {
   "cell_type": "markdown",
   "metadata": {},
   "source": [
    "Из приведенных примеров становится понятно, что есть пользователи которые использовали только СМС или наоборот только Звонки, в результате объединения данные по этим пользователям объединились с образовнием новых пустых строк. \n",
    "\n",
    "Объединение проведено корректно, продолжим."
   ]
  },
  {
   "cell_type": "code",
   "execution_count": 33,
   "metadata": {},
   "outputs": [
    {
     "data": {
      "text/html": [
       "<div>\n",
       "<style scoped>\n",
       "    .dataframe tbody tr th:only-of-type {\n",
       "        vertical-align: middle;\n",
       "    }\n",
       "\n",
       "    .dataframe tbody tr th {\n",
       "        vertical-align: top;\n",
       "    }\n",
       "\n",
       "    .dataframe thead th {\n",
       "        text-align: right;\n",
       "    }\n",
       "</style>\n",
       "<table border=\"1\" class=\"dataframe\">\n",
       "  <thead>\n",
       "    <tr style=\"text-align: right;\">\n",
       "      <th></th>\n",
       "      <th>user_id</th>\n",
       "      <th>month</th>\n",
       "      <th>calls_count</th>\n",
       "      <th>calls_sum</th>\n",
       "      <th>mess_count</th>\n",
       "      <th>mb_sum</th>\n",
       "    </tr>\n",
       "  </thead>\n",
       "  <tbody>\n",
       "    <tr>\n",
       "      <th>0</th>\n",
       "      <td>1000</td>\n",
       "      <td>5</td>\n",
       "      <td>22.0</td>\n",
       "      <td>159.0</td>\n",
       "      <td>22.0</td>\n",
       "      <td>2253.49</td>\n",
       "    </tr>\n",
       "    <tr>\n",
       "      <th>1</th>\n",
       "      <td>1000</td>\n",
       "      <td>6</td>\n",
       "      <td>43.0</td>\n",
       "      <td>172.0</td>\n",
       "      <td>60.0</td>\n",
       "      <td>23233.77</td>\n",
       "    </tr>\n",
       "    <tr>\n",
       "      <th>2</th>\n",
       "      <td>1000</td>\n",
       "      <td>7</td>\n",
       "      <td>47.0</td>\n",
       "      <td>340.0</td>\n",
       "      <td>75.0</td>\n",
       "      <td>14003.64</td>\n",
       "    </tr>\n",
       "    <tr>\n",
       "      <th>3</th>\n",
       "      <td>1000</td>\n",
       "      <td>8</td>\n",
       "      <td>52.0</td>\n",
       "      <td>408.0</td>\n",
       "      <td>81.0</td>\n",
       "      <td>14055.93</td>\n",
       "    </tr>\n",
       "    <tr>\n",
       "      <th>4</th>\n",
       "      <td>1000</td>\n",
       "      <td>9</td>\n",
       "      <td>58.0</td>\n",
       "      <td>466.0</td>\n",
       "      <td>57.0</td>\n",
       "      <td>14568.91</td>\n",
       "    </tr>\n",
       "  </tbody>\n",
       "</table>\n",
       "</div>"
      ],
      "text/plain": [
       "   user_id  month  calls_count  calls_sum  mess_count    mb_sum\n",
       "0     1000      5         22.0      159.0        22.0   2253.49\n",
       "1     1000      6         43.0      172.0        60.0  23233.77\n",
       "2     1000      7         47.0      340.0        75.0  14003.64\n",
       "3     1000      8         52.0      408.0        81.0  14055.93\n",
       "4     1000      9         58.0      466.0        57.0  14568.91"
      ]
     },
     "metadata": {},
     "output_type": "display_data"
    },
    {
     "name": "stdout",
     "output_type": "stream",
     "text": [
      "<class 'pandas.core.frame.DataFrame'>\n",
      "Int64Index: 3214 entries, 0 to 3213\n",
      "Data columns (total 6 columns):\n",
      " #   Column       Non-Null Count  Dtype  \n",
      "---  ------       --------------  -----  \n",
      " 0   user_id      3214 non-null   int64  \n",
      " 1   month        3214 non-null   int64  \n",
      " 2   calls_count  3174 non-null   float64\n",
      " 3   calls_sum    3174 non-null   float64\n",
      " 4   mess_count   2717 non-null   float64\n",
      " 5   mb_sum       3203 non-null   float64\n",
      "dtypes: float64(4), int64(2)\n",
      "memory usage: 175.8 KB\n"
     ]
    },
    {
     "data": {
      "text/plain": [
       "None"
      ]
     },
     "metadata": {},
     "output_type": "display_data"
    }
   ],
   "source": [
    "# к полученной таблице прибавим данные из таблицы internet\n",
    "# проверим информацию о таблице\n",
    "\n",
    "df_all = df_all.merge(internet, on=['user_id', 'month'], how='outer')\n",
    "\n",
    "display(df_all.head())\n",
    "display(df_all.info())"
   ]
  },
  {
   "cell_type": "code",
   "execution_count": 34,
   "metadata": {},
   "outputs": [
    {
     "data": {
      "text/html": [
       "<div>\n",
       "<style scoped>\n",
       "    .dataframe tbody tr th:only-of-type {\n",
       "        vertical-align: middle;\n",
       "    }\n",
       "\n",
       "    .dataframe tbody tr th {\n",
       "        vertical-align: top;\n",
       "    }\n",
       "\n",
       "    .dataframe thead th {\n",
       "        text-align: right;\n",
       "    }\n",
       "</style>\n",
       "<table border=\"1\" class=\"dataframe\">\n",
       "  <thead>\n",
       "    <tr style=\"text-align: right;\">\n",
       "      <th></th>\n",
       "      <th>user_id</th>\n",
       "      <th>month</th>\n",
       "      <th>calls_count</th>\n",
       "      <th>calls_sum</th>\n",
       "      <th>mess_count</th>\n",
       "      <th>mb_sum</th>\n",
       "      <th>age</th>\n",
       "      <th>churn_date</th>\n",
       "      <th>city</th>\n",
       "      <th>first_name</th>\n",
       "      <th>last_name</th>\n",
       "      <th>reg_date</th>\n",
       "      <th>tariff</th>\n",
       "    </tr>\n",
       "  </thead>\n",
       "  <tbody>\n",
       "    <tr>\n",
       "      <th>0</th>\n",
       "      <td>1000</td>\n",
       "      <td>5.0</td>\n",
       "      <td>22.0</td>\n",
       "      <td>159.0</td>\n",
       "      <td>22.0</td>\n",
       "      <td>2253.49</td>\n",
       "      <td>52</td>\n",
       "      <td>NaN</td>\n",
       "      <td>Краснодар</td>\n",
       "      <td>Рафаил</td>\n",
       "      <td>Верещагин</td>\n",
       "      <td>2018-05-25</td>\n",
       "      <td>ultra</td>\n",
       "    </tr>\n",
       "    <tr>\n",
       "      <th>1</th>\n",
       "      <td>1000</td>\n",
       "      <td>6.0</td>\n",
       "      <td>43.0</td>\n",
       "      <td>172.0</td>\n",
       "      <td>60.0</td>\n",
       "      <td>23233.77</td>\n",
       "      <td>52</td>\n",
       "      <td>NaN</td>\n",
       "      <td>Краснодар</td>\n",
       "      <td>Рафаил</td>\n",
       "      <td>Верещагин</td>\n",
       "      <td>2018-05-25</td>\n",
       "      <td>ultra</td>\n",
       "    </tr>\n",
       "    <tr>\n",
       "      <th>2</th>\n",
       "      <td>1000</td>\n",
       "      <td>7.0</td>\n",
       "      <td>47.0</td>\n",
       "      <td>340.0</td>\n",
       "      <td>75.0</td>\n",
       "      <td>14003.64</td>\n",
       "      <td>52</td>\n",
       "      <td>NaN</td>\n",
       "      <td>Краснодар</td>\n",
       "      <td>Рафаил</td>\n",
       "      <td>Верещагин</td>\n",
       "      <td>2018-05-25</td>\n",
       "      <td>ultra</td>\n",
       "    </tr>\n",
       "    <tr>\n",
       "      <th>3</th>\n",
       "      <td>1000</td>\n",
       "      <td>8.0</td>\n",
       "      <td>52.0</td>\n",
       "      <td>408.0</td>\n",
       "      <td>81.0</td>\n",
       "      <td>14055.93</td>\n",
       "      <td>52</td>\n",
       "      <td>NaN</td>\n",
       "      <td>Краснодар</td>\n",
       "      <td>Рафаил</td>\n",
       "      <td>Верещагин</td>\n",
       "      <td>2018-05-25</td>\n",
       "      <td>ultra</td>\n",
       "    </tr>\n",
       "    <tr>\n",
       "      <th>4</th>\n",
       "      <td>1000</td>\n",
       "      <td>9.0</td>\n",
       "      <td>58.0</td>\n",
       "      <td>466.0</td>\n",
       "      <td>57.0</td>\n",
       "      <td>14568.91</td>\n",
       "      <td>52</td>\n",
       "      <td>NaN</td>\n",
       "      <td>Краснодар</td>\n",
       "      <td>Рафаил</td>\n",
       "      <td>Верещагин</td>\n",
       "      <td>2018-05-25</td>\n",
       "      <td>ultra</td>\n",
       "    </tr>\n",
       "  </tbody>\n",
       "</table>\n",
       "</div>"
      ],
      "text/plain": [
       "   user_id  month  calls_count  calls_sum  mess_count    mb_sum  age  \\\n",
       "0     1000    5.0         22.0      159.0        22.0   2253.49   52   \n",
       "1     1000    6.0         43.0      172.0        60.0  23233.77   52   \n",
       "2     1000    7.0         47.0      340.0        75.0  14003.64   52   \n",
       "3     1000    8.0         52.0      408.0        81.0  14055.93   52   \n",
       "4     1000    9.0         58.0      466.0        57.0  14568.91   52   \n",
       "\n",
       "  churn_date       city first_name  last_name    reg_date tariff  \n",
       "0        NaN  Краснодар     Рафаил  Верещагин  2018-05-25  ultra  \n",
       "1        NaN  Краснодар     Рафаил  Верещагин  2018-05-25  ultra  \n",
       "2        NaN  Краснодар     Рафаил  Верещагин  2018-05-25  ultra  \n",
       "3        NaN  Краснодар     Рафаил  Верещагин  2018-05-25  ultra  \n",
       "4        NaN  Краснодар     Рафаил  Верещагин  2018-05-25  ultra  "
      ]
     },
     "metadata": {},
     "output_type": "display_data"
    }
   ],
   "source": [
    "# к полученной таблице прибавим данные из таблицы tariffs\n",
    "# проверим длинну таблицы\n",
    "\n",
    "df_all = df_all.merge(df_users, on=['user_id'], how='outer')\n",
    "\n",
    "display(df_all.head())"
   ]
  },
  {
   "cell_type": "code",
   "execution_count": 35,
   "metadata": {},
   "outputs": [
    {
     "name": "stdout",
     "output_type": "stream",
     "text": [
      "user_id\n",
      "1000     8\n",
      "1001     2\n",
      "1002     7\n",
      "1003     5\n",
      "1004     8\n",
      "        ..\n",
      "1495     5\n",
      "1496    12\n",
      "1497     3\n",
      "1498     4\n",
      "1499     4\n",
      "Name: user_id, Length: 500, dtype: int64\n"
     ]
    }
   ],
   "source": [
    "# проверим данные на уникальность пользователей\n",
    "print(df_all.groupby('user_id')['user_id'].count())"
   ]
  },
  {
   "cell_type": "code",
   "execution_count": 36,
   "metadata": {},
   "outputs": [
    {
     "name": "stdout",
     "output_type": "stream",
     "text": [
      "<class 'pandas.core.frame.DataFrame'>\n",
      "Int64Index: 3216 entries, 0 to 3215\n",
      "Data columns (total 13 columns):\n",
      " #   Column       Non-Null Count  Dtype  \n",
      "---  ------       --------------  -----  \n",
      " 0   user_id      3216 non-null   int64  \n",
      " 1   month        3214 non-null   float64\n",
      " 2   calls_count  3174 non-null   float64\n",
      " 3   calls_sum    3174 non-null   float64\n",
      " 4   mess_count   2717 non-null   float64\n",
      " 5   mb_sum       3203 non-null   float64\n",
      " 6   age          3216 non-null   int64  \n",
      " 7   churn_date   189 non-null    object \n",
      " 8   city         3216 non-null   object \n",
      " 9   first_name   3216 non-null   object \n",
      " 10  last_name    3216 non-null   object \n",
      " 11  reg_date     3216 non-null   object \n",
      " 12  tariff       3216 non-null   object \n",
      "dtypes: float64(5), int64(2), object(6)\n",
      "memory usage: 351.8+ KB\n"
     ]
    }
   ],
   "source": [
    "# проверим данные на пропущенные значения\n",
    "df_all.info()"
   ]
  },
  {
   "cell_type": "markdown",
   "metadata": {},
   "source": [
    "Строка month         3214 non-null   float64 вызывает подозрения, т.к. в ней после добавления информации о тарифах появилось две пустые строки, так не должно быть."
   ]
  },
  {
   "cell_type": "code",
   "execution_count": 37,
   "metadata": {},
   "outputs": [
    {
     "data": {
      "text/plain": [
       "0       False\n",
       "1       False\n",
       "2       False\n",
       "3       False\n",
       "4       False\n",
       "        ...  \n",
       "3211    False\n",
       "3212    False\n",
       "3213    False\n",
       "3214     True\n",
       "3215     True\n",
       "Name: month, Length: 3216, dtype: bool"
      ]
     },
     "metadata": {},
     "output_type": "display_data"
    }
   ],
   "source": [
    "display(df_all['month'].isna())"
   ]
  },
  {
   "cell_type": "code",
   "execution_count": 38,
   "metadata": {},
   "outputs": [
    {
     "data": {
      "text/html": [
       "<div>\n",
       "<style scoped>\n",
       "    .dataframe tbody tr th:only-of-type {\n",
       "        vertical-align: middle;\n",
       "    }\n",
       "\n",
       "    .dataframe tbody tr th {\n",
       "        vertical-align: top;\n",
       "    }\n",
       "\n",
       "    .dataframe thead th {\n",
       "        text-align: right;\n",
       "    }\n",
       "</style>\n",
       "<table border=\"1\" class=\"dataframe\">\n",
       "  <thead>\n",
       "    <tr style=\"text-align: right;\">\n",
       "      <th></th>\n",
       "      <th>user_id</th>\n",
       "      <th>month</th>\n",
       "      <th>calls_count</th>\n",
       "      <th>calls_sum</th>\n",
       "      <th>mess_count</th>\n",
       "      <th>mb_sum</th>\n",
       "      <th>age</th>\n",
       "      <th>churn_date</th>\n",
       "      <th>city</th>\n",
       "      <th>first_name</th>\n",
       "      <th>last_name</th>\n",
       "      <th>reg_date</th>\n",
       "      <th>tariff</th>\n",
       "    </tr>\n",
       "  </thead>\n",
       "  <tbody>\n",
       "    <tr>\n",
       "      <th>3214</th>\n",
       "      <td>1128</td>\n",
       "      <td>NaN</td>\n",
       "      <td>NaN</td>\n",
       "      <td>NaN</td>\n",
       "      <td>NaN</td>\n",
       "      <td>NaN</td>\n",
       "      <td>51</td>\n",
       "      <td>2018-12-23</td>\n",
       "      <td>Волжский</td>\n",
       "      <td>Ксения</td>\n",
       "      <td>Агаева</td>\n",
       "      <td>2018-12-15</td>\n",
       "      <td>ultra</td>\n",
       "    </tr>\n",
       "    <tr>\n",
       "      <th>3215</th>\n",
       "      <td>1371</td>\n",
       "      <td>NaN</td>\n",
       "      <td>NaN</td>\n",
       "      <td>NaN</td>\n",
       "      <td>NaN</td>\n",
       "      <td>NaN</td>\n",
       "      <td>50</td>\n",
       "      <td>2018-12-30</td>\n",
       "      <td>Омск</td>\n",
       "      <td>Ириней</td>\n",
       "      <td>Трофимов</td>\n",
       "      <td>2018-12-25</td>\n",
       "      <td>smart</td>\n",
       "    </tr>\n",
       "  </tbody>\n",
       "</table>\n",
       "</div>"
      ],
      "text/plain": [
       "      user_id  month  calls_count  calls_sum  mess_count  mb_sum  age  \\\n",
       "3214     1128    NaN          NaN        NaN         NaN     NaN   51   \n",
       "3215     1371    NaN          NaN        NaN         NaN     NaN   50   \n",
       "\n",
       "      churn_date      city first_name last_name    reg_date tariff  \n",
       "3214  2018-12-23  Волжский     Ксения    Агаева  2018-12-15  ultra  \n",
       "3215  2018-12-30      Омск     Ириней  Трофимов  2018-12-25  smart  "
      ]
     },
     "metadata": {},
     "output_type": "display_data"
    }
   ],
   "source": [
    "# только 2 строки\n",
    "display(df_all[df_all['month'].isna()])"
   ]
  },
  {
   "cell_type": "code",
   "execution_count": 39,
   "metadata": {},
   "outputs": [
    {
     "data": {
      "text/html": [
       "<div>\n",
       "<style scoped>\n",
       "    .dataframe tbody tr th:only-of-type {\n",
       "        vertical-align: middle;\n",
       "    }\n",
       "\n",
       "    .dataframe tbody tr th {\n",
       "        vertical-align: top;\n",
       "    }\n",
       "\n",
       "    .dataframe thead th {\n",
       "        text-align: right;\n",
       "    }\n",
       "</style>\n",
       "<table border=\"1\" class=\"dataframe\">\n",
       "  <thead>\n",
       "    <tr style=\"text-align: right;\">\n",
       "      <th></th>\n",
       "      <th>user_id</th>\n",
       "      <th>month</th>\n",
       "      <th>calls_count</th>\n",
       "      <th>calls_sum</th>\n",
       "      <th>mess_count</th>\n",
       "      <th>mb_sum</th>\n",
       "      <th>age</th>\n",
       "      <th>churn_date</th>\n",
       "      <th>city</th>\n",
       "      <th>first_name</th>\n",
       "      <th>last_name</th>\n",
       "      <th>reg_date</th>\n",
       "      <th>tariff</th>\n",
       "    </tr>\n",
       "  </thead>\n",
       "  <tbody>\n",
       "    <tr>\n",
       "      <th>3214</th>\n",
       "      <td>1128</td>\n",
       "      <td>NaN</td>\n",
       "      <td>NaN</td>\n",
       "      <td>NaN</td>\n",
       "      <td>NaN</td>\n",
       "      <td>NaN</td>\n",
       "      <td>51</td>\n",
       "      <td>2018-12-23</td>\n",
       "      <td>Волжский</td>\n",
       "      <td>Ксения</td>\n",
       "      <td>Агаева</td>\n",
       "      <td>2018-12-15</td>\n",
       "      <td>ultra</td>\n",
       "    </tr>\n",
       "    <tr>\n",
       "      <th>3215</th>\n",
       "      <td>1371</td>\n",
       "      <td>NaN</td>\n",
       "      <td>NaN</td>\n",
       "      <td>NaN</td>\n",
       "      <td>NaN</td>\n",
       "      <td>NaN</td>\n",
       "      <td>50</td>\n",
       "      <td>2018-12-30</td>\n",
       "      <td>Омск</td>\n",
       "      <td>Ириней</td>\n",
       "      <td>Трофимов</td>\n",
       "      <td>2018-12-25</td>\n",
       "      <td>smart</td>\n",
       "    </tr>\n",
       "  </tbody>\n",
       "</table>\n",
       "</div>"
      ],
      "text/plain": [
       "      user_id  month  calls_count  calls_sum  mess_count  mb_sum  age  \\\n",
       "3214     1128    NaN          NaN        NaN         NaN     NaN   51   \n",
       "3215     1371    NaN          NaN        NaN         NaN     NaN   50   \n",
       "\n",
       "      churn_date      city first_name last_name    reg_date tariff  \n",
       "3214  2018-12-23  Волжский     Ксения    Агаева  2018-12-15  ultra  \n",
       "3215  2018-12-30      Омск     Ириней  Трофимов  2018-12-25  smart  "
      ]
     },
     "metadata": {},
     "output_type": "display_data"
    }
   ],
   "source": [
    "# рассмотрим строки 3214 и 3215\n",
    "\n",
    "display(df_all.loc[3214:3215])"
   ]
  },
  {
   "cell_type": "code",
   "execution_count": 40,
   "metadata": {
    "scrolled": true
   },
   "outputs": [
    {
     "data": {
      "text/html": [
       "<div>\n",
       "<style scoped>\n",
       "    .dataframe tbody tr th:only-of-type {\n",
       "        vertical-align: middle;\n",
       "    }\n",
       "\n",
       "    .dataframe tbody tr th {\n",
       "        vertical-align: top;\n",
       "    }\n",
       "\n",
       "    .dataframe thead th {\n",
       "        text-align: right;\n",
       "    }\n",
       "</style>\n",
       "<table border=\"1\" class=\"dataframe\">\n",
       "  <thead>\n",
       "    <tr style=\"text-align: right;\">\n",
       "      <th></th>\n",
       "      <th>user_id</th>\n",
       "      <th>month</th>\n",
       "      <th>calls_count</th>\n",
       "      <th>calls_sum</th>\n",
       "      <th>mess_count</th>\n",
       "      <th>mb_sum</th>\n",
       "      <th>age</th>\n",
       "      <th>churn_date</th>\n",
       "      <th>city</th>\n",
       "      <th>first_name</th>\n",
       "      <th>last_name</th>\n",
       "      <th>reg_date</th>\n",
       "      <th>tariff</th>\n",
       "    </tr>\n",
       "  </thead>\n",
       "  <tbody>\n",
       "    <tr>\n",
       "      <th>3214</th>\n",
       "      <td>1128</td>\n",
       "      <td>NaN</td>\n",
       "      <td>NaN</td>\n",
       "      <td>NaN</td>\n",
       "      <td>NaN</td>\n",
       "      <td>NaN</td>\n",
       "      <td>51</td>\n",
       "      <td>2018-12-23</td>\n",
       "      <td>Волжский</td>\n",
       "      <td>Ксения</td>\n",
       "      <td>Агаева</td>\n",
       "      <td>2018-12-15</td>\n",
       "      <td>ultra</td>\n",
       "    </tr>\n",
       "  </tbody>\n",
       "</table>\n",
       "</div>"
      ],
      "text/plain": [
       "      user_id  month  calls_count  calls_sum  mess_count  mb_sum  age  \\\n",
       "3214     1128    NaN          NaN        NaN         NaN     NaN   51   \n",
       "\n",
       "      churn_date      city first_name last_name    reg_date tariff  \n",
       "3214  2018-12-23  Волжский     Ксения    Агаева  2018-12-15  ultra  "
      ]
     },
     "metadata": {},
     "output_type": "display_data"
    },
    {
     "data": {
      "text/html": [
       "<div>\n",
       "<style scoped>\n",
       "    .dataframe tbody tr th:only-of-type {\n",
       "        vertical-align: middle;\n",
       "    }\n",
       "\n",
       "    .dataframe tbody tr th {\n",
       "        vertical-align: top;\n",
       "    }\n",
       "\n",
       "    .dataframe thead th {\n",
       "        text-align: right;\n",
       "    }\n",
       "</style>\n",
       "<table border=\"1\" class=\"dataframe\">\n",
       "  <thead>\n",
       "    <tr style=\"text-align: right;\">\n",
       "      <th></th>\n",
       "      <th>user_id</th>\n",
       "      <th>month</th>\n",
       "      <th>calls_count</th>\n",
       "      <th>calls_sum</th>\n",
       "      <th>mess_count</th>\n",
       "      <th>mb_sum</th>\n",
       "      <th>age</th>\n",
       "      <th>churn_date</th>\n",
       "      <th>city</th>\n",
       "      <th>first_name</th>\n",
       "      <th>last_name</th>\n",
       "      <th>reg_date</th>\n",
       "      <th>tariff</th>\n",
       "    </tr>\n",
       "  </thead>\n",
       "  <tbody>\n",
       "    <tr>\n",
       "      <th>3215</th>\n",
       "      <td>1371</td>\n",
       "      <td>NaN</td>\n",
       "      <td>NaN</td>\n",
       "      <td>NaN</td>\n",
       "      <td>NaN</td>\n",
       "      <td>NaN</td>\n",
       "      <td>50</td>\n",
       "      <td>2018-12-30</td>\n",
       "      <td>Омск</td>\n",
       "      <td>Ириней</td>\n",
       "      <td>Трофимов</td>\n",
       "      <td>2018-12-25</td>\n",
       "      <td>smart</td>\n",
       "    </tr>\n",
       "  </tbody>\n",
       "</table>\n",
       "</div>"
      ],
      "text/plain": [
       "      user_id  month  calls_count  calls_sum  mess_count  mb_sum  age  \\\n",
       "3215     1371    NaN          NaN        NaN         NaN     NaN   50   \n",
       "\n",
       "      churn_date  city first_name last_name    reg_date tariff  \n",
       "3215  2018-12-30  Омск     Ириней  Трофимов  2018-12-25  smart  "
      ]
     },
     "metadata": {},
     "output_type": "display_data"
    }
   ],
   "source": [
    "# рассмотрим id двух пользователей 1128 и 1371\n",
    "\n",
    "display(df_all.loc[df_all.loc[:, 'user_id'] == 1128])\n",
    "\n",
    "display(df_all.loc[df_all.loc[:, 'user_id'] == 1371])"
   ]
  },
  {
   "cell_type": "markdown",
   "metadata": {},
   "source": [
    "По данным Id очевидно, что пользователи не пользовались никакими услугами, а только зарегистрировались, по этой причине появилось две строки с пустым значением month"
   ]
  },
  {
   "cell_type": "markdown",
   "metadata": {},
   "source": [
    "#### Заменим Nan и изменим тип данных"
   ]
  },
  {
   "cell_type": "markdown",
   "metadata": {},
   "source": [
    "Заменим тип данных для этих столбцов:\n",
    "\n",
    "* 1   month        3214 non-null   float64\n",
    "* 2   calls_count  3174 non-null   float64\n",
    "* 3   calls_sum    3174 non-null   float64\n",
    "* 4   mess_count   2717 non-null   float64\n",
    "* 5   gb_sum       3203 non-null   float64\n",
    "\n",
    "Предварительно заполним данные с отсутсвующими значениями, для этого воспользуемся методом .fillna()"
   ]
  },
  {
   "cell_type": "code",
   "execution_count": 41,
   "metadata": {},
   "outputs": [],
   "source": [
    "# заменим пропуски, для этого в аргументе метода fillna укажем 0\n",
    "df_all= df_all.fillna(0)"
   ]
  },
  {
   "cell_type": "code",
   "execution_count": 42,
   "metadata": {},
   "outputs": [
    {
     "data": {
      "text/html": [
       "<div>\n",
       "<style scoped>\n",
       "    .dataframe tbody tr th:only-of-type {\n",
       "        vertical-align: middle;\n",
       "    }\n",
       "\n",
       "    .dataframe tbody tr th {\n",
       "        vertical-align: top;\n",
       "    }\n",
       "\n",
       "    .dataframe thead th {\n",
       "        text-align: right;\n",
       "    }\n",
       "</style>\n",
       "<table border=\"1\" class=\"dataframe\">\n",
       "  <thead>\n",
       "    <tr style=\"text-align: right;\">\n",
       "      <th></th>\n",
       "      <th>user_id</th>\n",
       "      <th>month</th>\n",
       "      <th>calls_count</th>\n",
       "      <th>calls_sum</th>\n",
       "      <th>mess_count</th>\n",
       "      <th>mb_sum</th>\n",
       "      <th>age</th>\n",
       "      <th>churn_date</th>\n",
       "      <th>city</th>\n",
       "      <th>first_name</th>\n",
       "      <th>last_name</th>\n",
       "      <th>reg_date</th>\n",
       "      <th>tariff</th>\n",
       "    </tr>\n",
       "  </thead>\n",
       "  <tbody>\n",
       "    <tr>\n",
       "      <th>0</th>\n",
       "      <td>1000</td>\n",
       "      <td>5</td>\n",
       "      <td>22</td>\n",
       "      <td>159</td>\n",
       "      <td>22</td>\n",
       "      <td>2253</td>\n",
       "      <td>52</td>\n",
       "      <td>0</td>\n",
       "      <td>Краснодар</td>\n",
       "      <td>Рафаил</td>\n",
       "      <td>Верещагин</td>\n",
       "      <td>2018-05-25</td>\n",
       "      <td>ultra</td>\n",
       "    </tr>\n",
       "    <tr>\n",
       "      <th>1</th>\n",
       "      <td>1000</td>\n",
       "      <td>6</td>\n",
       "      <td>43</td>\n",
       "      <td>172</td>\n",
       "      <td>60</td>\n",
       "      <td>23233</td>\n",
       "      <td>52</td>\n",
       "      <td>0</td>\n",
       "      <td>Краснодар</td>\n",
       "      <td>Рафаил</td>\n",
       "      <td>Верещагин</td>\n",
       "      <td>2018-05-25</td>\n",
       "      <td>ultra</td>\n",
       "    </tr>\n",
       "    <tr>\n",
       "      <th>2</th>\n",
       "      <td>1000</td>\n",
       "      <td>7</td>\n",
       "      <td>47</td>\n",
       "      <td>340</td>\n",
       "      <td>75</td>\n",
       "      <td>14003</td>\n",
       "      <td>52</td>\n",
       "      <td>0</td>\n",
       "      <td>Краснодар</td>\n",
       "      <td>Рафаил</td>\n",
       "      <td>Верещагин</td>\n",
       "      <td>2018-05-25</td>\n",
       "      <td>ultra</td>\n",
       "    </tr>\n",
       "    <tr>\n",
       "      <th>3</th>\n",
       "      <td>1000</td>\n",
       "      <td>8</td>\n",
       "      <td>52</td>\n",
       "      <td>408</td>\n",
       "      <td>81</td>\n",
       "      <td>14055</td>\n",
       "      <td>52</td>\n",
       "      <td>0</td>\n",
       "      <td>Краснодар</td>\n",
       "      <td>Рафаил</td>\n",
       "      <td>Верещагин</td>\n",
       "      <td>2018-05-25</td>\n",
       "      <td>ultra</td>\n",
       "    </tr>\n",
       "    <tr>\n",
       "      <th>4</th>\n",
       "      <td>1000</td>\n",
       "      <td>9</td>\n",
       "      <td>58</td>\n",
       "      <td>466</td>\n",
       "      <td>57</td>\n",
       "      <td>14568</td>\n",
       "      <td>52</td>\n",
       "      <td>0</td>\n",
       "      <td>Краснодар</td>\n",
       "      <td>Рафаил</td>\n",
       "      <td>Верещагин</td>\n",
       "      <td>2018-05-25</td>\n",
       "      <td>ultra</td>\n",
       "    </tr>\n",
       "  </tbody>\n",
       "</table>\n",
       "</div>"
      ],
      "text/plain": [
       "   user_id  month  calls_count  calls_sum  mess_count  mb_sum  age churn_date  \\\n",
       "0     1000      5           22        159          22    2253   52          0   \n",
       "1     1000      6           43        172          60   23233   52          0   \n",
       "2     1000      7           47        340          75   14003   52          0   \n",
       "3     1000      8           52        408          81   14055   52          0   \n",
       "4     1000      9           58        466          57   14568   52          0   \n",
       "\n",
       "        city first_name  last_name    reg_date tariff  \n",
       "0  Краснодар     Рафаил  Верещагин  2018-05-25  ultra  \n",
       "1  Краснодар     Рафаил  Верещагин  2018-05-25  ultra  \n",
       "2  Краснодар     Рафаил  Верещагин  2018-05-25  ultra  \n",
       "3  Краснодар     Рафаил  Верещагин  2018-05-25  ultra  \n",
       "4  Краснодар     Рафаил  Верещагин  2018-05-25  ultra  "
      ]
     },
     "execution_count": 42,
     "metadata": {},
     "output_type": "execute_result"
    }
   ],
   "source": [
    "# заменим тип данных\n",
    "\n",
    "columns_to_change_type = ['month', 'calls_count', 'calls_sum', 'mess_count', 'mb_sum']\n",
    "for index in columns_to_change_type:\n",
    "    df_all[index] = df_all[index].astype('int')\n",
    "df_all.head()"
   ]
  },
  {
   "cell_type": "markdown",
   "metadata": {},
   "source": [
    "#### выводы по объединению таблиц"
   ]
  },
  {
   "cell_type": "markdown",
   "metadata": {},
   "source": [
    "* после объединения данных общая длин составила user_id 3216 строк.\n",
    "* тип данных изменен на integer\n",
    "* в данных появилось много пропущенных значений связанных с тем, что некоторые пользователи пользовались только звонками, СМС или интернетом.\n",
    "* пропущенные значения Nan заменены на 0.\n",
    "* обнаружено два пользователя, которые только зарегистрировались оплатили услуги, т.к. таких пользователей всего 0.4% от общей выборки, они не окажут существенного влияния на средние показатели."
   ]
  },
  {
   "cell_type": "code",
   "execution_count": 43,
   "metadata": {},
   "outputs": [],
   "source": [
    "# Для рассчета отправленных сообщений по месяцам добавим столбец month с данными по месяцам,\n",
    "# для этого воспользуемся функцией pd.to_datetime"
   ]
  },
  {
   "cell_type": "code",
   "execution_count": 44,
   "metadata": {},
   "outputs": [],
   "source": [
    "# добавим столбец месяц для internet\n",
    "#df_internet['month'] = pd.to_datetime(df_internet['session_date'], format='%Y-%m-%d').dt.month\n",
    "#display(df_internet.head(5))\n",
    "\n",
    "# посчитаем колличество сессий для каждого месяца\n",
    "# print(df_internet[\"month\"].value_counts(normalize=True))\n",
    "#print(df_internet[\"month\"].value_counts())"
   ]
  },
  {
   "cell_type": "markdown",
   "metadata": {},
   "source": [
    "## Расчет выручки для каждого пользователя"
   ]
  },
  {
   "cell_type": "markdown",
   "metadata": {},
   "source": [
    "Для расчета помесячной выручки:\n",
    "* вычтите бесплатный лимит из суммарного количества звонков, сообщений и интернет-трафика\n",
    "* остаток умножьте на значение из тарифного плана\n",
    "* прибавьте абонентскую плату, соответствующую тарифному плану"
   ]
  },
  {
   "cell_type": "markdown",
   "metadata": {},
   "source": [
    "Для работы нам потребуются данные из сводной таблицы:\n",
    "* звонки\n",
    "* сообщения\n",
    "* интернет трафик\n",
    "* информация о пользователях и тарифах"
   ]
  },
  {
   "cell_type": "markdown",
   "metadata": {},
   "source": [
    "Нам известно, что для тарифа Ultra\n",
    "* 3000  минут разговора включено в тариф\n",
    "* минута разговора сверх тарифа 1 рубль\n",
    "\n",
    "Значит для расчета оплат по тарифу сверх лимита нам необходимо взять все значения по всем пользователям:  \n",
    "* для тех кто уложился в 3000 минут оплата будет только по тарифу\n",
    "* проссуммируем все минуты сверх тарифа, их количество умножим на 1 рубль за каждую минуту"
   ]
  },
  {
   "cell_type": "markdown",
   "metadata": {},
   "source": [
    "Нам известно, что для тарифа Smart\n",
    "* 50 сообщений в месяц включено в тариф\n",
    "* стоимость сообщения сверх тарифа 3 рубля\n",
    "\n",
    "Значит для расчета оплат по тарифу сверх лимита нам необходимо взять все значения по всем пользователям:  \n",
    "* для тех кто уложился в 50 сообщений оплата будет только по тарифу\n",
    "* проссуммируем все сообщения сверх тарифа, их количество умножим на 3 рубля"
   ]
  },
  {
   "cell_type": "markdown",
   "metadata": {},
   "source": [
    "Нам известно, что для тарифа Ultra\n",
    "* 1000  сообщений включено в тариф\n",
    "* стоимость сообщения сверх тарифа 1 рубль\n",
    "\n",
    "Значит для расчета оплат по тарифу сверх лимита нам необходимо взять все значения по всем пользователям:  \n",
    "* для тех кто уложился в 1000 сообщений оплата будет только по тарифу\n",
    "* проссуммируем все сообщения сверх тарифа, их количество умножим на 1 рубль за каждую минуту"
   ]
  },
  {
   "cell_type": "markdown",
   "metadata": {},
   "source": [
    "На этом этапе нам нужно округлить интернет трафик для тарифа Smart.\n",
    "\n",
    "Нам известно, что для тарифа Smart в месяц включено 15 Гб интернет-трафика, Если абонент использует 1025 мегабайт в этом месяце, с него возьмут плату за 2 гигабайта, т.е. необходимо произвести округление до 2-х гигабайт.\n",
    "\n",
    "В 1 Гигабайте 1024 мегабайт, т.е. нам необходимо разделить имеющийся трафик на 1024 и округлить данные до целого значения, при этом округление нужно произвести не по математическим законам округления, а по принципу округления до большего числа, для этого воспользуемся функцией math.ceil"
   ]
  },
  {
   "cell_type": "markdown",
   "metadata": {},
   "source": [
    "Нам известно, что для тарифа Smart\n",
    "* 15Гб интернет трафика включено в тариф\n",
    "* стоимость трафика сверх тарифа 200 рублей за один гигабай\n",
    "\n",
    "Значит для расчета оплат по тарифу сверх лимита нам необходимо взять все значения по всем пользователям:  \n",
    "* для тех кто уложился в 15Гб оплата будет только по тарифу\n",
    "* проссуммируем весь трафик в гигабайтах сверх тарифа, его количество умножим на 200 рублей"
   ]
  },
  {
   "cell_type": "markdown",
   "metadata": {},
   "source": [
    "Нам известно, что для тарифа Ultra\n",
    "* 30Гб интернет трафика включено в тариф\n",
    "* стоимость трафика сверх тарифа 150 рублей за один гигабай\n",
    "\n",
    "Значит для расчета оплат по тарифу сверх лимита нам необходимо взять все значения по всем пользователям:  \n",
    "* для тех кто уложился в 30Гб оплата будет только по тарифу\n",
    "* проссуммируем весь трафик в гигабайтах сверх тарифа, его количество умножим на 150 рублей"
   ]
  },
  {
   "cell_type": "code",
   "execution_count": 45,
   "metadata": {
    "scrolled": true
   },
   "outputs": [
    {
     "data": {
      "text/html": [
       "<div>\n",
       "<style scoped>\n",
       "    .dataframe tbody tr th:only-of-type {\n",
       "        vertical-align: middle;\n",
       "    }\n",
       "\n",
       "    .dataframe tbody tr th {\n",
       "        vertical-align: top;\n",
       "    }\n",
       "\n",
       "    .dataframe thead th {\n",
       "        text-align: right;\n",
       "    }\n",
       "</style>\n",
       "<table border=\"1\" class=\"dataframe\">\n",
       "  <thead>\n",
       "    <tr style=\"text-align: right;\">\n",
       "      <th></th>\n",
       "      <th>messages_included</th>\n",
       "      <th>mb_per_month_included</th>\n",
       "      <th>minutes_included</th>\n",
       "      <th>rub_monthly_fee</th>\n",
       "      <th>rub_per_gb</th>\n",
       "      <th>rub_per_message</th>\n",
       "      <th>rub_per_minute</th>\n",
       "      <th>tariff_name</th>\n",
       "    </tr>\n",
       "  </thead>\n",
       "  <tbody>\n",
       "    <tr>\n",
       "      <th>0</th>\n",
       "      <td>50</td>\n",
       "      <td>15360</td>\n",
       "      <td>500</td>\n",
       "      <td>550</td>\n",
       "      <td>200</td>\n",
       "      <td>3</td>\n",
       "      <td>3</td>\n",
       "      <td>smart</td>\n",
       "    </tr>\n",
       "    <tr>\n",
       "      <th>1</th>\n",
       "      <td>1000</td>\n",
       "      <td>30720</td>\n",
       "      <td>3000</td>\n",
       "      <td>1950</td>\n",
       "      <td>150</td>\n",
       "      <td>1</td>\n",
       "      <td>1</td>\n",
       "      <td>ultra</td>\n",
       "    </tr>\n",
       "  </tbody>\n",
       "</table>\n",
       "</div>"
      ],
      "text/plain": [
       "   messages_included  mb_per_month_included  minutes_included  \\\n",
       "0                 50                  15360               500   \n",
       "1               1000                  30720              3000   \n",
       "\n",
       "   rub_monthly_fee  rub_per_gb  rub_per_message  rub_per_minute tariff_name  \n",
       "0              550         200                3               3       smart  \n",
       "1             1950         150                1               1       ultra  "
      ]
     },
     "metadata": {},
     "output_type": "display_data"
    },
    {
     "name": "stdout",
     "output_type": "stream",
     "text": [
      "550\n"
     ]
    }
   ],
   "source": [
    "# информация о тарифах\n",
    "display(df_tariffs)\n",
    "\n",
    "# правильный синтаксис для обращения к данным в таблице\n",
    "print (int(df_tariffs[df_tariffs['tariff_name'] == 'smart']['rub_monthly_fee']))"
   ]
  },
  {
   "cell_type": "markdown",
   "metadata": {},
   "source": [
    "Округлим значения для использованных мегабайт (mb_sum) до гигабайтов (gb_sum).\n",
    "\n",
    "Для этого разделим значение на 1024 и воспользуемся функцией .cell"
   ]
  },
  {
   "cell_type": "code",
   "execution_count": 46,
   "metadata": {},
   "outputs": [
    {
     "data": {
      "text/html": [
       "<div>\n",
       "<style scoped>\n",
       "    .dataframe tbody tr th:only-of-type {\n",
       "        vertical-align: middle;\n",
       "    }\n",
       "\n",
       "    .dataframe tbody tr th {\n",
       "        vertical-align: top;\n",
       "    }\n",
       "\n",
       "    .dataframe thead th {\n",
       "        text-align: right;\n",
       "    }\n",
       "</style>\n",
       "<table border=\"1\" class=\"dataframe\">\n",
       "  <thead>\n",
       "    <tr style=\"text-align: right;\">\n",
       "      <th></th>\n",
       "      <th>user_id</th>\n",
       "      <th>month</th>\n",
       "      <th>calls_count</th>\n",
       "      <th>calls_sum</th>\n",
       "      <th>mess_count</th>\n",
       "      <th>mb_sum</th>\n",
       "      <th>age</th>\n",
       "      <th>churn_date</th>\n",
       "      <th>city</th>\n",
       "      <th>first_name</th>\n",
       "      <th>last_name</th>\n",
       "      <th>reg_date</th>\n",
       "      <th>tariff</th>\n",
       "      <th>gb_sum</th>\n",
       "    </tr>\n",
       "  </thead>\n",
       "  <tbody>\n",
       "    <tr>\n",
       "      <th>0</th>\n",
       "      <td>1000</td>\n",
       "      <td>5</td>\n",
       "      <td>22</td>\n",
       "      <td>159</td>\n",
       "      <td>22</td>\n",
       "      <td>2253</td>\n",
       "      <td>52</td>\n",
       "      <td>0</td>\n",
       "      <td>Краснодар</td>\n",
       "      <td>Рафаил</td>\n",
       "      <td>Верещагин</td>\n",
       "      <td>2018-05-25</td>\n",
       "      <td>ultra</td>\n",
       "      <td>3.0</td>\n",
       "    </tr>\n",
       "    <tr>\n",
       "      <th>1</th>\n",
       "      <td>1000</td>\n",
       "      <td>6</td>\n",
       "      <td>43</td>\n",
       "      <td>172</td>\n",
       "      <td>60</td>\n",
       "      <td>23233</td>\n",
       "      <td>52</td>\n",
       "      <td>0</td>\n",
       "      <td>Краснодар</td>\n",
       "      <td>Рафаил</td>\n",
       "      <td>Верещагин</td>\n",
       "      <td>2018-05-25</td>\n",
       "      <td>ultra</td>\n",
       "      <td>23.0</td>\n",
       "    </tr>\n",
       "    <tr>\n",
       "      <th>2</th>\n",
       "      <td>1000</td>\n",
       "      <td>7</td>\n",
       "      <td>47</td>\n",
       "      <td>340</td>\n",
       "      <td>75</td>\n",
       "      <td>14003</td>\n",
       "      <td>52</td>\n",
       "      <td>0</td>\n",
       "      <td>Краснодар</td>\n",
       "      <td>Рафаил</td>\n",
       "      <td>Верещагин</td>\n",
       "      <td>2018-05-25</td>\n",
       "      <td>ultra</td>\n",
       "      <td>14.0</td>\n",
       "    </tr>\n",
       "  </tbody>\n",
       "</table>\n",
       "</div>"
      ],
      "text/plain": [
       "   user_id  month  calls_count  calls_sum  mess_count  mb_sum  age churn_date  \\\n",
       "0     1000      5           22        159          22    2253   52          0   \n",
       "1     1000      6           43        172          60   23233   52          0   \n",
       "2     1000      7           47        340          75   14003   52          0   \n",
       "\n",
       "        city first_name  last_name    reg_date tariff  gb_sum  \n",
       "0  Краснодар     Рафаил  Верещагин  2018-05-25  ultra     3.0  \n",
       "1  Краснодар     Рафаил  Верещагин  2018-05-25  ultra    23.0  \n",
       "2  Краснодар     Рафаил  Верещагин  2018-05-25  ultra    14.0  "
      ]
     },
     "metadata": {},
     "output_type": "display_data"
    }
   ],
   "source": [
    "df_all['gb_sum'] = np.ceil(df_all['mb_sum']/1024)\n",
    "\n",
    "display(df_all.head(3))"
   ]
  },
  {
   "cell_type": "code",
   "execution_count": 47,
   "metadata": {},
   "outputs": [
    {
     "data": {
      "text/html": [
       "<div>\n",
       "<style scoped>\n",
       "    .dataframe tbody tr th:only-of-type {\n",
       "        vertical-align: middle;\n",
       "    }\n",
       "\n",
       "    .dataframe tbody tr th {\n",
       "        vertical-align: top;\n",
       "    }\n",
       "\n",
       "    .dataframe thead th {\n",
       "        text-align: right;\n",
       "    }\n",
       "</style>\n",
       "<table border=\"1\" class=\"dataframe\">\n",
       "  <thead>\n",
       "    <tr style=\"text-align: right;\">\n",
       "      <th></th>\n",
       "      <th>user_id</th>\n",
       "      <th>month</th>\n",
       "      <th>calls_count</th>\n",
       "      <th>calls_sum</th>\n",
       "      <th>mess_count</th>\n",
       "      <th>mb_sum</th>\n",
       "      <th>age</th>\n",
       "      <th>churn_date</th>\n",
       "      <th>city</th>\n",
       "      <th>first_name</th>\n",
       "      <th>last_name</th>\n",
       "      <th>reg_date</th>\n",
       "      <th>tariff</th>\n",
       "      <th>gb_sum</th>\n",
       "      <th>month_pay</th>\n",
       "    </tr>\n",
       "  </thead>\n",
       "  <tbody>\n",
       "    <tr>\n",
       "      <th>35</th>\n",
       "      <td>1005</td>\n",
       "      <td>6</td>\n",
       "      <td>80</td>\n",
       "      <td>612</td>\n",
       "      <td>47</td>\n",
       "      <td>9863</td>\n",
       "      <td>67</td>\n",
       "      <td>0</td>\n",
       "      <td>Набережные Челны</td>\n",
       "      <td>Афанасий</td>\n",
       "      <td>Горлов</td>\n",
       "      <td>2018-01-25</td>\n",
       "      <td>smart</td>\n",
       "      <td>10.0</td>\n",
       "      <td>886.0</td>\n",
       "    </tr>\n",
       "    <tr>\n",
       "      <th>36</th>\n",
       "      <td>1005</td>\n",
       "      <td>7</td>\n",
       "      <td>77</td>\n",
       "      <td>569</td>\n",
       "      <td>56</td>\n",
       "      <td>7694</td>\n",
       "      <td>67</td>\n",
       "      <td>0</td>\n",
       "      <td>Набережные Челны</td>\n",
       "      <td>Афанасий</td>\n",
       "      <td>Горлов</td>\n",
       "      <td>2018-01-25</td>\n",
       "      <td>smart</td>\n",
       "      <td>8.0</td>\n",
       "      <td>982.0</td>\n",
       "    </tr>\n",
       "    <tr>\n",
       "      <th>37</th>\n",
       "      <td>1005</td>\n",
       "      <td>8</td>\n",
       "      <td>71</td>\n",
       "      <td>619</td>\n",
       "      <td>64</td>\n",
       "      <td>7543</td>\n",
       "      <td>67</td>\n",
       "      <td>0</td>\n",
       "      <td>Набережные Челны</td>\n",
       "      <td>Афанасий</td>\n",
       "      <td>Горлов</td>\n",
       "      <td>2018-01-25</td>\n",
       "      <td>smart</td>\n",
       "      <td>8.0</td>\n",
       "      <td>1306.0</td>\n",
       "    </tr>\n",
       "    <tr>\n",
       "      <th>38</th>\n",
       "      <td>1005</td>\n",
       "      <td>9</td>\n",
       "      <td>66</td>\n",
       "      <td>479</td>\n",
       "      <td>52</td>\n",
       "      <td>7016</td>\n",
       "      <td>67</td>\n",
       "      <td>0</td>\n",
       "      <td>Набережные Челны</td>\n",
       "      <td>Афанасий</td>\n",
       "      <td>Горлов</td>\n",
       "      <td>2018-01-25</td>\n",
       "      <td>smart</td>\n",
       "      <td>7.0</td>\n",
       "      <td>556.0</td>\n",
       "    </tr>\n",
       "    <tr>\n",
       "      <th>39</th>\n",
       "      <td>1005</td>\n",
       "      <td>10</td>\n",
       "      <td>100</td>\n",
       "      <td>723</td>\n",
       "      <td>44</td>\n",
       "      <td>7800</td>\n",
       "      <td>67</td>\n",
       "      <td>0</td>\n",
       "      <td>Набережные Челны</td>\n",
       "      <td>Афанасий</td>\n",
       "      <td>Горлов</td>\n",
       "      <td>2018-01-25</td>\n",
       "      <td>smart</td>\n",
       "      <td>8.0</td>\n",
       "      <td>1219.0</td>\n",
       "    </tr>\n",
       "  </tbody>\n",
       "</table>\n",
       "</div>"
      ],
      "text/plain": [
       "    user_id  month  calls_count  calls_sum  mess_count  mb_sum  age  \\\n",
       "35     1005      6           80        612          47    9863   67   \n",
       "36     1005      7           77        569          56    7694   67   \n",
       "37     1005      8           71        619          64    7543   67   \n",
       "38     1005      9           66        479          52    7016   67   \n",
       "39     1005     10          100        723          44    7800   67   \n",
       "\n",
       "   churn_date              city first_name last_name    reg_date tariff  \\\n",
       "35          0  Набережные Челны   Афанасий    Горлов  2018-01-25  smart   \n",
       "36          0  Набережные Челны   Афанасий    Горлов  2018-01-25  smart   \n",
       "37          0  Набережные Челны   Афанасий    Горлов  2018-01-25  smart   \n",
       "38          0  Набережные Челны   Афанасий    Горлов  2018-01-25  smart   \n",
       "39          0  Набережные Челны   Афанасий    Горлов  2018-01-25  smart   \n",
       "\n",
       "    gb_sum  month_pay  \n",
       "35    10.0      886.0  \n",
       "36     8.0      982.0  \n",
       "37     8.0     1306.0  \n",
       "38     7.0      556.0  \n",
       "39     8.0     1219.0  "
      ]
     },
     "metadata": {},
     "output_type": "display_data"
    }
   ],
   "source": [
    "# создаём функцию\n",
    "def monthly_revenue (row):\n",
    "    \n",
    "    # задаем переменные, в значениях которых оказываются целые столбцы\n",
    "    tariff = row['tariff']\n",
    "    calls_index = row['calls_sum']\n",
    "    messages_index = row['mess_count']\n",
    "    gb_sum_index = row['gb_sum']\n",
    "\n",
    "    money = 0\n",
    "    # int(df_tariffs[df_tariffs['tariff_name'] == tariff]['minutes_included'])\n",
    "    # ссылка на значение из таблицы df_tariffs\n",
    "    \n",
    "    difference_calls = calls_index - int(df_tariffs[df_tariffs['tariff_name'] == tariff]['minutes_included'])\n",
    "    difference_messages = messages_index - int(df_tariffs[df_tariffs['tariff_name'] == tariff]['messages_included'])\n",
    "    difference_internet = gb_sum_index - int(df_tariffs[df_tariffs['tariff_name'] == tariff]['mb_per_month_included'])/1024\n",
    "    \n",
    "    \n",
    "    if difference_calls > 0:\n",
    "        money += money + difference_calls*int(df_tariffs[df_tariffs['tariff_name'] == tariff]['rub_per_minute'])\n",
    " \n",
    "    \n",
    "    if difference_messages > 0:\n",
    "        money += money + difference_messages*int(df_tariffs[df_tariffs['tariff_name'] == tariff]['rub_per_message'])\n",
    "\n",
    "    \n",
    "    if difference_internet > 0:\n",
    "        money += money + (difference_internet*int(df_tariffs[df_tariffs['tariff_name'] == tariff]['rub_per_gb']))\n",
    "\n",
    "    # в любом случае добавляем абонентскую плату\n",
    "    # к этому моменту здесь уже есть платеж за звонки, смс, интернет\n",
    "    money +=  int(df_tariffs[df_tariffs['tariff_name'] == tariff]['rub_monthly_fee'])\n",
    "\n",
    "    return money\n",
    "\n",
    "# передаем целую колонку\n",
    "df_all['month_pay'] = df_all.apply(monthly_revenue, axis=1) \n",
    "\n",
    "# df_all.head(10)\n",
    "# проверка работы функции\n",
    "# срез по строкам 35-40\n",
    "display(df_all[35:40])"
   ]
  },
  {
   "cell_type": "markdown",
   "metadata": {},
   "source": [
    "## Рассчитаем среднее для каждого пользователя по месяцам"
   ]
  },
  {
   "cell_type": "markdown",
   "metadata": {},
   "source": [
    "Для этого создадим две отедльные таблицы разделенные согласно тарифу:\n",
    "* smart\n",
    "* ultra\n",
    "\n"
   ]
  },
  {
   "cell_type": "code",
   "execution_count": 48,
   "metadata": {},
   "outputs": [
    {
     "data": {
      "text/html": [
       "<div>\n",
       "<style scoped>\n",
       "    .dataframe tbody tr th:only-of-type {\n",
       "        vertical-align: middle;\n",
       "    }\n",
       "\n",
       "    .dataframe tbody tr th {\n",
       "        vertical-align: top;\n",
       "    }\n",
       "\n",
       "    .dataframe thead th {\n",
       "        text-align: right;\n",
       "    }\n",
       "</style>\n",
       "<table border=\"1\" class=\"dataframe\">\n",
       "  <thead>\n",
       "    <tr style=\"text-align: right;\">\n",
       "      <th></th>\n",
       "      <th>user_id</th>\n",
       "      <th>month</th>\n",
       "      <th>calls_count</th>\n",
       "      <th>calls_sum</th>\n",
       "      <th>mess_count</th>\n",
       "      <th>mb_sum</th>\n",
       "      <th>age</th>\n",
       "      <th>churn_date</th>\n",
       "      <th>city</th>\n",
       "      <th>first_name</th>\n",
       "      <th>last_name</th>\n",
       "      <th>reg_date</th>\n",
       "      <th>tariff</th>\n",
       "      <th>gb_sum</th>\n",
       "      <th>month_pay</th>\n",
       "    </tr>\n",
       "  </thead>\n",
       "  <tbody>\n",
       "    <tr>\n",
       "      <th>8</th>\n",
       "      <td>1001</td>\n",
       "      <td>11</td>\n",
       "      <td>59</td>\n",
       "      <td>430</td>\n",
       "      <td>0</td>\n",
       "      <td>18429</td>\n",
       "      <td>41</td>\n",
       "      <td>0</td>\n",
       "      <td>Москва</td>\n",
       "      <td>Иван</td>\n",
       "      <td>Ежов</td>\n",
       "      <td>2018-11-01</td>\n",
       "      <td>smart</td>\n",
       "      <td>18.0</td>\n",
       "      <td>1150.0</td>\n",
       "    </tr>\n",
       "    <tr>\n",
       "      <th>9</th>\n",
       "      <td>1001</td>\n",
       "      <td>12</td>\n",
       "      <td>63</td>\n",
       "      <td>414</td>\n",
       "      <td>0</td>\n",
       "      <td>14036</td>\n",
       "      <td>41</td>\n",
       "      <td>0</td>\n",
       "      <td>Москва</td>\n",
       "      <td>Иван</td>\n",
       "      <td>Ежов</td>\n",
       "      <td>2018-11-01</td>\n",
       "      <td>smart</td>\n",
       "      <td>14.0</td>\n",
       "      <td>550.0</td>\n",
       "    </tr>\n",
       "    <tr>\n",
       "      <th>10</th>\n",
       "      <td>1002</td>\n",
       "      <td>6</td>\n",
       "      <td>15</td>\n",
       "      <td>117</td>\n",
       "      <td>4</td>\n",
       "      <td>10856</td>\n",
       "      <td>59</td>\n",
       "      <td>0</td>\n",
       "      <td>Стерлитамак</td>\n",
       "      <td>Евгений</td>\n",
       "      <td>Абрамович</td>\n",
       "      <td>2018-06-17</td>\n",
       "      <td>smart</td>\n",
       "      <td>11.0</td>\n",
       "      <td>550.0</td>\n",
       "    </tr>\n",
       "  </tbody>\n",
       "</table>\n",
       "</div>"
      ],
      "text/plain": [
       "    user_id  month  calls_count  calls_sum  mess_count  mb_sum  age  \\\n",
       "8      1001     11           59        430           0   18429   41   \n",
       "9      1001     12           63        414           0   14036   41   \n",
       "10     1002      6           15        117           4   10856   59   \n",
       "\n",
       "   churn_date         city first_name  last_name    reg_date tariff  gb_sum  \\\n",
       "8           0       Москва       Иван       Ежов  2018-11-01  smart    18.0   \n",
       "9           0       Москва       Иван       Ежов  2018-11-01  smart    14.0   \n",
       "10          0  Стерлитамак    Евгений  Абрамович  2018-06-17  smart    11.0   \n",
       "\n",
       "    month_pay  \n",
       "8      1150.0  \n",
       "9       550.0  \n",
       "10      550.0  "
      ]
     },
     "execution_count": 48,
     "metadata": {},
     "output_type": "execute_result"
    }
   ],
   "source": [
    "# тариф smart\n",
    "df_all_smart = df_all[df_all['tariff'] == 'smart']\n",
    "df_all_smart.head(3)"
   ]
  },
  {
   "cell_type": "code",
   "execution_count": 49,
   "metadata": {},
   "outputs": [
    {
     "data": {
      "text/html": [
       "<div>\n",
       "<style scoped>\n",
       "    .dataframe tbody tr th:only-of-type {\n",
       "        vertical-align: middle;\n",
       "    }\n",
       "\n",
       "    .dataframe tbody tr th {\n",
       "        vertical-align: top;\n",
       "    }\n",
       "\n",
       "    .dataframe thead th {\n",
       "        text-align: right;\n",
       "    }\n",
       "</style>\n",
       "<table border=\"1\" class=\"dataframe\">\n",
       "  <thead>\n",
       "    <tr style=\"text-align: right;\">\n",
       "      <th></th>\n",
       "      <th>user_id</th>\n",
       "      <th>month</th>\n",
       "      <th>calls_count</th>\n",
       "      <th>calls_sum</th>\n",
       "      <th>mess_count</th>\n",
       "      <th>mb_sum</th>\n",
       "      <th>age</th>\n",
       "      <th>churn_date</th>\n",
       "      <th>city</th>\n",
       "      <th>first_name</th>\n",
       "      <th>last_name</th>\n",
       "      <th>reg_date</th>\n",
       "      <th>tariff</th>\n",
       "      <th>gb_sum</th>\n",
       "      <th>month_pay</th>\n",
       "    </tr>\n",
       "  </thead>\n",
       "  <tbody>\n",
       "    <tr>\n",
       "      <th>0</th>\n",
       "      <td>1000</td>\n",
       "      <td>5</td>\n",
       "      <td>22</td>\n",
       "      <td>159</td>\n",
       "      <td>22</td>\n",
       "      <td>2253</td>\n",
       "      <td>52</td>\n",
       "      <td>0</td>\n",
       "      <td>Краснодар</td>\n",
       "      <td>Рафаил</td>\n",
       "      <td>Верещагин</td>\n",
       "      <td>2018-05-25</td>\n",
       "      <td>ultra</td>\n",
       "      <td>3.0</td>\n",
       "      <td>1950.0</td>\n",
       "    </tr>\n",
       "    <tr>\n",
       "      <th>1</th>\n",
       "      <td>1000</td>\n",
       "      <td>6</td>\n",
       "      <td>43</td>\n",
       "      <td>172</td>\n",
       "      <td>60</td>\n",
       "      <td>23233</td>\n",
       "      <td>52</td>\n",
       "      <td>0</td>\n",
       "      <td>Краснодар</td>\n",
       "      <td>Рафаил</td>\n",
       "      <td>Верещагин</td>\n",
       "      <td>2018-05-25</td>\n",
       "      <td>ultra</td>\n",
       "      <td>23.0</td>\n",
       "      <td>1950.0</td>\n",
       "    </tr>\n",
       "    <tr>\n",
       "      <th>2</th>\n",
       "      <td>1000</td>\n",
       "      <td>7</td>\n",
       "      <td>47</td>\n",
       "      <td>340</td>\n",
       "      <td>75</td>\n",
       "      <td>14003</td>\n",
       "      <td>52</td>\n",
       "      <td>0</td>\n",
       "      <td>Краснодар</td>\n",
       "      <td>Рафаил</td>\n",
       "      <td>Верещагин</td>\n",
       "      <td>2018-05-25</td>\n",
       "      <td>ultra</td>\n",
       "      <td>14.0</td>\n",
       "      <td>1950.0</td>\n",
       "    </tr>\n",
       "  </tbody>\n",
       "</table>\n",
       "</div>"
      ],
      "text/plain": [
       "   user_id  month  calls_count  calls_sum  mess_count  mb_sum  age churn_date  \\\n",
       "0     1000      5           22        159          22    2253   52          0   \n",
       "1     1000      6           43        172          60   23233   52          0   \n",
       "2     1000      7           47        340          75   14003   52          0   \n",
       "\n",
       "        city first_name  last_name    reg_date tariff  gb_sum  month_pay  \n",
       "0  Краснодар     Рафаил  Верещагин  2018-05-25  ultra     3.0     1950.0  \n",
       "1  Краснодар     Рафаил  Верещагин  2018-05-25  ultra    23.0     1950.0  \n",
       "2  Краснодар     Рафаил  Верещагин  2018-05-25  ultra    14.0     1950.0  "
      ]
     },
     "execution_count": 49,
     "metadata": {},
     "output_type": "execute_result"
    }
   ],
   "source": [
    "# тариф ultra\n",
    "df_all_ultra = df_all[df_all['tariff'] == 'ultra']\n",
    "df_all_ultra.head(3)"
   ]
  },
  {
   "cell_type": "markdown",
   "metadata": {},
   "source": [
    "### Рассчет средних показателей для тарифа Smart"
   ]
  },
  {
   "cell_type": "markdown",
   "metadata": {},
   "source": [
    "* среднего\n",
    "* стандартного отклонения\n",
    "* дисперсии"
   ]
  },
  {
   "cell_type": "code",
   "execution_count": 50,
   "metadata": {
    "scrolled": true
   },
   "outputs": [
    {
     "data": {
      "text/html": [
       "<div>\n",
       "<style scoped>\n",
       "    .dataframe tbody tr th:only-of-type {\n",
       "        vertical-align: middle;\n",
       "    }\n",
       "\n",
       "    .dataframe tbody tr th {\n",
       "        vertical-align: top;\n",
       "    }\n",
       "\n",
       "    .dataframe thead tr th {\n",
       "        text-align: left;\n",
       "    }\n",
       "</style>\n",
       "<table border=\"1\" class=\"dataframe\">\n",
       "  <thead>\n",
       "    <tr>\n",
       "      <th></th>\n",
       "      <th>month</th>\n",
       "      <th colspan=\"4\" halign=\"left\">mean</th>\n",
       "      <th colspan=\"4\" halign=\"left\">std</th>\n",
       "      <th colspan=\"4\" halign=\"left\">var</th>\n",
       "    </tr>\n",
       "    <tr>\n",
       "      <th></th>\n",
       "      <th></th>\n",
       "      <th>calls_sum</th>\n",
       "      <th>gb_sum</th>\n",
       "      <th>mess_count</th>\n",
       "      <th>month_pay</th>\n",
       "      <th>calls_sum</th>\n",
       "      <th>gb_sum</th>\n",
       "      <th>mess_count</th>\n",
       "      <th>month_pay</th>\n",
       "      <th>calls_sum</th>\n",
       "      <th>gb_sum</th>\n",
       "      <th>mess_count</th>\n",
       "      <th>month_pay</th>\n",
       "    </tr>\n",
       "  </thead>\n",
       "  <tbody>\n",
       "    <tr>\n",
       "      <th>0</th>\n",
       "      <td>0</td>\n",
       "      <td>0.0</td>\n",
       "      <td>0.0</td>\n",
       "      <td>0.0</td>\n",
       "      <td>550.0</td>\n",
       "      <td>NaN</td>\n",
       "      <td>NaN</td>\n",
       "      <td>NaN</td>\n",
       "      <td>NaN</td>\n",
       "      <td>NaN</td>\n",
       "      <td>NaN</td>\n",
       "      <td>NaN</td>\n",
       "      <td>NaN</td>\n",
       "    </tr>\n",
       "    <tr>\n",
       "      <th>1</th>\n",
       "      <td>1</td>\n",
       "      <td>204.0</td>\n",
       "      <td>9.0</td>\n",
       "      <td>18.0</td>\n",
       "      <td>726.0</td>\n",
       "      <td>154.0</td>\n",
       "      <td>6.0</td>\n",
       "      <td>16.0</td>\n",
       "      <td>444.0</td>\n",
       "      <td>23787.0</td>\n",
       "      <td>39.0</td>\n",
       "      <td>262.0</td>\n",
       "      <td>196744.0</td>\n",
       "    </tr>\n",
       "    <tr>\n",
       "      <th>2</th>\n",
       "      <td>2</td>\n",
       "      <td>299.0</td>\n",
       "      <td>12.0</td>\n",
       "      <td>24.0</td>\n",
       "      <td>882.0</td>\n",
       "      <td>191.0</td>\n",
       "      <td>6.0</td>\n",
       "      <td>22.0</td>\n",
       "      <td>692.0</td>\n",
       "      <td>36412.0</td>\n",
       "      <td>37.0</td>\n",
       "      <td>473.0</td>\n",
       "      <td>478306.0</td>\n",
       "    </tr>\n",
       "    <tr>\n",
       "      <th>3</th>\n",
       "      <td>3</td>\n",
       "      <td>390.0</td>\n",
       "      <td>15.0</td>\n",
       "      <td>32.0</td>\n",
       "      <td>1300.0</td>\n",
       "      <td>192.0</td>\n",
       "      <td>6.0</td>\n",
       "      <td>27.0</td>\n",
       "      <td>912.0</td>\n",
       "      <td>36823.0</td>\n",
       "      <td>33.0</td>\n",
       "      <td>718.0</td>\n",
       "      <td>832475.0</td>\n",
       "    </tr>\n",
       "    <tr>\n",
       "      <th>4</th>\n",
       "      <td>4</td>\n",
       "      <td>367.0</td>\n",
       "      <td>14.0</td>\n",
       "      <td>31.0</td>\n",
       "      <td>1058.0</td>\n",
       "      <td>186.0</td>\n",
       "      <td>6.0</td>\n",
       "      <td>25.0</td>\n",
       "      <td>717.0</td>\n",
       "      <td>34778.0</td>\n",
       "      <td>31.0</td>\n",
       "      <td>602.0</td>\n",
       "      <td>514719.0</td>\n",
       "    </tr>\n",
       "    <tr>\n",
       "      <th>5</th>\n",
       "      <td>5</td>\n",
       "      <td>387.0</td>\n",
       "      <td>16.0</td>\n",
       "      <td>34.0</td>\n",
       "      <td>1314.0</td>\n",
       "      <td>187.0</td>\n",
       "      <td>6.0</td>\n",
       "      <td>27.0</td>\n",
       "      <td>878.0</td>\n",
       "      <td>34820.0</td>\n",
       "      <td>34.0</td>\n",
       "      <td>731.0</td>\n",
       "      <td>771247.0</td>\n",
       "    </tr>\n",
       "    <tr>\n",
       "      <th>6</th>\n",
       "      <td>6</td>\n",
       "      <td>396.0</td>\n",
       "      <td>16.0</td>\n",
       "      <td>33.0</td>\n",
       "      <td>1308.0</td>\n",
       "      <td>175.0</td>\n",
       "      <td>6.0</td>\n",
       "      <td>28.0</td>\n",
       "      <td>911.0</td>\n",
       "      <td>30743.0</td>\n",
       "      <td>32.0</td>\n",
       "      <td>807.0</td>\n",
       "      <td>829347.0</td>\n",
       "    </tr>\n",
       "    <tr>\n",
       "      <th>7</th>\n",
       "      <td>7</td>\n",
       "      <td>408.0</td>\n",
       "      <td>16.0</td>\n",
       "      <td>34.0</td>\n",
       "      <td>1352.0</td>\n",
       "      <td>180.0</td>\n",
       "      <td>6.0</td>\n",
       "      <td>28.0</td>\n",
       "      <td>908.0</td>\n",
       "      <td>32250.0</td>\n",
       "      <td>33.0</td>\n",
       "      <td>800.0</td>\n",
       "      <td>825007.0</td>\n",
       "    </tr>\n",
       "    <tr>\n",
       "      <th>8</th>\n",
       "      <td>8</td>\n",
       "      <td>421.0</td>\n",
       "      <td>17.0</td>\n",
       "      <td>34.0</td>\n",
       "      <td>1504.0</td>\n",
       "      <td>187.0</td>\n",
       "      <td>5.0</td>\n",
       "      <td>29.0</td>\n",
       "      <td>1054.0</td>\n",
       "      <td>34794.0</td>\n",
       "      <td>30.0</td>\n",
       "      <td>838.0</td>\n",
       "      <td>1111436.0</td>\n",
       "    </tr>\n",
       "    <tr>\n",
       "      <th>9</th>\n",
       "      <td>9</td>\n",
       "      <td>429.0</td>\n",
       "      <td>16.0</td>\n",
       "      <td>34.0</td>\n",
       "      <td>1427.0</td>\n",
       "      <td>183.0</td>\n",
       "      <td>5.0</td>\n",
       "      <td>28.0</td>\n",
       "      <td>1030.0</td>\n",
       "      <td>33535.0</td>\n",
       "      <td>26.0</td>\n",
       "      <td>791.0</td>\n",
       "      <td>1060618.0</td>\n",
       "    </tr>\n",
       "    <tr>\n",
       "      <th>10</th>\n",
       "      <td>10</td>\n",
       "      <td>426.0</td>\n",
       "      <td>17.0</td>\n",
       "      <td>34.0</td>\n",
       "      <td>1565.0</td>\n",
       "      <td>188.0</td>\n",
       "      <td>6.0</td>\n",
       "      <td>29.0</td>\n",
       "      <td>1150.0</td>\n",
       "      <td>35392.0</td>\n",
       "      <td>33.0</td>\n",
       "      <td>816.0</td>\n",
       "      <td>1321390.0</td>\n",
       "    </tr>\n",
       "    <tr>\n",
       "      <th>11</th>\n",
       "      <td>11</td>\n",
       "      <td>435.0</td>\n",
       "      <td>17.0</td>\n",
       "      <td>34.0</td>\n",
       "      <td>1521.0</td>\n",
       "      <td>178.0</td>\n",
       "      <td>5.0</td>\n",
       "      <td>28.0</td>\n",
       "      <td>1053.0</td>\n",
       "      <td>31605.0</td>\n",
       "      <td>27.0</td>\n",
       "      <td>806.0</td>\n",
       "      <td>1108076.0</td>\n",
       "    </tr>\n",
       "    <tr>\n",
       "      <th>12</th>\n",
       "      <td>12</td>\n",
       "      <td>479.0</td>\n",
       "      <td>18.0</td>\n",
       "      <td>36.0</td>\n",
       "      <td>1865.0</td>\n",
       "      <td>199.0</td>\n",
       "      <td>5.0</td>\n",
       "      <td>31.0</td>\n",
       "      <td>1538.0</td>\n",
       "      <td>39699.0</td>\n",
       "      <td>30.0</td>\n",
       "      <td>935.0</td>\n",
       "      <td>2364583.0</td>\n",
       "    </tr>\n",
       "  </tbody>\n",
       "</table>\n",
       "</div>"
      ],
      "text/plain": [
       "   month      mean                                   std                    \\\n",
       "         calls_sum gb_sum mess_count month_pay calls_sum gb_sum mess_count   \n",
       "0      0       0.0    0.0        0.0     550.0       NaN    NaN        NaN   \n",
       "1      1     204.0    9.0       18.0     726.0     154.0    6.0       16.0   \n",
       "2      2     299.0   12.0       24.0     882.0     191.0    6.0       22.0   \n",
       "3      3     390.0   15.0       32.0    1300.0     192.0    6.0       27.0   \n",
       "4      4     367.0   14.0       31.0    1058.0     186.0    6.0       25.0   \n",
       "5      5     387.0   16.0       34.0    1314.0     187.0    6.0       27.0   \n",
       "6      6     396.0   16.0       33.0    1308.0     175.0    6.0       28.0   \n",
       "7      7     408.0   16.0       34.0    1352.0     180.0    6.0       28.0   \n",
       "8      8     421.0   17.0       34.0    1504.0     187.0    5.0       29.0   \n",
       "9      9     429.0   16.0       34.0    1427.0     183.0    5.0       28.0   \n",
       "10    10     426.0   17.0       34.0    1565.0     188.0    6.0       29.0   \n",
       "11    11     435.0   17.0       34.0    1521.0     178.0    5.0       28.0   \n",
       "12    12     479.0   18.0       36.0    1865.0     199.0    5.0       31.0   \n",
       "\n",
       "                   var                               \n",
       "   month_pay calls_sum gb_sum mess_count  month_pay  \n",
       "0        NaN       NaN    NaN        NaN        NaN  \n",
       "1      444.0   23787.0   39.0      262.0   196744.0  \n",
       "2      692.0   36412.0   37.0      473.0   478306.0  \n",
       "3      912.0   36823.0   33.0      718.0   832475.0  \n",
       "4      717.0   34778.0   31.0      602.0   514719.0  \n",
       "5      878.0   34820.0   34.0      731.0   771247.0  \n",
       "6      911.0   30743.0   32.0      807.0   829347.0  \n",
       "7      908.0   32250.0   33.0      800.0   825007.0  \n",
       "8     1054.0   34794.0   30.0      838.0  1111436.0  \n",
       "9     1030.0   33535.0   26.0      791.0  1060618.0  \n",
       "10    1150.0   35392.0   33.0      816.0  1321390.0  \n",
       "11    1053.0   31605.0   27.0      806.0  1108076.0  \n",
       "12    1538.0   39699.0   30.0      935.0  2364583.0  "
      ]
     },
     "metadata": {},
     "output_type": "display_data"
    }
   ],
   "source": [
    "# количество израсходованного интернет-трафика по месяцам\n",
    "# gb_sum - количество израсходованных Гб по месяцам\n",
    "# проверим длину таблиц\n",
    "\n",
    "df_all_smart_pvt = df_all_smart.pivot_table(index=['month'], values=['calls_sum', 'mess_count', 'gb_sum', 'month_pay'], aggfunc=[np.mean, np.std, np.var] ).reset_index()\n",
    "#df_all_smart_pvt.columns = ['month', 'calls_mean', 'messages', 'internet', 'pay']\n",
    "\n",
    "display(df_all_smart_pvt.round(0))\n",
    "# проверим длину таблиц\n",
    "# print(len(df_all_smart_pvt))\n",
    "# print(len(df_all_smart))\n",
    "\n",
    "# сумма за год\n",
    "# print(df_all_smart['month_pay'].sum())"
   ]
  },
  {
   "cell_type": "markdown",
   "metadata": {},
   "source": [
    "### Рассчет средних показателей для тарифа Ultra"
   ]
  },
  {
   "cell_type": "markdown",
   "metadata": {},
   "source": [
    "* среднего\n",
    "* стандартного отклонения\n",
    "* дисперсии"
   ]
  },
  {
   "cell_type": "code",
   "execution_count": 51,
   "metadata": {},
   "outputs": [
    {
     "data": {
      "text/html": [
       "<div>\n",
       "<style scoped>\n",
       "    .dataframe tbody tr th:only-of-type {\n",
       "        vertical-align: middle;\n",
       "    }\n",
       "\n",
       "    .dataframe tbody tr th {\n",
       "        vertical-align: top;\n",
       "    }\n",
       "\n",
       "    .dataframe thead tr th {\n",
       "        text-align: left;\n",
       "    }\n",
       "</style>\n",
       "<table border=\"1\" class=\"dataframe\">\n",
       "  <thead>\n",
       "    <tr>\n",
       "      <th></th>\n",
       "      <th>month</th>\n",
       "      <th colspan=\"4\" halign=\"left\">mean</th>\n",
       "      <th colspan=\"4\" halign=\"left\">std</th>\n",
       "      <th colspan=\"4\" halign=\"left\">var</th>\n",
       "    </tr>\n",
       "    <tr>\n",
       "      <th></th>\n",
       "      <th></th>\n",
       "      <th>calls_sum</th>\n",
       "      <th>gb_sum</th>\n",
       "      <th>mess_count</th>\n",
       "      <th>month_pay</th>\n",
       "      <th>calls_sum</th>\n",
       "      <th>gb_sum</th>\n",
       "      <th>mess_count</th>\n",
       "      <th>month_pay</th>\n",
       "      <th>calls_sum</th>\n",
       "      <th>gb_sum</th>\n",
       "      <th>mess_count</th>\n",
       "      <th>month_pay</th>\n",
       "    </tr>\n",
       "  </thead>\n",
       "  <tbody>\n",
       "    <tr>\n",
       "      <th>0</th>\n",
       "      <td>0</td>\n",
       "      <td>0.0</td>\n",
       "      <td>0.0</td>\n",
       "      <td>0.0</td>\n",
       "      <td>1950.0</td>\n",
       "      <td>NaN</td>\n",
       "      <td>NaN</td>\n",
       "      <td>NaN</td>\n",
       "      <td>NaN</td>\n",
       "      <td>NaN</td>\n",
       "      <td>NaN</td>\n",
       "      <td>NaN</td>\n",
       "      <td>NaN</td>\n",
       "    </tr>\n",
       "    <tr>\n",
       "      <th>1</th>\n",
       "      <td>1</td>\n",
       "      <td>428.0</td>\n",
       "      <td>13.0</td>\n",
       "      <td>34.0</td>\n",
       "      <td>1950.0</td>\n",
       "      <td>270.0</td>\n",
       "      <td>7.0</td>\n",
       "      <td>31.0</td>\n",
       "      <td>0.0</td>\n",
       "      <td>72769.0</td>\n",
       "      <td>44.0</td>\n",
       "      <td>941.0</td>\n",
       "      <td>0.0</td>\n",
       "    </tr>\n",
       "    <tr>\n",
       "      <th>2</th>\n",
       "      <td>2</td>\n",
       "      <td>297.0</td>\n",
       "      <td>12.0</td>\n",
       "      <td>22.0</td>\n",
       "      <td>1975.0</td>\n",
       "      <td>297.0</td>\n",
       "      <td>10.0</td>\n",
       "      <td>27.0</td>\n",
       "      <td>85.0</td>\n",
       "      <td>87920.0</td>\n",
       "      <td>109.0</td>\n",
       "      <td>717.0</td>\n",
       "      <td>7174.0</td>\n",
       "    </tr>\n",
       "    <tr>\n",
       "      <th>3</th>\n",
       "      <td>3</td>\n",
       "      <td>490.0</td>\n",
       "      <td>18.0</td>\n",
       "      <td>32.0</td>\n",
       "      <td>2015.0</td>\n",
       "      <td>334.0</td>\n",
       "      <td>11.0</td>\n",
       "      <td>42.0</td>\n",
       "      <td>208.0</td>\n",
       "      <td>111385.0</td>\n",
       "      <td>114.0</td>\n",
       "      <td>1732.0</td>\n",
       "      <td>43176.0</td>\n",
       "    </tr>\n",
       "    <tr>\n",
       "      <th>4</th>\n",
       "      <td>4</td>\n",
       "      <td>458.0</td>\n",
       "      <td>17.0</td>\n",
       "      <td>32.0</td>\n",
       "      <td>2002.0</td>\n",
       "      <td>268.0</td>\n",
       "      <td>9.0</td>\n",
       "      <td>38.0</td>\n",
       "      <td>196.0</td>\n",
       "      <td>71654.0</td>\n",
       "      <td>89.0</td>\n",
       "      <td>1407.0</td>\n",
       "      <td>38515.0</td>\n",
       "    </tr>\n",
       "    <tr>\n",
       "      <th>5</th>\n",
       "      <td>5</td>\n",
       "      <td>510.0</td>\n",
       "      <td>19.0</td>\n",
       "      <td>38.0</td>\n",
       "      <td>2060.0</td>\n",
       "      <td>290.0</td>\n",
       "      <td>10.0</td>\n",
       "      <td>40.0</td>\n",
       "      <td>403.0</td>\n",
       "      <td>83870.0</td>\n",
       "      <td>96.0</td>\n",
       "      <td>1625.0</td>\n",
       "      <td>162670.0</td>\n",
       "    </tr>\n",
       "    <tr>\n",
       "      <th>6</th>\n",
       "      <td>6</td>\n",
       "      <td>480.0</td>\n",
       "      <td>19.0</td>\n",
       "      <td>42.0</td>\n",
       "      <td>2039.0</td>\n",
       "      <td>303.0</td>\n",
       "      <td>9.0</td>\n",
       "      <td>45.0</td>\n",
       "      <td>316.0</td>\n",
       "      <td>91536.0</td>\n",
       "      <td>82.0</td>\n",
       "      <td>1986.0</td>\n",
       "      <td>99824.0</td>\n",
       "    </tr>\n",
       "    <tr>\n",
       "      <th>7</th>\n",
       "      <td>7</td>\n",
       "      <td>546.0</td>\n",
       "      <td>21.0</td>\n",
       "      <td>50.0</td>\n",
       "      <td>2118.0</td>\n",
       "      <td>307.0</td>\n",
       "      <td>10.0</td>\n",
       "      <td>49.0</td>\n",
       "      <td>446.0</td>\n",
       "      <td>94322.0</td>\n",
       "      <td>96.0</td>\n",
       "      <td>2372.0</td>\n",
       "      <td>198918.0</td>\n",
       "    </tr>\n",
       "    <tr>\n",
       "      <th>8</th>\n",
       "      <td>8</td>\n",
       "      <td>511.0</td>\n",
       "      <td>20.0</td>\n",
       "      <td>48.0</td>\n",
       "      <td>2083.0</td>\n",
       "      <td>313.0</td>\n",
       "      <td>10.0</td>\n",
       "      <td>47.0</td>\n",
       "      <td>400.0</td>\n",
       "      <td>97956.0</td>\n",
       "      <td>105.0</td>\n",
       "      <td>2172.0</td>\n",
       "      <td>159762.0</td>\n",
       "    </tr>\n",
       "    <tr>\n",
       "      <th>9</th>\n",
       "      <td>9</td>\n",
       "      <td>539.0</td>\n",
       "      <td>19.0</td>\n",
       "      <td>52.0</td>\n",
       "      <td>2024.0</td>\n",
       "      <td>325.0</td>\n",
       "      <td>9.0</td>\n",
       "      <td>46.0</td>\n",
       "      <td>247.0</td>\n",
       "      <td>105717.0</td>\n",
       "      <td>86.0</td>\n",
       "      <td>2153.0</td>\n",
       "      <td>60937.0</td>\n",
       "    </tr>\n",
       "    <tr>\n",
       "      <th>10</th>\n",
       "      <td>10</td>\n",
       "      <td>558.0</td>\n",
       "      <td>20.0</td>\n",
       "      <td>58.0</td>\n",
       "      <td>2066.0</td>\n",
       "      <td>326.0</td>\n",
       "      <td>10.0</td>\n",
       "      <td>52.0</td>\n",
       "      <td>387.0</td>\n",
       "      <td>106465.0</td>\n",
       "      <td>91.0</td>\n",
       "      <td>2697.0</td>\n",
       "      <td>149685.0</td>\n",
       "    </tr>\n",
       "    <tr>\n",
       "      <th>11</th>\n",
       "      <td>11</td>\n",
       "      <td>541.0</td>\n",
       "      <td>20.0</td>\n",
       "      <td>56.0</td>\n",
       "      <td>2092.0</td>\n",
       "      <td>311.0</td>\n",
       "      <td>10.0</td>\n",
       "      <td>50.0</td>\n",
       "      <td>409.0</td>\n",
       "      <td>96570.0</td>\n",
       "      <td>94.0</td>\n",
       "      <td>2477.0</td>\n",
       "      <td>167589.0</td>\n",
       "    </tr>\n",
       "    <tr>\n",
       "      <th>12</th>\n",
       "      <td>12</td>\n",
       "      <td>593.0</td>\n",
       "      <td>22.0</td>\n",
       "      <td>61.0</td>\n",
       "      <td>2139.0</td>\n",
       "      <td>342.0</td>\n",
       "      <td>10.0</td>\n",
       "      <td>52.0</td>\n",
       "      <td>482.0</td>\n",
       "      <td>117276.0</td>\n",
       "      <td>103.0</td>\n",
       "      <td>2682.0</td>\n",
       "      <td>232610.0</td>\n",
       "    </tr>\n",
       "  </tbody>\n",
       "</table>\n",
       "</div>"
      ],
      "text/plain": [
       "   month      mean                                   std                    \\\n",
       "         calls_sum gb_sum mess_count month_pay calls_sum gb_sum mess_count   \n",
       "0      0       0.0    0.0        0.0    1950.0       NaN    NaN        NaN   \n",
       "1      1     428.0   13.0       34.0    1950.0     270.0    7.0       31.0   \n",
       "2      2     297.0   12.0       22.0    1975.0     297.0   10.0       27.0   \n",
       "3      3     490.0   18.0       32.0    2015.0     334.0   11.0       42.0   \n",
       "4      4     458.0   17.0       32.0    2002.0     268.0    9.0       38.0   \n",
       "5      5     510.0   19.0       38.0    2060.0     290.0   10.0       40.0   \n",
       "6      6     480.0   19.0       42.0    2039.0     303.0    9.0       45.0   \n",
       "7      7     546.0   21.0       50.0    2118.0     307.0   10.0       49.0   \n",
       "8      8     511.0   20.0       48.0    2083.0     313.0   10.0       47.0   \n",
       "9      9     539.0   19.0       52.0    2024.0     325.0    9.0       46.0   \n",
       "10    10     558.0   20.0       58.0    2066.0     326.0   10.0       52.0   \n",
       "11    11     541.0   20.0       56.0    2092.0     311.0   10.0       50.0   \n",
       "12    12     593.0   22.0       61.0    2139.0     342.0   10.0       52.0   \n",
       "\n",
       "                   var                              \n",
       "   month_pay calls_sum gb_sum mess_count month_pay  \n",
       "0        NaN       NaN    NaN        NaN       NaN  \n",
       "1        0.0   72769.0   44.0      941.0       0.0  \n",
       "2       85.0   87920.0  109.0      717.0    7174.0  \n",
       "3      208.0  111385.0  114.0     1732.0   43176.0  \n",
       "4      196.0   71654.0   89.0     1407.0   38515.0  \n",
       "5      403.0   83870.0   96.0     1625.0  162670.0  \n",
       "6      316.0   91536.0   82.0     1986.0   99824.0  \n",
       "7      446.0   94322.0   96.0     2372.0  198918.0  \n",
       "8      400.0   97956.0  105.0     2172.0  159762.0  \n",
       "9      247.0  105717.0   86.0     2153.0   60937.0  \n",
       "10     387.0  106465.0   91.0     2697.0  149685.0  \n",
       "11     409.0   96570.0   94.0     2477.0  167589.0  \n",
       "12     482.0  117276.0  103.0     2682.0  232610.0  "
      ]
     },
     "metadata": {},
     "output_type": "display_data"
    },
    {
     "name": "stdout",
     "output_type": "stream",
     "text": [
      "Сумма платежей по выборке за год, тариф Ultra 2041050.0\n"
     ]
    }
   ],
   "source": [
    "# количество израсходованного интернет-трафика по месяцам\n",
    "# gb_sum - количество израсходованных Гб по месяцам\n",
    "# проверим длину таблиц\n",
    "\n",
    "df_all_ultra_pvt = df_all_ultra.pivot_table(index=['month'], values=['calls_sum', 'mess_count', 'gb_sum', 'month_pay'], aggfunc=[np.mean, np.std, np.var] ).reset_index()\n",
    "#df_all_smart_pvt.columns = ['month', 'calls_mean', 'messages', 'internet', 'pay']\n",
    "\n",
    "\n",
    "display(df_all_ultra_pvt.round(0))\n",
    "# проверим длину таблиц\n",
    "#print(len(df_all_ultra_pvt))\n",
    "#print(len(df_all_ultra))\n",
    "\n",
    "# общая сумма платежей за год\n",
    "print('Сумма платежей по выборке за год, тариф Ultra', df_all_ultra['month_pay'].sum())"
   ]
  },
  {
   "cell_type": "markdown",
   "metadata": {},
   "source": [
    "### Анализ средних показателей для тарифа Smart"
   ]
  },
  {
   "cell_type": "markdown",
   "metadata": {},
   "source": [
    "Рассмотрим средние показатели"
   ]
  },
  {
   "cell_type": "code",
   "execution_count": 52,
   "metadata": {},
   "outputs": [
    {
     "data": {
      "text/html": [
       "<div>\n",
       "<style scoped>\n",
       "    .dataframe tbody tr th:only-of-type {\n",
       "        vertical-align: middle;\n",
       "    }\n",
       "\n",
       "    .dataframe tbody tr th {\n",
       "        vertical-align: top;\n",
       "    }\n",
       "\n",
       "    .dataframe thead th {\n",
       "        text-align: right;\n",
       "    }\n",
       "</style>\n",
       "<table border=\"1\" class=\"dataframe\">\n",
       "  <thead>\n",
       "    <tr style=\"text-align: right;\">\n",
       "      <th></th>\n",
       "      <th>Месяц</th>\n",
       "      <th>Звонки - 500 мин</th>\n",
       "      <th>Инт - 15гб</th>\n",
       "      <th>Смс - 50шт</th>\n",
       "      <th>Платеж - 550р</th>\n",
       "    </tr>\n",
       "  </thead>\n",
       "  <tbody>\n",
       "    <tr>\n",
       "      <th>0</th>\n",
       "      <td>0</td>\n",
       "      <td>0.0</td>\n",
       "      <td>0.0</td>\n",
       "      <td>0.0</td>\n",
       "      <td>550.0</td>\n",
       "    </tr>\n",
       "    <tr>\n",
       "      <th>1</th>\n",
       "      <td>1</td>\n",
       "      <td>204.0</td>\n",
       "      <td>9.0</td>\n",
       "      <td>18.0</td>\n",
       "      <td>726.0</td>\n",
       "    </tr>\n",
       "    <tr>\n",
       "      <th>2</th>\n",
       "      <td>2</td>\n",
       "      <td>299.0</td>\n",
       "      <td>12.0</td>\n",
       "      <td>24.0</td>\n",
       "      <td>882.0</td>\n",
       "    </tr>\n",
       "    <tr>\n",
       "      <th>3</th>\n",
       "      <td>3</td>\n",
       "      <td>390.0</td>\n",
       "      <td>15.0</td>\n",
       "      <td>32.0</td>\n",
       "      <td>1300.0</td>\n",
       "    </tr>\n",
       "    <tr>\n",
       "      <th>4</th>\n",
       "      <td>4</td>\n",
       "      <td>367.0</td>\n",
       "      <td>14.0</td>\n",
       "      <td>31.0</td>\n",
       "      <td>1058.0</td>\n",
       "    </tr>\n",
       "    <tr>\n",
       "      <th>5</th>\n",
       "      <td>5</td>\n",
       "      <td>387.0</td>\n",
       "      <td>16.0</td>\n",
       "      <td>34.0</td>\n",
       "      <td>1314.0</td>\n",
       "    </tr>\n",
       "    <tr>\n",
       "      <th>6</th>\n",
       "      <td>6</td>\n",
       "      <td>396.0</td>\n",
       "      <td>16.0</td>\n",
       "      <td>33.0</td>\n",
       "      <td>1308.0</td>\n",
       "    </tr>\n",
       "    <tr>\n",
       "      <th>7</th>\n",
       "      <td>7</td>\n",
       "      <td>408.0</td>\n",
       "      <td>16.0</td>\n",
       "      <td>34.0</td>\n",
       "      <td>1352.0</td>\n",
       "    </tr>\n",
       "    <tr>\n",
       "      <th>8</th>\n",
       "      <td>8</td>\n",
       "      <td>421.0</td>\n",
       "      <td>17.0</td>\n",
       "      <td>34.0</td>\n",
       "      <td>1504.0</td>\n",
       "    </tr>\n",
       "    <tr>\n",
       "      <th>9</th>\n",
       "      <td>9</td>\n",
       "      <td>429.0</td>\n",
       "      <td>16.0</td>\n",
       "      <td>34.0</td>\n",
       "      <td>1427.0</td>\n",
       "    </tr>\n",
       "    <tr>\n",
       "      <th>10</th>\n",
       "      <td>10</td>\n",
       "      <td>426.0</td>\n",
       "      <td>17.0</td>\n",
       "      <td>34.0</td>\n",
       "      <td>1565.0</td>\n",
       "    </tr>\n",
       "    <tr>\n",
       "      <th>11</th>\n",
       "      <td>11</td>\n",
       "      <td>435.0</td>\n",
       "      <td>17.0</td>\n",
       "      <td>34.0</td>\n",
       "      <td>1521.0</td>\n",
       "    </tr>\n",
       "    <tr>\n",
       "      <th>12</th>\n",
       "      <td>12</td>\n",
       "      <td>479.0</td>\n",
       "      <td>18.0</td>\n",
       "      <td>36.0</td>\n",
       "      <td>1865.0</td>\n",
       "    </tr>\n",
       "  </tbody>\n",
       "</table>\n",
       "</div>"
      ],
      "text/plain": [
       "    Месяц  Звонки - 500 мин  Инт - 15гб  Смс - 50шт  Платеж - 550р\n",
       "0       0               0.0         0.0         0.0          550.0\n",
       "1       1             204.0         9.0        18.0          726.0\n",
       "2       2             299.0        12.0        24.0          882.0\n",
       "3       3             390.0        15.0        32.0         1300.0\n",
       "4       4             367.0        14.0        31.0         1058.0\n",
       "5       5             387.0        16.0        34.0         1314.0\n",
       "6       6             396.0        16.0        33.0         1308.0\n",
       "7       7             408.0        16.0        34.0         1352.0\n",
       "8       8             421.0        17.0        34.0         1504.0\n",
       "9       9             429.0        16.0        34.0         1427.0\n",
       "10     10             426.0        17.0        34.0         1565.0\n",
       "11     11             435.0        17.0        34.0         1521.0\n",
       "12     12             479.0        18.0        36.0         1865.0"
      ]
     },
     "metadata": {},
     "output_type": "display_data"
    },
    {
     "name": "stdout",
     "output_type": "stream",
     "text": [
      "Сумма платежей по выборке за год, тариф Smart 16373.0\n"
     ]
    }
   ],
   "source": [
    "# средние показатели для тарифа Smart\n",
    "\n",
    "df_all_smart_pvt = df_all_smart.pivot_table(index=['month'], values=['calls_sum', 'mess_count', 'gb_sum', 'month_pay'], aggfunc=[np.mean] ).reset_index()\n",
    "df_all_smart_pvt.columns = ['Месяц', 'Звонки - 500 мин', 'Инт - 15гб', 'Смс - 50шт', 'Платеж - 550р']\n",
    "\n",
    "display(df_all_smart_pvt.round(0))\n",
    "\n",
    "# сумма за год Smart\n",
    "print('Сумма платежей по выборке за год, тариф Smart', df_all_smart_pvt['Платеж - 550р'].sum().round(0))"
   ]
  },
  {
   "cell_type": "markdown",
   "metadata": {},
   "source": [
    "### Выводы для тарифа Smart"
   ]
  },
  {
   "cell_type": "markdown",
   "metadata": {},
   "source": [
    "* наблюдается постепенное нарастание активности к концу года, из средних величин хорошо видно, что активность по всем показателям в январе минимальная, а в конце года (особенно декабрь) максимальная.\n",
    "\n",
    "* в среднем пользователи укладываются в 550 минут в месяц, максимальное среднее значение 478 минут в месяц, при стандартном отклонении 374 минуты\n",
    "\n",
    "* по всем месяцам наблюдается превышение использование интернет трафика, при этом начиная с марта превышение состовляет больше чем в два раза"
   ]
  },
  {
   "cell_type": "markdown",
   "metadata": {},
   "source": [
    "### Графики для тарифа Smart"
   ]
  },
  {
   "cell_type": "markdown",
   "metadata": {},
   "source": [
    "import matplotlib.pyplot as plt"
   ]
  },
  {
   "cell_type": "code",
   "execution_count": 53,
   "metadata": {},
   "outputs": [
    {
     "data": {
      "text/plain": [
       "<Axes: >"
      ]
     },
     "metadata": {},
     "output_type": "display_data"
    },
    {
     "data": {
      "image/png": "[encoded data removed]",
      "text/plain": [
       "<Figure size 640x480 with 1 Axes>"
      ]
     },
     "metadata": {},
     "output_type": "display_data"
    }
   ],
   "source": [
    "display(df_all_smart_pvt['Звонки - 500 мин'].hist())\n",
    "pl.suptitle(\"Тариф Smart - Звонки\");\n"
   ]
  },
  {
   "cell_type": "code",
   "execution_count": 54,
   "metadata": {
    "scrolled": true
   },
   "outputs": [
    {
     "data": {
      "text/plain": [
       "<Axes: >"
      ]
     },
     "metadata": {},
     "output_type": "display_data"
    },
    {
     "data": {
      "image/png": "[encoded data removed]",
      "text/plain": [
       "<Figure size 640x480 with 1 Axes>"
      ]
     },
     "metadata": {},
     "output_type": "display_data"
    }
   ],
   "source": [
    "display(df_all_smart_pvt['Инт - 15гб'].hist())\n",
    "pl.suptitle(\"Тариф Smart - Интернет\");\n"
   ]
  },
  {
   "cell_type": "code",
   "execution_count": 55,
   "metadata": {},
   "outputs": [
    {
     "data": {
      "text/plain": [
       "<Axes: >"
      ]
     },
     "metadata": {},
     "output_type": "display_data"
    },
    {
     "data": {
      "image/png": "[encoded data removed]",
      "text/plain": [
       "<Figure size 640x480 with 1 Axes>"
      ]
     },
     "metadata": {},
     "output_type": "display_data"
    }
   ],
   "source": [
    "display(df_all_smart_pvt['Смс - 50шт'].hist())\n",
    "pl.suptitle(\"Тариф Smart - Сообщения\");"
   ]
  },
  {
   "cell_type": "code",
   "execution_count": 56,
   "metadata": {},
   "outputs": [
    {
     "data": {
      "text/plain": [
       "<Axes: >"
      ]
     },
     "metadata": {},
     "output_type": "display_data"
    },
    {
     "data": {
      "image/png": "[encoded data removed]",
      "text/plain": [
       "<Figure size 640x480 with 1 Axes>"
      ]
     },
     "metadata": {},
     "output_type": "display_data"
    }
   ],
   "source": [
    "display(df_all_smart_pvt['Платеж - 550р'].hist())\n",
    "pl.suptitle(\"Тариф Smart - Платежи\");"
   ]
  },
  {
   "cell_type": "markdown",
   "metadata": {},
   "source": [
    "### Анализ средних показателей для тарифа Ultra"
   ]
  },
  {
   "cell_type": "code",
   "execution_count": 57,
   "metadata": {},
   "outputs": [
    {
     "data": {
      "text/html": [
       "<div>\n",
       "<style scoped>\n",
       "    .dataframe tbody tr th:only-of-type {\n",
       "        vertical-align: middle;\n",
       "    }\n",
       "\n",
       "    .dataframe tbody tr th {\n",
       "        vertical-align: top;\n",
       "    }\n",
       "\n",
       "    .dataframe thead th {\n",
       "        text-align: right;\n",
       "    }\n",
       "</style>\n",
       "<table border=\"1\" class=\"dataframe\">\n",
       "  <thead>\n",
       "    <tr style=\"text-align: right;\">\n",
       "      <th></th>\n",
       "      <th>Месяц</th>\n",
       "      <th>Звонки - 3000мин</th>\n",
       "      <th>Инт - 30гб</th>\n",
       "      <th>СМС - 1000</th>\n",
       "      <th>Платежи - 1950р</th>\n",
       "    </tr>\n",
       "  </thead>\n",
       "  <tbody>\n",
       "    <tr>\n",
       "      <th>0</th>\n",
       "      <td>0</td>\n",
       "      <td>0.0</td>\n",
       "      <td>0.0</td>\n",
       "      <td>0.0</td>\n",
       "      <td>1950.0</td>\n",
       "    </tr>\n",
       "    <tr>\n",
       "      <th>1</th>\n",
       "      <td>1</td>\n",
       "      <td>428.0</td>\n",
       "      <td>13.0</td>\n",
       "      <td>34.0</td>\n",
       "      <td>1950.0</td>\n",
       "    </tr>\n",
       "    <tr>\n",
       "      <th>2</th>\n",
       "      <td>2</td>\n",
       "      <td>297.0</td>\n",
       "      <td>12.0</td>\n",
       "      <td>22.0</td>\n",
       "      <td>1975.0</td>\n",
       "    </tr>\n",
       "    <tr>\n",
       "      <th>3</th>\n",
       "      <td>3</td>\n",
       "      <td>490.0</td>\n",
       "      <td>18.0</td>\n",
       "      <td>32.0</td>\n",
       "      <td>2015.0</td>\n",
       "    </tr>\n",
       "    <tr>\n",
       "      <th>4</th>\n",
       "      <td>4</td>\n",
       "      <td>458.0</td>\n",
       "      <td>17.0</td>\n",
       "      <td>32.0</td>\n",
       "      <td>2002.0</td>\n",
       "    </tr>\n",
       "    <tr>\n",
       "      <th>5</th>\n",
       "      <td>5</td>\n",
       "      <td>510.0</td>\n",
       "      <td>19.0</td>\n",
       "      <td>38.0</td>\n",
       "      <td>2060.0</td>\n",
       "    </tr>\n",
       "    <tr>\n",
       "      <th>6</th>\n",
       "      <td>6</td>\n",
       "      <td>480.0</td>\n",
       "      <td>19.0</td>\n",
       "      <td>42.0</td>\n",
       "      <td>2039.0</td>\n",
       "    </tr>\n",
       "    <tr>\n",
       "      <th>7</th>\n",
       "      <td>7</td>\n",
       "      <td>546.0</td>\n",
       "      <td>21.0</td>\n",
       "      <td>50.0</td>\n",
       "      <td>2118.0</td>\n",
       "    </tr>\n",
       "    <tr>\n",
       "      <th>8</th>\n",
       "      <td>8</td>\n",
       "      <td>511.0</td>\n",
       "      <td>20.0</td>\n",
       "      <td>48.0</td>\n",
       "      <td>2083.0</td>\n",
       "    </tr>\n",
       "    <tr>\n",
       "      <th>9</th>\n",
       "      <td>9</td>\n",
       "      <td>539.0</td>\n",
       "      <td>19.0</td>\n",
       "      <td>52.0</td>\n",
       "      <td>2024.0</td>\n",
       "    </tr>\n",
       "    <tr>\n",
       "      <th>10</th>\n",
       "      <td>10</td>\n",
       "      <td>558.0</td>\n",
       "      <td>20.0</td>\n",
       "      <td>58.0</td>\n",
       "      <td>2066.0</td>\n",
       "    </tr>\n",
       "    <tr>\n",
       "      <th>11</th>\n",
       "      <td>11</td>\n",
       "      <td>541.0</td>\n",
       "      <td>20.0</td>\n",
       "      <td>56.0</td>\n",
       "      <td>2092.0</td>\n",
       "    </tr>\n",
       "    <tr>\n",
       "      <th>12</th>\n",
       "      <td>12</td>\n",
       "      <td>593.0</td>\n",
       "      <td>22.0</td>\n",
       "      <td>61.0</td>\n",
       "      <td>2139.0</td>\n",
       "    </tr>\n",
       "  </tbody>\n",
       "</table>\n",
       "</div>"
      ],
      "text/plain": [
       "    Месяц  Звонки - 3000мин  Инт - 30гб  СМС - 1000  Платежи - 1950р\n",
       "0       0               0.0         0.0         0.0           1950.0\n",
       "1       1             428.0        13.0        34.0           1950.0\n",
       "2       2             297.0        12.0        22.0           1975.0\n",
       "3       3             490.0        18.0        32.0           2015.0\n",
       "4       4             458.0        17.0        32.0           2002.0\n",
       "5       5             510.0        19.0        38.0           2060.0\n",
       "6       6             480.0        19.0        42.0           2039.0\n",
       "7       7             546.0        21.0        50.0           2118.0\n",
       "8       8             511.0        20.0        48.0           2083.0\n",
       "9       9             539.0        19.0        52.0           2024.0\n",
       "10     10             558.0        20.0        58.0           2066.0\n",
       "11     11             541.0        20.0        56.0           2092.0\n",
       "12     12             593.0        22.0        61.0           2139.0"
      ]
     },
     "metadata": {},
     "output_type": "display_data"
    },
    {
     "name": "stdout",
     "output_type": "stream",
     "text": [
      "Сумма платежей по выборке за год, тариф Ultra 26513.0\n"
     ]
    }
   ],
   "source": [
    "# средние показатели для тарифа Ultra\n",
    "\n",
    "df_all_ultra_pvt = df_all_ultra.pivot_table(index=['month'], values=['calls_sum', 'mess_count', 'gb_sum', 'month_pay'], aggfunc=[np.mean] ).reset_index()\n",
    "df_all_ultra_pvt.columns = ['Месяц', 'Звонки - 3000мин', 'Инт - 30гб', 'СМС - 1000', 'Платежи - 1950р']\n",
    "\n",
    "display(df_all_ultra_pvt.round(0))\n",
    "\n",
    "# сумма за год Ultra\n",
    "print('Сумма платежей по выборке за год, тариф Ultra', df_all_ultra_pvt['Платежи - 1950р'].sum().round(0))"
   ]
  },
  {
   "cell_type": "markdown",
   "metadata": {},
   "source": [
    "### Выводы для тарифа Ultra"
   ]
  },
  {
   "cell_type": "markdown",
   "metadata": {},
   "source": [
    "* наблюдается постепенное нарастание активности к концу года, из средних величин хорошо видно, что активность по всем показателям в январе минимальная, а в конце года (особенно декабрь) максимальная.\n",
    "\n",
    "* все пользователи укладываются в 3000 минут в месяц, максимальное среднее значение 592 минуты в месяц, при стандартном отклонении 342 минуты\n",
    "\n",
    "* по всем месяцам наблюдается превышение использование интернет трафика, однако в отличии от тарифа Смарт ни по одному месяцу нет привышения в два раза"
   ]
  },
  {
   "cell_type": "markdown",
   "metadata": {},
   "source": [
    "### Графики для тарифа Ultra"
   ]
  },
  {
   "cell_type": "code",
   "execution_count": 58,
   "metadata": {},
   "outputs": [
    {
     "data": {
      "text/plain": [
       "<Axes: >"
      ]
     },
     "metadata": {},
     "output_type": "display_data"
    },
    {
     "data": {
      "image/png": "[encoded data removed]",
      "text/plain": [
       "<Figure size 640x480 with 1 Axes>"
      ]
     },
     "metadata": {},
     "output_type": "display_data"
    }
   ],
   "source": [
    "display(df_all_ultra_pvt['Звонки - 3000мин'].hist())\n",
    "pl.suptitle(\"Тариф Ultra - Звонки\");"
   ]
  },
  {
   "cell_type": "code",
   "execution_count": 59,
   "metadata": {},
   "outputs": [
    {
     "data": {
      "text/plain": [
       "<Axes: >"
      ]
     },
     "metadata": {},
     "output_type": "display_data"
    },
    {
     "data": {
      "image/png": "[encoded data removed]",
      "text/plain": [
       "<Figure size 640x480 with 1 Axes>"
      ]
     },
     "metadata": {},
     "output_type": "display_data"
    }
   ],
   "source": [
    "display(df_all_ultra_pvt['Инт - 30гб'].hist())\n",
    "pl.suptitle(\"Тариф Ultra - Интернет\");"
   ]
  },
  {
   "cell_type": "code",
   "execution_count": 60,
   "metadata": {},
   "outputs": [
    {
     "data": {
      "text/plain": [
       "<Axes: >"
      ]
     },
     "metadata": {},
     "output_type": "display_data"
    },
    {
     "data": {
      "image/png": "[encoded data removed]",
      "text/plain": [
       "<Figure size 640x480 with 1 Axes>"
      ]
     },
     "metadata": {},
     "output_type": "display_data"
    }
   ],
   "source": [
    "display(df_all_ultra_pvt['СМС - 1000'].hist())\n",
    "pl.suptitle(\"Тариф Ultra - СМС\");"
   ]
  },
  {
   "cell_type": "code",
   "execution_count": 61,
   "metadata": {
    "scrolled": false
   },
   "outputs": [
    {
     "data": {
      "text/plain": [
       "<Axes: >"
      ]
     },
     "metadata": {},
     "output_type": "display_data"
    },
    {
     "data": {
      "image/png": "[encoded data removed]",
      "text/plain": [
       "<Figure size 640x480 with 1 Axes>"
      ]
     },
     "metadata": {},
     "output_type": "display_data"
    }
   ],
   "source": [
    "display(df_all_ultra_pvt['Платежи - 1950р'].hist())\n",
    "pl.suptitle(\"Тариф Ultra - Платежи\");"
   ]
  },
  {
   "cell_type": "markdown",
   "metadata": {},
   "source": [
    "## Сравнение показателей для Москвы и других регионов"
   ]
  },
  {
   "cell_type": "markdown",
   "metadata": {},
   "source": [
    "Проверим гипотезу о том, что средняя выручка в Москве отличаются от других регионов."
   ]
  },
  {
   "cell_type": "markdown",
   "metadata": {},
   "source": [
    "Для начала, проверим данные на уникальность названия: Москва"
   ]
  },
  {
   "cell_type": "code",
   "execution_count": 62,
   "metadata": {
    "scrolled": true
   },
   "outputs": [
    {
     "name": "stdout",
     "output_type": "stream",
     "text": [
      "Архангельск\n",
      "Астрахань\n",
      "Балашиха\n",
      "Барнаул\n",
      "Белгород\n",
      "Брянск\n",
      "Владивосток\n",
      "Владикавказ\n",
      "Владимир\n",
      "Волгоград\n",
      "Волжский\n",
      "Вологда\n",
      "Воронеж\n",
      "Грозный\n",
      "Екатеринбург\n",
      "Иваново\n",
      "Ижевск\n",
      "Иркутск\n",
      "Казань\n",
      "Калининград\n",
      "Калуга\n",
      "Кемерово\n",
      "Киров\n",
      "Кострома\n",
      "Краснодар\n",
      "Красноярск\n",
      "Курган\n",
      "Курск\n",
      "Липецк\n",
      "Магнитогорск\n",
      "Махачкала\n",
      "Москва\n",
      "Мурманск\n",
      "Набережные Челны\n",
      "Нижневартовск\n",
      "Нижний Новгород\n",
      "Нижний Тагил\n",
      "Новокузнецк\n",
      "Новороссийск\n",
      "Новосибирск\n",
      "Омск\n",
      "Оренбург\n",
      "Орёл\n",
      "Пенза\n",
      "Пермь\n",
      "Петрозаводск\n",
      "Подольск\n",
      "Ростов-на-Дону\n",
      "Рязань\n",
      "Самара\n",
      "Санкт-Петербург\n",
      "Саранск\n",
      "Саратов\n",
      "Севастополь\n",
      "Смоленск\n",
      "Сочи\n",
      "Ставрополь\n",
      "Стерлитамак\n",
      "Сургут\n",
      "Тамбов\n",
      "Тверь\n",
      "Тольятти\n",
      "Томск\n",
      "Тула\n",
      "Тюмень\n",
      "Улан-Удэ\n",
      "Ульяновск\n",
      "Уфа\n",
      "Хабаровск\n",
      "Химки\n",
      "Чебоксары\n",
      "Челябинск\n",
      "Череповец\n",
      "Чита\n",
      "Якутск\n",
      "Ярославль\n"
     ]
    }
   ],
   "source": [
    "# уникальный список городов\n",
    "city_unique = (sorted(df_all['city'].unique()))\n",
    "for index in city_unique:\n",
    "    print(index)"
   ]
  },
  {
   "cell_type": "code",
   "execution_count": 63,
   "metadata": {},
   "outputs": [
    {
     "data": {
      "text/html": [
       "<div>\n",
       "<style scoped>\n",
       "    .dataframe tbody tr th:only-of-type {\n",
       "        vertical-align: middle;\n",
       "    }\n",
       "\n",
       "    .dataframe tbody tr th {\n",
       "        vertical-align: top;\n",
       "    }\n",
       "\n",
       "    .dataframe thead th {\n",
       "        text-align: right;\n",
       "    }\n",
       "</style>\n",
       "<table border=\"1\" class=\"dataframe\">\n",
       "  <thead>\n",
       "    <tr style=\"text-align: right;\">\n",
       "      <th></th>\n",
       "      <th>user_id</th>\n",
       "      <th>month</th>\n",
       "      <th>calls_count</th>\n",
       "      <th>calls_sum</th>\n",
       "      <th>mess_count</th>\n",
       "      <th>mb_sum</th>\n",
       "      <th>age</th>\n",
       "      <th>churn_date</th>\n",
       "      <th>city</th>\n",
       "      <th>first_name</th>\n",
       "      <th>last_name</th>\n",
       "      <th>reg_date</th>\n",
       "      <th>tariff</th>\n",
       "      <th>gb_sum</th>\n",
       "      <th>month_pay</th>\n",
       "    </tr>\n",
       "  </thead>\n",
       "  <tbody>\n",
       "    <tr>\n",
       "      <th>8</th>\n",
       "      <td>1001</td>\n",
       "      <td>11</td>\n",
       "      <td>59</td>\n",
       "      <td>430</td>\n",
       "      <td>0</td>\n",
       "      <td>18429</td>\n",
       "      <td>41</td>\n",
       "      <td>0</td>\n",
       "      <td>Москва</td>\n",
       "      <td>Иван</td>\n",
       "      <td>Ежов</td>\n",
       "      <td>2018-11-01</td>\n",
       "      <td>smart</td>\n",
       "      <td>18.0</td>\n",
       "      <td>1150.0</td>\n",
       "    </tr>\n",
       "    <tr>\n",
       "      <th>9</th>\n",
       "      <td>1001</td>\n",
       "      <td>12</td>\n",
       "      <td>63</td>\n",
       "      <td>414</td>\n",
       "      <td>0</td>\n",
       "      <td>14036</td>\n",
       "      <td>41</td>\n",
       "      <td>0</td>\n",
       "      <td>Москва</td>\n",
       "      <td>Иван</td>\n",
       "      <td>Ежов</td>\n",
       "      <td>2018-11-01</td>\n",
       "      <td>smart</td>\n",
       "      <td>14.0</td>\n",
       "      <td>550.0</td>\n",
       "    </tr>\n",
       "    <tr>\n",
       "      <th>17</th>\n",
       "      <td>1003</td>\n",
       "      <td>8</td>\n",
       "      <td>55</td>\n",
       "      <td>380</td>\n",
       "      <td>37</td>\n",
       "      <td>8565</td>\n",
       "      <td>23</td>\n",
       "      <td>0</td>\n",
       "      <td>Москва</td>\n",
       "      <td>Белла</td>\n",
       "      <td>Белякова</td>\n",
       "      <td>2018-08-17</td>\n",
       "      <td>ultra</td>\n",
       "      <td>9.0</td>\n",
       "      <td>1950.0</td>\n",
       "    </tr>\n",
       "  </tbody>\n",
       "</table>\n",
       "</div>"
      ],
      "text/plain": [
       "    user_id  month  calls_count  calls_sum  mess_count  mb_sum  age  \\\n",
       "8      1001     11           59        430           0   18429   41   \n",
       "9      1001     12           63        414           0   14036   41   \n",
       "17     1003      8           55        380          37    8565   23   \n",
       "\n",
       "   churn_date    city first_name last_name    reg_date tariff  gb_sum  \\\n",
       "8           0  Москва       Иван      Ежов  2018-11-01  smart    18.0   \n",
       "9           0  Москва       Иван      Ежов  2018-11-01  smart    14.0   \n",
       "17          0  Москва      Белла  Белякова  2018-08-17  ultra     9.0   \n",
       "\n",
       "    month_pay  \n",
       "8      1150.0  \n",
       "9       550.0  \n",
       "17     1950.0  "
      ]
     },
     "execution_count": 63,
     "metadata": {},
     "output_type": "execute_result"
    }
   ],
   "source": [
    "# создадим таблицу с данными по Москве\n",
    "# для этого воспользуемся методом query\n",
    "# тариф Смарт и Ультра - Москва\n",
    "\n",
    "df_all_msk   = df_all.query('city == \"Москва\"')\n",
    "df_all_other = df_all.query('city != \"Москва\"')\n",
    "\n",
    "df_all_msk.head(3)"
   ]
  },
  {
   "cell_type": "markdown",
   "metadata": {},
   "source": [
    "Создадим сводную таблицу с средними показателями по Москве."
   ]
  },
  {
   "cell_type": "code",
   "execution_count": 64,
   "metadata": {},
   "outputs": [
    {
     "data": {
      "text/html": [
       "<div>\n",
       "<style scoped>\n",
       "    .dataframe tbody tr th:only-of-type {\n",
       "        vertical-align: middle;\n",
       "    }\n",
       "\n",
       "    .dataframe tbody tr th {\n",
       "        vertical-align: top;\n",
       "    }\n",
       "\n",
       "    .dataframe thead th {\n",
       "        text-align: right;\n",
       "    }\n",
       "</style>\n",
       "<table border=\"1\" class=\"dataframe\">\n",
       "  <thead>\n",
       "    <tr style=\"text-align: right;\">\n",
       "      <th></th>\n",
       "      <th>Месяц</th>\n",
       "      <th>Звонки - Москва</th>\n",
       "      <th>СМС - Мск</th>\n",
       "      <th>Интернет - Мск</th>\n",
       "      <th>Платежи - Мск</th>\n",
       "    </tr>\n",
       "  </thead>\n",
       "  <tbody>\n",
       "    <tr>\n",
       "      <th>0</th>\n",
       "      <td>1</td>\n",
       "      <td>397.0</td>\n",
       "      <td>16.0</td>\n",
       "      <td>27.0</td>\n",
       "      <td>1475.0</td>\n",
       "    </tr>\n",
       "    <tr>\n",
       "      <th>1</th>\n",
       "      <td>2</td>\n",
       "      <td>358.0</td>\n",
       "      <td>16.0</td>\n",
       "      <td>22.0</td>\n",
       "      <td>1175.0</td>\n",
       "    </tr>\n",
       "    <tr>\n",
       "      <th>2</th>\n",
       "      <td>3</td>\n",
       "      <td>422.0</td>\n",
       "      <td>18.0</td>\n",
       "      <td>25.0</td>\n",
       "      <td>1689.0</td>\n",
       "    </tr>\n",
       "    <tr>\n",
       "      <th>3</th>\n",
       "      <td>4</td>\n",
       "      <td>403.0</td>\n",
       "      <td>17.0</td>\n",
       "      <td>28.0</td>\n",
       "      <td>1542.0</td>\n",
       "    </tr>\n",
       "    <tr>\n",
       "      <th>4</th>\n",
       "      <td>5</td>\n",
       "      <td>396.0</td>\n",
       "      <td>18.0</td>\n",
       "      <td>30.0</td>\n",
       "      <td>1496.0</td>\n",
       "    </tr>\n",
       "    <tr>\n",
       "      <th>5</th>\n",
       "      <td>6</td>\n",
       "      <td>420.0</td>\n",
       "      <td>17.0</td>\n",
       "      <td>32.0</td>\n",
       "      <td>1531.0</td>\n",
       "    </tr>\n",
       "    <tr>\n",
       "      <th>6</th>\n",
       "      <td>7</td>\n",
       "      <td>446.0</td>\n",
       "      <td>17.0</td>\n",
       "      <td>37.0</td>\n",
       "      <td>1492.0</td>\n",
       "    </tr>\n",
       "    <tr>\n",
       "      <th>7</th>\n",
       "      <td>8</td>\n",
       "      <td>486.0</td>\n",
       "      <td>19.0</td>\n",
       "      <td>39.0</td>\n",
       "      <td>1663.0</td>\n",
       "    </tr>\n",
       "    <tr>\n",
       "      <th>8</th>\n",
       "      <td>9</td>\n",
       "      <td>512.0</td>\n",
       "      <td>18.0</td>\n",
       "      <td>41.0</td>\n",
       "      <td>1605.0</td>\n",
       "    </tr>\n",
       "    <tr>\n",
       "      <th>9</th>\n",
       "      <td>10</td>\n",
       "      <td>479.0</td>\n",
       "      <td>18.0</td>\n",
       "      <td>42.0</td>\n",
       "      <td>1621.0</td>\n",
       "    </tr>\n",
       "    <tr>\n",
       "      <th>10</th>\n",
       "      <td>11</td>\n",
       "      <td>487.0</td>\n",
       "      <td>18.0</td>\n",
       "      <td>42.0</td>\n",
       "      <td>1692.0</td>\n",
       "    </tr>\n",
       "    <tr>\n",
       "      <th>11</th>\n",
       "      <td>12</td>\n",
       "      <td>522.0</td>\n",
       "      <td>19.0</td>\n",
       "      <td>44.0</td>\n",
       "      <td>1814.0</td>\n",
       "    </tr>\n",
       "  </tbody>\n",
       "</table>\n",
       "</div>"
      ],
      "text/plain": [
       "    Месяц  Звонки - Москва  СМС - Мск  Интернет - Мск  Платежи - Мск\n",
       "0       1            397.0       16.0            27.0         1475.0\n",
       "1       2            358.0       16.0            22.0         1175.0\n",
       "2       3            422.0       18.0            25.0         1689.0\n",
       "3       4            403.0       17.0            28.0         1542.0\n",
       "4       5            396.0       18.0            30.0         1496.0\n",
       "5       6            420.0       17.0            32.0         1531.0\n",
       "6       7            446.0       17.0            37.0         1492.0\n",
       "7       8            486.0       19.0            39.0         1663.0\n",
       "8       9            512.0       18.0            41.0         1605.0\n",
       "9      10            479.0       18.0            42.0         1621.0\n",
       "10     11            487.0       18.0            42.0         1692.0\n",
       "11     12            522.0       19.0            44.0         1814.0"
      ]
     },
     "metadata": {},
     "output_type": "display_data"
    }
   ],
   "source": [
    "df_all_msk_pvt = df_all_msk.pivot_table(index=['month'], values=['calls_sum', 'mess_count', 'gb_sum', 'month_pay'], aggfunc=[np.mean] ).reset_index()\n",
    "df_all_msk_pvt.columns = ['Месяц', 'Звонки - Москва', 'СМС - Мск', 'Интернет - Мск', 'Платежи - Мск']\n",
    "\n",
    "df_all_other_pvt = df_all_other.pivot_table(index=['month'], values=['calls_sum', 'mess_count', 'gb_sum', 'month_pay'], aggfunc=[np.mean] ).reset_index()\n",
    "df_all_other_pvt.columns = ['Месяц', 'Звонки - прочее', 'СМС - прочее', 'Интернет - прочее', 'Платежи - прочее']\n",
    "\n",
    "display(df_all_msk_pvt.round(0))"
   ]
  },
  {
   "cell_type": "code",
   "execution_count": 65,
   "metadata": {},
   "outputs": [
    {
     "data": {
      "text/html": [
       "<div>\n",
       "<style scoped>\n",
       "    .dataframe tbody tr th:only-of-type {\n",
       "        vertical-align: middle;\n",
       "    }\n",
       "\n",
       "    .dataframe tbody tr th {\n",
       "        vertical-align: top;\n",
       "    }\n",
       "\n",
       "    .dataframe thead th {\n",
       "        text-align: right;\n",
       "    }\n",
       "</style>\n",
       "<table border=\"1\" class=\"dataframe\">\n",
       "  <thead>\n",
       "    <tr style=\"text-align: right;\">\n",
       "      <th></th>\n",
       "      <th>Месяц</th>\n",
       "      <th>Звонки - прочее</th>\n",
       "      <th>СМС - прочее</th>\n",
       "      <th>Интернет - прочее</th>\n",
       "      <th>Платежи - прочее</th>\n",
       "    </tr>\n",
       "  </thead>\n",
       "  <tbody>\n",
       "    <tr>\n",
       "      <th>0</th>\n",
       "      <td>0</td>\n",
       "      <td>0.0</td>\n",
       "      <td>0.0</td>\n",
       "      <td>0.0</td>\n",
       "      <td>1250.0</td>\n",
       "    </tr>\n",
       "    <tr>\n",
       "      <th>1</th>\n",
       "      <td>1</td>\n",
       "      <td>217.0</td>\n",
       "      <td>8.0</td>\n",
       "      <td>20.0</td>\n",
       "      <td>869.0</td>\n",
       "    </tr>\n",
       "    <tr>\n",
       "      <th>2</th>\n",
       "      <td>2</td>\n",
       "      <td>286.0</td>\n",
       "      <td>11.0</td>\n",
       "      <td>24.0</td>\n",
       "      <td>1207.0</td>\n",
       "    </tr>\n",
       "    <tr>\n",
       "      <th>3</th>\n",
       "      <td>3</td>\n",
       "      <td>422.0</td>\n",
       "      <td>15.0</td>\n",
       "      <td>33.0</td>\n",
       "      <td>1498.0</td>\n",
       "    </tr>\n",
       "    <tr>\n",
       "      <th>4</th>\n",
       "      <td>4</td>\n",
       "      <td>396.0</td>\n",
       "      <td>14.0</td>\n",
       "      <td>32.0</td>\n",
       "      <td>1333.0</td>\n",
       "    </tr>\n",
       "    <tr>\n",
       "      <th>5</th>\n",
       "      <td>5</td>\n",
       "      <td>434.0</td>\n",
       "      <td>17.0</td>\n",
       "      <td>36.0</td>\n",
       "      <td>1568.0</td>\n",
       "    </tr>\n",
       "    <tr>\n",
       "      <th>6</th>\n",
       "      <td>6</td>\n",
       "      <td>425.0</td>\n",
       "      <td>17.0</td>\n",
       "      <td>37.0</td>\n",
       "      <td>1562.0</td>\n",
       "    </tr>\n",
       "    <tr>\n",
       "      <th>7</th>\n",
       "      <td>7</td>\n",
       "      <td>452.0</td>\n",
       "      <td>17.0</td>\n",
       "      <td>39.0</td>\n",
       "      <td>1614.0</td>\n",
       "    </tr>\n",
       "    <tr>\n",
       "      <th>8</th>\n",
       "      <td>8</td>\n",
       "      <td>441.0</td>\n",
       "      <td>17.0</td>\n",
       "      <td>38.0</td>\n",
       "      <td>1690.0</td>\n",
       "    </tr>\n",
       "    <tr>\n",
       "      <th>9</th>\n",
       "      <td>9</td>\n",
       "      <td>452.0</td>\n",
       "      <td>17.0</td>\n",
       "      <td>39.0</td>\n",
       "      <td>1611.0</td>\n",
       "    </tr>\n",
       "    <tr>\n",
       "      <th>10</th>\n",
       "      <td>10</td>\n",
       "      <td>462.0</td>\n",
       "      <td>18.0</td>\n",
       "      <td>41.0</td>\n",
       "      <td>1735.0</td>\n",
       "    </tr>\n",
       "    <tr>\n",
       "      <th>11</th>\n",
       "      <td>11</td>\n",
       "      <td>462.0</td>\n",
       "      <td>18.0</td>\n",
       "      <td>40.0</td>\n",
       "      <td>1691.0</td>\n",
       "    </tr>\n",
       "    <tr>\n",
       "      <th>12</th>\n",
       "      <td>12</td>\n",
       "      <td>509.0</td>\n",
       "      <td>19.0</td>\n",
       "      <td>43.0</td>\n",
       "      <td>1978.0</td>\n",
       "    </tr>\n",
       "  </tbody>\n",
       "</table>\n",
       "</div>"
      ],
      "text/plain": [
       "    Месяц  Звонки - прочее  СМС - прочее  Интернет - прочее  Платежи - прочее\n",
       "0       0              0.0           0.0                0.0            1250.0\n",
       "1       1            217.0           8.0               20.0             869.0\n",
       "2       2            286.0          11.0               24.0            1207.0\n",
       "3       3            422.0          15.0               33.0            1498.0\n",
       "4       4            396.0          14.0               32.0            1333.0\n",
       "5       5            434.0          17.0               36.0            1568.0\n",
       "6       6            425.0          17.0               37.0            1562.0\n",
       "7       7            452.0          17.0               39.0            1614.0\n",
       "8       8            441.0          17.0               38.0            1690.0\n",
       "9       9            452.0          17.0               39.0            1611.0\n",
       "10     10            462.0          18.0               41.0            1735.0\n",
       "11     11            462.0          18.0               40.0            1691.0\n",
       "12     12            509.0          19.0               43.0            1978.0"
      ]
     },
     "metadata": {},
     "output_type": "display_data"
    }
   ],
   "source": [
    "# другие города\n",
    "display(df_all_other_pvt.round(0))"
   ]
  },
  {
   "cell_type": "markdown",
   "metadata": {},
   "source": [
    "На основе полученных данных построим график, для сравнения выручки в Москве и других городах."
   ]
  },
  {
   "cell_type": "code",
   "execution_count": 66,
   "metadata": {
    "scrolled": true
   },
   "outputs": [
    {
     "data": {
      "text/plain": [
       "<Axes: ylabel='Frequency'>"
      ]
     },
     "execution_count": 66,
     "metadata": {},
     "output_type": "execute_result"
    },
    {
     "data": {
      "image/png": "[encoded data removed]",
      "text/plain": [
       "<Figure size 640x480 with 1 Axes>"
      ]
     },
     "metadata": {},
     "output_type": "display_data"
    }
   ],
   "source": [
    "ax = df_all_msk_pvt.plot(\n",
    "    kind='hist',\n",
    "    x='Месяц',\n",
    "    y='Платежи - Мск',\n",
    "    histtype='step',\n",
    "    range=(0, 1300),\n",
    "    bins=30,\n",
    "    linewidth=5,\n",
    "    alpha=0.7,\n",
    "    label='Москва',\n",
    ")\n",
    "df_all_other_pvt.plot(\n",
    "    kind='hist',\n",
    "    y='Платежи - прочее',\n",
    "    histtype='step',\n",
    "    range=(0, 1300),\n",
    "    bins=30,\n",
    "    linewidth=5,\n",
    "    alpha=0.7,\n",
    "    label='Другие города',\n",
    "    ax=ax,\n",
    "    grid=True,\n",
    "    legend=True,\n",
    ")"
   ]
  },
  {
   "cell_type": "markdown",
   "metadata": {},
   "source": [
    "Для сравнения всех показателей объединим обе таблицы, для этого предварительно удалим нулевоую строку."
   ]
  },
  {
   "cell_type": "code",
   "execution_count": 67,
   "metadata": {},
   "outputs": [],
   "source": [
    "# предварительно удалим нулевую строку\n",
    "\n",
    "df_all_other_pvt = df_all_other_pvt.drop(index=[0])"
   ]
  },
  {
   "cell_type": "code",
   "execution_count": 68,
   "metadata": {
    "scrolled": true
   },
   "outputs": [
    {
     "data": {
      "text/html": [
       "<div>\n",
       "<style scoped>\n",
       "    .dataframe tbody tr th:only-of-type {\n",
       "        vertical-align: middle;\n",
       "    }\n",
       "\n",
       "    .dataframe tbody tr th {\n",
       "        vertical-align: top;\n",
       "    }\n",
       "\n",
       "    .dataframe thead th {\n",
       "        text-align: right;\n",
       "    }\n",
       "</style>\n",
       "<table border=\"1\" class=\"dataframe\">\n",
       "  <thead>\n",
       "    <tr style=\"text-align: right;\">\n",
       "      <th></th>\n",
       "      <th>Месяц</th>\n",
       "      <th>Звонки - Москва</th>\n",
       "      <th>СМС - Мск</th>\n",
       "      <th>Интернет - Мск</th>\n",
       "      <th>Платежи - Мск</th>\n",
       "      <th>Звонки - прочее</th>\n",
       "      <th>СМС - прочее</th>\n",
       "      <th>Интернет - прочее</th>\n",
       "      <th>Платежи - прочее</th>\n",
       "    </tr>\n",
       "  </thead>\n",
       "  <tbody>\n",
       "    <tr>\n",
       "      <th>0</th>\n",
       "      <td>1</td>\n",
       "      <td>397.0</td>\n",
       "      <td>16.0</td>\n",
       "      <td>27.0</td>\n",
       "      <td>1475.0</td>\n",
       "      <td>217.0</td>\n",
       "      <td>8.0</td>\n",
       "      <td>20.0</td>\n",
       "      <td>869.0</td>\n",
       "    </tr>\n",
       "    <tr>\n",
       "      <th>1</th>\n",
       "      <td>2</td>\n",
       "      <td>358.0</td>\n",
       "      <td>16.0</td>\n",
       "      <td>22.0</td>\n",
       "      <td>1175.0</td>\n",
       "      <td>286.0</td>\n",
       "      <td>11.0</td>\n",
       "      <td>24.0</td>\n",
       "      <td>1207.0</td>\n",
       "    </tr>\n",
       "    <tr>\n",
       "      <th>2</th>\n",
       "      <td>3</td>\n",
       "      <td>422.0</td>\n",
       "      <td>18.0</td>\n",
       "      <td>25.0</td>\n",
       "      <td>1689.0</td>\n",
       "      <td>422.0</td>\n",
       "      <td>15.0</td>\n",
       "      <td>33.0</td>\n",
       "      <td>1498.0</td>\n",
       "    </tr>\n",
       "    <tr>\n",
       "      <th>3</th>\n",
       "      <td>4</td>\n",
       "      <td>403.0</td>\n",
       "      <td>17.0</td>\n",
       "      <td>28.0</td>\n",
       "      <td>1542.0</td>\n",
       "      <td>396.0</td>\n",
       "      <td>14.0</td>\n",
       "      <td>32.0</td>\n",
       "      <td>1333.0</td>\n",
       "    </tr>\n",
       "    <tr>\n",
       "      <th>4</th>\n",
       "      <td>5</td>\n",
       "      <td>396.0</td>\n",
       "      <td>18.0</td>\n",
       "      <td>30.0</td>\n",
       "      <td>1496.0</td>\n",
       "      <td>434.0</td>\n",
       "      <td>17.0</td>\n",
       "      <td>36.0</td>\n",
       "      <td>1568.0</td>\n",
       "    </tr>\n",
       "    <tr>\n",
       "      <th>5</th>\n",
       "      <td>6</td>\n",
       "      <td>420.0</td>\n",
       "      <td>17.0</td>\n",
       "      <td>32.0</td>\n",
       "      <td>1531.0</td>\n",
       "      <td>425.0</td>\n",
       "      <td>17.0</td>\n",
       "      <td>37.0</td>\n",
       "      <td>1562.0</td>\n",
       "    </tr>\n",
       "    <tr>\n",
       "      <th>6</th>\n",
       "      <td>7</td>\n",
       "      <td>446.0</td>\n",
       "      <td>17.0</td>\n",
       "      <td>37.0</td>\n",
       "      <td>1492.0</td>\n",
       "      <td>452.0</td>\n",
       "      <td>17.0</td>\n",
       "      <td>39.0</td>\n",
       "      <td>1614.0</td>\n",
       "    </tr>\n",
       "    <tr>\n",
       "      <th>7</th>\n",
       "      <td>8</td>\n",
       "      <td>486.0</td>\n",
       "      <td>19.0</td>\n",
       "      <td>39.0</td>\n",
       "      <td>1663.0</td>\n",
       "      <td>441.0</td>\n",
       "      <td>17.0</td>\n",
       "      <td>38.0</td>\n",
       "      <td>1690.0</td>\n",
       "    </tr>\n",
       "    <tr>\n",
       "      <th>8</th>\n",
       "      <td>9</td>\n",
       "      <td>512.0</td>\n",
       "      <td>18.0</td>\n",
       "      <td>41.0</td>\n",
       "      <td>1605.0</td>\n",
       "      <td>452.0</td>\n",
       "      <td>17.0</td>\n",
       "      <td>39.0</td>\n",
       "      <td>1611.0</td>\n",
       "    </tr>\n",
       "    <tr>\n",
       "      <th>9</th>\n",
       "      <td>10</td>\n",
       "      <td>479.0</td>\n",
       "      <td>18.0</td>\n",
       "      <td>42.0</td>\n",
       "      <td>1621.0</td>\n",
       "      <td>462.0</td>\n",
       "      <td>18.0</td>\n",
       "      <td>41.0</td>\n",
       "      <td>1735.0</td>\n",
       "    </tr>\n",
       "    <tr>\n",
       "      <th>10</th>\n",
       "      <td>11</td>\n",
       "      <td>487.0</td>\n",
       "      <td>18.0</td>\n",
       "      <td>42.0</td>\n",
       "      <td>1692.0</td>\n",
       "      <td>462.0</td>\n",
       "      <td>18.0</td>\n",
       "      <td>40.0</td>\n",
       "      <td>1691.0</td>\n",
       "    </tr>\n",
       "    <tr>\n",
       "      <th>11</th>\n",
       "      <td>12</td>\n",
       "      <td>522.0</td>\n",
       "      <td>19.0</td>\n",
       "      <td>44.0</td>\n",
       "      <td>1814.0</td>\n",
       "      <td>509.0</td>\n",
       "      <td>19.0</td>\n",
       "      <td>43.0</td>\n",
       "      <td>1978.0</td>\n",
       "    </tr>\n",
       "  </tbody>\n",
       "</table>\n",
       "</div>"
      ],
      "text/plain": [
       "    Месяц  Звонки - Москва  СМС - Мск  Интернет - Мск  Платежи - Мск  \\\n",
       "0       1            397.0       16.0            27.0         1475.0   \n",
       "1       2            358.0       16.0            22.0         1175.0   \n",
       "2       3            422.0       18.0            25.0         1689.0   \n",
       "3       4            403.0       17.0            28.0         1542.0   \n",
       "4       5            396.0       18.0            30.0         1496.0   \n",
       "5       6            420.0       17.0            32.0         1531.0   \n",
       "6       7            446.0       17.0            37.0         1492.0   \n",
       "7       8            486.0       19.0            39.0         1663.0   \n",
       "8       9            512.0       18.0            41.0         1605.0   \n",
       "9      10            479.0       18.0            42.0         1621.0   \n",
       "10     11            487.0       18.0            42.0         1692.0   \n",
       "11     12            522.0       19.0            44.0         1814.0   \n",
       "\n",
       "    Звонки - прочее  СМС - прочее  Интернет - прочее  Платежи - прочее  \n",
       "0             217.0           8.0               20.0             869.0  \n",
       "1             286.0          11.0               24.0            1207.0  \n",
       "2             422.0          15.0               33.0            1498.0  \n",
       "3             396.0          14.0               32.0            1333.0  \n",
       "4             434.0          17.0               36.0            1568.0  \n",
       "5             425.0          17.0               37.0            1562.0  \n",
       "6             452.0          17.0               39.0            1614.0  \n",
       "7             441.0          17.0               38.0            1690.0  \n",
       "8             452.0          17.0               39.0            1611.0  \n",
       "9             462.0          18.0               41.0            1735.0  \n",
       "10            462.0          18.0               40.0            1691.0  \n",
       "11            509.0          19.0               43.0            1978.0  "
      ]
     },
     "metadata": {},
     "output_type": "display_data"
    }
   ],
   "source": [
    "# таблица со сводными данными по Москве и другим городам\n",
    "\n",
    "df_all_compare = df_all_msk_pvt.merge(df_all_other_pvt, on=['Месяц'], how='outer')\n",
    "\n",
    "display(df_all_compare.round(0))"
   ]
  },
  {
   "cell_type": "markdown",
   "metadata": {},
   "source": [
    "#### Проверка гипотезы: выручка в Москве отличается от других городов"
   ]
  },
  {
   "cell_type": "markdown",
   "metadata": {},
   "source": [
    "Сформулируем нулевую и альтернативную гипотезы:\n",
    "* Нулевая гипотеза: выручка в Москве такая же, как в других городах\n",
    "* Альтернативная гипотеза: ввыручка в Москве отличается от других городов"
   ]
  },
  {
   "cell_type": "markdown",
   "metadata": {},
   "source": [
    "Для проверки гипотезы зададим критический уровень статистической значимости alpha = 0.01"
   ]
  },
  {
   "cell_type": "code",
   "execution_count": 69,
   "metadata": {},
   "outputs": [
    {
     "name": "stdout",
     "output_type": "stream",
     "text": [
      "p-значение: 0.7021759149984226\n",
      "Принимаем нулевую гипотезу\n"
     ]
    }
   ],
   "source": [
    "# платежи по Москве\n",
    "pay_msc   = df_all_msk_pvt.loc[:, 'Платежи - Мск']\n",
    "\n",
    "# платежи по другим городам\n",
    "pay_other   = df_all_other_pvt.loc[:, 'Платежи - прочее']\n",
    "\n",
    "\n",
    "\n",
    "alpha = 0.01 # зададим уровень статистической значимости\n",
    "\n",
    "#  проверим гипотезу о равенстве средних двух независимых совокупностей\n",
    "hypothesis_msc = st.ttest_ind(\n",
    "    pay_msc, \n",
    "    pay_other)\n",
    "print('p-значение:', hypothesis_msc.pvalue ) \n",
    "\n",
    "if hypothesis_msc.pvalue < alpha:\n",
    "    print(\"Принимаем альтернативную гипотезу\")\n",
    "else:\n",
    "    print(\"Принимаем нулевую гипотезу\")"
   ]
  },
  {
   "cell_type": "code",
   "execution_count": 70,
   "metadata": {},
   "outputs": [
    {
     "data": {
      "text/plain": [
       "0    1475.000000\n",
       "1    1175.142857\n",
       "2    1689.200000\n",
       "3    1541.586207\n",
       "4    1495.820513\n",
       "Name: Платежи - Мск, dtype: float64"
      ]
     },
     "execution_count": 70,
     "metadata": {},
     "output_type": "execute_result"
    }
   ],
   "source": [
    "pay_msc.head()"
   ]
  },
  {
   "cell_type": "markdown",
   "metadata": {},
   "source": [
    "#### Вывод по гипотезе: выручка в Москве отличается от других городов"
   ]
  },
  {
   "cell_type": "markdown",
   "metadata": {},
   "source": [
    "На основании проведенных рассчетов с учетом заданного критического уровня статистической значимости alpha = 0.01 можно сказать, что выручка в Москве, не отличается от выручки в других городах.\n",
    "\n",
    "На основании же полученных данных приведенных в сводной таблице можно сказать, что данные различаются, поэтому в данном случае опровержение гипотезы будет зависить от выбранного критического уровня статистической значимости."
   ]
  },
  {
   "cell_type": "markdown",
   "metadata": {},
   "source": [
    "## Проверка гипотезы: средняя выручка пользователей тарифов «Ультра» и «Смарт» различаются"
   ]
  },
  {
   "cell_type": "markdown",
   "metadata": {},
   "source": [
    "Сформулируем нулевую и альтернативную гипотезы:\n",
    "* Нулевая гипотеза: средняя выручка пользователей тарифов \"Смарт\" и \"Ультра\" одинаковая\n",
    "* Альтернативная гипотеза: средняя выручка пользователей тарифов \"Смарт\" и \"Ультра\" различаются"
   ]
  },
  {
   "cell_type": "markdown",
   "metadata": {},
   "source": [
    "Для проверки гипотезы зададим критический уровень статистической значимости alpha = 0.01"
   ]
  },
  {
   "cell_type": "code",
   "execution_count": 71,
   "metadata": {},
   "outputs": [
    {
     "name": "stdout",
     "output_type": "stream",
     "text": [
      "p-значение: 7.914593062594833e-08\n",
      "Принимаем альтернативную гипотезу, средняя выручка различается\n"
     ]
    }
   ],
   "source": [
    "# средние платежи тарифа Смарт\n",
    "pay_smart   = df_all_smart_pvt.loc[:, 'Платеж - 550р']\n",
    "\n",
    "# средние платежи тарифа Ультра\n",
    "pay_ultra   = df_all_ultra_pvt.loc[:, 'Платежи - 1950р']\n",
    "\n",
    "alpha = 0.01 # зададим уровень статистической значимости\n",
    "\n",
    "#  проверим гипотезу о равенстве средних двух независимых совокупностей\n",
    "hypothesis_smart_vs_ultra = st.ttest_ind(\n",
    "    pay_smart, \n",
    "    pay_ultra)\n",
    "print('p-значение:', hypothesis_smart_vs_ultra.pvalue ) \n",
    "\n",
    "if hypothesis_smart_vs_ultra.pvalue < alpha:\n",
    "    \n",
    "    print(\"Принимаем альтернативную гипотезу, средняя выручка различается\")\n",
    "else:\n",
    "    print(\"Принимаем нулевую гипотезу, средняя выручка одинаковая\")"
   ]
  },
  {
   "cell_type": "markdown",
   "metadata": {},
   "source": [
    "### Вывод по гипотезе: средняя выручка пользователей тарифов «Ультра» и «Смарт» различаются"
   ]
  },
  {
   "cell_type": "markdown",
   "metadata": {},
   "source": [
    "На основании проведенных рассчетов с учетом заданного критического уровня статистической значимости alpha = 0.01 можно сказать, что выручка пользователей тарифов «Ультра» и «Смарт» различается.\n",
    "\n",
    "На основании полученных данных приведенных в сводной таблице можно сказать, что средняя выручка различается, поэтому в данном случае опровержение гипотезы будет зависить от выбранного критического уровня статистической значимости."
   ]
  },
  {
   "cell_type": "markdown",
   "metadata": {},
   "source": [
    "## Общий вывод по проведенному анализу"
   ]
  },
  {
   "cell_type": "markdown",
   "metadata": {},
   "source": [
    "Для общего вывода рассмотрим средние характеристики по каждому тарифу:\n",
    "* сводную таблицу\n",
    "* количество пользователей\n",
    "* средний платеж в год по каждому тарифу"
   ]
  },
  {
   "cell_type": "code",
   "execution_count": 72,
   "metadata": {
    "scrolled": false
   },
   "outputs": [
    {
     "data": {
      "text/html": [
       "<div>\n",
       "<style scoped>\n",
       "    .dataframe tbody tr th:only-of-type {\n",
       "        vertical-align: middle;\n",
       "    }\n",
       "\n",
       "    .dataframe tbody tr th {\n",
       "        vertical-align: top;\n",
       "    }\n",
       "\n",
       "    .dataframe thead th {\n",
       "        text-align: right;\n",
       "    }\n",
       "</style>\n",
       "<table border=\"1\" class=\"dataframe\">\n",
       "  <thead>\n",
       "    <tr style=\"text-align: right;\">\n",
       "      <th></th>\n",
       "      <th>Месяц</th>\n",
       "      <th>Звонки - 500 мин</th>\n",
       "      <th>Инт - 15гб</th>\n",
       "      <th>Смс - 50шт</th>\n",
       "      <th>Платеж - 550р</th>\n",
       "      <th>Звонки - 3000мин</th>\n",
       "      <th>Инт - 30гб</th>\n",
       "      <th>СМС - 1000</th>\n",
       "      <th>Платежи - 1950р</th>\n",
       "    </tr>\n",
       "  </thead>\n",
       "  <tbody>\n",
       "    <tr>\n",
       "      <th>0</th>\n",
       "      <td>0</td>\n",
       "      <td>0.0</td>\n",
       "      <td>0.0</td>\n",
       "      <td>0.0</td>\n",
       "      <td>550.0</td>\n",
       "      <td>0.0</td>\n",
       "      <td>0.0</td>\n",
       "      <td>0.0</td>\n",
       "      <td>1950.0</td>\n",
       "    </tr>\n",
       "    <tr>\n",
       "      <th>1</th>\n",
       "      <td>1</td>\n",
       "      <td>204.0</td>\n",
       "      <td>9.0</td>\n",
       "      <td>18.0</td>\n",
       "      <td>726.0</td>\n",
       "      <td>428.0</td>\n",
       "      <td>13.0</td>\n",
       "      <td>34.0</td>\n",
       "      <td>1950.0</td>\n",
       "    </tr>\n",
       "    <tr>\n",
       "      <th>2</th>\n",
       "      <td>2</td>\n",
       "      <td>299.0</td>\n",
       "      <td>12.0</td>\n",
       "      <td>24.0</td>\n",
       "      <td>882.0</td>\n",
       "      <td>297.0</td>\n",
       "      <td>12.0</td>\n",
       "      <td>22.0</td>\n",
       "      <td>1975.0</td>\n",
       "    </tr>\n",
       "    <tr>\n",
       "      <th>3</th>\n",
       "      <td>3</td>\n",
       "      <td>390.0</td>\n",
       "      <td>15.0</td>\n",
       "      <td>32.0</td>\n",
       "      <td>1300.0</td>\n",
       "      <td>490.0</td>\n",
       "      <td>18.0</td>\n",
       "      <td>32.0</td>\n",
       "      <td>2015.0</td>\n",
       "    </tr>\n",
       "    <tr>\n",
       "      <th>4</th>\n",
       "      <td>4</td>\n",
       "      <td>367.0</td>\n",
       "      <td>14.0</td>\n",
       "      <td>31.0</td>\n",
       "      <td>1058.0</td>\n",
       "      <td>458.0</td>\n",
       "      <td>17.0</td>\n",
       "      <td>32.0</td>\n",
       "      <td>2002.0</td>\n",
       "    </tr>\n",
       "    <tr>\n",
       "      <th>5</th>\n",
       "      <td>5</td>\n",
       "      <td>387.0</td>\n",
       "      <td>16.0</td>\n",
       "      <td>34.0</td>\n",
       "      <td>1314.0</td>\n",
       "      <td>510.0</td>\n",
       "      <td>19.0</td>\n",
       "      <td>38.0</td>\n",
       "      <td>2060.0</td>\n",
       "    </tr>\n",
       "    <tr>\n",
       "      <th>6</th>\n",
       "      <td>6</td>\n",
       "      <td>396.0</td>\n",
       "      <td>16.0</td>\n",
       "      <td>33.0</td>\n",
       "      <td>1308.0</td>\n",
       "      <td>480.0</td>\n",
       "      <td>19.0</td>\n",
       "      <td>42.0</td>\n",
       "      <td>2039.0</td>\n",
       "    </tr>\n",
       "    <tr>\n",
       "      <th>7</th>\n",
       "      <td>7</td>\n",
       "      <td>408.0</td>\n",
       "      <td>16.0</td>\n",
       "      <td>34.0</td>\n",
       "      <td>1352.0</td>\n",
       "      <td>546.0</td>\n",
       "      <td>21.0</td>\n",
       "      <td>50.0</td>\n",
       "      <td>2118.0</td>\n",
       "    </tr>\n",
       "    <tr>\n",
       "      <th>8</th>\n",
       "      <td>8</td>\n",
       "      <td>421.0</td>\n",
       "      <td>17.0</td>\n",
       "      <td>34.0</td>\n",
       "      <td>1504.0</td>\n",
       "      <td>511.0</td>\n",
       "      <td>20.0</td>\n",
       "      <td>48.0</td>\n",
       "      <td>2083.0</td>\n",
       "    </tr>\n",
       "    <tr>\n",
       "      <th>9</th>\n",
       "      <td>9</td>\n",
       "      <td>429.0</td>\n",
       "      <td>16.0</td>\n",
       "      <td>34.0</td>\n",
       "      <td>1427.0</td>\n",
       "      <td>539.0</td>\n",
       "      <td>19.0</td>\n",
       "      <td>52.0</td>\n",
       "      <td>2024.0</td>\n",
       "    </tr>\n",
       "    <tr>\n",
       "      <th>10</th>\n",
       "      <td>10</td>\n",
       "      <td>426.0</td>\n",
       "      <td>17.0</td>\n",
       "      <td>34.0</td>\n",
       "      <td>1565.0</td>\n",
       "      <td>558.0</td>\n",
       "      <td>20.0</td>\n",
       "      <td>58.0</td>\n",
       "      <td>2066.0</td>\n",
       "    </tr>\n",
       "    <tr>\n",
       "      <th>11</th>\n",
       "      <td>11</td>\n",
       "      <td>435.0</td>\n",
       "      <td>17.0</td>\n",
       "      <td>34.0</td>\n",
       "      <td>1521.0</td>\n",
       "      <td>541.0</td>\n",
       "      <td>20.0</td>\n",
       "      <td>56.0</td>\n",
       "      <td>2092.0</td>\n",
       "    </tr>\n",
       "    <tr>\n",
       "      <th>12</th>\n",
       "      <td>12</td>\n",
       "      <td>479.0</td>\n",
       "      <td>18.0</td>\n",
       "      <td>36.0</td>\n",
       "      <td>1865.0</td>\n",
       "      <td>593.0</td>\n",
       "      <td>22.0</td>\n",
       "      <td>61.0</td>\n",
       "      <td>2139.0</td>\n",
       "    </tr>\n",
       "  </tbody>\n",
       "</table>\n",
       "</div>"
      ],
      "text/plain": [
       "    Месяц  Звонки - 500 мин  Инт - 15гб  Смс - 50шт  Платеж - 550р  \\\n",
       "0       0               0.0         0.0         0.0          550.0   \n",
       "1       1             204.0         9.0        18.0          726.0   \n",
       "2       2             299.0        12.0        24.0          882.0   \n",
       "3       3             390.0        15.0        32.0         1300.0   \n",
       "4       4             367.0        14.0        31.0         1058.0   \n",
       "5       5             387.0        16.0        34.0         1314.0   \n",
       "6       6             396.0        16.0        33.0         1308.0   \n",
       "7       7             408.0        16.0        34.0         1352.0   \n",
       "8       8             421.0        17.0        34.0         1504.0   \n",
       "9       9             429.0        16.0        34.0         1427.0   \n",
       "10     10             426.0        17.0        34.0         1565.0   \n",
       "11     11             435.0        17.0        34.0         1521.0   \n",
       "12     12             479.0        18.0        36.0         1865.0   \n",
       "\n",
       "    Звонки - 3000мин  Инт - 30гб  СМС - 1000  Платежи - 1950р  \n",
       "0                0.0         0.0         0.0           1950.0  \n",
       "1              428.0        13.0        34.0           1950.0  \n",
       "2              297.0        12.0        22.0           1975.0  \n",
       "3              490.0        18.0        32.0           2015.0  \n",
       "4              458.0        17.0        32.0           2002.0  \n",
       "5              510.0        19.0        38.0           2060.0  \n",
       "6              480.0        19.0        42.0           2039.0  \n",
       "7              546.0        21.0        50.0           2118.0  \n",
       "8              511.0        20.0        48.0           2083.0  \n",
       "9              539.0        19.0        52.0           2024.0  \n",
       "10             558.0        20.0        58.0           2066.0  \n",
       "11             541.0        20.0        56.0           2092.0  \n",
       "12             593.0        22.0        61.0           2139.0  "
      ]
     },
     "metadata": {},
     "output_type": "display_data"
    }
   ],
   "source": [
    "# объединим две таблицы по тарифам Смарт и Ультра\n",
    "\n",
    "df_all_compare_smart_ultra = df_all_smart_pvt.merge(df_all_ultra_pvt, on=['Месяц'], how='outer')\n",
    "display(df_all_compare_smart_ultra.round(0))"
   ]
  },
  {
   "cell_type": "code",
   "execution_count": 73,
   "metadata": {},
   "outputs": [
    {
     "name": "stdout",
     "output_type": "stream",
     "text": [
      "tariff\n",
      "smart    351\n",
      "ultra    149\n",
      "Name: tariff, dtype: int64\n"
     ]
    }
   ],
   "source": [
    "# количество пользователей по каждому тарифу\n",
    "tariff_unic = df_users.groupby('tariff')['tariff'].count()\n",
    "print(tariff_unic)"
   ]
  },
  {
   "cell_type": "code",
   "execution_count": 74,
   "metadata": {},
   "outputs": [],
   "source": [
    "# количество пользователей по каждому тарифу переменные\n",
    "users_smart = df_users.query('tariff == \"smart\"')\n",
    "users_ultra = df_users.query('tariff == \"ultra\"')"
   ]
  },
  {
   "cell_type": "code",
   "execution_count": 75,
   "metadata": {},
   "outputs": [
    {
     "name": "stdout",
     "output_type": "stream",
     "text": [
      "Средний платеж для одного пользователя за год, тариф Ultra 2209.0\n",
      "\n",
      "Средний платеж для одного пользователя, тариф Smart 1364.0\n"
     ]
    }
   ],
   "source": [
    "# Средний платеж за год Ultra\n",
    "print('Средний платеж для одного пользователя за год, тариф Ultra', (df_all_ultra_pvt['Платежи - 1950р'].sum() /12).round(0))\n",
    "\n",
    "print()\n",
    "\n",
    "# Средний платеж за год Smart\n",
    "print('Средний платеж для одного пользователя, тариф Smart', (df_all_smart_pvt['Платеж - 550р'].sum() /12).round(0))"
   ]
  },
  {
   "cell_type": "markdown",
   "metadata": {},
   "source": [
    "На основе преведенной таблицы можно сделать ряд выводов:\n",
    "* во время повышенной активности в декабре, пользователи тарифа Смарт переплачивают в 3 раза больше, чем ставка основного тарифа, в это же время платежи тарифа Ультра увеличиваются только на 8%.\n",
    "* у пользователей тарифа Смарт основной перерасход, исходя из средних показателей происходит за интернет.\n",
    "* у пользователей обоих тарифов происходи увеличение активности в декабре месяце, это можно использовать для формирования специальных акций и предложений на этот период."
   ]
  },
  {
   "cell_type": "markdown",
   "metadata": {},
   "source": [
    "На основе приведенных цифр по средней выручке, можно сделать несколько выводов:\n",
    "* тариф Ультра приносит большую прибыль в среднем на одного пользователя.\n",
    "* тариф Ультра приносит большую прибыль в целом в год, это при условии что пользователей тарифа Ультра в два раза меньше, чем пользователей тарифа Смарт.\n",
    "* очевидно, что сравнивая тариф Смарт и тариф Ультра, с точки зрения прибыли тариф Ультра намного выгодней."
   ]
  },
  {
   "cell_type": "code",
   "execution_count": null,
   "metadata": {},
   "outputs": [],
   "source": []
  }
 ],
 "metadata": {
  "ExecuteTimeLog": [
   {
    "duration": 611,
    "start_time": "2022-05-15T10:47:40.332Z"
   },
   {
    "duration": 143,
    "start_time": "2022-05-15T10:47:44.026Z"
   },
   {
    "duration": 213,
    "start_time": "2022-05-15T10:51:14.787Z"
   },
   {
    "duration": 35,
    "start_time": "2022-05-15T10:53:12.266Z"
   },
   {
    "duration": 64,
    "start_time": "2022-05-15T10:55:36.618Z"
   },
   {
    "duration": 45,
    "start_time": "2022-05-15T10:56:18.466Z"
   },
   {
    "duration": 93,
    "start_time": "2022-05-15T11:02:23.490Z"
   },
   {
    "duration": 12,
    "start_time": "2022-05-15T11:02:31.786Z"
   },
   {
    "duration": 7,
    "start_time": "2022-05-15T11:02:44.826Z"
   },
   {
    "duration": 401,
    "start_time": "2022-05-15T11:05:38.448Z"
   },
   {
    "duration": 409,
    "start_time": "2022-05-15T11:07:01.196Z"
   },
   {
    "duration": 248,
    "start_time": "2022-05-15T11:07:16.207Z"
   },
   {
    "duration": 13,
    "start_time": "2022-05-15T11:08:35.466Z"
   },
   {
    "duration": 232,
    "start_time": "2022-05-15T11:11:20.066Z"
   },
   {
    "duration": 197,
    "start_time": "2022-05-15T11:12:40.946Z"
   },
   {
    "duration": 19,
    "start_time": "2022-05-15T11:14:06.387Z"
   },
   {
    "duration": 41,
    "start_time": "2022-05-15T11:14:36.875Z"
   },
   {
    "duration": 5,
    "start_time": "2022-05-15T11:23:45.639Z"
   },
   {
    "duration": 17,
    "start_time": "2022-05-15T11:24:27.268Z"
   },
   {
    "duration": 3,
    "start_time": "2022-05-15T11:24:45.227Z"
   },
   {
    "duration": 50,
    "start_time": "2022-05-15T11:24:45.233Z"
   },
   {
    "duration": 252,
    "start_time": "2022-05-15T11:24:45.285Z"
   },
   {
    "duration": 10,
    "start_time": "2022-05-15T11:24:45.539Z"
   },
   {
    "duration": 162,
    "start_time": "2022-05-15T11:24:45.551Z"
   },
   {
    "duration": 214,
    "start_time": "2022-05-15T11:24:45.715Z"
   },
   {
    "duration": 31,
    "start_time": "2022-05-15T11:24:45.931Z"
   },
   {
    "duration": 4,
    "start_time": "2022-05-15T11:24:45.964Z"
   },
   {
    "duration": 11,
    "start_time": "2022-05-15T11:24:45.970Z"
   },
   {
    "duration": 129,
    "start_time": "2022-05-15T11:26:18.780Z"
   },
   {
    "duration": 15,
    "start_time": "2022-05-15T11:29:10.898Z"
   },
   {
    "duration": 119,
    "start_time": "2022-05-15T11:30:34.438Z"
   },
   {
    "duration": 3,
    "start_time": "2022-05-15T11:33:06.347Z"
   },
   {
    "duration": 35,
    "start_time": "2022-05-15T11:33:38.538Z"
   },
   {
    "duration": 7,
    "start_time": "2022-05-15T11:39:20.307Z"
   },
   {
    "duration": 279,
    "start_time": "2022-05-15T12:21:37.203Z"
   },
   {
    "duration": 211,
    "start_time": "2022-05-15T12:22:47.102Z"
   },
   {
    "duration": 4,
    "start_time": "2022-05-15T12:23:04.835Z"
   },
   {
    "duration": 45,
    "start_time": "2022-05-15T12:23:04.846Z"
   },
   {
    "duration": 251,
    "start_time": "2022-05-15T12:23:04.893Z"
   },
   {
    "duration": 155,
    "start_time": "2022-05-15T12:23:05.146Z"
   },
   {
    "duration": 223,
    "start_time": "2022-05-15T12:23:05.305Z"
   },
   {
    "duration": 31,
    "start_time": "2022-05-15T12:23:05.530Z"
   },
   {
    "duration": 15,
    "start_time": "2022-05-15T12:23:05.563Z"
   },
   {
    "duration": 16,
    "start_time": "2022-05-15T12:23:05.580Z"
   },
   {
    "duration": 58,
    "start_time": "2022-05-15T12:23:05.598Z"
   },
   {
    "duration": 224,
    "start_time": "2022-05-15T12:23:05.660Z"
   },
   {
    "duration": 0,
    "start_time": "2022-05-15T12:23:05.886Z"
   },
   {
    "duration": 241,
    "start_time": "2022-05-15T12:23:19.463Z"
   },
   {
    "duration": 219,
    "start_time": "2022-05-15T12:24:19.295Z"
   },
   {
    "duration": 242,
    "start_time": "2022-05-15T12:24:44.383Z"
   },
   {
    "duration": 208,
    "start_time": "2022-05-15T12:25:02.284Z"
   },
   {
    "duration": 198,
    "start_time": "2022-05-15T12:25:34.141Z"
   },
   {
    "duration": 240,
    "start_time": "2022-05-15T12:25:44.945Z"
   },
   {
    "duration": 195,
    "start_time": "2022-05-15T12:26:09.644Z"
   },
   {
    "duration": 137,
    "start_time": "2022-05-15T12:27:16.123Z"
   },
   {
    "duration": 235,
    "start_time": "2022-05-15T12:27:32.064Z"
   },
   {
    "duration": 133,
    "start_time": "2022-05-15T12:27:48.622Z"
   },
   {
    "duration": 226,
    "start_time": "2022-05-15T12:27:53.086Z"
   },
   {
    "duration": 255,
    "start_time": "2022-05-15T12:28:39.344Z"
   },
   {
    "duration": 129,
    "start_time": "2022-05-15T12:28:52.183Z"
   },
   {
    "duration": 234,
    "start_time": "2022-05-15T12:28:58.982Z"
   },
   {
    "duration": 200,
    "start_time": "2022-05-15T12:38:58.577Z"
   },
   {
    "duration": 311,
    "start_time": "2022-05-15T12:39:47.435Z"
   },
   {
    "duration": 202,
    "start_time": "2022-05-15T12:43:06.502Z"
   },
   {
    "duration": 152,
    "start_time": "2022-05-15T12:43:26.891Z"
   },
   {
    "duration": 324,
    "start_time": "2022-05-15T12:43:34.171Z"
   },
   {
    "duration": 273,
    "start_time": "2022-05-15T12:43:52.702Z"
   },
   {
    "duration": 36906,
    "start_time": "2022-05-15T12:46:10.474Z"
   },
   {
    "duration": 4,
    "start_time": "2022-05-15T12:47:23.543Z"
   },
   {
    "duration": 36195,
    "start_time": "2022-05-15T12:47:36.561Z"
   },
   {
    "duration": 36202,
    "start_time": "2022-05-15T12:49:08.682Z"
   },
   {
    "duration": 264,
    "start_time": "2022-05-15T13:00:24.744Z"
   },
   {
    "duration": 196,
    "start_time": "2022-05-15T13:01:21.171Z"
   },
   {
    "duration": 384,
    "start_time": "2022-05-15T13:01:32.182Z"
   },
   {
    "duration": 2089,
    "start_time": "2022-05-15T13:01:49.011Z"
   },
   {
    "duration": 304,
    "start_time": "2022-05-15T13:01:59.352Z"
   },
   {
    "duration": 252,
    "start_time": "2022-05-15T13:03:12.583Z"
   },
   {
    "duration": 257,
    "start_time": "2022-05-15T13:03:43.583Z"
   },
   {
    "duration": 255,
    "start_time": "2022-05-15T13:12:28.883Z"
   },
   {
    "duration": 356,
    "start_time": "2022-05-15T13:13:38.063Z"
   },
   {
    "duration": 196,
    "start_time": "2022-05-15T13:20:36.782Z"
   },
   {
    "duration": 229,
    "start_time": "2022-05-15T13:21:23.302Z"
   },
   {
    "duration": 230,
    "start_time": "2022-05-15T13:21:45.022Z"
   },
   {
    "duration": 230,
    "start_time": "2022-05-15T13:21:48.850Z"
   },
   {
    "duration": 233,
    "start_time": "2022-05-15T13:22:14.414Z"
   },
   {
    "duration": 203,
    "start_time": "2022-05-15T13:24:13.086Z"
   },
   {
    "duration": 38500,
    "start_time": "2022-05-15T13:25:28.862Z"
   },
   {
    "duration": 243,
    "start_time": "2022-05-15T13:26:58.512Z"
   },
   {
    "duration": 308,
    "start_time": "2022-05-15T13:27:12.772Z"
   },
   {
    "duration": 198,
    "start_time": "2022-05-15T13:28:09.071Z"
   },
   {
    "duration": 227,
    "start_time": "2022-05-15T13:28:36.434Z"
   },
   {
    "duration": 242,
    "start_time": "2022-05-15T13:28:58.011Z"
   },
   {
    "duration": 194,
    "start_time": "2022-05-15T13:30:08.431Z"
   },
   {
    "duration": 220,
    "start_time": "2022-05-15T13:30:26.531Z"
   },
   {
    "duration": 4,
    "start_time": "2022-05-15T13:30:30.133Z"
   },
   {
    "duration": 7,
    "start_time": "2022-05-15T13:30:30.140Z"
   },
   {
    "duration": 62,
    "start_time": "2022-05-15T13:30:30.149Z"
   },
   {
    "duration": 230,
    "start_time": "2022-05-15T13:30:30.214Z"
   },
   {
    "duration": 150,
    "start_time": "2022-05-15T13:30:30.447Z"
   },
   {
    "duration": 224,
    "start_time": "2022-05-15T13:30:30.600Z"
   },
   {
    "duration": 32,
    "start_time": "2022-05-15T13:30:30.827Z"
   },
   {
    "duration": 15,
    "start_time": "2022-05-15T13:30:30.862Z"
   },
   {
    "duration": 31,
    "start_time": "2022-05-15T13:30:30.879Z"
   },
   {
    "duration": 39,
    "start_time": "2022-05-15T13:30:30.923Z"
   },
   {
    "duration": 268,
    "start_time": "2022-05-15T13:30:30.965Z"
   },
   {
    "duration": 12,
    "start_time": "2022-05-15T13:30:31.235Z"
   },
   {
    "duration": 238,
    "start_time": "2022-05-15T13:31:11.702Z"
   },
   {
    "duration": 209,
    "start_time": "2022-05-15T13:33:00.091Z"
   },
   {
    "duration": 762,
    "start_time": "2022-05-15T13:34:08.972Z"
   },
   {
    "duration": 3,
    "start_time": "2022-05-15T13:34:30.712Z"
   },
   {
    "duration": 11,
    "start_time": "2022-05-15T13:34:30.717Z"
   },
   {
    "duration": 45,
    "start_time": "2022-05-15T13:34:30.759Z"
   },
   {
    "duration": 237,
    "start_time": "2022-05-15T13:34:30.807Z"
   },
   {
    "duration": 145,
    "start_time": "2022-05-15T13:34:31.046Z"
   },
   {
    "duration": 210,
    "start_time": "2022-05-15T13:34:31.194Z"
   },
   {
    "duration": 37,
    "start_time": "2022-05-15T13:34:31.408Z"
   },
   {
    "duration": 15,
    "start_time": "2022-05-15T13:34:31.447Z"
   },
   {
    "duration": 10,
    "start_time": "2022-05-15T13:34:31.464Z"
   },
   {
    "duration": 69,
    "start_time": "2022-05-15T13:34:31.476Z"
   },
   {
    "duration": 703,
    "start_time": "2022-05-15T13:34:31.548Z"
   },
   {
    "duration": 0,
    "start_time": "2022-05-15T13:34:32.253Z"
   },
   {
    "duration": 207,
    "start_time": "2022-05-15T13:34:42.695Z"
   },
   {
    "duration": 226,
    "start_time": "2022-05-15T13:35:22.892Z"
   },
   {
    "duration": 207,
    "start_time": "2022-05-15T13:35:34.926Z"
   },
   {
    "duration": 678,
    "start_time": "2022-05-15T13:35:41.991Z"
   },
   {
    "duration": 781,
    "start_time": "2022-05-15T13:35:50.112Z"
   },
   {
    "duration": 701,
    "start_time": "2022-05-15T13:36:05.355Z"
   },
   {
    "duration": 2421,
    "start_time": "2022-05-15T13:38:17.452Z"
   },
   {
    "duration": 232,
    "start_time": "2022-05-15T13:38:32.980Z"
   },
   {
    "duration": 736,
    "start_time": "2022-05-15T13:38:53.652Z"
   },
   {
    "duration": 54,
    "start_time": "2022-05-15T18:55:25.096Z"
   },
   {
    "duration": 393,
    "start_time": "2022-05-15T18:57:30.240Z"
   },
   {
    "duration": 2,
    "start_time": "2022-05-15T18:57:30.635Z"
   },
   {
    "duration": 49,
    "start_time": "2022-05-15T18:57:30.639Z"
   },
   {
    "duration": 188,
    "start_time": "2022-05-15T18:57:30.691Z"
   },
   {
    "duration": 113,
    "start_time": "2022-05-15T18:57:30.881Z"
   },
   {
    "duration": 170,
    "start_time": "2022-05-15T18:57:30.996Z"
   },
   {
    "duration": 26,
    "start_time": "2022-05-15T18:57:31.168Z"
   },
   {
    "duration": 12,
    "start_time": "2022-05-15T18:57:31.207Z"
   },
   {
    "duration": 15,
    "start_time": "2022-05-15T18:57:31.221Z"
   },
   {
    "duration": 36,
    "start_time": "2022-05-15T18:57:31.238Z"
   },
   {
    "duration": 275,
    "start_time": "2022-05-15T18:57:31.276Z"
   },
   {
    "duration": 4,
    "start_time": "2022-05-15T18:57:31.554Z"
   },
   {
    "duration": 7,
    "start_time": "2022-05-15T18:57:31.560Z"
   },
   {
    "duration": 30,
    "start_time": "2022-05-15T19:08:21.951Z"
   },
   {
    "duration": 12,
    "start_time": "2022-05-15T19:08:32.875Z"
   },
   {
    "duration": 113,
    "start_time": "2022-05-15T19:12:53.710Z"
   },
   {
    "duration": 104,
    "start_time": "2022-05-15T19:13:04.714Z"
   },
   {
    "duration": 6,
    "start_time": "2022-05-15T19:15:02.731Z"
   },
   {
    "duration": 7,
    "start_time": "2022-05-15T19:15:08.623Z"
   },
   {
    "duration": 21,
    "start_time": "2022-05-15T19:16:10.791Z"
   },
   {
    "duration": 27,
    "start_time": "2022-05-15T19:20:55.981Z"
   },
   {
    "duration": 93,
    "start_time": "2022-05-15T19:27:34.662Z"
   },
   {
    "duration": 30,
    "start_time": "2022-05-15T19:32:22.023Z"
   },
   {
    "duration": 31,
    "start_time": "2022-05-15T19:32:31.443Z"
   },
   {
    "duration": 16,
    "start_time": "2022-05-15T19:34:33.343Z"
   },
   {
    "duration": 20,
    "start_time": "2022-05-15T19:43:48.781Z"
   },
   {
    "duration": 25,
    "start_time": "2022-05-15T19:44:02.641Z"
   },
   {
    "duration": 25,
    "start_time": "2022-05-15T19:46:54.661Z"
   },
   {
    "duration": 25,
    "start_time": "2022-05-15T19:47:35.243Z"
   },
   {
    "duration": 24,
    "start_time": "2022-05-15T19:49:16.944Z"
   },
   {
    "duration": 27,
    "start_time": "2022-05-15T20:10:02.296Z"
   },
   {
    "duration": 20,
    "start_time": "2022-05-15T20:19:48.110Z"
   },
   {
    "duration": 28,
    "start_time": "2022-05-15T20:20:17.948Z"
   },
   {
    "duration": 17,
    "start_time": "2022-05-15T20:20:31.648Z"
   },
   {
    "duration": 19,
    "start_time": "2022-05-15T20:21:00.111Z"
   },
   {
    "duration": 17,
    "start_time": "2022-05-15T20:21:38.332Z"
   },
   {
    "duration": 30,
    "start_time": "2022-05-15T20:22:23.459Z"
   },
   {
    "duration": 3,
    "start_time": "2022-05-15T20:22:35.784Z"
   },
   {
    "duration": 7,
    "start_time": "2022-05-15T20:22:35.790Z"
   },
   {
    "duration": 48,
    "start_time": "2022-05-15T20:22:35.799Z"
   },
   {
    "duration": 197,
    "start_time": "2022-05-15T20:22:35.850Z"
   },
   {
    "duration": 127,
    "start_time": "2022-05-15T20:22:36.050Z"
   },
   {
    "duration": 182,
    "start_time": "2022-05-15T20:22:36.179Z"
   },
   {
    "duration": 23,
    "start_time": "2022-05-15T20:22:36.363Z"
   },
   {
    "duration": 28,
    "start_time": "2022-05-15T20:22:36.388Z"
   },
   {
    "duration": 7,
    "start_time": "2022-05-15T20:22:36.418Z"
   },
   {
    "duration": 40,
    "start_time": "2022-05-15T20:22:36.427Z"
   },
   {
    "duration": 152,
    "start_time": "2022-05-15T20:22:36.469Z"
   },
   {
    "duration": 14,
    "start_time": "2022-05-15T20:22:36.623Z"
   },
   {
    "duration": 7,
    "start_time": "2022-05-15T20:22:36.639Z"
   },
   {
    "duration": 63,
    "start_time": "2022-05-15T20:22:36.649Z"
   },
   {
    "duration": 7,
    "start_time": "2022-05-15T20:22:36.714Z"
   },
   {
    "duration": 29,
    "start_time": "2022-05-15T20:22:36.723Z"
   },
   {
    "duration": 89,
    "start_time": "2022-05-15T20:22:36.754Z"
   },
   {
    "duration": 16,
    "start_time": "2022-05-15T20:22:36.845Z"
   },
   {
    "duration": 53,
    "start_time": "2022-05-15T20:22:36.863Z"
   },
   {
    "duration": 28,
    "start_time": "2022-05-15T20:22:36.918Z"
   },
   {
    "duration": 20,
    "start_time": "2022-05-15T20:22:36.948Z"
   },
   {
    "duration": 7,
    "start_time": "2022-05-15T20:28:22.867Z"
   },
   {
    "duration": 3,
    "start_time": "2022-05-15T20:28:40.512Z"
   },
   {
    "duration": 2,
    "start_time": "2022-05-15T20:28:40.521Z"
   },
   {
    "duration": 39,
    "start_time": "2022-05-15T20:28:40.525Z"
   },
   {
    "duration": 173,
    "start_time": "2022-05-15T20:28:40.565Z"
   },
   {
    "duration": 121,
    "start_time": "2022-05-15T20:28:40.741Z"
   },
   {
    "duration": 161,
    "start_time": "2022-05-15T20:28:40.863Z"
   },
   {
    "duration": 22,
    "start_time": "2022-05-15T20:28:41.025Z"
   },
   {
    "duration": 10,
    "start_time": "2022-05-15T20:28:41.048Z"
   },
   {
    "duration": 7,
    "start_time": "2022-05-15T20:28:41.059Z"
   },
   {
    "duration": 59,
    "start_time": "2022-05-15T20:28:41.068Z"
   },
   {
    "duration": 113,
    "start_time": "2022-05-15T20:28:41.128Z"
   },
   {
    "duration": 11,
    "start_time": "2022-05-15T20:28:41.243Z"
   },
   {
    "duration": 6,
    "start_time": "2022-05-15T20:28:41.255Z"
   },
   {
    "duration": 56,
    "start_time": "2022-05-15T20:28:41.263Z"
   },
   {
    "duration": 6,
    "start_time": "2022-05-15T20:28:41.321Z"
   },
   {
    "duration": 30,
    "start_time": "2022-05-15T20:28:41.329Z"
   },
   {
    "duration": 61,
    "start_time": "2022-05-15T20:28:41.361Z"
   },
   {
    "duration": 14,
    "start_time": "2022-05-15T20:28:41.424Z"
   },
   {
    "duration": 7,
    "start_time": "2022-05-15T20:28:41.440Z"
   },
   {
    "duration": 0,
    "start_time": "2022-05-15T20:28:41.448Z"
   },
   {
    "duration": 0,
    "start_time": "2022-05-15T20:28:41.449Z"
   },
   {
    "duration": 0,
    "start_time": "2022-05-15T20:28:41.450Z"
   },
   {
    "duration": 8,
    "start_time": "2022-05-15T20:28:53.611Z"
   },
   {
    "duration": 14,
    "start_time": "2022-05-15T20:29:09.784Z"
   },
   {
    "duration": 23,
    "start_time": "2022-05-15T20:31:09.462Z"
   },
   {
    "duration": 40,
    "start_time": "2022-05-15T20:42:24.411Z"
   },
   {
    "duration": 38,
    "start_time": "2022-05-15T20:42:43.931Z"
   },
   {
    "duration": 40,
    "start_time": "2022-05-15T20:44:22.996Z"
   },
   {
    "duration": 39,
    "start_time": "2022-05-15T20:44:29.839Z"
   },
   {
    "duration": 22,
    "start_time": "2022-05-15T20:44:36.597Z"
   },
   {
    "duration": 25,
    "start_time": "2022-05-15T20:45:37.459Z"
   },
   {
    "duration": 16,
    "start_time": "2022-05-15T20:46:22.647Z"
   },
   {
    "duration": 26,
    "start_time": "2022-05-15T20:46:49.756Z"
   },
   {
    "duration": 53,
    "start_time": "2022-05-18T04:27:32.312Z"
   },
   {
    "duration": 498,
    "start_time": "2022-05-18T04:27:42.209Z"
   },
   {
    "duration": 3,
    "start_time": "2022-05-18T04:27:42.710Z"
   },
   {
    "duration": 13,
    "start_time": "2022-05-18T04:27:42.714Z"
   },
   {
    "duration": 69,
    "start_time": "2022-05-18T04:27:42.728Z"
   },
   {
    "duration": 205,
    "start_time": "2022-05-18T04:27:42.799Z"
   },
   {
    "duration": 125,
    "start_time": "2022-05-18T04:27:43.005Z"
   },
   {
    "duration": 284,
    "start_time": "2022-05-18T04:27:43.132Z"
   },
   {
    "duration": 40,
    "start_time": "2022-05-18T04:27:43.418Z"
   },
   {
    "duration": 9,
    "start_time": "2022-05-18T04:27:43.459Z"
   },
   {
    "duration": 6,
    "start_time": "2022-05-18T04:27:43.469Z"
   },
   {
    "duration": 23,
    "start_time": "2022-05-18T04:27:43.477Z"
   },
   {
    "duration": 109,
    "start_time": "2022-05-18T04:27:43.502Z"
   },
   {
    "duration": 11,
    "start_time": "2022-05-18T04:27:43.612Z"
   },
   {
    "duration": 5,
    "start_time": "2022-05-18T04:27:43.626Z"
   },
   {
    "duration": 23,
    "start_time": "2022-05-18T04:27:43.633Z"
   },
   {
    "duration": 47,
    "start_time": "2022-05-18T04:27:43.658Z"
   },
   {
    "duration": 33,
    "start_time": "2022-05-18T04:27:43.706Z"
   },
   {
    "duration": 57,
    "start_time": "2022-05-18T04:27:43.741Z"
   },
   {
    "duration": 25,
    "start_time": "2022-05-18T04:27:43.800Z"
   },
   {
    "duration": 13,
    "start_time": "2022-05-18T04:27:43.827Z"
   },
   {
    "duration": 53,
    "start_time": "2022-05-18T04:27:43.842Z"
   },
   {
    "duration": 23,
    "start_time": "2022-05-18T04:27:43.897Z"
   },
   {
    "duration": 29,
    "start_time": "2022-05-18T04:27:43.921Z"
   },
   {
    "duration": 70,
    "start_time": "2022-05-18T04:27:43.951Z"
   },
   {
    "duration": 95,
    "start_time": "2022-05-18T04:27:44.022Z"
   },
   {
    "duration": 25,
    "start_time": "2022-05-18T04:27:44.118Z"
   },
   {
    "duration": 52,
    "start_time": "2022-05-18T04:29:19.172Z"
   },
   {
    "duration": 72,
    "start_time": "2022-05-18T04:30:07.008Z"
   },
   {
    "duration": 87,
    "start_time": "2022-05-18T04:34:44.248Z"
   },
   {
    "duration": 109,
    "start_time": "2022-05-18T05:54:25.625Z"
   },
   {
    "duration": 59,
    "start_time": "2022-05-18T08:40:55.732Z"
   },
   {
    "duration": 570,
    "start_time": "2022-05-18T08:41:01.553Z"
   },
   {
    "duration": 3,
    "start_time": "2022-05-18T08:41:02.125Z"
   },
   {
    "duration": 12,
    "start_time": "2022-05-18T08:41:02.129Z"
   },
   {
    "duration": 73,
    "start_time": "2022-05-18T08:41:02.143Z"
   },
   {
    "duration": 246,
    "start_time": "2022-05-18T08:41:02.218Z"
   },
   {
    "duration": 154,
    "start_time": "2022-05-18T08:41:02.466Z"
   },
   {
    "duration": 316,
    "start_time": "2022-05-18T08:41:02.622Z"
   },
   {
    "duration": 43,
    "start_time": "2022-05-18T08:41:02.939Z"
   },
   {
    "duration": 10,
    "start_time": "2022-05-18T08:41:02.984Z"
   },
   {
    "duration": 7,
    "start_time": "2022-05-18T08:41:02.997Z"
   },
   {
    "duration": 28,
    "start_time": "2022-05-18T08:41:03.006Z"
   },
   {
    "duration": 131,
    "start_time": "2022-05-18T08:41:03.036Z"
   },
   {
    "duration": 12,
    "start_time": "2022-05-18T08:41:03.168Z"
   },
   {
    "duration": 6,
    "start_time": "2022-05-18T08:41:03.182Z"
   },
   {
    "duration": 26,
    "start_time": "2022-05-18T08:41:03.190Z"
   },
   {
    "duration": 58,
    "start_time": "2022-05-18T08:41:03.218Z"
   },
   {
    "duration": 41,
    "start_time": "2022-05-18T08:41:03.278Z"
   },
   {
    "duration": 48,
    "start_time": "2022-05-18T08:41:03.320Z"
   },
   {
    "duration": 28,
    "start_time": "2022-05-18T08:41:03.371Z"
   },
   {
    "duration": 16,
    "start_time": "2022-05-18T08:41:03.401Z"
   },
   {
    "duration": 63,
    "start_time": "2022-05-18T08:41:03.419Z"
   },
   {
    "duration": 33,
    "start_time": "2022-05-18T08:41:03.483Z"
   },
   {
    "duration": 52,
    "start_time": "2022-05-18T08:41:03.517Z"
   },
   {
    "duration": 69,
    "start_time": "2022-05-18T08:41:03.571Z"
   },
   {
    "duration": 136,
    "start_time": "2022-05-18T08:41:03.642Z"
   },
   {
    "duration": 28,
    "start_time": "2022-05-18T08:41:03.779Z"
   },
   {
    "duration": 66,
    "start_time": "2022-05-18T12:54:21.139Z"
   },
   {
    "duration": 81,
    "start_time": "2022-05-18T12:54:44.311Z"
   },
   {
    "duration": 83,
    "start_time": "2022-05-18T13:08:00.152Z"
   },
   {
    "duration": 63,
    "start_time": "2022-05-18T13:13:33.161Z"
   },
   {
    "duration": 9,
    "start_time": "2022-05-18T13:13:42.047Z"
   },
   {
    "duration": 98,
    "start_time": "2022-05-18T13:15:14.006Z"
   },
   {
    "duration": 7,
    "start_time": "2022-05-18T13:15:33.996Z"
   },
   {
    "duration": 32,
    "start_time": "2022-05-18T13:15:34.005Z"
   },
   {
    "duration": 6,
    "start_time": "2022-05-18T13:15:34.039Z"
   },
   {
    "duration": 125,
    "start_time": "2022-05-18T13:15:34.047Z"
   },
   {
    "duration": 605,
    "start_time": "2022-05-18T13:15:34.179Z"
   },
   {
    "duration": 329,
    "start_time": "2022-05-18T13:15:34.788Z"
   },
   {
    "duration": 669,
    "start_time": "2022-05-18T13:15:35.123Z"
   },
   {
    "duration": 79,
    "start_time": "2022-05-18T13:15:35.794Z"
   },
   {
    "duration": 16,
    "start_time": "2022-05-18T13:15:35.875Z"
   },
   {
    "duration": 36,
    "start_time": "2022-05-18T13:15:35.892Z"
   },
   {
    "duration": 62,
    "start_time": "2022-05-18T13:15:35.930Z"
   },
   {
    "duration": 239,
    "start_time": "2022-05-18T13:15:35.995Z"
   },
   {
    "duration": 14,
    "start_time": "2022-05-18T13:15:36.240Z"
   },
   {
    "duration": 90,
    "start_time": "2022-05-18T13:15:36.258Z"
   },
   {
    "duration": 78,
    "start_time": "2022-05-18T13:15:36.350Z"
   },
   {
    "duration": 40,
    "start_time": "2022-05-18T13:15:36.442Z"
   },
   {
    "duration": 83,
    "start_time": "2022-05-18T13:15:36.484Z"
   },
   {
    "duration": 93,
    "start_time": "2022-05-18T13:15:36.569Z"
   },
   {
    "duration": 68,
    "start_time": "2022-05-18T13:15:36.664Z"
   },
   {
    "duration": 24,
    "start_time": "2022-05-18T13:15:36.734Z"
   },
   {
    "duration": 79,
    "start_time": "2022-05-18T13:15:36.760Z"
   },
   {
    "duration": 117,
    "start_time": "2022-05-18T13:15:36.842Z"
   },
   {
    "duration": 87,
    "start_time": "2022-05-18T13:15:36.961Z"
   },
   {
    "duration": 100,
    "start_time": "2022-05-18T13:15:37.050Z"
   },
   {
    "duration": 109,
    "start_time": "2022-05-18T13:15:37.152Z"
   },
   {
    "duration": 21,
    "start_time": "2022-05-18T13:15:37.262Z"
   },
   {
    "duration": 88,
    "start_time": "2022-05-18T13:16:15.703Z"
   },
   {
    "duration": 70,
    "start_time": "2022-05-18T13:16:47.093Z"
   },
   {
    "duration": 83,
    "start_time": "2022-05-18T13:17:09.090Z"
   },
   {
    "duration": 76,
    "start_time": "2022-05-18T13:17:44.093Z"
   },
   {
    "duration": 69,
    "start_time": "2022-05-19T07:07:51.259Z"
   },
   {
    "duration": 792,
    "start_time": "2022-05-19T07:07:57.255Z"
   },
   {
    "duration": 6,
    "start_time": "2022-05-19T07:07:58.050Z"
   },
   {
    "duration": 11,
    "start_time": "2022-05-19T07:07:58.058Z"
   },
   {
    "duration": 123,
    "start_time": "2022-05-19T07:07:58.072Z"
   },
   {
    "duration": 631,
    "start_time": "2022-05-19T07:07:58.197Z"
   },
   {
    "duration": 347,
    "start_time": "2022-05-19T07:07:58.831Z"
   },
   {
    "duration": 513,
    "start_time": "2022-05-19T07:07:59.180Z"
   },
   {
    "duration": 81,
    "start_time": "2022-05-19T07:07:59.697Z"
   },
   {
    "duration": 17,
    "start_time": "2022-05-19T07:07:59.780Z"
   },
   {
    "duration": 9,
    "start_time": "2022-05-19T07:07:59.803Z"
   },
   {
    "duration": 47,
    "start_time": "2022-05-19T07:07:59.814Z"
   },
   {
    "duration": 216,
    "start_time": "2022-05-19T07:07:59.862Z"
   },
   {
    "duration": 16,
    "start_time": "2022-05-19T07:08:00.083Z"
   },
   {
    "duration": 8,
    "start_time": "2022-05-19T07:08:00.101Z"
   },
   {
    "duration": 36,
    "start_time": "2022-05-19T07:08:00.110Z"
   },
   {
    "duration": 63,
    "start_time": "2022-05-19T07:08:00.149Z"
   },
   {
    "duration": 38,
    "start_time": "2022-05-19T07:08:00.214Z"
   },
   {
    "duration": 64,
    "start_time": "2022-05-19T07:08:00.254Z"
   },
   {
    "duration": 33,
    "start_time": "2022-05-19T07:08:00.320Z"
   },
   {
    "duration": 55,
    "start_time": "2022-05-19T07:08:00.354Z"
   },
   {
    "duration": 45,
    "start_time": "2022-05-19T07:08:00.411Z"
   },
   {
    "duration": 106,
    "start_time": "2022-05-19T07:08:00.457Z"
   },
   {
    "duration": 73,
    "start_time": "2022-05-19T07:08:00.564Z"
   },
   {
    "duration": 131,
    "start_time": "2022-05-19T07:08:00.640Z"
   },
   {
    "duration": 101,
    "start_time": "2022-05-19T07:08:00.774Z"
   },
   {
    "duration": 31,
    "start_time": "2022-05-19T07:08:00.884Z"
   },
   {
    "duration": 12,
    "start_time": "2022-05-19T07:08:53.460Z"
   },
   {
    "duration": 9,
    "start_time": "2022-05-19T07:09:18.401Z"
   },
   {
    "duration": 71,
    "start_time": "2022-05-19T07:10:11.878Z"
   },
   {
    "duration": 55,
    "start_time": "2022-05-19T07:14:01.921Z"
   },
   {
    "duration": 90,
    "start_time": "2022-05-19T07:14:19.322Z"
   },
   {
    "duration": 128,
    "start_time": "2022-05-19T07:15:58.621Z"
   },
   {
    "duration": 27,
    "start_time": "2022-05-19T08:38:12.396Z"
   },
   {
    "duration": 38,
    "start_time": "2022-05-19T08:41:14.925Z"
   },
   {
    "duration": 69,
    "start_time": "2022-05-19T08:47:46.818Z"
   },
   {
    "duration": 50,
    "start_time": "2022-05-19T08:48:00.966Z"
   },
   {
    "duration": 28,
    "start_time": "2022-05-19T08:48:36.319Z"
   },
   {
    "duration": 59,
    "start_time": "2022-05-19T08:54:34.943Z"
   },
   {
    "duration": 35,
    "start_time": "2022-05-19T09:13:00.815Z"
   },
   {
    "duration": 34,
    "start_time": "2022-05-19T09:14:34.374Z"
   },
   {
    "duration": 55,
    "start_time": "2022-05-19T09:14:46.635Z"
   },
   {
    "duration": 38,
    "start_time": "2022-05-19T09:31:21.760Z"
   },
   {
    "duration": 45,
    "start_time": "2022-05-19T09:31:41.071Z"
   },
   {
    "duration": 29,
    "start_time": "2022-05-19T09:32:15.790Z"
   },
   {
    "duration": 33,
    "start_time": "2022-05-19T09:51:05.265Z"
   },
   {
    "duration": 48,
    "start_time": "2022-05-19T09:51:26.372Z"
   },
   {
    "duration": 21,
    "start_time": "2022-05-19T09:52:07.278Z"
   },
   {
    "duration": 20,
    "start_time": "2022-05-19T09:53:00.508Z"
   },
   {
    "duration": 33,
    "start_time": "2022-05-19T09:53:22.927Z"
   },
   {
    "duration": 31,
    "start_time": "2022-05-19T09:54:16.588Z"
   },
   {
    "duration": 28,
    "start_time": "2022-05-19T09:54:34.289Z"
   },
   {
    "duration": 24,
    "start_time": "2022-05-19T09:55:15.729Z"
   },
   {
    "duration": 3,
    "start_time": "2022-05-19T09:55:56.832Z"
   },
   {
    "duration": 6,
    "start_time": "2022-05-19T09:55:56.837Z"
   },
   {
    "duration": 5,
    "start_time": "2022-05-19T09:55:56.845Z"
   },
   {
    "duration": 55,
    "start_time": "2022-05-19T09:55:56.851Z"
   },
   {
    "duration": 185,
    "start_time": "2022-05-19T09:55:56.908Z"
   },
   {
    "duration": 117,
    "start_time": "2022-05-19T09:55:57.095Z"
   },
   {
    "duration": 166,
    "start_time": "2022-05-19T09:55:57.214Z"
   },
   {
    "duration": 28,
    "start_time": "2022-05-19T09:55:57.381Z"
   },
   {
    "duration": 11,
    "start_time": "2022-05-19T09:55:57.411Z"
   },
   {
    "duration": 6,
    "start_time": "2022-05-19T09:55:57.424Z"
   },
   {
    "duration": 43,
    "start_time": "2022-05-19T09:55:57.432Z"
   },
   {
    "duration": 109,
    "start_time": "2022-05-19T09:55:57.479Z"
   },
   {
    "duration": 11,
    "start_time": "2022-05-19T09:55:57.590Z"
   },
   {
    "duration": 6,
    "start_time": "2022-05-19T09:55:57.602Z"
   },
   {
    "duration": 29,
    "start_time": "2022-05-19T09:55:57.610Z"
   },
   {
    "duration": 51,
    "start_time": "2022-05-19T09:55:57.640Z"
   },
   {
    "duration": 34,
    "start_time": "2022-05-19T09:55:57.694Z"
   },
   {
    "duration": 50,
    "start_time": "2022-05-19T09:55:57.730Z"
   },
   {
    "duration": 27,
    "start_time": "2022-05-19T09:55:57.782Z"
   },
   {
    "duration": 20,
    "start_time": "2022-05-19T09:55:57.810Z"
   },
   {
    "duration": 76,
    "start_time": "2022-05-19T09:55:57.832Z"
   },
   {
    "duration": 70,
    "start_time": "2022-05-19T09:55:57.910Z"
   },
   {
    "duration": 43,
    "start_time": "2022-05-19T09:55:57.981Z"
   },
   {
    "duration": 76,
    "start_time": "2022-05-19T09:55:58.026Z"
   },
   {
    "duration": 54,
    "start_time": "2022-05-19T09:55:58.104Z"
   },
   {
    "duration": 81,
    "start_time": "2022-05-19T09:55:58.175Z"
   },
   {
    "duration": 46,
    "start_time": "2022-05-19T09:55:58.258Z"
   },
   {
    "duration": 32,
    "start_time": "2022-05-19T09:55:58.305Z"
   },
   {
    "duration": 82,
    "start_time": "2022-05-19T09:55:58.339Z"
   },
   {
    "duration": 26,
    "start_time": "2022-05-19T09:55:58.424Z"
   },
   {
    "duration": 56,
    "start_time": "2022-05-19T10:12:41.724Z"
   },
   {
    "duration": 3,
    "start_time": "2022-05-19T13:38:20.087Z"
   },
   {
    "duration": 12,
    "start_time": "2022-05-19T13:38:20.092Z"
   },
   {
    "duration": 6,
    "start_time": "2022-05-19T13:38:20.106Z"
   },
   {
    "duration": 67,
    "start_time": "2022-05-19T13:38:20.114Z"
   },
   {
    "duration": 265,
    "start_time": "2022-05-19T13:38:20.185Z"
   },
   {
    "duration": 139,
    "start_time": "2022-05-19T13:38:20.452Z"
   },
   {
    "duration": 194,
    "start_time": "2022-05-19T13:38:20.592Z"
   },
   {
    "duration": 32,
    "start_time": "2022-05-19T13:38:20.792Z"
   },
   {
    "duration": 12,
    "start_time": "2022-05-19T13:38:20.826Z"
   },
   {
    "duration": 12,
    "start_time": "2022-05-19T13:38:20.840Z"
   },
   {
    "duration": 43,
    "start_time": "2022-05-19T13:38:20.854Z"
   },
   {
    "duration": 118,
    "start_time": "2022-05-19T13:38:20.901Z"
   },
   {
    "duration": 14,
    "start_time": "2022-05-19T13:38:21.021Z"
   },
   {
    "duration": 7,
    "start_time": "2022-05-19T13:38:21.037Z"
   },
   {
    "duration": 56,
    "start_time": "2022-05-19T13:38:21.046Z"
   },
   {
    "duration": 23,
    "start_time": "2022-05-19T13:38:21.104Z"
   },
   {
    "duration": 57,
    "start_time": "2022-05-19T13:38:21.129Z"
   },
   {
    "duration": 30,
    "start_time": "2022-05-19T13:38:21.191Z"
   },
   {
    "duration": 30,
    "start_time": "2022-05-19T13:38:21.224Z"
   },
   {
    "duration": 28,
    "start_time": "2022-05-19T13:38:21.258Z"
   },
   {
    "duration": 63,
    "start_time": "2022-05-19T13:38:21.288Z"
   },
   {
    "duration": 75,
    "start_time": "2022-05-19T13:38:21.353Z"
   },
   {
    "duration": 54,
    "start_time": "2022-05-19T13:38:21.430Z"
   },
   {
    "duration": 71,
    "start_time": "2022-05-19T13:38:21.494Z"
   },
   {
    "duration": 75,
    "start_time": "2022-05-19T13:38:21.567Z"
   },
   {
    "duration": 88,
    "start_time": "2022-05-19T13:38:21.644Z"
   },
   {
    "duration": 70,
    "start_time": "2022-05-19T13:38:21.734Z"
   },
   {
    "duration": 37,
    "start_time": "2022-05-19T13:38:21.806Z"
   },
   {
    "duration": 56,
    "start_time": "2022-05-19T13:38:21.845Z"
   },
   {
    "duration": 27,
    "start_time": "2022-05-19T13:38:21.902Z"
   },
   {
    "duration": 102,
    "start_time": "2022-05-19T13:38:21.931Z"
   },
   {
    "duration": 190,
    "start_time": "2022-05-19T13:38:22.036Z"
   },
   {
    "duration": 549,
    "start_time": "2022-05-19T13:39:04.460Z"
   },
   {
    "duration": 547,
    "start_time": "2022-05-19T13:39:35.561Z"
   },
   {
    "duration": 51,
    "start_time": "2022-05-19T13:39:53.761Z"
   },
   {
    "duration": 2038,
    "start_time": "2022-05-19T13:40:42.662Z"
   },
   {
    "duration": 900,
    "start_time": "2022-05-19T13:41:04.358Z"
   },
   {
    "duration": 42,
    "start_time": "2022-05-19T13:41:14.571Z"
   },
   {
    "duration": 54,
    "start_time": "2022-05-20T06:53:05.547Z"
   },
   {
    "duration": 631,
    "start_time": "2022-05-20T06:53:12.692Z"
   },
   {
    "duration": 3,
    "start_time": "2022-05-20T06:53:13.325Z"
   },
   {
    "duration": 7,
    "start_time": "2022-05-20T06:53:13.329Z"
   },
   {
    "duration": 121,
    "start_time": "2022-05-20T06:53:13.338Z"
   },
   {
    "duration": 485,
    "start_time": "2022-05-20T06:53:13.461Z"
   },
   {
    "duration": 286,
    "start_time": "2022-05-20T06:53:13.947Z"
   },
   {
    "duration": 404,
    "start_time": "2022-05-20T06:53:14.234Z"
   },
   {
    "duration": 85,
    "start_time": "2022-05-20T06:53:14.639Z"
   },
   {
    "duration": 9,
    "start_time": "2022-05-20T06:53:14.726Z"
   },
   {
    "duration": 5,
    "start_time": "2022-05-20T06:53:14.737Z"
   },
   {
    "duration": 25,
    "start_time": "2022-05-20T06:53:14.743Z"
   },
   {
    "duration": 112,
    "start_time": "2022-05-20T06:53:14.770Z"
   },
   {
    "duration": 20,
    "start_time": "2022-05-20T06:53:14.884Z"
   },
   {
    "duration": 5,
    "start_time": "2022-05-20T06:53:14.905Z"
   },
   {
    "duration": 22,
    "start_time": "2022-05-20T06:53:14.912Z"
   },
   {
    "duration": 36,
    "start_time": "2022-05-20T06:53:14.936Z"
   },
   {
    "duration": 47,
    "start_time": "2022-05-20T06:53:14.973Z"
   },
   {
    "duration": 26,
    "start_time": "2022-05-20T06:53:15.021Z"
   },
   {
    "duration": 26,
    "start_time": "2022-05-20T06:53:15.049Z"
   },
   {
    "duration": 36,
    "start_time": "2022-05-20T06:53:15.077Z"
   },
   {
    "duration": 34,
    "start_time": "2022-05-20T06:53:15.115Z"
   },
   {
    "duration": 80,
    "start_time": "2022-05-20T06:53:15.151Z"
   },
   {
    "duration": 44,
    "start_time": "2022-05-20T06:53:15.233Z"
   },
   {
    "duration": 73,
    "start_time": "2022-05-20T06:53:15.278Z"
   },
   {
    "duration": 59,
    "start_time": "2022-05-20T06:53:15.353Z"
   },
   {
    "duration": 99,
    "start_time": "2022-05-20T06:53:15.414Z"
   },
   {
    "duration": 30,
    "start_time": "2022-05-20T06:53:15.514Z"
   },
   {
    "duration": 29,
    "start_time": "2022-05-20T06:53:15.547Z"
   },
   {
    "duration": 52,
    "start_time": "2022-05-20T06:53:15.602Z"
   },
   {
    "duration": 22,
    "start_time": "2022-05-20T06:53:15.655Z"
   },
   {
    "duration": 56,
    "start_time": "2022-05-20T06:53:15.701Z"
   },
   {
    "duration": 46,
    "start_time": "2022-05-20T06:53:15.758Z"
   },
   {
    "duration": 5,
    "start_time": "2022-05-20T06:53:15.806Z"
   },
   {
    "duration": 114,
    "start_time": "2022-05-20T06:53:15.812Z"
   },
   {
    "duration": 40,
    "start_time": "2022-05-20T06:55:17.893Z"
   },
   {
    "duration": 23,
    "start_time": "2022-05-20T06:55:31.556Z"
   },
   {
    "duration": 4,
    "start_time": "2022-05-20T06:55:52.512Z"
   },
   {
    "duration": 27,
    "start_time": "2022-05-20T06:58:29.824Z"
   },
   {
    "duration": 625,
    "start_time": "2022-05-20T06:58:34.680Z"
   },
   {
    "duration": 6,
    "start_time": "2022-05-20T06:59:18.125Z"
   },
   {
    "duration": 619,
    "start_time": "2022-05-20T06:59:35.624Z"
   },
   {
    "duration": 11,
    "start_time": "2022-05-20T07:00:09.425Z"
   },
   {
    "duration": 6,
    "start_time": "2022-05-20T07:00:17.656Z"
   },
   {
    "duration": 4,
    "start_time": "2022-05-20T07:02:49.392Z"
   },
   {
    "duration": 25,
    "start_time": "2022-05-20T07:02:58.745Z"
   },
   {
    "duration": 70,
    "start_time": "2022-05-20T07:13:58.121Z"
   },
   {
    "duration": 218,
    "start_time": "2022-05-20T07:15:02.845Z"
   },
   {
    "duration": 85,
    "start_time": "2022-05-20T07:15:53.812Z"
   },
   {
    "duration": 2,
    "start_time": "2022-05-20T07:35:04.228Z"
   },
   {
    "duration": 9,
    "start_time": "2022-05-20T07:35:57.559Z"
   },
   {
    "duration": 10,
    "start_time": "2022-05-20T07:36:24.619Z"
   },
   {
    "duration": 29,
    "start_time": "2022-05-20T07:38:34.955Z"
   },
   {
    "duration": 49,
    "start_time": "2022-05-20T07:39:40.947Z"
   },
   {
    "duration": 88,
    "start_time": "2022-05-20T07:41:56.758Z"
   },
   {
    "duration": 88,
    "start_time": "2022-05-20T07:42:15.468Z"
   },
   {
    "duration": 2,
    "start_time": "2022-05-20T07:44:15.307Z"
   },
   {
    "duration": 2,
    "start_time": "2022-05-20T07:44:17.048Z"
   },
   {
    "duration": 2,
    "start_time": "2022-05-20T07:44:44.406Z"
   },
   {
    "duration": 7,
    "start_time": "2022-05-20T07:44:44.411Z"
   },
   {
    "duration": 4,
    "start_time": "2022-05-20T07:44:44.420Z"
   },
   {
    "duration": 50,
    "start_time": "2022-05-20T07:44:44.445Z"
   },
   {
    "duration": 170,
    "start_time": "2022-05-20T07:44:44.497Z"
   },
   {
    "duration": 113,
    "start_time": "2022-05-20T07:44:44.669Z"
   },
   {
    "duration": 168,
    "start_time": "2022-05-20T07:44:44.785Z"
   },
   {
    "duration": 26,
    "start_time": "2022-05-20T07:44:44.955Z"
   },
   {
    "duration": 10,
    "start_time": "2022-05-20T07:44:44.982Z"
   },
   {
    "duration": 15,
    "start_time": "2022-05-20T07:44:44.994Z"
   },
   {
    "duration": 39,
    "start_time": "2022-05-20T07:44:45.010Z"
   },
   {
    "duration": 105,
    "start_time": "2022-05-20T07:44:45.050Z"
   },
   {
    "duration": 9,
    "start_time": "2022-05-20T07:44:45.158Z"
   },
   {
    "duration": 26,
    "start_time": "2022-05-20T07:44:45.169Z"
   },
   {
    "duration": 43,
    "start_time": "2022-05-20T07:44:45.197Z"
   },
   {
    "duration": 23,
    "start_time": "2022-05-20T07:44:45.242Z"
   },
   {
    "duration": 40,
    "start_time": "2022-05-20T07:44:45.267Z"
   },
   {
    "duration": 27,
    "start_time": "2022-05-20T07:44:45.308Z"
   },
   {
    "duration": 27,
    "start_time": "2022-05-20T07:44:45.337Z"
   },
   {
    "duration": 38,
    "start_time": "2022-05-20T07:44:45.365Z"
   },
   {
    "duration": 33,
    "start_time": "2022-05-20T07:44:45.405Z"
   },
   {
    "duration": 77,
    "start_time": "2022-05-20T07:44:45.440Z"
   },
   {
    "duration": 41,
    "start_time": "2022-05-20T07:44:45.519Z"
   },
   {
    "duration": 73,
    "start_time": "2022-05-20T07:44:45.561Z"
   },
   {
    "duration": 66,
    "start_time": "2022-05-20T07:44:45.636Z"
   },
   {
    "duration": 77,
    "start_time": "2022-05-20T07:44:45.704Z"
   },
   {
    "duration": 46,
    "start_time": "2022-05-20T07:44:45.783Z"
   },
   {
    "duration": 32,
    "start_time": "2022-05-20T07:44:45.830Z"
   },
   {
    "duration": 39,
    "start_time": "2022-05-20T07:44:45.864Z"
   },
   {
    "duration": 49,
    "start_time": "2022-05-20T07:44:45.905Z"
   },
   {
    "duration": 107,
    "start_time": "2022-05-20T07:44:45.957Z"
   },
   {
    "duration": 2,
    "start_time": "2022-05-20T07:44:46.066Z"
   },
   {
    "duration": 6,
    "start_time": "2022-05-20T07:44:46.069Z"
   },
   {
    "duration": 59,
    "start_time": "2022-05-20T07:44:46.077Z"
   },
   {
    "duration": 23,
    "start_time": "2022-05-20T07:44:46.138Z"
   },
   {
    "duration": 95,
    "start_time": "2022-05-20T07:44:46.163Z"
   },
   {
    "duration": 0,
    "start_time": "2022-05-20T07:44:46.260Z"
   },
   {
    "duration": 85,
    "start_time": "2022-05-20T07:45:53.601Z"
   },
   {
    "duration": 84,
    "start_time": "2022-05-20T07:46:00.428Z"
   },
   {
    "duration": 84,
    "start_time": "2022-05-20T07:46:36.209Z"
   },
   {
    "duration": 83,
    "start_time": "2022-05-20T07:46:55.766Z"
   },
   {
    "duration": 67,
    "start_time": "2022-05-20T07:47:11.309Z"
   },
   {
    "duration": 9,
    "start_time": "2022-05-20T08:40:42.721Z"
   },
   {
    "duration": 3,
    "start_time": "2022-05-20T12:26:12.309Z"
   },
   {
    "duration": 7,
    "start_time": "2022-05-20T12:26:12.313Z"
   },
   {
    "duration": 6,
    "start_time": "2022-05-20T12:26:12.322Z"
   },
   {
    "duration": 51,
    "start_time": "2022-05-20T12:26:12.329Z"
   },
   {
    "duration": 174,
    "start_time": "2022-05-20T12:26:12.382Z"
   },
   {
    "duration": 104,
    "start_time": "2022-05-20T12:26:12.557Z"
   },
   {
    "duration": 146,
    "start_time": "2022-05-20T12:26:12.662Z"
   },
   {
    "duration": 24,
    "start_time": "2022-05-20T12:26:12.812Z"
   },
   {
    "duration": 9,
    "start_time": "2022-05-20T12:26:12.838Z"
   },
   {
    "duration": 7,
    "start_time": "2022-05-20T12:26:12.848Z"
   },
   {
    "duration": 31,
    "start_time": "2022-05-20T12:26:12.857Z"
   },
   {
    "duration": 125,
    "start_time": "2022-05-20T12:26:12.890Z"
   },
   {
    "duration": 10,
    "start_time": "2022-05-20T12:26:13.018Z"
   },
   {
    "duration": 7,
    "start_time": "2022-05-20T12:26:13.030Z"
   },
   {
    "duration": 25,
    "start_time": "2022-05-20T12:26:13.038Z"
   },
   {
    "duration": 20,
    "start_time": "2022-05-20T12:26:13.065Z"
   },
   {
    "duration": 35,
    "start_time": "2022-05-20T12:26:13.111Z"
   },
   {
    "duration": 27,
    "start_time": "2022-05-20T12:26:13.148Z"
   },
   {
    "duration": 50,
    "start_time": "2022-05-20T12:26:13.176Z"
   },
   {
    "duration": 13,
    "start_time": "2022-05-20T12:26:13.228Z"
   },
   {
    "duration": 31,
    "start_time": "2022-05-20T12:26:13.243Z"
   },
   {
    "duration": 81,
    "start_time": "2022-05-20T12:26:13.276Z"
   },
   {
    "duration": 39,
    "start_time": "2022-05-20T12:26:13.358Z"
   },
   {
    "duration": 66,
    "start_time": "2022-05-20T12:26:13.411Z"
   },
   {
    "duration": 66,
    "start_time": "2022-05-20T12:26:13.479Z"
   },
   {
    "duration": 81,
    "start_time": "2022-05-20T12:26:13.547Z"
   },
   {
    "duration": 26,
    "start_time": "2022-05-20T12:26:13.630Z"
   },
   {
    "duration": 54,
    "start_time": "2022-05-20T12:26:13.658Z"
   },
   {
    "duration": 9,
    "start_time": "2022-05-20T12:26:13.714Z"
   },
   {
    "duration": 65,
    "start_time": "2022-05-20T12:26:13.725Z"
   },
   {
    "duration": 65,
    "start_time": "2022-05-20T12:26:13.792Z"
   },
   {
    "duration": 2,
    "start_time": "2022-05-20T12:26:13.859Z"
   },
   {
    "duration": 22,
    "start_time": "2022-05-20T12:26:13.863Z"
   },
   {
    "duration": 19,
    "start_time": "2022-05-20T12:26:13.887Z"
   },
   {
    "duration": 0,
    "start_time": "2022-05-20T12:26:13.908Z"
   },
   {
    "duration": 0,
    "start_time": "2022-05-20T12:26:13.909Z"
   },
   {
    "duration": 0,
    "start_time": "2022-05-20T12:26:13.910Z"
   },
   {
    "duration": 8,
    "start_time": "2022-05-20T12:26:26.728Z"
   },
   {
    "duration": 9,
    "start_time": "2022-05-20T12:26:31.453Z"
   },
   {
    "duration": 7,
    "start_time": "2022-05-20T12:26:33.331Z"
   },
   {
    "duration": 8,
    "start_time": "2022-05-20T12:26:34.751Z"
   },
   {
    "duration": 3,
    "start_time": "2022-05-20T12:26:40.152Z"
   },
   {
    "duration": 20,
    "start_time": "2022-05-20T12:26:40.168Z"
   },
   {
    "duration": 25,
    "start_time": "2022-05-20T12:26:40.190Z"
   },
   {
    "duration": 83,
    "start_time": "2022-05-20T12:26:40.217Z"
   },
   {
    "duration": 175,
    "start_time": "2022-05-20T12:26:40.301Z"
   },
   {
    "duration": 95,
    "start_time": "2022-05-20T12:26:40.478Z"
   },
   {
    "duration": 181,
    "start_time": "2022-05-20T12:26:40.575Z"
   },
   {
    "duration": 26,
    "start_time": "2022-05-20T12:26:40.758Z"
   },
   {
    "duration": 12,
    "start_time": "2022-05-20T12:26:40.785Z"
   },
   {
    "duration": 33,
    "start_time": "2022-05-20T12:26:40.798Z"
   },
   {
    "duration": 55,
    "start_time": "2022-05-20T12:26:40.832Z"
   },
   {
    "duration": 107,
    "start_time": "2022-05-20T12:26:40.889Z"
   },
   {
    "duration": 16,
    "start_time": "2022-05-20T12:26:40.998Z"
   },
   {
    "duration": 22,
    "start_time": "2022-05-20T12:26:41.016Z"
   },
   {
    "duration": 38,
    "start_time": "2022-05-20T12:26:41.040Z"
   },
   {
    "duration": 39,
    "start_time": "2022-05-20T12:26:41.079Z"
   },
   {
    "duration": 55,
    "start_time": "2022-05-20T12:26:41.120Z"
   },
   {
    "duration": 26,
    "start_time": "2022-05-20T12:26:41.177Z"
   },
   {
    "duration": 29,
    "start_time": "2022-05-20T12:26:41.205Z"
   },
   {
    "duration": 13,
    "start_time": "2022-05-20T12:26:41.236Z"
   },
   {
    "duration": 40,
    "start_time": "2022-05-20T12:26:41.251Z"
   },
   {
    "duration": 57,
    "start_time": "2022-05-20T12:26:41.311Z"
   },
   {
    "duration": 68,
    "start_time": "2022-05-20T12:26:41.370Z"
   },
   {
    "duration": 81,
    "start_time": "2022-05-20T12:26:41.440Z"
   },
   {
    "duration": 65,
    "start_time": "2022-05-20T12:26:41.523Z"
   },
   {
    "duration": 107,
    "start_time": "2022-05-20T12:26:41.591Z"
   },
   {
    "duration": 53,
    "start_time": "2022-05-20T12:26:41.700Z"
   },
   {
    "duration": 66,
    "start_time": "2022-05-20T12:26:41.755Z"
   },
   {
    "duration": 11,
    "start_time": "2022-05-20T12:26:41.822Z"
   },
   {
    "duration": 81,
    "start_time": "2022-05-20T12:26:41.835Z"
   },
   {
    "duration": 58,
    "start_time": "2022-05-20T12:26:41.918Z"
   },
   {
    "duration": 2,
    "start_time": "2022-05-20T12:26:41.978Z"
   },
   {
    "duration": 11,
    "start_time": "2022-05-20T12:26:41.981Z"
   },
   {
    "duration": 23,
    "start_time": "2022-05-20T12:26:41.994Z"
   },
   {
    "duration": 0,
    "start_time": "2022-05-20T12:26:42.018Z"
   },
   {
    "duration": 0,
    "start_time": "2022-05-20T12:26:42.020Z"
   },
   {
    "duration": 0,
    "start_time": "2022-05-20T12:26:42.020Z"
   },
   {
    "duration": 7,
    "start_time": "2022-05-20T12:26:57.210Z"
   },
   {
    "duration": 8,
    "start_time": "2022-05-20T12:26:59.918Z"
   },
   {
    "duration": 101,
    "start_time": "2022-05-20T12:28:28.780Z"
   },
   {
    "duration": 23,
    "start_time": "2022-05-20T12:28:35.908Z"
   },
   {
    "duration": 7,
    "start_time": "2022-05-20T12:28:38.941Z"
   },
   {
    "duration": 5,
    "start_time": "2022-05-20T12:32:30.033Z"
   },
   {
    "duration": 4,
    "start_time": "2022-05-20T12:37:50.227Z"
   },
   {
    "duration": 4,
    "start_time": "2022-05-20T12:37:57.559Z"
   },
   {
    "duration": 4,
    "start_time": "2022-05-20T12:38:19.219Z"
   },
   {
    "duration": 6,
    "start_time": "2022-05-20T12:40:49.451Z"
   },
   {
    "duration": 5,
    "start_time": "2022-05-20T12:55:22.737Z"
   },
   {
    "duration": 4,
    "start_time": "2022-05-20T12:55:30.297Z"
   },
   {
    "duration": 5,
    "start_time": "2022-05-20T12:55:41.677Z"
   },
   {
    "duration": 6,
    "start_time": "2022-05-20T12:57:01.336Z"
   },
   {
    "duration": 42,
    "start_time": "2022-05-20T12:58:38.566Z"
   },
   {
    "duration": 2,
    "start_time": "2022-05-20T13:07:53.879Z"
   },
   {
    "duration": 6,
    "start_time": "2022-05-20T13:07:53.883Z"
   },
   {
    "duration": 7,
    "start_time": "2022-05-20T13:07:53.890Z"
   },
   {
    "duration": 47,
    "start_time": "2022-05-20T13:07:53.950Z"
   },
   {
    "duration": 155,
    "start_time": "2022-05-20T13:07:53.999Z"
   },
   {
    "duration": 103,
    "start_time": "2022-05-20T13:07:54.155Z"
   },
   {
    "duration": 144,
    "start_time": "2022-05-20T13:07:54.259Z"
   },
   {
    "duration": 26,
    "start_time": "2022-05-20T13:07:54.405Z"
   },
   {
    "duration": 9,
    "start_time": "2022-05-20T13:07:54.433Z"
   },
   {
    "duration": 7,
    "start_time": "2022-05-20T13:07:54.443Z"
   },
   {
    "duration": 25,
    "start_time": "2022-05-20T13:07:54.451Z"
   },
   {
    "duration": 112,
    "start_time": "2022-05-20T13:07:54.478Z"
   },
   {
    "duration": 21,
    "start_time": "2022-05-20T13:07:54.591Z"
   },
   {
    "duration": 6,
    "start_time": "2022-05-20T13:07:54.613Z"
   },
   {
    "duration": 25,
    "start_time": "2022-05-20T13:07:54.620Z"
   },
   {
    "duration": 20,
    "start_time": "2022-05-20T13:07:54.646Z"
   },
   {
    "duration": 56,
    "start_time": "2022-05-20T13:07:54.669Z"
   },
   {
    "duration": 27,
    "start_time": "2022-05-20T13:07:54.726Z"
   },
   {
    "duration": 26,
    "start_time": "2022-05-20T13:07:54.755Z"
   },
   {
    "duration": 33,
    "start_time": "2022-05-20T13:07:54.782Z"
   },
   {
    "duration": 33,
    "start_time": "2022-05-20T13:07:54.817Z"
   },
   {
    "duration": 74,
    "start_time": "2022-05-20T13:07:54.852Z"
   },
   {
    "duration": 39,
    "start_time": "2022-05-20T13:07:54.928Z"
   },
   {
    "duration": 72,
    "start_time": "2022-05-20T13:07:54.968Z"
   },
   {
    "duration": 52,
    "start_time": "2022-05-20T13:07:55.044Z"
   },
   {
    "duration": 82,
    "start_time": "2022-05-20T13:07:55.098Z"
   },
   {
    "duration": 48,
    "start_time": "2022-05-20T13:07:55.182Z"
   },
   {
    "duration": 31,
    "start_time": "2022-05-20T13:07:55.231Z"
   },
   {
    "duration": 10,
    "start_time": "2022-05-20T13:07:55.264Z"
   },
   {
    "duration": 82,
    "start_time": "2022-05-20T13:07:55.276Z"
   },
   {
    "duration": 70,
    "start_time": "2022-05-20T13:07:55.360Z"
   },
   {
    "duration": 3,
    "start_time": "2022-05-20T13:07:55.431Z"
   },
   {
    "duration": 7,
    "start_time": "2022-05-20T13:07:55.436Z"
   },
   {
    "duration": 115,
    "start_time": "2022-05-20T13:07:55.445Z"
   },
   {
    "duration": 605,
    "start_time": "2022-05-20T13:07:55.561Z"
   },
   {
    "duration": 0,
    "start_time": "2022-05-20T13:07:56.167Z"
   },
   {
    "duration": 0,
    "start_time": "2022-05-20T13:07:56.168Z"
   },
   {
    "duration": 0,
    "start_time": "2022-05-20T13:07:56.170Z"
   },
   {
    "duration": 656,
    "start_time": "2022-05-20T13:08:34.268Z"
   },
   {
    "duration": 19,
    "start_time": "2022-05-20T13:09:13.341Z"
   },
   {
    "duration": 636,
    "start_time": "2022-05-20T13:09:42.919Z"
   },
   {
    "duration": 20,
    "start_time": "2022-05-20T13:09:51.978Z"
   },
   {
    "duration": 6,
    "start_time": "2022-05-20T13:10:02.380Z"
   },
   {
    "duration": 6,
    "start_time": "2022-05-20T13:10:16.547Z"
   },
   {
    "duration": 5,
    "start_time": "2022-05-20T13:10:21.778Z"
   },
   {
    "duration": 2,
    "start_time": "2022-05-20T13:11:32.440Z"
   },
   {
    "duration": 537,
    "start_time": "2022-05-20T13:14:51.108Z"
   },
   {
    "duration": 353,
    "start_time": "2022-05-20T13:17:29.278Z"
   },
   {
    "duration": 776,
    "start_time": "2022-05-20T13:18:06.263Z"
   },
   {
    "duration": 766,
    "start_time": "2022-05-20T13:18:14.419Z"
   },
   {
    "duration": 25,
    "start_time": "2022-05-20T13:19:08.010Z"
   },
   {
    "duration": 6,
    "start_time": "2022-05-20T13:19:17.730Z"
   },
   {
    "duration": 32,
    "start_time": "2022-05-20T13:21:34.431Z"
   },
   {
    "duration": 38,
    "start_time": "2022-05-20T13:22:34.059Z"
   },
   {
    "duration": 21,
    "start_time": "2022-05-20T13:23:19.850Z"
   },
   {
    "duration": 44,
    "start_time": "2022-05-20T13:23:35.159Z"
   },
   {
    "duration": 21,
    "start_time": "2022-05-20T13:23:41.070Z"
   },
   {
    "duration": 20,
    "start_time": "2022-05-20T13:25:08.898Z"
   },
   {
    "duration": 2,
    "start_time": "2022-05-20T13:25:16.306Z"
   },
   {
    "duration": 5,
    "start_time": "2022-05-20T13:25:16.310Z"
   },
   {
    "duration": 9,
    "start_time": "2022-05-20T13:25:16.316Z"
   },
   {
    "duration": 46,
    "start_time": "2022-05-20T13:25:16.357Z"
   },
   {
    "duration": 155,
    "start_time": "2022-05-20T13:25:16.405Z"
   },
   {
    "duration": 103,
    "start_time": "2022-05-20T13:25:16.561Z"
   },
   {
    "duration": 136,
    "start_time": "2022-05-20T13:25:16.667Z"
   },
   {
    "duration": 25,
    "start_time": "2022-05-20T13:25:16.806Z"
   },
   {
    "duration": 9,
    "start_time": "2022-05-20T13:25:16.833Z"
   },
   {
    "duration": 7,
    "start_time": "2022-05-20T13:25:16.844Z"
   },
   {
    "duration": 25,
    "start_time": "2022-05-20T13:25:16.852Z"
   },
   {
    "duration": 118,
    "start_time": "2022-05-20T13:25:16.878Z"
   },
   {
    "duration": 17,
    "start_time": "2022-05-20T13:25:16.997Z"
   },
   {
    "duration": 6,
    "start_time": "2022-05-20T13:25:17.016Z"
   },
   {
    "duration": 24,
    "start_time": "2022-05-20T13:25:17.023Z"
   },
   {
    "duration": 27,
    "start_time": "2022-05-20T13:25:17.049Z"
   },
   {
    "duration": 58,
    "start_time": "2022-05-20T13:25:17.078Z"
   },
   {
    "duration": 27,
    "start_time": "2022-05-20T13:25:17.137Z"
   },
   {
    "duration": 51,
    "start_time": "2022-05-20T13:25:17.167Z"
   },
   {
    "duration": 15,
    "start_time": "2022-05-20T13:25:17.219Z"
   },
   {
    "duration": 40,
    "start_time": "2022-05-20T13:25:17.235Z"
   },
   {
    "duration": 87,
    "start_time": "2022-05-20T13:25:17.277Z"
   },
   {
    "duration": 47,
    "start_time": "2022-05-20T13:25:17.366Z"
   },
   {
    "duration": 53,
    "start_time": "2022-05-20T13:25:17.414Z"
   },
   {
    "duration": 70,
    "start_time": "2022-05-20T13:25:17.469Z"
   },
   {
    "duration": 84,
    "start_time": "2022-05-20T13:25:17.541Z"
   },
   {
    "duration": 27,
    "start_time": "2022-05-20T13:25:17.627Z"
   },
   {
    "duration": 31,
    "start_time": "2022-05-20T13:25:17.655Z"
   },
   {
    "duration": 31,
    "start_time": "2022-05-20T13:25:17.688Z"
   },
   {
    "duration": 50,
    "start_time": "2022-05-20T13:25:17.720Z"
   },
   {
    "duration": 77,
    "start_time": "2022-05-20T13:25:17.771Z"
   },
   {
    "duration": 2,
    "start_time": "2022-05-20T13:25:17.850Z"
   },
   {
    "duration": 8,
    "start_time": "2022-05-20T13:25:17.854Z"
   },
   {
    "duration": 100,
    "start_time": "2022-05-20T13:25:17.863Z"
   },
   {
    "duration": 22,
    "start_time": "2022-05-20T13:25:17.964Z"
   },
   {
    "duration": 6,
    "start_time": "2022-05-20T13:25:17.987Z"
   },
   {
    "duration": 5,
    "start_time": "2022-05-20T13:25:18.012Z"
   },
   {
    "duration": 385,
    "start_time": "2022-05-20T13:25:18.018Z"
   },
   {
    "duration": 52,
    "start_time": "2022-05-20T13:56:57.977Z"
   },
   {
    "duration": 39,
    "start_time": "2022-05-20T13:57:33.955Z"
   },
   {
    "duration": 13,
    "start_time": "2022-05-20T13:58:12.529Z"
   },
   {
    "duration": 16,
    "start_time": "2022-05-20T13:58:51.460Z"
   },
   {
    "duration": 15,
    "start_time": "2022-05-20T13:59:47.200Z"
   },
   {
    "duration": 9,
    "start_time": "2022-05-20T14:00:44.712Z"
   },
   {
    "duration": 14,
    "start_time": "2022-05-20T14:03:40.947Z"
   },
   {
    "duration": 26,
    "start_time": "2022-05-20T14:06:21.306Z"
   },
   {
    "duration": 22,
    "start_time": "2022-05-20T14:06:28.657Z"
   },
   {
    "duration": 16,
    "start_time": "2022-05-20T14:07:04.379Z"
   },
   {
    "duration": 14,
    "start_time": "2022-05-20T14:07:19.947Z"
   },
   {
    "duration": 33,
    "start_time": "2022-05-20T14:20:54.596Z"
   },
   {
    "duration": 59,
    "start_time": "2022-05-20T14:21:37.899Z"
   },
   {
    "duration": 3,
    "start_time": "2022-05-20T14:21:57.087Z"
   },
   {
    "duration": 12,
    "start_time": "2022-05-20T14:21:57.093Z"
   },
   {
    "duration": 19,
    "start_time": "2022-05-20T14:21:57.107Z"
   },
   {
    "duration": 90,
    "start_time": "2022-05-20T14:21:57.128Z"
   },
   {
    "duration": 174,
    "start_time": "2022-05-20T14:21:57.220Z"
   },
   {
    "duration": 116,
    "start_time": "2022-05-20T14:21:57.396Z"
   },
   {
    "duration": 138,
    "start_time": "2022-05-20T14:21:57.515Z"
   },
   {
    "duration": 25,
    "start_time": "2022-05-20T14:21:57.655Z"
   },
   {
    "duration": 9,
    "start_time": "2022-05-20T14:21:57.682Z"
   },
   {
    "duration": 30,
    "start_time": "2022-05-20T14:21:57.692Z"
   },
   {
    "duration": 39,
    "start_time": "2022-05-20T14:21:57.724Z"
   },
   {
    "duration": 115,
    "start_time": "2022-05-20T14:21:57.765Z"
   },
   {
    "duration": 9,
    "start_time": "2022-05-20T14:21:57.882Z"
   },
   {
    "duration": 20,
    "start_time": "2022-05-20T14:21:57.893Z"
   },
   {
    "duration": 38,
    "start_time": "2022-05-20T14:21:57.914Z"
   },
   {
    "duration": 20,
    "start_time": "2022-05-20T14:21:57.953Z"
   },
   {
    "duration": 40,
    "start_time": "2022-05-20T14:21:57.974Z"
   },
   {
    "duration": 31,
    "start_time": "2022-05-20T14:21:58.015Z"
   },
   {
    "duration": 34,
    "start_time": "2022-05-20T14:21:58.048Z"
   },
   {
    "duration": 29,
    "start_time": "2022-05-20T14:21:58.084Z"
   },
   {
    "duration": 39,
    "start_time": "2022-05-20T14:21:58.114Z"
   },
   {
    "duration": 67,
    "start_time": "2022-05-20T14:21:58.154Z"
   },
   {
    "duration": 43,
    "start_time": "2022-05-20T14:21:58.223Z"
   },
   {
    "duration": 75,
    "start_time": "2022-05-20T14:21:58.268Z"
   },
   {
    "duration": 54,
    "start_time": "2022-05-20T14:21:58.345Z"
   },
   {
    "duration": 76,
    "start_time": "2022-05-20T14:21:58.412Z"
   },
   {
    "duration": 43,
    "start_time": "2022-05-20T14:21:58.489Z"
   },
   {
    "duration": 30,
    "start_time": "2022-05-20T14:21:58.533Z"
   },
   {
    "duration": 19,
    "start_time": "2022-05-20T14:21:58.565Z"
   },
   {
    "duration": 71,
    "start_time": "2022-05-20T14:21:58.585Z"
   },
   {
    "duration": 99,
    "start_time": "2022-05-20T14:21:58.659Z"
   },
   {
    "duration": 3,
    "start_time": "2022-05-20T14:21:58.759Z"
   },
   {
    "duration": 59,
    "start_time": "2022-05-20T14:21:58.763Z"
   },
   {
    "duration": 13,
    "start_time": "2022-05-20T14:21:58.824Z"
   },
   {
    "duration": 28,
    "start_time": "2022-05-20T14:21:58.839Z"
   },
   {
    "duration": 31,
    "start_time": "2022-05-20T14:21:58.869Z"
   },
   {
    "duration": 16,
    "start_time": "2022-05-20T14:21:58.901Z"
   },
   {
    "duration": 403,
    "start_time": "2022-05-20T14:21:58.919Z"
   },
   {
    "duration": 34,
    "start_time": "2022-05-20T14:23:03.728Z"
   },
   {
    "duration": 14,
    "start_time": "2022-05-20T14:23:15.319Z"
   },
   {
    "duration": 4,
    "start_time": "2022-05-20T14:24:27.319Z"
   },
   {
    "duration": 15,
    "start_time": "2022-05-20T14:24:31.889Z"
   },
   {
    "duration": 8,
    "start_time": "2022-05-20T14:25:05.035Z"
   },
   {
    "duration": 49,
    "start_time": "2022-05-20T14:26:11.947Z"
   },
   {
    "duration": 186,
    "start_time": "2022-05-20T14:26:17.859Z"
   },
   {
    "duration": 13,
    "start_time": "2022-05-20T14:27:00.168Z"
   },
   {
    "duration": 535,
    "start_time": "2022-05-20T14:27:46.608Z"
   },
   {
    "duration": 172,
    "start_time": "2022-05-20T14:28:00.588Z"
   },
   {
    "duration": 34,
    "start_time": "2022-05-20T14:28:49.599Z"
   },
   {
    "duration": 172,
    "start_time": "2022-05-20T14:28:58.468Z"
   },
   {
    "duration": 181,
    "start_time": "2022-05-20T14:29:35.347Z"
   },
   {
    "duration": 198,
    "start_time": "2022-05-20T14:30:11.564Z"
   },
   {
    "duration": 168,
    "start_time": "2022-05-20T14:31:15.890Z"
   },
   {
    "duration": 207,
    "start_time": "2022-05-20T14:31:45.908Z"
   },
   {
    "duration": 168,
    "start_time": "2022-05-20T14:32:26.799Z"
   },
   {
    "duration": 176,
    "start_time": "2022-05-20T14:33:34.988Z"
   },
   {
    "duration": 409,
    "start_time": "2022-05-20T14:34:18.202Z"
   },
   {
    "duration": 358,
    "start_time": "2022-05-20T14:35:09.615Z"
   },
   {
    "duration": 3,
    "start_time": "2022-05-20T14:35:32.437Z"
   },
   {
    "duration": 3,
    "start_time": "2022-05-20T14:35:32.453Z"
   },
   {
    "duration": 5,
    "start_time": "2022-05-20T14:35:32.458Z"
   },
   {
    "duration": 50,
    "start_time": "2022-05-20T14:35:32.464Z"
   },
   {
    "duration": 167,
    "start_time": "2022-05-20T14:35:32.516Z"
   },
   {
    "duration": 113,
    "start_time": "2022-05-20T14:35:32.685Z"
   },
   {
    "duration": 146,
    "start_time": "2022-05-20T14:35:32.800Z"
   },
   {
    "duration": 25,
    "start_time": "2022-05-20T14:35:32.948Z"
   },
   {
    "duration": 8,
    "start_time": "2022-05-20T14:35:32.975Z"
   },
   {
    "duration": 7,
    "start_time": "2022-05-20T14:35:32.985Z"
   },
   {
    "duration": 39,
    "start_time": "2022-05-20T14:35:32.994Z"
   },
   {
    "duration": 110,
    "start_time": "2022-05-20T14:35:33.034Z"
   },
   {
    "duration": 9,
    "start_time": "2022-05-20T14:35:33.146Z"
   },
   {
    "duration": 5,
    "start_time": "2022-05-20T14:35:33.157Z"
   },
   {
    "duration": 46,
    "start_time": "2022-05-20T14:35:33.166Z"
   },
   {
    "duration": 21,
    "start_time": "2022-05-20T14:35:33.214Z"
   },
   {
    "duration": 36,
    "start_time": "2022-05-20T14:35:33.237Z"
   },
   {
    "duration": 51,
    "start_time": "2022-05-20T14:35:33.275Z"
   },
   {
    "duration": 27,
    "start_time": "2022-05-20T14:35:33.327Z"
   },
   {
    "duration": 14,
    "start_time": "2022-05-20T14:35:33.356Z"
   },
   {
    "duration": 55,
    "start_time": "2022-05-20T14:35:33.372Z"
   },
   {
    "duration": 63,
    "start_time": "2022-05-20T14:35:33.429Z"
   },
   {
    "duration": 60,
    "start_time": "2022-05-20T14:35:33.494Z"
   },
   {
    "duration": 71,
    "start_time": "2022-05-20T14:35:33.556Z"
   },
   {
    "duration": 56,
    "start_time": "2022-05-20T14:35:33.628Z"
   },
   {
    "duration": 94,
    "start_time": "2022-05-20T14:35:33.685Z"
   },
   {
    "duration": 49,
    "start_time": "2022-05-20T14:35:33.780Z"
   },
   {
    "duration": 33,
    "start_time": "2022-05-20T14:35:33.830Z"
   },
   {
    "duration": 10,
    "start_time": "2022-05-20T14:35:33.864Z"
   },
   {
    "duration": 76,
    "start_time": "2022-05-20T14:35:33.876Z"
   },
   {
    "duration": 129,
    "start_time": "2022-05-20T14:35:33.953Z"
   },
   {
    "duration": 47,
    "start_time": "2022-05-20T14:35:34.084Z"
   },
   {
    "duration": 15,
    "start_time": "2022-05-20T14:35:34.132Z"
   },
   {
    "duration": 464,
    "start_time": "2022-05-20T14:35:34.149Z"
   },
   {
    "duration": 22,
    "start_time": "2022-05-20T14:35:34.617Z"
   },
   {
    "duration": 11,
    "start_time": "2022-05-20T14:35:34.640Z"
   },
   {
    "duration": 3276,
    "start_time": "2022-05-20T14:35:34.653Z"
   },
   {
    "duration": 0,
    "start_time": "2022-05-20T14:35:37.930Z"
   },
   {
    "duration": 9,
    "start_time": "2022-05-20T14:41:45.629Z"
   },
   {
    "duration": 13,
    "start_time": "2022-05-20T14:42:25.342Z"
   },
   {
    "duration": 28,
    "start_time": "2022-05-20T14:42:45.968Z"
   },
   {
    "duration": 14,
    "start_time": "2022-05-20T14:42:50.630Z"
   },
   {
    "duration": 372,
    "start_time": "2022-05-20T14:42:54.245Z"
   },
   {
    "duration": 369,
    "start_time": "2022-05-20T14:43:39.355Z"
   },
   {
    "duration": 370,
    "start_time": "2022-05-20T14:43:57.705Z"
   },
   {
    "duration": 371,
    "start_time": "2022-05-20T14:44:34.902Z"
   },
   {
    "duration": 448,
    "start_time": "2022-05-20T14:45:33.321Z"
   },
   {
    "duration": 5,
    "start_time": "2022-05-20T14:47:06.400Z"
   },
   {
    "duration": 30,
    "start_time": "2022-05-20T14:47:58.254Z"
   },
   {
    "duration": 12,
    "start_time": "2022-05-20T14:48:02.142Z"
   },
   {
    "duration": 5,
    "start_time": "2022-05-20T14:48:05.509Z"
   },
   {
    "duration": 63,
    "start_time": "2022-05-20T14:48:12.638Z"
   },
   {
    "duration": 498,
    "start_time": "2022-05-22T15:38:50.212Z"
   },
   {
    "duration": 2,
    "start_time": "2022-05-22T15:38:50.712Z"
   },
   {
    "duration": 8,
    "start_time": "2022-05-22T15:38:50.715Z"
   },
   {
    "duration": 103,
    "start_time": "2022-05-22T15:38:50.725Z"
   },
   {
    "duration": 508,
    "start_time": "2022-05-22T15:38:50.829Z"
   },
   {
    "duration": 279,
    "start_time": "2022-05-22T15:38:51.338Z"
   },
   {
    "duration": 402,
    "start_time": "2022-05-22T15:38:51.618Z"
   },
   {
    "duration": 82,
    "start_time": "2022-05-22T15:38:52.022Z"
   },
   {
    "duration": 10,
    "start_time": "2022-05-22T15:38:52.106Z"
   },
   {
    "duration": 5,
    "start_time": "2022-05-22T15:38:52.119Z"
   },
   {
    "duration": 36,
    "start_time": "2022-05-22T15:38:52.125Z"
   },
   {
    "duration": 114,
    "start_time": "2022-05-22T15:38:52.162Z"
   },
   {
    "duration": 9,
    "start_time": "2022-05-22T15:38:52.277Z"
   },
   {
    "duration": 15,
    "start_time": "2022-05-22T15:38:52.288Z"
   },
   {
    "duration": 22,
    "start_time": "2022-05-22T15:38:52.304Z"
   },
   {
    "duration": 19,
    "start_time": "2022-05-22T15:38:52.327Z"
   },
   {
    "duration": 32,
    "start_time": "2022-05-22T15:38:52.347Z"
   },
   {
    "duration": 43,
    "start_time": "2022-05-22T15:38:52.380Z"
   },
   {
    "duration": 24,
    "start_time": "2022-05-22T15:38:52.424Z"
   },
   {
    "duration": 13,
    "start_time": "2022-05-22T15:38:52.450Z"
   },
   {
    "duration": 62,
    "start_time": "2022-05-22T15:38:52.464Z"
   },
   {
    "duration": 58,
    "start_time": "2022-05-22T15:38:52.527Z"
   },
   {
    "duration": 52,
    "start_time": "2022-05-22T15:38:52.586Z"
   },
   {
    "duration": 66,
    "start_time": "2022-05-22T15:38:52.639Z"
   },
   {
    "duration": 54,
    "start_time": "2022-05-22T15:38:52.707Z"
   },
   {
    "duration": 102,
    "start_time": "2022-05-22T15:38:52.762Z"
   },
   {
    "duration": 40,
    "start_time": "2022-05-22T15:38:52.866Z"
   },
   {
    "duration": 27,
    "start_time": "2022-05-22T15:38:52.908Z"
   },
   {
    "duration": 10,
    "start_time": "2022-05-22T15:38:52.936Z"
   },
   {
    "duration": 73,
    "start_time": "2022-05-22T15:38:52.947Z"
   },
   {
    "duration": 109,
    "start_time": "2022-05-22T15:38:53.021Z"
   },
   {
    "duration": 36,
    "start_time": "2022-05-22T15:38:53.132Z"
   },
   {
    "duration": 32,
    "start_time": "2022-05-22T15:38:53.170Z"
   },
   {
    "duration": 100,
    "start_time": "2022-05-22T15:38:53.204Z"
   },
   {
    "duration": 10,
    "start_time": "2022-05-22T15:38:53.306Z"
   },
   {
    "duration": 5,
    "start_time": "2022-05-22T15:38:53.317Z"
   },
   {
    "duration": 5,
    "start_time": "2022-05-22T15:38:53.323Z"
   },
   {
    "duration": 102,
    "start_time": "2022-05-22T15:38:53.329Z"
   },
   {
    "duration": 78,
    "start_time": "2022-05-22T15:44:58.828Z"
   },
   {
    "duration": 56,
    "start_time": "2022-05-22T15:46:31.016Z"
   },
   {
    "duration": 26,
    "start_time": "2022-05-22T15:46:49.667Z"
   },
   {
    "duration": 48,
    "start_time": "2022-05-22T15:47:10.696Z"
   },
   {
    "duration": 50,
    "start_time": "2022-05-22T15:47:34.445Z"
   },
   {
    "duration": 33,
    "start_time": "2022-05-22T15:48:34.491Z"
   },
   {
    "duration": 32,
    "start_time": "2022-05-22T15:49:26.694Z"
   },
   {
    "duration": 14,
    "start_time": "2022-05-22T15:52:51.146Z"
   },
   {
    "duration": 54,
    "start_time": "2022-05-22T15:56:21.858Z"
   },
   {
    "duration": 105,
    "start_time": "2022-05-22T15:57:58.497Z"
   },
   {
    "duration": 9,
    "start_time": "2022-05-22T16:00:11.251Z"
   },
   {
    "duration": 107,
    "start_time": "2022-05-22T16:00:36.414Z"
   },
   {
    "duration": 72,
    "start_time": "2022-05-22T16:04:22.858Z"
   },
   {
    "duration": 26,
    "start_time": "2022-05-22T16:04:40.137Z"
   },
   {
    "duration": 622,
    "start_time": "2022-05-22T16:05:04.097Z"
   },
   {
    "duration": 598,
    "start_time": "2022-05-23T09:40:52.664Z"
   },
   {
    "duration": 2,
    "start_time": "2022-05-23T09:40:53.264Z"
   },
   {
    "duration": 4,
    "start_time": "2022-05-23T09:40:53.268Z"
   },
   {
    "duration": 110,
    "start_time": "2022-05-23T09:40:53.274Z"
   },
   {
    "duration": 476,
    "start_time": "2022-05-23T09:40:53.385Z"
   },
   {
    "duration": 285,
    "start_time": "2022-05-23T09:40:53.862Z"
   },
   {
    "duration": 405,
    "start_time": "2022-05-23T09:40:54.149Z"
   },
   {
    "duration": 91,
    "start_time": "2022-05-23T09:40:54.555Z"
   },
   {
    "duration": 9,
    "start_time": "2022-05-23T09:40:54.648Z"
   },
   {
    "duration": 10,
    "start_time": "2022-05-23T09:40:54.659Z"
   },
   {
    "duration": 27,
    "start_time": "2022-05-23T09:40:54.670Z"
   },
   {
    "duration": 99,
    "start_time": "2022-05-23T09:40:54.699Z"
   },
   {
    "duration": 18,
    "start_time": "2022-05-23T09:40:54.800Z"
   },
   {
    "duration": 6,
    "start_time": "2022-05-23T09:40:54.819Z"
   },
   {
    "duration": 21,
    "start_time": "2022-05-23T09:40:54.827Z"
   },
   {
    "duration": 21,
    "start_time": "2022-05-23T09:40:54.850Z"
   },
   {
    "duration": 63,
    "start_time": "2022-05-23T09:40:54.873Z"
   },
   {
    "duration": 26,
    "start_time": "2022-05-23T09:40:54.937Z"
   },
   {
    "duration": 48,
    "start_time": "2022-05-23T09:40:54.964Z"
   },
   {
    "duration": 14,
    "start_time": "2022-05-23T09:40:55.013Z"
   },
   {
    "duration": 32,
    "start_time": "2022-05-23T09:40:55.029Z"
   },
   {
    "duration": 79,
    "start_time": "2022-05-23T09:40:55.062Z"
   },
   {
    "duration": 41,
    "start_time": "2022-05-23T09:40:55.143Z"
   },
   {
    "duration": 75,
    "start_time": "2022-05-23T09:40:55.186Z"
   },
   {
    "duration": 58,
    "start_time": "2022-05-23T09:40:55.263Z"
   },
   {
    "duration": 75,
    "start_time": "2022-05-23T09:40:55.323Z"
   },
   {
    "duration": 29,
    "start_time": "2022-05-23T09:40:55.411Z"
   },
   {
    "duration": 31,
    "start_time": "2022-05-23T09:40:55.444Z"
   },
   {
    "duration": 37,
    "start_time": "2022-05-23T09:40:55.477Z"
   },
   {
    "duration": 44,
    "start_time": "2022-05-23T09:40:55.515Z"
   },
   {
    "duration": 110,
    "start_time": "2022-05-23T09:40:55.561Z"
   },
   {
    "duration": 51,
    "start_time": "2022-05-23T09:40:55.673Z"
   },
   {
    "duration": 13,
    "start_time": "2022-05-23T09:40:55.725Z"
   },
   {
    "duration": 85,
    "start_time": "2022-05-23T09:40:55.739Z"
   },
   {
    "duration": 0,
    "start_time": "2022-05-23T09:40:55.825Z"
   },
   {
    "duration": 0,
    "start_time": "2022-05-23T09:40:55.826Z"
   },
   {
    "duration": 0,
    "start_time": "2022-05-23T09:40:55.827Z"
   },
   {
    "duration": 0,
    "start_time": "2022-05-23T09:40:55.828Z"
   },
   {
    "duration": 34,
    "start_time": "2022-05-24T12:49:16.413Z"
   },
   {
    "duration": 232,
    "start_time": "2022-05-24T12:49:30.097Z"
   },
   {
    "duration": 140,
    "start_time": "2022-05-24T12:59:19.117Z"
   },
   {
    "duration": 13,
    "start_time": "2022-05-24T13:02:54.430Z"
   },
   {
    "duration": 329,
    "start_time": "2022-05-24T13:08:43.672Z"
   },
   {
    "duration": 9,
    "start_time": "2022-05-24T13:32:22.749Z"
   },
   {
    "duration": 8,
    "start_time": "2022-05-24T13:32:46.592Z"
   },
   {
    "duration": 2,
    "start_time": "2022-05-24T13:32:52.271Z"
   },
   {
    "duration": 2,
    "start_time": "2022-05-24T13:32:52.291Z"
   },
   {
    "duration": 5,
    "start_time": "2022-05-24T13:32:52.296Z"
   },
   {
    "duration": 57,
    "start_time": "2022-05-24T13:32:52.303Z"
   },
   {
    "duration": 202,
    "start_time": "2022-05-24T13:32:52.362Z"
   },
   {
    "duration": 131,
    "start_time": "2022-05-24T13:32:52.566Z"
   },
   {
    "duration": 181,
    "start_time": "2022-05-24T13:32:52.700Z"
   },
   {
    "duration": 32,
    "start_time": "2022-05-24T13:32:52.883Z"
   },
   {
    "duration": 13,
    "start_time": "2022-05-24T13:32:52.917Z"
   },
   {
    "duration": 5,
    "start_time": "2022-05-24T13:32:52.933Z"
   },
   {
    "duration": 31,
    "start_time": "2022-05-24T13:32:52.940Z"
   },
   {
    "duration": 142,
    "start_time": "2022-05-24T13:32:52.973Z"
   },
   {
    "duration": 10,
    "start_time": "2022-05-24T13:32:53.117Z"
   },
   {
    "duration": 7,
    "start_time": "2022-05-24T13:32:53.129Z"
   },
   {
    "duration": 58,
    "start_time": "2022-05-24T13:32:53.138Z"
   },
   {
    "duration": 40,
    "start_time": "2022-05-24T13:32:53.198Z"
   },
   {
    "duration": 76,
    "start_time": "2022-05-24T13:32:53.240Z"
   },
   {
    "duration": 33,
    "start_time": "2022-05-24T13:32:53.318Z"
   },
   {
    "duration": 53,
    "start_time": "2022-05-24T13:32:53.353Z"
   },
   {
    "duration": 15,
    "start_time": "2022-05-24T13:32:53.409Z"
   },
   {
    "duration": 50,
    "start_time": "2022-05-24T13:32:53.426Z"
   },
   {
    "duration": 80,
    "start_time": "2022-05-24T13:32:53.478Z"
   },
   {
    "duration": 66,
    "start_time": "2022-05-24T13:32:53.560Z"
   },
   {
    "duration": 75,
    "start_time": "2022-05-24T13:32:53.628Z"
   },
   {
    "duration": 62,
    "start_time": "2022-05-24T13:32:53.707Z"
   },
   {
    "duration": 107,
    "start_time": "2022-05-24T13:32:53.771Z"
   },
   {
    "duration": 61,
    "start_time": "2022-05-24T13:32:53.880Z"
   },
   {
    "duration": 73,
    "start_time": "2022-05-24T13:32:53.943Z"
   },
   {
    "duration": 11,
    "start_time": "2022-05-24T13:32:54.018Z"
   },
   {
    "duration": 94,
    "start_time": "2022-05-24T13:32:54.032Z"
   },
   {
    "duration": 146,
    "start_time": "2022-05-24T13:32:54.128Z"
   },
   {
    "duration": 44,
    "start_time": "2022-05-24T13:32:54.277Z"
   },
   {
    "duration": 18,
    "start_time": "2022-05-24T13:32:54.323Z"
   },
   {
    "duration": 319,
    "start_time": "2022-05-24T13:32:54.343Z"
   },
   {
    "duration": 14,
    "start_time": "2022-05-24T13:32:54.694Z"
   },
   {
    "duration": 0,
    "start_time": "2022-05-24T13:32:54.725Z"
   },
   {
    "duration": 0,
    "start_time": "2022-05-24T13:32:54.727Z"
   },
   {
    "duration": 0,
    "start_time": "2022-05-24T13:32:54.730Z"
   },
   {
    "duration": 8,
    "start_time": "2022-05-24T13:33:48.398Z"
   },
   {
    "duration": 7,
    "start_time": "2022-05-24T13:33:52.138Z"
   },
   {
    "duration": 134,
    "start_time": "2022-05-24T17:54:35.160Z"
   },
   {
    "duration": 3,
    "start_time": "2022-05-24T17:54:49.896Z"
   },
   {
    "duration": 7,
    "start_time": "2022-05-24T17:54:49.900Z"
   },
   {
    "duration": 6,
    "start_time": "2022-05-24T17:54:49.908Z"
   },
   {
    "duration": 50,
    "start_time": "2022-05-24T17:54:49.946Z"
   },
   {
    "duration": 161,
    "start_time": "2022-05-24T17:54:49.998Z"
   },
   {
    "duration": 98,
    "start_time": "2022-05-24T17:54:50.160Z"
   },
   {
    "duration": 155,
    "start_time": "2022-05-24T17:54:50.260Z"
   },
   {
    "duration": 29,
    "start_time": "2022-05-24T17:54:50.417Z"
   },
   {
    "duration": 9,
    "start_time": "2022-05-24T17:54:50.448Z"
   },
   {
    "duration": 7,
    "start_time": "2022-05-24T17:54:50.458Z"
   },
   {
    "duration": 36,
    "start_time": "2022-05-24T17:54:50.466Z"
   },
   {
    "duration": 110,
    "start_time": "2022-05-24T17:54:50.504Z"
   },
   {
    "duration": 11,
    "start_time": "2022-05-24T17:54:50.616Z"
   },
   {
    "duration": 7,
    "start_time": "2022-05-24T17:54:50.629Z"
   },
   {
    "duration": 22,
    "start_time": "2022-05-24T17:54:50.637Z"
   },
   {
    "duration": 49,
    "start_time": "2022-05-24T17:54:50.660Z"
   },
   {
    "duration": 33,
    "start_time": "2022-05-24T17:54:50.712Z"
   },
   {
    "duration": 24,
    "start_time": "2022-05-24T17:54:50.746Z"
   },
   {
    "duration": 47,
    "start_time": "2022-05-24T17:54:50.772Z"
   },
   {
    "duration": 15,
    "start_time": "2022-05-24T17:54:50.821Z"
   },
   {
    "duration": 34,
    "start_time": "2022-05-24T17:54:50.837Z"
   },
   {
    "duration": 60,
    "start_time": "2022-05-24T17:54:50.895Z"
   },
   {
    "duration": 56,
    "start_time": "2022-05-24T17:54:50.956Z"
   },
   {
    "duration": 52,
    "start_time": "2022-05-24T17:54:51.014Z"
   },
   {
    "duration": 67,
    "start_time": "2022-05-24T17:54:51.067Z"
   },
   {
    "duration": 88,
    "start_time": "2022-05-24T17:54:51.136Z"
   },
   {
    "duration": 32,
    "start_time": "2022-05-24T17:54:51.226Z"
   },
   {
    "duration": 58,
    "start_time": "2022-05-24T17:54:51.260Z"
   },
   {
    "duration": 10,
    "start_time": "2022-05-24T17:54:51.320Z"
   },
   {
    "duration": 66,
    "start_time": "2022-05-24T17:54:51.331Z"
   },
   {
    "duration": 119,
    "start_time": "2022-05-24T17:54:51.398Z"
   },
   {
    "duration": 159,
    "start_time": "2022-05-24T17:54:51.519Z"
   },
   {
    "duration": 0,
    "start_time": "2022-05-24T17:54:51.679Z"
   },
   {
    "duration": 0,
    "start_time": "2022-05-24T17:54:51.680Z"
   },
   {
    "duration": 0,
    "start_time": "2022-05-24T17:54:51.682Z"
   },
   {
    "duration": 0,
    "start_time": "2022-05-24T17:54:51.683Z"
   },
   {
    "duration": 0,
    "start_time": "2022-05-24T17:54:51.684Z"
   },
   {
    "duration": 0,
    "start_time": "2022-05-24T17:54:51.685Z"
   },
   {
    "duration": 148,
    "start_time": "2022-05-24T17:55:24.883Z"
   },
   {
    "duration": 160,
    "start_time": "2022-05-24T17:56:15.834Z"
   },
   {
    "duration": 184,
    "start_time": "2022-05-24T17:56:27.242Z"
   },
   {
    "duration": 32,
    "start_time": "2022-05-24T17:56:42.313Z"
   },
   {
    "duration": 108,
    "start_time": "2022-05-24T17:58:13.312Z"
   },
   {
    "duration": 283,
    "start_time": "2022-05-24T17:58:54.632Z"
   },
   {
    "duration": 35,
    "start_time": "2022-05-24T17:59:24.412Z"
   },
   {
    "duration": 175,
    "start_time": "2022-05-24T18:00:35.691Z"
   },
   {
    "duration": 29,
    "start_time": "2022-05-24T18:00:56.277Z"
   },
   {
    "duration": 29,
    "start_time": "2022-05-24T18:01:18.851Z"
   },
   {
    "duration": 12,
    "start_time": "2022-05-24T18:04:50.091Z"
   },
   {
    "duration": 11,
    "start_time": "2022-05-25T08:29:35.456Z"
   },
   {
    "duration": 52,
    "start_time": "2022-05-25T08:32:52.445Z"
   },
   {
    "duration": 35,
    "start_time": "2022-05-25T08:33:24.386Z"
   },
   {
    "duration": 8,
    "start_time": "2022-05-25T08:33:30.026Z"
   },
   {
    "duration": 9,
    "start_time": "2022-05-25T08:33:46.146Z"
   },
   {
    "duration": 6,
    "start_time": "2022-05-25T08:36:26.871Z"
   },
   {
    "duration": 6,
    "start_time": "2022-05-25T08:36:49.543Z"
   },
   {
    "duration": 13,
    "start_time": "2022-05-25T08:37:10.258Z"
   },
   {
    "duration": 14,
    "start_time": "2022-05-25T08:39:20.376Z"
   },
   {
    "duration": 18,
    "start_time": "2022-05-25T08:39:28.891Z"
   },
   {
    "duration": 215,
    "start_time": "2022-05-25T09:34:35.310Z"
   },
   {
    "duration": 47,
    "start_time": "2022-05-25T09:36:16.199Z"
   },
   {
    "duration": 33,
    "start_time": "2022-05-25T09:37:30.938Z"
   },
   {
    "duration": 19,
    "start_time": "2022-05-25T09:43:02.773Z"
   },
   {
    "duration": 37,
    "start_time": "2022-05-25T09:44:01.863Z"
   },
   {
    "duration": 30,
    "start_time": "2022-05-25T09:44:09.866Z"
   },
   {
    "duration": 35,
    "start_time": "2022-05-25T09:53:21.162Z"
   },
   {
    "duration": 27,
    "start_time": "2022-05-25T09:53:35.403Z"
   },
   {
    "duration": 21,
    "start_time": "2022-05-25T09:53:50.725Z"
   },
   {
    "duration": 21,
    "start_time": "2022-05-25T09:54:38.388Z"
   },
   {
    "duration": 20,
    "start_time": "2022-05-25T09:55:56.941Z"
   },
   {
    "duration": 30,
    "start_time": "2022-05-25T09:56:10.623Z"
   },
   {
    "duration": 19,
    "start_time": "2022-05-25T09:56:18.420Z"
   },
   {
    "duration": 21,
    "start_time": "2022-05-25T09:57:35.343Z"
   },
   {
    "duration": 20,
    "start_time": "2022-05-25T09:59:03.646Z"
   },
   {
    "duration": 47,
    "start_time": "2022-05-25T10:00:16.903Z"
   },
   {
    "duration": 27,
    "start_time": "2022-05-25T10:00:20.123Z"
   },
   {
    "duration": 3,
    "start_time": "2022-05-25T10:00:27.855Z"
   },
   {
    "duration": 18,
    "start_time": "2022-05-25T10:00:27.863Z"
   },
   {
    "duration": 27,
    "start_time": "2022-05-25T10:00:27.883Z"
   },
   {
    "duration": 96,
    "start_time": "2022-05-25T10:00:27.911Z"
   },
   {
    "duration": 475,
    "start_time": "2022-05-25T10:00:28.008Z"
   },
   {
    "duration": 122,
    "start_time": "2022-05-25T10:00:28.484Z"
   },
   {
    "duration": 142,
    "start_time": "2022-05-25T10:00:28.607Z"
   },
   {
    "duration": 27,
    "start_time": "2022-05-25T10:00:28.751Z"
   },
   {
    "duration": 8,
    "start_time": "2022-05-25T10:00:28.779Z"
   },
   {
    "duration": 6,
    "start_time": "2022-05-25T10:00:28.790Z"
   },
   {
    "duration": 22,
    "start_time": "2022-05-25T10:00:28.798Z"
   },
   {
    "duration": 109,
    "start_time": "2022-05-25T10:00:28.821Z"
   },
   {
    "duration": 8,
    "start_time": "2022-05-25T10:00:28.932Z"
   },
   {
    "duration": 18,
    "start_time": "2022-05-25T10:00:28.942Z"
   },
   {
    "duration": 19,
    "start_time": "2022-05-25T10:00:28.962Z"
   },
   {
    "duration": 19,
    "start_time": "2022-05-25T10:00:28.983Z"
   },
   {
    "duration": 57,
    "start_time": "2022-05-25T10:00:29.003Z"
   },
   {
    "duration": 24,
    "start_time": "2022-05-25T10:00:29.061Z"
   },
   {
    "duration": 23,
    "start_time": "2022-05-25T10:00:29.087Z"
   },
   {
    "duration": 12,
    "start_time": "2022-05-25T10:00:29.111Z"
   },
   {
    "duration": 53,
    "start_time": "2022-05-25T10:00:29.124Z"
   },
   {
    "duration": 52,
    "start_time": "2022-05-25T10:00:29.178Z"
   },
   {
    "duration": 56,
    "start_time": "2022-05-25T10:00:29.231Z"
   },
   {
    "duration": 50,
    "start_time": "2022-05-25T10:00:29.288Z"
   },
   {
    "duration": 58,
    "start_time": "2022-05-25T10:00:29.340Z"
   },
   {
    "duration": 77,
    "start_time": "2022-05-25T10:00:29.400Z"
   },
   {
    "duration": 27,
    "start_time": "2022-05-25T10:00:29.479Z"
   },
   {
    "duration": 59,
    "start_time": "2022-05-25T10:00:29.507Z"
   },
   {
    "duration": 12,
    "start_time": "2022-05-25T10:00:29.567Z"
   },
   {
    "duration": 63,
    "start_time": "2022-05-25T10:00:29.580Z"
   },
   {
    "duration": 97,
    "start_time": "2022-05-25T10:00:29.658Z"
   },
   {
    "duration": 31,
    "start_time": "2022-05-25T10:00:29.759Z"
   },
   {
    "duration": 29,
    "start_time": "2022-05-25T10:00:29.791Z"
   },
   {
    "duration": 0,
    "start_time": "2022-05-25T10:00:29.821Z"
   },
   {
    "duration": 0,
    "start_time": "2022-05-25T10:00:29.822Z"
   },
   {
    "duration": 0,
    "start_time": "2022-05-25T10:00:29.824Z"
   },
   {
    "duration": 0,
    "start_time": "2022-05-25T10:00:29.825Z"
   },
   {
    "duration": 0,
    "start_time": "2022-05-25T10:00:29.826Z"
   },
   {
    "duration": 0,
    "start_time": "2022-05-25T10:00:29.828Z"
   },
   {
    "duration": 31,
    "start_time": "2022-05-25T10:03:26.816Z"
   },
   {
    "duration": 30,
    "start_time": "2022-05-25T10:03:42.043Z"
   },
   {
    "duration": 18,
    "start_time": "2022-05-25T10:03:45.285Z"
   },
   {
    "duration": 20,
    "start_time": "2022-05-25T10:04:18.423Z"
   },
   {
    "duration": 17,
    "start_time": "2022-05-25T10:04:48.963Z"
   },
   {
    "duration": 19,
    "start_time": "2022-05-25T10:05:54.592Z"
   },
   {
    "duration": 14,
    "start_time": "2022-05-25T10:06:57.825Z"
   },
   {
    "duration": 9,
    "start_time": "2022-05-25T10:07:52.944Z"
   },
   {
    "duration": 21,
    "start_time": "2022-05-25T10:09:00.182Z"
   },
   {
    "duration": 21,
    "start_time": "2022-05-25T10:11:26.544Z"
   },
   {
    "duration": 15,
    "start_time": "2022-05-25T10:11:49.824Z"
   },
   {
    "duration": 14,
    "start_time": "2022-05-25T10:12:06.103Z"
   },
   {
    "duration": 20,
    "start_time": "2022-05-25T10:13:54.383Z"
   },
   {
    "duration": 36,
    "start_time": "2022-05-25T10:15:20.867Z"
   },
   {
    "duration": 22,
    "start_time": "2022-05-25T10:15:30.863Z"
   },
   {
    "duration": 21,
    "start_time": "2022-05-25T10:15:50.203Z"
   },
   {
    "duration": 14,
    "start_time": "2022-05-25T10:18:29.424Z"
   },
   {
    "duration": 7,
    "start_time": "2022-05-25T10:18:38.061Z"
   },
   {
    "duration": 29,
    "start_time": "2022-05-25T10:18:46.054Z"
   },
   {
    "duration": 21,
    "start_time": "2022-05-25T10:19:14.716Z"
   },
   {
    "duration": 21,
    "start_time": "2022-05-25T10:24:45.361Z"
   },
   {
    "duration": 41,
    "start_time": "2022-05-25T10:25:39.283Z"
   },
   {
    "duration": 21,
    "start_time": "2022-05-25T10:25:50.650Z"
   },
   {
    "duration": 21,
    "start_time": "2022-05-25T10:30:10.943Z"
   },
   {
    "duration": 20,
    "start_time": "2022-05-25T10:30:29.902Z"
   },
   {
    "duration": 20,
    "start_time": "2022-05-25T10:30:47.663Z"
   },
   {
    "duration": 15,
    "start_time": "2022-05-25T10:31:52.804Z"
   },
   {
    "duration": 11,
    "start_time": "2022-05-25T10:32:35.703Z"
   },
   {
    "duration": 29,
    "start_time": "2022-05-25T10:32:59.218Z"
   },
   {
    "duration": 12,
    "start_time": "2022-05-25T10:33:18.848Z"
   },
   {
    "duration": 21,
    "start_time": "2022-05-25T10:33:54.564Z"
   },
   {
    "duration": 23,
    "start_time": "2022-05-25T10:40:11.016Z"
   },
   {
    "duration": 21,
    "start_time": "2022-05-25T10:40:26.412Z"
   },
   {
    "duration": 20,
    "start_time": "2022-05-25T10:40:37.333Z"
   },
   {
    "duration": 21,
    "start_time": "2022-05-25T10:45:43.471Z"
   },
   {
    "duration": 20,
    "start_time": "2022-05-25T10:46:25.382Z"
   },
   {
    "duration": 9,
    "start_time": "2022-05-25T10:46:41.463Z"
   },
   {
    "duration": 2474,
    "start_time": "2022-05-25T11:40:02.479Z"
   },
   {
    "duration": 41,
    "start_time": "2022-05-25T11:41:04.326Z"
   },
   {
    "duration": 10,
    "start_time": "2022-05-25T11:41:12.366Z"
   },
   {
    "duration": 38,
    "start_time": "2022-05-25T11:41:34.705Z"
   },
   {
    "duration": 12,
    "start_time": "2022-05-25T11:43:06.354Z"
   },
   {
    "duration": 317,
    "start_time": "2022-05-25T11:44:12.547Z"
   },
   {
    "duration": 41,
    "start_time": "2022-05-25T11:51:46.506Z"
   },
   {
    "duration": 7,
    "start_time": "2022-05-25T12:01:19.587Z"
   },
   {
    "duration": 41,
    "start_time": "2022-05-25T12:03:11.062Z"
   },
   {
    "duration": 13,
    "start_time": "2022-05-25T12:05:53.879Z"
   },
   {
    "duration": 29,
    "start_time": "2022-05-25T12:13:42.729Z"
   },
   {
    "duration": 32,
    "start_time": "2022-05-25T12:14:19.142Z"
   },
   {
    "duration": 41,
    "start_time": "2022-05-25T12:14:30.982Z"
   },
   {
    "duration": 30,
    "start_time": "2022-05-25T12:14:53.921Z"
   },
   {
    "duration": 32,
    "start_time": "2022-05-25T12:15:42.875Z"
   },
   {
    "duration": 13,
    "start_time": "2022-05-25T12:17:09.800Z"
   },
   {
    "duration": 5,
    "start_time": "2022-05-25T12:19:05.480Z"
   },
   {
    "duration": 2,
    "start_time": "2022-05-25T12:19:47.213Z"
   },
   {
    "duration": 4,
    "start_time": "2022-05-25T12:20:25.360Z"
   },
   {
    "duration": 15,
    "start_time": "2022-05-25T12:23:15.831Z"
   },
   {
    "duration": 47,
    "start_time": "2022-05-25T12:26:06.899Z"
   },
   {
    "duration": 31,
    "start_time": "2022-05-25T12:26:23.622Z"
   },
   {
    "duration": 29,
    "start_time": "2022-05-25T12:27:17.298Z"
   },
   {
    "duration": 60,
    "start_time": "2022-05-25T12:29:25.882Z"
   },
   {
    "duration": 33,
    "start_time": "2022-05-25T12:30:05.382Z"
   },
   {
    "duration": 40,
    "start_time": "2022-05-25T12:30:45.737Z"
   },
   {
    "duration": 39,
    "start_time": "2022-05-25T12:32:12.457Z"
   },
   {
    "duration": 8,
    "start_time": "2022-05-25T12:32:33.538Z"
   },
   {
    "duration": 37,
    "start_time": "2022-05-25T12:33:23.479Z"
   },
   {
    "duration": 45,
    "start_time": "2022-05-25T12:34:45.681Z"
   },
   {
    "duration": 2,
    "start_time": "2022-05-25T12:35:25.798Z"
   },
   {
    "duration": 37,
    "start_time": "2022-05-25T12:35:38.487Z"
   },
   {
    "duration": 16,
    "start_time": "2022-05-25T12:37:49.813Z"
   },
   {
    "duration": 6,
    "start_time": "2022-05-25T12:39:59.780Z"
   },
   {
    "duration": 6,
    "start_time": "2022-05-25T12:41:26.930Z"
   },
   {
    "duration": 854,
    "start_time": "2022-05-25T12:42:01.282Z"
   },
   {
    "duration": 9,
    "start_time": "2022-05-25T12:43:03.159Z"
   },
   {
    "duration": 8,
    "start_time": "2022-05-25T12:46:59.286Z"
   },
   {
    "duration": 6,
    "start_time": "2022-05-25T12:48:30.490Z"
   },
   {
    "duration": 377,
    "start_time": "2022-05-25T21:20:10.897Z"
   },
   {
    "duration": 2,
    "start_time": "2022-05-25T21:20:11.276Z"
   },
   {
    "duration": 5,
    "start_time": "2022-05-25T21:20:11.280Z"
   },
   {
    "duration": 100,
    "start_time": "2022-05-25T21:20:11.286Z"
   },
   {
    "duration": 233,
    "start_time": "2022-05-25T21:20:11.389Z"
   },
   {
    "duration": 305,
    "start_time": "2022-05-25T21:20:11.624Z"
   },
   {
    "duration": 304,
    "start_time": "2022-05-25T21:20:11.931Z"
   },
   {
    "duration": 68,
    "start_time": "2022-05-25T21:20:12.237Z"
   },
   {
    "duration": 10,
    "start_time": "2022-05-25T21:20:12.306Z"
   },
   {
    "duration": 10,
    "start_time": "2022-05-25T21:20:12.317Z"
   },
   {
    "duration": 24,
    "start_time": "2022-05-25T21:20:12.328Z"
   },
   {
    "duration": 98,
    "start_time": "2022-05-25T21:20:12.354Z"
   },
   {
    "duration": 12,
    "start_time": "2022-05-25T21:20:12.453Z"
   },
   {
    "duration": 6,
    "start_time": "2022-05-25T21:20:12.469Z"
   },
   {
    "duration": 23,
    "start_time": "2022-05-25T21:20:12.477Z"
   },
   {
    "duration": 50,
    "start_time": "2022-05-25T21:20:12.502Z"
   },
   {
    "duration": 38,
    "start_time": "2022-05-25T21:20:12.554Z"
   },
   {
    "duration": 25,
    "start_time": "2022-05-25T21:20:12.593Z"
   },
   {
    "duration": 53,
    "start_time": "2022-05-25T21:20:12.620Z"
   },
   {
    "duration": 13,
    "start_time": "2022-05-25T21:20:12.675Z"
   },
   {
    "duration": 34,
    "start_time": "2022-05-25T21:20:12.690Z"
   },
   {
    "duration": 85,
    "start_time": "2022-05-25T21:20:12.725Z"
   },
   {
    "duration": 48,
    "start_time": "2022-05-25T21:20:12.812Z"
   },
   {
    "duration": 60,
    "start_time": "2022-05-25T21:20:12.862Z"
   },
   {
    "duration": 69,
    "start_time": "2022-05-25T21:20:12.923Z"
   },
   {
    "duration": 92,
    "start_time": "2022-05-25T21:20:12.993Z"
   },
   {
    "duration": 32,
    "start_time": "2022-05-25T21:20:13.086Z"
   },
   {
    "duration": 55,
    "start_time": "2022-05-25T21:20:13.120Z"
   },
   {
    "duration": 9,
    "start_time": "2022-05-25T21:20:13.177Z"
   },
   {
    "duration": 65,
    "start_time": "2022-05-25T21:20:13.188Z"
   },
   {
    "duration": 112,
    "start_time": "2022-05-25T21:20:13.255Z"
   },
   {
    "duration": 35,
    "start_time": "2022-05-25T21:20:13.369Z"
   },
   {
    "duration": 46,
    "start_time": "2022-05-25T21:20:13.406Z"
   },
   {
    "duration": 11,
    "start_time": "2022-05-25T21:20:13.454Z"
   },
   {
    "duration": 5,
    "start_time": "2022-05-25T21:20:13.467Z"
   },
   {
    "duration": 16,
    "start_time": "2022-05-25T21:20:13.473Z"
   },
   {
    "duration": 32,
    "start_time": "2022-05-25T21:20:13.490Z"
   },
   {
    "duration": 39,
    "start_time": "2022-05-25T21:20:13.523Z"
   },
   {
    "duration": 5,
    "start_time": "2022-05-25T21:20:13.564Z"
   },
   {
    "duration": 15,
    "start_time": "2022-05-25T21:20:13.570Z"
   },
   {
    "duration": 85,
    "start_time": "2022-05-25T21:20:13.588Z"
   },
   {
    "duration": 37,
    "start_time": "2022-05-25T21:20:13.674Z"
   },
   {
    "duration": 12,
    "start_time": "2022-05-25T21:20:13.713Z"
   },
   {
    "duration": 29,
    "start_time": "2022-05-25T21:20:13.726Z"
   },
   {
    "duration": 0,
    "start_time": "2022-05-25T21:20:13.756Z"
   },
   {
    "duration": 6,
    "start_time": "2022-05-25T21:20:46.800Z"
   },
   {
    "duration": 176,
    "start_time": "2022-05-25T21:21:09.488Z"
   },
   {
    "duration": 5,
    "start_time": "2022-05-25T21:22:10.196Z"
   },
   {
    "duration": 40,
    "start_time": "2022-05-25T21:25:07.456Z"
   },
   {
    "duration": 35,
    "start_time": "2022-05-25T21:27:46.896Z"
   },
   {
    "duration": 4,
    "start_time": "2022-05-25T21:29:04.556Z"
   },
   {
    "duration": 11,
    "start_time": "2022-05-25T21:32:18.443Z"
   },
   {
    "duration": 38,
    "start_time": "2022-05-25T21:32:49.142Z"
   },
   {
    "duration": 13,
    "start_time": "2022-05-25T21:34:26.543Z"
   },
   {
    "duration": 41,
    "start_time": "2022-05-25T21:34:34.073Z"
   },
   {
    "duration": 45,
    "start_time": "2022-05-25T21:35:38.017Z"
   },
   {
    "duration": 40,
    "start_time": "2022-05-25T21:35:54.277Z"
   },
   {
    "duration": 38,
    "start_time": "2022-05-25T21:39:39.715Z"
   },
   {
    "duration": 35,
    "start_time": "2022-05-25T21:41:28.536Z"
   },
   {
    "duration": 40,
    "start_time": "2022-05-25T21:43:18.998Z"
   },
   {
    "duration": 41,
    "start_time": "2022-05-25T21:44:20.651Z"
   },
   {
    "duration": 13,
    "start_time": "2022-05-25T21:45:57.439Z"
   },
   {
    "duration": 6,
    "start_time": "2022-05-26T15:16:26.271Z"
   },
   {
    "duration": 19,
    "start_time": "2022-05-26T15:19:00.512Z"
   },
   {
    "duration": 40,
    "start_time": "2022-05-26T15:20:27.301Z"
   },
   {
    "duration": 5,
    "start_time": "2022-05-26T15:27:07.459Z"
   },
   {
    "duration": 6,
    "start_time": "2022-05-26T15:27:48.578Z"
   },
   {
    "duration": 538,
    "start_time": "2022-05-26T15:28:11.537Z"
   },
   {
    "duration": 669,
    "start_time": "2022-05-26T15:28:25.370Z"
   },
   {
    "duration": 5,
    "start_time": "2022-05-26T15:29:22.465Z"
   },
   {
    "duration": 233,
    "start_time": "2022-05-26T15:34:30.897Z"
   },
   {
    "duration": 226,
    "start_time": "2022-05-26T15:35:22.312Z"
   },
   {
    "duration": 6,
    "start_time": "2022-05-26T15:35:45.437Z"
   },
   {
    "duration": 7,
    "start_time": "2022-05-26T15:36:52.443Z"
   },
   {
    "duration": 7,
    "start_time": "2022-05-26T15:37:43.662Z"
   },
   {
    "duration": 5,
    "start_time": "2022-05-26T15:39:11.098Z"
   },
   {
    "duration": 6,
    "start_time": "2022-05-26T15:40:32.573Z"
   },
   {
    "duration": 64,
    "start_time": "2022-05-26T16:06:25.776Z"
   },
   {
    "duration": 60,
    "start_time": "2022-05-26T16:07:05.747Z"
   },
   {
    "duration": 33,
    "start_time": "2022-05-26T16:11:12.351Z"
   },
   {
    "duration": 159,
    "start_time": "2022-05-26T16:11:46.286Z"
   },
   {
    "duration": 55,
    "start_time": "2022-05-29T09:47:08.140Z"
   },
   {
    "duration": 680,
    "start_time": "2022-05-29T09:47:14.313Z"
   },
   {
    "duration": 2,
    "start_time": "2022-05-29T09:47:14.995Z"
   },
   {
    "duration": 22,
    "start_time": "2022-05-29T09:47:14.999Z"
   },
   {
    "duration": 138,
    "start_time": "2022-05-29T09:47:15.023Z"
   },
   {
    "duration": 283,
    "start_time": "2022-05-29T09:47:15.164Z"
   },
   {
    "duration": 360,
    "start_time": "2022-05-29T09:47:15.449Z"
   },
   {
    "duration": 360,
    "start_time": "2022-05-29T09:47:15.811Z"
   },
   {
    "duration": 96,
    "start_time": "2022-05-29T09:47:16.173Z"
   },
   {
    "duration": 15,
    "start_time": "2022-05-29T09:47:16.271Z"
   },
   {
    "duration": 36,
    "start_time": "2022-05-29T09:47:16.287Z"
   },
   {
    "duration": 56,
    "start_time": "2022-05-29T09:47:16.325Z"
   },
   {
    "duration": 143,
    "start_time": "2022-05-29T09:47:16.383Z"
   },
   {
    "duration": 12,
    "start_time": "2022-05-29T09:47:16.539Z"
   },
   {
    "duration": 20,
    "start_time": "2022-05-29T09:47:16.555Z"
   },
   {
    "duration": 62,
    "start_time": "2022-05-29T09:47:16.576Z"
   },
   {
    "duration": 30,
    "start_time": "2022-05-29T09:47:16.640Z"
   },
   {
    "duration": 36,
    "start_time": "2022-05-29T09:47:16.672Z"
   },
   {
    "duration": 33,
    "start_time": "2022-05-29T09:47:16.710Z"
   },
   {
    "duration": 27,
    "start_time": "2022-05-29T09:47:16.745Z"
   },
   {
    "duration": 26,
    "start_time": "2022-05-29T09:47:16.773Z"
   },
   {
    "duration": 73,
    "start_time": "2022-05-29T09:47:16.800Z"
   },
   {
    "duration": 66,
    "start_time": "2022-05-29T09:47:16.875Z"
   },
   {
    "duration": 39,
    "start_time": "2022-05-29T09:47:16.944Z"
   },
   {
    "duration": 77,
    "start_time": "2022-05-29T09:47:16.984Z"
   },
   {
    "duration": 70,
    "start_time": "2022-05-29T09:47:17.063Z"
   },
   {
    "duration": 83,
    "start_time": "2022-05-29T09:47:17.135Z"
   },
   {
    "duration": 56,
    "start_time": "2022-05-29T09:47:17.219Z"
   },
   {
    "duration": 27,
    "start_time": "2022-05-29T09:47:17.277Z"
   },
   {
    "duration": 14,
    "start_time": "2022-05-29T09:47:17.327Z"
   },
   {
    "duration": 50,
    "start_time": "2022-05-29T09:47:17.344Z"
   },
   {
    "duration": 153,
    "start_time": "2022-05-29T09:47:17.395Z"
   },
   {
    "duration": 38,
    "start_time": "2022-05-29T09:47:17.549Z"
   },
   {
    "duration": 50,
    "start_time": "2022-05-29T09:47:17.589Z"
   },
   {
    "duration": 12,
    "start_time": "2022-05-29T09:47:17.642Z"
   },
   {
    "duration": 28,
    "start_time": "2022-05-29T09:47:17.656Z"
   },
   {
    "duration": 0,
    "start_time": "2022-05-29T09:47:17.687Z"
   },
   {
    "duration": 0,
    "start_time": "2022-05-29T09:47:17.688Z"
   },
   {
    "duration": 0,
    "start_time": "2022-05-29T09:47:17.689Z"
   },
   {
    "duration": 0,
    "start_time": "2022-05-29T09:47:17.690Z"
   },
   {
    "duration": 0,
    "start_time": "2022-05-29T09:47:17.691Z"
   },
   {
    "duration": 0,
    "start_time": "2022-05-29T09:47:17.692Z"
   },
   {
    "duration": 0,
    "start_time": "2022-05-29T09:47:17.693Z"
   },
   {
    "duration": 0,
    "start_time": "2022-05-29T09:47:17.695Z"
   },
   {
    "duration": 0,
    "start_time": "2022-05-29T09:47:17.695Z"
   },
   {
    "duration": 0,
    "start_time": "2022-05-29T09:47:17.697Z"
   },
   {
    "duration": 0,
    "start_time": "2022-05-29T09:47:17.734Z"
   },
   {
    "duration": 0,
    "start_time": "2022-05-29T09:47:17.735Z"
   },
   {
    "duration": 0,
    "start_time": "2022-05-29T09:47:17.736Z"
   },
   {
    "duration": 0,
    "start_time": "2022-05-29T09:47:17.736Z"
   },
   {
    "duration": 0,
    "start_time": "2022-05-29T09:47:17.737Z"
   },
   {
    "duration": 8,
    "start_time": "2022-05-29T09:47:29.840Z"
   },
   {
    "duration": 412,
    "start_time": "2022-05-29T09:49:46.467Z"
   },
   {
    "duration": 87,
    "start_time": "2022-05-29T09:50:32.354Z"
   },
   {
    "duration": 9,
    "start_time": "2022-05-29T09:51:21.381Z"
   },
   {
    "duration": 2,
    "start_time": "2022-05-29T09:51:29.368Z"
   },
   {
    "duration": 6,
    "start_time": "2022-05-29T09:51:29.373Z"
   },
   {
    "duration": 5,
    "start_time": "2022-05-29T09:51:29.380Z"
   },
   {
    "duration": 84,
    "start_time": "2022-05-29T09:51:29.387Z"
   },
   {
    "duration": 228,
    "start_time": "2022-05-29T09:51:29.473Z"
   },
   {
    "duration": 115,
    "start_time": "2022-05-29T09:51:29.702Z"
   },
   {
    "duration": 169,
    "start_time": "2022-05-29T09:51:29.818Z"
   },
   {
    "duration": 27,
    "start_time": "2022-05-29T09:51:29.989Z"
   },
   {
    "duration": 11,
    "start_time": "2022-05-29T09:51:30.017Z"
   },
   {
    "duration": 17,
    "start_time": "2022-05-29T09:51:30.031Z"
   },
   {
    "duration": 38,
    "start_time": "2022-05-29T09:51:30.050Z"
   },
   {
    "duration": 110,
    "start_time": "2022-05-29T09:51:30.091Z"
   },
   {
    "duration": 10,
    "start_time": "2022-05-29T09:51:30.203Z"
   },
   {
    "duration": 28,
    "start_time": "2022-05-29T09:51:30.215Z"
   },
   {
    "duration": 25,
    "start_time": "2022-05-29T09:51:30.244Z"
   },
   {
    "duration": 22,
    "start_time": "2022-05-29T09:51:30.270Z"
   },
   {
    "duration": 49,
    "start_time": "2022-05-29T09:51:30.294Z"
   },
   {
    "duration": 27,
    "start_time": "2022-05-29T09:51:30.345Z"
   },
   {
    "duration": 35,
    "start_time": "2022-05-29T09:51:30.373Z"
   },
   {
    "duration": 42,
    "start_time": "2022-05-29T09:51:30.409Z"
   },
   {
    "duration": 51,
    "start_time": "2022-05-29T09:51:30.452Z"
   },
   {
    "duration": 58,
    "start_time": "2022-05-29T09:51:30.505Z"
   },
   {
    "duration": 39,
    "start_time": "2022-05-29T09:51:30.565Z"
   },
   {
    "duration": 78,
    "start_time": "2022-05-29T09:51:30.605Z"
   },
   {
    "duration": 66,
    "start_time": "2022-05-29T09:51:30.684Z"
   },
   {
    "duration": 90,
    "start_time": "2022-05-29T09:51:30.751Z"
   },
   {
    "duration": 31,
    "start_time": "2022-05-29T09:51:30.843Z"
   },
   {
    "duration": 69,
    "start_time": "2022-05-29T09:51:30.875Z"
   },
   {
    "duration": 9,
    "start_time": "2022-05-29T09:51:30.946Z"
   },
   {
    "duration": 102,
    "start_time": "2022-05-29T09:51:30.956Z"
   },
   {
    "duration": 171,
    "start_time": "2022-05-29T09:51:31.059Z"
   },
   {
    "duration": 33,
    "start_time": "2022-05-29T09:51:31.243Z"
   },
   {
    "duration": 20,
    "start_time": "2022-05-29T09:51:31.280Z"
   },
   {
    "duration": 37,
    "start_time": "2022-05-29T09:51:31.302Z"
   },
   {
    "duration": 9,
    "start_time": "2022-05-29T09:51:31.341Z"
   },
   {
    "duration": 0,
    "start_time": "2022-05-29T09:51:31.351Z"
   },
   {
    "duration": 0,
    "start_time": "2022-05-29T09:51:31.352Z"
   },
   {
    "duration": 0,
    "start_time": "2022-05-29T09:51:31.353Z"
   },
   {
    "duration": 0,
    "start_time": "2022-05-29T09:51:31.354Z"
   },
   {
    "duration": 0,
    "start_time": "2022-05-29T09:51:31.355Z"
   },
   {
    "duration": 0,
    "start_time": "2022-05-29T09:51:31.356Z"
   },
   {
    "duration": 0,
    "start_time": "2022-05-29T09:51:31.357Z"
   },
   {
    "duration": 0,
    "start_time": "2022-05-29T09:51:31.358Z"
   },
   {
    "duration": 0,
    "start_time": "2022-05-29T09:51:31.359Z"
   },
   {
    "duration": 0,
    "start_time": "2022-05-29T09:51:31.360Z"
   },
   {
    "duration": 0,
    "start_time": "2022-05-29T09:51:31.361Z"
   },
   {
    "duration": 0,
    "start_time": "2022-05-29T09:51:31.362Z"
   },
   {
    "duration": 0,
    "start_time": "2022-05-29T09:51:31.363Z"
   },
   {
    "duration": 0,
    "start_time": "2022-05-29T09:51:31.364Z"
   },
   {
    "duration": 0,
    "start_time": "2022-05-29T09:51:31.365Z"
   },
   {
    "duration": 7,
    "start_time": "2022-05-29T09:51:40.311Z"
   },
   {
    "duration": 7,
    "start_time": "2022-05-29T09:51:46.196Z"
   },
   {
    "duration": 29,
    "start_time": "2022-05-29T09:51:53.339Z"
   },
   {
    "duration": 61,
    "start_time": "2022-05-29T09:58:32.178Z"
   },
   {
    "duration": 57,
    "start_time": "2022-05-29T09:59:04.827Z"
   },
   {
    "duration": 55,
    "start_time": "2022-05-29T10:00:23.555Z"
   },
   {
    "duration": 8,
    "start_time": "2022-05-29T10:00:29.979Z"
   },
   {
    "duration": 94,
    "start_time": "2022-05-29T10:00:33.147Z"
   },
   {
    "duration": 8,
    "start_time": "2022-05-29T10:00:56.709Z"
   },
   {
    "duration": 5,
    "start_time": "2022-05-29T10:01:28.408Z"
   },
   {
    "duration": 3,
    "start_time": "2022-05-29T10:01:33.947Z"
   },
   {
    "duration": 4,
    "start_time": "2022-05-29T10:01:33.952Z"
   },
   {
    "duration": 5,
    "start_time": "2022-05-29T10:01:33.958Z"
   },
   {
    "duration": 93,
    "start_time": "2022-05-29T10:01:33.964Z"
   },
   {
    "duration": 209,
    "start_time": "2022-05-29T10:01:34.059Z"
   },
   {
    "duration": 105,
    "start_time": "2022-05-29T10:01:34.270Z"
   },
   {
    "duration": 149,
    "start_time": "2022-05-29T10:01:34.377Z"
   },
   {
    "duration": 29,
    "start_time": "2022-05-29T10:01:34.534Z"
   },
   {
    "duration": 10,
    "start_time": "2022-05-29T10:01:34.564Z"
   },
   {
    "duration": 8,
    "start_time": "2022-05-29T10:01:34.575Z"
   },
   {
    "duration": 26,
    "start_time": "2022-05-29T10:01:34.584Z"
   },
   {
    "duration": 125,
    "start_time": "2022-05-29T10:01:34.612Z"
   },
   {
    "duration": 11,
    "start_time": "2022-05-29T10:01:34.738Z"
   },
   {
    "duration": 10,
    "start_time": "2022-05-29T10:01:34.752Z"
   },
   {
    "duration": 35,
    "start_time": "2022-05-29T10:01:34.764Z"
   },
   {
    "duration": 46,
    "start_time": "2022-05-29T10:01:34.801Z"
   },
   {
    "duration": 38,
    "start_time": "2022-05-29T10:01:34.849Z"
   },
   {
    "duration": 53,
    "start_time": "2022-05-29T10:01:34.888Z"
   },
   {
    "duration": 28,
    "start_time": "2022-05-29T10:01:34.943Z"
   },
   {
    "duration": 14,
    "start_time": "2022-05-29T10:01:34.972Z"
   },
   {
    "duration": 54,
    "start_time": "2022-05-29T10:01:34.988Z"
   },
   {
    "duration": 58,
    "start_time": "2022-05-29T10:01:35.044Z"
   },
   {
    "duration": 65,
    "start_time": "2022-05-29T10:01:35.104Z"
   },
   {
    "duration": 68,
    "start_time": "2022-05-29T10:01:35.171Z"
   },
   {
    "duration": 64,
    "start_time": "2022-05-29T10:01:35.241Z"
   },
   {
    "duration": 90,
    "start_time": "2022-05-29T10:01:35.307Z"
   },
   {
    "duration": 57,
    "start_time": "2022-05-29T10:01:35.399Z"
   },
   {
    "duration": 33,
    "start_time": "2022-05-29T10:01:35.457Z"
   },
   {
    "duration": 10,
    "start_time": "2022-05-29T10:01:35.492Z"
   },
   {
    "duration": 53,
    "start_time": "2022-05-29T10:01:35.534Z"
   },
   {
    "duration": 125,
    "start_time": "2022-05-29T10:01:35.588Z"
   },
   {
    "duration": 44,
    "start_time": "2022-05-29T10:01:35.714Z"
   },
   {
    "duration": 19,
    "start_time": "2022-05-29T10:01:35.759Z"
   },
   {
    "duration": 10,
    "start_time": "2022-05-29T10:01:35.780Z"
   },
   {
    "duration": 28,
    "start_time": "2022-05-29T10:01:35.792Z"
   },
   {
    "duration": 31,
    "start_time": "2022-05-29T10:01:35.822Z"
   },
   {
    "duration": 42,
    "start_time": "2022-05-29T10:01:35.855Z"
   },
   {
    "duration": 13,
    "start_time": "2022-05-29T10:01:35.899Z"
   },
   {
    "duration": 24,
    "start_time": "2022-05-29T10:01:35.913Z"
   },
   {
    "duration": 0,
    "start_time": "2022-05-29T10:01:35.939Z"
   },
   {
    "duration": 0,
    "start_time": "2022-05-29T10:01:35.940Z"
   },
   {
    "duration": 0,
    "start_time": "2022-05-29T10:01:35.941Z"
   },
   {
    "duration": 0,
    "start_time": "2022-05-29T10:01:35.942Z"
   },
   {
    "duration": 0,
    "start_time": "2022-05-29T10:01:35.943Z"
   },
   {
    "duration": 0,
    "start_time": "2022-05-29T10:01:35.944Z"
   },
   {
    "duration": 0,
    "start_time": "2022-05-29T10:01:35.945Z"
   },
   {
    "duration": 0,
    "start_time": "2022-05-29T10:01:35.946Z"
   },
   {
    "duration": 0,
    "start_time": "2022-05-29T10:01:35.947Z"
   },
   {
    "duration": 0,
    "start_time": "2022-05-29T10:01:35.949Z"
   },
   {
    "duration": 0,
    "start_time": "2022-05-29T10:01:35.950Z"
   },
   {
    "duration": 0,
    "start_time": "2022-05-29T10:01:35.951Z"
   },
   {
    "duration": 395,
    "start_time": "2022-05-29T16:05:32.897Z"
   },
   {
    "duration": 3,
    "start_time": "2022-05-29T16:05:33.294Z"
   },
   {
    "duration": 9,
    "start_time": "2022-05-29T16:05:33.299Z"
   },
   {
    "duration": 116,
    "start_time": "2022-05-29T16:05:33.310Z"
   },
   {
    "duration": 248,
    "start_time": "2022-05-29T16:05:33.428Z"
   },
   {
    "duration": 303,
    "start_time": "2022-05-29T16:05:33.677Z"
   },
   {
    "duration": 343,
    "start_time": "2022-05-29T16:05:33.981Z"
   },
   {
    "duration": 69,
    "start_time": "2022-05-29T16:05:34.326Z"
   },
   {
    "duration": 10,
    "start_time": "2022-05-29T16:05:34.396Z"
   },
   {
    "duration": 15,
    "start_time": "2022-05-29T16:05:34.407Z"
   },
   {
    "duration": 36,
    "start_time": "2022-05-29T16:05:34.424Z"
   },
   {
    "duration": 129,
    "start_time": "2022-05-29T16:05:34.462Z"
   },
   {
    "duration": 10,
    "start_time": "2022-05-29T16:05:34.593Z"
   },
   {
    "duration": 5,
    "start_time": "2022-05-29T16:05:34.606Z"
   },
   {
    "duration": 50,
    "start_time": "2022-05-29T16:05:34.613Z"
   },
   {
    "duration": 22,
    "start_time": "2022-05-29T16:05:34.665Z"
   },
   {
    "duration": 39,
    "start_time": "2022-05-29T16:05:34.689Z"
   },
   {
    "duration": 69,
    "start_time": "2022-05-29T16:05:34.729Z"
   },
   {
    "duration": 33,
    "start_time": "2022-05-29T16:05:34.800Z"
   },
   {
    "duration": 35,
    "start_time": "2022-05-29T16:05:34.834Z"
   },
   {
    "duration": 31,
    "start_time": "2022-05-29T16:05:34.870Z"
   },
   {
    "duration": 80,
    "start_time": "2022-05-29T16:05:34.903Z"
   },
   {
    "duration": 41,
    "start_time": "2022-05-29T16:05:34.984Z"
   },
   {
    "duration": 70,
    "start_time": "2022-05-29T16:05:35.026Z"
   },
   {
    "duration": 60,
    "start_time": "2022-05-29T16:05:35.098Z"
   },
   {
    "duration": 81,
    "start_time": "2022-05-29T16:05:35.160Z"
   },
   {
    "duration": 43,
    "start_time": "2022-05-29T16:05:35.243Z"
   },
   {
    "duration": 35,
    "start_time": "2022-05-29T16:05:35.287Z"
   },
   {
    "duration": 10,
    "start_time": "2022-05-29T16:05:35.358Z"
   },
   {
    "duration": 69,
    "start_time": "2022-05-29T16:05:35.370Z"
   },
   {
    "duration": 105,
    "start_time": "2022-05-29T16:05:35.440Z"
   },
   {
    "duration": 54,
    "start_time": "2022-05-29T16:05:35.546Z"
   },
   {
    "duration": 26,
    "start_time": "2022-05-29T16:05:35.601Z"
   },
   {
    "duration": 40,
    "start_time": "2022-05-29T16:05:35.629Z"
   },
   {
    "duration": 7,
    "start_time": "2022-05-29T16:05:35.671Z"
   },
   {
    "duration": 33,
    "start_time": "2022-05-29T16:05:35.679Z"
   },
   {
    "duration": 54,
    "start_time": "2022-05-29T16:05:35.714Z"
   },
   {
    "duration": 16,
    "start_time": "2022-05-29T16:05:35.770Z"
   },
   {
    "duration": 114,
    "start_time": "2022-05-29T16:05:35.788Z"
   },
   {
    "duration": 0,
    "start_time": "2022-05-29T16:05:35.904Z"
   },
   {
    "duration": 0,
    "start_time": "2022-05-29T16:05:35.906Z"
   },
   {
    "duration": 0,
    "start_time": "2022-05-29T16:05:35.907Z"
   },
   {
    "duration": 0,
    "start_time": "2022-05-29T16:05:35.908Z"
   },
   {
    "duration": 0,
    "start_time": "2022-05-29T16:05:35.909Z"
   },
   {
    "duration": 0,
    "start_time": "2022-05-29T16:05:35.911Z"
   },
   {
    "duration": 0,
    "start_time": "2022-05-29T16:05:35.912Z"
   },
   {
    "duration": 0,
    "start_time": "2022-05-29T16:05:35.913Z"
   },
   {
    "duration": 0,
    "start_time": "2022-05-29T16:05:35.915Z"
   },
   {
    "duration": 0,
    "start_time": "2022-05-29T16:05:35.916Z"
   },
   {
    "duration": 0,
    "start_time": "2022-05-29T16:05:35.917Z"
   },
   {
    "duration": 0,
    "start_time": "2022-05-29T16:05:35.918Z"
   },
   {
    "duration": 7,
    "start_time": "2022-05-29T16:06:00.017Z"
   },
   {
    "duration": 2,
    "start_time": "2022-05-29T16:06:09.878Z"
   },
   {
    "duration": 7,
    "start_time": "2022-05-29T16:06:09.881Z"
   },
   {
    "duration": 7,
    "start_time": "2022-05-29T16:06:09.889Z"
   },
   {
    "duration": 52,
    "start_time": "2022-05-29T16:06:09.898Z"
   },
   {
    "duration": 185,
    "start_time": "2022-05-29T16:06:09.952Z"
   },
   {
    "duration": 109,
    "start_time": "2022-05-29T16:06:10.139Z"
   },
   {
    "duration": 164,
    "start_time": "2022-05-29T16:06:10.250Z"
   },
   {
    "duration": 27,
    "start_time": "2022-05-29T16:06:10.416Z"
   },
   {
    "duration": 15,
    "start_time": "2022-05-29T16:06:10.445Z"
   },
   {
    "duration": 9,
    "start_time": "2022-05-29T16:06:10.463Z"
   },
   {
    "duration": 28,
    "start_time": "2022-05-29T16:06:10.474Z"
   },
   {
    "duration": 122,
    "start_time": "2022-05-29T16:06:10.503Z"
   },
   {
    "duration": 10,
    "start_time": "2022-05-29T16:06:10.627Z"
   },
   {
    "duration": 24,
    "start_time": "2022-05-29T16:06:10.640Z"
   },
   {
    "duration": 30,
    "start_time": "2022-05-29T16:06:10.666Z"
   },
   {
    "duration": 31,
    "start_time": "2022-05-29T16:06:10.698Z"
   },
   {
    "duration": 54,
    "start_time": "2022-05-29T16:06:10.731Z"
   },
   {
    "duration": 30,
    "start_time": "2022-05-29T16:06:10.787Z"
   },
   {
    "duration": 51,
    "start_time": "2022-05-29T16:06:10.818Z"
   },
   {
    "duration": 16,
    "start_time": "2022-05-29T16:06:10.871Z"
   },
   {
    "duration": 34,
    "start_time": "2022-05-29T16:06:10.889Z"
   },
   {
    "duration": 92,
    "start_time": "2022-05-29T16:06:10.924Z"
   },
   {
    "duration": 60,
    "start_time": "2022-05-29T16:06:11.018Z"
   },
   {
    "duration": 80,
    "start_time": "2022-05-29T16:06:11.080Z"
   },
   {
    "duration": 62,
    "start_time": "2022-05-29T16:06:11.161Z"
   },
   {
    "duration": 93,
    "start_time": "2022-05-29T16:06:11.225Z"
   },
   {
    "duration": 52,
    "start_time": "2022-05-29T16:06:11.320Z"
   },
   {
    "duration": 33,
    "start_time": "2022-05-29T16:06:11.376Z"
   },
   {
    "duration": 10,
    "start_time": "2022-05-29T16:06:11.410Z"
   },
   {
    "duration": 79,
    "start_time": "2022-05-29T16:06:11.422Z"
   },
   {
    "duration": 143,
    "start_time": "2022-05-29T16:06:11.503Z"
   },
   {
    "duration": 40,
    "start_time": "2022-05-29T16:06:11.648Z"
   },
   {
    "duration": 21,
    "start_time": "2022-05-29T16:06:11.690Z"
   },
   {
    "duration": 12,
    "start_time": "2022-05-29T16:06:11.713Z"
   },
   {
    "duration": 6,
    "start_time": "2022-05-29T16:06:11.759Z"
   },
   {
    "duration": 29,
    "start_time": "2022-05-29T16:06:11.767Z"
   },
   {
    "duration": 41,
    "start_time": "2022-05-29T16:06:11.798Z"
   },
   {
    "duration": 28,
    "start_time": "2022-05-29T16:06:11.842Z"
   },
   {
    "duration": 8,
    "start_time": "2022-05-29T16:06:11.871Z"
   },
   {
    "duration": 18,
    "start_time": "2022-05-29T16:06:11.881Z"
   },
   {
    "duration": 89,
    "start_time": "2022-05-29T16:06:11.900Z"
   },
   {
    "duration": 46,
    "start_time": "2022-05-29T16:06:11.990Z"
   },
   {
    "duration": 28,
    "start_time": "2022-05-29T16:06:12.037Z"
   },
   {
    "duration": 5,
    "start_time": "2022-05-29T16:06:12.067Z"
   },
   {
    "duration": 43,
    "start_time": "2022-05-29T16:06:12.073Z"
   },
   {
    "duration": 12,
    "start_time": "2022-05-29T16:06:12.117Z"
   },
   {
    "duration": 28,
    "start_time": "2022-05-29T16:06:12.131Z"
   },
   {
    "duration": 56,
    "start_time": "2022-05-29T16:06:12.161Z"
   },
   {
    "duration": 9,
    "start_time": "2022-05-29T16:06:12.219Z"
   },
   {
    "duration": 104,
    "start_time": "2022-05-29T16:06:12.230Z"
   },
   {
    "duration": 73,
    "start_time": "2022-05-29T16:06:12.336Z"
   },
   {
    "duration": 44,
    "start_time": "2022-05-29T16:14:19.715Z"
   },
   {
    "duration": 53,
    "start_time": "2022-05-29T16:18:02.674Z"
   },
   {
    "duration": 82,
    "start_time": "2022-05-29T16:18:56.363Z"
   },
   {
    "duration": 51,
    "start_time": "2022-05-29T16:21:37.771Z"
   },
   {
    "duration": 7,
    "start_time": "2022-05-29T16:23:45.311Z"
   },
   {
    "duration": 25,
    "start_time": "2022-05-29T16:27:15.549Z"
   },
   {
    "duration": 37,
    "start_time": "2022-05-29T16:27:31.089Z"
   },
   {
    "duration": 13,
    "start_time": "2022-05-29T16:28:20.189Z"
   },
   {
    "duration": 7,
    "start_time": "2022-05-29T16:36:18.915Z"
   },
   {
    "duration": 555,
    "start_time": "2022-05-29T16:36:56.187Z"
   },
   {
    "duration": 434,
    "start_time": "2022-05-29T16:37:19.945Z"
   },
   {
    "duration": 11,
    "start_time": "2022-05-29T16:38:19.307Z"
   },
   {
    "duration": 14,
    "start_time": "2022-05-29T16:39:10.593Z"
   },
   {
    "duration": 11,
    "start_time": "2022-05-29T16:40:04.680Z"
   },
   {
    "duration": 5,
    "start_time": "2022-05-29T16:49:53.334Z"
   },
   {
    "duration": 6,
    "start_time": "2022-05-29T16:50:28.691Z"
   },
   {
    "duration": 5,
    "start_time": "2022-05-29T16:52:45.611Z"
   },
   {
    "duration": 5,
    "start_time": "2022-05-29T16:53:10.490Z"
   },
   {
    "duration": 513,
    "start_time": "2022-05-29T16:53:28.756Z"
   },
   {
    "duration": 510,
    "start_time": "2022-05-29T16:54:11.254Z"
   },
   {
    "duration": 7,
    "start_time": "2022-05-29T16:55:07.311Z"
   },
   {
    "duration": 8,
    "start_time": "2022-05-29T16:57:37.913Z"
   },
   {
    "duration": 7,
    "start_time": "2022-05-29T16:58:02.412Z"
   },
   {
    "duration": 5,
    "start_time": "2022-05-29T16:58:29.152Z"
   },
   {
    "duration": 6,
    "start_time": "2022-05-29T16:58:32.352Z"
   },
   {
    "duration": 34,
    "start_time": "2022-05-29T17:00:01.353Z"
   },
   {
    "duration": 34,
    "start_time": "2022-05-29T17:00:38.938Z"
   },
   {
    "duration": 20,
    "start_time": "2022-05-29T17:02:01.953Z"
   },
   {
    "duration": 2,
    "start_time": "2022-05-29T17:03:12.092Z"
   },
   {
    "duration": 2,
    "start_time": "2022-05-29T17:03:12.127Z"
   },
   {
    "duration": 6,
    "start_time": "2022-05-29T17:03:12.131Z"
   },
   {
    "duration": 92,
    "start_time": "2022-05-29T17:03:12.139Z"
   },
   {
    "duration": 241,
    "start_time": "2022-05-29T17:03:12.233Z"
   },
   {
    "duration": 291,
    "start_time": "2022-05-29T17:03:12.476Z"
   },
   {
    "duration": 416,
    "start_time": "2022-05-29T17:03:12.769Z"
   },
   {
    "duration": 97,
    "start_time": "2022-05-29T17:03:13.187Z"
   },
   {
    "duration": 10,
    "start_time": "2022-05-29T17:03:13.286Z"
   },
   {
    "duration": 15,
    "start_time": "2022-05-29T17:03:13.298Z"
   },
   {
    "duration": 86,
    "start_time": "2022-05-29T17:03:13.314Z"
   },
   {
    "duration": 179,
    "start_time": "2022-05-29T17:03:13.401Z"
   },
   {
    "duration": 9,
    "start_time": "2022-05-29T17:03:13.582Z"
   },
   {
    "duration": 6,
    "start_time": "2022-05-29T17:03:13.592Z"
   },
   {
    "duration": 80,
    "start_time": "2022-05-29T17:03:13.600Z"
   },
   {
    "duration": 22,
    "start_time": "2022-05-29T17:03:13.681Z"
   },
   {
    "duration": 158,
    "start_time": "2022-05-29T17:03:13.705Z"
   },
   {
    "duration": 32,
    "start_time": "2022-05-29T17:03:13.865Z"
   },
   {
    "duration": 60,
    "start_time": "2022-05-29T17:03:13.899Z"
   },
   {
    "duration": 15,
    "start_time": "2022-05-29T17:03:13.960Z"
   },
   {
    "duration": 33,
    "start_time": "2022-05-29T17:03:13.976Z"
   },
   {
    "duration": 82,
    "start_time": "2022-05-29T17:03:14.010Z"
   },
   {
    "duration": 39,
    "start_time": "2022-05-29T17:03:14.094Z"
   },
   {
    "duration": 68,
    "start_time": "2022-05-29T17:03:14.135Z"
   },
   {
    "duration": 67,
    "start_time": "2022-05-29T17:03:14.204Z"
   },
   {
    "duration": 71,
    "start_time": "2022-05-29T17:03:14.273Z"
   },
   {
    "duration": 39,
    "start_time": "2022-05-29T17:03:14.346Z"
   },
   {
    "duration": 28,
    "start_time": "2022-05-29T17:03:14.387Z"
   },
   {
    "duration": 46,
    "start_time": "2022-05-29T17:03:14.416Z"
   },
   {
    "duration": 48,
    "start_time": "2022-05-29T17:03:14.464Z"
   },
   {
    "duration": 118,
    "start_time": "2022-05-29T17:03:14.514Z"
   },
   {
    "duration": 48,
    "start_time": "2022-05-29T17:03:14.634Z"
   },
   {
    "duration": 20,
    "start_time": "2022-05-29T17:03:14.684Z"
   },
   {
    "duration": 11,
    "start_time": "2022-05-29T17:03:14.705Z"
   },
   {
    "duration": 6,
    "start_time": "2022-05-29T17:03:14.718Z"
   },
   {
    "duration": 68,
    "start_time": "2022-05-29T17:03:14.725Z"
   },
   {
    "duration": 12,
    "start_time": "2022-05-29T17:03:14.795Z"
   },
   {
    "duration": 5,
    "start_time": "2022-05-29T17:03:14.809Z"
   },
   {
    "duration": 17,
    "start_time": "2022-05-29T17:03:14.816Z"
   },
   {
    "duration": 79,
    "start_time": "2022-05-29T17:03:14.835Z"
   },
   {
    "duration": 58,
    "start_time": "2022-05-29T17:03:14.915Z"
   },
   {
    "duration": 13,
    "start_time": "2022-05-29T17:03:14.977Z"
   },
   {
    "duration": 5,
    "start_time": "2022-05-29T17:03:14.992Z"
   },
   {
    "duration": 62,
    "start_time": "2022-05-29T17:03:14.999Z"
   },
   {
    "duration": 14,
    "start_time": "2022-05-29T17:03:15.063Z"
   },
   {
    "duration": 6,
    "start_time": "2022-05-29T17:03:15.079Z"
   },
   {
    "duration": 79,
    "start_time": "2022-05-29T17:03:15.086Z"
   },
   {
    "duration": 94,
    "start_time": "2022-05-29T17:03:15.167Z"
   },
   {
    "duration": 35,
    "start_time": "2022-05-29T17:03:15.263Z"
   },
   {
    "duration": 12,
    "start_time": "2022-05-29T17:03:15.300Z"
   },
   {
    "duration": 45,
    "start_time": "2022-05-29T17:03:15.314Z"
   },
   {
    "duration": 404,
    "start_time": "2022-05-29T17:03:15.361Z"
   },
   {
    "duration": 0,
    "start_time": "2022-05-29T17:03:15.766Z"
   },
   {
    "duration": 100,
    "start_time": "2022-05-29T17:07:05.494Z"
   },
   {
    "duration": 20,
    "start_time": "2022-05-29T17:10:02.157Z"
   },
   {
    "duration": 684,
    "start_time": "2022-05-29T17:10:11.844Z"
   },
   {
    "duration": 18,
    "start_time": "2022-05-29T17:10:25.897Z"
   },
   {
    "duration": 10,
    "start_time": "2022-05-29T17:10:30.557Z"
   },
   {
    "duration": 8,
    "start_time": "2022-05-29T17:10:43.264Z"
   },
   {
    "duration": 41,
    "start_time": "2022-05-29T17:11:31.877Z"
   },
   {
    "duration": 29,
    "start_time": "2022-05-29T17:11:33.010Z"
   },
   {
    "duration": 32,
    "start_time": "2022-05-29T17:12:44.729Z"
   },
   {
    "duration": 14,
    "start_time": "2022-05-29T17:13:39.976Z"
   },
   {
    "duration": 33,
    "start_time": "2022-05-29T17:13:53.757Z"
   },
   {
    "duration": 13,
    "start_time": "2022-05-29T17:16:54.756Z"
   },
   {
    "duration": 18,
    "start_time": "2022-05-29T17:18:04.245Z"
   },
   {
    "duration": 16,
    "start_time": "2022-05-29T17:18:26.497Z"
   },
   {
    "duration": 3,
    "start_time": "2022-05-29T17:19:12.901Z"
   },
   {
    "duration": 6,
    "start_time": "2022-05-29T17:19:12.906Z"
   },
   {
    "duration": 9,
    "start_time": "2022-05-29T17:19:12.914Z"
   },
   {
    "duration": 69,
    "start_time": "2022-05-29T17:19:12.925Z"
   },
   {
    "duration": 189,
    "start_time": "2022-05-29T17:19:12.998Z"
   },
   {
    "duration": 113,
    "start_time": "2022-05-29T17:19:13.189Z"
   },
   {
    "duration": 162,
    "start_time": "2022-05-29T17:19:13.304Z"
   },
   {
    "duration": 26,
    "start_time": "2022-05-29T17:19:13.468Z"
   },
   {
    "duration": 9,
    "start_time": "2022-05-29T17:19:13.495Z"
   },
   {
    "duration": 6,
    "start_time": "2022-05-29T17:19:13.506Z"
   },
   {
    "duration": 28,
    "start_time": "2022-05-29T17:19:13.514Z"
   },
   {
    "duration": 118,
    "start_time": "2022-05-29T17:19:13.558Z"
   },
   {
    "duration": 9,
    "start_time": "2022-05-29T17:19:13.677Z"
   },
   {
    "duration": 7,
    "start_time": "2022-05-29T17:19:13.689Z"
   },
   {
    "duration": 25,
    "start_time": "2022-05-29T17:19:13.697Z"
   },
   {
    "duration": 51,
    "start_time": "2022-05-29T17:19:13.724Z"
   },
   {
    "duration": 37,
    "start_time": "2022-05-29T17:19:13.777Z"
   },
   {
    "duration": 51,
    "start_time": "2022-05-29T17:19:13.815Z"
   },
   {
    "duration": 29,
    "start_time": "2022-05-29T17:19:13.868Z"
   },
   {
    "duration": 14,
    "start_time": "2022-05-29T17:19:13.899Z"
   },
   {
    "duration": 57,
    "start_time": "2022-05-29T17:19:13.914Z"
   },
   {
    "duration": 57,
    "start_time": "2022-05-29T17:19:13.973Z"
   },
   {
    "duration": 60,
    "start_time": "2022-05-29T17:19:14.032Z"
   },
   {
    "duration": 52,
    "start_time": "2022-05-29T17:19:14.093Z"
   },
   {
    "duration": 63,
    "start_time": "2022-05-29T17:19:14.146Z"
   },
   {
    "duration": 92,
    "start_time": "2022-05-29T17:19:14.211Z"
   },
   {
    "duration": 59,
    "start_time": "2022-05-29T17:19:14.305Z"
   },
   {
    "duration": 30,
    "start_time": "2022-05-29T17:19:14.366Z"
   },
   {
    "duration": 10,
    "start_time": "2022-05-29T17:19:14.398Z"
   },
   {
    "duration": 67,
    "start_time": "2022-05-29T17:19:14.410Z"
   },
   {
    "duration": 91,
    "start_time": "2022-05-29T17:19:14.478Z"
   },
   {
    "duration": 30,
    "start_time": "2022-05-29T17:19:14.570Z"
   },
   {
    "duration": 19,
    "start_time": "2022-05-29T17:19:14.602Z"
   },
   {
    "duration": 43,
    "start_time": "2022-05-29T17:19:14.623Z"
   },
   {
    "duration": 10,
    "start_time": "2022-05-29T17:19:14.668Z"
   },
   {
    "duration": 35,
    "start_time": "2022-05-29T17:19:14.680Z"
   },
   {
    "duration": 11,
    "start_time": "2022-05-29T17:19:14.717Z"
   },
   {
    "duration": 5,
    "start_time": "2022-05-29T17:19:14.729Z"
   },
   {
    "duration": 13,
    "start_time": "2022-05-29T17:19:14.759Z"
   },
   {
    "duration": 61,
    "start_time": "2022-05-29T17:19:14.774Z"
   },
   {
    "duration": 57,
    "start_time": "2022-05-29T17:19:14.839Z"
   },
   {
    "duration": 11,
    "start_time": "2022-05-29T17:19:14.898Z"
   },
   {
    "duration": 5,
    "start_time": "2022-05-29T17:19:14.911Z"
   },
   {
    "duration": 66,
    "start_time": "2022-05-29T17:19:14.917Z"
   },
   {
    "duration": 11,
    "start_time": "2022-05-29T17:19:14.985Z"
   },
   {
    "duration": 27,
    "start_time": "2022-05-29T17:19:14.997Z"
   },
   {
    "duration": 58,
    "start_time": "2022-05-29T17:19:15.026Z"
   },
   {
    "duration": 77,
    "start_time": "2022-05-29T17:19:15.085Z"
   },
   {
    "duration": 30,
    "start_time": "2022-05-29T17:19:15.163Z"
   },
   {
    "duration": 11,
    "start_time": "2022-05-29T17:19:15.195Z"
   },
   {
    "duration": 15,
    "start_time": "2022-05-29T17:19:15.207Z"
   },
   {
    "duration": 7,
    "start_time": "2022-05-29T17:19:15.259Z"
   },
   {
    "duration": 36,
    "start_time": "2022-05-29T17:19:15.268Z"
   },
   {
    "duration": 12,
    "start_time": "2022-05-29T17:19:15.306Z"
   },
   {
    "duration": 39,
    "start_time": "2022-05-29T17:19:15.320Z"
   },
   {
    "duration": 25,
    "start_time": "2022-05-29T17:21:23.745Z"
   },
   {
    "duration": 27,
    "start_time": "2022-05-29T17:22:02.929Z"
   },
   {
    "duration": 21,
    "start_time": "2022-05-29T17:22:17.844Z"
   },
   {
    "duration": 18,
    "start_time": "2022-05-29T17:23:49.243Z"
   },
   {
    "duration": 25,
    "start_time": "2022-05-29T17:24:23.643Z"
   },
   {
    "duration": 5,
    "start_time": "2022-05-29T17:24:32.757Z"
   },
   {
    "duration": 15,
    "start_time": "2022-05-29T17:24:32.774Z"
   },
   {
    "duration": 5,
    "start_time": "2022-05-29T17:24:32.791Z"
   },
   {
    "duration": 60,
    "start_time": "2022-05-29T17:24:32.798Z"
   },
   {
    "duration": 230,
    "start_time": "2022-05-29T17:24:32.860Z"
   },
   {
    "duration": 104,
    "start_time": "2022-05-29T17:24:33.094Z"
   },
   {
    "duration": 164,
    "start_time": "2022-05-29T17:24:33.200Z"
   },
   {
    "duration": 26,
    "start_time": "2022-05-29T17:24:33.366Z"
   },
   {
    "duration": 9,
    "start_time": "2022-05-29T17:24:33.394Z"
   },
   {
    "duration": 10,
    "start_time": "2022-05-29T17:24:33.404Z"
   },
   {
    "duration": 46,
    "start_time": "2022-05-29T17:24:33.416Z"
   },
   {
    "duration": 109,
    "start_time": "2022-05-29T17:24:33.464Z"
   },
   {
    "duration": 10,
    "start_time": "2022-05-29T17:24:33.574Z"
   },
   {
    "duration": 11,
    "start_time": "2022-05-29T17:24:33.586Z"
   },
   {
    "duration": 26,
    "start_time": "2022-05-29T17:24:33.600Z"
   },
   {
    "duration": 43,
    "start_time": "2022-05-29T17:24:33.628Z"
   },
   {
    "duration": 38,
    "start_time": "2022-05-29T17:24:33.673Z"
   },
   {
    "duration": 63,
    "start_time": "2022-05-29T17:24:33.713Z"
   },
   {
    "duration": 43,
    "start_time": "2022-05-29T17:24:33.778Z"
   },
   {
    "duration": 42,
    "start_time": "2022-05-29T17:24:33.825Z"
   },
   {
    "duration": 40,
    "start_time": "2022-05-29T17:24:33.869Z"
   },
   {
    "duration": 108,
    "start_time": "2022-05-29T17:24:33.911Z"
   },
   {
    "duration": 50,
    "start_time": "2022-05-29T17:24:34.020Z"
   },
   {
    "duration": 55,
    "start_time": "2022-05-29T17:24:34.072Z"
   },
   {
    "duration": 67,
    "start_time": "2022-05-29T17:24:34.129Z"
   },
   {
    "duration": 86,
    "start_time": "2022-05-29T17:24:34.197Z"
   },
   {
    "duration": 32,
    "start_time": "2022-05-29T17:24:34.285Z"
   },
   {
    "duration": 61,
    "start_time": "2022-05-29T17:24:34.319Z"
   },
   {
    "duration": 9,
    "start_time": "2022-05-29T17:24:34.382Z"
   },
   {
    "duration": 49,
    "start_time": "2022-05-29T17:24:34.392Z"
   },
   {
    "duration": 100,
    "start_time": "2022-05-29T17:24:34.459Z"
   },
   {
    "duration": 30,
    "start_time": "2022-05-29T17:24:34.560Z"
   },
   {
    "duration": 18,
    "start_time": "2022-05-29T17:24:34.592Z"
   },
   {
    "duration": 48,
    "start_time": "2022-05-29T17:24:34.612Z"
   },
   {
    "duration": 8,
    "start_time": "2022-05-29T17:24:34.661Z"
   },
   {
    "duration": 34,
    "start_time": "2022-05-29T17:24:34.671Z"
   },
   {
    "duration": 12,
    "start_time": "2022-05-29T17:24:34.707Z"
   },
   {
    "duration": 38,
    "start_time": "2022-05-29T17:24:34.721Z"
   },
   {
    "duration": 16,
    "start_time": "2022-05-29T17:24:34.762Z"
   },
   {
    "duration": 56,
    "start_time": "2022-05-29T17:24:34.780Z"
   },
   {
    "duration": 59,
    "start_time": "2022-05-29T17:24:34.838Z"
   },
   {
    "duration": 12,
    "start_time": "2022-05-29T17:24:34.902Z"
   },
   {
    "duration": 8,
    "start_time": "2022-05-29T17:24:34.915Z"
   },
   {
    "duration": 63,
    "start_time": "2022-05-29T17:24:34.925Z"
   },
   {
    "duration": 12,
    "start_time": "2022-05-29T17:24:34.990Z"
   },
   {
    "duration": 5,
    "start_time": "2022-05-29T17:24:35.004Z"
   },
   {
    "duration": 76,
    "start_time": "2022-05-29T17:24:35.011Z"
   },
   {
    "duration": 73,
    "start_time": "2022-05-29T17:24:35.089Z"
   },
   {
    "duration": 45,
    "start_time": "2022-05-29T17:24:35.163Z"
   },
   {
    "duration": 13,
    "start_time": "2022-05-29T17:24:35.210Z"
   },
   {
    "duration": 46,
    "start_time": "2022-05-29T17:24:35.225Z"
   },
   {
    "duration": 7,
    "start_time": "2022-05-29T17:24:35.273Z"
   },
   {
    "duration": 71,
    "start_time": "2022-05-29T17:24:35.281Z"
   },
   {
    "duration": 16,
    "start_time": "2022-05-29T17:24:35.354Z"
   },
   {
    "duration": 29,
    "start_time": "2022-05-29T17:24:35.372Z"
   },
   {
    "duration": 13,
    "start_time": "2022-05-29T17:24:57.897Z"
   },
   {
    "duration": 24,
    "start_time": "2022-05-29T17:26:04.018Z"
   },
   {
    "duration": 4,
    "start_time": "2022-05-29T17:27:58.217Z"
   },
   {
    "duration": 5,
    "start_time": "2022-05-29T17:28:48.557Z"
   },
   {
    "duration": 3,
    "start_time": "2022-05-29T17:32:10.976Z"
   },
   {
    "duration": 58,
    "start_time": "2022-05-29T19:04:38.589Z"
   },
   {
    "duration": 568,
    "start_time": "2022-05-29T19:04:43.926Z"
   },
   {
    "duration": 3,
    "start_time": "2022-05-29T19:04:44.495Z"
   },
   {
    "duration": 8,
    "start_time": "2022-05-29T19:04:44.499Z"
   },
   {
    "duration": 102,
    "start_time": "2022-05-29T19:04:44.508Z"
   },
   {
    "duration": 292,
    "start_time": "2022-05-29T19:04:44.612Z"
   },
   {
    "duration": 290,
    "start_time": "2022-05-29T19:04:44.906Z"
   },
   {
    "duration": 372,
    "start_time": "2022-05-29T19:04:45.197Z"
   },
   {
    "duration": 81,
    "start_time": "2022-05-29T19:04:45.572Z"
   },
   {
    "duration": 12,
    "start_time": "2022-05-29T19:04:45.654Z"
   },
   {
    "duration": 15,
    "start_time": "2022-05-29T19:04:45.668Z"
   },
   {
    "duration": 30,
    "start_time": "2022-05-29T19:04:45.684Z"
   },
   {
    "duration": 113,
    "start_time": "2022-05-29T19:04:45.716Z"
   },
   {
    "duration": 30,
    "start_time": "2022-05-29T19:04:45.830Z"
   },
   {
    "duration": 8,
    "start_time": "2022-05-29T19:04:45.868Z"
   },
   {
    "duration": 25,
    "start_time": "2022-05-29T19:04:45.877Z"
   },
   {
    "duration": 26,
    "start_time": "2022-05-29T19:04:45.904Z"
   },
   {
    "duration": 64,
    "start_time": "2022-05-29T19:04:45.931Z"
   },
   {
    "duration": 25,
    "start_time": "2022-05-29T19:04:45.997Z"
   },
   {
    "duration": 53,
    "start_time": "2022-05-29T19:04:46.024Z"
   },
   {
    "duration": 15,
    "start_time": "2022-05-29T19:04:46.078Z"
   },
   {
    "duration": 33,
    "start_time": "2022-05-29T19:04:46.094Z"
   },
   {
    "duration": 99,
    "start_time": "2022-05-29T19:04:46.128Z"
   },
   {
    "duration": 53,
    "start_time": "2022-05-29T19:04:46.229Z"
   },
   {
    "duration": 58,
    "start_time": "2022-05-29T19:04:46.284Z"
   },
   {
    "duration": 74,
    "start_time": "2022-05-29T19:04:46.344Z"
   },
   {
    "duration": 106,
    "start_time": "2022-05-29T19:04:46.420Z"
   },
   {
    "duration": 57,
    "start_time": "2022-05-29T19:04:46.528Z"
   },
   {
    "duration": 27,
    "start_time": "2022-05-29T19:04:46.586Z"
   },
   {
    "duration": 9,
    "start_time": "2022-05-29T19:04:46.615Z"
   },
   {
    "duration": 84,
    "start_time": "2022-05-29T19:04:46.626Z"
   },
   {
    "duration": 112,
    "start_time": "2022-05-29T19:04:46.712Z"
   },
   {
    "duration": 58,
    "start_time": "2022-05-29T19:04:46.825Z"
   },
   {
    "duration": 21,
    "start_time": "2022-05-29T19:04:46.885Z"
   },
   {
    "duration": 13,
    "start_time": "2022-05-29T19:04:46.908Z"
   },
   {
    "duration": 7,
    "start_time": "2022-05-29T19:04:46.923Z"
   },
   {
    "duration": 74,
    "start_time": "2022-05-29T19:04:46.932Z"
   },
   {
    "duration": 12,
    "start_time": "2022-05-29T19:04:47.008Z"
   },
   {
    "duration": 6,
    "start_time": "2022-05-29T19:04:47.022Z"
   },
   {
    "duration": 18,
    "start_time": "2022-05-29T19:04:47.029Z"
   },
   {
    "duration": 82,
    "start_time": "2022-05-29T19:04:47.048Z"
   },
   {
    "duration": 59,
    "start_time": "2022-05-29T19:04:47.136Z"
   },
   {
    "duration": 15,
    "start_time": "2022-05-29T19:04:47.197Z"
   },
   {
    "duration": 9,
    "start_time": "2022-05-29T19:04:47.214Z"
   },
   {
    "duration": 62,
    "start_time": "2022-05-29T19:04:47.225Z"
   },
   {
    "duration": 17,
    "start_time": "2022-05-29T19:04:47.289Z"
   },
   {
    "duration": 7,
    "start_time": "2022-05-29T19:04:47.308Z"
   },
   {
    "duration": 90,
    "start_time": "2022-05-29T19:04:47.317Z"
   },
   {
    "duration": 104,
    "start_time": "2022-05-29T19:04:47.409Z"
   },
   {
    "duration": 62,
    "start_time": "2022-05-29T19:04:47.515Z"
   },
   {
    "duration": 12,
    "start_time": "2022-05-29T19:04:47.579Z"
   },
   {
    "duration": 16,
    "start_time": "2022-05-29T19:04:47.593Z"
   },
   {
    "duration": 5,
    "start_time": "2022-05-29T19:04:47.610Z"
   },
   {
    "duration": 64,
    "start_time": "2022-05-29T19:04:47.617Z"
   },
   {
    "duration": 13,
    "start_time": "2022-05-29T19:04:47.682Z"
   },
   {
    "duration": 13,
    "start_time": "2022-05-29T19:04:47.696Z"
   },
   {
    "duration": 12,
    "start_time": "2022-05-29T19:04:47.710Z"
   },
   {
    "duration": 7,
    "start_time": "2022-05-29T19:04:47.723Z"
   },
   {
    "duration": 54,
    "start_time": "2022-05-29T19:04:47.732Z"
   },
   {
    "duration": 40,
    "start_time": "2022-05-29T19:13:53.935Z"
   },
   {
    "duration": 6,
    "start_time": "2022-05-29T19:16:30.901Z"
   },
   {
    "duration": 32,
    "start_time": "2022-05-29T19:29:55.524Z"
   },
   {
    "duration": 8,
    "start_time": "2022-05-29T19:30:28.240Z"
   },
   {
    "duration": 42,
    "start_time": "2022-05-29T19:31:07.276Z"
   },
   {
    "duration": 8,
    "start_time": "2022-05-29T19:31:28.120Z"
   },
   {
    "duration": 7,
    "start_time": "2022-05-29T19:33:21.247Z"
   },
   {
    "duration": 9,
    "start_time": "2022-05-29T19:34:24.452Z"
   },
   {
    "duration": 8,
    "start_time": "2022-05-29T19:36:52.880Z"
   },
   {
    "duration": 50,
    "start_time": "2022-05-31T09:20:30.615Z"
   },
   {
    "duration": 71,
    "start_time": "2022-05-31T09:21:53.514Z"
   },
   {
    "duration": 12,
    "start_time": "2022-05-31T09:28:32.615Z"
   },
   {
    "duration": 655,
    "start_time": "2022-05-31T09:28:42.243Z"
   },
   {
    "duration": 3,
    "start_time": "2022-05-31T09:28:42.900Z"
   },
   {
    "duration": 8,
    "start_time": "2022-05-31T09:28:42.904Z"
   },
   {
    "duration": 112,
    "start_time": "2022-05-31T09:28:42.914Z"
   },
   {
    "duration": 240,
    "start_time": "2022-05-31T09:28:43.028Z"
   },
   {
    "duration": 309,
    "start_time": "2022-05-31T09:28:43.270Z"
   },
   {
    "duration": 339,
    "start_time": "2022-05-31T09:28:43.581Z"
   },
   {
    "duration": 74,
    "start_time": "2022-05-31T09:28:43.921Z"
   },
   {
    "duration": 10,
    "start_time": "2022-05-31T09:28:43.996Z"
   },
   {
    "duration": 10,
    "start_time": "2022-05-31T09:28:44.010Z"
   },
   {
    "duration": 39,
    "start_time": "2022-05-31T09:28:44.022Z"
   },
   {
    "duration": 172,
    "start_time": "2022-05-31T09:28:44.063Z"
   },
   {
    "duration": 18,
    "start_time": "2022-05-31T09:28:44.238Z"
   },
   {
    "duration": 7,
    "start_time": "2022-05-31T09:28:44.258Z"
   },
   {
    "duration": 48,
    "start_time": "2022-05-31T09:28:44.267Z"
   },
   {
    "duration": 20,
    "start_time": "2022-05-31T09:28:44.316Z"
   },
   {
    "duration": 63,
    "start_time": "2022-05-31T09:28:44.337Z"
   },
   {
    "duration": 28,
    "start_time": "2022-05-31T09:28:44.402Z"
   },
   {
    "duration": 44,
    "start_time": "2022-05-31T09:28:44.431Z"
   },
   {
    "duration": 19,
    "start_time": "2022-05-31T09:28:44.477Z"
   },
   {
    "duration": 61,
    "start_time": "2022-05-31T09:28:44.498Z"
   },
   {
    "duration": 65,
    "start_time": "2022-05-31T09:28:44.560Z"
   },
   {
    "duration": 58,
    "start_time": "2022-05-31T09:28:44.627Z"
   },
   {
    "duration": 76,
    "start_time": "2022-05-31T09:28:44.687Z"
   },
   {
    "duration": 70,
    "start_time": "2022-05-31T09:28:44.765Z"
   },
   {
    "duration": 102,
    "start_time": "2022-05-31T09:28:44.836Z"
   },
   {
    "duration": 46,
    "start_time": "2022-05-31T09:28:44.940Z"
   },
   {
    "duration": 32,
    "start_time": "2022-05-31T09:28:44.989Z"
   },
   {
    "duration": 11,
    "start_time": "2022-05-31T09:28:45.053Z"
   },
   {
    "duration": 68,
    "start_time": "2022-05-31T09:28:45.066Z"
   },
   {
    "duration": 145,
    "start_time": "2022-05-31T09:28:45.136Z"
   },
   {
    "duration": 57,
    "start_time": "2022-05-31T09:28:45.283Z"
   },
   {
    "duration": 40,
    "start_time": "2022-05-31T09:28:45.354Z"
   },
   {
    "duration": 20,
    "start_time": "2022-05-31T09:28:45.399Z"
   },
   {
    "duration": 32,
    "start_time": "2022-05-31T09:28:45.421Z"
   },
   {
    "duration": 80,
    "start_time": "2022-05-31T09:28:45.456Z"
   },
   {
    "duration": 15,
    "start_time": "2022-05-31T09:28:45.538Z"
   },
   {
    "duration": 18,
    "start_time": "2022-05-31T09:28:45.555Z"
   },
   {
    "duration": 34,
    "start_time": "2022-05-31T09:28:45.576Z"
   },
   {
    "duration": 96,
    "start_time": "2022-05-31T09:28:45.612Z"
   },
   {
    "duration": 59,
    "start_time": "2022-05-31T09:28:45.710Z"
   },
   {
    "duration": 14,
    "start_time": "2022-05-31T09:28:45.771Z"
   },
   {
    "duration": 22,
    "start_time": "2022-05-31T09:28:45.786Z"
   },
   {
    "duration": 53,
    "start_time": "2022-05-31T09:28:45.810Z"
   },
   {
    "duration": 18,
    "start_time": "2022-05-31T09:28:45.865Z"
   },
   {
    "duration": 29,
    "start_time": "2022-05-31T09:28:45.886Z"
   },
   {
    "duration": 80,
    "start_time": "2022-05-31T09:28:45.918Z"
   },
   {
    "duration": 116,
    "start_time": "2022-05-31T09:28:45.999Z"
   },
   {
    "duration": 58,
    "start_time": "2022-05-31T09:28:46.117Z"
   },
   {
    "duration": 18,
    "start_time": "2022-05-31T09:28:46.177Z"
   },
   {
    "duration": 21,
    "start_time": "2022-05-31T09:28:46.196Z"
   },
   {
    "duration": 7,
    "start_time": "2022-05-31T09:28:46.219Z"
   },
   {
    "duration": 42,
    "start_time": "2022-05-31T09:28:46.253Z"
   },
   {
    "duration": 17,
    "start_time": "2022-05-31T09:28:46.297Z"
   },
   {
    "duration": 46,
    "start_time": "2022-05-31T09:28:46.316Z"
   },
   {
    "duration": 7,
    "start_time": "2022-05-31T09:28:46.366Z"
   },
   {
    "duration": 14,
    "start_time": "2022-05-31T09:28:46.375Z"
   },
   {
    "duration": 16,
    "start_time": "2022-05-31T09:28:46.391Z"
   },
   {
    "duration": 8,
    "start_time": "2022-05-31T09:29:09.302Z"
   },
   {
    "duration": 7,
    "start_time": "2022-05-31T09:30:41.287Z"
   },
   {
    "duration": 9,
    "start_time": "2022-05-31T09:31:45.584Z"
   },
   {
    "duration": 8,
    "start_time": "2022-05-31T09:32:27.092Z"
   },
   {
    "duration": 5,
    "start_time": "2022-05-31T09:35:18.068Z"
   },
   {
    "duration": 4,
    "start_time": "2022-05-31T09:37:52.269Z"
   },
   {
    "duration": 7,
    "start_time": "2022-05-31T09:40:24.152Z"
   },
   {
    "duration": 6,
    "start_time": "2022-05-31T09:40:52.707Z"
   },
   {
    "duration": 9,
    "start_time": "2022-05-31T09:41:44.196Z"
   },
   {
    "duration": 626,
    "start_time": "2022-06-01T07:44:15.639Z"
   },
   {
    "duration": 3,
    "start_time": "2022-06-01T07:44:16.267Z"
   },
   {
    "duration": 8,
    "start_time": "2022-06-01T07:44:16.271Z"
   },
   {
    "duration": 98,
    "start_time": "2022-06-01T07:44:16.282Z"
   },
   {
    "duration": 240,
    "start_time": "2022-06-01T07:44:16.382Z"
   },
   {
    "duration": 284,
    "start_time": "2022-06-01T07:44:16.624Z"
   },
   {
    "duration": 314,
    "start_time": "2022-06-01T07:44:16.910Z"
   },
   {
    "duration": 66,
    "start_time": "2022-06-01T07:44:17.226Z"
   },
   {
    "duration": 9,
    "start_time": "2022-06-01T07:44:17.294Z"
   },
   {
    "duration": 16,
    "start_time": "2022-06-01T07:44:17.305Z"
   },
   {
    "duration": 36,
    "start_time": "2022-06-01T07:44:17.322Z"
   },
   {
    "duration": 97,
    "start_time": "2022-06-01T07:44:17.360Z"
   },
   {
    "duration": 10,
    "start_time": "2022-06-01T07:44:17.459Z"
   },
   {
    "duration": 8,
    "start_time": "2022-06-01T07:44:17.470Z"
   },
   {
    "duration": 23,
    "start_time": "2022-06-01T07:44:17.479Z"
   },
   {
    "duration": 39,
    "start_time": "2022-06-01T07:44:17.504Z"
   },
   {
    "duration": 35,
    "start_time": "2022-06-01T07:44:17.544Z"
   },
   {
    "duration": 50,
    "start_time": "2022-06-01T07:44:17.580Z"
   },
   {
    "duration": 26,
    "start_time": "2022-06-01T07:44:17.632Z"
   },
   {
    "duration": 14,
    "start_time": "2022-06-01T07:44:17.659Z"
   },
   {
    "duration": 54,
    "start_time": "2022-06-01T07:44:17.674Z"
   },
   {
    "duration": 62,
    "start_time": "2022-06-01T07:44:17.729Z"
   },
   {
    "duration": 55,
    "start_time": "2022-06-01T07:44:17.792Z"
   },
   {
    "duration": 56,
    "start_time": "2022-06-01T07:44:17.848Z"
   },
   {
    "duration": 64,
    "start_time": "2022-06-01T07:44:17.906Z"
   },
   {
    "duration": 93,
    "start_time": "2022-06-01T07:44:17.971Z"
   },
   {
    "duration": 61,
    "start_time": "2022-06-01T07:44:18.066Z"
   },
   {
    "duration": 28,
    "start_time": "2022-06-01T07:44:18.131Z"
   },
   {
    "duration": 10,
    "start_time": "2022-06-01T07:44:18.161Z"
   },
   {
    "duration": 70,
    "start_time": "2022-06-01T07:44:18.173Z"
   },
   {
    "duration": 119,
    "start_time": "2022-06-01T07:44:18.245Z"
   },
   {
    "duration": 38,
    "start_time": "2022-06-01T07:44:18.366Z"
   },
   {
    "duration": 42,
    "start_time": "2022-06-01T07:44:18.406Z"
   },
   {
    "duration": 14,
    "start_time": "2022-06-01T07:44:18.450Z"
   },
   {
    "duration": 19,
    "start_time": "2022-06-01T07:44:18.466Z"
   },
   {
    "duration": 55,
    "start_time": "2022-06-01T07:44:18.487Z"
   },
   {
    "duration": 11,
    "start_time": "2022-06-01T07:44:18.545Z"
   },
   {
    "duration": 11,
    "start_time": "2022-06-01T07:44:18.558Z"
   },
   {
    "duration": 21,
    "start_time": "2022-06-01T07:44:18.570Z"
   },
   {
    "duration": 81,
    "start_time": "2022-06-01T07:44:18.593Z"
   },
   {
    "duration": 54,
    "start_time": "2022-06-01T07:44:18.675Z"
   },
   {
    "duration": 12,
    "start_time": "2022-06-01T07:44:18.730Z"
   },
   {
    "duration": 5,
    "start_time": "2022-06-01T07:44:18.744Z"
   },
   {
    "duration": 35,
    "start_time": "2022-06-01T07:44:18.751Z"
   },
   {
    "duration": 46,
    "start_time": "2022-06-01T07:44:18.788Z"
   },
   {
    "duration": 5,
    "start_time": "2022-06-01T07:44:18.836Z"
   },
   {
    "duration": 55,
    "start_time": "2022-06-01T07:44:18.843Z"
   },
   {
    "duration": 104,
    "start_time": "2022-06-01T07:44:18.900Z"
   },
   {
    "duration": 48,
    "start_time": "2022-06-01T07:44:19.006Z"
   },
   {
    "duration": 15,
    "start_time": "2022-06-01T07:44:19.056Z"
   },
   {
    "duration": 22,
    "start_time": "2022-06-01T07:44:19.073Z"
   },
   {
    "duration": 11,
    "start_time": "2022-06-01T07:44:19.096Z"
   },
   {
    "duration": 43,
    "start_time": "2022-06-01T07:44:19.127Z"
   },
   {
    "duration": 12,
    "start_time": "2022-06-01T07:44:19.172Z"
   },
   {
    "duration": 12,
    "start_time": "2022-06-01T07:44:19.186Z"
   },
   {
    "duration": 7,
    "start_time": "2022-06-01T07:44:19.226Z"
   },
   {
    "duration": 13,
    "start_time": "2022-06-01T07:44:19.235Z"
   },
   {
    "duration": 3,
    "start_time": "2022-06-01T08:10:07.147Z"
   },
   {
    "duration": 3,
    "start_time": "2022-06-01T08:13:24.339Z"
   },
   {
    "duration": 10,
    "start_time": "2022-06-01T08:13:45.141Z"
   },
   {
    "duration": 3,
    "start_time": "2022-06-01T08:17:01.716Z"
   },
   {
    "duration": 31,
    "start_time": "2022-06-01T08:17:01.721Z"
   },
   {
    "duration": 11,
    "start_time": "2022-06-01T08:17:01.754Z"
   },
   {
    "duration": 68,
    "start_time": "2022-06-01T08:17:01.767Z"
   },
   {
    "duration": 210,
    "start_time": "2022-06-01T08:17:01.837Z"
   },
   {
    "duration": 107,
    "start_time": "2022-06-01T08:17:02.049Z"
   },
   {
    "duration": 169,
    "start_time": "2022-06-01T08:17:02.158Z"
   },
   {
    "duration": 26,
    "start_time": "2022-06-01T08:17:02.329Z"
   },
   {
    "duration": 10,
    "start_time": "2022-06-01T08:17:02.357Z"
   },
   {
    "duration": 27,
    "start_time": "2022-06-01T08:17:02.369Z"
   },
   {
    "duration": 40,
    "start_time": "2022-06-01T08:17:02.398Z"
   },
   {
    "duration": 105,
    "start_time": "2022-06-01T08:17:02.440Z"
   },
   {
    "duration": 13,
    "start_time": "2022-06-01T08:17:02.546Z"
   },
   {
    "duration": 12,
    "start_time": "2022-06-01T08:17:02.561Z"
   },
   {
    "duration": 29,
    "start_time": "2022-06-01T08:17:02.576Z"
   },
   {
    "duration": 55,
    "start_time": "2022-06-01T08:17:02.607Z"
   },
   {
    "duration": 35,
    "start_time": "2022-06-01T08:17:02.664Z"
   },
   {
    "duration": 32,
    "start_time": "2022-06-01T08:17:02.701Z"
   },
   {
    "duration": 28,
    "start_time": "2022-06-01T08:17:02.735Z"
   },
   {
    "duration": 18,
    "start_time": "2022-06-01T08:17:02.765Z"
   },
   {
    "duration": 65,
    "start_time": "2022-06-01T08:17:02.785Z"
   },
   {
    "duration": 61,
    "start_time": "2022-06-01T08:17:02.851Z"
   },
   {
    "duration": 50,
    "start_time": "2022-06-01T08:17:02.913Z"
   },
   {
    "duration": 76,
    "start_time": "2022-06-01T08:17:02.965Z"
   },
   {
    "duration": 51,
    "start_time": "2022-06-01T08:17:03.043Z"
   },
   {
    "duration": 94,
    "start_time": "2022-06-01T08:17:03.095Z"
   },
   {
    "duration": 47,
    "start_time": "2022-06-01T08:17:03.190Z"
   },
   {
    "duration": 28,
    "start_time": "2022-06-01T08:17:03.239Z"
   },
   {
    "duration": 8,
    "start_time": "2022-06-01T08:17:03.269Z"
   },
   {
    "duration": 85,
    "start_time": "2022-06-01T08:17:03.279Z"
   },
   {
    "duration": 123,
    "start_time": "2022-06-01T08:17:03.366Z"
   },
   {
    "duration": 46,
    "start_time": "2022-06-01T08:17:03.490Z"
   },
   {
    "duration": 19,
    "start_time": "2022-06-01T08:17:03.538Z"
   },
   {
    "duration": 12,
    "start_time": "2022-06-01T08:17:03.558Z"
   },
   {
    "duration": 8,
    "start_time": "2022-06-01T08:17:03.571Z"
   },
   {
    "duration": 68,
    "start_time": "2022-06-01T08:17:03.580Z"
   },
   {
    "duration": 12,
    "start_time": "2022-06-01T08:17:03.649Z"
   },
   {
    "duration": 9,
    "start_time": "2022-06-01T08:17:03.662Z"
   },
   {
    "duration": 35,
    "start_time": "2022-06-01T08:17:03.674Z"
   },
   {
    "duration": 63,
    "start_time": "2022-06-01T08:17:03.710Z"
   },
   {
    "duration": 60,
    "start_time": "2022-06-01T08:17:03.774Z"
   },
   {
    "duration": 12,
    "start_time": "2022-06-01T08:17:03.836Z"
   },
   {
    "duration": 10,
    "start_time": "2022-06-01T08:17:03.850Z"
   },
   {
    "duration": 64,
    "start_time": "2022-06-01T08:17:03.862Z"
   },
   {
    "duration": 12,
    "start_time": "2022-06-01T08:17:03.928Z"
   },
   {
    "duration": 10,
    "start_time": "2022-06-01T08:17:03.942Z"
   },
   {
    "duration": 47,
    "start_time": "2022-06-01T08:17:03.954Z"
   },
   {
    "duration": 61,
    "start_time": "2022-06-01T08:17:04.026Z"
   },
   {
    "duration": 48,
    "start_time": "2022-06-01T08:17:04.089Z"
   },
   {
    "duration": 11,
    "start_time": "2022-06-01T08:17:04.139Z"
   },
   {
    "duration": 23,
    "start_time": "2022-06-01T08:17:04.151Z"
   },
   {
    "duration": 13,
    "start_time": "2022-06-01T08:17:04.176Z"
   },
   {
    "duration": 55,
    "start_time": "2022-06-01T08:17:04.191Z"
   },
   {
    "duration": 14,
    "start_time": "2022-06-01T08:17:04.247Z"
   },
   {
    "duration": 23,
    "start_time": "2022-06-01T08:17:04.262Z"
   },
   {
    "duration": 25,
    "start_time": "2022-06-01T08:17:04.287Z"
   },
   {
    "duration": 13,
    "start_time": "2022-06-01T08:17:04.313Z"
   },
   {
    "duration": 3,
    "start_time": "2022-06-01T08:17:56.023Z"
   },
   {
    "duration": 14,
    "start_time": "2022-06-01T08:20:39.751Z"
   },
   {
    "duration": 27,
    "start_time": "2022-06-01T08:25:38.881Z"
   },
   {
    "duration": 90,
    "start_time": "2022-06-01T08:34:03.090Z"
   },
   {
    "duration": 105,
    "start_time": "2022-06-01T08:34:30.430Z"
   },
   {
    "duration": 448,
    "start_time": "2022-06-01T09:48:07.507Z"
   },
   {
    "duration": 7,
    "start_time": "2022-06-01T09:48:07.957Z"
   },
   {
    "duration": 21,
    "start_time": "2022-06-01T09:48:07.966Z"
   },
   {
    "duration": 115,
    "start_time": "2022-06-01T09:48:07.989Z"
   },
   {
    "duration": 259,
    "start_time": "2022-06-01T09:48:08.106Z"
   },
   {
    "duration": 367,
    "start_time": "2022-06-01T09:48:08.367Z"
   },
   {
    "duration": 375,
    "start_time": "2022-06-01T09:48:08.736Z"
   },
   {
    "duration": 97,
    "start_time": "2022-06-01T09:48:09.114Z"
   },
   {
    "duration": 16,
    "start_time": "2022-06-01T09:48:09.213Z"
   },
   {
    "duration": 28,
    "start_time": "2022-06-01T09:48:09.232Z"
   },
   {
    "duration": 50,
    "start_time": "2022-06-01T09:48:09.263Z"
   },
   {
    "duration": 121,
    "start_time": "2022-06-01T09:48:09.315Z"
   },
   {
    "duration": 12,
    "start_time": "2022-06-01T09:48:09.438Z"
   },
   {
    "duration": 20,
    "start_time": "2022-06-01T09:48:09.451Z"
   },
   {
    "duration": 29,
    "start_time": "2022-06-01T09:48:09.473Z"
   },
   {
    "duration": 26,
    "start_time": "2022-06-01T09:48:09.503Z"
   },
   {
    "duration": 74,
    "start_time": "2022-06-01T09:48:09.531Z"
   },
   {
    "duration": 58,
    "start_time": "2022-06-01T09:48:09.607Z"
   },
   {
    "duration": 30,
    "start_time": "2022-06-01T09:48:09.667Z"
   },
   {
    "duration": 16,
    "start_time": "2022-06-01T09:48:09.698Z"
   },
   {
    "duration": 77,
    "start_time": "2022-06-01T09:48:09.716Z"
   },
   {
    "duration": 74,
    "start_time": "2022-06-01T09:48:09.795Z"
   },
   {
    "duration": 46,
    "start_time": "2022-06-01T09:48:09.871Z"
   },
   {
    "duration": 90,
    "start_time": "2022-06-01T09:48:09.918Z"
   },
   {
    "duration": 74,
    "start_time": "2022-06-01T09:48:10.009Z"
   },
   {
    "duration": 115,
    "start_time": "2022-06-01T09:48:10.085Z"
   },
   {
    "duration": 65,
    "start_time": "2022-06-01T09:48:10.202Z"
   },
   {
    "duration": 36,
    "start_time": "2022-06-01T09:48:10.271Z"
   },
   {
    "duration": 11,
    "start_time": "2022-06-01T09:48:10.308Z"
   },
   {
    "duration": 86,
    "start_time": "2022-06-01T09:48:10.321Z"
   },
   {
    "duration": 127,
    "start_time": "2022-06-01T09:48:10.409Z"
   },
   {
    "duration": 63,
    "start_time": "2022-06-01T09:48:10.538Z"
   },
   {
    "duration": 28,
    "start_time": "2022-06-01T09:48:10.604Z"
   },
   {
    "duration": 37,
    "start_time": "2022-06-01T09:48:10.634Z"
   },
   {
    "duration": 6,
    "start_time": "2022-06-01T09:48:10.673Z"
   },
   {
    "duration": 40,
    "start_time": "2022-06-01T09:48:10.680Z"
   },
   {
    "duration": 15,
    "start_time": "2022-06-01T09:48:10.722Z"
   },
   {
    "duration": 30,
    "start_time": "2022-06-01T09:48:10.738Z"
   },
   {
    "duration": 18,
    "start_time": "2022-06-01T09:48:10.770Z"
   },
   {
    "duration": 93,
    "start_time": "2022-06-01T09:48:10.790Z"
   },
   {
    "duration": 52,
    "start_time": "2022-06-01T09:48:10.885Z"
   },
   {
    "duration": 38,
    "start_time": "2022-06-01T09:48:10.939Z"
   },
   {
    "duration": 6,
    "start_time": "2022-06-01T09:48:10.978Z"
   },
   {
    "duration": 44,
    "start_time": "2022-06-01T09:48:10.986Z"
   },
   {
    "duration": 38,
    "start_time": "2022-06-01T09:48:11.032Z"
   },
   {
    "duration": 5,
    "start_time": "2022-06-01T09:48:11.072Z"
   },
   {
    "duration": 53,
    "start_time": "2022-06-01T09:48:11.078Z"
   },
   {
    "duration": 119,
    "start_time": "2022-06-01T09:48:11.132Z"
   },
   {
    "duration": 46,
    "start_time": "2022-06-01T09:48:11.253Z"
   },
   {
    "duration": 14,
    "start_time": "2022-06-01T09:48:11.300Z"
   },
   {
    "duration": 18,
    "start_time": "2022-06-01T09:48:11.316Z"
   },
   {
    "duration": 33,
    "start_time": "2022-06-01T09:48:11.335Z"
   },
   {
    "duration": 40,
    "start_time": "2022-06-01T09:48:11.370Z"
   },
   {
    "duration": 15,
    "start_time": "2022-06-01T09:48:11.412Z"
   },
   {
    "duration": 42,
    "start_time": "2022-06-01T09:48:11.429Z"
   },
   {
    "duration": 27,
    "start_time": "2022-06-01T09:48:11.473Z"
   },
   {
    "duration": 12,
    "start_time": "2022-06-01T09:48:11.503Z"
   },
   {
    "duration": 29,
    "start_time": "2022-06-01T09:48:11.517Z"
   },
   {
    "duration": 145,
    "start_time": "2022-06-01T09:48:11.548Z"
   },
   {
    "duration": 14,
    "start_time": "2022-06-01T10:02:52.817Z"
   },
   {
    "duration": 11,
    "start_time": "2022-06-01T10:02:57.998Z"
   },
   {
    "duration": 78,
    "start_time": "2022-06-01T10:12:15.230Z"
   },
   {
    "duration": 10,
    "start_time": "2022-06-01T10:13:09.401Z"
   },
   {
    "duration": 105,
    "start_time": "2022-06-01T10:13:25.928Z"
   },
   {
    "duration": 425,
    "start_time": "2022-06-01T10:17:26.317Z"
   },
   {
    "duration": 2,
    "start_time": "2022-06-01T10:17:26.745Z"
   },
   {
    "duration": 13,
    "start_time": "2022-06-01T10:17:26.752Z"
   },
   {
    "duration": 66,
    "start_time": "2022-06-01T10:17:26.766Z"
   },
   {
    "duration": 195,
    "start_time": "2022-06-01T10:17:26.835Z"
   },
   {
    "duration": 120,
    "start_time": "2022-06-01T10:17:27.032Z"
   },
   {
    "duration": 175,
    "start_time": "2022-06-01T10:17:27.154Z"
   },
   {
    "duration": 29,
    "start_time": "2022-06-01T10:17:27.331Z"
   },
   {
    "duration": 10,
    "start_time": "2022-06-01T10:17:27.364Z"
   },
   {
    "duration": 11,
    "start_time": "2022-06-01T10:17:27.375Z"
   },
   {
    "duration": 13,
    "start_time": "2022-06-01T10:17:27.388Z"
   },
   {
    "duration": 28,
    "start_time": "2022-06-01T10:17:27.403Z"
   },
   {
    "duration": 139,
    "start_time": "2022-06-01T10:17:27.433Z"
   },
   {
    "duration": 13,
    "start_time": "2022-06-01T10:17:27.574Z"
   },
   {
    "duration": 6,
    "start_time": "2022-06-01T10:17:27.589Z"
   },
   {
    "duration": 37,
    "start_time": "2022-06-01T10:17:27.596Z"
   },
   {
    "duration": 39,
    "start_time": "2022-06-01T10:17:27.635Z"
   },
   {
    "duration": 38,
    "start_time": "2022-06-01T10:17:27.676Z"
   },
   {
    "duration": 29,
    "start_time": "2022-06-01T10:17:27.715Z"
   },
   {
    "duration": 30,
    "start_time": "2022-06-01T10:17:27.764Z"
   },
   {
    "duration": 15,
    "start_time": "2022-06-01T10:17:27.796Z"
   },
   {
    "duration": 61,
    "start_time": "2022-06-01T10:17:27.812Z"
   },
   {
    "duration": 70,
    "start_time": "2022-06-01T10:17:27.874Z"
   },
   {
    "duration": 62,
    "start_time": "2022-06-01T10:17:27.946Z"
   },
   {
    "duration": 82,
    "start_time": "2022-06-01T10:17:28.009Z"
   },
   {
    "duration": 72,
    "start_time": "2022-06-01T10:17:28.093Z"
   },
   {
    "duration": 97,
    "start_time": "2022-06-01T10:17:28.169Z"
   },
   {
    "duration": 39,
    "start_time": "2022-06-01T10:17:28.268Z"
   },
   {
    "duration": 67,
    "start_time": "2022-06-01T10:17:28.308Z"
   },
   {
    "duration": 10,
    "start_time": "2022-06-01T10:17:28.377Z"
   },
   {
    "duration": 59,
    "start_time": "2022-06-01T10:17:28.388Z"
   },
   {
    "duration": 142,
    "start_time": "2022-06-01T10:17:28.465Z"
   },
   {
    "duration": 63,
    "start_time": "2022-06-01T10:17:28.609Z"
   },
   {
    "duration": 28,
    "start_time": "2022-06-01T10:17:28.674Z"
   },
   {
    "duration": 14,
    "start_time": "2022-06-01T10:17:28.704Z"
   },
   {
    "duration": 7,
    "start_time": "2022-06-01T10:17:28.719Z"
   },
   {
    "duration": 72,
    "start_time": "2022-06-01T10:17:28.728Z"
   },
   {
    "duration": 13,
    "start_time": "2022-06-01T10:17:28.802Z"
   },
   {
    "duration": 6,
    "start_time": "2022-06-01T10:17:28.817Z"
   },
   {
    "duration": 45,
    "start_time": "2022-06-01T10:17:28.824Z"
   },
   {
    "duration": 104,
    "start_time": "2022-06-01T10:17:28.871Z"
   },
   {
    "duration": 63,
    "start_time": "2022-06-01T10:17:28.978Z"
   },
   {
    "duration": 19,
    "start_time": "2022-06-01T10:17:29.064Z"
   },
   {
    "duration": 8,
    "start_time": "2022-06-01T10:17:29.085Z"
   },
   {
    "duration": 76,
    "start_time": "2022-06-01T10:17:29.096Z"
   },
   {
    "duration": 15,
    "start_time": "2022-06-01T10:17:29.173Z"
   },
   {
    "duration": 6,
    "start_time": "2022-06-01T10:17:29.190Z"
   },
   {
    "duration": 80,
    "start_time": "2022-06-01T10:17:29.198Z"
   },
   {
    "duration": 114,
    "start_time": "2022-06-01T10:17:29.281Z"
   },
   {
    "duration": 38,
    "start_time": "2022-06-01T10:17:29.397Z"
   },
   {
    "duration": 38,
    "start_time": "2022-06-01T10:17:29.437Z"
   },
   {
    "duration": 17,
    "start_time": "2022-06-01T10:17:29.477Z"
   },
   {
    "duration": 6,
    "start_time": "2022-06-01T10:17:29.496Z"
   },
   {
    "duration": 68,
    "start_time": "2022-06-01T10:17:29.504Z"
   },
   {
    "duration": 14,
    "start_time": "2022-06-01T10:17:29.574Z"
   },
   {
    "duration": 18,
    "start_time": "2022-06-01T10:17:29.590Z"
   },
   {
    "duration": 14,
    "start_time": "2022-06-01T10:17:29.610Z"
   },
   {
    "duration": 46,
    "start_time": "2022-06-01T10:17:29.626Z"
   },
   {
    "duration": 35,
    "start_time": "2022-06-01T10:17:29.674Z"
   },
   {
    "duration": 268,
    "start_time": "2022-06-01T10:17:29.711Z"
   },
   {
    "duration": 26,
    "start_time": "2022-06-01T10:17:43.288Z"
   },
   {
    "duration": 11,
    "start_time": "2022-06-01T10:19:30.373Z"
   },
   {
    "duration": 96,
    "start_time": "2022-06-01T10:20:00.396Z"
   },
   {
    "duration": 14,
    "start_time": "2022-06-01T10:20:06.326Z"
   },
   {
    "duration": 14,
    "start_time": "2022-06-01T10:20:14.477Z"
   },
   {
    "duration": 25,
    "start_time": "2022-06-01T10:20:21.580Z"
   },
   {
    "duration": 6,
    "start_time": "2022-06-01T10:20:24.306Z"
   },
   {
    "duration": 10,
    "start_time": "2022-06-01T10:20:26.742Z"
   },
   {
    "duration": 30,
    "start_time": "2022-06-01T10:20:37.078Z"
   },
   {
    "duration": 14,
    "start_time": "2022-06-01T10:20:46.371Z"
   },
   {
    "duration": 55,
    "start_time": "2022-06-01T10:46:23.327Z"
   },
   {
    "duration": 30,
    "start_time": "2022-06-02T05:07:38.666Z"
   },
   {
    "duration": 471,
    "start_time": "2022-06-02T05:07:52.805Z"
   },
   {
    "duration": 95,
    "start_time": "2022-06-02T05:07:53.278Z"
   },
   {
    "duration": 214,
    "start_time": "2022-06-02T05:07:53.374Z"
   },
   {
    "duration": 282,
    "start_time": "2022-06-02T05:07:53.590Z"
   },
   {
    "duration": 301,
    "start_time": "2022-06-02T05:07:53.873Z"
   },
   {
    "duration": 69,
    "start_time": "2022-06-02T05:07:54.176Z"
   },
   {
    "duration": 8,
    "start_time": "2022-06-02T05:07:54.246Z"
   },
   {
    "duration": 10,
    "start_time": "2022-06-02T05:07:54.256Z"
   },
   {
    "duration": 5,
    "start_time": "2022-06-02T05:07:54.267Z"
   },
   {
    "duration": 20,
    "start_time": "2022-06-02T05:07:54.274Z"
   },
   {
    "duration": 100,
    "start_time": "2022-06-02T05:07:54.295Z"
   },
   {
    "duration": 8,
    "start_time": "2022-06-02T05:07:54.396Z"
   },
   {
    "duration": 6,
    "start_time": "2022-06-02T05:07:54.405Z"
   },
   {
    "duration": 26,
    "start_time": "2022-06-02T05:07:54.412Z"
   },
   {
    "duration": 45,
    "start_time": "2022-06-02T05:07:54.439Z"
   },
   {
    "duration": 31,
    "start_time": "2022-06-02T05:07:54.486Z"
   },
   {
    "duration": 25,
    "start_time": "2022-06-02T05:07:54.519Z"
   },
   {
    "duration": 51,
    "start_time": "2022-06-02T05:07:54.546Z"
   },
   {
    "duration": 13,
    "start_time": "2022-06-02T05:07:54.598Z"
   },
   {
    "duration": 31,
    "start_time": "2022-06-02T05:07:54.613Z"
   },
   {
    "duration": 54,
    "start_time": "2022-06-02T05:07:54.675Z"
   },
   {
    "duration": 50,
    "start_time": "2022-06-02T05:07:54.730Z"
   },
   {
    "duration": 49,
    "start_time": "2022-06-02T05:07:54.781Z"
   },
   {
    "duration": 69,
    "start_time": "2022-06-02T05:07:54.831Z"
   },
   {
    "duration": 85,
    "start_time": "2022-06-02T05:07:54.902Z"
   },
   {
    "duration": 28,
    "start_time": "2022-06-02T05:07:54.989Z"
   },
   {
    "duration": 59,
    "start_time": "2022-06-02T05:07:55.018Z"
   },
   {
    "duration": 8,
    "start_time": "2022-06-02T05:07:55.080Z"
   },
   {
    "duration": 41,
    "start_time": "2022-06-02T05:07:55.090Z"
   },
   {
    "duration": 121,
    "start_time": "2022-06-02T05:07:55.133Z"
   },
   {
    "duration": 41,
    "start_time": "2022-06-02T05:07:55.255Z"
   },
   {
    "duration": 19,
    "start_time": "2022-06-02T05:07:55.298Z"
   },
   {
    "duration": 11,
    "start_time": "2022-06-02T05:07:55.318Z"
   },
   {
    "duration": 6,
    "start_time": "2022-06-02T05:07:55.331Z"
   },
   {
    "duration": 29,
    "start_time": "2022-06-02T05:07:55.376Z"
   },
   {
    "duration": 12,
    "start_time": "2022-06-02T05:07:55.406Z"
   },
   {
    "duration": 5,
    "start_time": "2022-06-02T05:07:55.419Z"
   },
   {
    "duration": 20,
    "start_time": "2022-06-02T05:07:55.425Z"
   },
   {
    "duration": 56,
    "start_time": "2022-06-02T05:07:55.474Z"
   },
   {
    "duration": 57,
    "start_time": "2022-06-02T05:07:55.531Z"
   },
   {
    "duration": 12,
    "start_time": "2022-06-02T05:07:55.590Z"
   },
   {
    "duration": 5,
    "start_time": "2022-06-02T05:07:55.603Z"
   },
   {
    "duration": 31,
    "start_time": "2022-06-02T05:07:55.609Z"
   },
   {
    "duration": 13,
    "start_time": "2022-06-02T05:07:55.674Z"
   },
   {
    "duration": 4,
    "start_time": "2022-06-02T05:07:55.689Z"
   },
   {
    "duration": 43,
    "start_time": "2022-06-02T05:07:55.695Z"
   },
   {
    "duration": 114,
    "start_time": "2022-06-02T05:07:55.740Z"
   },
   {
    "duration": 56,
    "start_time": "2022-06-02T05:07:55.855Z"
   },
   {
    "duration": 13,
    "start_time": "2022-06-02T05:07:55.912Z"
   },
   {
    "duration": 15,
    "start_time": "2022-06-02T05:07:55.926Z"
   },
   {
    "duration": 5,
    "start_time": "2022-06-02T05:07:55.975Z"
   },
   {
    "duration": 29,
    "start_time": "2022-06-02T05:07:55.982Z"
   },
   {
    "duration": 10,
    "start_time": "2022-06-02T05:07:56.012Z"
   },
   {
    "duration": 10,
    "start_time": "2022-06-02T05:07:56.023Z"
   },
   {
    "duration": 41,
    "start_time": "2022-06-02T05:07:56.034Z"
   },
   {
    "duration": 10,
    "start_time": "2022-06-02T05:07:56.077Z"
   },
   {
    "duration": 39,
    "start_time": "2022-06-02T05:07:56.088Z"
   },
   {
    "duration": 103,
    "start_time": "2022-06-02T05:07:56.128Z"
   },
   {
    "duration": 20,
    "start_time": "2022-06-02T05:20:33.774Z"
   },
   {
    "duration": 30,
    "start_time": "2022-06-02T05:28:02.988Z"
   },
   {
    "duration": 4,
    "start_time": "2022-06-02T05:29:32.749Z"
   },
   {
    "duration": 63,
    "start_time": "2022-06-02T05:30:02.948Z"
   },
   {
    "duration": 5,
    "start_time": "2022-06-02T05:30:06.511Z"
   },
   {
    "duration": 11,
    "start_time": "2022-06-02T05:35:05.975Z"
   },
   {
    "duration": 7,
    "start_time": "2022-06-02T05:38:48.147Z"
   },
   {
    "duration": 222,
    "start_time": "2022-06-02T05:46:57.308Z"
   },
   {
    "duration": 3,
    "start_time": "2022-06-02T05:48:38.355Z"
   },
   {
    "duration": 5,
    "start_time": "2022-06-02T05:51:04.486Z"
   },
   {
    "duration": 10,
    "start_time": "2022-06-02T05:51:25.666Z"
   },
   {
    "duration": 9,
    "start_time": "2022-06-02T05:51:53.016Z"
   },
   {
    "duration": 9,
    "start_time": "2022-06-02T05:52:05.567Z"
   },
   {
    "duration": 8,
    "start_time": "2022-06-02T05:52:11.626Z"
   },
   {
    "duration": 2,
    "start_time": "2022-06-02T05:52:21.215Z"
   },
   {
    "duration": 51,
    "start_time": "2022-06-02T05:52:21.219Z"
   },
   {
    "duration": 154,
    "start_time": "2022-06-02T05:52:21.272Z"
   },
   {
    "duration": 105,
    "start_time": "2022-06-02T05:52:21.427Z"
   },
   {
    "duration": 136,
    "start_time": "2022-06-02T05:52:21.534Z"
   },
   {
    "duration": 25,
    "start_time": "2022-06-02T05:52:21.675Z"
   },
   {
    "duration": 8,
    "start_time": "2022-06-02T05:52:21.701Z"
   },
   {
    "duration": 7,
    "start_time": "2022-06-02T05:52:21.711Z"
   },
   {
    "duration": 7,
    "start_time": "2022-06-02T05:52:21.720Z"
   },
   {
    "duration": 47,
    "start_time": "2022-06-02T05:52:21.728Z"
   },
   {
    "duration": 7,
    "start_time": "2022-06-02T05:52:21.778Z"
   },
   {
    "duration": 12,
    "start_time": "2022-06-02T05:52:21.786Z"
   },
   {
    "duration": 5,
    "start_time": "2022-06-02T05:52:21.800Z"
   },
   {
    "duration": 36,
    "start_time": "2022-06-02T05:52:21.807Z"
   },
   {
    "duration": 52,
    "start_time": "2022-06-02T05:52:21.845Z"
   },
   {
    "duration": 38,
    "start_time": "2022-06-02T05:52:21.898Z"
   },
   {
    "duration": 48,
    "start_time": "2022-06-02T05:52:21.938Z"
   },
   {
    "duration": 27,
    "start_time": "2022-06-02T05:52:21.988Z"
   },
   {
    "duration": 15,
    "start_time": "2022-06-02T05:52:22.016Z"
   },
   {
    "duration": 70,
    "start_time": "2022-06-02T05:52:22.032Z"
   },
   {
    "duration": 71,
    "start_time": "2022-06-02T05:52:22.104Z"
   },
   {
    "duration": 37,
    "start_time": "2022-06-02T05:52:22.176Z"
   },
   {
    "duration": 64,
    "start_time": "2022-06-02T05:52:22.214Z"
   },
   {
    "duration": 67,
    "start_time": "2022-06-02T05:52:22.280Z"
   },
   {
    "duration": 33,
    "start_time": "2022-06-02T05:52:22.348Z"
   },
   {
    "duration": 0,
    "start_time": "2022-06-02T05:52:22.383Z"
   },
   {
    "duration": 0,
    "start_time": "2022-06-02T05:52:22.385Z"
   },
   {
    "duration": 0,
    "start_time": "2022-06-02T05:52:22.386Z"
   },
   {
    "duration": 0,
    "start_time": "2022-06-02T05:52:22.388Z"
   },
   {
    "duration": 0,
    "start_time": "2022-06-02T05:52:22.389Z"
   },
   {
    "duration": 0,
    "start_time": "2022-06-02T05:52:22.390Z"
   },
   {
    "duration": 0,
    "start_time": "2022-06-02T05:52:22.391Z"
   },
   {
    "duration": 0,
    "start_time": "2022-06-02T05:52:22.393Z"
   },
   {
    "duration": 0,
    "start_time": "2022-06-02T05:52:22.394Z"
   },
   {
    "duration": 0,
    "start_time": "2022-06-02T05:52:22.395Z"
   },
   {
    "duration": 0,
    "start_time": "2022-06-02T05:52:22.398Z"
   },
   {
    "duration": 0,
    "start_time": "2022-06-02T05:52:22.399Z"
   },
   {
    "duration": 0,
    "start_time": "2022-06-02T05:52:22.400Z"
   },
   {
    "duration": 0,
    "start_time": "2022-06-02T05:52:22.402Z"
   },
   {
    "duration": 0,
    "start_time": "2022-06-02T05:52:22.403Z"
   },
   {
    "duration": 0,
    "start_time": "2022-06-02T05:52:22.404Z"
   },
   {
    "duration": 0,
    "start_time": "2022-06-02T05:52:22.405Z"
   },
   {
    "duration": 0,
    "start_time": "2022-06-02T05:52:22.406Z"
   },
   {
    "duration": 0,
    "start_time": "2022-06-02T05:52:22.408Z"
   },
   {
    "duration": 0,
    "start_time": "2022-06-02T05:52:22.409Z"
   },
   {
    "duration": 0,
    "start_time": "2022-06-02T05:52:22.410Z"
   },
   {
    "duration": 0,
    "start_time": "2022-06-02T05:52:22.411Z"
   },
   {
    "duration": 0,
    "start_time": "2022-06-02T05:52:22.412Z"
   },
   {
    "duration": 0,
    "start_time": "2022-06-02T05:52:22.413Z"
   },
   {
    "duration": 0,
    "start_time": "2022-06-02T05:52:22.414Z"
   },
   {
    "duration": 0,
    "start_time": "2022-06-02T05:52:22.416Z"
   },
   {
    "duration": 0,
    "start_time": "2022-06-02T05:52:22.417Z"
   },
   {
    "duration": 0,
    "start_time": "2022-06-02T05:52:22.418Z"
   },
   {
    "duration": 0,
    "start_time": "2022-06-02T05:52:22.420Z"
   },
   {
    "duration": 0,
    "start_time": "2022-06-02T05:52:22.474Z"
   },
   {
    "duration": 0,
    "start_time": "2022-06-02T05:52:22.476Z"
   },
   {
    "duration": 0,
    "start_time": "2022-06-02T05:52:22.477Z"
   },
   {
    "duration": 0,
    "start_time": "2022-06-02T05:52:22.478Z"
   },
   {
    "duration": 486,
    "start_time": "2022-06-02T05:52:44.734Z"
   },
   {
    "duration": 11,
    "start_time": "2022-06-02T05:53:34.846Z"
   },
   {
    "duration": 27,
    "start_time": "2022-06-02T05:54:32.606Z"
   },
   {
    "duration": 31,
    "start_time": "2022-06-02T05:57:53.988Z"
   },
   {
    "duration": 52,
    "start_time": "2022-06-02T05:58:59.826Z"
   },
   {
    "duration": 485,
    "start_time": "2022-06-02T05:59:36.466Z"
   },
   {
    "duration": 3,
    "start_time": "2022-06-02T05:59:46.985Z"
   },
   {
    "duration": 64,
    "start_time": "2022-06-02T05:59:46.989Z"
   },
   {
    "duration": 163,
    "start_time": "2022-06-02T05:59:47.054Z"
   },
   {
    "duration": 105,
    "start_time": "2022-06-02T05:59:47.219Z"
   },
   {
    "duration": 155,
    "start_time": "2022-06-02T05:59:47.326Z"
   },
   {
    "duration": 25,
    "start_time": "2022-06-02T05:59:47.483Z"
   },
   {
    "duration": 10,
    "start_time": "2022-06-02T05:59:47.509Z"
   },
   {
    "duration": 7,
    "start_time": "2022-06-02T05:59:47.520Z"
   },
   {
    "duration": 7,
    "start_time": "2022-06-02T05:59:47.529Z"
   },
   {
    "duration": 52,
    "start_time": "2022-06-02T05:59:47.538Z"
   },
   {
    "duration": 8,
    "start_time": "2022-06-02T05:59:47.592Z"
   },
   {
    "duration": 10,
    "start_time": "2022-06-02T05:59:47.602Z"
   },
   {
    "duration": 11,
    "start_time": "2022-06-02T05:59:47.613Z"
   },
   {
    "duration": 51,
    "start_time": "2022-06-02T05:59:47.626Z"
   },
   {
    "duration": 19,
    "start_time": "2022-06-02T05:59:47.679Z"
   },
   {
    "duration": 545,
    "start_time": "2022-06-02T05:59:47.699Z"
   },
   {
    "duration": 0,
    "start_time": "2022-06-02T05:59:48.246Z"
   },
   {
    "duration": 0,
    "start_time": "2022-06-02T05:59:48.248Z"
   },
   {
    "duration": 0,
    "start_time": "2022-06-02T05:59:48.248Z"
   },
   {
    "duration": 0,
    "start_time": "2022-06-02T05:59:48.249Z"
   },
   {
    "duration": 0,
    "start_time": "2022-06-02T05:59:48.250Z"
   },
   {
    "duration": 0,
    "start_time": "2022-06-02T05:59:48.251Z"
   },
   {
    "duration": 0,
    "start_time": "2022-06-02T05:59:48.252Z"
   },
   {
    "duration": 0,
    "start_time": "2022-06-02T05:59:48.253Z"
   },
   {
    "duration": 0,
    "start_time": "2022-06-02T05:59:48.254Z"
   },
   {
    "duration": 0,
    "start_time": "2022-06-02T05:59:48.255Z"
   },
   {
    "duration": 0,
    "start_time": "2022-06-02T05:59:48.256Z"
   },
   {
    "duration": 0,
    "start_time": "2022-06-02T05:59:48.256Z"
   },
   {
    "duration": 0,
    "start_time": "2022-06-02T05:59:48.257Z"
   },
   {
    "duration": 0,
    "start_time": "2022-06-02T05:59:48.258Z"
   },
   {
    "duration": 0,
    "start_time": "2022-06-02T05:59:48.259Z"
   },
   {
    "duration": 0,
    "start_time": "2022-06-02T05:59:48.260Z"
   },
   {
    "duration": 0,
    "start_time": "2022-06-02T05:59:48.261Z"
   },
   {
    "duration": 0,
    "start_time": "2022-06-02T05:59:48.262Z"
   },
   {
    "duration": 0,
    "start_time": "2022-06-02T05:59:48.262Z"
   },
   {
    "duration": 0,
    "start_time": "2022-06-02T05:59:48.263Z"
   },
   {
    "duration": 1,
    "start_time": "2022-06-02T05:59:48.264Z"
   },
   {
    "duration": 0,
    "start_time": "2022-06-02T05:59:48.265Z"
   },
   {
    "duration": 0,
    "start_time": "2022-06-02T05:59:48.266Z"
   },
   {
    "duration": 0,
    "start_time": "2022-06-02T05:59:48.267Z"
   },
   {
    "duration": 0,
    "start_time": "2022-06-02T05:59:48.269Z"
   },
   {
    "duration": 0,
    "start_time": "2022-06-02T05:59:48.270Z"
   },
   {
    "duration": 0,
    "start_time": "2022-06-02T05:59:48.271Z"
   },
   {
    "duration": 0,
    "start_time": "2022-06-02T05:59:48.272Z"
   },
   {
    "duration": 0,
    "start_time": "2022-06-02T05:59:48.273Z"
   },
   {
    "duration": 0,
    "start_time": "2022-06-02T05:59:48.275Z"
   },
   {
    "duration": 0,
    "start_time": "2022-06-02T05:59:48.276Z"
   },
   {
    "duration": 0,
    "start_time": "2022-06-02T05:59:48.277Z"
   },
   {
    "duration": 0,
    "start_time": "2022-06-02T05:59:48.278Z"
   },
   {
    "duration": 0,
    "start_time": "2022-06-02T05:59:48.279Z"
   },
   {
    "duration": 0,
    "start_time": "2022-06-02T05:59:48.281Z"
   },
   {
    "duration": 0,
    "start_time": "2022-06-02T05:59:48.282Z"
   },
   {
    "duration": 0,
    "start_time": "2022-06-02T05:59:48.283Z"
   },
   {
    "duration": 0,
    "start_time": "2022-06-02T05:59:48.284Z"
   },
   {
    "duration": 0,
    "start_time": "2022-06-02T05:59:48.285Z"
   },
   {
    "duration": 0,
    "start_time": "2022-06-02T05:59:48.286Z"
   },
   {
    "duration": 0,
    "start_time": "2022-06-02T05:59:48.287Z"
   },
   {
    "duration": 1,
    "start_time": "2022-06-02T05:59:48.288Z"
   },
   {
    "duration": 27,
    "start_time": "2022-06-02T06:00:58.454Z"
   },
   {
    "duration": 10,
    "start_time": "2022-06-02T06:26:08.892Z"
   },
   {
    "duration": 32,
    "start_time": "2022-06-02T06:27:07.387Z"
   },
   {
    "duration": 28,
    "start_time": "2022-06-02T06:27:35.104Z"
   },
   {
    "duration": 3,
    "start_time": "2022-06-02T06:27:57.764Z"
   },
   {
    "duration": 85,
    "start_time": "2022-06-02T06:27:57.768Z"
   },
   {
    "duration": 189,
    "start_time": "2022-06-02T06:27:57.854Z"
   },
   {
    "duration": 107,
    "start_time": "2022-06-02T06:27:58.045Z"
   },
   {
    "duration": 165,
    "start_time": "2022-06-02T06:27:58.155Z"
   },
   {
    "duration": 26,
    "start_time": "2022-06-02T06:27:58.322Z"
   },
   {
    "duration": 9,
    "start_time": "2022-06-02T06:27:58.349Z"
   },
   {
    "duration": 16,
    "start_time": "2022-06-02T06:27:58.359Z"
   },
   {
    "duration": 5,
    "start_time": "2022-06-02T06:27:58.376Z"
   },
   {
    "duration": 47,
    "start_time": "2022-06-02T06:27:58.382Z"
   },
   {
    "duration": 14,
    "start_time": "2022-06-02T06:27:58.431Z"
   },
   {
    "duration": 9,
    "start_time": "2022-06-02T06:27:58.446Z"
   },
   {
    "duration": 22,
    "start_time": "2022-06-02T06:27:58.457Z"
   },
   {
    "duration": 31,
    "start_time": "2022-06-02T06:27:58.481Z"
   },
   {
    "duration": 18,
    "start_time": "2022-06-02T06:27:58.514Z"
   },
   {
    "duration": 53,
    "start_time": "2022-06-02T06:27:58.533Z"
   },
   {
    "duration": 33,
    "start_time": "2022-06-02T06:27:58.587Z"
   },
   {
    "duration": 26,
    "start_time": "2022-06-02T06:29:15.443Z"
   },
   {
    "duration": 547,
    "start_time": "2022-06-02T06:39:18.321Z"
   },
   {
    "duration": 92,
    "start_time": "2022-06-02T06:39:48.393Z"
   },
   {
    "duration": 82,
    "start_time": "2022-06-02T06:40:14.311Z"
   },
   {
    "duration": 2,
    "start_time": "2022-06-02T06:41:17.089Z"
   },
   {
    "duration": 73,
    "start_time": "2022-06-02T06:41:17.093Z"
   },
   {
    "duration": 173,
    "start_time": "2022-06-02T06:41:17.168Z"
   },
   {
    "duration": 98,
    "start_time": "2022-06-02T06:41:17.342Z"
   },
   {
    "duration": 145,
    "start_time": "2022-06-02T06:41:17.442Z"
   },
   {
    "duration": 30,
    "start_time": "2022-06-02T06:41:17.593Z"
   },
   {
    "duration": 8,
    "start_time": "2022-06-02T06:41:17.624Z"
   },
   {
    "duration": 5,
    "start_time": "2022-06-02T06:41:17.633Z"
   },
   {
    "duration": 9,
    "start_time": "2022-06-02T06:41:17.639Z"
   },
   {
    "duration": 48,
    "start_time": "2022-06-02T06:41:17.649Z"
   },
   {
    "duration": 10,
    "start_time": "2022-06-02T06:41:17.698Z"
   },
   {
    "duration": 13,
    "start_time": "2022-06-02T06:41:17.709Z"
   },
   {
    "duration": 5,
    "start_time": "2022-06-02T06:41:17.723Z"
   },
   {
    "duration": 19,
    "start_time": "2022-06-02T06:41:17.731Z"
   },
   {
    "duration": 60,
    "start_time": "2022-06-02T06:41:17.751Z"
   },
   {
    "duration": 27,
    "start_time": "2022-06-02T06:41:17.812Z"
   },
   {
    "duration": 46,
    "start_time": "2022-06-02T06:41:17.840Z"
   },
   {
    "duration": 89,
    "start_time": "2022-06-02T06:41:21.743Z"
   },
   {
    "duration": 29,
    "start_time": "2022-06-02T06:42:26.643Z"
   },
   {
    "duration": 75,
    "start_time": "2022-06-02T06:43:42.272Z"
   },
   {
    "duration": 65,
    "start_time": "2022-06-02T06:44:29.391Z"
   },
   {
    "duration": 69,
    "start_time": "2022-06-02T06:50:42.446Z"
   },
   {
    "duration": 62,
    "start_time": "2022-06-02T06:50:55.065Z"
   },
   {
    "duration": 55,
    "start_time": "2022-06-02T06:50:57.924Z"
   },
   {
    "duration": 58,
    "start_time": "2022-06-02T06:51:37.252Z"
   },
   {
    "duration": 47,
    "start_time": "2022-06-02T06:53:04.318Z"
   },
   {
    "duration": 65,
    "start_time": "2022-06-02T06:57:31.924Z"
   },
   {
    "duration": 9,
    "start_time": "2022-06-02T06:58:55.119Z"
   },
   {
    "duration": 104,
    "start_time": "2022-06-02T06:59:19.703Z"
   },
   {
    "duration": 93,
    "start_time": "2022-06-02T06:59:31.612Z"
   },
   {
    "duration": 99,
    "start_time": "2022-06-02T06:59:37.006Z"
   },
   {
    "duration": 84,
    "start_time": "2022-06-02T07:01:45.066Z"
   },
   {
    "duration": 79,
    "start_time": "2022-06-02T07:02:25.573Z"
   },
   {
    "duration": 95,
    "start_time": "2022-06-02T07:03:16.467Z"
   },
   {
    "duration": 82,
    "start_time": "2022-06-02T07:03:32.399Z"
   },
   {
    "duration": 73,
    "start_time": "2022-06-02T07:03:50.866Z"
   },
   {
    "duration": 83,
    "start_time": "2022-06-02T07:04:07.773Z"
   },
   {
    "duration": 96,
    "start_time": "2022-06-02T07:04:51.206Z"
   },
   {
    "duration": 110,
    "start_time": "2022-06-02T07:05:49.599Z"
   },
   {
    "duration": 71,
    "start_time": "2022-06-02T07:06:22.215Z"
   },
   {
    "duration": 59,
    "start_time": "2022-06-02T07:06:46.906Z"
   },
   {
    "duration": 6,
    "start_time": "2022-06-02T07:08:13.735Z"
   },
   {
    "duration": 46,
    "start_time": "2022-06-02T07:10:26.697Z"
   },
   {
    "duration": 44,
    "start_time": "2022-06-02T07:57:16.624Z"
   },
   {
    "duration": 71,
    "start_time": "2022-06-02T08:01:41.233Z"
   },
   {
    "duration": 14,
    "start_time": "2022-06-02T08:05:25.389Z"
   },
   {
    "duration": 2,
    "start_time": "2022-06-02T08:05:38.354Z"
   },
   {
    "duration": 55,
    "start_time": "2022-06-02T08:05:38.368Z"
   },
   {
    "duration": 172,
    "start_time": "2022-06-02T08:05:38.424Z"
   },
   {
    "duration": 98,
    "start_time": "2022-06-02T08:05:38.598Z"
   },
   {
    "duration": 146,
    "start_time": "2022-06-02T08:05:38.698Z"
   },
   {
    "duration": 24,
    "start_time": "2022-06-02T08:05:38.846Z"
   },
   {
    "duration": 16,
    "start_time": "2022-06-02T08:05:38.872Z"
   },
   {
    "duration": 14,
    "start_time": "2022-06-02T08:05:38.890Z"
   },
   {
    "duration": 10,
    "start_time": "2022-06-02T08:05:38.905Z"
   },
   {
    "duration": 18,
    "start_time": "2022-06-02T08:05:38.916Z"
   },
   {
    "duration": 41,
    "start_time": "2022-06-02T08:05:38.935Z"
   },
   {
    "duration": 12,
    "start_time": "2022-06-02T08:05:38.978Z"
   },
   {
    "duration": 14,
    "start_time": "2022-06-02T08:05:38.993Z"
   },
   {
    "duration": 5,
    "start_time": "2022-06-02T08:05:39.009Z"
   },
   {
    "duration": 101,
    "start_time": "2022-06-02T08:05:39.016Z"
   },
   {
    "duration": 101,
    "start_time": "2022-06-02T08:05:39.118Z"
   },
   {
    "duration": 19,
    "start_time": "2022-06-02T08:05:39.221Z"
   },
   {
    "duration": 40,
    "start_time": "2022-06-02T08:05:39.241Z"
   },
   {
    "duration": 73,
    "start_time": "2022-06-02T08:05:39.283Z"
   },
   {
    "duration": 37,
    "start_time": "2022-06-02T08:05:39.357Z"
   },
   {
    "duration": 49,
    "start_time": "2022-06-02T08:05:39.396Z"
   },
   {
    "duration": 75,
    "start_time": "2022-06-02T08:05:39.447Z"
   },
   {
    "duration": 66,
    "start_time": "2022-06-02T08:05:39.524Z"
   },
   {
    "duration": 17,
    "start_time": "2022-06-02T08:05:39.592Z"
   },
   {
    "duration": 14,
    "start_time": "2022-06-02T08:05:39.610Z"
   },
   {
    "duration": 0,
    "start_time": "2022-06-02T08:05:39.626Z"
   },
   {
    "duration": 0,
    "start_time": "2022-06-02T08:05:39.628Z"
   },
   {
    "duration": 0,
    "start_time": "2022-06-02T08:05:39.629Z"
   },
   {
    "duration": 0,
    "start_time": "2022-06-02T08:05:39.630Z"
   },
   {
    "duration": 0,
    "start_time": "2022-06-02T08:05:39.631Z"
   },
   {
    "duration": 0,
    "start_time": "2022-06-02T08:05:39.632Z"
   },
   {
    "duration": 0,
    "start_time": "2022-06-02T08:05:39.633Z"
   },
   {
    "duration": 0,
    "start_time": "2022-06-02T08:05:39.634Z"
   },
   {
    "duration": 0,
    "start_time": "2022-06-02T08:05:39.636Z"
   },
   {
    "duration": 0,
    "start_time": "2022-06-02T08:05:39.637Z"
   },
   {
    "duration": 0,
    "start_time": "2022-06-02T08:05:39.676Z"
   },
   {
    "duration": 0,
    "start_time": "2022-06-02T08:05:39.678Z"
   },
   {
    "duration": 0,
    "start_time": "2022-06-02T08:05:39.679Z"
   },
   {
    "duration": 0,
    "start_time": "2022-06-02T08:05:39.680Z"
   },
   {
    "duration": 0,
    "start_time": "2022-06-02T08:05:39.681Z"
   },
   {
    "duration": 0,
    "start_time": "2022-06-02T08:05:39.682Z"
   },
   {
    "duration": 0,
    "start_time": "2022-06-02T08:05:39.684Z"
   },
   {
    "duration": 0,
    "start_time": "2022-06-02T08:05:39.685Z"
   },
   {
    "duration": 0,
    "start_time": "2022-06-02T08:05:39.687Z"
   },
   {
    "duration": 0,
    "start_time": "2022-06-02T08:05:39.688Z"
   },
   {
    "duration": 0,
    "start_time": "2022-06-02T08:05:39.689Z"
   },
   {
    "duration": 0,
    "start_time": "2022-06-02T08:05:39.690Z"
   },
   {
    "duration": 0,
    "start_time": "2022-06-02T08:05:39.691Z"
   },
   {
    "duration": 0,
    "start_time": "2022-06-02T08:05:39.692Z"
   },
   {
    "duration": 0,
    "start_time": "2022-06-02T08:05:39.694Z"
   },
   {
    "duration": 0,
    "start_time": "2022-06-02T08:05:39.695Z"
   },
   {
    "duration": 0,
    "start_time": "2022-06-02T08:05:39.696Z"
   },
   {
    "duration": 0,
    "start_time": "2022-06-02T08:05:39.697Z"
   },
   {
    "duration": 0,
    "start_time": "2022-06-02T08:05:39.698Z"
   },
   {
    "duration": 0,
    "start_time": "2022-06-02T08:05:39.699Z"
   },
   {
    "duration": 0,
    "start_time": "2022-06-02T08:05:39.700Z"
   },
   {
    "duration": 0,
    "start_time": "2022-06-02T08:05:39.703Z"
   },
   {
    "duration": 0,
    "start_time": "2022-06-02T08:05:39.704Z"
   },
   {
    "duration": 0,
    "start_time": "2022-06-02T08:05:39.705Z"
   },
   {
    "duration": 0,
    "start_time": "2022-06-02T08:05:39.707Z"
   },
   {
    "duration": 0,
    "start_time": "2022-06-02T08:05:39.712Z"
   },
   {
    "duration": 0,
    "start_time": "2022-06-02T08:05:39.713Z"
   },
   {
    "duration": 0,
    "start_time": "2022-06-02T08:05:39.715Z"
   },
   {
    "duration": 61,
    "start_time": "2022-06-02T08:10:21.351Z"
   },
   {
    "duration": 8,
    "start_time": "2022-06-02T08:11:04.805Z"
   },
   {
    "duration": 41,
    "start_time": "2022-06-02T08:11:50.891Z"
   },
   {
    "duration": 36,
    "start_time": "2022-06-02T08:12:26.605Z"
   },
   {
    "duration": 2,
    "start_time": "2022-06-02T09:35:28.050Z"
   },
   {
    "duration": 40,
    "start_time": "2022-06-02T09:48:15.991Z"
   },
   {
    "duration": 3,
    "start_time": "2022-06-02T09:49:23.471Z"
   },
   {
    "duration": 38,
    "start_time": "2022-06-02T09:51:35.122Z"
   },
   {
    "duration": 7,
    "start_time": "2022-06-02T09:52:47.463Z"
   },
   {
    "duration": 10,
    "start_time": "2022-06-02T09:54:06.492Z"
   },
   {
    "duration": 8,
    "start_time": "2022-06-02T09:54:28.087Z"
   },
   {
    "duration": 278,
    "start_time": "2022-06-02T09:54:44.272Z"
   },
   {
    "duration": 27,
    "start_time": "2022-06-02T09:55:20.232Z"
   },
   {
    "duration": 28,
    "start_time": "2022-06-02T09:56:29.271Z"
   },
   {
    "duration": 37,
    "start_time": "2022-06-02T09:57:36.661Z"
   },
   {
    "duration": 44,
    "start_time": "2022-06-02T09:58:18.835Z"
   },
   {
    "duration": 32,
    "start_time": "2022-06-02T09:59:01.191Z"
   },
   {
    "duration": 55,
    "start_time": "2022-06-02T09:59:23.005Z"
   },
   {
    "duration": 2,
    "start_time": "2022-06-02T10:00:42.084Z"
   },
   {
    "duration": 8,
    "start_time": "2022-06-02T10:01:40.763Z"
   },
   {
    "duration": 9,
    "start_time": "2022-06-02T10:01:46.804Z"
   },
   {
    "duration": 2,
    "start_time": "2022-06-02T10:02:05.550Z"
   },
   {
    "duration": 54,
    "start_time": "2022-06-02T10:02:05.561Z"
   },
   {
    "duration": 178,
    "start_time": "2022-06-02T10:02:05.618Z"
   },
   {
    "duration": 127,
    "start_time": "2022-06-02T10:02:05.798Z"
   },
   {
    "duration": 151,
    "start_time": "2022-06-02T10:02:05.927Z"
   },
   {
    "duration": 28,
    "start_time": "2022-06-02T10:02:06.080Z"
   },
   {
    "duration": 10,
    "start_time": "2022-06-02T10:02:06.110Z"
   },
   {
    "duration": 10,
    "start_time": "2022-06-02T10:02:06.121Z"
   },
   {
    "duration": 9,
    "start_time": "2022-06-02T10:02:06.133Z"
   },
   {
    "duration": 9,
    "start_time": "2022-06-02T10:02:06.143Z"
   },
   {
    "duration": 42,
    "start_time": "2022-06-02T10:02:06.153Z"
   },
   {
    "duration": 11,
    "start_time": "2022-06-02T10:02:06.197Z"
   },
   {
    "duration": 15,
    "start_time": "2022-06-02T10:02:06.209Z"
   },
   {
    "duration": 6,
    "start_time": "2022-06-02T10:02:06.226Z"
   },
   {
    "duration": 99,
    "start_time": "2022-06-02T10:02:06.235Z"
   },
   {
    "duration": 110,
    "start_time": "2022-06-02T10:02:06.336Z"
   },
   {
    "duration": 32,
    "start_time": "2022-06-02T10:02:06.448Z"
   },
   {
    "duration": 20,
    "start_time": "2022-06-02T10:02:06.482Z"
   },
   {
    "duration": 97,
    "start_time": "2022-06-02T10:02:06.504Z"
   },
   {
    "duration": 28,
    "start_time": "2022-06-02T10:02:06.603Z"
   },
   {
    "duration": 77,
    "start_time": "2022-06-02T10:02:06.633Z"
   },
   {
    "duration": 76,
    "start_time": "2022-06-02T10:02:06.712Z"
   },
   {
    "duration": 70,
    "start_time": "2022-06-02T10:02:06.790Z"
   },
   {
    "duration": 16,
    "start_time": "2022-06-02T10:02:06.874Z"
   },
   {
    "duration": 47,
    "start_time": "2022-06-02T10:02:06.892Z"
   },
   {
    "duration": 65,
    "start_time": "2022-06-02T10:02:06.940Z"
   },
   {
    "duration": 3,
    "start_time": "2022-06-02T10:02:41.531Z"
   },
   {
    "duration": 56,
    "start_time": "2022-06-02T10:02:41.536Z"
   },
   {
    "duration": 197,
    "start_time": "2022-06-02T10:02:41.594Z"
   },
   {
    "duration": 117,
    "start_time": "2022-06-02T10:02:41.794Z"
   },
   {
    "duration": 147,
    "start_time": "2022-06-02T10:02:41.913Z"
   },
   {
    "duration": 26,
    "start_time": "2022-06-02T10:02:42.062Z"
   },
   {
    "duration": 9,
    "start_time": "2022-06-02T10:02:42.090Z"
   },
   {
    "duration": 8,
    "start_time": "2022-06-02T10:02:42.100Z"
   },
   {
    "duration": 7,
    "start_time": "2022-06-02T10:02:42.110Z"
   },
   {
    "duration": 9,
    "start_time": "2022-06-02T10:02:42.119Z"
   },
   {
    "duration": 45,
    "start_time": "2022-06-02T10:02:42.130Z"
   },
   {
    "duration": 10,
    "start_time": "2022-06-02T10:02:42.176Z"
   },
   {
    "duration": 10,
    "start_time": "2022-06-02T10:02:42.188Z"
   },
   {
    "duration": 8,
    "start_time": "2022-06-02T10:02:42.199Z"
   },
   {
    "duration": 114,
    "start_time": "2022-06-02T10:02:42.209Z"
   },
   {
    "duration": 138,
    "start_time": "2022-06-02T10:02:42.326Z"
   },
   {
    "duration": 36,
    "start_time": "2022-06-02T10:02:42.466Z"
   },
   {
    "duration": 31,
    "start_time": "2022-06-02T10:02:42.504Z"
   },
   {
    "duration": 117,
    "start_time": "2022-06-02T10:02:42.539Z"
   },
   {
    "duration": 27,
    "start_time": "2022-06-02T10:02:45.095Z"
   },
   {
    "duration": 2,
    "start_time": "2022-06-02T10:03:26.671Z"
   },
   {
    "duration": 30,
    "start_time": "2022-06-02T10:06:47.693Z"
   },
   {
    "duration": 9,
    "start_time": "2022-06-02T10:06:56.824Z"
   },
   {
    "duration": 156,
    "start_time": "2022-06-02T10:07:29.952Z"
   },
   {
    "duration": 3,
    "start_time": "2022-06-02T10:07:45.472Z"
   },
   {
    "duration": 69,
    "start_time": "2022-06-02T10:07:45.477Z"
   },
   {
    "duration": 193,
    "start_time": "2022-06-02T10:07:45.548Z"
   },
   {
    "duration": 132,
    "start_time": "2022-06-02T10:07:45.743Z"
   },
   {
    "duration": 4,
    "start_time": "2022-06-02T10:08:50.743Z"
   },
   {
    "duration": 57,
    "start_time": "2022-06-02T10:08:56.955Z"
   },
   {
    "duration": 211,
    "start_time": "2022-06-02T10:09:01.275Z"
   },
   {
    "duration": 139,
    "start_time": "2022-06-02T10:09:04.395Z"
   },
   {
    "duration": 194,
    "start_time": "2022-06-02T10:09:07.255Z"
   },
   {
    "duration": 3,
    "start_time": "2022-06-02T10:10:01.655Z"
   },
   {
    "duration": 58,
    "start_time": "2022-06-02T10:10:01.660Z"
   },
   {
    "duration": 188,
    "start_time": "2022-06-02T10:10:01.719Z"
   },
   {
    "duration": 113,
    "start_time": "2022-06-02T10:10:01.909Z"
   },
   {
    "duration": 152,
    "start_time": "2022-06-02T10:10:02.024Z"
   },
   {
    "duration": 26,
    "start_time": "2022-06-02T10:10:02.178Z"
   },
   {
    "duration": 12,
    "start_time": "2022-06-02T10:10:02.205Z"
   },
   {
    "duration": 12,
    "start_time": "2022-06-02T10:10:02.218Z"
   },
   {
    "duration": 20,
    "start_time": "2022-06-02T10:10:02.231Z"
   },
   {
    "duration": 9,
    "start_time": "2022-06-02T10:10:02.253Z"
   },
   {
    "duration": 25,
    "start_time": "2022-06-02T10:10:02.264Z"
   },
   {
    "duration": 10,
    "start_time": "2022-06-02T10:10:02.291Z"
   },
   {
    "duration": 19,
    "start_time": "2022-06-02T10:10:02.302Z"
   },
   {
    "duration": 14,
    "start_time": "2022-06-02T10:10:02.325Z"
   },
   {
    "duration": 87,
    "start_time": "2022-06-02T10:10:02.340Z"
   },
   {
    "duration": 94,
    "start_time": "2022-06-02T10:10:02.428Z"
   },
   {
    "duration": 23,
    "start_time": "2022-06-02T10:10:02.524Z"
   },
   {
    "duration": 38,
    "start_time": "2022-06-02T10:10:02.548Z"
   },
   {
    "duration": 96,
    "start_time": "2022-06-02T10:10:02.587Z"
   },
   {
    "duration": 35,
    "start_time": "2022-06-02T10:10:02.685Z"
   },
   {
    "duration": 91,
    "start_time": "2022-06-02T10:10:02.722Z"
   },
   {
    "duration": 79,
    "start_time": "2022-06-02T10:10:02.815Z"
   },
   {
    "duration": 58,
    "start_time": "2022-06-02T10:10:02.895Z"
   },
   {
    "duration": 23,
    "start_time": "2022-06-02T10:10:02.955Z"
   },
   {
    "duration": 60,
    "start_time": "2022-06-02T10:10:02.980Z"
   },
   {
    "duration": 33,
    "start_time": "2022-06-02T10:10:03.042Z"
   },
   {
    "duration": 8,
    "start_time": "2022-06-02T10:10:03.077Z"
   },
   {
    "duration": 37,
    "start_time": "2022-06-02T10:10:03.087Z"
   },
   {
    "duration": 3,
    "start_time": "2022-06-02T10:10:03.125Z"
   },
   {
    "duration": 73,
    "start_time": "2022-06-02T10:10:03.129Z"
   },
   {
    "duration": 89,
    "start_time": "2022-06-02T10:10:03.203Z"
   },
   {
    "duration": 39,
    "start_time": "2022-06-02T10:10:03.294Z"
   },
   {
    "duration": 64,
    "start_time": "2022-06-02T10:10:03.336Z"
   },
   {
    "duration": 12,
    "start_time": "2022-06-02T10:10:03.402Z"
   },
   {
    "duration": 64,
    "start_time": "2022-06-02T10:10:03.416Z"
   },
   {
    "duration": 117,
    "start_time": "2022-06-02T10:10:03.482Z"
   },
   {
    "duration": 31,
    "start_time": "2022-06-02T10:10:03.601Z"
   },
   {
    "duration": 45,
    "start_time": "2022-06-02T10:10:03.634Z"
   },
   {
    "duration": 12,
    "start_time": "2022-06-02T10:10:03.681Z"
   },
   {
    "duration": 9,
    "start_time": "2022-06-02T10:10:03.695Z"
   },
   {
    "duration": 35,
    "start_time": "2022-06-02T10:10:03.708Z"
   },
   {
    "duration": 38,
    "start_time": "2022-06-02T10:10:03.745Z"
   },
   {
    "duration": 5,
    "start_time": "2022-06-02T10:10:03.785Z"
   },
   {
    "duration": 32,
    "start_time": "2022-06-02T10:10:03.792Z"
   },
   {
    "duration": 67,
    "start_time": "2022-06-02T10:10:03.826Z"
   },
   {
    "duration": 42,
    "start_time": "2022-06-02T10:10:03.895Z"
   },
   {
    "duration": 13,
    "start_time": "2022-06-02T10:10:03.938Z"
   },
   {
    "duration": 11,
    "start_time": "2022-06-02T10:10:03.976Z"
   },
   {
    "duration": 45,
    "start_time": "2022-06-02T10:10:03.988Z"
   },
   {
    "duration": 10,
    "start_time": "2022-06-02T10:10:04.034Z"
   },
   {
    "duration": 14,
    "start_time": "2022-06-02T10:10:04.046Z"
   },
   {
    "duration": 55,
    "start_time": "2022-06-02T10:10:04.062Z"
   },
   {
    "duration": 72,
    "start_time": "2022-06-02T10:10:04.119Z"
   },
   {
    "duration": 39,
    "start_time": "2022-06-02T10:10:04.192Z"
   },
   {
    "duration": 13,
    "start_time": "2022-06-02T10:10:04.232Z"
   },
   {
    "duration": 36,
    "start_time": "2022-06-02T10:10:04.246Z"
   },
   {
    "duration": 22,
    "start_time": "2022-06-02T10:10:04.285Z"
   },
   {
    "duration": 53,
    "start_time": "2022-06-02T10:10:04.309Z"
   },
   {
    "duration": 13,
    "start_time": "2022-06-02T10:10:04.363Z"
   },
   {
    "duration": 14,
    "start_time": "2022-06-02T10:10:04.377Z"
   },
   {
    "duration": 13,
    "start_time": "2022-06-02T10:10:04.393Z"
   },
   {
    "duration": 38,
    "start_time": "2022-06-02T10:10:04.407Z"
   },
   {
    "duration": 31,
    "start_time": "2022-06-02T10:10:04.447Z"
   },
   {
    "duration": 118,
    "start_time": "2022-06-02T10:10:04.480Z"
   },
   {
    "duration": 44,
    "start_time": "2022-06-02T10:12:38.535Z"
   },
   {
    "duration": 54,
    "start_time": "2022-06-02T10:13:05.715Z"
   },
   {
    "duration": 10,
    "start_time": "2022-06-02T10:13:22.975Z"
   },
   {
    "duration": 49,
    "start_time": "2022-06-02T10:13:26.175Z"
   },
   {
    "duration": 20,
    "start_time": "2022-06-02T10:14:59.056Z"
   },
   {
    "duration": 51,
    "start_time": "2022-06-02T10:15:39.611Z"
   },
   {
    "duration": 46,
    "start_time": "2022-06-02T10:15:47.336Z"
   },
   {
    "duration": 37,
    "start_time": "2022-06-02T10:17:27.554Z"
   },
   {
    "duration": 45,
    "start_time": "2022-06-02T10:17:36.395Z"
   },
   {
    "duration": 23,
    "start_time": "2022-06-02T10:19:22.135Z"
   },
   {
    "duration": 26,
    "start_time": "2022-06-02T10:20:08.635Z"
   },
   {
    "duration": 243,
    "start_time": "2022-06-02T10:22:14.255Z"
   },
   {
    "duration": 3,
    "start_time": "2022-06-02T10:28:51.179Z"
   },
   {
    "duration": 9,
    "start_time": "2022-06-02T10:55:05.673Z"
   },
   {
    "duration": 16,
    "start_time": "2022-06-02T10:55:19.160Z"
   },
   {
    "duration": 18,
    "start_time": "2022-06-02T10:56:33.276Z"
   },
   {
    "duration": 15,
    "start_time": "2022-06-02T10:57:15.172Z"
   },
   {
    "duration": 16,
    "start_time": "2022-06-02T10:57:24.390Z"
   },
   {
    "duration": 14,
    "start_time": "2022-06-02T10:58:38.279Z"
   },
   {
    "duration": 14,
    "start_time": "2022-06-02T10:58:56.521Z"
   },
   {
    "duration": 17,
    "start_time": "2022-06-02T10:59:32.779Z"
   },
   {
    "duration": 11,
    "start_time": "2022-06-02T11:00:49.110Z"
   },
   {
    "duration": 5,
    "start_time": "2022-06-02T11:02:07.958Z"
   },
   {
    "duration": 20,
    "start_time": "2022-06-02T11:02:23.367Z"
   },
   {
    "duration": 6,
    "start_time": "2022-06-02T11:03:56.113Z"
   },
   {
    "duration": 15,
    "start_time": "2022-06-02T11:04:56.030Z"
   },
   {
    "duration": 6,
    "start_time": "2022-06-02T11:06:46.323Z"
   },
   {
    "duration": 12,
    "start_time": "2022-06-02T11:07:07.871Z"
   },
   {
    "duration": 18,
    "start_time": "2022-06-02T11:08:50.370Z"
   },
   {
    "duration": 31,
    "start_time": "2022-06-02T11:09:16.219Z"
   },
   {
    "duration": 3,
    "start_time": "2022-06-02T11:09:31.431Z"
   },
   {
    "duration": 111,
    "start_time": "2022-06-02T11:09:31.441Z"
   },
   {
    "duration": 239,
    "start_time": "2022-06-02T11:09:31.554Z"
   },
   {
    "duration": 310,
    "start_time": "2022-06-02T11:09:31.795Z"
   },
   {
    "duration": 318,
    "start_time": "2022-06-02T11:09:32.106Z"
   },
   {
    "duration": 71,
    "start_time": "2022-06-02T11:09:32.427Z"
   },
   {
    "duration": 11,
    "start_time": "2022-06-02T11:09:32.500Z"
   },
   {
    "duration": 20,
    "start_time": "2022-06-02T11:09:32.512Z"
   },
   {
    "duration": 13,
    "start_time": "2022-06-02T11:09:32.534Z"
   },
   {
    "duration": 15,
    "start_time": "2022-06-02T11:09:32.549Z"
   },
   {
    "duration": 26,
    "start_time": "2022-06-02T11:09:32.566Z"
   },
   {
    "duration": 13,
    "start_time": "2022-06-02T11:09:32.594Z"
   },
   {
    "duration": 21,
    "start_time": "2022-06-02T11:09:32.609Z"
   },
   {
    "duration": 7,
    "start_time": "2022-06-02T11:09:32.632Z"
   },
   {
    "duration": 117,
    "start_time": "2022-06-02T11:09:32.643Z"
   },
   {
    "duration": 128,
    "start_time": "2022-06-02T11:09:32.762Z"
   },
   {
    "duration": 22,
    "start_time": "2022-06-02T11:09:32.892Z"
   },
   {
    "duration": 22,
    "start_time": "2022-06-02T11:09:32.916Z"
   },
   {
    "duration": 103,
    "start_time": "2022-06-02T11:09:32.940Z"
   },
   {
    "duration": 45,
    "start_time": "2022-06-02T11:09:33.044Z"
   },
   {
    "duration": 55,
    "start_time": "2022-06-02T11:09:33.090Z"
   },
   {
    "duration": 73,
    "start_time": "2022-06-02T11:09:33.147Z"
   },
   {
    "duration": 70,
    "start_time": "2022-06-02T11:09:33.222Z"
   },
   {
    "duration": 16,
    "start_time": "2022-06-02T11:09:33.294Z"
   },
   {
    "duration": 68,
    "start_time": "2022-06-02T11:09:33.312Z"
   },
   {
    "duration": 29,
    "start_time": "2022-06-02T11:09:33.382Z"
   },
   {
    "duration": 9,
    "start_time": "2022-06-02T11:09:33.412Z"
   },
   {
    "duration": 54,
    "start_time": "2022-06-02T11:09:33.423Z"
   },
   {
    "duration": 16,
    "start_time": "2022-06-02T11:09:33.478Z"
   },
   {
    "duration": 23,
    "start_time": "2022-06-02T11:09:37.271Z"
   },
   {
    "duration": 3,
    "start_time": "2022-06-02T11:10:22.674Z"
   },
   {
    "duration": 73,
    "start_time": "2022-06-02T11:10:22.679Z"
   },
   {
    "duration": 247,
    "start_time": "2022-06-02T11:10:22.754Z"
   },
   {
    "duration": 140,
    "start_time": "2022-06-02T11:10:23.003Z"
   },
   {
    "duration": 170,
    "start_time": "2022-06-02T11:10:23.145Z"
   },
   {
    "duration": 30,
    "start_time": "2022-06-02T11:10:23.317Z"
   },
   {
    "duration": 29,
    "start_time": "2022-06-02T11:10:23.349Z"
   },
   {
    "duration": 12,
    "start_time": "2022-06-02T11:10:23.380Z"
   },
   {
    "duration": 7,
    "start_time": "2022-06-02T11:10:23.394Z"
   },
   {
    "duration": 13,
    "start_time": "2022-06-02T11:10:23.403Z"
   },
   {
    "duration": 57,
    "start_time": "2022-06-02T11:10:23.418Z"
   },
   {
    "duration": 12,
    "start_time": "2022-06-02T11:10:23.477Z"
   },
   {
    "duration": 23,
    "start_time": "2022-06-02T11:10:23.490Z"
   },
   {
    "duration": 6,
    "start_time": "2022-06-02T11:10:23.516Z"
   },
   {
    "duration": 92,
    "start_time": "2022-06-02T11:10:23.524Z"
   },
   {
    "duration": 115,
    "start_time": "2022-06-02T11:10:23.618Z"
   },
   {
    "duration": 43,
    "start_time": "2022-06-02T11:10:23.736Z"
   },
   {
    "duration": 23,
    "start_time": "2022-06-02T11:10:23.782Z"
   },
   {
    "duration": 126,
    "start_time": "2022-06-02T11:10:23.807Z"
   },
   {
    "duration": 29,
    "start_time": "2022-06-02T11:10:23.935Z"
   },
   {
    "duration": 83,
    "start_time": "2022-06-02T11:10:23.965Z"
   },
   {
    "duration": 78,
    "start_time": "2022-06-02T11:10:24.050Z"
   },
   {
    "duration": 78,
    "start_time": "2022-06-02T11:10:24.130Z"
   },
   {
    "duration": 15,
    "start_time": "2022-06-02T11:10:24.211Z"
   },
   {
    "duration": 68,
    "start_time": "2022-06-02T11:10:24.228Z"
   },
   {
    "duration": 31,
    "start_time": "2022-06-02T11:10:24.298Z"
   },
   {
    "duration": 10,
    "start_time": "2022-06-02T11:10:24.330Z"
   },
   {
    "duration": 58,
    "start_time": "2022-06-02T11:10:24.341Z"
   },
   {
    "duration": 28,
    "start_time": "2022-06-02T11:10:27.775Z"
   },
   {
    "duration": 48,
    "start_time": "2022-06-02T11:11:32.789Z"
   },
   {
    "duration": 2,
    "start_time": "2022-06-02T11:11:44.478Z"
   },
   {
    "duration": 53,
    "start_time": "2022-06-02T11:11:44.486Z"
   },
   {
    "duration": 164,
    "start_time": "2022-06-02T11:11:44.542Z"
   },
   {
    "duration": 102,
    "start_time": "2022-06-02T11:11:44.708Z"
   },
   {
    "duration": 147,
    "start_time": "2022-06-02T11:11:44.811Z"
   },
   {
    "duration": 27,
    "start_time": "2022-06-02T11:11:44.960Z"
   },
   {
    "duration": 9,
    "start_time": "2022-06-02T11:11:44.989Z"
   },
   {
    "duration": 33,
    "start_time": "2022-06-02T11:11:45.000Z"
   },
   {
    "duration": 16,
    "start_time": "2022-06-02T11:11:45.035Z"
   },
   {
    "duration": 14,
    "start_time": "2022-06-02T11:11:45.052Z"
   },
   {
    "duration": 46,
    "start_time": "2022-06-02T11:11:45.067Z"
   },
   {
    "duration": 10,
    "start_time": "2022-06-02T11:11:45.115Z"
   },
   {
    "duration": 10,
    "start_time": "2022-06-02T11:11:45.127Z"
   },
   {
    "duration": 7,
    "start_time": "2022-06-02T11:11:45.139Z"
   },
   {
    "duration": 86,
    "start_time": "2022-06-02T11:11:45.147Z"
   },
   {
    "duration": 102,
    "start_time": "2022-06-02T11:11:45.235Z"
   },
   {
    "duration": 22,
    "start_time": "2022-06-02T11:11:45.338Z"
   },
   {
    "duration": 31,
    "start_time": "2022-06-02T11:11:45.362Z"
   },
   {
    "duration": 97,
    "start_time": "2022-06-02T11:11:45.395Z"
   },
   {
    "duration": 27,
    "start_time": "2022-06-02T11:11:45.494Z"
   },
   {
    "duration": 76,
    "start_time": "2022-06-02T11:11:45.523Z"
   },
   {
    "duration": 54,
    "start_time": "2022-06-02T11:11:45.601Z"
   },
   {
    "duration": 79,
    "start_time": "2022-06-02T11:11:45.657Z"
   },
   {
    "duration": 15,
    "start_time": "2022-06-02T11:11:45.737Z"
   },
   {
    "duration": 50,
    "start_time": "2022-06-02T11:11:57.687Z"
   },
   {
    "duration": 22,
    "start_time": "2022-06-02T11:13:52.575Z"
   },
   {
    "duration": 22,
    "start_time": "2022-06-02T11:23:47.695Z"
   },
   {
    "duration": 8,
    "start_time": "2022-06-02T11:52:13.935Z"
   },
   {
    "duration": 15,
    "start_time": "2022-06-02T11:52:21.494Z"
   },
   {
    "duration": 18,
    "start_time": "2022-06-02T11:53:01.836Z"
   },
   {
    "duration": 4,
    "start_time": "2022-06-02T11:53:21.770Z"
   },
   {
    "duration": 12,
    "start_time": "2022-06-02T11:53:42.280Z"
   },
   {
    "duration": 13,
    "start_time": "2022-06-02T11:53:59.112Z"
   },
   {
    "duration": 13,
    "start_time": "2022-06-02T11:54:19.567Z"
   },
   {
    "duration": 16,
    "start_time": "2022-06-02T11:55:25.792Z"
   },
   {
    "duration": 52,
    "start_time": "2022-06-03T05:59:44.031Z"
   },
   {
    "duration": 437,
    "start_time": "2022-06-03T05:59:48.031Z"
   },
   {
    "duration": 101,
    "start_time": "2022-06-03T05:59:48.470Z"
   },
   {
    "duration": 502,
    "start_time": "2022-06-03T05:59:48.572Z"
   },
   {
    "duration": 159,
    "start_time": "2022-06-03T05:59:49.076Z"
   },
   {
    "duration": 392,
    "start_time": "2022-06-03T05:59:49.237Z"
   },
   {
    "duration": 69,
    "start_time": "2022-06-03T05:59:49.631Z"
   },
   {
    "duration": 9,
    "start_time": "2022-06-03T05:59:49.701Z"
   },
   {
    "duration": 14,
    "start_time": "2022-06-03T05:59:49.711Z"
   },
   {
    "duration": 15,
    "start_time": "2022-06-03T05:59:49.726Z"
   },
   {
    "duration": 10,
    "start_time": "2022-06-03T05:59:49.742Z"
   },
   {
    "duration": 32,
    "start_time": "2022-06-03T05:59:49.753Z"
   },
   {
    "duration": 9,
    "start_time": "2022-06-03T05:59:49.786Z"
   },
   {
    "duration": 23,
    "start_time": "2022-06-03T05:59:49.797Z"
   },
   {
    "duration": 6,
    "start_time": "2022-06-03T05:59:49.823Z"
   },
   {
    "duration": 77,
    "start_time": "2022-06-03T05:59:49.830Z"
   },
   {
    "duration": 129,
    "start_time": "2022-06-03T05:59:49.909Z"
   },
   {
    "duration": 21,
    "start_time": "2022-06-03T05:59:50.040Z"
   },
   {
    "duration": 21,
    "start_time": "2022-06-03T05:59:50.063Z"
   },
   {
    "duration": 115,
    "start_time": "2022-06-03T05:59:50.085Z"
   },
   {
    "duration": 36,
    "start_time": "2022-06-03T05:59:50.201Z"
   },
   {
    "duration": 41,
    "start_time": "2022-06-03T05:59:50.238Z"
   },
   {
    "duration": 0,
    "start_time": "2022-06-03T05:59:50.281Z"
   },
   {
    "duration": 0,
    "start_time": "2022-06-03T05:59:50.282Z"
   },
   {
    "duration": 0,
    "start_time": "2022-06-03T05:59:50.284Z"
   },
   {
    "duration": 0,
    "start_time": "2022-06-03T05:59:50.284Z"
   },
   {
    "duration": 0,
    "start_time": "2022-06-03T05:59:50.285Z"
   },
   {
    "duration": 0,
    "start_time": "2022-06-03T05:59:50.286Z"
   },
   {
    "duration": 0,
    "start_time": "2022-06-03T05:59:50.287Z"
   },
   {
    "duration": 0,
    "start_time": "2022-06-03T05:59:50.288Z"
   },
   {
    "duration": 0,
    "start_time": "2022-06-03T05:59:50.289Z"
   },
   {
    "duration": 0,
    "start_time": "2022-06-03T05:59:50.289Z"
   },
   {
    "duration": 0,
    "start_time": "2022-06-03T05:59:50.290Z"
   },
   {
    "duration": 0,
    "start_time": "2022-06-03T05:59:50.291Z"
   },
   {
    "duration": 0,
    "start_time": "2022-06-03T05:59:50.292Z"
   },
   {
    "duration": 0,
    "start_time": "2022-06-03T05:59:50.293Z"
   },
   {
    "duration": 0,
    "start_time": "2022-06-03T05:59:50.328Z"
   },
   {
    "duration": 0,
    "start_time": "2022-06-03T05:59:50.329Z"
   },
   {
    "duration": 0,
    "start_time": "2022-06-03T05:59:50.330Z"
   },
   {
    "duration": 0,
    "start_time": "2022-06-03T05:59:50.331Z"
   },
   {
    "duration": 0,
    "start_time": "2022-06-03T05:59:50.332Z"
   },
   {
    "duration": 0,
    "start_time": "2022-06-03T05:59:50.333Z"
   },
   {
    "duration": 0,
    "start_time": "2022-06-03T05:59:50.334Z"
   },
   {
    "duration": 0,
    "start_time": "2022-06-03T05:59:50.335Z"
   },
   {
    "duration": 0,
    "start_time": "2022-06-03T05:59:50.335Z"
   },
   {
    "duration": 0,
    "start_time": "2022-06-03T05:59:50.336Z"
   },
   {
    "duration": 0,
    "start_time": "2022-06-03T05:59:50.337Z"
   },
   {
    "duration": 0,
    "start_time": "2022-06-03T05:59:50.338Z"
   },
   {
    "duration": 0,
    "start_time": "2022-06-03T05:59:50.339Z"
   },
   {
    "duration": 0,
    "start_time": "2022-06-03T05:59:50.340Z"
   },
   {
    "duration": 0,
    "start_time": "2022-06-03T05:59:50.341Z"
   },
   {
    "duration": 0,
    "start_time": "2022-06-03T05:59:50.342Z"
   },
   {
    "duration": 0,
    "start_time": "2022-06-03T05:59:50.342Z"
   },
   {
    "duration": 0,
    "start_time": "2022-06-03T05:59:50.343Z"
   },
   {
    "duration": 0,
    "start_time": "2022-06-03T05:59:50.344Z"
   },
   {
    "duration": 0,
    "start_time": "2022-06-03T05:59:50.345Z"
   },
   {
    "duration": 0,
    "start_time": "2022-06-03T05:59:50.346Z"
   },
   {
    "duration": 0,
    "start_time": "2022-06-03T05:59:50.347Z"
   },
   {
    "duration": 0,
    "start_time": "2022-06-03T05:59:50.348Z"
   },
   {
    "duration": 0,
    "start_time": "2022-06-03T05:59:50.349Z"
   },
   {
    "duration": 0,
    "start_time": "2022-06-03T05:59:50.350Z"
   },
   {
    "duration": 0,
    "start_time": "2022-06-03T05:59:50.351Z"
   },
   {
    "duration": 0,
    "start_time": "2022-06-03T05:59:50.352Z"
   },
   {
    "duration": 0,
    "start_time": "2022-06-03T05:59:50.353Z"
   },
   {
    "duration": 0,
    "start_time": "2022-06-03T05:59:50.354Z"
   },
   {
    "duration": 0,
    "start_time": "2022-06-03T05:59:50.354Z"
   },
   {
    "duration": 0,
    "start_time": "2022-06-03T05:59:50.356Z"
   },
   {
    "duration": 0,
    "start_time": "2022-06-03T05:59:50.357Z"
   },
   {
    "duration": 0,
    "start_time": "2022-06-03T05:59:50.358Z"
   },
   {
    "duration": 0,
    "start_time": "2022-06-03T05:59:50.359Z"
   },
   {
    "duration": 0,
    "start_time": "2022-06-03T05:59:50.360Z"
   },
   {
    "duration": 0,
    "start_time": "2022-06-03T05:59:50.360Z"
   },
   {
    "duration": 6,
    "start_time": "2022-06-03T06:02:02.861Z"
   },
   {
    "duration": 6,
    "start_time": "2022-06-03T06:02:06.378Z"
   },
   {
    "duration": 2,
    "start_time": "2022-06-03T06:02:13.391Z"
   },
   {
    "duration": 71,
    "start_time": "2022-06-03T06:02:13.395Z"
   },
   {
    "duration": 233,
    "start_time": "2022-06-03T06:02:13.468Z"
   },
   {
    "duration": 137,
    "start_time": "2022-06-03T06:02:13.703Z"
   },
   {
    "duration": 157,
    "start_time": "2022-06-03T06:02:13.842Z"
   },
   {
    "duration": 33,
    "start_time": "2022-06-03T06:02:14.002Z"
   },
   {
    "duration": 10,
    "start_time": "2022-06-03T06:02:14.037Z"
   },
   {
    "duration": 16,
    "start_time": "2022-06-03T06:02:14.049Z"
   },
   {
    "duration": 14,
    "start_time": "2022-06-03T06:02:14.066Z"
   },
   {
    "duration": 14,
    "start_time": "2022-06-03T06:02:14.082Z"
   },
   {
    "duration": 46,
    "start_time": "2022-06-03T06:02:14.097Z"
   },
   {
    "duration": 10,
    "start_time": "2022-06-03T06:02:14.145Z"
   },
   {
    "duration": 21,
    "start_time": "2022-06-03T06:02:14.156Z"
   },
   {
    "duration": 6,
    "start_time": "2022-06-03T06:02:14.181Z"
   },
   {
    "duration": 105,
    "start_time": "2022-06-03T06:02:14.188Z"
   },
   {
    "duration": 142,
    "start_time": "2022-06-03T06:02:14.295Z"
   },
   {
    "duration": 24,
    "start_time": "2022-06-03T06:02:14.439Z"
   },
   {
    "duration": 24,
    "start_time": "2022-06-03T06:02:14.464Z"
   },
   {
    "duration": 112,
    "start_time": "2022-06-03T06:02:14.490Z"
   },
   {
    "duration": 46,
    "start_time": "2022-06-03T06:02:14.604Z"
   },
   {
    "duration": 173,
    "start_time": "2022-06-03T06:02:14.652Z"
   },
   {
    "duration": 0,
    "start_time": "2022-06-03T06:02:14.827Z"
   },
   {
    "duration": 0,
    "start_time": "2022-06-03T06:02:14.829Z"
   },
   {
    "duration": 0,
    "start_time": "2022-06-03T06:02:14.830Z"
   },
   {
    "duration": 0,
    "start_time": "2022-06-03T06:02:14.832Z"
   },
   {
    "duration": 0,
    "start_time": "2022-06-03T06:02:14.834Z"
   },
   {
    "duration": 0,
    "start_time": "2022-06-03T06:02:14.835Z"
   },
   {
    "duration": 0,
    "start_time": "2022-06-03T06:02:14.837Z"
   },
   {
    "duration": 0,
    "start_time": "2022-06-03T06:02:14.838Z"
   },
   {
    "duration": 0,
    "start_time": "2022-06-03T06:02:14.840Z"
   },
   {
    "duration": 0,
    "start_time": "2022-06-03T06:02:14.841Z"
   },
   {
    "duration": 0,
    "start_time": "2022-06-03T06:02:14.842Z"
   },
   {
    "duration": 0,
    "start_time": "2022-06-03T06:02:14.843Z"
   },
   {
    "duration": 0,
    "start_time": "2022-06-03T06:02:14.844Z"
   },
   {
    "duration": 0,
    "start_time": "2022-06-03T06:02:14.845Z"
   },
   {
    "duration": 0,
    "start_time": "2022-06-03T06:02:14.847Z"
   },
   {
    "duration": 0,
    "start_time": "2022-06-03T06:02:14.847Z"
   },
   {
    "duration": 1,
    "start_time": "2022-06-03T06:02:14.848Z"
   },
   {
    "duration": 0,
    "start_time": "2022-06-03T06:02:14.850Z"
   },
   {
    "duration": 0,
    "start_time": "2022-06-03T06:02:14.851Z"
   },
   {
    "duration": 0,
    "start_time": "2022-06-03T06:02:14.852Z"
   },
   {
    "duration": 0,
    "start_time": "2022-06-03T06:02:14.853Z"
   },
   {
    "duration": 0,
    "start_time": "2022-06-03T06:02:14.854Z"
   },
   {
    "duration": 0,
    "start_time": "2022-06-03T06:02:14.855Z"
   },
   {
    "duration": 0,
    "start_time": "2022-06-03T06:02:14.856Z"
   },
   {
    "duration": 0,
    "start_time": "2022-06-03T06:02:14.857Z"
   },
   {
    "duration": 0,
    "start_time": "2022-06-03T06:02:14.858Z"
   },
   {
    "duration": 0,
    "start_time": "2022-06-03T06:02:14.859Z"
   },
   {
    "duration": 0,
    "start_time": "2022-06-03T06:02:14.860Z"
   },
   {
    "duration": 0,
    "start_time": "2022-06-03T06:02:14.861Z"
   },
   {
    "duration": 0,
    "start_time": "2022-06-03T06:02:14.862Z"
   },
   {
    "duration": 0,
    "start_time": "2022-06-03T06:02:14.863Z"
   },
   {
    "duration": 0,
    "start_time": "2022-06-03T06:02:14.864Z"
   },
   {
    "duration": 0,
    "start_time": "2022-06-03T06:02:14.865Z"
   },
   {
    "duration": 0,
    "start_time": "2022-06-03T06:02:14.866Z"
   },
   {
    "duration": 0,
    "start_time": "2022-06-03T06:02:14.867Z"
   },
   {
    "duration": 0,
    "start_time": "2022-06-03T06:02:14.929Z"
   },
   {
    "duration": 0,
    "start_time": "2022-06-03T06:02:14.930Z"
   },
   {
    "duration": 0,
    "start_time": "2022-06-03T06:02:14.931Z"
   },
   {
    "duration": 0,
    "start_time": "2022-06-03T06:02:14.933Z"
   },
   {
    "duration": 0,
    "start_time": "2022-06-03T06:02:14.934Z"
   },
   {
    "duration": 0,
    "start_time": "2022-06-03T06:02:14.934Z"
   },
   {
    "duration": 0,
    "start_time": "2022-06-03T06:02:14.935Z"
   },
   {
    "duration": 0,
    "start_time": "2022-06-03T06:02:14.937Z"
   },
   {
    "duration": 0,
    "start_time": "2022-06-03T06:02:14.938Z"
   },
   {
    "duration": 0,
    "start_time": "2022-06-03T06:02:14.939Z"
   },
   {
    "duration": 0,
    "start_time": "2022-06-03T06:02:14.940Z"
   },
   {
    "duration": 0,
    "start_time": "2022-06-03T06:02:14.941Z"
   },
   {
    "duration": 0,
    "start_time": "2022-06-03T06:02:14.942Z"
   },
   {
    "duration": 0,
    "start_time": "2022-06-03T06:02:14.943Z"
   },
   {
    "duration": 0,
    "start_time": "2022-06-03T06:02:14.944Z"
   },
   {
    "duration": 8,
    "start_time": "2022-06-03T06:02:33.050Z"
   },
   {
    "duration": 148,
    "start_time": "2022-06-03T06:05:00.898Z"
   },
   {
    "duration": 153,
    "start_time": "2022-06-03T06:05:31.151Z"
   },
   {
    "duration": 55,
    "start_time": "2022-06-03T06:05:38.310Z"
   },
   {
    "duration": 149,
    "start_time": "2022-06-03T06:05:53.091Z"
   },
   {
    "duration": 57,
    "start_time": "2022-06-03T06:05:54.693Z"
   },
   {
    "duration": 120,
    "start_time": "2022-06-03T06:06:25.294Z"
   },
   {
    "duration": 15,
    "start_time": "2022-06-03T06:06:35.690Z"
   },
   {
    "duration": 70,
    "start_time": "2022-06-03T06:08:31.931Z"
   },
   {
    "duration": 27,
    "start_time": "2022-06-03T06:09:19.298Z"
   },
   {
    "duration": 31,
    "start_time": "2022-06-03T06:09:28.691Z"
   },
   {
    "duration": 9,
    "start_time": "2022-06-03T06:09:40.531Z"
   },
   {
    "duration": 21,
    "start_time": "2022-06-03T06:09:49.251Z"
   },
   {
    "duration": 20,
    "start_time": "2022-06-03T06:10:00.010Z"
   },
   {
    "duration": 19,
    "start_time": "2022-06-03T06:10:25.630Z"
   },
   {
    "duration": 19,
    "start_time": "2022-06-03T06:10:33.851Z"
   },
   {
    "duration": 3,
    "start_time": "2022-06-03T06:10:37.911Z"
   },
   {
    "duration": 55,
    "start_time": "2022-06-03T06:10:37.916Z"
   },
   {
    "duration": 198,
    "start_time": "2022-06-03T06:10:37.972Z"
   },
   {
    "duration": 106,
    "start_time": "2022-06-03T06:10:38.172Z"
   },
   {
    "duration": 142,
    "start_time": "2022-06-03T06:10:38.280Z"
   },
   {
    "duration": 25,
    "start_time": "2022-06-03T06:10:38.428Z"
   },
   {
    "duration": 9,
    "start_time": "2022-06-03T06:10:38.455Z"
   },
   {
    "duration": 9,
    "start_time": "2022-06-03T06:10:38.465Z"
   },
   {
    "duration": 10,
    "start_time": "2022-06-03T06:10:38.475Z"
   },
   {
    "duration": 15,
    "start_time": "2022-06-03T06:10:38.486Z"
   },
   {
    "duration": 54,
    "start_time": "2022-06-03T06:10:38.502Z"
   },
   {
    "duration": 13,
    "start_time": "2022-06-03T06:10:38.558Z"
   },
   {
    "duration": 13,
    "start_time": "2022-06-03T06:10:38.573Z"
   },
   {
    "duration": 41,
    "start_time": "2022-06-03T06:10:38.589Z"
   },
   {
    "duration": 88,
    "start_time": "2022-06-03T06:10:38.631Z"
   },
   {
    "duration": 86,
    "start_time": "2022-06-03T06:10:38.728Z"
   },
   {
    "duration": 21,
    "start_time": "2022-06-03T06:10:38.828Z"
   },
   {
    "duration": 35,
    "start_time": "2022-06-03T06:10:38.850Z"
   },
   {
    "duration": 89,
    "start_time": "2022-06-03T06:10:38.887Z"
   },
   {
    "duration": 26,
    "start_time": "2022-06-03T06:10:38.979Z"
   },
   {
    "duration": 174,
    "start_time": "2022-06-03T06:10:39.006Z"
   },
   {
    "duration": 65,
    "start_time": "2022-06-03T06:10:39.181Z"
   },
   {
    "duration": 63,
    "start_time": "2022-06-03T06:10:39.248Z"
   },
   {
    "duration": 20,
    "start_time": "2022-06-03T06:10:39.329Z"
   },
   {
    "duration": 85,
    "start_time": "2022-06-03T06:10:39.351Z"
   },
   {
    "duration": 27,
    "start_time": "2022-06-03T06:10:39.438Z"
   },
   {
    "duration": 8,
    "start_time": "2022-06-03T06:10:39.467Z"
   },
   {
    "duration": 56,
    "start_time": "2022-06-03T06:10:39.477Z"
   },
   {
    "duration": 20,
    "start_time": "2022-06-03T06:10:39.535Z"
   },
   {
    "duration": 13,
    "start_time": "2022-06-03T06:10:39.556Z"
   },
   {
    "duration": 21,
    "start_time": "2022-06-03T06:10:39.570Z"
   },
   {
    "duration": 50,
    "start_time": "2022-06-03T06:10:39.593Z"
   },
   {
    "duration": 4,
    "start_time": "2022-06-03T06:10:39.645Z"
   },
   {
    "duration": 12,
    "start_time": "2022-06-03T06:10:39.650Z"
   },
   {
    "duration": 2,
    "start_time": "2022-06-03T06:10:39.663Z"
   },
   {
    "duration": 5,
    "start_time": "2022-06-03T06:10:39.666Z"
   },
   {
    "duration": 101,
    "start_time": "2022-06-03T06:10:39.672Z"
   },
   {
    "duration": 97,
    "start_time": "2022-06-03T06:10:39.775Z"
   },
   {
    "duration": 59,
    "start_time": "2022-06-03T06:10:39.873Z"
   },
   {
    "duration": 28,
    "start_time": "2022-06-03T06:10:39.934Z"
   },
   {
    "duration": 9,
    "start_time": "2022-06-03T06:10:39.965Z"
   },
   {
    "duration": 99,
    "start_time": "2022-06-03T06:10:39.975Z"
   },
   {
    "duration": 149,
    "start_time": "2022-06-03T06:10:40.075Z"
   },
   {
    "duration": 33,
    "start_time": "2022-06-03T06:10:40.225Z"
   },
   {
    "duration": 22,
    "start_time": "2022-06-03T06:10:40.260Z"
   },
   {
    "duration": 59,
    "start_time": "2022-06-03T06:10:40.284Z"
   },
   {
    "duration": 15,
    "start_time": "2022-06-03T06:10:40.345Z"
   },
   {
    "duration": 34,
    "start_time": "2022-06-03T06:10:40.361Z"
   },
   {
    "duration": 35,
    "start_time": "2022-06-03T06:10:40.397Z"
   },
   {
    "duration": 5,
    "start_time": "2022-06-03T06:10:40.433Z"
   },
   {
    "duration": 16,
    "start_time": "2022-06-03T06:10:40.439Z"
   },
   {
    "duration": 100,
    "start_time": "2022-06-03T06:10:40.456Z"
   },
   {
    "duration": 43,
    "start_time": "2022-06-03T06:10:40.558Z"
   },
   {
    "duration": 36,
    "start_time": "2022-06-03T06:10:40.603Z"
   },
   {
    "duration": 5,
    "start_time": "2022-06-03T06:10:40.640Z"
   },
   {
    "duration": 31,
    "start_time": "2022-06-03T06:10:40.647Z"
   },
   {
    "duration": 12,
    "start_time": "2022-06-03T06:10:40.680Z"
   },
   {
    "duration": 38,
    "start_time": "2022-06-03T06:10:40.693Z"
   },
   {
    "duration": 58,
    "start_time": "2022-06-03T06:10:40.733Z"
   },
   {
    "duration": 140,
    "start_time": "2022-06-03T06:10:40.793Z"
   },
   {
    "duration": 46,
    "start_time": "2022-06-03T06:10:40.935Z"
   },
   {
    "duration": 48,
    "start_time": "2022-06-03T06:10:40.982Z"
   },
   {
    "duration": 179,
    "start_time": "2022-06-03T06:10:41.032Z"
   },
   {
    "duration": 0,
    "start_time": "2022-06-03T06:10:41.213Z"
   },
   {
    "duration": 0,
    "start_time": "2022-06-03T06:10:41.214Z"
   },
   {
    "duration": 0,
    "start_time": "2022-06-03T06:10:41.215Z"
   },
   {
    "duration": 0,
    "start_time": "2022-06-03T06:10:41.216Z"
   },
   {
    "duration": 0,
    "start_time": "2022-06-03T06:10:41.217Z"
   },
   {
    "duration": 0,
    "start_time": "2022-06-03T06:10:41.218Z"
   },
   {
    "duration": 0,
    "start_time": "2022-06-03T06:10:41.219Z"
   },
   {
    "duration": 0,
    "start_time": "2022-06-03T06:10:41.220Z"
   },
   {
    "duration": 20,
    "start_time": "2022-06-03T06:11:05.531Z"
   },
   {
    "duration": 7,
    "start_time": "2022-06-03T06:11:10.710Z"
   },
   {
    "duration": 7,
    "start_time": "2022-06-03T06:12:06.848Z"
   },
   {
    "duration": 4,
    "start_time": "2022-06-03T06:13:33.359Z"
   },
   {
    "duration": 30,
    "start_time": "2022-06-03T06:15:23.049Z"
   },
   {
    "duration": 2,
    "start_time": "2022-06-03T06:27:37.848Z"
   },
   {
    "duration": 54,
    "start_time": "2022-06-03T06:27:37.852Z"
   },
   {
    "duration": 166,
    "start_time": "2022-06-03T06:27:37.908Z"
   },
   {
    "duration": 105,
    "start_time": "2022-06-03T06:27:38.076Z"
   },
   {
    "duration": 162,
    "start_time": "2022-06-03T06:27:38.183Z"
   },
   {
    "duration": 27,
    "start_time": "2022-06-03T06:27:38.347Z"
   },
   {
    "duration": 9,
    "start_time": "2022-06-03T06:27:38.376Z"
   },
   {
    "duration": 18,
    "start_time": "2022-06-03T06:27:38.386Z"
   },
   {
    "duration": 10,
    "start_time": "2022-06-03T06:27:38.405Z"
   },
   {
    "duration": 27,
    "start_time": "2022-06-03T06:27:38.416Z"
   },
   {
    "duration": 33,
    "start_time": "2022-06-03T06:27:38.444Z"
   },
   {
    "duration": 9,
    "start_time": "2022-06-03T06:27:38.478Z"
   },
   {
    "duration": 16,
    "start_time": "2022-06-03T06:27:38.488Z"
   },
   {
    "duration": 7,
    "start_time": "2022-06-03T06:27:38.506Z"
   },
   {
    "duration": 88,
    "start_time": "2022-06-03T06:27:38.514Z"
   },
   {
    "duration": 109,
    "start_time": "2022-06-03T06:27:38.604Z"
   },
   {
    "duration": 24,
    "start_time": "2022-06-03T06:27:38.728Z"
   },
   {
    "duration": 22,
    "start_time": "2022-06-03T06:27:38.754Z"
   },
   {
    "duration": 103,
    "start_time": "2022-06-03T06:27:38.777Z"
   },
   {
    "duration": 26,
    "start_time": "2022-06-03T06:27:38.881Z"
   },
   {
    "duration": 167,
    "start_time": "2022-06-03T06:27:38.909Z"
   },
   {
    "duration": 62,
    "start_time": "2022-06-03T06:27:39.078Z"
   },
   {
    "duration": 60,
    "start_time": "2022-06-03T06:27:39.142Z"
   },
   {
    "duration": 29,
    "start_time": "2022-06-03T06:27:39.203Z"
   },
   {
    "duration": 52,
    "start_time": "2022-06-03T06:27:39.234Z"
   },
   {
    "duration": 56,
    "start_time": "2022-06-03T06:27:39.288Z"
   },
   {
    "duration": 9,
    "start_time": "2022-06-03T06:27:39.345Z"
   },
   {
    "duration": 22,
    "start_time": "2022-06-03T06:27:39.356Z"
   },
   {
    "duration": 6,
    "start_time": "2022-06-03T06:27:39.380Z"
   },
   {
    "duration": 5,
    "start_time": "2022-06-03T06:27:39.388Z"
   },
   {
    "duration": 52,
    "start_time": "2022-06-03T06:27:39.394Z"
   },
   {
    "duration": 14,
    "start_time": "2022-06-03T06:29:45.636Z"
   },
   {
    "duration": 2,
    "start_time": "2022-06-03T06:29:55.999Z"
   },
   {
    "duration": 51,
    "start_time": "2022-06-03T06:29:56.051Z"
   },
   {
    "duration": 174,
    "start_time": "2022-06-03T06:29:56.104Z"
   },
   {
    "duration": 120,
    "start_time": "2022-06-03T06:29:56.279Z"
   },
   {
    "duration": 168,
    "start_time": "2022-06-03T06:29:56.400Z"
   },
   {
    "duration": 48,
    "start_time": "2022-06-03T06:29:56.570Z"
   },
   {
    "duration": 12,
    "start_time": "2022-06-03T06:29:56.621Z"
   },
   {
    "duration": 11,
    "start_time": "2022-06-03T06:29:56.634Z"
   },
   {
    "duration": 13,
    "start_time": "2022-06-03T06:29:56.647Z"
   },
   {
    "duration": 15,
    "start_time": "2022-06-03T06:29:56.662Z"
   },
   {
    "duration": 49,
    "start_time": "2022-06-03T06:29:56.679Z"
   },
   {
    "duration": 14,
    "start_time": "2022-06-03T06:29:56.731Z"
   },
   {
    "duration": 13,
    "start_time": "2022-06-03T06:29:56.747Z"
   },
   {
    "duration": 8,
    "start_time": "2022-06-03T06:29:56.761Z"
   },
   {
    "duration": 131,
    "start_time": "2022-06-03T06:29:56.772Z"
   },
   {
    "duration": 134,
    "start_time": "2022-06-03T06:29:56.905Z"
   },
   {
    "duration": 27,
    "start_time": "2022-06-03T06:29:57.041Z"
   },
   {
    "duration": 26,
    "start_time": "2022-06-03T06:29:57.070Z"
   },
   {
    "duration": 138,
    "start_time": "2022-06-03T06:29:57.101Z"
   },
   {
    "duration": 27,
    "start_time": "2022-06-03T06:29:57.241Z"
   },
   {
    "duration": 198,
    "start_time": "2022-06-03T06:29:57.271Z"
   },
   {
    "duration": 85,
    "start_time": "2022-06-03T06:29:57.471Z"
   },
   {
    "duration": 89,
    "start_time": "2022-06-03T06:29:57.558Z"
   },
   {
    "duration": 16,
    "start_time": "2022-06-03T06:29:57.649Z"
   },
   {
    "duration": 96,
    "start_time": "2022-06-03T06:29:57.668Z"
   },
   {
    "duration": 41,
    "start_time": "2022-06-03T06:29:57.767Z"
   },
   {
    "duration": 11,
    "start_time": "2022-06-03T06:29:57.829Z"
   },
   {
    "duration": 53,
    "start_time": "2022-06-03T06:29:57.842Z"
   },
   {
    "duration": 8,
    "start_time": "2022-06-03T06:29:57.897Z"
   },
   {
    "duration": 6,
    "start_time": "2022-06-03T06:29:57.907Z"
   },
   {
    "duration": 47,
    "start_time": "2022-06-03T06:29:57.914Z"
   },
   {
    "duration": 21,
    "start_time": "2022-06-03T06:29:57.963Z"
   },
   {
    "duration": 6,
    "start_time": "2022-06-03T06:32:23.933Z"
   },
   {
    "duration": 6,
    "start_time": "2022-06-03T06:32:42.882Z"
   },
   {
    "duration": 15,
    "start_time": "2022-06-03T06:41:36.066Z"
   },
   {
    "duration": 13,
    "start_time": "2022-06-03T06:42:09.086Z"
   },
   {
    "duration": 3,
    "start_time": "2022-06-03T06:45:30.234Z"
   },
   {
    "duration": 3,
    "start_time": "2022-06-03T06:45:35.886Z"
   },
   {
    "duration": 5,
    "start_time": "2022-06-03T06:45:48.534Z"
   },
   {
    "duration": 13,
    "start_time": "2022-06-03T06:50:54.141Z"
   },
   {
    "duration": 10,
    "start_time": "2022-06-03T06:51:12.233Z"
   },
   {
    "duration": 11,
    "start_time": "2022-06-03T06:51:52.587Z"
   },
   {
    "duration": 655,
    "start_time": "2022-06-03T06:52:33.801Z"
   },
   {
    "duration": 9,
    "start_time": "2022-06-03T06:52:43.511Z"
   },
   {
    "duration": 10,
    "start_time": "2022-06-03T06:53:02.254Z"
   },
   {
    "duration": 10,
    "start_time": "2022-06-03T06:54:00.775Z"
   },
   {
    "duration": 29,
    "start_time": "2022-06-03T06:57:04.714Z"
   },
   {
    "duration": 11,
    "start_time": "2022-06-03T06:57:57.803Z"
   },
   {
    "duration": 16,
    "start_time": "2022-06-03T06:58:17.465Z"
   },
   {
    "duration": 27,
    "start_time": "2022-06-03T06:58:35.994Z"
   },
   {
    "duration": 35,
    "start_time": "2022-06-03T06:58:50.766Z"
   },
   {
    "duration": 5,
    "start_time": "2022-06-03T06:59:49.553Z"
   },
   {
    "duration": 31,
    "start_time": "2022-06-03T07:00:04.467Z"
   },
   {
    "duration": 7,
    "start_time": "2022-06-03T07:00:09.454Z"
   },
   {
    "duration": 14,
    "start_time": "2022-06-03T07:00:12.325Z"
   },
   {
    "duration": 8,
    "start_time": "2022-06-03T07:05:23.869Z"
   },
   {
    "duration": 6,
    "start_time": "2022-06-03T07:05:34.055Z"
   },
   {
    "duration": 17,
    "start_time": "2022-06-03T07:06:29.314Z"
   },
   {
    "duration": 11,
    "start_time": "2022-06-03T07:06:45.447Z"
   },
   {
    "duration": 6,
    "start_time": "2022-06-03T07:06:54.214Z"
   },
   {
    "duration": 22,
    "start_time": "2022-06-03T07:08:55.427Z"
   },
   {
    "duration": 18,
    "start_time": "2022-06-03T07:11:26.026Z"
   },
   {
    "duration": 10,
    "start_time": "2022-06-03T07:11:39.490Z"
   },
   {
    "duration": 15,
    "start_time": "2022-06-03T07:12:03.157Z"
   },
   {
    "duration": 29,
    "start_time": "2022-06-03T07:12:21.374Z"
   },
   {
    "duration": 3,
    "start_time": "2022-06-03T07:15:13.815Z"
   },
   {
    "duration": 337,
    "start_time": "2022-06-03T07:20:06.195Z"
   },
   {
    "duration": 70,
    "start_time": "2022-06-03T07:22:14.328Z"
   },
   {
    "duration": 40,
    "start_time": "2022-06-03T07:24:31.435Z"
   },
   {
    "duration": 27,
    "start_time": "2022-06-03T07:26:12.428Z"
   },
   {
    "duration": 3,
    "start_time": "2022-06-03T07:26:58.246Z"
   },
   {
    "duration": 4,
    "start_time": "2022-06-04T08:44:34.094Z"
   },
   {
    "duration": 445,
    "start_time": "2022-06-04T08:45:40.319Z"
   },
   {
    "duration": 101,
    "start_time": "2022-06-04T08:45:40.767Z"
   },
   {
    "duration": 248,
    "start_time": "2022-06-04T08:45:40.869Z"
   },
   {
    "duration": 296,
    "start_time": "2022-06-04T08:45:41.119Z"
   },
   {
    "duration": 357,
    "start_time": "2022-06-04T08:45:41.417Z"
   },
   {
    "duration": 70,
    "start_time": "2022-06-04T08:45:41.776Z"
   },
   {
    "duration": 10,
    "start_time": "2022-06-04T08:45:41.847Z"
   },
   {
    "duration": 17,
    "start_time": "2022-06-04T08:45:41.859Z"
   },
   {
    "duration": 11,
    "start_time": "2022-06-04T08:45:41.878Z"
   },
   {
    "duration": 16,
    "start_time": "2022-06-04T08:45:41.891Z"
   },
   {
    "duration": 59,
    "start_time": "2022-06-04T08:45:41.909Z"
   },
   {
    "duration": 14,
    "start_time": "2022-06-04T08:45:41.970Z"
   },
   {
    "duration": 15,
    "start_time": "2022-06-04T08:45:41.986Z"
   },
   {
    "duration": 6,
    "start_time": "2022-06-04T08:45:42.005Z"
   },
   {
    "duration": 119,
    "start_time": "2022-06-04T08:45:42.013Z"
   },
   {
    "duration": 137,
    "start_time": "2022-06-04T08:45:42.133Z"
   },
   {
    "duration": 25,
    "start_time": "2022-06-04T08:45:42.273Z"
   },
   {
    "duration": 23,
    "start_time": "2022-06-04T08:45:42.300Z"
   },
   {
    "duration": 116,
    "start_time": "2022-06-04T08:45:42.325Z"
   },
   {
    "duration": 46,
    "start_time": "2022-06-04T08:45:42.443Z"
   },
   {
    "duration": 175,
    "start_time": "2022-06-04T08:45:42.491Z"
   },
   {
    "duration": 62,
    "start_time": "2022-06-04T08:45:42.668Z"
   },
   {
    "duration": 100,
    "start_time": "2022-06-04T08:45:42.732Z"
   },
   {
    "duration": 34,
    "start_time": "2022-06-04T08:45:42.833Z"
   },
   {
    "duration": 95,
    "start_time": "2022-06-04T08:45:42.869Z"
   },
   {
    "duration": 38,
    "start_time": "2022-06-04T08:45:42.967Z"
   },
   {
    "duration": 10,
    "start_time": "2022-06-04T08:45:43.007Z"
   },
   {
    "duration": 58,
    "start_time": "2022-06-04T08:45:43.018Z"
   },
   {
    "duration": 7,
    "start_time": "2022-06-04T08:45:43.078Z"
   },
   {
    "duration": 9,
    "start_time": "2022-06-04T08:45:43.087Z"
   },
   {
    "duration": 38,
    "start_time": "2022-06-04T08:45:43.098Z"
   },
   {
    "duration": 8,
    "start_time": "2022-06-04T08:45:43.165Z"
   },
   {
    "duration": 21,
    "start_time": "2022-06-04T08:45:43.175Z"
   },
   {
    "duration": 18,
    "start_time": "2022-06-04T08:45:43.198Z"
   },
   {
    "duration": 48,
    "start_time": "2022-06-04T08:45:43.218Z"
   },
   {
    "duration": 23,
    "start_time": "2022-06-04T08:45:43.268Z"
   },
   {
    "duration": 17,
    "start_time": "2022-06-04T08:45:43.293Z"
   },
   {
    "duration": 5,
    "start_time": "2022-06-04T08:45:43.311Z"
   },
   {
    "duration": 60,
    "start_time": "2022-06-04T08:45:43.318Z"
   },
   {
    "duration": 9,
    "start_time": "2022-06-04T08:45:43.381Z"
   },
   {
    "duration": 13,
    "start_time": "2022-06-04T08:45:43.394Z"
   },
   {
    "duration": 58,
    "start_time": "2022-06-04T08:45:43.409Z"
   },
   {
    "duration": 3,
    "start_time": "2022-06-04T08:45:43.469Z"
   },
   {
    "duration": 17,
    "start_time": "2022-06-04T08:45:43.474Z"
   },
   {
    "duration": 74,
    "start_time": "2022-06-04T08:45:43.493Z"
   },
   {
    "duration": 31,
    "start_time": "2022-06-04T08:45:43.569Z"
   },
   {
    "duration": 14,
    "start_time": "2022-06-04T08:45:43.602Z"
   },
   {
    "duration": 93,
    "start_time": "2022-06-04T08:45:43.618Z"
   },
   {
    "duration": 128,
    "start_time": "2022-06-04T08:45:43.712Z"
   },
   {
    "duration": 73,
    "start_time": "2022-06-04T08:45:43.842Z"
   },
   {
    "duration": 58,
    "start_time": "2022-06-04T08:45:43.917Z"
   },
   {
    "duration": 18,
    "start_time": "2022-06-04T08:45:43.977Z"
   },
   {
    "duration": 5,
    "start_time": "2022-06-04T08:45:43.997Z"
   },
   {
    "duration": 62,
    "start_time": "2022-06-04T08:45:44.004Z"
   },
   {
    "duration": 12,
    "start_time": "2022-06-04T08:45:44.068Z"
   },
   {
    "duration": 5,
    "start_time": "2022-06-04T08:45:44.082Z"
   },
   {
    "duration": 18,
    "start_time": "2022-06-04T08:45:44.088Z"
   },
   {
    "duration": 108,
    "start_time": "2022-06-04T08:45:44.108Z"
   },
   {
    "duration": 63,
    "start_time": "2022-06-04T08:45:44.218Z"
   },
   {
    "duration": 13,
    "start_time": "2022-06-04T08:45:44.283Z"
   },
   {
    "duration": 5,
    "start_time": "2022-06-04T08:45:44.298Z"
   },
   {
    "duration": 65,
    "start_time": "2022-06-04T08:45:44.305Z"
   },
   {
    "duration": 12,
    "start_time": "2022-06-04T08:45:44.371Z"
   },
   {
    "duration": 5,
    "start_time": "2022-06-04T08:45:44.385Z"
   },
   {
    "duration": 75,
    "start_time": "2022-06-04T08:45:44.392Z"
   },
   {
    "duration": 104,
    "start_time": "2022-06-04T08:45:44.468Z"
   },
   {
    "duration": 49,
    "start_time": "2022-06-04T08:45:44.574Z"
   },
   {
    "duration": 43,
    "start_time": "2022-06-04T08:45:44.625Z"
   },
   {
    "duration": 104,
    "start_time": "2022-06-04T08:45:44.669Z"
   },
   {
    "duration": 0,
    "start_time": "2022-06-04T08:45:44.774Z"
   },
   {
    "duration": 0,
    "start_time": "2022-06-04T08:45:44.775Z"
   },
   {
    "duration": 0,
    "start_time": "2022-06-04T08:45:44.777Z"
   },
   {
    "duration": 0,
    "start_time": "2022-06-04T08:45:44.778Z"
   },
   {
    "duration": 0,
    "start_time": "2022-06-04T08:45:44.779Z"
   },
   {
    "duration": 0,
    "start_time": "2022-06-04T08:45:44.780Z"
   },
   {
    "duration": 0,
    "start_time": "2022-06-04T08:45:44.782Z"
   },
   {
    "duration": 0,
    "start_time": "2022-06-04T08:45:44.784Z"
   },
   {
    "duration": 3,
    "start_time": "2022-06-04T09:32:20.633Z"
   },
   {
    "duration": 16,
    "start_time": "2022-06-04T09:34:06.025Z"
   },
   {
    "duration": 13,
    "start_time": "2022-06-04T09:34:44.194Z"
   },
   {
    "duration": 5,
    "start_time": "2022-06-04T09:36:14.007Z"
   },
   {
    "duration": 9,
    "start_time": "2022-06-04T09:37:01.625Z"
   },
   {
    "duration": 3,
    "start_time": "2022-06-04T09:37:12.003Z"
   },
   {
    "duration": 65,
    "start_time": "2022-06-04T09:37:12.009Z"
   },
   {
    "duration": 206,
    "start_time": "2022-06-04T09:37:12.076Z"
   },
   {
    "duration": 111,
    "start_time": "2022-06-04T09:37:12.284Z"
   },
   {
    "duration": 153,
    "start_time": "2022-06-04T09:37:12.397Z"
   },
   {
    "duration": 42,
    "start_time": "2022-06-04T09:37:12.552Z"
   },
   {
    "duration": 12,
    "start_time": "2022-06-04T09:37:12.596Z"
   },
   {
    "duration": 28,
    "start_time": "2022-06-04T09:37:12.611Z"
   },
   {
    "duration": 12,
    "start_time": "2022-06-04T09:37:12.641Z"
   },
   {
    "duration": 17,
    "start_time": "2022-06-04T09:37:12.655Z"
   },
   {
    "duration": 40,
    "start_time": "2022-06-04T09:37:12.674Z"
   },
   {
    "duration": 13,
    "start_time": "2022-06-04T09:37:12.716Z"
   },
   {
    "duration": 39,
    "start_time": "2022-06-04T09:37:12.733Z"
   },
   {
    "duration": 6,
    "start_time": "2022-06-04T09:37:12.773Z"
   },
   {
    "duration": 102,
    "start_time": "2022-06-04T09:37:12.781Z"
   },
   {
    "duration": 123,
    "start_time": "2022-06-04T09:37:12.885Z"
   },
   {
    "duration": 24,
    "start_time": "2022-06-04T09:37:13.009Z"
   },
   {
    "duration": 44,
    "start_time": "2022-06-04T09:37:13.035Z"
   },
   {
    "duration": 91,
    "start_time": "2022-06-04T09:37:13.081Z"
   },
   {
    "duration": 27,
    "start_time": "2022-06-04T09:37:13.173Z"
   },
   {
    "duration": 193,
    "start_time": "2022-06-04T09:37:13.202Z"
   },
   {
    "duration": 106,
    "start_time": "2022-06-04T09:37:13.397Z"
   },
   {
    "duration": 77,
    "start_time": "2022-06-04T09:37:13.505Z"
   },
   {
    "duration": 14,
    "start_time": "2022-06-04T09:37:13.584Z"
   },
   {
    "duration": 91,
    "start_time": "2022-06-04T09:37:13.600Z"
   },
   {
    "duration": 35,
    "start_time": "2022-06-04T09:37:13.693Z"
   },
   {
    "duration": 35,
    "start_time": "2022-06-04T09:37:13.729Z"
   },
   {
    "duration": 39,
    "start_time": "2022-06-04T09:37:13.767Z"
   },
   {
    "duration": 8,
    "start_time": "2022-06-04T09:37:13.809Z"
   },
   {
    "duration": 9,
    "start_time": "2022-06-04T09:37:13.819Z"
   },
   {
    "duration": 54,
    "start_time": "2022-06-04T09:37:13.830Z"
   },
   {
    "duration": 7,
    "start_time": "2022-06-04T09:37:13.886Z"
   },
   {
    "duration": 18,
    "start_time": "2022-06-04T09:37:13.896Z"
   },
   {
    "duration": 9,
    "start_time": "2022-06-04T09:37:13.916Z"
   },
   {
    "duration": 43,
    "start_time": "2022-06-04T09:37:13.927Z"
   },
   {
    "duration": 25,
    "start_time": "2022-06-04T09:37:13.973Z"
   },
   {
    "duration": 27,
    "start_time": "2022-06-04T09:37:14.004Z"
   },
   {
    "duration": 35,
    "start_time": "2022-06-04T09:37:14.032Z"
   },
   {
    "duration": 15,
    "start_time": "2022-06-04T09:37:14.069Z"
   },
   {
    "duration": 5,
    "start_time": "2022-06-04T09:37:14.085Z"
   },
   {
    "duration": 15,
    "start_time": "2022-06-04T09:37:14.092Z"
   },
   {
    "duration": 69,
    "start_time": "2022-06-04T09:37:14.108Z"
   },
   {
    "duration": 2,
    "start_time": "2022-06-04T09:37:14.180Z"
   },
   {
    "duration": 8,
    "start_time": "2022-06-04T09:37:39.108Z"
   },
   {
    "duration": 5,
    "start_time": "2022-06-04T09:38:12.090Z"
   },
   {
    "duration": 16,
    "start_time": "2022-06-04T09:38:37.690Z"
   },
   {
    "duration": 14,
    "start_time": "2022-06-04T09:38:45.716Z"
   },
   {
    "duration": 8,
    "start_time": "2022-06-04T09:38:55.833Z"
   },
   {
    "duration": 12,
    "start_time": "2022-06-04T09:39:04.924Z"
   },
   {
    "duration": 16,
    "start_time": "2022-06-04T09:40:36.425Z"
   },
   {
    "duration": 2,
    "start_time": "2022-06-04T09:45:36.624Z"
   },
   {
    "duration": 10,
    "start_time": "2022-06-04T09:58:23.086Z"
   },
   {
    "duration": 16,
    "start_time": "2022-06-04T09:58:36.626Z"
   },
   {
    "duration": 7,
    "start_time": "2022-06-04T09:58:47.814Z"
   },
   {
    "duration": 14,
    "start_time": "2022-06-04T09:59:23.998Z"
   },
   {
    "duration": 13,
    "start_time": "2022-06-04T10:00:11.834Z"
   },
   {
    "duration": 14,
    "start_time": "2022-06-04T10:00:49.142Z"
   },
   {
    "duration": 12,
    "start_time": "2022-06-04T10:02:39.878Z"
   },
   {
    "duration": 6,
    "start_time": "2022-06-04T10:02:54.082Z"
   },
   {
    "duration": 13,
    "start_time": "2022-06-04T10:03:07.590Z"
   },
   {
    "duration": 2,
    "start_time": "2022-06-04T10:04:00.174Z"
   },
   {
    "duration": 14,
    "start_time": "2022-06-04T10:05:59.723Z"
   },
   {
    "duration": 47,
    "start_time": "2022-06-04T10:07:44.479Z"
   },
   {
    "duration": 22,
    "start_time": "2022-06-04T10:08:02.499Z"
   },
   {
    "duration": 3,
    "start_time": "2022-06-04T10:09:21.736Z"
   },
   {
    "duration": 85,
    "start_time": "2022-06-04T10:09:21.742Z"
   },
   {
    "duration": 190,
    "start_time": "2022-06-04T10:09:21.828Z"
   },
   {
    "duration": 117,
    "start_time": "2022-06-04T10:09:22.020Z"
   },
   {
    "duration": 165,
    "start_time": "2022-06-04T10:09:22.139Z"
   },
   {
    "duration": 27,
    "start_time": "2022-06-04T10:09:22.306Z"
   },
   {
    "duration": 9,
    "start_time": "2022-06-04T10:09:22.334Z"
   },
   {
    "duration": 22,
    "start_time": "2022-06-04T10:09:22.344Z"
   },
   {
    "duration": 7,
    "start_time": "2022-06-04T10:09:22.367Z"
   },
   {
    "duration": 9,
    "start_time": "2022-06-04T10:09:22.376Z"
   },
   {
    "duration": 24,
    "start_time": "2022-06-04T10:09:22.386Z"
   },
   {
    "duration": 9,
    "start_time": "2022-06-04T10:09:22.412Z"
   },
   {
    "duration": 42,
    "start_time": "2022-06-04T10:09:22.423Z"
   },
   {
    "duration": 6,
    "start_time": "2022-06-04T10:09:22.466Z"
   },
   {
    "duration": 92,
    "start_time": "2022-06-04T10:09:22.474Z"
   },
   {
    "duration": 117,
    "start_time": "2022-06-04T10:09:22.568Z"
   },
   {
    "duration": 24,
    "start_time": "2022-06-04T10:09:22.687Z"
   },
   {
    "duration": 22,
    "start_time": "2022-06-04T10:09:22.712Z"
   },
   {
    "duration": 103,
    "start_time": "2022-06-04T10:09:22.736Z"
   },
   {
    "duration": 41,
    "start_time": "2022-06-04T10:09:22.841Z"
   },
   {
    "duration": 166,
    "start_time": "2022-06-04T10:09:22.884Z"
   },
   {
    "duration": 66,
    "start_time": "2022-06-04T10:09:23.052Z"
   },
   {
    "duration": 81,
    "start_time": "2022-06-04T10:09:23.119Z"
   },
   {
    "duration": 14,
    "start_time": "2022-06-04T10:09:23.202Z"
   },
   {
    "duration": 72,
    "start_time": "2022-06-04T10:09:23.217Z"
   },
   {
    "duration": 29,
    "start_time": "2022-06-04T10:09:23.291Z"
   },
   {
    "duration": 10,
    "start_time": "2022-06-04T10:09:23.322Z"
   },
   {
    "duration": 51,
    "start_time": "2022-06-04T10:09:23.334Z"
   },
   {
    "duration": 7,
    "start_time": "2022-06-04T10:09:23.386Z"
   },
   {
    "duration": 5,
    "start_time": "2022-06-04T10:09:23.394Z"
   },
   {
    "duration": 24,
    "start_time": "2022-06-04T10:09:23.400Z"
   },
   {
    "duration": 43,
    "start_time": "2022-06-04T10:09:23.425Z"
   },
   {
    "duration": 14,
    "start_time": "2022-06-04T10:09:23.470Z"
   },
   {
    "duration": 9,
    "start_time": "2022-06-04T10:09:23.486Z"
   },
   {
    "duration": 14,
    "start_time": "2022-06-04T10:09:23.497Z"
   },
   {
    "duration": 61,
    "start_time": "2022-06-04T10:09:23.513Z"
   },
   {
    "duration": 17,
    "start_time": "2022-06-04T10:09:23.578Z"
   },
   {
    "duration": 5,
    "start_time": "2022-06-04T10:09:23.596Z"
   },
   {
    "duration": 15,
    "start_time": "2022-06-04T10:09:23.603Z"
   },
   {
    "duration": 7,
    "start_time": "2022-06-04T10:09:23.620Z"
   },
   {
    "duration": 13,
    "start_time": "2022-06-04T10:09:23.665Z"
   },
   {
    "duration": 25,
    "start_time": "2022-06-04T10:09:23.680Z"
   },
   {
    "duration": 14,
    "start_time": "2022-06-04T10:09:23.707Z"
   },
   {
    "duration": 49,
    "start_time": "2022-06-04T10:09:23.723Z"
   },
   {
    "duration": 2,
    "start_time": "2022-06-04T10:09:23.774Z"
   },
   {
    "duration": 5,
    "start_time": "2022-06-04T10:09:23.778Z"
   },
   {
    "duration": 42,
    "start_time": "2022-06-04T10:09:23.784Z"
   },
   {
    "duration": 46,
    "start_time": "2022-06-04T10:09:23.828Z"
   },
   {
    "duration": 60,
    "start_time": "2022-06-04T10:09:23.876Z"
   },
   {
    "duration": 144,
    "start_time": "2022-06-04T10:09:23.938Z"
   },
   {
    "duration": 33,
    "start_time": "2022-06-04T10:09:24.083Z"
   },
   {
    "duration": 54,
    "start_time": "2022-06-04T10:09:24.118Z"
   },
   {
    "duration": 14,
    "start_time": "2022-06-04T10:09:24.174Z"
   },
   {
    "duration": 11,
    "start_time": "2022-06-04T10:09:24.189Z"
   },
   {
    "duration": 64,
    "start_time": "2022-06-04T10:09:24.202Z"
   },
   {
    "duration": 15,
    "start_time": "2022-06-04T10:09:24.267Z"
   },
   {
    "duration": 5,
    "start_time": "2022-06-04T10:09:24.283Z"
   },
   {
    "duration": 18,
    "start_time": "2022-06-04T10:09:24.289Z"
   },
   {
    "duration": 95,
    "start_time": "2022-06-04T10:09:24.309Z"
   },
   {
    "duration": 70,
    "start_time": "2022-06-04T10:09:24.406Z"
   },
   {
    "duration": 15,
    "start_time": "2022-06-04T10:09:24.478Z"
   },
   {
    "duration": 6,
    "start_time": "2022-06-04T10:09:24.495Z"
   },
   {
    "duration": 78,
    "start_time": "2022-06-04T10:09:24.503Z"
   },
   {
    "duration": 13,
    "start_time": "2022-06-04T10:09:24.583Z"
   },
   {
    "duration": 14,
    "start_time": "2022-06-04T10:09:24.597Z"
   },
   {
    "duration": 74,
    "start_time": "2022-06-04T10:09:24.613Z"
   },
   {
    "duration": 81,
    "start_time": "2022-06-04T10:09:24.689Z"
   },
   {
    "duration": 40,
    "start_time": "2022-06-04T10:09:24.772Z"
   },
   {
    "duration": 16,
    "start_time": "2022-06-04T10:09:24.814Z"
   },
   {
    "duration": 93,
    "start_time": "2022-06-04T10:09:24.865Z"
   },
   {
    "duration": 0,
    "start_time": "2022-06-04T10:09:24.959Z"
   },
   {
    "duration": 0,
    "start_time": "2022-06-04T10:09:24.960Z"
   },
   {
    "duration": 0,
    "start_time": "2022-06-04T10:09:24.961Z"
   },
   {
    "duration": 0,
    "start_time": "2022-06-04T10:09:24.962Z"
   },
   {
    "duration": 0,
    "start_time": "2022-06-04T10:09:24.963Z"
   },
   {
    "duration": 0,
    "start_time": "2022-06-04T10:09:24.964Z"
   },
   {
    "duration": 0,
    "start_time": "2022-06-04T10:09:24.965Z"
   },
   {
    "duration": 0,
    "start_time": "2022-06-04T10:09:24.965Z"
   },
   {
    "duration": 14,
    "start_time": "2022-06-04T10:42:58.790Z"
   },
   {
    "duration": 8,
    "start_time": "2022-06-04T11:05:40.147Z"
   },
   {
    "duration": 28,
    "start_time": "2022-06-04T11:06:22.718Z"
   },
   {
    "duration": 26,
    "start_time": "2022-06-04T11:06:43.003Z"
   },
   {
    "duration": 137,
    "start_time": "2022-06-04T11:09:17.026Z"
   },
   {
    "duration": 164,
    "start_time": "2022-06-04T11:15:38.984Z"
   },
   {
    "duration": 169,
    "start_time": "2022-06-04T11:18:22.246Z"
   },
   {
    "duration": 5,
    "start_time": "2022-06-04T11:18:42.331Z"
   },
   {
    "duration": 14,
    "start_time": "2022-06-04T11:18:57.698Z"
   },
   {
    "duration": 131,
    "start_time": "2022-06-04T14:24:07.892Z"
   },
   {
    "duration": 2,
    "start_time": "2022-06-04T14:24:13.030Z"
   },
   {
    "duration": 84,
    "start_time": "2022-06-04T14:24:13.034Z"
   },
   {
    "duration": 221,
    "start_time": "2022-06-04T14:24:13.120Z"
   },
   {
    "duration": 287,
    "start_time": "2022-06-04T14:24:13.343Z"
   },
   {
    "duration": 240,
    "start_time": "2022-06-04T14:24:13.632Z"
   },
   {
    "duration": 26,
    "start_time": "2022-06-04T14:24:13.874Z"
   },
   {
    "duration": 9,
    "start_time": "2022-06-04T14:24:13.902Z"
   },
   {
    "duration": 7,
    "start_time": "2022-06-04T14:24:13.913Z"
   },
   {
    "duration": 6,
    "start_time": "2022-06-04T14:24:13.922Z"
   },
   {
    "duration": 36,
    "start_time": "2022-06-04T14:24:13.929Z"
   },
   {
    "duration": 24,
    "start_time": "2022-06-04T14:24:13.966Z"
   },
   {
    "duration": 10,
    "start_time": "2022-06-04T14:24:13.991Z"
   },
   {
    "duration": 10,
    "start_time": "2022-06-04T14:24:14.003Z"
   },
   {
    "duration": 6,
    "start_time": "2022-06-04T14:24:14.014Z"
   },
   {
    "duration": 113,
    "start_time": "2022-06-04T14:24:14.021Z"
   },
   {
    "duration": 122,
    "start_time": "2022-06-04T14:24:14.136Z"
   },
   {
    "duration": 25,
    "start_time": "2022-06-04T14:24:14.260Z"
   },
   {
    "duration": 21,
    "start_time": "2022-06-04T14:24:14.287Z"
   },
   {
    "duration": 101,
    "start_time": "2022-06-04T14:24:14.309Z"
   },
   {
    "duration": 26,
    "start_time": "2022-06-04T14:24:14.412Z"
   },
   {
    "duration": 170,
    "start_time": "2022-06-04T14:24:14.439Z"
   },
   {
    "duration": 69,
    "start_time": "2022-06-04T14:24:14.611Z"
   },
   {
    "duration": 61,
    "start_time": "2022-06-04T14:24:14.682Z"
   },
   {
    "duration": 30,
    "start_time": "2022-06-04T14:24:14.747Z"
   },
   {
    "duration": 51,
    "start_time": "2022-06-04T14:24:14.778Z"
   },
   {
    "duration": 55,
    "start_time": "2022-06-04T14:24:14.830Z"
   },
   {
    "duration": 11,
    "start_time": "2022-06-04T14:24:14.887Z"
   },
   {
    "duration": 29,
    "start_time": "2022-06-04T14:24:14.900Z"
   },
   {
    "duration": 34,
    "start_time": "2022-06-04T14:24:14.931Z"
   },
   {
    "duration": 4,
    "start_time": "2022-06-04T14:24:14.967Z"
   },
   {
    "duration": 25,
    "start_time": "2022-06-04T14:24:14.973Z"
   },
   {
    "duration": 7,
    "start_time": "2022-06-04T14:24:15.000Z"
   },
   {
    "duration": 58,
    "start_time": "2022-06-04T14:24:15.009Z"
   },
   {
    "duration": 11,
    "start_time": "2022-06-04T14:24:15.068Z"
   },
   {
    "duration": 37,
    "start_time": "2022-06-04T14:24:15.081Z"
   },
   {
    "duration": 28,
    "start_time": "2022-06-04T14:24:15.120Z"
   },
   {
    "duration": 18,
    "start_time": "2022-06-04T14:24:15.164Z"
   },
   {
    "duration": 5,
    "start_time": "2022-06-04T14:24:15.184Z"
   },
   {
    "duration": 12,
    "start_time": "2022-06-04T14:24:15.190Z"
   },
   {
    "duration": 5,
    "start_time": "2022-06-04T14:24:15.204Z"
   },
   {
    "duration": 15,
    "start_time": "2022-06-04T14:24:15.211Z"
   },
   {
    "duration": 25,
    "start_time": "2022-06-04T14:24:15.265Z"
   },
   {
    "duration": 17,
    "start_time": "2022-06-04T14:24:15.292Z"
   },
   {
    "duration": 15,
    "start_time": "2022-06-04T14:24:15.311Z"
   },
   {
    "duration": 128,
    "start_time": "2022-06-04T14:24:15.328Z"
   },
   {
    "duration": 0,
    "start_time": "2022-06-04T14:24:15.458Z"
   },
   {
    "duration": 0,
    "start_time": "2022-06-04T14:24:15.459Z"
   },
   {
    "duration": 0,
    "start_time": "2022-06-04T14:24:15.462Z"
   },
   {
    "duration": 0,
    "start_time": "2022-06-04T14:24:15.463Z"
   },
   {
    "duration": 0,
    "start_time": "2022-06-04T14:24:15.465Z"
   },
   {
    "duration": 0,
    "start_time": "2022-06-04T14:24:15.466Z"
   },
   {
    "duration": 0,
    "start_time": "2022-06-04T14:24:15.467Z"
   },
   {
    "duration": 0,
    "start_time": "2022-06-04T14:24:15.468Z"
   },
   {
    "duration": 0,
    "start_time": "2022-06-04T14:24:15.469Z"
   },
   {
    "duration": 0,
    "start_time": "2022-06-04T14:24:15.470Z"
   },
   {
    "duration": 0,
    "start_time": "2022-06-04T14:24:15.471Z"
   },
   {
    "duration": 0,
    "start_time": "2022-06-04T14:24:15.472Z"
   },
   {
    "duration": 0,
    "start_time": "2022-06-04T14:24:15.473Z"
   },
   {
    "duration": 0,
    "start_time": "2022-06-04T14:24:15.474Z"
   },
   {
    "duration": 0,
    "start_time": "2022-06-04T14:24:15.475Z"
   },
   {
    "duration": 0,
    "start_time": "2022-06-04T14:24:15.476Z"
   },
   {
    "duration": 0,
    "start_time": "2022-06-04T14:24:15.477Z"
   },
   {
    "duration": 0,
    "start_time": "2022-06-04T14:24:15.478Z"
   },
   {
    "duration": 0,
    "start_time": "2022-06-04T14:24:15.479Z"
   },
   {
    "duration": 0,
    "start_time": "2022-06-04T14:24:15.480Z"
   },
   {
    "duration": 0,
    "start_time": "2022-06-04T14:24:15.482Z"
   },
   {
    "duration": 0,
    "start_time": "2022-06-04T14:24:15.482Z"
   },
   {
    "duration": 0,
    "start_time": "2022-06-04T14:24:15.483Z"
   },
   {
    "duration": 0,
    "start_time": "2022-06-04T14:24:15.484Z"
   },
   {
    "duration": 0,
    "start_time": "2022-06-04T14:24:15.485Z"
   },
   {
    "duration": 0,
    "start_time": "2022-06-04T14:24:15.486Z"
   },
   {
    "duration": 0,
    "start_time": "2022-06-04T14:24:15.487Z"
   },
   {
    "duration": 0,
    "start_time": "2022-06-04T14:24:15.488Z"
   },
   {
    "duration": 0,
    "start_time": "2022-06-04T14:24:15.489Z"
   },
   {
    "duration": 0,
    "start_time": "2022-06-04T14:24:15.490Z"
   },
   {
    "duration": 0,
    "start_time": "2022-06-04T14:24:15.491Z"
   },
   {
    "duration": 15,
    "start_time": "2022-06-04T14:24:15.604Z"
   },
   {
    "duration": 0,
    "start_time": "2022-06-04T14:24:15.620Z"
   },
   {
    "duration": 0,
    "start_time": "2022-06-04T14:24:15.622Z"
   },
   {
    "duration": 22,
    "start_time": "2022-06-04T14:25:16.755Z"
   },
   {
    "duration": 7,
    "start_time": "2022-06-04T14:25:42.296Z"
   },
   {
    "duration": 8,
    "start_time": "2022-06-04T14:26:05.503Z"
   },
   {
    "duration": 4,
    "start_time": "2022-06-04T14:26:33.296Z"
   },
   {
    "duration": 8,
    "start_time": "2022-06-04T14:27:33.113Z"
   },
   {
    "duration": 4,
    "start_time": "2022-06-04T14:30:06.522Z"
   },
   {
    "duration": 5,
    "start_time": "2022-06-04T14:30:24.491Z"
   },
   {
    "duration": 1209,
    "start_time": "2022-06-04T14:31:24.499Z"
   },
   {
    "duration": 1188,
    "start_time": "2022-06-04T14:32:09.695Z"
   },
   {
    "duration": 4,
    "start_time": "2022-06-04T14:34:48.656Z"
   },
   {
    "duration": 3,
    "start_time": "2022-06-04T14:39:23.406Z"
   },
   {
    "duration": 25,
    "start_time": "2022-06-04T14:42:52.127Z"
   },
   {
    "duration": 81,
    "start_time": "2022-06-04T14:43:11.328Z"
   },
   {
    "duration": 1202,
    "start_time": "2022-06-04T14:43:34.827Z"
   },
   {
    "duration": 409,
    "start_time": "2022-06-04T14:44:36.736Z"
   },
   {
    "duration": 336,
    "start_time": "2022-06-04T14:45:11.202Z"
   },
   {
    "duration": 1358,
    "start_time": "2022-06-04T14:45:18.647Z"
   },
   {
    "duration": 87,
    "start_time": "2022-06-04T14:46:20.011Z"
   },
   {
    "duration": 374,
    "start_time": "2022-06-04T14:53:01.068Z"
   },
   {
    "duration": 3,
    "start_time": "2022-06-04T14:53:33.004Z"
   },
   {
    "duration": 84,
    "start_time": "2022-06-04T14:53:33.009Z"
   },
   {
    "duration": 238,
    "start_time": "2022-06-04T14:53:33.096Z"
   },
   {
    "duration": 292,
    "start_time": "2022-06-04T14:53:33.337Z"
   },
   {
    "duration": 242,
    "start_time": "2022-06-04T14:53:33.632Z"
   },
   {
    "duration": 59,
    "start_time": "2022-06-04T14:53:33.876Z"
   },
   {
    "duration": 9,
    "start_time": "2022-06-04T14:53:33.937Z"
   },
   {
    "duration": 7,
    "start_time": "2022-06-04T14:53:33.948Z"
   },
   {
    "duration": 9,
    "start_time": "2022-06-04T14:53:33.957Z"
   },
   {
    "duration": 23,
    "start_time": "2022-06-04T14:53:33.968Z"
   },
   {
    "duration": 25,
    "start_time": "2022-06-04T14:53:33.993Z"
   },
   {
    "duration": 10,
    "start_time": "2022-06-04T14:53:34.019Z"
   },
   {
    "duration": 10,
    "start_time": "2022-06-04T14:53:34.030Z"
   },
   {
    "duration": 6,
    "start_time": "2022-06-04T14:53:34.064Z"
   },
   {
    "duration": 93,
    "start_time": "2022-06-04T14:53:34.072Z"
   },
   {
    "duration": 112,
    "start_time": "2022-06-04T14:53:34.166Z"
   },
   {
    "duration": 22,
    "start_time": "2022-06-04T14:53:34.280Z"
   },
   {
    "duration": 20,
    "start_time": "2022-06-04T14:53:34.304Z"
   },
   {
    "duration": 101,
    "start_time": "2022-06-04T14:53:34.326Z"
   },
   {
    "duration": 43,
    "start_time": "2022-06-04T14:53:34.428Z"
   },
   {
    "duration": 169,
    "start_time": "2022-06-04T14:53:34.473Z"
   },
   {
    "duration": 68,
    "start_time": "2022-06-04T14:53:34.644Z"
   },
   {
    "duration": 75,
    "start_time": "2022-06-04T14:53:34.714Z"
   },
   {
    "duration": 15,
    "start_time": "2022-06-04T14:53:34.790Z"
   },
   {
    "duration": 73,
    "start_time": "2022-06-04T14:53:34.807Z"
   },
   {
    "duration": 30,
    "start_time": "2022-06-04T14:53:34.881Z"
   },
   {
    "duration": 10,
    "start_time": "2022-06-04T14:53:34.912Z"
   },
   {
    "duration": 57,
    "start_time": "2022-06-04T14:53:34.923Z"
   },
   {
    "duration": 7,
    "start_time": "2022-06-04T14:53:34.982Z"
   },
   {
    "duration": 11,
    "start_time": "2022-06-04T14:53:34.990Z"
   },
   {
    "duration": 27,
    "start_time": "2022-06-04T14:53:35.003Z"
   },
   {
    "duration": 5,
    "start_time": "2022-06-04T14:53:35.032Z"
   },
   {
    "duration": 15,
    "start_time": "2022-06-04T14:53:35.065Z"
   },
   {
    "duration": 9,
    "start_time": "2022-06-04T14:53:35.081Z"
   },
   {
    "duration": 13,
    "start_time": "2022-06-04T14:53:35.091Z"
   },
   {
    "duration": 27,
    "start_time": "2022-06-04T14:53:35.105Z"
   },
   {
    "duration": 51,
    "start_time": "2022-06-04T14:53:35.133Z"
   },
   {
    "duration": 6,
    "start_time": "2022-06-04T14:53:35.186Z"
   },
   {
    "duration": 17,
    "start_time": "2022-06-04T14:53:35.194Z"
   },
   {
    "duration": 6,
    "start_time": "2022-06-04T14:53:35.213Z"
   },
   {
    "duration": 51,
    "start_time": "2022-06-04T14:53:35.223Z"
   },
   {
    "duration": 23,
    "start_time": "2022-06-04T14:53:35.275Z"
   },
   {
    "duration": 15,
    "start_time": "2022-06-04T14:53:35.300Z"
   },
   {
    "duration": 49,
    "start_time": "2022-06-04T14:53:35.316Z"
   },
   {
    "duration": 1256,
    "start_time": "2022-06-04T14:53:35.366Z"
   },
   {
    "duration": 4,
    "start_time": "2022-06-04T14:53:36.624Z"
   },
   {
    "duration": 6,
    "start_time": "2022-06-04T14:53:36.629Z"
   },
   {
    "duration": 9,
    "start_time": "2022-06-04T14:53:44.610Z"
   },
   {
    "duration": 383,
    "start_time": "2022-06-04T14:53:47.110Z"
   },
   {
    "duration": 17,
    "start_time": "2022-06-04T14:58:00.113Z"
   },
   {
    "duration": 26,
    "start_time": "2022-06-04T14:58:10.302Z"
   },
   {
    "duration": 15,
    "start_time": "2022-06-04T14:59:32.906Z"
   },
   {
    "duration": 16,
    "start_time": "2022-06-04T14:59:39.310Z"
   },
   {
    "duration": 378,
    "start_time": "2022-06-04T14:59:58.254Z"
   },
   {
    "duration": 401,
    "start_time": "2022-06-04T15:00:09.867Z"
   },
   {
    "duration": 1197,
    "start_time": "2022-06-04T15:01:06.902Z"
   },
   {
    "duration": 22,
    "start_time": "2022-06-04T16:01:03.770Z"
   },
   {
    "duration": 37,
    "start_time": "2022-06-04T16:01:56.192Z"
   },
   {
    "duration": 39,
    "start_time": "2022-06-04T16:04:39.173Z"
   },
   {
    "duration": 66,
    "start_time": "2022-06-04T16:05:48.961Z"
   },
   {
    "duration": 51,
    "start_time": "2022-06-04T16:06:15.957Z"
   },
   {
    "duration": 56,
    "start_time": "2022-06-04T17:44:55.400Z"
   },
   {
    "duration": 432,
    "start_time": "2022-06-04T17:45:03.200Z"
   },
   {
    "duration": 102,
    "start_time": "2022-06-04T17:45:03.635Z"
   },
   {
    "duration": 257,
    "start_time": "2022-06-04T17:45:03.738Z"
   },
   {
    "duration": 303,
    "start_time": "2022-06-04T17:45:03.996Z"
   },
   {
    "duration": 338,
    "start_time": "2022-06-04T17:45:04.301Z"
   },
   {
    "duration": 70,
    "start_time": "2022-06-04T17:45:04.641Z"
   },
   {
    "duration": 10,
    "start_time": "2022-06-04T17:45:04.713Z"
   },
   {
    "duration": 7,
    "start_time": "2022-06-04T17:45:04.725Z"
   },
   {
    "duration": 8,
    "start_time": "2022-06-04T17:45:04.734Z"
   },
   {
    "duration": 13,
    "start_time": "2022-06-04T17:45:04.744Z"
   },
   {
    "duration": 35,
    "start_time": "2022-06-04T17:45:04.759Z"
   },
   {
    "duration": 10,
    "start_time": "2022-06-04T17:45:04.796Z"
   },
   {
    "duration": 14,
    "start_time": "2022-06-04T17:45:04.808Z"
   },
   {
    "duration": 6,
    "start_time": "2022-06-04T17:45:04.825Z"
   },
   {
    "duration": 101,
    "start_time": "2022-06-04T17:45:04.833Z"
   },
   {
    "duration": 137,
    "start_time": "2022-06-04T17:45:04.936Z"
   },
   {
    "duration": 22,
    "start_time": "2022-06-04T17:45:05.075Z"
   },
   {
    "duration": 22,
    "start_time": "2022-06-04T17:45:05.099Z"
   },
   {
    "duration": 111,
    "start_time": "2022-06-04T17:45:05.123Z"
   },
   {
    "duration": 37,
    "start_time": "2022-06-04T17:45:05.235Z"
   },
   {
    "duration": 171,
    "start_time": "2022-06-04T17:45:05.274Z"
   },
   {
    "duration": 71,
    "start_time": "2022-06-04T17:45:05.446Z"
   },
   {
    "duration": 91,
    "start_time": "2022-06-04T17:45:05.519Z"
   },
   {
    "duration": 15,
    "start_time": "2022-06-04T17:45:05.612Z"
   },
   {
    "duration": 71,
    "start_time": "2022-06-04T17:45:05.629Z"
   },
   {
    "duration": 29,
    "start_time": "2022-06-04T17:45:05.701Z"
   },
   {
    "duration": 10,
    "start_time": "2022-06-04T17:45:05.732Z"
   },
   {
    "duration": 26,
    "start_time": "2022-06-04T17:45:05.765Z"
   },
   {
    "duration": 7,
    "start_time": "2022-06-04T17:45:05.792Z"
   },
   {
    "duration": 30,
    "start_time": "2022-06-04T17:45:05.801Z"
   },
   {
    "duration": 33,
    "start_time": "2022-06-04T17:45:05.833Z"
   },
   {
    "duration": 6,
    "start_time": "2022-06-04T17:45:05.867Z"
   },
   {
    "duration": 19,
    "start_time": "2022-06-04T17:45:05.875Z"
   },
   {
    "duration": 8,
    "start_time": "2022-06-04T17:45:05.896Z"
   },
   {
    "duration": 12,
    "start_time": "2022-06-04T17:45:05.906Z"
   },
   {
    "duration": 51,
    "start_time": "2022-06-04T17:45:05.920Z"
   },
   {
    "duration": 20,
    "start_time": "2022-06-04T17:45:05.973Z"
   },
   {
    "duration": 6,
    "start_time": "2022-06-04T17:45:05.995Z"
   },
   {
    "duration": 13,
    "start_time": "2022-06-04T17:45:06.003Z"
   },
   {
    "duration": 5,
    "start_time": "2022-06-04T17:45:06.018Z"
   },
   {
    "duration": 44,
    "start_time": "2022-06-04T17:45:06.028Z"
   },
   {
    "duration": 28,
    "start_time": "2022-06-04T17:45:06.074Z"
   },
   {
    "duration": 24,
    "start_time": "2022-06-04T17:45:06.104Z"
   },
   {
    "duration": 47,
    "start_time": "2022-06-04T17:45:06.130Z"
   },
   {
    "duration": 42,
    "start_time": "2022-06-04T17:45:06.180Z"
   },
   {
    "duration": 0,
    "start_time": "2022-06-04T17:45:06.224Z"
   },
   {
    "duration": 0,
    "start_time": "2022-06-04T17:45:06.225Z"
   },
   {
    "duration": 0,
    "start_time": "2022-06-04T17:45:06.226Z"
   },
   {
    "duration": 0,
    "start_time": "2022-06-04T17:45:06.228Z"
   },
   {
    "duration": 0,
    "start_time": "2022-06-04T17:45:06.229Z"
   },
   {
    "duration": 0,
    "start_time": "2022-06-04T17:45:06.230Z"
   },
   {
    "duration": 0,
    "start_time": "2022-06-04T17:45:06.231Z"
   },
   {
    "duration": 0,
    "start_time": "2022-06-04T17:45:06.232Z"
   },
   {
    "duration": 0,
    "start_time": "2022-06-04T17:45:06.233Z"
   },
   {
    "duration": 0,
    "start_time": "2022-06-04T17:45:06.265Z"
   },
   {
    "duration": 0,
    "start_time": "2022-06-04T17:45:06.267Z"
   },
   {
    "duration": 0,
    "start_time": "2022-06-04T17:45:06.268Z"
   },
   {
    "duration": 0,
    "start_time": "2022-06-04T17:45:06.269Z"
   },
   {
    "duration": 0,
    "start_time": "2022-06-04T17:45:06.270Z"
   },
   {
    "duration": 0,
    "start_time": "2022-06-04T17:45:06.271Z"
   },
   {
    "duration": 0,
    "start_time": "2022-06-04T17:45:06.272Z"
   },
   {
    "duration": 0,
    "start_time": "2022-06-04T17:45:06.274Z"
   },
   {
    "duration": 0,
    "start_time": "2022-06-04T17:45:06.275Z"
   },
   {
    "duration": 0,
    "start_time": "2022-06-04T17:45:06.277Z"
   },
   {
    "duration": 0,
    "start_time": "2022-06-04T17:45:06.278Z"
   },
   {
    "duration": 0,
    "start_time": "2022-06-04T17:45:06.279Z"
   },
   {
    "duration": 0,
    "start_time": "2022-06-04T17:45:06.281Z"
   },
   {
    "duration": 0,
    "start_time": "2022-06-04T17:45:06.282Z"
   },
   {
    "duration": 0,
    "start_time": "2022-06-04T17:45:06.284Z"
   },
   {
    "duration": 0,
    "start_time": "2022-06-04T17:45:06.285Z"
   },
   {
    "duration": 0,
    "start_time": "2022-06-04T17:45:06.287Z"
   },
   {
    "duration": 0,
    "start_time": "2022-06-04T17:45:06.288Z"
   },
   {
    "duration": 0,
    "start_time": "2022-06-04T17:45:06.289Z"
   },
   {
    "duration": 0,
    "start_time": "2022-06-04T17:45:06.291Z"
   },
   {
    "duration": 0,
    "start_time": "2022-06-04T17:45:06.292Z"
   },
   {
    "duration": 0,
    "start_time": "2022-06-04T17:45:06.294Z"
   },
   {
    "duration": 0,
    "start_time": "2022-06-04T17:45:06.295Z"
   },
   {
    "duration": 0,
    "start_time": "2022-06-04T17:45:06.296Z"
   },
   {
    "duration": 0,
    "start_time": "2022-06-04T17:45:06.297Z"
   },
   {
    "duration": 0,
    "start_time": "2022-06-04T17:45:06.299Z"
   },
   {
    "duration": 0,
    "start_time": "2022-06-04T17:45:06.300Z"
   },
   {
    "duration": 0,
    "start_time": "2022-06-04T17:45:06.301Z"
   },
   {
    "duration": 107,
    "start_time": "2022-06-04T17:47:29.615Z"
   },
   {
    "duration": 46,
    "start_time": "2022-06-04T17:48:22.004Z"
   },
   {
    "duration": 1458,
    "start_time": "2022-06-04T17:51:00.600Z"
   },
   {
    "duration": 25,
    "start_time": "2022-06-04T17:53:13.700Z"
   },
   {
    "duration": 1399,
    "start_time": "2022-06-04T17:54:42.106Z"
   },
   {
    "duration": 1493,
    "start_time": "2022-06-04T17:58:39.926Z"
   },
   {
    "duration": 45,
    "start_time": "2022-06-04T17:58:53.938Z"
   },
   {
    "duration": 85,
    "start_time": "2022-06-04T17:59:19.111Z"
   },
   {
    "duration": 45,
    "start_time": "2022-06-04T17:59:32.038Z"
   },
   {
    "duration": 76,
    "start_time": "2022-06-04T18:02:11.338Z"
   },
   {
    "duration": 52,
    "start_time": "2022-06-04T18:02:26.591Z"
   },
   {
    "duration": 55,
    "start_time": "2022-06-04T18:02:45.703Z"
   },
   {
    "duration": 52,
    "start_time": "2022-06-04T18:02:56.392Z"
   },
   {
    "duration": 55,
    "start_time": "2022-06-05T07:45:38.076Z"
   },
   {
    "duration": 7,
    "start_time": "2022-06-05T07:55:40.041Z"
   },
   {
    "duration": 405,
    "start_time": "2022-06-05T07:56:41.882Z"
   },
   {
    "duration": 28,
    "start_time": "2022-06-05T08:36:03.746Z"
   },
   {
    "duration": 3,
    "start_time": "2022-06-05T08:36:10.753Z"
   },
   {
    "duration": 102,
    "start_time": "2022-06-05T08:36:10.758Z"
   },
   {
    "duration": 241,
    "start_time": "2022-06-05T08:36:10.862Z"
   },
   {
    "duration": 286,
    "start_time": "2022-06-05T08:36:11.105Z"
   },
   {
    "duration": 315,
    "start_time": "2022-06-05T08:36:11.394Z"
   },
   {
    "duration": 67,
    "start_time": "2022-06-05T08:36:11.710Z"
   },
   {
    "duration": 10,
    "start_time": "2022-06-05T08:36:11.778Z"
   },
   {
    "duration": 10,
    "start_time": "2022-06-05T08:36:11.789Z"
   },
   {
    "duration": 11,
    "start_time": "2022-06-05T08:36:11.800Z"
   },
   {
    "duration": 9,
    "start_time": "2022-06-05T08:36:11.812Z"
   },
   {
    "duration": 33,
    "start_time": "2022-06-05T08:36:11.824Z"
   },
   {
    "duration": 10,
    "start_time": "2022-06-05T08:36:11.858Z"
   },
   {
    "duration": 10,
    "start_time": "2022-06-05T08:36:11.869Z"
   },
   {
    "duration": 6,
    "start_time": "2022-06-05T08:36:11.881Z"
   },
   {
    "duration": 113,
    "start_time": "2022-06-05T08:36:11.888Z"
   },
   {
    "duration": 137,
    "start_time": "2022-06-05T08:36:12.003Z"
   },
   {
    "duration": 28,
    "start_time": "2022-06-05T08:36:12.141Z"
   },
   {
    "duration": 20,
    "start_time": "2022-06-05T08:36:12.171Z"
   },
   {
    "duration": 114,
    "start_time": "2022-06-05T08:36:12.193Z"
   },
   {
    "duration": 49,
    "start_time": "2022-06-05T08:36:12.309Z"
   },
   {
    "duration": 164,
    "start_time": "2022-06-05T08:36:12.360Z"
   },
   {
    "duration": 79,
    "start_time": "2022-06-05T08:36:12.527Z"
   },
   {
    "duration": 91,
    "start_time": "2022-06-05T08:36:12.608Z"
   },
   {
    "duration": 18,
    "start_time": "2022-06-05T08:36:12.700Z"
   },
   {
    "duration": 99,
    "start_time": "2022-06-05T08:36:12.719Z"
   },
   {
    "duration": 37,
    "start_time": "2022-06-05T08:36:12.820Z"
   },
   {
    "duration": 10,
    "start_time": "2022-06-05T08:36:12.859Z"
   },
   {
    "duration": 26,
    "start_time": "2022-06-05T08:36:12.870Z"
   },
   {
    "duration": 6,
    "start_time": "2022-06-05T08:36:12.899Z"
   },
   {
    "duration": 7,
    "start_time": "2022-06-05T08:36:12.907Z"
   },
   {
    "duration": 54,
    "start_time": "2022-06-05T08:36:12.916Z"
   },
   {
    "duration": 5,
    "start_time": "2022-06-05T08:36:12.972Z"
   },
   {
    "duration": 15,
    "start_time": "2022-06-05T08:36:12.979Z"
   },
   {
    "duration": 8,
    "start_time": "2022-06-05T08:36:12.996Z"
   },
   {
    "duration": 13,
    "start_time": "2022-06-05T08:36:13.006Z"
   },
   {
    "duration": 63,
    "start_time": "2022-06-05T08:36:13.020Z"
   },
   {
    "duration": 18,
    "start_time": "2022-06-05T08:36:13.085Z"
   },
   {
    "duration": 5,
    "start_time": "2022-06-05T08:36:13.104Z"
   },
   {
    "duration": 48,
    "start_time": "2022-06-05T08:36:13.110Z"
   },
   {
    "duration": 4,
    "start_time": "2022-06-05T08:36:13.160Z"
   },
   {
    "duration": 13,
    "start_time": "2022-06-05T08:36:13.166Z"
   },
   {
    "duration": 22,
    "start_time": "2022-06-05T08:36:13.180Z"
   },
   {
    "duration": 4,
    "start_time": "2022-06-05T08:36:13.204Z"
   },
   {
    "duration": 53,
    "start_time": "2022-06-05T08:36:13.209Z"
   },
   {
    "duration": 1385,
    "start_time": "2022-06-05T08:36:13.263Z"
   },
   {
    "duration": 8,
    "start_time": "2022-06-05T08:36:14.649Z"
   },
   {
    "duration": 50,
    "start_time": "2022-06-05T08:36:14.658Z"
   },
   {
    "duration": 2,
    "start_time": "2022-06-05T08:36:14.709Z"
   },
   {
    "duration": 6,
    "start_time": "2022-06-05T08:36:14.713Z"
   },
   {
    "duration": 1508,
    "start_time": "2022-06-05T08:36:14.721Z"
   },
   {
    "duration": 3,
    "start_time": "2022-06-05T08:36:16.230Z"
   },
   {
    "duration": 29,
    "start_time": "2022-06-05T08:36:16.235Z"
   },
   {
    "duration": 0,
    "start_time": "2022-06-05T08:36:16.265Z"
   },
   {
    "duration": 0,
    "start_time": "2022-06-05T08:36:16.267Z"
   },
   {
    "duration": 0,
    "start_time": "2022-06-05T08:36:16.268Z"
   },
   {
    "duration": 0,
    "start_time": "2022-06-05T08:36:16.269Z"
   },
   {
    "duration": 0,
    "start_time": "2022-06-05T08:36:16.270Z"
   },
   {
    "duration": 0,
    "start_time": "2022-06-05T08:36:16.271Z"
   },
   {
    "duration": 0,
    "start_time": "2022-06-05T08:36:16.272Z"
   },
   {
    "duration": 0,
    "start_time": "2022-06-05T08:36:16.273Z"
   },
   {
    "duration": 0,
    "start_time": "2022-06-05T08:36:16.274Z"
   },
   {
    "duration": 16,
    "start_time": "2022-06-05T08:43:02.837Z"
   },
   {
    "duration": 11,
    "start_time": "2022-06-05T08:43:11.756Z"
   },
   {
    "duration": 11,
    "start_time": "2022-06-05T08:43:20.651Z"
   },
   {
    "duration": 11,
    "start_time": "2022-06-05T08:43:29.488Z"
   },
   {
    "duration": 11,
    "start_time": "2022-06-05T08:43:34.551Z"
   },
   {
    "duration": 3,
    "start_time": "2022-06-05T08:43:39.719Z"
   },
   {
    "duration": 56,
    "start_time": "2022-06-05T08:43:39.743Z"
   },
   {
    "duration": 184,
    "start_time": "2022-06-05T08:43:40.685Z"
   },
   {
    "duration": 145,
    "start_time": "2022-06-05T08:43:40.871Z"
   },
   {
    "duration": 159,
    "start_time": "2022-06-05T08:43:41.018Z"
   },
   {
    "duration": 27,
    "start_time": "2022-06-05T08:43:41.179Z"
   },
   {
    "duration": 11,
    "start_time": "2022-06-05T08:43:41.208Z"
   },
   {
    "duration": 32,
    "start_time": "2022-06-05T08:43:41.221Z"
   },
   {
    "duration": 7,
    "start_time": "2022-06-05T08:43:41.255Z"
   },
   {
    "duration": 23,
    "start_time": "2022-06-05T08:43:41.264Z"
   },
   {
    "duration": 32,
    "start_time": "2022-06-05T08:43:41.289Z"
   },
   {
    "duration": 10,
    "start_time": "2022-06-05T08:43:41.324Z"
   },
   {
    "duration": 25,
    "start_time": "2022-06-05T08:43:41.336Z"
   },
   {
    "duration": 15,
    "start_time": "2022-06-05T08:43:41.363Z"
   },
   {
    "duration": 105,
    "start_time": "2022-06-05T08:43:41.381Z"
   },
   {
    "duration": 118,
    "start_time": "2022-06-05T08:43:41.488Z"
   },
   {
    "duration": 22,
    "start_time": "2022-06-05T08:43:41.608Z"
   },
   {
    "duration": 20,
    "start_time": "2022-06-05T08:43:41.653Z"
   },
   {
    "duration": 101,
    "start_time": "2022-06-05T08:43:41.674Z"
   },
   {
    "duration": 24,
    "start_time": "2022-06-05T08:43:41.776Z"
   },
   {
    "duration": 174,
    "start_time": "2022-06-05T08:43:41.801Z"
   },
   {
    "duration": 57,
    "start_time": "2022-06-05T08:43:41.977Z"
   },
   {
    "duration": 68,
    "start_time": "2022-06-05T08:43:42.052Z"
   },
   {
    "duration": 37,
    "start_time": "2022-06-05T08:43:42.121Z"
   },
   {
    "duration": 70,
    "start_time": "2022-06-05T08:43:42.160Z"
   },
   {
    "duration": 55,
    "start_time": "2022-06-05T08:43:42.232Z"
   },
   {
    "duration": 10,
    "start_time": "2022-06-05T08:43:42.289Z"
   },
   {
    "duration": 31,
    "start_time": "2022-06-05T08:43:42.302Z"
   },
   {
    "duration": 8,
    "start_time": "2022-06-05T08:43:42.351Z"
   },
   {
    "duration": 4,
    "start_time": "2022-06-05T08:43:42.365Z"
   },
   {
    "duration": 37,
    "start_time": "2022-06-05T08:43:42.370Z"
   },
   {
    "duration": 5,
    "start_time": "2022-06-05T08:43:42.409Z"
   },
   {
    "duration": 47,
    "start_time": "2022-06-05T08:43:42.416Z"
   },
   {
    "duration": 13,
    "start_time": "2022-06-05T08:43:42.465Z"
   },
   {
    "duration": 21,
    "start_time": "2022-06-05T08:43:42.479Z"
   },
   {
    "duration": 53,
    "start_time": "2022-06-05T08:43:42.503Z"
   },
   {
    "duration": 26,
    "start_time": "2022-06-05T08:43:42.558Z"
   },
   {
    "duration": 14,
    "start_time": "2022-06-05T08:43:42.585Z"
   },
   {
    "duration": 19,
    "start_time": "2022-06-05T08:43:42.601Z"
   },
   {
    "duration": 5,
    "start_time": "2022-06-05T08:43:42.622Z"
   },
   {
    "duration": 17,
    "start_time": "2022-06-05T08:43:42.653Z"
   },
   {
    "duration": 36,
    "start_time": "2022-06-05T08:43:42.672Z"
   },
   {
    "duration": 5,
    "start_time": "2022-06-05T08:43:42.710Z"
   },
   {
    "duration": 49,
    "start_time": "2022-06-05T08:43:42.717Z"
   },
   {
    "duration": 1443,
    "start_time": "2022-06-05T08:43:42.769Z"
   },
   {
    "duration": 7,
    "start_time": "2022-06-05T08:43:44.214Z"
   },
   {
    "duration": 67,
    "start_time": "2022-06-05T08:43:44.222Z"
   },
   {
    "duration": 2,
    "start_time": "2022-06-05T08:43:44.291Z"
   },
   {
    "duration": 20,
    "start_time": "2022-06-05T08:43:44.295Z"
   },
   {
    "duration": 1551,
    "start_time": "2022-06-05T08:43:44.317Z"
   },
   {
    "duration": 4,
    "start_time": "2022-06-05T08:43:45.869Z"
   },
   {
    "duration": 9,
    "start_time": "2022-06-05T08:43:45.875Z"
   },
   {
    "duration": 0,
    "start_time": "2022-06-05T08:43:45.885Z"
   },
   {
    "duration": 0,
    "start_time": "2022-06-05T08:43:45.886Z"
   },
   {
    "duration": 0,
    "start_time": "2022-06-05T08:43:45.887Z"
   },
   {
    "duration": 0,
    "start_time": "2022-06-05T08:43:45.888Z"
   },
   {
    "duration": 0,
    "start_time": "2022-06-05T08:43:45.889Z"
   },
   {
    "duration": 0,
    "start_time": "2022-06-05T08:43:45.891Z"
   },
   {
    "duration": 0,
    "start_time": "2022-06-05T08:43:45.892Z"
   },
   {
    "duration": 0,
    "start_time": "2022-06-05T08:43:45.893Z"
   },
   {
    "duration": 2,
    "start_time": "2022-06-05T08:45:52.292Z"
   },
   {
    "duration": 56,
    "start_time": "2022-06-05T08:45:52.297Z"
   },
   {
    "duration": 179,
    "start_time": "2022-06-05T08:45:52.355Z"
   },
   {
    "duration": 139,
    "start_time": "2022-06-05T08:45:52.536Z"
   },
   {
    "duration": 152,
    "start_time": "2022-06-05T08:45:52.678Z"
   },
   {
    "duration": 39,
    "start_time": "2022-06-05T08:45:52.831Z"
   },
   {
    "duration": 10,
    "start_time": "2022-06-05T08:45:52.876Z"
   },
   {
    "duration": 20,
    "start_time": "2022-06-05T08:45:52.888Z"
   },
   {
    "duration": 10,
    "start_time": "2022-06-05T08:45:52.910Z"
   },
   {
    "duration": 15,
    "start_time": "2022-06-05T08:45:52.921Z"
   },
   {
    "duration": 40,
    "start_time": "2022-06-05T08:45:52.937Z"
   },
   {
    "duration": 10,
    "start_time": "2022-06-05T08:45:52.979Z"
   },
   {
    "duration": 9,
    "start_time": "2022-06-05T08:45:52.991Z"
   },
   {
    "duration": 6,
    "start_time": "2022-06-05T08:45:53.003Z"
   },
   {
    "duration": 109,
    "start_time": "2022-06-05T08:45:53.010Z"
   },
   {
    "duration": 109,
    "start_time": "2022-06-05T08:45:53.121Z"
   },
   {
    "duration": 39,
    "start_time": "2022-06-05T08:45:53.231Z"
   },
   {
    "duration": 20,
    "start_time": "2022-06-05T08:45:53.272Z"
   },
   {
    "duration": 104,
    "start_time": "2022-06-05T08:45:53.294Z"
   },
   {
    "duration": 32,
    "start_time": "2022-06-05T08:45:53.399Z"
   },
   {
    "duration": 192,
    "start_time": "2022-06-05T08:45:53.452Z"
   },
   {
    "duration": 62,
    "start_time": "2022-06-05T08:45:53.646Z"
   },
   {
    "duration": 92,
    "start_time": "2022-06-05T08:45:53.709Z"
   },
   {
    "duration": 16,
    "start_time": "2022-06-05T08:45:53.803Z"
   },
   {
    "duration": 92,
    "start_time": "2022-06-05T08:45:53.821Z"
   },
   {
    "duration": 56,
    "start_time": "2022-06-05T08:45:53.915Z"
   },
   {
    "duration": 10,
    "start_time": "2022-06-05T08:45:53.973Z"
   },
   {
    "duration": 28,
    "start_time": "2022-06-05T08:45:53.984Z"
   },
   {
    "duration": 8,
    "start_time": "2022-06-05T08:45:54.014Z"
   },
   {
    "duration": 30,
    "start_time": "2022-06-05T08:45:54.023Z"
   },
   {
    "duration": 31,
    "start_time": "2022-06-05T08:45:54.055Z"
   },
   {
    "duration": 6,
    "start_time": "2022-06-05T08:45:54.087Z"
   },
   {
    "duration": 19,
    "start_time": "2022-06-05T08:45:54.095Z"
   },
   {
    "duration": 52,
    "start_time": "2022-06-05T08:45:54.116Z"
   },
   {
    "duration": 19,
    "start_time": "2022-06-05T08:45:54.169Z"
   },
   {
    "duration": 30,
    "start_time": "2022-06-05T08:45:54.189Z"
   },
   {
    "duration": 36,
    "start_time": "2022-06-05T08:45:54.221Z"
   },
   {
    "duration": 10,
    "start_time": "2022-06-05T08:45:54.258Z"
   },
   {
    "duration": 13,
    "start_time": "2022-06-05T08:45:54.270Z"
   },
   {
    "duration": 7,
    "start_time": "2022-06-05T08:45:54.285Z"
   },
   {
    "duration": 12,
    "start_time": "2022-06-05T08:45:54.297Z"
   },
   {
    "duration": 59,
    "start_time": "2022-06-05T08:45:54.311Z"
   },
   {
    "duration": 5,
    "start_time": "2022-06-05T08:45:54.372Z"
   },
   {
    "duration": 23,
    "start_time": "2022-06-05T08:45:54.378Z"
   },
   {
    "duration": 1535,
    "start_time": "2022-06-05T08:45:54.403Z"
   },
   {
    "duration": 26,
    "start_time": "2022-06-05T08:45:55.940Z"
   },
   {
    "duration": 49,
    "start_time": "2022-06-05T08:45:55.969Z"
   },
   {
    "duration": 2,
    "start_time": "2022-06-05T08:45:56.020Z"
   },
   {
    "duration": 5,
    "start_time": "2022-06-05T08:45:56.024Z"
   },
   {
    "duration": 1453,
    "start_time": "2022-06-05T08:45:56.031Z"
   },
   {
    "duration": 4,
    "start_time": "2022-06-05T08:45:57.485Z"
   },
   {
    "duration": 12,
    "start_time": "2022-06-05T08:45:57.490Z"
   },
   {
    "duration": 1484,
    "start_time": "2022-06-05T08:53:50.288Z"
   },
   {
    "duration": 60,
    "start_time": "2022-06-05T08:55:09.487Z"
   },
   {
    "duration": 8,
    "start_time": "2022-06-05T08:56:13.324Z"
   },
   {
    "duration": 5,
    "start_time": "2022-06-05T08:56:29.628Z"
   },
   {
    "duration": 9,
    "start_time": "2022-06-05T08:56:41.720Z"
   },
   {
    "duration": 50,
    "start_time": "2022-06-05T09:04:42.488Z"
   },
   {
    "duration": 16,
    "start_time": "2022-06-05T09:06:21.915Z"
   },
   {
    "duration": 1234,
    "start_time": "2022-06-05T09:06:33.094Z"
   },
   {
    "duration": 27,
    "start_time": "2022-06-05T09:24:36.807Z"
   },
   {
    "duration": 1301,
    "start_time": "2022-06-05T09:24:49.001Z"
   },
   {
    "duration": 3,
    "start_time": "2022-06-05T09:25:01.803Z"
   },
   {
    "duration": 73,
    "start_time": "2022-06-05T09:25:01.808Z"
   },
   {
    "duration": 187,
    "start_time": "2022-06-05T09:25:01.882Z"
   },
   {
    "duration": 113,
    "start_time": "2022-06-05T09:25:02.072Z"
   },
   {
    "duration": 144,
    "start_time": "2022-06-05T09:25:02.187Z"
   },
   {
    "duration": 26,
    "start_time": "2022-06-05T09:25:02.333Z"
   },
   {
    "duration": 9,
    "start_time": "2022-06-05T09:25:02.361Z"
   },
   {
    "duration": 12,
    "start_time": "2022-06-05T09:25:02.371Z"
   },
   {
    "duration": 14,
    "start_time": "2022-06-05T09:25:02.385Z"
   },
   {
    "duration": 10,
    "start_time": "2022-06-05T09:25:02.401Z"
   },
   {
    "duration": 41,
    "start_time": "2022-06-05T09:25:02.413Z"
   },
   {
    "duration": 9,
    "start_time": "2022-06-05T09:25:02.456Z"
   },
   {
    "duration": 15,
    "start_time": "2022-06-05T09:25:02.466Z"
   },
   {
    "duration": 6,
    "start_time": "2022-06-05T09:25:02.483Z"
   },
   {
    "duration": 109,
    "start_time": "2022-06-05T09:25:02.491Z"
   },
   {
    "duration": 115,
    "start_time": "2022-06-05T09:25:02.602Z"
   },
   {
    "duration": 20,
    "start_time": "2022-06-05T09:25:02.718Z"
   },
   {
    "duration": 18,
    "start_time": "2022-06-05T09:25:02.752Z"
   },
   {
    "duration": 88,
    "start_time": "2022-06-05T09:25:02.772Z"
   },
   {
    "duration": 24,
    "start_time": "2022-06-05T09:25:02.861Z"
   },
   {
    "duration": 177,
    "start_time": "2022-06-05T09:25:02.887Z"
   },
   {
    "duration": 56,
    "start_time": "2022-06-05T09:25:03.065Z"
   },
   {
    "duration": 78,
    "start_time": "2022-06-05T09:25:03.123Z"
   },
   {
    "duration": 19,
    "start_time": "2022-06-05T09:25:03.204Z"
   },
   {
    "duration": 78,
    "start_time": "2022-06-05T09:25:03.225Z"
   },
   {
    "duration": 54,
    "start_time": "2022-06-05T09:25:03.304Z"
   },
   {
    "duration": 10,
    "start_time": "2022-06-05T09:25:03.359Z"
   },
   {
    "duration": 27,
    "start_time": "2022-06-05T09:25:03.370Z"
   },
   {
    "duration": 7,
    "start_time": "2022-06-05T09:25:03.399Z"
   },
   {
    "duration": 6,
    "start_time": "2022-06-05T09:25:03.408Z"
   },
   {
    "duration": 55,
    "start_time": "2022-06-05T09:25:03.415Z"
   },
   {
    "duration": 5,
    "start_time": "2022-06-05T09:25:03.472Z"
   },
   {
    "duration": 26,
    "start_time": "2022-06-05T09:25:03.478Z"
   },
   {
    "duration": 18,
    "start_time": "2022-06-05T09:25:03.506Z"
   },
   {
    "duration": 15,
    "start_time": "2022-06-05T09:25:03.525Z"
   },
   {
    "duration": 25,
    "start_time": "2022-06-05T09:25:03.541Z"
   },
   {
    "duration": 17,
    "start_time": "2022-06-05T09:25:03.567Z"
   },
   {
    "duration": 5,
    "start_time": "2022-06-05T09:25:03.585Z"
   },
   {
    "duration": 19,
    "start_time": "2022-06-05T09:25:03.591Z"
   },
   {
    "duration": 42,
    "start_time": "2022-06-05T09:25:03.611Z"
   },
   {
    "duration": 21,
    "start_time": "2022-06-05T09:25:03.655Z"
   },
   {
    "duration": 26,
    "start_time": "2022-06-05T09:25:03.677Z"
   },
   {
    "duration": 4,
    "start_time": "2022-06-05T09:25:03.705Z"
   },
   {
    "duration": 21,
    "start_time": "2022-06-05T09:25:03.711Z"
   },
   {
    "duration": 20,
    "start_time": "2022-06-05T09:25:03.733Z"
   },
   {
    "duration": 12,
    "start_time": "2022-06-05T09:25:03.754Z"
   },
   {
    "duration": 13,
    "start_time": "2022-06-05T09:25:03.768Z"
   },
   {
    "duration": 1305,
    "start_time": "2022-06-05T09:25:03.782Z"
   },
   {
    "duration": 1332,
    "start_time": "2022-06-05T09:28:57.785Z"
   },
   {
    "duration": 16,
    "start_time": "2022-06-05T09:33:00.759Z"
   },
   {
    "duration": 15,
    "start_time": "2022-06-05T09:33:34.653Z"
   },
   {
    "duration": 16,
    "start_time": "2022-06-05T09:33:39.587Z"
   },
   {
    "duration": 1806,
    "start_time": "2022-06-05T09:33:55.913Z"
   },
   {
    "duration": 16,
    "start_time": "2022-06-05T09:35:12.348Z"
   },
   {
    "duration": 1423,
    "start_time": "2022-06-05T09:35:31.552Z"
   },
   {
    "duration": 510,
    "start_time": "2022-06-05T09:38:45.277Z"
   },
   {
    "duration": 357,
    "start_time": "2022-06-05T09:43:33.853Z"
   },
   {
    "duration": 338,
    "start_time": "2022-06-05T09:43:45.278Z"
   },
   {
    "duration": 376,
    "start_time": "2022-06-05T09:45:11.484Z"
   },
   {
    "duration": 18,
    "start_time": "2022-06-05T09:50:48.692Z"
   },
   {
    "duration": 2646,
    "start_time": "2022-06-05T09:51:13.912Z"
   },
   {
    "duration": 2975,
    "start_time": "2022-06-05T09:55:09.074Z"
   },
   {
    "duration": 3,
    "start_time": "2022-06-05T09:57:36.684Z"
   },
   {
    "duration": 61,
    "start_time": "2022-06-05T09:57:36.689Z"
   },
   {
    "duration": 166,
    "start_time": "2022-06-05T09:57:36.751Z"
   },
   {
    "duration": 106,
    "start_time": "2022-06-05T09:57:36.919Z"
   },
   {
    "duration": 147,
    "start_time": "2022-06-05T09:57:37.027Z"
   },
   {
    "duration": 26,
    "start_time": "2022-06-05T09:57:37.176Z"
   },
   {
    "duration": 9,
    "start_time": "2022-06-05T09:57:37.203Z"
   },
   {
    "duration": 22,
    "start_time": "2022-06-05T09:57:37.214Z"
   },
   {
    "duration": 21,
    "start_time": "2022-06-05T09:57:37.237Z"
   },
   {
    "duration": 28,
    "start_time": "2022-06-05T09:57:37.260Z"
   },
   {
    "duration": 24,
    "start_time": "2022-06-05T09:57:37.290Z"
   },
   {
    "duration": 13,
    "start_time": "2022-06-05T09:57:37.316Z"
   },
   {
    "duration": 15,
    "start_time": "2022-06-05T09:57:37.331Z"
   },
   {
    "duration": 11,
    "start_time": "2022-06-05T09:57:37.354Z"
   },
   {
    "duration": 106,
    "start_time": "2022-06-05T09:57:37.367Z"
   },
   {
    "duration": 110,
    "start_time": "2022-06-05T09:57:37.475Z"
   },
   {
    "duration": 23,
    "start_time": "2022-06-05T09:57:37.588Z"
   },
   {
    "duration": 45,
    "start_time": "2022-06-05T09:57:37.613Z"
   },
   {
    "duration": 74,
    "start_time": "2022-06-05T09:57:37.659Z"
   },
   {
    "duration": 26,
    "start_time": "2022-06-05T09:57:37.751Z"
   },
   {
    "duration": 160,
    "start_time": "2022-06-05T09:57:37.778Z"
   },
   {
    "duration": 55,
    "start_time": "2022-06-05T09:57:37.940Z"
   },
   {
    "duration": 85,
    "start_time": "2022-06-05T09:57:37.997Z"
   },
   {
    "duration": 14,
    "start_time": "2022-06-05T09:57:38.084Z"
   },
   {
    "duration": 86,
    "start_time": "2022-06-05T09:57:38.100Z"
   },
   {
    "duration": 26,
    "start_time": "2022-06-05T09:57:38.188Z"
   },
   {
    "duration": 16,
    "start_time": "2022-06-05T09:57:38.215Z"
   },
   {
    "duration": 50,
    "start_time": "2022-06-05T09:57:38.233Z"
   },
   {
    "duration": 13,
    "start_time": "2022-06-05T09:57:38.285Z"
   },
   {
    "duration": 36,
    "start_time": "2022-06-05T09:57:38.300Z"
   },
   {
    "duration": 57,
    "start_time": "2022-06-05T09:57:38.338Z"
   },
   {
    "duration": 10,
    "start_time": "2022-06-05T09:57:38.397Z"
   },
   {
    "duration": 50,
    "start_time": "2022-06-05T09:57:38.409Z"
   },
   {
    "duration": 22,
    "start_time": "2022-06-05T09:57:38.460Z"
   },
   {
    "duration": 29,
    "start_time": "2022-06-05T09:57:38.484Z"
   },
   {
    "duration": 50,
    "start_time": "2022-06-05T09:57:38.514Z"
   },
   {
    "duration": 33,
    "start_time": "2022-06-05T09:57:38.566Z"
   },
   {
    "duration": 9,
    "start_time": "2022-06-05T09:57:38.601Z"
   },
   {
    "duration": 26,
    "start_time": "2022-06-05T09:57:38.612Z"
   },
   {
    "duration": 5,
    "start_time": "2022-06-05T09:57:38.639Z"
   },
   {
    "duration": 14,
    "start_time": "2022-06-05T09:57:38.647Z"
   },
   {
    "duration": 23,
    "start_time": "2022-06-05T09:57:38.662Z"
   },
   {
    "duration": 5,
    "start_time": "2022-06-05T09:57:38.686Z"
   },
   {
    "duration": 24,
    "start_time": "2022-06-05T09:57:38.692Z"
   },
   {
    "duration": 3,
    "start_time": "2022-06-05T09:57:38.717Z"
   },
   {
    "duration": 12,
    "start_time": "2022-06-05T09:57:38.721Z"
   },
   {
    "duration": 9,
    "start_time": "2022-06-05T09:57:38.752Z"
   },
   {
    "duration": 2860,
    "start_time": "2022-06-05T09:57:38.762Z"
   },
   {
    "duration": 4,
    "start_time": "2022-06-05T10:03:34.553Z"
   },
   {
    "duration": 4,
    "start_time": "2022-06-05T10:06:12.093Z"
   },
   {
    "duration": 5,
    "start_time": "2022-06-05T10:07:40.718Z"
   },
   {
    "duration": 4371,
    "start_time": "2022-06-05T10:07:57.387Z"
   },
   {
    "duration": 4267,
    "start_time": "2022-06-05T10:08:19.499Z"
   },
   {
    "duration": 5743,
    "start_time": "2022-06-05T10:11:00.757Z"
   },
   {
    "duration": 5511,
    "start_time": "2022-06-05T10:12:51.673Z"
   },
   {
    "duration": 5519,
    "start_time": "2022-06-05T10:13:11.775Z"
   },
   {
    "duration": 5642,
    "start_time": "2022-06-05T10:14:23.156Z"
   },
   {
    "duration": 5404,
    "start_time": "2022-06-05T10:15:46.241Z"
   },
   {
    "duration": 10,
    "start_time": "2022-06-05T10:16:57.106Z"
   },
   {
    "duration": 11,
    "start_time": "2022-06-05T10:17:56.686Z"
   },
   {
    "duration": 60,
    "start_time": "2022-06-05T10:19:52.252Z"
   },
   {
    "duration": 5359,
    "start_time": "2022-06-05T10:20:37.080Z"
   },
   {
    "duration": 2,
    "start_time": "2022-06-05T11:08:50.714Z"
   },
   {
    "duration": 303,
    "start_time": "2022-06-05T11:11:54.626Z"
   },
   {
    "duration": 6,
    "start_time": "2022-06-05T11:12:06.512Z"
   },
   {
    "duration": 17,
    "start_time": "2022-06-05T11:16:29.259Z"
   },
   {
    "duration": 13,
    "start_time": "2022-06-05T11:17:53.239Z"
   },
   {
    "duration": 17,
    "start_time": "2022-06-05T11:18:03.891Z"
   },
   {
    "duration": 17,
    "start_time": "2022-06-05T11:18:28.526Z"
   },
   {
    "duration": 5646,
    "start_time": "2022-06-05T11:18:54.987Z"
   },
   {
    "duration": 5784,
    "start_time": "2022-06-05T11:19:07.036Z"
   },
   {
    "duration": 15,
    "start_time": "2022-06-05T11:19:53.353Z"
   },
   {
    "duration": 13,
    "start_time": "2022-06-05T11:19:59.832Z"
   },
   {
    "duration": 13,
    "start_time": "2022-06-05T11:24:24.291Z"
   },
   {
    "duration": 14,
    "start_time": "2022-06-05T11:25:02.103Z"
   },
   {
    "duration": 14,
    "start_time": "2022-06-05T11:25:15.736Z"
   },
   {
    "duration": 20,
    "start_time": "2022-06-05T11:25:29.360Z"
   },
   {
    "duration": 19,
    "start_time": "2022-06-05T11:26:50.499Z"
   },
   {
    "duration": 20,
    "start_time": "2022-06-05T11:27:11.742Z"
   },
   {
    "duration": 17,
    "start_time": "2022-06-05T11:30:28.699Z"
   },
   {
    "duration": 19,
    "start_time": "2022-06-05T11:32:08.790Z"
   },
   {
    "duration": 20,
    "start_time": "2022-06-05T11:34:23.746Z"
   },
   {
    "duration": 23,
    "start_time": "2022-06-05T11:35:35.497Z"
   },
   {
    "duration": 3,
    "start_time": "2022-06-05T11:36:22.599Z"
   },
   {
    "duration": 76,
    "start_time": "2022-06-05T11:36:22.605Z"
   },
   {
    "duration": 170,
    "start_time": "2022-06-05T11:36:22.683Z"
   },
   {
    "duration": 106,
    "start_time": "2022-06-05T11:36:22.856Z"
   },
   {
    "duration": 144,
    "start_time": "2022-06-05T11:36:22.964Z"
   },
   {
    "duration": 28,
    "start_time": "2022-06-05T11:36:23.111Z"
   },
   {
    "duration": 18,
    "start_time": "2022-06-05T11:36:23.142Z"
   },
   {
    "duration": 12,
    "start_time": "2022-06-05T11:36:23.162Z"
   },
   {
    "duration": 11,
    "start_time": "2022-06-05T11:36:23.176Z"
   },
   {
    "duration": 7,
    "start_time": "2022-06-05T11:36:23.189Z"
   },
   {
    "duration": 22,
    "start_time": "2022-06-05T11:36:23.198Z"
   },
   {
    "duration": 12,
    "start_time": "2022-06-05T11:36:23.253Z"
   },
   {
    "duration": 16,
    "start_time": "2022-06-05T11:36:23.267Z"
   },
   {
    "duration": 6,
    "start_time": "2022-06-05T11:36:23.285Z"
   },
   {
    "duration": 105,
    "start_time": "2022-06-05T11:36:23.293Z"
   },
   {
    "duration": 112,
    "start_time": "2022-06-05T11:36:23.400Z"
   },
   {
    "duration": 21,
    "start_time": "2022-06-05T11:36:23.514Z"
   },
   {
    "duration": 32,
    "start_time": "2022-06-05T11:36:23.536Z"
   },
   {
    "duration": 96,
    "start_time": "2022-06-05T11:36:23.570Z"
   },
   {
    "duration": 22,
    "start_time": "2022-06-05T11:36:23.668Z"
   },
   {
    "duration": 182,
    "start_time": "2022-06-05T11:36:23.692Z"
   },
   {
    "duration": 60,
    "start_time": "2022-06-05T11:36:23.876Z"
   },
   {
    "duration": 65,
    "start_time": "2022-06-05T11:36:23.952Z"
   },
   {
    "duration": 36,
    "start_time": "2022-06-05T11:36:24.020Z"
   },
   {
    "duration": 53,
    "start_time": "2022-06-05T11:36:24.058Z"
   },
   {
    "duration": 54,
    "start_time": "2022-06-05T11:36:24.113Z"
   },
   {
    "duration": 18,
    "start_time": "2022-06-05T11:36:24.169Z"
   },
   {
    "duration": 28,
    "start_time": "2022-06-05T11:36:24.189Z"
   },
   {
    "duration": 8,
    "start_time": "2022-06-05T11:36:24.218Z"
   },
   {
    "duration": 28,
    "start_time": "2022-06-05T11:36:24.227Z"
   },
   {
    "duration": 23,
    "start_time": "2022-06-05T11:36:24.257Z"
   },
   {
    "duration": 6,
    "start_time": "2022-06-05T11:36:24.281Z"
   },
   {
    "duration": 15,
    "start_time": "2022-06-05T11:36:24.288Z"
   },
   {
    "duration": 8,
    "start_time": "2022-06-05T11:36:24.305Z"
   },
   {
    "duration": 46,
    "start_time": "2022-06-05T11:36:24.315Z"
   },
   {
    "duration": 26,
    "start_time": "2022-06-05T11:36:24.363Z"
   },
   {
    "duration": 18,
    "start_time": "2022-06-05T11:36:24.391Z"
   },
   {
    "duration": 45,
    "start_time": "2022-06-05T11:36:24.410Z"
   },
   {
    "duration": 15,
    "start_time": "2022-06-05T11:36:24.456Z"
   },
   {
    "duration": 5,
    "start_time": "2022-06-05T11:36:24.472Z"
   },
   {
    "duration": 19,
    "start_time": "2022-06-05T11:36:24.478Z"
   },
   {
    "duration": 23,
    "start_time": "2022-06-05T11:36:24.499Z"
   },
   {
    "duration": 4,
    "start_time": "2022-06-05T11:36:24.553Z"
   },
   {
    "duration": 19,
    "start_time": "2022-06-05T11:36:24.559Z"
   },
   {
    "duration": 2,
    "start_time": "2022-06-05T11:36:24.580Z"
   },
   {
    "duration": 20,
    "start_time": "2022-06-05T11:36:24.583Z"
   },
   {
    "duration": 13,
    "start_time": "2022-06-05T11:36:24.604Z"
   },
   {
    "duration": 5587,
    "start_time": "2022-06-05T11:36:24.619Z"
   },
   {
    "duration": 16,
    "start_time": "2022-06-05T11:36:30.208Z"
   },
   {
    "duration": 27,
    "start_time": "2022-06-05T11:36:30.226Z"
   },
   {
    "duration": 31,
    "start_time": "2022-06-05T11:36:30.256Z"
   },
   {
    "duration": 23,
    "start_time": "2022-06-05T11:39:04.387Z"
   },
   {
    "duration": 28,
    "start_time": "2022-06-05T11:40:17.522Z"
   },
   {
    "duration": 23,
    "start_time": "2022-06-05T11:43:12.200Z"
   },
   {
    "duration": 14,
    "start_time": "2022-06-05T11:43:48.311Z"
   },
   {
    "duration": 13,
    "start_time": "2022-06-05T11:45:32.942Z"
   },
   {
    "duration": 22,
    "start_time": "2022-06-05T11:45:37.590Z"
   },
   {
    "duration": 105,
    "start_time": "2022-06-05T11:52:59.722Z"
   },
   {
    "duration": 31,
    "start_time": "2022-06-05T11:53:10.413Z"
   },
   {
    "duration": 27,
    "start_time": "2022-06-05T11:56:09.051Z"
   },
   {
    "duration": 50,
    "start_time": "2022-06-05T11:56:31.428Z"
   },
   {
    "duration": 44,
    "start_time": "2022-06-05T11:56:51.560Z"
   },
   {
    "duration": 2,
    "start_time": "2022-06-05T12:04:27.394Z"
   },
   {
    "duration": 19,
    "start_time": "2022-06-05T12:06:24.991Z"
   },
   {
    "duration": 54,
    "start_time": "2022-06-05T12:12:57.553Z"
   },
   {
    "duration": 15,
    "start_time": "2022-06-05T12:16:29.661Z"
   },
   {
    "duration": 15,
    "start_time": "2022-06-05T12:17:43.641Z"
   },
   {
    "duration": 5505,
    "start_time": "2022-06-05T12:20:38.845Z"
   },
   {
    "duration": 18,
    "start_time": "2022-06-05T12:21:04.142Z"
   },
   {
    "duration": 5536,
    "start_time": "2022-06-05T12:23:02.544Z"
   },
   {
    "duration": 6038,
    "start_time": "2022-06-05T12:28:58.245Z"
   },
   {
    "duration": 5819,
    "start_time": "2022-06-05T12:29:20.212Z"
   },
   {
    "duration": 5758,
    "start_time": "2022-06-05T12:29:34.910Z"
   },
   {
    "duration": 2,
    "start_time": "2022-06-05T12:30:01.739Z"
   },
   {
    "duration": 52,
    "start_time": "2022-06-05T12:30:01.785Z"
   },
   {
    "duration": 217,
    "start_time": "2022-06-05T12:30:01.840Z"
   },
   {
    "duration": 134,
    "start_time": "2022-06-05T12:30:02.059Z"
   },
   {
    "duration": 171,
    "start_time": "2022-06-05T12:30:02.195Z"
   },
   {
    "duration": 28,
    "start_time": "2022-06-05T12:30:02.368Z"
   },
   {
    "duration": 11,
    "start_time": "2022-06-05T12:30:02.398Z"
   },
   {
    "duration": 33,
    "start_time": "2022-06-05T12:30:02.411Z"
   },
   {
    "duration": 21,
    "start_time": "2022-06-05T12:30:02.446Z"
   },
   {
    "duration": 12,
    "start_time": "2022-06-05T12:30:02.468Z"
   },
   {
    "duration": 41,
    "start_time": "2022-06-05T12:30:02.483Z"
   },
   {
    "duration": 31,
    "start_time": "2022-06-05T12:30:02.526Z"
   },
   {
    "duration": 55,
    "start_time": "2022-06-05T12:30:02.559Z"
   },
   {
    "duration": 32,
    "start_time": "2022-06-05T12:30:02.616Z"
   },
   {
    "duration": 83,
    "start_time": "2022-06-05T12:30:02.650Z"
   },
   {
    "duration": 100,
    "start_time": "2022-06-05T12:30:02.735Z"
   },
   {
    "duration": 31,
    "start_time": "2022-06-05T12:30:02.837Z"
   },
   {
    "duration": 24,
    "start_time": "2022-06-05T12:30:02.869Z"
   },
   {
    "duration": 97,
    "start_time": "2022-06-05T12:30:02.895Z"
   },
   {
    "duration": 24,
    "start_time": "2022-06-05T12:30:02.994Z"
   },
   {
    "duration": 197,
    "start_time": "2022-06-05T12:30:03.019Z"
   },
   {
    "duration": 71,
    "start_time": "2022-06-05T12:30:03.218Z"
   },
   {
    "duration": 79,
    "start_time": "2022-06-05T12:30:03.291Z"
   },
   {
    "duration": 14,
    "start_time": "2022-06-05T12:30:03.372Z"
   },
   {
    "duration": 70,
    "start_time": "2022-06-05T12:30:03.388Z"
   },
   {
    "duration": 26,
    "start_time": "2022-06-05T12:30:03.460Z"
   },
   {
    "duration": 9,
    "start_time": "2022-06-05T12:30:03.488Z"
   },
   {
    "duration": 53,
    "start_time": "2022-06-05T12:30:03.499Z"
   },
   {
    "duration": 8,
    "start_time": "2022-06-05T12:30:03.555Z"
   },
   {
    "duration": 6,
    "start_time": "2022-06-05T12:30:03.564Z"
   },
   {
    "duration": 31,
    "start_time": "2022-06-05T12:30:03.572Z"
   },
   {
    "duration": 5,
    "start_time": "2022-06-05T12:30:03.605Z"
   },
   {
    "duration": 41,
    "start_time": "2022-06-05T12:30:03.612Z"
   },
   {
    "duration": 8,
    "start_time": "2022-06-05T12:30:03.655Z"
   },
   {
    "duration": 21,
    "start_time": "2022-06-05T12:30:03.665Z"
   },
   {
    "duration": 27,
    "start_time": "2022-06-05T12:30:03.687Z"
   },
   {
    "duration": 40,
    "start_time": "2022-06-05T12:30:03.715Z"
   },
   {
    "duration": 6,
    "start_time": "2022-06-05T12:30:03.756Z"
   },
   {
    "duration": 16,
    "start_time": "2022-06-05T12:30:03.763Z"
   },
   {
    "duration": 8,
    "start_time": "2022-06-05T12:30:03.780Z"
   },
   {
    "duration": 17,
    "start_time": "2022-06-05T12:30:03.790Z"
   },
   {
    "duration": 55,
    "start_time": "2022-06-05T12:30:03.809Z"
   },
   {
    "duration": 4,
    "start_time": "2022-06-05T12:30:03.866Z"
   },
   {
    "duration": 17,
    "start_time": "2022-06-05T12:30:03.872Z"
   },
   {
    "duration": 2,
    "start_time": "2022-06-05T12:30:03.891Z"
   },
   {
    "duration": 8,
    "start_time": "2022-06-05T12:30:03.894Z"
   },
   {
    "duration": 13,
    "start_time": "2022-06-05T12:30:03.903Z"
   },
   {
    "duration": 6347,
    "start_time": "2022-06-05T12:30:03.917Z"
   },
   {
    "duration": 16,
    "start_time": "2022-06-05T12:30:10.266Z"
   },
   {
    "duration": 21,
    "start_time": "2022-06-05T12:30:10.284Z"
   },
   {
    "duration": 76,
    "start_time": "2022-06-05T12:30:10.307Z"
   },
   {
    "duration": 69,
    "start_time": "2022-06-05T12:30:10.385Z"
   },
   {
    "duration": 2,
    "start_time": "2022-06-05T12:35:58.409Z"
   },
   {
    "duration": 64,
    "start_time": "2022-06-05T12:35:58.413Z"
   },
   {
    "duration": 188,
    "start_time": "2022-06-05T12:35:58.479Z"
   },
   {
    "duration": 121,
    "start_time": "2022-06-05T12:35:58.669Z"
   },
   {
    "duration": 161,
    "start_time": "2022-06-05T12:35:58.791Z"
   },
   {
    "duration": 28,
    "start_time": "2022-06-05T12:35:58.953Z"
   },
   {
    "duration": 12,
    "start_time": "2022-06-05T12:35:58.983Z"
   },
   {
    "duration": 24,
    "start_time": "2022-06-05T12:35:58.997Z"
   },
   {
    "duration": 30,
    "start_time": "2022-06-05T12:35:59.024Z"
   },
   {
    "duration": 17,
    "start_time": "2022-06-05T12:35:59.056Z"
   },
   {
    "duration": 30,
    "start_time": "2022-06-05T12:35:59.075Z"
   },
   {
    "duration": 13,
    "start_time": "2022-06-05T12:35:59.107Z"
   },
   {
    "duration": 36,
    "start_time": "2022-06-05T12:35:59.122Z"
   },
   {
    "duration": 10,
    "start_time": "2022-06-05T12:35:59.160Z"
   },
   {
    "duration": 107,
    "start_time": "2022-06-05T12:35:59.172Z"
   },
   {
    "duration": 112,
    "start_time": "2022-06-05T12:35:59.281Z"
   },
   {
    "duration": 22,
    "start_time": "2022-06-05T12:35:59.395Z"
   },
   {
    "duration": 41,
    "start_time": "2022-06-05T12:35:59.419Z"
   },
   {
    "duration": 92,
    "start_time": "2022-06-05T12:35:59.462Z"
   },
   {
    "duration": 24,
    "start_time": "2022-06-05T12:35:59.556Z"
   },
   {
    "duration": 183,
    "start_time": "2022-06-05T12:35:59.582Z"
   },
   {
    "duration": 62,
    "start_time": "2022-06-05T12:35:59.767Z"
   },
   {
    "duration": 95,
    "start_time": "2022-06-05T12:35:59.831Z"
   },
   {
    "duration": 34,
    "start_time": "2022-06-05T12:35:59.929Z"
   },
   {
    "duration": 87,
    "start_time": "2022-06-05T12:35:59.966Z"
   },
   {
    "duration": 44,
    "start_time": "2022-06-05T12:36:00.056Z"
   },
   {
    "duration": 12,
    "start_time": "2022-06-05T12:36:00.102Z"
   },
   {
    "duration": 71,
    "start_time": "2022-06-05T12:36:00.116Z"
   },
   {
    "duration": 41,
    "start_time": "2022-06-05T12:36:00.190Z"
   },
   {
    "duration": 29,
    "start_time": "2022-06-05T12:36:00.233Z"
   },
   {
    "duration": 66,
    "start_time": "2022-06-05T12:36:00.264Z"
   },
   {
    "duration": 8,
    "start_time": "2022-06-05T12:36:00.332Z"
   },
   {
    "duration": 30,
    "start_time": "2022-06-05T12:36:00.341Z"
   },
   {
    "duration": 20,
    "start_time": "2022-06-05T12:36:00.373Z"
   },
   {
    "duration": 28,
    "start_time": "2022-06-05T12:36:00.395Z"
   },
   {
    "duration": 52,
    "start_time": "2022-06-05T12:36:00.426Z"
   },
   {
    "duration": 51,
    "start_time": "2022-06-05T12:36:00.480Z"
   },
   {
    "duration": 6,
    "start_time": "2022-06-05T12:36:00.533Z"
   },
   {
    "duration": 55,
    "start_time": "2022-06-05T12:36:00.542Z"
   },
   {
    "duration": 24,
    "start_time": "2022-06-05T12:36:00.599Z"
   },
   {
    "duration": 38,
    "start_time": "2022-06-05T12:36:00.626Z"
   },
   {
    "duration": 62,
    "start_time": "2022-06-05T12:36:00.667Z"
   },
   {
    "duration": 9,
    "start_time": "2022-06-05T12:36:00.731Z"
   },
   {
    "duration": 43,
    "start_time": "2022-06-05T12:36:00.742Z"
   },
   {
    "duration": 13,
    "start_time": "2022-06-05T12:36:00.787Z"
   },
   {
    "duration": 25,
    "start_time": "2022-06-05T12:36:00.802Z"
   },
   {
    "duration": 49,
    "start_time": "2022-06-05T12:36:00.830Z"
   },
   {
    "duration": 5991,
    "start_time": "2022-06-05T12:36:00.882Z"
   },
   {
    "duration": 12,
    "start_time": "2022-06-05T12:36:06.875Z"
   },
   {
    "duration": 24,
    "start_time": "2022-06-05T12:36:06.889Z"
   },
   {
    "duration": 67,
    "start_time": "2022-06-05T12:36:06.915Z"
   },
   {
    "duration": 69,
    "start_time": "2022-06-05T12:36:06.983Z"
   },
   {
    "duration": 6226,
    "start_time": "2022-06-05T12:38:07.620Z"
   },
   {
    "duration": 4,
    "start_time": "2022-06-05T12:38:35.012Z"
   },
   {
    "duration": 63,
    "start_time": "2022-06-05T12:38:35.018Z"
   },
   {
    "duration": 250,
    "start_time": "2022-06-05T12:38:35.083Z"
   },
   {
    "duration": 157,
    "start_time": "2022-06-05T12:38:35.352Z"
   },
   {
    "duration": 206,
    "start_time": "2022-06-05T12:38:35.511Z"
   },
   {
    "duration": 34,
    "start_time": "2022-06-05T12:38:35.719Z"
   },
   {
    "duration": 14,
    "start_time": "2022-06-05T12:38:35.756Z"
   },
   {
    "duration": 13,
    "start_time": "2022-06-05T12:38:35.772Z"
   },
   {
    "duration": 21,
    "start_time": "2022-06-05T12:38:35.788Z"
   },
   {
    "duration": 12,
    "start_time": "2022-06-05T12:38:35.811Z"
   },
   {
    "duration": 62,
    "start_time": "2022-06-05T12:38:35.825Z"
   },
   {
    "duration": 13,
    "start_time": "2022-06-05T12:38:35.889Z"
   },
   {
    "duration": 12,
    "start_time": "2022-06-05T12:38:35.904Z"
   },
   {
    "duration": 40,
    "start_time": "2022-06-05T12:38:35.918Z"
   },
   {
    "duration": 96,
    "start_time": "2022-06-05T12:38:35.960Z"
   },
   {
    "duration": 133,
    "start_time": "2022-06-05T12:38:36.059Z"
   },
   {
    "duration": 35,
    "start_time": "2022-06-05T12:38:36.195Z"
   },
   {
    "duration": 42,
    "start_time": "2022-06-05T12:38:36.233Z"
   },
   {
    "duration": 130,
    "start_time": "2022-06-05T12:38:36.277Z"
   },
   {
    "duration": 56,
    "start_time": "2022-06-05T12:38:36.409Z"
   },
   {
    "duration": 245,
    "start_time": "2022-06-05T12:38:36.467Z"
   },
   {
    "duration": 97,
    "start_time": "2022-06-05T12:38:36.716Z"
   },
   {
    "duration": 108,
    "start_time": "2022-06-05T12:38:36.815Z"
   },
   {
    "duration": 34,
    "start_time": "2022-06-05T12:38:36.927Z"
   },
   {
    "duration": 96,
    "start_time": "2022-06-05T12:38:36.963Z"
   },
   {
    "duration": 41,
    "start_time": "2022-06-05T12:38:37.063Z"
   },
   {
    "duration": 16,
    "start_time": "2022-06-05T12:38:37.107Z"
   },
   {
    "duration": 66,
    "start_time": "2022-06-05T12:38:37.125Z"
   },
   {
    "duration": 17,
    "start_time": "2022-06-05T12:38:37.193Z"
   },
   {
    "duration": 15,
    "start_time": "2022-06-05T12:38:37.212Z"
   },
   {
    "duration": 55,
    "start_time": "2022-06-05T12:38:37.229Z"
   },
   {
    "duration": 7,
    "start_time": "2022-06-05T12:38:37.286Z"
   },
   {
    "duration": 22,
    "start_time": "2022-06-05T12:38:37.295Z"
   },
   {
    "duration": 45,
    "start_time": "2022-06-05T12:38:37.322Z"
   },
   {
    "duration": 28,
    "start_time": "2022-06-05T12:38:37.369Z"
   },
   {
    "duration": 45,
    "start_time": "2022-06-05T12:38:37.399Z"
   },
   {
    "duration": 37,
    "start_time": "2022-06-05T12:38:37.445Z"
   },
   {
    "duration": 11,
    "start_time": "2022-06-05T12:38:37.484Z"
   },
   {
    "duration": 28,
    "start_time": "2022-06-05T12:38:37.497Z"
   },
   {
    "duration": 28,
    "start_time": "2022-06-05T12:38:37.527Z"
   },
   {
    "duration": 32,
    "start_time": "2022-06-05T12:38:37.558Z"
   },
   {
    "duration": 45,
    "start_time": "2022-06-05T12:38:37.595Z"
   },
   {
    "duration": 17,
    "start_time": "2022-06-05T12:38:37.642Z"
   },
   {
    "duration": 48,
    "start_time": "2022-06-05T12:38:37.662Z"
   },
   {
    "duration": 10,
    "start_time": "2022-06-05T12:38:37.712Z"
   },
   {
    "duration": 19,
    "start_time": "2022-06-05T12:38:37.726Z"
   },
   {
    "duration": 26,
    "start_time": "2022-06-05T12:38:37.747Z"
   },
   {
    "duration": 7767,
    "start_time": "2022-06-05T12:38:37.775Z"
   },
   {
    "duration": 23,
    "start_time": "2022-06-05T12:38:45.543Z"
   },
   {
    "duration": 39,
    "start_time": "2022-06-05T12:38:45.568Z"
   },
   {
    "duration": 90,
    "start_time": "2022-06-05T12:38:45.611Z"
   },
   {
    "duration": 78,
    "start_time": "2022-06-05T12:38:45.704Z"
   },
   {
    "duration": 65,
    "start_time": "2022-06-05T12:39:52.855Z"
   },
   {
    "duration": 6595,
    "start_time": "2022-06-05T12:41:07.337Z"
   },
   {
    "duration": 3,
    "start_time": "2022-06-05T12:41:20.789Z"
   },
   {
    "duration": 65,
    "start_time": "2022-06-05T12:41:20.795Z"
   },
   {
    "duration": 161,
    "start_time": "2022-06-05T12:41:20.863Z"
   },
   {
    "duration": 102,
    "start_time": "2022-06-05T12:41:21.026Z"
   },
   {
    "duration": 160,
    "start_time": "2022-06-05T12:41:21.131Z"
   },
   {
    "duration": 28,
    "start_time": "2022-06-05T12:41:21.293Z"
   },
   {
    "duration": 31,
    "start_time": "2022-06-05T12:41:21.323Z"
   },
   {
    "duration": 10,
    "start_time": "2022-06-05T12:41:21.356Z"
   },
   {
    "duration": 8,
    "start_time": "2022-06-05T12:41:21.368Z"
   },
   {
    "duration": 9,
    "start_time": "2022-06-05T12:41:21.378Z"
   },
   {
    "duration": 21,
    "start_time": "2022-06-05T12:41:21.389Z"
   },
   {
    "duration": 46,
    "start_time": "2022-06-05T12:41:21.411Z"
   },
   {
    "duration": 14,
    "start_time": "2022-06-05T12:41:21.459Z"
   },
   {
    "duration": 8,
    "start_time": "2022-06-05T12:41:21.478Z"
   },
   {
    "duration": 116,
    "start_time": "2022-06-05T12:41:21.488Z"
   },
   {
    "duration": 87,
    "start_time": "2022-06-05T12:41:21.606Z"
   },
   {
    "duration": 21,
    "start_time": "2022-06-05T12:41:21.694Z"
   },
   {
    "duration": 48,
    "start_time": "2022-06-05T12:41:21.717Z"
   },
   {
    "duration": 89,
    "start_time": "2022-06-05T12:41:21.766Z"
   },
   {
    "duration": 27,
    "start_time": "2022-06-05T12:41:21.856Z"
   },
   {
    "duration": 191,
    "start_time": "2022-06-05T12:41:21.885Z"
   },
   {
    "duration": 82,
    "start_time": "2022-06-05T12:41:22.078Z"
   },
   {
    "duration": 99,
    "start_time": "2022-06-05T12:41:22.162Z"
   },
   {
    "duration": 16,
    "start_time": "2022-06-05T12:41:22.263Z"
   },
   {
    "duration": 96,
    "start_time": "2022-06-05T12:41:22.281Z"
   },
   {
    "duration": 41,
    "start_time": "2022-06-05T12:41:22.379Z"
   },
   {
    "duration": 41,
    "start_time": "2022-06-05T12:41:22.422Z"
   },
   {
    "duration": 33,
    "start_time": "2022-06-05T12:41:22.465Z"
   },
   {
    "duration": 7,
    "start_time": "2022-06-05T12:41:22.500Z"
   },
   {
    "duration": 12,
    "start_time": "2022-06-05T12:41:22.508Z"
   },
   {
    "duration": 56,
    "start_time": "2022-06-05T12:41:22.521Z"
   },
   {
    "duration": 7,
    "start_time": "2022-06-05T12:41:22.579Z"
   },
   {
    "duration": 49,
    "start_time": "2022-06-05T12:41:22.588Z"
   },
   {
    "duration": 13,
    "start_time": "2022-06-05T12:41:22.652Z"
   },
   {
    "duration": 20,
    "start_time": "2022-06-05T12:41:22.669Z"
   },
   {
    "duration": 30,
    "start_time": "2022-06-05T12:41:22.691Z"
   },
   {
    "duration": 39,
    "start_time": "2022-06-05T12:41:22.723Z"
   },
   {
    "duration": 5,
    "start_time": "2022-06-05T12:41:22.764Z"
   },
   {
    "duration": 22,
    "start_time": "2022-06-05T12:41:22.771Z"
   },
   {
    "duration": 7,
    "start_time": "2022-06-05T12:41:22.796Z"
   },
   {
    "duration": 53,
    "start_time": "2022-06-05T12:41:22.809Z"
   },
   {
    "duration": 38,
    "start_time": "2022-06-05T12:41:22.864Z"
   },
   {
    "duration": 6,
    "start_time": "2022-06-05T12:41:22.904Z"
   },
   {
    "duration": 45,
    "start_time": "2022-06-05T12:41:22.912Z"
   },
   {
    "duration": 3,
    "start_time": "2022-06-05T12:41:22.959Z"
   },
   {
    "duration": 13,
    "start_time": "2022-06-05T12:41:22.964Z"
   },
   {
    "duration": 16,
    "start_time": "2022-06-05T12:41:22.979Z"
   },
   {
    "duration": 6550,
    "start_time": "2022-06-05T12:41:22.997Z"
   },
   {
    "duration": 13,
    "start_time": "2022-06-05T12:41:29.551Z"
   },
   {
    "duration": 18,
    "start_time": "2022-06-05T12:41:29.566Z"
   },
   {
    "duration": 68,
    "start_time": "2022-06-05T12:41:29.586Z"
   },
   {
    "duration": 47,
    "start_time": "2022-06-05T12:41:29.656Z"
   },
   {
    "duration": 439,
    "start_time": "2022-06-05T16:18:20.100Z"
   },
   {
    "duration": 102,
    "start_time": "2022-06-05T16:18:20.541Z"
   },
   {
    "duration": 276,
    "start_time": "2022-06-05T16:18:20.644Z"
   },
   {
    "duration": 313,
    "start_time": "2022-06-05T16:18:20.922Z"
   },
   {
    "duration": 346,
    "start_time": "2022-06-05T16:18:21.238Z"
   },
   {
    "duration": 88,
    "start_time": "2022-06-05T16:18:21.586Z"
   },
   {
    "duration": 12,
    "start_time": "2022-06-05T16:18:21.676Z"
   },
   {
    "duration": 7,
    "start_time": "2022-06-05T16:18:21.690Z"
   },
   {
    "duration": 10,
    "start_time": "2022-06-05T16:18:21.699Z"
   },
   {
    "duration": 10,
    "start_time": "2022-06-05T16:18:21.710Z"
   },
   {
    "duration": 50,
    "start_time": "2022-06-05T16:18:21.721Z"
   },
   {
    "duration": 10,
    "start_time": "2022-06-05T16:18:21.773Z"
   },
   {
    "duration": 14,
    "start_time": "2022-06-05T16:18:21.784Z"
   },
   {
    "duration": 5,
    "start_time": "2022-06-05T16:18:21.801Z"
   },
   {
    "duration": 103,
    "start_time": "2022-06-05T16:18:21.807Z"
   },
   {
    "duration": 122,
    "start_time": "2022-06-05T16:18:21.912Z"
   },
   {
    "duration": 34,
    "start_time": "2022-06-05T16:18:22.035Z"
   },
   {
    "duration": 21,
    "start_time": "2022-06-05T16:18:22.071Z"
   },
   {
    "duration": 105,
    "start_time": "2022-06-05T16:18:22.093Z"
   },
   {
    "duration": 25,
    "start_time": "2022-06-05T16:18:22.199Z"
   },
   {
    "duration": 174,
    "start_time": "2022-06-05T16:18:22.226Z"
   },
   {
    "duration": 80,
    "start_time": "2022-06-05T16:18:22.402Z"
   },
   {
    "duration": 74,
    "start_time": "2022-06-05T16:18:22.484Z"
   },
   {
    "duration": 20,
    "start_time": "2022-06-05T16:18:22.564Z"
   },
   {
    "duration": 75,
    "start_time": "2022-06-05T16:18:22.585Z"
   },
   {
    "duration": 34,
    "start_time": "2022-06-05T16:18:22.662Z"
   },
   {
    "duration": 9,
    "start_time": "2022-06-05T16:18:22.699Z"
   },
   {
    "duration": 53,
    "start_time": "2022-06-05T16:18:22.710Z"
   },
   {
    "duration": 10,
    "start_time": "2022-06-05T16:18:22.765Z"
   },
   {
    "duration": 15,
    "start_time": "2022-06-05T16:18:22.777Z"
   },
   {
    "duration": 30,
    "start_time": "2022-06-05T16:18:22.794Z"
   },
   {
    "duration": 6,
    "start_time": "2022-06-05T16:18:22.826Z"
   },
   {
    "duration": 43,
    "start_time": "2022-06-05T16:18:22.833Z"
   },
   {
    "duration": 9,
    "start_time": "2022-06-05T16:18:22.878Z"
   },
   {
    "duration": 13,
    "start_time": "2022-06-05T16:18:22.889Z"
   },
   {
    "duration": 29,
    "start_time": "2022-06-05T16:18:22.903Z"
   },
   {
    "duration": 50,
    "start_time": "2022-06-05T16:18:22.933Z"
   },
   {
    "duration": 5,
    "start_time": "2022-06-05T16:18:22.985Z"
   },
   {
    "duration": 16,
    "start_time": "2022-06-05T16:18:22.992Z"
   },
   {
    "duration": 6,
    "start_time": "2022-06-05T16:18:23.010Z"
   },
   {
    "duration": 46,
    "start_time": "2022-06-05T16:18:23.021Z"
   },
   {
    "duration": 38,
    "start_time": "2022-06-05T16:18:23.070Z"
   },
   {
    "duration": 4,
    "start_time": "2022-06-05T16:18:23.110Z"
   },
   {
    "duration": 17,
    "start_time": "2022-06-05T16:18:23.116Z"
   },
   {
    "duration": 3,
    "start_time": "2022-06-05T16:18:23.134Z"
   },
   {
    "duration": 9,
    "start_time": "2022-06-05T16:18:23.138Z"
   },
   {
    "duration": 13,
    "start_time": "2022-06-05T16:18:23.158Z"
   },
   {
    "duration": 6653,
    "start_time": "2022-06-05T16:18:23.172Z"
   },
   {
    "duration": 12,
    "start_time": "2022-06-05T16:18:29.827Z"
   },
   {
    "duration": 27,
    "start_time": "2022-06-05T16:18:29.840Z"
   },
   {
    "duration": 55,
    "start_time": "2022-06-05T16:18:29.869Z"
   },
   {
    "duration": 58,
    "start_time": "2022-06-05T16:18:29.926Z"
   },
   {
    "duration": 1506,
    "start_time": "2022-06-05T16:28:17.021Z"
   },
   {
    "duration": 115,
    "start_time": "2022-06-05T16:43:15.116Z"
   },
   {
    "duration": 44,
    "start_time": "2022-06-05T16:44:11.476Z"
   },
   {
    "duration": 33,
    "start_time": "2022-06-06T05:16:50.063Z"
   },
   {
    "duration": 465,
    "start_time": "2022-06-06T05:17:00.368Z"
   },
   {
    "duration": 97,
    "start_time": "2022-06-06T05:17:00.836Z"
   },
   {
    "duration": 256,
    "start_time": "2022-06-06T05:17:00.935Z"
   },
   {
    "duration": 291,
    "start_time": "2022-06-06T05:17:01.193Z"
   },
   {
    "duration": 346,
    "start_time": "2022-06-06T05:17:01.487Z"
   },
   {
    "duration": 69,
    "start_time": "2022-06-06T05:17:01.835Z"
   },
   {
    "duration": 14,
    "start_time": "2022-06-06T05:17:01.906Z"
   },
   {
    "duration": 37,
    "start_time": "2022-06-06T05:17:01.921Z"
   },
   {
    "duration": 20,
    "start_time": "2022-06-06T05:17:01.959Z"
   },
   {
    "duration": 22,
    "start_time": "2022-06-06T05:17:01.981Z"
   },
   {
    "duration": 44,
    "start_time": "2022-06-06T05:17:02.005Z"
   },
   {
    "duration": 11,
    "start_time": "2022-06-06T05:17:02.051Z"
   },
   {
    "duration": 34,
    "start_time": "2022-06-06T05:17:02.064Z"
   },
   {
    "duration": 17,
    "start_time": "2022-06-06T05:17:02.102Z"
   },
   {
    "duration": 98,
    "start_time": "2022-06-06T05:17:02.122Z"
   },
   {
    "duration": 133,
    "start_time": "2022-06-06T05:17:02.222Z"
   },
   {
    "duration": 25,
    "start_time": "2022-06-06T05:17:02.359Z"
   },
   {
    "duration": 29,
    "start_time": "2022-06-06T05:17:02.385Z"
   },
   {
    "duration": 105,
    "start_time": "2022-06-06T05:17:02.416Z"
   },
   {
    "duration": 41,
    "start_time": "2022-06-06T05:17:02.523Z"
   },
   {
    "duration": 151,
    "start_time": "2022-06-06T05:17:02.566Z"
   },
   {
    "duration": 69,
    "start_time": "2022-06-06T05:17:02.718Z"
   },
   {
    "duration": 90,
    "start_time": "2022-06-06T05:17:02.789Z"
   },
   {
    "duration": 14,
    "start_time": "2022-06-06T05:17:02.880Z"
   },
   {
    "duration": 85,
    "start_time": "2022-06-06T05:17:02.896Z"
   },
   {
    "duration": 31,
    "start_time": "2022-06-06T05:17:02.983Z"
   },
   {
    "duration": 14,
    "start_time": "2022-06-06T05:17:03.016Z"
   },
   {
    "duration": 65,
    "start_time": "2022-06-06T05:17:03.031Z"
   },
   {
    "duration": 8,
    "start_time": "2022-06-06T05:17:03.098Z"
   },
   {
    "duration": 17,
    "start_time": "2022-06-06T05:17:03.108Z"
   },
   {
    "duration": 37,
    "start_time": "2022-06-06T05:17:03.126Z"
   },
   {
    "duration": 7,
    "start_time": "2022-06-06T05:17:03.165Z"
   },
   {
    "duration": 29,
    "start_time": "2022-06-06T05:17:03.174Z"
   },
   {
    "duration": 24,
    "start_time": "2022-06-06T05:17:03.206Z"
   },
   {
    "duration": 26,
    "start_time": "2022-06-06T05:17:03.232Z"
   },
   {
    "duration": 39,
    "start_time": "2022-06-06T05:17:03.260Z"
   },
   {
    "duration": 16,
    "start_time": "2022-06-06T05:17:03.301Z"
   },
   {
    "duration": 12,
    "start_time": "2022-06-06T05:17:03.318Z"
   },
   {
    "duration": 22,
    "start_time": "2022-06-06T05:17:03.332Z"
   },
   {
    "duration": 15,
    "start_time": "2022-06-06T05:17:03.356Z"
   },
   {
    "duration": 19,
    "start_time": "2022-06-06T05:17:03.375Z"
   },
   {
    "duration": 39,
    "start_time": "2022-06-06T05:17:03.396Z"
   },
   {
    "duration": 4,
    "start_time": "2022-06-06T05:17:03.437Z"
   },
   {
    "duration": 32,
    "start_time": "2022-06-06T05:17:03.443Z"
   },
   {
    "duration": 21,
    "start_time": "2022-06-06T05:17:03.477Z"
   },
   {
    "duration": 25,
    "start_time": "2022-06-06T05:17:03.500Z"
   },
   {
    "duration": 33,
    "start_time": "2022-06-06T05:17:03.526Z"
   },
   {
    "duration": 6334,
    "start_time": "2022-06-06T05:17:03.561Z"
   },
   {
    "duration": 13,
    "start_time": "2022-06-06T05:17:09.896Z"
   },
   {
    "duration": 16,
    "start_time": "2022-06-06T05:17:09.910Z"
   },
   {
    "duration": 68,
    "start_time": "2022-06-06T05:17:09.927Z"
   },
   {
    "duration": 64,
    "start_time": "2022-06-06T05:17:09.997Z"
   },
   {
    "duration": 29,
    "start_time": "2022-06-06T05:19:31.342Z"
   },
   {
    "duration": 22,
    "start_time": "2022-06-06T05:19:56.287Z"
   },
   {
    "duration": 23,
    "start_time": "2022-06-06T05:20:04.142Z"
   },
   {
    "duration": 22,
    "start_time": "2022-06-06T05:21:44.229Z"
   },
   {
    "duration": 23,
    "start_time": "2022-06-06T05:22:10.367Z"
   },
   {
    "duration": 23,
    "start_time": "2022-06-06T05:23:01.782Z"
   },
   {
    "duration": 26,
    "start_time": "2022-06-06T05:24:06.262Z"
   },
   {
    "duration": 20,
    "start_time": "2022-06-06T05:24:20.082Z"
   },
   {
    "duration": 894,
    "start_time": "2022-06-06T05:25:55.372Z"
   },
   {
    "duration": 26,
    "start_time": "2022-06-06T05:26:24.912Z"
   },
   {
    "duration": 202,
    "start_time": "2022-06-06T05:27:00.157Z"
   },
   {
    "duration": 24,
    "start_time": "2022-06-06T05:27:23.047Z"
   },
   {
    "duration": 101,
    "start_time": "2022-06-06T05:27:30.657Z"
   },
   {
    "duration": 16,
    "start_time": "2022-06-06T05:27:41.817Z"
   },
   {
    "duration": 250,
    "start_time": "2022-06-06T05:27:54.837Z"
   },
   {
    "duration": 166,
    "start_time": "2022-06-06T05:44:35.728Z"
   },
   {
    "duration": 134,
    "start_time": "2022-06-06T05:45:49.488Z"
   },
   {
    "duration": 212,
    "start_time": "2022-06-06T05:45:57.778Z"
   },
   {
    "duration": 134,
    "start_time": "2022-06-06T05:46:08.058Z"
   },
   {
    "duration": 130,
    "start_time": "2022-06-06T05:46:15.278Z"
   },
   {
    "duration": 199,
    "start_time": "2022-06-06T05:46:25.077Z"
   },
   {
    "duration": 141,
    "start_time": "2022-06-06T05:46:38.948Z"
   },
   {
    "duration": 145,
    "start_time": "2022-06-06T05:46:49.095Z"
   },
   {
    "duration": 149,
    "start_time": "2022-06-06T05:47:00.919Z"
   },
   {
    "duration": 169,
    "start_time": "2022-06-06T05:52:36.245Z"
   },
   {
    "duration": 144,
    "start_time": "2022-06-06T05:52:58.234Z"
   },
   {
    "duration": 301,
    "start_time": "2022-06-06T05:53:07.729Z"
   },
   {
    "duration": 228,
    "start_time": "2022-06-06T05:53:31.085Z"
   },
   {
    "duration": 124,
    "start_time": "2022-06-06T05:56:06.828Z"
   },
   {
    "duration": 150,
    "start_time": "2022-06-06T05:56:53.940Z"
   },
   {
    "duration": 140,
    "start_time": "2022-06-06T06:00:03.456Z"
   },
   {
    "duration": 139,
    "start_time": "2022-06-06T06:00:42.664Z"
   },
   {
    "duration": 141,
    "start_time": "2022-06-06T06:00:48.489Z"
   },
   {
    "duration": 157,
    "start_time": "2022-06-06T06:02:04.275Z"
   },
   {
    "duration": 139,
    "start_time": "2022-06-06T06:10:05.395Z"
   },
   {
    "duration": 209,
    "start_time": "2022-06-06T06:10:27.176Z"
   },
   {
    "duration": 143,
    "start_time": "2022-06-06T06:10:41.640Z"
   },
   {
    "duration": 152,
    "start_time": "2022-06-06T06:11:23.724Z"
   },
   {
    "duration": 231,
    "start_time": "2022-06-06T06:13:00.081Z"
   },
   {
    "duration": 170,
    "start_time": "2022-06-06T06:13:18.811Z"
   },
   {
    "duration": 167,
    "start_time": "2022-06-06T06:13:53.001Z"
   },
   {
    "duration": 164,
    "start_time": "2022-06-06T06:14:31.331Z"
   },
   {
    "duration": 157,
    "start_time": "2022-06-06T06:14:42.495Z"
   },
   {
    "duration": 176,
    "start_time": "2022-06-06T06:14:50.135Z"
   },
   {
    "duration": 181,
    "start_time": "2022-06-06T06:15:01.211Z"
   },
   {
    "duration": 183,
    "start_time": "2022-06-06T06:15:36.180Z"
   },
   {
    "duration": 534,
    "start_time": "2022-06-06T06:16:02.180Z"
   },
   {
    "duration": 562,
    "start_time": "2022-06-06T06:16:26.649Z"
   },
   {
    "duration": 605,
    "start_time": "2022-06-06T06:17:09.049Z"
   },
   {
    "duration": 304,
    "start_time": "2022-06-06T06:17:25.339Z"
   },
   {
    "duration": 528,
    "start_time": "2022-06-06T06:17:44.250Z"
   },
   {
    "duration": 470,
    "start_time": "2022-06-06T06:17:56.149Z"
   },
   {
    "duration": 189,
    "start_time": "2022-06-06T06:18:13.898Z"
   },
   {
    "duration": 419,
    "start_time": "2022-06-06T06:18:49.875Z"
   },
   {
    "duration": 183,
    "start_time": "2022-06-06T06:19:27.843Z"
   },
   {
    "duration": 320,
    "start_time": "2022-06-06T06:19:43.965Z"
   },
   {
    "duration": 362,
    "start_time": "2022-06-06T06:20:17.062Z"
   },
   {
    "duration": 189,
    "start_time": "2022-06-06T06:20:42.412Z"
   },
   {
    "duration": 498,
    "start_time": "2022-06-06T06:21:03.083Z"
   },
   {
    "duration": 3,
    "start_time": "2022-06-06T06:21:12.262Z"
   },
   {
    "duration": 52,
    "start_time": "2022-06-06T06:21:12.271Z"
   },
   {
    "duration": 199,
    "start_time": "2022-06-06T06:21:12.325Z"
   },
   {
    "duration": 150,
    "start_time": "2022-06-06T06:21:12.526Z"
   },
   {
    "duration": 184,
    "start_time": "2022-06-06T06:21:12.679Z"
   },
   {
    "duration": 32,
    "start_time": "2022-06-06T06:21:12.866Z"
   },
   {
    "duration": 12,
    "start_time": "2022-06-06T06:21:12.900Z"
   },
   {
    "duration": 8,
    "start_time": "2022-06-06T06:21:12.914Z"
   },
   {
    "duration": 39,
    "start_time": "2022-06-06T06:21:12.924Z"
   },
   {
    "duration": 8,
    "start_time": "2022-06-06T06:21:12.966Z"
   },
   {
    "duration": 31,
    "start_time": "2022-06-06T06:21:12.977Z"
   },
   {
    "duration": 16,
    "start_time": "2022-06-06T06:21:13.010Z"
   },
   {
    "duration": 15,
    "start_time": "2022-06-06T06:21:13.059Z"
   },
   {
    "duration": 6,
    "start_time": "2022-06-06T06:21:13.077Z"
   },
   {
    "duration": 135,
    "start_time": "2022-06-06T06:21:13.085Z"
   },
   {
    "duration": 137,
    "start_time": "2022-06-06T06:21:13.222Z"
   },
   {
    "duration": 34,
    "start_time": "2022-06-06T06:21:13.361Z"
   },
   {
    "duration": 26,
    "start_time": "2022-06-06T06:21:13.397Z"
   },
   {
    "duration": 115,
    "start_time": "2022-06-06T06:21:13.425Z"
   },
   {
    "duration": 52,
    "start_time": "2022-06-06T06:21:13.541Z"
   },
   {
    "duration": 167,
    "start_time": "2022-06-06T06:21:13.595Z"
   },
   {
    "duration": 67,
    "start_time": "2022-06-06T06:21:13.764Z"
   },
   {
    "duration": 102,
    "start_time": "2022-06-06T06:21:13.832Z"
   },
   {
    "duration": 36,
    "start_time": "2022-06-06T06:21:13.937Z"
   },
   {
    "duration": 94,
    "start_time": "2022-06-06T06:21:13.975Z"
   },
   {
    "duration": 30,
    "start_time": "2022-06-06T06:21:14.071Z"
   },
   {
    "duration": 10,
    "start_time": "2022-06-06T06:21:14.102Z"
   },
   {
    "duration": 57,
    "start_time": "2022-06-06T06:21:14.114Z"
   },
   {
    "duration": 7,
    "start_time": "2022-06-06T06:21:14.175Z"
   },
   {
    "duration": 6,
    "start_time": "2022-06-06T06:21:14.183Z"
   },
   {
    "duration": 25,
    "start_time": "2022-06-06T06:21:14.191Z"
   },
   {
    "duration": 45,
    "start_time": "2022-06-06T06:21:14.218Z"
   },
   {
    "duration": 19,
    "start_time": "2022-06-06T06:21:14.265Z"
   },
   {
    "duration": 12,
    "start_time": "2022-06-06T06:21:14.286Z"
   },
   {
    "duration": 14,
    "start_time": "2022-06-06T06:21:14.300Z"
   },
   {
    "duration": 62,
    "start_time": "2022-06-06T06:21:14.316Z"
   },
   {
    "duration": 19,
    "start_time": "2022-06-06T06:21:14.379Z"
   },
   {
    "duration": 6,
    "start_time": "2022-06-06T06:21:14.400Z"
   },
   {
    "duration": 16,
    "start_time": "2022-06-06T06:21:14.407Z"
   },
   {
    "duration": 38,
    "start_time": "2022-06-06T06:21:14.424Z"
   },
   {
    "duration": 17,
    "start_time": "2022-06-06T06:21:14.464Z"
   },
   {
    "duration": 24,
    "start_time": "2022-06-06T06:21:14.483Z"
   },
   {
    "duration": 5,
    "start_time": "2022-06-06T06:21:14.509Z"
   },
   {
    "duration": 57,
    "start_time": "2022-06-06T06:21:14.516Z"
   },
   {
    "duration": 3,
    "start_time": "2022-06-06T06:21:14.575Z"
   },
   {
    "duration": 9,
    "start_time": "2022-06-06T06:21:14.579Z"
   },
   {
    "duration": 13,
    "start_time": "2022-06-06T06:21:14.589Z"
   },
   {
    "duration": 6909,
    "start_time": "2022-06-06T06:21:14.604Z"
   },
   {
    "duration": 15,
    "start_time": "2022-06-06T06:21:21.515Z"
   },
   {
    "duration": 37,
    "start_time": "2022-06-06T06:21:21.532Z"
   },
   {
    "duration": 52,
    "start_time": "2022-06-06T06:21:21.570Z"
   },
   {
    "duration": 69,
    "start_time": "2022-06-06T06:21:21.624Z"
   },
   {
    "duration": 30,
    "start_time": "2022-06-06T06:21:21.694Z"
   },
   {
    "duration": 708,
    "start_time": "2022-06-06T06:21:21.725Z"
   },
   {
    "duration": 38,
    "start_time": "2022-06-06T06:21:22.434Z"
   },
   {
    "duration": 484,
    "start_time": "2022-06-06T06:21:40.791Z"
   },
   {
    "duration": 251,
    "start_time": "2022-06-06T06:24:10.421Z"
   },
   {
    "duration": 3,
    "start_time": "2022-06-06T06:25:28.359Z"
   },
   {
    "duration": 258,
    "start_time": "2022-06-06T06:25:51.180Z"
   },
   {
    "duration": 194,
    "start_time": "2022-06-06T06:26:11.580Z"
   },
   {
    "duration": 162,
    "start_time": "2022-06-06T06:26:22.220Z"
   },
   {
    "duration": 164,
    "start_time": "2022-06-06T06:26:49.259Z"
   },
   {
    "duration": 129,
    "start_time": "2022-06-06T06:26:52.624Z"
   },
   {
    "duration": 184,
    "start_time": "2022-06-06T06:26:57.099Z"
   },
   {
    "duration": 152,
    "start_time": "2022-06-06T06:27:32.744Z"
   },
   {
    "duration": 147,
    "start_time": "2022-06-06T06:28:42.719Z"
   },
   {
    "duration": 155,
    "start_time": "2022-06-06T06:28:46.539Z"
   },
   {
    "duration": 120,
    "start_time": "2022-06-06T06:28:59.139Z"
   },
   {
    "duration": 146,
    "start_time": "2022-06-06T06:29:06.334Z"
   },
   {
    "duration": 3,
    "start_time": "2022-06-06T06:32:47.318Z"
   },
   {
    "duration": 26,
    "start_time": "2022-06-06T06:40:25.486Z"
   },
   {
    "duration": 21,
    "start_time": "2022-06-06T06:45:49.540Z"
   },
   {
    "duration": 25,
    "start_time": "2022-06-06T06:52:07.601Z"
   },
   {
    "duration": 3,
    "start_time": "2022-06-06T06:52:50.357Z"
   },
   {
    "duration": 57,
    "start_time": "2022-06-06T06:52:50.362Z"
   },
   {
    "duration": 181,
    "start_time": "2022-06-06T06:52:50.421Z"
   },
   {
    "duration": 110,
    "start_time": "2022-06-06T06:52:50.604Z"
   },
   {
    "duration": 163,
    "start_time": "2022-06-06T06:52:50.715Z"
   },
   {
    "duration": 28,
    "start_time": "2022-06-06T06:52:50.879Z"
   },
   {
    "duration": 9,
    "start_time": "2022-06-06T06:52:50.909Z"
   },
   {
    "duration": 21,
    "start_time": "2022-06-06T06:52:50.920Z"
   },
   {
    "duration": 18,
    "start_time": "2022-06-06T06:52:50.945Z"
   },
   {
    "duration": 20,
    "start_time": "2022-06-06T06:52:50.964Z"
   },
   {
    "duration": 37,
    "start_time": "2022-06-06T06:52:50.985Z"
   },
   {
    "duration": 10,
    "start_time": "2022-06-06T06:52:51.024Z"
   },
   {
    "duration": 30,
    "start_time": "2022-06-06T06:52:51.036Z"
   },
   {
    "duration": 6,
    "start_time": "2022-06-06T06:52:51.068Z"
   },
   {
    "duration": 94,
    "start_time": "2022-06-06T06:52:51.075Z"
   },
   {
    "duration": 125,
    "start_time": "2022-06-06T06:52:51.171Z"
   },
   {
    "duration": 26,
    "start_time": "2022-06-06T06:52:51.297Z"
   },
   {
    "duration": 45,
    "start_time": "2022-06-06T06:52:51.325Z"
   },
   {
    "duration": 86,
    "start_time": "2022-06-06T06:52:51.372Z"
   },
   {
    "duration": 26,
    "start_time": "2022-06-06T06:52:51.460Z"
   },
   {
    "duration": 159,
    "start_time": "2022-06-06T06:52:51.488Z"
   },
   {
    "duration": 67,
    "start_time": "2022-06-06T06:52:51.649Z"
   },
   {
    "duration": 88,
    "start_time": "2022-06-06T06:52:51.718Z"
   },
   {
    "duration": 14,
    "start_time": "2022-06-06T06:52:51.812Z"
   },
   {
    "duration": 79,
    "start_time": "2022-06-06T06:52:51.828Z"
   },
   {
    "duration": 30,
    "start_time": "2022-06-06T06:52:51.909Z"
   },
   {
    "duration": 25,
    "start_time": "2022-06-06T06:52:51.941Z"
   },
   {
    "duration": 32,
    "start_time": "2022-06-06T06:52:51.968Z"
   },
   {
    "duration": 7,
    "start_time": "2022-06-06T06:52:52.002Z"
   },
   {
    "duration": 27,
    "start_time": "2022-06-06T06:52:52.010Z"
   },
   {
    "duration": 39,
    "start_time": "2022-06-06T06:52:52.039Z"
   },
   {
    "duration": 12,
    "start_time": "2022-06-06T06:52:52.080Z"
   },
   {
    "duration": 27,
    "start_time": "2022-06-06T06:52:52.094Z"
   },
   {
    "duration": 21,
    "start_time": "2022-06-06T06:52:52.123Z"
   },
   {
    "duration": 22,
    "start_time": "2022-06-06T06:52:52.145Z"
   },
   {
    "duration": 30,
    "start_time": "2022-06-06T06:52:52.169Z"
   },
   {
    "duration": 23,
    "start_time": "2022-06-06T06:52:52.201Z"
   },
   {
    "duration": 11,
    "start_time": "2022-06-06T06:52:52.226Z"
   },
   {
    "duration": 24,
    "start_time": "2022-06-06T06:52:52.238Z"
   },
   {
    "duration": 19,
    "start_time": "2022-06-06T06:52:52.264Z"
   },
   {
    "duration": 17,
    "start_time": "2022-06-06T06:52:52.284Z"
   },
   {
    "duration": 32,
    "start_time": "2022-06-06T06:52:52.303Z"
   },
   {
    "duration": 5,
    "start_time": "2022-06-06T06:52:52.337Z"
   },
   {
    "duration": 33,
    "start_time": "2022-06-06T06:52:52.343Z"
   },
   {
    "duration": 6,
    "start_time": "2022-06-06T06:52:52.378Z"
   },
   {
    "duration": 26,
    "start_time": "2022-06-06T06:52:52.386Z"
   },
   {
    "duration": 34,
    "start_time": "2022-06-06T06:52:52.414Z"
   },
   {
    "duration": 6620,
    "start_time": "2022-06-06T06:52:52.449Z"
   },
   {
    "duration": 12,
    "start_time": "2022-06-06T06:52:59.070Z"
   },
   {
    "duration": 18,
    "start_time": "2022-06-06T06:52:59.084Z"
   },
   {
    "duration": 71,
    "start_time": "2022-06-06T06:52:59.103Z"
   },
   {
    "duration": 44,
    "start_time": "2022-06-06T06:52:59.176Z"
   },
   {
    "duration": 40,
    "start_time": "2022-06-06T06:52:59.222Z"
   },
   {
    "duration": 365,
    "start_time": "2022-06-06T06:52:59.264Z"
   },
   {
    "duration": 0,
    "start_time": "2022-06-06T06:52:59.632Z"
   },
   {
    "duration": 0,
    "start_time": "2022-06-06T06:52:59.633Z"
   },
   {
    "duration": 0,
    "start_time": "2022-06-06T06:52:59.635Z"
   },
   {
    "duration": 0,
    "start_time": "2022-06-06T06:52:59.637Z"
   },
   {
    "duration": 134,
    "start_time": "2022-06-06T06:53:43.882Z"
   },
   {
    "duration": 144,
    "start_time": "2022-06-06T06:54:25.523Z"
   },
   {
    "duration": 290,
    "start_time": "2022-06-06T06:54:28.822Z"
   },
   {
    "duration": 149,
    "start_time": "2022-06-06T06:54:30.462Z"
   },
   {
    "duration": 3,
    "start_time": "2022-06-06T06:54:46.102Z"
   },
   {
    "duration": 53,
    "start_time": "2022-06-06T06:54:46.111Z"
   },
   {
    "duration": 183,
    "start_time": "2022-06-06T06:54:46.165Z"
   },
   {
    "duration": 118,
    "start_time": "2022-06-06T06:54:46.359Z"
   },
   {
    "duration": 165,
    "start_time": "2022-06-06T06:54:46.479Z"
   },
   {
    "duration": 29,
    "start_time": "2022-06-06T06:54:46.645Z"
   },
   {
    "duration": 9,
    "start_time": "2022-06-06T06:54:46.676Z"
   },
   {
    "duration": 9,
    "start_time": "2022-06-06T06:54:46.687Z"
   },
   {
    "duration": 9,
    "start_time": "2022-06-06T06:54:46.697Z"
   },
   {
    "duration": 55,
    "start_time": "2022-06-06T06:54:46.709Z"
   },
   {
    "duration": 30,
    "start_time": "2022-06-06T06:54:46.766Z"
   },
   {
    "duration": 14,
    "start_time": "2022-06-06T06:54:46.798Z"
   },
   {
    "duration": 53,
    "start_time": "2022-06-06T06:54:46.814Z"
   },
   {
    "duration": 20,
    "start_time": "2022-06-06T06:54:46.869Z"
   },
   {
    "duration": 94,
    "start_time": "2022-06-06T06:54:46.891Z"
   },
   {
    "duration": 134,
    "start_time": "2022-06-06T06:54:46.987Z"
   },
   {
    "duration": 48,
    "start_time": "2022-06-06T06:54:47.124Z"
   },
   {
    "duration": 28,
    "start_time": "2022-06-06T06:54:47.174Z"
   },
   {
    "duration": 137,
    "start_time": "2022-06-06T06:54:47.204Z"
   },
   {
    "duration": 46,
    "start_time": "2022-06-06T06:54:47.344Z"
   },
   {
    "duration": 172,
    "start_time": "2022-06-06T06:54:47.392Z"
   },
   {
    "duration": 59,
    "start_time": "2022-06-06T06:54:47.566Z"
   },
   {
    "duration": 93,
    "start_time": "2022-06-06T06:54:47.627Z"
   },
   {
    "duration": 15,
    "start_time": "2022-06-06T06:54:47.721Z"
   },
   {
    "duration": 61,
    "start_time": "2022-06-06T06:54:47.758Z"
   },
   {
    "duration": 54,
    "start_time": "2022-06-06T06:54:47.821Z"
   },
   {
    "duration": 10,
    "start_time": "2022-06-06T06:54:47.877Z"
   },
   {
    "duration": 32,
    "start_time": "2022-06-06T06:54:47.889Z"
   },
   {
    "duration": 7,
    "start_time": "2022-06-06T06:54:47.922Z"
   },
   {
    "duration": 30,
    "start_time": "2022-06-06T06:54:47.931Z"
   },
   {
    "duration": 35,
    "start_time": "2022-06-06T06:54:47.962Z"
   },
   {
    "duration": 6,
    "start_time": "2022-06-06T06:54:47.998Z"
   },
   {
    "duration": 18,
    "start_time": "2022-06-06T06:54:48.006Z"
   },
   {
    "duration": 34,
    "start_time": "2022-06-06T06:54:48.026Z"
   },
   {
    "duration": 15,
    "start_time": "2022-06-06T06:54:48.062Z"
   },
   {
    "duration": 32,
    "start_time": "2022-06-06T06:54:48.079Z"
   },
   {
    "duration": 47,
    "start_time": "2022-06-06T06:54:48.112Z"
   },
   {
    "duration": 6,
    "start_time": "2022-06-06T06:54:48.161Z"
   },
   {
    "duration": 20,
    "start_time": "2022-06-06T06:54:48.168Z"
   },
   {
    "duration": 7,
    "start_time": "2022-06-06T06:54:48.189Z"
   },
   {
    "duration": 22,
    "start_time": "2022-06-06T06:54:48.197Z"
   },
   {
    "duration": 51,
    "start_time": "2022-06-06T06:54:48.221Z"
   },
   {
    "duration": 5,
    "start_time": "2022-06-06T06:54:48.273Z"
   },
   {
    "duration": 21,
    "start_time": "2022-06-06T06:54:48.280Z"
   },
   {
    "duration": 3,
    "start_time": "2022-06-06T06:54:48.302Z"
   },
   {
    "duration": 9,
    "start_time": "2022-06-06T06:54:48.307Z"
   },
   {
    "duration": 13,
    "start_time": "2022-06-06T06:54:48.318Z"
   },
   {
    "duration": 6609,
    "start_time": "2022-06-06T06:54:48.332Z"
   },
   {
    "duration": 25,
    "start_time": "2022-06-06T06:54:54.944Z"
   },
   {
    "duration": 18,
    "start_time": "2022-06-06T06:54:54.971Z"
   },
   {
    "duration": 67,
    "start_time": "2022-06-06T06:54:54.992Z"
   },
   {
    "duration": 47,
    "start_time": "2022-06-06T06:54:55.061Z"
   },
   {
    "duration": 51,
    "start_time": "2022-06-06T06:54:55.110Z"
   },
   {
    "duration": 157,
    "start_time": "2022-06-06T06:54:55.162Z"
   },
   {
    "duration": 138,
    "start_time": "2022-06-06T06:54:55.321Z"
   },
   {
    "duration": 163,
    "start_time": "2022-06-06T06:54:55.461Z"
   },
   {
    "duration": 149,
    "start_time": "2022-06-06T06:54:55.626Z"
   },
   {
    "duration": 25,
    "start_time": "2022-06-06T06:54:55.777Z"
   },
   {
    "duration": 3,
    "start_time": "2022-06-06T06:58:53.679Z"
   },
   {
    "duration": 3,
    "start_time": "2022-06-06T06:59:29.914Z"
   },
   {
    "duration": 476,
    "start_time": "2022-06-06T07:03:04.225Z"
   },
   {
    "duration": 143,
    "start_time": "2022-06-06T07:03:35.325Z"
   },
   {
    "duration": 141,
    "start_time": "2022-06-06T07:03:44.385Z"
   },
   {
    "duration": 135,
    "start_time": "2022-06-06T07:03:55.284Z"
   },
   {
    "duration": 148,
    "start_time": "2022-06-06T07:04:04.985Z"
   },
   {
    "duration": 2,
    "start_time": "2022-06-06T07:04:39.975Z"
   },
   {
    "duration": 27,
    "start_time": "2022-06-06T07:07:18.785Z"
   },
   {
    "duration": 71,
    "start_time": "2022-06-06T12:04:10.683Z"
   },
   {
    "duration": 10,
    "start_time": "2022-06-06T12:04:35.665Z"
   },
   {
    "duration": 920,
    "start_time": "2022-06-06T12:04:40.425Z"
   },
   {
    "duration": 147,
    "start_time": "2022-06-06T12:04:41.347Z"
   },
   {
    "duration": 555,
    "start_time": "2022-06-06T12:04:41.496Z"
   },
   {
    "duration": 173,
    "start_time": "2022-06-06T12:04:42.053Z"
   },
   {
    "duration": 765,
    "start_time": "2022-06-06T12:04:42.234Z"
   },
   {
    "duration": 80,
    "start_time": "2022-06-06T12:04:43.001Z"
   },
   {
    "duration": 10,
    "start_time": "2022-06-06T12:04:43.083Z"
   },
   {
    "duration": 7,
    "start_time": "2022-06-06T12:04:43.094Z"
   },
   {
    "duration": 7,
    "start_time": "2022-06-06T12:04:43.102Z"
   },
   {
    "duration": 8,
    "start_time": "2022-06-06T12:04:43.111Z"
   },
   {
    "duration": 39,
    "start_time": "2022-06-06T12:04:43.121Z"
   },
   {
    "duration": 10,
    "start_time": "2022-06-06T12:04:43.162Z"
   },
   {
    "duration": 12,
    "start_time": "2022-06-06T12:04:43.173Z"
   },
   {
    "duration": 5,
    "start_time": "2022-06-06T12:04:43.188Z"
   },
   {
    "duration": 118,
    "start_time": "2022-06-06T12:04:43.195Z"
   },
   {
    "duration": 152,
    "start_time": "2022-06-06T12:04:43.315Z"
   },
   {
    "duration": 24,
    "start_time": "2022-06-06T12:04:43.469Z"
   },
   {
    "duration": 52,
    "start_time": "2022-06-06T12:04:43.494Z"
   },
   {
    "duration": 100,
    "start_time": "2022-06-06T12:04:43.548Z"
   },
   {
    "duration": 28,
    "start_time": "2022-06-06T12:04:43.650Z"
   },
   {
    "duration": 183,
    "start_time": "2022-06-06T12:04:43.680Z"
   },
   {
    "duration": 75,
    "start_time": "2022-06-06T12:04:43.864Z"
   },
   {
    "duration": 106,
    "start_time": "2022-06-06T12:04:43.941Z"
   },
   {
    "duration": 18,
    "start_time": "2022-06-06T12:04:44.049Z"
   },
   {
    "duration": 70,
    "start_time": "2022-06-06T12:04:44.068Z"
   },
   {
    "duration": 30,
    "start_time": "2022-06-06T12:04:44.140Z"
   },
   {
    "duration": 8,
    "start_time": "2022-06-06T12:04:44.172Z"
   },
   {
    "duration": 51,
    "start_time": "2022-06-06T12:04:44.182Z"
   },
   {
    "duration": 9,
    "start_time": "2022-06-06T12:04:44.239Z"
   },
   {
    "duration": 17,
    "start_time": "2022-06-06T12:04:44.250Z"
   },
   {
    "duration": 48,
    "start_time": "2022-06-06T12:04:44.269Z"
   },
   {
    "duration": 5,
    "start_time": "2022-06-06T12:04:44.319Z"
   },
   {
    "duration": 31,
    "start_time": "2022-06-06T12:04:44.326Z"
   },
   {
    "duration": 18,
    "start_time": "2022-06-06T12:04:44.359Z"
   },
   {
    "duration": 16,
    "start_time": "2022-06-06T12:04:44.379Z"
   },
   {
    "duration": 47,
    "start_time": "2022-06-06T12:04:44.397Z"
   },
   {
    "duration": 20,
    "start_time": "2022-06-06T12:04:44.445Z"
   },
   {
    "duration": 5,
    "start_time": "2022-06-06T12:04:44.467Z"
   },
   {
    "duration": 29,
    "start_time": "2022-06-06T12:04:44.473Z"
   },
   {
    "duration": 6,
    "start_time": "2022-06-06T12:04:44.504Z"
   },
   {
    "duration": 16,
    "start_time": "2022-06-06T12:04:44.527Z"
   },
   {
    "duration": 38,
    "start_time": "2022-06-06T12:04:44.544Z"
   },
   {
    "duration": 6,
    "start_time": "2022-06-06T12:04:44.584Z"
   },
   {
    "duration": 27,
    "start_time": "2022-06-06T12:04:44.591Z"
   },
   {
    "duration": 7,
    "start_time": "2022-06-06T12:04:44.620Z"
   },
   {
    "duration": 17,
    "start_time": "2022-06-06T12:04:44.632Z"
   },
   {
    "duration": 29,
    "start_time": "2022-06-06T12:04:44.650Z"
   },
   {
    "duration": 7219,
    "start_time": "2022-06-06T12:04:44.681Z"
   },
   {
    "duration": 31,
    "start_time": "2022-06-06T12:04:51.902Z"
   },
   {
    "duration": 20,
    "start_time": "2022-06-06T12:04:51.938Z"
   },
   {
    "duration": 68,
    "start_time": "2022-06-06T12:04:51.960Z"
   },
   {
    "duration": 60,
    "start_time": "2022-06-06T12:04:52.032Z"
   },
   {
    "duration": 42,
    "start_time": "2022-06-06T12:04:52.094Z"
   },
   {
    "duration": 199,
    "start_time": "2022-06-06T12:04:52.141Z"
   },
   {
    "duration": 169,
    "start_time": "2022-06-06T12:04:52.341Z"
   },
   {
    "duration": 179,
    "start_time": "2022-06-06T12:04:52.512Z"
   },
   {
    "duration": 184,
    "start_time": "2022-06-06T12:04:52.693Z"
   },
   {
    "duration": 26,
    "start_time": "2022-06-06T12:04:52.879Z"
   },
   {
    "duration": 176,
    "start_time": "2022-06-06T12:04:52.907Z"
   },
   {
    "duration": 162,
    "start_time": "2022-06-06T12:04:53.085Z"
   },
   {
    "duration": 187,
    "start_time": "2022-06-06T12:04:53.249Z"
   },
   {
    "duration": 240,
    "start_time": "2022-06-06T12:04:53.438Z"
   },
   {
    "duration": 2,
    "start_time": "2022-06-06T12:04:53.680Z"
   },
   {
    "duration": 12,
    "start_time": "2022-06-06T12:05:35.040Z"
   },
   {
    "duration": 45,
    "start_time": "2022-06-06T12:08:23.210Z"
   },
   {
    "duration": 11,
    "start_time": "2022-06-06T12:08:40.571Z"
   },
   {
    "duration": 11,
    "start_time": "2022-06-06T12:10:47.191Z"
   },
   {
    "duration": 12,
    "start_time": "2022-06-06T12:10:57.698Z"
   },
   {
    "duration": 33,
    "start_time": "2022-06-06T12:15:12.379Z"
   },
   {
    "duration": 17,
    "start_time": "2022-06-06T12:15:31.045Z"
   },
   {
    "duration": 22,
    "start_time": "2022-06-06T12:15:50.611Z"
   },
   {
    "duration": 20,
    "start_time": "2022-06-06T12:16:14.912Z"
   },
   {
    "duration": 18,
    "start_time": "2022-06-06T12:16:22.263Z"
   },
   {
    "duration": 5,
    "start_time": "2022-06-06T12:17:21.611Z"
   },
   {
    "duration": 15,
    "start_time": "2022-06-06T12:17:34.482Z"
   },
   {
    "duration": 15,
    "start_time": "2022-06-06T12:17:48.951Z"
   },
   {
    "duration": 15,
    "start_time": "2022-06-06T12:19:39.742Z"
   },
   {
    "duration": 15,
    "start_time": "2022-06-06T12:43:52.623Z"
   },
   {
    "duration": 7,
    "start_time": "2022-06-06T12:45:05.406Z"
   },
   {
    "duration": 17,
    "start_time": "2022-06-06T12:45:33.993Z"
   },
   {
    "duration": 12,
    "start_time": "2022-06-06T12:45:41.921Z"
   },
   {
    "duration": 18,
    "start_time": "2022-06-06T12:46:01.865Z"
   },
   {
    "duration": 14,
    "start_time": "2022-06-06T12:46:05.098Z"
   },
   {
    "duration": 62,
    "start_time": "2022-06-07T12:00:20.927Z"
   },
   {
    "duration": 876,
    "start_time": "2022-06-07T12:00:25.301Z"
   },
   {
    "duration": 131,
    "start_time": "2022-06-07T12:00:26.179Z"
   },
   {
    "duration": 308,
    "start_time": "2022-06-07T12:00:26.312Z"
   },
   {
    "duration": 344,
    "start_time": "2022-06-07T12:00:26.622Z"
   },
   {
    "duration": 351,
    "start_time": "2022-06-07T12:00:26.968Z"
   },
   {
    "duration": 87,
    "start_time": "2022-06-07T12:00:27.320Z"
   },
   {
    "duration": 10,
    "start_time": "2022-06-07T12:00:27.408Z"
   },
   {
    "duration": 8,
    "start_time": "2022-06-07T12:00:27.420Z"
   },
   {
    "duration": 16,
    "start_time": "2022-06-07T12:00:27.442Z"
   },
   {
    "duration": 14,
    "start_time": "2022-06-07T12:00:27.460Z"
   },
   {
    "duration": 25,
    "start_time": "2022-06-07T12:00:27.476Z"
   },
   {
    "duration": 9,
    "start_time": "2022-06-07T12:00:27.503Z"
   },
   {
    "duration": 15,
    "start_time": "2022-06-07T12:00:27.513Z"
   },
   {
    "duration": 5,
    "start_time": "2022-06-07T12:00:27.542Z"
   },
   {
    "duration": 70,
    "start_time": "2022-06-07T12:00:27.549Z"
   },
   {
    "duration": 123,
    "start_time": "2022-06-07T12:00:27.621Z"
   },
   {
    "duration": 22,
    "start_time": "2022-06-07T12:00:27.746Z"
   },
   {
    "duration": 20,
    "start_time": "2022-06-07T12:00:27.769Z"
   },
   {
    "duration": 97,
    "start_time": "2022-06-07T12:00:27.791Z"
   },
   {
    "duration": 41,
    "start_time": "2022-06-07T12:00:27.889Z"
   },
   {
    "duration": 151,
    "start_time": "2022-06-07T12:00:27.931Z"
   },
   {
    "duration": 72,
    "start_time": "2022-06-07T12:00:28.084Z"
   },
   {
    "duration": 79,
    "start_time": "2022-06-07T12:00:28.158Z"
   },
   {
    "duration": 17,
    "start_time": "2022-06-07T12:00:28.238Z"
   },
   {
    "duration": 82,
    "start_time": "2022-06-07T12:00:28.256Z"
   },
   {
    "duration": 28,
    "start_time": "2022-06-07T12:00:28.342Z"
   },
   {
    "duration": 9,
    "start_time": "2022-06-07T12:00:28.371Z"
   },
   {
    "duration": 30,
    "start_time": "2022-06-07T12:00:28.383Z"
   },
   {
    "duration": 13,
    "start_time": "2022-06-07T12:00:28.432Z"
   },
   {
    "duration": 10,
    "start_time": "2022-06-07T12:00:28.447Z"
   },
   {
    "duration": 23,
    "start_time": "2022-06-07T12:00:28.459Z"
   },
   {
    "duration": 8,
    "start_time": "2022-06-07T12:00:28.484Z"
   },
   {
    "duration": 16,
    "start_time": "2022-06-07T12:00:28.493Z"
   },
   {
    "duration": 28,
    "start_time": "2022-06-07T12:00:28.511Z"
   },
   {
    "duration": 16,
    "start_time": "2022-06-07T12:00:28.541Z"
   },
   {
    "duration": 32,
    "start_time": "2022-06-07T12:00:28.558Z"
   },
   {
    "duration": 17,
    "start_time": "2022-06-07T12:00:28.592Z"
   },
   {
    "duration": 20,
    "start_time": "2022-06-07T12:00:28.610Z"
   },
   {
    "duration": 19,
    "start_time": "2022-06-07T12:00:28.633Z"
   },
   {
    "duration": 7,
    "start_time": "2022-06-07T12:00:28.653Z"
   },
   {
    "duration": 12,
    "start_time": "2022-06-07T12:00:28.662Z"
   },
   {
    "duration": 28,
    "start_time": "2022-06-07T12:00:28.676Z"
   },
   {
    "duration": 29,
    "start_time": "2022-06-07T12:00:28.706Z"
   },
   {
    "duration": 27,
    "start_time": "2022-06-07T12:00:28.737Z"
   },
   {
    "duration": 12,
    "start_time": "2022-06-07T12:00:28.765Z"
   },
   {
    "duration": 6,
    "start_time": "2022-06-07T12:00:28.779Z"
   },
   {
    "duration": 17,
    "start_time": "2022-06-07T12:00:28.786Z"
   },
   {
    "duration": 6519,
    "start_time": "2022-06-07T12:00:28.805Z"
   },
   {
    "duration": 26,
    "start_time": "2022-06-07T12:00:35.326Z"
   },
   {
    "duration": 30,
    "start_time": "2022-06-07T12:00:35.353Z"
   },
   {
    "duration": 59,
    "start_time": "2022-06-07T12:00:35.384Z"
   },
   {
    "duration": 50,
    "start_time": "2022-06-07T12:00:35.447Z"
   },
   {
    "duration": 35,
    "start_time": "2022-06-07T12:00:35.498Z"
   },
   {
    "duration": 163,
    "start_time": "2022-06-07T12:00:35.535Z"
   },
   {
    "duration": 138,
    "start_time": "2022-06-07T12:00:35.700Z"
   },
   {
    "duration": 168,
    "start_time": "2022-06-07T12:00:35.839Z"
   },
   {
    "duration": 146,
    "start_time": "2022-06-07T12:00:36.008Z"
   },
   {
    "duration": 24,
    "start_time": "2022-06-07T12:00:36.156Z"
   },
   {
    "duration": 191,
    "start_time": "2022-06-07T12:00:36.182Z"
   },
   {
    "duration": 167,
    "start_time": "2022-06-07T12:00:36.375Z"
   },
   {
    "duration": 227,
    "start_time": "2022-06-07T12:00:36.544Z"
   },
   {
    "duration": 145,
    "start_time": "2022-06-07T12:00:36.773Z"
   },
   {
    "duration": 13,
    "start_time": "2022-06-07T12:00:36.919Z"
   },
   {
    "duration": 33,
    "start_time": "2022-06-07T12:00:36.933Z"
   },
   {
    "duration": 31,
    "start_time": "2022-06-07T12:01:04.023Z"
   },
   {
    "duration": 30,
    "start_time": "2022-06-07T12:02:02.466Z"
   },
   {
    "duration": 10,
    "start_time": "2022-06-07T12:02:49.293Z"
   },
   {
    "duration": 39,
    "start_time": "2022-06-07T12:07:58.130Z"
   },
   {
    "duration": 149,
    "start_time": "2022-06-07T12:08:23.902Z"
   },
   {
    "duration": 137,
    "start_time": "2022-06-07T12:08:58.254Z"
   },
   {
    "duration": 21,
    "start_time": "2022-06-07T12:09:54.582Z"
   },
   {
    "duration": 62,
    "start_time": "2022-06-07T12:10:09.181Z"
   },
   {
    "duration": 36,
    "start_time": "2022-06-07T12:10:48.974Z"
   },
   {
    "duration": 124,
    "start_time": "2022-06-07T12:10:57.299Z"
   },
   {
    "duration": 124,
    "start_time": "2022-06-07T12:11:03.372Z"
   },
   {
    "duration": 20,
    "start_time": "2022-06-07T12:11:18.673Z"
   },
   {
    "duration": 46,
    "start_time": "2022-06-07T12:11:34.166Z"
   },
   {
    "duration": 20,
    "start_time": "2022-06-07T12:11:55.779Z"
   },
   {
    "duration": 122,
    "start_time": "2022-06-07T12:12:16.392Z"
   },
   {
    "duration": 136,
    "start_time": "2022-06-07T12:12:32.706Z"
   },
   {
    "duration": 147,
    "start_time": "2022-06-07T12:14:17.958Z"
   },
   {
    "duration": 148,
    "start_time": "2022-06-07T12:14:49.364Z"
   },
   {
    "duration": 33,
    "start_time": "2022-06-07T12:19:49.300Z"
   },
   {
    "duration": 28,
    "start_time": "2022-06-07T12:20:51.413Z"
   },
   {
    "duration": 153,
    "start_time": "2022-06-07T12:21:14.470Z"
   },
   {
    "duration": 156,
    "start_time": "2022-06-07T12:21:33.375Z"
   },
   {
    "duration": 233,
    "start_time": "2022-06-07T12:21:46.019Z"
   },
   {
    "duration": 16,
    "start_time": "2022-06-07T12:22:07.262Z"
   },
   {
    "duration": 9,
    "start_time": "2022-06-07T12:26:53.723Z"
   },
   {
    "duration": 3,
    "start_time": "2022-06-07T12:27:08.180Z"
   },
   {
    "duration": 14,
    "start_time": "2022-06-07T12:27:10.050Z"
   },
   {
    "duration": 16,
    "start_time": "2022-06-08T12:39:40.867Z"
   },
   {
    "duration": 2,
    "start_time": "2022-06-08T12:42:06.542Z"
   },
   {
    "duration": 481,
    "start_time": "2022-06-08T12:52:11.255Z"
   },
   {
    "duration": 6,
    "start_time": "2022-06-08T12:53:07.094Z"
   },
   {
    "duration": 5,
    "start_time": "2022-06-08T12:53:30.396Z"
   },
   {
    "duration": 396,
    "start_time": "2022-06-08T12:54:05.786Z"
   },
   {
    "duration": 5,
    "start_time": "2022-06-08T12:54:31.146Z"
   },
   {
    "duration": 397,
    "start_time": "2022-06-08T12:59:59.756Z"
   },
   {
    "duration": 4,
    "start_time": "2022-06-08T13:00:26.323Z"
   },
   {
    "duration": 7,
    "start_time": "2022-06-08T13:01:55.360Z"
   },
   {
    "duration": 60,
    "start_time": "2022-06-08T13:03:53.355Z"
   },
   {
    "duration": 5,
    "start_time": "2022-06-08T13:05:28.603Z"
   },
   {
    "duration": 5,
    "start_time": "2022-06-08T13:06:08.160Z"
   },
   {
    "duration": 2,
    "start_time": "2022-06-08T13:06:56.089Z"
   },
   {
    "duration": 33,
    "start_time": "2022-06-08T13:12:27.738Z"
   },
   {
    "duration": 66,
    "start_time": "2022-06-08T13:13:29.020Z"
   },
   {
    "duration": 14,
    "start_time": "2022-06-08T13:13:42.817Z"
   },
   {
    "duration": 14,
    "start_time": "2022-06-08T13:14:11.898Z"
   },
   {
    "duration": 14,
    "start_time": "2022-06-08T13:16:31.066Z"
   },
   {
    "duration": 2,
    "start_time": "2022-06-08T13:17:03.280Z"
   },
   {
    "duration": 2,
    "start_time": "2022-06-08T13:17:45.246Z"
   },
   {
    "duration": 57,
    "start_time": "2022-06-08T13:19:46.210Z"
   },
   {
    "duration": 95,
    "start_time": "2022-06-08T13:20:04.425Z"
   },
   {
    "duration": 5,
    "start_time": "2022-06-08T13:20:21.628Z"
   },
   {
    "duration": 4,
    "start_time": "2022-06-08T13:20:26.862Z"
   },
   {
    "duration": 7,
    "start_time": "2022-06-08T13:26:47.005Z"
   },
   {
    "duration": 3,
    "start_time": "2022-06-08T13:28:05.883Z"
   },
   {
    "duration": 5,
    "start_time": "2022-06-08T13:28:18.981Z"
   },
   {
    "duration": 34,
    "start_time": "2022-06-08T13:30:25.087Z"
   },
   {
    "duration": 13,
    "start_time": "2022-06-08T13:32:19.177Z"
   },
   {
    "duration": 3,
    "start_time": "2022-06-08T13:32:42.150Z"
   },
   {
    "duration": 57,
    "start_time": "2022-06-08T13:32:42.154Z"
   },
   {
    "duration": 155,
    "start_time": "2022-06-08T13:32:42.213Z"
   },
   {
    "duration": 94,
    "start_time": "2022-06-08T13:32:42.370Z"
   },
   {
    "duration": 135,
    "start_time": "2022-06-08T13:32:42.466Z"
   },
   {
    "duration": 24,
    "start_time": "2022-06-08T13:32:42.603Z"
   },
   {
    "duration": 7,
    "start_time": "2022-06-08T13:32:42.629Z"
   },
   {
    "duration": 5,
    "start_time": "2022-06-08T13:32:42.638Z"
   },
   {
    "duration": 6,
    "start_time": "2022-06-08T13:32:42.645Z"
   },
   {
    "duration": 7,
    "start_time": "2022-06-08T13:32:42.652Z"
   },
   {
    "duration": 45,
    "start_time": "2022-06-08T13:32:42.660Z"
   },
   {
    "duration": 9,
    "start_time": "2022-06-08T13:32:42.706Z"
   },
   {
    "duration": 11,
    "start_time": "2022-06-08T13:32:42.716Z"
   },
   {
    "duration": 6,
    "start_time": "2022-06-08T13:32:42.728Z"
   },
   {
    "duration": 91,
    "start_time": "2022-06-08T13:32:42.735Z"
   },
   {
    "duration": 99,
    "start_time": "2022-06-08T13:32:42.828Z"
   },
   {
    "duration": 19,
    "start_time": "2022-06-08T13:32:42.929Z"
   },
   {
    "duration": 17,
    "start_time": "2022-06-08T13:32:42.949Z"
   },
   {
    "duration": 64,
    "start_time": "2022-06-08T13:32:42.991Z"
   },
   {
    "duration": 37,
    "start_time": "2022-06-08T13:32:43.057Z"
   },
   {
    "duration": 139,
    "start_time": "2022-06-08T13:32:43.095Z"
   },
   {
    "duration": 58,
    "start_time": "2022-06-08T13:32:43.236Z"
   },
   {
    "duration": 55,
    "start_time": "2022-06-08T13:32:43.296Z"
   },
   {
    "duration": 13,
    "start_time": "2022-06-08T13:32:43.354Z"
   },
   {
    "duration": 65,
    "start_time": "2022-06-08T13:32:43.369Z"
   },
   {
    "duration": 24,
    "start_time": "2022-06-08T13:32:43.436Z"
   },
   {
    "duration": 9,
    "start_time": "2022-06-08T13:32:43.461Z"
   },
   {
    "duration": 38,
    "start_time": "2022-06-08T13:32:43.471Z"
   },
   {
    "duration": 6,
    "start_time": "2022-06-08T13:32:43.510Z"
   },
   {
    "duration": 4,
    "start_time": "2022-06-08T13:32:43.518Z"
   },
   {
    "duration": 19,
    "start_time": "2022-06-08T13:32:43.523Z"
   },
   {
    "duration": 5,
    "start_time": "2022-06-08T13:32:43.543Z"
   },
   {
    "duration": 48,
    "start_time": "2022-06-08T13:32:43.549Z"
   },
   {
    "duration": 8,
    "start_time": "2022-06-08T13:32:43.598Z"
   },
   {
    "duration": 12,
    "start_time": "2022-06-08T13:32:43.607Z"
   },
   {
    "duration": 25,
    "start_time": "2022-06-08T13:32:43.620Z"
   },
   {
    "duration": 15,
    "start_time": "2022-06-08T13:32:43.647Z"
   },
   {
    "duration": 28,
    "start_time": "2022-06-08T13:32:43.664Z"
   },
   {
    "duration": 9,
    "start_time": "2022-06-08T13:32:43.693Z"
   },
   {
    "duration": 5,
    "start_time": "2022-06-08T13:32:43.703Z"
   },
   {
    "duration": 14,
    "start_time": "2022-06-08T13:32:43.710Z"
   },
   {
    "duration": 21,
    "start_time": "2022-06-08T13:32:43.725Z"
   },
   {
    "duration": 4,
    "start_time": "2022-06-08T13:32:43.747Z"
   },
   {
    "duration": 12,
    "start_time": "2022-06-08T13:32:43.753Z"
   },
   {
    "duration": 2,
    "start_time": "2022-06-08T13:32:43.792Z"
   },
   {
    "duration": 5,
    "start_time": "2022-06-08T13:32:43.795Z"
   },
   {
    "duration": 11,
    "start_time": "2022-06-08T13:32:43.801Z"
   },
   {
    "duration": 5847,
    "start_time": "2022-06-08T13:32:43.814Z"
   },
   {
    "duration": 11,
    "start_time": "2022-06-08T13:32:49.662Z"
   },
   {
    "duration": 18,
    "start_time": "2022-06-08T13:32:49.674Z"
   },
   {
    "duration": 39,
    "start_time": "2022-06-08T13:32:49.694Z"
   },
   {
    "duration": 35,
    "start_time": "2022-06-08T13:32:49.734Z"
   },
   {
    "duration": 34,
    "start_time": "2022-06-08T13:32:49.771Z"
   },
   {
    "duration": 124,
    "start_time": "2022-06-08T13:32:49.806Z"
   },
   {
    "duration": 177,
    "start_time": "2022-06-08T13:32:49.932Z"
   },
   {
    "duration": 132,
    "start_time": "2022-06-08T13:32:50.111Z"
   },
   {
    "duration": 115,
    "start_time": "2022-06-08T13:32:50.245Z"
   },
   {
    "duration": 30,
    "start_time": "2022-06-08T13:32:50.362Z"
   },
   {
    "duration": 115,
    "start_time": "2022-06-08T13:32:50.393Z"
   },
   {
    "duration": 110,
    "start_time": "2022-06-08T13:32:50.509Z"
   },
   {
    "duration": 126,
    "start_time": "2022-06-08T13:32:50.620Z"
   },
   {
    "duration": 128,
    "start_time": "2022-06-08T13:32:50.747Z"
   },
   {
    "duration": 18,
    "start_time": "2022-06-08T13:32:50.877Z"
   },
   {
    "duration": 14,
    "start_time": "2022-06-08T13:32:50.897Z"
   },
   {
    "duration": 24,
    "start_time": "2022-06-08T13:32:50.912Z"
   },
   {
    "duration": 8,
    "start_time": "2022-06-08T13:32:50.938Z"
   },
   {
    "duration": 163,
    "start_time": "2022-06-08T13:32:50.947Z"
   },
   {
    "duration": 3,
    "start_time": "2022-06-08T13:32:51.111Z"
   },
   {
    "duration": 13,
    "start_time": "2022-06-08T13:32:51.118Z"
   },
   {
    "duration": 8,
    "start_time": "2022-06-08T13:32:51.132Z"
   },
   {
    "duration": 8,
    "start_time": "2022-06-08T13:32:51.141Z"
   },
   {
    "duration": 1092,
    "start_time": "2022-06-08T22:31:55.421Z"
   },
   {
    "duration": 60,
    "start_time": "2022-06-08T22:31:56.515Z"
   },
   {
    "duration": 194,
    "start_time": "2022-06-08T22:31:56.577Z"
   },
   {
    "duration": 110,
    "start_time": "2022-06-08T22:31:56.774Z"
   },
   {
    "duration": 162,
    "start_time": "2022-06-08T22:31:56.885Z"
   },
   {
    "duration": 29,
    "start_time": "2022-06-08T22:31:57.048Z"
   },
   {
    "duration": 10,
    "start_time": "2022-06-08T22:31:57.079Z"
   },
   {
    "duration": 7,
    "start_time": "2022-06-08T22:31:57.090Z"
   },
   {
    "duration": 15,
    "start_time": "2022-06-08T22:31:57.098Z"
   },
   {
    "duration": 9,
    "start_time": "2022-06-08T22:31:57.116Z"
   },
   {
    "duration": 57,
    "start_time": "2022-06-08T22:31:57.127Z"
   },
   {
    "duration": 13,
    "start_time": "2022-06-08T22:31:57.186Z"
   },
   {
    "duration": 16,
    "start_time": "2022-06-08T22:31:57.201Z"
   },
   {
    "duration": 7,
    "start_time": "2022-06-08T22:31:57.219Z"
   },
   {
    "duration": 139,
    "start_time": "2022-06-08T22:31:57.228Z"
   },
   {
    "duration": 139,
    "start_time": "2022-06-08T22:31:57.368Z"
   },
   {
    "duration": 22,
    "start_time": "2022-06-08T22:31:57.509Z"
   },
   {
    "duration": 41,
    "start_time": "2022-06-08T22:31:57.533Z"
   },
   {
    "duration": 96,
    "start_time": "2022-06-08T22:31:57.576Z"
   },
   {
    "duration": 27,
    "start_time": "2022-06-08T22:31:57.674Z"
   },
   {
    "duration": 189,
    "start_time": "2022-06-08T22:31:57.704Z"
   },
   {
    "duration": 76,
    "start_time": "2022-06-08T22:31:57.895Z"
   },
   {
    "duration": 79,
    "start_time": "2022-06-08T22:31:57.973Z"
   },
   {
    "duration": 15,
    "start_time": "2022-06-08T22:31:58.065Z"
   },
   {
    "duration": 83,
    "start_time": "2022-06-08T22:31:58.082Z"
   },
   {
    "duration": 30,
    "start_time": "2022-06-08T22:31:58.167Z"
   },
   {
    "duration": 10,
    "start_time": "2022-06-08T22:31:58.200Z"
   },
   {
    "duration": 56,
    "start_time": "2022-06-08T22:31:58.215Z"
   },
   {
    "duration": 8,
    "start_time": "2022-06-08T22:31:58.273Z"
   },
   {
    "duration": 4,
    "start_time": "2022-06-08T22:31:58.284Z"
   },
   {
    "duration": 28,
    "start_time": "2022-06-08T22:31:58.290Z"
   },
   {
    "duration": 6,
    "start_time": "2022-06-08T22:31:58.319Z"
   },
   {
    "duration": 48,
    "start_time": "2022-06-08T22:31:58.326Z"
   },
   {
    "duration": 10,
    "start_time": "2022-06-08T22:31:58.375Z"
   },
   {
    "duration": 21,
    "start_time": "2022-06-08T22:31:58.386Z"
   },
   {
    "duration": 26,
    "start_time": "2022-06-08T22:31:58.409Z"
   },
   {
    "duration": 49,
    "start_time": "2022-06-08T22:31:58.436Z"
   },
   {
    "duration": 6,
    "start_time": "2022-06-08T22:31:58.487Z"
   },
   {
    "duration": 12,
    "start_time": "2022-06-08T22:31:58.495Z"
   },
   {
    "duration": 5,
    "start_time": "2022-06-08T22:31:58.509Z"
   },
   {
    "duration": 16,
    "start_time": "2022-06-08T22:31:58.516Z"
   },
   {
    "duration": 50,
    "start_time": "2022-06-08T22:31:58.533Z"
   },
   {
    "duration": 7,
    "start_time": "2022-06-08T22:31:58.585Z"
   },
   {
    "duration": 16,
    "start_time": "2022-06-08T22:31:58.594Z"
   },
   {
    "duration": 3,
    "start_time": "2022-06-08T22:31:58.611Z"
   },
   {
    "duration": 18,
    "start_time": "2022-06-08T22:31:58.616Z"
   },
   {
    "duration": 30,
    "start_time": "2022-06-08T22:31:58.636Z"
   },
   {
    "duration": 6429,
    "start_time": "2022-06-08T22:31:58.667Z"
   },
   {
    "duration": 14,
    "start_time": "2022-06-08T22:32:05.098Z"
   },
   {
    "duration": 18,
    "start_time": "2022-06-08T22:32:05.114Z"
   },
   {
    "duration": 75,
    "start_time": "2022-06-08T22:32:05.134Z"
   },
   {
    "duration": 54,
    "start_time": "2022-06-08T22:32:05.210Z"
   },
   {
    "duration": 20,
    "start_time": "2022-06-08T22:32:05.267Z"
   },
   {
    "duration": 162,
    "start_time": "2022-06-08T22:32:05.289Z"
   },
   {
    "duration": 141,
    "start_time": "2022-06-08T22:32:05.453Z"
   },
   {
    "duration": 151,
    "start_time": "2022-06-08T22:32:05.596Z"
   },
   {
    "duration": 154,
    "start_time": "2022-06-08T22:32:05.748Z"
   },
   {
    "duration": 25,
    "start_time": "2022-06-08T22:32:05.905Z"
   },
   {
    "duration": 146,
    "start_time": "2022-06-08T22:32:05.931Z"
   },
   {
    "duration": 148,
    "start_time": "2022-06-08T22:32:06.080Z"
   },
   {
    "duration": 161,
    "start_time": "2022-06-08T22:32:06.230Z"
   },
   {
    "duration": 160,
    "start_time": "2022-06-08T22:32:06.393Z"
   },
   {
    "duration": 19,
    "start_time": "2022-06-08T22:32:06.555Z"
   },
   {
    "duration": 17,
    "start_time": "2022-06-08T22:32:06.576Z"
   },
   {
    "duration": 30,
    "start_time": "2022-06-08T22:32:06.595Z"
   },
   {
    "duration": 38,
    "start_time": "2022-06-08T22:32:06.627Z"
   },
   {
    "duration": 176,
    "start_time": "2022-06-08T22:32:06.666Z"
   },
   {
    "duration": 4,
    "start_time": "2022-06-08T22:32:06.844Z"
   },
   {
    "duration": 28,
    "start_time": "2022-06-08T22:32:06.849Z"
   },
   {
    "duration": 7,
    "start_time": "2022-06-08T22:32:06.879Z"
   },
   {
    "duration": 12,
    "start_time": "2022-06-08T22:32:06.887Z"
   },
   {
    "duration": 259,
    "start_time": "2022-06-08T22:42:38.353Z"
   },
   {
    "duration": 49,
    "start_time": "2022-06-09T06:02:53.228Z"
   },
   {
    "duration": 1228,
    "start_time": "2022-06-09T06:02:57.369Z"
   },
   {
    "duration": 107,
    "start_time": "2022-06-09T06:02:58.600Z"
   },
   {
    "duration": 243,
    "start_time": "2022-06-09T06:02:58.708Z"
   },
   {
    "duration": 296,
    "start_time": "2022-06-09T06:02:58.953Z"
   },
   {
    "duration": 326,
    "start_time": "2022-06-09T06:02:59.251Z"
   },
   {
    "duration": 73,
    "start_time": "2022-06-09T06:02:59.579Z"
   },
   {
    "duration": 10,
    "start_time": "2022-06-09T06:02:59.654Z"
   },
   {
    "duration": 11,
    "start_time": "2022-06-09T06:02:59.666Z"
   },
   {
    "duration": 8,
    "start_time": "2022-06-09T06:02:59.678Z"
   },
   {
    "duration": 12,
    "start_time": "2022-06-09T06:02:59.689Z"
   },
   {
    "duration": 30,
    "start_time": "2022-06-09T06:02:59.702Z"
   },
   {
    "duration": 11,
    "start_time": "2022-06-09T06:02:59.734Z"
   },
   {
    "duration": 26,
    "start_time": "2022-06-09T06:02:59.747Z"
   },
   {
    "duration": 10,
    "start_time": "2022-06-09T06:02:59.775Z"
   },
   {
    "duration": 90,
    "start_time": "2022-06-09T06:02:59.786Z"
   },
   {
    "duration": 139,
    "start_time": "2022-06-09T06:02:59.878Z"
   },
   {
    "duration": 29,
    "start_time": "2022-06-09T06:03:00.019Z"
   },
   {
    "duration": 27,
    "start_time": "2022-06-09T06:03:00.049Z"
   },
   {
    "duration": 109,
    "start_time": "2022-06-09T06:03:00.077Z"
   },
   {
    "duration": 46,
    "start_time": "2022-06-09T06:03:00.188Z"
   },
   {
    "duration": 163,
    "start_time": "2022-06-09T06:03:00.236Z"
   },
   {
    "duration": 68,
    "start_time": "2022-06-09T06:03:00.401Z"
   },
   {
    "duration": 87,
    "start_time": "2022-06-09T06:03:00.470Z"
   },
   {
    "duration": 15,
    "start_time": "2022-06-09T06:03:00.559Z"
   },
   {
    "duration": 114,
    "start_time": "2022-06-09T06:03:00.576Z"
   },
   {
    "duration": 48,
    "start_time": "2022-06-09T06:03:00.692Z"
   },
   {
    "duration": 13,
    "start_time": "2022-06-09T06:03:00.743Z"
   },
   {
    "duration": 81,
    "start_time": "2022-06-09T06:03:00.763Z"
   },
   {
    "duration": 10,
    "start_time": "2022-06-09T06:03:00.847Z"
   },
   {
    "duration": 7,
    "start_time": "2022-06-09T06:03:00.859Z"
   },
   {
    "duration": 42,
    "start_time": "2022-06-09T06:03:00.868Z"
   },
   {
    "duration": 8,
    "start_time": "2022-06-09T06:03:00.926Z"
   },
   {
    "duration": 36,
    "start_time": "2022-06-09T06:03:00.937Z"
   },
   {
    "duration": 13,
    "start_time": "2022-06-09T06:03:00.975Z"
   },
   {
    "duration": 15,
    "start_time": "2022-06-09T06:03:00.990Z"
   },
   {
    "duration": 41,
    "start_time": "2022-06-09T06:03:01.007Z"
   },
   {
    "duration": 21,
    "start_time": "2022-06-09T06:03:01.050Z"
   },
   {
    "duration": 19,
    "start_time": "2022-06-09T06:03:01.073Z"
   },
   {
    "duration": 100,
    "start_time": "2022-06-09T06:03:01.094Z"
   },
   {
    "duration": 17,
    "start_time": "2022-06-09T06:03:01.196Z"
   },
   {
    "duration": 57,
    "start_time": "2022-06-09T06:03:01.215Z"
   },
   {
    "duration": 58,
    "start_time": "2022-06-09T06:03:01.274Z"
   },
   {
    "duration": 26,
    "start_time": "2022-06-09T06:03:01.335Z"
   },
   {
    "duration": 80,
    "start_time": "2022-06-09T06:03:01.363Z"
   },
   {
    "duration": 78,
    "start_time": "2022-06-09T06:03:01.445Z"
   },
   {
    "duration": 44,
    "start_time": "2022-06-09T06:03:01.526Z"
   },
   {
    "duration": 63,
    "start_time": "2022-06-09T06:03:01.573Z"
   },
   {
    "duration": 6458,
    "start_time": "2022-06-09T06:03:01.639Z"
   },
   {
    "duration": 14,
    "start_time": "2022-06-09T06:03:08.099Z"
   },
   {
    "duration": 15,
    "start_time": "2022-06-09T06:03:08.126Z"
   },
   {
    "duration": 82,
    "start_time": "2022-06-09T06:03:08.143Z"
   },
   {
    "duration": 53,
    "start_time": "2022-06-09T06:03:08.227Z"
   },
   {
    "duration": 48,
    "start_time": "2022-06-09T06:03:08.282Z"
   },
   {
    "duration": 181,
    "start_time": "2022-06-09T06:03:08.332Z"
   },
   {
    "duration": 149,
    "start_time": "2022-06-09T06:03:08.515Z"
   },
   {
    "duration": 184,
    "start_time": "2022-06-09T06:03:08.665Z"
   },
   {
    "duration": 142,
    "start_time": "2022-06-09T06:03:08.851Z"
   },
   {
    "duration": 35,
    "start_time": "2022-06-09T06:03:08.995Z"
   },
   {
    "duration": 150,
    "start_time": "2022-06-09T06:03:09.031Z"
   },
   {
    "duration": 135,
    "start_time": "2022-06-09T06:03:09.183Z"
   },
   {
    "duration": 163,
    "start_time": "2022-06-09T06:03:09.327Z"
   },
   {
    "duration": 162,
    "start_time": "2022-06-09T06:03:09.492Z"
   },
   {
    "duration": 10,
    "start_time": "2022-06-09T06:03:09.656Z"
   },
   {
    "duration": 19,
    "start_time": "2022-06-09T06:03:09.668Z"
   },
   {
    "duration": 58,
    "start_time": "2022-06-09T06:03:09.689Z"
   },
   {
    "duration": 10,
    "start_time": "2022-06-09T06:03:09.749Z"
   },
   {
    "duration": 212,
    "start_time": "2022-06-09T06:03:09.761Z"
   },
   {
    "duration": 4,
    "start_time": "2022-06-09T06:03:09.974Z"
   },
   {
    "duration": 24,
    "start_time": "2022-06-09T06:03:09.980Z"
   },
   {
    "duration": 21,
    "start_time": "2022-06-09T06:03:10.006Z"
   },
   {
    "duration": 102,
    "start_time": "2022-06-09T06:03:10.028Z"
   },
   {
    "duration": 46,
    "start_time": "2022-06-09T06:06:11.398Z"
   },
   {
    "duration": 57,
    "start_time": "2022-06-09T06:06:28.987Z"
   },
   {
    "duration": 62,
    "start_time": "2022-06-09T06:12:50.216Z"
   },
   {
    "duration": 28,
    "start_time": "2022-06-09T06:13:31.556Z"
   },
   {
    "duration": 20,
    "start_time": "2022-06-09T06:16:06.397Z"
   },
   {
    "duration": 4,
    "start_time": "2022-06-09T07:13:20.468Z"
   },
   {
    "duration": 65,
    "start_time": "2022-06-09T07:13:20.475Z"
   },
   {
    "duration": 212,
    "start_time": "2022-06-09T07:13:20.542Z"
   },
   {
    "duration": 134,
    "start_time": "2022-06-09T07:13:20.756Z"
   },
   {
    "duration": 240,
    "start_time": "2022-06-09T07:13:20.892Z"
   },
   {
    "duration": 24,
    "start_time": "2022-06-09T07:13:21.134Z"
   },
   {
    "duration": 9,
    "start_time": "2022-06-09T07:13:21.160Z"
   },
   {
    "duration": 10,
    "start_time": "2022-06-09T07:13:21.171Z"
   },
   {
    "duration": 11,
    "start_time": "2022-06-09T07:13:21.183Z"
   },
   {
    "duration": 10,
    "start_time": "2022-06-09T07:13:21.198Z"
   },
   {
    "duration": 35,
    "start_time": "2022-06-09T07:13:21.209Z"
   },
   {
    "duration": 11,
    "start_time": "2022-06-09T07:13:21.245Z"
   },
   {
    "duration": 14,
    "start_time": "2022-06-09T07:13:21.258Z"
   },
   {
    "duration": 13,
    "start_time": "2022-06-09T07:13:21.274Z"
   },
   {
    "duration": 87,
    "start_time": "2022-06-09T07:13:21.289Z"
   },
   {
    "duration": 135,
    "start_time": "2022-06-09T07:13:21.379Z"
   },
   {
    "duration": 31,
    "start_time": "2022-06-09T07:13:21.517Z"
   },
   {
    "duration": 22,
    "start_time": "2022-06-09T07:13:21.549Z"
   },
   {
    "duration": 102,
    "start_time": "2022-06-09T07:13:21.573Z"
   },
   {
    "duration": 26,
    "start_time": "2022-06-09T07:13:21.677Z"
   },
   {
    "duration": 84,
    "start_time": "2022-06-09T07:13:21.705Z"
   },
   {
    "duration": 82,
    "start_time": "2022-06-09T07:13:21.790Z"
   },
   {
    "duration": 20,
    "start_time": "2022-06-09T07:13:21.874Z"
   },
   {
    "duration": 77,
    "start_time": "2022-06-09T07:13:21.895Z"
   },
   {
    "duration": 30,
    "start_time": "2022-06-09T07:13:21.974Z"
   },
   {
    "duration": 27,
    "start_time": "2022-06-09T07:13:22.005Z"
   },
   {
    "duration": 67,
    "start_time": "2022-06-09T07:13:22.034Z"
   },
   {
    "duration": 0,
    "start_time": "2022-06-09T07:13:22.105Z"
   },
   {
    "duration": 0,
    "start_time": "2022-06-09T07:13:22.106Z"
   },
   {
    "duration": 1,
    "start_time": "2022-06-09T07:13:22.106Z"
   },
   {
    "duration": 0,
    "start_time": "2022-06-09T07:13:22.126Z"
   },
   {
    "duration": 0,
    "start_time": "2022-06-09T07:13:22.127Z"
   },
   {
    "duration": 0,
    "start_time": "2022-06-09T07:13:22.128Z"
   },
   {
    "duration": 0,
    "start_time": "2022-06-09T07:13:22.130Z"
   },
   {
    "duration": 0,
    "start_time": "2022-06-09T07:13:22.131Z"
   },
   {
    "duration": 0,
    "start_time": "2022-06-09T07:13:22.132Z"
   },
   {
    "duration": 0,
    "start_time": "2022-06-09T07:13:22.133Z"
   },
   {
    "duration": 0,
    "start_time": "2022-06-09T07:13:22.135Z"
   },
   {
    "duration": 0,
    "start_time": "2022-06-09T07:13:22.136Z"
   },
   {
    "duration": 0,
    "start_time": "2022-06-09T07:13:22.137Z"
   },
   {
    "duration": 0,
    "start_time": "2022-06-09T07:13:22.139Z"
   },
   {
    "duration": 0,
    "start_time": "2022-06-09T07:13:22.140Z"
   },
   {
    "duration": 0,
    "start_time": "2022-06-09T07:13:22.142Z"
   },
   {
    "duration": 0,
    "start_time": "2022-06-09T07:13:22.143Z"
   },
   {
    "duration": 0,
    "start_time": "2022-06-09T07:13:22.145Z"
   },
   {
    "duration": 0,
    "start_time": "2022-06-09T07:13:22.146Z"
   },
   {
    "duration": 0,
    "start_time": "2022-06-09T07:13:22.148Z"
   },
   {
    "duration": 0,
    "start_time": "2022-06-09T07:13:22.149Z"
   },
   {
    "duration": 0,
    "start_time": "2022-06-09T07:13:22.151Z"
   },
   {
    "duration": 0,
    "start_time": "2022-06-09T07:13:22.152Z"
   },
   {
    "duration": 0,
    "start_time": "2022-06-09T07:13:22.153Z"
   },
   {
    "duration": 0,
    "start_time": "2022-06-09T07:13:22.155Z"
   },
   {
    "duration": 0,
    "start_time": "2022-06-09T07:13:22.157Z"
   },
   {
    "duration": 0,
    "start_time": "2022-06-09T07:13:22.159Z"
   },
   {
    "duration": 0,
    "start_time": "2022-06-09T07:13:22.160Z"
   },
   {
    "duration": 0,
    "start_time": "2022-06-09T07:13:22.161Z"
   },
   {
    "duration": 0,
    "start_time": "2022-06-09T07:13:22.162Z"
   },
   {
    "duration": 1,
    "start_time": "2022-06-09T07:13:22.163Z"
   },
   {
    "duration": 0,
    "start_time": "2022-06-09T07:13:22.165Z"
   },
   {
    "duration": 0,
    "start_time": "2022-06-09T07:13:22.226Z"
   },
   {
    "duration": 0,
    "start_time": "2022-06-09T07:13:22.227Z"
   },
   {
    "duration": 0,
    "start_time": "2022-06-09T07:13:22.229Z"
   },
   {
    "duration": 0,
    "start_time": "2022-06-09T07:13:22.230Z"
   },
   {
    "duration": 0,
    "start_time": "2022-06-09T07:13:22.231Z"
   },
   {
    "duration": 0,
    "start_time": "2022-06-09T07:13:22.232Z"
   },
   {
    "duration": 0,
    "start_time": "2022-06-09T07:13:22.233Z"
   },
   {
    "duration": 0,
    "start_time": "2022-06-09T07:13:22.234Z"
   },
   {
    "duration": 0,
    "start_time": "2022-06-09T07:13:22.235Z"
   },
   {
    "duration": 0,
    "start_time": "2022-06-09T07:13:22.236Z"
   },
   {
    "duration": 0,
    "start_time": "2022-06-09T07:13:22.237Z"
   },
   {
    "duration": 141,
    "start_time": "2022-06-09T07:13:42.518Z"
   },
   {
    "duration": 136,
    "start_time": "2022-06-09T07:13:51.071Z"
   },
   {
    "duration": 148,
    "start_time": "2022-06-09T07:14:01.059Z"
   },
   {
    "duration": 136,
    "start_time": "2022-06-09T07:14:17.138Z"
   },
   {
    "duration": 24,
    "start_time": "2022-06-09T07:14:42.310Z"
   },
   {
    "duration": 32,
    "start_time": "2022-06-09T07:14:46.641Z"
   },
   {
    "duration": 143,
    "start_time": "2022-06-09T07:14:57.730Z"
   },
   {
    "duration": 8,
    "start_time": "2022-06-09T07:15:19.321Z"
   },
   {
    "duration": 134,
    "start_time": "2022-06-09T07:15:48.070Z"
   },
   {
    "duration": 21,
    "start_time": "2022-06-09T07:16:01.399Z"
   },
   {
    "duration": 28,
    "start_time": "2022-06-09T07:16:07.831Z"
   },
   {
    "duration": 150,
    "start_time": "2022-06-09T07:16:11.430Z"
   },
   {
    "duration": 143,
    "start_time": "2022-06-09T07:16:22.629Z"
   },
   {
    "duration": 45,
    "start_time": "2022-06-09T07:17:14.949Z"
   },
   {
    "duration": 6496,
    "start_time": "2022-06-09T07:20:02.795Z"
   },
   {
    "duration": 19,
    "start_time": "2022-06-09T07:20:51.201Z"
   },
   {
    "duration": 14,
    "start_time": "2022-06-09T07:20:53.163Z"
   },
   {
    "duration": 3,
    "start_time": "2022-06-09T07:22:36.264Z"
   },
   {
    "duration": 84,
    "start_time": "2022-06-09T07:22:36.271Z"
   },
   {
    "duration": 200,
    "start_time": "2022-06-09T07:22:36.358Z"
   },
   {
    "duration": 117,
    "start_time": "2022-06-09T07:22:36.560Z"
   },
   {
    "duration": 177,
    "start_time": "2022-06-09T07:22:36.679Z"
   },
   {
    "duration": 25,
    "start_time": "2022-06-09T07:22:36.858Z"
   },
   {
    "duration": 11,
    "start_time": "2022-06-09T07:22:36.885Z"
   },
   {
    "duration": 22,
    "start_time": "2022-06-09T07:22:36.898Z"
   },
   {
    "duration": 27,
    "start_time": "2022-06-09T07:22:36.921Z"
   },
   {
    "duration": 18,
    "start_time": "2022-06-09T07:22:36.949Z"
   },
   {
    "duration": 45,
    "start_time": "2022-06-09T07:22:36.969Z"
   },
   {
    "duration": 33,
    "start_time": "2022-06-09T07:22:37.017Z"
   },
   {
    "duration": 12,
    "start_time": "2022-06-09T07:22:37.052Z"
   },
   {
    "duration": 10,
    "start_time": "2022-06-09T07:22:37.066Z"
   },
   {
    "duration": 87,
    "start_time": "2022-06-09T07:22:37.080Z"
   },
   {
    "duration": 133,
    "start_time": "2022-06-09T07:22:37.169Z"
   },
   {
    "duration": 50,
    "start_time": "2022-06-09T07:22:37.304Z"
   },
   {
    "duration": 43,
    "start_time": "2022-06-09T07:22:37.356Z"
   },
   {
    "duration": 133,
    "start_time": "2022-06-09T07:22:37.401Z"
   },
   {
    "duration": 45,
    "start_time": "2022-06-09T07:22:37.536Z"
   },
   {
    "duration": 98,
    "start_time": "2022-06-09T07:22:37.583Z"
   },
   {
    "duration": 87,
    "start_time": "2022-06-09T07:22:37.683Z"
   },
   {
    "duration": 25,
    "start_time": "2022-06-09T07:22:37.773Z"
   },
   {
    "duration": 105,
    "start_time": "2022-06-09T07:22:37.801Z"
   },
   {
    "duration": 43,
    "start_time": "2022-06-09T07:22:37.908Z"
   },
   {
    "duration": 10,
    "start_time": "2022-06-09T07:22:37.953Z"
   },
   {
    "duration": 27,
    "start_time": "2022-06-09T07:22:37.965Z"
   },
   {
    "duration": 0,
    "start_time": "2022-06-09T07:22:37.994Z"
   },
   {
    "duration": 0,
    "start_time": "2022-06-09T07:22:37.995Z"
   },
   {
    "duration": 0,
    "start_time": "2022-06-09T07:22:37.997Z"
   },
   {
    "duration": 0,
    "start_time": "2022-06-09T07:22:37.998Z"
   },
   {
    "duration": 0,
    "start_time": "2022-06-09T07:22:37.999Z"
   },
   {
    "duration": 0,
    "start_time": "2022-06-09T07:22:38.000Z"
   },
   {
    "duration": 0,
    "start_time": "2022-06-09T07:22:38.027Z"
   },
   {
    "duration": 0,
    "start_time": "2022-06-09T07:22:38.028Z"
   },
   {
    "duration": 0,
    "start_time": "2022-06-09T07:22:38.030Z"
   },
   {
    "duration": 0,
    "start_time": "2022-06-09T07:22:38.030Z"
   },
   {
    "duration": 0,
    "start_time": "2022-06-09T07:22:38.032Z"
   },
   {
    "duration": 0,
    "start_time": "2022-06-09T07:22:38.033Z"
   },
   {
    "duration": 0,
    "start_time": "2022-06-09T07:22:38.034Z"
   },
   {
    "duration": 0,
    "start_time": "2022-06-09T07:22:38.035Z"
   },
   {
    "duration": 0,
    "start_time": "2022-06-09T07:22:38.036Z"
   },
   {
    "duration": 0,
    "start_time": "2022-06-09T07:22:38.037Z"
   },
   {
    "duration": 0,
    "start_time": "2022-06-09T07:22:38.040Z"
   },
   {
    "duration": 0,
    "start_time": "2022-06-09T07:22:38.041Z"
   },
   {
    "duration": 0,
    "start_time": "2022-06-09T07:22:38.042Z"
   },
   {
    "duration": 0,
    "start_time": "2022-06-09T07:22:38.043Z"
   },
   {
    "duration": 0,
    "start_time": "2022-06-09T07:22:38.045Z"
   },
   {
    "duration": 0,
    "start_time": "2022-06-09T07:22:38.046Z"
   },
   {
    "duration": 0,
    "start_time": "2022-06-09T07:22:38.047Z"
   },
   {
    "duration": 0,
    "start_time": "2022-06-09T07:22:38.049Z"
   },
   {
    "duration": 0,
    "start_time": "2022-06-09T07:22:38.050Z"
   },
   {
    "duration": 0,
    "start_time": "2022-06-09T07:22:38.051Z"
   },
   {
    "duration": 0,
    "start_time": "2022-06-09T07:22:38.053Z"
   },
   {
    "duration": 0,
    "start_time": "2022-06-09T07:22:38.054Z"
   },
   {
    "duration": 0,
    "start_time": "2022-06-09T07:22:38.055Z"
   },
   {
    "duration": 0,
    "start_time": "2022-06-09T07:22:38.056Z"
   },
   {
    "duration": 0,
    "start_time": "2022-06-09T07:22:38.058Z"
   },
   {
    "duration": 0,
    "start_time": "2022-06-09T07:22:38.059Z"
   },
   {
    "duration": 0,
    "start_time": "2022-06-09T07:22:38.060Z"
   },
   {
    "duration": 0,
    "start_time": "2022-06-09T07:22:38.062Z"
   },
   {
    "duration": 0,
    "start_time": "2022-06-09T07:22:38.063Z"
   },
   {
    "duration": 0,
    "start_time": "2022-06-09T07:22:38.126Z"
   },
   {
    "duration": 0,
    "start_time": "2022-06-09T07:22:38.127Z"
   },
   {
    "duration": 0,
    "start_time": "2022-06-09T07:22:38.129Z"
   },
   {
    "duration": 0,
    "start_time": "2022-06-09T07:22:38.130Z"
   },
   {
    "duration": 0,
    "start_time": "2022-06-09T07:22:38.131Z"
   },
   {
    "duration": 0,
    "start_time": "2022-06-09T07:22:38.132Z"
   },
   {
    "duration": 0,
    "start_time": "2022-06-09T07:22:38.133Z"
   },
   {
    "duration": 0,
    "start_time": "2022-06-09T07:22:38.134Z"
   },
   {
    "duration": 56,
    "start_time": "2022-06-09T07:23:07.283Z"
   },
   {
    "duration": 23,
    "start_time": "2022-06-09T07:24:23.850Z"
   },
   {
    "duration": 11,
    "start_time": "2022-06-09T07:24:29.984Z"
   },
   {
    "duration": 53,
    "start_time": "2022-06-09T07:24:37.945Z"
   },
   {
    "duration": 10,
    "start_time": "2022-06-09T07:24:39.545Z"
   },
   {
    "duration": 21,
    "start_time": "2022-06-09T07:25:25.831Z"
   },
   {
    "duration": 4,
    "start_time": "2022-06-09T07:25:30.113Z"
   },
   {
    "duration": 114,
    "start_time": "2022-06-09T07:25:30.121Z"
   },
   {
    "duration": 201,
    "start_time": "2022-06-09T07:25:30.237Z"
   },
   {
    "duration": 111,
    "start_time": "2022-06-09T07:25:30.440Z"
   },
   {
    "duration": 156,
    "start_time": "2022-06-09T07:25:30.553Z"
   },
   {
    "duration": 23,
    "start_time": "2022-06-09T07:25:30.711Z"
   },
   {
    "duration": 10,
    "start_time": "2022-06-09T07:25:30.735Z"
   },
   {
    "duration": 37,
    "start_time": "2022-06-09T07:25:30.747Z"
   },
   {
    "duration": 36,
    "start_time": "2022-06-09T07:25:30.786Z"
   },
   {
    "duration": 24,
    "start_time": "2022-06-09T07:25:30.826Z"
   },
   {
    "duration": 82,
    "start_time": "2022-06-09T07:25:30.852Z"
   },
   {
    "duration": 12,
    "start_time": "2022-06-09T07:25:30.937Z"
   },
   {
    "duration": 15,
    "start_time": "2022-06-09T07:25:30.951Z"
   },
   {
    "duration": 19,
    "start_time": "2022-06-09T07:25:30.968Z"
   },
   {
    "duration": 103,
    "start_time": "2022-06-09T07:25:30.989Z"
   },
   {
    "duration": 139,
    "start_time": "2022-06-09T07:25:31.094Z"
   },
   {
    "duration": 24,
    "start_time": "2022-06-09T07:25:31.235Z"
   },
   {
    "duration": 45,
    "start_time": "2022-06-09T07:25:31.261Z"
   },
   {
    "duration": 95,
    "start_time": "2022-06-09T07:25:31.308Z"
   },
   {
    "duration": 43,
    "start_time": "2022-06-09T07:25:31.406Z"
   },
   {
    "duration": 80,
    "start_time": "2022-06-09T07:25:31.451Z"
   },
   {
    "duration": 68,
    "start_time": "2022-06-09T07:25:31.533Z"
   },
   {
    "duration": 36,
    "start_time": "2022-06-09T07:25:31.603Z"
   },
   {
    "duration": 76,
    "start_time": "2022-06-09T07:25:31.641Z"
   },
   {
    "duration": 34,
    "start_time": "2022-06-09T07:25:31.726Z"
   },
   {
    "duration": 9,
    "start_time": "2022-06-09T07:25:31.761Z"
   },
   {
    "duration": 30,
    "start_time": "2022-06-09T07:25:31.771Z"
   },
   {
    "duration": 10,
    "start_time": "2022-06-09T07:25:31.828Z"
   },
   {
    "duration": 28,
    "start_time": "2022-06-09T07:25:31.840Z"
   },
   {
    "duration": 56,
    "start_time": "2022-06-09T07:25:31.870Z"
   },
   {
    "duration": 30,
    "start_time": "2022-06-09T07:25:31.928Z"
   },
   {
    "duration": 65,
    "start_time": "2022-06-09T07:25:31.960Z"
   },
   {
    "duration": 53,
    "start_time": "2022-06-09T07:25:32.027Z"
   },
   {
    "duration": 53,
    "start_time": "2022-06-09T07:25:32.083Z"
   },
   {
    "duration": 123,
    "start_time": "2022-06-09T07:25:32.138Z"
   },
   {
    "duration": 50,
    "start_time": "2022-06-09T07:25:32.264Z"
   },
   {
    "duration": 14,
    "start_time": "2022-06-09T07:25:32.317Z"
   },
   {
    "duration": 24,
    "start_time": "2022-06-09T07:25:32.333Z"
   },
   {
    "duration": 12,
    "start_time": "2022-06-09T07:25:32.360Z"
   },
   {
    "duration": 32,
    "start_time": "2022-06-09T07:25:32.374Z"
   },
   {
    "duration": 8,
    "start_time": "2022-06-09T07:25:52.884Z"
   },
   {
    "duration": 347,
    "start_time": "2022-06-09T07:25:55.924Z"
   },
   {
    "duration": 18,
    "start_time": "2022-06-09T07:26:03.897Z"
   },
   {
    "duration": 14,
    "start_time": "2022-06-09T07:26:41.723Z"
   },
   {
    "duration": 10,
    "start_time": "2022-06-09T07:27:13.022Z"
   },
   {
    "duration": 525,
    "start_time": "2022-06-09T07:27:33.384Z"
   },
   {
    "duration": 8169,
    "start_time": "2022-06-09T07:27:57.716Z"
   },
   {
    "duration": 14,
    "start_time": "2022-06-09T07:28:13.304Z"
   },
   {
    "duration": 17,
    "start_time": "2022-06-09T07:28:15.666Z"
   },
   {
    "duration": 19,
    "start_time": "2022-06-09T07:31:22.824Z"
   },
   {
    "duration": 15,
    "start_time": "2022-06-09T07:32:23.936Z"
   },
   {
    "duration": 16,
    "start_time": "2022-06-09T07:32:34.693Z"
   },
   {
    "duration": 47,
    "start_time": "2022-06-09T07:32:45.674Z"
   },
   {
    "duration": 40,
    "start_time": "2022-06-09T07:33:31.013Z"
   },
   {
    "duration": 50,
    "start_time": "2022-06-09T07:34:25.514Z"
   },
   {
    "duration": 47,
    "start_time": "2022-06-09T07:34:46.458Z"
   },
   {
    "duration": 27,
    "start_time": "2022-06-09T07:37:57.114Z"
   },
   {
    "duration": 11,
    "start_time": "2022-06-09T07:38:01.806Z"
   },
   {
    "duration": 70,
    "start_time": "2022-06-09T07:39:55.146Z"
   },
   {
    "duration": 49,
    "start_time": "2022-06-09T07:40:16.196Z"
   },
   {
    "duration": 72,
    "start_time": "2022-06-09T07:40:34.839Z"
   },
   {
    "duration": 62,
    "start_time": "2022-06-09T07:41:05.405Z"
   },
   {
    "duration": 71,
    "start_time": "2022-06-09T07:42:12.970Z"
   },
   {
    "duration": 389,
    "start_time": "2022-06-09T07:44:17.002Z"
   },
   {
    "duration": 3,
    "start_time": "2022-06-09T07:44:27.966Z"
   },
   {
    "duration": 63,
    "start_time": "2022-06-09T07:44:27.971Z"
   },
   {
    "duration": 197,
    "start_time": "2022-06-09T07:44:28.035Z"
   },
   {
    "duration": 119,
    "start_time": "2022-06-09T07:44:28.235Z"
   },
   {
    "duration": 165,
    "start_time": "2022-06-09T07:44:28.356Z"
   },
   {
    "duration": 22,
    "start_time": "2022-06-09T07:44:28.527Z"
   },
   {
    "duration": 9,
    "start_time": "2022-06-09T07:44:28.551Z"
   },
   {
    "duration": 17,
    "start_time": "2022-06-09T07:44:28.562Z"
   },
   {
    "duration": 15,
    "start_time": "2022-06-09T07:44:28.582Z"
   },
   {
    "duration": 23,
    "start_time": "2022-06-09T07:44:28.599Z"
   },
   {
    "duration": 50,
    "start_time": "2022-06-09T07:44:28.624Z"
   },
   {
    "duration": 11,
    "start_time": "2022-06-09T07:44:28.676Z"
   },
   {
    "duration": 20,
    "start_time": "2022-06-09T07:44:28.688Z"
   },
   {
    "duration": 8,
    "start_time": "2022-06-09T07:44:28.709Z"
   },
   {
    "duration": 90,
    "start_time": "2022-06-09T07:44:28.719Z"
   },
   {
    "duration": 117,
    "start_time": "2022-06-09T07:44:28.811Z"
   },
   {
    "duration": 24,
    "start_time": "2022-06-09T07:44:28.931Z"
   },
   {
    "duration": 39,
    "start_time": "2022-06-09T07:44:28.956Z"
   },
   {
    "duration": 99,
    "start_time": "2022-06-09T07:44:28.997Z"
   },
   {
    "duration": 62,
    "start_time": "2022-06-09T07:44:29.098Z"
   },
   {
    "duration": 70,
    "start_time": "2022-06-09T07:44:29.162Z"
   },
   {
    "duration": 68,
    "start_time": "2022-06-09T07:44:29.234Z"
   },
   {
    "duration": 41,
    "start_time": "2022-06-09T07:44:29.304Z"
   },
   {
    "duration": 84,
    "start_time": "2022-06-09T07:44:29.351Z"
   },
   {
    "duration": 30,
    "start_time": "2022-06-09T07:44:29.437Z"
   },
   {
    "duration": 10,
    "start_time": "2022-06-09T07:44:29.469Z"
   },
   {
    "duration": 47,
    "start_time": "2022-06-09T07:44:29.481Z"
   },
   {
    "duration": 14,
    "start_time": "2022-06-09T07:44:29.529Z"
   },
   {
    "duration": 17,
    "start_time": "2022-06-09T07:44:29.545Z"
   },
   {
    "duration": 32,
    "start_time": "2022-06-09T07:44:29.564Z"
   },
   {
    "duration": 7,
    "start_time": "2022-06-09T07:44:29.598Z"
   },
   {
    "duration": 32,
    "start_time": "2022-06-09T07:44:29.607Z"
   },
   {
    "duration": 12,
    "start_time": "2022-06-09T07:44:29.641Z"
   },
   {
    "duration": 18,
    "start_time": "2022-06-09T07:44:29.655Z"
   },
   {
    "duration": 49,
    "start_time": "2022-06-09T07:44:29.675Z"
   },
   {
    "duration": 21,
    "start_time": "2022-06-09T07:44:29.726Z"
   },
   {
    "duration": 7,
    "start_time": "2022-06-09T07:44:29.748Z"
   },
   {
    "duration": 14,
    "start_time": "2022-06-09T07:44:29.757Z"
   },
   {
    "duration": 19,
    "start_time": "2022-06-09T07:44:29.773Z"
   },
   {
    "duration": 33,
    "start_time": "2022-06-09T07:44:29.794Z"
   },
   {
    "duration": 23,
    "start_time": "2022-06-09T07:44:29.829Z"
   },
   {
    "duration": 5,
    "start_time": "2022-06-09T07:44:29.853Z"
   },
   {
    "duration": 18,
    "start_time": "2022-06-09T07:44:29.859Z"
   },
   {
    "duration": 2,
    "start_time": "2022-06-09T07:44:29.879Z"
   },
   {
    "duration": 6,
    "start_time": "2022-06-09T07:44:29.882Z"
   },
   {
    "duration": 44,
    "start_time": "2022-06-09T07:44:29.890Z"
   },
   {
    "duration": 6853,
    "start_time": "2022-06-09T07:44:29.936Z"
   },
   {
    "duration": 16,
    "start_time": "2022-06-09T07:44:36.790Z"
   },
   {
    "duration": 29,
    "start_time": "2022-06-09T07:44:36.809Z"
   },
   {
    "duration": 16,
    "start_time": "2022-06-09T07:44:36.840Z"
   },
   {
    "duration": 80,
    "start_time": "2022-06-09T07:44:36.858Z"
   },
   {
    "duration": 72,
    "start_time": "2022-06-09T07:44:36.939Z"
   },
   {
    "duration": 41,
    "start_time": "2022-06-09T07:44:37.013Z"
   },
   {
    "duration": 136,
    "start_time": "2022-06-09T07:44:57.243Z"
   },
   {
    "duration": 141,
    "start_time": "2022-06-09T07:45:06.393Z"
   },
   {
    "duration": 28,
    "start_time": "2022-06-09T07:46:15.171Z"
   },
   {
    "duration": 279,
    "start_time": "2022-06-09T07:46:50.160Z"
   },
   {
    "duration": 162,
    "start_time": "2022-06-09T07:46:56.339Z"
   },
   {
    "duration": 149,
    "start_time": "2022-06-09T07:46:58.661Z"
   },
   {
    "duration": 138,
    "start_time": "2022-06-09T07:47:05.701Z"
   },
   {
    "duration": 36,
    "start_time": "2022-06-09T07:48:46.708Z"
   },
   {
    "duration": 26,
    "start_time": "2022-06-09T07:49:04.807Z"
   },
   {
    "duration": 28,
    "start_time": "2022-06-09T07:49:39.470Z"
   },
   {
    "duration": 425,
    "start_time": "2022-06-09T07:50:27.259Z"
   },
   {
    "duration": 28,
    "start_time": "2022-06-09T07:50:50.430Z"
   },
   {
    "duration": 29,
    "start_time": "2022-06-09T07:51:11.347Z"
   },
   {
    "duration": 28,
    "start_time": "2022-06-09T07:51:58.746Z"
   },
   {
    "duration": 136,
    "start_time": "2022-06-09T07:52:04.748Z"
   },
   {
    "duration": 131,
    "start_time": "2022-06-09T07:52:06.949Z"
   },
   {
    "duration": 158,
    "start_time": "2022-06-09T07:52:12.619Z"
   },
   {
    "duration": 161,
    "start_time": "2022-06-09T07:52:18.969Z"
   },
   {
    "duration": 143,
    "start_time": "2022-06-09T07:52:38.039Z"
   },
   {
    "duration": 148,
    "start_time": "2022-06-09T07:52:46.726Z"
   },
   {
    "duration": 124,
    "start_time": "2022-06-09T07:52:50.289Z"
   },
   {
    "duration": 134,
    "start_time": "2022-06-09T07:52:53.727Z"
   },
   {
    "duration": 14,
    "start_time": "2022-06-09T07:53:03.839Z"
   },
   {
    "duration": 19,
    "start_time": "2022-06-09T07:53:09.959Z"
   },
   {
    "duration": 157,
    "start_time": "2022-06-09T07:53:14.179Z"
   },
   {
    "duration": 10,
    "start_time": "2022-06-09T07:53:17.689Z"
   },
   {
    "duration": 38,
    "start_time": "2022-06-09T07:53:37.438Z"
   },
   {
    "duration": 18,
    "start_time": "2022-06-09T07:53:42.309Z"
   },
   {
    "duration": 182,
    "start_time": "2022-06-09T07:53:58.474Z"
   },
   {
    "duration": 227,
    "start_time": "2022-06-09T07:54:32.588Z"
   },
   {
    "duration": 169,
    "start_time": "2022-06-09T07:54:59.999Z"
   },
   {
    "duration": 180,
    "start_time": "2022-06-09T07:55:29.648Z"
   },
   {
    "duration": 173,
    "start_time": "2022-06-09T07:55:45.818Z"
   },
   {
    "duration": 190,
    "start_time": "2022-06-09T07:55:57.495Z"
   },
   {
    "duration": 3,
    "start_time": "2022-06-09T07:56:04.756Z"
   },
   {
    "duration": 21,
    "start_time": "2022-06-09T07:56:06.987Z"
   },
   {
    "duration": 22,
    "start_time": "2022-06-09T07:56:18.537Z"
   },
   {
    "duration": 67,
    "start_time": "2022-06-09T08:07:04.851Z"
   },
   {
    "duration": 7,
    "start_time": "2022-06-09T08:07:28.736Z"
   },
   {
    "duration": 5,
    "start_time": "2022-06-09T08:08:46.591Z"
   },
   {
    "duration": 32,
    "start_time": "2022-06-09T08:09:50.850Z"
   },
   {
    "duration": 6,
    "start_time": "2022-06-09T08:10:23.823Z"
   },
   {
    "duration": 5,
    "start_time": "2022-06-09T08:11:23.872Z"
   },
   {
    "duration": 38,
    "start_time": "2022-06-09T08:13:19.839Z"
   },
   {
    "duration": 9,
    "start_time": "2022-06-09T08:16:39.151Z"
   },
   {
    "duration": 5,
    "start_time": "2022-06-09T08:18:13.028Z"
   },
   {
    "duration": 3,
    "start_time": "2022-06-09T08:19:29.771Z"
   },
   {
    "duration": 32,
    "start_time": "2022-06-09T08:21:09.377Z"
   },
   {
    "duration": 26,
    "start_time": "2022-06-09T08:21:31.759Z"
   },
   {
    "duration": 29,
    "start_time": "2022-06-09T08:21:46.849Z"
   },
   {
    "duration": 29,
    "start_time": "2022-06-09T08:21:59.141Z"
   },
   {
    "duration": 5,
    "start_time": "2022-06-09T08:24:08.871Z"
   },
   {
    "duration": 7,
    "start_time": "2022-06-09T08:27:54.359Z"
   },
   {
    "duration": 6,
    "start_time": "2022-06-09T08:29:42.068Z"
   },
   {
    "duration": 25,
    "start_time": "2022-06-09T08:30:20.115Z"
   },
   {
    "duration": 6,
    "start_time": "2022-06-09T08:30:27.786Z"
   },
   {
    "duration": 5,
    "start_time": "2022-06-09T08:32:12.115Z"
   },
   {
    "duration": 5,
    "start_time": "2022-06-09T08:34:42.709Z"
   },
   {
    "duration": 15,
    "start_time": "2022-06-09T08:38:50.366Z"
   },
   {
    "duration": 4,
    "start_time": "2022-06-09T08:39:00.638Z"
   },
   {
    "duration": 68,
    "start_time": "2022-06-09T08:39:00.644Z"
   },
   {
    "duration": 259,
    "start_time": "2022-06-09T08:39:00.715Z"
   },
   {
    "duration": 123,
    "start_time": "2022-06-09T08:39:00.976Z"
   },
   {
    "duration": 166,
    "start_time": "2022-06-09T08:39:01.102Z"
   },
   {
    "duration": 25,
    "start_time": "2022-06-09T08:39:01.270Z"
   },
   {
    "duration": 20,
    "start_time": "2022-06-09T08:39:01.297Z"
   },
   {
    "duration": 37,
    "start_time": "2022-06-09T08:39:01.325Z"
   },
   {
    "duration": 63,
    "start_time": "2022-06-09T08:39:01.364Z"
   },
   {
    "duration": 58,
    "start_time": "2022-06-09T08:39:01.430Z"
   },
   {
    "duration": 113,
    "start_time": "2022-06-09T08:39:01.492Z"
   },
   {
    "duration": 26,
    "start_time": "2022-06-09T08:39:01.608Z"
   },
   {
    "duration": 29,
    "start_time": "2022-06-09T08:39:01.636Z"
   },
   {
    "duration": 49,
    "start_time": "2022-06-09T08:39:01.668Z"
   },
   {
    "duration": 225,
    "start_time": "2022-06-09T08:39:01.719Z"
   },
   {
    "duration": 129,
    "start_time": "2022-06-09T08:39:01.946Z"
   },
   {
    "duration": 33,
    "start_time": "2022-06-09T08:39:02.077Z"
   },
   {
    "duration": 83,
    "start_time": "2022-06-09T08:39:02.126Z"
   },
   {
    "duration": 96,
    "start_time": "2022-06-09T08:39:02.211Z"
   },
   {
    "duration": 53,
    "start_time": "2022-06-09T08:39:02.310Z"
   },
   {
    "duration": 100,
    "start_time": "2022-06-09T08:39:02.366Z"
   },
   {
    "duration": 132,
    "start_time": "2022-06-09T08:39:02.468Z"
   },
   {
    "duration": 31,
    "start_time": "2022-06-09T08:39:02.602Z"
   },
   {
    "duration": 61,
    "start_time": "2022-06-09T08:39:02.635Z"
   },
   {
    "duration": 57,
    "start_time": "2022-06-09T08:39:02.698Z"
   },
   {
    "duration": 13,
    "start_time": "2022-06-09T08:39:02.758Z"
   },
   {
    "duration": 36,
    "start_time": "2022-06-09T08:39:02.773Z"
   },
   {
    "duration": 11,
    "start_time": "2022-06-09T08:39:02.827Z"
   },
   {
    "duration": 25,
    "start_time": "2022-06-09T08:39:02.843Z"
   },
   {
    "duration": 47,
    "start_time": "2022-06-09T08:39:02.870Z"
   },
   {
    "duration": 8,
    "start_time": "2022-06-09T08:39:02.919Z"
   },
   {
    "duration": 46,
    "start_time": "2022-06-09T08:39:02.929Z"
   },
   {
    "duration": 21,
    "start_time": "2022-06-09T08:39:02.976Z"
   },
   {
    "duration": 34,
    "start_time": "2022-06-09T08:39:03.000Z"
   },
   {
    "duration": 62,
    "start_time": "2022-06-09T08:39:03.036Z"
   },
   {
    "duration": 21,
    "start_time": "2022-06-09T08:39:03.100Z"
   },
   {
    "duration": 12,
    "start_time": "2022-06-09T08:39:03.126Z"
   },
   {
    "duration": 67,
    "start_time": "2022-06-09T08:39:03.141Z"
   },
   {
    "duration": 25,
    "start_time": "2022-06-09T08:39:03.210Z"
   },
   {
    "duration": 56,
    "start_time": "2022-06-09T08:39:03.237Z"
   },
   {
    "duration": 53,
    "start_time": "2022-06-09T08:39:03.294Z"
   },
   {
    "duration": 13,
    "start_time": "2022-06-09T08:39:03.349Z"
   },
   {
    "duration": 65,
    "start_time": "2022-06-09T08:39:03.364Z"
   },
   {
    "duration": 57,
    "start_time": "2022-06-09T08:39:03.431Z"
   },
   {
    "duration": 12,
    "start_time": "2022-06-09T08:39:03.490Z"
   },
   {
    "duration": 32,
    "start_time": "2022-06-09T08:39:03.505Z"
   },
   {
    "duration": 18,
    "start_time": "2022-06-09T08:40:14.619Z"
   },
   {
    "duration": 31,
    "start_time": "2022-06-09T08:41:06.345Z"
   },
   {
    "duration": 14,
    "start_time": "2022-06-09T08:41:19.178Z"
   },
   {
    "duration": 4,
    "start_time": "2022-06-09T08:41:28.859Z"
   },
   {
    "duration": 60,
    "start_time": "2022-06-09T08:41:28.875Z"
   },
   {
    "duration": 256,
    "start_time": "2022-06-09T08:41:28.938Z"
   },
   {
    "duration": 155,
    "start_time": "2022-06-09T08:41:29.196Z"
   },
   {
    "duration": 181,
    "start_time": "2022-06-09T08:41:29.354Z"
   },
   {
    "duration": 26,
    "start_time": "2022-06-09T08:41:29.539Z"
   },
   {
    "duration": 16,
    "start_time": "2022-06-09T08:41:29.568Z"
   },
   {
    "duration": 24,
    "start_time": "2022-06-09T08:41:29.587Z"
   },
   {
    "duration": 17,
    "start_time": "2022-06-09T08:41:29.613Z"
   },
   {
    "duration": 26,
    "start_time": "2022-06-09T08:41:29.633Z"
   },
   {
    "duration": 31,
    "start_time": "2022-06-09T08:41:29.661Z"
   },
   {
    "duration": 16,
    "start_time": "2022-06-09T08:41:29.694Z"
   },
   {
    "duration": 20,
    "start_time": "2022-06-09T08:41:29.712Z"
   },
   {
    "duration": 21,
    "start_time": "2022-06-09T08:41:29.734Z"
   },
   {
    "duration": 97,
    "start_time": "2022-06-09T08:41:29.758Z"
   },
   {
    "duration": 127,
    "start_time": "2022-06-09T08:41:29.857Z"
   },
   {
    "duration": 48,
    "start_time": "2022-06-09T08:41:29.986Z"
   },
   {
    "duration": 47,
    "start_time": "2022-06-09T08:41:30.036Z"
   },
   {
    "duration": 118,
    "start_time": "2022-06-09T08:41:30.085Z"
   },
   {
    "duration": 61,
    "start_time": "2022-06-09T08:41:30.205Z"
   },
   {
    "duration": 83,
    "start_time": "2022-06-09T08:41:30.268Z"
   },
   {
    "duration": 84,
    "start_time": "2022-06-09T08:41:30.353Z"
   },
   {
    "duration": 20,
    "start_time": "2022-06-09T08:41:30.438Z"
   },
   {
    "duration": 84,
    "start_time": "2022-06-09T08:41:30.461Z"
   },
   {
    "duration": 38,
    "start_time": "2022-06-09T08:41:30.547Z"
   },
   {
    "duration": 20,
    "start_time": "2022-06-09T08:41:30.587Z"
   },
   {
    "duration": 37,
    "start_time": "2022-06-09T08:41:30.610Z"
   },
   {
    "duration": 14,
    "start_time": "2022-06-09T08:41:30.649Z"
   },
   {
    "duration": 19,
    "start_time": "2022-06-09T08:41:30.665Z"
   },
   {
    "duration": 31,
    "start_time": "2022-06-09T08:41:30.686Z"
   },
   {
    "duration": 9,
    "start_time": "2022-06-09T08:41:30.727Z"
   },
   {
    "duration": 55,
    "start_time": "2022-06-09T08:41:30.738Z"
   },
   {
    "duration": 53,
    "start_time": "2022-06-09T08:41:30.796Z"
   },
   {
    "duration": 49,
    "start_time": "2022-06-09T08:41:30.851Z"
   },
   {
    "duration": 54,
    "start_time": "2022-06-09T08:41:30.902Z"
   },
   {
    "duration": 24,
    "start_time": "2022-06-09T08:41:30.958Z"
   },
   {
    "duration": 30,
    "start_time": "2022-06-09T08:41:30.984Z"
   },
   {
    "duration": 29,
    "start_time": "2022-06-09T08:41:31.016Z"
   },
   {
    "duration": 43,
    "start_time": "2022-06-09T08:41:31.047Z"
   },
   {
    "duration": 35,
    "start_time": "2022-06-09T08:41:31.092Z"
   },
   {
    "duration": 62,
    "start_time": "2022-06-09T08:41:31.129Z"
   },
   {
    "duration": 6,
    "start_time": "2022-06-09T08:41:31.200Z"
   },
   {
    "duration": 50,
    "start_time": "2022-06-09T08:41:31.208Z"
   },
   {
    "duration": 37,
    "start_time": "2022-06-09T08:41:31.260Z"
   },
   {
    "duration": 67,
    "start_time": "2022-06-09T08:41:31.299Z"
   },
   {
    "duration": 31,
    "start_time": "2022-06-09T08:41:31.369Z"
   },
   {
    "duration": 32,
    "start_time": "2022-06-09T08:41:31.402Z"
   },
   {
    "duration": 7120,
    "start_time": "2022-06-09T08:41:31.436Z"
   },
   {
    "duration": 26,
    "start_time": "2022-06-09T08:41:38.558Z"
   },
   {
    "duration": 15,
    "start_time": "2022-06-09T08:41:38.585Z"
   },
   {
    "duration": 84,
    "start_time": "2022-06-09T08:41:38.602Z"
   },
   {
    "duration": 74,
    "start_time": "2022-06-09T08:41:38.688Z"
   },
   {
    "duration": 30,
    "start_time": "2022-06-09T08:41:38.765Z"
   },
   {
    "duration": 171,
    "start_time": "2022-06-09T08:41:38.796Z"
   },
   {
    "duration": 180,
    "start_time": "2022-06-09T08:41:38.969Z"
   },
   {
    "duration": 201,
    "start_time": "2022-06-09T08:41:39.151Z"
   },
   {
    "duration": 180,
    "start_time": "2022-06-09T08:41:39.354Z"
   },
   {
    "duration": 33,
    "start_time": "2022-06-09T08:41:39.536Z"
   },
   {
    "duration": 170,
    "start_time": "2022-06-09T08:41:39.571Z"
   },
   {
    "duration": 152,
    "start_time": "2022-06-09T08:41:39.742Z"
   },
   {
    "duration": 180,
    "start_time": "2022-06-09T08:41:39.896Z"
   },
   {
    "duration": 338,
    "start_time": "2022-06-09T08:41:40.078Z"
   },
   {
    "duration": 18,
    "start_time": "2022-06-09T08:41:40.419Z"
   },
   {
    "duration": 31,
    "start_time": "2022-06-09T08:41:40.439Z"
   },
   {
    "duration": 43,
    "start_time": "2022-06-09T08:41:40.472Z"
   },
   {
    "duration": 20,
    "start_time": "2022-06-09T08:41:40.527Z"
   },
   {
    "duration": 183,
    "start_time": "2022-06-09T08:41:40.549Z"
   },
   {
    "duration": 5,
    "start_time": "2022-06-09T08:41:40.734Z"
   },
   {
    "duration": 64,
    "start_time": "2022-06-09T08:41:40.741Z"
   },
   {
    "duration": 13,
    "start_time": "2022-06-09T08:41:40.808Z"
   },
   {
    "duration": 45,
    "start_time": "2022-06-09T08:41:40.822Z"
   },
   {
    "duration": 16,
    "start_time": "2022-06-09T08:41:40.869Z"
   },
   {
    "duration": 19,
    "start_time": "2022-06-09T08:41:40.888Z"
   },
   {
    "duration": 21,
    "start_time": "2022-06-09T08:41:40.909Z"
   },
   {
    "duration": 8,
    "start_time": "2022-06-09T08:44:48.230Z"
   },
   {
    "duration": 4,
    "start_time": "2022-06-09T08:47:28.079Z"
   },
   {
    "duration": 22,
    "start_time": "2022-06-09T09:03:00.594Z"
   },
   {
    "duration": 6,
    "start_time": "2022-06-09T09:06:06.887Z"
   },
   {
    "duration": 33,
    "start_time": "2022-06-09T09:08:42.588Z"
   },
   {
    "duration": 25,
    "start_time": "2022-06-09T09:12:37.571Z"
   },
   {
    "duration": 7,
    "start_time": "2022-06-09T09:13:23.561Z"
   },
   {
    "duration": 6,
    "start_time": "2022-06-09T09:13:44.160Z"
   },
   {
    "duration": 6,
    "start_time": "2022-06-09T09:14:22.728Z"
   },
   {
    "duration": 6,
    "start_time": "2022-06-09T09:17:42.202Z"
   },
   {
    "duration": 57,
    "start_time": "2022-06-09T11:40:31.379Z"
   },
   {
    "duration": 1190,
    "start_time": "2022-06-09T11:40:37.148Z"
   },
   {
    "duration": 64,
    "start_time": "2022-06-09T11:40:38.340Z"
   },
   {
    "duration": 194,
    "start_time": "2022-06-09T11:40:38.406Z"
   },
   {
    "duration": 129,
    "start_time": "2022-06-09T11:40:38.603Z"
   },
   {
    "duration": 203,
    "start_time": "2022-06-09T11:40:38.733Z"
   },
   {
    "duration": 21,
    "start_time": "2022-06-09T11:40:38.937Z"
   },
   {
    "duration": 21,
    "start_time": "2022-06-09T11:40:38.960Z"
   },
   {
    "duration": 14,
    "start_time": "2022-06-09T11:40:38.984Z"
   },
   {
    "duration": 11,
    "start_time": "2022-06-09T11:40:39.001Z"
   },
   {
    "duration": 15,
    "start_time": "2022-06-09T11:40:39.014Z"
   },
   {
    "duration": 41,
    "start_time": "2022-06-09T11:40:39.031Z"
   },
   {
    "duration": 18,
    "start_time": "2022-06-09T11:40:39.074Z"
   },
   {
    "duration": 23,
    "start_time": "2022-06-09T11:40:39.094Z"
   },
   {
    "duration": 8,
    "start_time": "2022-06-09T11:40:39.119Z"
   },
   {
    "duration": 103,
    "start_time": "2022-06-09T11:40:39.128Z"
   },
   {
    "duration": 121,
    "start_time": "2022-06-09T11:40:39.232Z"
   },
   {
    "duration": 38,
    "start_time": "2022-06-09T11:40:39.355Z"
   },
   {
    "duration": 25,
    "start_time": "2022-06-09T11:40:39.396Z"
   },
   {
    "duration": 132,
    "start_time": "2022-06-09T11:40:39.422Z"
   },
   {
    "duration": 47,
    "start_time": "2022-06-09T11:40:39.556Z"
   },
   {
    "duration": 96,
    "start_time": "2022-06-09T11:40:39.606Z"
   },
   {
    "duration": 98,
    "start_time": "2022-06-09T11:40:39.704Z"
   },
   {
    "duration": 18,
    "start_time": "2022-06-09T11:40:39.804Z"
   },
   {
    "duration": 105,
    "start_time": "2022-06-09T11:40:39.824Z"
   },
   {
    "duration": 45,
    "start_time": "2022-06-09T11:40:39.930Z"
   },
   {
    "duration": 17,
    "start_time": "2022-06-09T11:40:39.983Z"
   },
   {
    "duration": 30,
    "start_time": "2022-06-09T11:40:40.003Z"
   },
   {
    "duration": 10,
    "start_time": "2022-06-09T11:40:40.037Z"
   },
   {
    "duration": 8,
    "start_time": "2022-06-09T11:40:40.049Z"
   },
   {
    "duration": 66,
    "start_time": "2022-06-09T11:40:40.059Z"
   },
   {
    "duration": 6,
    "start_time": "2022-06-09T11:40:40.127Z"
   },
   {
    "duration": 21,
    "start_time": "2022-06-09T11:40:40.134Z"
   },
   {
    "duration": 20,
    "start_time": "2022-06-09T11:40:40.157Z"
   },
   {
    "duration": 36,
    "start_time": "2022-06-09T11:40:40.178Z"
   },
   {
    "duration": 39,
    "start_time": "2022-06-09T11:40:40.216Z"
   },
   {
    "duration": 42,
    "start_time": "2022-06-09T11:40:40.257Z"
   },
   {
    "duration": 8,
    "start_time": "2022-06-09T11:40:40.301Z"
   },
   {
    "duration": 18,
    "start_time": "2022-06-09T11:40:40.311Z"
   },
   {
    "duration": 6,
    "start_time": "2022-06-09T11:40:40.330Z"
   },
   {
    "duration": 36,
    "start_time": "2022-06-09T11:40:40.338Z"
   },
   {
    "duration": 32,
    "start_time": "2022-06-09T11:40:40.381Z"
   },
   {
    "duration": 4,
    "start_time": "2022-06-09T11:40:40.415Z"
   },
   {
    "duration": 16,
    "start_time": "2022-06-09T11:40:40.421Z"
   },
   {
    "duration": 2,
    "start_time": "2022-06-09T11:40:40.439Z"
   },
   {
    "duration": 8,
    "start_time": "2022-06-09T11:40:40.442Z"
   },
   {
    "duration": 28,
    "start_time": "2022-06-09T11:40:40.451Z"
   },
   {
    "duration": 40,
    "start_time": "2022-06-09T11:40:40.481Z"
   },
   {
    "duration": 8693,
    "start_time": "2022-06-09T11:40:40.522Z"
   },
   {
    "duration": 19,
    "start_time": "2022-06-09T11:40:49.223Z"
   },
   {
    "duration": 20,
    "start_time": "2022-06-09T11:40:49.243Z"
   },
   {
    "duration": 84,
    "start_time": "2022-06-09T11:40:49.266Z"
   },
   {
    "duration": 67,
    "start_time": "2022-06-09T11:40:49.352Z"
   },
   {
    "duration": 26,
    "start_time": "2022-06-09T11:40:49.421Z"
   },
   {
    "duration": 178,
    "start_time": "2022-06-09T11:40:49.449Z"
   },
   {
    "duration": 173,
    "start_time": "2022-06-09T11:40:49.629Z"
   },
   {
    "duration": 182,
    "start_time": "2022-06-09T11:40:49.805Z"
   },
   {
    "duration": 185,
    "start_time": "2022-06-09T11:40:49.990Z"
   },
   {
    "duration": 42,
    "start_time": "2022-06-09T11:40:50.178Z"
   },
   {
    "duration": 179,
    "start_time": "2022-06-09T11:40:50.222Z"
   },
   {
    "duration": 171,
    "start_time": "2022-06-09T11:40:50.403Z"
   },
   {
    "duration": 197,
    "start_time": "2022-06-09T11:40:50.577Z"
   },
   {
    "duration": 202,
    "start_time": "2022-06-09T11:40:50.780Z"
   },
   {
    "duration": 11,
    "start_time": "2022-06-09T11:40:50.984Z"
   },
   {
    "duration": 34,
    "start_time": "2022-06-09T11:40:50.997Z"
   },
   {
    "duration": 49,
    "start_time": "2022-06-09T11:40:51.033Z"
   },
   {
    "duration": 19,
    "start_time": "2022-06-09T11:40:51.084Z"
   },
   {
    "duration": 203,
    "start_time": "2022-06-09T11:40:51.104Z"
   },
   {
    "duration": 3,
    "start_time": "2022-06-09T11:40:51.310Z"
   },
   {
    "duration": 25,
    "start_time": "2022-06-09T11:40:51.315Z"
   },
   {
    "duration": 23,
    "start_time": "2022-06-09T11:40:51.341Z"
   },
   {
    "duration": 18,
    "start_time": "2022-06-09T11:40:51.378Z"
   },
   {
    "duration": 23,
    "start_time": "2022-06-09T11:40:51.399Z"
   },
   {
    "duration": 8,
    "start_time": "2022-06-09T11:40:51.423Z"
   },
   {
    "duration": 111,
    "start_time": "2022-06-09T11:40:51.432Z"
   },
   {
    "duration": 290,
    "start_time": "2022-06-09T11:41:01.219Z"
   },
   {
    "duration": 3,
    "start_time": "2022-06-09T11:41:25.711Z"
   },
   {
    "duration": 158,
    "start_time": "2022-06-09T11:41:27.784Z"
   },
   {
    "duration": 1231,
    "start_time": "2022-06-09T12:24:31.244Z"
   },
   {
    "duration": 97,
    "start_time": "2022-06-09T12:24:48.490Z"
   },
   {
    "duration": 3,
    "start_time": "2022-06-09T12:25:00.559Z"
   },
   {
    "duration": 129,
    "start_time": "2022-06-09T12:25:00.564Z"
   },
   {
    "duration": 284,
    "start_time": "2022-06-09T12:25:00.695Z"
   },
   {
    "duration": 337,
    "start_time": "2022-06-09T12:25:00.981Z"
   },
   {
    "duration": 373,
    "start_time": "2022-06-09T12:25:01.320Z"
   },
   {
    "duration": 80,
    "start_time": "2022-06-09T12:25:01.695Z"
   },
   {
    "duration": 11,
    "start_time": "2022-06-09T12:25:01.777Z"
   },
   {
    "duration": 59,
    "start_time": "2022-06-09T12:25:01.790Z"
   },
   {
    "duration": 44,
    "start_time": "2022-06-09T12:25:01.851Z"
   },
   {
    "duration": 17,
    "start_time": "2022-06-09T12:25:01.897Z"
   },
   {
    "duration": 51,
    "start_time": "2022-06-09T12:25:01.916Z"
   },
   {
    "duration": 12,
    "start_time": "2022-06-09T12:25:01.968Z"
   },
   {
    "duration": 21,
    "start_time": "2022-06-09T12:25:01.982Z"
   },
   {
    "duration": 10,
    "start_time": "2022-06-09T12:25:02.005Z"
   },
   {
    "duration": 96,
    "start_time": "2022-06-09T12:25:02.016Z"
   },
   {
    "duration": 141,
    "start_time": "2022-06-09T12:25:02.114Z"
   },
   {
    "duration": 23,
    "start_time": "2022-06-09T12:25:02.257Z"
   },
   {
    "duration": 22,
    "start_time": "2022-06-09T12:25:02.281Z"
   },
   {
    "duration": 111,
    "start_time": "2022-06-09T12:25:02.304Z"
   },
   {
    "duration": 42,
    "start_time": "2022-06-09T12:25:02.417Z"
   },
   {
    "duration": 73,
    "start_time": "2022-06-09T12:25:02.461Z"
   },
   {
    "duration": 71,
    "start_time": "2022-06-09T12:25:02.536Z"
   },
   {
    "duration": 35,
    "start_time": "2022-06-09T12:25:02.608Z"
   },
   {
    "duration": 64,
    "start_time": "2022-06-09T12:25:02.647Z"
   },
   {
    "duration": 51,
    "start_time": "2022-06-09T12:25:02.712Z"
   },
   {
    "duration": 8,
    "start_time": "2022-06-09T12:25:02.764Z"
   },
   {
    "duration": 31,
    "start_time": "2022-06-09T12:25:02.774Z"
   },
   {
    "duration": 6,
    "start_time": "2022-06-09T12:25:02.807Z"
   },
   {
    "duration": 5,
    "start_time": "2022-06-09T12:25:02.827Z"
   },
   {
    "duration": 39,
    "start_time": "2022-06-09T12:25:02.834Z"
   },
   {
    "duration": 5,
    "start_time": "2022-06-09T12:25:02.875Z"
   },
   {
    "duration": 20,
    "start_time": "2022-06-09T12:25:02.882Z"
   },
   {
    "duration": 9,
    "start_time": "2022-06-09T12:25:02.904Z"
   },
   {
    "duration": 21,
    "start_time": "2022-06-09T12:25:02.930Z"
   },
   {
    "duration": 30,
    "start_time": "2022-06-09T12:25:02.952Z"
   },
   {
    "duration": 18,
    "start_time": "2022-06-09T12:25:02.984Z"
   },
   {
    "duration": 4,
    "start_time": "2022-06-09T12:25:03.004Z"
   },
   {
    "duration": 16,
    "start_time": "2022-06-09T12:25:03.031Z"
   },
   {
    "duration": 12,
    "start_time": "2022-06-09T12:25:03.049Z"
   },
   {
    "duration": 16,
    "start_time": "2022-06-09T12:25:03.063Z"
   },
   {
    "duration": 24,
    "start_time": "2022-06-09T12:25:03.080Z"
   },
   {
    "duration": 5,
    "start_time": "2022-06-09T12:25:03.105Z"
   },
   {
    "duration": 33,
    "start_time": "2022-06-09T12:25:03.112Z"
   },
   {
    "duration": 21,
    "start_time": "2022-06-09T12:25:03.147Z"
   },
   {
    "duration": 6,
    "start_time": "2022-06-09T12:25:03.170Z"
   },
   {
    "duration": 12,
    "start_time": "2022-06-09T12:25:03.178Z"
   },
   {
    "duration": 13,
    "start_time": "2022-06-09T12:25:03.192Z"
   },
   {
    "duration": 6184,
    "start_time": "2022-06-09T12:25:03.207Z"
   },
   {
    "duration": 14,
    "start_time": "2022-06-09T12:25:09.393Z"
   },
   {
    "duration": 31,
    "start_time": "2022-06-09T12:25:09.408Z"
   },
   {
    "duration": 54,
    "start_time": "2022-06-09T12:25:09.440Z"
   },
   {
    "duration": 72,
    "start_time": "2022-06-09T12:25:09.496Z"
   },
   {
    "duration": 22,
    "start_time": "2022-06-09T12:25:09.570Z"
   },
   {
    "duration": 162,
    "start_time": "2022-06-09T12:25:14.553Z"
   },
   {
    "duration": 150,
    "start_time": "2022-06-09T12:27:21.194Z"
   },
   {
    "duration": 46,
    "start_time": "2022-06-10T11:03:29.399Z"
   },
   {
    "duration": 1250,
    "start_time": "2022-06-10T11:03:33.407Z"
   },
   {
    "duration": 90,
    "start_time": "2022-06-10T11:03:34.659Z"
   },
   {
    "duration": 245,
    "start_time": "2022-06-10T11:03:34.751Z"
   },
   {
    "duration": 291,
    "start_time": "2022-06-10T11:03:34.998Z"
   },
   {
    "duration": 312,
    "start_time": "2022-06-10T11:03:35.292Z"
   },
   {
    "duration": 63,
    "start_time": "2022-06-10T11:03:35.606Z"
   },
   {
    "duration": 9,
    "start_time": "2022-06-10T11:03:35.670Z"
   },
   {
    "duration": 23,
    "start_time": "2022-06-10T11:03:35.680Z"
   },
   {
    "duration": 19,
    "start_time": "2022-06-10T11:03:35.705Z"
   },
   {
    "duration": 29,
    "start_time": "2022-06-10T11:03:35.726Z"
   },
   {
    "duration": 50,
    "start_time": "2022-06-10T11:03:35.757Z"
   },
   {
    "duration": 10,
    "start_time": "2022-06-10T11:03:35.809Z"
   },
   {
    "duration": 27,
    "start_time": "2022-06-10T11:03:35.820Z"
   },
   {
    "duration": 17,
    "start_time": "2022-06-10T11:03:35.851Z"
   },
   {
    "duration": 92,
    "start_time": "2022-06-10T11:03:35.869Z"
   },
   {
    "duration": 108,
    "start_time": "2022-06-10T11:03:35.962Z"
   },
   {
    "duration": 20,
    "start_time": "2022-06-10T11:03:36.072Z"
   },
   {
    "duration": 41,
    "start_time": "2022-06-10T11:03:36.093Z"
   },
   {
    "duration": 107,
    "start_time": "2022-06-10T11:03:36.136Z"
   },
   {
    "duration": 27,
    "start_time": "2022-06-10T11:03:36.246Z"
   },
   {
    "duration": 81,
    "start_time": "2022-06-10T11:03:36.275Z"
   },
   {
    "duration": 102,
    "start_time": "2022-06-10T11:03:36.359Z"
   },
   {
    "duration": 17,
    "start_time": "2022-06-10T11:03:36.463Z"
   },
   {
    "duration": 73,
    "start_time": "2022-06-10T11:03:36.482Z"
   },
   {
    "duration": 26,
    "start_time": "2022-06-10T11:03:36.557Z"
   },
   {
    "duration": 7,
    "start_time": "2022-06-10T11:03:36.585Z"
   },
   {
    "duration": 47,
    "start_time": "2022-06-10T11:03:36.594Z"
   },
   {
    "duration": 6,
    "start_time": "2022-06-10T11:03:36.643Z"
   },
   {
    "duration": 7,
    "start_time": "2022-06-10T11:03:36.650Z"
   },
   {
    "duration": 27,
    "start_time": "2022-06-10T11:03:36.658Z"
   },
   {
    "duration": 6,
    "start_time": "2022-06-10T11:03:36.686Z"
   },
   {
    "duration": 40,
    "start_time": "2022-06-10T11:03:36.693Z"
   },
   {
    "duration": 8,
    "start_time": "2022-06-10T11:03:36.734Z"
   },
   {
    "duration": 18,
    "start_time": "2022-06-10T11:03:36.744Z"
   },
   {
    "duration": 27,
    "start_time": "2022-06-10T11:03:36.763Z"
   },
   {
    "duration": 16,
    "start_time": "2022-06-10T11:03:36.792Z"
   },
   {
    "duration": 21,
    "start_time": "2022-06-10T11:03:36.809Z"
   },
   {
    "duration": 20,
    "start_time": "2022-06-10T11:03:36.831Z"
   },
   {
    "duration": 5,
    "start_time": "2022-06-10T11:03:36.852Z"
   },
   {
    "duration": 17,
    "start_time": "2022-06-10T11:03:36.858Z"
   },
   {
    "duration": 10,
    "start_time": "2022-06-10T11:03:36.879Z"
   },
   {
    "duration": 41,
    "start_time": "2022-06-10T11:03:36.890Z"
   },
   {
    "duration": 5,
    "start_time": "2022-06-10T11:03:36.932Z"
   },
   {
    "duration": 16,
    "start_time": "2022-06-10T11:03:36.938Z"
   },
   {
    "duration": 2,
    "start_time": "2022-06-10T11:03:36.956Z"
   },
   {
    "duration": 6,
    "start_time": "2022-06-10T11:03:36.959Z"
   },
   {
    "duration": 14,
    "start_time": "2022-06-10T11:03:36.966Z"
   },
   {
    "duration": 15,
    "start_time": "2022-06-10T11:03:36.982Z"
   },
   {
    "duration": 5617,
    "start_time": "2022-06-10T11:03:36.998Z"
   },
   {
    "duration": 21,
    "start_time": "2022-06-10T11:03:42.616Z"
   },
   {
    "duration": 11,
    "start_time": "2022-06-10T11:03:42.639Z"
   },
   {
    "duration": 51,
    "start_time": "2022-06-10T11:03:42.651Z"
   },
   {
    "duration": 68,
    "start_time": "2022-06-10T11:03:42.704Z"
   },
   {
    "duration": 22,
    "start_time": "2022-06-10T11:03:42.773Z"
   },
   {
    "duration": 149,
    "start_time": "2022-06-10T11:03:42.796Z"
   },
   {
    "duration": 142,
    "start_time": "2022-06-10T11:03:42.946Z"
   },
   {
    "duration": 141,
    "start_time": "2022-06-10T11:03:43.090Z"
   },
   {
    "duration": 136,
    "start_time": "2022-06-10T11:03:43.233Z"
   },
   {
    "duration": 23,
    "start_time": "2022-06-10T11:03:43.371Z"
   },
   {
    "duration": 140,
    "start_time": "2022-06-10T11:03:43.396Z"
   },
   {
    "duration": 120,
    "start_time": "2022-06-10T11:03:43.537Z"
   },
   {
    "duration": 126,
    "start_time": "2022-06-10T11:03:43.658Z"
   },
   {
    "duration": 154,
    "start_time": "2022-06-10T11:03:43.785Z"
   },
   {
    "duration": 8,
    "start_time": "2022-06-10T11:03:43.941Z"
   },
   {
    "duration": 19,
    "start_time": "2022-06-10T11:03:43.950Z"
   },
   {
    "duration": 28,
    "start_time": "2022-06-10T11:03:43.970Z"
   },
   {
    "duration": 32,
    "start_time": "2022-06-10T11:03:44.000Z"
   },
   {
    "duration": 151,
    "start_time": "2022-06-10T11:03:44.033Z"
   },
   {
    "duration": 6,
    "start_time": "2022-06-10T11:03:44.186Z"
   },
   {
    "duration": 34,
    "start_time": "2022-06-10T11:03:44.194Z"
   },
   {
    "duration": 13,
    "start_time": "2022-06-10T11:03:44.231Z"
   },
   {
    "duration": 18,
    "start_time": "2022-06-10T11:03:44.246Z"
   },
   {
    "duration": 25,
    "start_time": "2022-06-10T11:03:44.266Z"
   },
   {
    "duration": 10,
    "start_time": "2022-06-10T11:03:44.293Z"
   },
   {
    "duration": 72,
    "start_time": "2022-06-10T11:03:44.304Z"
   },
   {
    "duration": 48,
    "start_time": "2022-06-12T10:07:13.693Z"
   },
   {
    "duration": 1069,
    "start_time": "2022-06-12T10:07:19.733Z"
   },
   {
    "duration": 101,
    "start_time": "2022-06-12T10:07:20.804Z"
   },
   {
    "duration": 271,
    "start_time": "2022-06-12T10:07:20.906Z"
   },
   {
    "duration": 306,
    "start_time": "2022-06-12T10:07:21.181Z"
   },
   {
    "duration": 343,
    "start_time": "2022-06-12T10:07:21.489Z"
   },
   {
    "duration": 84,
    "start_time": "2022-06-12T10:07:21.834Z"
   },
   {
    "duration": 10,
    "start_time": "2022-06-12T10:07:21.919Z"
   },
   {
    "duration": 8,
    "start_time": "2022-06-12T10:07:21.931Z"
   },
   {
    "duration": 7,
    "start_time": "2022-06-12T10:07:21.941Z"
   },
   {
    "duration": 8,
    "start_time": "2022-06-12T10:07:21.950Z"
   },
   {
    "duration": 37,
    "start_time": "2022-06-12T10:07:21.959Z"
   },
   {
    "duration": 9,
    "start_time": "2022-06-12T10:07:21.997Z"
   },
   {
    "duration": 10,
    "start_time": "2022-06-12T10:07:22.008Z"
   },
   {
    "duration": 13,
    "start_time": "2022-06-12T10:07:22.019Z"
   },
   {
    "duration": 104,
    "start_time": "2022-06-12T10:07:22.033Z"
   },
   {
    "duration": 143,
    "start_time": "2022-06-12T10:07:22.139Z"
   },
   {
    "duration": 24,
    "start_time": "2022-06-12T10:07:22.284Z"
   },
   {
    "duration": 22,
    "start_time": "2022-06-12T10:07:22.310Z"
   },
   {
    "duration": 113,
    "start_time": "2022-06-12T10:07:22.334Z"
   },
   {
    "duration": 37,
    "start_time": "2022-06-12T10:07:22.448Z"
   },
   {
    "duration": 83,
    "start_time": "2022-06-12T10:07:22.487Z"
   },
   {
    "duration": 88,
    "start_time": "2022-06-12T10:07:22.572Z"
   },
   {
    "duration": 23,
    "start_time": "2022-06-12T10:07:22.662Z"
   },
   {
    "duration": 67,
    "start_time": "2022-06-12T10:07:22.687Z"
   },
   {
    "duration": 38,
    "start_time": "2022-06-12T10:07:22.756Z"
   },
   {
    "duration": 9,
    "start_time": "2022-06-12T10:07:22.795Z"
   },
   {
    "duration": 25,
    "start_time": "2022-06-12T10:07:22.805Z"
   },
   {
    "duration": 7,
    "start_time": "2022-06-12T10:07:22.835Z"
   },
   {
    "duration": 11,
    "start_time": "2022-06-12T10:07:22.864Z"
   },
   {
    "duration": 24,
    "start_time": "2022-06-12T10:07:22.879Z"
   },
   {
    "duration": 6,
    "start_time": "2022-06-12T10:07:22.905Z"
   },
   {
    "duration": 17,
    "start_time": "2022-06-12T10:07:22.913Z"
   },
   {
    "duration": 14,
    "start_time": "2022-06-12T10:07:22.932Z"
   },
   {
    "duration": 31,
    "start_time": "2022-06-12T10:07:22.948Z"
   },
   {
    "duration": 25,
    "start_time": "2022-06-12T10:07:22.981Z"
   },
   {
    "duration": 16,
    "start_time": "2022-06-12T10:07:23.008Z"
   },
   {
    "duration": 5,
    "start_time": "2022-06-12T10:07:23.026Z"
   },
   {
    "duration": 35,
    "start_time": "2022-06-12T10:07:23.032Z"
   },
   {
    "duration": 10,
    "start_time": "2022-06-12T10:07:23.068Z"
   },
   {
    "duration": 17,
    "start_time": "2022-06-12T10:07:23.079Z"
   },
   {
    "duration": 11,
    "start_time": "2022-06-12T10:07:23.098Z"
   },
   {
    "duration": 16,
    "start_time": "2022-06-12T10:07:23.110Z"
   },
   {
    "duration": 41,
    "start_time": "2022-06-12T10:07:23.128Z"
   },
   {
    "duration": 6,
    "start_time": "2022-06-12T10:07:23.171Z"
   },
   {
    "duration": 21,
    "start_time": "2022-06-12T10:07:23.179Z"
   },
   {
    "duration": 2,
    "start_time": "2022-06-12T10:07:23.202Z"
   },
   {
    "duration": 5,
    "start_time": "2022-06-12T10:07:23.206Z"
   },
   {
    "duration": 12,
    "start_time": "2022-06-12T10:07:23.212Z"
   },
   {
    "duration": 19,
    "start_time": "2022-06-12T10:07:23.226Z"
   },
   {
    "duration": 5704,
    "start_time": "2022-06-12T10:07:23.247Z"
   },
   {
    "duration": 26,
    "start_time": "2022-06-12T10:07:28.953Z"
   },
   {
    "duration": 33,
    "start_time": "2022-06-12T10:07:28.980Z"
   },
   {
    "duration": 85,
    "start_time": "2022-06-12T10:07:29.015Z"
   },
   {
    "duration": 72,
    "start_time": "2022-06-12T10:07:29.102Z"
   },
   {
    "duration": 29,
    "start_time": "2022-06-12T10:07:29.177Z"
   },
   {
    "duration": 169,
    "start_time": "2022-06-12T10:07:29.208Z"
   },
   {
    "duration": 146,
    "start_time": "2022-06-12T10:07:29.378Z"
   },
   {
    "duration": 173,
    "start_time": "2022-06-12T10:07:29.525Z"
   },
   {
    "duration": 175,
    "start_time": "2022-06-12T10:07:29.700Z"
   },
   {
    "duration": 28,
    "start_time": "2022-06-12T10:07:29.877Z"
   },
   {
    "duration": 138,
    "start_time": "2022-06-12T10:07:29.907Z"
   },
   {
    "duration": 142,
    "start_time": "2022-06-12T10:07:30.047Z"
   },
   {
    "duration": 150,
    "start_time": "2022-06-12T10:07:30.191Z"
   },
   {
    "duration": 164,
    "start_time": "2022-06-12T10:07:30.342Z"
   },
   {
    "duration": 11,
    "start_time": "2022-06-12T10:07:30.508Z"
   },
   {
    "duration": 25,
    "start_time": "2022-06-12T10:07:30.520Z"
   },
   {
    "duration": 66,
    "start_time": "2022-06-12T10:07:30.546Z"
   },
   {
    "duration": 16,
    "start_time": "2022-06-12T10:07:30.615Z"
   },
   {
    "duration": 165,
    "start_time": "2022-06-12T10:07:30.633Z"
   },
   {
    "duration": 4,
    "start_time": "2022-06-12T10:07:30.800Z"
   },
   {
    "duration": 47,
    "start_time": "2022-06-12T10:07:30.805Z"
   },
   {
    "duration": 62,
    "start_time": "2022-06-12T10:07:30.854Z"
   },
   {
    "duration": 22,
    "start_time": "2022-06-12T10:07:30.918Z"
   },
   {
    "duration": 57,
    "start_time": "2022-06-12T10:07:30.942Z"
   },
   {
    "duration": 30,
    "start_time": "2022-06-12T10:07:31.001Z"
   },
   {
    "duration": 103,
    "start_time": "2022-06-12T10:07:31.033Z"
   },
   {
    "duration": 2,
    "start_time": "2022-06-12T10:09:22.776Z"
   },
   {
    "duration": 3,
    "start_time": "2022-06-12T10:10:35.225Z"
   },
   {
    "duration": 8,
    "start_time": "2022-06-12T10:10:52.735Z"
   },
   {
    "duration": 22,
    "start_time": "2022-06-12T10:12:12.698Z"
   },
   {
    "duration": 51,
    "start_time": "2022-08-16T06:45:38.628Z"
   },
   {
    "duration": 1229,
    "start_time": "2022-08-16T06:45:45.126Z"
   },
   {
    "duration": 125,
    "start_time": "2022-08-16T06:45:46.357Z"
   },
   {
    "duration": 548,
    "start_time": "2022-08-16T06:45:46.484Z"
   },
   {
    "duration": 183,
    "start_time": "2022-08-16T06:45:47.035Z"
   },
   {
    "duration": 434,
    "start_time": "2022-08-16T06:45:47.219Z"
   },
   {
    "duration": 70,
    "start_time": "2022-08-16T06:45:47.655Z"
   },
   {
    "duration": 11,
    "start_time": "2022-08-16T06:45:47.727Z"
   },
   {
    "duration": 38,
    "start_time": "2022-08-16T06:45:47.740Z"
   },
   {
    "duration": 43,
    "start_time": "2022-08-16T06:45:47.780Z"
   },
   {
    "duration": 24,
    "start_time": "2022-08-16T06:45:47.826Z"
   },
   {
    "duration": 48,
    "start_time": "2022-08-16T06:45:47.852Z"
   },
   {
    "duration": 14,
    "start_time": "2022-08-16T06:45:47.903Z"
   },
   {
    "duration": 18,
    "start_time": "2022-08-16T06:45:47.919Z"
   },
   {
    "duration": 10,
    "start_time": "2022-08-16T06:45:47.940Z"
   },
   {
    "duration": 132,
    "start_time": "2022-08-16T06:45:47.951Z"
   },
   {
    "duration": 156,
    "start_time": "2022-08-16T06:45:48.085Z"
   },
   {
    "duration": 26,
    "start_time": "2022-08-16T06:45:48.244Z"
   },
   {
    "duration": 24,
    "start_time": "2022-08-16T06:45:48.293Z"
   },
   {
    "duration": 119,
    "start_time": "2022-08-16T06:45:48.319Z"
   },
   {
    "duration": 59,
    "start_time": "2022-08-16T06:45:48.441Z"
   },
   {
    "duration": 67,
    "start_time": "2022-08-16T06:45:48.502Z"
   },
   {
    "duration": 98,
    "start_time": "2022-08-16T06:45:48.571Z"
   },
   {
    "duration": 30,
    "start_time": "2022-08-16T06:45:48.670Z"
   },
   {
    "duration": 68,
    "start_time": "2022-08-16T06:45:48.702Z"
   },
   {
    "duration": 42,
    "start_time": "2022-08-16T06:45:48.792Z"
   },
   {
    "duration": 10,
    "start_time": "2022-08-16T06:45:48.837Z"
   },
   {
    "duration": 48,
    "start_time": "2022-08-16T06:45:48.849Z"
   },
   {
    "duration": 9,
    "start_time": "2022-08-16T06:45:48.901Z"
   },
   {
    "duration": 14,
    "start_time": "2022-08-16T06:45:48.911Z"
   },
   {
    "duration": 63,
    "start_time": "2022-08-16T06:45:48.927Z"
   },
   {
    "duration": 18,
    "start_time": "2022-08-16T06:45:48.992Z"
   },
   {
    "duration": 45,
    "start_time": "2022-08-16T06:45:49.012Z"
   },
   {
    "duration": 25,
    "start_time": "2022-08-16T06:45:49.059Z"
   },
   {
    "duration": 41,
    "start_time": "2022-08-16T06:45:49.086Z"
   },
   {
    "duration": 38,
    "start_time": "2022-08-16T06:45:49.130Z"
   },
   {
    "duration": 24,
    "start_time": "2022-08-16T06:45:49.170Z"
   },
   {
    "duration": 7,
    "start_time": "2022-08-16T06:45:49.196Z"
   },
   {
    "duration": 65,
    "start_time": "2022-08-16T06:45:49.205Z"
   },
   {
    "duration": 20,
    "start_time": "2022-08-16T06:45:49.272Z"
   },
   {
    "duration": 30,
    "start_time": "2022-08-16T06:45:49.295Z"
   },
   {
    "duration": 17,
    "start_time": "2022-08-16T06:45:49.327Z"
   },
   {
    "duration": 45,
    "start_time": "2022-08-16T06:45:49.346Z"
   },
   {
    "duration": 6,
    "start_time": "2022-08-16T06:45:49.394Z"
   },
   {
    "duration": 28,
    "start_time": "2022-08-16T06:45:49.402Z"
   },
   {
    "duration": 3,
    "start_time": "2022-08-16T06:45:49.432Z"
   },
   {
    "duration": 11,
    "start_time": "2022-08-16T06:45:49.436Z"
   },
   {
    "duration": 17,
    "start_time": "2022-08-16T06:45:49.450Z"
   },
   {
    "duration": 37,
    "start_time": "2022-08-16T06:45:49.469Z"
   },
   {
    "duration": 6429,
    "start_time": "2022-08-16T06:45:49.508Z"
   },
   {
    "duration": 15,
    "start_time": "2022-08-16T06:45:55.939Z"
   },
   {
    "duration": 37,
    "start_time": "2022-08-16T06:45:55.956Z"
   },
   {
    "duration": 64,
    "start_time": "2022-08-16T06:45:55.995Z"
   },
   {
    "duration": 83,
    "start_time": "2022-08-16T06:45:56.061Z"
   },
   {
    "duration": 52,
    "start_time": "2022-08-16T06:45:56.146Z"
   },
   {
    "duration": 186,
    "start_time": "2022-08-16T06:45:56.200Z"
   },
   {
    "duration": 180,
    "start_time": "2022-08-16T06:45:56.388Z"
   },
   {
    "duration": 183,
    "start_time": "2022-08-16T06:45:56.570Z"
   },
   {
    "duration": 187,
    "start_time": "2022-08-16T06:45:56.755Z"
   },
   {
    "duration": 28,
    "start_time": "2022-08-16T06:45:56.944Z"
   },
   {
    "duration": 154,
    "start_time": "2022-08-16T06:45:56.991Z"
   },
   {
    "duration": 151,
    "start_time": "2022-08-16T06:45:57.147Z"
   },
   {
    "duration": 161,
    "start_time": "2022-08-16T06:45:57.300Z"
   },
   {
    "duration": 196,
    "start_time": "2022-08-16T06:45:57.463Z"
   },
   {
    "duration": 11,
    "start_time": "2022-08-16T06:45:57.661Z"
   },
   {
    "duration": 20,
    "start_time": "2022-08-16T06:45:57.692Z"
   },
   {
    "duration": 40,
    "start_time": "2022-08-16T06:45:57.714Z"
   },
   {
    "duration": 41,
    "start_time": "2022-08-16T06:45:57.757Z"
   },
   {
    "duration": 203,
    "start_time": "2022-08-16T06:45:57.800Z"
   },
   {
    "duration": 4,
    "start_time": "2022-08-16T06:45:58.004Z"
   },
   {
    "duration": 35,
    "start_time": "2022-08-16T06:45:58.009Z"
   },
   {
    "duration": 17,
    "start_time": "2022-08-16T06:45:58.046Z"
   },
   {
    "duration": 6,
    "start_time": "2022-08-16T06:46:01.750Z"
   }
  ],
  "kernelspec": {
   "display_name": "Python 3 (ipykernel)",
   "language": "python",
   "name": "python3"
  },
  "language_info": {
   "codemirror_mode": {
    "name": "ipython",
    "version": 3
   },
   "file_extension": ".py",
   "mimetype": "text/x-python",
   "name": "python",
   "nbconvert_exporter": "python",
   "pygments_lexer": "ipython3",
   "version": "3.10.9"
  },
  "toc": {
   "base_numbering": 1,
   "nav_menu": {},
   "number_sections": true,
   "sideBar": true,
   "skip_h1_title": true,
   "title_cell": "Содержание",
   "title_sidebar": "Contents",
   "toc_cell": true,
   "toc_position": {
    "height": "calc(100% - 180px)",
    "left": "10px",
    "top": "150px",
    "width": "417.325px"
   },
   "toc_section_display": true,
   "toc_window_display": false
  }
 },
 "nbformat": 4,
 "nbformat_minor": 2
}
