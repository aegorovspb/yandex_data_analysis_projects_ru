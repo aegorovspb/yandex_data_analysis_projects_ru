{
 "cells": [
  {
   "cell_type": "markdown",
   "metadata": {},
   "source": [
    "**Проект \"Кафе \"ROBOTS\" в Москве\". Исследование рынка общественного питания Москве.**\n",
    "\n",
    "Нам необходимо подготовить исследование рынка кафе в Москве. У нас есть открытые данные о заведениях общественного питания в Москве.\n",
    "\n",
    "**Главная цель проекта** - оценить рынок общественного питания в Москве и дать оценку долгосрочной перспективы открытияю нового кафе в котором посетителей будут обслуживать роботы.\n"
   ]
  },
  {
   "cell_type": "markdown",
   "metadata": {},
   "source": [
    "**Структура проекта:**\n",
    "    \n",
    "<a href='#1'><h5>1. Загрузка данных </a>\n",
    "<a href='#2'><h5>2. Анализ данных </a>\n",
    "<a href='#3'><h5>3. Выводы и рекомендации </a>"
   ]
  },
  {
   "cell_type": "markdown",
   "metadata": {},
   "source": [
    "\n",
    "**Шаг №1. Загрузите данные и подготовьте их к анализу**\n",
    "\n",
    "Загрузите данные о заведениях общественного питания Москвы. Убедитесь, что тип данных в каждой колонке — правильный, а также отсутствуют пропущенные значения и дубликаты. При необходимости обработайте их.\n",
    "Путь к файлу: /datasets/rest_data.csv. Скачать датасет\n",
    "\n",
    "**Шаг №2. Анализ данных**\n",
    "\n",
    "- Исследуйте соотношение видов объектов общественного питания по количеству. Постройте график.\n",
    "- Исследуйте соотношение сетевых и несетевых заведений по количеству. Постройте график.\n",
    "- Для какого вида объекта общественного питания характерно сетевое распространение?\n",
    "- Что характерно для сетевых заведений: много заведений с небольшим числом посадочных мест в каждом или мало заведений с большим количеством посадочных мест?\n",
    "- Для каждого вида объекта общественного питания опишите среднее количество посадочных мест. Какой вид предоставляет в среднем самое большое количество посадочных мест? Постройте графики.\n",
    "- Выделите в отдельный столбец информацию об улице из столбца address .\n",
    "- Постройте график топ-10 улиц по количеству объектов общественного питания. Воспользуйтесь внешней информацией и ответьте на вопрос — в каких районах Москвы находятся эти улицы?\n",
    "- Найдите число улиц с одним объектом общественного питания. Воспользуйтесь внешней информацией и ответьте на вопрос — в каких районах Москвы находятся эти улицы?\n",
    "\n",
    "**Шаг №3. Выводы и рекомендации**\n",
    "\n",
    "- Сделайте общий вывод и дайте рекомендации о виде заведения, количестве посадочных мест, а также районе расположения.     \n",
    "- Прокомментируйте возможность развития сети."
   ]
  },
  {
   "cell_type": "markdown",
   "metadata": {},
   "source": [
    "### Загрузка данных <a id='1'></a>"
   ]
  },
  {
   "cell_type": "code",
   "execution_count": 1,
   "metadata": {},
   "outputs": [],
   "source": [
    "# загрузка библиотек\n",
    "\n",
    "import pandas as pd\n",
    "import datetime as dt\n",
    "import numpy as np\n",
    "import matplotlib.pyplot as plt\n",
    "from pandas.plotting import register_matplotlib_converters\n",
    "import warnings\n",
    "import scipy.stats as stats\n",
    "import seaborn as sns\n",
    "# добавляем стиль\n",
    "sns.set_style('whitegrid')\n",
    "from numpy import median\n",
    "# конвертеры, которые позволяют использовать типы pandas в matplotlib \n",
    "register_matplotlib_converters()"
   ]
  },
  {
   "cell_type": "code",
   "execution_count": 2,
   "metadata": {},
   "outputs": [
    {
     "name": "stdout",
     "output_type": "stream",
     "text": [
      "File name: rest_data.csv\n",
      "rest_data.csv has been downloaded from the server\n"
     ]
    }
   ],
   "source": [
    "# получение названия файла БД при загрузке\n",
    "import os\n",
    "\n",
    "# загрузка БД с сервера или ПК\n",
    "# attempt_1 - путь и название файла для загрузки с сервера\n",
    "# attempt_2 - путь и название файла для загрузки с ПК\n",
    "\n",
    "attempt_1 ='https://code.s3.yandex.net/datasets/rest_data.csv'\n",
    "attempt_2 ='C://yandex_data_sets/07_rest_data.csv'\n",
    "\n",
    "# берем название файла из указанного пути\n",
    "name_os_data = os.path.basename(attempt_1)\n",
    "print('File name:',name_os_data)\n",
    "\n",
    "# обработка ошибок при загрузке\n",
    "# функция загрузки данных\n",
    "def loading_data(attempt_df_1, attempt_df_2):\n",
    "    \n",
    "    # обработка ошибки при загрузке с сервера\n",
    "    try:\n",
    "        df = pd.read_csv(attempt_df_1) # , sep='\\t'\n",
    "        print(name_os_data, 'has been downloaded from the server')\n",
    "    except IOError:\n",
    "        print('HTTP Error 404: File Not Found')\n",
    "        \n",
    "        # обработка ошибки при загрузке с локального диска\n",
    "        try:\n",
    "            df = pd.read_csv(attempt_df_2)\n",
    "            print(name_os_data, 'has been downloaded from the local host')\n",
    "        except IOError:\n",
    "            print('Local Error: File Not Found')\n",
    "    return df\n",
    "\n",
    "df = loading_data(attempt_1, attempt_2)\n"
   ]
  },
  {
   "cell_type": "code",
   "execution_count": 3,
   "metadata": {},
   "outputs": [
    {
     "name": "stdout",
     "output_type": "stream",
     "text": [
      "<class 'pandas.core.frame.DataFrame'>\n",
      "RangeIndex: 15366 entries, 0 to 15365\n",
      "Data columns (total 6 columns):\n",
      " #   Column       Non-Null Count  Dtype \n",
      "---  ------       --------------  ----- \n",
      " 0   id           15366 non-null  int64 \n",
      " 1   object_name  15366 non-null  object\n",
      " 2   chain        15366 non-null  object\n",
      " 3   object_type  15366 non-null  object\n",
      " 4   address      15366 non-null  object\n",
      " 5   number       15366 non-null  int64 \n",
      "dtypes: int64(2), object(4)\n",
      "memory usage: 720.4+ KB\n"
     ]
    },
    {
     "data": {
      "text/html": [
       "<div>\n",
       "<style scoped>\n",
       "    .dataframe tbody tr th:only-of-type {\n",
       "        vertical-align: middle;\n",
       "    }\n",
       "\n",
       "    .dataframe tbody tr th {\n",
       "        vertical-align: top;\n",
       "    }\n",
       "\n",
       "    .dataframe thead th {\n",
       "        text-align: right;\n",
       "    }\n",
       "</style>\n",
       "<table border=\"1\" class=\"dataframe\">\n",
       "  <thead>\n",
       "    <tr style=\"text-align: right;\">\n",
       "      <th></th>\n",
       "      <th>id</th>\n",
       "      <th>object_name</th>\n",
       "      <th>chain</th>\n",
       "      <th>object_type</th>\n",
       "      <th>address</th>\n",
       "      <th>number</th>\n",
       "    </tr>\n",
       "  </thead>\n",
       "  <tbody>\n",
       "    <tr>\n",
       "      <th>0</th>\n",
       "      <td>151635</td>\n",
       "      <td>СМЕТАНА</td>\n",
       "      <td>нет</td>\n",
       "      <td>кафе</td>\n",
       "      <td>город Москва, улица Егора Абакумова, дом 9</td>\n",
       "      <td>48</td>\n",
       "    </tr>\n",
       "    <tr>\n",
       "      <th>1</th>\n",
       "      <td>77874</td>\n",
       "      <td>Родник</td>\n",
       "      <td>нет</td>\n",
       "      <td>кафе</td>\n",
       "      <td>город Москва, улица Талалихина, дом 2/1, корпус 1</td>\n",
       "      <td>35</td>\n",
       "    </tr>\n",
       "    <tr>\n",
       "      <th>2</th>\n",
       "      <td>24309</td>\n",
       "      <td>Кафе «Академия»</td>\n",
       "      <td>нет</td>\n",
       "      <td>кафе</td>\n",
       "      <td>город Москва, Абельмановская улица, дом 6</td>\n",
       "      <td>95</td>\n",
       "    </tr>\n",
       "  </tbody>\n",
       "</table>\n",
       "</div>"
      ],
      "text/plain": [
       "       id      object_name chain object_type  \\\n",
       "0  151635          СМЕТАНА   нет        кафе   \n",
       "1   77874           Родник   нет        кафе   \n",
       "2   24309  Кафе «Академия»   нет        кафе   \n",
       "\n",
       "                                             address  number  \n",
       "0         город Москва, улица Егора Абакумова, дом 9      48  \n",
       "1  город Москва, улица Талалихина, дом 2/1, корпус 1      35  \n",
       "2          город Москва, Абельмановская улица, дом 6      95  "
      ]
     },
     "metadata": {},
     "output_type": "display_data"
    }
   ],
   "source": [
    "df.info()\n",
    "display(df.head(3))"
   ]
  },
  {
   "cell_type": "markdown",
   "metadata": {},
   "source": [
    "Проверим явные дубликаты"
   ]
  },
  {
   "cell_type": "code",
   "execution_count": 4,
   "metadata": {},
   "outputs": [
    {
     "name": "stdout",
     "output_type": "stream",
     "text": [
      "Явные дубликаты orders 0\n"
     ]
    }
   ],
   "source": [
    "print('Явные дубликаты orders', df.duplicated().sum())"
   ]
  },
  {
   "cell_type": "markdown",
   "metadata": {},
   "source": [
    "Проверим не явные дубликаты"
   ]
  },
  {
   "cell_type": "code",
   "execution_count": 5,
   "metadata": {},
   "outputs": [
    {
     "name": "stdout",
     "output_type": "stream",
     "text": [
      "Не явные дубликаты orders 207\n"
     ]
    }
   ],
   "source": [
    "print('Не явные дубликаты orders', df.duplicated(subset = ['object_name', 'address']).sum())"
   ]
  },
  {
   "cell_type": "code",
   "execution_count": 6,
   "metadata": {},
   "outputs": [
    {
     "data": {
      "text/html": [
       "<div>\n",
       "<style scoped>\n",
       "    .dataframe tbody tr th:only-of-type {\n",
       "        vertical-align: middle;\n",
       "    }\n",
       "\n",
       "    .dataframe tbody tr th {\n",
       "        vertical-align: top;\n",
       "    }\n",
       "\n",
       "    .dataframe thead th {\n",
       "        text-align: right;\n",
       "    }\n",
       "</style>\n",
       "<table border=\"1\" class=\"dataframe\">\n",
       "  <thead>\n",
       "    <tr style=\"text-align: right;\">\n",
       "      <th></th>\n",
       "      <th>id</th>\n",
       "      <th>object_name</th>\n",
       "      <th>chain</th>\n",
       "      <th>object_type</th>\n",
       "      <th>address</th>\n",
       "      <th>number</th>\n",
       "    </tr>\n",
       "  </thead>\n",
       "  <tbody>\n",
       "    <tr>\n",
       "      <th>114</th>\n",
       "      <td>28613</td>\n",
       "      <td>КОМБИНАТ ПИТАНИЯ МГТУ ИМ.Н.Э.БАУМАНА</td>\n",
       "      <td>нет</td>\n",
       "      <td>закусочная</td>\n",
       "      <td>город Москва, Бригадирский переулок, дом 3-5</td>\n",
       "      <td>216</td>\n",
       "    </tr>\n",
       "    <tr>\n",
       "      <th>115</th>\n",
       "      <td>28614</td>\n",
       "      <td>КОМБИНАТ ПИТАНИЯ МГТУ ИМ.Н.Э.БАУМАНА</td>\n",
       "      <td>нет</td>\n",
       "      <td>буфет</td>\n",
       "      <td>город Москва, Бригадирский переулок, дом 3-5</td>\n",
       "      <td>12</td>\n",
       "    </tr>\n",
       "    <tr>\n",
       "      <th>579</th>\n",
       "      <td>149227</td>\n",
       "      <td>Общественное питание</td>\n",
       "      <td>нет</td>\n",
       "      <td>столовая</td>\n",
       "      <td>город Москва, Павелецкая площадь, дом 1</td>\n",
       "      <td>70</td>\n",
       "    </tr>\n",
       "    <tr>\n",
       "      <th>580</th>\n",
       "      <td>149205</td>\n",
       "      <td>Общественное питание</td>\n",
       "      <td>нет</td>\n",
       "      <td>кафе</td>\n",
       "      <td>город Москва, Павелецкая площадь, дом 1</td>\n",
       "      <td>35</td>\n",
       "    </tr>\n",
       "    <tr>\n",
       "      <th>581</th>\n",
       "      <td>149131</td>\n",
       "      <td>Общественное питание</td>\n",
       "      <td>нет</td>\n",
       "      <td>кафе</td>\n",
       "      <td>город Москва, Павелецкая площадь, дом 1</td>\n",
       "      <td>39</td>\n",
       "    </tr>\n",
       "    <tr>\n",
       "      <th>...</th>\n",
       "      <td>...</td>\n",
       "      <td>...</td>\n",
       "      <td>...</td>\n",
       "      <td>...</td>\n",
       "      <td>...</td>\n",
       "      <td>...</td>\n",
       "    </tr>\n",
       "    <tr>\n",
       "      <th>15217</th>\n",
       "      <td>214146</td>\n",
       "      <td>Макдоналдс</td>\n",
       "      <td>да</td>\n",
       "      <td>предприятие быстрого обслуживания</td>\n",
       "      <td>город Москва, Кировоградская улица, дом 13А</td>\n",
       "      <td>0</td>\n",
       "    </tr>\n",
       "    <tr>\n",
       "      <th>15241</th>\n",
       "      <td>210885</td>\n",
       "      <td>KFC</td>\n",
       "      <td>да</td>\n",
       "      <td>предприятие быстрого обслуживания</td>\n",
       "      <td>город Москва, Манежная площадь, дом 1, строение 2</td>\n",
       "      <td>41</td>\n",
       "    </tr>\n",
       "    <tr>\n",
       "      <th>15253</th>\n",
       "      <td>214872</td>\n",
       "      <td>Чайхона №1</td>\n",
       "      <td>да</td>\n",
       "      <td>кафе</td>\n",
       "      <td>город Москва, Кутузовский проспект, дом 57</td>\n",
       "      <td>0</td>\n",
       "    </tr>\n",
       "    <tr>\n",
       "      <th>15363</th>\n",
       "      <td>209186</td>\n",
       "      <td>Шоколадница</td>\n",
       "      <td>да</td>\n",
       "      <td>кафе</td>\n",
       "      <td>город Москва, улица Земляной Вал, дом 33</td>\n",
       "      <td>20</td>\n",
       "    </tr>\n",
       "    <tr>\n",
       "      <th>15365</th>\n",
       "      <td>222535</td>\n",
       "      <td>Шоколадница</td>\n",
       "      <td>да</td>\n",
       "      <td>кафе</td>\n",
       "      <td>город Москва, Ходынский бульвар, дом 4</td>\n",
       "      <td>10</td>\n",
       "    </tr>\n",
       "  </tbody>\n",
       "</table>\n",
       "<p>207 rows × 6 columns</p>\n",
       "</div>"
      ],
      "text/plain": [
       "           id                           object_name chain  \\\n",
       "114     28613  КОМБИНАТ ПИТАНИЯ МГТУ ИМ.Н.Э.БАУМАНА   нет   \n",
       "115     28614  КОМБИНАТ ПИТАНИЯ МГТУ ИМ.Н.Э.БАУМАНА   нет   \n",
       "579    149227                  Общественное питание   нет   \n",
       "580    149205                  Общественное питание   нет   \n",
       "581    149131                  Общественное питание   нет   \n",
       "...       ...                                   ...   ...   \n",
       "15217  214146                            Макдоналдс    да   \n",
       "15241  210885                                   KFC    да   \n",
       "15253  214872                            Чайхона №1    да   \n",
       "15363  209186                           Шоколадница    да   \n",
       "15365  222535                           Шоколадница    да   \n",
       "\n",
       "                             object_type  \\\n",
       "114                           закусочная   \n",
       "115                                буфет   \n",
       "579                             столовая   \n",
       "580                                 кафе   \n",
       "581                                 кафе   \n",
       "...                                  ...   \n",
       "15217  предприятие быстрого обслуживания   \n",
       "15241  предприятие быстрого обслуживания   \n",
       "15253                               кафе   \n",
       "15363                               кафе   \n",
       "15365                               кафе   \n",
       "\n",
       "                                                 address  number  \n",
       "114         город Москва, Бригадирский переулок, дом 3-5     216  \n",
       "115         город Москва, Бригадирский переулок, дом 3-5      12  \n",
       "579              город Москва, Павелецкая площадь, дом 1      70  \n",
       "580              город Москва, Павелецкая площадь, дом 1      35  \n",
       "581              город Москва, Павелецкая площадь, дом 1      39  \n",
       "...                                                  ...     ...  \n",
       "15217        город Москва, Кировоградская улица, дом 13А       0  \n",
       "15241  город Москва, Манежная площадь, дом 1, строение 2      41  \n",
       "15253         город Москва, Кутузовский проспект, дом 57       0  \n",
       "15363           город Москва, улица Земляной Вал, дом 33      20  \n",
       "15365             город Москва, Ходынский бульвар, дом 4      10  \n",
       "\n",
       "[207 rows x 6 columns]"
      ]
     },
     "metadata": {},
     "output_type": "display_data"
    }
   ],
   "source": [
    "duplicated_list = df.duplicated(subset = ['object_name', 'address']).values.tolist()\n",
    "display(df[duplicated_list])"
   ]
  },
  {
   "cell_type": "markdown",
   "metadata": {},
   "source": [
    "Исходя из представленной выборки, можно сделать вывод что в действительности не все дубликаты действительно ими являются, и их определение требует отдельной специальной проверки, но т.к. их 207 т.е. меньше 1,34% они не смогут повлиять на результаты исследования."
   ]
  },
  {
   "cell_type": "markdown",
   "metadata": {},
   "source": [
    "Из представленной выборки видно, что некоторые названия групп слишком длинные, это помешает при отображении графиков. Сократим названия групп для вывода графиков"
   ]
  },
  {
   "cell_type": "code",
   "execution_count": 7,
   "metadata": {},
   "outputs": [],
   "source": [
    "df['object_type'] = df['object_type'].str.replace('предприятие быстрого обслуживания', 'фаст-фуд', regex=False)\n",
    "df['object_type'] = df['object_type'].str.replace('магазин \\(отдел кулинарии\\)', 'кулинария', regex=False)\n"
   ]
  },
  {
   "cell_type": "markdown",
   "metadata": {},
   "source": [
    "Выводы по предобработке данных"
   ]
  },
  {
   "cell_type": "markdown",
   "metadata": {},
   "source": [
    "- дубликаты проверены\n",
    "- названия заголовков корректны\n",
    "- типы данных соответсвуют заявленным"
   ]
  },
  {
   "cell_type": "markdown",
   "metadata": {},
   "source": [
    "### Анализ данных <a id='2'></a>"
   ]
  },
  {
   "cell_type": "markdown",
   "metadata": {},
   "source": [
    "### Cоотношение видов объектов общественного питания по количеству"
   ]
  },
  {
   "cell_type": "code",
   "execution_count": 8,
   "metadata": {},
   "outputs": [
    {
     "data": {
      "text/plain": [
       "object_type\n",
       "бар                           856\n",
       "буфет                         585\n",
       "закусочная                    360\n",
       "кафе                         6099\n",
       "кафетерий                     398\n",
       "магазин (отдел кулинарии)     273\n",
       "ресторан                     2285\n",
       "столовая                     2587\n",
       "фаст-фуд                     1923\n",
       "Name: id, dtype: int64"
      ]
     },
     "metadata": {},
     "output_type": "display_data"
    }
   ],
   "source": [
    "# рассмотрим список типов заведений\n",
    "\n",
    "display(df.groupby(by='object_type')['id'].count())"
   ]
  },
  {
   "cell_type": "code",
   "execution_count": 9,
   "metadata": {},
   "outputs": [
    {
     "data": {
      "image/png": "[encoded data removed]",
      "text/plain": [
       "<Figure size 1400x700 with 1 Axes>"
      ]
     },
     "metadata": {},
     "output_type": "display_data"
    }
   ],
   "source": [
    "# построим график видов объектов общественного питания\n",
    "\n",
    "count_plae = df.groupby('object_type').count().reset_index()\n",
    "ax = count_plae[['object_type', 'number']].set_index('object_type').sort_values('number', ascending=True).plot(kind='bar', figsize=(14, 7))\n",
    "ax.set_xlabel('Кол-во мест')\n",
    "ax.set_ylabel('Тип объекта')\n",
    "ax.set_title('Виды объектов общественного питания')\n",
    "\n",
    "plt.xticks(rotation=45)\n",
    "\n",
    "plt.show()"
   ]
  },
  {
   "cell_type": "markdown",
   "metadata": {},
   "source": [
    "Из графика хорошо видно, что самый распространенный тип заведения - кафе, 6099шт."
   ]
  },
  {
   "cell_type": "markdown",
   "metadata": {},
   "source": [
    "### Cоотношение сетевых и несетевых заведений по количеству"
   ]
  },
  {
   "cell_type": "code",
   "execution_count": 10,
   "metadata": {},
   "outputs": [
    {
     "data": {
      "text/plain": [
       "chain\n",
       "да      2968\n",
       "нет    12398\n",
       "Name: id, dtype: int64"
      ]
     },
     "metadata": {},
     "output_type": "display_data"
    }
   ],
   "source": [
    "# рассмотрим соотношение типов заведений\n",
    "\n",
    "display(df.groupby(by='chain')['id'].count())"
   ]
  },
  {
   "cell_type": "code",
   "execution_count": 11,
   "metadata": {
    "scrolled": false
   },
   "outputs": [
    {
     "data": {
      "image/png": "[encoded data removed]",
      "text/plain": [
       "<Figure size 1100x900 with 1 Axes>"
      ]
     },
     "metadata": {},
     "output_type": "display_data"
    }
   ],
   "source": [
    "ax = df.groupby(by='chain')['id'].count().plot(y='chain', kind='pie', autopct='%1.0f%%', figsize=(11, 9))\n",
    "ax.set_title('Cоотношение сетевых и несетевых заведений по количеству');"
   ]
  },
  {
   "cell_type": "markdown",
   "metadata": {},
   "source": [
    "#### Выводы: сетевые и несетевые рестораны"
   ]
  },
  {
   "cell_type": "markdown",
   "metadata": {},
   "source": [
    "Из графика видно, что сетевых кафе 19%"
   ]
  },
  {
   "cell_type": "markdown",
   "metadata": {},
   "source": [
    "### Для какого вида объекта общественного питания характерно сетевое распространение?"
   ]
  },
  {
   "cell_type": "code",
   "execution_count": 12,
   "metadata": {},
   "outputs": [
    {
     "data": {
      "text/html": [
       "<div>\n",
       "<style scoped>\n",
       "    .dataframe tbody tr th:only-of-type {\n",
       "        vertical-align: middle;\n",
       "    }\n",
       "\n",
       "    .dataframe tbody tr th {\n",
       "        vertical-align: top;\n",
       "    }\n",
       "\n",
       "    .dataframe thead th {\n",
       "        text-align: right;\n",
       "    }\n",
       "</style>\n",
       "<table border=\"1\" class=\"dataframe\">\n",
       "  <thead>\n",
       "    <tr style=\"text-align: right;\">\n",
       "      <th>chain</th>\n",
       "      <th>да</th>\n",
       "      <th>нет</th>\n",
       "    </tr>\n",
       "    <tr>\n",
       "      <th>object_type</th>\n",
       "      <th></th>\n",
       "      <th></th>\n",
       "    </tr>\n",
       "  </thead>\n",
       "  <tbody>\n",
       "    <tr>\n",
       "      <th>бар</th>\n",
       "      <td>37</td>\n",
       "      <td>819</td>\n",
       "    </tr>\n",
       "    <tr>\n",
       "      <th>буфет</th>\n",
       "      <td>11</td>\n",
       "      <td>574</td>\n",
       "    </tr>\n",
       "    <tr>\n",
       "      <th>закусочная</th>\n",
       "      <td>56</td>\n",
       "      <td>304</td>\n",
       "    </tr>\n",
       "    <tr>\n",
       "      <th>кафе</th>\n",
       "      <td>1396</td>\n",
       "      <td>4703</td>\n",
       "    </tr>\n",
       "    <tr>\n",
       "      <th>кафетерий</th>\n",
       "      <td>52</td>\n",
       "      <td>346</td>\n",
       "    </tr>\n",
       "    <tr>\n",
       "      <th>магазин (отдел кулинарии)</th>\n",
       "      <td>78</td>\n",
       "      <td>195</td>\n",
       "    </tr>\n",
       "    <tr>\n",
       "      <th>ресторан</th>\n",
       "      <td>544</td>\n",
       "      <td>1741</td>\n",
       "    </tr>\n",
       "    <tr>\n",
       "      <th>столовая</th>\n",
       "      <td>3</td>\n",
       "      <td>2584</td>\n",
       "    </tr>\n",
       "    <tr>\n",
       "      <th>фаст-фуд</th>\n",
       "      <td>791</td>\n",
       "      <td>1132</td>\n",
       "    </tr>\n",
       "  </tbody>\n",
       "</table>\n",
       "</div>"
      ],
      "text/plain": [
       "chain                        да   нет\n",
       "object_type                          \n",
       "бар                          37   819\n",
       "буфет                        11   574\n",
       "закусочная                   56   304\n",
       "кафе                       1396  4703\n",
       "кафетерий                    52   346\n",
       "магазин (отдел кулинарии)    78   195\n",
       "ресторан                    544  1741\n",
       "столовая                      3  2584\n",
       "фаст-фуд                    791  1132"
      ]
     },
     "metadata": {},
     "output_type": "display_data"
    }
   ],
   "source": [
    "# создадим сводную таблицу\n",
    "# со значениями: тип объекта, количество по id, сетевой да/нет\n",
    "object_pivot = df.pivot_table(index='object_type', values='id', columns='chain', aggfunc='count')\n",
    "\n",
    "display(object_pivot)"
   ]
  },
  {
   "cell_type": "code",
   "execution_count": 13,
   "metadata": {},
   "outputs": [
    {
     "data": {
      "image/png": "[encoded data removed]",
      "text/plain": [
       "<Figure size 1300x700 with 1 Axes>"
      ]
     },
     "metadata": {},
     "output_type": "display_data"
    }
   ],
   "source": [
    "\n",
    "fig, ax = plt.subplots(figsize=[13,7])\n",
    "object_pivot.plot(kind = 'bar', ax=ax)\n",
    "plt.title('Распределение сетевых заведений по типу объекта',fontsize=16)\n",
    "plt.xticks(fontsize=12, rotation=45)\n",
    "plt.yticks(fontsize=12)\n",
    "plt.xlabel('Да - сетевые. Нет - не сетевые.',fontsize=10)\n",
    "plt.legend(fontsize ='large');\n",
    "\n",
    "#print(object_type_x_chain)"
   ]
  },
  {
   "cell_type": "markdown",
   "metadata": {},
   "source": [
    "#### Выводы: по сетевым типам объектов"
   ]
  },
  {
   "cell_type": "markdown",
   "metadata": {},
   "source": [
    "- Больше всего к сетевому типу объектов относится кафе, следом идет фаст-фуд.\n",
    "- Соотношение сетевой/несетевой объект исходя из графика меньше всего у \"фаст-фуд\", т.е. именно для фаст-фуда характерен сетевой тип."
   ]
  },
  {
   "cell_type": "markdown",
   "metadata": {},
   "source": [
    "### Что характерно для сетевых заведений"
   ]
  },
  {
   "cell_type": "code",
   "execution_count": 14,
   "metadata": {},
   "outputs": [
    {
     "data": {
      "text/html": [
       "<div>\n",
       "<style scoped>\n",
       "    .dataframe tbody tr th:only-of-type {\n",
       "        vertical-align: middle;\n",
       "    }\n",
       "\n",
       "    .dataframe tbody tr th {\n",
       "        vertical-align: top;\n",
       "    }\n",
       "\n",
       "    .dataframe thead th {\n",
       "        text-align: right;\n",
       "    }\n",
       "</style>\n",
       "<table border=\"1\" class=\"dataframe\">\n",
       "  <thead>\n",
       "    <tr style=\"text-align: right;\">\n",
       "      <th></th>\n",
       "      <th>id</th>\n",
       "      <th>object_name</th>\n",
       "      <th>chain</th>\n",
       "      <th>object_type</th>\n",
       "      <th>address</th>\n",
       "      <th>number</th>\n",
       "    </tr>\n",
       "  </thead>\n",
       "  <tbody>\n",
       "    <tr>\n",
       "      <th>3</th>\n",
       "      <td>21894</td>\n",
       "      <td>ПИЦЦЕТОРИЯ</td>\n",
       "      <td>да</td>\n",
       "      <td>кафе</td>\n",
       "      <td>город Москва, Абрамцевская улица, дом 1</td>\n",
       "      <td>40</td>\n",
       "    </tr>\n",
       "    <tr>\n",
       "      <th>6</th>\n",
       "      <td>148815</td>\n",
       "      <td>Брусника</td>\n",
       "      <td>да</td>\n",
       "      <td>кафе</td>\n",
       "      <td>город Москва, переулок Сивцев Вражек, дом 6/2</td>\n",
       "      <td>10</td>\n",
       "    </tr>\n",
       "    <tr>\n",
       "      <th>13</th>\n",
       "      <td>22579</td>\n",
       "      <td>Алло Пицца</td>\n",
       "      <td>да</td>\n",
       "      <td>кафе</td>\n",
       "      <td>город Москва, улица Авиаторов, дом 14</td>\n",
       "      <td>32</td>\n",
       "    </tr>\n",
       "    <tr>\n",
       "      <th>16</th>\n",
       "      <td>144107</td>\n",
       "      <td>Суши Wok</td>\n",
       "      <td>да</td>\n",
       "      <td>фаст-фуд</td>\n",
       "      <td>город Москва, Азовская улица, дом 3</td>\n",
       "      <td>7</td>\n",
       "    </tr>\n",
       "    <tr>\n",
       "      <th>18</th>\n",
       "      <td>58565</td>\n",
       "      <td>Тануки</td>\n",
       "      <td>да</td>\n",
       "      <td>ресторан</td>\n",
       "      <td>город Москва, Большая Академическая улица, дом 65</td>\n",
       "      <td>160</td>\n",
       "    </tr>\n",
       "  </tbody>\n",
       "</table>\n",
       "</div>"
      ],
      "text/plain": [
       "        id object_name chain object_type  \\\n",
       "3    21894  ПИЦЦЕТОРИЯ    да        кафе   \n",
       "6   148815    Брусника    да        кафе   \n",
       "13   22579  Алло Пицца    да        кафе   \n",
       "16  144107    Суши Wok    да    фаст-фуд   \n",
       "18   58565      Тануки    да    ресторан   \n",
       "\n",
       "                                              address  number  \n",
       "3             город Москва, Абрамцевская улица, дом 1      40  \n",
       "6       город Москва, переулок Сивцев Вражек, дом 6/2      10  \n",
       "13              город Москва, улица Авиаторов, дом 14      32  \n",
       "16                город Москва, Азовская улица, дом 3       7  \n",
       "18  город Москва, Большая Академическая улица, дом 65     160  "
      ]
     },
     "metadata": {},
     "output_type": "display_data"
    }
   ],
   "source": [
    "chain_cafe = df[df['chain'].isin(['да'])]\n",
    "display(chain_cafe.head())"
   ]
  },
  {
   "cell_type": "code",
   "execution_count": 15,
   "metadata": {},
   "outputs": [
    {
     "data": {
      "text/html": [
       "<div>\n",
       "<style scoped>\n",
       "    .dataframe tbody tr th:only-of-type {\n",
       "        vertical-align: middle;\n",
       "    }\n",
       "\n",
       "    .dataframe tbody tr th {\n",
       "        vertical-align: top;\n",
       "    }\n",
       "\n",
       "    .dataframe thead th {\n",
       "        text-align: right;\n",
       "    }\n",
       "</style>\n",
       "<table border=\"1\" class=\"dataframe\">\n",
       "  <thead>\n",
       "    <tr style=\"text-align: right;\">\n",
       "      <th></th>\n",
       "      <th>id</th>\n",
       "      <th>number</th>\n",
       "    </tr>\n",
       "  </thead>\n",
       "  <tbody>\n",
       "    <tr>\n",
       "      <th>count</th>\n",
       "      <td>2968.000000</td>\n",
       "      <td>2968.000000</td>\n",
       "    </tr>\n",
       "    <tr>\n",
       "      <th>mean</th>\n",
       "      <td>118193.376348</td>\n",
       "      <td>52.919811</td>\n",
       "    </tr>\n",
       "    <tr>\n",
       "      <th>std</th>\n",
       "      <td>67537.024490</td>\n",
       "      <td>57.140644</td>\n",
       "    </tr>\n",
       "    <tr>\n",
       "      <th>min</th>\n",
       "      <td>838.000000</td>\n",
       "      <td>0.000000</td>\n",
       "    </tr>\n",
       "    <tr>\n",
       "      <th>25%</th>\n",
       "      <td>59214.250000</td>\n",
       "      <td>15.000000</td>\n",
       "    </tr>\n",
       "    <tr>\n",
       "      <th>50%</th>\n",
       "      <td>129973.500000</td>\n",
       "      <td>40.000000</td>\n",
       "    </tr>\n",
       "    <tr>\n",
       "      <th>75%</th>\n",
       "      <td>176827.750000</td>\n",
       "      <td>72.000000</td>\n",
       "    </tr>\n",
       "    <tr>\n",
       "      <th>max</th>\n",
       "      <td>223318.000000</td>\n",
       "      <td>580.000000</td>\n",
       "    </tr>\n",
       "  </tbody>\n",
       "</table>\n",
       "</div>"
      ],
      "text/plain": [
       "                  id       number\n",
       "count    2968.000000  2968.000000\n",
       "mean   118193.376348    52.919811\n",
       "std     67537.024490    57.140644\n",
       "min       838.000000     0.000000\n",
       "25%     59214.250000    15.000000\n",
       "50%    129973.500000    40.000000\n",
       "75%    176827.750000    72.000000\n",
       "max    223318.000000   580.000000"
      ]
     },
     "execution_count": 15,
     "metadata": {},
     "output_type": "execute_result"
    }
   ],
   "source": [
    "# выберем средние показатели для количества посадочных мест\n",
    "\n",
    "chain_cafe.describe()"
   ]
  },
  {
   "cell_type": "markdown",
   "metadata": {},
   "source": [
    "Разделим сетевые кафе на группы по количеству посадочных мест:\n",
    "- Мало - от 0 до 14\n",
    "- Средне - от 15 до 39\n",
    "- Много - от 40 и выше"
   ]
  },
  {
   "cell_type": "code",
   "execution_count": 16,
   "metadata": {},
   "outputs": [
    {
     "name": "stderr",
     "output_type": "stream",
     "text": [
      "C:\\Users\\Andrew\\AppData\\Local\\Temp\\ipykernel_5548\\1441729105.py:1: SettingWithCopyWarning: \n",
      "A value is trying to be set on a copy of a slice from a DataFrame.\n",
      "Try using .loc[row_indexer,col_indexer] = value instead\n",
      "\n",
      "See the caveats in the documentation: https://pandas.pydata.org/pandas-docs/stable/user_guide/indexing.html#returning-a-view-versus-a-copy\n",
      "  chain_cafe['group']=chain_cafe.loc[:, 'number'].apply(lambda x: 'мало' if x<14 else 'средне' if x<39 else 'много')\n"
     ]
    },
    {
     "data": {
      "text/html": [
       "<div>\n",
       "<style scoped>\n",
       "    .dataframe tbody tr th:only-of-type {\n",
       "        vertical-align: middle;\n",
       "    }\n",
       "\n",
       "    .dataframe tbody tr th {\n",
       "        vertical-align: top;\n",
       "    }\n",
       "\n",
       "    .dataframe thead th {\n",
       "        text-align: right;\n",
       "    }\n",
       "</style>\n",
       "<table border=\"1\" class=\"dataframe\">\n",
       "  <thead>\n",
       "    <tr style=\"text-align: right;\">\n",
       "      <th></th>\n",
       "      <th>id</th>\n",
       "      <th>object_name</th>\n",
       "      <th>chain</th>\n",
       "      <th>object_type</th>\n",
       "      <th>address</th>\n",
       "      <th>number</th>\n",
       "      <th>group</th>\n",
       "    </tr>\n",
       "  </thead>\n",
       "  <tbody>\n",
       "    <tr>\n",
       "      <th>3</th>\n",
       "      <td>21894</td>\n",
       "      <td>ПИЦЦЕТОРИЯ</td>\n",
       "      <td>да</td>\n",
       "      <td>кафе</td>\n",
       "      <td>город Москва, Абрамцевская улица, дом 1</td>\n",
       "      <td>40</td>\n",
       "      <td>много</td>\n",
       "    </tr>\n",
       "    <tr>\n",
       "      <th>6</th>\n",
       "      <td>148815</td>\n",
       "      <td>Брусника</td>\n",
       "      <td>да</td>\n",
       "      <td>кафе</td>\n",
       "      <td>город Москва, переулок Сивцев Вражек, дом 6/2</td>\n",
       "      <td>10</td>\n",
       "      <td>мало</td>\n",
       "    </tr>\n",
       "    <tr>\n",
       "      <th>13</th>\n",
       "      <td>22579</td>\n",
       "      <td>Алло Пицца</td>\n",
       "      <td>да</td>\n",
       "      <td>кафе</td>\n",
       "      <td>город Москва, улица Авиаторов, дом 14</td>\n",
       "      <td>32</td>\n",
       "      <td>средне</td>\n",
       "    </tr>\n",
       "    <tr>\n",
       "      <th>16</th>\n",
       "      <td>144107</td>\n",
       "      <td>Суши Wok</td>\n",
       "      <td>да</td>\n",
       "      <td>фаст-фуд</td>\n",
       "      <td>город Москва, Азовская улица, дом 3</td>\n",
       "      <td>7</td>\n",
       "      <td>мало</td>\n",
       "    </tr>\n",
       "    <tr>\n",
       "      <th>18</th>\n",
       "      <td>58565</td>\n",
       "      <td>Тануки</td>\n",
       "      <td>да</td>\n",
       "      <td>ресторан</td>\n",
       "      <td>город Москва, Большая Академическая улица, дом 65</td>\n",
       "      <td>160</td>\n",
       "      <td>много</td>\n",
       "    </tr>\n",
       "  </tbody>\n",
       "</table>\n",
       "</div>"
      ],
      "text/plain": [
       "        id object_name chain object_type  \\\n",
       "3    21894  ПИЦЦЕТОРИЯ    да        кафе   \n",
       "6   148815    Брусника    да        кафе   \n",
       "13   22579  Алло Пицца    да        кафе   \n",
       "16  144107    Суши Wok    да    фаст-фуд   \n",
       "18   58565      Тануки    да    ресторан   \n",
       "\n",
       "                                              address  number   group  \n",
       "3             город Москва, Абрамцевская улица, дом 1      40   много  \n",
       "6       город Москва, переулок Сивцев Вражек, дом 6/2      10    мало  \n",
       "13              город Москва, улица Авиаторов, дом 14      32  средне  \n",
       "16                город Москва, Азовская улица, дом 3       7    мало  \n",
       "18  город Москва, Большая Академическая улица, дом 65     160   много  "
      ]
     },
     "execution_count": 16,
     "metadata": {},
     "output_type": "execute_result"
    }
   ],
   "source": [
    "chain_cafe['group']=chain_cafe.loc[:, 'number'].apply(lambda x: 'мало' if x<14 else 'средне' if x<39 else 'много')\n",
    "\n",
    "chain_cafe.head()"
   ]
  },
  {
   "cell_type": "code",
   "execution_count": 17,
   "metadata": {},
   "outputs": [
    {
     "data": {
      "text/html": [
       "<div>\n",
       "<style scoped>\n",
       "    .dataframe tbody tr th:only-of-type {\n",
       "        vertical-align: middle;\n",
       "    }\n",
       "\n",
       "    .dataframe tbody tr th {\n",
       "        vertical-align: top;\n",
       "    }\n",
       "\n",
       "    .dataframe thead th {\n",
       "        text-align: right;\n",
       "    }\n",
       "</style>\n",
       "<table border=\"1\" class=\"dataframe\">\n",
       "  <thead>\n",
       "    <tr style=\"text-align: right;\">\n",
       "      <th>group</th>\n",
       "      <th>мало</th>\n",
       "      <th>много</th>\n",
       "      <th>средне</th>\n",
       "    </tr>\n",
       "    <tr>\n",
       "      <th>object_type</th>\n",
       "      <th></th>\n",
       "      <th></th>\n",
       "      <th></th>\n",
       "    </tr>\n",
       "  </thead>\n",
       "  <tbody>\n",
       "    <tr>\n",
       "      <th>бар</th>\n",
       "      <td>8.0</td>\n",
       "      <td>25.0</td>\n",
       "      <td>4.0</td>\n",
       "    </tr>\n",
       "    <tr>\n",
       "      <th>буфет</th>\n",
       "      <td>8.0</td>\n",
       "      <td>2.0</td>\n",
       "      <td>1.0</td>\n",
       "    </tr>\n",
       "    <tr>\n",
       "      <th>закусочная</th>\n",
       "      <td>34.0</td>\n",
       "      <td>4.0</td>\n",
       "      <td>18.0</td>\n",
       "    </tr>\n",
       "    <tr>\n",
       "      <th>кафе</th>\n",
       "      <td>255.0</td>\n",
       "      <td>710.0</td>\n",
       "      <td>431.0</td>\n",
       "    </tr>\n",
       "    <tr>\n",
       "      <th>кафетерий</th>\n",
       "      <td>37.0</td>\n",
       "      <td>4.0</td>\n",
       "      <td>11.0</td>\n",
       "    </tr>\n",
       "    <tr>\n",
       "      <th>магазин (отдел кулинарии)</th>\n",
       "      <td>61.0</td>\n",
       "      <td>6.0</td>\n",
       "      <td>11.0</td>\n",
       "    </tr>\n",
       "    <tr>\n",
       "      <th>ресторан</th>\n",
       "      <td>29.0</td>\n",
       "      <td>458.0</td>\n",
       "      <td>57.0</td>\n",
       "    </tr>\n",
       "    <tr>\n",
       "      <th>столовая</th>\n",
       "      <td>NaN</td>\n",
       "      <td>3.0</td>\n",
       "      <td>NaN</td>\n",
       "    </tr>\n",
       "    <tr>\n",
       "      <th>фаст-фуд</th>\n",
       "      <td>264.0</td>\n",
       "      <td>317.0</td>\n",
       "      <td>210.0</td>\n",
       "    </tr>\n",
       "  </tbody>\n",
       "</table>\n",
       "</div>"
      ],
      "text/plain": [
       "group                       мало  много  средне\n",
       "object_type                                    \n",
       "бар                          8.0   25.0     4.0\n",
       "буфет                        8.0    2.0     1.0\n",
       "закусочная                  34.0    4.0    18.0\n",
       "кафе                       255.0  710.0   431.0\n",
       "кафетерий                   37.0    4.0    11.0\n",
       "магазин (отдел кулинарии)   61.0    6.0    11.0\n",
       "ресторан                    29.0  458.0    57.0\n",
       "столовая                     NaN    3.0     NaN\n",
       "фаст-фуд                   264.0  317.0   210.0"
      ]
     },
     "metadata": {},
     "output_type": "display_data"
    }
   ],
   "source": [
    "# создадим сводную таблицу\n",
    "# со значениями: тип объекта, количество по id, сетевой да/нет\n",
    "chain_cafe_pivot = chain_cafe.pivot_table(index='object_type', values='id', columns='group', aggfunc='count')\n",
    "\n",
    "display(chain_cafe_pivot)"
   ]
  },
  {
   "cell_type": "code",
   "execution_count": 18,
   "metadata": {},
   "outputs": [
    {
     "data": {
      "text/html": [
       "<div>\n",
       "<style scoped>\n",
       "    .dataframe tbody tr th:only-of-type {\n",
       "        vertical-align: middle;\n",
       "    }\n",
       "\n",
       "    .dataframe tbody tr th {\n",
       "        vertical-align: top;\n",
       "    }\n",
       "\n",
       "    .dataframe thead th {\n",
       "        text-align: right;\n",
       "    }\n",
       "</style>\n",
       "<table border=\"1\" class=\"dataframe\">\n",
       "  <thead>\n",
       "    <tr style=\"text-align: right;\">\n",
       "      <th></th>\n",
       "      <th>object_name</th>\n",
       "      <th>number</th>\n",
       "      <th>id</th>\n",
       "    </tr>\n",
       "  </thead>\n",
       "  <tbody>\n",
       "    <tr>\n",
       "      <th>723</th>\n",
       "      <td>Темпл Бар</td>\n",
       "      <td>356.0</td>\n",
       "      <td>1</td>\n",
       "    </tr>\n",
       "    <tr>\n",
       "      <th>722</th>\n",
       "      <td>БАКИНСКИЙ БУЛЬВАР</td>\n",
       "      <td>350.0</td>\n",
       "      <td>1</td>\n",
       "    </tr>\n",
       "    <tr>\n",
       "      <th>721</th>\n",
       "      <td>Чешская пивная «Козловица»</td>\n",
       "      <td>306.0</td>\n",
       "      <td>1</td>\n",
       "    </tr>\n",
       "    <tr>\n",
       "      <th>720</th>\n",
       "      <td>Ян Примус</td>\n",
       "      <td>300.0</td>\n",
       "      <td>1</td>\n",
       "    </tr>\n",
       "    <tr>\n",
       "      <th>719</th>\n",
       "      <td>Кафе МУ-МУ</td>\n",
       "      <td>300.0</td>\n",
       "      <td>1</td>\n",
       "    </tr>\n",
       "    <tr>\n",
       "      <th>...</th>\n",
       "      <td>...</td>\n",
       "      <td>...</td>\n",
       "      <td>...</td>\n",
       "    </tr>\n",
       "    <tr>\n",
       "      <th>23</th>\n",
       "      <td>Ресторан быстрого питания «Крошка Картошка»</td>\n",
       "      <td>0.0</td>\n",
       "      <td>1</td>\n",
       "    </tr>\n",
       "    <tr>\n",
       "      <th>24</th>\n",
       "      <td>Предприятие быстрого обслуживания «Милти»</td>\n",
       "      <td>0.0</td>\n",
       "      <td>3</td>\n",
       "    </tr>\n",
       "    <tr>\n",
       "      <th>25</th>\n",
       "      <td>CoffeeShop</td>\n",
       "      <td>0.0</td>\n",
       "      <td>1</td>\n",
       "    </tr>\n",
       "    <tr>\n",
       "      <th>26</th>\n",
       "      <td>Предприятие быстрого обслуживания «ДОДО Пицца»</td>\n",
       "      <td>0.0</td>\n",
       "      <td>1</td>\n",
       "    </tr>\n",
       "    <tr>\n",
       "      <th>0</th>\n",
       "      <td>Кофе с Собой</td>\n",
       "      <td>0.0</td>\n",
       "      <td>1</td>\n",
       "    </tr>\n",
       "  </tbody>\n",
       "</table>\n",
       "<p>724 rows × 3 columns</p>\n",
       "</div>"
      ],
      "text/plain": [
       "                                        object_name  number  id\n",
       "723                                       Темпл Бар   356.0   1\n",
       "722                               БАКИНСКИЙ БУЛЬВАР   350.0   1\n",
       "721                      Чешская пивная «Козловица»   306.0   1\n",
       "720                                       Ян Примус   300.0   1\n",
       "719                                      Кафе МУ-МУ   300.0   1\n",
       "..                                              ...     ...  ..\n",
       "23      Ресторан быстрого питания «Крошка Картошка»     0.0   1\n",
       "24        Предприятие быстрого обслуживания «Милти»     0.0   3\n",
       "25                                       CoffeeShop     0.0   1\n",
       "26   Предприятие быстрого обслуживания «ДОДО Пицца»     0.0   1\n",
       "0                                      Кофе с Собой     0.0   1\n",
       "\n",
       "[724 rows x 3 columns]"
      ]
     },
     "metadata": {},
     "output_type": "display_data"
    }
   ],
   "source": [
    "# создадим сводную таблицу cо средним количесвом мест\n",
    "\n",
    "chain_cafe_pivot_name = chain_cafe.groupby('object_name').agg({'number':'mean', 'id':'count'}).sort_values(by='number').reset_index().sort_values(by='number', ascending=False)\n",
    "display(chain_cafe_pivot_name)"
   ]
  },
  {
   "cell_type": "code",
   "execution_count": 19,
   "metadata": {},
   "outputs": [
    {
     "data": {
      "image/png": "[encoded data removed]",
      "text/plain": [
       "<Figure size 2000x1000 with 1 Axes>"
      ]
     },
     "metadata": {},
     "output_type": "display_data"
    }
   ],
   "source": [
    "# построим график Среднее количество посадочных мест для сетевых заведений\n",
    "# отфильтруем выбросы более 500 посадачных мест\n",
    "\n",
    "plt.figure(figsize=(20,10))\n",
    "ax = sns.boxplot(x ='object_type', y='number', data=chain_cafe.query('number <= 500'))\n",
    "ax.axes.set_title('Среднее количество посадочных мест для сетевых заведений')\n",
    "ax.set_ylabel('Количество посадочных мест')\n",
    "ax.set_xlabel('Тип заведений общественного питания')\n",
    "plt.show()"
   ]
  },
  {
   "cell_type": "code",
   "execution_count": 20,
   "metadata": {},
   "outputs": [
    {
     "data": {
      "image/png": "[encoded data removed]",
      "text/plain": [
       "<Figure size 2000x1000 with 1 Axes>"
      ]
     },
     "metadata": {},
     "output_type": "display_data"
    }
   ],
   "source": [
    "# построим график Среднее количество посадочных мест для всех заведений\n",
    "# отфильтруем выбросы более 500 посадачных мест\n",
    "\n",
    "plt.figure(figsize=(20,10))\n",
    "ax = sns.boxplot(x ='object_type', y='number', data=df.query('number <= 500'))\n",
    "ax.axes.set_title('График распределения среднего количества посадочных мест для всех заведений')\n",
    "ax.set_ylabel('Количество посадочных мест')\n",
    "ax.set_xlabel('Тип заведения')\n",
    "plt.show()"
   ]
  },
  {
   "cell_type": "code",
   "execution_count": null,
   "metadata": {},
   "outputs": [],
   "source": []
  },
  {
   "cell_type": "markdown",
   "metadata": {},
   "source": [
    "#### Выводы: что характерно для сетевых объектов"
   ]
  },
  {
   "cell_type": "markdown",
   "metadata": {},
   "source": [
    "Исходя из двух графиков можно сделать вывод:\n",
    "- В сетевых ресторанах самое большое количество посадочных мест в столовых и ресторанах"
   ]
  },
  {
   "cell_type": "code",
   "execution_count": 21,
   "metadata": {},
   "outputs": [
    {
     "data": {
      "text/html": [
       "<div>\n",
       "<style scoped>\n",
       "    .dataframe tbody tr th:only-of-type {\n",
       "        vertical-align: middle;\n",
       "    }\n",
       "\n",
       "    .dataframe tbody tr th {\n",
       "        vertical-align: top;\n",
       "    }\n",
       "\n",
       "    .dataframe thead th {\n",
       "        text-align: right;\n",
       "    }\n",
       "</style>\n",
       "<table border=\"1\" class=\"dataframe\">\n",
       "  <thead>\n",
       "    <tr style=\"text-align: right;\">\n",
       "      <th></th>\n",
       "      <th>objects</th>\n",
       "      <th>seats</th>\n",
       "    </tr>\n",
       "    <tr>\n",
       "      <th>object_name</th>\n",
       "      <th></th>\n",
       "      <th></th>\n",
       "    </tr>\n",
       "  </thead>\n",
       "  <tbody>\n",
       "    <tr>\n",
       "      <th>Bocconcino</th>\n",
       "      <td>3</td>\n",
       "      <td>66.666667</td>\n",
       "    </tr>\n",
       "    <tr>\n",
       "      <th>Burger Club</th>\n",
       "      <td>3</td>\n",
       "      <td>20.333333</td>\n",
       "    </tr>\n",
       "    <tr>\n",
       "      <th>COFIX</th>\n",
       "      <td>3</td>\n",
       "      <td>10.666667</td>\n",
       "    </tr>\n",
       "    <tr>\n",
       "      <th>Coffeeshop Company</th>\n",
       "      <td>4</td>\n",
       "      <td>47.250000</td>\n",
       "    </tr>\n",
       "    <tr>\n",
       "      <th>Cofix</th>\n",
       "      <td>22</td>\n",
       "      <td>9.454545</td>\n",
       "    </tr>\n",
       "    <tr>\n",
       "      <th>...</th>\n",
       "      <td>...</td>\n",
       "      <td>...</td>\n",
       "    </tr>\n",
       "    <tr>\n",
       "      <th>Шоколадница</th>\n",
       "      <td>141</td>\n",
       "      <td>56.170213</td>\n",
       "    </tr>\n",
       "    <tr>\n",
       "      <th>Штолле</th>\n",
       "      <td>12</td>\n",
       "      <td>31.416667</td>\n",
       "    </tr>\n",
       "    <tr>\n",
       "      <th>ЯКИТОРИЯ</th>\n",
       "      <td>5</td>\n",
       "      <td>185.600000</td>\n",
       "    </tr>\n",
       "    <tr>\n",
       "      <th>Якитория</th>\n",
       "      <td>33</td>\n",
       "      <td>106.787879</td>\n",
       "    </tr>\n",
       "    <tr>\n",
       "      <th>кафе «Старбакс»</th>\n",
       "      <td>2</td>\n",
       "      <td>63.500000</td>\n",
       "    </tr>\n",
       "  </tbody>\n",
       "</table>\n",
       "<p>274 rows × 2 columns</p>\n",
       "</div>"
      ],
      "text/plain": [
       "                    objects       seats\n",
       "object_name                            \n",
       "Bocconcino                3   66.666667\n",
       "Burger Club               3   20.333333\n",
       "COFIX                     3   10.666667\n",
       "Coffeeshop Company        4   47.250000\n",
       "Cofix                    22    9.454545\n",
       "...                     ...         ...\n",
       "Шоколадница             141   56.170213\n",
       "Штолле                   12   31.416667\n",
       "ЯКИТОРИЯ                  5  185.600000\n",
       "Якитория                 33  106.787879\n",
       "кафе «Старбакс»           2   63.500000\n",
       "\n",
       "[274 rows x 2 columns]"
      ]
     },
     "metadata": {},
     "output_type": "display_data"
    }
   ],
   "source": [
    "# Код ревьюера\n",
    "\n",
    "data_demo = df[df['chain'] == 'да'].groupby('object_name').agg(objects=('id','count'),seats=('number','mean'))[lambda x : x['objects'] > 1]\n",
    "display(data_demo)"
   ]
  },
  {
   "cell_type": "markdown",
   "metadata": {},
   "source": [
    "### Среднее количество мест в сетевом общепите"
   ]
  },
  {
   "cell_type": "code",
   "execution_count": 22,
   "metadata": {},
   "outputs": [
    {
     "data": {
      "text/html": [
       "<div>\n",
       "<style scoped>\n",
       "    .dataframe tbody tr th:only-of-type {\n",
       "        vertical-align: middle;\n",
       "    }\n",
       "\n",
       "    .dataframe tbody tr th {\n",
       "        vertical-align: top;\n",
       "    }\n",
       "\n",
       "    .dataframe thead th {\n",
       "        text-align: right;\n",
       "    }\n",
       "</style>\n",
       "<table border=\"1\" class=\"dataframe\">\n",
       "  <thead>\n",
       "    <tr style=\"text-align: right;\">\n",
       "      <th></th>\n",
       "      <th>number</th>\n",
       "    </tr>\n",
       "    <tr>\n",
       "      <th>object_type</th>\n",
       "      <th></th>\n",
       "    </tr>\n",
       "  </thead>\n",
       "  <tbody>\n",
       "    <tr>\n",
       "      <th>столовая</th>\n",
       "      <td>112.333333</td>\n",
       "    </tr>\n",
       "    <tr>\n",
       "      <th>ресторан</th>\n",
       "      <td>100.233456</td>\n",
       "    </tr>\n",
       "    <tr>\n",
       "      <th>бар</th>\n",
       "      <td>53.027027</td>\n",
       "    </tr>\n",
       "    <tr>\n",
       "      <th>кафе</th>\n",
       "      <td>47.426934</td>\n",
       "    </tr>\n",
       "    <tr>\n",
       "      <th>фаст-фуд</th>\n",
       "      <td>40.166877</td>\n",
       "    </tr>\n",
       "    <tr>\n",
       "      <th>закусочная</th>\n",
       "      <td>14.375000</td>\n",
       "    </tr>\n",
       "    <tr>\n",
       "      <th>буфет</th>\n",
       "      <td>12.727273</td>\n",
       "    </tr>\n",
       "    <tr>\n",
       "      <th>кафетерий</th>\n",
       "      <td>12.269231</td>\n",
       "    </tr>\n",
       "    <tr>\n",
       "      <th>магазин (отдел кулинарии)</th>\n",
       "      <td>8.679487</td>\n",
       "    </tr>\n",
       "  </tbody>\n",
       "</table>\n",
       "</div>"
      ],
      "text/plain": [
       "                               number\n",
       "object_type                          \n",
       "столовая                   112.333333\n",
       "ресторан                   100.233456\n",
       "бар                         53.027027\n",
       "кафе                        47.426934\n",
       "фаст-фуд                    40.166877\n",
       "закусочная                  14.375000\n",
       "буфет                       12.727273\n",
       "кафетерий                   12.269231\n",
       "магазин (отдел кулинарии)    8.679487"
      ]
     },
     "metadata": {},
     "output_type": "display_data"
    }
   ],
   "source": [
    "# создадим сводную таблицу\n",
    "# со значениями: тип объекта, количество по id, сетевой да/нет\n",
    "chain_cafe_pivot_mean = chain_cafe.pivot_table(index='object_type', values='number', aggfunc='mean').sort_values(by='number', ascending=False)\n",
    "\n",
    "display(chain_cafe_pivot_mean)"
   ]
  },
  {
   "cell_type": "code",
   "execution_count": 23,
   "metadata": {
    "scrolled": false
   },
   "outputs": [
    {
     "data": {
      "image/png": "[encoded data removed]",
      "text/plain": [
       "<Figure size 1100x900 with 1 Axes>"
      ]
     },
     "metadata": {},
     "output_type": "display_data"
    }
   ],
   "source": [
    "# построим график среднее количество посадочных мест для сетевых заведений\n",
    "\n",
    "ax = chain_cafe_pivot_mean.plot(kind='bar', figsize=(11, 9))\n",
    "ax.set_xlabel('Кол-во мест')\n",
    "ax.set_ylabel('Тип объекта')\n",
    "ax.set_title('Среднее количество посадочных мест в сетевом общепите')\n",
    "\n",
    "plt.xticks(rotation=45)\n",
    "\n",
    "plt.show()"
   ]
  },
  {
   "cell_type": "markdown",
   "metadata": {},
   "source": [
    "#### Выводы: среднее количество посадочных мест для сетевых объектов"
   ]
  },
  {
   "cell_type": "markdown",
   "metadata": {},
   "source": [
    "Из графика и таблицы видно, что самое большое количество посадочных мест для столовых: 112, чуть меньше для ресторанов 100.\n",
    "\n",
    "Среднее количество посадочных мест для сетевых кафе: 47"
   ]
  },
  {
   "cell_type": "markdown",
   "metadata": {},
   "source": [
    "### Среднее количество посадочных мест для всех типов объектов"
   ]
  },
  {
   "cell_type": "code",
   "execution_count": 24,
   "metadata": {},
   "outputs": [
    {
     "data": {
      "text/html": [
       "<div>\n",
       "<style scoped>\n",
       "    .dataframe tbody tr th:only-of-type {\n",
       "        vertical-align: middle;\n",
       "    }\n",
       "\n",
       "    .dataframe tbody tr th {\n",
       "        vertical-align: top;\n",
       "    }\n",
       "\n",
       "    .dataframe thead th {\n",
       "        text-align: right;\n",
       "    }\n",
       "</style>\n",
       "<table border=\"1\" class=\"dataframe\">\n",
       "  <thead>\n",
       "    <tr style=\"text-align: right;\">\n",
       "      <th></th>\n",
       "      <th>number</th>\n",
       "    </tr>\n",
       "    <tr>\n",
       "      <th>object_type</th>\n",
       "      <th></th>\n",
       "    </tr>\n",
       "  </thead>\n",
       "  <tbody>\n",
       "    <tr>\n",
       "      <th>столовая</th>\n",
       "      <td>130.246618</td>\n",
       "    </tr>\n",
       "    <tr>\n",
       "      <th>ресторан</th>\n",
       "      <td>96.834136</td>\n",
       "    </tr>\n",
       "    <tr>\n",
       "      <th>буфет</th>\n",
       "      <td>51.129915</td>\n",
       "    </tr>\n",
       "    <tr>\n",
       "      <th>бар</th>\n",
       "      <td>43.494159</td>\n",
       "    </tr>\n",
       "    <tr>\n",
       "      <th>кафе</th>\n",
       "      <td>39.716019</td>\n",
       "    </tr>\n",
       "    <tr>\n",
       "      <th>фаст-фуд</th>\n",
       "      <td>20.552262</td>\n",
       "    </tr>\n",
       "    <tr>\n",
       "      <th>кафетерий</th>\n",
       "      <td>9.123116</td>\n",
       "    </tr>\n",
       "    <tr>\n",
       "      <th>закусочная</th>\n",
       "      <td>7.608333</td>\n",
       "    </tr>\n",
       "    <tr>\n",
       "      <th>магазин (отдел кулинарии)</th>\n",
       "      <td>5.589744</td>\n",
       "    </tr>\n",
       "  </tbody>\n",
       "</table>\n",
       "</div>"
      ],
      "text/plain": [
       "                               number\n",
       "object_type                          \n",
       "столовая                   130.246618\n",
       "ресторан                    96.834136\n",
       "буфет                       51.129915\n",
       "бар                         43.494159\n",
       "кафе                        39.716019\n",
       "фаст-фуд                    20.552262\n",
       "кафетерий                    9.123116\n",
       "закусочная                   7.608333\n",
       "магазин (отдел кулинарии)    5.589744"
      ]
     },
     "metadata": {},
     "output_type": "display_data"
    }
   ],
   "source": [
    "# создадим сводную таблицу\n",
    "# со значениями: тип объекта, количество по id, сетевой да/нет\n",
    "all_cafe_pivot_mean = df.pivot_table(index='object_type', values='number', aggfunc='mean').sort_values(by='number', ascending=False)\n",
    "\n",
    "display(all_cafe_pivot_mean)"
   ]
  },
  {
   "cell_type": "code",
   "execution_count": 25,
   "metadata": {},
   "outputs": [
    {
     "data": {
      "image/png": "[encoded data removed]",
      "text/plain": [
       "<Figure size 1100x900 with 1 Axes>"
      ]
     },
     "metadata": {},
     "output_type": "display_data"
    }
   ],
   "source": [
    "# построим график среднее количество посадочных мест для всех типов объектов\n",
    "\n",
    "ax = all_cafe_pivot_mean.plot(kind='bar', figsize=(11, 9))\n",
    "ax.set_xlabel('Кол-во мест')\n",
    "ax.set_ylabel('Тип объекта')\n",
    "ax.set_title('Среднее количество посадочных мест для всех типов объектов')\n",
    "\n",
    "plt.xticks(rotation=45)\n",
    "\n",
    "plt.show()"
   ]
  },
  {
   "cell_type": "markdown",
   "metadata": {},
   "source": [
    "#### Выводы: среднее количество посадочных мест для всех типов объектов"
   ]
  },
  {
   "cell_type": "markdown",
   "metadata": {},
   "source": [
    "Как и с сетеыми объектами лидируют столовые с средним количеством мест 130, следом идут рестораны 96.\n",
    "\n",
    "Самый популярный сетевой тип: кафе - 39 мест, что чуть меньше чем в сетево формате - 47 мест."
   ]
  },
  {
   "cell_type": "markdown",
   "metadata": {},
   "source": [
    "### Выделим в отдельный столбец информацию об улице"
   ]
  },
  {
   "cell_type": "code",
   "execution_count": 26,
   "metadata": {},
   "outputs": [
    {
     "data": {
      "text/html": [
       "<div>\n",
       "<style scoped>\n",
       "    .dataframe tbody tr th:only-of-type {\n",
       "        vertical-align: middle;\n",
       "    }\n",
       "\n",
       "    .dataframe tbody tr th {\n",
       "        vertical-align: top;\n",
       "    }\n",
       "\n",
       "    .dataframe thead th {\n",
       "        text-align: right;\n",
       "    }\n",
       "</style>\n",
       "<table border=\"1\" class=\"dataframe\">\n",
       "  <thead>\n",
       "    <tr style=\"text-align: right;\">\n",
       "      <th></th>\n",
       "      <th>id</th>\n",
       "      <th>object_name</th>\n",
       "      <th>chain</th>\n",
       "      <th>object_type</th>\n",
       "      <th>address</th>\n",
       "      <th>number</th>\n",
       "      <th>streetname</th>\n",
       "    </tr>\n",
       "  </thead>\n",
       "  <tbody>\n",
       "    <tr>\n",
       "      <th>0</th>\n",
       "      <td>151635</td>\n",
       "      <td>СМЕТАНА</td>\n",
       "      <td>нет</td>\n",
       "      <td>кафе</td>\n",
       "      <td>город Москва, улица Егора Абакумова, дом 9</td>\n",
       "      <td>48</td>\n",
       "      <td>улица Егора Абакумова</td>\n",
       "    </tr>\n",
       "    <tr>\n",
       "      <th>1</th>\n",
       "      <td>77874</td>\n",
       "      <td>Родник</td>\n",
       "      <td>нет</td>\n",
       "      <td>кафе</td>\n",
       "      <td>город Москва, улица Талалихина, дом 2/1, корпус 1</td>\n",
       "      <td>35</td>\n",
       "      <td>улица Талалихина</td>\n",
       "    </tr>\n",
       "    <tr>\n",
       "      <th>2</th>\n",
       "      <td>24309</td>\n",
       "      <td>Кафе «Академия»</td>\n",
       "      <td>нет</td>\n",
       "      <td>кафе</td>\n",
       "      <td>город Москва, Абельмановская улица, дом 6</td>\n",
       "      <td>95</td>\n",
       "      <td>Абельмановская улица</td>\n",
       "    </tr>\n",
       "    <tr>\n",
       "      <th>3</th>\n",
       "      <td>21894</td>\n",
       "      <td>ПИЦЦЕТОРИЯ</td>\n",
       "      <td>да</td>\n",
       "      <td>кафе</td>\n",
       "      <td>город Москва, Абрамцевская улица, дом 1</td>\n",
       "      <td>40</td>\n",
       "      <td>Абрамцевская улица</td>\n",
       "    </tr>\n",
       "    <tr>\n",
       "      <th>4</th>\n",
       "      <td>119365</td>\n",
       "      <td>Кафе «Вишневая метель»</td>\n",
       "      <td>нет</td>\n",
       "      <td>кафе</td>\n",
       "      <td>город Москва, Абрамцевская улица, дом 9, корпус 1</td>\n",
       "      <td>50</td>\n",
       "      <td>Абрамцевская улица</td>\n",
       "    </tr>\n",
       "  </tbody>\n",
       "</table>\n",
       "</div>"
      ],
      "text/plain": [
       "       id             object_name chain object_type  \\\n",
       "0  151635                 СМЕТАНА   нет        кафе   \n",
       "1   77874                  Родник   нет        кафе   \n",
       "2   24309         Кафе «Академия»   нет        кафе   \n",
       "3   21894              ПИЦЦЕТОРИЯ    да        кафе   \n",
       "4  119365  Кафе «Вишневая метель»   нет        кафе   \n",
       "\n",
       "                                             address  number  \\\n",
       "0         город Москва, улица Егора Абакумова, дом 9      48   \n",
       "1  город Москва, улица Талалихина, дом 2/1, корпус 1      35   \n",
       "2          город Москва, Абельмановская улица, дом 6      95   \n",
       "3            город Москва, Абрамцевская улица, дом 1      40   \n",
       "4  город Москва, Абрамцевская улица, дом 9, корпус 1      50   \n",
       "\n",
       "              streetname  \n",
       "0  улица Егора Абакумова  \n",
       "1       улица Талалихина  \n",
       "2   Абельмановская улица  \n",
       "3     Абрамцевская улица  \n",
       "4     Абрамцевская улица  "
      ]
     },
     "execution_count": 26,
     "metadata": {},
     "output_type": "execute_result"
    }
   ],
   "source": [
    "# Выделите в отдельный столбец информацию об улице из столбца address\n",
    "df['streetname'] = df['address'].str.split(', ').str[1]\n",
    "df.head()"
   ]
  },
  {
   "cell_type": "markdown",
   "metadata": {},
   "source": [
    "### График топ-10 улиц по количеству объектов общественного питания."
   ]
  },
  {
   "cell_type": "code",
   "execution_count": 27,
   "metadata": {},
   "outputs": [
    {
     "data": {
      "text/html": [
       "<div>\n",
       "<style scoped>\n",
       "    .dataframe tbody tr th:only-of-type {\n",
       "        vertical-align: middle;\n",
       "    }\n",
       "\n",
       "    .dataframe tbody tr th {\n",
       "        vertical-align: top;\n",
       "    }\n",
       "\n",
       "    .dataframe thead th {\n",
       "        text-align: right;\n",
       "    }\n",
       "</style>\n",
       "<table border=\"1\" class=\"dataframe\">\n",
       "  <thead>\n",
       "    <tr style=\"text-align: right;\">\n",
       "      <th></th>\n",
       "      <th>streetname</th>\n",
       "      <th>id</th>\n",
       "    </tr>\n",
       "  </thead>\n",
       "  <tbody>\n",
       "    <tr>\n",
       "      <th>1</th>\n",
       "      <td>проспект Мира</td>\n",
       "      <td>204</td>\n",
       "    </tr>\n",
       "    <tr>\n",
       "      <th>2</th>\n",
       "      <td>Профсоюзная улица</td>\n",
       "      <td>182</td>\n",
       "    </tr>\n",
       "    <tr>\n",
       "      <th>3</th>\n",
       "      <td>Ленинградский проспект</td>\n",
       "      <td>171</td>\n",
       "    </tr>\n",
       "    <tr>\n",
       "      <th>4</th>\n",
       "      <td>Пресненская набережная</td>\n",
       "      <td>167</td>\n",
       "    </tr>\n",
       "    <tr>\n",
       "      <th>5</th>\n",
       "      <td>Варшавское шоссе</td>\n",
       "      <td>161</td>\n",
       "    </tr>\n",
       "    <tr>\n",
       "      <th>6</th>\n",
       "      <td>Ленинский проспект</td>\n",
       "      <td>147</td>\n",
       "    </tr>\n",
       "    <tr>\n",
       "      <th>8</th>\n",
       "      <td>проспект Вернадского</td>\n",
       "      <td>132</td>\n",
       "    </tr>\n",
       "    <tr>\n",
       "      <th>9</th>\n",
       "      <td>Кутузовский проспект</td>\n",
       "      <td>114</td>\n",
       "    </tr>\n",
       "    <tr>\n",
       "      <th>10</th>\n",
       "      <td>Каширское шоссе</td>\n",
       "      <td>112</td>\n",
       "    </tr>\n",
       "    <tr>\n",
       "      <th>11</th>\n",
       "      <td>Кировоградская улица</td>\n",
       "      <td>110</td>\n",
       "    </tr>\n",
       "  </tbody>\n",
       "</table>\n",
       "</div>"
      ],
      "text/plain": [
       "                streetname   id\n",
       "1            проспект Мира  204\n",
       "2        Профсоюзная улица  182\n",
       "3   Ленинградский проспект  171\n",
       "4   Пресненская набережная  167\n",
       "5         Варшавское шоссе  161\n",
       "6       Ленинский проспект  147\n",
       "8     проспект Вернадского  132\n",
       "9     Кутузовский проспект  114\n",
       "10         Каширское шоссе  112\n",
       "11    Кировоградская улица  110"
      ]
     },
     "metadata": {},
     "output_type": "display_data"
    }
   ],
   "source": [
    "# создадим сводную таблицу\n",
    "# со значениями: улица, количество по id\n",
    "\n",
    "top_10_adress = df.groupby(by='streetname')['id'].count().sort_values(ascending=False).reset_index().head(12)\n",
    "\n",
    "# удалим 0 индекс и 7 так как туда попал город и поселение\n",
    "top_10_adress_dell = top_10_adress.drop(index=[0, 7])\n",
    "display(top_10_adress_dell)"
   ]
  },
  {
   "cell_type": "code",
   "execution_count": 28,
   "metadata": {},
   "outputs": [
    {
     "data": {
      "image/png": "[encoded data removed]",
      "text/plain": [
       "<Figure size 1100x900 with 1 Axes>"
      ]
     },
     "metadata": {},
     "output_type": "display_data"
    }
   ],
   "source": [
    "#count_plae = df.groupby('object_type').count().reset_index()\n",
    "ax = top_10_adress_dell.plot(kind='bar', x='streetname', figsize=(11, 9))\n",
    "ax.set_xlabel('Кол-во мест')\n",
    "ax.set_ylabel('Тип объекта')\n",
    "ax.set_title(' топ-10 улиц по количеству объектов общественного питания')\n",
    " \n",
    "plt.xticks(rotation=45)\n",
    "\n",
    "plt.show()"
   ]
  },
  {
   "cell_type": "markdown",
   "metadata": {},
   "source": [
    "### Рассмотрим улицы по районам Москвы"
   ]
  },
  {
   "cell_type": "markdown",
   "metadata": {},
   "source": [
    "- 1\tпроспект Мира\t204\n",
    "- 2\tПрофсоюзная улица\t182\n",
    "- 3\tЛенинградский проспект\t171\n",
    "- 4\tПресненская набережная\t167\n",
    "- 5\tВаршавское шоссе\t161\n",
    "- 6\tЛенинский проспект\t147\n",
    "- 8\tпроспект Вернадского\t132\n",
    "- 9\tКутузовский проспект\t114\n",
    "- 10\tКаширское шоссе\t112\n",
    "- 11\tКировоградская улица\t110"
   ]
  },
  {
   "cell_type": "code",
   "execution_count": 29,
   "metadata": {},
   "outputs": [
    {
     "data": {
      "text/html": [
       "<div>\n",
       "<style scoped>\n",
       "    .dataframe tbody tr th:only-of-type {\n",
       "        vertical-align: middle;\n",
       "    }\n",
       "\n",
       "    .dataframe tbody tr th {\n",
       "        vertical-align: top;\n",
       "    }\n",
       "\n",
       "    .dataframe thead th {\n",
       "        text-align: right;\n",
       "    }\n",
       "</style>\n",
       "<table border=\"1\" class=\"dataframe\">\n",
       "  <thead>\n",
       "    <tr style=\"text-align: right;\">\n",
       "      <th></th>\n",
       "      <th>streetname</th>\n",
       "      <th>areaid</th>\n",
       "      <th>okrug</th>\n",
       "      <th>area</th>\n",
       "    </tr>\n",
       "  </thead>\n",
       "  <tbody>\n",
       "    <tr>\n",
       "      <th>0</th>\n",
       "      <td>Выставочный переулок</td>\n",
       "      <td>17.0</td>\n",
       "      <td>ЦАО</td>\n",
       "      <td>Пресненский район</td>\n",
       "    </tr>\n",
       "    <tr>\n",
       "      <th>1</th>\n",
       "      <td>улица Гашека</td>\n",
       "      <td>17.0</td>\n",
       "      <td>ЦАО</td>\n",
       "      <td>Пресненский район</td>\n",
       "    </tr>\n",
       "    <tr>\n",
       "      <th>2</th>\n",
       "      <td>Большая Никитская улица</td>\n",
       "      <td>17.0</td>\n",
       "      <td>ЦАО</td>\n",
       "      <td>Пресненский район</td>\n",
       "    </tr>\n",
       "  </tbody>\n",
       "</table>\n",
       "</div>"
      ],
      "text/plain": [
       "                streetname  areaid okrug               area\n",
       "0     Выставочный переулок    17.0   ЦАО  Пресненский район\n",
       "1             улица Гашека    17.0   ЦАО  Пресненский район\n",
       "2  Большая Никитская улица    17.0   ЦАО  Пресненский район"
      ]
     },
     "execution_count": 29,
     "metadata": {},
     "output_type": "execute_result"
    }
   ],
   "source": [
    "# В Jupyter notebook вставьте код:\n",
    "# https://docs.google.com/spreadsheets/d/1o0Rmxii5snYG8fk0Q81p9D5F9bZyslSPOGci7lpQ1Po/edit#gid=804743435\n",
    "\n",
    "from io import BytesIO\n",
    "import requests\n",
    "spreadsheet_id = '1o0Rmxii5snYG8fk0Q81p9D5F9bZyslSPOGci7lpQ1Po'\n",
    "file_name = 'https://docs.google.com/spreadsheets/d/{}/export?format=csv'.format(spreadsheet_id)\n",
    "r = requests.get(file_name)\n",
    "df_area = pd.read_csv(BytesIO(r.content))\n",
    "df_area.head(3)\n",
    "    "
   ]
  },
  {
   "cell_type": "code",
   "execution_count": 30,
   "metadata": {},
   "outputs": [
    {
     "name": "stdout",
     "output_type": "stream",
     "text": [
      "Явные дубликаты df_area 8\n"
     ]
    }
   ],
   "source": [
    "print('Явные дубликаты df_area', df_area.duplicated().sum())"
   ]
  },
  {
   "cell_type": "code",
   "execution_count": 31,
   "metadata": {},
   "outputs": [],
   "source": [
    "# удалим явные дубликаты:\n",
    "\n",
    "df_area.drop_duplicates(inplace = True)"
   ]
  },
  {
   "cell_type": "code",
   "execution_count": 32,
   "metadata": {},
   "outputs": [
    {
     "name": "stdout",
     "output_type": "stream",
     "text": [
      "Проверим явные дубликаты df_area 0\n"
     ]
    }
   ],
   "source": [
    "print('Проверим явные дубликаты df_area', df_area.duplicated().sum())"
   ]
  },
  {
   "cell_type": "code",
   "execution_count": 33,
   "metadata": {},
   "outputs": [
    {
     "data": {
      "text/html": [
       "<div>\n",
       "<style scoped>\n",
       "    .dataframe tbody tr th:only-of-type {\n",
       "        vertical-align: middle;\n",
       "    }\n",
       "\n",
       "    .dataframe tbody tr th {\n",
       "        vertical-align: top;\n",
       "    }\n",
       "\n",
       "    .dataframe thead th {\n",
       "        text-align: right;\n",
       "    }\n",
       "</style>\n",
       "<table border=\"1\" class=\"dataframe\">\n",
       "  <thead>\n",
       "    <tr style=\"text-align: right;\">\n",
       "      <th></th>\n",
       "      <th>streetname</th>\n",
       "      <th>id</th>\n",
       "    </tr>\n",
       "  </thead>\n",
       "  <tbody>\n",
       "    <tr>\n",
       "      <th>1</th>\n",
       "      <td>проспект Мира</td>\n",
       "      <td>204</td>\n",
       "    </tr>\n",
       "    <tr>\n",
       "      <th>2</th>\n",
       "      <td>Профсоюзная улица</td>\n",
       "      <td>182</td>\n",
       "    </tr>\n",
       "    <tr>\n",
       "      <th>3</th>\n",
       "      <td>Ленинградский проспект</td>\n",
       "      <td>171</td>\n",
       "    </tr>\n",
       "    <tr>\n",
       "      <th>4</th>\n",
       "      <td>Пресненская набережная</td>\n",
       "      <td>167</td>\n",
       "    </tr>\n",
       "    <tr>\n",
       "      <th>5</th>\n",
       "      <td>Варшавское шоссе</td>\n",
       "      <td>161</td>\n",
       "    </tr>\n",
       "  </tbody>\n",
       "</table>\n",
       "</div>"
      ],
      "text/plain": [
       "               streetname   id\n",
       "1           проспект Мира  204\n",
       "2       Профсоюзная улица  182\n",
       "3  Ленинградский проспект  171\n",
       "4  Пресненская набережная  167\n",
       "5        Варшавское шоссе  161"
      ]
     },
     "metadata": {},
     "output_type": "display_data"
    }
   ],
   "source": [
    "display(top_10_adress_dell.head(5))"
   ]
  },
  {
   "cell_type": "markdown",
   "metadata": {},
   "source": [
    "#### Названия районов по топу 10 улиц"
   ]
  },
  {
   "cell_type": "code",
   "execution_count": 34,
   "metadata": {},
   "outputs": [
    {
     "data": {
      "text/html": [
       "<div>\n",
       "<style scoped>\n",
       "    .dataframe tbody tr th:only-of-type {\n",
       "        vertical-align: middle;\n",
       "    }\n",
       "\n",
       "    .dataframe tbody tr th {\n",
       "        vertical-align: top;\n",
       "    }\n",
       "\n",
       "    .dataframe thead th {\n",
       "        text-align: right;\n",
       "    }\n",
       "</style>\n",
       "<table border=\"1\" class=\"dataframe\">\n",
       "  <thead>\n",
       "    <tr style=\"text-align: right;\">\n",
       "      <th></th>\n",
       "      <th>streetname</th>\n",
       "      <th>id</th>\n",
       "      <th>area</th>\n",
       "    </tr>\n",
       "  </thead>\n",
       "  <tbody>\n",
       "    <tr>\n",
       "      <th>4419</th>\n",
       "      <td>село Былово</td>\n",
       "      <td>NaN</td>\n",
       "      <td>село Былово</td>\n",
       "    </tr>\n",
       "    <tr>\n",
       "      <th>4406</th>\n",
       "      <td>Институтский проезд</td>\n",
       "      <td>NaN</td>\n",
       "      <td>посёлок завода Мосрентген</td>\n",
       "    </tr>\n",
       "    <tr>\n",
       "      <th>4408</th>\n",
       "      <td>2-я Барышевская улица</td>\n",
       "      <td>NaN</td>\n",
       "      <td>поселение Щербинка</td>\n",
       "    </tr>\n",
       "  </tbody>\n",
       "</table>\n",
       "</div>"
      ],
      "text/plain": [
       "                 streetname  id                       area\n",
       "4419            село Былово NaN                село Былово\n",
       "4406    Институтский проезд NaN  посёлок завода Мосрентген\n",
       "4408  2-я Барышевская улица NaN         поселение Щербинка"
      ]
     },
     "execution_count": 34,
     "metadata": {},
     "output_type": "execute_result"
    }
   ],
   "source": [
    "# присоеденим к таблице с названием улиц названия районов\n",
    "\n",
    "top_10_plus = top_10_adress_dell.merge(df_area[['streetname', 'area']], on='streetname', how='right')\n",
    "\n",
    "top_10_plus.sort_values(by='area', ascending=False).head(3)"
   ]
  },
  {
   "cell_type": "code",
   "execution_count": 35,
   "metadata": {},
   "outputs": [],
   "source": [
    "# добавим фильтр по названиям улиц ТОП-10\n",
    "list_top_10 = list(top_10_adress_dell['streetname'])\n",
    "#display(list_top_10)"
   ]
  },
  {
   "cell_type": "code",
   "execution_count": 36,
   "metadata": {
    "scrolled": true
   },
   "outputs": [
    {
     "data": {
      "text/html": [
       "<div>\n",
       "<style scoped>\n",
       "    .dataframe tbody tr th:only-of-type {\n",
       "        vertical-align: middle;\n",
       "    }\n",
       "\n",
       "    .dataframe tbody tr th {\n",
       "        vertical-align: top;\n",
       "    }\n",
       "\n",
       "    .dataframe thead th {\n",
       "        text-align: right;\n",
       "    }\n",
       "</style>\n",
       "<table border=\"1\" class=\"dataframe\">\n",
       "  <thead>\n",
       "    <tr style=\"text-align: right;\">\n",
       "      <th></th>\n",
       "      <th>streetname</th>\n",
       "      <th>id</th>\n",
       "      <th>area</th>\n",
       "    </tr>\n",
       "  </thead>\n",
       "  <tbody>\n",
       "    <tr>\n",
       "      <th>72</th>\n",
       "      <td>Пресненская набережная</td>\n",
       "      <td>167.0</td>\n",
       "      <td>Пресненский район</td>\n",
       "    </tr>\n",
       "    <tr>\n",
       "      <th>1208</th>\n",
       "      <td>Кутузовский проспект</td>\n",
       "      <td>114.0</td>\n",
       "      <td>Район Дорогомилово</td>\n",
       "    </tr>\n",
       "    <tr>\n",
       "      <th>1280</th>\n",
       "      <td>Кутузовский проспект</td>\n",
       "      <td>114.0</td>\n",
       "      <td>Район Фили-Давыдково</td>\n",
       "    </tr>\n",
       "    <tr>\n",
       "      <th>1501</th>\n",
       "      <td>проспект Вернадского</td>\n",
       "      <td>132.0</td>\n",
       "      <td>Район Проспект Вернадского</td>\n",
       "    </tr>\n",
       "    <tr>\n",
       "      <th>1504</th>\n",
       "      <td>Ленинский проспект</td>\n",
       "      <td>147.0</td>\n",
       "      <td>Район Проспект Вернадского</td>\n",
       "    </tr>\n",
       "    <tr>\n",
       "      <th>1510</th>\n",
       "      <td>проспект Вернадского</td>\n",
       "      <td>132.0</td>\n",
       "      <td>Район Раменки</td>\n",
       "    </tr>\n",
       "    <tr>\n",
       "      <th>1598</th>\n",
       "      <td>проспект Вернадского</td>\n",
       "      <td>132.0</td>\n",
       "      <td>Район Тропарево-Никулино</td>\n",
       "    </tr>\n",
       "    <tr>\n",
       "      <th>1602</th>\n",
       "      <td>Ленинский проспект</td>\n",
       "      <td>147.0</td>\n",
       "      <td>Район Тропарево-Никулино</td>\n",
       "    </tr>\n",
       "    <tr>\n",
       "      <th>1849</th>\n",
       "      <td>Ленинградский проспект</td>\n",
       "      <td>171.0</td>\n",
       "      <td>Район Аэропорт</td>\n",
       "    </tr>\n",
       "    <tr>\n",
       "      <th>1888</th>\n",
       "      <td>Ленинградский проспект</td>\n",
       "      <td>171.0</td>\n",
       "      <td>Район Беговой</td>\n",
       "    </tr>\n",
       "    <tr>\n",
       "      <th>1984</th>\n",
       "      <td>Ленинградский проспект</td>\n",
       "      <td>171.0</td>\n",
       "      <td>Хорошевский район</td>\n",
       "    </tr>\n",
       "    <tr>\n",
       "      <th>2142</th>\n",
       "      <td>Ленинградский проспект</td>\n",
       "      <td>171.0</td>\n",
       "      <td>Район Сокол</td>\n",
       "    </tr>\n",
       "    <tr>\n",
       "      <th>2285</th>\n",
       "      <td>проспект Мира</td>\n",
       "      <td>204.0</td>\n",
       "      <td>Алексеевский район</td>\n",
       "    </tr>\n",
       "    <tr>\n",
       "      <th>2382</th>\n",
       "      <td>проспект Мира</td>\n",
       "      <td>204.0</td>\n",
       "      <td>Ярославский Район</td>\n",
       "    </tr>\n",
       "    <tr>\n",
       "      <th>2523</th>\n",
       "      <td>проспект Мира</td>\n",
       "      <td>204.0</td>\n",
       "      <td>Район Марьина роща</td>\n",
       "    </tr>\n",
       "    <tr>\n",
       "      <th>2570</th>\n",
       "      <td>проспект Мира</td>\n",
       "      <td>204.0</td>\n",
       "      <td>Останкинский район</td>\n",
       "    </tr>\n",
       "    <tr>\n",
       "      <th>2636</th>\n",
       "      <td>проспект Мира</td>\n",
       "      <td>204.0</td>\n",
       "      <td>Район Ростокино</td>\n",
       "    </tr>\n",
       "    <tr>\n",
       "      <th>2704</th>\n",
       "      <td>проспект Мира</td>\n",
       "      <td>204.0</td>\n",
       "      <td>Район Свиблово</td>\n",
       "    </tr>\n",
       "    <tr>\n",
       "      <th>3097</th>\n",
       "      <td>Варшавское шоссе</td>\n",
       "      <td>161.0</td>\n",
       "      <td>Район Чертаново Центральное</td>\n",
       "    </tr>\n",
       "    <tr>\n",
       "      <th>3103</th>\n",
       "      <td>Кировоградская улица</td>\n",
       "      <td>110.0</td>\n",
       "      <td>Район Чертаново Центральное</td>\n",
       "    </tr>\n",
       "    <tr>\n",
       "      <th>3109</th>\n",
       "      <td>Варшавское шоссе</td>\n",
       "      <td>161.0</td>\n",
       "      <td>Район Чертаново Северное</td>\n",
       "    </tr>\n",
       "    <tr>\n",
       "      <th>3112</th>\n",
       "      <td>Кировоградская улица</td>\n",
       "      <td>110.0</td>\n",
       "      <td>Район Чертаново Северное</td>\n",
       "    </tr>\n",
       "    <tr>\n",
       "      <th>3117</th>\n",
       "      <td>Варшавское шоссе</td>\n",
       "      <td>161.0</td>\n",
       "      <td>Район Чертаново Южное</td>\n",
       "    </tr>\n",
       "    <tr>\n",
       "      <th>3123</th>\n",
       "      <td>Кировоградская улица</td>\n",
       "      <td>110.0</td>\n",
       "      <td>Район Чертаново Южное</td>\n",
       "    </tr>\n",
       "    <tr>\n",
       "      <th>3233</th>\n",
       "      <td>Варшавское шоссе</td>\n",
       "      <td>161.0</td>\n",
       "      <td>Донской район</td>\n",
       "    </tr>\n",
       "    <tr>\n",
       "      <th>3252</th>\n",
       "      <td>Ленинский проспект</td>\n",
       "      <td>147.0</td>\n",
       "      <td>Донской район</td>\n",
       "    </tr>\n",
       "    <tr>\n",
       "      <th>3284</th>\n",
       "      <td>Каширское шоссе</td>\n",
       "      <td>112.0</td>\n",
       "      <td>Район Москворечье-Сабурово</td>\n",
       "    </tr>\n",
       "    <tr>\n",
       "      <th>3297</th>\n",
       "      <td>Варшавское шоссе</td>\n",
       "      <td>161.0</td>\n",
       "      <td>Район Нагатино-Садовники</td>\n",
       "    </tr>\n",
       "    <tr>\n",
       "      <th>3300</th>\n",
       "      <td>Каширское шоссе</td>\n",
       "      <td>112.0</td>\n",
       "      <td>Район Нагатино-Садовники</td>\n",
       "    </tr>\n",
       "    <tr>\n",
       "      <th>3341</th>\n",
       "      <td>Варшавское шоссе</td>\n",
       "      <td>161.0</td>\n",
       "      <td>Нагорный район</td>\n",
       "    </tr>\n",
       "    <tr>\n",
       "      <th>3361</th>\n",
       "      <td>Каширское шоссе</td>\n",
       "      <td>112.0</td>\n",
       "      <td>Район Орехово-Борисово Южное</td>\n",
       "    </tr>\n",
       "    <tr>\n",
       "      <th>3384</th>\n",
       "      <td>Каширское шоссе</td>\n",
       "      <td>112.0</td>\n",
       "      <td>Район Орехово-Борисово Северное</td>\n",
       "    </tr>\n",
       "    <tr>\n",
       "      <th>3837</th>\n",
       "      <td>Профсоюзная улица</td>\n",
       "      <td>182.0</td>\n",
       "      <td>Академический район</td>\n",
       "    </tr>\n",
       "    <tr>\n",
       "      <th>3859</th>\n",
       "      <td>Профсоюзная улица</td>\n",
       "      <td>182.0</td>\n",
       "      <td>Район Черемушки</td>\n",
       "    </tr>\n",
       "    <tr>\n",
       "      <th>3870</th>\n",
       "      <td>проспект Вернадского</td>\n",
       "      <td>132.0</td>\n",
       "      <td>Район Гагаринский</td>\n",
       "    </tr>\n",
       "    <tr>\n",
       "      <th>3878</th>\n",
       "      <td>Ленинский проспект</td>\n",
       "      <td>147.0</td>\n",
       "      <td>Район Гагаринский</td>\n",
       "    </tr>\n",
       "    <tr>\n",
       "      <th>3908</th>\n",
       "      <td>Профсоюзная улица</td>\n",
       "      <td>182.0</td>\n",
       "      <td>Район Ясенево</td>\n",
       "    </tr>\n",
       "    <tr>\n",
       "      <th>3940</th>\n",
       "      <td>Профсоюзная улица</td>\n",
       "      <td>182.0</td>\n",
       "      <td>Район Коньково</td>\n",
       "    </tr>\n",
       "    <tr>\n",
       "      <th>3959</th>\n",
       "      <td>проспект Вернадского</td>\n",
       "      <td>132.0</td>\n",
       "      <td>Ломоносовский район</td>\n",
       "    </tr>\n",
       "    <tr>\n",
       "      <th>3965</th>\n",
       "      <td>Ленинский проспект</td>\n",
       "      <td>147.0</td>\n",
       "      <td>Ломоносовский район</td>\n",
       "    </tr>\n",
       "    <tr>\n",
       "      <th>3978</th>\n",
       "      <td>Ленинский проспект</td>\n",
       "      <td>147.0</td>\n",
       "      <td>Обручевский район</td>\n",
       "    </tr>\n",
       "    <tr>\n",
       "      <th>3988</th>\n",
       "      <td>Профсоюзная улица</td>\n",
       "      <td>182.0</td>\n",
       "      <td>Обручевский район</td>\n",
       "    </tr>\n",
       "    <tr>\n",
       "      <th>3991</th>\n",
       "      <td>Варшавское шоссе</td>\n",
       "      <td>161.0</td>\n",
       "      <td>Район Северное Бутово</td>\n",
       "    </tr>\n",
       "    <tr>\n",
       "      <th>4013</th>\n",
       "      <td>Ленинский проспект</td>\n",
       "      <td>147.0</td>\n",
       "      <td>Район Теплый Стан</td>\n",
       "    </tr>\n",
       "    <tr>\n",
       "      <th>4016</th>\n",
       "      <td>Профсоюзная улица</td>\n",
       "      <td>182.0</td>\n",
       "      <td>Район Теплый Стан</td>\n",
       "    </tr>\n",
       "    <tr>\n",
       "      <th>4057</th>\n",
       "      <td>Варшавское шоссе</td>\n",
       "      <td>161.0</td>\n",
       "      <td>Район Южное Бутово</td>\n",
       "    </tr>\n",
       "    <tr>\n",
       "      <th>4155</th>\n",
       "      <td>Ленинский проспект</td>\n",
       "      <td>147.0</td>\n",
       "      <td>Район Якиманка</td>\n",
       "    </tr>\n",
       "    <tr>\n",
       "      <th>4326</th>\n",
       "      <td>проспект Мира</td>\n",
       "      <td>204.0</td>\n",
       "      <td>Мещанский район</td>\n",
       "    </tr>\n",
       "  </tbody>\n",
       "</table>\n",
       "</div>"
      ],
      "text/plain": [
       "                  streetname     id                             area\n",
       "72    Пресненская набережная  167.0                Пресненский район\n",
       "1208    Кутузовский проспект  114.0               Район Дорогомилово\n",
       "1280    Кутузовский проспект  114.0             Район Фили-Давыдково\n",
       "1501    проспект Вернадского  132.0       Район Проспект Вернадского\n",
       "1504      Ленинский проспект  147.0       Район Проспект Вернадского\n",
       "1510    проспект Вернадского  132.0                    Район Раменки\n",
       "1598    проспект Вернадского  132.0         Район Тропарево-Никулино\n",
       "1602      Ленинский проспект  147.0         Район Тропарево-Никулино\n",
       "1849  Ленинградский проспект  171.0                   Район Аэропорт\n",
       "1888  Ленинградский проспект  171.0                    Район Беговой\n",
       "1984  Ленинградский проспект  171.0                Хорошевский район\n",
       "2142  Ленинградский проспект  171.0                      Район Сокол\n",
       "2285           проспект Мира  204.0               Алексеевский район\n",
       "2382           проспект Мира  204.0                Ярославский Район\n",
       "2523           проспект Мира  204.0               Район Марьина роща\n",
       "2570           проспект Мира  204.0               Останкинский район\n",
       "2636           проспект Мира  204.0                  Район Ростокино\n",
       "2704           проспект Мира  204.0                   Район Свиблово\n",
       "3097        Варшавское шоссе  161.0      Район Чертаново Центральное\n",
       "3103    Кировоградская улица  110.0      Район Чертаново Центральное\n",
       "3109        Варшавское шоссе  161.0         Район Чертаново Северное\n",
       "3112    Кировоградская улица  110.0         Район Чертаново Северное\n",
       "3117        Варшавское шоссе  161.0            Район Чертаново Южное\n",
       "3123    Кировоградская улица  110.0            Район Чертаново Южное\n",
       "3233        Варшавское шоссе  161.0                    Донской район\n",
       "3252      Ленинский проспект  147.0                    Донской район\n",
       "3284         Каширское шоссе  112.0       Район Москворечье-Сабурово\n",
       "3297        Варшавское шоссе  161.0         Район Нагатино-Садовники\n",
       "3300         Каширское шоссе  112.0         Район Нагатино-Садовники\n",
       "3341        Варшавское шоссе  161.0                   Нагорный район\n",
       "3361         Каширское шоссе  112.0     Район Орехово-Борисово Южное\n",
       "3384         Каширское шоссе  112.0  Район Орехово-Борисово Северное\n",
       "3837       Профсоюзная улица  182.0              Академический район\n",
       "3859       Профсоюзная улица  182.0                  Район Черемушки\n",
       "3870    проспект Вернадского  132.0                Район Гагаринский\n",
       "3878      Ленинский проспект  147.0                Район Гагаринский\n",
       "3908       Профсоюзная улица  182.0                    Район Ясенево\n",
       "3940       Профсоюзная улица  182.0                   Район Коньково\n",
       "3959    проспект Вернадского  132.0              Ломоносовский район\n",
       "3965      Ленинский проспект  147.0              Ломоносовский район\n",
       "3978      Ленинский проспект  147.0                Обручевский район\n",
       "3988       Профсоюзная улица  182.0                Обручевский район\n",
       "3991        Варшавское шоссе  161.0            Район Северное Бутово\n",
       "4013      Ленинский проспект  147.0                Район Теплый Стан\n",
       "4016       Профсоюзная улица  182.0                Район Теплый Стан\n",
       "4057        Варшавское шоссе  161.0               Район Южное Бутово\n",
       "4155      Ленинский проспект  147.0                   Район Якиманка\n",
       "4326           проспект Мира  204.0                  Мещанский район"
      ]
     },
     "metadata": {},
     "output_type": "display_data"
    }
   ],
   "source": [
    "top_10_area = top_10_plus[top_10_plus['streetname'].isin(list_top_10)]\n",
    "display(top_10_area)"
   ]
  },
  {
   "cell_type": "code",
   "execution_count": 37,
   "metadata": {},
   "outputs": [
    {
     "data": {
      "text/html": [
       "<div>\n",
       "<style scoped>\n",
       "    .dataframe tbody tr th:only-of-type {\n",
       "        vertical-align: middle;\n",
       "    }\n",
       "\n",
       "    .dataframe tbody tr th {\n",
       "        vertical-align: top;\n",
       "    }\n",
       "\n",
       "    .dataframe thead th {\n",
       "        text-align: right;\n",
       "    }\n",
       "</style>\n",
       "<table border=\"1\" class=\"dataframe\">\n",
       "  <thead>\n",
       "    <tr style=\"text-align: right;\">\n",
       "      <th></th>\n",
       "      <th>id</th>\n",
       "    </tr>\n",
       "    <tr>\n",
       "      <th>area</th>\n",
       "      <th></th>\n",
       "    </tr>\n",
       "  </thead>\n",
       "  <tbody>\n",
       "    <tr>\n",
       "      <th>Район Теплый Стан</th>\n",
       "      <td>329.0</td>\n",
       "    </tr>\n",
       "    <tr>\n",
       "      <th>Обручевский район</th>\n",
       "      <td>329.0</td>\n",
       "    </tr>\n",
       "    <tr>\n",
       "      <th>Донской район</th>\n",
       "      <td>308.0</td>\n",
       "    </tr>\n",
       "    <tr>\n",
       "      <th>Район Проспект Вернадского</th>\n",
       "      <td>279.0</td>\n",
       "    </tr>\n",
       "    <tr>\n",
       "      <th>Ломоносовский район</th>\n",
       "      <td>279.0</td>\n",
       "    </tr>\n",
       "  </tbody>\n",
       "</table>\n",
       "</div>"
      ],
      "text/plain": [
       "                               id\n",
       "area                             \n",
       "Район Теплый Стан           329.0\n",
       "Обручевский район           329.0\n",
       "Донской район               308.0\n",
       "Район Проспект Вернадского  279.0\n",
       "Ломоносовский район         279.0"
      ]
     },
     "metadata": {},
     "output_type": "display_data"
    }
   ],
   "source": [
    "# найдем топ районов по количеству объектов (сумме id)\n",
    "display(top_10_area.pivot_table(index=['area'], values=['id'], aggfunc='sum').sort_values(by='id', ascending=False).head(5))"
   ]
  },
  {
   "cell_type": "code",
   "execution_count": 38,
   "metadata": {},
   "outputs": [
    {
     "data": {
      "text/html": [
       "<div>\n",
       "<style scoped>\n",
       "    .dataframe tbody tr th:only-of-type {\n",
       "        vertical-align: middle;\n",
       "    }\n",
       "\n",
       "    .dataframe tbody tr th {\n",
       "        vertical-align: top;\n",
       "    }\n",
       "\n",
       "    .dataframe thead th {\n",
       "        text-align: right;\n",
       "    }\n",
       "</style>\n",
       "<table border=\"1\" class=\"dataframe\">\n",
       "  <thead>\n",
       "    <tr style=\"text-align: right;\">\n",
       "      <th></th>\n",
       "      <th>area</th>\n",
       "    </tr>\n",
       "    <tr>\n",
       "      <th>streetname</th>\n",
       "      <th></th>\n",
       "    </tr>\n",
       "  </thead>\n",
       "  <tbody>\n",
       "    <tr>\n",
       "      <th>Варшавское шоссе</th>\n",
       "      <td>[Район Чертаново Центральное, Район Чертаново Северное, Район Чертаново Южное, Донской район, Район Нагатино-Садовники, Нагорный район, Район Северное Бутово, Район Южное Бутово]</td>\n",
       "    </tr>\n",
       "    <tr>\n",
       "      <th>Каширское шоссе</th>\n",
       "      <td>[Район Москворечье-Сабурово, Район Нагатино-Садовники, Район Орехово-Борисово Южное, Район Орехово-Борисово Северное]</td>\n",
       "    </tr>\n",
       "    <tr>\n",
       "      <th>Кировоградская улица</th>\n",
       "      <td>[Район Чертаново Центральное, Район Чертаново Северное, Район Чертаново Южное]</td>\n",
       "    </tr>\n",
       "    <tr>\n",
       "      <th>Кутузовский проспект</th>\n",
       "      <td>[Район Дорогомилово, Район Фили-Давыдково]</td>\n",
       "    </tr>\n",
       "    <tr>\n",
       "      <th>Ленинградский проспект</th>\n",
       "      <td>[Район Аэропорт, Район Беговой, Хорошевский район, Район Сокол]</td>\n",
       "    </tr>\n",
       "    <tr>\n",
       "      <th>Ленинский проспект</th>\n",
       "      <td>[Район Проспект Вернадского, Район Тропарево-Никулино, Донской район, Район Гагаринский, Ломоносовский район, Обручевский район, Район Теплый Стан, Район Якиманка]</td>\n",
       "    </tr>\n",
       "    <tr>\n",
       "      <th>Пресненская набережная</th>\n",
       "      <td>[Пресненский район]</td>\n",
       "    </tr>\n",
       "    <tr>\n",
       "      <th>Профсоюзная улица</th>\n",
       "      <td>[Академический район, Район Черемушки, Район Ясенево, Район Коньково, Обручевский район, Район Теплый Стан]</td>\n",
       "    </tr>\n",
       "    <tr>\n",
       "      <th>проспект Вернадского</th>\n",
       "      <td>[Район Проспект Вернадского, Район Раменки, Район Тропарево-Никулино, Район Гагаринский, Ломоносовский район]</td>\n",
       "    </tr>\n",
       "    <tr>\n",
       "      <th>проспект Мира</th>\n",
       "      <td>[Алексеевский район, Ярославский Район, Район Марьина роща, Останкинский район, Район Ростокино, Район Свиблово, Мещанский район]</td>\n",
       "    </tr>\n",
       "  </tbody>\n",
       "</table>\n",
       "</div>"
      ],
      "text/plain": [
       "                                                                                                                                                                                                      area\n",
       "streetname                                                                                                                                                                                                \n",
       "Варшавское шоссе        [Район Чертаново Центральное, Район Чертаново Северное, Район Чертаново Южное, Донской район, Район Нагатино-Садовники, Нагорный район, Район Северное Бутово, Район Южное Бутово]\n",
       "Каширское шоссе                                                                      [Район Москворечье-Сабурово, Район Нагатино-Садовники, Район Орехово-Борисово Южное, Район Орехово-Борисово Северное]\n",
       "Кировоградская улица                                                                                                        [Район Чертаново Центральное, Район Чертаново Северное, Район Чертаново Южное]\n",
       "Кутузовский проспект                                                                                                                                            [Район Дорогомилово, Район Фили-Давыдково]\n",
       "Ленинградский проспект                                                                                                                     [Район Аэропорт, Район Беговой, Хорошевский район, Район Сокол]\n",
       "Ленинский проспект                     [Район Проспект Вернадского, Район Тропарево-Никулино, Донской район, Район Гагаринский, Ломоносовский район, Обручевский район, Район Теплый Стан, Район Якиманка]\n",
       "Пресненская набережная                                                                                                                                                                 [Пресненский район]\n",
       "Профсоюзная улица                                                                              [Академический район, Район Черемушки, Район Ясенево, Район Коньково, Обручевский район, Район Теплый Стан]\n",
       "проспект Вернадского                                                                         [Район Проспект Вернадского, Район Раменки, Район Тропарево-Никулино, Район Гагаринский, Ломоносовский район]\n",
       "проспект Мира                                                            [Алексеевский район, Ярославский Район, Район Марьина роща, Останкинский район, Район Ростокино, Район Свиблово, Мещанский район]"
      ]
     },
     "metadata": {},
     "output_type": "display_data"
    }
   ],
   "source": [
    "# улица / районы, уникальные значения\n",
    "\n",
    "with pd.option_context('display.max_colwidth', None):\n",
    "    display(top_10_area.groupby('streetname').agg({'area' : 'unique'}))"
   ]
  },
  {
   "cell_type": "markdown",
   "metadata": {},
   "source": [
    "#### Топ-5 районов по количеству объектов: "
   ]
  },
  {
   "cell_type": "markdown",
   "metadata": {},
   "source": [
    "Район Теплый Стан, Обручевский район, Донской район, Район Проспект Вернадского, Ломоносовский район"
   ]
  },
  {
   "cell_type": "markdown",
   "metadata": {},
   "source": [
    "### Найдите число улиц с одним объектом общественного питания"
   ]
  },
  {
   "cell_type": "code",
   "execution_count": 39,
   "metadata": {},
   "outputs": [
    {
     "data": {
      "text/html": [
       "<div>\n",
       "<style scoped>\n",
       "    .dataframe tbody tr th:only-of-type {\n",
       "        vertical-align: middle;\n",
       "    }\n",
       "\n",
       "    .dataframe tbody tr th {\n",
       "        vertical-align: top;\n",
       "    }\n",
       "\n",
       "    .dataframe thead th {\n",
       "        text-align: right;\n",
       "    }\n",
       "</style>\n",
       "<table border=\"1\" class=\"dataframe\">\n",
       "  <thead>\n",
       "    <tr style=\"text-align: right;\">\n",
       "      <th></th>\n",
       "      <th>id</th>\n",
       "      <th>streetname</th>\n",
       "    </tr>\n",
       "  </thead>\n",
       "  <tbody>\n",
       "    <tr>\n",
       "      <th>0</th>\n",
       "      <td>1</td>\n",
       "      <td>579</td>\n",
       "    </tr>\n",
       "  </tbody>\n",
       "</table>\n",
       "</div>"
      ],
      "text/plain": [
       "   id  streetname\n",
       "0   1         579"
      ]
     },
     "metadata": {},
     "output_type": "display_data"
    }
   ],
   "source": [
    "# сгруппируем по количеству улиц\n",
    "adress_1 = df.groupby(by='streetname')['id'].count().sort_values(ascending=True).reset_index()\n",
    "#display(adress_1)\n",
    "\n",
    "# отфильтруем со значением 1\n",
    "adress_11 = adress_1.query(\"id == 1\")\n",
    "#display(adress_11)\n",
    "\n",
    "adress_111 = adress_11.groupby('id').count().reset_index()\n",
    "display(adress_111)"
   ]
  },
  {
   "cell_type": "markdown",
   "metadata": {},
   "source": [
    "### В каких районах находятся улицы с 1 объектом"
   ]
  },
  {
   "cell_type": "code",
   "execution_count": 40,
   "metadata": {},
   "outputs": [
    {
     "data": {
      "text/html": [
       "<div>\n",
       "<style scoped>\n",
       "    .dataframe tbody tr th:only-of-type {\n",
       "        vertical-align: middle;\n",
       "    }\n",
       "\n",
       "    .dataframe tbody tr th {\n",
       "        vertical-align: top;\n",
       "    }\n",
       "\n",
       "    .dataframe thead th {\n",
       "        text-align: right;\n",
       "    }\n",
       "</style>\n",
       "<table border=\"1\" class=\"dataframe\">\n",
       "  <thead>\n",
       "    <tr style=\"text-align: right;\">\n",
       "      <th></th>\n",
       "      <th>streetname</th>\n",
       "      <th>id</th>\n",
       "    </tr>\n",
       "  </thead>\n",
       "  <tbody>\n",
       "    <tr>\n",
       "      <th>0</th>\n",
       "      <td>Новопресненский переулок</td>\n",
       "      <td>1</td>\n",
       "    </tr>\n",
       "    <tr>\n",
       "      <th>1</th>\n",
       "      <td>Вяземская улица</td>\n",
       "      <td>1</td>\n",
       "    </tr>\n",
       "    <tr>\n",
       "      <th>2</th>\n",
       "      <td>улица Раевского</td>\n",
       "      <td>1</td>\n",
       "    </tr>\n",
       "  </tbody>\n",
       "</table>\n",
       "</div>"
      ],
      "text/plain": [
       "                 streetname  id\n",
       "0  Новопресненский переулок   1\n",
       "1           Вяземская улица   1\n",
       "2           улица Раевского   1"
      ]
     },
     "metadata": {},
     "output_type": "display_data"
    }
   ],
   "source": [
    "display(adress_11.head(3))"
   ]
  },
  {
   "cell_type": "code",
   "execution_count": 41,
   "metadata": {},
   "outputs": [
    {
     "data": {
      "text/html": [
       "<div>\n",
       "<style scoped>\n",
       "    .dataframe tbody tr th:only-of-type {\n",
       "        vertical-align: middle;\n",
       "    }\n",
       "\n",
       "    .dataframe tbody tr th {\n",
       "        vertical-align: top;\n",
       "    }\n",
       "\n",
       "    .dataframe thead th {\n",
       "        text-align: right;\n",
       "    }\n",
       "</style>\n",
       "<table border=\"1\" class=\"dataframe\">\n",
       "  <thead>\n",
       "    <tr style=\"text-align: right;\">\n",
       "      <th></th>\n",
       "      <th>streetname</th>\n",
       "      <th>id</th>\n",
       "      <th>area</th>\n",
       "    </tr>\n",
       "  </thead>\n",
       "  <tbody>\n",
       "    <tr>\n",
       "      <th>203</th>\n",
       "      <td>Кулаков переулок</td>\n",
       "      <td>1</td>\n",
       "      <td>Алексеевский район</td>\n",
       "    </tr>\n",
       "    <tr>\n",
       "      <th>281</th>\n",
       "      <td>Рижский проезд</td>\n",
       "      <td>1</td>\n",
       "      <td>Алексеевский район</td>\n",
       "    </tr>\n",
       "    <tr>\n",
       "      <th>434</th>\n",
       "      <td>улица Константинова</td>\n",
       "      <td>1</td>\n",
       "      <td>Алексеевский район</td>\n",
       "    </tr>\n",
       "    <tr>\n",
       "      <th>52</th>\n",
       "      <td>Староалексеевская улица</td>\n",
       "      <td>1</td>\n",
       "      <td>Алексеевский район</td>\n",
       "    </tr>\n",
       "    <tr>\n",
       "      <th>288</th>\n",
       "      <td>Зубарев переулок</td>\n",
       "      <td>1</td>\n",
       "      <td>Алексеевский район</td>\n",
       "    </tr>\n",
       "  </tbody>\n",
       "</table>\n",
       "</div>"
      ],
      "text/plain": [
       "                  streetname  id                area\n",
       "203         Кулаков переулок   1  Алексеевский район\n",
       "281           Рижский проезд   1  Алексеевский район\n",
       "434      улица Константинова   1  Алексеевский район\n",
       "52   Староалексеевская улица   1  Алексеевский район\n",
       "288         Зубарев переулок   1  Алексеевский район"
      ]
     },
     "execution_count": 41,
     "metadata": {},
     "output_type": "execute_result"
    }
   ],
   "source": [
    "# присоеденим к таблице с названием улиц с 1 объектом названия районов\n",
    "\n",
    "adress_11_plus = adress_11.merge(df_area[['streetname', 'area']], on='streetname', how='left')\n",
    "\n",
    "adress_11_plus.sort_values(by='area', ascending=True).head(5)"
   ]
  },
  {
   "cell_type": "code",
   "execution_count": 42,
   "metadata": {},
   "outputs": [
    {
     "data": {
      "text/html": [
       "<div>\n",
       "<style scoped>\n",
       "    .dataframe tbody tr th:only-of-type {\n",
       "        vertical-align: middle;\n",
       "    }\n",
       "\n",
       "    .dataframe tbody tr th {\n",
       "        vertical-align: top;\n",
       "    }\n",
       "\n",
       "    .dataframe thead th {\n",
       "        text-align: right;\n",
       "    }\n",
       "</style>\n",
       "<table border=\"1\" class=\"dataframe\">\n",
       "  <thead>\n",
       "    <tr style=\"text-align: right;\">\n",
       "      <th></th>\n",
       "      <th>id</th>\n",
       "    </tr>\n",
       "    <tr>\n",
       "      <th>area</th>\n",
       "      <th></th>\n",
       "    </tr>\n",
       "  </thead>\n",
       "  <tbody>\n",
       "    <tr>\n",
       "      <th>Таганский район</th>\n",
       "      <td>28</td>\n",
       "    </tr>\n",
       "    <tr>\n",
       "      <th>Район Хамовники</th>\n",
       "      <td>26</td>\n",
       "    </tr>\n",
       "    <tr>\n",
       "      <th>Басманный район</th>\n",
       "      <td>25</td>\n",
       "    </tr>\n",
       "    <tr>\n",
       "      <th>Тверской район</th>\n",
       "      <td>20</td>\n",
       "    </tr>\n",
       "    <tr>\n",
       "      <th>Район Марьина роща</th>\n",
       "      <td>19</td>\n",
       "    </tr>\n",
       "  </tbody>\n",
       "</table>\n",
       "</div>"
      ],
      "text/plain": [
       "                    id\n",
       "area                  \n",
       "Таганский район     28\n",
       "Район Хамовники     26\n",
       "Басманный район     25\n",
       "Тверской район      20\n",
       "Район Марьина роща  19"
      ]
     },
     "metadata": {},
     "output_type": "display_data"
    }
   ],
   "source": [
    "# найдем топ 5 районов с 1 объектом на улице\n",
    "\n",
    "display(adress_11_plus.pivot_table(index=['area'], values=['id'], aggfunc='sum').sort_values(by='id', ascending=False).head(5))"
   ]
  },
  {
   "cell_type": "markdown",
   "metadata": {},
   "source": [
    "#### Топ-5 районов с 1 объектом на улице"
   ]
  },
  {
   "cell_type": "markdown",
   "metadata": {},
   "source": [
    "Таганский район, Район Хамовники, Басманский район, Тверской район, Район Марьина роща"
   ]
  },
  {
   "cell_type": "markdown",
   "metadata": {},
   "source": [
    "### Выводы и рекомендации <a id='3'></a>"
   ]
  },
  {
   "cell_type": "markdown",
   "metadata": {},
   "source": [
    "На основе проведенного исследования можно дать ряд следующих реккомендаций по открываемому сетевому кафе \"ROBOTS\":\n",
    "- предпочтительный типа заведения \"Кафе\" или \"Фаст фуд\". Именно в этих сегментах больше всего представленно сетевых объектов, в то же время на графике видно что их доля меньше 50%, что дает место для активного роста.\n",
    "- количество посадочных мест 39-47\n",
    "- на первых местах находятся сетевые объекты с большим количеством посадочных мест (больше 39)\n",
    "- районы Москвы которые пересекают улицы с самым большим количесвом заведений: Район Теплый Стан, Обручевский район, Донской район, Район Проспект Вернадского, Ломоносовский район\n",
    "- районы Москвы которые пересекают улицы на которых расположено только одно заведение: Таганский район, Район Хамовники, Басманский район, Тверской район, Район Марьина роща\n"
   ]
  },
  {
   "cell_type": "markdown",
   "metadata": {},
   "source": [
    "Исходя из общего количества уже открытых кафе в Москве, как сетевых так и не сетевых, можно сказать, что кафе \"ROBOTS\" в сетевом формате сможет отвоевать определенную долю рынка у несетевых кафе и активно развиваться в долгосрочной перспективе.\n",
    "\n",
    "Сделать выводы о возможной потере популярности в виду утраты интереса публики к самой тематике в рамках данного исследования не представляется возможным в виду нехватки входящих данных."
   ]
  }
 ],
 "metadata": {
  "ExecuteTimeLog": [
   {
    "duration": 70,
    "start_time": "2022-07-06T17:22:55.595Z"
   },
   {
    "duration": 1208,
    "start_time": "2022-07-06T17:25:32.100Z"
   },
   {
    "duration": 116,
    "start_time": "2022-07-06T17:26:21.459Z"
   },
   {
    "duration": 69,
    "start_time": "2022-07-06T17:26:34.067Z"
   },
   {
    "duration": 23,
    "start_time": "2022-07-06T17:27:08.291Z"
   },
   {
    "duration": 10,
    "start_time": "2022-07-06T17:27:35.908Z"
   },
   {
    "duration": 11,
    "start_time": "2022-07-06T17:29:55.440Z"
   },
   {
    "duration": 3,
    "start_time": "2022-07-06T17:32:20.750Z"
   },
   {
    "duration": 5,
    "start_time": "2022-07-06T17:33:15.959Z"
   },
   {
    "duration": 12,
    "start_time": "2022-07-06T17:33:22.929Z"
   },
   {
    "duration": 43,
    "start_time": "2022-07-06T17:37:00.929Z"
   },
   {
    "duration": 12,
    "start_time": "2022-07-06T17:37:33.920Z"
   },
   {
    "duration": 15,
    "start_time": "2022-07-06T17:38:02.419Z"
   },
   {
    "duration": 22,
    "start_time": "2022-07-06T17:39:15.630Z"
   },
   {
    "duration": 692,
    "start_time": "2022-07-06T17:40:03.815Z"
   },
   {
    "duration": 35,
    "start_time": "2022-07-06T17:40:11.719Z"
   },
   {
    "duration": 17,
    "start_time": "2022-07-06T17:45:37.333Z"
   },
   {
    "duration": 52,
    "start_time": "2022-07-06T17:46:19.259Z"
   },
   {
    "duration": 7,
    "start_time": "2022-07-06T17:46:48.681Z"
   },
   {
    "duration": 6,
    "start_time": "2022-07-06T17:47:40.681Z"
   },
   {
    "duration": 181,
    "start_time": "2022-07-06T17:48:09.005Z"
   },
   {
    "duration": 178,
    "start_time": "2022-07-06T17:49:32.619Z"
   },
   {
    "duration": 164,
    "start_time": "2022-07-06T17:49:52.727Z"
   },
   {
    "duration": 278,
    "start_time": "2022-07-06T18:00:19.787Z"
   },
   {
    "duration": 192,
    "start_time": "2022-07-06T18:00:34.596Z"
   },
   {
    "duration": 173,
    "start_time": "2022-07-06T18:00:46.784Z"
   },
   {
    "duration": 199,
    "start_time": "2022-07-06T18:00:54.583Z"
   },
   {
    "duration": 168,
    "start_time": "2022-07-06T18:02:58.384Z"
   },
   {
    "duration": 182,
    "start_time": "2022-07-06T18:03:14.264Z"
   },
   {
    "duration": 244,
    "start_time": "2022-07-06T18:03:23.863Z"
   },
   {
    "duration": 168,
    "start_time": "2022-07-06T18:06:40.046Z"
   },
   {
    "duration": 199,
    "start_time": "2022-07-06T18:07:03.684Z"
   },
   {
    "duration": 188,
    "start_time": "2022-07-06T18:07:17.003Z"
   },
   {
    "duration": 57,
    "start_time": "2022-07-06T18:08:45.984Z"
   },
   {
    "duration": 7,
    "start_time": "2022-07-06T18:12:10.202Z"
   },
   {
    "duration": 96,
    "start_time": "2022-07-06T18:16:16.523Z"
   },
   {
    "duration": 97,
    "start_time": "2022-07-06T18:16:29.163Z"
   },
   {
    "duration": 91,
    "start_time": "2022-07-06T18:16:35.664Z"
   },
   {
    "duration": 105,
    "start_time": "2022-07-06T18:17:47.061Z"
   },
   {
    "duration": 99,
    "start_time": "2022-07-06T18:17:55.896Z"
   },
   {
    "duration": 56,
    "start_time": "2022-07-06T20:33:45.509Z"
   },
   {
    "duration": 94,
    "start_time": "2022-07-06T20:33:58.810Z"
   },
   {
    "duration": 106,
    "start_time": "2022-07-06T20:34:08.516Z"
   },
   {
    "duration": 1356,
    "start_time": "2022-07-07T05:59:05.107Z"
   },
   {
    "duration": 137,
    "start_time": "2022-07-07T06:17:52.585Z"
   },
   {
    "duration": 4,
    "start_time": "2022-07-07T06:18:09.979Z"
   },
   {
    "duration": 131,
    "start_time": "2022-07-07T06:18:09.990Z"
   },
   {
    "duration": 22,
    "start_time": "2022-07-07T06:18:10.123Z"
   },
   {
    "duration": 13,
    "start_time": "2022-07-07T06:18:10.146Z"
   },
   {
    "duration": 24,
    "start_time": "2022-07-07T06:18:10.161Z"
   },
   {
    "duration": 55,
    "start_time": "2022-07-07T06:18:10.187Z"
   },
   {
    "duration": 11,
    "start_time": "2022-07-07T06:18:10.244Z"
   },
   {
    "duration": 287,
    "start_time": "2022-07-07T06:18:10.257Z"
   },
   {
    "duration": 6,
    "start_time": "2022-07-07T06:18:10.547Z"
   },
   {
    "duration": 135,
    "start_time": "2022-07-07T06:18:10.556Z"
   },
   {
    "duration": 33,
    "start_time": "2022-07-07T06:18:10.693Z"
   },
   {
    "duration": 23,
    "start_time": "2022-07-07T06:19:19.422Z"
   },
   {
    "duration": 777,
    "start_time": "2022-07-07T06:22:50.230Z"
   },
   {
    "duration": 970,
    "start_time": "2022-07-07T06:23:33.547Z"
   },
   {
    "duration": 3,
    "start_time": "2022-07-07T06:23:54.843Z"
   },
   {
    "duration": 74,
    "start_time": "2022-07-07T06:23:54.853Z"
   },
   {
    "duration": 20,
    "start_time": "2022-07-07T06:23:54.929Z"
   },
   {
    "duration": 14,
    "start_time": "2022-07-07T06:23:54.951Z"
   },
   {
    "duration": 33,
    "start_time": "2022-07-07T06:23:54.967Z"
   },
   {
    "duration": 45,
    "start_time": "2022-07-07T06:23:55.003Z"
   },
   {
    "duration": 7,
    "start_time": "2022-07-07T06:23:55.050Z"
   },
   {
    "duration": 225,
    "start_time": "2022-07-07T06:23:55.058Z"
   },
   {
    "duration": 8,
    "start_time": "2022-07-07T06:23:55.285Z"
   },
   {
    "duration": 135,
    "start_time": "2022-07-07T06:23:55.294Z"
   },
   {
    "duration": 22,
    "start_time": "2022-07-07T06:23:55.430Z"
   },
   {
    "duration": 0,
    "start_time": "2022-07-07T06:23:55.453Z"
   },
   {
    "duration": 23,
    "start_time": "2022-07-07T06:24:11.809Z"
   },
   {
    "duration": 25,
    "start_time": "2022-07-07T06:27:51.574Z"
   },
   {
    "duration": 27,
    "start_time": "2022-07-07T06:28:25.819Z"
   },
   {
    "duration": 4,
    "start_time": "2022-07-07T06:37:24.536Z"
   },
   {
    "duration": 4,
    "start_time": "2022-07-07T06:37:40.797Z"
   },
   {
    "duration": 83,
    "start_time": "2022-07-07T06:37:40.806Z"
   },
   {
    "duration": 19,
    "start_time": "2022-07-07T06:37:40.891Z"
   },
   {
    "duration": 17,
    "start_time": "2022-07-07T06:37:40.911Z"
   },
   {
    "duration": 24,
    "start_time": "2022-07-07T06:37:40.930Z"
   },
   {
    "duration": 21,
    "start_time": "2022-07-07T06:37:40.957Z"
   },
   {
    "duration": 15,
    "start_time": "2022-07-07T06:37:40.980Z"
   },
   {
    "duration": 232,
    "start_time": "2022-07-07T06:37:40.996Z"
   },
   {
    "duration": 6,
    "start_time": "2022-07-07T06:37:41.230Z"
   },
   {
    "duration": 116,
    "start_time": "2022-07-07T06:37:41.237Z"
   },
   {
    "duration": 3,
    "start_time": "2022-07-07T06:37:41.355Z"
   },
   {
    "duration": 271,
    "start_time": "2022-07-07T06:38:22.177Z"
   },
   {
    "duration": 17,
    "start_time": "2022-07-07T06:40:08.737Z"
   },
   {
    "duration": 14,
    "start_time": "2022-07-07T06:40:26.030Z"
   },
   {
    "duration": 218,
    "start_time": "2022-07-07T06:40:46.212Z"
   },
   {
    "duration": 13,
    "start_time": "2022-07-07T06:46:18.395Z"
   },
   {
    "duration": 10,
    "start_time": "2022-07-07T06:46:31.366Z"
   },
   {
    "duration": 13,
    "start_time": "2022-07-07T06:46:41.654Z"
   },
   {
    "duration": 249,
    "start_time": "2022-07-07T06:47:20.355Z"
   },
   {
    "duration": 1012,
    "start_time": "2022-07-07T06:51:32.985Z"
   },
   {
    "duration": 32,
    "start_time": "2022-07-07T06:52:00.045Z"
   },
   {
    "duration": 18,
    "start_time": "2022-07-07T06:53:38.639Z"
   },
   {
    "duration": 20,
    "start_time": "2022-07-07T06:53:57.780Z"
   },
   {
    "duration": 179,
    "start_time": "2022-07-07T07:20:18.238Z"
   },
   {
    "duration": 238,
    "start_time": "2022-07-07T07:22:10.956Z"
   },
   {
    "duration": 225,
    "start_time": "2022-07-07T07:23:37.031Z"
   },
   {
    "duration": 220,
    "start_time": "2022-07-07T07:23:47.527Z"
   },
   {
    "duration": 243,
    "start_time": "2022-07-07T07:23:58.696Z"
   },
   {
    "duration": 127,
    "start_time": "2022-07-07T07:25:07.570Z"
   },
   {
    "duration": 306,
    "start_time": "2022-07-07T07:26:07.565Z"
   },
   {
    "duration": 342,
    "start_time": "2022-07-07T07:27:20.993Z"
   },
   {
    "duration": 27,
    "start_time": "2022-07-07T07:29:18.078Z"
   },
   {
    "duration": 323,
    "start_time": "2022-07-07T07:29:40.707Z"
   },
   {
    "duration": 246,
    "start_time": "2022-07-07T07:30:14.577Z"
   },
   {
    "duration": 277,
    "start_time": "2022-07-07T07:30:22.836Z"
   },
   {
    "duration": 243,
    "start_time": "2022-07-07T07:30:57.046Z"
   },
   {
    "duration": 236,
    "start_time": "2022-07-07T07:31:05.446Z"
   },
   {
    "duration": 219,
    "start_time": "2022-07-07T07:31:10.774Z"
   },
   {
    "duration": 229,
    "start_time": "2022-07-07T07:31:17.051Z"
   },
   {
    "duration": 46,
    "start_time": "2022-07-07T07:33:20.226Z"
   },
   {
    "duration": 56,
    "start_time": "2022-07-07T07:39:09.158Z"
   },
   {
    "duration": 63,
    "start_time": "2022-07-07T07:39:23.948Z"
   },
   {
    "duration": 65,
    "start_time": "2022-07-07T07:39:36.486Z"
   },
   {
    "duration": 67,
    "start_time": "2022-07-07T07:39:47.683Z"
   },
   {
    "duration": 16,
    "start_time": "2022-07-07T08:05:08.553Z"
   },
   {
    "duration": 18,
    "start_time": "2022-07-07T08:06:18.175Z"
   },
   {
    "duration": 23,
    "start_time": "2022-07-07T08:07:24.469Z"
   },
   {
    "duration": 19,
    "start_time": "2022-07-07T08:07:46.155Z"
   },
   {
    "duration": 21,
    "start_time": "2022-07-07T08:09:06.509Z"
   },
   {
    "duration": 221,
    "start_time": "2022-07-07T08:09:27.582Z"
   },
   {
    "duration": 249,
    "start_time": "2022-07-07T08:11:06.625Z"
   },
   {
    "duration": 24,
    "start_time": "2022-07-07T08:17:40.805Z"
   },
   {
    "duration": 35,
    "start_time": "2022-07-07T08:17:54.968Z"
   },
   {
    "duration": 16,
    "start_time": "2022-07-07T08:18:20.534Z"
   },
   {
    "duration": 16,
    "start_time": "2022-07-07T08:19:08.019Z"
   },
   {
    "duration": 18,
    "start_time": "2022-07-07T08:19:22.954Z"
   },
   {
    "duration": 225,
    "start_time": "2022-07-07T08:20:22.912Z"
   },
   {
    "duration": 196,
    "start_time": "2022-07-07T08:20:38.092Z"
   },
   {
    "duration": 3,
    "start_time": "2022-07-07T08:24:45.591Z"
   },
   {
    "duration": 16,
    "start_time": "2022-07-07T08:25:31.532Z"
   },
   {
    "duration": 20,
    "start_time": "2022-07-07T08:25:47.103Z"
   },
   {
    "duration": 312,
    "start_time": "2022-07-07T08:26:35.549Z"
   },
   {
    "duration": 219,
    "start_time": "2022-07-07T08:26:52.602Z"
   },
   {
    "duration": 62,
    "start_time": "2022-07-07T08:29:37.733Z"
   },
   {
    "duration": 3,
    "start_time": "2022-07-07T08:30:51.210Z"
   },
   {
    "duration": 31,
    "start_time": "2022-07-07T08:34:54.851Z"
   },
   {
    "duration": 52,
    "start_time": "2022-07-07T08:35:05.521Z"
   },
   {
    "duration": 21,
    "start_time": "2022-07-07T08:40:28.053Z"
   },
   {
    "duration": 21,
    "start_time": "2022-07-07T08:41:19.388Z"
   },
   {
    "duration": 34,
    "start_time": "2022-07-07T08:41:43.718Z"
   },
   {
    "duration": 29,
    "start_time": "2022-07-07T08:42:10.884Z"
   },
   {
    "duration": 34,
    "start_time": "2022-07-07T08:42:24.629Z"
   },
   {
    "duration": 21,
    "start_time": "2022-07-07T08:42:43.145Z"
   },
   {
    "duration": 24,
    "start_time": "2022-07-07T08:42:51.007Z"
   },
   {
    "duration": 29,
    "start_time": "2022-07-07T08:44:58.950Z"
   },
   {
    "duration": 281,
    "start_time": "2022-07-07T08:45:54.646Z"
   },
   {
    "duration": 13,
    "start_time": "2022-07-07T08:46:40.304Z"
   },
   {
    "duration": 246,
    "start_time": "2022-07-07T08:46:53.097Z"
   },
   {
    "duration": 21,
    "start_time": "2022-07-07T08:47:36.013Z"
   },
   {
    "duration": 21,
    "start_time": "2022-07-07T09:49:21.470Z"
   },
   {
    "duration": 19,
    "start_time": "2022-07-07T09:49:41.839Z"
   },
   {
    "duration": 16,
    "start_time": "2022-07-07T09:50:00.127Z"
   },
   {
    "duration": 19,
    "start_time": "2022-07-07T09:50:20.163Z"
   },
   {
    "duration": 118,
    "start_time": "2022-07-07T09:52:05.030Z"
   },
   {
    "duration": 53,
    "start_time": "2022-07-07T09:52:41.977Z"
   },
   {
    "duration": 50,
    "start_time": "2022-07-07T09:52:59.570Z"
   },
   {
    "duration": 46,
    "start_time": "2022-07-07T09:53:53.349Z"
   },
   {
    "duration": 50,
    "start_time": "2022-07-07T09:54:11.821Z"
   },
   {
    "duration": 16,
    "start_time": "2022-07-07T09:54:36.038Z"
   },
   {
    "duration": 67,
    "start_time": "2022-07-07T09:55:33.733Z"
   },
   {
    "duration": 20,
    "start_time": "2022-07-07T09:55:42.291Z"
   },
   {
    "duration": 23,
    "start_time": "2022-07-07T09:56:04.533Z"
   },
   {
    "duration": 12,
    "start_time": "2022-07-07T09:56:26.759Z"
   },
   {
    "duration": 22,
    "start_time": "2022-07-07T09:57:13.981Z"
   },
   {
    "duration": 51,
    "start_time": "2022-07-07T09:57:25.442Z"
   },
   {
    "duration": 53,
    "start_time": "2022-07-07T09:57:34.229Z"
   },
   {
    "duration": 24,
    "start_time": "2022-07-07T09:57:47.382Z"
   },
   {
    "duration": 12,
    "start_time": "2022-07-07T09:58:34.640Z"
   },
   {
    "duration": 798,
    "start_time": "2022-07-07T09:58:47.696Z"
   },
   {
    "duration": 867,
    "start_time": "2022-07-07T09:59:02.161Z"
   },
   {
    "duration": 11,
    "start_time": "2022-07-07T09:59:10.198Z"
   },
   {
    "duration": 14,
    "start_time": "2022-07-07T09:59:40.341Z"
   },
   {
    "duration": 15,
    "start_time": "2022-07-07T10:00:01.042Z"
   },
   {
    "duration": 14,
    "start_time": "2022-07-07T10:00:39.584Z"
   },
   {
    "duration": 15,
    "start_time": "2022-07-07T10:00:46.458Z"
   },
   {
    "duration": 17,
    "start_time": "2022-07-07T10:04:02.957Z"
   },
   {
    "duration": 16,
    "start_time": "2022-07-07T10:04:34.741Z"
   },
   {
    "duration": 183,
    "start_time": "2022-07-07T10:04:36.486Z"
   },
   {
    "duration": 217,
    "start_time": "2022-07-07T10:05:37.132Z"
   },
   {
    "duration": 4,
    "start_time": "2022-07-07T10:06:43.501Z"
   },
   {
    "duration": 18,
    "start_time": "2022-07-07T10:06:51.581Z"
   },
   {
    "duration": 10,
    "start_time": "2022-07-07T10:06:58.731Z"
   },
   {
    "duration": 17,
    "start_time": "2022-07-07T10:07:17.027Z"
   },
   {
    "duration": 15,
    "start_time": "2022-07-07T10:07:34.926Z"
   },
   {
    "duration": 19,
    "start_time": "2022-07-07T10:08:07.982Z"
   },
   {
    "duration": 14,
    "start_time": "2022-07-07T10:09:27.491Z"
   },
   {
    "duration": 15,
    "start_time": "2022-07-07T10:09:37.326Z"
   },
   {
    "duration": 16,
    "start_time": "2022-07-07T10:09:43.641Z"
   },
   {
    "duration": 15,
    "start_time": "2022-07-07T10:09:57.121Z"
   },
   {
    "duration": 247,
    "start_time": "2022-07-07T10:10:32.016Z"
   },
   {
    "duration": 48,
    "start_time": "2022-07-07T10:12:15.433Z"
   },
   {
    "duration": 2150,
    "start_time": "2022-07-07T10:26:34.243Z"
   },
   {
    "duration": 2071,
    "start_time": "2022-07-07T10:30:38.630Z"
   },
   {
    "duration": 1671,
    "start_time": "2022-07-07T10:30:47.699Z"
   },
   {
    "duration": 1821,
    "start_time": "2022-07-07T10:31:27.783Z"
   },
   {
    "duration": 197,
    "start_time": "2022-07-07T11:00:39.284Z"
   },
   {
    "duration": 116,
    "start_time": "2022-07-07T11:02:07.144Z"
   },
   {
    "duration": 251,
    "start_time": "2022-07-07T11:09:47.547Z"
   },
   {
    "duration": 2,
    "start_time": "2022-07-07T11:12:04.941Z"
   },
   {
    "duration": 13,
    "start_time": "2022-07-07T11:13:22.742Z"
   },
   {
    "duration": 16,
    "start_time": "2022-07-07T11:13:36.683Z"
   },
   {
    "duration": 17,
    "start_time": "2022-07-07T11:13:49.437Z"
   },
   {
    "duration": 14,
    "start_time": "2022-07-07T11:14:16.979Z"
   },
   {
    "duration": 36,
    "start_time": "2022-07-07T11:15:24.373Z"
   },
   {
    "duration": 28,
    "start_time": "2022-07-07T11:15:58.981Z"
   },
   {
    "duration": 20,
    "start_time": "2022-07-07T11:17:13.036Z"
   },
   {
    "duration": 20,
    "start_time": "2022-07-07T11:17:26.743Z"
   },
   {
    "duration": 26,
    "start_time": "2022-07-07T11:18:45.553Z"
   },
   {
    "duration": 23,
    "start_time": "2022-07-07T11:19:20.047Z"
   },
   {
    "duration": 54,
    "start_time": "2022-07-07T11:23:49.804Z"
   },
   {
    "duration": 286,
    "start_time": "2022-07-07T13:21:36.047Z"
   },
   {
    "duration": 1115,
    "start_time": "2022-07-07T13:23:52.359Z"
   },
   {
    "duration": 821,
    "start_time": "2022-07-07T13:34:18.449Z"
   },
   {
    "duration": 14,
    "start_time": "2022-07-07T13:35:49.388Z"
   },
   {
    "duration": 14,
    "start_time": "2022-07-07T13:36:18.859Z"
   },
   {
    "duration": 18,
    "start_time": "2022-07-07T13:38:53.796Z"
   },
   {
    "duration": 15,
    "start_time": "2022-07-07T13:39:11.540Z"
   },
   {
    "duration": 17,
    "start_time": "2022-07-07T13:40:26.362Z"
   },
   {
    "duration": 5,
    "start_time": "2022-07-07T13:40:32.707Z"
   },
   {
    "duration": 98,
    "start_time": "2022-07-07T13:40:32.715Z"
   },
   {
    "duration": 18,
    "start_time": "2022-07-07T13:40:32.814Z"
   },
   {
    "duration": 13,
    "start_time": "2022-07-07T13:40:32.834Z"
   },
   {
    "duration": 26,
    "start_time": "2022-07-07T13:40:32.849Z"
   },
   {
    "duration": 47,
    "start_time": "2022-07-07T13:40:32.877Z"
   },
   {
    "duration": 8,
    "start_time": "2022-07-07T13:40:32.926Z"
   },
   {
    "duration": 258,
    "start_time": "2022-07-07T13:40:32.936Z"
   },
   {
    "duration": 8,
    "start_time": "2022-07-07T13:40:33.197Z"
   },
   {
    "duration": 141,
    "start_time": "2022-07-07T13:40:33.206Z"
   },
   {
    "duration": 17,
    "start_time": "2022-07-07T13:40:33.349Z"
   },
   {
    "duration": 247,
    "start_time": "2022-07-07T13:40:33.368Z"
   },
   {
    "duration": 11,
    "start_time": "2022-07-07T13:40:33.622Z"
   },
   {
    "duration": 26,
    "start_time": "2022-07-07T13:40:33.635Z"
   },
   {
    "duration": 223,
    "start_time": "2022-07-07T13:40:33.662Z"
   },
   {
    "duration": 16,
    "start_time": "2022-07-07T13:40:33.888Z"
   },
   {
    "duration": 223,
    "start_time": "2022-07-07T13:40:33.906Z"
   },
   {
    "duration": 17,
    "start_time": "2022-07-07T13:40:34.131Z"
   },
   {
    "duration": 220,
    "start_time": "2022-07-07T13:40:34.150Z"
   },
   {
    "duration": 3,
    "start_time": "2022-07-07T13:40:34.371Z"
   },
   {
    "duration": 140,
    "start_time": "2022-07-07T13:40:34.376Z"
   },
   {
    "duration": 19,
    "start_time": "2022-07-07T13:40:34.517Z"
   },
   {
    "duration": 288,
    "start_time": "2022-07-07T13:40:34.537Z"
   },
   {
    "duration": 690,
    "start_time": "2022-07-07T13:40:34.827Z"
   },
   {
    "duration": 14,
    "start_time": "2022-07-07T13:40:35.519Z"
   },
   {
    "duration": 0,
    "start_time": "2022-07-07T13:40:35.535Z"
   },
   {
    "duration": 37,
    "start_time": "2022-07-07T13:41:20.497Z"
   },
   {
    "duration": 16,
    "start_time": "2022-07-07T13:41:26.771Z"
   },
   {
    "duration": 235,
    "start_time": "2022-07-07T13:41:34.785Z"
   },
   {
    "duration": 15,
    "start_time": "2022-07-07T13:41:49.006Z"
   },
   {
    "duration": 14,
    "start_time": "2022-07-07T13:42:19.943Z"
   },
   {
    "duration": 13,
    "start_time": "2022-07-07T13:45:49.242Z"
   },
   {
    "duration": 28,
    "start_time": "2022-07-07T13:48:18.458Z"
   },
   {
    "duration": 23,
    "start_time": "2022-07-07T13:48:34.415Z"
   },
   {
    "duration": 20,
    "start_time": "2022-07-07T13:48:50.840Z"
   },
   {
    "duration": 13,
    "start_time": "2022-07-07T13:48:59.750Z"
   },
   {
    "duration": 4,
    "start_time": "2022-07-07T13:52:08.350Z"
   },
   {
    "duration": 11,
    "start_time": "2022-07-07T13:52:18.945Z"
   },
   {
    "duration": 10,
    "start_time": "2022-07-07T13:52:41.394Z"
   },
   {
    "duration": 4,
    "start_time": "2022-07-07T13:57:38.262Z"
   },
   {
    "duration": 68,
    "start_time": "2022-07-07T13:57:38.291Z"
   },
   {
    "duration": 19,
    "start_time": "2022-07-07T13:57:38.361Z"
   },
   {
    "duration": 12,
    "start_time": "2022-07-07T13:57:38.382Z"
   },
   {
    "duration": 45,
    "start_time": "2022-07-07T13:57:38.396Z"
   },
   {
    "duration": 21,
    "start_time": "2022-07-07T13:57:38.444Z"
   },
   {
    "duration": 8,
    "start_time": "2022-07-07T13:57:38.466Z"
   },
   {
    "duration": 223,
    "start_time": "2022-07-07T13:57:38.476Z"
   },
   {
    "duration": 7,
    "start_time": "2022-07-07T13:57:38.700Z"
   },
   {
    "duration": 153,
    "start_time": "2022-07-07T13:57:38.709Z"
   },
   {
    "duration": 18,
    "start_time": "2022-07-07T13:57:38.864Z"
   },
   {
    "duration": 230,
    "start_time": "2022-07-07T13:57:38.884Z"
   },
   {
    "duration": 15,
    "start_time": "2022-07-07T13:57:39.116Z"
   },
   {
    "duration": 16,
    "start_time": "2022-07-07T13:57:39.132Z"
   },
   {
    "duration": 220,
    "start_time": "2022-07-07T13:57:39.151Z"
   },
   {
    "duration": 15,
    "start_time": "2022-07-07T13:57:39.373Z"
   },
   {
    "duration": 202,
    "start_time": "2022-07-07T13:57:39.390Z"
   },
   {
    "duration": 14,
    "start_time": "2022-07-07T13:57:39.594Z"
   },
   {
    "duration": 218,
    "start_time": "2022-07-07T13:57:39.610Z"
   },
   {
    "duration": 3,
    "start_time": "2022-07-07T13:57:39.829Z"
   },
   {
    "duration": 148,
    "start_time": "2022-07-07T13:57:39.834Z"
   },
   {
    "duration": 19,
    "start_time": "2022-07-07T13:57:39.984Z"
   },
   {
    "duration": 260,
    "start_time": "2022-07-07T13:57:40.006Z"
   },
   {
    "duration": 854,
    "start_time": "2022-07-07T13:57:40.267Z"
   },
   {
    "duration": 9,
    "start_time": "2022-07-07T13:57:41.123Z"
   },
   {
    "duration": 17,
    "start_time": "2022-07-07T13:57:41.134Z"
   },
   {
    "duration": 13,
    "start_time": "2022-07-07T13:57:41.152Z"
   },
   {
    "duration": 16,
    "start_time": "2022-07-07T13:58:53.317Z"
   },
   {
    "duration": 250,
    "start_time": "2022-07-07T13:59:02.654Z"
   },
   {
    "duration": 16,
    "start_time": "2022-07-07T13:59:21.710Z"
   },
   {
    "duration": 241,
    "start_time": "2022-07-07T13:59:24.579Z"
   },
   {
    "duration": 9,
    "start_time": "2022-07-07T14:00:21.258Z"
   },
   {
    "duration": 12,
    "start_time": "2022-07-07T14:00:25.667Z"
   },
   {
    "duration": 14,
    "start_time": "2022-07-07T14:00:27.578Z"
   },
   {
    "duration": 14,
    "start_time": "2022-07-07T14:00:49.690Z"
   },
   {
    "duration": 7,
    "start_time": "2022-07-07T14:01:45.699Z"
   },
   {
    "duration": 13,
    "start_time": "2022-07-07T14:01:48.356Z"
   },
   {
    "duration": 13,
    "start_time": "2022-07-07T14:02:41.880Z"
   },
   {
    "duration": 18,
    "start_time": "2022-07-07T14:03:06.510Z"
   },
   {
    "duration": 19,
    "start_time": "2022-07-07T14:11:43.783Z"
   },
   {
    "duration": 22,
    "start_time": "2022-07-07T14:11:58.263Z"
   },
   {
    "duration": 20,
    "start_time": "2022-07-07T14:12:17.404Z"
   },
   {
    "duration": 16,
    "start_time": "2022-07-07T14:12:32.050Z"
   },
   {
    "duration": 1114,
    "start_time": "2022-07-07T14:21:27.463Z"
   },
   {
    "duration": 11,
    "start_time": "2022-07-07T14:21:57.101Z"
   },
   {
    "duration": 13,
    "start_time": "2022-07-07T14:22:14.700Z"
   },
   {
    "duration": 12,
    "start_time": "2022-07-07T14:23:28.449Z"
   },
   {
    "duration": 19,
    "start_time": "2022-07-07T14:24:38.545Z"
   },
   {
    "duration": 3,
    "start_time": "2022-07-07T14:27:39.115Z"
   },
   {
    "duration": 4,
    "start_time": "2022-07-07T14:27:45.021Z"
   },
   {
    "duration": 8,
    "start_time": "2022-07-07T14:28:07.022Z"
   },
   {
    "duration": 8,
    "start_time": "2022-07-07T14:28:16.835Z"
   },
   {
    "duration": 4,
    "start_time": "2022-07-07T14:28:23.704Z"
   },
   {
    "duration": 9,
    "start_time": "2022-07-07T14:28:25.255Z"
   },
   {
    "duration": 10,
    "start_time": "2022-07-07T14:28:42.091Z"
   },
   {
    "duration": 10,
    "start_time": "2022-07-07T14:28:51.825Z"
   },
   {
    "duration": 10,
    "start_time": "2022-07-07T14:29:01.825Z"
   },
   {
    "duration": 10,
    "start_time": "2022-07-07T14:29:12.655Z"
   },
   {
    "duration": 4,
    "start_time": "2022-07-07T14:30:06.446Z"
   },
   {
    "duration": 13,
    "start_time": "2022-07-07T14:30:13.974Z"
   },
   {
    "duration": 11,
    "start_time": "2022-07-07T14:31:31.665Z"
   },
   {
    "duration": 9,
    "start_time": "2022-07-07T14:31:44.166Z"
   },
   {
    "duration": 9,
    "start_time": "2022-07-07T14:32:35.185Z"
   },
   {
    "duration": 3,
    "start_time": "2022-07-07T14:32:38.827Z"
   },
   {
    "duration": 11,
    "start_time": "2022-07-07T14:32:40.090Z"
   },
   {
    "duration": 40,
    "start_time": "2022-07-07T14:34:56.865Z"
   },
   {
    "duration": 5,
    "start_time": "2022-07-07T14:35:07.920Z"
   },
   {
    "duration": 90,
    "start_time": "2022-07-07T14:35:07.955Z"
   },
   {
    "duration": 24,
    "start_time": "2022-07-07T14:35:08.047Z"
   },
   {
    "duration": 15,
    "start_time": "2022-07-07T14:35:08.073Z"
   },
   {
    "duration": 50,
    "start_time": "2022-07-07T14:35:08.090Z"
   },
   {
    "duration": 23,
    "start_time": "2022-07-07T14:35:08.143Z"
   },
   {
    "duration": 7,
    "start_time": "2022-07-07T14:35:08.169Z"
   },
   {
    "duration": 232,
    "start_time": "2022-07-07T14:35:08.178Z"
   },
   {
    "duration": 13,
    "start_time": "2022-07-07T14:35:08.412Z"
   },
   {
    "duration": 115,
    "start_time": "2022-07-07T14:35:08.427Z"
   },
   {
    "duration": 18,
    "start_time": "2022-07-07T14:35:08.544Z"
   },
   {
    "duration": 243,
    "start_time": "2022-07-07T14:35:08.564Z"
   },
   {
    "duration": 21,
    "start_time": "2022-07-07T14:35:08.809Z"
   },
   {
    "duration": 20,
    "start_time": "2022-07-07T14:35:08.832Z"
   },
   {
    "duration": 249,
    "start_time": "2022-07-07T14:35:08.855Z"
   },
   {
    "duration": 25,
    "start_time": "2022-07-07T14:35:09.106Z"
   },
   {
    "duration": 304,
    "start_time": "2022-07-07T14:35:09.133Z"
   },
   {
    "duration": 16,
    "start_time": "2022-07-07T14:35:09.439Z"
   },
   {
    "duration": 220,
    "start_time": "2022-07-07T14:35:09.457Z"
   },
   {
    "duration": 3,
    "start_time": "2022-07-07T14:35:09.679Z"
   },
   {
    "duration": 54,
    "start_time": "2022-07-07T14:35:09.684Z"
   },
   {
    "duration": 18,
    "start_time": "2022-07-07T14:35:09.740Z"
   },
   {
    "duration": 258,
    "start_time": "2022-07-07T14:35:09.760Z"
   },
   {
    "duration": 1076,
    "start_time": "2022-07-07T14:35:10.022Z"
   },
   {
    "duration": 6,
    "start_time": "2022-07-07T14:35:11.100Z"
   },
   {
    "duration": 11,
    "start_time": "2022-07-07T14:35:11.108Z"
   },
   {
    "duration": 10,
    "start_time": "2022-07-07T14:35:11.121Z"
   },
   {
    "duration": 15,
    "start_time": "2022-07-07T14:35:11.133Z"
   },
   {
    "duration": 27,
    "start_time": "2022-07-07T14:35:11.150Z"
   },
   {
    "duration": 17,
    "start_time": "2022-07-07T14:35:11.179Z"
   },
   {
    "duration": 33,
    "start_time": "2022-07-07T14:35:11.198Z"
   },
   {
    "duration": 18,
    "start_time": "2022-07-07T14:35:41.707Z"
   },
   {
    "duration": 17,
    "start_time": "2022-07-07T14:36:00.545Z"
   },
   {
    "duration": 3,
    "start_time": "2022-07-07T15:13:06.088Z"
   },
   {
    "duration": 18,
    "start_time": "2022-07-07T15:13:40.560Z"
   },
   {
    "duration": 1144,
    "start_time": "2022-07-07T15:14:07.853Z"
   },
   {
    "duration": 18,
    "start_time": "2022-07-07T15:14:49.356Z"
   },
   {
    "duration": 17,
    "start_time": "2022-07-07T15:15:14.551Z"
   },
   {
    "duration": 18,
    "start_time": "2022-07-07T15:15:40.367Z"
   },
   {
    "duration": 14,
    "start_time": "2022-07-07T15:16:25.971Z"
   },
   {
    "duration": 13,
    "start_time": "2022-07-07T15:17:10.787Z"
   },
   {
    "duration": 71,
    "start_time": "2022-07-07T15:17:47.367Z"
   },
   {
    "duration": 63,
    "start_time": "2022-07-07T15:17:56.855Z"
   },
   {
    "duration": 15,
    "start_time": "2022-07-07T15:18:16.454Z"
   },
   {
    "duration": 13,
    "start_time": "2022-07-07T15:18:52.635Z"
   },
   {
    "duration": 7,
    "start_time": "2022-07-07T15:19:45.571Z"
   },
   {
    "duration": 16,
    "start_time": "2022-07-07T15:20:28.940Z"
   },
   {
    "duration": 19,
    "start_time": "2022-07-07T15:22:38.253Z"
   },
   {
    "duration": 16,
    "start_time": "2022-07-07T15:23:24.748Z"
   },
   {
    "duration": 18,
    "start_time": "2022-07-07T15:24:57.467Z"
   },
   {
    "duration": 25,
    "start_time": "2022-07-07T15:25:12.940Z"
   },
   {
    "duration": 17,
    "start_time": "2022-07-07T15:25:21.635Z"
   },
   {
    "duration": 22,
    "start_time": "2022-07-07T15:25:32.216Z"
   },
   {
    "duration": 18,
    "start_time": "2022-07-07T15:26:50.538Z"
   },
   {
    "duration": 17,
    "start_time": "2022-07-07T15:27:14.788Z"
   },
   {
    "duration": 15,
    "start_time": "2022-07-07T15:28:29.158Z"
   },
   {
    "duration": 17,
    "start_time": "2022-07-07T15:28:33.007Z"
   },
   {
    "duration": 10,
    "start_time": "2022-07-07T15:28:46.859Z"
   },
   {
    "duration": 8,
    "start_time": "2022-07-07T15:29:23.417Z"
   },
   {
    "duration": 14,
    "start_time": "2022-07-07T15:30:46.717Z"
   },
   {
    "duration": 17,
    "start_time": "2022-07-07T15:33:17.921Z"
   },
   {
    "duration": 16,
    "start_time": "2022-07-07T15:33:29.452Z"
   },
   {
    "duration": 20,
    "start_time": "2022-07-07T15:35:45.507Z"
   },
   {
    "duration": 17,
    "start_time": "2022-07-07T15:37:01.867Z"
   },
   {
    "duration": 2,
    "start_time": "2022-07-07T15:37:35.837Z"
   },
   {
    "duration": 5,
    "start_time": "2022-07-07T15:39:46.147Z"
   },
   {
    "duration": 3,
    "start_time": "2022-07-07T15:40:12.169Z"
   },
   {
    "duration": 15,
    "start_time": "2022-07-07T15:41:36.637Z"
   },
   {
    "duration": 26,
    "start_time": "2022-07-07T15:44:31.569Z"
   },
   {
    "duration": 15,
    "start_time": "2022-07-07T15:44:57.320Z"
   },
   {
    "duration": 16,
    "start_time": "2022-07-07T15:45:06.162Z"
   },
   {
    "duration": 13,
    "start_time": "2022-07-07T15:45:49.072Z"
   },
   {
    "duration": 15,
    "start_time": "2022-07-07T15:48:49.015Z"
   },
   {
    "duration": 15,
    "start_time": "2022-07-07T15:49:59.685Z"
   },
   {
    "duration": 15,
    "start_time": "2022-07-07T15:50:29.539Z"
   },
   {
    "duration": 57,
    "start_time": "2022-07-07T15:51:17.261Z"
   },
   {
    "duration": 51,
    "start_time": "2022-07-07T15:52:48.514Z"
   },
   {
    "duration": 87,
    "start_time": "2022-07-07T15:56:43.861Z"
   },
   {
    "duration": 47,
    "start_time": "2022-07-07T15:57:12.320Z"
   },
   {
    "duration": 186,
    "start_time": "2022-07-07T21:39:12.923Z"
   },
   {
    "duration": 47,
    "start_time": "2022-07-07T21:44:36.002Z"
   },
   {
    "duration": 1241,
    "start_time": "2022-07-07T21:44:38.533Z"
   },
   {
    "duration": 122,
    "start_time": "2022-07-07T21:44:39.776Z"
   },
   {
    "duration": 19,
    "start_time": "2022-07-07T21:44:39.900Z"
   },
   {
    "duration": 11,
    "start_time": "2022-07-07T21:44:39.921Z"
   },
   {
    "duration": 34,
    "start_time": "2022-07-07T21:44:39.933Z"
   },
   {
    "duration": 30,
    "start_time": "2022-07-07T21:44:39.969Z"
   },
   {
    "duration": 14,
    "start_time": "2022-07-07T21:44:40.001Z"
   },
   {
    "duration": 248,
    "start_time": "2022-07-07T21:44:40.017Z"
   },
   {
    "duration": 9,
    "start_time": "2022-07-07T21:44:40.267Z"
   },
   {
    "duration": 134,
    "start_time": "2022-07-07T21:44:40.280Z"
   },
   {
    "duration": 23,
    "start_time": "2022-07-07T21:44:40.416Z"
   },
   {
    "duration": 237,
    "start_time": "2022-07-07T21:44:40.446Z"
   },
   {
    "duration": 13,
    "start_time": "2022-07-07T21:44:40.685Z"
   },
   {
    "duration": 17,
    "start_time": "2022-07-07T21:44:40.700Z"
   },
   {
    "duration": 235,
    "start_time": "2022-07-07T21:44:40.719Z"
   },
   {
    "duration": 22,
    "start_time": "2022-07-07T21:44:40.959Z"
   },
   {
    "duration": 219,
    "start_time": "2022-07-07T21:44:40.983Z"
   },
   {
    "duration": 17,
    "start_time": "2022-07-07T21:44:41.204Z"
   },
   {
    "duration": 221,
    "start_time": "2022-07-07T21:44:41.222Z"
   },
   {
    "duration": 2,
    "start_time": "2022-07-07T21:44:41.445Z"
   },
   {
    "duration": 74,
    "start_time": "2022-07-07T21:44:41.450Z"
   },
   {
    "duration": 44,
    "start_time": "2022-07-07T21:44:41.526Z"
   },
   {
    "duration": 349,
    "start_time": "2022-07-07T21:44:41.577Z"
   },
   {
    "duration": 1936,
    "start_time": "2022-07-07T21:44:41.928Z"
   },
   {
    "duration": 11,
    "start_time": "2022-07-07T21:44:43.870Z"
   },
   {
    "duration": 7,
    "start_time": "2022-07-07T21:44:43.883Z"
   },
   {
    "duration": 24,
    "start_time": "2022-07-07T21:44:43.892Z"
   },
   {
    "duration": 2,
    "start_time": "2022-07-07T21:44:43.920Z"
   },
   {
    "duration": 15,
    "start_time": "2022-07-07T21:44:43.924Z"
   },
   {
    "duration": 37,
    "start_time": "2022-07-07T21:44:43.952Z"
   },
   {
    "duration": 88,
    "start_time": "2022-07-07T21:44:43.991Z"
   },
   {
    "duration": 0,
    "start_time": "2022-07-07T21:44:44.083Z"
   },
   {
    "duration": 0,
    "start_time": "2022-07-07T21:44:44.084Z"
   },
   {
    "duration": 0,
    "start_time": "2022-07-07T21:44:44.086Z"
   },
   {
    "duration": 0,
    "start_time": "2022-07-07T21:44:44.087Z"
   },
   {
    "duration": 18,
    "start_time": "2022-07-07T21:44:52.907Z"
   },
   {
    "duration": 14,
    "start_time": "2022-07-07T21:45:10.799Z"
   },
   {
    "duration": 14,
    "start_time": "2022-07-07T21:45:36.389Z"
   },
   {
    "duration": 11,
    "start_time": "2022-07-07T21:45:43.025Z"
   },
   {
    "duration": 23,
    "start_time": "2022-07-07T21:47:47.062Z"
   },
   {
    "duration": 7,
    "start_time": "2022-07-07T21:47:47.087Z"
   },
   {
    "duration": 19,
    "start_time": "2022-07-07T21:47:47.096Z"
   },
   {
    "duration": 13,
    "start_time": "2022-07-07T21:47:47.117Z"
   },
   {
    "duration": 109,
    "start_time": "2022-07-07T21:48:02.366Z"
   },
   {
    "duration": 83,
    "start_time": "2022-07-08T07:08:28.583Z"
   },
   {
    "duration": 50,
    "start_time": "2022-07-08T07:26:01.017Z"
   },
   {
    "duration": 1378,
    "start_time": "2022-07-08T07:26:04.494Z"
   },
   {
    "duration": 285,
    "start_time": "2022-07-08T07:26:05.874Z"
   },
   {
    "duration": 18,
    "start_time": "2022-07-08T07:26:06.161Z"
   },
   {
    "duration": 12,
    "start_time": "2022-07-08T07:26:06.181Z"
   },
   {
    "duration": 20,
    "start_time": "2022-07-08T07:26:06.195Z"
   },
   {
    "duration": 20,
    "start_time": "2022-07-08T07:26:06.217Z"
   },
   {
    "duration": 10,
    "start_time": "2022-07-08T07:26:06.239Z"
   },
   {
    "duration": 230,
    "start_time": "2022-07-08T07:26:06.250Z"
   },
   {
    "duration": 17,
    "start_time": "2022-07-08T07:26:06.482Z"
   },
   {
    "duration": 128,
    "start_time": "2022-07-08T07:26:06.503Z"
   },
   {
    "duration": 24,
    "start_time": "2022-07-08T07:26:06.633Z"
   },
   {
    "duration": 288,
    "start_time": "2022-07-08T07:26:06.659Z"
   },
   {
    "duration": 12,
    "start_time": "2022-07-08T07:26:06.949Z"
   },
   {
    "duration": 20,
    "start_time": "2022-07-08T07:26:06.962Z"
   },
   {
    "duration": 230,
    "start_time": "2022-07-08T07:26:06.984Z"
   },
   {
    "duration": 16,
    "start_time": "2022-07-08T07:26:07.215Z"
   },
   {
    "duration": 217,
    "start_time": "2022-07-08T07:26:07.232Z"
   },
   {
    "duration": 16,
    "start_time": "2022-07-08T07:26:07.451Z"
   },
   {
    "duration": 229,
    "start_time": "2022-07-08T07:26:07.469Z"
   },
   {
    "duration": 2,
    "start_time": "2022-07-08T07:26:07.700Z"
   },
   {
    "duration": 46,
    "start_time": "2022-07-08T07:26:07.704Z"
   },
   {
    "duration": 18,
    "start_time": "2022-07-08T07:26:07.752Z"
   },
   {
    "duration": 338,
    "start_time": "2022-07-08T07:26:07.772Z"
   },
   {
    "duration": 1196,
    "start_time": "2022-07-08T07:26:08.112Z"
   },
   {
    "duration": 7,
    "start_time": "2022-07-08T07:26:09.309Z"
   },
   {
    "duration": 8,
    "start_time": "2022-07-08T07:26:09.318Z"
   },
   {
    "duration": 19,
    "start_time": "2022-07-08T07:26:09.327Z"
   },
   {
    "duration": 3,
    "start_time": "2022-07-08T07:26:09.349Z"
   },
   {
    "duration": 18,
    "start_time": "2022-07-08T07:26:09.353Z"
   },
   {
    "duration": 31,
    "start_time": "2022-07-08T07:26:09.373Z"
   },
   {
    "duration": 13,
    "start_time": "2022-07-08T07:26:09.406Z"
   },
   {
    "duration": 18,
    "start_time": "2022-07-08T07:26:09.421Z"
   },
   {
    "duration": 6,
    "start_time": "2022-07-08T07:26:09.441Z"
   },
   {
    "duration": 13,
    "start_time": "2022-07-08T07:26:09.449Z"
   },
   {
    "duration": 45,
    "start_time": "2022-07-08T07:26:09.464Z"
   },
   {
    "duration": 89,
    "start_time": "2022-07-08T07:28:58.141Z"
   },
   {
    "duration": 87,
    "start_time": "2022-07-08T07:29:45.409Z"
   },
   {
    "duration": 20,
    "start_time": "2022-07-08T07:40:06.613Z"
   },
   {
    "duration": 21,
    "start_time": "2022-07-08T07:44:47.647Z"
   },
   {
    "duration": 6,
    "start_time": "2022-07-08T07:48:39.279Z"
   },
   {
    "duration": 16,
    "start_time": "2022-07-08T07:49:13.605Z"
   },
   {
    "duration": 15,
    "start_time": "2022-07-08T07:51:34.860Z"
   },
   {
    "duration": 4,
    "start_time": "2022-07-08T07:51:57.218Z"
   },
   {
    "duration": 91,
    "start_time": "2022-07-08T07:51:57.245Z"
   },
   {
    "duration": 20,
    "start_time": "2022-07-08T07:51:57.339Z"
   },
   {
    "duration": 13,
    "start_time": "2022-07-08T07:51:57.361Z"
   },
   {
    "duration": 24,
    "start_time": "2022-07-08T07:51:57.397Z"
   },
   {
    "duration": 21,
    "start_time": "2022-07-08T07:51:57.423Z"
   },
   {
    "duration": 8,
    "start_time": "2022-07-08T07:51:57.446Z"
   },
   {
    "duration": 270,
    "start_time": "2022-07-08T07:51:57.456Z"
   },
   {
    "duration": 8,
    "start_time": "2022-07-08T07:51:57.728Z"
   },
   {
    "duration": 127,
    "start_time": "2022-07-08T07:51:57.737Z"
   },
   {
    "duration": 19,
    "start_time": "2022-07-08T07:51:57.866Z"
   },
   {
    "duration": 236,
    "start_time": "2022-07-08T07:51:57.897Z"
   },
   {
    "duration": 12,
    "start_time": "2022-07-08T07:51:58.135Z"
   },
   {
    "duration": 20,
    "start_time": "2022-07-08T07:51:58.149Z"
   },
   {
    "duration": 28,
    "start_time": "2022-07-08T07:51:58.172Z"
   },
   {
    "duration": 25,
    "start_time": "2022-07-08T07:51:58.203Z"
   },
   {
    "duration": 250,
    "start_time": "2022-07-08T07:51:58.231Z"
   },
   {
    "duration": 27,
    "start_time": "2022-07-08T07:51:58.483Z"
   },
   {
    "duration": 217,
    "start_time": "2022-07-08T07:51:58.512Z"
   },
   {
    "duration": 17,
    "start_time": "2022-07-08T07:51:58.731Z"
   },
   {
    "duration": 243,
    "start_time": "2022-07-08T07:51:58.750Z"
   },
   {
    "duration": 3,
    "start_time": "2022-07-08T07:51:58.998Z"
   },
   {
    "duration": 53,
    "start_time": "2022-07-08T07:51:59.003Z"
   },
   {
    "duration": 17,
    "start_time": "2022-07-08T07:51:59.058Z"
   },
   {
    "duration": 285,
    "start_time": "2022-07-08T07:51:59.077Z"
   },
   {
    "duration": 1236,
    "start_time": "2022-07-08T07:51:59.363Z"
   },
   {
    "duration": 7,
    "start_time": "2022-07-08T07:52:00.601Z"
   },
   {
    "duration": 9,
    "start_time": "2022-07-08T07:52:00.610Z"
   },
   {
    "duration": 26,
    "start_time": "2022-07-08T07:52:00.621Z"
   },
   {
    "duration": 4,
    "start_time": "2022-07-08T07:52:00.649Z"
   },
   {
    "duration": 27,
    "start_time": "2022-07-08T07:52:00.654Z"
   },
   {
    "duration": 28,
    "start_time": "2022-07-08T07:52:00.683Z"
   },
   {
    "duration": 23,
    "start_time": "2022-07-08T07:52:00.712Z"
   },
   {
    "duration": 29,
    "start_time": "2022-07-08T07:52:00.737Z"
   },
   {
    "duration": 7,
    "start_time": "2022-07-08T07:52:00.768Z"
   },
   {
    "duration": 30,
    "start_time": "2022-07-08T07:52:00.776Z"
   },
   {
    "duration": 99,
    "start_time": "2022-07-08T07:52:00.808Z"
   },
   {
    "duration": 28,
    "start_time": "2022-07-08T07:53:59.020Z"
   },
   {
    "duration": 18,
    "start_time": "2022-07-08T07:54:28.150Z"
   },
   {
    "duration": 20,
    "start_time": "2022-07-08T08:02:41.697Z"
   },
   {
    "duration": 31,
    "start_time": "2022-07-08T08:02:49.817Z"
   },
   {
    "duration": 20,
    "start_time": "2022-07-08T08:03:00.780Z"
   },
   {
    "duration": 22,
    "start_time": "2022-07-08T08:03:09.168Z"
   },
   {
    "duration": 20,
    "start_time": "2022-07-08T08:03:15.370Z"
   },
   {
    "duration": 21,
    "start_time": "2022-07-08T08:06:02.449Z"
   },
   {
    "duration": 129,
    "start_time": "2022-07-08T08:07:12.407Z"
   },
   {
    "duration": 58,
    "start_time": "2022-07-08T08:07:35.269Z"
   },
   {
    "duration": 23,
    "start_time": "2022-07-08T08:07:44.059Z"
   },
   {
    "duration": 27,
    "start_time": "2022-07-08T08:09:14.298Z"
   },
   {
    "duration": 25,
    "start_time": "2022-07-08T08:09:50.142Z"
   },
   {
    "duration": 233,
    "start_time": "2022-07-08T08:10:14.717Z"
   },
   {
    "duration": 227,
    "start_time": "2022-07-08T08:13:26.359Z"
   },
   {
    "duration": 91,
    "start_time": "2022-07-08T08:23:05.369Z"
   },
   {
    "duration": 7,
    "start_time": "2022-07-08T08:25:04.987Z"
   },
   {
    "duration": 9,
    "start_time": "2022-07-08T08:26:33.163Z"
   },
   {
    "duration": 8,
    "start_time": "2022-07-08T08:26:53.843Z"
   },
   {
    "duration": 8,
    "start_time": "2022-07-08T08:27:25.400Z"
   },
   {
    "duration": 14,
    "start_time": "2022-07-08T08:28:52.483Z"
   },
   {
    "duration": 108,
    "start_time": "2022-07-08T08:29:47.682Z"
   },
   {
    "duration": 15,
    "start_time": "2022-07-08T08:30:14.811Z"
   },
   {
    "duration": 17,
    "start_time": "2022-07-08T08:38:00.149Z"
   },
   {
    "duration": 110,
    "start_time": "2022-07-08T08:44:31.131Z"
   },
   {
    "duration": 77,
    "start_time": "2022-07-08T08:49:04.355Z"
   },
   {
    "duration": 73,
    "start_time": "2022-07-08T08:50:19.039Z"
   },
   {
    "duration": 120,
    "start_time": "2022-07-08T13:28:38.244Z"
   },
   {
    "duration": 74,
    "start_time": "2022-07-08T13:32:49.557Z"
   },
   {
    "duration": 1324,
    "start_time": "2022-07-08T13:32:52.556Z"
   },
   {
    "duration": 82,
    "start_time": "2022-07-08T13:32:53.882Z"
   },
   {
    "duration": 19,
    "start_time": "2022-07-08T13:32:53.966Z"
   },
   {
    "duration": 12,
    "start_time": "2022-07-08T13:32:53.987Z"
   },
   {
    "duration": 59,
    "start_time": "2022-07-08T13:32:54.003Z"
   },
   {
    "duration": 28,
    "start_time": "2022-07-08T13:32:54.064Z"
   },
   {
    "duration": 14,
    "start_time": "2022-07-08T13:32:54.097Z"
   },
   {
    "duration": 247,
    "start_time": "2022-07-08T13:32:54.113Z"
   },
   {
    "duration": 12,
    "start_time": "2022-07-08T13:32:54.363Z"
   },
   {
    "duration": 168,
    "start_time": "2022-07-08T13:32:54.377Z"
   },
   {
    "duration": 34,
    "start_time": "2022-07-08T13:32:54.547Z"
   },
   {
    "duration": 328,
    "start_time": "2022-07-08T13:32:54.584Z"
   },
   {
    "duration": 22,
    "start_time": "2022-07-08T13:32:54.915Z"
   },
   {
    "duration": 31,
    "start_time": "2022-07-08T13:32:54.942Z"
   },
   {
    "duration": 19,
    "start_time": "2022-07-08T13:32:54.975Z"
   },
   {
    "duration": 18,
    "start_time": "2022-07-08T13:32:54.996Z"
   },
   {
    "duration": 68,
    "start_time": "2022-07-08T13:32:55.017Z"
   },
   {
    "duration": 36,
    "start_time": "2022-07-08T13:32:55.088Z"
   },
   {
    "duration": 382,
    "start_time": "2022-07-08T13:32:55.126Z"
   },
   {
    "duration": 23,
    "start_time": "2022-07-08T13:32:55.510Z"
   },
   {
    "duration": 309,
    "start_time": "2022-07-08T13:32:55.535Z"
   },
   {
    "duration": 34,
    "start_time": "2022-07-08T13:32:55.846Z"
   },
   {
    "duration": 304,
    "start_time": "2022-07-08T13:32:55.883Z"
   },
   {
    "duration": 9,
    "start_time": "2022-07-08T13:32:56.190Z"
   },
   {
    "duration": 83,
    "start_time": "2022-07-08T13:32:56.201Z"
   },
   {
    "duration": 36,
    "start_time": "2022-07-08T13:32:56.287Z"
   },
   {
    "duration": 458,
    "start_time": "2022-07-08T13:32:56.325Z"
   },
   {
    "duration": 1266,
    "start_time": "2022-07-08T13:32:56.785Z"
   },
   {
    "duration": 8,
    "start_time": "2022-07-08T13:32:58.053Z"
   },
   {
    "duration": 9,
    "start_time": "2022-07-08T13:32:58.063Z"
   },
   {
    "duration": 14,
    "start_time": "2022-07-08T13:32:58.073Z"
   },
   {
    "duration": 15,
    "start_time": "2022-07-08T13:32:58.089Z"
   },
   {
    "duration": 6,
    "start_time": "2022-07-08T13:32:58.106Z"
   },
   {
    "duration": 21,
    "start_time": "2022-07-08T13:32:58.114Z"
   },
   {
    "duration": 4,
    "start_time": "2022-07-08T13:32:58.137Z"
   },
   {
    "duration": 38,
    "start_time": "2022-07-08T13:32:58.143Z"
   },
   {
    "duration": 19,
    "start_time": "2022-07-08T13:32:58.183Z"
   },
   {
    "duration": 22,
    "start_time": "2022-07-08T13:32:58.204Z"
   },
   {
    "duration": 34,
    "start_time": "2022-07-08T13:32:58.228Z"
   },
   {
    "duration": 9,
    "start_time": "2022-07-08T13:32:58.264Z"
   },
   {
    "duration": 38,
    "start_time": "2022-07-08T13:32:58.279Z"
   },
   {
    "duration": 15,
    "start_time": "2022-07-08T13:32:58.322Z"
   },
   {
    "duration": 37,
    "start_time": "2022-07-08T13:40:06.619Z"
   },
   {
    "duration": 9,
    "start_time": "2022-07-08T13:40:43.465Z"
   },
   {
    "duration": 15,
    "start_time": "2022-07-08T13:40:44.774Z"
   },
   {
    "duration": 7,
    "start_time": "2022-07-08T13:40:52.428Z"
   },
   {
    "duration": 12,
    "start_time": "2022-07-08T13:41:08.865Z"
   },
   {
    "duration": 14,
    "start_time": "2022-07-08T13:42:22.821Z"
   },
   {
    "duration": 9,
    "start_time": "2022-07-08T13:42:32.489Z"
   },
   {
    "duration": 45,
    "start_time": "2022-07-08T15:14:14.346Z"
   },
   {
    "duration": 1297,
    "start_time": "2022-07-08T15:14:18.197Z"
   },
   {
    "duration": 114,
    "start_time": "2022-07-08T15:14:19.497Z"
   },
   {
    "duration": 17,
    "start_time": "2022-07-08T15:14:19.613Z"
   },
   {
    "duration": 10,
    "start_time": "2022-07-08T15:14:19.632Z"
   },
   {
    "duration": 21,
    "start_time": "2022-07-08T15:14:19.644Z"
   },
   {
    "duration": 43,
    "start_time": "2022-07-08T15:14:19.666Z"
   },
   {
    "duration": 9,
    "start_time": "2022-07-08T15:14:19.710Z"
   },
   {
    "duration": 207,
    "start_time": "2022-07-08T15:14:19.720Z"
   },
   {
    "duration": 7,
    "start_time": "2022-07-08T15:14:19.928Z"
   },
   {
    "duration": 117,
    "start_time": "2022-07-08T15:14:19.937Z"
   },
   {
    "duration": 18,
    "start_time": "2022-07-08T15:14:20.056Z"
   },
   {
    "duration": 231,
    "start_time": "2022-07-08T15:14:20.075Z"
   },
   {
    "duration": 15,
    "start_time": "2022-07-08T15:14:20.308Z"
   },
   {
    "duration": 12,
    "start_time": "2022-07-08T15:14:20.324Z"
   },
   {
    "duration": 14,
    "start_time": "2022-07-08T15:14:20.338Z"
   },
   {
    "duration": 11,
    "start_time": "2022-07-08T15:14:20.354Z"
   },
   {
    "duration": 47,
    "start_time": "2022-07-08T15:14:20.366Z"
   },
   {
    "duration": 18,
    "start_time": "2022-07-08T15:14:20.415Z"
   },
   {
    "duration": 243,
    "start_time": "2022-07-08T15:14:20.435Z"
   },
   {
    "duration": 14,
    "start_time": "2022-07-08T15:14:20.680Z"
   },
   {
    "duration": 8,
    "start_time": "2022-07-08T15:14:20.700Z"
   },
   {
    "duration": 8,
    "start_time": "2022-07-08T15:14:20.709Z"
   },
   {
    "duration": 17,
    "start_time": "2022-07-08T15:14:20.718Z"
   },
   {
    "duration": 203,
    "start_time": "2022-07-08T15:14:20.737Z"
   },
   {
    "duration": 16,
    "start_time": "2022-07-08T15:14:20.942Z"
   },
   {
    "duration": 195,
    "start_time": "2022-07-08T15:14:20.960Z"
   },
   {
    "duration": 3,
    "start_time": "2022-07-08T15:14:21.156Z"
   },
   {
    "duration": 106,
    "start_time": "2022-07-08T15:14:21.162Z"
   },
   {
    "duration": 13,
    "start_time": "2022-07-08T15:14:21.270Z"
   },
   {
    "duration": 236,
    "start_time": "2022-07-08T15:14:21.284Z"
   },
   {
    "duration": 1320,
    "start_time": "2022-07-08T15:14:21.522Z"
   },
   {
    "duration": 5,
    "start_time": "2022-07-08T15:14:22.844Z"
   },
   {
    "duration": 9,
    "start_time": "2022-07-08T15:14:22.851Z"
   },
   {
    "duration": 7,
    "start_time": "2022-07-08T15:14:22.861Z"
   },
   {
    "duration": 10,
    "start_time": "2022-07-08T15:14:22.869Z"
   },
   {
    "duration": 7,
    "start_time": "2022-07-08T15:14:22.880Z"
   },
   {
    "duration": 18,
    "start_time": "2022-07-08T15:14:22.888Z"
   },
   {
    "duration": 3,
    "start_time": "2022-07-08T15:14:22.907Z"
   },
   {
    "duration": 15,
    "start_time": "2022-07-08T15:14:22.912Z"
   },
   {
    "duration": 15,
    "start_time": "2022-07-08T15:14:22.928Z"
   },
   {
    "duration": 19,
    "start_time": "2022-07-08T15:14:22.944Z"
   },
   {
    "duration": 14,
    "start_time": "2022-07-08T15:14:22.964Z"
   },
   {
    "duration": 25,
    "start_time": "2022-07-08T15:14:22.980Z"
   },
   {
    "duration": 22,
    "start_time": "2022-07-08T15:14:23.006Z"
   },
   {
    "duration": 12,
    "start_time": "2022-07-08T15:14:23.029Z"
   },
   {
    "duration": 65,
    "start_time": "2022-07-08T15:26:28.469Z"
   },
   {
    "duration": 45,
    "start_time": "2022-07-08T15:26:35.739Z"
   },
   {
    "duration": 23,
    "start_time": "2022-07-08T15:27:59.278Z"
   },
   {
    "duration": 89,
    "start_time": "2022-07-08T15:31:33.682Z"
   },
   {
    "duration": 31,
    "start_time": "2022-07-08T15:32:59.680Z"
   },
   {
    "duration": 36,
    "start_time": "2022-07-08T15:35:18.824Z"
   },
   {
    "duration": 35,
    "start_time": "2022-07-08T15:35:31.169Z"
   },
   {
    "duration": 37,
    "start_time": "2022-07-08T15:36:11.380Z"
   },
   {
    "duration": 100,
    "start_time": "2022-07-08T15:46:24.500Z"
   },
   {
    "duration": 92,
    "start_time": "2022-07-08T16:47:31.394Z"
   },
   {
    "duration": 43,
    "start_time": "2022-07-09T05:17:06.773Z"
   },
   {
    "duration": 1235,
    "start_time": "2022-07-09T05:17:10.236Z"
   },
   {
    "duration": 137,
    "start_time": "2022-07-09T05:17:11.473Z"
   },
   {
    "duration": 15,
    "start_time": "2022-07-09T05:17:11.612Z"
   },
   {
    "duration": 9,
    "start_time": "2022-07-09T05:17:11.628Z"
   },
   {
    "duration": 21,
    "start_time": "2022-07-09T05:17:11.639Z"
   },
   {
    "duration": 16,
    "start_time": "2022-07-09T05:17:11.662Z"
   },
   {
    "duration": 14,
    "start_time": "2022-07-09T05:17:11.679Z"
   },
   {
    "duration": 199,
    "start_time": "2022-07-09T05:17:11.694Z"
   },
   {
    "duration": 6,
    "start_time": "2022-07-09T05:17:11.895Z"
   },
   {
    "duration": 103,
    "start_time": "2022-07-09T05:17:11.902Z"
   },
   {
    "duration": 15,
    "start_time": "2022-07-09T05:17:12.007Z"
   },
   {
    "duration": 214,
    "start_time": "2022-07-09T05:17:12.023Z"
   },
   {
    "duration": 24,
    "start_time": "2022-07-09T05:17:12.238Z"
   },
   {
    "duration": 12,
    "start_time": "2022-07-09T05:17:12.265Z"
   },
   {
    "duration": 14,
    "start_time": "2022-07-09T05:17:12.279Z"
   },
   {
    "duration": 10,
    "start_time": "2022-07-09T05:17:12.294Z"
   },
   {
    "duration": 14,
    "start_time": "2022-07-09T05:17:12.306Z"
   },
   {
    "duration": 52,
    "start_time": "2022-07-09T05:17:12.322Z"
   },
   {
    "duration": 247,
    "start_time": "2022-07-09T05:17:12.375Z"
   },
   {
    "duration": 36,
    "start_time": "2022-07-09T05:17:12.624Z"
   },
   {
    "duration": 10,
    "start_time": "2022-07-09T05:17:12.662Z"
   },
   {
    "duration": 8,
    "start_time": "2022-07-09T05:17:12.673Z"
   },
   {
    "duration": 15,
    "start_time": "2022-07-09T05:17:12.682Z"
   },
   {
    "duration": 187,
    "start_time": "2022-07-09T05:17:12.698Z"
   },
   {
    "duration": 14,
    "start_time": "2022-07-09T05:17:12.886Z"
   },
   {
    "duration": 185,
    "start_time": "2022-07-09T05:17:12.901Z"
   },
   {
    "duration": 2,
    "start_time": "2022-07-09T05:17:13.088Z"
   },
   {
    "duration": 104,
    "start_time": "2022-07-09T05:17:13.091Z"
   },
   {
    "duration": 13,
    "start_time": "2022-07-09T05:17:13.196Z"
   },
   {
    "duration": 217,
    "start_time": "2022-07-09T05:17:13.210Z"
   },
   {
    "duration": 1885,
    "start_time": "2022-07-09T05:17:13.429Z"
   },
   {
    "duration": 5,
    "start_time": "2022-07-09T05:17:15.316Z"
   },
   {
    "duration": 7,
    "start_time": "2022-07-09T05:17:15.323Z"
   },
   {
    "duration": 5,
    "start_time": "2022-07-09T05:17:15.332Z"
   },
   {
    "duration": 13,
    "start_time": "2022-07-09T05:17:15.338Z"
   },
   {
    "duration": 8,
    "start_time": "2022-07-09T05:17:15.353Z"
   },
   {
    "duration": 19,
    "start_time": "2022-07-09T05:17:15.362Z"
   },
   {
    "duration": 2,
    "start_time": "2022-07-09T05:17:15.383Z"
   },
   {
    "duration": 15,
    "start_time": "2022-07-09T05:17:15.386Z"
   },
   {
    "duration": 12,
    "start_time": "2022-07-09T05:17:15.402Z"
   },
   {
    "duration": 11,
    "start_time": "2022-07-09T05:17:15.417Z"
   },
   {
    "duration": 17,
    "start_time": "2022-07-09T05:17:15.448Z"
   },
   {
    "duration": 6,
    "start_time": "2022-07-09T05:17:15.466Z"
   },
   {
    "duration": 13,
    "start_time": "2022-07-09T05:17:15.473Z"
   },
   {
    "duration": 11,
    "start_time": "2022-07-09T05:17:15.487Z"
   },
   {
    "duration": 18,
    "start_time": "2022-07-09T05:21:12.276Z"
   },
   {
    "duration": 15,
    "start_time": "2022-07-09T05:22:31.873Z"
   },
   {
    "duration": 15,
    "start_time": "2022-07-09T05:22:55.765Z"
   },
   {
    "duration": 2,
    "start_time": "2022-07-09T05:24:26.501Z"
   },
   {
    "duration": 90,
    "start_time": "2022-07-09T05:26:17.981Z"
   },
   {
    "duration": 263,
    "start_time": "2022-07-09T05:27:38.264Z"
   },
   {
    "duration": 16,
    "start_time": "2022-07-09T05:29:19.003Z"
   },
   {
    "duration": 266,
    "start_time": "2022-07-09T05:32:10.038Z"
   },
   {
    "duration": 261,
    "start_time": "2022-07-09T05:32:49.353Z"
   },
   {
    "duration": 387,
    "start_time": "2022-07-09T05:34:24.238Z"
   },
   {
    "duration": 285,
    "start_time": "2022-07-09T05:37:15.345Z"
   },
   {
    "duration": 267,
    "start_time": "2022-07-09T05:37:31.449Z"
   },
   {
    "duration": 14,
    "start_time": "2022-07-09T05:39:31.819Z"
   },
   {
    "duration": 61,
    "start_time": "2022-07-09T05:46:13.563Z"
   },
   {
    "duration": 51,
    "start_time": "2022-07-09T13:10:39.047Z"
   },
   {
    "duration": 1352,
    "start_time": "2022-07-09T13:10:41.727Z"
   },
   {
    "duration": 87,
    "start_time": "2022-07-09T13:10:43.081Z"
   },
   {
    "duration": 25,
    "start_time": "2022-07-09T13:10:43.170Z"
   },
   {
    "duration": 24,
    "start_time": "2022-07-09T13:10:43.199Z"
   },
   {
    "duration": 33,
    "start_time": "2022-07-09T13:10:43.230Z"
   },
   {
    "duration": 31,
    "start_time": "2022-07-09T13:10:43.265Z"
   },
   {
    "duration": 58,
    "start_time": "2022-07-09T13:10:43.301Z"
   },
   {
    "duration": 252,
    "start_time": "2022-07-09T13:10:43.361Z"
   },
   {
    "duration": 19,
    "start_time": "2022-07-09T13:10:43.615Z"
   },
   {
    "duration": 123,
    "start_time": "2022-07-09T13:10:43.639Z"
   },
   {
    "duration": 19,
    "start_time": "2022-07-09T13:10:43.764Z"
   },
   {
    "duration": 291,
    "start_time": "2022-07-09T13:10:43.785Z"
   },
   {
    "duration": 17,
    "start_time": "2022-07-09T13:10:44.078Z"
   },
   {
    "duration": 26,
    "start_time": "2022-07-09T13:10:44.098Z"
   },
   {
    "duration": 25,
    "start_time": "2022-07-09T13:10:44.126Z"
   },
   {
    "duration": 13,
    "start_time": "2022-07-09T13:10:44.153Z"
   },
   {
    "duration": 19,
    "start_time": "2022-07-09T13:10:44.167Z"
   },
   {
    "duration": 56,
    "start_time": "2022-07-09T13:10:44.187Z"
   },
   {
    "duration": 399,
    "start_time": "2022-07-09T13:10:44.245Z"
   },
   {
    "duration": 4,
    "start_time": "2022-07-09T13:10:44.648Z"
   },
   {
    "duration": 405,
    "start_time": "2022-07-09T13:10:44.657Z"
   },
   {
    "duration": 23,
    "start_time": "2022-07-09T13:10:45.064Z"
   },
   {
    "duration": 9,
    "start_time": "2022-07-09T13:10:45.089Z"
   },
   {
    "duration": 32,
    "start_time": "2022-07-09T13:10:45.100Z"
   },
   {
    "duration": 21,
    "start_time": "2022-07-09T13:10:45.134Z"
   },
   {
    "duration": 23,
    "start_time": "2022-07-09T13:10:45.157Z"
   },
   {
    "duration": 274,
    "start_time": "2022-07-09T13:10:45.182Z"
   },
   {
    "duration": 15,
    "start_time": "2022-07-09T13:10:45.461Z"
   },
   {
    "duration": 348,
    "start_time": "2022-07-09T13:10:45.478Z"
   },
   {
    "duration": 7,
    "start_time": "2022-07-09T13:10:45.828Z"
   },
   {
    "duration": 55,
    "start_time": "2022-07-09T13:10:45.837Z"
   },
   {
    "duration": 16,
    "start_time": "2022-07-09T13:10:45.894Z"
   },
   {
    "duration": 285,
    "start_time": "2022-07-09T13:10:45.912Z"
   },
   {
    "duration": 1371,
    "start_time": "2022-07-09T13:10:46.198Z"
   },
   {
    "duration": 10,
    "start_time": "2022-07-09T13:10:47.570Z"
   },
   {
    "duration": 13,
    "start_time": "2022-07-09T13:10:47.582Z"
   },
   {
    "duration": 7,
    "start_time": "2022-07-09T13:10:47.597Z"
   },
   {
    "duration": 8,
    "start_time": "2022-07-09T13:10:47.606Z"
   },
   {
    "duration": 14,
    "start_time": "2022-07-09T13:10:47.616Z"
   },
   {
    "duration": 27,
    "start_time": "2022-07-09T13:10:47.632Z"
   },
   {
    "duration": 3,
    "start_time": "2022-07-09T13:10:47.661Z"
   },
   {
    "duration": 23,
    "start_time": "2022-07-09T13:10:47.666Z"
   },
   {
    "duration": 23,
    "start_time": "2022-07-09T13:10:47.691Z"
   },
   {
    "duration": 22,
    "start_time": "2022-07-09T13:10:47.716Z"
   },
   {
    "duration": 19,
    "start_time": "2022-07-09T13:10:47.740Z"
   },
   {
    "duration": 7,
    "start_time": "2022-07-09T13:10:47.761Z"
   },
   {
    "duration": 21,
    "start_time": "2022-07-09T13:10:47.770Z"
   },
   {
    "duration": 42,
    "start_time": "2022-07-09T13:10:47.793Z"
   },
   {
    "duration": 123,
    "start_time": "2022-07-09T13:11:52.336Z"
   },
   {
    "duration": 5,
    "start_time": "2022-07-09T13:11:57.276Z"
   },
   {
    "duration": 23,
    "start_time": "2022-07-09T13:11:59.444Z"
   },
   {
    "duration": 15,
    "start_time": "2022-07-09T13:12:15.636Z"
   },
   {
    "duration": 86,
    "start_time": "2022-07-09T13:15:46.190Z"
   }
  ],
  "kernelspec": {
   "display_name": "Python 3 (ipykernel)",
   "language": "python",
   "name": "python3"
  },
  "language_info": {
   "codemirror_mode": {
    "name": "ipython",
    "version": 3
   },
   "file_extension": ".py",
   "mimetype": "text/x-python",
   "name": "python",
   "nbconvert_exporter": "python",
   "pygments_lexer": "ipython3",
   "version": "3.10.9"
  },
  "toc": {
   "base_numbering": 1,
   "nav_menu": {},
   "number_sections": true,
   "sideBar": true,
   "skip_h1_title": true,
   "title_cell": "Table of Contents",
   "title_sidebar": "Contents",
   "toc_cell": false,
   "toc_position": {
    "height": "calc(100% - 180px)",
    "left": "10px",
    "top": "150px",
    "width": "311.4px"
   },
   "toc_section_display": true,
   "toc_window_display": false
  }
 },
 "nbformat": 4,
 "nbformat_minor": 2
}
