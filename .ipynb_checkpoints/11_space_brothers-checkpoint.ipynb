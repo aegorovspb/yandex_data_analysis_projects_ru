{
 "cells": [
  {
   "cell_type": "markdown",
   "metadata": {
    "toc": true
   },
   "source": [
    "<h1>Структура проекта<span class=\"tocSkip\"></span></h1>\n",
    "<div class=\"toc\"><ul class=\"toc-item\"><li><span><a href=\"#Загрузка-данных-и-подготовка-к-анализку\" data-toc-modified-id=\"Загрузка-данных-и-подготовка-к-анализку-1\"><span class=\"toc-item-num\">1&nbsp;&nbsp;</span>Загрузка данных и подготовка к анализку</a></span></li><li><span><a href=\"#Материалы\" data-toc-modified-id=\"Материалы-2\"><span class=\"toc-item-num\">2&nbsp;&nbsp;</span>Материалы</a></span><ul class=\"toc-item\"><li><span><a href=\"#Выводы-по-предобработке-данных\" data-toc-modified-id=\"Выводы-по-предобработке-данных-2.1\"><span class=\"toc-item-num\">2.1&nbsp;&nbsp;</span>Выводы по предобработке данных</a></span></li></ul></li><li><span><a href=\"#Исследовательский-анализ-данных\" data-toc-modified-id=\"Исследовательский-анализ-данных-3\"><span class=\"toc-item-num\">3&nbsp;&nbsp;</span>Исследовательский анализ данных</a></span><ul class=\"toc-item\"><li><span><a href=\"#Рассмотрим-профили-пользователей\" data-toc-modified-id=\"Рассмотрим-профили-пользователей-3.1\"><span class=\"toc-item-num\">3.1&nbsp;&nbsp;</span>Рассмотрим профили пользователей</a></span></li><li><span><a href=\"#Выводы-по-исследовательскому-анализу-данных\" data-toc-modified-id=\"Выводы-по-исследовательскому-анализу-данных-3.2\"><span class=\"toc-item-num\">3.2&nbsp;&nbsp;</span>Выводы по исследовательскому анализу данных</a></span></li><li><span><a href=\"#Рассмотрим-источники-трафика\" data-toc-modified-id=\"Рассмотрим-источники-трафика-3.3\"><span class=\"toc-item-num\">3.3&nbsp;&nbsp;</span>Рассмотрим источники трафика</a></span></li></ul></li><li><span><a href=\"#Анализ-разных-источников-привлечения-клиентов\" data-toc-modified-id=\"Анализ-разных-источников-привлечения-клиентов-4\"><span class=\"toc-item-num\">4&nbsp;&nbsp;</span>Анализ разных источников привлечения клиентов</a></span><ul class=\"toc-item\"><li><span><a href=\"#Выводы-по-анализ-разных-источников-привлечения-клиентов\" data-toc-modified-id=\"Выводы-по-анализ-разных-источников-привлечения-клиентов-4.1\"><span class=\"toc-item-num\">4.1&nbsp;&nbsp;</span>Выводы по анализ разных источников привлечения клиентов</a></span></li></ul></li><li><span><a href=\"#Анализ-влияния-источника-перехода-в-игру-на-поведение-пользователя\" data-toc-modified-id=\"Анализ-влияния-источника-перехода-в-игру-на-поведение-пользователя-5\"><span class=\"toc-item-num\">5&nbsp;&nbsp;</span>Анализ влияния источника перехода в игру на поведение пользователя</a></span><ul class=\"toc-item\"><li><span><a href=\"#Выводы-по-анализу-источников-привлечения\" data-toc-modified-id=\"Выводы-по-анализу-источников-привлечения-5.1\"><span class=\"toc-item-num\">5.1&nbsp;&nbsp;</span>Выводы по анализу источников привлечения</a></span></li><li><span><a href=\"#Проверим-гипотезу:-время-завершения-уровня-различается-в-зависимости-способа-прохождения\" data-toc-modified-id=\"Проверим-гипотезу:-время-завершения-уровня-различается-в-зависимости-способа-прохождения-5.2\"><span class=\"toc-item-num\">5.2&nbsp;&nbsp;</span>Проверим гипотезу: время завершения уровня различается в зависимости способа прохождения</a></span></li><li><span><a href=\"#получаем-список-finished_stage_1-+-project\" data-toc-modified-id=\"получаем-список-finished_stage_1-+-project-5.3\"><span class=\"toc-item-num\">5.3&nbsp;&nbsp;</span>получаем список finished_stage_1 + project</a></span></li><li><span><a href=\"#получаем-список-finished_stage_1---project\" data-toc-modified-id=\"получаем-список-finished_stage_1---project-5.4\"><span class=\"toc-item-num\">5.4&nbsp;&nbsp;</span>получаем список finished_stage_1 - project</a></span></li><li><span><a href=\"#merge-и-подготовка-данных-для-теста\" data-toc-modified-id=\"merge-и-подготовка-данных-для-теста-5.5\"><span class=\"toc-item-num\">5.5&nbsp;&nbsp;</span>merge и подготовка данных для теста</a></span></li><li><span><a href=\"#формируем-гипотезы\" data-toc-modified-id=\"формируем-гипотезы-5.6\"><span class=\"toc-item-num\">5.6&nbsp;&nbsp;</span>формируем гипотезы</a></span></li></ul></li><li><span><a href=\"#Проверка-собственной-теории\" data-toc-modified-id=\"Проверка-собственной-теории-6\"><span class=\"toc-item-num\">6&nbsp;&nbsp;</span>Проверка собственной теории</a></span><ul class=\"toc-item\"><li><span><a href=\"#данные-для-яндекса\" data-toc-modified-id=\"данные-для-яндекса-6.1\"><span class=\"toc-item-num\">6.1&nbsp;&nbsp;</span>данные для яндекса</a></span></li><li><span><a href=\"#данные-для-инстаграмм\" data-toc-modified-id=\"данные-для-инстаграмм-6.2\"><span class=\"toc-item-num\">6.2&nbsp;&nbsp;</span>данные для инстаграмм</a></span></li><li><span><a href=\"#данные-для-фэйсбук\" data-toc-modified-id=\"данные-для-фэйсбук-6.3\"><span class=\"toc-item-num\">6.3&nbsp;&nbsp;</span>данные для фэйсбук</a></span></li><li><span><a href=\"#данные-для-ютуб\" data-toc-modified-id=\"данные-для-ютуб-6.4\"><span class=\"toc-item-num\">6.4&nbsp;&nbsp;</span>данные для ютуб</a></span></li><li><span><a href=\"#данные-для-сравнения-тестов\" data-toc-modified-id=\"данные-для-сравнения-тестов-6.5\"><span class=\"toc-item-num\">6.5&nbsp;&nbsp;</span>данные для сравнения тестов</a></span></li><li><span><a href=\"#проверка-гипотез\" data-toc-modified-id=\"проверка-гипотез-6.6\"><span class=\"toc-item-num\">6.6&nbsp;&nbsp;</span>проверка гипотез</a></span></li></ul></li><li><span><a href=\"#Выводы-и-базовые-рекомендации-по-работе-с-пользователями\" data-toc-modified-id=\"Выводы-и-базовые-рекомендации-по-работе-с-пользователями-7\"><span class=\"toc-item-num\">7&nbsp;&nbsp;</span>Выводы и базовые рекомендации по работе с пользователями</a></span><ul class=\"toc-item\"><li><span><a href=\"#Выводы\" data-toc-modified-id=\"Выводы-7.1\"><span class=\"toc-item-num\">7.1&nbsp;&nbsp;</span>Выводы</a></span></li><li><span><a href=\"#Рекомендации\" data-toc-modified-id=\"Рекомендации-7.2\"><span class=\"toc-item-num\">7.2&nbsp;&nbsp;</span>Рекомендации</a></span></li></ul></li><li><span><a href=\"#Построение-дашборда\" data-toc-modified-id=\"Построение-дашборда-8\"><span class=\"toc-item-num\">8&nbsp;&nbsp;</span>Построение дашборда</a></span></li></ul></div>"
   ]
  },
  {
   "cell_type": "code",
   "execution_count": null,
   "metadata": {},
   "outputs": [],
   "source": []
  },
  {
   "cell_type": "markdown",
   "metadata": {},
   "source": [
    "**Проект \"Космические братья\"**\n",
    "\n",
    "Нам предстоит провести анализ данных мобильной игры \"Космические братья\", перед нами стоит две главные задачи:\n",
    "- анализ поведения пользователей в зависимости от источника перехода\n",
    "- разработка рекомендаций для построения монетизации игры\n",
    "\n",
    "На данном этапе для монетизации рассматривается вариант с добавлением рекламы в меню постройки.\n",
    "\n",
    "Шаги исследования:\n",
    "* Шаг 1. Загрузка данных и подготовка их к анализу\n",
    "- Рассмотрим пропуски\n",
    "* Шаг 2. Исследовательский анализ данных\n",
    "- Рассмотрим данные, ответим на вопрос важны ли все данные?\n",
    "- Рассмотрим профили пользователей. Определите минимальную и максимальную дату привлечения пользователей, максимальное и минимальное число построек. Рассмотри источники трафика и стоимость привлечения пользователей\n",
    "- Выясним из каких источников пользователей приходит больше всего\n",
    "- Рассчитаем среднюю стоимость привлечения игроков по разным каналам\n",
    "* Шаг 3. Анализ разных источников привлечения клиентов\n",
    "* Шаг 4. Анализ влияния источника перехода в игру на поведение пользователя\n",
    "* Шаг 5. Анализ и формирование гипотез\n",
    "- Проверим гипотезу: время завершения уровня различается в зависимости способа прохождения\n",
    "- Проверим гипотезу: активность пользователей различается в зависимости от канала привлечения\n",
    "Нулевая гипотеза: Активность пользователей привлеченных из разных источников одинаковая.\n",
    "Альтернативная гипотеза: Активность пользователей привлеченных из разных источников различается.\n",
    "* Шаг 6. Выводы и базовые рекомендации по работе с пользователями\n",
    "* Шаг 7. Построение дашборда"
   ]
  },
  {
   "cell_type": "markdown",
   "metadata": {},
   "source": [
    "## Загрузка данных и подготовка к анализку"
   ]
  },
  {
   "cell_type": "markdown",
   "metadata": {},
   "source": [
    "## Материалы"
   ]
  },
  {
   "cell_type": "code",
   "execution_count": 3,
   "metadata": {},
   "outputs": [],
   "source": [
    "# работа с табличными данными\n",
    "import pandas as pd\n",
    "\n",
    "# работа с массивами данных, округление\n",
    "import numpy as np\n",
    "\n",
    "import matplotlib.pyplot as plt\n",
    "\n",
    "# import scipy для рассчета статистической значимости\n",
    "from scipy import stats as st\n",
    "\n",
    "# import scipy для рассчета статистической значимости\n",
    "import matplotlib as plt\n"
   ]
  },
  {
   "cell_type": "code",
   "execution_count": 4,
   "metadata": {},
   "outputs": [],
   "source": [
    "# загрузка БД\n",
    "\n",
    "df_actions = pd.read_csv('https://code.s3.yandex.net/datasets/game_actions.csv')\n",
    "df_costs   = pd.read_csv('https://code.s3.yandex.net/datasets/ad_costs.csv')\n",
    "df_source  = pd.read_csv('https://code.s3.yandex.net/datasets/user_source.csv')\n"
   ]
  },
  {
   "cell_type": "code",
   "execution_count": 5,
   "metadata": {
    "scrolled": true
   },
   "outputs": [
    {
     "name": "stdout",
     "output_type": "stream",
     "text": [
      "<class 'pandas.core.frame.DataFrame'>\n",
      "RangeIndex: 135640 entries, 0 to 135639\n",
      "Data columns (total 5 columns):\n",
      " #   Column          Non-Null Count   Dtype \n",
      "---  ------          --------------   ----- \n",
      " 0   event_datetime  135640 non-null  object\n",
      " 1   event           135640 non-null  object\n",
      " 2   building_type   127957 non-null  object\n",
      " 3   user_id         135640 non-null  object\n",
      " 4   project_type    1866 non-null    object\n",
      "dtypes: object(5)\n",
      "memory usage: 5.2+ MB\n",
      "\n",
      "<class 'pandas.core.frame.DataFrame'>\n",
      "RangeIndex: 28 entries, 0 to 27\n",
      "Data columns (total 3 columns):\n",
      " #   Column  Non-Null Count  Dtype  \n",
      "---  ------  --------------  -----  \n",
      " 0   source  28 non-null     object \n",
      " 1   day     28 non-null     object \n",
      " 2   cost    28 non-null     float64\n",
      "dtypes: float64(1), object(2)\n",
      "memory usage: 800.0+ bytes\n",
      "\n",
      "<class 'pandas.core.frame.DataFrame'>\n",
      "RangeIndex: 13576 entries, 0 to 13575\n",
      "Data columns (total 2 columns):\n",
      " #   Column   Non-Null Count  Dtype \n",
      "---  ------   --------------  ----- \n",
      " 0   user_id  13576 non-null  object\n",
      " 1   source   13576 non-null  object\n",
      "dtypes: object(2)\n",
      "memory usage: 212.2+ KB\n"
     ]
    }
   ],
   "source": [
    "df_actions.info()\n",
    "print()\n",
    "df_costs.info()\n",
    "print()\n",
    "df_source.info()"
   ]
  },
  {
   "cell_type": "code",
   "execution_count": 6,
   "metadata": {},
   "outputs": [
    {
     "data": {
      "text/plain": [
       "array([nan, 'satellite_orbital_assembly'], dtype=object)"
      ]
     },
     "execution_count": 6,
     "metadata": {},
     "output_type": "execute_result"
    }
   ],
   "source": [
    "df_actions['project_type'].unique()"
   ]
  },
  {
   "cell_type": "markdown",
   "metadata": {},
   "source": [
    "Замечания:\n",
    "- Названия столбцов без нареканий\n",
    "- Нужно заменить тип данных на data для event_datetime и day\n",
    "- Есть пропуски building_type и project_type т.к. это отсутсвующие данные вызванные структурой игры и данных заменим их нулями "
   ]
  },
  {
   "cell_type": "code",
   "execution_count": 7,
   "metadata": {},
   "outputs": [],
   "source": [
    "# изменим тип данных на дату\n",
    "df_costs['day_dt'] = df_costs['day'].astype(\"datetime64[ns]\")\n",
    "df_actions['event_datetime_dt'] = df_actions['event_datetime'].astype(\"datetime64[ns]\")"
   ]
  },
  {
   "cell_type": "code",
   "execution_count": 8,
   "metadata": {},
   "outputs": [],
   "source": [
    "columns_to_replace = ['building_type', 'project_type']\n",
    "for column in columns_to_replace:\n",
    "    df_actions[column] = df_actions[column].fillna(0)"
   ]
  },
  {
   "cell_type": "code",
   "execution_count": 9,
   "metadata": {},
   "outputs": [
    {
     "name": "stdout",
     "output_type": "stream",
     "text": [
      "<class 'pandas.core.frame.DataFrame'>\n",
      "RangeIndex: 135640 entries, 0 to 135639\n",
      "Data columns (total 6 columns):\n",
      " #   Column             Non-Null Count   Dtype         \n",
      "---  ------             --------------   -----         \n",
      " 0   event_datetime     135640 non-null  object        \n",
      " 1   event              135640 non-null  object        \n",
      " 2   building_type      135640 non-null  object        \n",
      " 3   user_id            135640 non-null  object        \n",
      " 4   project_type       135640 non-null  object        \n",
      " 5   event_datetime_dt  135640 non-null  datetime64[ns]\n",
      "dtypes: datetime64[ns](1), object(5)\n",
      "memory usage: 6.2+ MB\n",
      "\n",
      "<class 'pandas.core.frame.DataFrame'>\n",
      "RangeIndex: 28 entries, 0 to 27\n",
      "Data columns (total 4 columns):\n",
      " #   Column  Non-Null Count  Dtype         \n",
      "---  ------  --------------  -----         \n",
      " 0   source  28 non-null     object        \n",
      " 1   day     28 non-null     object        \n",
      " 2   cost    28 non-null     float64       \n",
      " 3   day_dt  28 non-null     datetime64[ns]\n",
      "dtypes: datetime64[ns](1), float64(1), object(2)\n",
      "memory usage: 1.0+ KB\n"
     ]
    }
   ],
   "source": [
    "df_actions.info()\n",
    "print()\n",
    "df_costs.info()"
   ]
  },
  {
   "cell_type": "markdown",
   "metadata": {},
   "source": [
    "### Выводы по предобработке данных\n",
    "- все данные корректны\n",
    "- заменены пропуски и изменен тип данных на data"
   ]
  },
  {
   "cell_type": "markdown",
   "metadata": {},
   "source": [
    "## Исследовательский анализ данных"
   ]
  },
  {
   "cell_type": "markdown",
   "metadata": {},
   "source": [
    "Тип данных satellite_orbital_assembly вызывает сомнения, важны ли они. Рассмотрим этих пользователей."
   ]
  },
  {
   "cell_type": "code",
   "execution_count": 10,
   "metadata": {},
   "outputs": [
    {
     "data": {
      "text/plain": [
       "array([0, 'satellite_orbital_assembly'], dtype=object)"
      ]
     },
     "execution_count": 10,
     "metadata": {},
     "output_type": "execute_result"
    }
   ],
   "source": [
    "df_actions['project_type'].unique()"
   ]
  },
  {
   "cell_type": "code",
   "execution_count": 11,
   "metadata": {},
   "outputs": [],
   "source": [
    "df_actions_project_type = df_actions.query('project_type == \"satellite_orbital_assembly\"')"
   ]
  },
  {
   "cell_type": "code",
   "execution_count": 12,
   "metadata": {},
   "outputs": [
    {
     "data": {
      "text/html": [
       "<div>\n",
       "<style scoped>\n",
       "    .dataframe tbody tr th:only-of-type {\n",
       "        vertical-align: middle;\n",
       "    }\n",
       "\n",
       "    .dataframe tbody tr th {\n",
       "        vertical-align: top;\n",
       "    }\n",
       "\n",
       "    .dataframe thead th {\n",
       "        text-align: right;\n",
       "    }\n",
       "</style>\n",
       "<table border=\"1\" class=\"dataframe\">\n",
       "  <thead>\n",
       "    <tr style=\"text-align: right;\">\n",
       "      <th></th>\n",
       "      <th>event_datetime</th>\n",
       "      <th>event</th>\n",
       "      <th>building_type</th>\n",
       "      <th>user_id</th>\n",
       "      <th>project_type</th>\n",
       "      <th>event_datetime_dt</th>\n",
       "    </tr>\n",
       "  </thead>\n",
       "  <tbody>\n",
       "    <tr>\n",
       "      <th>47121</th>\n",
       "      <td>2020-05-08 18:10:25</td>\n",
       "      <td>project</td>\n",
       "      <td>0</td>\n",
       "      <td>e3c66498-9d45-4000-9392-f81e6796e7da</td>\n",
       "      <td>satellite_orbital_assembly</td>\n",
       "      <td>2020-05-08 18:10:25</td>\n",
       "    </tr>\n",
       "    <tr>\n",
       "      <th>57398</th>\n",
       "      <td>2020-05-09 13:49:11</td>\n",
       "      <td>project</td>\n",
       "      <td>0</td>\n",
       "      <td>936e7af6-8338-4703-a1df-fc6c3f5b8e34</td>\n",
       "      <td>satellite_orbital_assembly</td>\n",
       "      <td>2020-05-09 13:49:11</td>\n",
       "    </tr>\n",
       "    <tr>\n",
       "      <th>58797</th>\n",
       "      <td>2020-05-09 16:19:33</td>\n",
       "      <td>project</td>\n",
       "      <td>0</td>\n",
       "      <td>a4491c86-c498-4f74-a56e-65c136d0e9a1</td>\n",
       "      <td>satellite_orbital_assembly</td>\n",
       "      <td>2020-05-09 16:19:33</td>\n",
       "    </tr>\n",
       "  </tbody>\n",
       "</table>\n",
       "</div>"
      ],
      "text/plain": [
       "            event_datetime    event building_type  \\\n",
       "47121  2020-05-08 18:10:25  project             0   \n",
       "57398  2020-05-09 13:49:11  project             0   \n",
       "58797  2020-05-09 16:19:33  project             0   \n",
       "\n",
       "                                    user_id                project_type  \\\n",
       "47121  e3c66498-9d45-4000-9392-f81e6796e7da  satellite_orbital_assembly   \n",
       "57398  936e7af6-8338-4703-a1df-fc6c3f5b8e34  satellite_orbital_assembly   \n",
       "58797  a4491c86-c498-4f74-a56e-65c136d0e9a1  satellite_orbital_assembly   \n",
       "\n",
       "        event_datetime_dt  \n",
       "47121 2020-05-08 18:10:25  \n",
       "57398 2020-05-09 13:49:11  \n",
       "58797 2020-05-09 16:19:33  "
      ]
     },
     "metadata": {},
     "output_type": "display_data"
    }
   ],
   "source": [
    "display(df_actions_project_type.head(3))"
   ]
  },
  {
   "cell_type": "markdown",
   "metadata": {},
   "source": [
    "Эти данные корректны, их можно использовать для дальнейшего анализа."
   ]
  },
  {
   "cell_type": "markdown",
   "metadata": {},
   "source": [
    "### Рассмотрим профили пользователей"
   ]
  },
  {
   "cell_type": "markdown",
   "metadata": {},
   "source": [
    "Определите минимальную и максимальную дату привлечения пользователей, максимальное и минимальное число построек, среднее число построек."
   ]
  },
  {
   "cell_type": "code",
   "execution_count": 13,
   "metadata": {},
   "outputs": [
    {
     "data": {
      "text/plain": [
       "Timestamp('2020-06-05 12:32:49')"
      ]
     },
     "execution_count": 13,
     "metadata": {},
     "output_type": "execute_result"
    }
   ],
   "source": [
    "df_actions['event_datetime_dt'].max()"
   ]
  },
  {
   "cell_type": "code",
   "execution_count": 14,
   "metadata": {},
   "outputs": [
    {
     "data": {
      "text/plain": [
       "Timestamp('2020-05-04 00:00:01')"
      ]
     },
     "execution_count": 14,
     "metadata": {},
     "output_type": "execute_result"
    }
   ],
   "source": [
    "df_actions['event_datetime_dt'].min()"
   ]
  },
  {
   "cell_type": "code",
   "execution_count": 15,
   "metadata": {},
   "outputs": [
    {
     "data": {
      "image/png": "[encoded data removed]",
      "text/plain": [
       "<Figure size 432x288 with 1 Axes>"
      ]
     },
     "metadata": {
      "needs_background": "light"
     },
     "output_type": "display_data"
    }
   ],
   "source": [
    "# рассмотрим события для пользователей\n",
    "\n",
    "df_actions_group_event = df_actions.groupby(['event'])['event'].count()\n",
    "\n",
    "df_actions_group_event.plot.barh(color='b', alpha=0.7);"
   ]
  },
  {
   "cell_type": "code",
   "execution_count": 16,
   "metadata": {},
   "outputs": [
    {
     "data": {
      "text/plain": [
       "event\n",
       "building            127957\n",
       "finished_stage_1      5817\n",
       "project               1866\n",
       "Name: event, dtype: int64"
      ]
     },
     "execution_count": 16,
     "metadata": {},
     "output_type": "execute_result"
    }
   ],
   "source": [
    "df_actions_group_event"
   ]
  },
  {
   "cell_type": "code",
   "execution_count": 17,
   "metadata": {},
   "outputs": [],
   "source": [
    "# рассмотрим типы зданий постройки\n",
    "\n",
    "df_actions_group_building = df_actions.groupby(['building_type'])['building_type'].count()\n",
    "\n",
    "#display(df_actions_group_building)"
   ]
  },
  {
   "cell_type": "code",
   "execution_count": 18,
   "metadata": {},
   "outputs": [
    {
     "data": {
      "image/png": "[encoded data removed]",
      "text/plain": [
       "<Figure size 432x288 with 1 Axes>"
      ]
     },
     "metadata": {
      "needs_background": "light"
     },
     "output_type": "display_data"
    }
   ],
   "source": [
    "df_actions_group_building.plot.barh(color='k', alpha=0.7);"
   ]
  },
  {
   "cell_type": "code",
   "execution_count": 19,
   "metadata": {},
   "outputs": [
    {
     "data": {
      "text/plain": [
       "building_type\n",
       "0                   7683\n",
       "assembly_shop      54494\n",
       "research_center    14138\n",
       "spaceport          59325\n",
       "Name: building_type, dtype: int64"
      ]
     },
     "execution_count": 19,
     "metadata": {},
     "output_type": "execute_result"
    }
   ],
   "source": [
    "df_actions_group_building"
   ]
  },
  {
   "cell_type": "code",
   "execution_count": 20,
   "metadata": {},
   "outputs": [
    {
     "data": {
      "text/plain": [
       "user_id\n",
       "d6aca06a-cd75-4cd8-b8cd-240a3c163884    22\n",
       "ff841992-d93b-462e-bc6e-18c24a514f36    22\n",
       "bf542075-e3a2-4e79-82d8-3838e86d2a25    22\n",
       "45935e5d-8f50-4176-83d3-fd545bb2015f    21\n",
       "94844e06-0352-4048-9e62-1db7718f804c    21\n",
       "                                        ..\n",
       "fcefbdaa-5f8b-49a6-91f3-8c09e0a94a5d     1\n",
       "b9d266a0-7741-49ba-9125-134c5969f8d1     1\n",
       "ded24248-15c7-4037-9092-f64fcaa651e7     1\n",
       "b783fde3-5416-43fb-99b0-2c6e5f787d6f     1\n",
       "70362b15-8a0b-4fb7-8a67-4454fd7098d7     1\n",
       "Name: event, Length: 13576, dtype: int64"
      ]
     },
     "execution_count": 20,
     "metadata": {},
     "output_type": "execute_result"
    }
   ],
   "source": [
    "# минимальное и максимальное количество построек\n",
    "\n",
    "df_actions.groupby(['user_id'])['event'].count().sort_values(ascending=False)"
   ]
  },
  {
   "cell_type": "markdown",
   "metadata": {},
   "source": [
    "### Выводы по исследовательскому анализу данных"
   ]
  },
  {
   "cell_type": "markdown",
   "metadata": {},
   "source": [
    "- данные project_type корректы и их можно использовать для дальнейше работы\n",
    "- даты активности пользователей с 2020-05-04 по 2020-06-05\n",
    "- больше всего событий для пользователей building, далее идут finished_stage_1 и меньше всего project\n",
    "- чаще всего строят spaceport, далее идут assembly_shop, research_center\n",
    "- количество построект по ivent от 1 до 22"
   ]
  },
  {
   "cell_type": "markdown",
   "metadata": {},
   "source": [
    "### Рассмотрим источники трафика"
   ]
  },
  {
   "cell_type": "code",
   "execution_count": 21,
   "metadata": {},
   "outputs": [
    {
     "data": {
      "text/html": [
       "<div>\n",
       "<style scoped>\n",
       "    .dataframe tbody tr th:only-of-type {\n",
       "        vertical-align: middle;\n",
       "    }\n",
       "\n",
       "    .dataframe tbody tr th {\n",
       "        vertical-align: top;\n",
       "    }\n",
       "\n",
       "    .dataframe thead th {\n",
       "        text-align: right;\n",
       "    }\n",
       "</style>\n",
       "<table border=\"1\" class=\"dataframe\">\n",
       "  <thead>\n",
       "    <tr style=\"text-align: right;\">\n",
       "      <th></th>\n",
       "      <th>user_id</th>\n",
       "      <th>source</th>\n",
       "    </tr>\n",
       "  </thead>\n",
       "  <tbody>\n",
       "    <tr>\n",
       "      <th>0</th>\n",
       "      <td>0001f83c-c6ac-4621-b7f0-8a28b283ac30</td>\n",
       "      <td>facebook_ads</td>\n",
       "    </tr>\n",
       "    <tr>\n",
       "      <th>1</th>\n",
       "      <td>00151b4f-ba38-44a8-a650-d7cf130a0105</td>\n",
       "      <td>yandex_direct</td>\n",
       "    </tr>\n",
       "    <tr>\n",
       "      <th>2</th>\n",
       "      <td>001aaea6-3d14-43f1-8ca8-7f48820f17aa</td>\n",
       "      <td>youtube_channel_reklama</td>\n",
       "    </tr>\n",
       "  </tbody>\n",
       "</table>\n",
       "</div>"
      ],
      "text/plain": [
       "                                user_id                   source\n",
       "0  0001f83c-c6ac-4621-b7f0-8a28b283ac30             facebook_ads\n",
       "1  00151b4f-ba38-44a8-a650-d7cf130a0105            yandex_direct\n",
       "2  001aaea6-3d14-43f1-8ca8-7f48820f17aa  youtube_channel_reklama"
      ]
     },
     "execution_count": 21,
     "metadata": {},
     "output_type": "execute_result"
    }
   ],
   "source": [
    "df_source.head(3)"
   ]
  },
  {
   "cell_type": "code",
   "execution_count": 22,
   "metadata": {},
   "outputs": [
    {
     "data": {
      "text/html": [
       "<div>\n",
       "<style scoped>\n",
       "    .dataframe tbody tr th:only-of-type {\n",
       "        vertical-align: middle;\n",
       "    }\n",
       "\n",
       "    .dataframe tbody tr th {\n",
       "        vertical-align: top;\n",
       "    }\n",
       "\n",
       "    .dataframe thead th {\n",
       "        text-align: right;\n",
       "    }\n",
       "</style>\n",
       "<table border=\"1\" class=\"dataframe\">\n",
       "  <thead>\n",
       "    <tr style=\"text-align: right;\">\n",
       "      <th></th>\n",
       "      <th>source</th>\n",
       "      <th>user_id</th>\n",
       "    </tr>\n",
       "  </thead>\n",
       "  <tbody>\n",
       "    <tr>\n",
       "      <th>0</th>\n",
       "      <td>yandex_direct</td>\n",
       "      <td>4817</td>\n",
       "    </tr>\n",
       "    <tr>\n",
       "      <th>1</th>\n",
       "      <td>instagram_new_adverts</td>\n",
       "      <td>3347</td>\n",
       "    </tr>\n",
       "    <tr>\n",
       "      <th>2</th>\n",
       "      <td>facebook_ads</td>\n",
       "      <td>2726</td>\n",
       "    </tr>\n",
       "    <tr>\n",
       "      <th>3</th>\n",
       "      <td>youtube_channel_reklama</td>\n",
       "      <td>2686</td>\n",
       "    </tr>\n",
       "  </tbody>\n",
       "</table>\n",
       "</div>"
      ],
      "text/plain": [
       "                    source  user_id\n",
       "0            yandex_direct     4817\n",
       "1    instagram_new_adverts     3347\n",
       "2             facebook_ads     2726\n",
       "3  youtube_channel_reklama     2686"
      ]
     },
     "metadata": {},
     "output_type": "display_data"
    }
   ],
   "source": [
    "df_source_group = df_source.groupby('source').count().sort_values('user_id', ascending = False).reset_index()\n",
    "display(df_source_group)"
   ]
  },
  {
   "cell_type": "markdown",
   "metadata": {},
   "source": [
    "## Анализ разных источников привлечения клиентов"
   ]
  },
  {
   "cell_type": "code",
   "execution_count": 23,
   "metadata": {},
   "outputs": [],
   "source": [
    "df_costs_group = df_costs.groupby('source').sum().reset_index()"
   ]
  },
  {
   "cell_type": "code",
   "execution_count": 24,
   "metadata": {},
   "outputs": [
    {
     "data": {
      "text/html": [
       "<div>\n",
       "<style scoped>\n",
       "    .dataframe tbody tr th:only-of-type {\n",
       "        vertical-align: middle;\n",
       "    }\n",
       "\n",
       "    .dataframe tbody tr th {\n",
       "        vertical-align: top;\n",
       "    }\n",
       "\n",
       "    .dataframe thead th {\n",
       "        text-align: right;\n",
       "    }\n",
       "</style>\n",
       "<table border=\"1\" class=\"dataframe\">\n",
       "  <thead>\n",
       "    <tr style=\"text-align: right;\">\n",
       "      <th></th>\n",
       "      <th>source</th>\n",
       "      <th>cost</th>\n",
       "    </tr>\n",
       "  </thead>\n",
       "  <tbody>\n",
       "    <tr>\n",
       "      <th>0</th>\n",
       "      <td>facebook_ads</td>\n",
       "      <td>2140.904643</td>\n",
       "    </tr>\n",
       "    <tr>\n",
       "      <th>1</th>\n",
       "      <td>instagram_new_adverts</td>\n",
       "      <td>2161.441691</td>\n",
       "    </tr>\n",
       "    <tr>\n",
       "      <th>2</th>\n",
       "      <td>yandex_direct</td>\n",
       "      <td>2233.111449</td>\n",
       "    </tr>\n",
       "    <tr>\n",
       "      <th>3</th>\n",
       "      <td>youtube_channel_reklama</td>\n",
       "      <td>1068.119204</td>\n",
       "    </tr>\n",
       "  </tbody>\n",
       "</table>\n",
       "</div>"
      ],
      "text/plain": [
       "                    source         cost\n",
       "0             facebook_ads  2140.904643\n",
       "1    instagram_new_adverts  2161.441691\n",
       "2            yandex_direct  2233.111449\n",
       "3  youtube_channel_reklama  1068.119204"
      ]
     },
     "metadata": {},
     "output_type": "display_data"
    }
   ],
   "source": [
    "display(df_costs_group)"
   ]
  },
  {
   "cell_type": "code",
   "execution_count": 25,
   "metadata": {},
   "outputs": [],
   "source": [
    "df_costs_group = df_source_group.merge(df_costs_group, on='source', how='left')"
   ]
  },
  {
   "cell_type": "code",
   "execution_count": 26,
   "metadata": {},
   "outputs": [],
   "source": [
    "# добавим среднее\n",
    "df_costs_group['mean'] = df_costs_group['cost']/df_costs_group['user_id']"
   ]
  },
  {
   "cell_type": "code",
   "execution_count": 27,
   "metadata": {},
   "outputs": [
    {
     "data": {
      "text/html": [
       "<div>\n",
       "<style scoped>\n",
       "    .dataframe tbody tr th:only-of-type {\n",
       "        vertical-align: middle;\n",
       "    }\n",
       "\n",
       "    .dataframe tbody tr th {\n",
       "        vertical-align: top;\n",
       "    }\n",
       "\n",
       "    .dataframe thead th {\n",
       "        text-align: right;\n",
       "    }\n",
       "</style>\n",
       "<table border=\"1\" class=\"dataframe\">\n",
       "  <thead>\n",
       "    <tr style=\"text-align: right;\">\n",
       "      <th></th>\n",
       "      <th>source</th>\n",
       "      <th>user_id</th>\n",
       "      <th>cost</th>\n",
       "      <th>mean</th>\n",
       "    </tr>\n",
       "  </thead>\n",
       "  <tbody>\n",
       "    <tr>\n",
       "      <th>0</th>\n",
       "      <td>yandex_direct</td>\n",
       "      <td>4817</td>\n",
       "      <td>2233.111449</td>\n",
       "      <td>0.463590</td>\n",
       "    </tr>\n",
       "    <tr>\n",
       "      <th>1</th>\n",
       "      <td>instagram_new_adverts</td>\n",
       "      <td>3347</td>\n",
       "      <td>2161.441691</td>\n",
       "      <td>0.645785</td>\n",
       "    </tr>\n",
       "    <tr>\n",
       "      <th>2</th>\n",
       "      <td>facebook_ads</td>\n",
       "      <td>2726</td>\n",
       "      <td>2140.904643</td>\n",
       "      <td>0.785365</td>\n",
       "    </tr>\n",
       "    <tr>\n",
       "      <th>3</th>\n",
       "      <td>youtube_channel_reklama</td>\n",
       "      <td>2686</td>\n",
       "      <td>1068.119204</td>\n",
       "      <td>0.397662</td>\n",
       "    </tr>\n",
       "  </tbody>\n",
       "</table>\n",
       "</div>"
      ],
      "text/plain": [
       "                    source  user_id         cost      mean\n",
       "0            yandex_direct     4817  2233.111449  0.463590\n",
       "1    instagram_new_adverts     3347  2161.441691  0.645785\n",
       "2             facebook_ads     2726  2140.904643  0.785365\n",
       "3  youtube_channel_reklama     2686  1068.119204  0.397662"
      ]
     },
     "metadata": {},
     "output_type": "display_data"
    }
   ],
   "source": [
    "display(df_costs_group)"
   ]
  },
  {
   "cell_type": "markdown",
   "metadata": {},
   "source": [
    "### Выводы по анализ разных источников привлечения клиентов"
   ]
  },
  {
   "cell_type": "markdown",
   "metadata": {},
   "source": [
    "- больше всего привлечено из yandex_direct, далее идут instagram_new_adverts и facebook_ads\n",
    "- самая высокая средняя стоимость привлечения пользователей для facebook_ads (0.76) минимальная для youtube_channel_reklama (0.39)"
   ]
  },
  {
   "cell_type": "markdown",
   "metadata": {},
   "source": [
    "## Анализ влияния источника перехода в игру на поведение пользователя"
   ]
  },
  {
   "cell_type": "code",
   "execution_count": 28,
   "metadata": {},
   "outputs": [],
   "source": [
    "# объединим данные\n",
    "\n",
    "df_actions = df_actions.merge(df_source, on='user_id', how='left')"
   ]
  },
  {
   "cell_type": "code",
   "execution_count": 29,
   "metadata": {},
   "outputs": [
    {
     "data": {
      "text/html": [
       "<div>\n",
       "<style scoped>\n",
       "    .dataframe tbody tr th:only-of-type {\n",
       "        vertical-align: middle;\n",
       "    }\n",
       "\n",
       "    .dataframe tbody tr th {\n",
       "        vertical-align: top;\n",
       "    }\n",
       "\n",
       "    .dataframe thead th {\n",
       "        text-align: right;\n",
       "    }\n",
       "</style>\n",
       "<table border=\"1\" class=\"dataframe\">\n",
       "  <thead>\n",
       "    <tr style=\"text-align: right;\">\n",
       "      <th></th>\n",
       "      <th>event_datetime</th>\n",
       "      <th>event</th>\n",
       "      <th>building_type</th>\n",
       "      <th>user_id</th>\n",
       "      <th>project_type</th>\n",
       "      <th>event_datetime_dt</th>\n",
       "      <th>source</th>\n",
       "    </tr>\n",
       "  </thead>\n",
       "  <tbody>\n",
       "    <tr>\n",
       "      <th>0</th>\n",
       "      <td>2020-05-04 00:00:01</td>\n",
       "      <td>building</td>\n",
       "      <td>assembly_shop</td>\n",
       "      <td>55e92310-cb8e-4754-b622-597e124b03de</td>\n",
       "      <td>0</td>\n",
       "      <td>2020-05-04 00:00:01</td>\n",
       "      <td>youtube_channel_reklama</td>\n",
       "    </tr>\n",
       "    <tr>\n",
       "      <th>1</th>\n",
       "      <td>2020-05-04 00:00:03</td>\n",
       "      <td>building</td>\n",
       "      <td>assembly_shop</td>\n",
       "      <td>c07b1c10-f477-44dc-81dc-ec82254b1347</td>\n",
       "      <td>0</td>\n",
       "      <td>2020-05-04 00:00:03</td>\n",
       "      <td>facebook_ads</td>\n",
       "    </tr>\n",
       "    <tr>\n",
       "      <th>2</th>\n",
       "      <td>2020-05-04 00:00:16</td>\n",
       "      <td>building</td>\n",
       "      <td>assembly_shop</td>\n",
       "      <td>6edd42cc-e753-4ff6-a947-2107cd560710</td>\n",
       "      <td>0</td>\n",
       "      <td>2020-05-04 00:00:16</td>\n",
       "      <td>instagram_new_adverts</td>\n",
       "    </tr>\n",
       "    <tr>\n",
       "      <th>3</th>\n",
       "      <td>2020-05-04 00:00:16</td>\n",
       "      <td>building</td>\n",
       "      <td>assembly_shop</td>\n",
       "      <td>92c69003-d60a-444a-827f-8cc51bf6bf4c</td>\n",
       "      <td>0</td>\n",
       "      <td>2020-05-04 00:00:16</td>\n",
       "      <td>facebook_ads</td>\n",
       "    </tr>\n",
       "    <tr>\n",
       "      <th>4</th>\n",
       "      <td>2020-05-04 00:00:35</td>\n",
       "      <td>building</td>\n",
       "      <td>assembly_shop</td>\n",
       "      <td>cdc6bb92-0ccb-4490-9866-ef142f09139d</td>\n",
       "      <td>0</td>\n",
       "      <td>2020-05-04 00:00:35</td>\n",
       "      <td>yandex_direct</td>\n",
       "    </tr>\n",
       "  </tbody>\n",
       "</table>\n",
       "</div>"
      ],
      "text/plain": [
       "        event_datetime     event  building_type  \\\n",
       "0  2020-05-04 00:00:01  building  assembly_shop   \n",
       "1  2020-05-04 00:00:03  building  assembly_shop   \n",
       "2  2020-05-04 00:00:16  building  assembly_shop   \n",
       "3  2020-05-04 00:00:16  building  assembly_shop   \n",
       "4  2020-05-04 00:00:35  building  assembly_shop   \n",
       "\n",
       "                                user_id project_type   event_datetime_dt  \\\n",
       "0  55e92310-cb8e-4754-b622-597e124b03de            0 2020-05-04 00:00:01   \n",
       "1  c07b1c10-f477-44dc-81dc-ec82254b1347            0 2020-05-04 00:00:03   \n",
       "2  6edd42cc-e753-4ff6-a947-2107cd560710            0 2020-05-04 00:00:16   \n",
       "3  92c69003-d60a-444a-827f-8cc51bf6bf4c            0 2020-05-04 00:00:16   \n",
       "4  cdc6bb92-0ccb-4490-9866-ef142f09139d            0 2020-05-04 00:00:35   \n",
       "\n",
       "                    source  \n",
       "0  youtube_channel_reklama  \n",
       "1             facebook_ads  \n",
       "2    instagram_new_adverts  \n",
       "3             facebook_ads  \n",
       "4            yandex_direct  "
      ]
     },
     "execution_count": 29,
     "metadata": {},
     "output_type": "execute_result"
    }
   ],
   "source": [
    "df_actions.head()"
   ]
  },
  {
   "cell_type": "code",
   "execution_count": 30,
   "metadata": {
    "scrolled": true
   },
   "outputs": [
    {
     "data": {
      "text/plain": [
       "source                   event           \n",
       "facebook_ads             building            26131\n",
       "                         finished_stage_1     1150\n",
       "                         project               391\n",
       "instagram_new_adverts    building            31815\n",
       "                         finished_stage_1     1466\n",
       "                         project               476\n",
       "yandex_direct            building            45032\n",
       "                         finished_stage_1     2042\n",
       "                         project               620\n",
       "youtube_channel_reklama  building            24979\n",
       "                         finished_stage_1     1159\n",
       "                         project               379\n",
       "Name: event, dtype: int64"
      ]
     },
     "metadata": {},
     "output_type": "display_data"
    }
   ],
   "source": [
    "df_actions_group = df_actions.groupby(['source', 'event'])['event'].count()#.reset_index()\n",
    "display(df_actions_group)"
   ]
  },
  {
   "cell_type": "markdown",
   "metadata": {},
   "source": [
    "Построим график для оценки действий пользователей привлеченных с разных каналов."
   ]
  },
  {
   "cell_type": "code",
   "execution_count": 31,
   "metadata": {},
   "outputs": [
    {
     "data": {
      "image/png": "[encoded data removed]",
      "text/plain": [
       "<Figure size 648x504 with 1 Axes>"
      ]
     },
     "metadata": {
      "needs_background": "light"
     },
     "output_type": "display_data"
    }
   ],
   "source": [
    "# графи по сгруппированным данным\n",
    "# канал - число обытий\n",
    "df_actions_group.to_frame().unstack(level=0).plot(kind='line', rot=0, figsize=(9, 7), layout=(2, 3));"
   ]
  },
  {
   "cell_type": "code",
   "execution_count": 32,
   "metadata": {},
   "outputs": [
    {
     "data": {
      "text/plain": [
       "source                   building_type  \n",
       "facebook_ads             0                   1541\n",
       "                         assembly_shop      11117\n",
       "                         research_center     2945\n",
       "                         spaceport          12069\n",
       "instagram_new_adverts    0                   1942\n",
       "                         assembly_shop      13431\n",
       "                         research_center     3537\n",
       "                         spaceport          14847\n",
       "yandex_direct            0                   2662\n",
       "                         assembly_shop      19295\n",
       "                         research_center     4952\n",
       "                         spaceport          20785\n",
       "youtube_channel_reklama  0                   1538\n",
       "                         assembly_shop      10651\n",
       "                         research_center     2704\n",
       "                         spaceport          11624\n",
       "Name: event, dtype: int64"
      ]
     },
     "metadata": {},
     "output_type": "display_data"
    }
   ],
   "source": [
    "df_actions_group_2 = df_actions.groupby(['source', 'building_type'])['event'].count()\n",
    "display(df_actions_group_2)"
   ]
  },
  {
   "cell_type": "code",
   "execution_count": 33,
   "metadata": {},
   "outputs": [
    {
     "data": {
      "image/png": "[encoded data removed]",
      "text/plain": [
       "<Figure size 648x504 with 1 Axes>"
      ]
     },
     "metadata": {
      "needs_background": "light"
     },
     "output_type": "display_data"
    }
   ],
   "source": [
    "# строения\n",
    "df_actions_group_2.to_frame().unstack(level=0).plot(kind='line', rot=0, figsize=(9, 7), layout=(2, 3));"
   ]
  },
  {
   "cell_type": "markdown",
   "metadata": {},
   "source": [
    "### Выводы по анализу источников привлечения"
   ]
  },
  {
   "cell_type": "markdown",
   "metadata": {},
   "source": [
    "Больше всего пользователей привлечено из yandex_direct на втором месте instagram_new_adverts, далее идут facebook_ads и youtube_channel_reklama"
   ]
  },
  {
   "cell_type": "markdown",
   "metadata": {},
   "source": [
    "На основе графиков видно что самая большая активность по событиям и строительству наблюдается у yandex_direct следом идет instagram_new_adverts"
   ]
  },
  {
   "cell_type": "markdown",
   "metadata": {},
   "source": [
    "Оценева общий порядок строительства с учетом стоимости привлечения можно сказать, что выгодней всего привлекать игроков через youtube_channel_reklama и yandex_direct ( особенно с учетом активности) а самый невыгодный канал - facebook_ads"
   ]
  },
  {
   "cell_type": "markdown",
   "metadata": {},
   "source": [
    "### Проверим гипотезу: время завершения уровня различается в зависимости способа прохождения"
   ]
  },
  {
   "cell_type": "code",
   "execution_count": 34,
   "metadata": {},
   "outputs": [
    {
     "data": {
      "text/html": [
       "<div>\n",
       "<style scoped>\n",
       "    .dataframe tbody tr th:only-of-type {\n",
       "        vertical-align: middle;\n",
       "    }\n",
       "\n",
       "    .dataframe tbody tr th {\n",
       "        vertical-align: top;\n",
       "    }\n",
       "\n",
       "    .dataframe thead th {\n",
       "        text-align: right;\n",
       "    }\n",
       "</style>\n",
       "<table border=\"1\" class=\"dataframe\">\n",
       "  <thead>\n",
       "    <tr style=\"text-align: right;\">\n",
       "      <th></th>\n",
       "      <th>event_datetime</th>\n",
       "      <th>event</th>\n",
       "      <th>building_type</th>\n",
       "      <th>user_id</th>\n",
       "      <th>project_type</th>\n",
       "      <th>event_datetime_dt</th>\n",
       "      <th>source</th>\n",
       "    </tr>\n",
       "  </thead>\n",
       "  <tbody>\n",
       "    <tr>\n",
       "      <th>0</th>\n",
       "      <td>2020-05-04 00:00:01</td>\n",
       "      <td>building</td>\n",
       "      <td>assembly_shop</td>\n",
       "      <td>55e92310-cb8e-4754-b622-597e124b03de</td>\n",
       "      <td>0</td>\n",
       "      <td>2020-05-04 00:00:01</td>\n",
       "      <td>youtube_channel_reklama</td>\n",
       "    </tr>\n",
       "    <tr>\n",
       "      <th>1</th>\n",
       "      <td>2020-05-04 00:00:03</td>\n",
       "      <td>building</td>\n",
       "      <td>assembly_shop</td>\n",
       "      <td>c07b1c10-f477-44dc-81dc-ec82254b1347</td>\n",
       "      <td>0</td>\n",
       "      <td>2020-05-04 00:00:03</td>\n",
       "      <td>facebook_ads</td>\n",
       "    </tr>\n",
       "    <tr>\n",
       "      <th>2</th>\n",
       "      <td>2020-05-04 00:00:16</td>\n",
       "      <td>building</td>\n",
       "      <td>assembly_shop</td>\n",
       "      <td>6edd42cc-e753-4ff6-a947-2107cd560710</td>\n",
       "      <td>0</td>\n",
       "      <td>2020-05-04 00:00:16</td>\n",
       "      <td>instagram_new_adverts</td>\n",
       "    </tr>\n",
       "  </tbody>\n",
       "</table>\n",
       "</div>"
      ],
      "text/plain": [
       "        event_datetime     event  building_type  \\\n",
       "0  2020-05-04 00:00:01  building  assembly_shop   \n",
       "1  2020-05-04 00:00:03  building  assembly_shop   \n",
       "2  2020-05-04 00:00:16  building  assembly_shop   \n",
       "\n",
       "                                user_id project_type   event_datetime_dt  \\\n",
       "0  55e92310-cb8e-4754-b622-597e124b03de            0 2020-05-04 00:00:01   \n",
       "1  c07b1c10-f477-44dc-81dc-ec82254b1347            0 2020-05-04 00:00:03   \n",
       "2  6edd42cc-e753-4ff6-a947-2107cd560710            0 2020-05-04 00:00:16   \n",
       "\n",
       "                    source  \n",
       "0  youtube_channel_reklama  \n",
       "1             facebook_ads  \n",
       "2    instagram_new_adverts  "
      ]
     },
     "execution_count": 34,
     "metadata": {},
     "output_type": "execute_result"
    }
   ],
   "source": [
    "df_actions.head(3)"
   ]
  },
  {
   "cell_type": "markdown",
   "metadata": {},
   "source": [
    "### получаем список finished_stage_1 + project"
   ]
  },
  {
   "cell_type": "code",
   "execution_count": 38,
   "metadata": {},
   "outputs": [],
   "source": [
    "# создаем логический столбец finished_stage_1 = True\n",
    "df_actions['enemy_bool'] = df_actions.loc[:, 'event'] == 'project'"
   ]
  },
  {
   "cell_type": "code",
   "execution_count": 39,
   "metadata": {},
   "outputs": [],
   "source": [
    "# получаем все id\n",
    "df_actions_project_id = df_actions.pivot_table(index='user_id', values='enemy_bool')"
   ]
  },
  {
   "cell_type": "code",
   "execution_count": 40,
   "metadata": {},
   "outputs": [],
   "source": [
    "#print(len(df_actions_enemy_id_all))\n",
    "#df_actions_enemy_id_all.head()"
   ]
  },
  {
   "cell_type": "code",
   "execution_count": 41,
   "metadata": {},
   "outputs": [],
   "source": [
    "# отфильтруем не равные 0\n",
    "df_actions_project_id_good = df_actions_project_id.query('enemy_bool > 0')"
   ]
  },
  {
   "cell_type": "code",
   "execution_count": 42,
   "metadata": {},
   "outputs": [
    {
     "data": {
      "text/html": [
       "<div>\n",
       "<style scoped>\n",
       "    .dataframe tbody tr th:only-of-type {\n",
       "        vertical-align: middle;\n",
       "    }\n",
       "\n",
       "    .dataframe tbody tr th {\n",
       "        vertical-align: top;\n",
       "    }\n",
       "\n",
       "    .dataframe thead th {\n",
       "        text-align: right;\n",
       "    }\n",
       "</style>\n",
       "<table border=\"1\" class=\"dataframe\">\n",
       "  <thead>\n",
       "    <tr style=\"text-align: right;\">\n",
       "      <th></th>\n",
       "      <th>enemy_bool</th>\n",
       "    </tr>\n",
       "    <tr>\n",
       "      <th>user_id</th>\n",
       "      <th></th>\n",
       "    </tr>\n",
       "  </thead>\n",
       "  <tbody>\n",
       "    <tr>\n",
       "      <th>006380d6-67a6-45de-ab1e-6eb54ad8dbe8</th>\n",
       "      <td>0.076923</td>\n",
       "    </tr>\n",
       "    <tr>\n",
       "      <th>00be7371-fa79-4fbd-b8e7-8ba32e3f8f82</th>\n",
       "      <td>0.071429</td>\n",
       "    </tr>\n",
       "    <tr>\n",
       "      <th>00c2b9f2-2615-439c-aed0-6974e4c6c1c1</th>\n",
       "      <td>0.076923</td>\n",
       "    </tr>\n",
       "  </tbody>\n",
       "</table>\n",
       "</div>"
      ],
      "text/plain": [
       "                                      enemy_bool\n",
       "user_id                                         \n",
       "006380d6-67a6-45de-ab1e-6eb54ad8dbe8    0.076923\n",
       "00be7371-fa79-4fbd-b8e7-8ba32e3f8f82    0.071429\n",
       "00c2b9f2-2615-439c-aed0-6974e4c6c1c1    0.076923"
      ]
     },
     "execution_count": 42,
     "metadata": {},
     "output_type": "execute_result"
    }
   ],
   "source": [
    "df_actions_project_id_good.head(3)"
   ]
  },
  {
   "cell_type": "code",
   "execution_count": 43,
   "metadata": {},
   "outputs": [],
   "source": [
    "df_pivot = df_actions.pivot_table(index='user_id', values='event_datetime_dt', aggfunc=['min', 'max']).reset_index()\n",
    "df_pivot.columns = ['user_id', 'min', 'max']"
   ]
  },
  {
   "cell_type": "code",
   "execution_count": 44,
   "metadata": {},
   "outputs": [
    {
     "data": {
      "text/html": [
       "<div>\n",
       "<style scoped>\n",
       "    .dataframe tbody tr th:only-of-type {\n",
       "        vertical-align: middle;\n",
       "    }\n",
       "\n",
       "    .dataframe tbody tr th {\n",
       "        vertical-align: top;\n",
       "    }\n",
       "\n",
       "    .dataframe thead th {\n",
       "        text-align: right;\n",
       "    }\n",
       "</style>\n",
       "<table border=\"1\" class=\"dataframe\">\n",
       "  <thead>\n",
       "    <tr style=\"text-align: right;\">\n",
       "      <th></th>\n",
       "      <th>user_id</th>\n",
       "      <th>min</th>\n",
       "      <th>max</th>\n",
       "      <th>how_long</th>\n",
       "    </tr>\n",
       "  </thead>\n",
       "  <tbody>\n",
       "    <tr>\n",
       "      <th>0</th>\n",
       "      <td>0001f83c-c6ac-4621-b7f0-8a28b283ac30</td>\n",
       "      <td>2020-05-06 01:07:37</td>\n",
       "      <td>2020-05-20 11:26:06</td>\n",
       "      <td>14 days 10:18:29</td>\n",
       "    </tr>\n",
       "    <tr>\n",
       "      <th>1</th>\n",
       "      <td>00151b4f-ba38-44a8-a650-d7cf130a0105</td>\n",
       "      <td>2020-05-06 03:09:12</td>\n",
       "      <td>2020-05-18 10:46:52</td>\n",
       "      <td>12 days 07:37:40</td>\n",
       "    </tr>\n",
       "    <tr>\n",
       "      <th>2</th>\n",
       "      <td>001aaea6-3d14-43f1-8ca8-7f48820f17aa</td>\n",
       "      <td>2020-05-05 18:08:52</td>\n",
       "      <td>2020-05-14 09:21:27</td>\n",
       "      <td>8 days 15:12:35</td>\n",
       "    </tr>\n",
       "    <tr>\n",
       "      <th>3</th>\n",
       "      <td>001d39dc-366c-4021-9604-6a3b9ff01e25</td>\n",
       "      <td>2020-05-05 21:02:05</td>\n",
       "      <td>2020-05-12 07:40:47</td>\n",
       "      <td>6 days 10:38:42</td>\n",
       "    </tr>\n",
       "    <tr>\n",
       "      <th>4</th>\n",
       "      <td>002f508f-67b6-479f-814b-b05f00d4e995</td>\n",
       "      <td>2020-05-05 13:49:58</td>\n",
       "      <td>2020-05-22 02:46:45</td>\n",
       "      <td>16 days 12:56:47</td>\n",
       "    </tr>\n",
       "    <tr>\n",
       "      <th>...</th>\n",
       "      <td>...</td>\n",
       "      <td>...</td>\n",
       "      <td>...</td>\n",
       "      <td>...</td>\n",
       "    </tr>\n",
       "    <tr>\n",
       "      <th>13571</th>\n",
       "      <td>ffef4fed-164c-40e1-bde1-3980f76d0fb5</td>\n",
       "      <td>2020-05-04 01:58:59</td>\n",
       "      <td>2020-05-11 22:15:54</td>\n",
       "      <td>7 days 20:16:55</td>\n",
       "    </tr>\n",
       "    <tr>\n",
       "      <th>13572</th>\n",
       "      <td>fffab3da-da0e-4e30-ae62-10d0a2e24a4e</td>\n",
       "      <td>2020-05-04 11:58:14</td>\n",
       "      <td>2020-05-14 10:11:36</td>\n",
       "      <td>9 days 22:13:22</td>\n",
       "    </tr>\n",
       "    <tr>\n",
       "      <th>13573</th>\n",
       "      <td>fffb626c-5ab6-47c9-8113-2062a2f18494</td>\n",
       "      <td>2020-05-04 02:05:09</td>\n",
       "      <td>2020-05-12 13:01:52</td>\n",
       "      <td>8 days 10:56:43</td>\n",
       "    </tr>\n",
       "    <tr>\n",
       "      <th>13574</th>\n",
       "      <td>ffff194a-56b7-4c12-860d-3485242ae7f5</td>\n",
       "      <td>2020-05-04 20:28:28</td>\n",
       "      <td>2020-05-11 22:04:30</td>\n",
       "      <td>7 days 01:36:02</td>\n",
       "    </tr>\n",
       "    <tr>\n",
       "      <th>13575</th>\n",
       "      <td>ffff69cc-fec1-4fd3-9f98-93be1112a6b8</td>\n",
       "      <td>2020-05-08 06:57:30</td>\n",
       "      <td>2020-05-25 14:05:51</td>\n",
       "      <td>17 days 07:08:21</td>\n",
       "    </tr>\n",
       "  </tbody>\n",
       "</table>\n",
       "<p>13576 rows × 4 columns</p>\n",
       "</div>"
      ],
      "text/plain": [
       "                                    user_id                 min  \\\n",
       "0      0001f83c-c6ac-4621-b7f0-8a28b283ac30 2020-05-06 01:07:37   \n",
       "1      00151b4f-ba38-44a8-a650-d7cf130a0105 2020-05-06 03:09:12   \n",
       "2      001aaea6-3d14-43f1-8ca8-7f48820f17aa 2020-05-05 18:08:52   \n",
       "3      001d39dc-366c-4021-9604-6a3b9ff01e25 2020-05-05 21:02:05   \n",
       "4      002f508f-67b6-479f-814b-b05f00d4e995 2020-05-05 13:49:58   \n",
       "...                                     ...                 ...   \n",
       "13571  ffef4fed-164c-40e1-bde1-3980f76d0fb5 2020-05-04 01:58:59   \n",
       "13572  fffab3da-da0e-4e30-ae62-10d0a2e24a4e 2020-05-04 11:58:14   \n",
       "13573  fffb626c-5ab6-47c9-8113-2062a2f18494 2020-05-04 02:05:09   \n",
       "13574  ffff194a-56b7-4c12-860d-3485242ae7f5 2020-05-04 20:28:28   \n",
       "13575  ffff69cc-fec1-4fd3-9f98-93be1112a6b8 2020-05-08 06:57:30   \n",
       "\n",
       "                      max         how_long  \n",
       "0     2020-05-20 11:26:06 14 days 10:18:29  \n",
       "1     2020-05-18 10:46:52 12 days 07:37:40  \n",
       "2     2020-05-14 09:21:27  8 days 15:12:35  \n",
       "3     2020-05-12 07:40:47  6 days 10:38:42  \n",
       "4     2020-05-22 02:46:45 16 days 12:56:47  \n",
       "...                   ...              ...  \n",
       "13571 2020-05-11 22:15:54  7 days 20:16:55  \n",
       "13572 2020-05-14 10:11:36  9 days 22:13:22  \n",
       "13573 2020-05-12 13:01:52  8 days 10:56:43  \n",
       "13574 2020-05-11 22:04:30  7 days 01:36:02  \n",
       "13575 2020-05-25 14:05:51 17 days 07:08:21  \n",
       "\n",
       "[13576 rows x 4 columns]"
      ]
     },
     "metadata": {},
     "output_type": "display_data"
    }
   ],
   "source": [
    "df_pivot['how_long'] = df_pivot['max'] - df_pivot['min']\n",
    "display(df_pivot)"
   ]
  },
  {
   "cell_type": "code",
   "execution_count": 45,
   "metadata": {},
   "outputs": [
    {
     "name": "stdout",
     "output_type": "stream",
     "text": [
      "<class 'pandas.core.frame.DataFrame'>\n",
      "RangeIndex: 13576 entries, 0 to 13575\n",
      "Data columns (total 4 columns):\n",
      " #   Column    Non-Null Count  Dtype          \n",
      "---  ------    --------------  -----          \n",
      " 0   user_id   13576 non-null  object         \n",
      " 1   min       13576 non-null  datetime64[ns] \n",
      " 2   max       13576 non-null  datetime64[ns] \n",
      " 3   how_long  13576 non-null  timedelta64[ns]\n",
      "dtypes: datetime64[ns](2), object(1), timedelta64[ns](1)\n",
      "memory usage: 424.4+ KB\n"
     ]
    }
   ],
   "source": [
    "df_pivot.info()"
   ]
  },
  {
   "cell_type": "code",
   "execution_count": 46,
   "metadata": {},
   "outputs": [],
   "source": [
    "df_pivot['how_long_hour'] = df_pivot['how_long'] / pd.Timedelta(hours = 1)"
   ]
  },
  {
   "cell_type": "code",
   "execution_count": 47,
   "metadata": {},
   "outputs": [
    {
     "data": {
      "text/html": [
       "<div>\n",
       "<style scoped>\n",
       "    .dataframe tbody tr th:only-of-type {\n",
       "        vertical-align: middle;\n",
       "    }\n",
       "\n",
       "    .dataframe tbody tr th {\n",
       "        vertical-align: top;\n",
       "    }\n",
       "\n",
       "    .dataframe thead th {\n",
       "        text-align: right;\n",
       "    }\n",
       "</style>\n",
       "<table border=\"1\" class=\"dataframe\">\n",
       "  <thead>\n",
       "    <tr style=\"text-align: right;\">\n",
       "      <th></th>\n",
       "      <th>user_id</th>\n",
       "      <th>min</th>\n",
       "      <th>max</th>\n",
       "      <th>how_long</th>\n",
       "      <th>how_long_hour</th>\n",
       "    </tr>\n",
       "  </thead>\n",
       "  <tbody>\n",
       "    <tr>\n",
       "      <th>0</th>\n",
       "      <td>0001f83c-c6ac-4621-b7f0-8a28b283ac30</td>\n",
       "      <td>2020-05-06 01:07:37</td>\n",
       "      <td>2020-05-20 11:26:06</td>\n",
       "      <td>14 days 10:18:29</td>\n",
       "      <td>346.308056</td>\n",
       "    </tr>\n",
       "    <tr>\n",
       "      <th>1</th>\n",
       "      <td>00151b4f-ba38-44a8-a650-d7cf130a0105</td>\n",
       "      <td>2020-05-06 03:09:12</td>\n",
       "      <td>2020-05-18 10:46:52</td>\n",
       "      <td>12 days 07:37:40</td>\n",
       "      <td>295.627778</td>\n",
       "    </tr>\n",
       "    <tr>\n",
       "      <th>2</th>\n",
       "      <td>001aaea6-3d14-43f1-8ca8-7f48820f17aa</td>\n",
       "      <td>2020-05-05 18:08:52</td>\n",
       "      <td>2020-05-14 09:21:27</td>\n",
       "      <td>8 days 15:12:35</td>\n",
       "      <td>207.209722</td>\n",
       "    </tr>\n",
       "    <tr>\n",
       "      <th>3</th>\n",
       "      <td>001d39dc-366c-4021-9604-6a3b9ff01e25</td>\n",
       "      <td>2020-05-05 21:02:05</td>\n",
       "      <td>2020-05-12 07:40:47</td>\n",
       "      <td>6 days 10:38:42</td>\n",
       "      <td>154.645000</td>\n",
       "    </tr>\n",
       "    <tr>\n",
       "      <th>4</th>\n",
       "      <td>002f508f-67b6-479f-814b-b05f00d4e995</td>\n",
       "      <td>2020-05-05 13:49:58</td>\n",
       "      <td>2020-05-22 02:46:45</td>\n",
       "      <td>16 days 12:56:47</td>\n",
       "      <td>396.946389</td>\n",
       "    </tr>\n",
       "  </tbody>\n",
       "</table>\n",
       "</div>"
      ],
      "text/plain": [
       "                                user_id                 min  \\\n",
       "0  0001f83c-c6ac-4621-b7f0-8a28b283ac30 2020-05-06 01:07:37   \n",
       "1  00151b4f-ba38-44a8-a650-d7cf130a0105 2020-05-06 03:09:12   \n",
       "2  001aaea6-3d14-43f1-8ca8-7f48820f17aa 2020-05-05 18:08:52   \n",
       "3  001d39dc-366c-4021-9604-6a3b9ff01e25 2020-05-05 21:02:05   \n",
       "4  002f508f-67b6-479f-814b-b05f00d4e995 2020-05-05 13:49:58   \n",
       "\n",
       "                  max         how_long  how_long_hour  \n",
       "0 2020-05-20 11:26:06 14 days 10:18:29     346.308056  \n",
       "1 2020-05-18 10:46:52 12 days 07:37:40     295.627778  \n",
       "2 2020-05-14 09:21:27  8 days 15:12:35     207.209722  \n",
       "3 2020-05-12 07:40:47  6 days 10:38:42     154.645000  \n",
       "4 2020-05-22 02:46:45 16 days 12:56:47     396.946389  "
      ]
     },
     "execution_count": 47,
     "metadata": {},
     "output_type": "execute_result"
    }
   ],
   "source": [
    "df_pivot.head()"
   ]
  },
  {
   "cell_type": "code",
   "execution_count": 48,
   "metadata": {},
   "outputs": [],
   "source": [
    "# фильтр по значениям соответсвующим id в df_actions_enemy_id\n",
    "df_finish_project = df_pivot.query('user_id in @df_actions_project_id_good.index')"
   ]
  },
  {
   "cell_type": "code",
   "execution_count": 49,
   "metadata": {},
   "outputs": [
    {
     "data": {
      "text/plain": [
       "1866"
      ]
     },
     "metadata": {},
     "output_type": "display_data"
    }
   ],
   "source": [
    "display(len(df_finish_project))"
   ]
  },
  {
   "cell_type": "markdown",
   "metadata": {},
   "source": [
    "### получаем список finished_stage_1 - project"
   ]
  },
  {
   "cell_type": "code",
   "execution_count": 50,
   "metadata": {},
   "outputs": [],
   "source": [
    "# отфильтруем не равные 0\n",
    "df_actions_project_id_zero = df_actions_project_id.query('enemy_bool == 0')"
   ]
  },
  {
   "cell_type": "code",
   "execution_count": 51,
   "metadata": {},
   "outputs": [
    {
     "data": {
      "text/html": [
       "<div>\n",
       "<style scoped>\n",
       "    .dataframe tbody tr th:only-of-type {\n",
       "        vertical-align: middle;\n",
       "    }\n",
       "\n",
       "    .dataframe tbody tr th {\n",
       "        vertical-align: top;\n",
       "    }\n",
       "\n",
       "    .dataframe thead th {\n",
       "        text-align: right;\n",
       "    }\n",
       "</style>\n",
       "<table border=\"1\" class=\"dataframe\">\n",
       "  <thead>\n",
       "    <tr style=\"text-align: right;\">\n",
       "      <th></th>\n",
       "      <th>enemy_bool</th>\n",
       "    </tr>\n",
       "    <tr>\n",
       "      <th>user_id</th>\n",
       "      <th></th>\n",
       "    </tr>\n",
       "  </thead>\n",
       "  <tbody>\n",
       "    <tr>\n",
       "      <th>0001f83c-c6ac-4621-b7f0-8a28b283ac30</th>\n",
       "      <td>0.0</td>\n",
       "    </tr>\n",
       "    <tr>\n",
       "      <th>00151b4f-ba38-44a8-a650-d7cf130a0105</th>\n",
       "      <td>0.0</td>\n",
       "    </tr>\n",
       "    <tr>\n",
       "      <th>001aaea6-3d14-43f1-8ca8-7f48820f17aa</th>\n",
       "      <td>0.0</td>\n",
       "    </tr>\n",
       "  </tbody>\n",
       "</table>\n",
       "</div>"
      ],
      "text/plain": [
       "                                      enemy_bool\n",
       "user_id                                         \n",
       "0001f83c-c6ac-4621-b7f0-8a28b283ac30         0.0\n",
       "00151b4f-ba38-44a8-a650-d7cf130a0105         0.0\n",
       "001aaea6-3d14-43f1-8ca8-7f48820f17aa         0.0"
      ]
     },
     "execution_count": 51,
     "metadata": {},
     "output_type": "execute_result"
    }
   ],
   "source": [
    "df_actions_project_id_zero.head(3)"
   ]
  },
  {
   "cell_type": "code",
   "execution_count": 52,
   "metadata": {},
   "outputs": [],
   "source": [
    "# фильтр по значениям соответсвующим id в df_actions_enemy_id\n",
    "df_enemy = df_pivot.query('user_id in @df_actions_project_id_zero.index')"
   ]
  },
  {
   "cell_type": "code",
   "execution_count": 53,
   "metadata": {},
   "outputs": [
    {
     "data": {
      "text/plain": [
       "11710"
      ]
     },
     "metadata": {},
     "output_type": "display_data"
    }
   ],
   "source": [
    "display(len(df_enemy))"
   ]
  },
  {
   "cell_type": "markdown",
   "metadata": {},
   "source": [
    "### merge и подготовка данных для теста"
   ]
  },
  {
   "cell_type": "code",
   "execution_count": 54,
   "metadata": {},
   "outputs": [],
   "source": [
    "df_enemy = df_enemy.merge(df_pivot, on='user_id', how='left')"
   ]
  },
  {
   "cell_type": "code",
   "execution_count": 55,
   "metadata": {},
   "outputs": [
    {
     "data": {
      "text/plain": [
       "11710"
      ]
     },
     "execution_count": 55,
     "metadata": {},
     "output_type": "execute_result"
    }
   ],
   "source": [
    "len(df_enemy)"
   ]
  },
  {
   "cell_type": "code",
   "execution_count": 56,
   "metadata": {},
   "outputs": [
    {
     "data": {
      "text/html": [
       "<div>\n",
       "<style scoped>\n",
       "    .dataframe tbody tr th:only-of-type {\n",
       "        vertical-align: middle;\n",
       "    }\n",
       "\n",
       "    .dataframe tbody tr th {\n",
       "        vertical-align: top;\n",
       "    }\n",
       "\n",
       "    .dataframe thead th {\n",
       "        text-align: right;\n",
       "    }\n",
       "</style>\n",
       "<table border=\"1\" class=\"dataframe\">\n",
       "  <thead>\n",
       "    <tr style=\"text-align: right;\">\n",
       "      <th></th>\n",
       "      <th>user_id</th>\n",
       "      <th>min_x</th>\n",
       "      <th>max_x</th>\n",
       "      <th>how_long_x</th>\n",
       "      <th>how_long_hour_x</th>\n",
       "      <th>min_y</th>\n",
       "      <th>max_y</th>\n",
       "      <th>how_long_y</th>\n",
       "      <th>how_long_hour_y</th>\n",
       "    </tr>\n",
       "  </thead>\n",
       "  <tbody>\n",
       "    <tr>\n",
       "      <th>0</th>\n",
       "      <td>0001f83c-c6ac-4621-b7f0-8a28b283ac30</td>\n",
       "      <td>2020-05-06 01:07:37</td>\n",
       "      <td>2020-05-20 11:26:06</td>\n",
       "      <td>14 days 10:18:29</td>\n",
       "      <td>346.308056</td>\n",
       "      <td>2020-05-06 01:07:37</td>\n",
       "      <td>2020-05-20 11:26:06</td>\n",
       "      <td>14 days 10:18:29</td>\n",
       "      <td>346.308056</td>\n",
       "    </tr>\n",
       "    <tr>\n",
       "      <th>1</th>\n",
       "      <td>00151b4f-ba38-44a8-a650-d7cf130a0105</td>\n",
       "      <td>2020-05-06 03:09:12</td>\n",
       "      <td>2020-05-18 10:46:52</td>\n",
       "      <td>12 days 07:37:40</td>\n",
       "      <td>295.627778</td>\n",
       "      <td>2020-05-06 03:09:12</td>\n",
       "      <td>2020-05-18 10:46:52</td>\n",
       "      <td>12 days 07:37:40</td>\n",
       "      <td>295.627778</td>\n",
       "    </tr>\n",
       "    <tr>\n",
       "      <th>2</th>\n",
       "      <td>001aaea6-3d14-43f1-8ca8-7f48820f17aa</td>\n",
       "      <td>2020-05-05 18:08:52</td>\n",
       "      <td>2020-05-14 09:21:27</td>\n",
       "      <td>8 days 15:12:35</td>\n",
       "      <td>207.209722</td>\n",
       "      <td>2020-05-05 18:08:52</td>\n",
       "      <td>2020-05-14 09:21:27</td>\n",
       "      <td>8 days 15:12:35</td>\n",
       "      <td>207.209722</td>\n",
       "    </tr>\n",
       "  </tbody>\n",
       "</table>\n",
       "</div>"
      ],
      "text/plain": [
       "                                user_id               min_x  \\\n",
       "0  0001f83c-c6ac-4621-b7f0-8a28b283ac30 2020-05-06 01:07:37   \n",
       "1  00151b4f-ba38-44a8-a650-d7cf130a0105 2020-05-06 03:09:12   \n",
       "2  001aaea6-3d14-43f1-8ca8-7f48820f17aa 2020-05-05 18:08:52   \n",
       "\n",
       "                max_x       how_long_x  how_long_hour_x               min_y  \\\n",
       "0 2020-05-20 11:26:06 14 days 10:18:29       346.308056 2020-05-06 01:07:37   \n",
       "1 2020-05-18 10:46:52 12 days 07:37:40       295.627778 2020-05-06 03:09:12   \n",
       "2 2020-05-14 09:21:27  8 days 15:12:35       207.209722 2020-05-05 18:08:52   \n",
       "\n",
       "                max_y       how_long_y  how_long_hour_y  \n",
       "0 2020-05-20 11:26:06 14 days 10:18:29       346.308056  \n",
       "1 2020-05-18 10:46:52 12 days 07:37:40       295.627778  \n",
       "2 2020-05-14 09:21:27  8 days 15:12:35       207.209722  "
      ]
     },
     "execution_count": 56,
     "metadata": {},
     "output_type": "execute_result"
    }
   ],
   "source": [
    "df_enemy.head(3)"
   ]
  },
  {
   "cell_type": "code",
   "execution_count": 57,
   "metadata": {},
   "outputs": [],
   "source": [
    "# данные для победа над врагом\n",
    "df_enemy_test = df_enemy.loc[:, 'how_long_hour_x']"
   ]
  },
  {
   "cell_type": "code",
   "execution_count": 58,
   "metadata": {},
   "outputs": [],
   "source": [
    "df_finish_project = df_finish_project.merge(df_pivot, on='user_id', how='left')"
   ]
  },
  {
   "cell_type": "code",
   "execution_count": 59,
   "metadata": {},
   "outputs": [],
   "source": [
    "# данные для реализации проекта\n",
    "df_finish_project_test = df_finish_project.loc[:, 'how_long_hour_x']"
   ]
  },
  {
   "cell_type": "code",
   "execution_count": 61,
   "metadata": {},
   "outputs": [
    {
     "data": {
      "text/plain": [
       "1866"
      ]
     },
     "execution_count": 61,
     "metadata": {},
     "output_type": "execute_result"
    }
   ],
   "source": [
    "# число тех кто завершает уровень через проект\n",
    "len(set(df_finish_project['user_id']))"
   ]
  },
  {
   "cell_type": "code",
   "execution_count": 62,
   "metadata": {},
   "outputs": [
    {
     "data": {
      "text/plain": [
       "11710"
      ]
     },
     "execution_count": 62,
     "metadata": {},
     "output_type": "execute_result"
    }
   ],
   "source": [
    "# число тех кто завершает уровень через победу над врагом\n",
    "len(set(df_enemy['user_id']))"
   ]
  },
  {
   "cell_type": "markdown",
   "metadata": {},
   "source": [
    "### формируем гипотезы"
   ]
  },
  {
   "cell_type": "markdown",
   "metadata": {},
   "source": [
    "Проверим гипотезу: время завершения уровня различается в зависимости способа прохождения\n",
    "\n",
    "Нулевая гипотеза: время завершения уровня для типа прохождения \"Реализация проекта\" такое же, как для типа \"Победа над враговм\"\n",
    "\n",
    "Альтернативная гипотеза: время завершения уровня для типа прохождения \"Реализация проекта\" отличается, для типа \"Победа над враговм\""
   ]
  },
  {
   "cell_type": "code",
   "execution_count": 63,
   "metadata": {},
   "outputs": [
    {
     "name": "stdout",
     "output_type": "stream",
     "text": [
      "p-значение: 4.305574484271593e-201\n",
      "Принимаем альтернативную гипотезу\n"
     ]
    }
   ],
   "source": [
    "alpha = 0.01 # зададим уровень статистической значимости\n",
    "\n",
    "#  проверим гипотезу о равенстве средних двух независимых совокупностей\n",
    "hypothesis_test = st.ttest_ind(\n",
    "    df_enemy_test, \n",
    "    df_finish_project_test)\n",
    "print('p-значение:', hypothesis_test.pvalue ) \n",
    "\n",
    "if hypothesis_test.pvalue < alpha:\n",
    "    print(\"Принимаем альтернативную гипотезу\")\n",
    "else:\n",
    "    print(\"Принимаем нулевую гипотезу\")"
   ]
  },
  {
   "cell_type": "markdown",
   "metadata": {},
   "source": [
    "## Проверка собственной теории"
   ]
  },
  {
   "cell_type": "markdown",
   "metadata": {},
   "source": [
    "Проверим гипотезу: активность пользователей различается в зависимости от канала привлечения Нулевая гипотеза: Активность пользователей привлеченных из разных источников одинаковая. Альтернативная гипотеза: Активность пользователей привлеченных из разных источников различается.\n"
   ]
  },
  {
   "cell_type": "markdown",
   "metadata": {},
   "source": [
    "В начале хотел оценить количество активности по типу события build, но нужно переводить в логический тип, не уверен, что такой тест будет корректен.\n",
    "\n",
    "Сравним время активности в зависимости от разных источников привлечения. Для этого сравним выборки по всем 4 каналам с общей."
   ]
  },
  {
   "cell_type": "markdown",
   "metadata": {},
   "source": [
    "### данные для яндекса"
   ]
  },
  {
   "cell_type": "code",
   "execution_count": 64,
   "metadata": {},
   "outputs": [],
   "source": [
    "df_yandex_direct = df_actions.query(\"source == 'yandex_direct'\")"
   ]
  },
  {
   "cell_type": "code",
   "execution_count": 65,
   "metadata": {},
   "outputs": [],
   "source": [
    "df_yandex_direct = df_yandex_direct.merge(df_pivot, on='user_id', how='left')"
   ]
  },
  {
   "cell_type": "code",
   "execution_count": 66,
   "metadata": {},
   "outputs": [
    {
     "data": {
      "text/html": [
       "<div>\n",
       "<style scoped>\n",
       "    .dataframe tbody tr th:only-of-type {\n",
       "        vertical-align: middle;\n",
       "    }\n",
       "\n",
       "    .dataframe tbody tr th {\n",
       "        vertical-align: top;\n",
       "    }\n",
       "\n",
       "    .dataframe thead th {\n",
       "        text-align: right;\n",
       "    }\n",
       "</style>\n",
       "<table border=\"1\" class=\"dataframe\">\n",
       "  <thead>\n",
       "    <tr style=\"text-align: right;\">\n",
       "      <th></th>\n",
       "      <th>event_datetime</th>\n",
       "      <th>event</th>\n",
       "      <th>building_type</th>\n",
       "      <th>user_id</th>\n",
       "      <th>project_type</th>\n",
       "      <th>event_datetime_dt</th>\n",
       "      <th>source</th>\n",
       "      <th>enemy_bool</th>\n",
       "      <th>min</th>\n",
       "      <th>max</th>\n",
       "      <th>how_long</th>\n",
       "      <th>how_long_hour</th>\n",
       "    </tr>\n",
       "  </thead>\n",
       "  <tbody>\n",
       "    <tr>\n",
       "      <th>0</th>\n",
       "      <td>2020-05-04 00:00:35</td>\n",
       "      <td>building</td>\n",
       "      <td>assembly_shop</td>\n",
       "      <td>cdc6bb92-0ccb-4490-9866-ef142f09139d</td>\n",
       "      <td>0</td>\n",
       "      <td>2020-05-04 00:00:35</td>\n",
       "      <td>yandex_direct</td>\n",
       "      <td>False</td>\n",
       "      <td>2020-05-04 00:00:35</td>\n",
       "      <td>2020-05-11 14:18:05</td>\n",
       "      <td>7 days 14:17:30</td>\n",
       "      <td>182.291667</td>\n",
       "    </tr>\n",
       "    <tr>\n",
       "      <th>1</th>\n",
       "      <td>2020-05-04 00:00:38</td>\n",
       "      <td>building</td>\n",
       "      <td>assembly_shop</td>\n",
       "      <td>beb8ca15-33a9-465d-b47b-89aa96f89c9a</td>\n",
       "      <td>0</td>\n",
       "      <td>2020-05-04 00:00:38</td>\n",
       "      <td>yandex_direct</td>\n",
       "      <td>False</td>\n",
       "      <td>2020-05-04 00:00:38</td>\n",
       "      <td>2020-05-16 01:56:54</td>\n",
       "      <td>12 days 01:56:16</td>\n",
       "      <td>289.937778</td>\n",
       "    </tr>\n",
       "    <tr>\n",
       "      <th>2</th>\n",
       "      <td>2020-05-04 00:00:44</td>\n",
       "      <td>building</td>\n",
       "      <td>assembly_shop</td>\n",
       "      <td>65a92713-5969-48b1-8945-bfefa5063887</td>\n",
       "      <td>0</td>\n",
       "      <td>2020-05-04 00:00:44</td>\n",
       "      <td>yandex_direct</td>\n",
       "      <td>False</td>\n",
       "      <td>2020-05-04 00:00:44</td>\n",
       "      <td>2020-05-18 03:50:27</td>\n",
       "      <td>14 days 03:49:43</td>\n",
       "      <td>339.828611</td>\n",
       "    </tr>\n",
       "  </tbody>\n",
       "</table>\n",
       "</div>"
      ],
      "text/plain": [
       "        event_datetime     event  building_type  \\\n",
       "0  2020-05-04 00:00:35  building  assembly_shop   \n",
       "1  2020-05-04 00:00:38  building  assembly_shop   \n",
       "2  2020-05-04 00:00:44  building  assembly_shop   \n",
       "\n",
       "                                user_id project_type   event_datetime_dt  \\\n",
       "0  cdc6bb92-0ccb-4490-9866-ef142f09139d            0 2020-05-04 00:00:35   \n",
       "1  beb8ca15-33a9-465d-b47b-89aa96f89c9a            0 2020-05-04 00:00:38   \n",
       "2  65a92713-5969-48b1-8945-bfefa5063887            0 2020-05-04 00:00:44   \n",
       "\n",
       "          source  enemy_bool                 min                 max  \\\n",
       "0  yandex_direct       False 2020-05-04 00:00:35 2020-05-11 14:18:05   \n",
       "1  yandex_direct       False 2020-05-04 00:00:38 2020-05-16 01:56:54   \n",
       "2  yandex_direct       False 2020-05-04 00:00:44 2020-05-18 03:50:27   \n",
       "\n",
       "          how_long  how_long_hour  \n",
       "0  7 days 14:17:30     182.291667  \n",
       "1 12 days 01:56:16     289.937778  \n",
       "2 14 days 03:49:43     339.828611  "
      ]
     },
     "execution_count": 66,
     "metadata": {},
     "output_type": "execute_result"
    }
   ],
   "source": [
    "df_yandex_direct.head(3)"
   ]
  },
  {
   "cell_type": "code",
   "execution_count": 67,
   "metadata": {},
   "outputs": [
    {
     "data": {
      "text/plain": [
       "47694"
      ]
     },
     "execution_count": 67,
     "metadata": {},
     "output_type": "execute_result"
    }
   ],
   "source": [
    "len(df_yandex_direct)"
   ]
  },
  {
   "cell_type": "code",
   "execution_count": 68,
   "metadata": {},
   "outputs": [],
   "source": [
    "# удалим дубликаты\n",
    "df_yandex_direct = df_yandex_direct.drop_duplicates(\"user_id\")"
   ]
  },
  {
   "cell_type": "code",
   "execution_count": 69,
   "metadata": {},
   "outputs": [
    {
     "data": {
      "text/plain": [
       "4817"
      ]
     },
     "execution_count": 69,
     "metadata": {},
     "output_type": "execute_result"
    }
   ],
   "source": [
    "len(df_yandex_direct)"
   ]
  },
  {
   "cell_type": "code",
   "execution_count": 70,
   "metadata": {},
   "outputs": [],
   "source": [
    "# данные для яндекса\n",
    "df_yandex_direct_test = df_yandex_direct.loc[:, 'how_long_hour']"
   ]
  },
  {
   "cell_type": "code",
   "execution_count": 71,
   "metadata": {},
   "outputs": [
    {
     "data": {
      "text/plain": [
       "4817"
      ]
     },
     "execution_count": 71,
     "metadata": {},
     "output_type": "execute_result"
    }
   ],
   "source": [
    "len(df_yandex_direct_test)"
   ]
  },
  {
   "cell_type": "markdown",
   "metadata": {},
   "source": [
    "### данные для инстаграмм"
   ]
  },
  {
   "cell_type": "code",
   "execution_count": 72,
   "metadata": {},
   "outputs": [],
   "source": [
    "df_instagram_new_adverts = df_actions.query(\"source == 'instagram_new_adverts'\")"
   ]
  },
  {
   "cell_type": "code",
   "execution_count": 73,
   "metadata": {},
   "outputs": [],
   "source": [
    "df_instagram_new_adverts = df_instagram_new_adverts.merge(df_pivot, on='user_id', how='left')"
   ]
  },
  {
   "cell_type": "code",
   "execution_count": 74,
   "metadata": {},
   "outputs": [],
   "source": [
    "# удалим дубликаты\n",
    "df_instagram_new_adverts = df_instagram_new_adverts.drop_duplicates(\"user_id\")"
   ]
  },
  {
   "cell_type": "code",
   "execution_count": 75,
   "metadata": {},
   "outputs": [],
   "source": [
    "# данные для инстаграмм\n",
    "df_instagram_new_adverts_test = df_instagram_new_adverts.loc[:, 'how_long_hour']"
   ]
  },
  {
   "cell_type": "code",
   "execution_count": 76,
   "metadata": {},
   "outputs": [
    {
     "data": {
      "text/plain": [
       "3347"
      ]
     },
     "execution_count": 76,
     "metadata": {},
     "output_type": "execute_result"
    }
   ],
   "source": [
    "len(df_instagram_new_adverts_test)"
   ]
  },
  {
   "cell_type": "markdown",
   "metadata": {},
   "source": [
    "### данные для фэйсбук"
   ]
  },
  {
   "cell_type": "code",
   "execution_count": 77,
   "metadata": {},
   "outputs": [],
   "source": [
    "df_facebook_ads = df_actions.query(\"source == 'facebook_ads'\")"
   ]
  },
  {
   "cell_type": "code",
   "execution_count": 78,
   "metadata": {},
   "outputs": [],
   "source": [
    "df_facebook_ads = df_facebook_ads.merge(df_pivot, on='user_id', how='left')"
   ]
  },
  {
   "cell_type": "code",
   "execution_count": 79,
   "metadata": {},
   "outputs": [],
   "source": [
    "# удалим дубликаты\n",
    "df_facebook_ads = df_facebook_ads.drop_duplicates(\"user_id\")"
   ]
  },
  {
   "cell_type": "code",
   "execution_count": 80,
   "metadata": {},
   "outputs": [],
   "source": [
    "# данные для df_facebook\n",
    "df_facebook_ads_test = df_facebook_ads.loc[:, 'how_long_hour']"
   ]
  },
  {
   "cell_type": "code",
   "execution_count": 81,
   "metadata": {},
   "outputs": [
    {
     "data": {
      "text/plain": [
       "2726"
      ]
     },
     "execution_count": 81,
     "metadata": {},
     "output_type": "execute_result"
    }
   ],
   "source": [
    "len(df_facebook_ads)"
   ]
  },
  {
   "cell_type": "markdown",
   "metadata": {},
   "source": [
    "### данные для ютуб"
   ]
  },
  {
   "cell_type": "code",
   "execution_count": 82,
   "metadata": {},
   "outputs": [],
   "source": [
    "df_youtube_channel_reklama = df_actions.query(\"source == 'youtube_channel_reklama'\")"
   ]
  },
  {
   "cell_type": "code",
   "execution_count": 83,
   "metadata": {},
   "outputs": [],
   "source": [
    "df_youtube_channel_reklama = df_youtube_channel_reklama.merge(df_pivot, on='user_id', how='left')"
   ]
  },
  {
   "cell_type": "code",
   "execution_count": 84,
   "metadata": {},
   "outputs": [],
   "source": [
    "# удалим дубликаты\n",
    "df_youtube_channel_reklama = df_youtube_channel_reklama.drop_duplicates(\"user_id\")"
   ]
  },
  {
   "cell_type": "code",
   "execution_count": 85,
   "metadata": {},
   "outputs": [],
   "source": [
    "# данные для youtube\n",
    "df_youtube_channel_reklama_test = df_youtube_channel_reklama.loc[:, 'how_long_hour']"
   ]
  },
  {
   "cell_type": "code",
   "execution_count": 86,
   "metadata": {},
   "outputs": [
    {
     "data": {
      "text/plain": [
       "2686"
      ]
     },
     "execution_count": 86,
     "metadata": {},
     "output_type": "execute_result"
    }
   ],
   "source": [
    "len(df_youtube_channel_reklama)"
   ]
  },
  {
   "cell_type": "markdown",
   "metadata": {},
   "source": [
    "### данные для сравнения тестов"
   ]
  },
  {
   "cell_type": "code",
   "execution_count": 87,
   "metadata": {},
   "outputs": [],
   "source": [
    "# удалим дубликаты\n",
    "df_pivot_drop_duplicates = df_pivot.drop_duplicates(\"user_id\")"
   ]
  },
  {
   "cell_type": "code",
   "execution_count": 88,
   "metadata": {},
   "outputs": [],
   "source": [
    "# данные для сравнения тестов\n",
    "df_actions_test = df_pivot_drop_duplicates.loc[:, 'how_long_hour']"
   ]
  },
  {
   "cell_type": "code",
   "execution_count": 89,
   "metadata": {},
   "outputs": [
    {
     "data": {
      "text/plain": [
       "13576"
      ]
     },
     "execution_count": 89,
     "metadata": {},
     "output_type": "execute_result"
    }
   ],
   "source": [
    "len(df_actions_test)"
   ]
  },
  {
   "cell_type": "markdown",
   "metadata": {},
   "source": [
    "### проверка гипотез"
   ]
  },
  {
   "cell_type": "markdown",
   "metadata": {},
   "source": [
    "Проверим подряд все 4 гипотезы, где нулевая гипотеза:\n",
    "\n",
    "Время выбранного источника такое же как для всей выборки.\n",
    "\n",
    "Время выбранного источника отличается от всей выборки."
   ]
  },
  {
   "cell_type": "code",
   "execution_count": 90,
   "metadata": {},
   "outputs": [
    {
     "name": "stdout",
     "output_type": "stream",
     "text": [
      "p-значение: 0.4093914065377584\n",
      "Принимаем нулевую гипотезу\n",
      "p-значение: 0.17901678524817632\n",
      "Принимаем нулевую гипотезу\n",
      "p-значение: 0.5418488705040003\n",
      "Принимаем нулевую гипотезу\n",
      "p-значение: 0.3338114169914649\n",
      "Принимаем нулевую гипотезу\n"
     ]
    }
   ],
   "source": [
    "\n",
    "x = [df_yandex_direct_test, df_instagram_new_adverts_test, df_facebook_ads_test, df_youtube_channel_reklama_test]\n",
    "alpha = 0.01 # зададим уровень статистической значимости\n",
    "\n",
    "#  проверим гипотезу о равенстве средних двух независимых совокупностей\n",
    "for index in x:\n",
    "    hypothesis_test = st.ttest_ind(df_actions_test, index)\n",
    "    print('p-значение:', hypothesis_test.pvalue,  ) \n",
    "    if hypothesis_test.pvalue < alpha:\n",
    "        print(\"Принимаем альтернативную гипотезу\")\n",
    "    else:\n",
    "        print(\"Принимаем нулевую гипотезу\")"
   ]
  },
  {
   "cell_type": "markdown",
   "metadata": {},
   "source": [
    "Время по всем четырем выборкам отличается:\n",
    "\n",
    "- время проведенное для группы facebook_ads выше всех остальных групп\n",
    "- на втором месте находится Яндекс\n",
    "\n",
    "При этом среднестатистического различия при alpha = 0.01 не наблюдается ни по одному выбранному каналу."
   ]
  },
  {
   "cell_type": "markdown",
   "metadata": {},
   "source": [
    "## Выводы и базовые рекомендации по работе с пользователями"
   ]
  },
  {
   "cell_type": "markdown",
   "metadata": {},
   "source": [
    "### Выводы"
   ]
  },
  {
   "cell_type": "markdown",
   "metadata": {},
   "source": [
    "- Больше всего пользователей привлекается по  yandex_direct - 4817 далее идут:\n",
    "\n",
    "1\tinstagram_new_adverts\t3347\n",
    "2\tfacebook_ads\t2726\n",
    "3\tyoutube_channel_reklama\t2686"
   ]
  },
  {
   "cell_type": "markdown",
   "metadata": {},
   "source": [
    " - Время завершения уровня для типа прохождения \"Реализация проекта\" отличается, для типа \"Победа над врагом\"\n",
    " \n",
    " При этом это различие достаточно существенно, что характеризует разное поведение игроков на этом этапе"
   ]
  },
  {
   "cell_type": "markdown",
   "metadata": {},
   "source": [
    "- самая высокая стоимость привлечения игроков для facebook_ads - 0.785365, далее идут\n",
    "\n",
    "instagram_new_adverts 0.645785\n",
    "yandex_direct 0.463590\n",
    "youtube_channel_reklama\t0.397662"
   ]
  },
  {
   "cell_type": "markdown",
   "metadata": {},
   "source": [
    "- в сравнении времени в игре по источникам лидирует канал facebook_ads, далее идет yandex_direct. При этом среднестатистического различия при alpha = 0.01 не наблюдается ни по одному выбранному каналу."
   ]
  },
  {
   "cell_type": "markdown",
   "metadata": {},
   "source": [
    "### Рекомендации"
   ]
  },
  {
   "cell_type": "markdown",
   "metadata": {},
   "source": [
    "- Исходя из сравнения стреднестатистического времени пользователей привлеченных с разных каналов, их активностии и средней стоимости привлечения одного пользователя можно рекомендовать сфокусировать внимание на привлечении новых игроков с каналов yandex_direct и instagram_new_adverts\n",
    "\n",
    "- В результате проведенного теста выяснилось, что среднестатистическое поведение игроков привлеченных из разных каналов не различается на этом этаппе игры. Для увеличения времени нахождения в игре на этом этапе можно порекомендовать внедрить дополнительные бонусы или скидки для игроков. Вполне логично, предположить, что чем дольше игрок остается на этом уровне, тем дольше он будет активным игроком в игре.\n",
    "\n",
    "- Можно рекомендовать проведение дополнительного анализа, для рассмотрения поведения игроков на этом этапе: какова активность тех игроков, которые проводят на это этапе больше времени? Какие типы объектов они строят? Как часто заходят в игру?"
   ]
  },
  {
   "cell_type": "markdown",
   "metadata": {},
   "source": [
    "## Построение дашборда"
   ]
  },
  {
   "cell_type": "code",
   "execution_count": 94,
   "metadata": {},
   "outputs": [],
   "source": [
    "# ссылки\n",
    "# https://dub01.online.tableau.com/#/site/sitetest2/views/game_03/Dashboard1?:iid=1\n",
    "# https://dub01.online.tableau.com/#/site/sitetest2/workbooks/953919/views\n",
    "#"
   ]
  }
 ],
 "metadata": {
  "ExecuteTimeLog": [
   {
    "duration": 81,
    "start_time": "2022-08-12T07:08:33.479Z"
   },
   {
    "duration": 3,
    "start_time": "2022-08-12T12:18:41.362Z"
   },
   {
    "duration": 474,
    "start_time": "2022-08-12T12:20:32.319Z"
   },
   {
    "duration": 381,
    "start_time": "2022-08-12T12:21:17.685Z"
   },
   {
    "duration": 327,
    "start_time": "2022-08-12T12:22:09.891Z"
   },
   {
    "duration": 591,
    "start_time": "2022-08-12T12:24:38.582Z"
   },
   {
    "duration": 40,
    "start_time": "2022-08-12T12:26:24.943Z"
   },
   {
    "duration": 6,
    "start_time": "2022-08-12T12:31:22.525Z"
   },
   {
    "duration": 24,
    "start_time": "2022-08-12T12:32:09.543Z"
   },
   {
    "duration": 14,
    "start_time": "2022-08-12T12:33:41.657Z"
   },
   {
    "duration": 21,
    "start_time": "2022-08-12T12:35:43.764Z"
   },
   {
    "duration": 66,
    "start_time": "2022-08-12T12:38:31.312Z"
   },
   {
    "duration": 37,
    "start_time": "2022-08-12T12:38:41.753Z"
   },
   {
    "duration": 30,
    "start_time": "2022-08-12T12:38:54.100Z"
   },
   {
    "duration": 41,
    "start_time": "2022-08-12T12:39:27.867Z"
   },
   {
    "duration": 47,
    "start_time": "2022-08-12T12:40:32.933Z"
   },
   {
    "duration": 3,
    "start_time": "2022-08-12T12:42:46.704Z"
   },
   {
    "duration": 7,
    "start_time": "2022-08-12T12:45:43.505Z"
   },
   {
    "duration": 9,
    "start_time": "2022-08-12T12:48:32.423Z"
   },
   {
    "duration": 10,
    "start_time": "2022-08-12T12:48:44.895Z"
   },
   {
    "duration": 9,
    "start_time": "2022-08-12T12:49:05.863Z"
   },
   {
    "duration": 17,
    "start_time": "2022-08-12T12:49:07.295Z"
   },
   {
    "duration": 59,
    "start_time": "2022-08-12T12:50:43.913Z"
   },
   {
    "duration": 9,
    "start_time": "2022-08-12T12:51:00.935Z"
   },
   {
    "duration": 5,
    "start_time": "2022-08-12T12:54:25.854Z"
   },
   {
    "duration": 7,
    "start_time": "2022-08-12T12:54:43.017Z"
   },
   {
    "duration": 5,
    "start_time": "2022-08-12T12:54:51.115Z"
   },
   {
    "duration": 4,
    "start_time": "2022-08-12T12:55:07.083Z"
   },
   {
    "duration": 5,
    "start_time": "2022-08-12T12:55:20.346Z"
   },
   {
    "duration": 11,
    "start_time": "2022-08-12T12:55:37.796Z"
   },
   {
    "duration": 13,
    "start_time": "2022-08-12T12:55:41.844Z"
   },
   {
    "duration": 5,
    "start_time": "2022-08-12T12:55:54.903Z"
   },
   {
    "duration": 4,
    "start_time": "2022-08-12T12:56:01.713Z"
   },
   {
    "duration": 18,
    "start_time": "2022-08-12T12:57:30.820Z"
   },
   {
    "duration": 3,
    "start_time": "2022-08-12T13:06:37.197Z"
   },
   {
    "duration": 63,
    "start_time": "2022-08-15T06:27:12.885Z"
   },
   {
    "duration": 2,
    "start_time": "2022-08-15T06:27:17.237Z"
   },
   {
    "duration": 394,
    "start_time": "2022-08-15T06:27:17.241Z"
   },
   {
    "duration": 723,
    "start_time": "2022-08-15T06:27:17.636Z"
   },
   {
    "duration": 40,
    "start_time": "2022-08-15T06:27:18.361Z"
   },
   {
    "duration": 43,
    "start_time": "2022-08-15T06:27:18.403Z"
   },
   {
    "duration": 38,
    "start_time": "2022-08-15T06:27:18.448Z"
   },
   {
    "duration": 100,
    "start_time": "2022-08-15T06:27:18.487Z"
   },
   {
    "duration": 57,
    "start_time": "2022-08-15T06:27:18.589Z"
   },
   {
    "duration": 40,
    "start_time": "2022-08-15T06:27:18.647Z"
   },
   {
    "duration": 19,
    "start_time": "2022-08-15T06:27:18.688Z"
   },
   {
    "duration": 39,
    "start_time": "2022-08-15T06:27:18.708Z"
   },
   {
    "duration": 11,
    "start_time": "2022-08-15T06:27:18.749Z"
   },
   {
    "duration": 22,
    "start_time": "2022-08-15T06:27:18.762Z"
   },
   {
    "duration": 34,
    "start_time": "2022-08-15T06:27:18.787Z"
   },
   {
    "duration": 23,
    "start_time": "2022-08-15T06:27:18.823Z"
   },
   {
    "duration": 2308,
    "start_time": "2022-08-15T06:32:28.145Z"
   },
   {
    "duration": 2164,
    "start_time": "2022-08-15T06:32:45.496Z"
   },
   {
    "duration": 67,
    "start_time": "2022-08-15T06:33:24.291Z"
   },
   {
    "duration": 47,
    "start_time": "2022-08-15T06:34:23.760Z"
   },
   {
    "duration": 62,
    "start_time": "2022-08-15T06:34:39.005Z"
   },
   {
    "duration": 65,
    "start_time": "2022-08-15T06:35:11.996Z"
   },
   {
    "duration": 49,
    "start_time": "2022-08-15T06:36:14.296Z"
   },
   {
    "duration": 56,
    "start_time": "2022-08-15T06:36:48.925Z"
   },
   {
    "duration": 48,
    "start_time": "2022-08-15T06:37:10.234Z"
   },
   {
    "duration": 48,
    "start_time": "2022-08-15T06:37:17.797Z"
   },
   {
    "duration": 39,
    "start_time": "2022-08-15T06:37:23.468Z"
   },
   {
    "duration": 58,
    "start_time": "2022-08-15T06:37:37.596Z"
   },
   {
    "duration": 30,
    "start_time": "2022-08-15T06:39:07.939Z"
   },
   {
    "duration": 9,
    "start_time": "2022-08-15T06:39:20.299Z"
   },
   {
    "duration": 7,
    "start_time": "2022-08-15T06:40:03.089Z"
   },
   {
    "duration": 5,
    "start_time": "2022-08-15T06:40:20.003Z"
   },
   {
    "duration": 2,
    "start_time": "2022-08-15T07:00:00.860Z"
   },
   {
    "duration": 289,
    "start_time": "2022-08-15T07:00:22.234Z"
   },
   {
    "duration": 9,
    "start_time": "2022-08-15T07:00:26.762Z"
   },
   {
    "duration": 48,
    "start_time": "2022-08-15T07:01:15.508Z"
   },
   {
    "duration": 35,
    "start_time": "2022-08-15T07:02:00.240Z"
   },
   {
    "duration": 17,
    "start_time": "2022-08-15T07:02:54.234Z"
   },
   {
    "duration": 15,
    "start_time": "2022-08-15T07:03:45.901Z"
   },
   {
    "duration": 9,
    "start_time": "2022-08-15T07:07:55.201Z"
   },
   {
    "duration": 9,
    "start_time": "2022-08-15T07:08:58.681Z"
   },
   {
    "duration": 6,
    "start_time": "2022-08-15T07:10:55.903Z"
   },
   {
    "duration": 8,
    "start_time": "2022-08-15T07:11:00.131Z"
   },
   {
    "duration": 3,
    "start_time": "2022-08-15T07:11:59.689Z"
   },
   {
    "duration": 8,
    "start_time": "2022-08-15T07:12:15.193Z"
   },
   {
    "duration": 9,
    "start_time": "2022-08-15T07:12:30.393Z"
   },
   {
    "duration": 11,
    "start_time": "2022-08-15T07:13:30.246Z"
   },
   {
    "duration": 7,
    "start_time": "2022-08-15T07:19:29.842Z"
   },
   {
    "duration": 11,
    "start_time": "2022-08-15T07:20:47.831Z"
   },
   {
    "duration": 30,
    "start_time": "2022-08-15T07:20:56.807Z"
   },
   {
    "duration": 5,
    "start_time": "2022-08-15T07:21:46.103Z"
   },
   {
    "duration": 8,
    "start_time": "2022-08-15T07:21:48.735Z"
   },
   {
    "duration": 9,
    "start_time": "2022-08-15T07:22:02.181Z"
   },
   {
    "duration": 6,
    "start_time": "2022-08-15T07:22:17.342Z"
   },
   {
    "duration": 6,
    "start_time": "2022-08-15T07:23:42.958Z"
   },
   {
    "duration": 7,
    "start_time": "2022-08-15T07:23:50.561Z"
   },
   {
    "duration": 4,
    "start_time": "2022-08-15T07:25:07.400Z"
   },
   {
    "duration": 8,
    "start_time": "2022-08-15T07:25:10.537Z"
   },
   {
    "duration": 2,
    "start_time": "2022-08-15T07:32:56.244Z"
   },
   {
    "duration": 32,
    "start_time": "2022-08-15T07:42:51.653Z"
   },
   {
    "duration": 10,
    "start_time": "2022-08-15T07:43:04.693Z"
   },
   {
    "duration": 15,
    "start_time": "2022-08-15T07:44:09.033Z"
   },
   {
    "duration": 42,
    "start_time": "2022-08-15T07:44:28.281Z"
   },
   {
    "duration": 26,
    "start_time": "2022-08-15T07:45:24.024Z"
   },
   {
    "duration": 442,
    "start_time": "2022-08-15T07:51:45.936Z"
   },
   {
    "duration": 4,
    "start_time": "2022-08-15T07:54:54.034Z"
   },
   {
    "duration": 1520,
    "start_time": "2022-08-15T07:54:54.039Z"
   },
   {
    "duration": 744,
    "start_time": "2022-08-15T07:54:55.561Z"
   },
   {
    "duration": 58,
    "start_time": "2022-08-15T07:54:56.307Z"
   },
   {
    "duration": 11,
    "start_time": "2022-08-15T07:54:56.367Z"
   },
   {
    "duration": 58,
    "start_time": "2022-08-15T07:54:56.380Z"
   },
   {
    "duration": 53,
    "start_time": "2022-08-15T07:54:56.440Z"
   },
   {
    "duration": 48,
    "start_time": "2022-08-15T07:54:56.495Z"
   },
   {
    "duration": 7,
    "start_time": "2022-08-15T07:54:56.544Z"
   },
   {
    "duration": 12,
    "start_time": "2022-08-15T07:54:56.553Z"
   },
   {
    "duration": 14,
    "start_time": "2022-08-15T07:54:56.567Z"
   },
   {
    "duration": 3,
    "start_time": "2022-08-15T07:54:56.583Z"
   },
   {
    "duration": 7,
    "start_time": "2022-08-15T07:54:56.588Z"
   },
   {
    "duration": 56,
    "start_time": "2022-08-15T07:54:56.597Z"
   },
   {
    "duration": 13,
    "start_time": "2022-08-15T07:54:56.655Z"
   },
   {
    "duration": 39,
    "start_time": "2022-08-15T07:54:56.670Z"
   },
   {
    "duration": 17,
    "start_time": "2022-08-15T07:54:56.722Z"
   },
   {
    "duration": 22,
    "start_time": "2022-08-15T07:54:56.740Z"
   },
   {
    "duration": 6,
    "start_time": "2022-08-15T07:54:56.763Z"
   },
   {
    "duration": 18,
    "start_time": "2022-08-15T07:54:56.770Z"
   },
   {
    "duration": 28,
    "start_time": "2022-08-15T07:54:56.789Z"
   },
   {
    "duration": 37,
    "start_time": "2022-08-15T07:54:56.818Z"
   },
   {
    "duration": 18,
    "start_time": "2022-08-15T07:54:56.856Z"
   },
   {
    "duration": 55,
    "start_time": "2022-08-15T07:54:56.875Z"
   },
   {
    "duration": 16,
    "start_time": "2022-08-15T07:54:56.932Z"
   },
   {
    "duration": 42,
    "start_time": "2022-08-15T07:54:56.949Z"
   },
   {
    "duration": 2,
    "start_time": "2022-08-15T07:54:56.993Z"
   },
   {
    "duration": 68,
    "start_time": "2022-08-15T07:54:56.996Z"
   },
   {
    "duration": 243,
    "start_time": "2022-08-15T07:55:18.798Z"
   },
   {
    "duration": 29,
    "start_time": "2022-08-15T07:56:33.742Z"
   },
   {
    "duration": 143,
    "start_time": "2022-08-15T07:57:49.502Z"
   },
   {
    "duration": 3,
    "start_time": "2022-08-15T07:58:19.282Z"
   },
   {
    "duration": 587,
    "start_time": "2022-08-15T07:58:19.296Z"
   },
   {
    "duration": 645,
    "start_time": "2022-08-15T07:58:19.885Z"
   },
   {
    "duration": 45,
    "start_time": "2022-08-15T07:58:20.535Z"
   },
   {
    "duration": 10,
    "start_time": "2022-08-15T07:58:20.582Z"
   },
   {
    "duration": 46,
    "start_time": "2022-08-15T07:58:20.594Z"
   },
   {
    "duration": 34,
    "start_time": "2022-08-15T07:58:20.642Z"
   },
   {
    "duration": 51,
    "start_time": "2022-08-15T07:58:20.678Z"
   },
   {
    "duration": 12,
    "start_time": "2022-08-15T07:58:20.734Z"
   },
   {
    "duration": 10,
    "start_time": "2022-08-15T07:58:20.747Z"
   },
   {
    "duration": 10,
    "start_time": "2022-08-15T07:58:20.758Z"
   },
   {
    "duration": 4,
    "start_time": "2022-08-15T07:58:20.770Z"
   },
   {
    "duration": 11,
    "start_time": "2022-08-15T07:58:20.775Z"
   },
   {
    "duration": 42,
    "start_time": "2022-08-15T07:58:20.787Z"
   },
   {
    "duration": 14,
    "start_time": "2022-08-15T07:58:20.834Z"
   },
   {
    "duration": 38,
    "start_time": "2022-08-15T07:58:20.849Z"
   },
   {
    "duration": 6,
    "start_time": "2022-08-15T07:58:20.889Z"
   },
   {
    "duration": 21,
    "start_time": "2022-08-15T07:58:20.896Z"
   },
   {
    "duration": 24,
    "start_time": "2022-08-15T07:58:20.918Z"
   },
   {
    "duration": 10,
    "start_time": "2022-08-15T07:58:20.944Z"
   },
   {
    "duration": 9,
    "start_time": "2022-08-15T07:58:20.956Z"
   },
   {
    "duration": 13,
    "start_time": "2022-08-15T07:58:20.967Z"
   },
   {
    "duration": 9,
    "start_time": "2022-08-15T07:58:20.982Z"
   },
   {
    "duration": 49,
    "start_time": "2022-08-15T07:58:20.992Z"
   },
   {
    "duration": 9,
    "start_time": "2022-08-15T07:58:21.043Z"
   },
   {
    "duration": 118,
    "start_time": "2022-08-15T07:58:21.053Z"
   },
   {
    "duration": 0,
    "start_time": "2022-08-15T07:58:21.173Z"
   },
   {
    "duration": 0,
    "start_time": "2022-08-15T07:58:21.174Z"
   },
   {
    "duration": 65,
    "start_time": "2022-08-15T07:59:42.809Z"
   },
   {
    "duration": 30,
    "start_time": "2022-08-15T07:59:51.372Z"
   },
   {
    "duration": 2,
    "start_time": "2022-08-15T08:05:21.551Z"
   },
   {
    "duration": 5,
    "start_time": "2022-08-15T08:05:21.554Z"
   },
   {
    "duration": 445,
    "start_time": "2022-08-15T08:05:21.560Z"
   },
   {
    "duration": 45,
    "start_time": "2022-08-15T08:05:22.007Z"
   },
   {
    "duration": 9,
    "start_time": "2022-08-15T08:05:22.055Z"
   },
   {
    "duration": 34,
    "start_time": "2022-08-15T08:05:22.066Z"
   },
   {
    "duration": 53,
    "start_time": "2022-08-15T08:05:22.111Z"
   },
   {
    "duration": 36,
    "start_time": "2022-08-15T08:05:22.166Z"
   },
   {
    "duration": 10,
    "start_time": "2022-08-15T08:05:22.203Z"
   },
   {
    "duration": 12,
    "start_time": "2022-08-15T08:05:22.223Z"
   },
   {
    "duration": 9,
    "start_time": "2022-08-15T08:05:22.236Z"
   },
   {
    "duration": 6,
    "start_time": "2022-08-15T08:05:22.247Z"
   },
   {
    "duration": 5,
    "start_time": "2022-08-15T08:05:22.255Z"
   },
   {
    "duration": 17,
    "start_time": "2022-08-15T08:05:22.262Z"
   },
   {
    "duration": 12,
    "start_time": "2022-08-15T08:05:22.281Z"
   },
   {
    "duration": 60,
    "start_time": "2022-08-15T08:05:22.294Z"
   },
   {
    "duration": 5,
    "start_time": "2022-08-15T08:05:22.356Z"
   },
   {
    "duration": 12,
    "start_time": "2022-08-15T08:05:22.363Z"
   },
   {
    "duration": 4,
    "start_time": "2022-08-15T08:05:22.377Z"
   },
   {
    "duration": 9,
    "start_time": "2022-08-15T08:05:22.383Z"
   },
   {
    "duration": 18,
    "start_time": "2022-08-15T08:05:22.394Z"
   },
   {
    "duration": 15,
    "start_time": "2022-08-15T08:05:22.413Z"
   },
   {
    "duration": 23,
    "start_time": "2022-08-15T08:05:22.429Z"
   },
   {
    "duration": 38,
    "start_time": "2022-08-15T08:05:22.454Z"
   },
   {
    "duration": 10,
    "start_time": "2022-08-15T08:05:22.495Z"
   },
   {
    "duration": 78,
    "start_time": "2022-08-15T08:05:22.507Z"
   },
   {
    "duration": 244,
    "start_time": "2022-08-15T08:05:22.587Z"
   },
   {
    "duration": 29,
    "start_time": "2022-08-15T08:05:22.833Z"
   },
   {
    "duration": 200,
    "start_time": "2022-08-15T08:05:44.725Z"
   },
   {
    "duration": 2,
    "start_time": "2022-08-15T08:12:17.630Z"
   },
   {
    "duration": 31,
    "start_time": "2022-08-15T08:12:21.782Z"
   },
   {
    "duration": 2,
    "start_time": "2022-08-15T08:12:25.424Z"
   },
   {
    "duration": 7,
    "start_time": "2022-08-15T08:12:25.430Z"
   },
   {
    "duration": 461,
    "start_time": "2022-08-15T08:12:25.439Z"
   },
   {
    "duration": 46,
    "start_time": "2022-08-15T08:12:25.902Z"
   },
   {
    "duration": 9,
    "start_time": "2022-08-15T08:12:25.951Z"
   },
   {
    "duration": 32,
    "start_time": "2022-08-15T08:12:25.961Z"
   },
   {
    "duration": 46,
    "start_time": "2022-08-15T08:12:25.995Z"
   },
   {
    "duration": 35,
    "start_time": "2022-08-15T08:12:26.042Z"
   },
   {
    "duration": 7,
    "start_time": "2022-08-15T08:12:26.079Z"
   },
   {
    "duration": 34,
    "start_time": "2022-08-15T08:12:26.088Z"
   },
   {
    "duration": 10,
    "start_time": "2022-08-15T08:12:26.124Z"
   },
   {
    "duration": 5,
    "start_time": "2022-08-15T08:12:26.135Z"
   },
   {
    "duration": 5,
    "start_time": "2022-08-15T08:12:26.141Z"
   },
   {
    "duration": 19,
    "start_time": "2022-08-15T08:12:26.147Z"
   },
   {
    "duration": 14,
    "start_time": "2022-08-15T08:12:26.168Z"
   },
   {
    "duration": 68,
    "start_time": "2022-08-15T08:12:26.184Z"
   },
   {
    "duration": 6,
    "start_time": "2022-08-15T08:12:26.254Z"
   },
   {
    "duration": 12,
    "start_time": "2022-08-15T08:12:26.262Z"
   },
   {
    "duration": 5,
    "start_time": "2022-08-15T08:12:26.276Z"
   },
   {
    "duration": 9,
    "start_time": "2022-08-15T08:12:26.282Z"
   },
   {
    "duration": 25,
    "start_time": "2022-08-15T08:12:26.292Z"
   },
   {
    "duration": 14,
    "start_time": "2022-08-15T08:12:26.318Z"
   },
   {
    "duration": 9,
    "start_time": "2022-08-15T08:12:26.334Z"
   },
   {
    "duration": 34,
    "start_time": "2022-08-15T08:12:26.345Z"
   },
   {
    "duration": 9,
    "start_time": "2022-08-15T08:12:26.382Z"
   },
   {
    "duration": 44,
    "start_time": "2022-08-15T08:12:26.392Z"
   },
   {
    "duration": 2,
    "start_time": "2022-08-15T08:12:26.438Z"
   },
   {
    "duration": 33,
    "start_time": "2022-08-15T08:12:26.441Z"
   },
   {
    "duration": 29,
    "start_time": "2022-08-15T08:16:57.750Z"
   },
   {
    "duration": 40,
    "start_time": "2022-08-15T08:18:06.382Z"
   },
   {
    "duration": 27,
    "start_time": "2022-08-15T08:18:25.181Z"
   },
   {
    "duration": 3,
    "start_time": "2022-08-15T08:18:41.024Z"
   },
   {
    "duration": 622,
    "start_time": "2022-08-15T08:18:41.029Z"
   },
   {
    "duration": 589,
    "start_time": "2022-08-15T08:18:41.653Z"
   },
   {
    "duration": 41,
    "start_time": "2022-08-15T08:18:42.244Z"
   },
   {
    "duration": 11,
    "start_time": "2022-08-15T08:18:42.287Z"
   },
   {
    "duration": 37,
    "start_time": "2022-08-15T08:18:42.299Z"
   },
   {
    "duration": 53,
    "start_time": "2022-08-15T08:18:42.338Z"
   },
   {
    "duration": 46,
    "start_time": "2022-08-15T08:18:42.393Z"
   },
   {
    "duration": 59,
    "start_time": "2022-08-15T08:18:42.441Z"
   },
   {
    "duration": 21,
    "start_time": "2022-08-15T08:18:42.502Z"
   },
   {
    "duration": 20,
    "start_time": "2022-08-15T08:18:42.525Z"
   },
   {
    "duration": 9,
    "start_time": "2022-08-15T08:18:42.546Z"
   },
   {
    "duration": 19,
    "start_time": "2022-08-15T08:18:42.557Z"
   },
   {
    "duration": 30,
    "start_time": "2022-08-15T08:18:42.578Z"
   },
   {
    "duration": 20,
    "start_time": "2022-08-15T08:18:42.621Z"
   },
   {
    "duration": 50,
    "start_time": "2022-08-15T08:18:42.643Z"
   },
   {
    "duration": 8,
    "start_time": "2022-08-15T08:18:42.695Z"
   },
   {
    "duration": 35,
    "start_time": "2022-08-15T08:18:42.705Z"
   },
   {
    "duration": 11,
    "start_time": "2022-08-15T08:18:42.742Z"
   },
   {
    "duration": 10,
    "start_time": "2022-08-15T08:18:42.755Z"
   },
   {
    "duration": 14,
    "start_time": "2022-08-15T08:18:42.767Z"
   },
   {
    "duration": 22,
    "start_time": "2022-08-15T08:18:42.784Z"
   },
   {
    "duration": 26,
    "start_time": "2022-08-15T08:18:42.808Z"
   },
   {
    "duration": 49,
    "start_time": "2022-08-15T08:18:42.838Z"
   },
   {
    "duration": 9,
    "start_time": "2022-08-15T08:18:42.888Z"
   },
   {
    "duration": 38,
    "start_time": "2022-08-15T08:18:42.899Z"
   },
   {
    "duration": 1,
    "start_time": "2022-08-15T08:18:42.939Z"
   },
   {
    "duration": 28,
    "start_time": "2022-08-15T08:18:42.942Z"
   },
   {
    "duration": 153,
    "start_time": "2022-08-15T08:45:21.977Z"
   },
   {
    "duration": 4,
    "start_time": "2022-08-15T08:47:06.044Z"
   },
   {
    "duration": 126,
    "start_time": "2022-08-15T08:48:52.035Z"
   },
   {
    "duration": 2,
    "start_time": "2022-08-15T08:50:43.036Z"
   },
   {
    "duration": 115,
    "start_time": "2022-08-15T08:59:37.267Z"
   },
   {
    "duration": 35,
    "start_time": "2022-08-15T09:00:00.806Z"
   },
   {
    "duration": 25,
    "start_time": "2022-08-15T09:01:58.639Z"
   },
   {
    "duration": 3,
    "start_time": "2022-08-15T09:03:12.680Z"
   },
   {
    "duration": 44,
    "start_time": "2022-08-15T09:03:32.214Z"
   },
   {
    "duration": 2,
    "start_time": "2022-08-15T09:04:08.457Z"
   },
   {
    "duration": 21,
    "start_time": "2022-08-15T09:04:21.741Z"
   },
   {
    "duration": 2,
    "start_time": "2022-08-15T09:04:48.266Z"
   },
   {
    "duration": 40,
    "start_time": "2022-08-15T09:05:19.846Z"
   },
   {
    "duration": 34,
    "start_time": "2022-08-15T09:06:10.438Z"
   },
   {
    "duration": 2,
    "start_time": "2022-08-15T09:06:40.147Z"
   },
   {
    "duration": 19,
    "start_time": "2022-08-15T09:07:39.275Z"
   },
   {
    "duration": 21,
    "start_time": "2022-08-15T09:09:05.109Z"
   },
   {
    "duration": 26,
    "start_time": "2022-08-15T09:09:56.697Z"
   },
   {
    "duration": 20,
    "start_time": "2022-08-15T09:10:07.379Z"
   },
   {
    "duration": 106,
    "start_time": "2022-08-15T09:10:40.787Z"
   },
   {
    "duration": 105,
    "start_time": "2022-08-15T09:10:58.329Z"
   },
   {
    "duration": 2,
    "start_time": "2022-08-15T09:11:45.777Z"
   },
   {
    "duration": 10,
    "start_time": "2022-08-15T09:12:10.966Z"
   },
   {
    "duration": 2,
    "start_time": "2022-08-15T09:12:19.573Z"
   },
   {
    "duration": 2,
    "start_time": "2022-08-15T09:12:21.748Z"
   },
   {
    "duration": 2,
    "start_time": "2022-08-15T09:12:21.763Z"
   },
   {
    "duration": 1149,
    "start_time": "2022-08-15T09:12:21.767Z"
   },
   {
    "duration": 49,
    "start_time": "2022-08-15T09:12:22.919Z"
   },
   {
    "duration": 12,
    "start_time": "2022-08-15T09:12:22.970Z"
   },
   {
    "duration": 43,
    "start_time": "2022-08-15T09:12:22.985Z"
   },
   {
    "duration": 39,
    "start_time": "2022-08-15T09:12:23.030Z"
   },
   {
    "duration": 43,
    "start_time": "2022-08-15T09:12:23.070Z"
   },
   {
    "duration": 17,
    "start_time": "2022-08-15T09:12:23.114Z"
   },
   {
    "duration": 10,
    "start_time": "2022-08-15T09:12:23.134Z"
   },
   {
    "duration": 12,
    "start_time": "2022-08-15T09:12:23.146Z"
   },
   {
    "duration": 10,
    "start_time": "2022-08-15T09:12:23.160Z"
   },
   {
    "duration": 12,
    "start_time": "2022-08-15T09:12:23.172Z"
   },
   {
    "duration": 44,
    "start_time": "2022-08-15T09:12:23.186Z"
   },
   {
    "duration": 22,
    "start_time": "2022-08-15T09:12:23.234Z"
   },
   {
    "duration": 65,
    "start_time": "2022-08-15T09:12:23.258Z"
   },
   {
    "duration": 7,
    "start_time": "2022-08-15T09:12:23.325Z"
   },
   {
    "duration": 17,
    "start_time": "2022-08-15T09:12:23.334Z"
   },
   {
    "duration": 6,
    "start_time": "2022-08-15T09:12:23.352Z"
   },
   {
    "duration": 10,
    "start_time": "2022-08-15T09:12:23.359Z"
   },
   {
    "duration": 7,
    "start_time": "2022-08-15T09:12:23.370Z"
   },
   {
    "duration": 12,
    "start_time": "2022-08-15T09:12:23.378Z"
   },
   {
    "duration": 13,
    "start_time": "2022-08-15T09:12:23.391Z"
   },
   {
    "duration": 57,
    "start_time": "2022-08-15T09:12:23.406Z"
   },
   {
    "duration": 9,
    "start_time": "2022-08-15T09:12:23.465Z"
   },
   {
    "duration": 30,
    "start_time": "2022-08-15T09:12:23.476Z"
   },
   {
    "duration": 5,
    "start_time": "2022-08-15T09:12:23.508Z"
   },
   {
    "duration": 41,
    "start_time": "2022-08-15T09:12:23.522Z"
   },
   {
    "duration": 2,
    "start_time": "2022-08-15T09:12:23.564Z"
   },
   {
    "duration": 19,
    "start_time": "2022-08-15T09:12:23.567Z"
   },
   {
    "duration": 120,
    "start_time": "2022-08-15T09:12:23.587Z"
   },
   {
    "duration": 2,
    "start_time": "2022-08-15T09:12:23.709Z"
   },
   {
    "duration": 28,
    "start_time": "2022-08-15T09:12:23.713Z"
   },
   {
    "duration": 1122,
    "start_time": "2022-08-15T09:13:12.756Z"
   },
   {
    "duration": 1125,
    "start_time": "2022-08-15T09:13:37.024Z"
   },
   {
    "duration": 1129,
    "start_time": "2022-08-15T09:13:51.498Z"
   },
   {
    "duration": 86,
    "start_time": "2022-08-15T09:14:35.537Z"
   },
   {
    "duration": 75,
    "start_time": "2022-08-15T09:21:33.326Z"
   },
   {
    "duration": 5,
    "start_time": "2022-08-15T09:22:58.439Z"
   },
   {
    "duration": 9,
    "start_time": "2022-08-15T09:23:08.874Z"
   },
   {
    "duration": 7,
    "start_time": "2022-08-15T09:58:20.049Z"
   },
   {
    "duration": 15,
    "start_time": "2022-08-15T10:02:11.457Z"
   },
   {
    "duration": 14,
    "start_time": "2022-08-15T10:02:20.978Z"
   },
   {
    "duration": 19,
    "start_time": "2022-08-15T10:03:28.376Z"
   },
   {
    "duration": 7,
    "start_time": "2022-08-15T10:03:52.230Z"
   },
   {
    "duration": 3,
    "start_time": "2022-08-15T10:04:23.934Z"
   },
   {
    "duration": 6,
    "start_time": "2022-08-15T10:05:55.962Z"
   },
   {
    "duration": 3,
    "start_time": "2022-08-15T10:06:10.458Z"
   },
   {
    "duration": 6,
    "start_time": "2022-08-15T10:07:02.835Z"
   },
   {
    "duration": 3,
    "start_time": "2022-08-15T10:07:04.350Z"
   },
   {
    "duration": 6,
    "start_time": "2022-08-15T10:09:35.241Z"
   },
   {
    "duration": 4,
    "start_time": "2022-08-15T10:09:36.657Z"
   },
   {
    "duration": 7,
    "start_time": "2022-08-15T10:12:32.659Z"
   },
   {
    "duration": 3,
    "start_time": "2022-08-15T10:12:46.947Z"
   },
   {
    "duration": 26,
    "start_time": "2022-08-15T10:16:33.797Z"
   },
   {
    "duration": 2,
    "start_time": "2022-08-15T10:18:05.864Z"
   },
   {
    "duration": 32,
    "start_time": "2022-08-15T10:24:13.327Z"
   },
   {
    "duration": 41,
    "start_time": "2022-08-15T10:25:38.239Z"
   },
   {
    "duration": 7,
    "start_time": "2022-08-15T10:25:53.060Z"
   },
   {
    "duration": 9,
    "start_time": "2022-08-15T10:27:24.538Z"
   },
   {
    "duration": 7,
    "start_time": "2022-08-15T10:28:46.347Z"
   },
   {
    "duration": 3,
    "start_time": "2022-08-15T10:29:05.428Z"
   },
   {
    "duration": 15,
    "start_time": "2022-08-15T10:29:21.699Z"
   },
   {
    "duration": 14,
    "start_time": "2022-08-15T10:29:38.787Z"
   },
   {
    "duration": 2,
    "start_time": "2022-08-15T10:29:44.326Z"
   },
   {
    "duration": 6,
    "start_time": "2022-08-15T10:29:44.330Z"
   },
   {
    "duration": 885,
    "start_time": "2022-08-15T10:29:44.338Z"
   },
   {
    "duration": 42,
    "start_time": "2022-08-15T10:29:45.224Z"
   },
   {
    "duration": 9,
    "start_time": "2022-08-15T10:29:45.268Z"
   },
   {
    "duration": 46,
    "start_time": "2022-08-15T10:29:45.278Z"
   },
   {
    "duration": 34,
    "start_time": "2022-08-15T10:29:45.326Z"
   },
   {
    "duration": 34,
    "start_time": "2022-08-15T10:29:45.362Z"
   },
   {
    "duration": 7,
    "start_time": "2022-08-15T10:29:45.398Z"
   },
   {
    "duration": 24,
    "start_time": "2022-08-15T10:29:45.418Z"
   },
   {
    "duration": 16,
    "start_time": "2022-08-15T10:29:45.444Z"
   },
   {
    "duration": 11,
    "start_time": "2022-08-15T10:29:45.461Z"
   },
   {
    "duration": 7,
    "start_time": "2022-08-15T10:29:45.473Z"
   },
   {
    "duration": 16,
    "start_time": "2022-08-15T10:29:45.483Z"
   },
   {
    "duration": 22,
    "start_time": "2022-08-15T10:29:45.501Z"
   },
   {
    "duration": 39,
    "start_time": "2022-08-15T10:29:45.525Z"
   },
   {
    "duration": 5,
    "start_time": "2022-08-15T10:29:45.566Z"
   },
   {
    "duration": 10,
    "start_time": "2022-08-15T10:29:45.573Z"
   },
   {
    "duration": 5,
    "start_time": "2022-08-15T10:29:45.585Z"
   },
   {
    "duration": 9,
    "start_time": "2022-08-15T10:29:45.591Z"
   },
   {
    "duration": 25,
    "start_time": "2022-08-15T10:29:45.601Z"
   },
   {
    "duration": 6,
    "start_time": "2022-08-15T10:29:45.628Z"
   },
   {
    "duration": 9,
    "start_time": "2022-08-15T10:29:45.635Z"
   },
   {
    "duration": 36,
    "start_time": "2022-08-15T10:29:45.645Z"
   },
   {
    "duration": 10,
    "start_time": "2022-08-15T10:29:45.682Z"
   },
   {
    "duration": 40,
    "start_time": "2022-08-15T10:29:45.693Z"
   },
   {
    "duration": 2,
    "start_time": "2022-08-15T10:29:45.735Z"
   },
   {
    "duration": 29,
    "start_time": "2022-08-15T10:29:45.738Z"
   },
   {
    "duration": 3,
    "start_time": "2022-08-15T10:29:45.768Z"
   },
   {
    "duration": 12,
    "start_time": "2022-08-15T10:29:45.772Z"
   },
   {
    "duration": 51,
    "start_time": "2022-08-15T10:29:45.785Z"
   },
   {
    "duration": 10,
    "start_time": "2022-08-15T10:29:45.837Z"
   },
   {
    "duration": 6,
    "start_time": "2022-08-15T10:29:45.848Z"
   },
   {
    "duration": 16,
    "start_time": "2022-08-15T10:29:45.855Z"
   },
   {
    "duration": 6,
    "start_time": "2022-08-15T10:29:45.873Z"
   },
   {
    "duration": 3,
    "start_time": "2022-08-15T10:29:45.881Z"
   },
   {
    "duration": 100,
    "start_time": "2022-08-15T10:29:45.885Z"
   },
   {
    "duration": 8,
    "start_time": "2022-08-15T10:29:45.986Z"
   },
   {
    "duration": 9,
    "start_time": "2022-08-15T10:30:03.458Z"
   },
   {
    "duration": 5,
    "start_time": "2022-08-15T10:30:13.426Z"
   },
   {
    "duration": 7,
    "start_time": "2022-08-15T10:31:02.778Z"
   },
   {
    "duration": 28,
    "start_time": "2022-08-15T10:32:45.424Z"
   },
   {
    "duration": 6,
    "start_time": "2022-08-15T10:33:08.134Z"
   },
   {
    "duration": 3,
    "start_time": "2022-08-15T10:33:23.892Z"
   },
   {
    "duration": 3,
    "start_time": "2022-08-15T10:43:28.230Z"
   },
   {
    "duration": 4,
    "start_time": "2022-08-15T10:43:28.237Z"
   },
   {
    "duration": 753,
    "start_time": "2022-08-15T10:43:28.243Z"
   },
   {
    "duration": 53,
    "start_time": "2022-08-15T10:43:28.998Z"
   },
   {
    "duration": 9,
    "start_time": "2022-08-15T10:43:29.053Z"
   },
   {
    "duration": 29,
    "start_time": "2022-08-15T10:43:29.063Z"
   },
   {
    "duration": 50,
    "start_time": "2022-08-15T10:43:29.093Z"
   },
   {
    "duration": 36,
    "start_time": "2022-08-15T10:43:29.144Z"
   },
   {
    "duration": 8,
    "start_time": "2022-08-15T10:43:29.181Z"
   },
   {
    "duration": 23,
    "start_time": "2022-08-15T10:43:29.191Z"
   },
   {
    "duration": 21,
    "start_time": "2022-08-15T10:43:29.215Z"
   },
   {
    "duration": 7,
    "start_time": "2022-08-15T10:43:29.238Z"
   },
   {
    "duration": 5,
    "start_time": "2022-08-15T10:43:29.247Z"
   },
   {
    "duration": 18,
    "start_time": "2022-08-15T10:43:29.254Z"
   },
   {
    "duration": 14,
    "start_time": "2022-08-15T10:43:29.274Z"
   },
   {
    "duration": 59,
    "start_time": "2022-08-15T10:43:29.289Z"
   },
   {
    "duration": 7,
    "start_time": "2022-08-15T10:43:29.349Z"
   },
   {
    "duration": 12,
    "start_time": "2022-08-15T10:43:29.358Z"
   },
   {
    "duration": 5,
    "start_time": "2022-08-15T10:43:29.371Z"
   },
   {
    "duration": 8,
    "start_time": "2022-08-15T10:43:29.378Z"
   },
   {
    "duration": 38,
    "start_time": "2022-08-15T10:43:29.387Z"
   },
   {
    "duration": 8,
    "start_time": "2022-08-15T10:43:29.427Z"
   },
   {
    "duration": 11,
    "start_time": "2022-08-15T10:43:29.437Z"
   },
   {
    "duration": 41,
    "start_time": "2022-08-15T10:43:29.449Z"
   },
   {
    "duration": 9,
    "start_time": "2022-08-15T10:43:29.494Z"
   },
   {
    "duration": 39,
    "start_time": "2022-08-15T10:43:29.511Z"
   },
   {
    "duration": 2,
    "start_time": "2022-08-15T10:43:29.552Z"
   },
   {
    "duration": 27,
    "start_time": "2022-08-15T10:43:29.556Z"
   },
   {
    "duration": 3,
    "start_time": "2022-08-15T10:43:29.584Z"
   },
   {
    "duration": 36,
    "start_time": "2022-08-15T10:43:29.588Z"
   },
   {
    "duration": 24,
    "start_time": "2022-08-15T10:43:29.625Z"
   },
   {
    "duration": 3,
    "start_time": "2022-08-15T10:43:29.651Z"
   },
   {
    "duration": 5,
    "start_time": "2022-08-15T10:43:29.656Z"
   },
   {
    "duration": 8,
    "start_time": "2022-08-15T10:43:29.662Z"
   },
   {
    "duration": 3,
    "start_time": "2022-08-15T10:43:29.672Z"
   },
   {
    "duration": 100,
    "start_time": "2022-08-15T10:43:29.677Z"
   },
   {
    "duration": 9,
    "start_time": "2022-08-15T10:43:29.779Z"
   },
   {
    "duration": 79,
    "start_time": "2022-08-15T10:44:25.768Z"
   },
   {
    "duration": 7,
    "start_time": "2022-08-15T10:44:30.913Z"
   },
   {
    "duration": 29,
    "start_time": "2022-08-15T10:44:30.922Z"
   },
   {
    "duration": 505,
    "start_time": "2022-08-15T10:44:30.953Z"
   },
   {
    "duration": 40,
    "start_time": "2022-08-15T10:44:31.459Z"
   },
   {
    "duration": 9,
    "start_time": "2022-08-15T10:44:31.502Z"
   },
   {
    "duration": 58,
    "start_time": "2022-08-15T10:44:31.513Z"
   },
   {
    "duration": 56,
    "start_time": "2022-08-15T10:44:31.573Z"
   },
   {
    "duration": 35,
    "start_time": "2022-08-15T10:44:31.631Z"
   },
   {
    "duration": 14,
    "start_time": "2022-08-15T10:44:31.668Z"
   },
   {
    "duration": 18,
    "start_time": "2022-08-15T10:44:31.683Z"
   },
   {
    "duration": 31,
    "start_time": "2022-08-15T10:44:31.702Z"
   },
   {
    "duration": 15,
    "start_time": "2022-08-15T10:44:31.735Z"
   },
   {
    "duration": 6,
    "start_time": "2022-08-15T10:44:31.752Z"
   },
   {
    "duration": 28,
    "start_time": "2022-08-15T10:44:31.760Z"
   },
   {
    "duration": 34,
    "start_time": "2022-08-15T10:44:31.790Z"
   },
   {
    "duration": 48,
    "start_time": "2022-08-15T10:44:31.825Z"
   },
   {
    "duration": 6,
    "start_time": "2022-08-15T10:44:31.875Z"
   },
   {
    "duration": 23,
    "start_time": "2022-08-15T10:44:31.883Z"
   },
   {
    "duration": 26,
    "start_time": "2022-08-15T10:44:31.908Z"
   },
   {
    "duration": 13,
    "start_time": "2022-08-15T10:44:31.935Z"
   },
   {
    "duration": 9,
    "start_time": "2022-08-15T10:44:31.950Z"
   },
   {
    "duration": 6,
    "start_time": "2022-08-15T10:44:31.960Z"
   },
   {
    "duration": 12,
    "start_time": "2022-08-15T10:44:31.968Z"
   },
   {
    "duration": 61,
    "start_time": "2022-08-15T10:44:31.981Z"
   },
   {
    "duration": 10,
    "start_time": "2022-08-15T10:44:32.044Z"
   },
   {
    "duration": 37,
    "start_time": "2022-08-15T10:44:32.056Z"
   },
   {
    "duration": 2,
    "start_time": "2022-08-15T10:44:32.095Z"
   },
   {
    "duration": 26,
    "start_time": "2022-08-15T10:44:32.121Z"
   },
   {
    "duration": 9,
    "start_time": "2022-08-15T10:44:32.149Z"
   },
   {
    "duration": 29,
    "start_time": "2022-08-15T10:44:32.160Z"
   },
   {
    "duration": 3,
    "start_time": "2022-08-15T10:44:32.191Z"
   },
   {
    "duration": 27,
    "start_time": "2022-08-15T10:44:32.195Z"
   },
   {
    "duration": 4,
    "start_time": "2022-08-15T10:44:32.223Z"
   },
   {
    "duration": 78,
    "start_time": "2022-08-15T10:44:32.228Z"
   },
   {
    "duration": 20,
    "start_time": "2022-08-15T10:44:32.307Z"
   },
   {
    "duration": 10,
    "start_time": "2022-08-15T10:45:41.646Z"
   },
   {
    "duration": 22,
    "start_time": "2022-08-15T10:45:53.100Z"
   },
   {
    "duration": 3,
    "start_time": "2022-08-15T10:47:20.124Z"
   },
   {
    "duration": 607,
    "start_time": "2022-08-15T10:47:20.129Z"
   },
   {
    "duration": 590,
    "start_time": "2022-08-15T10:47:20.737Z"
   },
   {
    "duration": 40,
    "start_time": "2022-08-15T10:47:21.328Z"
   },
   {
    "duration": 11,
    "start_time": "2022-08-15T10:47:21.370Z"
   },
   {
    "duration": 40,
    "start_time": "2022-08-15T10:47:21.382Z"
   },
   {
    "duration": 34,
    "start_time": "2022-08-15T10:47:21.424Z"
   },
   {
    "duration": 36,
    "start_time": "2022-08-15T10:47:21.459Z"
   },
   {
    "duration": 27,
    "start_time": "2022-08-15T10:47:21.496Z"
   },
   {
    "duration": 14,
    "start_time": "2022-08-15T10:47:21.525Z"
   },
   {
    "duration": 10,
    "start_time": "2022-08-15T10:47:21.540Z"
   },
   {
    "duration": 3,
    "start_time": "2022-08-15T10:47:21.552Z"
   },
   {
    "duration": 4,
    "start_time": "2022-08-15T10:47:21.558Z"
   },
   {
    "duration": 20,
    "start_time": "2022-08-15T10:47:21.564Z"
   },
   {
    "duration": 42,
    "start_time": "2022-08-15T10:47:21.585Z"
   },
   {
    "duration": 37,
    "start_time": "2022-08-15T10:47:21.628Z"
   },
   {
    "duration": 7,
    "start_time": "2022-08-15T10:47:21.667Z"
   },
   {
    "duration": 14,
    "start_time": "2022-08-15T10:47:21.676Z"
   },
   {
    "duration": 21,
    "start_time": "2022-08-15T10:47:21.692Z"
   },
   {
    "duration": 18,
    "start_time": "2022-08-15T10:47:21.714Z"
   },
   {
    "duration": 11,
    "start_time": "2022-08-15T10:47:21.734Z"
   },
   {
    "duration": 12,
    "start_time": "2022-08-15T10:47:21.746Z"
   },
   {
    "duration": 10,
    "start_time": "2022-08-15T10:47:21.759Z"
   },
   {
    "duration": 38,
    "start_time": "2022-08-15T10:47:21.770Z"
   },
   {
    "duration": 15,
    "start_time": "2022-08-15T10:47:21.809Z"
   },
   {
    "duration": 36,
    "start_time": "2022-08-15T10:47:21.826Z"
   },
   {
    "duration": 2,
    "start_time": "2022-08-15T10:47:21.863Z"
   },
   {
    "duration": 32,
    "start_time": "2022-08-15T10:47:21.867Z"
   },
   {
    "duration": 29,
    "start_time": "2022-08-15T10:47:21.901Z"
   },
   {
    "duration": 34,
    "start_time": "2022-08-15T10:47:21.932Z"
   },
   {
    "duration": 2,
    "start_time": "2022-08-15T10:47:21.968Z"
   },
   {
    "duration": 13,
    "start_time": "2022-08-15T10:47:21.972Z"
   },
   {
    "duration": 7,
    "start_time": "2022-08-15T10:47:21.986Z"
   },
   {
    "duration": 86,
    "start_time": "2022-08-15T10:47:21.994Z"
   },
   {
    "duration": 9,
    "start_time": "2022-08-15T10:47:22.082Z"
   },
   {
    "duration": 12,
    "start_time": "2022-08-15T10:47:22.092Z"
   },
   {
    "duration": 19,
    "start_time": "2022-08-15T10:47:22.111Z"
   },
   {
    "duration": 8,
    "start_time": "2022-08-15T10:48:25.033Z"
   },
   {
    "duration": 10,
    "start_time": "2022-08-15T10:48:35.558Z"
   },
   {
    "duration": 4,
    "start_time": "2022-08-15T10:53:58.426Z"
   },
   {
    "duration": 109,
    "start_time": "2022-08-15T10:54:18.953Z"
   },
   {
    "duration": 8,
    "start_time": "2022-08-15T10:55:36.261Z"
   },
   {
    "duration": 3,
    "start_time": "2022-08-15T10:55:52.324Z"
   },
   {
    "duration": 10,
    "start_time": "2022-08-15T10:57:31.175Z"
   },
   {
    "duration": 8,
    "start_time": "2022-08-15T10:58:03.671Z"
   },
   {
    "duration": 9,
    "start_time": "2022-08-15T10:58:07.075Z"
   },
   {
    "duration": 3,
    "start_time": "2022-08-15T10:58:58.528Z"
   },
   {
    "duration": 577,
    "start_time": "2022-08-15T10:58:58.532Z"
   },
   {
    "duration": 514,
    "start_time": "2022-08-15T10:58:59.110Z"
   },
   {
    "duration": 39,
    "start_time": "2022-08-15T10:58:59.628Z"
   },
   {
    "duration": 11,
    "start_time": "2022-08-15T10:58:59.669Z"
   },
   {
    "duration": 42,
    "start_time": "2022-08-15T10:58:59.682Z"
   },
   {
    "duration": 35,
    "start_time": "2022-08-15T10:58:59.725Z"
   },
   {
    "duration": 34,
    "start_time": "2022-08-15T10:58:59.762Z"
   },
   {
    "duration": 25,
    "start_time": "2022-08-15T10:58:59.798Z"
   },
   {
    "duration": 19,
    "start_time": "2022-08-15T10:58:59.825Z"
   },
   {
    "duration": 10,
    "start_time": "2022-08-15T10:58:59.846Z"
   },
   {
    "duration": 4,
    "start_time": "2022-08-15T10:58:59.857Z"
   },
   {
    "duration": 7,
    "start_time": "2022-08-15T10:58:59.864Z"
   },
   {
    "duration": 18,
    "start_time": "2022-08-15T10:58:59.872Z"
   },
   {
    "duration": 31,
    "start_time": "2022-08-15T10:58:59.892Z"
   },
   {
    "duration": 36,
    "start_time": "2022-08-15T10:58:59.925Z"
   },
   {
    "duration": 6,
    "start_time": "2022-08-15T10:58:59.963Z"
   },
   {
    "duration": 12,
    "start_time": "2022-08-15T10:58:59.970Z"
   },
   {
    "duration": 4,
    "start_time": "2022-08-15T10:58:59.983Z"
   },
   {
    "duration": 44,
    "start_time": "2022-08-15T10:58:59.989Z"
   },
   {
    "duration": 18,
    "start_time": "2022-08-15T10:59:00.034Z"
   },
   {
    "duration": 12,
    "start_time": "2022-08-15T10:59:00.053Z"
   },
   {
    "duration": 19,
    "start_time": "2022-08-15T10:59:00.067Z"
   },
   {
    "duration": 43,
    "start_time": "2022-08-15T10:59:00.088Z"
   },
   {
    "duration": 9,
    "start_time": "2022-08-15T10:59:00.133Z"
   },
   {
    "duration": 38,
    "start_time": "2022-08-15T10:59:00.143Z"
   },
   {
    "duration": 1,
    "start_time": "2022-08-15T10:59:00.183Z"
   },
   {
    "duration": 43,
    "start_time": "2022-08-15T10:59:00.186Z"
   },
   {
    "duration": 9,
    "start_time": "2022-08-15T10:59:00.232Z"
   },
   {
    "duration": 37,
    "start_time": "2022-08-15T10:59:00.243Z"
   },
   {
    "duration": 3,
    "start_time": "2022-08-15T10:59:00.282Z"
   },
   {
    "duration": 16,
    "start_time": "2022-08-15T10:59:00.287Z"
   },
   {
    "duration": 6,
    "start_time": "2022-08-15T10:59:00.318Z"
   },
   {
    "duration": 74,
    "start_time": "2022-08-15T10:59:00.325Z"
   },
   {
    "duration": 2,
    "start_time": "2022-08-15T10:59:00.401Z"
   },
   {
    "duration": 40,
    "start_time": "2022-08-15T10:59:00.404Z"
   },
   {
    "duration": 22,
    "start_time": "2022-08-15T10:59:00.447Z"
   },
   {
    "duration": 16,
    "start_time": "2022-08-15T10:59:00.471Z"
   },
   {
    "duration": 18,
    "start_time": "2022-08-15T10:59:00.489Z"
   },
   {
    "duration": 28,
    "start_time": "2022-08-15T10:59:00.509Z"
   },
   {
    "duration": 3,
    "start_time": "2022-08-15T11:01:38.599Z"
   },
   {
    "duration": 624,
    "start_time": "2022-08-15T11:01:38.604Z"
   },
   {
    "duration": 458,
    "start_time": "2022-08-15T11:01:39.230Z"
   },
   {
    "duration": 44,
    "start_time": "2022-08-15T11:01:39.690Z"
   },
   {
    "duration": 12,
    "start_time": "2022-08-15T11:01:39.736Z"
   },
   {
    "duration": 27,
    "start_time": "2022-08-15T11:01:39.750Z"
   },
   {
    "duration": 53,
    "start_time": "2022-08-15T11:01:39.779Z"
   },
   {
    "duration": 36,
    "start_time": "2022-08-15T11:01:39.833Z"
   },
   {
    "duration": 8,
    "start_time": "2022-08-15T11:01:39.871Z"
   },
   {
    "duration": 10,
    "start_time": "2022-08-15T11:01:39.881Z"
   },
   {
    "duration": 17,
    "start_time": "2022-08-15T11:01:39.914Z"
   },
   {
    "duration": 5,
    "start_time": "2022-08-15T11:01:39.933Z"
   },
   {
    "duration": 5,
    "start_time": "2022-08-15T11:01:39.940Z"
   },
   {
    "duration": 18,
    "start_time": "2022-08-15T11:01:39.949Z"
   },
   {
    "duration": 15,
    "start_time": "2022-08-15T11:01:39.968Z"
   },
   {
    "duration": 40,
    "start_time": "2022-08-15T11:01:40.014Z"
   },
   {
    "duration": 6,
    "start_time": "2022-08-15T11:01:40.055Z"
   },
   {
    "duration": 11,
    "start_time": "2022-08-15T11:01:40.063Z"
   },
   {
    "duration": 5,
    "start_time": "2022-08-15T11:01:40.075Z"
   },
   {
    "duration": 9,
    "start_time": "2022-08-15T11:01:40.081Z"
   },
   {
    "duration": 36,
    "start_time": "2022-08-15T11:01:40.091Z"
   },
   {
    "duration": 6,
    "start_time": "2022-08-15T11:01:40.129Z"
   },
   {
    "duration": 9,
    "start_time": "2022-08-15T11:01:40.136Z"
   },
   {
    "duration": 41,
    "start_time": "2022-08-15T11:01:40.146Z"
   },
   {
    "duration": 11,
    "start_time": "2022-08-15T11:01:40.189Z"
   },
   {
    "duration": 54,
    "start_time": "2022-08-15T11:01:40.202Z"
   },
   {
    "duration": 2,
    "start_time": "2022-08-15T11:01:40.257Z"
   },
   {
    "duration": 30,
    "start_time": "2022-08-15T11:01:40.261Z"
   },
   {
    "duration": 10,
    "start_time": "2022-08-15T11:01:40.293Z"
   },
   {
    "duration": 50,
    "start_time": "2022-08-15T11:01:40.304Z"
   },
   {
    "duration": 4,
    "start_time": "2022-08-15T11:01:40.355Z"
   },
   {
    "duration": 11,
    "start_time": "2022-08-15T11:01:40.360Z"
   },
   {
    "duration": 4,
    "start_time": "2022-08-15T11:01:40.373Z"
   },
   {
    "duration": 84,
    "start_time": "2022-08-15T11:01:40.378Z"
   },
   {
    "duration": 13,
    "start_time": "2022-08-15T11:01:40.464Z"
   },
   {
    "duration": 14,
    "start_time": "2022-08-15T11:01:40.478Z"
   },
   {
    "duration": 32,
    "start_time": "2022-08-15T11:01:40.494Z"
   },
   {
    "duration": 10,
    "start_time": "2022-08-15T11:01:40.528Z"
   },
   {
    "duration": 11,
    "start_time": "2022-08-15T11:01:40.539Z"
   },
   {
    "duration": 2,
    "start_time": "2022-08-15T11:01:40.551Z"
   },
   {
    "duration": 17,
    "start_time": "2022-08-15T11:02:07.422Z"
   },
   {
    "duration": 12,
    "start_time": "2022-08-15T11:02:51.118Z"
   },
   {
    "duration": 12,
    "start_time": "2022-08-15T11:02:52.381Z"
   },
   {
    "duration": 2,
    "start_time": "2022-08-15T11:10:11.924Z"
   },
   {
    "duration": 2,
    "start_time": "2022-08-15T11:10:16.841Z"
   },
   {
    "duration": 94,
    "start_time": "2022-08-15T11:12:14.546Z"
   },
   {
    "duration": 19,
    "start_time": "2022-08-15T11:12:39.172Z"
   },
   {
    "duration": 3,
    "start_time": "2022-08-15T11:14:35.513Z"
   },
   {
    "duration": 19,
    "start_time": "2022-08-15T11:17:20.348Z"
   },
   {
    "duration": 12,
    "start_time": "2022-08-15T11:17:40.580Z"
   },
   {
    "duration": 17,
    "start_time": "2022-08-15T11:18:37.924Z"
   },
   {
    "duration": 2,
    "start_time": "2022-08-15T11:18:53.002Z"
   },
   {
    "duration": 21,
    "start_time": "2022-08-15T11:18:53.006Z"
   },
   {
    "duration": 640,
    "start_time": "2022-08-15T11:18:53.028Z"
   },
   {
    "duration": 51,
    "start_time": "2022-08-15T11:18:53.670Z"
   },
   {
    "duration": 17,
    "start_time": "2022-08-15T11:18:53.724Z"
   },
   {
    "duration": 49,
    "start_time": "2022-08-15T11:18:53.743Z"
   },
   {
    "duration": 48,
    "start_time": "2022-08-15T11:18:53.794Z"
   },
   {
    "duration": 36,
    "start_time": "2022-08-15T11:18:53.844Z"
   },
   {
    "duration": 9,
    "start_time": "2022-08-15T11:18:53.882Z"
   },
   {
    "duration": 33,
    "start_time": "2022-08-15T11:18:53.893Z"
   },
   {
    "duration": 13,
    "start_time": "2022-08-15T11:18:53.928Z"
   },
   {
    "duration": 5,
    "start_time": "2022-08-15T11:18:53.943Z"
   },
   {
    "duration": 4,
    "start_time": "2022-08-15T11:18:53.951Z"
   },
   {
    "duration": 17,
    "start_time": "2022-08-15T11:18:53.956Z"
   },
   {
    "duration": 41,
    "start_time": "2022-08-15T11:18:53.975Z"
   },
   {
    "duration": 38,
    "start_time": "2022-08-15T11:18:54.023Z"
   },
   {
    "duration": 7,
    "start_time": "2022-08-15T11:18:54.062Z"
   },
   {
    "duration": 13,
    "start_time": "2022-08-15T11:18:54.070Z"
   },
   {
    "duration": 5,
    "start_time": "2022-08-15T11:18:54.084Z"
   },
   {
    "duration": 8,
    "start_time": "2022-08-15T11:18:54.091Z"
   },
   {
    "duration": 25,
    "start_time": "2022-08-15T11:18:54.101Z"
   },
   {
    "duration": 5,
    "start_time": "2022-08-15T11:18:54.128Z"
   },
   {
    "duration": 10,
    "start_time": "2022-08-15T11:18:54.135Z"
   },
   {
    "duration": 49,
    "start_time": "2022-08-15T11:18:54.147Z"
   },
   {
    "duration": 10,
    "start_time": "2022-08-15T11:18:54.197Z"
   },
   {
    "duration": 53,
    "start_time": "2022-08-15T11:18:54.208Z"
   },
   {
    "duration": 2,
    "start_time": "2022-08-15T11:18:54.262Z"
   },
   {
    "duration": 28,
    "start_time": "2022-08-15T11:18:54.266Z"
   },
   {
    "duration": 9,
    "start_time": "2022-08-15T11:18:54.295Z"
   },
   {
    "duration": 26,
    "start_time": "2022-08-15T11:18:54.305Z"
   },
   {
    "duration": 3,
    "start_time": "2022-08-15T11:18:54.332Z"
   },
   {
    "duration": 20,
    "start_time": "2022-08-15T11:18:54.336Z"
   },
   {
    "duration": 4,
    "start_time": "2022-08-15T11:18:54.357Z"
   },
   {
    "duration": 10,
    "start_time": "2022-08-15T11:18:54.362Z"
   },
   {
    "duration": 85,
    "start_time": "2022-08-15T11:18:54.374Z"
   },
   {
    "duration": 13,
    "start_time": "2022-08-15T11:18:54.461Z"
   },
   {
    "duration": 16,
    "start_time": "2022-08-15T11:18:54.513Z"
   },
   {
    "duration": 7,
    "start_time": "2022-08-15T11:18:54.532Z"
   },
   {
    "duration": 15,
    "start_time": "2022-08-15T11:18:54.541Z"
   },
   {
    "duration": 3,
    "start_time": "2022-08-15T11:18:54.558Z"
   },
   {
    "duration": 3,
    "start_time": "2022-08-15T11:19:35.727Z"
   },
   {
    "duration": 591,
    "start_time": "2022-08-15T11:19:35.743Z"
   },
   {
    "duration": 524,
    "start_time": "2022-08-15T11:19:36.336Z"
   },
   {
    "duration": 41,
    "start_time": "2022-08-15T11:19:36.862Z"
   },
   {
    "duration": 20,
    "start_time": "2022-08-15T11:19:36.904Z"
   },
   {
    "duration": 29,
    "start_time": "2022-08-15T11:19:36.926Z"
   },
   {
    "duration": 31,
    "start_time": "2022-08-15T11:19:36.956Z"
   },
   {
    "duration": 47,
    "start_time": "2022-08-15T11:19:36.989Z"
   },
   {
    "duration": 6,
    "start_time": "2022-08-15T11:19:37.038Z"
   },
   {
    "duration": 10,
    "start_time": "2022-08-15T11:19:37.046Z"
   },
   {
    "duration": 10,
    "start_time": "2022-08-15T11:19:37.057Z"
   },
   {
    "duration": 4,
    "start_time": "2022-08-15T11:19:37.069Z"
   },
   {
    "duration": 6,
    "start_time": "2022-08-15T11:19:37.074Z"
   },
   {
    "duration": 52,
    "start_time": "2022-08-15T11:19:37.081Z"
   },
   {
    "duration": 13,
    "start_time": "2022-08-15T11:19:37.135Z"
   },
   {
    "duration": 35,
    "start_time": "2022-08-15T11:19:37.150Z"
   },
   {
    "duration": 6,
    "start_time": "2022-08-15T11:19:37.187Z"
   },
   {
    "duration": 26,
    "start_time": "2022-08-15T11:19:37.194Z"
   },
   {
    "duration": 7,
    "start_time": "2022-08-15T11:19:37.221Z"
   },
   {
    "duration": 11,
    "start_time": "2022-08-15T11:19:37.229Z"
   },
   {
    "duration": 8,
    "start_time": "2022-08-15T11:19:37.241Z"
   },
   {
    "duration": 8,
    "start_time": "2022-08-15T11:19:37.251Z"
   },
   {
    "duration": 10,
    "start_time": "2022-08-15T11:19:37.260Z"
   },
   {
    "duration": 62,
    "start_time": "2022-08-15T11:19:37.271Z"
   },
   {
    "duration": 9,
    "start_time": "2022-08-15T11:19:37.334Z"
   },
   {
    "duration": 32,
    "start_time": "2022-08-15T11:19:37.344Z"
   },
   {
    "duration": 3,
    "start_time": "2022-08-15T11:19:37.377Z"
   },
   {
    "duration": 42,
    "start_time": "2022-08-15T11:19:37.381Z"
   },
   {
    "duration": 9,
    "start_time": "2022-08-15T11:19:37.425Z"
   },
   {
    "duration": 97,
    "start_time": "2022-08-15T11:19:37.436Z"
   },
   {
    "duration": 0,
    "start_time": "2022-08-15T11:19:37.534Z"
   },
   {
    "duration": 0,
    "start_time": "2022-08-15T11:19:37.535Z"
   },
   {
    "duration": 0,
    "start_time": "2022-08-15T11:19:37.536Z"
   },
   {
    "duration": 0,
    "start_time": "2022-08-15T11:19:37.537Z"
   },
   {
    "duration": 0,
    "start_time": "2022-08-15T11:19:37.538Z"
   },
   {
    "duration": 0,
    "start_time": "2022-08-15T11:19:37.538Z"
   },
   {
    "duration": 0,
    "start_time": "2022-08-15T11:19:37.539Z"
   },
   {
    "duration": 0,
    "start_time": "2022-08-15T11:19:37.540Z"
   },
   {
    "duration": 0,
    "start_time": "2022-08-15T11:19:37.541Z"
   },
   {
    "duration": 0,
    "start_time": "2022-08-15T11:19:37.542Z"
   },
   {
    "duration": 10,
    "start_time": "2022-08-15T11:19:56.767Z"
   },
   {
    "duration": 3,
    "start_time": "2022-08-15T11:20:07.899Z"
   },
   {
    "duration": 10,
    "start_time": "2022-08-15T11:20:21.888Z"
   },
   {
    "duration": 33,
    "start_time": "2022-08-15T11:21:38.668Z"
   },
   {
    "duration": 34,
    "start_time": "2022-08-15T11:21:55.074Z"
   },
   {
    "duration": 6,
    "start_time": "2022-08-15T11:22:05.627Z"
   },
   {
    "duration": 3,
    "start_time": "2022-08-15T11:24:52.674Z"
   },
   {
    "duration": 3,
    "start_time": "2022-08-15T18:12:26.752Z"
   },
   {
    "duration": 768,
    "start_time": "2022-08-15T18:12:26.759Z"
   },
   {
    "duration": 626,
    "start_time": "2022-08-15T18:12:27.529Z"
   },
   {
    "duration": 45,
    "start_time": "2022-08-15T18:12:28.157Z"
   },
   {
    "duration": 11,
    "start_time": "2022-08-15T18:12:28.204Z"
   },
   {
    "duration": 37,
    "start_time": "2022-08-15T18:12:28.217Z"
   },
   {
    "duration": 37,
    "start_time": "2022-08-15T18:12:28.256Z"
   },
   {
    "duration": 39,
    "start_time": "2022-08-15T18:12:28.294Z"
   },
   {
    "duration": 8,
    "start_time": "2022-08-15T18:12:28.334Z"
   },
   {
    "duration": 13,
    "start_time": "2022-08-15T18:12:28.343Z"
   },
   {
    "duration": 10,
    "start_time": "2022-08-15T18:12:28.358Z"
   },
   {
    "duration": 10,
    "start_time": "2022-08-15T18:12:28.369Z"
   },
   {
    "duration": 11,
    "start_time": "2022-08-15T18:12:28.380Z"
   },
   {
    "duration": 34,
    "start_time": "2022-08-15T18:12:28.392Z"
   },
   {
    "duration": 13,
    "start_time": "2022-08-15T18:12:28.429Z"
   },
   {
    "duration": 37,
    "start_time": "2022-08-15T18:12:28.444Z"
   },
   {
    "duration": 27,
    "start_time": "2022-08-15T18:12:28.483Z"
   },
   {
    "duration": 12,
    "start_time": "2022-08-15T18:12:28.512Z"
   },
   {
    "duration": 5,
    "start_time": "2022-08-15T18:12:28.525Z"
   },
   {
    "duration": 10,
    "start_time": "2022-08-15T18:12:28.531Z"
   },
   {
    "duration": 7,
    "start_time": "2022-08-15T18:12:28.543Z"
   },
   {
    "duration": 13,
    "start_time": "2022-08-15T18:12:28.552Z"
   },
   {
    "duration": 8,
    "start_time": "2022-08-15T18:12:28.566Z"
   },
   {
    "duration": 57,
    "start_time": "2022-08-15T18:12:28.576Z"
   },
   {
    "duration": 10,
    "start_time": "2022-08-15T18:12:28.635Z"
   },
   {
    "duration": 32,
    "start_time": "2022-08-15T18:12:28.646Z"
   },
   {
    "duration": 2,
    "start_time": "2022-08-15T18:12:28.679Z"
   },
   {
    "duration": 42,
    "start_time": "2022-08-15T18:12:28.683Z"
   },
   {
    "duration": 67,
    "start_time": "2022-08-15T18:14:03.191Z"
   },
   {
    "duration": 7,
    "start_time": "2022-08-15T18:14:32.694Z"
   },
   {
    "duration": 3,
    "start_time": "2022-08-15T18:14:35.762Z"
   },
   {
    "duration": 11,
    "start_time": "2022-08-15T18:14:35.775Z"
   },
   {
    "duration": 843,
    "start_time": "2022-08-15T18:14:35.788Z"
   },
   {
    "duration": 44,
    "start_time": "2022-08-15T18:14:36.633Z"
   },
   {
    "duration": 10,
    "start_time": "2022-08-15T18:14:36.679Z"
   },
   {
    "duration": 31,
    "start_time": "2022-08-15T18:14:36.691Z"
   },
   {
    "duration": 38,
    "start_time": "2022-08-15T18:14:36.724Z"
   },
   {
    "duration": 45,
    "start_time": "2022-08-15T18:14:36.764Z"
   },
   {
    "duration": 9,
    "start_time": "2022-08-15T18:14:36.811Z"
   },
   {
    "duration": 14,
    "start_time": "2022-08-15T18:14:36.823Z"
   },
   {
    "duration": 10,
    "start_time": "2022-08-15T18:14:36.839Z"
   },
   {
    "duration": 11,
    "start_time": "2022-08-15T18:14:36.851Z"
   },
   {
    "duration": 12,
    "start_time": "2022-08-15T18:14:36.864Z"
   },
   {
    "duration": 44,
    "start_time": "2022-08-15T18:14:36.878Z"
   },
   {
    "duration": 19,
    "start_time": "2022-08-15T18:14:36.924Z"
   },
   {
    "duration": 39,
    "start_time": "2022-08-15T18:14:36.945Z"
   },
   {
    "duration": 9,
    "start_time": "2022-08-15T18:14:37.009Z"
   },
   {
    "duration": 14,
    "start_time": "2022-08-15T18:14:37.020Z"
   },
   {
    "duration": 6,
    "start_time": "2022-08-15T18:14:37.035Z"
   },
   {
    "duration": 10,
    "start_time": "2022-08-15T18:14:37.042Z"
   },
   {
    "duration": 9,
    "start_time": "2022-08-15T18:14:37.053Z"
   },
   {
    "duration": 7,
    "start_time": "2022-08-15T18:14:37.063Z"
   },
   {
    "duration": 12,
    "start_time": "2022-08-15T18:14:37.072Z"
   },
   {
    "duration": 57,
    "start_time": "2022-08-15T18:14:37.085Z"
   },
   {
    "duration": 10,
    "start_time": "2022-08-15T18:14:37.145Z"
   },
   {
    "duration": 33,
    "start_time": "2022-08-15T18:14:37.157Z"
   },
   {
    "duration": 2,
    "start_time": "2022-08-15T18:14:37.192Z"
   },
   {
    "duration": 25,
    "start_time": "2022-08-15T18:14:37.208Z"
   },
   {
    "duration": 9,
    "start_time": "2022-08-15T18:14:37.235Z"
   },
   {
    "duration": 12,
    "start_time": "2022-08-15T18:14:37.246Z"
   },
   {
    "duration": 11,
    "start_time": "2022-08-15T18:14:37.259Z"
   },
   {
    "duration": 87,
    "start_time": "2022-08-15T18:14:37.272Z"
   },
   {
    "duration": 9,
    "start_time": "2022-08-15T18:14:37.362Z"
   },
   {
    "duration": 23,
    "start_time": "2022-08-15T18:14:37.373Z"
   },
   {
    "duration": 20,
    "start_time": "2022-08-15T18:14:37.398Z"
   },
   {
    "duration": 31,
    "start_time": "2022-08-15T18:14:37.420Z"
   },
   {
    "duration": 24,
    "start_time": "2022-08-15T18:14:37.453Z"
   },
   {
    "duration": 112,
    "start_time": "2022-08-15T18:14:37.479Z"
   },
   {
    "duration": 16,
    "start_time": "2022-08-15T18:14:37.593Z"
   },
   {
    "duration": 13,
    "start_time": "2022-08-15T18:14:37.610Z"
   },
   {
    "duration": 2,
    "start_time": "2022-08-15T18:14:37.625Z"
   },
   {
    "duration": 14,
    "start_time": "2022-08-15T18:14:37.628Z"
   },
   {
    "duration": 3,
    "start_time": "2022-08-15T18:14:37.643Z"
   },
   {
    "duration": 4,
    "start_time": "2022-08-15T18:15:07.327Z"
   },
   {
    "duration": 2,
    "start_time": "2022-08-15T18:17:41.969Z"
   },
   {
    "duration": 3,
    "start_time": "2022-08-15T18:18:02.019Z"
   },
   {
    "duration": 603,
    "start_time": "2022-08-15T18:18:02.035Z"
   },
   {
    "duration": 414,
    "start_time": "2022-08-15T18:18:02.640Z"
   },
   {
    "duration": 46,
    "start_time": "2022-08-15T18:18:03.055Z"
   },
   {
    "duration": 12,
    "start_time": "2022-08-15T18:18:03.102Z"
   },
   {
    "duration": 36,
    "start_time": "2022-08-15T18:18:03.117Z"
   },
   {
    "duration": 38,
    "start_time": "2022-08-15T18:18:03.155Z"
   },
   {
    "duration": 47,
    "start_time": "2022-08-15T18:18:03.195Z"
   },
   {
    "duration": 8,
    "start_time": "2022-08-15T18:18:03.244Z"
   },
   {
    "duration": 23,
    "start_time": "2022-08-15T18:18:03.254Z"
   },
   {
    "duration": 11,
    "start_time": "2022-08-15T18:18:03.279Z"
   },
   {
    "duration": 18,
    "start_time": "2022-08-15T18:18:03.291Z"
   },
   {
    "duration": 3,
    "start_time": "2022-08-15T18:18:03.311Z"
   },
   {
    "duration": 23,
    "start_time": "2022-08-15T18:18:03.316Z"
   },
   {
    "duration": 14,
    "start_time": "2022-08-15T18:18:03.342Z"
   },
   {
    "duration": 53,
    "start_time": "2022-08-15T18:18:03.357Z"
   },
   {
    "duration": 6,
    "start_time": "2022-08-15T18:18:03.411Z"
   },
   {
    "duration": 13,
    "start_time": "2022-08-15T18:18:03.419Z"
   },
   {
    "duration": 5,
    "start_time": "2022-08-15T18:18:03.434Z"
   },
   {
    "duration": 11,
    "start_time": "2022-08-15T18:18:03.440Z"
   },
   {
    "duration": 9,
    "start_time": "2022-08-15T18:18:03.452Z"
   },
   {
    "duration": 7,
    "start_time": "2022-08-15T18:18:03.462Z"
   },
   {
    "duration": 8,
    "start_time": "2022-08-15T18:18:03.470Z"
   },
   {
    "duration": 65,
    "start_time": "2022-08-15T18:18:03.480Z"
   },
   {
    "duration": 10,
    "start_time": "2022-08-15T18:18:03.546Z"
   },
   {
    "duration": 32,
    "start_time": "2022-08-15T18:18:03.558Z"
   },
   {
    "duration": 18,
    "start_time": "2022-08-15T18:18:03.591Z"
   },
   {
    "duration": 54,
    "start_time": "2022-08-15T18:18:03.610Z"
   },
   {
    "duration": 45,
    "start_time": "2022-08-15T18:18:03.665Z"
   },
   {
    "duration": 32,
    "start_time": "2022-08-15T18:18:03.712Z"
   },
   {
    "duration": 38,
    "start_time": "2022-08-15T18:18:03.745Z"
   },
   {
    "duration": 70,
    "start_time": "2022-08-15T18:18:03.785Z"
   },
   {
    "duration": 3,
    "start_time": "2022-08-15T18:18:03.857Z"
   },
   {
    "duration": 35,
    "start_time": "2022-08-15T18:18:03.861Z"
   },
   {
    "duration": 28,
    "start_time": "2022-08-15T18:18:03.898Z"
   },
   {
    "duration": 21,
    "start_time": "2022-08-15T18:18:03.927Z"
   },
   {
    "duration": 26,
    "start_time": "2022-08-15T18:18:03.950Z"
   },
   {
    "duration": 90,
    "start_time": "2022-08-15T18:18:03.978Z"
   },
   {
    "duration": 14,
    "start_time": "2022-08-15T18:18:04.070Z"
   },
   {
    "duration": 3,
    "start_time": "2022-08-15T18:18:04.085Z"
   },
   {
    "duration": 32,
    "start_time": "2022-08-15T18:18:04.090Z"
   },
   {
    "duration": 11,
    "start_time": "2022-08-15T18:18:37.161Z"
   },
   {
    "duration": 2,
    "start_time": "2022-08-15T18:20:04.732Z"
   },
   {
    "duration": 14,
    "start_time": "2022-08-15T18:20:04.736Z"
   },
   {
    "duration": 711,
    "start_time": "2022-08-15T18:20:04.751Z"
   },
   {
    "duration": 44,
    "start_time": "2022-08-15T18:20:05.463Z"
   },
   {
    "duration": 9,
    "start_time": "2022-08-15T18:20:05.509Z"
   },
   {
    "duration": 35,
    "start_time": "2022-08-15T18:20:05.520Z"
   },
   {
    "duration": 32,
    "start_time": "2022-08-15T18:20:05.557Z"
   },
   {
    "duration": 44,
    "start_time": "2022-08-15T18:20:05.590Z"
   },
   {
    "duration": 9,
    "start_time": "2022-08-15T18:20:05.635Z"
   },
   {
    "duration": 12,
    "start_time": "2022-08-15T18:20:05.645Z"
   },
   {
    "duration": 10,
    "start_time": "2022-08-15T18:20:05.663Z"
   },
   {
    "duration": 10,
    "start_time": "2022-08-15T18:20:05.674Z"
   },
   {
    "duration": 25,
    "start_time": "2022-08-15T18:20:05.686Z"
   },
   {
    "duration": 21,
    "start_time": "2022-08-15T18:20:05.715Z"
   },
   {
    "duration": 20,
    "start_time": "2022-08-15T18:20:05.737Z"
   },
   {
    "duration": 50,
    "start_time": "2022-08-15T18:20:05.759Z"
   },
   {
    "duration": 6,
    "start_time": "2022-08-15T18:20:05.810Z"
   },
   {
    "duration": 31,
    "start_time": "2022-08-15T18:20:05.818Z"
   },
   {
    "duration": 5,
    "start_time": "2022-08-15T18:20:05.851Z"
   },
   {
    "duration": 12,
    "start_time": "2022-08-15T18:20:05.857Z"
   },
   {
    "duration": 9,
    "start_time": "2022-08-15T18:20:05.870Z"
   },
   {
    "duration": 11,
    "start_time": "2022-08-15T18:20:05.880Z"
   },
   {
    "duration": 13,
    "start_time": "2022-08-15T18:20:05.893Z"
   },
   {
    "duration": 41,
    "start_time": "2022-08-15T18:20:05.907Z"
   },
   {
    "duration": 12,
    "start_time": "2022-08-15T18:20:05.950Z"
   },
   {
    "duration": 36,
    "start_time": "2022-08-15T18:20:05.964Z"
   },
   {
    "duration": 3,
    "start_time": "2022-08-15T18:20:06.009Z"
   },
   {
    "duration": 41,
    "start_time": "2022-08-15T18:20:06.014Z"
   },
   {
    "duration": 10,
    "start_time": "2022-08-15T18:20:06.057Z"
   },
   {
    "duration": 15,
    "start_time": "2022-08-15T18:20:06.069Z"
   },
   {
    "duration": 8,
    "start_time": "2022-08-15T18:20:06.085Z"
   },
   {
    "duration": 67,
    "start_time": "2022-08-15T18:20:06.094Z"
   },
   {
    "duration": 7,
    "start_time": "2022-08-15T18:20:06.163Z"
   },
   {
    "duration": 13,
    "start_time": "2022-08-15T18:20:06.171Z"
   },
   {
    "duration": 30,
    "start_time": "2022-08-15T18:20:06.186Z"
   },
   {
    "duration": 3,
    "start_time": "2022-08-15T18:20:06.217Z"
   },
   {
    "duration": 6,
    "start_time": "2022-08-15T18:20:06.222Z"
   },
   {
    "duration": 86,
    "start_time": "2022-08-15T18:20:06.229Z"
   },
   {
    "duration": 13,
    "start_time": "2022-08-15T18:20:06.316Z"
   },
   {
    "duration": 2,
    "start_time": "2022-08-15T18:20:06.331Z"
   },
   {
    "duration": 21,
    "start_time": "2022-08-15T18:20:06.336Z"
   },
   {
    "duration": 3,
    "start_time": "2022-08-15T18:20:51.369Z"
   },
   {
    "duration": 9,
    "start_time": "2022-08-15T18:22:56.728Z"
   },
   {
    "duration": 3,
    "start_time": "2022-08-15T18:23:13.879Z"
   },
   {
    "duration": 104,
    "start_time": "2022-08-15T18:27:01.439Z"
   },
   {
    "duration": 2,
    "start_time": "2022-08-15T18:27:09.500Z"
   },
   {
    "duration": 10,
    "start_time": "2022-08-15T18:27:09.505Z"
   },
   {
    "duration": 526,
    "start_time": "2022-08-15T18:27:09.516Z"
   },
   {
    "duration": 52,
    "start_time": "2022-08-15T18:27:10.044Z"
   },
   {
    "duration": 16,
    "start_time": "2022-08-15T18:27:10.099Z"
   },
   {
    "duration": 30,
    "start_time": "2022-08-15T18:27:10.117Z"
   },
   {
    "duration": 44,
    "start_time": "2022-08-15T18:27:10.149Z"
   },
   {
    "duration": 57,
    "start_time": "2022-08-15T18:27:10.195Z"
   },
   {
    "duration": 11,
    "start_time": "2022-08-15T18:27:10.254Z"
   },
   {
    "duration": 13,
    "start_time": "2022-08-15T18:27:10.268Z"
   },
   {
    "duration": 36,
    "start_time": "2022-08-15T18:27:10.283Z"
   },
   {
    "duration": 14,
    "start_time": "2022-08-15T18:27:10.321Z"
   },
   {
    "duration": 11,
    "start_time": "2022-08-15T18:27:10.340Z"
   },
   {
    "duration": 29,
    "start_time": "2022-08-15T18:27:10.354Z"
   },
   {
    "duration": 37,
    "start_time": "2022-08-15T18:27:10.385Z"
   },
   {
    "duration": 58,
    "start_time": "2022-08-15T18:27:10.424Z"
   },
   {
    "duration": 24,
    "start_time": "2022-08-15T18:27:10.485Z"
   },
   {
    "duration": 15,
    "start_time": "2022-08-15T18:27:10.511Z"
   },
   {
    "duration": 7,
    "start_time": "2022-08-15T18:27:10.528Z"
   },
   {
    "duration": 15,
    "start_time": "2022-08-15T18:27:10.537Z"
   },
   {
    "duration": 7,
    "start_time": "2022-08-15T18:27:10.554Z"
   },
   {
    "duration": 8,
    "start_time": "2022-08-15T18:27:10.562Z"
   },
   {
    "duration": 38,
    "start_time": "2022-08-15T18:27:10.572Z"
   },
   {
    "duration": 52,
    "start_time": "2022-08-15T18:27:10.612Z"
   },
   {
    "duration": 13,
    "start_time": "2022-08-15T18:27:10.666Z"
   },
   {
    "duration": 43,
    "start_time": "2022-08-15T18:27:10.682Z"
   },
   {
    "duration": 3,
    "start_time": "2022-08-15T18:27:10.727Z"
   },
   {
    "duration": 39,
    "start_time": "2022-08-15T18:27:10.732Z"
   },
   {
    "duration": 14,
    "start_time": "2022-08-15T18:27:10.773Z"
   },
   {
    "duration": 14,
    "start_time": "2022-08-15T18:27:10.809Z"
   },
   {
    "duration": 9,
    "start_time": "2022-08-15T18:27:10.825Z"
   },
   {
    "duration": 83,
    "start_time": "2022-08-15T18:27:10.836Z"
   },
   {
    "duration": 10,
    "start_time": "2022-08-15T18:27:10.921Z"
   },
   {
    "duration": 11,
    "start_time": "2022-08-15T18:27:10.933Z"
   },
   {
    "duration": 28,
    "start_time": "2022-08-15T18:27:10.946Z"
   },
   {
    "duration": 23,
    "start_time": "2022-08-15T18:27:10.976Z"
   },
   {
    "duration": 5,
    "start_time": "2022-08-15T18:27:11.003Z"
   },
   {
    "duration": 5,
    "start_time": "2022-08-15T18:27:11.010Z"
   },
   {
    "duration": 94,
    "start_time": "2022-08-15T18:27:11.017Z"
   },
   {
    "duration": 14,
    "start_time": "2022-08-15T18:27:11.113Z"
   },
   {
    "duration": 2,
    "start_time": "2022-08-15T18:27:11.129Z"
   },
   {
    "duration": 18,
    "start_time": "2022-08-15T18:27:11.133Z"
   },
   {
    "duration": 3,
    "start_time": "2022-08-15T18:27:11.153Z"
   },
   {
    "duration": 13,
    "start_time": "2022-08-15T18:27:11.158Z"
   },
   {
    "duration": 37,
    "start_time": "2022-08-15T18:27:11.173Z"
   },
   {
    "duration": 10,
    "start_time": "2022-08-15T18:27:49.467Z"
   },
   {
    "duration": 4,
    "start_time": "2022-08-15T18:27:54.550Z"
   },
   {
    "duration": 9,
    "start_time": "2022-08-15T18:28:23.300Z"
   },
   {
    "duration": 3,
    "start_time": "2022-08-15T18:28:50.620Z"
   },
   {
    "duration": 5,
    "start_time": "2022-08-15T18:29:46.288Z"
   },
   {
    "duration": 10,
    "start_time": "2022-08-15T18:30:23.218Z"
   },
   {
    "duration": 5,
    "start_time": "2022-08-15T18:31:07.779Z"
   },
   {
    "duration": 4,
    "start_time": "2022-08-15T18:32:25.973Z"
   },
   {
    "duration": 610,
    "start_time": "2022-08-15T18:32:26.004Z"
   },
   {
    "duration": 444,
    "start_time": "2022-08-15T18:32:26.615Z"
   },
   {
    "duration": 45,
    "start_time": "2022-08-15T18:32:27.060Z"
   },
   {
    "duration": 12,
    "start_time": "2022-08-15T18:32:27.106Z"
   },
   {
    "duration": 27,
    "start_time": "2022-08-15T18:32:27.120Z"
   },
   {
    "duration": 42,
    "start_time": "2022-08-15T18:32:27.149Z"
   },
   {
    "duration": 70,
    "start_time": "2022-08-15T18:32:27.193Z"
   },
   {
    "duration": 11,
    "start_time": "2022-08-15T18:32:27.266Z"
   },
   {
    "duration": 30,
    "start_time": "2022-08-15T18:32:27.279Z"
   },
   {
    "duration": 12,
    "start_time": "2022-08-15T18:32:27.312Z"
   },
   {
    "duration": 5,
    "start_time": "2022-08-15T18:32:27.327Z"
   },
   {
    "duration": 13,
    "start_time": "2022-08-15T18:32:27.335Z"
   },
   {
    "duration": 36,
    "start_time": "2022-08-15T18:32:27.351Z"
   },
   {
    "duration": 31,
    "start_time": "2022-08-15T18:32:27.391Z"
   },
   {
    "duration": 49,
    "start_time": "2022-08-15T18:32:27.424Z"
   },
   {
    "duration": 6,
    "start_time": "2022-08-15T18:32:27.475Z"
   },
   {
    "duration": 34,
    "start_time": "2022-08-15T18:32:27.482Z"
   },
   {
    "duration": 5,
    "start_time": "2022-08-15T18:32:27.518Z"
   },
   {
    "duration": 12,
    "start_time": "2022-08-15T18:32:27.524Z"
   },
   {
    "duration": 9,
    "start_time": "2022-08-15T18:32:27.537Z"
   },
   {
    "duration": 7,
    "start_time": "2022-08-15T18:32:27.548Z"
   },
   {
    "duration": 10,
    "start_time": "2022-08-15T18:32:27.556Z"
   },
   {
    "duration": 75,
    "start_time": "2022-08-15T18:32:27.567Z"
   },
   {
    "duration": 11,
    "start_time": "2022-08-15T18:32:27.643Z"
   },
   {
    "duration": 40,
    "start_time": "2022-08-15T18:32:27.655Z"
   },
   {
    "duration": 12,
    "start_time": "2022-08-15T18:32:27.697Z"
   },
   {
    "duration": 41,
    "start_time": "2022-08-15T18:32:27.711Z"
   },
   {
    "duration": 11,
    "start_time": "2022-08-15T18:32:27.754Z"
   },
   {
    "duration": 12,
    "start_time": "2022-08-15T18:32:27.767Z"
   },
   {
    "duration": 5,
    "start_time": "2022-08-15T18:32:27.781Z"
   },
   {
    "duration": 57,
    "start_time": "2022-08-15T18:32:27.808Z"
   },
   {
    "duration": 7,
    "start_time": "2022-08-15T18:32:27.868Z"
   },
   {
    "duration": 8,
    "start_time": "2022-08-15T18:32:27.877Z"
   },
   {
    "duration": 25,
    "start_time": "2022-08-15T18:32:27.886Z"
   },
   {
    "duration": 11,
    "start_time": "2022-08-15T18:32:27.913Z"
   },
   {
    "duration": 6,
    "start_time": "2022-08-15T18:32:27.926Z"
   },
   {
    "duration": 87,
    "start_time": "2022-08-15T18:32:27.934Z"
   },
   {
    "duration": 13,
    "start_time": "2022-08-15T18:32:28.022Z"
   },
   {
    "duration": 6,
    "start_time": "2022-08-15T18:32:28.036Z"
   },
   {
    "duration": 10,
    "start_time": "2022-08-15T18:32:28.044Z"
   },
   {
    "duration": 9,
    "start_time": "2022-08-15T18:35:57.871Z"
   },
   {
    "duration": 5,
    "start_time": "2022-08-15T18:35:59.586Z"
   },
   {
    "duration": 6,
    "start_time": "2022-08-15T18:36:33.936Z"
   },
   {
    "duration": 2,
    "start_time": "2022-08-15T18:37:17.141Z"
   },
   {
    "duration": 77,
    "start_time": "2022-08-15T18:38:10.449Z"
   },
   {
    "duration": 7,
    "start_time": "2022-08-15T18:38:19.125Z"
   },
   {
    "duration": 4,
    "start_time": "2022-08-15T18:39:42.411Z"
   },
   {
    "duration": 2,
    "start_time": "2022-08-15T18:40:40.582Z"
   },
   {
    "duration": 7,
    "start_time": "2022-08-15T18:40:40.586Z"
   },
   {
    "duration": 740,
    "start_time": "2022-08-15T18:40:40.594Z"
   },
   {
    "duration": 43,
    "start_time": "2022-08-15T18:40:41.336Z"
   },
   {
    "duration": 10,
    "start_time": "2022-08-15T18:40:41.381Z"
   },
   {
    "duration": 29,
    "start_time": "2022-08-15T18:40:41.393Z"
   },
   {
    "duration": 31,
    "start_time": "2022-08-15T18:40:41.423Z"
   },
   {
    "duration": 55,
    "start_time": "2022-08-15T18:40:41.456Z"
   },
   {
    "duration": 11,
    "start_time": "2022-08-15T18:40:41.513Z"
   },
   {
    "duration": 12,
    "start_time": "2022-08-15T18:40:41.526Z"
   },
   {
    "duration": 11,
    "start_time": "2022-08-15T18:40:41.540Z"
   },
   {
    "duration": 10,
    "start_time": "2022-08-15T18:40:41.555Z"
   },
   {
    "duration": 8,
    "start_time": "2022-08-15T18:40:41.567Z"
   },
   {
    "duration": 46,
    "start_time": "2022-08-15T18:40:41.577Z"
   },
   {
    "duration": 17,
    "start_time": "2022-08-15T18:40:41.625Z"
   },
   {
    "duration": 41,
    "start_time": "2022-08-15T18:40:41.644Z"
   },
   {
    "duration": 7,
    "start_time": "2022-08-15T18:40:41.711Z"
   },
   {
    "duration": 12,
    "start_time": "2022-08-15T18:40:41.720Z"
   },
   {
    "duration": 5,
    "start_time": "2022-08-15T18:40:41.734Z"
   },
   {
    "duration": 12,
    "start_time": "2022-08-15T18:40:41.741Z"
   },
   {
    "duration": 9,
    "start_time": "2022-08-15T18:40:41.755Z"
   },
   {
    "duration": 14,
    "start_time": "2022-08-15T18:40:41.766Z"
   },
   {
    "duration": 13,
    "start_time": "2022-08-15T18:40:41.781Z"
   },
   {
    "duration": 38,
    "start_time": "2022-08-15T18:40:41.808Z"
   },
   {
    "duration": 10,
    "start_time": "2022-08-15T18:40:41.848Z"
   },
   {
    "duration": 57,
    "start_time": "2022-08-15T18:40:41.860Z"
   },
   {
    "duration": 3,
    "start_time": "2022-08-15T18:40:41.918Z"
   },
   {
    "duration": 29,
    "start_time": "2022-08-15T18:40:41.923Z"
   },
   {
    "duration": 12,
    "start_time": "2022-08-15T18:40:41.954Z"
   },
   {
    "duration": 12,
    "start_time": "2022-08-15T18:40:41.967Z"
   },
   {
    "duration": 30,
    "start_time": "2022-08-15T18:40:41.980Z"
   },
   {
    "duration": 53,
    "start_time": "2022-08-15T18:40:42.011Z"
   },
   {
    "duration": 7,
    "start_time": "2022-08-15T18:40:42.067Z"
   },
   {
    "duration": 9,
    "start_time": "2022-08-15T18:40:42.075Z"
   },
   {
    "duration": 24,
    "start_time": "2022-08-15T18:40:42.086Z"
   },
   {
    "duration": 8,
    "start_time": "2022-08-15T18:40:42.112Z"
   },
   {
    "duration": 5,
    "start_time": "2022-08-15T18:40:42.122Z"
   },
   {
    "duration": 95,
    "start_time": "2022-08-15T18:40:42.129Z"
   },
   {
    "duration": 16,
    "start_time": "2022-08-15T18:40:42.226Z"
   },
   {
    "duration": 9,
    "start_time": "2022-08-15T18:40:42.244Z"
   },
   {
    "duration": 6,
    "start_time": "2022-08-15T18:40:42.254Z"
   },
   {
    "duration": 5,
    "start_time": "2022-08-15T18:41:17.248Z"
   },
   {
    "duration": 4,
    "start_time": "2022-08-15T18:41:32.404Z"
   },
   {
    "duration": 10,
    "start_time": "2022-08-15T18:45:24.221Z"
   },
   {
    "duration": 6,
    "start_time": "2022-08-15T18:45:26.441Z"
   },
   {
    "duration": 10,
    "start_time": "2022-08-15T18:48:42.174Z"
   },
   {
    "duration": 3,
    "start_time": "2022-08-15T18:50:21.682Z"
   },
   {
    "duration": 9,
    "start_time": "2022-08-15T18:50:29.873Z"
   },
   {
    "duration": 10,
    "start_time": "2022-08-15T18:50:35.182Z"
   },
   {
    "duration": 3,
    "start_time": "2022-08-15T18:51:53.013Z"
   },
   {
    "duration": 626,
    "start_time": "2022-08-15T18:51:53.019Z"
   },
   {
    "duration": 527,
    "start_time": "2022-08-15T18:51:53.647Z"
   },
   {
    "duration": 47,
    "start_time": "2022-08-15T18:51:54.176Z"
   },
   {
    "duration": 12,
    "start_time": "2022-08-15T18:51:54.225Z"
   },
   {
    "duration": 30,
    "start_time": "2022-08-15T18:51:54.238Z"
   },
   {
    "duration": 43,
    "start_time": "2022-08-15T18:51:54.270Z"
   },
   {
    "duration": 39,
    "start_time": "2022-08-15T18:51:54.315Z"
   },
   {
    "duration": 8,
    "start_time": "2022-08-15T18:51:54.356Z"
   },
   {
    "duration": 11,
    "start_time": "2022-08-15T18:51:54.366Z"
   },
   {
    "duration": 31,
    "start_time": "2022-08-15T18:51:54.378Z"
   },
   {
    "duration": 4,
    "start_time": "2022-08-15T18:51:54.410Z"
   },
   {
    "duration": 5,
    "start_time": "2022-08-15T18:51:54.417Z"
   },
   {
    "duration": 20,
    "start_time": "2022-08-15T18:51:54.423Z"
   },
   {
    "duration": 14,
    "start_time": "2022-08-15T18:51:54.444Z"
   },
   {
    "duration": 61,
    "start_time": "2022-08-15T18:51:54.459Z"
   },
   {
    "duration": 7,
    "start_time": "2022-08-15T18:51:54.522Z"
   },
   {
    "duration": 13,
    "start_time": "2022-08-15T18:51:54.530Z"
   },
   {
    "duration": 4,
    "start_time": "2022-08-15T18:51:54.545Z"
   },
   {
    "duration": 8,
    "start_time": "2022-08-15T18:51:54.551Z"
   },
   {
    "duration": 6,
    "start_time": "2022-08-15T18:51:54.560Z"
   },
   {
    "duration": 7,
    "start_time": "2022-08-15T18:51:54.568Z"
   },
   {
    "duration": 7,
    "start_time": "2022-08-15T18:51:54.577Z"
   },
   {
    "duration": 38,
    "start_time": "2022-08-15T18:51:54.609Z"
   },
   {
    "duration": 10,
    "start_time": "2022-08-15T18:51:54.649Z"
   },
   {
    "duration": 33,
    "start_time": "2022-08-15T18:51:54.661Z"
   },
   {
    "duration": 3,
    "start_time": "2022-08-15T18:51:54.708Z"
   },
   {
    "duration": 28,
    "start_time": "2022-08-15T18:51:54.712Z"
   },
   {
    "duration": 9,
    "start_time": "2022-08-15T18:51:54.741Z"
   },
   {
    "duration": 30,
    "start_time": "2022-08-15T18:51:54.751Z"
   },
   {
    "duration": 27,
    "start_time": "2022-08-15T18:51:54.782Z"
   },
   {
    "duration": 6,
    "start_time": "2022-08-15T18:51:54.811Z"
   },
   {
    "duration": 40,
    "start_time": "2022-08-15T18:51:54.818Z"
   },
   {
    "duration": 6,
    "start_time": "2022-08-15T18:51:54.860Z"
   },
   {
    "duration": 8,
    "start_time": "2022-08-15T18:51:54.867Z"
   },
   {
    "duration": 7,
    "start_time": "2022-08-15T18:51:54.876Z"
   },
   {
    "duration": 83,
    "start_time": "2022-08-15T18:51:54.886Z"
   },
   {
    "duration": 0,
    "start_time": "2022-08-15T18:51:54.971Z"
   },
   {
    "duration": 0,
    "start_time": "2022-08-15T18:51:54.972Z"
   },
   {
    "duration": 0,
    "start_time": "2022-08-15T18:51:54.973Z"
   },
   {
    "duration": 0,
    "start_time": "2022-08-15T18:51:54.974Z"
   },
   {
    "duration": 0,
    "start_time": "2022-08-15T18:51:54.975Z"
   },
   {
    "duration": 0,
    "start_time": "2022-08-15T18:51:54.977Z"
   },
   {
    "duration": 3,
    "start_time": "2022-08-15T18:53:35.469Z"
   },
   {
    "duration": 7,
    "start_time": "2022-08-15T18:54:00.762Z"
   },
   {
    "duration": 4,
    "start_time": "2022-08-15T18:54:04.752Z"
   },
   {
    "duration": 10,
    "start_time": "2022-08-15T18:54:35.361Z"
   },
   {
    "duration": 5,
    "start_time": "2022-08-15T18:55:23.942Z"
   },
   {
    "duration": 9,
    "start_time": "2022-08-15T18:55:30.282Z"
   },
   {
    "duration": 2,
    "start_time": "2022-08-15T18:57:15.642Z"
   },
   {
    "duration": 6,
    "start_time": "2022-08-15T18:57:15.646Z"
   },
   {
    "duration": 597,
    "start_time": "2022-08-15T18:57:15.654Z"
   },
   {
    "duration": 43,
    "start_time": "2022-08-15T18:57:16.252Z"
   },
   {
    "duration": 10,
    "start_time": "2022-08-15T18:57:16.297Z"
   },
   {
    "duration": 29,
    "start_time": "2022-08-15T18:57:16.308Z"
   },
   {
    "duration": 30,
    "start_time": "2022-08-15T18:57:16.338Z"
   },
   {
    "duration": 45,
    "start_time": "2022-08-15T18:57:16.370Z"
   },
   {
    "duration": 7,
    "start_time": "2022-08-15T18:57:16.416Z"
   },
   {
    "duration": 9,
    "start_time": "2022-08-15T18:57:16.425Z"
   },
   {
    "duration": 10,
    "start_time": "2022-08-15T18:57:16.436Z"
   },
   {
    "duration": 6,
    "start_time": "2022-08-15T18:57:16.449Z"
   },
   {
    "duration": 5,
    "start_time": "2022-08-15T18:57:16.456Z"
   },
   {
    "duration": 19,
    "start_time": "2022-08-15T18:57:16.462Z"
   },
   {
    "duration": 38,
    "start_time": "2022-08-15T18:57:16.482Z"
   },
   {
    "duration": 35,
    "start_time": "2022-08-15T18:57:16.521Z"
   },
   {
    "duration": 6,
    "start_time": "2022-08-15T18:57:16.558Z"
   },
   {
    "duration": 13,
    "start_time": "2022-08-15T18:57:16.566Z"
   },
   {
    "duration": 30,
    "start_time": "2022-08-15T18:57:16.581Z"
   },
   {
    "duration": 16,
    "start_time": "2022-08-15T18:57:16.612Z"
   },
   {
    "duration": 7,
    "start_time": "2022-08-15T18:57:16.629Z"
   },
   {
    "duration": 6,
    "start_time": "2022-08-15T18:57:16.637Z"
   },
   {
    "duration": 10,
    "start_time": "2022-08-15T18:57:16.644Z"
   },
   {
    "duration": 37,
    "start_time": "2022-08-15T18:57:16.655Z"
   },
   {
    "duration": 23,
    "start_time": "2022-08-15T18:57:16.694Z"
   },
   {
    "duration": 33,
    "start_time": "2022-08-15T18:57:16.718Z"
   },
   {
    "duration": 2,
    "start_time": "2022-08-15T18:57:16.753Z"
   },
   {
    "duration": 29,
    "start_time": "2022-08-15T18:57:16.756Z"
   },
   {
    "duration": 26,
    "start_time": "2022-08-15T18:57:16.786Z"
   },
   {
    "duration": 24,
    "start_time": "2022-08-15T18:57:16.813Z"
   },
   {
    "duration": 5,
    "start_time": "2022-08-15T18:57:16.838Z"
   },
   {
    "duration": 16,
    "start_time": "2022-08-15T18:57:16.845Z"
   },
   {
    "duration": 51,
    "start_time": "2022-08-15T18:57:16.864Z"
   },
   {
    "duration": 3,
    "start_time": "2022-08-15T18:57:16.916Z"
   },
   {
    "duration": 10,
    "start_time": "2022-08-15T18:57:16.921Z"
   },
   {
    "duration": 13,
    "start_time": "2022-08-15T18:57:16.933Z"
   },
   {
    "duration": 12,
    "start_time": "2022-08-15T18:57:16.948Z"
   },
   {
    "duration": 0,
    "start_time": "2022-08-15T18:57:16.961Z"
   },
   {
    "duration": 0,
    "start_time": "2022-08-15T18:57:16.963Z"
   },
   {
    "duration": 0,
    "start_time": "2022-08-15T18:57:16.964Z"
   },
   {
    "duration": 0,
    "start_time": "2022-08-15T18:57:16.965Z"
   },
   {
    "duration": 0,
    "start_time": "2022-08-15T18:57:16.966Z"
   },
   {
    "duration": 0,
    "start_time": "2022-08-15T18:57:16.967Z"
   },
   {
    "duration": 41,
    "start_time": "2022-08-15T18:58:55.402Z"
   },
   {
    "duration": 6,
    "start_time": "2022-08-15T18:59:24.752Z"
   },
   {
    "duration": 4,
    "start_time": "2022-08-15T18:59:34.502Z"
   },
   {
    "duration": 1275,
    "start_time": "2022-08-15T19:02:03.613Z"
   },
   {
    "duration": 7,
    "start_time": "2022-08-15T19:02:33.454Z"
   },
   {
    "duration": 71,
    "start_time": "2022-08-15T19:03:10.462Z"
   },
   {
    "duration": 13,
    "start_time": "2022-08-15T19:03:13.114Z"
   },
   {
    "duration": 8,
    "start_time": "2022-08-15T19:04:37.809Z"
   },
   {
    "duration": 3,
    "start_time": "2022-08-15T19:04:40.155Z"
   },
   {
    "duration": 51,
    "start_time": "2022-08-16T06:17:58.352Z"
   },
   {
    "duration": 7,
    "start_time": "2022-08-16T06:18:44.931Z"
   },
   {
    "duration": 3,
    "start_time": "2022-08-16T06:18:48.345Z"
   },
   {
    "duration": 861,
    "start_time": "2022-08-16T06:18:48.350Z"
   },
   {
    "duration": 667,
    "start_time": "2022-08-16T06:18:49.213Z"
   },
   {
    "duration": 50,
    "start_time": "2022-08-16T06:18:49.883Z"
   },
   {
    "duration": 13,
    "start_time": "2022-08-16T06:18:49.934Z"
   },
   {
    "duration": 48,
    "start_time": "2022-08-16T06:18:49.949Z"
   },
   {
    "duration": 45,
    "start_time": "2022-08-16T06:18:49.999Z"
   },
   {
    "duration": 54,
    "start_time": "2022-08-16T06:18:50.046Z"
   },
   {
    "duration": 9,
    "start_time": "2022-08-16T06:18:50.102Z"
   },
   {
    "duration": 22,
    "start_time": "2022-08-16T06:18:50.114Z"
   },
   {
    "duration": 16,
    "start_time": "2022-08-16T06:18:50.138Z"
   },
   {
    "duration": 14,
    "start_time": "2022-08-16T06:18:50.155Z"
   },
   {
    "duration": 19,
    "start_time": "2022-08-16T06:18:50.171Z"
   },
   {
    "duration": 27,
    "start_time": "2022-08-16T06:18:50.192Z"
   },
   {
    "duration": 17,
    "start_time": "2022-08-16T06:18:50.220Z"
   },
   {
    "duration": 54,
    "start_time": "2022-08-16T06:18:50.239Z"
   },
   {
    "duration": 7,
    "start_time": "2022-08-16T06:18:50.295Z"
   },
   {
    "duration": 20,
    "start_time": "2022-08-16T06:18:50.304Z"
   },
   {
    "duration": 20,
    "start_time": "2022-08-16T06:18:50.325Z"
   },
   {
    "duration": 26,
    "start_time": "2022-08-16T06:18:50.347Z"
   },
   {
    "duration": 26,
    "start_time": "2022-08-16T06:18:50.375Z"
   },
   {
    "duration": 22,
    "start_time": "2022-08-16T06:18:50.403Z"
   },
   {
    "duration": 32,
    "start_time": "2022-08-16T06:18:50.426Z"
   },
   {
    "duration": 70,
    "start_time": "2022-08-16T06:18:50.460Z"
   },
   {
    "duration": 11,
    "start_time": "2022-08-16T06:18:50.531Z"
   },
   {
    "duration": 46,
    "start_time": "2022-08-16T06:18:50.544Z"
   },
   {
    "duration": 2,
    "start_time": "2022-08-16T06:18:50.592Z"
   },
   {
    "duration": 46,
    "start_time": "2022-08-16T06:18:50.597Z"
   },
   {
    "duration": 10,
    "start_time": "2022-08-16T06:18:50.645Z"
   },
   {
    "duration": 53,
    "start_time": "2022-08-16T06:18:50.657Z"
   },
   {
    "duration": 5,
    "start_time": "2022-08-16T06:18:50.712Z"
   },
   {
    "duration": 33,
    "start_time": "2022-08-16T06:18:50.718Z"
   },
   {
    "duration": 49,
    "start_time": "2022-08-16T06:18:50.753Z"
   },
   {
    "duration": 3,
    "start_time": "2022-08-16T06:18:50.804Z"
   },
   {
    "duration": 23,
    "start_time": "2022-08-16T06:18:50.809Z"
   },
   {
    "duration": 22,
    "start_time": "2022-08-16T06:18:50.834Z"
   },
   {
    "duration": 99,
    "start_time": "2022-08-16T06:18:50.858Z"
   },
   {
    "duration": 14,
    "start_time": "2022-08-16T06:18:50.958Z"
   },
   {
    "duration": 23,
    "start_time": "2022-08-16T06:18:50.973Z"
   },
   {
    "duration": 19,
    "start_time": "2022-08-16T06:18:50.998Z"
   },
   {
    "duration": 36,
    "start_time": "2022-08-16T06:18:51.018Z"
   },
   {
    "duration": 15,
    "start_time": "2022-08-16T06:19:03.105Z"
   },
   {
    "duration": 12,
    "start_time": "2022-08-16T06:19:32.475Z"
   },
   {
    "duration": 12,
    "start_time": "2022-08-16T06:19:40.692Z"
   },
   {
    "duration": 14,
    "start_time": "2022-08-16T06:46:54.180Z"
   },
   {
    "duration": 3,
    "start_time": "2022-08-16T06:47:43.288Z"
   },
   {
    "duration": 1598,
    "start_time": "2022-08-16T06:48:17.951Z"
   },
   {
    "duration": 12,
    "start_time": "2022-08-16T06:48:42.468Z"
   },
   {
    "duration": 3,
    "start_time": "2022-08-16T06:49:21.540Z"
   },
   {
    "duration": 3,
    "start_time": "2022-08-16T06:49:21.557Z"
   },
   {
    "duration": 709,
    "start_time": "2022-08-16T06:49:21.563Z"
   },
   {
    "duration": 49,
    "start_time": "2022-08-16T06:49:22.274Z"
   },
   {
    "duration": 12,
    "start_time": "2022-08-16T06:49:22.325Z"
   },
   {
    "duration": 29,
    "start_time": "2022-08-16T06:49:22.339Z"
   },
   {
    "duration": 53,
    "start_time": "2022-08-16T06:49:22.370Z"
   },
   {
    "duration": 46,
    "start_time": "2022-08-16T06:49:22.424Z"
   },
   {
    "duration": 27,
    "start_time": "2022-08-16T06:49:22.471Z"
   },
   {
    "duration": 11,
    "start_time": "2022-08-16T06:49:22.501Z"
   },
   {
    "duration": 11,
    "start_time": "2022-08-16T06:49:22.514Z"
   },
   {
    "duration": 9,
    "start_time": "2022-08-16T06:49:22.527Z"
   },
   {
    "duration": 5,
    "start_time": "2022-08-16T06:49:22.538Z"
   },
   {
    "duration": 58,
    "start_time": "2022-08-16T06:49:22.545Z"
   },
   {
    "duration": 19,
    "start_time": "2022-08-16T06:49:22.605Z"
   },
   {
    "duration": 43,
    "start_time": "2022-08-16T06:49:22.625Z"
   },
   {
    "duration": 25,
    "start_time": "2022-08-16T06:49:22.670Z"
   },
   {
    "duration": 13,
    "start_time": "2022-08-16T06:49:22.697Z"
   },
   {
    "duration": 8,
    "start_time": "2022-08-16T06:49:22.712Z"
   },
   {
    "duration": 12,
    "start_time": "2022-08-16T06:49:22.722Z"
   },
   {
    "duration": 7,
    "start_time": "2022-08-16T06:49:22.736Z"
   },
   {
    "duration": 6,
    "start_time": "2022-08-16T06:49:22.745Z"
   },
   {
    "duration": 47,
    "start_time": "2022-08-16T06:49:22.753Z"
   },
   {
    "duration": 38,
    "start_time": "2022-08-16T06:49:22.803Z"
   },
   {
    "duration": 11,
    "start_time": "2022-08-16T06:49:22.845Z"
   },
   {
    "duration": 56,
    "start_time": "2022-08-16T06:49:22.858Z"
   },
   {
    "duration": 2,
    "start_time": "2022-08-16T06:49:22.916Z"
   },
   {
    "duration": 33,
    "start_time": "2022-08-16T06:49:22.919Z"
   },
   {
    "duration": 10,
    "start_time": "2022-08-16T06:49:22.954Z"
   },
   {
    "duration": 44,
    "start_time": "2022-08-16T06:49:22.966Z"
   },
   {
    "duration": 6,
    "start_time": "2022-08-16T06:49:23.011Z"
   },
   {
    "duration": 16,
    "start_time": "2022-08-16T06:49:23.018Z"
   },
   {
    "duration": 66,
    "start_time": "2022-08-16T06:49:23.036Z"
   },
   {
    "duration": 3,
    "start_time": "2022-08-16T06:49:23.103Z"
   },
   {
    "duration": 10,
    "start_time": "2022-08-16T06:49:23.107Z"
   },
   {
    "duration": 10,
    "start_time": "2022-08-16T06:49:23.119Z"
   },
   {
    "duration": 94,
    "start_time": "2022-08-16T06:49:23.131Z"
   },
   {
    "duration": 16,
    "start_time": "2022-08-16T06:49:23.227Z"
   },
   {
    "duration": 9,
    "start_time": "2022-08-16T06:49:23.246Z"
   },
   {
    "duration": 4,
    "start_time": "2022-08-16T06:49:23.257Z"
   },
   {
    "duration": 40,
    "start_time": "2022-08-16T06:49:23.263Z"
   },
   {
    "duration": 3,
    "start_time": "2022-08-16T06:49:23.305Z"
   },
   {
    "duration": 13,
    "start_time": "2022-08-16T06:49:23.310Z"
   },
   {
    "duration": 12,
    "start_time": "2022-08-16T06:49:23.325Z"
   },
   {
    "duration": 1456,
    "start_time": "2022-08-16T06:49:23.339Z"
   },
   {
    "duration": 17,
    "start_time": "2022-08-16T06:49:53.339Z"
   },
   {
    "duration": 3,
    "start_time": "2022-08-16T06:50:56.199Z"
   },
   {
    "duration": 6,
    "start_time": "2022-08-16T06:51:07.690Z"
   },
   {
    "duration": 3,
    "start_time": "2022-08-16T06:53:40.068Z"
   },
   {
    "duration": 4,
    "start_time": "2022-08-16T06:53:48.790Z"
   },
   {
    "duration": 4,
    "start_time": "2022-08-16T06:53:54.740Z"
   },
   {
    "duration": 9,
    "start_time": "2022-08-16T06:54:55.876Z"
   },
   {
    "duration": 476,
    "start_time": "2022-08-16T06:55:39.099Z"
   },
   {
    "duration": 120,
    "start_time": "2022-08-16T06:55:43.934Z"
   },
   {
    "duration": 15,
    "start_time": "2022-08-16T06:56:38.881Z"
   },
   {
    "duration": 5,
    "start_time": "2022-08-16T07:01:21.850Z"
   },
   {
    "duration": 3,
    "start_time": "2022-08-16T07:01:31.401Z"
   },
   {
    "duration": 4,
    "start_time": "2022-08-16T07:01:31.437Z"
   },
   {
    "duration": 905,
    "start_time": "2022-08-16T07:01:31.443Z"
   },
   {
    "duration": 55,
    "start_time": "2022-08-16T07:01:32.351Z"
   },
   {
    "duration": 19,
    "start_time": "2022-08-16T07:01:32.407Z"
   },
   {
    "duration": 63,
    "start_time": "2022-08-16T07:01:32.429Z"
   },
   {
    "duration": 61,
    "start_time": "2022-08-16T07:01:32.495Z"
   },
   {
    "duration": 87,
    "start_time": "2022-08-16T07:01:32.558Z"
   },
   {
    "duration": 13,
    "start_time": "2022-08-16T07:01:32.647Z"
   },
   {
    "duration": 32,
    "start_time": "2022-08-16T07:01:32.663Z"
   },
   {
    "duration": 14,
    "start_time": "2022-08-16T07:01:32.697Z"
   },
   {
    "duration": 7,
    "start_time": "2022-08-16T07:01:32.713Z"
   },
   {
    "duration": 8,
    "start_time": "2022-08-16T07:01:32.722Z"
   },
   {
    "duration": 62,
    "start_time": "2022-08-16T07:01:32.731Z"
   },
   {
    "duration": 28,
    "start_time": "2022-08-16T07:01:32.798Z"
   },
   {
    "duration": 65,
    "start_time": "2022-08-16T07:01:32.828Z"
   },
   {
    "duration": 7,
    "start_time": "2022-08-16T07:01:32.895Z"
   },
   {
    "duration": 16,
    "start_time": "2022-08-16T07:01:32.904Z"
   },
   {
    "duration": 10,
    "start_time": "2022-08-16T07:01:32.922Z"
   },
   {
    "duration": 14,
    "start_time": "2022-08-16T07:01:32.934Z"
   },
   {
    "duration": 42,
    "start_time": "2022-08-16T07:01:32.950Z"
   },
   {
    "duration": 8,
    "start_time": "2022-08-16T07:01:32.995Z"
   },
   {
    "duration": 21,
    "start_time": "2022-08-16T07:01:33.005Z"
   },
   {
    "duration": 43,
    "start_time": "2022-08-16T07:01:33.028Z"
   },
   {
    "duration": 24,
    "start_time": "2022-08-16T07:01:33.074Z"
   },
   {
    "duration": 36,
    "start_time": "2022-08-16T07:01:33.100Z"
   },
   {
    "duration": 3,
    "start_time": "2022-08-16T07:01:33.138Z"
   },
   {
    "duration": 57,
    "start_time": "2022-08-16T07:01:33.143Z"
   },
   {
    "duration": 12,
    "start_time": "2022-08-16T07:01:33.201Z"
   },
   {
    "duration": 31,
    "start_time": "2022-08-16T07:01:33.215Z"
   },
   {
    "duration": 8,
    "start_time": "2022-08-16T07:01:33.248Z"
   },
   {
    "duration": 47,
    "start_time": "2022-08-16T07:01:33.258Z"
   },
   {
    "duration": 67,
    "start_time": "2022-08-16T07:01:33.307Z"
   },
   {
    "duration": 2,
    "start_time": "2022-08-16T07:01:33.376Z"
   },
   {
    "duration": 24,
    "start_time": "2022-08-16T07:01:33.380Z"
   },
   {
    "duration": 10,
    "start_time": "2022-08-16T07:01:33.406Z"
   },
   {
    "duration": 154,
    "start_time": "2022-08-16T07:01:33.418Z"
   },
   {
    "duration": 26,
    "start_time": "2022-08-16T07:01:33.575Z"
   },
   {
    "duration": 17,
    "start_time": "2022-08-16T07:01:33.603Z"
   },
   {
    "duration": 5,
    "start_time": "2022-08-16T07:01:33.622Z"
   },
   {
    "duration": 29,
    "start_time": "2022-08-16T07:01:33.630Z"
   },
   {
    "duration": 7,
    "start_time": "2022-08-16T07:01:33.664Z"
   },
   {
    "duration": 38,
    "start_time": "2022-08-16T07:01:33.673Z"
   },
   {
    "duration": 4,
    "start_time": "2022-08-16T07:01:33.714Z"
   },
   {
    "duration": 22,
    "start_time": "2022-08-16T07:01:33.720Z"
   },
   {
    "duration": 4,
    "start_time": "2022-08-16T07:01:33.744Z"
   },
   {
    "duration": 97,
    "start_time": "2022-08-16T07:01:33.750Z"
   },
   {
    "duration": 5,
    "start_time": "2022-08-16T07:01:47.228Z"
   },
   {
    "duration": 13,
    "start_time": "2022-08-16T07:02:01.630Z"
   },
   {
    "duration": 3,
    "start_time": "2022-08-16T07:02:10.720Z"
   },
   {
    "duration": 10,
    "start_time": "2022-08-16T07:02:10.730Z"
   },
   {
    "duration": 530,
    "start_time": "2022-08-16T07:02:10.742Z"
   },
   {
    "duration": 49,
    "start_time": "2022-08-16T07:02:11.277Z"
   },
   {
    "duration": 11,
    "start_time": "2022-08-16T07:02:11.328Z"
   },
   {
    "duration": 50,
    "start_time": "2022-08-16T07:02:11.342Z"
   },
   {
    "duration": 46,
    "start_time": "2022-08-16T07:02:11.394Z"
   },
   {
    "duration": 59,
    "start_time": "2022-08-16T07:02:11.441Z"
   },
   {
    "duration": 9,
    "start_time": "2022-08-16T07:02:11.502Z"
   },
   {
    "duration": 13,
    "start_time": "2022-08-16T07:02:11.512Z"
   },
   {
    "duration": 10,
    "start_time": "2022-08-16T07:02:11.527Z"
   },
   {
    "duration": 8,
    "start_time": "2022-08-16T07:02:11.541Z"
   },
   {
    "duration": 5,
    "start_time": "2022-08-16T07:02:11.551Z"
   },
   {
    "duration": 23,
    "start_time": "2022-08-16T07:02:11.592Z"
   },
   {
    "duration": 17,
    "start_time": "2022-08-16T07:02:11.617Z"
   },
   {
    "duration": 64,
    "start_time": "2022-08-16T07:02:11.636Z"
   },
   {
    "duration": 9,
    "start_time": "2022-08-16T07:02:11.702Z"
   },
   {
    "duration": 14,
    "start_time": "2022-08-16T07:02:11.713Z"
   },
   {
    "duration": 7,
    "start_time": "2022-08-16T07:02:11.728Z"
   },
   {
    "duration": 11,
    "start_time": "2022-08-16T07:02:11.737Z"
   },
   {
    "duration": 45,
    "start_time": "2022-08-16T07:02:11.750Z"
   },
   {
    "duration": 14,
    "start_time": "2022-08-16T07:02:11.797Z"
   },
   {
    "duration": 30,
    "start_time": "2022-08-16T07:02:11.814Z"
   },
   {
    "duration": 85,
    "start_time": "2022-08-16T07:02:11.846Z"
   },
   {
    "duration": 19,
    "start_time": "2022-08-16T07:02:11.933Z"
   },
   {
    "duration": 62,
    "start_time": "2022-08-16T07:02:11.954Z"
   },
   {
    "duration": 3,
    "start_time": "2022-08-16T07:02:12.019Z"
   },
   {
    "duration": 62,
    "start_time": "2022-08-16T07:02:12.023Z"
   },
   {
    "duration": 14,
    "start_time": "2022-08-16T07:02:12.086Z"
   },
   {
    "duration": 39,
    "start_time": "2022-08-16T07:02:12.104Z"
   },
   {
    "duration": 10,
    "start_time": "2022-08-16T07:02:12.144Z"
   },
   {
    "duration": 11,
    "start_time": "2022-08-16T07:02:12.156Z"
   },
   {
    "duration": 54,
    "start_time": "2022-08-16T07:02:12.169Z"
   },
   {
    "duration": 3,
    "start_time": "2022-08-16T07:02:12.225Z"
   },
   {
    "duration": 14,
    "start_time": "2022-08-16T07:02:12.229Z"
   },
   {
    "duration": 9,
    "start_time": "2022-08-16T07:02:12.245Z"
   },
   {
    "duration": 86,
    "start_time": "2022-08-16T07:02:12.255Z"
   },
   {
    "duration": 14,
    "start_time": "2022-08-16T07:02:12.343Z"
   },
   {
    "duration": 13,
    "start_time": "2022-08-16T07:02:12.359Z"
   },
   {
    "duration": 4,
    "start_time": "2022-08-16T07:02:12.374Z"
   },
   {
    "duration": 18,
    "start_time": "2022-08-16T07:02:12.380Z"
   },
   {
    "duration": 14,
    "start_time": "2022-08-16T07:02:12.399Z"
   },
   {
    "duration": 5,
    "start_time": "2022-08-16T07:02:12.415Z"
   },
   {
    "duration": 23,
    "start_time": "2022-08-16T07:02:12.422Z"
   },
   {
    "duration": 16,
    "start_time": "2022-08-16T07:02:12.446Z"
   },
   {
    "duration": 34,
    "start_time": "2022-08-16T07:02:12.464Z"
   },
   {
    "duration": 4,
    "start_time": "2022-08-16T07:02:12.499Z"
   },
   {
    "duration": 98,
    "start_time": "2022-08-16T07:02:12.505Z"
   },
   {
    "duration": 3,
    "start_time": "2022-08-16T07:02:24.809Z"
   },
   {
    "duration": 17,
    "start_time": "2022-08-16T07:02:48.680Z"
   },
   {
    "duration": 4,
    "start_time": "2022-08-16T07:03:01.961Z"
   },
   {
    "duration": 6,
    "start_time": "2022-08-16T07:03:05.748Z"
   },
   {
    "duration": 3,
    "start_time": "2022-08-16T07:04:23.779Z"
   },
   {
    "duration": 6,
    "start_time": "2022-08-16T07:04:26.589Z"
   },
   {
    "duration": 113,
    "start_time": "2022-08-16T07:27:22.508Z"
   },
   {
    "duration": 20,
    "start_time": "2022-08-16T07:29:57.278Z"
   },
   {
    "duration": 33,
    "start_time": "2022-08-16T07:30:21.890Z"
   },
   {
    "duration": 22,
    "start_time": "2022-08-16T07:31:00.451Z"
   },
   {
    "duration": 30,
    "start_time": "2022-08-16T07:31:43.985Z"
   },
   {
    "duration": 20,
    "start_time": "2022-08-16T07:32:06.105Z"
   },
   {
    "duration": 9,
    "start_time": "2022-08-16T07:32:24.430Z"
   },
   {
    "duration": 3,
    "start_time": "2022-08-16T07:33:22.671Z"
   },
   {
    "duration": 23,
    "start_time": "2022-08-16T07:34:12.673Z"
   },
   {
    "duration": 11,
    "start_time": "2022-08-16T07:35:12.818Z"
   },
   {
    "duration": 20,
    "start_time": "2022-08-16T07:35:40.447Z"
   },
   {
    "duration": 47,
    "start_time": "2022-08-16T07:36:18.050Z"
   },
   {
    "duration": 3,
    "start_time": "2022-08-16T07:37:03.620Z"
   },
   {
    "duration": 5,
    "start_time": "2022-08-16T07:37:03.628Z"
   },
   {
    "duration": 845,
    "start_time": "2022-08-16T07:37:03.634Z"
   },
   {
    "duration": 50,
    "start_time": "2022-08-16T07:37:04.481Z"
   },
   {
    "duration": 13,
    "start_time": "2022-08-16T07:37:04.534Z"
   },
   {
    "duration": 43,
    "start_time": "2022-08-16T07:37:04.549Z"
   },
   {
    "duration": 33,
    "start_time": "2022-08-16T07:37:04.593Z"
   },
   {
    "duration": 47,
    "start_time": "2022-08-16T07:37:04.628Z"
   },
   {
    "duration": 9,
    "start_time": "2022-08-16T07:37:04.691Z"
   },
   {
    "duration": 17,
    "start_time": "2022-08-16T07:37:04.702Z"
   },
   {
    "duration": 10,
    "start_time": "2022-08-16T07:37:04.721Z"
   },
   {
    "duration": 6,
    "start_time": "2022-08-16T07:37:04.734Z"
   },
   {
    "duration": 6,
    "start_time": "2022-08-16T07:37:04.742Z"
   },
   {
    "duration": 49,
    "start_time": "2022-08-16T07:37:04.750Z"
   },
   {
    "duration": 17,
    "start_time": "2022-08-16T07:37:04.801Z"
   },
   {
    "duration": 41,
    "start_time": "2022-08-16T07:37:04.820Z"
   },
   {
    "duration": 29,
    "start_time": "2022-08-16T07:37:04.863Z"
   },
   {
    "duration": 11,
    "start_time": "2022-08-16T07:37:04.894Z"
   },
   {
    "duration": 6,
    "start_time": "2022-08-16T07:37:04.907Z"
   },
   {
    "duration": 11,
    "start_time": "2022-08-16T07:37:04.914Z"
   },
   {
    "duration": 8,
    "start_time": "2022-08-16T07:37:04.926Z"
   },
   {
    "duration": 10,
    "start_time": "2022-08-16T07:37:04.935Z"
   },
   {
    "duration": 11,
    "start_time": "2022-08-16T07:37:04.947Z"
   },
   {
    "duration": 64,
    "start_time": "2022-08-16T07:37:04.960Z"
   },
   {
    "duration": 11,
    "start_time": "2022-08-16T07:37:05.026Z"
   },
   {
    "duration": 33,
    "start_time": "2022-08-16T07:37:05.039Z"
   },
   {
    "duration": 3,
    "start_time": "2022-08-16T07:37:05.091Z"
   },
   {
    "duration": 39,
    "start_time": "2022-08-16T07:37:05.095Z"
   },
   {
    "duration": 10,
    "start_time": "2022-08-16T07:37:05.136Z"
   },
   {
    "duration": 22,
    "start_time": "2022-08-16T07:37:05.149Z"
   },
   {
    "duration": 6,
    "start_time": "2022-08-16T07:37:05.192Z"
   },
   {
    "duration": 11,
    "start_time": "2022-08-16T07:37:05.199Z"
   },
   {
    "duration": 46,
    "start_time": "2022-08-16T07:37:05.212Z"
   },
   {
    "duration": 3,
    "start_time": "2022-08-16T07:37:05.260Z"
   },
   {
    "duration": 34,
    "start_time": "2022-08-16T07:37:05.264Z"
   },
   {
    "duration": 9,
    "start_time": "2022-08-16T07:37:05.300Z"
   },
   {
    "duration": 99,
    "start_time": "2022-08-16T07:37:05.311Z"
   },
   {
    "duration": 15,
    "start_time": "2022-08-16T07:37:05.411Z"
   },
   {
    "duration": 13,
    "start_time": "2022-08-16T07:37:05.427Z"
   },
   {
    "duration": 4,
    "start_time": "2022-08-16T07:37:05.441Z"
   },
   {
    "duration": 15,
    "start_time": "2022-08-16T07:37:05.446Z"
   },
   {
    "duration": 38,
    "start_time": "2022-08-16T07:37:05.462Z"
   },
   {
    "duration": 4,
    "start_time": "2022-08-16T07:37:05.502Z"
   },
   {
    "duration": 16,
    "start_time": "2022-08-16T07:37:05.507Z"
   },
   {
    "duration": 3,
    "start_time": "2022-08-16T07:37:05.525Z"
   },
   {
    "duration": 14,
    "start_time": "2022-08-16T07:37:05.530Z"
   },
   {
    "duration": 3,
    "start_time": "2022-08-16T07:37:05.546Z"
   },
   {
    "duration": 8,
    "start_time": "2022-08-16T07:37:05.551Z"
   },
   {
    "duration": 15,
    "start_time": "2022-08-16T07:37:05.591Z"
   },
   {
    "duration": 43,
    "start_time": "2022-08-16T07:37:05.607Z"
   },
   {
    "duration": 25,
    "start_time": "2022-08-16T07:37:20.559Z"
   },
   {
    "duration": 3,
    "start_time": "2022-08-16T07:37:59.881Z"
   },
   {
    "duration": 6,
    "start_time": "2022-08-16T07:38:05.041Z"
   },
   {
    "duration": 13,
    "start_time": "2022-08-16T07:39:28.929Z"
   },
   {
    "duration": 12,
    "start_time": "2022-08-16T07:39:51.049Z"
   },
   {
    "duration": 11,
    "start_time": "2022-08-16T07:40:14.696Z"
   },
   {
    "duration": 25,
    "start_time": "2022-08-16T07:40:51.688Z"
   },
   {
    "duration": 27,
    "start_time": "2022-08-16T07:41:24.950Z"
   },
   {
    "duration": 22,
    "start_time": "2022-08-16T07:41:52.250Z"
   },
   {
    "duration": 4,
    "start_time": "2022-08-16T07:42:25.581Z"
   },
   {
    "duration": 4,
    "start_time": "2022-08-16T07:42:58.540Z"
   },
   {
    "duration": 3,
    "start_time": "2022-08-16T07:43:53.541Z"
   },
   {
    "duration": 1524,
    "start_time": "2022-08-16T07:44:53.950Z"
   },
   {
    "duration": 3,
    "start_time": "2022-08-16T07:45:35.229Z"
   },
   {
    "duration": 16,
    "start_time": "2022-08-16T07:53:06.269Z"
   },
   {
    "duration": 9,
    "start_time": "2022-08-16T07:54:34.560Z"
   },
   {
    "duration": 9,
    "start_time": "2022-08-16T07:56:44.789Z"
   },
   {
    "duration": 118,
    "start_time": "2022-08-16T07:57:34.187Z"
   },
   {
    "duration": 103,
    "start_time": "2022-08-16T08:01:52.799Z"
   },
   {
    "duration": 96,
    "start_time": "2022-08-16T08:03:31.380Z"
   },
   {
    "duration": 3,
    "start_time": "2022-08-16T08:09:53.289Z"
   },
   {
    "duration": 83,
    "start_time": "2022-08-16T08:11:27.929Z"
   },
   {
    "duration": 4,
    "start_time": "2022-08-16T08:19:09.560Z"
   },
   {
    "duration": 1178,
    "start_time": "2022-08-16T08:19:09.569Z"
   },
   {
    "duration": 838,
    "start_time": "2022-08-16T08:19:10.749Z"
   },
   {
    "duration": 49,
    "start_time": "2022-08-16T08:19:11.589Z"
   },
   {
    "duration": 12,
    "start_time": "2022-08-16T08:19:11.640Z"
   },
   {
    "duration": 37,
    "start_time": "2022-08-16T08:19:11.654Z"
   },
   {
    "duration": 33,
    "start_time": "2022-08-16T08:19:11.693Z"
   },
   {
    "duration": 42,
    "start_time": "2022-08-16T08:19:11.728Z"
   },
   {
    "duration": 28,
    "start_time": "2022-08-16T08:19:11.772Z"
   },
   {
    "duration": 16,
    "start_time": "2022-08-16T08:19:11.802Z"
   },
   {
    "duration": 13,
    "start_time": "2022-08-16T08:19:11.820Z"
   },
   {
    "duration": 7,
    "start_time": "2022-08-16T08:19:11.836Z"
   },
   {
    "duration": 8,
    "start_time": "2022-08-16T08:19:11.846Z"
   },
   {
    "duration": 50,
    "start_time": "2022-08-16T08:19:11.855Z"
   },
   {
    "duration": 20,
    "start_time": "2022-08-16T08:19:11.909Z"
   },
   {
    "duration": 82,
    "start_time": "2022-08-16T08:19:11.931Z"
   },
   {
    "duration": 9,
    "start_time": "2022-08-16T08:19:12.015Z"
   },
   {
    "duration": 19,
    "start_time": "2022-08-16T08:19:12.027Z"
   },
   {
    "duration": 7,
    "start_time": "2022-08-16T08:19:12.048Z"
   },
   {
    "duration": 11,
    "start_time": "2022-08-16T08:19:12.057Z"
   },
   {
    "duration": 6,
    "start_time": "2022-08-16T08:19:12.092Z"
   },
   {
    "duration": 13,
    "start_time": "2022-08-16T08:19:12.100Z"
   },
   {
    "duration": 11,
    "start_time": "2022-08-16T08:19:12.115Z"
   },
   {
    "duration": 42,
    "start_time": "2022-08-16T08:19:12.128Z"
   },
   {
    "duration": 20,
    "start_time": "2022-08-16T08:19:12.172Z"
   },
   {
    "duration": 32,
    "start_time": "2022-08-16T08:19:12.194Z"
   },
   {
    "duration": 3,
    "start_time": "2022-08-16T08:19:12.228Z"
   },
   {
    "duration": 29,
    "start_time": "2022-08-16T08:19:12.232Z"
   },
   {
    "duration": 37,
    "start_time": "2022-08-16T08:19:12.263Z"
   },
   {
    "duration": 32,
    "start_time": "2022-08-16T08:19:12.301Z"
   },
   {
    "duration": 6,
    "start_time": "2022-08-16T08:19:12.335Z"
   },
   {
    "duration": 11,
    "start_time": "2022-08-16T08:19:12.342Z"
   },
   {
    "duration": 65,
    "start_time": "2022-08-16T08:19:12.355Z"
   },
   {
    "duration": 2,
    "start_time": "2022-08-16T08:19:12.422Z"
   },
   {
    "duration": 17,
    "start_time": "2022-08-16T08:19:12.426Z"
   },
   {
    "duration": 16,
    "start_time": "2022-08-16T08:19:12.444Z"
   },
   {
    "duration": 93,
    "start_time": "2022-08-16T08:19:12.461Z"
   },
   {
    "duration": 14,
    "start_time": "2022-08-16T08:19:12.555Z"
   },
   {
    "duration": 26,
    "start_time": "2022-08-16T08:19:12.571Z"
   },
   {
    "duration": 11,
    "start_time": "2022-08-16T08:19:12.599Z"
   },
   {
    "duration": 15,
    "start_time": "2022-08-16T08:19:12.612Z"
   },
   {
    "duration": 13,
    "start_time": "2022-08-16T08:19:12.631Z"
   },
   {
    "duration": 7,
    "start_time": "2022-08-16T08:19:12.645Z"
   },
   {
    "duration": 17,
    "start_time": "2022-08-16T08:19:12.654Z"
   },
   {
    "duration": 4,
    "start_time": "2022-08-16T08:19:12.673Z"
   },
   {
    "duration": 19,
    "start_time": "2022-08-16T08:19:12.678Z"
   },
   {
    "duration": 4,
    "start_time": "2022-08-16T08:19:12.699Z"
   },
   {
    "duration": 8,
    "start_time": "2022-08-16T08:19:12.705Z"
   },
   {
    "duration": 16,
    "start_time": "2022-08-16T08:19:12.715Z"
   },
   {
    "duration": 28,
    "start_time": "2022-08-16T08:19:12.733Z"
   },
   {
    "duration": 28,
    "start_time": "2022-08-16T08:19:12.763Z"
   },
   {
    "duration": 14,
    "start_time": "2022-08-16T08:19:12.793Z"
   },
   {
    "duration": 23,
    "start_time": "2022-08-16T08:19:12.809Z"
   },
   {
    "duration": 3,
    "start_time": "2022-08-16T08:19:12.834Z"
   },
   {
    "duration": 14,
    "start_time": "2022-08-16T08:19:12.839Z"
   },
   {
    "duration": 50,
    "start_time": "2022-08-16T08:19:12.855Z"
   },
   {
    "duration": 4,
    "start_time": "2022-08-16T08:19:12.907Z"
   },
   {
    "duration": 30,
    "start_time": "2022-08-16T08:19:12.912Z"
   },
   {
    "duration": 27,
    "start_time": "2022-08-16T08:19:12.943Z"
   },
   {
    "duration": 4,
    "start_time": "2022-08-16T08:19:12.971Z"
   },
   {
    "duration": 4,
    "start_time": "2022-08-16T08:19:12.977Z"
   },
   {
    "duration": 13,
    "start_time": "2022-08-16T08:19:12.983Z"
   },
   {
    "duration": 4,
    "start_time": "2022-08-16T12:06:20.184Z"
   },
   {
    "duration": 2,
    "start_time": "2022-08-16T12:06:25.177Z"
   },
   {
    "duration": 128,
    "start_time": "2022-08-16T12:09:31.093Z"
   },
   {
    "duration": 3,
    "start_time": "2022-08-16T12:09:50.145Z"
   },
   {
    "duration": 43,
    "start_time": "2022-08-16T15:37:59.230Z"
   },
   {
    "duration": 4,
    "start_time": "2022-08-16T15:38:07.181Z"
   },
   {
    "duration": 1393,
    "start_time": "2022-08-16T15:38:07.187Z"
   },
   {
    "duration": 1076,
    "start_time": "2022-08-16T15:38:08.582Z"
   },
   {
    "duration": 52,
    "start_time": "2022-08-16T15:38:09.660Z"
   },
   {
    "duration": 15,
    "start_time": "2022-08-16T15:38:09.714Z"
   },
   {
    "duration": 24,
    "start_time": "2022-08-16T15:38:09.738Z"
   },
   {
    "duration": 35,
    "start_time": "2022-08-16T15:38:09.763Z"
   },
   {
    "duration": 49,
    "start_time": "2022-08-16T15:38:09.799Z"
   },
   {
    "duration": 8,
    "start_time": "2022-08-16T15:38:09.849Z"
   },
   {
    "duration": 11,
    "start_time": "2022-08-16T15:38:09.859Z"
   },
   {
    "duration": 14,
    "start_time": "2022-08-16T15:38:09.872Z"
   },
   {
    "duration": 18,
    "start_time": "2022-08-16T15:38:09.888Z"
   },
   {
    "duration": 9,
    "start_time": "2022-08-16T15:38:09.907Z"
   },
   {
    "duration": 32,
    "start_time": "2022-08-16T15:38:09.917Z"
   },
   {
    "duration": 14,
    "start_time": "2022-08-16T15:38:09.951Z"
   },
   {
    "duration": 40,
    "start_time": "2022-08-16T15:38:09.967Z"
   },
   {
    "duration": 6,
    "start_time": "2022-08-16T15:38:10.009Z"
   },
   {
    "duration": 30,
    "start_time": "2022-08-16T15:38:10.017Z"
   },
   {
    "duration": 15,
    "start_time": "2022-08-16T15:38:10.048Z"
   },
   {
    "duration": 11,
    "start_time": "2022-08-16T15:38:10.065Z"
   },
   {
    "duration": 16,
    "start_time": "2022-08-16T15:38:10.077Z"
   },
   {
    "duration": 18,
    "start_time": "2022-08-16T15:38:10.094Z"
   },
   {
    "duration": 14,
    "start_time": "2022-08-16T15:38:10.113Z"
   },
   {
    "duration": 60,
    "start_time": "2022-08-16T15:38:10.128Z"
   },
   {
    "duration": 12,
    "start_time": "2022-08-16T15:38:10.190Z"
   },
   {
    "duration": 50,
    "start_time": "2022-08-16T15:38:10.203Z"
   },
   {
    "duration": 144,
    "start_time": "2022-08-16T15:38:10.255Z"
   },
   {
    "duration": 0,
    "start_time": "2022-08-16T15:38:10.401Z"
   },
   {
    "duration": 0,
    "start_time": "2022-08-16T15:38:10.403Z"
   },
   {
    "duration": 0,
    "start_time": "2022-08-16T15:38:10.404Z"
   },
   {
    "duration": 0,
    "start_time": "2022-08-16T15:38:10.405Z"
   },
   {
    "duration": 0,
    "start_time": "2022-08-16T15:38:10.406Z"
   },
   {
    "duration": 0,
    "start_time": "2022-08-16T15:38:10.407Z"
   },
   {
    "duration": 0,
    "start_time": "2022-08-16T15:38:10.408Z"
   },
   {
    "duration": 0,
    "start_time": "2022-08-16T15:38:10.409Z"
   },
   {
    "duration": 0,
    "start_time": "2022-08-16T15:38:10.410Z"
   },
   {
    "duration": 0,
    "start_time": "2022-08-16T15:38:10.411Z"
   },
   {
    "duration": 0,
    "start_time": "2022-08-16T15:38:10.412Z"
   },
   {
    "duration": 0,
    "start_time": "2022-08-16T15:38:10.413Z"
   },
   {
    "duration": 0,
    "start_time": "2022-08-16T15:38:10.438Z"
   },
   {
    "duration": 0,
    "start_time": "2022-08-16T15:38:10.439Z"
   },
   {
    "duration": 0,
    "start_time": "2022-08-16T15:38:10.440Z"
   },
   {
    "duration": 0,
    "start_time": "2022-08-16T15:38:10.441Z"
   },
   {
    "duration": 0,
    "start_time": "2022-08-16T15:38:10.442Z"
   },
   {
    "duration": 0,
    "start_time": "2022-08-16T15:38:10.443Z"
   },
   {
    "duration": 0,
    "start_time": "2022-08-16T15:38:10.444Z"
   },
   {
    "duration": 0,
    "start_time": "2022-08-16T15:38:10.445Z"
   },
   {
    "duration": 0,
    "start_time": "2022-08-16T15:38:10.446Z"
   },
   {
    "duration": 0,
    "start_time": "2022-08-16T15:38:10.446Z"
   },
   {
    "duration": 0,
    "start_time": "2022-08-16T15:38:10.448Z"
   },
   {
    "duration": 0,
    "start_time": "2022-08-16T15:38:10.448Z"
   },
   {
    "duration": 0,
    "start_time": "2022-08-16T15:38:10.450Z"
   },
   {
    "duration": 0,
    "start_time": "2022-08-16T15:38:10.450Z"
   },
   {
    "duration": 0,
    "start_time": "2022-08-16T15:38:10.452Z"
   },
   {
    "duration": 0,
    "start_time": "2022-08-16T15:38:10.452Z"
   },
   {
    "duration": 0,
    "start_time": "2022-08-16T15:38:10.453Z"
   },
   {
    "duration": 0,
    "start_time": "2022-08-16T15:38:10.454Z"
   },
   {
    "duration": 0,
    "start_time": "2022-08-16T15:38:10.455Z"
   },
   {
    "duration": 0,
    "start_time": "2022-08-16T15:38:10.456Z"
   },
   {
    "duration": 0,
    "start_time": "2022-08-16T15:38:10.457Z"
   },
   {
    "duration": 0,
    "start_time": "2022-08-16T15:38:10.458Z"
   },
   {
    "duration": 0,
    "start_time": "2022-08-16T15:38:10.459Z"
   },
   {
    "duration": 0,
    "start_time": "2022-08-16T15:38:10.460Z"
   },
   {
    "duration": 0,
    "start_time": "2022-08-16T15:38:10.461Z"
   },
   {
    "duration": 6,
    "start_time": "2022-08-16T15:38:21.105Z"
   },
   {
    "duration": 1296,
    "start_time": "2022-08-16T15:38:40.566Z"
   },
   {
    "duration": 11,
    "start_time": "2022-08-16T15:38:45.662Z"
   },
   {
    "duration": 1754,
    "start_time": "2022-08-16T15:39:09.224Z"
   },
   {
    "duration": 1822,
    "start_time": "2022-08-16T15:40:06.129Z"
   },
   {
    "duration": 0,
    "start_time": "2022-08-16T15:40:07.952Z"
   },
   {
    "duration": 9,
    "start_time": "2022-08-16T15:40:10.017Z"
   },
   {
    "duration": 5,
    "start_time": "2022-08-16T15:40:19.604Z"
   },
   {
    "duration": 11,
    "start_time": "2022-08-16T15:40:31.216Z"
   },
   {
    "duration": 12,
    "start_time": "2022-08-16T15:40:44.802Z"
   },
   {
    "duration": 7,
    "start_time": "2022-08-16T15:40:55.564Z"
   },
   {
    "duration": 15,
    "start_time": "2022-08-16T15:41:06.702Z"
   },
   {
    "duration": 61,
    "start_time": "2022-08-16T15:41:18.535Z"
   },
   {
    "duration": 8,
    "start_time": "2022-08-16T15:41:35.824Z"
   },
   {
    "duration": 7,
    "start_time": "2022-08-16T15:41:43.408Z"
   },
   {
    "duration": 7,
    "start_time": "2022-08-16T15:41:48.718Z"
   },
   {
    "duration": 14,
    "start_time": "2022-08-16T15:41:56.549Z"
   },
   {
    "duration": 89,
    "start_time": "2022-08-16T15:42:04.366Z"
   },
   {
    "duration": 12,
    "start_time": "2022-08-16T15:42:07.549Z"
   },
   {
    "duration": 11,
    "start_time": "2022-08-16T15:42:18.527Z"
   },
   {
    "duration": 9,
    "start_time": "2022-08-16T15:42:25.249Z"
   },
   {
    "duration": 9,
    "start_time": "2022-08-16T15:42:32.127Z"
   },
   {
    "duration": 8,
    "start_time": "2022-08-16T15:42:37.751Z"
   },
   {
    "duration": 433,
    "start_time": "2022-08-16T15:44:06.767Z"
   },
   {
    "duration": 91,
    "start_time": "2022-08-16T15:44:17.434Z"
   },
   {
    "duration": 161,
    "start_time": "2022-08-16T15:44:20.915Z"
   },
   {
    "duration": 212,
    "start_time": "2022-08-16T15:44:53.617Z"
   },
   {
    "duration": 165,
    "start_time": "2022-08-16T15:45:19.179Z"
   },
   {
    "duration": 3,
    "start_time": "2022-08-16T15:46:29.322Z"
   },
   {
    "duration": 28,
    "start_time": "2022-08-16T15:46:29.653Z"
   },
   {
    "duration": 10,
    "start_time": "2022-08-16T15:46:30.668Z"
   },
   {
    "duration": 68,
    "start_time": "2022-08-16T15:46:30.850Z"
   },
   {
    "duration": 7,
    "start_time": "2022-08-16T15:46:31.051Z"
   },
   {
    "duration": 9,
    "start_time": "2022-08-16T15:46:31.367Z"
   },
   {
    "duration": 36,
    "start_time": "2022-08-16T15:46:31.551Z"
   },
   {
    "duration": 2,
    "start_time": "2022-08-16T15:46:31.722Z"
   },
   {
    "duration": 7,
    "start_time": "2022-08-16T15:46:32.026Z"
   },
   {
    "duration": 6,
    "start_time": "2022-08-16T15:46:32.214Z"
   },
   {
    "duration": 76,
    "start_time": "2022-08-16T15:46:32.389Z"
   },
   {
    "duration": 14,
    "start_time": "2022-08-16T15:46:32.567Z"
   },
   {
    "duration": 11,
    "start_time": "2022-08-16T15:46:32.757Z"
   },
   {
    "duration": 3,
    "start_time": "2022-08-16T15:46:33.067Z"
   },
   {
    "duration": 10,
    "start_time": "2022-08-16T15:46:33.249Z"
   },
   {
    "duration": 7,
    "start_time": "2022-08-16T15:46:33.405Z"
   },
   {
    "duration": 3,
    "start_time": "2022-08-16T15:46:33.589Z"
   },
   {
    "duration": 15,
    "start_time": "2022-08-16T15:46:33.929Z"
   },
   {
    "duration": 3,
    "start_time": "2022-08-16T15:46:34.115Z"
   },
   {
    "duration": 12,
    "start_time": "2022-08-16T15:46:34.274Z"
   },
   {
    "duration": 3,
    "start_time": "2022-08-16T15:46:34.451Z"
   },
   {
    "duration": 4,
    "start_time": "2022-08-16T15:46:34.958Z"
   },
   {
    "duration": 13,
    "start_time": "2022-08-16T15:46:35.656Z"
   },
   {
    "duration": 29,
    "start_time": "2022-08-16T15:46:35.834Z"
   },
   {
    "duration": 3,
    "start_time": "2022-08-16T15:46:35.998Z"
   },
   {
    "duration": 11,
    "start_time": "2022-08-16T15:46:36.177Z"
   },
   {
    "duration": 21,
    "start_time": "2022-08-16T15:46:36.351Z"
   },
   {
    "duration": 3,
    "start_time": "2022-08-16T15:46:36.515Z"
   },
   {
    "duration": 12,
    "start_time": "2022-08-16T15:46:36.707Z"
   },
   {
    "duration": 19,
    "start_time": "2022-08-16T15:46:36.884Z"
   },
   {
    "duration": 7,
    "start_time": "2022-08-16T15:46:37.039Z"
   },
   {
    "duration": 12,
    "start_time": "2022-08-16T15:46:37.214Z"
   },
   {
    "duration": 18,
    "start_time": "2022-08-16T15:46:37.395Z"
   },
   {
    "duration": 4,
    "start_time": "2022-08-16T15:46:37.611Z"
   },
   {
    "duration": 2,
    "start_time": "2022-08-16T15:46:37.751Z"
   },
   {
    "duration": 9,
    "start_time": "2022-08-16T15:46:38.082Z"
   },
   {
    "duration": 21,
    "start_time": "2022-08-16T16:00:34.948Z"
   },
   {
    "duration": 5,
    "start_time": "2022-08-16T16:00:42.459Z"
   },
   {
    "duration": 19,
    "start_time": "2022-08-16T16:00:47.216Z"
   },
   {
    "duration": 7,
    "start_time": "2022-08-16T16:01:26.626Z"
   },
   {
    "duration": 5,
    "start_time": "2022-08-16T16:02:54.920Z"
   },
   {
    "duration": 6,
    "start_time": "2022-08-16T16:03:03.523Z"
   },
   {
    "duration": 6,
    "start_time": "2022-08-16T16:03:23.394Z"
   },
   {
    "duration": 5,
    "start_time": "2022-08-16T16:03:32.448Z"
   },
   {
    "duration": 4,
    "start_time": "2022-08-16T16:03:51.878Z"
   },
   {
    "duration": 3,
    "start_time": "2022-08-16T16:03:52.634Z"
   },
   {
    "duration": 45,
    "start_time": "2022-08-16T17:13:05.642Z"
   },
   {
    "duration": 3,
    "start_time": "2022-08-16T17:13:09.530Z"
   },
   {
    "duration": 1179,
    "start_time": "2022-08-16T17:13:09.540Z"
   },
   {
    "duration": 791,
    "start_time": "2022-08-16T17:13:10.721Z"
   },
   {
    "duration": 43,
    "start_time": "2022-08-16T17:13:11.513Z"
   },
   {
    "duration": 11,
    "start_time": "2022-08-16T17:13:11.557Z"
   },
   {
    "duration": 37,
    "start_time": "2022-08-16T17:13:11.569Z"
   },
   {
    "duration": 33,
    "start_time": "2022-08-16T17:13:11.608Z"
   },
   {
    "duration": 38,
    "start_time": "2022-08-16T17:13:11.642Z"
   },
   {
    "duration": 8,
    "start_time": "2022-08-16T17:13:11.681Z"
   },
   {
    "duration": 25,
    "start_time": "2022-08-16T17:13:11.690Z"
   },
   {
    "duration": 16,
    "start_time": "2022-08-16T17:13:11.717Z"
   },
   {
    "duration": 8,
    "start_time": "2022-08-16T17:13:11.735Z"
   },
   {
    "duration": 7,
    "start_time": "2022-08-16T17:13:11.744Z"
   },
   {
    "duration": 19,
    "start_time": "2022-08-16T17:13:11.752Z"
   },
   {
    "duration": 13,
    "start_time": "2022-08-16T17:13:11.772Z"
   },
   {
    "duration": 52,
    "start_time": "2022-08-16T17:13:11.787Z"
   },
   {
    "duration": 6,
    "start_time": "2022-08-16T17:13:11.840Z"
   },
   {
    "duration": 11,
    "start_time": "2022-08-16T17:13:11.847Z"
   },
   {
    "duration": 5,
    "start_time": "2022-08-16T17:13:11.859Z"
   },
   {
    "duration": 10,
    "start_time": "2022-08-16T17:13:11.865Z"
   },
   {
    "duration": 6,
    "start_time": "2022-08-16T17:13:11.876Z"
   },
   {
    "duration": 6,
    "start_time": "2022-08-16T17:13:11.883Z"
   },
   {
    "duration": 8,
    "start_time": "2022-08-16T17:13:11.890Z"
   },
   {
    "duration": 60,
    "start_time": "2022-08-16T17:13:11.900Z"
   },
   {
    "duration": 10,
    "start_time": "2022-08-16T17:13:11.963Z"
   },
   {
    "duration": 30,
    "start_time": "2022-08-16T17:13:11.974Z"
   },
   {
    "duration": 179,
    "start_time": "2022-08-16T17:13:12.006Z"
   },
   {
    "duration": 2,
    "start_time": "2022-08-16T17:13:12.186Z"
   },
   {
    "duration": 27,
    "start_time": "2022-08-16T17:13:12.192Z"
   },
   {
    "duration": 19,
    "start_time": "2022-08-16T17:13:12.220Z"
   },
   {
    "duration": 27,
    "start_time": "2022-08-16T17:13:12.241Z"
   },
   {
    "duration": 5,
    "start_time": "2022-08-16T17:13:12.269Z"
   },
   {
    "duration": 6,
    "start_time": "2022-08-16T17:13:12.275Z"
   },
   {
    "duration": 12,
    "start_time": "2022-08-16T17:13:12.282Z"
   },
   {
    "duration": 54,
    "start_time": "2022-08-16T17:13:12.295Z"
   },
   {
    "duration": 2,
    "start_time": "2022-08-16T17:13:12.351Z"
   },
   {
    "duration": 8,
    "start_time": "2022-08-16T17:13:12.355Z"
   },
   {
    "duration": 9,
    "start_time": "2022-08-16T17:13:12.364Z"
   },
   {
    "duration": 80,
    "start_time": "2022-08-16T17:13:12.374Z"
   },
   {
    "duration": 12,
    "start_time": "2022-08-16T17:13:12.455Z"
   },
   {
    "duration": 12,
    "start_time": "2022-08-16T17:13:12.469Z"
   },
   {
    "duration": 3,
    "start_time": "2022-08-16T17:13:12.483Z"
   },
   {
    "duration": 13,
    "start_time": "2022-08-16T17:13:12.488Z"
   },
   {
    "duration": 15,
    "start_time": "2022-08-16T17:13:12.503Z"
   },
   {
    "duration": 19,
    "start_time": "2022-08-16T17:13:12.520Z"
   },
   {
    "duration": 11,
    "start_time": "2022-08-16T17:13:12.540Z"
   },
   {
    "duration": 3,
    "start_time": "2022-08-16T17:13:12.552Z"
   },
   {
    "duration": 11,
    "start_time": "2022-08-16T17:13:12.556Z"
   },
   {
    "duration": 3,
    "start_time": "2022-08-16T17:13:12.568Z"
   },
   {
    "duration": 16,
    "start_time": "2022-08-16T17:13:12.572Z"
   },
   {
    "duration": 8,
    "start_time": "2022-08-16T17:13:12.589Z"
   },
   {
    "duration": 14,
    "start_time": "2022-08-16T17:13:12.598Z"
   },
   {
    "duration": 42,
    "start_time": "2022-08-16T17:13:12.613Z"
   },
   {
    "duration": 2,
    "start_time": "2022-08-16T17:13:12.657Z"
   },
   {
    "duration": 12,
    "start_time": "2022-08-16T17:13:12.661Z"
   },
   {
    "duration": 18,
    "start_time": "2022-08-16T17:13:12.675Z"
   },
   {
    "duration": 3,
    "start_time": "2022-08-16T17:13:12.694Z"
   },
   {
    "duration": 13,
    "start_time": "2022-08-16T17:13:12.698Z"
   },
   {
    "duration": 34,
    "start_time": "2022-08-16T17:13:12.713Z"
   },
   {
    "duration": 2,
    "start_time": "2022-08-16T17:13:12.749Z"
   },
   {
    "duration": 12,
    "start_time": "2022-08-16T17:13:12.752Z"
   },
   {
    "duration": 17,
    "start_time": "2022-08-16T17:13:12.765Z"
   },
   {
    "duration": 3,
    "start_time": "2022-08-16T17:13:12.783Z"
   },
   {
    "duration": 8,
    "start_time": "2022-08-16T17:13:12.787Z"
   },
   {
    "duration": 12,
    "start_time": "2022-08-16T17:13:12.796Z"
   },
   {
    "duration": 3,
    "start_time": "2022-08-16T17:13:12.809Z"
   },
   {
    "duration": 25,
    "start_time": "2022-08-16T17:13:12.814Z"
   },
   {
    "duration": 3,
    "start_time": "2022-08-16T17:13:12.840Z"
   },
   {
    "duration": 12,
    "start_time": "2022-08-16T17:14:22.309Z"
   },
   {
    "duration": 3,
    "start_time": "2022-08-16T17:15:11.832Z"
   },
   {
    "duration": 4,
    "start_time": "2022-08-16T17:19:03.766Z"
   },
   {
    "duration": 6,
    "start_time": "2022-08-16T17:19:39.393Z"
   },
   {
    "duration": 95,
    "start_time": "2022-08-16T19:01:41.194Z"
   },
   {
    "duration": 83,
    "start_time": "2022-08-16T19:04:35.115Z"
   },
   {
    "duration": 19,
    "start_time": "2022-08-16T19:07:54.304Z"
   },
   {
    "duration": 24,
    "start_time": "2022-08-16T19:08:11.667Z"
   },
   {
    "duration": 62,
    "start_time": "2022-08-16T19:09:14.095Z"
   },
   {
    "duration": 7,
    "start_time": "2022-08-16T19:09:30.342Z"
   },
   {
    "duration": 8,
    "start_time": "2022-08-16T19:09:51.897Z"
   },
   {
    "duration": 7,
    "start_time": "2022-08-16T19:20:09.496Z"
   },
   {
    "duration": 17,
    "start_time": "2022-08-16T19:20:18.665Z"
   },
   {
    "duration": 38,
    "start_time": "2022-08-16T19:20:20.365Z"
   },
   {
    "duration": 3,
    "start_time": "2022-08-16T19:20:34.618Z"
   },
   {
    "duration": 4,
    "start_time": "2022-08-16T19:20:34.646Z"
   },
   {
    "duration": 612,
    "start_time": "2022-08-16T19:20:34.651Z"
   },
   {
    "duration": 43,
    "start_time": "2022-08-16T19:20:35.265Z"
   },
   {
    "duration": 9,
    "start_time": "2022-08-16T19:20:35.310Z"
   },
   {
    "duration": 43,
    "start_time": "2022-08-16T19:20:35.321Z"
   },
   {
    "duration": 33,
    "start_time": "2022-08-16T19:20:35.366Z"
   },
   {
    "duration": 39,
    "start_time": "2022-08-16T19:20:35.401Z"
   },
   {
    "duration": 8,
    "start_time": "2022-08-16T19:20:35.441Z"
   },
   {
    "duration": 13,
    "start_time": "2022-08-16T19:20:35.450Z"
   },
   {
    "duration": 13,
    "start_time": "2022-08-16T19:20:35.465Z"
   },
   {
    "duration": 19,
    "start_time": "2022-08-16T19:20:35.480Z"
   },
   {
    "duration": 7,
    "start_time": "2022-08-16T19:20:35.502Z"
   },
   {
    "duration": 18,
    "start_time": "2022-08-16T19:20:35.511Z"
   },
   {
    "duration": 13,
    "start_time": "2022-08-16T19:20:35.538Z"
   },
   {
    "duration": 38,
    "start_time": "2022-08-16T19:20:35.552Z"
   },
   {
    "duration": 6,
    "start_time": "2022-08-16T19:20:35.592Z"
   },
   {
    "duration": 11,
    "start_time": "2022-08-16T19:20:35.599Z"
   },
   {
    "duration": 5,
    "start_time": "2022-08-16T19:20:35.611Z"
   },
   {
    "duration": 6,
    "start_time": "2022-08-16T19:20:35.638Z"
   },
   {
    "duration": 9,
    "start_time": "2022-08-16T19:20:35.645Z"
   },
   {
    "duration": 10,
    "start_time": "2022-08-16T19:20:35.656Z"
   },
   {
    "duration": 11,
    "start_time": "2022-08-16T19:20:35.668Z"
   },
   {
    "duration": 38,
    "start_time": "2022-08-16T19:20:35.681Z"
   },
   {
    "duration": 22,
    "start_time": "2022-08-16T19:20:35.721Z"
   },
   {
    "duration": 36,
    "start_time": "2022-08-16T19:20:35.745Z"
   },
   {
    "duration": 170,
    "start_time": "2022-08-16T19:20:35.783Z"
   },
   {
    "duration": 2,
    "start_time": "2022-08-16T19:20:35.955Z"
   },
   {
    "duration": 33,
    "start_time": "2022-08-16T19:20:35.959Z"
   },
   {
    "duration": 9,
    "start_time": "2022-08-16T19:20:35.994Z"
   },
   {
    "duration": 35,
    "start_time": "2022-08-16T19:20:36.004Z"
   },
   {
    "duration": 5,
    "start_time": "2022-08-16T19:20:36.041Z"
   },
   {
    "duration": 7,
    "start_time": "2022-08-16T19:20:36.048Z"
   },
   {
    "duration": 14,
    "start_time": "2022-08-16T19:20:36.056Z"
   },
   {
    "duration": 38,
    "start_time": "2022-08-16T19:20:36.072Z"
   },
   {
    "duration": 2,
    "start_time": "2022-08-16T19:20:36.112Z"
   },
   {
    "duration": 32,
    "start_time": "2022-08-16T19:20:36.116Z"
   },
   {
    "duration": 9,
    "start_time": "2022-08-16T19:20:36.150Z"
   },
   {
    "duration": 71,
    "start_time": "2022-08-16T19:20:36.160Z"
   },
   {
    "duration": 15,
    "start_time": "2022-08-16T19:20:36.233Z"
   },
   {
    "duration": 13,
    "start_time": "2022-08-16T19:20:36.249Z"
   },
   {
    "duration": 3,
    "start_time": "2022-08-16T19:20:36.266Z"
   },
   {
    "duration": 307,
    "start_time": "2022-08-16T19:20:36.270Z"
   },
   {
    "duration": 10,
    "start_time": "2022-08-16T19:20:36.579Z"
   },
   {
    "duration": 4,
    "start_time": "2022-08-16T19:20:36.590Z"
   },
   {
    "duration": 19,
    "start_time": "2022-08-16T19:20:36.596Z"
   },
   {
    "duration": 3,
    "start_time": "2022-08-16T19:20:36.617Z"
   },
   {
    "duration": 5,
    "start_time": "2022-08-16T19:20:36.622Z"
   },
   {
    "duration": 12,
    "start_time": "2022-08-16T19:20:36.628Z"
   },
   {
    "duration": 3,
    "start_time": "2022-08-16T19:20:36.641Z"
   },
   {
    "duration": 7,
    "start_time": "2022-08-16T19:20:36.645Z"
   },
   {
    "duration": 5,
    "start_time": "2022-08-16T19:20:36.654Z"
   },
   {
    "duration": 6,
    "start_time": "2022-08-16T19:20:36.660Z"
   },
   {
    "duration": 7,
    "start_time": "2022-08-16T19:20:36.667Z"
   },
   {
    "duration": 14,
    "start_time": "2022-08-16T19:20:36.676Z"
   },
   {
    "duration": 48,
    "start_time": "2022-08-16T19:20:36.691Z"
   },
   {
    "duration": 22,
    "start_time": "2022-08-16T19:20:36.740Z"
   },
   {
    "duration": 23,
    "start_time": "2022-08-16T19:20:36.764Z"
   },
   {
    "duration": 3,
    "start_time": "2022-08-16T19:20:36.789Z"
   },
   {
    "duration": 16,
    "start_time": "2022-08-16T19:20:36.793Z"
   },
   {
    "duration": 49,
    "start_time": "2022-08-16T19:20:36.811Z"
   },
   {
    "duration": 4,
    "start_time": "2022-08-16T19:20:36.862Z"
   },
   {
    "duration": 26,
    "start_time": "2022-08-16T19:20:36.868Z"
   },
   {
    "duration": 19,
    "start_time": "2022-08-16T19:20:36.896Z"
   },
   {
    "duration": 2,
    "start_time": "2022-08-16T19:20:36.917Z"
   },
   {
    "duration": 19,
    "start_time": "2022-08-16T19:20:36.921Z"
   },
   {
    "duration": 20,
    "start_time": "2022-08-16T19:20:36.942Z"
   },
   {
    "duration": 3,
    "start_time": "2022-08-16T19:20:36.964Z"
   },
   {
    "duration": 6,
    "start_time": "2022-08-16T19:20:36.969Z"
   },
   {
    "duration": 12,
    "start_time": "2022-08-16T19:20:36.976Z"
   },
   {
    "duration": 4,
    "start_time": "2022-08-16T19:20:36.989Z"
   },
   {
    "duration": 6,
    "start_time": "2022-08-16T19:20:36.995Z"
   },
   {
    "duration": 7,
    "start_time": "2022-08-16T19:20:37.002Z"
   },
   {
    "duration": 39,
    "start_time": "2022-08-16T19:21:01.566Z"
   },
   {
    "duration": 28,
    "start_time": "2022-08-16T19:22:56.703Z"
   },
   {
    "duration": 22,
    "start_time": "2022-08-16T19:23:11.468Z"
   },
   {
    "duration": 4,
    "start_time": "2022-08-16T19:23:23.874Z"
   },
   {
    "duration": 15,
    "start_time": "2022-08-16T19:23:23.880Z"
   },
   {
    "duration": 463,
    "start_time": "2022-08-16T19:23:23.897Z"
   },
   {
    "duration": 44,
    "start_time": "2022-08-16T19:23:24.363Z"
   },
   {
    "duration": 10,
    "start_time": "2022-08-16T19:23:24.408Z"
   },
   {
    "duration": 38,
    "start_time": "2022-08-16T19:23:24.419Z"
   },
   {
    "duration": 33,
    "start_time": "2022-08-16T19:23:24.459Z"
   },
   {
    "duration": 37,
    "start_time": "2022-08-16T19:23:24.494Z"
   },
   {
    "duration": 8,
    "start_time": "2022-08-16T19:23:24.538Z"
   },
   {
    "duration": 13,
    "start_time": "2022-08-16T19:23:24.547Z"
   },
   {
    "duration": 9,
    "start_time": "2022-08-16T19:23:24.562Z"
   },
   {
    "duration": 8,
    "start_time": "2022-08-16T19:23:24.573Z"
   },
   {
    "duration": 5,
    "start_time": "2022-08-16T19:23:24.582Z"
   },
   {
    "duration": 17,
    "start_time": "2022-08-16T19:23:24.589Z"
   },
   {
    "duration": 41,
    "start_time": "2022-08-16T19:23:24.608Z"
   },
   {
    "duration": 35,
    "start_time": "2022-08-16T19:23:24.651Z"
   },
   {
    "duration": 6,
    "start_time": "2022-08-16T19:23:24.688Z"
   },
   {
    "duration": 12,
    "start_time": "2022-08-16T19:23:24.696Z"
   },
   {
    "duration": 31,
    "start_time": "2022-08-16T19:23:24.710Z"
   },
   {
    "duration": 35,
    "start_time": "2022-08-16T19:23:24.742Z"
   },
   {
    "duration": 8,
    "start_time": "2022-08-16T19:23:24.779Z"
   },
   {
    "duration": 8,
    "start_time": "2022-08-16T19:23:24.788Z"
   },
   {
    "duration": 11,
    "start_time": "2022-08-16T19:23:24.797Z"
   },
   {
    "duration": 35,
    "start_time": "2022-08-16T19:23:24.811Z"
   },
   {
    "duration": 10,
    "start_time": "2022-08-16T19:23:24.847Z"
   },
   {
    "duration": 37,
    "start_time": "2022-08-16T19:23:24.859Z"
   },
   {
    "duration": 171,
    "start_time": "2022-08-16T19:23:24.898Z"
   },
   {
    "duration": 3,
    "start_time": "2022-08-16T19:23:25.070Z"
   },
   {
    "duration": 41,
    "start_time": "2022-08-16T19:23:25.074Z"
   },
   {
    "duration": 9,
    "start_time": "2022-08-16T19:23:25.116Z"
   },
   {
    "duration": 20,
    "start_time": "2022-08-16T19:23:25.137Z"
   },
   {
    "duration": 5,
    "start_time": "2022-08-16T19:23:25.158Z"
   },
   {
    "duration": 5,
    "start_time": "2022-08-16T19:23:25.164Z"
   },
   {
    "duration": 11,
    "start_time": "2022-08-16T19:23:25.170Z"
   },
   {
    "duration": 69,
    "start_time": "2022-08-16T19:23:25.182Z"
   },
   {
    "duration": 2,
    "start_time": "2022-08-16T19:23:25.253Z"
   },
   {
    "duration": 8,
    "start_time": "2022-08-16T19:23:25.257Z"
   },
   {
    "duration": 9,
    "start_time": "2022-08-16T19:23:25.266Z"
   },
   {
    "duration": 82,
    "start_time": "2022-08-16T19:23:25.276Z"
   },
   {
    "duration": 12,
    "start_time": "2022-08-16T19:23:25.360Z"
   },
   {
    "duration": 11,
    "start_time": "2022-08-16T19:23:25.373Z"
   },
   {
    "duration": 3,
    "start_time": "2022-08-16T19:23:25.386Z"
   },
   {
    "duration": 16,
    "start_time": "2022-08-16T19:23:25.390Z"
   },
   {
    "duration": 31,
    "start_time": "2022-08-16T19:23:25.408Z"
   },
   {
    "duration": 4,
    "start_time": "2022-08-16T19:23:25.440Z"
   },
   {
    "duration": 20,
    "start_time": "2022-08-16T19:23:25.446Z"
   },
   {
    "duration": 4,
    "start_time": "2022-08-16T19:23:25.468Z"
   },
   {
    "duration": 8,
    "start_time": "2022-08-16T19:23:25.473Z"
   },
   {
    "duration": 19,
    "start_time": "2022-08-16T19:23:25.483Z"
   },
   {
    "duration": 3,
    "start_time": "2022-08-16T19:23:25.504Z"
   },
   {
    "duration": 10,
    "start_time": "2022-08-16T19:23:25.509Z"
   },
   {
    "duration": 5,
    "start_time": "2022-08-16T19:23:25.540Z"
   },
   {
    "duration": 12,
    "start_time": "2022-08-16T19:23:25.546Z"
   },
   {
    "duration": 11,
    "start_time": "2022-08-16T19:23:25.560Z"
   },
   {
    "duration": 28,
    "start_time": "2022-08-16T19:23:25.572Z"
   },
   {
    "duration": 37,
    "start_time": "2022-08-16T19:23:25.602Z"
   },
   {
    "duration": 22,
    "start_time": "2022-08-16T19:23:25.641Z"
   },
   {
    "duration": 27,
    "start_time": "2022-08-16T19:23:25.665Z"
   },
   {
    "duration": 4,
    "start_time": "2022-08-16T19:23:25.694Z"
   },
   {
    "duration": 15,
    "start_time": "2022-08-16T19:23:25.699Z"
   },
   {
    "duration": 22,
    "start_time": "2022-08-16T19:23:25.737Z"
   },
   {
    "duration": 3,
    "start_time": "2022-08-16T19:23:25.761Z"
   },
   {
    "duration": 16,
    "start_time": "2022-08-16T19:23:25.765Z"
   },
   {
    "duration": 20,
    "start_time": "2022-08-16T19:23:25.782Z"
   },
   {
    "duration": 3,
    "start_time": "2022-08-16T19:23:25.804Z"
   },
   {
    "duration": 35,
    "start_time": "2022-08-16T19:23:25.808Z"
   },
   {
    "duration": 19,
    "start_time": "2022-08-16T19:23:25.844Z"
   },
   {
    "duration": 2,
    "start_time": "2022-08-16T19:23:25.865Z"
   },
   {
    "duration": 4,
    "start_time": "2022-08-16T19:23:25.871Z"
   },
   {
    "duration": 9,
    "start_time": "2022-08-16T19:23:25.877Z"
   },
   {
    "duration": 5,
    "start_time": "2022-08-16T19:23:25.888Z"
   },
   {
    "duration": 14,
    "start_time": "2022-08-16T19:23:25.894Z"
   },
   {
    "duration": 3,
    "start_time": "2022-08-16T19:23:25.909Z"
   },
   {
    "duration": 22,
    "start_time": "2022-08-16T19:23:42.508Z"
   },
   {
    "duration": 30,
    "start_time": "2022-08-16T19:25:06.167Z"
   },
   {
    "duration": 34,
    "start_time": "2022-08-16T19:25:10.439Z"
   },
   {
    "duration": 22,
    "start_time": "2022-08-16T19:25:28.155Z"
   },
   {
    "duration": 21,
    "start_time": "2022-08-16T19:25:32.881Z"
   },
   {
    "duration": 25,
    "start_time": "2022-08-16T19:28:31.482Z"
   },
   {
    "duration": 22,
    "start_time": "2022-08-16T19:28:35.334Z"
   },
   {
    "duration": 11,
    "start_time": "2022-08-16T19:28:52.504Z"
   },
   {
    "duration": 13,
    "start_time": "2022-08-16T19:28:59.556Z"
   },
   {
    "duration": 18,
    "start_time": "2022-08-16T19:29:26.084Z"
   },
   {
    "duration": 15,
    "start_time": "2022-08-16T19:29:27.876Z"
   },
   {
    "duration": 4,
    "start_time": "2022-08-16T19:29:44.499Z"
   },
   {
    "duration": 51,
    "start_time": "2022-08-16T19:33:52.139Z"
   },
   {
    "duration": 72,
    "start_time": "2022-08-16T19:36:17.947Z"
   },
   {
    "duration": 3,
    "start_time": "2022-08-17T12:31:43.731Z"
   },
   {
    "duration": 1024,
    "start_time": "2022-08-17T12:31:43.736Z"
   },
   {
    "duration": 897,
    "start_time": "2022-08-17T12:31:44.761Z"
   },
   {
    "duration": 37,
    "start_time": "2022-08-17T12:31:45.660Z"
   },
   {
    "duration": 9,
    "start_time": "2022-08-17T12:31:45.699Z"
   },
   {
    "duration": 25,
    "start_time": "2022-08-17T12:31:45.710Z"
   },
   {
    "duration": 42,
    "start_time": "2022-08-17T12:31:45.736Z"
   },
   {
    "duration": 33,
    "start_time": "2022-08-17T12:31:45.779Z"
   },
   {
    "duration": 7,
    "start_time": "2022-08-17T12:31:45.815Z"
   },
   {
    "duration": 10,
    "start_time": "2022-08-17T12:31:45.824Z"
   },
   {
    "duration": 31,
    "start_time": "2022-08-17T12:31:45.835Z"
   },
   {
    "duration": 5,
    "start_time": "2022-08-17T12:31:45.868Z"
   },
   {
    "duration": 7,
    "start_time": "2022-08-17T12:31:45.874Z"
   },
   {
    "duration": 16,
    "start_time": "2022-08-17T12:31:45.883Z"
   },
   {
    "duration": 14,
    "start_time": "2022-08-17T12:31:45.900Z"
   },
   {
    "duration": 67,
    "start_time": "2022-08-17T12:31:45.915Z"
   },
   {
    "duration": 6,
    "start_time": "2022-08-17T12:31:45.984Z"
   },
   {
    "duration": 13,
    "start_time": "2022-08-17T12:31:45.991Z"
   },
   {
    "duration": 10,
    "start_time": "2022-08-17T12:31:46.005Z"
   },
   {
    "duration": 15,
    "start_time": "2022-08-17T12:31:46.016Z"
   },
   {
    "duration": 6,
    "start_time": "2022-08-17T12:31:46.033Z"
   },
   {
    "duration": 19,
    "start_time": "2022-08-17T12:31:46.040Z"
   },
   {
    "duration": 13,
    "start_time": "2022-08-17T12:31:46.060Z"
   },
   {
    "duration": 43,
    "start_time": "2022-08-17T12:31:46.077Z"
   },
   {
    "duration": 10,
    "start_time": "2022-08-17T12:31:46.121Z"
   },
   {
    "duration": 27,
    "start_time": "2022-08-17T12:31:46.133Z"
   },
   {
    "duration": 161,
    "start_time": "2022-08-17T12:31:46.161Z"
   },
   {
    "duration": 2,
    "start_time": "2022-08-17T12:31:46.324Z"
   },
   {
    "duration": 38,
    "start_time": "2022-08-17T12:31:46.328Z"
   },
   {
    "duration": 9,
    "start_time": "2022-08-17T12:31:46.367Z"
   },
   {
    "duration": 26,
    "start_time": "2022-08-17T12:31:46.378Z"
   },
   {
    "duration": 5,
    "start_time": "2022-08-17T12:31:46.406Z"
   },
   {
    "duration": 11,
    "start_time": "2022-08-17T12:31:46.413Z"
   },
   {
    "duration": 10,
    "start_time": "2022-08-17T12:31:46.425Z"
   },
   {
    "duration": 49,
    "start_time": "2022-08-17T12:31:46.436Z"
   },
   {
    "duration": 2,
    "start_time": "2022-08-17T12:31:46.487Z"
   },
   {
    "duration": 8,
    "start_time": "2022-08-17T12:31:46.490Z"
   },
   {
    "duration": 6,
    "start_time": "2022-08-17T12:31:46.499Z"
   },
   {
    "duration": 80,
    "start_time": "2022-08-17T12:31:46.507Z"
   },
   {
    "duration": 12,
    "start_time": "2022-08-17T12:31:46.589Z"
   },
   {
    "duration": 9,
    "start_time": "2022-08-17T12:31:46.603Z"
   },
   {
    "duration": 3,
    "start_time": "2022-08-17T12:31:46.614Z"
   },
   {
    "duration": 10,
    "start_time": "2022-08-17T12:31:46.619Z"
   },
   {
    "duration": 32,
    "start_time": "2022-08-17T12:31:46.630Z"
   },
   {
    "duration": 6,
    "start_time": "2022-08-17T12:31:46.663Z"
   },
   {
    "duration": 15,
    "start_time": "2022-08-17T12:31:46.671Z"
   },
   {
    "duration": 3,
    "start_time": "2022-08-17T12:31:46.687Z"
   },
   {
    "duration": 9,
    "start_time": "2022-08-17T12:31:46.692Z"
   },
   {
    "duration": 12,
    "start_time": "2022-08-17T12:31:46.702Z"
   },
   {
    "duration": 3,
    "start_time": "2022-08-17T12:31:46.716Z"
   },
   {
    "duration": 11,
    "start_time": "2022-08-17T12:31:46.720Z"
   },
   {
    "duration": 7,
    "start_time": "2022-08-17T12:31:46.732Z"
   },
   {
    "duration": 20,
    "start_time": "2022-08-17T12:31:46.740Z"
   },
   {
    "duration": 5,
    "start_time": "2022-08-17T12:31:46.761Z"
   },
   {
    "duration": 14,
    "start_time": "2022-08-17T12:31:46.767Z"
   },
   {
    "duration": 10,
    "start_time": "2022-08-17T12:31:46.782Z"
   },
   {
    "duration": 4,
    "start_time": "2022-08-17T12:31:46.793Z"
   },
   {
    "duration": 23,
    "start_time": "2022-08-17T12:31:46.798Z"
   },
   {
    "duration": 3,
    "start_time": "2022-08-17T12:31:46.823Z"
   },
   {
    "duration": 40,
    "start_time": "2022-08-17T12:31:46.827Z"
   },
   {
    "duration": 19,
    "start_time": "2022-08-17T12:31:46.868Z"
   },
   {
    "duration": 2,
    "start_time": "2022-08-17T12:31:46.889Z"
   },
   {
    "duration": 15,
    "start_time": "2022-08-17T12:31:46.894Z"
   },
   {
    "duration": 22,
    "start_time": "2022-08-17T12:31:46.911Z"
   },
   {
    "duration": 25,
    "start_time": "2022-08-17T12:31:46.935Z"
   },
   {
    "duration": 14,
    "start_time": "2022-08-17T12:31:46.961Z"
   },
   {
    "duration": 15,
    "start_time": "2022-08-17T12:31:46.977Z"
   },
   {
    "duration": 2,
    "start_time": "2022-08-17T12:31:46.994Z"
   },
   {
    "duration": 2,
    "start_time": "2022-08-17T12:31:47.000Z"
   },
   {
    "duration": 10,
    "start_time": "2022-08-17T12:31:47.003Z"
   },
   {
    "duration": 6,
    "start_time": "2022-08-17T12:31:47.014Z"
   },
   {
    "duration": 6,
    "start_time": "2022-08-17T12:31:47.021Z"
   },
   {
    "duration": 5,
    "start_time": "2022-08-17T12:31:47.028Z"
   },
   {
    "duration": 24,
    "start_time": "2022-08-17T12:31:47.035Z"
   },
   {
    "duration": 12,
    "start_time": "2022-08-17T12:33:41.988Z"
   },
   {
    "duration": 10,
    "start_time": "2022-08-17T12:33:42.500Z"
   },
   {
    "duration": 4,
    "start_time": "2022-08-17T12:33:46.924Z"
   },
   {
    "duration": 11,
    "start_time": "2022-08-17T12:34:02.670Z"
   },
   {
    "duration": 20,
    "start_time": "2022-08-17T12:34:05.107Z"
   },
   {
    "duration": 13,
    "start_time": "2022-08-17T12:34:25.560Z"
   },
   {
    "duration": 17,
    "start_time": "2022-08-17T12:34:36.791Z"
   },
   {
    "duration": 11,
    "start_time": "2022-08-17T12:34:50.003Z"
   },
   {
    "duration": 7,
    "start_time": "2022-08-17T12:34:54.997Z"
   },
   {
    "duration": 3,
    "start_time": "2022-08-17T12:35:10.039Z"
   },
   {
    "duration": 1510,
    "start_time": "2022-08-17T12:35:10.044Z"
   },
   {
    "duration": 1245,
    "start_time": "2022-08-17T12:35:11.555Z"
   },
   {
    "duration": 43,
    "start_time": "2022-08-17T12:35:12.803Z"
   },
   {
    "duration": 12,
    "start_time": "2022-08-17T12:35:12.848Z"
   },
   {
    "duration": 28,
    "start_time": "2022-08-17T12:35:12.861Z"
   },
   {
    "duration": 30,
    "start_time": "2022-08-17T12:35:12.891Z"
   },
   {
    "duration": 47,
    "start_time": "2022-08-17T12:35:12.923Z"
   },
   {
    "duration": 6,
    "start_time": "2022-08-17T12:35:12.972Z"
   },
   {
    "duration": 8,
    "start_time": "2022-08-17T12:35:12.980Z"
   },
   {
    "duration": 8,
    "start_time": "2022-08-17T12:35:12.990Z"
   },
   {
    "duration": 4,
    "start_time": "2022-08-17T12:35:12.999Z"
   },
   {
    "duration": 6,
    "start_time": "2022-08-17T12:35:13.004Z"
   },
   {
    "duration": 14,
    "start_time": "2022-08-17T12:35:13.011Z"
   },
   {
    "duration": 39,
    "start_time": "2022-08-17T12:35:13.026Z"
   },
   {
    "duration": 35,
    "start_time": "2022-08-17T12:35:13.066Z"
   },
   {
    "duration": 6,
    "start_time": "2022-08-17T12:35:13.102Z"
   },
   {
    "duration": 10,
    "start_time": "2022-08-17T12:35:13.109Z"
   },
   {
    "duration": 4,
    "start_time": "2022-08-17T12:35:13.120Z"
   },
   {
    "duration": 8,
    "start_time": "2022-08-17T12:35:13.125Z"
   },
   {
    "duration": 26,
    "start_time": "2022-08-17T12:35:13.134Z"
   },
   {
    "duration": 3,
    "start_time": "2022-08-17T12:35:13.162Z"
   },
   {
    "duration": 11,
    "start_time": "2022-08-17T12:35:13.167Z"
   },
   {
    "duration": 32,
    "start_time": "2022-08-17T12:35:13.181Z"
   },
   {
    "duration": 8,
    "start_time": "2022-08-17T12:35:13.215Z"
   },
   {
    "duration": 45,
    "start_time": "2022-08-17T12:35:13.225Z"
   },
   {
    "duration": 162,
    "start_time": "2022-08-17T12:35:13.271Z"
   },
   {
    "duration": 3,
    "start_time": "2022-08-17T12:35:13.434Z"
   },
   {
    "duration": 33,
    "start_time": "2022-08-17T12:35:13.438Z"
   },
   {
    "duration": 9,
    "start_time": "2022-08-17T12:35:13.472Z"
   },
   {
    "duration": 26,
    "start_time": "2022-08-17T12:35:13.483Z"
   },
   {
    "duration": 5,
    "start_time": "2022-08-17T12:35:13.510Z"
   },
   {
    "duration": 9,
    "start_time": "2022-08-17T12:35:13.516Z"
   },
   {
    "duration": 12,
    "start_time": "2022-08-17T12:35:13.526Z"
   },
   {
    "duration": 50,
    "start_time": "2022-08-17T12:35:13.539Z"
   },
   {
    "duration": 2,
    "start_time": "2022-08-17T12:35:13.590Z"
   },
   {
    "duration": 22,
    "start_time": "2022-08-17T12:35:13.594Z"
   },
   {
    "duration": 6,
    "start_time": "2022-08-17T12:35:13.617Z"
   },
   {
    "duration": 70,
    "start_time": "2022-08-17T12:35:13.624Z"
   },
   {
    "duration": 12,
    "start_time": "2022-08-17T12:35:13.695Z"
   },
   {
    "duration": 9,
    "start_time": "2022-08-17T12:35:13.708Z"
   },
   {
    "duration": 3,
    "start_time": "2022-08-17T12:35:13.718Z"
   },
   {
    "duration": 11,
    "start_time": "2022-08-17T12:35:13.723Z"
   },
   {
    "duration": 28,
    "start_time": "2022-08-17T12:35:13.735Z"
   },
   {
    "duration": 3,
    "start_time": "2022-08-17T12:35:13.764Z"
   },
   {
    "duration": 13,
    "start_time": "2022-08-17T12:35:13.769Z"
   },
   {
    "duration": 3,
    "start_time": "2022-08-17T12:35:13.783Z"
   },
   {
    "duration": 5,
    "start_time": "2022-08-17T12:35:13.787Z"
   },
   {
    "duration": 11,
    "start_time": "2022-08-17T12:35:13.793Z"
   },
   {
    "duration": 2,
    "start_time": "2022-08-17T12:35:13.806Z"
   },
   {
    "duration": 8,
    "start_time": "2022-08-17T12:35:13.809Z"
   },
   {
    "duration": 5,
    "start_time": "2022-08-17T12:35:13.818Z"
   },
   {
    "duration": 9,
    "start_time": "2022-08-17T12:35:13.824Z"
   },
   {
    "duration": 29,
    "start_time": "2022-08-17T12:35:13.834Z"
   },
   {
    "duration": 14,
    "start_time": "2022-08-17T12:35:13.865Z"
   },
   {
    "duration": 10,
    "start_time": "2022-08-17T12:35:13.880Z"
   },
   {
    "duration": 3,
    "start_time": "2022-08-17T12:35:13.891Z"
   },
   {
    "duration": 24,
    "start_time": "2022-08-17T12:35:13.895Z"
   },
   {
    "duration": 3,
    "start_time": "2022-08-17T12:35:13.920Z"
   },
   {
    "duration": 13,
    "start_time": "2022-08-17T12:35:13.924Z"
   },
   {
    "duration": 37,
    "start_time": "2022-08-17T12:35:13.938Z"
   },
   {
    "duration": 2,
    "start_time": "2022-08-17T12:35:13.977Z"
   },
   {
    "duration": 11,
    "start_time": "2022-08-17T12:35:13.980Z"
   },
   {
    "duration": 16,
    "start_time": "2022-08-17T12:35:13.992Z"
   },
   {
    "duration": 3,
    "start_time": "2022-08-17T12:35:14.009Z"
   },
   {
    "duration": 11,
    "start_time": "2022-08-17T12:35:14.013Z"
   },
   {
    "duration": 36,
    "start_time": "2022-08-17T12:35:14.025Z"
   },
   {
    "duration": 3,
    "start_time": "2022-08-17T12:35:14.062Z"
   },
   {
    "duration": 4,
    "start_time": "2022-08-17T12:35:14.068Z"
   },
   {
    "duration": 9,
    "start_time": "2022-08-17T12:35:14.073Z"
   },
   {
    "duration": 3,
    "start_time": "2022-08-17T12:35:14.084Z"
   },
   {
    "duration": 6,
    "start_time": "2022-08-17T12:35:14.088Z"
   },
   {
    "duration": 5,
    "start_time": "2022-08-17T12:35:14.095Z"
   },
   {
    "duration": 5,
    "start_time": "2022-08-17T12:35:14.101Z"
   },
   {
    "duration": 60,
    "start_time": "2022-08-17T14:55:15.751Z"
   },
   {
    "duration": 2,
    "start_time": "2022-08-17T14:55:22.543Z"
   },
   {
    "duration": 1283,
    "start_time": "2022-08-17T14:55:22.547Z"
   },
   {
    "duration": 933,
    "start_time": "2022-08-17T14:55:23.832Z"
   },
   {
    "duration": 47,
    "start_time": "2022-08-17T14:55:24.766Z"
   },
   {
    "duration": 12,
    "start_time": "2022-08-17T14:55:24.815Z"
   },
   {
    "duration": 44,
    "start_time": "2022-08-17T14:55:24.829Z"
   },
   {
    "duration": 34,
    "start_time": "2022-08-17T14:55:24.875Z"
   },
   {
    "duration": 57,
    "start_time": "2022-08-17T14:55:24.911Z"
   },
   {
    "duration": 9,
    "start_time": "2022-08-17T14:55:24.971Z"
   },
   {
    "duration": 18,
    "start_time": "2022-08-17T14:55:24.982Z"
   },
   {
    "duration": 18,
    "start_time": "2022-08-17T14:55:25.002Z"
   },
   {
    "duration": 6,
    "start_time": "2022-08-17T14:55:25.022Z"
   },
   {
    "duration": 5,
    "start_time": "2022-08-17T14:55:25.030Z"
   },
   {
    "duration": 43,
    "start_time": "2022-08-17T14:55:25.037Z"
   },
   {
    "duration": 18,
    "start_time": "2022-08-17T14:55:25.082Z"
   },
   {
    "duration": 39,
    "start_time": "2022-08-17T14:55:25.101Z"
   },
   {
    "duration": 28,
    "start_time": "2022-08-17T14:55:25.142Z"
   },
   {
    "duration": 18,
    "start_time": "2022-08-17T14:55:25.172Z"
   },
   {
    "duration": 6,
    "start_time": "2022-08-17T14:55:25.192Z"
   },
   {
    "duration": 11,
    "start_time": "2022-08-17T14:55:25.199Z"
   },
   {
    "duration": 8,
    "start_time": "2022-08-17T14:55:25.212Z"
   },
   {
    "duration": 7,
    "start_time": "2022-08-17T14:55:25.221Z"
   },
   {
    "duration": 39,
    "start_time": "2022-08-17T14:55:25.229Z"
   },
   {
    "duration": 50,
    "start_time": "2022-08-17T14:55:25.270Z"
   },
   {
    "duration": 10,
    "start_time": "2022-08-17T14:55:25.322Z"
   },
   {
    "duration": 60,
    "start_time": "2022-08-17T14:55:25.334Z"
   },
   {
    "duration": 234,
    "start_time": "2022-08-17T14:55:25.395Z"
   },
   {
    "duration": 3,
    "start_time": "2022-08-17T14:55:25.630Z"
   },
   {
    "duration": 39,
    "start_time": "2022-08-17T14:55:25.636Z"
   },
   {
    "duration": 14,
    "start_time": "2022-08-17T14:55:25.677Z"
   },
   {
    "duration": 35,
    "start_time": "2022-08-17T14:55:25.693Z"
   },
   {
    "duration": 5,
    "start_time": "2022-08-17T14:55:25.730Z"
   },
   {
    "duration": 6,
    "start_time": "2022-08-17T14:55:25.737Z"
   },
   {
    "duration": 18,
    "start_time": "2022-08-17T14:55:25.769Z"
   },
   {
    "duration": 52,
    "start_time": "2022-08-17T14:55:25.790Z"
   },
   {
    "duration": 3,
    "start_time": "2022-08-17T14:55:25.843Z"
   },
   {
    "duration": 24,
    "start_time": "2022-08-17T14:55:25.847Z"
   },
   {
    "duration": 16,
    "start_time": "2022-08-17T14:55:25.873Z"
   },
   {
    "duration": 93,
    "start_time": "2022-08-17T14:55:25.892Z"
   },
   {
    "duration": 16,
    "start_time": "2022-08-17T14:55:25.987Z"
   },
   {
    "duration": 13,
    "start_time": "2022-08-17T14:55:26.005Z"
   },
   {
    "duration": 4,
    "start_time": "2022-08-17T14:55:26.020Z"
   },
   {
    "duration": 12,
    "start_time": "2022-08-17T14:55:26.025Z"
   },
   {
    "duration": 37,
    "start_time": "2022-08-17T14:55:26.039Z"
   },
   {
    "duration": 8,
    "start_time": "2022-08-17T14:55:26.079Z"
   },
   {
    "duration": 22,
    "start_time": "2022-08-17T14:55:26.090Z"
   },
   {
    "duration": 4,
    "start_time": "2022-08-17T14:55:26.114Z"
   },
   {
    "duration": 6,
    "start_time": "2022-08-17T14:55:26.120Z"
   },
   {
    "duration": 14,
    "start_time": "2022-08-17T14:55:26.128Z"
   },
   {
    "duration": 4,
    "start_time": "2022-08-17T14:55:26.168Z"
   },
   {
    "duration": 13,
    "start_time": "2022-08-17T14:55:26.173Z"
   },
   {
    "duration": 9,
    "start_time": "2022-08-17T14:55:26.188Z"
   },
   {
    "duration": 8,
    "start_time": "2022-08-17T14:55:26.199Z"
   },
   {
    "duration": 6,
    "start_time": "2022-08-17T14:55:26.209Z"
   },
   {
    "duration": 18,
    "start_time": "2022-08-17T14:55:26.216Z"
   },
   {
    "duration": 40,
    "start_time": "2022-08-17T14:55:26.235Z"
   },
   {
    "duration": 5,
    "start_time": "2022-08-17T14:55:26.277Z"
   },
   {
    "duration": 30,
    "start_time": "2022-08-17T14:55:26.285Z"
   },
   {
    "duration": 4,
    "start_time": "2022-08-17T14:55:26.317Z"
   },
   {
    "duration": 15,
    "start_time": "2022-08-17T14:55:26.322Z"
   },
   {
    "duration": 52,
    "start_time": "2022-08-17T14:55:26.339Z"
   },
   {
    "duration": 4,
    "start_time": "2022-08-17T14:55:26.392Z"
   },
   {
    "duration": 14,
    "start_time": "2022-08-17T14:55:26.398Z"
   },
   {
    "duration": 21,
    "start_time": "2022-08-17T14:55:26.413Z"
   },
   {
    "duration": 3,
    "start_time": "2022-08-17T14:55:26.436Z"
   },
   {
    "duration": 21,
    "start_time": "2022-08-17T14:55:26.469Z"
   },
   {
    "duration": 45,
    "start_time": "2022-08-17T14:55:26.492Z"
   },
   {
    "duration": 4,
    "start_time": "2022-08-17T14:55:26.542Z"
   },
   {
    "duration": 12,
    "start_time": "2022-08-17T14:55:26.549Z"
   },
   {
    "duration": 78,
    "start_time": "2022-08-17T14:55:26.563Z"
   },
   {
    "duration": 92,
    "start_time": "2022-08-17T14:55:26.644Z"
   },
   {
    "duration": 64,
    "start_time": "2022-08-17T14:55:26.738Z"
   },
   {
    "duration": 12,
    "start_time": "2022-08-17T14:55:26.804Z"
   },
   {
    "duration": 9,
    "start_time": "2022-08-17T14:55:26.818Z"
   },
   {
    "duration": 19,
    "start_time": "2022-08-17T14:55:59.194Z"
   },
   {
    "duration": 67,
    "start_time": "2022-08-17T14:56:18.914Z"
   },
   {
    "duration": 145,
    "start_time": "2022-08-17T14:56:57.505Z"
   },
   {
    "duration": 147,
    "start_time": "2022-08-17T14:57:07.450Z"
   },
   {
    "duration": 147,
    "start_time": "2022-08-17T14:57:20.171Z"
   },
   {
    "duration": 132,
    "start_time": "2022-08-17T14:57:28.904Z"
   },
   {
    "duration": 134,
    "start_time": "2022-08-17T14:58:41.608Z"
   },
   {
    "duration": 18,
    "start_time": "2022-08-17T14:59:20.042Z"
   },
   {
    "duration": 144,
    "start_time": "2022-08-17T14:59:38.215Z"
   },
   {
    "duration": 26,
    "start_time": "2022-08-17T15:00:01.026Z"
   },
   {
    "duration": 22,
    "start_time": "2022-08-17T15:00:07.369Z"
   },
   {
    "duration": 149,
    "start_time": "2022-08-17T15:00:39.698Z"
   },
   {
    "duration": 134,
    "start_time": "2022-08-17T15:00:52.895Z"
   },
   {
    "duration": 215,
    "start_time": "2022-08-17T15:00:58.956Z"
   },
   {
    "duration": 118,
    "start_time": "2022-08-17T15:03:13.080Z"
   },
   {
    "duration": 8,
    "start_time": "2022-08-17T15:26:18.615Z"
   },
   {
    "duration": 9,
    "start_time": "2022-08-17T15:27:56.645Z"
   },
   {
    "duration": 29,
    "start_time": "2022-08-17T15:29:58.896Z"
   },
   {
    "duration": 4,
    "start_time": "2022-08-17T15:30:20.835Z"
   },
   {
    "duration": 18,
    "start_time": "2022-08-17T15:30:58.055Z"
   },
   {
    "duration": 15,
    "start_time": "2022-08-17T15:31:22.435Z"
   },
   {
    "duration": 5,
    "start_time": "2022-08-17T15:31:23.925Z"
   },
   {
    "duration": 1599,
    "start_time": "2022-08-17T15:31:34.085Z"
   },
   {
    "duration": 15,
    "start_time": "2022-08-17T15:32:19.715Z"
   },
   {
    "duration": 3,
    "start_time": "2022-08-17T15:33:51.806Z"
   },
   {
    "duration": 16,
    "start_time": "2022-08-17T15:41:10.601Z"
   },
   {
    "duration": 4,
    "start_time": "2022-08-17T15:41:12.051Z"
   },
   {
    "duration": 17,
    "start_time": "2022-08-17T15:41:16.433Z"
   },
   {
    "duration": 3,
    "start_time": "2022-08-17T15:41:24.461Z"
   },
   {
    "duration": 14,
    "start_time": "2022-08-17T15:41:24.469Z"
   },
   {
    "duration": 782,
    "start_time": "2022-08-17T15:41:24.485Z"
   },
   {
    "duration": 56,
    "start_time": "2022-08-17T15:41:25.269Z"
   },
   {
    "duration": 12,
    "start_time": "2022-08-17T15:41:25.327Z"
   },
   {
    "duration": 58,
    "start_time": "2022-08-17T15:41:25.341Z"
   },
   {
    "duration": 35,
    "start_time": "2022-08-17T15:41:25.401Z"
   },
   {
    "duration": 56,
    "start_time": "2022-08-17T15:41:25.438Z"
   },
   {
    "duration": 10,
    "start_time": "2022-08-17T15:41:25.496Z"
   },
   {
    "duration": 15,
    "start_time": "2022-08-17T15:41:25.508Z"
   },
   {
    "duration": 11,
    "start_time": "2022-08-17T15:41:25.524Z"
   },
   {
    "duration": 35,
    "start_time": "2022-08-17T15:41:25.537Z"
   },
   {
    "duration": 16,
    "start_time": "2022-08-17T15:41:25.574Z"
   },
   {
    "duration": 140,
    "start_time": "2022-08-17T15:41:25.593Z"
   },
   {
    "duration": 14,
    "start_time": "2022-08-17T15:41:25.736Z"
   },
   {
    "duration": 139,
    "start_time": "2022-08-17T15:41:25.752Z"
   },
   {
    "duration": 46,
    "start_time": "2022-08-17T15:41:25.893Z"
   },
   {
    "duration": 27,
    "start_time": "2022-08-17T15:41:25.942Z"
   },
   {
    "duration": 19,
    "start_time": "2022-08-17T15:41:25.972Z"
   },
   {
    "duration": 9,
    "start_time": "2022-08-17T15:41:25.993Z"
   },
   {
    "duration": 10,
    "start_time": "2022-08-17T15:41:26.003Z"
   },
   {
    "duration": 10,
    "start_time": "2022-08-17T15:41:26.015Z"
   },
   {
    "duration": 6,
    "start_time": "2022-08-17T15:41:26.026Z"
   },
   {
    "duration": 41,
    "start_time": "2022-08-17T15:41:26.034Z"
   },
   {
    "duration": 50,
    "start_time": "2022-08-17T15:41:26.077Z"
   },
   {
    "duration": 12,
    "start_time": "2022-08-17T15:41:26.129Z"
   },
   {
    "duration": 52,
    "start_time": "2022-08-17T15:41:26.143Z"
   },
   {
    "duration": 217,
    "start_time": "2022-08-17T15:41:26.197Z"
   },
   {
    "duration": 2,
    "start_time": "2022-08-17T15:41:26.416Z"
   },
   {
    "duration": 30,
    "start_time": "2022-08-17T15:41:26.420Z"
   },
   {
    "duration": 32,
    "start_time": "2022-08-17T15:41:26.452Z"
   },
   {
    "duration": 41,
    "start_time": "2022-08-17T15:41:26.492Z"
   },
   {
    "duration": 8,
    "start_time": "2022-08-17T15:41:26.536Z"
   },
   {
    "duration": 8,
    "start_time": "2022-08-17T15:41:26.547Z"
   },
   {
    "duration": 42,
    "start_time": "2022-08-17T15:41:26.558Z"
   },
   {
    "duration": 83,
    "start_time": "2022-08-17T15:41:26.602Z"
   },
   {
    "duration": 8,
    "start_time": "2022-08-17T15:41:26.687Z"
   },
   {
    "duration": 33,
    "start_time": "2022-08-17T15:41:26.697Z"
   },
   {
    "duration": 18,
    "start_time": "2022-08-17T15:41:26.733Z"
   },
   {
    "duration": 144,
    "start_time": "2022-08-17T15:41:26.753Z"
   },
   {
    "duration": 21,
    "start_time": "2022-08-17T15:41:26.900Z"
   },
   {
    "duration": 20,
    "start_time": "2022-08-17T15:41:26.928Z"
   },
   {
    "duration": 6,
    "start_time": "2022-08-17T15:41:26.970Z"
   },
   {
    "duration": 24,
    "start_time": "2022-08-17T15:41:26.978Z"
   },
   {
    "duration": 11,
    "start_time": "2022-08-17T15:41:27.004Z"
   },
   {
    "duration": 14,
    "start_time": "2022-08-17T15:41:27.017Z"
   },
   {
    "duration": 11,
    "start_time": "2022-08-17T15:41:27.033Z"
   },
   {
    "duration": 34,
    "start_time": "2022-08-17T15:41:27.046Z"
   },
   {
    "duration": 27,
    "start_time": "2022-08-17T15:41:27.082Z"
   },
   {
    "duration": 9,
    "start_time": "2022-08-17T15:41:27.111Z"
   },
   {
    "duration": 25,
    "start_time": "2022-08-17T15:41:27.123Z"
   },
   {
    "duration": 9,
    "start_time": "2022-08-17T15:41:27.150Z"
   },
   {
    "duration": 23,
    "start_time": "2022-08-17T15:41:27.161Z"
   },
   {
    "duration": 1424,
    "start_time": "2022-08-17T15:41:27.187Z"
   },
   {
    "duration": 0,
    "start_time": "2022-08-17T15:41:28.614Z"
   },
   {
    "duration": 0,
    "start_time": "2022-08-17T15:41:28.615Z"
   },
   {
    "duration": 0,
    "start_time": "2022-08-17T15:41:28.616Z"
   },
   {
    "duration": 0,
    "start_time": "2022-08-17T15:41:28.618Z"
   },
   {
    "duration": 0,
    "start_time": "2022-08-17T15:41:28.619Z"
   },
   {
    "duration": 0,
    "start_time": "2022-08-17T15:41:28.620Z"
   },
   {
    "duration": 0,
    "start_time": "2022-08-17T15:41:28.621Z"
   },
   {
    "duration": 0,
    "start_time": "2022-08-17T15:41:28.623Z"
   },
   {
    "duration": 0,
    "start_time": "2022-08-17T15:41:28.624Z"
   },
   {
    "duration": 0,
    "start_time": "2022-08-17T15:41:28.625Z"
   },
   {
    "duration": 0,
    "start_time": "2022-08-17T15:41:28.626Z"
   },
   {
    "duration": 0,
    "start_time": "2022-08-17T15:41:28.627Z"
   },
   {
    "duration": 0,
    "start_time": "2022-08-17T15:41:28.628Z"
   },
   {
    "duration": 0,
    "start_time": "2022-08-17T15:41:28.630Z"
   },
   {
    "duration": 0,
    "start_time": "2022-08-17T15:41:28.631Z"
   },
   {
    "duration": 0,
    "start_time": "2022-08-17T15:41:28.632Z"
   },
   {
    "duration": 0,
    "start_time": "2022-08-17T15:41:28.633Z"
   },
   {
    "duration": 0,
    "start_time": "2022-08-17T15:41:28.634Z"
   },
   {
    "duration": 0,
    "start_time": "2022-08-17T15:41:28.636Z"
   },
   {
    "duration": 0,
    "start_time": "2022-08-17T15:41:28.637Z"
   },
   {
    "duration": 0,
    "start_time": "2022-08-17T15:41:28.638Z"
   },
   {
    "duration": 0,
    "start_time": "2022-08-17T15:41:28.639Z"
   },
   {
    "duration": 0,
    "start_time": "2022-08-17T15:41:28.640Z"
   },
   {
    "duration": 0,
    "start_time": "2022-08-17T15:41:28.641Z"
   },
   {
    "duration": 0,
    "start_time": "2022-08-17T15:41:28.642Z"
   },
   {
    "duration": 0,
    "start_time": "2022-08-17T15:41:28.643Z"
   },
   {
    "duration": 4,
    "start_time": "2022-08-17T15:41:43.091Z"
   },
   {
    "duration": 1258,
    "start_time": "2022-08-17T15:41:43.111Z"
   },
   {
    "duration": 816,
    "start_time": "2022-08-17T15:41:44.372Z"
   },
   {
    "duration": 48,
    "start_time": "2022-08-17T15:41:45.190Z"
   },
   {
    "duration": 29,
    "start_time": "2022-08-17T15:41:45.239Z"
   },
   {
    "duration": 39,
    "start_time": "2022-08-17T15:41:45.272Z"
   },
   {
    "duration": 37,
    "start_time": "2022-08-17T15:41:45.313Z"
   },
   {
    "duration": 66,
    "start_time": "2022-08-17T15:41:45.353Z"
   },
   {
    "duration": 11,
    "start_time": "2022-08-17T15:41:45.420Z"
   },
   {
    "duration": 13,
    "start_time": "2022-08-17T15:41:45.434Z"
   },
   {
    "duration": 20,
    "start_time": "2022-08-17T15:41:45.469Z"
   },
   {
    "duration": 14,
    "start_time": "2022-08-17T15:41:45.491Z"
   },
   {
    "duration": 13,
    "start_time": "2022-08-17T15:41:45.506Z"
   },
   {
    "duration": 164,
    "start_time": "2022-08-17T15:41:45.521Z"
   },
   {
    "duration": 14,
    "start_time": "2022-08-17T15:41:45.690Z"
   },
   {
    "duration": 147,
    "start_time": "2022-08-17T15:41:45.706Z"
   },
   {
    "duration": 53,
    "start_time": "2022-08-17T15:41:45.854Z"
   },
   {
    "duration": 7,
    "start_time": "2022-08-17T15:41:45.909Z"
   },
   {
    "duration": 16,
    "start_time": "2022-08-17T15:41:45.917Z"
   },
   {
    "duration": 6,
    "start_time": "2022-08-17T15:41:45.934Z"
   },
   {
    "duration": 39,
    "start_time": "2022-08-17T15:41:45.941Z"
   },
   {
    "duration": 9,
    "start_time": "2022-08-17T15:41:45.984Z"
   },
   {
    "duration": 10,
    "start_time": "2022-08-17T15:41:45.995Z"
   },
   {
    "duration": 13,
    "start_time": "2022-08-17T15:41:46.007Z"
   },
   {
    "duration": 74,
    "start_time": "2022-08-17T15:41:46.022Z"
   },
   {
    "duration": 12,
    "start_time": "2022-08-17T15:41:46.098Z"
   },
   {
    "duration": 39,
    "start_time": "2022-08-17T15:41:46.112Z"
   },
   {
    "duration": 232,
    "start_time": "2022-08-17T15:41:46.152Z"
   },
   {
    "duration": 3,
    "start_time": "2022-08-17T15:41:46.387Z"
   },
   {
    "duration": 35,
    "start_time": "2022-08-17T15:41:46.392Z"
   },
   {
    "duration": 11,
    "start_time": "2022-08-17T15:41:46.429Z"
   },
   {
    "duration": 76,
    "start_time": "2022-08-17T15:41:46.442Z"
   },
   {
    "duration": 9,
    "start_time": "2022-08-17T15:41:46.519Z"
   },
   {
    "duration": 19,
    "start_time": "2022-08-17T15:41:46.530Z"
   },
   {
    "duration": 17,
    "start_time": "2022-08-17T15:41:46.552Z"
   },
   {
    "duration": 76,
    "start_time": "2022-08-17T15:41:46.572Z"
   },
   {
    "duration": 3,
    "start_time": "2022-08-17T15:41:46.649Z"
   },
   {
    "duration": 24,
    "start_time": "2022-08-17T15:41:46.654Z"
   },
   {
    "duration": 47,
    "start_time": "2022-08-17T15:41:46.688Z"
   },
   {
    "duration": 111,
    "start_time": "2022-08-17T15:41:46.737Z"
   },
   {
    "duration": 47,
    "start_time": "2022-08-17T15:41:46.851Z"
   },
   {
    "duration": 18,
    "start_time": "2022-08-17T15:41:46.904Z"
   },
   {
    "duration": 7,
    "start_time": "2022-08-17T15:41:46.924Z"
   },
   {
    "duration": 18,
    "start_time": "2022-08-17T15:41:46.933Z"
   },
   {
    "duration": 9,
    "start_time": "2022-08-17T15:41:46.970Z"
   },
   {
    "duration": 14,
    "start_time": "2022-08-17T15:41:46.984Z"
   },
   {
    "duration": 11,
    "start_time": "2022-08-17T15:41:47.000Z"
   },
   {
    "duration": 11,
    "start_time": "2022-08-17T15:41:47.013Z"
   },
   {
    "duration": 11,
    "start_time": "2022-08-17T15:41:47.026Z"
   },
   {
    "duration": 6,
    "start_time": "2022-08-17T15:41:47.039Z"
   },
   {
    "duration": 18,
    "start_time": "2022-08-17T15:41:47.068Z"
   },
   {
    "duration": 7,
    "start_time": "2022-08-17T15:41:47.088Z"
   },
   {
    "duration": 19,
    "start_time": "2022-08-17T15:41:47.097Z"
   },
   {
    "duration": 1579,
    "start_time": "2022-08-17T15:41:47.118Z"
   },
   {
    "duration": 0,
    "start_time": "2022-08-17T15:41:48.699Z"
   },
   {
    "duration": 0,
    "start_time": "2022-08-17T15:41:48.701Z"
   },
   {
    "duration": 0,
    "start_time": "2022-08-17T15:41:48.701Z"
   },
   {
    "duration": 0,
    "start_time": "2022-08-17T15:41:48.703Z"
   },
   {
    "duration": 0,
    "start_time": "2022-08-17T15:41:48.704Z"
   },
   {
    "duration": 0,
    "start_time": "2022-08-17T15:41:48.705Z"
   },
   {
    "duration": 0,
    "start_time": "2022-08-17T15:41:48.706Z"
   },
   {
    "duration": 0,
    "start_time": "2022-08-17T15:41:48.707Z"
   },
   {
    "duration": 0,
    "start_time": "2022-08-17T15:41:48.708Z"
   },
   {
    "duration": 0,
    "start_time": "2022-08-17T15:41:48.709Z"
   },
   {
    "duration": 0,
    "start_time": "2022-08-17T15:41:48.709Z"
   },
   {
    "duration": 0,
    "start_time": "2022-08-17T15:41:48.710Z"
   },
   {
    "duration": 0,
    "start_time": "2022-08-17T15:41:48.711Z"
   },
   {
    "duration": 0,
    "start_time": "2022-08-17T15:41:48.712Z"
   },
   {
    "duration": 0,
    "start_time": "2022-08-17T15:41:48.714Z"
   },
   {
    "duration": 0,
    "start_time": "2022-08-17T15:41:48.716Z"
   },
   {
    "duration": 0,
    "start_time": "2022-08-17T15:41:48.717Z"
   },
   {
    "duration": 0,
    "start_time": "2022-08-17T15:41:48.718Z"
   },
   {
    "duration": 0,
    "start_time": "2022-08-17T15:41:48.720Z"
   },
   {
    "duration": 0,
    "start_time": "2022-08-17T15:41:48.721Z"
   },
   {
    "duration": 0,
    "start_time": "2022-08-17T15:41:48.722Z"
   },
   {
    "duration": 0,
    "start_time": "2022-08-17T15:41:48.724Z"
   },
   {
    "duration": 0,
    "start_time": "2022-08-17T15:41:48.725Z"
   },
   {
    "duration": 0,
    "start_time": "2022-08-17T15:41:48.727Z"
   },
   {
    "duration": 0,
    "start_time": "2022-08-17T15:41:48.728Z"
   },
   {
    "duration": 0,
    "start_time": "2022-08-17T15:41:48.729Z"
   },
   {
    "duration": 4,
    "start_time": "2022-08-17T15:42:41.683Z"
   },
   {
    "duration": 1280,
    "start_time": "2022-08-17T15:42:41.690Z"
   },
   {
    "duration": 690,
    "start_time": "2022-08-17T15:42:42.972Z"
   },
   {
    "duration": 78,
    "start_time": "2022-08-17T15:42:43.664Z"
   },
   {
    "duration": 14,
    "start_time": "2022-08-17T15:42:43.745Z"
   },
   {
    "duration": 45,
    "start_time": "2022-08-17T15:42:43.762Z"
   },
   {
    "duration": 34,
    "start_time": "2022-08-17T15:42:43.809Z"
   },
   {
    "duration": 59,
    "start_time": "2022-08-17T15:42:43.845Z"
   },
   {
    "duration": 9,
    "start_time": "2022-08-17T15:42:43.906Z"
   },
   {
    "duration": 15,
    "start_time": "2022-08-17T15:42:43.916Z"
   },
   {
    "duration": 39,
    "start_time": "2022-08-17T15:42:43.933Z"
   },
   {
    "duration": 8,
    "start_time": "2022-08-17T15:42:43.974Z"
   },
   {
    "duration": 18,
    "start_time": "2022-08-17T15:42:43.984Z"
   },
   {
    "duration": 174,
    "start_time": "2022-08-17T15:42:44.007Z"
   },
   {
    "duration": 17,
    "start_time": "2022-08-17T15:42:44.183Z"
   },
   {
    "duration": 146,
    "start_time": "2022-08-17T15:42:44.201Z"
   },
   {
    "duration": 57,
    "start_time": "2022-08-17T15:42:44.349Z"
   },
   {
    "duration": 9,
    "start_time": "2022-08-17T15:42:44.408Z"
   },
   {
    "duration": 18,
    "start_time": "2022-08-17T15:42:44.419Z"
   },
   {
    "duration": 6,
    "start_time": "2022-08-17T15:42:44.439Z"
   },
   {
    "duration": 16,
    "start_time": "2022-08-17T15:42:44.475Z"
   },
   {
    "duration": 8,
    "start_time": "2022-08-17T15:42:44.494Z"
   },
   {
    "duration": 11,
    "start_time": "2022-08-17T15:42:44.504Z"
   },
   {
    "duration": 11,
    "start_time": "2022-08-17T15:42:44.517Z"
   },
   {
    "duration": 57,
    "start_time": "2022-08-17T15:42:44.530Z"
   },
   {
    "duration": 13,
    "start_time": "2022-08-17T15:42:44.591Z"
   },
   {
    "duration": 40,
    "start_time": "2022-08-17T15:42:44.606Z"
   },
   {
    "duration": 236,
    "start_time": "2022-08-17T15:42:44.648Z"
   },
   {
    "duration": 5,
    "start_time": "2022-08-17T15:42:44.886Z"
   },
   {
    "duration": 35,
    "start_time": "2022-08-17T15:42:44.893Z"
   },
   {
    "duration": 11,
    "start_time": "2022-08-17T15:42:44.930Z"
   },
   {
    "duration": 56,
    "start_time": "2022-08-17T15:42:44.942Z"
   },
   {
    "duration": 6,
    "start_time": "2022-08-17T15:42:45.000Z"
   },
   {
    "duration": 21,
    "start_time": "2022-08-17T15:42:45.008Z"
   },
   {
    "duration": 18,
    "start_time": "2022-08-17T15:42:45.031Z"
   },
   {
    "duration": 56,
    "start_time": "2022-08-17T15:42:45.051Z"
   },
   {
    "duration": 3,
    "start_time": "2022-08-17T15:42:45.109Z"
   },
   {
    "duration": 10,
    "start_time": "2022-08-17T15:42:45.113Z"
   },
   {
    "duration": 11,
    "start_time": "2022-08-17T15:42:45.125Z"
   },
   {
    "duration": 102,
    "start_time": "2022-08-17T15:42:45.139Z"
   },
   {
    "duration": 24,
    "start_time": "2022-08-17T15:42:45.246Z"
   },
   {
    "duration": 19,
    "start_time": "2022-08-17T15:42:45.273Z"
   },
   {
    "duration": 4,
    "start_time": "2022-08-17T15:42:45.294Z"
   },
   {
    "duration": 13,
    "start_time": "2022-08-17T15:42:45.300Z"
   },
   {
    "duration": 10,
    "start_time": "2022-08-17T15:42:45.315Z"
   },
   {
    "duration": 5,
    "start_time": "2022-08-17T15:42:45.326Z"
   },
   {
    "duration": 10,
    "start_time": "2022-08-17T15:42:45.368Z"
   },
   {
    "duration": 12,
    "start_time": "2022-08-17T15:42:45.380Z"
   },
   {
    "duration": 11,
    "start_time": "2022-08-17T15:42:45.393Z"
   },
   {
    "duration": 6,
    "start_time": "2022-08-17T15:42:45.406Z"
   },
   {
    "duration": 18,
    "start_time": "2022-08-17T15:42:45.413Z"
   },
   {
    "duration": 36,
    "start_time": "2022-08-17T15:42:45.432Z"
   },
   {
    "duration": 19,
    "start_time": "2022-08-17T15:42:45.470Z"
   },
   {
    "duration": 1566,
    "start_time": "2022-08-17T15:42:45.491Z"
   },
   {
    "duration": 0,
    "start_time": "2022-08-17T15:42:47.059Z"
   },
   {
    "duration": 1,
    "start_time": "2022-08-17T15:42:47.060Z"
   },
   {
    "duration": 0,
    "start_time": "2022-08-17T15:42:47.063Z"
   },
   {
    "duration": 0,
    "start_time": "2022-08-17T15:42:47.064Z"
   },
   {
    "duration": 0,
    "start_time": "2022-08-17T15:42:47.065Z"
   },
   {
    "duration": 0,
    "start_time": "2022-08-17T15:42:47.067Z"
   },
   {
    "duration": 0,
    "start_time": "2022-08-17T15:42:47.068Z"
   },
   {
    "duration": 0,
    "start_time": "2022-08-17T15:42:47.070Z"
   },
   {
    "duration": 0,
    "start_time": "2022-08-17T15:42:47.078Z"
   },
   {
    "duration": 0,
    "start_time": "2022-08-17T15:42:47.080Z"
   },
   {
    "duration": 0,
    "start_time": "2022-08-17T15:42:47.081Z"
   },
   {
    "duration": 0,
    "start_time": "2022-08-17T15:42:47.082Z"
   },
   {
    "duration": 0,
    "start_time": "2022-08-17T15:42:47.084Z"
   },
   {
    "duration": 0,
    "start_time": "2022-08-17T15:42:47.085Z"
   },
   {
    "duration": 0,
    "start_time": "2022-08-17T15:42:47.086Z"
   },
   {
    "duration": 0,
    "start_time": "2022-08-17T15:42:47.087Z"
   },
   {
    "duration": 0,
    "start_time": "2022-08-17T15:42:47.089Z"
   },
   {
    "duration": 0,
    "start_time": "2022-08-17T15:42:47.090Z"
   },
   {
    "duration": 0,
    "start_time": "2022-08-17T15:42:47.092Z"
   },
   {
    "duration": 0,
    "start_time": "2022-08-17T15:42:47.093Z"
   },
   {
    "duration": 0,
    "start_time": "2022-08-17T15:42:47.094Z"
   },
   {
    "duration": 0,
    "start_time": "2022-08-17T15:42:47.095Z"
   },
   {
    "duration": 0,
    "start_time": "2022-08-17T15:42:47.095Z"
   },
   {
    "duration": 0,
    "start_time": "2022-08-17T15:42:47.098Z"
   },
   {
    "duration": 0,
    "start_time": "2022-08-17T15:42:47.099Z"
   },
   {
    "duration": 0,
    "start_time": "2022-08-17T15:42:47.100Z"
   },
   {
    "duration": 18,
    "start_time": "2022-08-17T15:43:18.491Z"
   },
   {
    "duration": 5,
    "start_time": "2022-08-17T15:43:19.721Z"
   },
   {
    "duration": 17,
    "start_time": "2022-08-17T15:43:20.881Z"
   },
   {
    "duration": 4,
    "start_time": "2022-08-17T15:43:26.379Z"
   },
   {
    "duration": 12,
    "start_time": "2022-08-17T15:43:31.251Z"
   },
   {
    "duration": 3,
    "start_time": "2022-08-17T15:43:35.841Z"
   },
   {
    "duration": 11,
    "start_time": "2022-08-17T15:43:39.041Z"
   },
   {
    "duration": 6,
    "start_time": "2022-08-17T15:43:52.856Z"
   },
   {
    "duration": 7,
    "start_time": "2022-08-17T15:43:54.514Z"
   },
   {
    "duration": 3,
    "start_time": "2022-08-17T15:44:04.398Z"
   },
   {
    "duration": 4,
    "start_time": "2022-08-17T15:44:04.407Z"
   },
   {
    "duration": 868,
    "start_time": "2022-08-17T15:44:04.414Z"
   },
   {
    "duration": 49,
    "start_time": "2022-08-17T15:44:05.284Z"
   },
   {
    "duration": 11,
    "start_time": "2022-08-17T15:44:05.335Z"
   },
   {
    "duration": 54,
    "start_time": "2022-08-17T15:44:05.348Z"
   },
   {
    "duration": 34,
    "start_time": "2022-08-17T15:44:05.404Z"
   },
   {
    "duration": 59,
    "start_time": "2022-08-17T15:44:05.440Z"
   },
   {
    "duration": 9,
    "start_time": "2022-08-17T15:44:05.501Z"
   },
   {
    "duration": 16,
    "start_time": "2022-08-17T15:44:05.512Z"
   },
   {
    "duration": 13,
    "start_time": "2022-08-17T15:44:05.531Z"
   },
   {
    "duration": 8,
    "start_time": "2022-08-17T15:44:05.569Z"
   },
   {
    "duration": 7,
    "start_time": "2022-08-17T15:44:05.579Z"
   },
   {
    "duration": 165,
    "start_time": "2022-08-17T15:44:05.588Z"
   },
   {
    "duration": 23,
    "start_time": "2022-08-17T15:44:05.756Z"
   },
   {
    "duration": 141,
    "start_time": "2022-08-17T15:44:05.781Z"
   },
   {
    "duration": 56,
    "start_time": "2022-08-17T15:44:05.924Z"
   },
   {
    "duration": 11,
    "start_time": "2022-08-17T15:44:05.982Z"
   },
   {
    "duration": 14,
    "start_time": "2022-08-17T15:44:05.995Z"
   },
   {
    "duration": 6,
    "start_time": "2022-08-17T15:44:06.011Z"
   },
   {
    "duration": 15,
    "start_time": "2022-08-17T15:44:06.018Z"
   },
   {
    "duration": 36,
    "start_time": "2022-08-17T15:44:06.034Z"
   },
   {
    "duration": 6,
    "start_time": "2022-08-17T15:44:06.072Z"
   },
   {
    "duration": 18,
    "start_time": "2022-08-17T15:44:06.080Z"
   },
   {
    "duration": 55,
    "start_time": "2022-08-17T15:44:06.100Z"
   },
   {
    "duration": 26,
    "start_time": "2022-08-17T15:44:06.157Z"
   },
   {
    "duration": 40,
    "start_time": "2022-08-17T15:44:06.185Z"
   },
   {
    "duration": 223,
    "start_time": "2022-08-17T15:44:06.228Z"
   },
   {
    "duration": 2,
    "start_time": "2022-08-17T15:44:06.453Z"
   },
   {
    "duration": 66,
    "start_time": "2022-08-17T15:44:06.469Z"
   },
   {
    "duration": 16,
    "start_time": "2022-08-17T15:44:06.540Z"
   },
   {
    "duration": 33,
    "start_time": "2022-08-17T15:44:06.558Z"
   },
   {
    "duration": 17,
    "start_time": "2022-08-17T15:44:06.592Z"
   },
   {
    "duration": 11,
    "start_time": "2022-08-17T15:44:06.612Z"
   },
   {
    "duration": 23,
    "start_time": "2022-08-17T15:44:06.625Z"
   },
   {
    "duration": 65,
    "start_time": "2022-08-17T15:44:06.651Z"
   },
   {
    "duration": 4,
    "start_time": "2022-08-17T15:44:06.719Z"
   },
   {
    "duration": 18,
    "start_time": "2022-08-17T15:44:06.726Z"
   },
   {
    "duration": 61,
    "start_time": "2022-08-17T15:44:06.746Z"
   },
   {
    "duration": 136,
    "start_time": "2022-08-17T15:44:06.809Z"
   },
   {
    "duration": 25,
    "start_time": "2022-08-17T15:44:06.948Z"
   },
   {
    "duration": 78,
    "start_time": "2022-08-17T15:44:06.979Z"
   },
   {
    "duration": 46,
    "start_time": "2022-08-17T15:44:07.060Z"
   },
   {
    "duration": 31,
    "start_time": "2022-08-17T15:44:07.108Z"
   },
   {
    "duration": 24,
    "start_time": "2022-08-17T15:44:07.141Z"
   },
   {
    "duration": 8,
    "start_time": "2022-08-17T15:44:07.167Z"
   },
   {
    "duration": 22,
    "start_time": "2022-08-17T15:44:07.177Z"
   },
   {
    "duration": 16,
    "start_time": "2022-08-17T15:44:07.201Z"
   },
   {
    "duration": 11,
    "start_time": "2022-08-17T15:44:07.219Z"
   },
   {
    "duration": 8,
    "start_time": "2022-08-17T15:44:07.232Z"
   },
   {
    "duration": 34,
    "start_time": "2022-08-17T15:44:07.241Z"
   },
   {
    "duration": 5,
    "start_time": "2022-08-17T15:44:07.278Z"
   },
   {
    "duration": 29,
    "start_time": "2022-08-17T15:44:07.285Z"
   },
   {
    "duration": 10,
    "start_time": "2022-08-17T15:44:07.316Z"
   },
   {
    "duration": 23,
    "start_time": "2022-08-17T15:44:07.328Z"
   },
   {
    "duration": 19,
    "start_time": "2022-08-17T15:44:07.353Z"
   },
   {
    "duration": 10,
    "start_time": "2022-08-17T15:44:07.374Z"
   },
   {
    "duration": 12,
    "start_time": "2022-08-17T15:44:07.386Z"
   },
   {
    "duration": 14,
    "start_time": "2022-08-17T15:44:07.401Z"
   },
   {
    "duration": 6,
    "start_time": "2022-08-17T15:44:07.417Z"
   },
   {
    "duration": 45,
    "start_time": "2022-08-17T15:44:07.425Z"
   },
   {
    "duration": 27,
    "start_time": "2022-08-17T15:44:07.472Z"
   },
   {
    "duration": 9,
    "start_time": "2022-08-17T15:44:07.501Z"
   },
   {
    "duration": 40,
    "start_time": "2022-08-17T15:44:07.512Z"
   },
   {
    "duration": 22,
    "start_time": "2022-08-17T15:44:07.554Z"
   },
   {
    "duration": 23,
    "start_time": "2022-08-17T15:44:07.578Z"
   },
   {
    "duration": 32,
    "start_time": "2022-08-17T15:44:07.603Z"
   },
   {
    "duration": 3,
    "start_time": "2022-08-17T15:44:07.637Z"
   },
   {
    "duration": 26,
    "start_time": "2022-08-17T15:44:07.642Z"
   },
   {
    "duration": 28,
    "start_time": "2022-08-17T15:44:07.670Z"
   },
   {
    "duration": 3,
    "start_time": "2022-08-17T15:44:07.700Z"
   },
   {
    "duration": 16,
    "start_time": "2022-08-17T15:44:07.705Z"
   },
   {
    "duration": 45,
    "start_time": "2022-08-17T15:44:07.723Z"
   },
   {
    "duration": 7,
    "start_time": "2022-08-17T15:44:07.770Z"
   },
   {
    "duration": 19,
    "start_time": "2022-08-17T15:44:07.778Z"
   },
   {
    "duration": 16,
    "start_time": "2022-08-17T15:44:07.799Z"
   },
   {
    "duration": 5,
    "start_time": "2022-08-17T15:44:07.817Z"
   },
   {
    "duration": 11,
    "start_time": "2022-08-17T15:44:07.824Z"
   },
   {
    "duration": 6,
    "start_time": "2022-08-17T15:44:07.837Z"
   },
   {
    "duration": 6,
    "start_time": "2022-08-17T15:44:07.844Z"
   },
   {
    "duration": 3,
    "start_time": "2022-08-17T15:44:25.120Z"
   },
   {
    "duration": 3,
    "start_time": "2022-08-17T15:44:38.671Z"
   },
   {
    "duration": 3,
    "start_time": "2022-08-17T15:44:39.630Z"
   },
   {
    "duration": 76,
    "start_time": "2022-08-17T15:45:17.639Z"
   },
   {
    "duration": 10,
    "start_time": "2022-08-17T15:47:05.428Z"
   },
   {
    "duration": 5,
    "start_time": "2022-08-17T15:47:11.526Z"
   },
   {
    "duration": 7,
    "start_time": "2022-08-17T15:47:12.824Z"
   },
   {
    "duration": 7,
    "start_time": "2022-08-17T15:47:16.806Z"
   },
   {
    "duration": 31,
    "start_time": "2022-08-17T15:48:22.756Z"
   },
   {
    "duration": 315,
    "start_time": "2022-08-17T15:50:00.253Z"
   },
   {
    "duration": 8,
    "start_time": "2022-08-17T15:50:26.183Z"
   },
   {
    "duration": 3,
    "start_time": "2022-08-17T15:50:33.813Z"
   },
   {
    "duration": 3,
    "start_time": "2022-08-17T15:50:38.712Z"
   },
   {
    "duration": 9,
    "start_time": "2022-08-17T15:50:38.718Z"
   },
   {
    "duration": 854,
    "start_time": "2022-08-17T15:50:38.728Z"
   },
   {
    "duration": 51,
    "start_time": "2022-08-17T15:50:39.585Z"
   },
   {
    "duration": 11,
    "start_time": "2022-08-17T15:50:39.638Z"
   },
   {
    "duration": 36,
    "start_time": "2022-08-17T15:50:39.669Z"
   },
   {
    "duration": 38,
    "start_time": "2022-08-17T15:50:39.707Z"
   },
   {
    "duration": 55,
    "start_time": "2022-08-17T15:50:39.747Z"
   },
   {
    "duration": 9,
    "start_time": "2022-08-17T15:50:39.803Z"
   },
   {
    "duration": 10,
    "start_time": "2022-08-17T15:50:39.815Z"
   },
   {
    "duration": 11,
    "start_time": "2022-08-17T15:50:39.827Z"
   },
   {
    "duration": 30,
    "start_time": "2022-08-17T15:50:39.839Z"
   },
   {
    "duration": 7,
    "start_time": "2022-08-17T15:50:39.872Z"
   },
   {
    "duration": 165,
    "start_time": "2022-08-17T15:50:39.881Z"
   },
   {
    "duration": 23,
    "start_time": "2022-08-17T15:50:40.047Z"
   },
   {
    "duration": 150,
    "start_time": "2022-08-17T15:50:40.072Z"
   },
   {
    "duration": 70,
    "start_time": "2022-08-17T15:50:40.225Z"
   },
   {
    "duration": 7,
    "start_time": "2022-08-17T15:50:40.297Z"
   },
   {
    "duration": 16,
    "start_time": "2022-08-17T15:50:40.306Z"
   },
   {
    "duration": 7,
    "start_time": "2022-08-17T15:50:40.324Z"
   },
   {
    "duration": 11,
    "start_time": "2022-08-17T15:50:40.333Z"
   },
   {
    "duration": 42,
    "start_time": "2022-08-17T15:50:40.346Z"
   },
   {
    "duration": 10,
    "start_time": "2022-08-17T15:50:40.391Z"
   },
   {
    "duration": 15,
    "start_time": "2022-08-17T15:50:40.403Z"
   },
   {
    "duration": 52,
    "start_time": "2022-08-17T15:50:40.420Z"
   },
   {
    "duration": 18,
    "start_time": "2022-08-17T15:50:40.474Z"
   },
   {
    "duration": 45,
    "start_time": "2022-08-17T15:50:40.494Z"
   },
   {
    "duration": 219,
    "start_time": "2022-08-17T15:50:40.543Z"
   },
   {
    "duration": 6,
    "start_time": "2022-08-17T15:50:40.764Z"
   },
   {
    "duration": 49,
    "start_time": "2022-08-17T15:50:40.773Z"
   },
   {
    "duration": 10,
    "start_time": "2022-08-17T15:50:40.823Z"
   },
   {
    "duration": 11,
    "start_time": "2022-08-17T15:50:40.835Z"
   },
   {
    "duration": 6,
    "start_time": "2022-08-17T15:50:40.848Z"
   },
   {
    "duration": 10,
    "start_time": "2022-08-17T15:50:40.856Z"
   },
   {
    "duration": 19,
    "start_time": "2022-08-17T15:50:40.868Z"
   },
   {
    "duration": 61,
    "start_time": "2022-08-17T15:50:40.889Z"
   },
   {
    "duration": 3,
    "start_time": "2022-08-17T15:50:40.952Z"
   },
   {
    "duration": 22,
    "start_time": "2022-08-17T15:50:40.956Z"
   },
   {
    "duration": 13,
    "start_time": "2022-08-17T15:50:40.980Z"
   },
   {
    "duration": 108,
    "start_time": "2022-08-17T15:50:40.995Z"
   },
   {
    "duration": 15,
    "start_time": "2022-08-17T15:50:41.105Z"
   },
   {
    "duration": 13,
    "start_time": "2022-08-17T15:50:41.122Z"
   },
   {
    "duration": 6,
    "start_time": "2022-08-17T15:50:41.137Z"
   },
   {
    "duration": 34,
    "start_time": "2022-08-17T15:50:41.145Z"
   },
   {
    "duration": 9,
    "start_time": "2022-08-17T15:50:41.181Z"
   },
   {
    "duration": 10,
    "start_time": "2022-08-17T15:50:41.191Z"
   },
   {
    "duration": 13,
    "start_time": "2022-08-17T15:50:41.203Z"
   },
   {
    "duration": 16,
    "start_time": "2022-08-17T15:50:41.218Z"
   },
   {
    "duration": 23,
    "start_time": "2022-08-17T15:50:41.236Z"
   },
   {
    "duration": 12,
    "start_time": "2022-08-17T15:50:41.261Z"
   },
   {
    "duration": 33,
    "start_time": "2022-08-17T15:50:41.275Z"
   },
   {
    "duration": 18,
    "start_time": "2022-08-17T15:50:41.313Z"
   },
   {
    "duration": 20,
    "start_time": "2022-08-17T15:50:41.333Z"
   },
   {
    "duration": 5,
    "start_time": "2022-08-17T15:50:41.355Z"
   },
   {
    "duration": 21,
    "start_time": "2022-08-17T15:50:41.362Z"
   },
   {
    "duration": 5,
    "start_time": "2022-08-17T15:50:41.386Z"
   },
   {
    "duration": 17,
    "start_time": "2022-08-17T15:50:41.393Z"
   },
   {
    "duration": 8,
    "start_time": "2022-08-17T15:50:41.411Z"
   },
   {
    "duration": 18,
    "start_time": "2022-08-17T15:50:41.421Z"
   },
   {
    "duration": 9,
    "start_time": "2022-08-17T15:50:41.441Z"
   },
   {
    "duration": 34,
    "start_time": "2022-08-17T15:50:41.452Z"
   },
   {
    "duration": 6,
    "start_time": "2022-08-17T15:50:41.489Z"
   },
   {
    "duration": 44,
    "start_time": "2022-08-17T15:50:41.497Z"
   },
   {
    "duration": 4,
    "start_time": "2022-08-17T15:50:41.543Z"
   },
   {
    "duration": 333,
    "start_time": "2022-08-17T15:50:41.550Z"
   },
   {
    "duration": 0,
    "start_time": "2022-08-17T15:50:41.884Z"
   },
   {
    "duration": 0,
    "start_time": "2022-08-17T15:50:41.885Z"
   },
   {
    "duration": 0,
    "start_time": "2022-08-17T15:50:41.887Z"
   },
   {
    "duration": 0,
    "start_time": "2022-08-17T15:50:41.888Z"
   },
   {
    "duration": 0,
    "start_time": "2022-08-17T15:50:41.889Z"
   },
   {
    "duration": 0,
    "start_time": "2022-08-17T15:50:41.890Z"
   },
   {
    "duration": 0,
    "start_time": "2022-08-17T15:50:41.891Z"
   },
   {
    "duration": 0,
    "start_time": "2022-08-17T15:50:41.892Z"
   },
   {
    "duration": 0,
    "start_time": "2022-08-17T15:50:41.893Z"
   },
   {
    "duration": 0,
    "start_time": "2022-08-17T15:50:41.894Z"
   },
   {
    "duration": 0,
    "start_time": "2022-08-17T15:50:41.895Z"
   },
   {
    "duration": 0,
    "start_time": "2022-08-17T15:50:41.896Z"
   },
   {
    "duration": 0,
    "start_time": "2022-08-17T15:50:41.897Z"
   },
   {
    "duration": 0,
    "start_time": "2022-08-17T15:50:41.898Z"
   },
   {
    "duration": 0,
    "start_time": "2022-08-17T15:50:41.899Z"
   },
   {
    "duration": 0,
    "start_time": "2022-08-17T15:50:41.900Z"
   },
   {
    "duration": 22,
    "start_time": "2022-08-17T15:51:42.514Z"
   },
   {
    "duration": 5,
    "start_time": "2022-08-17T15:52:44.096Z"
   },
   {
    "duration": 1225,
    "start_time": "2022-08-17T15:52:44.110Z"
   },
   {
    "duration": 1002,
    "start_time": "2022-08-17T15:52:45.338Z"
   },
   {
    "duration": 54,
    "start_time": "2022-08-17T15:52:46.342Z"
   },
   {
    "duration": 17,
    "start_time": "2022-08-17T15:52:46.398Z"
   },
   {
    "duration": 30,
    "start_time": "2022-08-17T15:52:46.417Z"
   },
   {
    "duration": 73,
    "start_time": "2022-08-17T15:52:46.448Z"
   },
   {
    "duration": 61,
    "start_time": "2022-08-17T15:52:46.523Z"
   },
   {
    "duration": 13,
    "start_time": "2022-08-17T15:52:46.587Z"
   },
   {
    "duration": 26,
    "start_time": "2022-08-17T15:52:46.602Z"
   },
   {
    "duration": 25,
    "start_time": "2022-08-17T15:52:46.630Z"
   },
   {
    "duration": 13,
    "start_time": "2022-08-17T15:52:46.658Z"
   },
   {
    "duration": 64,
    "start_time": "2022-08-17T15:52:46.673Z"
   },
   {
    "duration": 209,
    "start_time": "2022-08-17T15:52:46.740Z"
   },
   {
    "duration": 45,
    "start_time": "2022-08-17T15:52:46.954Z"
   },
   {
    "duration": 160,
    "start_time": "2022-08-17T15:52:47.002Z"
   },
   {
    "duration": 61,
    "start_time": "2022-08-17T15:52:47.164Z"
   },
   {
    "duration": 7,
    "start_time": "2022-08-17T15:52:47.227Z"
   },
   {
    "duration": 52,
    "start_time": "2022-08-17T15:52:47.236Z"
   },
   {
    "duration": 10,
    "start_time": "2022-08-17T15:52:47.289Z"
   },
   {
    "duration": 17,
    "start_time": "2022-08-17T15:52:47.301Z"
   },
   {
    "duration": 9,
    "start_time": "2022-08-17T15:52:47.320Z"
   },
   {
    "duration": 7,
    "start_time": "2022-08-17T15:52:47.330Z"
   },
   {
    "duration": 12,
    "start_time": "2022-08-17T15:52:47.338Z"
   },
   {
    "duration": 54,
    "start_time": "2022-08-17T15:52:47.351Z"
   },
   {
    "duration": 12,
    "start_time": "2022-08-17T15:52:47.407Z"
   },
   {
    "duration": 54,
    "start_time": "2022-08-17T15:52:47.420Z"
   },
   {
    "duration": 231,
    "start_time": "2022-08-17T15:52:47.479Z"
   },
   {
    "duration": 3,
    "start_time": "2022-08-17T15:52:47.712Z"
   },
   {
    "duration": 35,
    "start_time": "2022-08-17T15:52:47.717Z"
   },
   {
    "duration": 14,
    "start_time": "2022-08-17T15:52:47.771Z"
   },
   {
    "duration": 18,
    "start_time": "2022-08-17T15:52:47.788Z"
   },
   {
    "duration": 6,
    "start_time": "2022-08-17T15:52:47.808Z"
   },
   {
    "duration": 6,
    "start_time": "2022-08-17T15:52:47.815Z"
   },
   {
    "duration": 14,
    "start_time": "2022-08-17T15:52:47.822Z"
   },
   {
    "duration": 77,
    "start_time": "2022-08-17T15:52:47.838Z"
   },
   {
    "duration": 3,
    "start_time": "2022-08-17T15:52:47.917Z"
   },
   {
    "duration": 12,
    "start_time": "2022-08-17T15:52:47.921Z"
   },
   {
    "duration": 10,
    "start_time": "2022-08-17T15:52:47.935Z"
   },
   {
    "duration": 108,
    "start_time": "2022-08-17T15:52:47.947Z"
   },
   {
    "duration": 20,
    "start_time": "2022-08-17T15:52:48.057Z"
   },
   {
    "duration": 29,
    "start_time": "2022-08-17T15:52:48.086Z"
   },
   {
    "duration": 5,
    "start_time": "2022-08-17T15:52:48.117Z"
   },
   {
    "duration": 13,
    "start_time": "2022-08-17T15:52:48.124Z"
   },
   {
    "duration": 9,
    "start_time": "2022-08-17T15:52:48.139Z"
   },
   {
    "duration": 33,
    "start_time": "2022-08-17T15:52:48.150Z"
   },
   {
    "duration": 22,
    "start_time": "2022-08-17T15:52:48.185Z"
   },
   {
    "duration": 8,
    "start_time": "2022-08-17T15:52:48.209Z"
   },
   {
    "duration": 11,
    "start_time": "2022-08-17T15:52:48.219Z"
   },
   {
    "duration": 5,
    "start_time": "2022-08-17T15:52:48.232Z"
   },
   {
    "duration": 19,
    "start_time": "2022-08-17T15:52:48.239Z"
   },
   {
    "duration": 27,
    "start_time": "2022-08-17T15:52:48.260Z"
   },
   {
    "duration": 26,
    "start_time": "2022-08-17T15:52:48.291Z"
   },
   {
    "duration": 6,
    "start_time": "2022-08-17T15:52:48.319Z"
   },
   {
    "duration": 17,
    "start_time": "2022-08-17T15:52:48.327Z"
   },
   {
    "duration": 4,
    "start_time": "2022-08-17T15:52:48.346Z"
   },
   {
    "duration": 13,
    "start_time": "2022-08-17T15:52:48.352Z"
   },
   {
    "duration": 38,
    "start_time": "2022-08-17T15:52:48.366Z"
   },
   {
    "duration": 10,
    "start_time": "2022-08-17T15:52:48.405Z"
   },
   {
    "duration": 7,
    "start_time": "2022-08-17T15:52:48.417Z"
   },
   {
    "duration": 22,
    "start_time": "2022-08-17T15:52:48.427Z"
   },
   {
    "duration": 41,
    "start_time": "2022-08-17T15:52:48.451Z"
   },
   {
    "duration": 3,
    "start_time": "2022-08-17T15:52:48.495Z"
   },
   {
    "duration": 26,
    "start_time": "2022-08-17T15:52:48.501Z"
   },
   {
    "duration": 13,
    "start_time": "2022-08-17T15:52:48.529Z"
   },
   {
    "duration": 47,
    "start_time": "2022-08-17T15:52:48.544Z"
   },
   {
    "duration": 4,
    "start_time": "2022-08-17T15:52:48.597Z"
   },
   {
    "duration": 506,
    "start_time": "2022-08-17T15:52:48.603Z"
   },
   {
    "duration": 0,
    "start_time": "2022-08-17T15:52:49.111Z"
   },
   {
    "duration": 0,
    "start_time": "2022-08-17T15:52:49.113Z"
   },
   {
    "duration": 0,
    "start_time": "2022-08-17T15:52:49.114Z"
   },
   {
    "duration": 0,
    "start_time": "2022-08-17T15:52:49.116Z"
   },
   {
    "duration": 0,
    "start_time": "2022-08-17T15:52:49.118Z"
   },
   {
    "duration": 0,
    "start_time": "2022-08-17T15:52:49.119Z"
   },
   {
    "duration": 0,
    "start_time": "2022-08-17T15:52:49.121Z"
   },
   {
    "duration": 0,
    "start_time": "2022-08-17T15:52:49.122Z"
   },
   {
    "duration": 0,
    "start_time": "2022-08-17T15:52:49.124Z"
   },
   {
    "duration": 0,
    "start_time": "2022-08-17T15:52:49.125Z"
   },
   {
    "duration": 0,
    "start_time": "2022-08-17T15:52:49.126Z"
   },
   {
    "duration": 0,
    "start_time": "2022-08-17T15:52:49.128Z"
   },
   {
    "duration": 17,
    "start_time": "2022-08-17T15:53:16.197Z"
   },
   {
    "duration": 4,
    "start_time": "2022-08-17T15:54:19.008Z"
   },
   {
    "duration": 20,
    "start_time": "2022-08-17T15:54:21.590Z"
   },
   {
    "duration": 5,
    "start_time": "2022-08-17T15:54:32.636Z"
   },
   {
    "duration": 4,
    "start_time": "2022-08-17T15:54:39.037Z"
   },
   {
    "duration": 7,
    "start_time": "2022-08-17T15:54:48.194Z"
   },
   {
    "duration": 7,
    "start_time": "2022-08-17T15:55:06.394Z"
   },
   {
    "duration": 30,
    "start_time": "2022-08-17T15:55:49.776Z"
   },
   {
    "duration": 4,
    "start_time": "2022-08-17T15:55:51.615Z"
   },
   {
    "duration": 2,
    "start_time": "2022-08-17T15:56:00.494Z"
   },
   {
    "duration": 4,
    "start_time": "2022-08-17T15:56:41.993Z"
   },
   {
    "duration": 12,
    "start_time": "2022-08-17T15:56:49.596Z"
   },
   {
    "duration": 11,
    "start_time": "2022-08-17T15:57:32.794Z"
   },
   {
    "duration": 12,
    "start_time": "2022-08-17T15:57:37.036Z"
   },
   {
    "duration": 33,
    "start_time": "2022-08-17T15:57:38.766Z"
   },
   {
    "duration": 19,
    "start_time": "2022-08-17T15:57:40.406Z"
   },
   {
    "duration": 6,
    "start_time": "2022-08-17T15:57:43.178Z"
   },
   {
    "duration": 7,
    "start_time": "2022-08-17T15:57:53.290Z"
   },
   {
    "duration": 19,
    "start_time": "2022-08-17T15:58:45.278Z"
   },
   {
    "duration": 27,
    "start_time": "2022-08-17T15:58:46.259Z"
   },
   {
    "duration": 14,
    "start_time": "2022-08-17T15:58:47.635Z"
   },
   {
    "duration": 3,
    "start_time": "2022-08-17T15:58:50.126Z"
   },
   {
    "duration": 5,
    "start_time": "2022-08-17T15:59:01.195Z"
   },
   {
    "duration": 6,
    "start_time": "2022-08-17T16:01:00.291Z"
   },
   {
    "duration": 3,
    "start_time": "2022-08-17T16:01:02.053Z"
   },
   {
    "duration": 4,
    "start_time": "2022-08-17T16:01:14.725Z"
   },
   {
    "duration": 10,
    "start_time": "2022-08-17T16:02:05.595Z"
   },
   {
    "duration": 18,
    "start_time": "2022-08-17T16:02:06.864Z"
   },
   {
    "duration": 5,
    "start_time": "2022-08-17T16:02:08.054Z"
   },
   {
    "duration": 137,
    "start_time": "2022-08-17T16:03:06.616Z"
   },
   {
    "duration": 11,
    "start_time": "2022-08-17T16:03:19.561Z"
   },
   {
    "duration": 8,
    "start_time": "2022-08-17T16:04:30.698Z"
   },
   {
    "duration": 7,
    "start_time": "2022-08-17T16:04:39.722Z"
   },
   {
    "duration": 5,
    "start_time": "2022-08-17T16:07:42.659Z"
   },
   {
    "duration": 6,
    "start_time": "2022-08-17T16:07:44.034Z"
   },
   {
    "duration": 4,
    "start_time": "2022-08-17T16:07:45.009Z"
   },
   {
    "duration": 6,
    "start_time": "2022-08-17T16:08:26.423Z"
   },
   {
    "duration": 61,
    "start_time": "2022-08-18T04:30:01.450Z"
   },
   {
    "duration": 3,
    "start_time": "2022-08-18T04:30:05.216Z"
   },
   {
    "duration": 1237,
    "start_time": "2022-08-18T04:30:05.225Z"
   },
   {
    "duration": 656,
    "start_time": "2022-08-18T04:30:06.464Z"
   },
   {
    "duration": 44,
    "start_time": "2022-08-18T04:30:07.122Z"
   },
   {
    "duration": 20,
    "start_time": "2022-08-18T04:30:07.167Z"
   },
   {
    "duration": 62,
    "start_time": "2022-08-18T04:30:07.189Z"
   },
   {
    "duration": 66,
    "start_time": "2022-08-18T04:30:07.252Z"
   },
   {
    "duration": 42,
    "start_time": "2022-08-18T04:30:07.320Z"
   },
   {
    "duration": 22,
    "start_time": "2022-08-18T04:30:07.364Z"
   },
   {
    "duration": 23,
    "start_time": "2022-08-18T04:30:07.388Z"
   },
   {
    "duration": 34,
    "start_time": "2022-08-18T04:30:07.412Z"
   },
   {
    "duration": 22,
    "start_time": "2022-08-18T04:30:07.447Z"
   },
   {
    "duration": 36,
    "start_time": "2022-08-18T04:30:07.470Z"
   },
   {
    "duration": 170,
    "start_time": "2022-08-18T04:30:07.508Z"
   },
   {
    "duration": 5,
    "start_time": "2022-08-18T04:30:07.681Z"
   },
   {
    "duration": 21,
    "start_time": "2022-08-18T04:30:07.688Z"
   },
   {
    "duration": 117,
    "start_time": "2022-08-18T04:30:07.710Z"
   },
   {
    "duration": 40,
    "start_time": "2022-08-18T04:30:07.830Z"
   },
   {
    "duration": 6,
    "start_time": "2022-08-18T04:30:07.872Z"
   },
   {
    "duration": 35,
    "start_time": "2022-08-18T04:30:07.879Z"
   },
   {
    "duration": 12,
    "start_time": "2022-08-18T04:30:07.915Z"
   },
   {
    "duration": 24,
    "start_time": "2022-08-18T04:30:07.929Z"
   },
   {
    "duration": 21,
    "start_time": "2022-08-18T04:30:07.955Z"
   },
   {
    "duration": 23,
    "start_time": "2022-08-18T04:30:07.977Z"
   },
   {
    "duration": 14,
    "start_time": "2022-08-18T04:30:08.001Z"
   },
   {
    "duration": 47,
    "start_time": "2022-08-18T04:30:08.017Z"
   },
   {
    "duration": 11,
    "start_time": "2022-08-18T04:30:08.065Z"
   },
   {
    "duration": 36,
    "start_time": "2022-08-18T04:30:08.077Z"
   },
   {
    "duration": 196,
    "start_time": "2022-08-18T04:30:08.114Z"
   },
   {
    "duration": 3,
    "start_time": "2022-08-18T04:30:08.312Z"
   },
   {
    "duration": 41,
    "start_time": "2022-08-18T04:30:08.316Z"
   },
   {
    "duration": 11,
    "start_time": "2022-08-18T04:30:08.359Z"
   },
   {
    "duration": 10,
    "start_time": "2022-08-18T04:30:08.371Z"
   },
   {
    "duration": 13,
    "start_time": "2022-08-18T04:30:08.383Z"
   },
   {
    "duration": 21,
    "start_time": "2022-08-18T04:30:08.397Z"
   },
   {
    "duration": 33,
    "start_time": "2022-08-18T04:30:08.419Z"
   },
   {
    "duration": 99,
    "start_time": "2022-08-18T04:30:08.454Z"
   },
   {
    "duration": 3,
    "start_time": "2022-08-18T04:30:08.555Z"
   },
   {
    "duration": 21,
    "start_time": "2022-08-18T04:30:08.560Z"
   },
   {
    "duration": 13,
    "start_time": "2022-08-18T04:30:08.583Z"
   },
   {
    "duration": 80,
    "start_time": "2022-08-18T04:30:08.598Z"
   },
   {
    "duration": 21,
    "start_time": "2022-08-18T04:30:08.683Z"
   },
   {
    "duration": 12,
    "start_time": "2022-08-18T04:30:08.706Z"
   },
   {
    "duration": 20,
    "start_time": "2022-08-18T04:30:08.719Z"
   },
   {
    "duration": 37,
    "start_time": "2022-08-18T04:30:08.740Z"
   },
   {
    "duration": 18,
    "start_time": "2022-08-18T04:30:08.778Z"
   },
   {
    "duration": 30,
    "start_time": "2022-08-18T04:30:08.797Z"
   },
   {
    "duration": 30,
    "start_time": "2022-08-18T04:30:08.828Z"
   },
   {
    "duration": 28,
    "start_time": "2022-08-18T04:30:08.860Z"
   },
   {
    "duration": 28,
    "start_time": "2022-08-18T04:30:08.890Z"
   },
   {
    "duration": 25,
    "start_time": "2022-08-18T04:30:08.919Z"
   },
   {
    "duration": 38,
    "start_time": "2022-08-18T04:30:08.946Z"
   },
   {
    "duration": 9,
    "start_time": "2022-08-18T04:30:08.986Z"
   },
   {
    "duration": 34,
    "start_time": "2022-08-18T04:30:08.997Z"
   },
   {
    "duration": 19,
    "start_time": "2022-08-18T04:30:09.033Z"
   },
   {
    "duration": 34,
    "start_time": "2022-08-18T04:30:09.054Z"
   },
   {
    "duration": 25,
    "start_time": "2022-08-18T04:30:09.090Z"
   },
   {
    "duration": 25,
    "start_time": "2022-08-18T04:30:09.117Z"
   },
   {
    "duration": 11,
    "start_time": "2022-08-18T04:30:09.144Z"
   },
   {
    "duration": 14,
    "start_time": "2022-08-18T04:30:09.157Z"
   },
   {
    "duration": 8,
    "start_time": "2022-08-18T04:30:09.173Z"
   },
   {
    "duration": 16,
    "start_time": "2022-08-18T04:30:09.182Z"
   },
   {
    "duration": 27,
    "start_time": "2022-08-18T04:30:09.200Z"
   },
   {
    "duration": 14,
    "start_time": "2022-08-18T04:30:09.229Z"
   },
   {
    "duration": 5,
    "start_time": "2022-08-18T04:30:09.245Z"
   },
   {
    "duration": 25,
    "start_time": "2022-08-18T04:30:09.252Z"
   },
   {
    "duration": 22,
    "start_time": "2022-08-18T04:30:09.279Z"
   },
   {
    "duration": 3,
    "start_time": "2022-08-18T04:30:09.303Z"
   },
   {
    "duration": 15,
    "start_time": "2022-08-18T04:30:09.307Z"
   },
   {
    "duration": 18,
    "start_time": "2022-08-18T04:30:09.323Z"
   },
   {
    "duration": 21,
    "start_time": "2022-08-18T04:30:09.343Z"
   },
   {
    "duration": 14,
    "start_time": "2022-08-18T04:30:09.366Z"
   },
   {
    "duration": 19,
    "start_time": "2022-08-18T04:30:09.381Z"
   },
   {
    "duration": 3,
    "start_time": "2022-08-18T04:30:09.402Z"
   },
   {
    "duration": 17,
    "start_time": "2022-08-18T04:30:09.407Z"
   },
   {
    "duration": 19,
    "start_time": "2022-08-18T04:30:09.426Z"
   },
   {
    "duration": 10,
    "start_time": "2022-08-18T04:30:09.447Z"
   },
   {
    "duration": 2,
    "start_time": "2022-08-18T04:30:09.459Z"
   },
   {
    "duration": 10,
    "start_time": "2022-08-18T04:30:09.462Z"
   },
   {
    "duration": 35,
    "start_time": "2022-08-18T04:30:09.473Z"
   },
   {
    "duration": 18,
    "start_time": "2022-08-18T04:30:09.510Z"
   },
   {
    "duration": 11,
    "start_time": "2022-08-18T04:30:09.530Z"
   },
   {
    "duration": 11,
    "start_time": "2022-08-18T04:30:09.543Z"
   },
   {
    "duration": 8,
    "start_time": "2022-08-18T04:30:09.556Z"
   },
   {
    "duration": 19,
    "start_time": "2022-08-18T04:30:09.565Z"
   },
   {
    "duration": 3,
    "start_time": "2022-08-18T04:30:09.585Z"
   },
   {
    "duration": 16,
    "start_time": "2022-08-18T04:30:09.589Z"
   },
   {
    "duration": 10,
    "start_time": "2022-08-18T04:30:09.607Z"
   },
   {
    "duration": 4,
    "start_time": "2022-08-18T04:30:09.618Z"
   },
   {
    "duration": 8,
    "start_time": "2022-08-18T04:30:09.623Z"
   },
   {
    "duration": 8,
    "start_time": "2022-08-18T04:30:09.632Z"
   },
   {
    "duration": 6,
    "start_time": "2022-08-18T04:30:09.641Z"
   },
   {
    "duration": 4,
    "start_time": "2022-08-18T04:31:13.627Z"
   },
   {
    "duration": 24,
    "start_time": "2022-08-18T04:38:06.586Z"
   },
   {
    "duration": 204,
    "start_time": "2022-08-18T04:38:13.554Z"
   },
   {
    "duration": 194,
    "start_time": "2022-08-18T04:39:02.449Z"
   },
   {
    "duration": 2,
    "start_time": "2022-08-18T05:07:47.031Z"
   }
  ],
  "kernelspec": {
   "display_name": "Python 3 (ipykernel)",
   "language": "python",
   "name": "python3"
  },
  "language_info": {
   "codemirror_mode": {
    "name": "ipython",
    "version": 3
   },
   "file_extension": ".py",
   "mimetype": "text/x-python",
   "name": "python",
   "nbconvert_exporter": "python",
   "pygments_lexer": "ipython3",
   "version": "3.9.12"
  },
  "toc": {
   "base_numbering": 1,
   "nav_menu": {},
   "number_sections": true,
   "sideBar": true,
   "skip_h1_title": true,
   "title_cell": "Структура проекта",
   "title_sidebar": "Contents",
   "toc_cell": true,
   "toc_position": {
    "height": "calc(100% - 180px)",
    "left": "10px",
    "top": "150px",
    "width": "315.014px"
   },
   "toc_section_display": true,
   "toc_window_display": true
  }
 },
 "nbformat": 4,
 "nbformat_minor": 2
}
