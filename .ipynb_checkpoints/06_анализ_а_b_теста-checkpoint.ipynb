{
 "cells": [
  {
   "cell_type": "markdown",
   "metadata": {},
   "source": [
    "**Структура проекта:**\n",
    "    \n",
    "<a href='#1'><h5>1. Загрузка и предобработка данных </a>\n",
    "<h5>2. Приоритезация гипотез\n",
    "<a href='#2'><h5>2.1 Применение фреймворк ICE </a>\n",
    "<a href='#3'><h5>2.2 Применение фреймворк RICE </a>   \n",
    "<a href='#4'><h5>3. Анализ A/B-теста </a>\n",
    "<a href='#5'><h5>4. Принятие решения. Итоги анализа </a>"
   ]
  },
  {
   "cell_type": "markdown",
   "metadata": {},
   "source": [
    "**Проект \"Приоритизация гипотез\". Приоритизация гипотез по увеличению продаж.**\n",
    "\n",
    "Нам предстоит провести приоритизация гипотез по увеличению продаж выдвинутых совместно с отделом маркетинга.\n",
    "**Главная цель проекта** - принять решение о целесообразности дальнейшего проведения теста.\n",
    "\n",
    "**Часть 1. Загрузка данных.**\n",
    "\n",
    "\n",
    "**Часть 2. Приоритизация гипотез.**\n",
    "\n",
    "В файле hypothesis.csv 9 гипотез по увеличению выручки интернет-магазина \n",
    "с указанными параметрами Reach, Impact, Confidence, Effort.\n",
    "\n",
    "- Применим фреймворк ICE для приоритизации гипотез.\n",
    "- Применим фреймворк RICE для приоритизации гипотез.\n",
    "- Покажем, как изменилась приоритизация гипотез при применении RICE вместо ICE. Почему так произошло?\n",
    "\n",
    "**Часть 3. Анализ A/B-теста**\n",
    "\n",
    "На основе полученных результатов проанализируем A/B-тест:\n",
    "- [x] Построим график кумулятивной выручки по группам. Сделаем выводы и предположения.\n",
    "- [x] Построим график кумулятивного среднего чека по группам. Сделаем выводы и предположения.\n",
    "- [x] Построим график относительного изменения кумулятивного среднего чека группы B к группе A. Сделаем выводы и предположения.\n",
    "- [x] Построим график кумулятивной конверсии по группам. Сделаем выводы и предположения.\n",
    "- [x] Построим график относительного изменения кумулятивной конверсии группы B к группе A. Сделаем выводы и предположения.\n",
    "- [x] Построим точечный график количества заказов по пользователям. Сделаем выводы и предположения.\n",
    "- [x] Посчитаем 95-й и 99-й перцентили количества заказов на пользователя. Выберите границу для определения аномальных пользователей.\n",
    "- [x] Построим точечный график стоимостей заказов. Сделаем выводы и предположения.\n",
    "- [x] Посчитаем 95-й и 99-й перцентили стоимости заказов. Выберите границу для определения аномальных заказов.\n",
    "- [x] Посчитаем статистическую значимость различий в конверсии между группами по «сырым» данным. Сделаем выводы и предположения.\n",
    "- [x] Посчитаем статистическую значимость различий в среднем чеке заказа между группами по «сырым» данным. Сделаем выводы и предположения.\n",
    "- [x] Посчитаем статистическую значимость различий в конверсии между группами по «очищенным» данным. Сделаем выводы и предположения.\n",
    "- [x] Посчитаем статистическую значимость различий в среднем чеке заказа между группами по «очищенным» данным. Сделаем выводы и предположения.\n",
    "\n",
    "**Часть 4. Принятие решения по результатам теста. Варианты решений:**\n",
    "\n",
    "1. Остановить тест, зафиксировать победу одной из групп.\n",
    "2. Остановить тест, зафиксировать отсутствие различий между группами.\n",
    "3. Продолжить тест."
   ]
  },
  {
   "cell_type": "markdown",
   "metadata": {},
   "source": [
    "## Загрузка и предобработка данных <a id='1'></a>"
   ]
  },
  {
   "cell_type": "code",
   "execution_count": 2,
   "metadata": {},
   "outputs": [],
   "source": [
    "# загрузка библиотек\n",
    "\n",
    "import pandas as pd\n",
    "import datetime as dt\n",
    "import numpy as np\n",
    "import matplotlib.pyplot as plt\n",
    "from pandas.plotting import register_matplotlib_converters\n",
    "import warnings\n",
    "import scipy.stats as stats\n",
    "# конвертеры, которые позволяют использовать типы pandas в matplotlib \n",
    "register_matplotlib_converters()"
   ]
  },
  {
   "cell_type": "code",
   "execution_count": 4,
   "metadata": {
    "scrolled": true
   },
   "outputs": [
    {
     "data": {
      "text/html": [
       "<div>\n",
       "<style scoped>\n",
       "    .dataframe tbody tr th:only-of-type {\n",
       "        vertical-align: middle;\n",
       "    }\n",
       "\n",
       "    .dataframe tbody tr th {\n",
       "        vertical-align: top;\n",
       "    }\n",
       "\n",
       "    .dataframe thead th {\n",
       "        text-align: right;\n",
       "    }\n",
       "</style>\n",
       "<table border=\"1\" class=\"dataframe\">\n",
       "  <thead>\n",
       "    <tr style=\"text-align: right;\">\n",
       "      <th></th>\n",
       "      <th>Hypothesis</th>\n",
       "      <th>Reach</th>\n",
       "      <th>Impact</th>\n",
       "      <th>Confidence</th>\n",
       "      <th>Efforts</th>\n",
       "    </tr>\n",
       "  </thead>\n",
       "  <tbody>\n",
       "    <tr>\n",
       "      <th>0</th>\n",
       "      <td>Добавить два новых канала привлечения трафика, что позволит привлекать на 30% больше пользователей</td>\n",
       "      <td>3</td>\n",
       "      <td>10</td>\n",
       "      <td>8</td>\n",
       "      <td>6</td>\n",
       "    </tr>\n",
       "    <tr>\n",
       "      <th>1</th>\n",
       "      <td>Запустить собственную службу доставки, что сократит срок доставки заказов</td>\n",
       "      <td>2</td>\n",
       "      <td>5</td>\n",
       "      <td>4</td>\n",
       "      <td>10</td>\n",
       "    </tr>\n",
       "    <tr>\n",
       "      <th>2</th>\n",
       "      <td>Добавить блоки рекомендаций товаров на сайт интернет магазина, чтобы повысить конверсию и средний чек заказа</td>\n",
       "      <td>8</td>\n",
       "      <td>3</td>\n",
       "      <td>7</td>\n",
       "      <td>3</td>\n",
       "    </tr>\n",
       "    <tr>\n",
       "      <th>3</th>\n",
       "      <td>Изменить структура категорий, что увеличит конверсию, т.к. пользователи быстрее найдут нужный товар</td>\n",
       "      <td>8</td>\n",
       "      <td>3</td>\n",
       "      <td>3</td>\n",
       "      <td>8</td>\n",
       "    </tr>\n",
       "    <tr>\n",
       "      <th>4</th>\n",
       "      <td>Изменить цвет фона главной страницы, чтобы увеличить вовлеченность пользователей</td>\n",
       "      <td>3</td>\n",
       "      <td>1</td>\n",
       "      <td>1</td>\n",
       "      <td>1</td>\n",
       "    </tr>\n",
       "    <tr>\n",
       "      <th>5</th>\n",
       "      <td>Добавить страницу отзывов клиентов о магазине, что позволит увеличить количество заказов</td>\n",
       "      <td>3</td>\n",
       "      <td>2</td>\n",
       "      <td>2</td>\n",
       "      <td>3</td>\n",
       "    </tr>\n",
       "    <tr>\n",
       "      <th>6</th>\n",
       "      <td>Показать на главной странице баннеры с актуальными акциями и распродажами, чтобы увеличить конверсию</td>\n",
       "      <td>5</td>\n",
       "      <td>3</td>\n",
       "      <td>8</td>\n",
       "      <td>3</td>\n",
       "    </tr>\n",
       "    <tr>\n",
       "      <th>7</th>\n",
       "      <td>Добавить форму подписки на все основные страницы, чтобы собрать базу клиентов для email-рассылок</td>\n",
       "      <td>10</td>\n",
       "      <td>7</td>\n",
       "      <td>8</td>\n",
       "      <td>5</td>\n",
       "    </tr>\n",
       "    <tr>\n",
       "      <th>8</th>\n",
       "      <td>Запустить акцию, дающую скидку на товар в день рождения</td>\n",
       "      <td>1</td>\n",
       "      <td>9</td>\n",
       "      <td>9</td>\n",
       "      <td>5</td>\n",
       "    </tr>\n",
       "  </tbody>\n",
       "</table>\n",
       "</div>"
      ],
      "text/plain": [
       "                                                                                                     Hypothesis  \\\n",
       "0            Добавить два новых канала привлечения трафика, что позволит привлекать на 30% больше пользователей   \n",
       "1                                     Запустить собственную службу доставки, что сократит срок доставки заказов   \n",
       "2  Добавить блоки рекомендаций товаров на сайт интернет магазина, чтобы повысить конверсию и средний чек заказа   \n",
       "3           Изменить структура категорий, что увеличит конверсию, т.к. пользователи быстрее найдут нужный товар   \n",
       "4                              Изменить цвет фона главной страницы, чтобы увеличить вовлеченность пользователей   \n",
       "5                      Добавить страницу отзывов клиентов о магазине, что позволит увеличить количество заказов   \n",
       "6          Показать на главной странице баннеры с актуальными акциями и распродажами, чтобы увеличить конверсию   \n",
       "7              Добавить форму подписки на все основные страницы, чтобы собрать базу клиентов для email-рассылок   \n",
       "8                                                       Запустить акцию, дающую скидку на товар в день рождения   \n",
       "\n",
       "   Reach  Impact  Confidence  Efforts  \n",
       "0      3      10           8        6  \n",
       "1      2       5           4       10  \n",
       "2      8       3           7        3  \n",
       "3      8       3           3        8  \n",
       "4      3       1           1        1  \n",
       "5      3       2           2        3  \n",
       "6      5       3           8        3  \n",
       "7     10       7           8        5  \n",
       "8      1       9           9        5  "
      ]
     },
     "metadata": {},
     "output_type": "display_data"
    }
   ],
   "source": [
    "# установим ширину столбцов, чтобы строки были видны полностью\n",
    "pd.set_option('max_colwidth', 130) \n",
    "\n",
    "hypothesis = pd.read_csv('https://code.s3.yandex.net/datasets/hypothesis.csv')\n",
    "display(hypothesis)"
   ]
  },
  {
   "cell_type": "code",
   "execution_count": 5,
   "metadata": {},
   "outputs": [],
   "source": [
    "# загрузим данные преобразуем дату\n",
    "\n",
    "orders = pd.read_csv('https://code.s3.yandex.net/datasets/orders.csv')\n",
    "\n",
    "orders['date'] = orders['date'].map(\n",
    "    lambda x: dt.datetime.strptime(x, '%Y-%m-%d')\n",
    ")\n",
    "\n",
    "visitors = pd.read_csv('https://code.s3.yandex.net/datasets/visitors.csv')\n",
    "\n",
    "visitors['date'] = visitors['date'].map(\n",
    "    lambda x: dt.datetime.strptime(x, '%Y-%m-%d')\n",
    ")"
   ]
  },
  {
   "cell_type": "code",
   "execution_count": 6,
   "metadata": {
    "scrolled": false
   },
   "outputs": [
    {
     "name": "stdout",
     "output_type": "stream",
     "text": [
      "<class 'pandas.core.frame.DataFrame'>\n",
      "RangeIndex: 1197 entries, 0 to 1196\n",
      "Data columns (total 5 columns):\n",
      " #   Column         Non-Null Count  Dtype         \n",
      "---  ------         --------------  -----         \n",
      " 0   transactionId  1197 non-null   int64         \n",
      " 1   visitorId      1197 non-null   int64         \n",
      " 2   date           1197 non-null   datetime64[ns]\n",
      " 3   revenue        1197 non-null   int64         \n",
      " 4   group          1197 non-null   object        \n",
      "dtypes: datetime64[ns](1), int64(3), object(1)\n",
      "memory usage: 46.9+ KB\n",
      "\n",
      "<class 'pandas.core.frame.DataFrame'>\n",
      "RangeIndex: 62 entries, 0 to 61\n",
      "Data columns (total 3 columns):\n",
      " #   Column    Non-Null Count  Dtype         \n",
      "---  ------    --------------  -----         \n",
      " 0   date      62 non-null     datetime64[ns]\n",
      " 1   group     62 non-null     object        \n",
      " 2   visitors  62 non-null     int64         \n",
      "dtypes: datetime64[ns](1), int64(1), object(1)\n",
      "memory usage: 1.6+ KB\n"
     ]
    },
    {
     "data": {
      "text/html": [
       "<div>\n",
       "<style scoped>\n",
       "    .dataframe tbody tr th:only-of-type {\n",
       "        vertical-align: middle;\n",
       "    }\n",
       "\n",
       "    .dataframe tbody tr th {\n",
       "        vertical-align: top;\n",
       "    }\n",
       "\n",
       "    .dataframe thead th {\n",
       "        text-align: right;\n",
       "    }\n",
       "</style>\n",
       "<table border=\"1\" class=\"dataframe\">\n",
       "  <thead>\n",
       "    <tr style=\"text-align: right;\">\n",
       "      <th></th>\n",
       "      <th>date</th>\n",
       "      <th>group</th>\n",
       "      <th>visitors</th>\n",
       "    </tr>\n",
       "  </thead>\n",
       "  <tbody>\n",
       "    <tr>\n",
       "      <th>0</th>\n",
       "      <td>2019-08-01</td>\n",
       "      <td>A</td>\n",
       "      <td>719</td>\n",
       "    </tr>\n",
       "    <tr>\n",
       "      <th>1</th>\n",
       "      <td>2019-08-02</td>\n",
       "      <td>A</td>\n",
       "      <td>619</td>\n",
       "    </tr>\n",
       "    <tr>\n",
       "      <th>2</th>\n",
       "      <td>2019-08-03</td>\n",
       "      <td>A</td>\n",
       "      <td>507</td>\n",
       "    </tr>\n",
       "  </tbody>\n",
       "</table>\n",
       "</div>"
      ],
      "text/plain": [
       "        date group  visitors\n",
       "0 2019-08-01     A       719\n",
       "1 2019-08-02     A       619\n",
       "2 2019-08-03     A       507"
      ]
     },
     "execution_count": 6,
     "metadata": {},
     "output_type": "execute_result"
    }
   ],
   "source": [
    "orders.info()\n",
    "orders.head(3)\n",
    "print()\n",
    "visitors.info()\n",
    "visitors.head(3)"
   ]
  },
  {
   "cell_type": "code",
   "execution_count": 7,
   "metadata": {},
   "outputs": [
    {
     "name": "stdout",
     "output_type": "stream",
     "text": [
      "Дубликаты orders 0\n",
      "Дубликаты visitors 0\n"
     ]
    }
   ],
   "source": [
    "# проверим дубликаты\n",
    "print('Дубликаты orders', orders.duplicated().sum())\n",
    "print('Дубликаты visitors', visitors.duplicated().sum())"
   ]
  },
  {
   "cell_type": "markdown",
   "metadata": {},
   "source": [
    "## Приоритезация гипотез"
   ]
  },
  {
   "cell_type": "markdown",
   "metadata": {},
   "source": [
    "### Применим фреймворк ICE <a id='2'></a>"
   ]
  },
  {
   "cell_type": "markdown",
   "metadata": {},
   "source": [
    "Фреймворк ICE применяется для приоритизации гипотез. ICE (от англ. impact, confidence, effort) Отсортируем их по убыванию приоритета."
   ]
  },
  {
   "cell_type": "code",
   "execution_count": 63,
   "metadata": {},
   "outputs": [
    {
     "data": {
      "text/html": [
       "<div>\n",
       "<style scoped>\n",
       "    .dataframe tbody tr th:only-of-type {\n",
       "        vertical-align: middle;\n",
       "    }\n",
       "\n",
       "    .dataframe tbody tr th {\n",
       "        vertical-align: top;\n",
       "    }\n",
       "\n",
       "    .dataframe thead th {\n",
       "        text-align: right;\n",
       "    }\n",
       "</style>\n",
       "<table border=\"1\" class=\"dataframe\">\n",
       "  <thead>\n",
       "    <tr style=\"text-align: right;\">\n",
       "      <th></th>\n",
       "      <th>Hypothesis</th>\n",
       "      <th>ICE</th>\n",
       "    </tr>\n",
       "  </thead>\n",
       "  <tbody>\n",
       "    <tr>\n",
       "      <th>8</th>\n",
       "      <td>Запустить акцию, дающую скидку на товар в день рождения</td>\n",
       "      <td>16.200000</td>\n",
       "    </tr>\n",
       "    <tr>\n",
       "      <th>0</th>\n",
       "      <td>Добавить два новых канала привлечения трафика, что позволит привлекать на 30% больше пользователей</td>\n",
       "      <td>13.333333</td>\n",
       "    </tr>\n",
       "    <tr>\n",
       "      <th>7</th>\n",
       "      <td>Добавить форму подписки на все основные страницы, чтобы собрать базу клиентов для email-рассылок</td>\n",
       "      <td>11.200000</td>\n",
       "    </tr>\n",
       "    <tr>\n",
       "      <th>6</th>\n",
       "      <td>Показать на главной странице баннеры с актуальными акциями и распродажами, чтобы увеличить конверсию</td>\n",
       "      <td>8.000000</td>\n",
       "    </tr>\n",
       "    <tr>\n",
       "      <th>2</th>\n",
       "      <td>Добавить блоки рекомендаций товаров на сайт интернет магазина, чтобы повысить конверсию и средний чек заказа</td>\n",
       "      <td>7.000000</td>\n",
       "    </tr>\n",
       "    <tr>\n",
       "      <th>1</th>\n",
       "      <td>Запустить собственную службу доставки, что сократит срок доставки заказов</td>\n",
       "      <td>2.000000</td>\n",
       "    </tr>\n",
       "    <tr>\n",
       "      <th>5</th>\n",
       "      <td>Добавить страницу отзывов клиентов о магазине, что позволит увеличить количество заказов</td>\n",
       "      <td>1.333333</td>\n",
       "    </tr>\n",
       "    <tr>\n",
       "      <th>3</th>\n",
       "      <td>Изменить структура категорий, что увеличит конверсию, т.к. пользователи быстрее найдут нужный товар</td>\n",
       "      <td>1.125000</td>\n",
       "    </tr>\n",
       "    <tr>\n",
       "      <th>4</th>\n",
       "      <td>Изменить цвет фона главной страницы, чтобы увеличить вовлеченность пользователей</td>\n",
       "      <td>1.000000</td>\n",
       "    </tr>\n",
       "  </tbody>\n",
       "</table>\n",
       "</div>"
      ],
      "text/plain": [
       "                                                                                                     Hypothesis  \\\n",
       "8                                                       Запустить акцию, дающую скидку на товар в день рождения   \n",
       "0            Добавить два новых канала привлечения трафика, что позволит привлекать на 30% больше пользователей   \n",
       "7              Добавить форму подписки на все основные страницы, чтобы собрать базу клиентов для email-рассылок   \n",
       "6          Показать на главной странице баннеры с актуальными акциями и распродажами, чтобы увеличить конверсию   \n",
       "2  Добавить блоки рекомендаций товаров на сайт интернет магазина, чтобы повысить конверсию и средний чек заказа   \n",
       "1                                     Запустить собственную службу доставки, что сократит срок доставки заказов   \n",
       "5                      Добавить страницу отзывов клиентов о магазине, что позволит увеличить количество заказов   \n",
       "3           Изменить структура категорий, что увеличит конверсию, т.к. пользователи быстрее найдут нужный товар   \n",
       "4                              Изменить цвет фона главной страницы, чтобы увеличить вовлеченность пользователей   \n",
       "\n",
       "         ICE  \n",
       "8  16.200000  \n",
       "0  13.333333  \n",
       "7  11.200000  \n",
       "6   8.000000  \n",
       "2   7.000000  \n",
       "1   2.000000  \n",
       "5   1.333333  \n",
       "3   1.125000  \n",
       "4   1.000000  "
      ]
     },
     "metadata": {},
     "output_type": "display_data"
    }
   ],
   "source": [
    "hypothesis['ICE'] = hypothesis['Impact'] * hypothesis['Confidence'] / hypothesis['Efforts']\n",
    "display((hypothesis.loc[:,['Hypothesis', 'ICE']]).sort_values(by='ICE', ascending=False))"
   ]
  },
  {
   "cell_type": "markdown",
   "metadata": {},
   "source": [
    "### Применим фреймворк RICE <a id='3'></a>"
   ]
  },
  {
   "cell_type": "markdown",
   "metadata": {},
   "source": [
    "Фреймворк RICE прменяется для приоритизации гипотез. Отсортируем их по убыванию приоритета.\n",
    "\n",
    "Фреймворк RICE состоит из четырёх компонент:\n",
    "- Reach — скольких пользователей затронет изменение, которое вы хотите внести;\n",
    "- Impact — насколько сильно изменение повлияет на пользователей, их опыт и удовлетворение от продукта;\n",
    "- Confidence — насколько вы уверены, что это изменение повлияет на пользователей именно так;\n",
    "- Efforts — сколько стоит протестировать эту гипотезу."
   ]
  },
  {
   "cell_type": "code",
   "execution_count": 64,
   "metadata": {},
   "outputs": [
    {
     "data": {
      "text/html": [
       "<div>\n",
       "<style scoped>\n",
       "    .dataframe tbody tr th:only-of-type {\n",
       "        vertical-align: middle;\n",
       "    }\n",
       "\n",
       "    .dataframe tbody tr th {\n",
       "        vertical-align: top;\n",
       "    }\n",
       "\n",
       "    .dataframe thead th {\n",
       "        text-align: right;\n",
       "    }\n",
       "</style>\n",
       "<table border=\"1\" class=\"dataframe\">\n",
       "  <thead>\n",
       "    <tr style=\"text-align: right;\">\n",
       "      <th></th>\n",
       "      <th>Hypothesis</th>\n",
       "      <th>RICE</th>\n",
       "    </tr>\n",
       "  </thead>\n",
       "  <tbody>\n",
       "    <tr>\n",
       "      <th>7</th>\n",
       "      <td>Добавить форму подписки на все основные страницы, чтобы собрать базу клиентов для email-рассылок</td>\n",
       "      <td>112.0</td>\n",
       "    </tr>\n",
       "    <tr>\n",
       "      <th>2</th>\n",
       "      <td>Добавить блоки рекомендаций товаров на сайт интернет магазина, чтобы повысить конверсию и средний чек заказа</td>\n",
       "      <td>56.0</td>\n",
       "    </tr>\n",
       "    <tr>\n",
       "      <th>0</th>\n",
       "      <td>Добавить два новых канала привлечения трафика, что позволит привлекать на 30% больше пользователей</td>\n",
       "      <td>40.0</td>\n",
       "    </tr>\n",
       "    <tr>\n",
       "      <th>6</th>\n",
       "      <td>Показать на главной странице баннеры с актуальными акциями и распродажами, чтобы увеличить конверсию</td>\n",
       "      <td>40.0</td>\n",
       "    </tr>\n",
       "    <tr>\n",
       "      <th>8</th>\n",
       "      <td>Запустить акцию, дающую скидку на товар в день рождения</td>\n",
       "      <td>16.2</td>\n",
       "    </tr>\n",
       "    <tr>\n",
       "      <th>3</th>\n",
       "      <td>Изменить структура категорий, что увеличит конверсию, т.к. пользователи быстрее найдут нужный товар</td>\n",
       "      <td>9.0</td>\n",
       "    </tr>\n",
       "    <tr>\n",
       "      <th>1</th>\n",
       "      <td>Запустить собственную службу доставки, что сократит срок доставки заказов</td>\n",
       "      <td>4.0</td>\n",
       "    </tr>\n",
       "    <tr>\n",
       "      <th>5</th>\n",
       "      <td>Добавить страницу отзывов клиентов о магазине, что позволит увеличить количество заказов</td>\n",
       "      <td>4.0</td>\n",
       "    </tr>\n",
       "    <tr>\n",
       "      <th>4</th>\n",
       "      <td>Изменить цвет фона главной страницы, чтобы увеличить вовлеченность пользователей</td>\n",
       "      <td>3.0</td>\n",
       "    </tr>\n",
       "  </tbody>\n",
       "</table>\n",
       "</div>"
      ],
      "text/plain": [
       "                                                                                                     Hypothesis  \\\n",
       "7              Добавить форму подписки на все основные страницы, чтобы собрать базу клиентов для email-рассылок   \n",
       "2  Добавить блоки рекомендаций товаров на сайт интернет магазина, чтобы повысить конверсию и средний чек заказа   \n",
       "0            Добавить два новых канала привлечения трафика, что позволит привлекать на 30% больше пользователей   \n",
       "6          Показать на главной странице баннеры с актуальными акциями и распродажами, чтобы увеличить конверсию   \n",
       "8                                                       Запустить акцию, дающую скидку на товар в день рождения   \n",
       "3           Изменить структура категорий, что увеличит конверсию, т.к. пользователи быстрее найдут нужный товар   \n",
       "1                                     Запустить собственную службу доставки, что сократит срок доставки заказов   \n",
       "5                      Добавить страницу отзывов клиентов о магазине, что позволит увеличить количество заказов   \n",
       "4                              Изменить цвет фона главной страницы, чтобы увеличить вовлеченность пользователей   \n",
       "\n",
       "    RICE  \n",
       "7  112.0  \n",
       "2   56.0  \n",
       "0   40.0  \n",
       "6   40.0  \n",
       "8   16.2  \n",
       "3    9.0  \n",
       "1    4.0  \n",
       "5    4.0  \n",
       "4    3.0  "
      ]
     },
     "metadata": {},
     "output_type": "display_data"
    }
   ],
   "source": [
    "hypothesis['RICE'] = hypothesis['Reach'] * hypothesis['Impact'] * hypothesis['Confidence'] / hypothesis['Efforts']\n",
    "display((hypothesis.loc[:,['Hypothesis', 'RICE']]).sort_values(by='RICE', ascending=False))"
   ]
  },
  {
   "cell_type": "markdown",
   "metadata": {},
   "source": [
    "ТОП 3 по критерию ICE\n",
    "1. Запустить акцию, дающую скидку на товар в день рождения\n",
    "2. Добавить два новых канала привлечения трафика, что позволит привлекать на 30% больше пользователей\n",
    "3. Добавить форму подписки на все основные страницы, чтобы собрать базу клиентов для email-рассылок\n",
    "\n",
    "ТОП 3 по критерию RICE\n",
    "1. Добавить форму подписки на все основные страницы, чтобы собрать базу клиентов для email-рассылок\n",
    "2. Добавить блоки рекомендаций товаров на сайт интернет магазина, чтобы повысить конверсию и средний чек заказа\n",
    "3. Добавить два новых канала привлечения трафика, что позволит привлекать на 30% больше пользователей\n"
   ]
  },
  {
   "cell_type": "markdown",
   "metadata": {},
   "source": [
    "Очевидно, что подобное изменение в приоритетах вызвано тем, что фреймворк ICE Не использует показатель \"охват пользователей\". Можно предположить, что выбор этого критерия будет предпочтительней т.к. он более полный."
   ]
  },
  {
   "cell_type": "markdown",
   "metadata": {},
   "source": [
    "### Анализ A/B-теста <a id='4'></a>"
   ]
  },
  {
   "cell_type": "markdown",
   "metadata": {},
   "source": [
    "Результаты A/B-теста, описаны в файлах:\n",
    "- orders.csv\n",
    "- visitors.csv"
   ]
  },
  {
   "cell_type": "markdown",
   "metadata": {},
   "source": [
    "#### Для корректного сравнения двух групп вычислим и удалим пользователей попавших в обе группы"
   ]
  },
  {
   "cell_type": "code",
   "execution_count": 69,
   "metadata": {},
   "outputs": [
    {
     "data": {
      "text/plain": [
       "group\n",
       "A    557\n",
       "B    640\n",
       "Name: visitorId, dtype: int64"
      ]
     },
     "metadata": {},
     "output_type": "display_data"
    }
   ],
   "source": [
    "# сгруппируем данные по двум группам\n",
    "\n",
    "display(orders.groupby(by='group')['visitorId'].count())"
   ]
  },
  {
   "cell_type": "code",
   "execution_count": 70,
   "metadata": {},
   "outputs": [
    {
     "data": {
      "text/plain": [
       "group\n",
       "A    468\n",
       "B    548\n",
       "Name: visitorId, dtype: int64"
      ]
     },
     "metadata": {},
     "output_type": "display_data"
    }
   ],
   "source": [
    "gr_A = orders[orders['group'] == 'A']['visitorId'].tolist()\n",
    "gr_B = orders[orders['group'] == 'B']['visitorId'].tolist()\n",
    "\n",
    "# cоздаем новую таблицу, без пользователей, которые входили в обе группы\n",
    "orders = orders.query(\n",
    "    '(visitorId in @gr_A and visitorId not in @gr_B or (visitorId in @gr_B and visitorId not in @gr_A))')\n",
    "\n",
    "display(orders.groupby(by='group')['visitorId'].count())"
   ]
  },
  {
   "cell_type": "markdown",
   "metadata": {},
   "source": [
    "#### Построим график кумулятивной выручки по группам."
   ]
  },
  {
   "cell_type": "code",
   "execution_count": 71,
   "metadata": {
    "scrolled": true
   },
   "outputs": [
    {
     "data": {
      "image/png": "[encoded data removed]",
      "text/plain": [
       "<Figure size 1080x504 with 1 Axes>"
      ]
     },
     "metadata": {
      "needs_background": "light"
     },
     "output_type": "display_data"
    }
   ],
   "source": [
    "datesGroups = orders[['date', 'group']].drop_duplicates()\n",
    "\n",
    "ordersAggregated = datesGroups.apply(\n",
    "    lambda x: orders[\n",
    "        np.logical_and(\n",
    "            orders['date'] <= x['date'], orders['group'] == x['group']\n",
    "        )\n",
    "    ].agg(\n",
    "        {\n",
    "            'date': 'max',\n",
    "            'group': 'max',\n",
    "            'transactionId': 'nunique',\n",
    "            'visitorId': 'nunique',\n",
    "            'revenue': 'sum',\n",
    "        }\n",
    "    ),\n",
    "    axis=1,\n",
    ").sort_values(by=['date', 'group'])\n",
    "\n",
    "visitorsAggregated = datesGroups.apply(\n",
    "    lambda x: visitors[\n",
    "        np.logical_and(\n",
    "            visitors['date'] <= x['date'], visitors['group'] == x['group']\n",
    "        )\n",
    "    ].agg({'date': 'max', 'group': 'max', 'visitors': 'sum'}),\n",
    "    axis=1,\n",
    ").sort_values(by=['date', 'group'])\n",
    "\n",
    "cumulativeData = ordersAggregated.merge(\n",
    "    visitorsAggregated, left_on=['date', 'group'], right_on=['date', 'group']\n",
    ")\n",
    "cumulativeData.columns = [\n",
    "    'date',\n",
    "    'group',\n",
    "    'orders',\n",
    "    'buyers',\n",
    "    'revenue',\n",
    "    'visitors',\n",
    "]\n",
    "\n",
    "cumulativeRevenueA = cumulativeData[cumulativeData['group']=='A'][['date','revenue', 'orders']]\n",
    "\n",
    "cumulativeRevenueB = cumulativeData[cumulativeData['group']=='B'][['date','revenue', 'orders']]\n",
    "\n",
    "plt.figure(figsize=(15,7))\n",
    "\n",
    "plt.plot(cumulativeRevenueA['date'], cumulativeRevenueA['revenue'], label='A')\n",
    "\n",
    "plt.plot(cumulativeRevenueB['date'], cumulativeRevenueB['revenue'], label='B')\n",
    "\n",
    "plt.title(\"Кумулятивная выручки по группам\") \n",
    "plt.xlabel(\"День\") \n",
    "plt.ylabel(\"Выручка\")\n",
    "plt.legend(); "
   ]
  },
  {
   "cell_type": "markdown",
   "metadata": {},
   "source": [
    "По графику видно, что в сегмент В и А имеют примерно равные продажи до 11-15. Начиная с 15 августа группа В значительно опережает группу А. Возможно это вызвано аномально большими заказами."
   ]
  },
  {
   "cell_type": "markdown",
   "metadata": {},
   "source": [
    "#### Построим график кумулятивного среднего чека по группам."
   ]
  },
  {
   "cell_type": "code",
   "execution_count": 72,
   "metadata": {
    "scrolled": true
   },
   "outputs": [
    {
     "data": {
      "image/png": "[encoded data removed]",
      "text/plain": [
       "<Figure size 1080x504 with 1 Axes>"
      ]
     },
     "metadata": {
      "needs_background": "light"
     },
     "output_type": "display_data"
    }
   ],
   "source": [
    "plt.figure(figsize=(15,7))\n",
    "\n",
    "plt.plot(cumulativeRevenueA['date'], cumulativeRevenueA['revenue'] / cumulativeRevenueA['orders'], label='A')\n",
    "\n",
    "plt.plot(cumulativeRevenueB['date'], cumulativeRevenueB['revenue'] / cumulativeRevenueB['orders'], label='B')\n",
    "\n",
    "plt.title(\"График кумулятивного среднего чека по группам\") \n",
    "plt.xlabel(\"День\") \n",
    "plt.ylabel(\"Средний чек\")\n",
    "plt.legend();"
   ]
  },
  {
   "cell_type": "markdown",
   "metadata": {},
   "source": [
    "Из графика видно, что средний чек группы В 9-14 числа меньше группы А, по  после 17 числа группа В резко пошла вверх, это так же может свидетельствовать об искажении данных в следствии аномальных продаж."
   ]
  },
  {
   "cell_type": "markdown",
   "metadata": {},
   "source": [
    "### Построим график относительного изменения кумулятивного среднего чека группы B к группе A"
   ]
  },
  {
   "cell_type": "code",
   "execution_count": 73,
   "metadata": {},
   "outputs": [
    {
     "data": {
      "image/png": "[encoded data removed]",
      "text/plain": [
       "<Figure size 1080x504 with 1 Axes>"
      ]
     },
     "metadata": {
      "needs_background": "light"
     },
     "output_type": "display_data"
    }
   ],
   "source": [
    "mergedCumulativeRevenue = cumulativeRevenueA.merge(cumulativeRevenueB, left_on='date', right_on='date', how='left', suffixes=['A', 'B'])\n",
    "plt.figure(figsize=(15,7))\n",
    "plt.plot(mergedCumulativeRevenue['date'], (mergedCumulativeRevenue['revenueB']/mergedCumulativeRevenue['ordersB'])/(mergedCumulativeRevenue['revenueA']/mergedCumulativeRevenue['ordersA'])-1)\n",
    "plt.title(\"График относительного изменения кумулятивного среднего чека группы B к группе A\") \n",
    "plt.xlabel(\"День\") \n",
    "\n",
    "# добавляем ось y\n",
    "plt.axhline(y=0, color='black', linestyle='--');"
   ]
  },
  {
   "cell_type": "markdown",
   "metadata": {},
   "source": [
    "На этом графике так же наблюдаем \"скачки\", это так же может указывать на аномально высокие продажи."
   ]
  },
  {
   "cell_type": "markdown",
   "metadata": {},
   "source": [
    "### Построим график кумулятивной конверсии по группам."
   ]
  },
  {
   "cell_type": "code",
   "execution_count": 74,
   "metadata": {},
   "outputs": [
    {
     "data": {
      "image/png": "[encoded data removed]",
      "text/plain": [
       "<Figure size 1080x504 with 1 Axes>"
      ]
     },
     "metadata": {
      "needs_background": "light"
     },
     "output_type": "display_data"
    }
   ],
   "source": [
    "# добавим столбец с конверсией\n",
    "cumulativeData['conversion'] = cumulativeData['orders'] / cumulativeData['visitors']\n",
    "\n",
    "cumulativeDataA = cumulativeData[cumulativeData['group'] == 'A']\n",
    "cumulativeDataB = cumulativeData[cumulativeData['group'] == 'B']\n",
    "\n",
    "\n",
    "plt.figure(figsize=(15,7))\n",
    "plt.plot(cumulativeDataA['date'], cumulativeDataA['conversion'], label='A')\n",
    "plt.plot(cumulativeDataB['date'], cumulativeDataB['conversion'], label='B')\n",
    "plt.title(\"График кумулятивной конверсии по группам\") \n",
    "plt.xlabel(\"День\") \n",
    "plt.ylabel(\"Конверсия\")\n",
    "plt.legend()\n",
    "\n",
    "# добавим масштам осей, что бы было видно абсолютное значение колебания\n",
    "plt.axis([dt.datetime(2019, 8, 1), dt.datetime(2019, 9, 1), 0, 0.04]);"
   ]
  },
  {
   "cell_type": "markdown",
   "metadata": {},
   "source": [
    "* Конверсия группы В после 5 августа стала выше и до конца теста конверсия была примерно одинаковой.\n",
    "* Из графика видно что общее колебание по двум группам было в диапазоне 0.03 до 0.037."
   ]
  },
  {
   "cell_type": "markdown",
   "metadata": {},
   "source": [
    "### Построим график относительного изменения кумулятивной конверсии группы B к группе A."
   ]
  },
  {
   "cell_type": "code",
   "execution_count": 75,
   "metadata": {},
   "outputs": [
    {
     "data": {
      "image/png": "[encoded data removed]",
      "text/plain": [
       "<Figure size 1080x504 with 1 Axes>"
      ]
     },
     "metadata": {
      "needs_background": "light"
     },
     "output_type": "display_data"
    }
   ],
   "source": [
    "mergedCumulativeConversions = cumulativeDataA[['date','conversion']].merge(cumulativeDataB[['date','conversion']], left_on='date', right_on='date', how='left', suffixes=['A', 'B'])\n",
    "\n",
    "plt.figure(figsize=(15,7))\n",
    "plt.plot(mergedCumulativeConversions['date'], mergedCumulativeConversions['conversionB']/mergedCumulativeConversions['conversionA']-1,\n",
    "         label=\"Относительный прирост конверсии группы B относительно группы A\")\n",
    "plt.title(\"График относительного изменения кумулятивной конверсии группы B к группе A\") \n",
    "plt.xlabel(\"День\") \n",
    "plt.legend()\n",
    "\n",
    "# оси y\n",
    "plt.axhline(y=0, color='red', linestyle='--')\n",
    "plt.axhline(y=0.1, color='black', linestyle='--')\n",
    "plt.axhline(y=0.2, color='grey', linestyle='--')\n",
    "plt.axis([\"2019-08-01\", '2019-09-01', -0.2, 0.4]);"
   ]
  },
  {
   "cell_type": "markdown",
   "metadata": {},
   "source": [
    "* Конверсия группы В после 7 числа стала выше группы А и достигла 20%\n",
    "* После 17 числа конверсия стала снижаться и дошла до 10% относительно группы А"
   ]
  },
  {
   "cell_type": "markdown",
   "metadata": {},
   "source": [
    "### Очистка данных от выбросов. Определение выбросов."
   ]
  },
  {
   "cell_type": "markdown",
   "metadata": {},
   "source": [
    "#### Построим точечный график количества заказов по пользователям"
   ]
  },
  {
   "cell_type": "code",
   "execution_count": 76,
   "metadata": {},
   "outputs": [
    {
     "data": {
      "image/png": "[encoded data removed]",
      "text/plain": [
       "<Figure size 1080x504 with 1 Axes>"
      ]
     },
     "metadata": {
      "needs_background": "light"
     },
     "output_type": "display_data"
    }
   ],
   "source": [
    "ordersByUsers = (\n",
    "    orders.groupby('visitorId', as_index=False)\n",
    "    .agg({'transactionId': 'nunique'})\n",
    ")\n",
    "ordersByUsers.columns = ['visitorId', 'orders']\n",
    "\n",
    "# print(ordersByUsers.sort_values(by='orders', ascending=False))\n",
    "\n",
    "# серия из чисел от 0 до количества наблюдений в ordersByUsers\n",
    "x_values = pd.Series(range(0, len(ordersByUsers)))\n",
    "\n",
    "plt.figure(figsize=(15,7))\n",
    "plt.scatter(x_values, ordersByUsers['orders'])\n",
    "plt.title(\"Точечный график количества заказов по пользователям\") \n",
    "plt.xlabel(\"Пользователи\") \n",
    "plt.ylabel(\"Заказы\");"
   ]
  },
  {
   "cell_type": "markdown",
   "metadata": {},
   "source": [
    "Пользователей, которые делали больше трех заказов достаточно мало, можно сказать что это аномальные продажи."
   ]
  },
  {
   "cell_type": "markdown",
   "metadata": {},
   "source": [
    "### Посчитаем 95-й и 99-й перцентили количества заказов на пользователя."
   ]
  },
  {
   "cell_type": "code",
   "execution_count": 77,
   "metadata": {},
   "outputs": [
    {
     "name": "stdout",
     "output_type": "stream",
     "text": [
      "[1. 2.]\n"
     ]
    }
   ],
   "source": [
    "print(np.percentile(ordersByUsers['orders'], [95, 99]))"
   ]
  },
  {
   "cell_type": "markdown",
   "metadata": {},
   "source": [
    "Выберем границу для определения аномальных пользователей: \n",
    "* Не более 5% пользователей совершали больше 1 заказов\n",
    "* Не более 1% пользователей совершали больше 2 заказов\n",
    "* Зададим границу аномальных пользователей совершивших 2 заказа"
   ]
  },
  {
   "cell_type": "markdown",
   "metadata": {},
   "source": [
    "### Построим точечный график стоимостей заказов."
   ]
  },
  {
   "cell_type": "code",
   "execution_count": 78,
   "metadata": {},
   "outputs": [
    {
     "data": {
      "image/png": "[encoded data removed]",
      "text/plain": [
       "<Figure size 1080x504 with 1 Axes>"
      ]
     },
     "metadata": {
      "needs_background": "light"
     },
     "output_type": "display_data"
    }
   ],
   "source": [
    "# print(orders.sort_values(by='revenue', ascending=False).head(10))\n",
    "\n",
    "x_values = pd.Series(range(0, len(orders['revenue'])))\n",
    "plt.figure(figsize=(15,7))\n",
    "plt.scatter(x_values, orders['revenue'])\n",
    "plt.title(\"Точечный график стоимостей заказов\") \n",
    "plt.xlabel(\"Пользователи\") \n",
    "plt.ylabel(\"Стоимость заказов\");"
   ]
  },
  {
   "cell_type": "markdown",
   "metadata": {},
   "source": [
    "Из графика видно два выброса:\n",
    "* около 200 000 \n",
    "* около 1 200 000"
   ]
  },
  {
   "cell_type": "markdown",
   "metadata": {},
   "source": [
    "### Посчитаем 95-й и 99-й перцентили стоимости заказов."
   ]
  },
  {
   "cell_type": "code",
   "execution_count": 79,
   "metadata": {},
   "outputs": [
    {
     "name": "stdout",
     "output_type": "stream",
     "text": [
      "[26785. 53904.]\n"
     ]
    }
   ],
   "source": [
    "print(np.percentile(orders['revenue'], [95, 99]))"
   ]
  },
  {
   "cell_type": "markdown",
   "metadata": {},
   "source": [
    "Выберем границу для определения аномальных заказов:\n",
    "* не более 5% заказов дороже 26785 рублей\n",
    "* не более 1% заказов дороже 53904 рублей\n",
    "* зададим границу аномальных заказов 20000 рублей"
   ]
  },
  {
   "cell_type": "markdown",
   "metadata": {},
   "source": [
    "Проверка гипотез по сырым данным (без удаления выбрасов)"
   ]
  },
  {
   "cell_type": "markdown",
   "metadata": {},
   "source": [
    "### p-value в конверсии между группами по «сырым» данным"
   ]
  },
  {
   "cell_type": "markdown",
   "metadata": {},
   "source": [
    "Сформируем Нулевую и Альтернативную гипотезы:\n",
    "* Нулевая гипотеза: конверсиях между группами по «сырым» данным равна\n",
    "\n",
    "* Альтернативная гипотеза: конверсиях между группами по «сырым» данным различается"
   ]
  },
  {
   "cell_type": "code",
   "execution_count": 80,
   "metadata": {},
   "outputs": [
    {
     "data": {
      "text/html": [
       "<div>\n",
       "<style scoped>\n",
       "    .dataframe tbody tr th:only-of-type {\n",
       "        vertical-align: middle;\n",
       "    }\n",
       "\n",
       "    .dataframe tbody tr th {\n",
       "        vertical-align: top;\n",
       "    }\n",
       "\n",
       "    .dataframe thead th {\n",
       "        text-align: right;\n",
       "    }\n",
       "</style>\n",
       "<table border=\"1\" class=\"dataframe\">\n",
       "  <thead>\n",
       "    <tr style=\"text-align: right;\">\n",
       "      <th></th>\n",
       "      <th>date</th>\n",
       "      <th>ordersPerDateA</th>\n",
       "      <th>revenuePerDateA</th>\n",
       "      <th>ordersPerDateB</th>\n",
       "      <th>revenuePerDateB</th>\n",
       "      <th>ordersCummulativeA</th>\n",
       "      <th>revenueCummulativeA</th>\n",
       "      <th>ordersCummulativeB</th>\n",
       "      <th>revenueCummulativeB</th>\n",
       "      <th>visitorsPerDateA</th>\n",
       "      <th>visitorsPerDateB</th>\n",
       "      <th>visitorsCummulativeA</th>\n",
       "      <th>visitorsCummulativeB</th>\n",
       "    </tr>\n",
       "  </thead>\n",
       "  <tbody>\n",
       "    <tr>\n",
       "      <th>0</th>\n",
       "      <td>2019-08-01</td>\n",
       "      <td>23</td>\n",
       "      <td>142779</td>\n",
       "      <td>17</td>\n",
       "      <td>59758</td>\n",
       "      <td>23</td>\n",
       "      <td>142779</td>\n",
       "      <td>17</td>\n",
       "      <td>59758</td>\n",
       "      <td>719</td>\n",
       "      <td>713</td>\n",
       "      <td>719</td>\n",
       "      <td>713</td>\n",
       "    </tr>\n",
       "    <tr>\n",
       "      <th>1</th>\n",
       "      <td>2019-08-02</td>\n",
       "      <td>19</td>\n",
       "      <td>91602</td>\n",
       "      <td>23</td>\n",
       "      <td>162043</td>\n",
       "      <td>42</td>\n",
       "      <td>234381</td>\n",
       "      <td>40</td>\n",
       "      <td>221801</td>\n",
       "      <td>619</td>\n",
       "      <td>581</td>\n",
       "      <td>1338</td>\n",
       "      <td>1294</td>\n",
       "    </tr>\n",
       "    <tr>\n",
       "      <th>2</th>\n",
       "      <td>2019-08-03</td>\n",
       "      <td>24</td>\n",
       "      <td>112473</td>\n",
       "      <td>14</td>\n",
       "      <td>67049</td>\n",
       "      <td>66</td>\n",
       "      <td>346854</td>\n",
       "      <td>54</td>\n",
       "      <td>288850</td>\n",
       "      <td>507</td>\n",
       "      <td>509</td>\n",
       "      <td>1845</td>\n",
       "      <td>1803</td>\n",
       "    </tr>\n",
       "  </tbody>\n",
       "</table>\n",
       "</div>"
      ],
      "text/plain": [
       "        date  ordersPerDateA  revenuePerDateA  ordersPerDateB  \\\n",
       "0 2019-08-01              23           142779              17   \n",
       "1 2019-08-02              19            91602              23   \n",
       "2 2019-08-03              24           112473              14   \n",
       "\n",
       "   revenuePerDateB  ordersCummulativeA  revenueCummulativeA  \\\n",
       "0            59758                  23               142779   \n",
       "1           162043                  42               234381   \n",
       "2            67049                  66               346854   \n",
       "\n",
       "   ordersCummulativeB  revenueCummulativeB  visitorsPerDateA  \\\n",
       "0                  17                59758               719   \n",
       "1                  40               221801               619   \n",
       "2                  54               288850               507   \n",
       "\n",
       "   visitorsPerDateB  visitorsCummulativeA  visitorsCummulativeB  \n",
       "0               713                   719                   713  \n",
       "1               581                  1338                  1294  \n",
       "2               509                  1845                  1803  "
      ]
     },
     "metadata": {},
     "output_type": "display_data"
    },
    {
     "name": "stdout",
     "output_type": "stream",
     "text": [
      "Отвергаем нулевую гипотезу: разница статистически значима, p-value = 0.01102\n",
      "0.160\n"
     ]
    }
   ],
   "source": [
    "visitorsADaily = visitors[visitors['group'] == 'A'][['date', 'visitors']]\n",
    "visitorsADaily.columns = ['date', 'visitorsPerDateA']\n",
    "\n",
    "visitorsACummulative = visitorsADaily.apply(\n",
    "    lambda x: visitorsADaily[visitorsADaily['date'] <= x['date']].agg(\n",
    "        {'date': 'max', 'visitorsPerDateA': 'sum'}\n",
    "    ),\n",
    "    axis=1,\n",
    ")\n",
    "visitorsACummulative.columns = ['date', 'visitorsCummulativeA']\n",
    "\n",
    "visitorsBDaily = visitors[visitors['group'] == 'B'][['date', 'visitors']]\n",
    "visitorsBDaily.columns = ['date', 'visitorsPerDateB']\n",
    "\n",
    "visitorsBCummulative = visitorsBDaily.apply(\n",
    "    lambda x: visitorsBDaily[visitorsBDaily['date'] <= x['date']].agg(\n",
    "        {'date': 'max', 'visitorsPerDateB': 'sum'}\n",
    "    ),\n",
    "    axis=1,\n",
    ")\n",
    "visitorsBCummulative.columns = ['date', 'visitorsCummulativeB']\n",
    "\n",
    "ordersADaily = (\n",
    "    orders[orders['group'] == 'A'][['date', 'transactionId', 'visitorId', 'revenue']]\n",
    "    .groupby('date', as_index=False)\n",
    "    .agg({'transactionId': pd.Series.nunique, 'revenue': 'sum'})\n",
    ")\n",
    "ordersADaily.columns = ['date', 'ordersPerDateA', 'revenuePerDateA']\n",
    "\n",
    "ordersACummulative = ordersADaily.apply(\n",
    "    lambda x: ordersADaily[ordersADaily['date'] <= x['date']].agg(\n",
    "        {'date': 'max', 'ordersPerDateA': 'sum', 'revenuePerDateA': 'sum'}\n",
    "    ),\n",
    "    axis=1,\n",
    ").sort_values(by=['date'])\n",
    "ordersACummulative.columns = [\n",
    "    'date',\n",
    "    'ordersCummulativeA',\n",
    "    'revenueCummulativeA',\n",
    "]\n",
    "\n",
    "ordersBDaily = (\n",
    "    orders[orders['group'] == 'B'][['date', 'transactionId', 'visitorId', 'revenue']]\n",
    "    .groupby('date', as_index=False)\n",
    "    .agg({'transactionId': pd.Series.nunique, 'revenue': 'sum'})\n",
    ")\n",
    "ordersBDaily.columns = ['date', 'ordersPerDateB', 'revenuePerDateB']\n",
    "\n",
    "ordersBCummulative = ordersBDaily.apply(\n",
    "    lambda x: ordersBDaily[ordersBDaily['date'] <= x['date']].agg(\n",
    "        {'date': 'max', 'ordersPerDateB': 'sum', 'revenuePerDateB': 'sum'}\n",
    "    ),\n",
    "    axis=1,\n",
    ").sort_values(by=['date'])\n",
    "ordersBCummulative.columns = [\n",
    "    'date',\n",
    "    'ordersCummulativeB',\n",
    "    'revenueCummulativeB',\n",
    "]\n",
    "\n",
    "data = (\n",
    "    ordersADaily.merge(\n",
    "        ordersBDaily, left_on='date', right_on='date', how='left'\n",
    "    )\n",
    "    .merge(ordersACummulative, left_on='date', right_on='date', how='left')\n",
    "    .merge(ordersBCummulative, left_on='date', right_on='date', how='left')\n",
    "    .merge(visitorsADaily, left_on='date', right_on='date', how='left')\n",
    "    .merge(visitorsBDaily, left_on='date', right_on='date', how='left')\n",
    "    .merge(visitorsACummulative, left_on='date', right_on='date', how='left')\n",
    "    .merge(visitorsBCummulative, left_on='date', right_on='date', how='left')\n",
    ")\n",
    "\n",
    "display(data.head(3))\n",
    "\n",
    "ordersByUsersA = (\n",
    "    orders[orders['group'] == 'A']\n",
    "    .groupby('visitorId', as_index=False)\n",
    "    .agg({'transactionId': pd.Series.nunique})\n",
    ")\n",
    "ordersByUsersA.columns = ['visitorId', 'orders']\n",
    " \n",
    "ordersByUsersB = (\n",
    "    orders[orders['group'] == 'B']\n",
    "    .groupby('visitorId', as_index=False)\n",
    "    .agg({'transactionId': pd.Series.nunique})\n",
    ")\n",
    "ordersByUsersB.columns = ['visitorId', 'orders'] \n",
    "pd.Series(0, index=np.arange(data['visitorsPerDateA'].sum() - len(ordersByUsersA['orders'])), name='orders')\n",
    "sampleA = pd.concat([ordersByUsersA['orders'],pd.Series(0, index=np.arange(data['visitorsPerDateA'].sum() - len(ordersByUsersA['orders'])), name='orders')],axis=0)\n",
    " \n",
    "sampleB = pd.concat([ordersByUsersB['orders'],pd.Series(0, index=np.arange(data['visitorsPerDateB'].sum() - len(ordersByUsersB['orders'])), name='orders')],axis=0)\n",
    "ordersByUsersA = (\n",
    "    orders[orders['group'] == 'A']\n",
    "    .groupby('visitorId', as_index=False)\n",
    "    .agg({'transactionId': pd.Series.nunique})\n",
    ")\n",
    "ordersByUsersA.columns = ['visitorId', 'orders']\n",
    " \n",
    "ordersByUsersB = (\n",
    "    orders[orders['group'] == 'B']\n",
    "    .groupby('visitorId', as_index=False)\n",
    "    .agg({'transactionId': pd.Series.nunique})\n",
    ")\n",
    "ordersByUsersB.columns = ['visitorId', 'orders']\n",
    " \n",
    "sampleA = pd.concat(\n",
    "    [\n",
    "        ordersByUsersA['orders'],\n",
    "        pd.Series(\n",
    "            0,\n",
    "            index=np.arange(\n",
    "                data['visitorsPerDateA'].sum() - len(ordersByUsersA['orders'])\n",
    "            ),\n",
    "            name='orders',\n",
    "        ),\n",
    "    ],\n",
    "    axis=0,\n",
    ")\n",
    " \n",
    "sampleB = pd.concat(\n",
    "    [\n",
    "        ordersByUsersB['orders'],\n",
    "        pd.Series(\n",
    "            0,\n",
    "            index=np.arange(\n",
    "                data['visitorsPerDateB'].sum() - len(ordersByUsersB['orders'])\n",
    "            ),\n",
    "            name='orders',\n",
    "        ),\n",
    "    ],\n",
    "    axis=0,\n",
    ")\n",
    "\n",
    "alpha = 0.05  # критический уровень статистической значимости\n",
    "\n",
    "\n",
    "if stats.mannwhitneyu(sampleA, sampleB)[1] < alpha:\n",
    "\n",
    "    print('Отвергаем нулевую гипотезу: разница статистически значима, p-value =', \n",
    "          \"{0:.5f}\".format(stats.mannwhitneyu(sampleA, sampleB)[1])) \n",
    "else:\n",
    "    print(\n",
    "        'Не получилось отвергнуть нулевую гипотезу, вывод о различии сделать нельзя, p-value =', \n",
    "        \"{0:.5f}\".format(stats.mannwhitneyu(sampleA, sampleB)[1]))\n",
    "    \n",
    "    \n",
    "print( \n",
    " \"{0:.3f}\".format( \n",
    " (data['ordersPerDateB'].sum() / data['visitorsPerDateB'].sum()) \n",
    " / (data['ordersPerDateA'].sum() / data['visitorsPerDateA'].sum()) \n",
    "        - 1\n",
    "    )\n",
    ")"
   ]
  },
  {
   "cell_type": "markdown",
   "metadata": {},
   "source": [
    "Выводы:\n",
    "* в конверсия между группами по «сырым» данным различается\n",
    "* относительная разница среднего группы В к конверсии группы А = 13.8%"
   ]
  },
  {
   "cell_type": "markdown",
   "metadata": {},
   "source": [
    "### p-value в среднем чеке заказа между группами по «сырым» данным"
   ]
  },
  {
   "cell_type": "markdown",
   "metadata": {},
   "source": [
    "Сформируем Нулевую и Альтернативную гипотезы:\n",
    "\n",
    "- Нулевая гипотеза: средний чек между группами по «сырым» данным равна\n",
    "\n",
    "- Альтернативная гипотеза: средний чек между группами по «сырым» данным различается"
   ]
  },
  {
   "cell_type": "code",
   "execution_count": 87,
   "metadata": {},
   "outputs": [
    {
     "name": "stdout",
     "output_type": "stream",
     "text": [
      "Не получилось отвергнуть нулевую гипотезу,   средний чек между группами по «сырым» данным равна, p-value = 0.829\n",
      "0.287\n"
     ]
    }
   ],
   "source": [
    "if stats.mannwhitneyu(orders[orders['group']=='A']['revenue'], orders[orders['group']=='B']['revenue'])[1] < alpha:\n",
    "\n",
    "    print('Отвергаем нулевую гипотезу:  средний чек между группами по «сырым» данным различается , p-value =', \n",
    "          '{0:.3f}'.format(stats.mannwhitneyu(orders[orders['group']=='A']['revenue'], \n",
    "                                              orders[orders['group']=='B']['revenue'])[1])\n",
    "         ) \n",
    "else:\n",
    "    print(\n",
    "        'Не получилось отвергнуть нулевую гипотезу,   средний чек между группами по «сырым» данным равна, p-value =', \n",
    "        '{0:.3f}'.format(stats.mannwhitneyu(orders[orders['group']=='A']['revenue'], \n",
    "                                            orders[orders['group']=='B']['revenue'])[1])\n",
    "    )\n",
    "\n",
    "print('{0:.3f}'.format(orders[orders['group']=='B']['revenue'].mean()/orders[orders['group']=='A']['revenue'].mean()-1)) "
   ]
  },
  {
   "cell_type": "markdown",
   "metadata": {},
   "source": [
    "Выводы:\n",
    "* средний чек между группами по «сырым» данным равны\n",
    "* относительная разница среднего чека В к конверсии группы А = 28.7%\n",
    "\n",
    "Наблюдаема разница 28,7 % по средним чекам не является статистически значимой, однако нужно обратить внимание на то, что она является достаточно большой."
   ]
  },
  {
   "cell_type": "markdown",
   "metadata": {},
   "source": [
    "### Очистим данные"
   ]
  },
  {
   "cell_type": "code",
   "execution_count": 82,
   "metadata": {},
   "outputs": [
    {
     "name": "stdout",
     "output_type": "stream",
     "text": [
      "1099    148427295\n",
      "33      249864742\n",
      "58      611059232\n",
      "949     887908475\n",
      "744     888512513\n",
      "Name: visitorId, dtype: int64\n",
      "\n",
      "Аномальные покупатели 16\n"
     ]
    }
   ],
   "source": [
    "# np.percentile(orders['revenue'], [95, 99])[1] примерно 40 000\n",
    "# заданная граница в ручную\n",
    "\n",
    "usersWithManyOrders = pd.concat(\n",
    "    [\n",
    "        ordersByUsersA[ordersByUsersA['orders'] > np.percentile(ordersByUsers['orders'], [95, 99])[1]]['visitorId'],\n",
    "        ordersByUsersB[ordersByUsersB['orders'] > np.percentile(ordersByUsers['orders'], [95, 99])[1]]['visitorId'],\n",
    "    ],\n",
    "    axis=0,\n",
    ")\n",
    "\n",
    "\n",
    "usersWithExpensiveOrders = orders[orders['revenue'] > np.percentile(orders['revenue'], [95, 99])[1]]['visitorId']\n",
    "abnormalUsers = (\n",
    "    pd.concat([usersWithManyOrders, usersWithExpensiveOrders], axis=0)\n",
    "    .drop_duplicates()\n",
    "    .sort_values()\n",
    ")\n",
    "print(abnormalUsers.head(5))\n",
    "print()\n",
    "# shape[0] длинна таблицы\n",
    "print('Аномальные покупатели', abnormalUsers.shape[0]) "
   ]
  },
  {
   "cell_type": "markdown",
   "metadata": {},
   "source": [
    "### p-value в конверсии между группами по «очищенным» данным"
   ]
  },
  {
   "cell_type": "markdown",
   "metadata": {},
   "source": [
    "Сформируем Нулевую и Альтернативную гипотезы:\n",
    "* Нулевая гипотеза: конверсиях между группами по «очищенным» данным равна\n",
    "\n",
    "* Альтернативная гипотеза: конверсиях между группами по «очищенным» данным различается"
   ]
  },
  {
   "cell_type": "code",
   "execution_count": 90,
   "metadata": {},
   "outputs": [
    {
     "name": "stdout",
     "output_type": "stream",
     "text": [
      "Отвергаем нулевую гипотезу: конверсиях между группами по «очищенным» данным различается, p-value = 0.00702\n",
      "0.189\n"
     ]
    }
   ],
   "source": [
    "sampleAFiltered = pd.concat(\n",
    "    [\n",
    "        ordersByUsersA[\n",
    "            np.logical_not(ordersByUsersA['visitorId'].isin(abnormalUsers))\n",
    "        ]['orders'],\n",
    "        pd.Series(\n",
    "            0,\n",
    "            index=np.arange(\n",
    "                data['visitorsPerDateA'].sum() - len(ordersByUsersA['orders'])\n",
    "            ),\n",
    "            name='orders',\n",
    "        ),\n",
    "    ],\n",
    "    axis=0,\n",
    ") \n",
    "\n",
    "sampleBFiltered = pd.concat(\n",
    "    [\n",
    "        ordersByUsersB[\n",
    "            np.logical_not(ordersByUsersB['visitorId'].isin(abnormalUsers))\n",
    "        ]['orders'],\n",
    "        pd.Series(\n",
    "            0,\n",
    "            index=np.arange(\n",
    "                data['visitorsPerDateB'].sum() - len(ordersByUsersB['orders'])\n",
    "            ),\n",
    "            name='orders',\n",
    "        ),\n",
    "    ],\n",
    "    axis=0,\n",
    ") \n",
    "\n",
    "if stats.mannwhitneyu(sampleAFiltered, sampleBFiltered)[1] < alpha:\n",
    "\n",
    "    print('Отвергаем нулевую гипотезу: конверсиях между группами по «очищенным» данным различается, p-value =', \n",
    "          '{0:.5f}'.format(stats.mannwhitneyu(sampleAFiltered, sampleBFiltered)[1])) \n",
    "else:\n",
    "    print(\n",
    "        'Не получилось отвергнуть нулевую гипотезу, конверсии между группами по «очищенным» данным равны, p-value =', \n",
    "        '{0:.5f}'.format(stats.mannwhitneyu(sampleAFiltered, sampleBFiltered)[1]))\n",
    "print('{0:.3f}'.format(sampleBFiltered.mean()/sampleAFiltered.mean()-1)) "
   ]
  },
  {
   "cell_type": "markdown",
   "metadata": {},
   "source": [
    "Вывод \n",
    "- P-value - уменьшился с 0.01381 до 0.00702 \n",
    "- Как в сырых так и в обработанных данных есть статистическая значимость.\n",
    "- 18.9%  достаточна статистическая значимость"
   ]
  },
  {
   "cell_type": "markdown",
   "metadata": {},
   "source": [
    "### p-value в среднем чеке заказа между группами по «очищенным» данным"
   ]
  },
  {
   "cell_type": "markdown",
   "metadata": {},
   "source": [
    "Сформируем Нулевую и Альтернативную гипотезы:\n",
    "\n",
    "Нулевая гипотеза: средний чек между группами по «очищенным» данным равна\n",
    "\n",
    "Альтернативная гипотеза: средний чек между группами по «очищенным» данным различается"
   ]
  },
  {
   "cell_type": "code",
   "execution_count": 84,
   "metadata": {},
   "outputs": [
    {
     "name": "stdout",
     "output_type": "stream",
     "text": [
      "Принимаем нулевую гипотезу,  средний чек между группами по ««очищенным» данным равна, p-value = 0.788\n",
      "-0.032\n"
     ]
    }
   ],
   "source": [
    "if stats.mannwhitneyu(\n",
    "            orders[\n",
    "                np.logical_and(\n",
    "                    orders['group'] == 'A',\n",
    "                    np.logical_not(orders['visitorId'].isin(abnormalUsers)),\n",
    "                )\n",
    "            ]['revenue'],\n",
    "            orders[\n",
    "                np.logical_and(\n",
    "                    orders['group'] == 'B',\n",
    "                    np.logical_not(orders['visitorId'].isin(abnormalUsers)),\n",
    "                )\n",
    "            ]['revenue'],\n",
    "        )[1] < alpha:\n",
    "\n",
    "    print('Принимаем альтернативную гипотезу: средний чек между группами по «очищенным» данным различается , p-value =', \n",
    "          '{0:.3f}'.format(\n",
    "        stats.mannwhitneyu(\n",
    "            orders[\n",
    "                np.logical_and(\n",
    "                    orders['group'] == 'A',\n",
    "                    np.logical_not(orders['visitorId'].isin(abnormalUsers)),\n",
    "                )\n",
    "            ]['revenue'],\n",
    "            orders[\n",
    "                np.logical_and(\n",
    "                    orders['group'] == 'B',\n",
    "                    np.logical_not(orders['visitorId'].isin(abnormalUsers)),\n",
    "                )\n",
    "            ]['revenue'],\n",
    "        )[1])\n",
    "         ) \n",
    "else:\n",
    "    print('Принимаем нулевую гипотезу,  средний чек между группами по ««очищенным» данным равна, p-value =',\n",
    "        '{0:.3f}'.format(\n",
    "        stats.mannwhitneyu(\n",
    "            orders[\n",
    "                np.logical_and(\n",
    "                    orders['group'] == 'A',\n",
    "                    np.logical_not(orders['visitorId'].isin(abnormalUsers)),\n",
    "                )\n",
    "            ]['revenue'],\n",
    "            orders[\n",
    "                np.logical_and(\n",
    "                    orders['group'] == 'B',\n",
    "                    np.logical_not(orders['visitorId'].isin(abnormalUsers)),\n",
    "                )\n",
    "            ]['revenue'],\n",
    "        )[1])\n",
    "    )\n",
    "\n",
    "\n",
    "\n",
    "print(\n",
    "    \"{0:.3f}\".format(\n",
    "        orders[\n",
    "            np.logical_and(\n",
    "                orders['group'] == 'B',\n",
    "                np.logical_not(orders['visitorId'].isin(abnormalUsers)),\n",
    "            )\n",
    "        ]['revenue'].mean()\n",
    "        / orders[\n",
    "            np.logical_and(\n",
    "                orders['group'] == 'A',\n",
    "                np.logical_not(orders['visitorId'].isin(abnormalUsers)),\n",
    "            )\n",
    "        ]['revenue'].mean()\n",
    "        - 1\n",
    "    )\n",
    ") "
   ]
  },
  {
   "cell_type": "markdown",
   "metadata": {},
   "source": [
    "Выводы:\n",
    "- P-value изменился с 0.01679 до 0.788, но всё так же нет статистически значимых различий\n",
    "\n",
    "- Относительное различие среднего чека между группами стало отрицательным 0.32%\n",
    "\n",
    "При alpha = 0.05  (критический уровень статистической значимости)  относительное различие не является статистически значимым."
   ]
  },
  {
   "cell_type": "markdown",
   "metadata": {},
   "source": [
    "### Принятие решения. Итоги анализа. <a id='5'></a>"
   ]
  },
  {
   "cell_type": "markdown",
   "metadata": {},
   "source": [
    "**Варианты  дальнейших действий**\n",
    "\n",
    "1. Остановить тест, зафиксировать победу одной из групп.\n",
    "2. Остановить тест, зафиксировать отсутствие различий между группами.\n",
    "3. Продолжить тест."
   ]
  },
  {
   "cell_type": "markdown",
   "metadata": {},
   "source": [
    "**Подведем итоги:**\n",
    "- На основе графика хорошо видно, что кумулятивная выручка группы В выше\n",
    "- На основе графика хорошо видно, что кумулятивный средний чек группы В выше\n",
    "- На основе графика хорошо видно, что кумулятивная конверсия группы В выше\n"
   ]
  },
  {
   "cell_type": "markdown",
   "metadata": {},
   "source": [
    "**При критическом уровень статистической значимости alpha = 0.05:**"
   ]
  },
  {
   "cell_type": "markdown",
   "metadata": {},
   "source": [
    "* конверсия между группами по «сырым» данным различается\n",
    "* средние чеки между группами по «сырым» данным равны\n",
    "* относительная разница среднего чека В к конверсии группы А = 28.7%\n",
    "\n",
    "* отвергаем нулевую гипотезу: конверсиях между группами по «очищенным» данным различается\n",
    "* средние чеки между группами по ««очищенным» данным равны"
   ]
  },
  {
   "cell_type": "markdown",
   "metadata": {},
   "source": [
    "Ориентируясь на графики и большую конверсию относительной разницы среднего чека группы В к группе А равной 28.7% принимаем решение, остановить тест. Признать победу группы В над группой А."
   ]
  }
 ],
 "metadata": {
  "ExecuteTimeLog": [
   {
    "duration": 1194,
    "start_time": "2022-07-04T08:49:48.292Z"
   },
   {
    "duration": 88,
    "start_time": "2022-07-04T08:50:04.871Z"
   },
   {
    "duration": 28,
    "start_time": "2022-07-04T08:50:33.410Z"
   },
   {
    "duration": 28,
    "start_time": "2022-07-04T08:51:11.997Z"
   },
   {
    "duration": 33,
    "start_time": "2022-07-04T08:51:50.639Z"
   },
   {
    "duration": 81,
    "start_time": "2022-07-04T08:53:42.924Z"
   },
   {
    "duration": 13,
    "start_time": "2022-07-04T08:54:35.891Z"
   },
   {
    "duration": 12,
    "start_time": "2022-07-04T08:57:12.922Z"
   },
   {
    "duration": 90,
    "start_time": "2022-07-04T09:05:55.414Z"
   },
   {
    "duration": 193,
    "start_time": "2022-07-04T09:12:54.467Z"
   },
   {
    "duration": 70,
    "start_time": "2022-07-04T09:13:03.948Z"
   },
   {
    "duration": 22,
    "start_time": "2022-07-04T09:13:09.629Z"
   },
   {
    "duration": 17,
    "start_time": "2022-07-04T09:13:23.512Z"
   },
   {
    "duration": 14,
    "start_time": "2022-07-04T09:13:27.490Z"
   },
   {
    "duration": 5,
    "start_time": "2022-07-04T09:27:52.910Z"
   },
   {
    "duration": 6,
    "start_time": "2022-07-04T09:28:16.183Z"
   },
   {
    "duration": 5,
    "start_time": "2022-07-04T09:29:20.391Z"
   },
   {
    "duration": 11,
    "start_time": "2022-07-04T09:29:34.394Z"
   },
   {
    "duration": 12,
    "start_time": "2022-07-04T09:30:22.598Z"
   },
   {
    "duration": 13,
    "start_time": "2022-07-04T09:30:52.613Z"
   },
   {
    "duration": 15,
    "start_time": "2022-07-04T09:32:01.761Z"
   },
   {
    "duration": 10,
    "start_time": "2022-07-04T09:32:08.996Z"
   },
   {
    "duration": 12,
    "start_time": "2022-07-04T09:32:23.246Z"
   },
   {
    "duration": 11,
    "start_time": "2022-07-04T09:32:54.153Z"
   },
   {
    "duration": 8,
    "start_time": "2022-07-04T09:34:35.456Z"
   },
   {
    "duration": 7,
    "start_time": "2022-07-04T09:35:24.019Z"
   },
   {
    "duration": 590,
    "start_time": "2022-07-04T09:36:47.671Z"
   },
   {
    "duration": 486,
    "start_time": "2022-07-04T09:37:20.561Z"
   },
   {
    "duration": 484,
    "start_time": "2022-07-04T09:37:58.390Z"
   },
   {
    "duration": 495,
    "start_time": "2022-07-04T09:38:43.862Z"
   },
   {
    "duration": 203,
    "start_time": "2022-07-04T09:43:54.715Z"
   },
   {
    "duration": 386,
    "start_time": "2022-07-04T09:47:54.708Z"
   },
   {
    "duration": 300,
    "start_time": "2022-07-04T09:48:13.048Z"
   },
   {
    "duration": 317,
    "start_time": "2022-07-04T09:48:22.257Z"
   },
   {
    "duration": 293,
    "start_time": "2022-07-04T09:48:33.588Z"
   },
   {
    "duration": 300,
    "start_time": "2022-07-04T09:48:45.654Z"
   },
   {
    "duration": 348,
    "start_time": "2022-07-04T09:49:08.514Z"
   },
   {
    "duration": 229,
    "start_time": "2022-07-04T09:57:50.056Z"
   },
   {
    "duration": 204,
    "start_time": "2022-07-04T09:58:43.043Z"
   },
   {
    "duration": 241,
    "start_time": "2022-07-04T09:58:49.672Z"
   },
   {
    "duration": 234,
    "start_time": "2022-07-04T09:59:29.108Z"
   },
   {
    "duration": 319,
    "start_time": "2022-07-04T09:59:41.902Z"
   },
   {
    "duration": 209,
    "start_time": "2022-07-04T09:59:56.356Z"
   },
   {
    "duration": 494,
    "start_time": "2022-07-04T10:00:01.508Z"
   },
   {
    "duration": 322,
    "start_time": "2022-07-04T10:29:11.442Z"
   },
   {
    "duration": 433,
    "start_time": "2022-07-04T10:29:52.451Z"
   },
   {
    "duration": 330,
    "start_time": "2022-07-04T10:30:22.299Z"
   },
   {
    "duration": 343,
    "start_time": "2022-07-04T10:30:35.122Z"
   },
   {
    "duration": 343,
    "start_time": "2022-07-04T10:30:51.199Z"
   },
   {
    "duration": 293,
    "start_time": "2022-07-04T10:31:42.267Z"
   },
   {
    "duration": 345,
    "start_time": "2022-07-04T10:32:48.398Z"
   },
   {
    "duration": 345,
    "start_time": "2022-07-04T10:33:15.433Z"
   },
   {
    "duration": 338,
    "start_time": "2022-07-04T10:33:26.643Z"
   },
   {
    "duration": 127,
    "start_time": "2022-07-04T10:37:08.796Z"
   },
   {
    "duration": 238,
    "start_time": "2022-07-04T10:37:37.812Z"
   },
   {
    "duration": 149,
    "start_time": "2022-07-04T10:37:53.863Z"
   },
   {
    "duration": 77,
    "start_time": "2022-07-04T10:39:24.081Z"
   },
   {
    "duration": 5,
    "start_time": "2022-07-04T10:40:13.813Z"
   },
   {
    "duration": 212,
    "start_time": "2022-07-04T10:44:21.992Z"
   },
   {
    "duration": 184,
    "start_time": "2022-07-04T10:44:50.662Z"
   },
   {
    "duration": 10,
    "start_time": "2022-07-04T10:48:51.227Z"
   },
   {
    "duration": 3,
    "start_time": "2022-07-04T11:00:50.966Z"
   },
   {
    "duration": 73,
    "start_time": "2022-07-04T11:02:38.729Z"
   },
   {
    "duration": 496,
    "start_time": "2022-07-04T11:03:57.199Z"
   },
   {
    "duration": 78,
    "start_time": "2022-07-04T11:09:41.037Z"
   },
   {
    "duration": 105,
    "start_time": "2022-07-04T11:10:29.247Z"
   },
   {
    "duration": 17,
    "start_time": "2022-07-04T11:12:15.659Z"
   },
   {
    "duration": 16,
    "start_time": "2022-07-04T11:13:51.327Z"
   },
   {
    "duration": 98,
    "start_time": "2022-07-04T11:16:55.008Z"
   },
   {
    "duration": 98,
    "start_time": "2022-07-04T11:18:01.203Z"
   },
   {
    "duration": 13,
    "start_time": "2022-07-04T11:21:33.150Z"
   },
   {
    "duration": 9,
    "start_time": "2022-07-04T11:30:40.819Z"
   },
   {
    "duration": 10,
    "start_time": "2022-07-04T11:31:13.721Z"
   },
   {
    "duration": 10,
    "start_time": "2022-07-04T11:32:00.297Z"
   },
   {
    "duration": 10,
    "start_time": "2022-07-04T11:32:18.211Z"
   },
   {
    "duration": 12,
    "start_time": "2022-07-04T11:32:49.425Z"
   },
   {
    "duration": 40,
    "start_time": "2022-07-04T11:35:21.741Z"
   },
   {
    "duration": 40,
    "start_time": "2022-07-04T11:38:38.804Z"
   },
   {
    "duration": 91,
    "start_time": "2022-07-04T11:41:19.549Z"
   },
   {
    "duration": 20,
    "start_time": "2022-07-04T11:41:50.843Z"
   },
   {
    "duration": 19,
    "start_time": "2022-07-04T11:44:54.460Z"
   },
   {
    "duration": 2,
    "start_time": "2022-07-04T11:49:19.094Z"
   },
   {
    "duration": 55,
    "start_time": "2022-07-05T07:22:16.987Z"
   },
   {
    "duration": 79,
    "start_time": "2022-07-05T07:24:14.184Z"
   },
   {
    "duration": 85,
    "start_time": "2022-07-05T07:28:00.824Z"
   },
   {
    "duration": 1154,
    "start_time": "2022-07-05T08:33:13.323Z"
   },
   {
    "duration": 64,
    "start_time": "2022-07-05T08:33:14.479Z"
   },
   {
    "duration": 15,
    "start_time": "2022-07-05T08:33:14.545Z"
   },
   {
    "duration": 31,
    "start_time": "2022-07-05T08:33:14.564Z"
   },
   {
    "duration": 108,
    "start_time": "2022-07-05T08:33:14.597Z"
   },
   {
    "duration": 16,
    "start_time": "2022-07-05T08:33:14.706Z"
   },
   {
    "duration": 17,
    "start_time": "2022-07-05T08:33:14.724Z"
   },
   {
    "duration": 7,
    "start_time": "2022-07-05T08:33:14.743Z"
   },
   {
    "duration": 9,
    "start_time": "2022-07-05T08:33:14.752Z"
   },
   {
    "duration": 13,
    "start_time": "2022-07-05T08:33:14.764Z"
   },
   {
    "duration": 133,
    "start_time": "2022-07-05T08:33:14.779Z"
   },
   {
    "duration": 0,
    "start_time": "2022-07-05T08:33:14.914Z"
   },
   {
    "duration": 0,
    "start_time": "2022-07-05T08:33:14.915Z"
   },
   {
    "duration": 0,
    "start_time": "2022-07-05T08:33:14.924Z"
   },
   {
    "duration": 0,
    "start_time": "2022-07-05T08:33:14.925Z"
   },
   {
    "duration": 0,
    "start_time": "2022-07-05T08:33:14.926Z"
   },
   {
    "duration": 0,
    "start_time": "2022-07-05T08:33:14.927Z"
   },
   {
    "duration": 0,
    "start_time": "2022-07-05T08:33:14.928Z"
   },
   {
    "duration": 0,
    "start_time": "2022-07-05T08:33:14.930Z"
   },
   {
    "duration": 0,
    "start_time": "2022-07-05T08:33:14.931Z"
   },
   {
    "duration": 0,
    "start_time": "2022-07-05T08:33:14.933Z"
   },
   {
    "duration": 0,
    "start_time": "2022-07-05T08:33:14.934Z"
   },
   {
    "duration": 0,
    "start_time": "2022-07-05T08:33:14.936Z"
   },
   {
    "duration": 0,
    "start_time": "2022-07-05T08:33:14.938Z"
   },
   {
    "duration": 1149,
    "start_time": "2022-07-05T08:33:42.224Z"
   },
   {
    "duration": 25,
    "start_time": "2022-07-05T08:33:43.375Z"
   },
   {
    "duration": 13,
    "start_time": "2022-07-05T08:33:43.402Z"
   },
   {
    "duration": 10,
    "start_time": "2022-07-05T08:33:43.425Z"
   },
   {
    "duration": 44,
    "start_time": "2022-07-05T08:33:43.437Z"
   },
   {
    "duration": 23,
    "start_time": "2022-07-05T08:33:43.483Z"
   },
   {
    "duration": 16,
    "start_time": "2022-07-05T08:33:43.508Z"
   },
   {
    "duration": 20,
    "start_time": "2022-07-05T08:33:43.526Z"
   },
   {
    "duration": 8,
    "start_time": "2022-07-05T08:33:43.548Z"
   },
   {
    "duration": 15,
    "start_time": "2022-07-05T08:33:43.558Z"
   },
   {
    "duration": 100,
    "start_time": "2022-07-05T08:33:43.574Z"
   },
   {
    "duration": 0,
    "start_time": "2022-07-05T08:33:43.675Z"
   },
   {
    "duration": 0,
    "start_time": "2022-07-05T08:33:43.676Z"
   },
   {
    "duration": 0,
    "start_time": "2022-07-05T08:33:43.677Z"
   },
   {
    "duration": 0,
    "start_time": "2022-07-05T08:33:43.678Z"
   },
   {
    "duration": 0,
    "start_time": "2022-07-05T08:33:43.679Z"
   },
   {
    "duration": 0,
    "start_time": "2022-07-05T08:33:43.680Z"
   },
   {
    "duration": 0,
    "start_time": "2022-07-05T08:33:43.681Z"
   },
   {
    "duration": 0,
    "start_time": "2022-07-05T08:33:43.682Z"
   },
   {
    "duration": 0,
    "start_time": "2022-07-05T08:33:43.683Z"
   },
   {
    "duration": 0,
    "start_time": "2022-07-05T08:33:43.684Z"
   },
   {
    "duration": 0,
    "start_time": "2022-07-05T08:33:43.686Z"
   },
   {
    "duration": 0,
    "start_time": "2022-07-05T08:33:43.687Z"
   },
   {
    "duration": 0,
    "start_time": "2022-07-05T08:33:43.689Z"
   },
   {
    "duration": 9,
    "start_time": "2022-07-05T08:35:27.160Z"
   },
   {
    "duration": 24,
    "start_time": "2022-07-05T08:36:23.096Z"
   },
   {
    "duration": 1378,
    "start_time": "2022-07-05T09:10:42.833Z"
   },
   {
    "duration": 92,
    "start_time": "2022-07-05T09:10:44.213Z"
   },
   {
    "duration": 12,
    "start_time": "2022-07-05T09:10:44.306Z"
   },
   {
    "duration": 10,
    "start_time": "2022-07-05T09:10:44.320Z"
   },
   {
    "duration": 170,
    "start_time": "2022-07-05T09:10:44.331Z"
   },
   {
    "duration": 16,
    "start_time": "2022-07-05T09:10:44.503Z"
   },
   {
    "duration": 23,
    "start_time": "2022-07-05T09:10:44.520Z"
   },
   {
    "duration": 24,
    "start_time": "2022-07-05T09:10:44.544Z"
   },
   {
    "duration": 28,
    "start_time": "2022-07-05T09:10:44.569Z"
   },
   {
    "duration": 31,
    "start_time": "2022-07-05T09:10:44.600Z"
   },
   {
    "duration": 74,
    "start_time": "2022-07-05T09:10:44.633Z"
   },
   {
    "duration": 0,
    "start_time": "2022-07-05T09:10:44.708Z"
   },
   {
    "duration": 0,
    "start_time": "2022-07-05T09:10:44.709Z"
   },
   {
    "duration": 0,
    "start_time": "2022-07-05T09:10:44.710Z"
   },
   {
    "duration": 0,
    "start_time": "2022-07-05T09:10:44.711Z"
   },
   {
    "duration": 0,
    "start_time": "2022-07-05T09:10:44.712Z"
   },
   {
    "duration": 0,
    "start_time": "2022-07-05T09:10:44.713Z"
   },
   {
    "duration": 0,
    "start_time": "2022-07-05T09:10:44.714Z"
   },
   {
    "duration": 0,
    "start_time": "2022-07-05T09:10:44.715Z"
   },
   {
    "duration": 0,
    "start_time": "2022-07-05T09:10:44.716Z"
   },
   {
    "duration": 0,
    "start_time": "2022-07-05T09:10:44.717Z"
   },
   {
    "duration": 0,
    "start_time": "2022-07-05T09:10:44.718Z"
   },
   {
    "duration": 0,
    "start_time": "2022-07-05T09:10:44.719Z"
   },
   {
    "duration": 0,
    "start_time": "2022-07-05T09:10:44.720Z"
   },
   {
    "duration": 563,
    "start_time": "2022-07-05T10:12:20.705Z"
   },
   {
    "duration": 4,
    "start_time": "2022-07-05T10:12:27.655Z"
   },
   {
    "duration": 48,
    "start_time": "2022-07-05T10:12:27.661Z"
   },
   {
    "duration": 10,
    "start_time": "2022-07-05T10:12:27.710Z"
   },
   {
    "duration": 21,
    "start_time": "2022-07-05T10:12:27.722Z"
   },
   {
    "duration": 76,
    "start_time": "2022-07-05T10:12:27.745Z"
   },
   {
    "duration": 21,
    "start_time": "2022-07-05T10:12:27.823Z"
   },
   {
    "duration": 32,
    "start_time": "2022-07-05T10:12:27.846Z"
   },
   {
    "duration": 15,
    "start_time": "2022-07-05T10:12:27.879Z"
   },
   {
    "duration": 19,
    "start_time": "2022-07-05T10:12:27.896Z"
   },
   {
    "duration": 29,
    "start_time": "2022-07-05T10:12:27.916Z"
   },
   {
    "duration": 462,
    "start_time": "2022-07-05T10:12:27.947Z"
   },
   {
    "duration": 211,
    "start_time": "2022-07-05T10:12:28.411Z"
   },
   {
    "duration": 390,
    "start_time": "2022-07-05T10:12:28.623Z"
   },
   {
    "duration": 231,
    "start_time": "2022-07-05T10:12:29.015Z"
   },
   {
    "duration": 340,
    "start_time": "2022-07-05T10:12:29.251Z"
   },
   {
    "duration": 161,
    "start_time": "2022-07-05T10:12:29.593Z"
   },
   {
    "duration": 4,
    "start_time": "2022-07-05T10:12:29.756Z"
   },
   {
    "duration": 233,
    "start_time": "2022-07-05T10:12:29.761Z"
   },
   {
    "duration": 4,
    "start_time": "2022-07-05T10:12:29.995Z"
   },
   {
    "duration": 489,
    "start_time": "2022-07-05T10:12:30.001Z"
   },
   {
    "duration": 13,
    "start_time": "2022-07-05T10:12:30.492Z"
   },
   {
    "duration": 33,
    "start_time": "2022-07-05T10:12:30.506Z"
   },
   {
    "duration": 41,
    "start_time": "2022-07-05T10:12:30.540Z"
   },
   {
    "duration": 23,
    "start_time": "2022-07-05T10:12:30.583Z"
   },
   {
    "duration": 33,
    "start_time": "2022-07-05T10:16:12.193Z"
   },
   {
    "duration": 32,
    "start_time": "2022-07-05T10:16:43.174Z"
   },
   {
    "duration": 32,
    "start_time": "2022-07-05T10:16:49.774Z"
   },
   {
    "duration": 32,
    "start_time": "2022-07-05T10:16:55.944Z"
   },
   {
    "duration": 14,
    "start_time": "2022-07-05T10:17:06.154Z"
   },
   {
    "duration": 3,
    "start_time": "2022-07-05T10:17:22.502Z"
   },
   {
    "duration": 38,
    "start_time": "2022-07-05T10:17:22.506Z"
   },
   {
    "duration": 10,
    "start_time": "2022-07-05T10:17:22.545Z"
   },
   {
    "duration": 10,
    "start_time": "2022-07-05T10:17:22.556Z"
   },
   {
    "duration": 65,
    "start_time": "2022-07-05T10:17:22.568Z"
   },
   {
    "duration": 15,
    "start_time": "2022-07-05T10:17:22.635Z"
   },
   {
    "duration": 15,
    "start_time": "2022-07-05T10:17:22.651Z"
   },
   {
    "duration": 5,
    "start_time": "2022-07-05T10:17:22.668Z"
   },
   {
    "duration": 5,
    "start_time": "2022-07-05T10:17:22.675Z"
   },
   {
    "duration": 12,
    "start_time": "2022-07-05T10:17:22.681Z"
   },
   {
    "duration": 479,
    "start_time": "2022-07-05T10:17:22.695Z"
   },
   {
    "duration": 209,
    "start_time": "2022-07-05T10:17:23.175Z"
   },
   {
    "duration": 293,
    "start_time": "2022-07-05T10:17:23.385Z"
   },
   {
    "duration": 223,
    "start_time": "2022-07-05T10:17:23.679Z"
   },
   {
    "duration": 309,
    "start_time": "2022-07-05T10:17:23.904Z"
   },
   {
    "duration": 140,
    "start_time": "2022-07-05T10:17:24.214Z"
   },
   {
    "duration": 4,
    "start_time": "2022-07-05T10:17:24.355Z"
   },
   {
    "duration": 173,
    "start_time": "2022-07-05T10:17:24.361Z"
   },
   {
    "duration": 4,
    "start_time": "2022-07-05T10:17:24.536Z"
   },
   {
    "duration": 485,
    "start_time": "2022-07-05T10:17:24.541Z"
   },
   {
    "duration": 12,
    "start_time": "2022-07-05T10:17:25.027Z"
   },
   {
    "duration": 17,
    "start_time": "2022-07-05T10:17:25.041Z"
   },
   {
    "duration": 43,
    "start_time": "2022-07-05T10:17:25.060Z"
   },
   {
    "duration": 18,
    "start_time": "2022-07-05T10:17:25.106Z"
   },
   {
    "duration": 77,
    "start_time": "2022-07-05T10:18:18.154Z"
   },
   {
    "duration": 1069,
    "start_time": "2022-07-05T16:06:44.876Z"
   },
   {
    "duration": 35,
    "start_time": "2022-07-05T16:06:45.946Z"
   },
   {
    "duration": 10,
    "start_time": "2022-07-05T16:06:45.983Z"
   },
   {
    "duration": 61,
    "start_time": "2022-07-05T16:06:45.995Z"
   },
   {
    "duration": 98,
    "start_time": "2022-07-05T16:06:46.057Z"
   },
   {
    "duration": 13,
    "start_time": "2022-07-05T16:06:46.157Z"
   },
   {
    "duration": 19,
    "start_time": "2022-07-05T16:06:46.172Z"
   },
   {
    "duration": 11,
    "start_time": "2022-07-05T16:06:46.193Z"
   },
   {
    "duration": 36,
    "start_time": "2022-07-05T16:06:46.214Z"
   },
   {
    "duration": 10,
    "start_time": "2022-07-05T16:06:46.255Z"
   },
   {
    "duration": 575,
    "start_time": "2022-07-05T16:06:46.267Z"
   },
   {
    "duration": 219,
    "start_time": "2022-07-05T16:06:46.844Z"
   },
   {
    "duration": 288,
    "start_time": "2022-07-05T16:06:47.064Z"
   },
   {
    "duration": 238,
    "start_time": "2022-07-05T16:06:47.353Z"
   },
   {
    "duration": 357,
    "start_time": "2022-07-05T16:06:47.592Z"
   },
   {
    "duration": 186,
    "start_time": "2022-07-05T16:06:47.950Z"
   },
   {
    "duration": 5,
    "start_time": "2022-07-05T16:06:48.145Z"
   },
   {
    "duration": 234,
    "start_time": "2022-07-05T16:06:48.152Z"
   },
   {
    "duration": 5,
    "start_time": "2022-07-05T16:06:48.387Z"
   },
   {
    "duration": 564,
    "start_time": "2022-07-05T16:06:48.394Z"
   },
   {
    "duration": 13,
    "start_time": "2022-07-05T16:06:48.959Z"
   },
   {
    "duration": 28,
    "start_time": "2022-07-05T16:06:48.974Z"
   },
   {
    "duration": 63,
    "start_time": "2022-07-05T16:06:49.007Z"
   },
   {
    "duration": 24,
    "start_time": "2022-07-05T16:06:49.072Z"
   },
   {
    "duration": 148,
    "start_time": "2022-07-05T16:09:21.779Z"
   },
   {
    "duration": 163,
    "start_time": "2022-07-05T16:10:03.058Z"
   },
   {
    "duration": 138,
    "start_time": "2022-07-05T16:15:10.371Z"
   },
   {
    "duration": 47,
    "start_time": "2022-07-06T08:14:49.552Z"
   },
   {
    "duration": 1358,
    "start_time": "2022-07-06T08:14:55.383Z"
   },
   {
    "duration": 99,
    "start_time": "2022-07-06T08:14:56.744Z"
   },
   {
    "duration": 22,
    "start_time": "2022-07-06T08:14:56.845Z"
   },
   {
    "duration": 18,
    "start_time": "2022-07-06T08:14:56.868Z"
   },
   {
    "duration": 189,
    "start_time": "2022-07-06T08:14:56.889Z"
   },
   {
    "duration": 19,
    "start_time": "2022-07-06T08:14:57.080Z"
   },
   {
    "duration": 17,
    "start_time": "2022-07-06T08:14:57.100Z"
   },
   {
    "duration": 12,
    "start_time": "2022-07-06T08:14:57.119Z"
   },
   {
    "duration": 7,
    "start_time": "2022-07-06T08:14:57.134Z"
   },
   {
    "duration": 31,
    "start_time": "2022-07-06T08:14:57.143Z"
   },
   {
    "duration": 612,
    "start_time": "2022-07-06T08:14:57.176Z"
   },
   {
    "duration": 235,
    "start_time": "2022-07-06T08:14:57.790Z"
   },
   {
    "duration": 388,
    "start_time": "2022-07-06T08:14:58.027Z"
   },
   {
    "duration": 251,
    "start_time": "2022-07-06T08:14:58.417Z"
   },
   {
    "duration": 332,
    "start_time": "2022-07-06T08:14:58.670Z"
   },
   {
    "duration": 167,
    "start_time": "2022-07-06T08:14:59.004Z"
   },
   {
    "duration": 5,
    "start_time": "2022-07-06T08:14:59.174Z"
   },
   {
    "duration": 166,
    "start_time": "2022-07-06T08:14:59.181Z"
   },
   {
    "duration": 17,
    "start_time": "2022-07-06T08:14:59.349Z"
   },
   {
    "duration": 530,
    "start_time": "2022-07-06T08:14:59.368Z"
   },
   {
    "duration": 14,
    "start_time": "2022-07-06T08:14:59.900Z"
   },
   {
    "duration": 11,
    "start_time": "2022-07-06T08:14:59.915Z"
   },
   {
    "duration": 63,
    "start_time": "2022-07-06T08:14:59.927Z"
   },
   {
    "duration": 20,
    "start_time": "2022-07-06T08:14:59.992Z"
   },
   {
    "duration": 13,
    "start_time": "2022-07-06T08:15:20.115Z"
   },
   {
    "duration": 585,
    "start_time": "2022-07-06T08:15:33.920Z"
   },
   {
    "duration": 240,
    "start_time": "2022-07-06T08:16:39.480Z"
   },
   {
    "duration": 297,
    "start_time": "2022-07-06T08:16:52.304Z"
   },
   {
    "duration": 237,
    "start_time": "2022-07-06T08:17:12.492Z"
   },
   {
    "duration": 360,
    "start_time": "2022-07-06T08:17:26.532Z"
   },
   {
    "duration": 169,
    "start_time": "2022-07-06T08:17:40.003Z"
   },
   {
    "duration": 4,
    "start_time": "2022-07-06T08:17:48.211Z"
   },
   {
    "duration": 3,
    "start_time": "2022-07-06T08:18:47.932Z"
   },
   {
    "duration": 51,
    "start_time": "2022-07-06T08:18:47.936Z"
   },
   {
    "duration": 9,
    "start_time": "2022-07-06T08:18:47.988Z"
   },
   {
    "duration": 11,
    "start_time": "2022-07-06T08:18:48.000Z"
   },
   {
    "duration": 76,
    "start_time": "2022-07-06T08:18:48.013Z"
   },
   {
    "duration": 15,
    "start_time": "2022-07-06T08:18:48.091Z"
   },
   {
    "duration": 30,
    "start_time": "2022-07-06T08:18:48.107Z"
   },
   {
    "duration": 22,
    "start_time": "2022-07-06T08:18:48.139Z"
   },
   {
    "duration": 8,
    "start_time": "2022-07-06T08:18:48.167Z"
   },
   {
    "duration": 24,
    "start_time": "2022-07-06T08:18:48.177Z"
   },
   {
    "duration": 511,
    "start_time": "2022-07-06T08:18:48.202Z"
   },
   {
    "duration": 234,
    "start_time": "2022-07-06T08:18:48.714Z"
   },
   {
    "duration": 337,
    "start_time": "2022-07-06T08:18:48.950Z"
   },
   {
    "duration": 236,
    "start_time": "2022-07-06T08:18:49.289Z"
   },
   {
    "duration": 381,
    "start_time": "2022-07-06T08:18:49.526Z"
   },
   {
    "duration": 249,
    "start_time": "2022-07-06T08:18:49.909Z"
   },
   {
    "duration": 4,
    "start_time": "2022-07-06T08:18:50.165Z"
   },
   {
    "duration": 186,
    "start_time": "2022-07-06T08:18:50.171Z"
   },
   {
    "duration": 7,
    "start_time": "2022-07-06T08:18:50.358Z"
   },
   {
    "duration": 552,
    "start_time": "2022-07-06T08:18:50.367Z"
   },
   {
    "duration": 13,
    "start_time": "2022-07-06T08:18:50.920Z"
   },
   {
    "duration": 27,
    "start_time": "2022-07-06T08:18:50.935Z"
   },
   {
    "duration": 44,
    "start_time": "2022-07-06T08:18:50.965Z"
   },
   {
    "duration": 19,
    "start_time": "2022-07-06T08:18:51.011Z"
   },
   {
    "duration": 7,
    "start_time": "2022-07-06T08:19:03.165Z"
   },
   {
    "duration": 12,
    "start_time": "2022-07-06T08:19:59.181Z"
   },
   {
    "duration": 3,
    "start_time": "2022-07-06T08:20:03.840Z"
   },
   {
    "duration": 39,
    "start_time": "2022-07-06T08:20:03.845Z"
   },
   {
    "duration": 10,
    "start_time": "2022-07-06T08:20:03.885Z"
   },
   {
    "duration": 18,
    "start_time": "2022-07-06T08:20:03.896Z"
   },
   {
    "duration": 60,
    "start_time": "2022-07-06T08:20:03.916Z"
   },
   {
    "duration": 16,
    "start_time": "2022-07-06T08:20:03.978Z"
   },
   {
    "duration": 23,
    "start_time": "2022-07-06T08:20:03.995Z"
   },
   {
    "duration": 17,
    "start_time": "2022-07-06T08:20:04.020Z"
   },
   {
    "duration": 7,
    "start_time": "2022-07-06T08:20:04.040Z"
   },
   {
    "duration": 30,
    "start_time": "2022-07-06T08:20:04.058Z"
   },
   {
    "duration": 511,
    "start_time": "2022-07-06T08:20:04.089Z"
   },
   {
    "duration": 230,
    "start_time": "2022-07-06T08:20:04.601Z"
   },
   {
    "duration": 343,
    "start_time": "2022-07-06T08:20:04.833Z"
   },
   {
    "duration": 233,
    "start_time": "2022-07-06T08:20:05.177Z"
   },
   {
    "duration": 348,
    "start_time": "2022-07-06T08:20:05.412Z"
   },
   {
    "duration": 185,
    "start_time": "2022-07-06T08:20:05.765Z"
   },
   {
    "duration": 5,
    "start_time": "2022-07-06T08:20:05.952Z"
   },
   {
    "duration": 211,
    "start_time": "2022-07-06T08:20:05.958Z"
   },
   {
    "duration": 5,
    "start_time": "2022-07-06T08:20:06.171Z"
   },
   {
    "duration": 552,
    "start_time": "2022-07-06T08:20:06.178Z"
   },
   {
    "duration": 22,
    "start_time": "2022-07-06T08:20:06.731Z"
   },
   {
    "duration": 13,
    "start_time": "2022-07-06T08:20:06.758Z"
   },
   {
    "duration": 38,
    "start_time": "2022-07-06T08:20:06.773Z"
   },
   {
    "duration": 38,
    "start_time": "2022-07-06T08:20:06.814Z"
   },
   {
    "duration": 102,
    "start_time": "2022-07-06T08:22:06.007Z"
   },
   {
    "duration": 83,
    "start_time": "2022-07-06T08:24:30.882Z"
   },
   {
    "duration": 14,
    "start_time": "2022-07-06T08:32:04.401Z"
   },
   {
    "duration": 81,
    "start_time": "2022-07-06T08:34:13.852Z"
   },
   {
    "duration": 121,
    "start_time": "2022-07-06T08:37:10.621Z"
   },
   {
    "duration": 43,
    "start_time": "2022-07-06T08:41:17.891Z"
   },
   {
    "duration": 80,
    "start_time": "2022-07-06T08:42:05.711Z"
   },
   {
    "duration": 119,
    "start_time": "2022-07-06T08:45:35.191Z"
   }
  ],
  "kernelspec": {
   "display_name": "Python 3 (ipykernel)",
   "language": "python",
   "name": "python3"
  },
  "language_info": {
   "codemirror_mode": {
    "name": "ipython",
    "version": 3
   },
   "file_extension": ".py",
   "mimetype": "text/x-python",
   "name": "python",
   "nbconvert_exporter": "python",
   "pygments_lexer": "ipython3",
   "version": "3.9.12"
  },
  "toc": {
   "base_numbering": 1,
   "nav_menu": {},
   "number_sections": true,
   "sideBar": true,
   "skip_h1_title": true,
   "title_cell": "Table of Contents",
   "title_sidebar": "Contents",
   "toc_cell": false,
   "toc_position": {
    "height": "calc(100% - 180px)",
    "left": "10px",
    "top": "150px",
    "width": "429.4px"
   },
   "toc_section_display": true,
   "toc_window_display": true
  }
 },
 "nbformat": 4,
 "nbformat_minor": 2
}
