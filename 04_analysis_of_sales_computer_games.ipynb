{
 "cells": [
  {
   "cell_type": "markdown",
   "metadata": {},
   "source": [
    "# Выявление закономерностей для успешных компьютерных игр\n",
    "\n",
    "Перед нами данные из открытых источников о количестве проданных копий компьютерных игр до 2016 года.\n",
    "\n",
    "**Главная цель проекта** - найти закономерности для успешных компьютерных игр на основе данных до 2016 года, что бы дать реккомендации по планированию рекламного бюджета на 2017 год. Под успешностью, в данном анализе будем подразумевать количество проданных копий. Такие факторы, как принесенная прибыль и объемы продаж не учитываются ввиду отсутсвия входящих данных."
   ]
  },
  {
   "cell_type": "markdown",
   "metadata": {},
   "source": [
    "**Структура проекта:**\n",
    "    \n",
    "<a href='#1'><h5>1. Обзор данных </a>\n",
    "<a href='#2'><h5>2. Подготовка данных </a>\n",
    "<a href='#3'><h5>3. Анализ данных </a>\n",
    "<a href='#4'><h5>4. Портрет пользователей по регионам </a>\n",
    "<a href='#5'><h5>5. Проверка гипотез </a>\n",
    "<a href='#6'><h5>6. Общий вывод </a>"
   ]
  },
  {
   "cell_type": "markdown",
   "metadata": {},
   "source": [
    "## 1. Обзор данных <a id='1'></a>"
   ]
  },
  {
   "cell_type": "markdown",
   "metadata": {},
   "source": [
    "### Загружаем библиотеки и БД"
   ]
  },
  {
   "cell_type": "code",
   "execution_count": 1,
   "metadata": {},
   "outputs": [],
   "source": [
    "# загружаем библиотеку pandas\n",
    "import pandas as pd\n",
    "\n",
    "\n",
    "\n",
    "# получение названия файла БД при загрузке\n",
    "import os\n",
    "\n",
    "# загружаем библиотеку NumPy\n",
    "import numpy as np\n",
    "\n",
    "np.set_printoptions(threshold=500)\n",
    "\n",
    "# загружаем библиотеку matplotlib для \"графика с усами\"\n",
    "import matplotlib.pyplot as plt\n",
    "\n",
    "# import scipy для рассчета статистической значимости\n",
    "from scipy import stats as st"
   ]
  },
  {
   "cell_type": "code",
   "execution_count": 2,
   "metadata": {},
   "outputs": [
    {
     "name": "stdout",
     "output_type": "stream",
     "text": [
      "File name: games.csv\n",
      "games.csv has been downloaded from the server\n",
      "games.csv has been downloaded from local host\n"
     ]
    }
   ],
   "source": [
    "# загружаем бд\n",
    "# df = pd.read_csv('https://code.s3.yandex.net/datasets/games.csv')\n",
    "\n",
    "# загрузка БД с сервера или ПК\n",
    "# attempt_1 - путь и название файла для загрузки с сервера\n",
    "# attempt_2 - путь и название файла для загрузки с ПК\n",
    "\n",
    "attempt_1 ='https://code.s3.yandex.net/datasets/games.csv'\n",
    "attempt_2 ='C://yandex_data_sets/04_games.csv'\n",
    "\n",
    "# берем название файла из указанного пути\n",
    "name_os_data = os.path.basename(attempt_1)\n",
    "print('File name:',name_os_data)\n",
    "\n",
    "# обработка ошибок при загрузке\n",
    "try:\n",
    "    df = pd.read_csv(attempt_1) \n",
    "    print(name_os_data, 'has been downloaded from the server')\n",
    "except:\n",
    "    print('Server error')\n",
    "try:\n",
    "    df = pd.read_csv(attempt_2) \n",
    "    print(name_os_data, 'has been downloaded from local host')\n",
    "except:\n",
    "    print('Local Error')"
   ]
  },
  {
   "cell_type": "code",
   "execution_count": 3,
   "metadata": {},
   "outputs": [
    {
     "data": {
      "text/html": [
       "<div>\n",
       "<style scoped>\n",
       "    .dataframe tbody tr th:only-of-type {\n",
       "        vertical-align: middle;\n",
       "    }\n",
       "\n",
       "    .dataframe tbody tr th {\n",
       "        vertical-align: top;\n",
       "    }\n",
       "\n",
       "    .dataframe thead th {\n",
       "        text-align: right;\n",
       "    }\n",
       "</style>\n",
       "<table border=\"1\" class=\"dataframe\">\n",
       "  <thead>\n",
       "    <tr style=\"text-align: right;\">\n",
       "      <th></th>\n",
       "      <th>Name</th>\n",
       "      <th>Platform</th>\n",
       "      <th>Year_of_Release</th>\n",
       "      <th>Genre</th>\n",
       "      <th>NA_sales</th>\n",
       "      <th>EU_sales</th>\n",
       "      <th>JP_sales</th>\n",
       "      <th>Other_sales</th>\n",
       "      <th>Critic_Score</th>\n",
       "      <th>User_Score</th>\n",
       "      <th>Rating</th>\n",
       "    </tr>\n",
       "  </thead>\n",
       "  <tbody>\n",
       "    <tr>\n",
       "      <th>0</th>\n",
       "      <td>Wii Sports</td>\n",
       "      <td>Wii</td>\n",
       "      <td>2006.0</td>\n",
       "      <td>Sports</td>\n",
       "      <td>41.36</td>\n",
       "      <td>28.96</td>\n",
       "      <td>3.77</td>\n",
       "      <td>8.45</td>\n",
       "      <td>76.0</td>\n",
       "      <td>8</td>\n",
       "      <td>E</td>\n",
       "    </tr>\n",
       "    <tr>\n",
       "      <th>1</th>\n",
       "      <td>Super Mario Bros.</td>\n",
       "      <td>NES</td>\n",
       "      <td>1985.0</td>\n",
       "      <td>Platform</td>\n",
       "      <td>29.08</td>\n",
       "      <td>3.58</td>\n",
       "      <td>6.81</td>\n",
       "      <td>0.77</td>\n",
       "      <td>NaN</td>\n",
       "      <td>NaN</td>\n",
       "      <td>NaN</td>\n",
       "    </tr>\n",
       "    <tr>\n",
       "      <th>2</th>\n",
       "      <td>Mario Kart Wii</td>\n",
       "      <td>Wii</td>\n",
       "      <td>2008.0</td>\n",
       "      <td>Racing</td>\n",
       "      <td>15.68</td>\n",
       "      <td>12.76</td>\n",
       "      <td>3.79</td>\n",
       "      <td>3.29</td>\n",
       "      <td>82.0</td>\n",
       "      <td>8.3</td>\n",
       "      <td>E</td>\n",
       "    </tr>\n",
       "  </tbody>\n",
       "</table>\n",
       "</div>"
      ],
      "text/plain": [
       "                Name Platform  Year_of_Release     Genre  NA_sales  EU_sales  \\\n",
       "0         Wii Sports      Wii           2006.0    Sports     41.36     28.96   \n",
       "1  Super Mario Bros.      NES           1985.0  Platform     29.08      3.58   \n",
       "2     Mario Kart Wii      Wii           2008.0    Racing     15.68     12.76   \n",
       "\n",
       "   JP_sales  Other_sales  Critic_Score User_Score Rating  \n",
       "0      3.77         8.45          76.0          8      E  \n",
       "1      6.81         0.77           NaN        NaN    NaN  \n",
       "2      3.79         3.29          82.0        8.3      E  "
      ]
     },
     "metadata": {},
     "output_type": "display_data"
    },
    {
     "name": "stdout",
     "output_type": "stream",
     "text": [
      "<class 'pandas.core.frame.DataFrame'>\n",
      "RangeIndex: 16715 entries, 0 to 16714\n",
      "Data columns (total 11 columns):\n",
      " #   Column           Non-Null Count  Dtype  \n",
      "---  ------           --------------  -----  \n",
      " 0   Name             16713 non-null  object \n",
      " 1   Platform         16715 non-null  object \n",
      " 2   Year_of_Release  16446 non-null  float64\n",
      " 3   Genre            16713 non-null  object \n",
      " 4   NA_sales         16715 non-null  float64\n",
      " 5   EU_sales         16715 non-null  float64\n",
      " 6   JP_sales         16715 non-null  float64\n",
      " 7   Other_sales      16715 non-null  float64\n",
      " 8   Critic_Score     8137 non-null   float64\n",
      " 9   User_Score       10014 non-null  object \n",
      " 10  Rating           9949 non-null   object \n",
      "dtypes: float64(6), object(5)\n",
      "memory usage: 1.4+ MB\n"
     ]
    },
    {
     "data": {
      "text/html": [
       "<div>\n",
       "<style scoped>\n",
       "    .dataframe tbody tr th:only-of-type {\n",
       "        vertical-align: middle;\n",
       "    }\n",
       "\n",
       "    .dataframe tbody tr th {\n",
       "        vertical-align: top;\n",
       "    }\n",
       "\n",
       "    .dataframe thead th {\n",
       "        text-align: right;\n",
       "    }\n",
       "</style>\n",
       "<table border=\"1\" class=\"dataframe\">\n",
       "  <thead>\n",
       "    <tr style=\"text-align: right;\">\n",
       "      <th></th>\n",
       "      <th>Year_of_Release</th>\n",
       "      <th>NA_sales</th>\n",
       "      <th>EU_sales</th>\n",
       "      <th>JP_sales</th>\n",
       "      <th>Other_sales</th>\n",
       "      <th>Critic_Score</th>\n",
       "    </tr>\n",
       "  </thead>\n",
       "  <tbody>\n",
       "    <tr>\n",
       "      <th>count</th>\n",
       "      <td>16446.000000</td>\n",
       "      <td>16715.000000</td>\n",
       "      <td>16715.000000</td>\n",
       "      <td>16715.000000</td>\n",
       "      <td>16715.000000</td>\n",
       "      <td>8137.000000</td>\n",
       "    </tr>\n",
       "    <tr>\n",
       "      <th>mean</th>\n",
       "      <td>2006.484616</td>\n",
       "      <td>0.263377</td>\n",
       "      <td>0.145060</td>\n",
       "      <td>0.077617</td>\n",
       "      <td>0.047342</td>\n",
       "      <td>68.967679</td>\n",
       "    </tr>\n",
       "    <tr>\n",
       "      <th>std</th>\n",
       "      <td>5.877050</td>\n",
       "      <td>0.813604</td>\n",
       "      <td>0.503339</td>\n",
       "      <td>0.308853</td>\n",
       "      <td>0.186731</td>\n",
       "      <td>13.938165</td>\n",
       "    </tr>\n",
       "    <tr>\n",
       "      <th>min</th>\n",
       "      <td>1980.000000</td>\n",
       "      <td>0.000000</td>\n",
       "      <td>0.000000</td>\n",
       "      <td>0.000000</td>\n",
       "      <td>0.000000</td>\n",
       "      <td>13.000000</td>\n",
       "    </tr>\n",
       "    <tr>\n",
       "      <th>25%</th>\n",
       "      <td>2003.000000</td>\n",
       "      <td>0.000000</td>\n",
       "      <td>0.000000</td>\n",
       "      <td>0.000000</td>\n",
       "      <td>0.000000</td>\n",
       "      <td>60.000000</td>\n",
       "    </tr>\n",
       "    <tr>\n",
       "      <th>50%</th>\n",
       "      <td>2007.000000</td>\n",
       "      <td>0.080000</td>\n",
       "      <td>0.020000</td>\n",
       "      <td>0.000000</td>\n",
       "      <td>0.010000</td>\n",
       "      <td>71.000000</td>\n",
       "    </tr>\n",
       "    <tr>\n",
       "      <th>75%</th>\n",
       "      <td>2010.000000</td>\n",
       "      <td>0.240000</td>\n",
       "      <td>0.110000</td>\n",
       "      <td>0.040000</td>\n",
       "      <td>0.030000</td>\n",
       "      <td>79.000000</td>\n",
       "    </tr>\n",
       "    <tr>\n",
       "      <th>max</th>\n",
       "      <td>2016.000000</td>\n",
       "      <td>41.360000</td>\n",
       "      <td>28.960000</td>\n",
       "      <td>10.220000</td>\n",
       "      <td>10.570000</td>\n",
       "      <td>98.000000</td>\n",
       "    </tr>\n",
       "  </tbody>\n",
       "</table>\n",
       "</div>"
      ],
      "text/plain": [
       "       Year_of_Release      NA_sales      EU_sales      JP_sales  \\\n",
       "count     16446.000000  16715.000000  16715.000000  16715.000000   \n",
       "mean       2006.484616      0.263377      0.145060      0.077617   \n",
       "std           5.877050      0.813604      0.503339      0.308853   \n",
       "min        1980.000000      0.000000      0.000000      0.000000   \n",
       "25%        2003.000000      0.000000      0.000000      0.000000   \n",
       "50%        2007.000000      0.080000      0.020000      0.000000   \n",
       "75%        2010.000000      0.240000      0.110000      0.040000   \n",
       "max        2016.000000     41.360000     28.960000     10.220000   \n",
       "\n",
       "        Other_sales  Critic_Score  \n",
       "count  16715.000000   8137.000000  \n",
       "mean       0.047342     68.967679  \n",
       "std        0.186731     13.938165  \n",
       "min        0.000000     13.000000  \n",
       "25%        0.000000     60.000000  \n",
       "50%        0.010000     71.000000  \n",
       "75%        0.030000     79.000000  \n",
       "max       10.570000     98.000000  "
      ]
     },
     "execution_count": 3,
     "metadata": {},
     "output_type": "execute_result"
    }
   ],
   "source": [
    "# выводим заголовок таблицы\n",
    "display(df.head(3))\n",
    "\n",
    "# типы данных\n",
    "df.info()\n",
    "\n",
    "# выводим описание данных, медианы, среднее\n",
    "df.describe()"
   ]
  },
  {
   "cell_type": "code",
   "execution_count": 4,
   "metadata": {},
   "outputs": [
    {
     "name": "stdout",
     "output_type": "stream",
     "text": [
      "E\n",
      "nan\n",
      "M\n",
      "T\n",
      "E10+\n",
      "K-A\n",
      "AO\n",
      "EC\n",
      "RP\n"
     ]
    }
   ],
   "source": [
    "# уникальный список значений Rating\n",
    "# рассмотрим категории\n",
    "\n",
    "rating_unique = (df['Rating'].unique())\n",
    "for index in rating_unique:\n",
    "    print(index)"
   ]
  },
  {
   "cell_type": "markdown",
   "metadata": {},
   "source": [
    "### Загрузка данных: выводы"
   ]
  },
  {
   "cell_type": "markdown",
   "metadata": {},
   "source": [
    "Даныне загружены корректно, критических замечаний нет.\n",
    "- изменим тип данных User_Score, с object на float\n",
    "- изменим названия заголовков\n",
    "- имеются пропуски: Critic_Score, User_Score, Rating. Можнно сразу сказать, что для оценки популярности игры, такие показатели игры, как оценка критиков, оценка игроков и рейтинг являются ключевыми метриками. Ввиду большого количества пропусков в этих данных можно заранее сказать, что выводы по анализу связанные с этими метриками могут быть спорными."
   ]
  },
  {
   "cell_type": "markdown",
   "metadata": {},
   "source": [
    "## Подготовка данных <a id='2'></a>"
   ]
  },
  {
   "cell_type": "markdown",
   "metadata": {},
   "source": [
    "### Названия заголовков"
   ]
  },
  {
   "cell_type": "code",
   "execution_count": 5,
   "metadata": {},
   "outputs": [
    {
     "data": {
      "text/plain": [
       "Index(['Name', 'Platform', 'Year_of_Release', 'Genre', 'NA_sales', 'EU_sales',\n",
       "       'JP_sales', 'Other_sales', 'Critic_Score', 'User_Score', 'Rating'],\n",
       "      dtype='object')"
      ]
     },
     "metadata": {},
     "output_type": "display_data"
    }
   ],
   "source": [
    "# выводим заголовки\n",
    "display(df.columns)"
   ]
  },
  {
   "cell_type": "markdown",
   "metadata": {},
   "source": [
    "Выявленные недочеты:\n",
    "* все заголовки начинаются с Заглавной буквы, заменим на прописные.\n",
    "* Rating заменим на rating_esrb, т.к. в этих данных присутсвует рейтинг только этой компании."
   ]
  },
  {
   "cell_type": "code",
   "execution_count": 6,
   "metadata": {},
   "outputs": [
    {
     "data": {
      "text/plain": [
       "Index(['name', 'platform', 'year_of_release', 'genre', 'na_sales', 'eu_sales',\n",
       "       'jp_sales', 'other_sales', 'critic_score', 'user_score', 'rating_esrb'],\n",
       "      dtype='object')"
      ]
     },
     "metadata": {},
     "output_type": "display_data"
    }
   ],
   "source": [
    "df = df.rename(columns={'Name': 'name', 'Platform': 'platform', 'Year_of_Release': 'year_of_release', 'Genre': 'genre',\n",
    "                        'NA_sales':'na_sales', 'EU_sales':'eu_sales','JP_sales':'jp_sales', 'Other_sales':'other_sales', 'Critic_Score':'critic_score', \n",
    "                        'User_Score':'user_score', 'Rating':'rating_esrb'\n",
    "                        })\n",
    "display(df.columns)"
   ]
  },
  {
   "cell_type": "markdown",
   "metadata": {},
   "source": [
    "### Пропуски"
   ]
  },
  {
   "cell_type": "code",
   "execution_count": 7,
   "metadata": {},
   "outputs": [
    {
     "name": "stdout",
     "output_type": "stream",
     "text": [
      "<class 'pandas.core.frame.DataFrame'>\n",
      "RangeIndex: 16715 entries, 0 to 16714\n",
      "Data columns (total 11 columns):\n",
      " #   Column           Non-Null Count  Dtype  \n",
      "---  ------           --------------  -----  \n",
      " 0   name             16713 non-null  object \n",
      " 1   platform         16715 non-null  object \n",
      " 2   year_of_release  16446 non-null  float64\n",
      " 3   genre            16713 non-null  object \n",
      " 4   na_sales         16715 non-null  float64\n",
      " 5   eu_sales         16715 non-null  float64\n",
      " 6   jp_sales         16715 non-null  float64\n",
      " 7   other_sales      16715 non-null  float64\n",
      " 8   critic_score     8137 non-null   float64\n",
      " 9   user_score       10014 non-null  object \n",
      " 10  rating_esrb      9949 non-null   object \n",
      "dtypes: float64(6), object(5)\n",
      "memory usage: 1.4+ MB\n"
     ]
    }
   ],
   "source": [
    "df.info()"
   ]
  },
  {
   "cell_type": "code",
   "execution_count": 8,
   "metadata": {},
   "outputs": [
    {
     "name": "stdout",
     "output_type": "stream",
     "text": [
      "                name platform  year_of_release     genre  na_sales  eu_sales  \\\n",
      "0         Wii Sports      Wii           2006.0    Sports     41.36     28.96   \n",
      "1  Super Mario Bros.      NES           1985.0  Platform     29.08      3.58   \n",
      "2     Mario Kart Wii      Wii           2008.0    Racing     15.68     12.76   \n",
      "\n",
      "   jp_sales  other_sales  critic_score user_score rating_esrb  \n",
      "0      3.77         8.45          76.0          8           E  \n",
      "1      6.81         0.77           NaN        NaN         NaN  \n",
      "2      3.79         3.29          82.0        8.3           E  \n"
     ]
    }
   ],
   "source": [
    "print(df.head(3))"
   ]
  },
  {
   "cell_type": "markdown",
   "metadata": {},
   "source": [
    "Рассмотрим пустые значения в name"
   ]
  },
  {
   "cell_type": "code",
   "execution_count": 9,
   "metadata": {},
   "outputs": [
    {
     "data": {
      "text/html": [
       "<div>\n",
       "<style scoped>\n",
       "    .dataframe tbody tr th:only-of-type {\n",
       "        vertical-align: middle;\n",
       "    }\n",
       "\n",
       "    .dataframe tbody tr th {\n",
       "        vertical-align: top;\n",
       "    }\n",
       "\n",
       "    .dataframe thead th {\n",
       "        text-align: right;\n",
       "    }\n",
       "</style>\n",
       "<table border=\"1\" class=\"dataframe\">\n",
       "  <thead>\n",
       "    <tr style=\"text-align: right;\">\n",
       "      <th></th>\n",
       "      <th>name</th>\n",
       "      <th>platform</th>\n",
       "      <th>year_of_release</th>\n",
       "      <th>genre</th>\n",
       "      <th>na_sales</th>\n",
       "      <th>eu_sales</th>\n",
       "      <th>jp_sales</th>\n",
       "      <th>other_sales</th>\n",
       "      <th>critic_score</th>\n",
       "      <th>user_score</th>\n",
       "      <th>rating_esrb</th>\n",
       "    </tr>\n",
       "  </thead>\n",
       "  <tbody>\n",
       "    <tr>\n",
       "      <th>659</th>\n",
       "      <td>NaN</td>\n",
       "      <td>GEN</td>\n",
       "      <td>1993.0</td>\n",
       "      <td>NaN</td>\n",
       "      <td>1.78</td>\n",
       "      <td>0.53</td>\n",
       "      <td>0.00</td>\n",
       "      <td>0.08</td>\n",
       "      <td>NaN</td>\n",
       "      <td>NaN</td>\n",
       "      <td>NaN</td>\n",
       "    </tr>\n",
       "    <tr>\n",
       "      <th>14244</th>\n",
       "      <td>NaN</td>\n",
       "      <td>GEN</td>\n",
       "      <td>1993.0</td>\n",
       "      <td>NaN</td>\n",
       "      <td>0.00</td>\n",
       "      <td>0.00</td>\n",
       "      <td>0.03</td>\n",
       "      <td>0.00</td>\n",
       "      <td>NaN</td>\n",
       "      <td>NaN</td>\n",
       "      <td>NaN</td>\n",
       "    </tr>\n",
       "  </tbody>\n",
       "</table>\n",
       "</div>"
      ],
      "text/plain": [
       "      name platform  year_of_release genre  na_sales  eu_sales  jp_sales  \\\n",
       "659    NaN      GEN           1993.0   NaN      1.78      0.53      0.00   \n",
       "14244  NaN      GEN           1993.0   NaN      0.00      0.00      0.03   \n",
       "\n",
       "       other_sales  critic_score user_score rating_esrb  \n",
       "659           0.08           NaN        NaN         NaN  \n",
       "14244         0.00           NaN        NaN         NaN  "
      ]
     },
     "metadata": {},
     "output_type": "display_data"
    }
   ],
   "source": [
    "# фильтруем по пустым строкам\n",
    "display(df[df['name'].isna()])"
   ]
  },
  {
   "cell_type": "markdown",
   "metadata": {},
   "source": [
    "Из доступных данных видно, что это записи об играх за 1993 год и они не имеют никакой информативности, удалим две эти строки."
   ]
  },
  {
   "cell_type": "code",
   "execution_count": 10,
   "metadata": {},
   "outputs": [
    {
     "name": "stdout",
     "output_type": "stream",
     "text": [
      "<class 'pandas.core.frame.DataFrame'>\n",
      "RangeIndex: 16713 entries, 0 to 16712\n",
      "Data columns (total 11 columns):\n",
      " #   Column           Non-Null Count  Dtype  \n",
      "---  ------           --------------  -----  \n",
      " 0   name             16713 non-null  object \n",
      " 1   platform         16713 non-null  object \n",
      " 2   year_of_release  16444 non-null  float64\n",
      " 3   genre            16713 non-null  object \n",
      " 4   na_sales         16713 non-null  float64\n",
      " 5   eu_sales         16713 non-null  float64\n",
      " 6   jp_sales         16713 non-null  float64\n",
      " 7   other_sales      16713 non-null  float64\n",
      " 8   critic_score     8137 non-null   float64\n",
      " 9   user_score       10014 non-null  object \n",
      " 10  rating_esrb      9949 non-null   object \n",
      "dtypes: float64(6), object(5)\n",
      "memory usage: 1.4+ MB\n"
     ]
    },
    {
     "data": {
      "text/plain": [
       "None"
      ]
     },
     "metadata": {},
     "output_type": "display_data"
    }
   ],
   "source": [
    "# удаление строк, в столбце name встречается NaN\n",
    "# сброс индексов после удаления\n",
    "df = df.dropna(subset=['name',]).reset_index(drop=True)\n",
    "\n",
    "# проверим индексацию и общее количество данных после удаления\n",
    "display(df.info())"
   ]
  },
  {
   "cell_type": "markdown",
   "metadata": {},
   "source": [
    "### Игры по году выпуска"
   ]
  },
  {
   "cell_type": "markdown",
   "metadata": {},
   "source": [
    "В данных присутствуют пропуски, но т.к. заполнить пропущенные значения нет возможности а заполнение средним показателем или медианой приведет к искажению, оставим эти данные без изменений."
   ]
  },
  {
   "cell_type": "markdown",
   "metadata": {},
   "source": [
    "### Рейтинг игроков - user_score"
   ]
  },
  {
   "cell_type": "markdown",
   "metadata": {},
   "source": [
    "Тип данных user_score задан как строка, проверим эти данные."
   ]
  },
  {
   "cell_type": "code",
   "execution_count": 11,
   "metadata": {
    "scrolled": true
   },
   "outputs": [
    {
     "name": "stdout",
     "output_type": "stream",
     "text": [
      "user_score\n",
      "tbd    2424\n",
      "7.8     324\n",
      "8       290\n",
      "8.2     282\n",
      "8.3     254\n",
      "8.5     253\n",
      "7.5     251\n",
      "7.9     249\n",
      "8.1     244\n",
      "7.7     240\n",
      "7.3     236\n",
      "8.4     223\n",
      "7       220\n",
      "7.6     220\n",
      "7.4     215\n",
      "8.6     211\n",
      "6.8     197\n",
      "8.7     188\n",
      "8.8     186\n",
      "7.1     180\n",
      "7.2     167\n",
      "8.9     153\n",
      "6.6     148\n",
      "6.9     143\n",
      "6.3     138\n",
      "6.7     128\n",
      "6       127\n",
      "6.5     125\n",
      "9       120\n",
      "6.2     113\n",
      "6.4     107\n",
      "5.8      97\n",
      "9.1      90\n",
      "6.1      84\n",
      "5.7      78\n",
      "5.9      77\n",
      "5.6      72\n",
      "5.4      72\n",
      "5.5      71\n",
      "5.3      70\n",
      "5        64\n",
      "5.2      57\n",
      "4.8      49\n",
      "5.1      44\n",
      "9.2      43\n",
      "4.9      40\n",
      "4.3      37\n",
      "4.6      37\n",
      "4.5      34\n",
      "4.4      33\n",
      "4.1      33\n",
      "9.3      31\n",
      "4.2      28\n",
      "3.8      28\n",
      "4        27\n",
      "3.5      26\n",
      "2.8      24\n",
      "4.7      24\n",
      "3.4      23\n",
      "3.1      23\n",
      "3        21\n",
      "3.6      20\n",
      "3.7      19\n",
      "3.3      15\n",
      "3.2      13\n",
      "3.9      13\n",
      "2.5      12\n",
      "9.4      11\n",
      "2.4      11\n",
      "2        11\n",
      "2.1       9\n",
      "1.7       9\n",
      "2.9       9\n",
      "2.7       8\n",
      "2.2       6\n",
      "9.5       6\n",
      "1.8       6\n",
      "1.4       5\n",
      "2.6       4\n",
      "1.6       3\n",
      "1.2       3\n",
      "0.6       2\n",
      "9.6       2\n",
      "0.3       2\n",
      "0.5       2\n",
      "2.3       2\n",
      "0.7       2\n",
      "0.9       2\n",
      "1         2\n",
      "1.1       2\n",
      "1.3       2\n",
      "1.5       2\n",
      "1.9       2\n",
      "0.2       2\n",
      "9.7       1\n",
      "0         1\n",
      "Name: user_score, dtype: int64\n"
     ]
    }
   ],
   "source": [
    "# список уникальных значений user_score\n",
    "# рассмотрим категории для выявления некорректных значений\n",
    "\n",
    "pd.options.display.max_rows = 100\n",
    "df_user_score_group = df.groupby('user_score')['user_score'].count().sort_values(ascending=False)\n",
    "print(df_user_score_group)\n"
   ]
  },
  {
   "cell_type": "markdown",
   "metadata": {},
   "source": [
    "Рассмотрим строки с данными tbd"
   ]
  },
  {
   "cell_type": "code",
   "execution_count": 12,
   "metadata": {},
   "outputs": [
    {
     "data": {
      "text/html": [
       "<div>\n",
       "<style scoped>\n",
       "    .dataframe tbody tr th:only-of-type {\n",
       "        vertical-align: middle;\n",
       "    }\n",
       "\n",
       "    .dataframe tbody tr th {\n",
       "        vertical-align: top;\n",
       "    }\n",
       "\n",
       "    .dataframe thead th {\n",
       "        text-align: right;\n",
       "    }\n",
       "</style>\n",
       "<table border=\"1\" class=\"dataframe\">\n",
       "  <thead>\n",
       "    <tr style=\"text-align: right;\">\n",
       "      <th></th>\n",
       "      <th>name</th>\n",
       "      <th>platform</th>\n",
       "      <th>year_of_release</th>\n",
       "      <th>genre</th>\n",
       "      <th>na_sales</th>\n",
       "      <th>eu_sales</th>\n",
       "      <th>jp_sales</th>\n",
       "      <th>other_sales</th>\n",
       "      <th>critic_score</th>\n",
       "      <th>user_score</th>\n",
       "      <th>rating_esrb</th>\n",
       "    </tr>\n",
       "  </thead>\n",
       "  <tbody>\n",
       "    <tr>\n",
       "      <th>119</th>\n",
       "      <td>Zumba Fitness</td>\n",
       "      <td>Wii</td>\n",
       "      <td>2010.0</td>\n",
       "      <td>Sports</td>\n",
       "      <td>3.45</td>\n",
       "      <td>2.59</td>\n",
       "      <td>0.0</td>\n",
       "      <td>0.66</td>\n",
       "      <td>NaN</td>\n",
       "      <td>tbd</td>\n",
       "      <td>E</td>\n",
       "    </tr>\n",
       "    <tr>\n",
       "      <th>301</th>\n",
       "      <td>Namco Museum: 50th Anniversary</td>\n",
       "      <td>PS2</td>\n",
       "      <td>2005.0</td>\n",
       "      <td>Misc</td>\n",
       "      <td>2.08</td>\n",
       "      <td>1.35</td>\n",
       "      <td>0.0</td>\n",
       "      <td>0.54</td>\n",
       "      <td>61.0</td>\n",
       "      <td>tbd</td>\n",
       "      <td>E10+</td>\n",
       "    </tr>\n",
       "    <tr>\n",
       "      <th>520</th>\n",
       "      <td>Zumba Fitness 2</td>\n",
       "      <td>Wii</td>\n",
       "      <td>2011.0</td>\n",
       "      <td>Sports</td>\n",
       "      <td>1.51</td>\n",
       "      <td>1.03</td>\n",
       "      <td>0.0</td>\n",
       "      <td>0.27</td>\n",
       "      <td>NaN</td>\n",
       "      <td>tbd</td>\n",
       "      <td>T</td>\n",
       "    </tr>\n",
       "  </tbody>\n",
       "</table>\n",
       "</div>"
      ],
      "text/plain": [
       "                               name platform  year_of_release   genre  \\\n",
       "119                   Zumba Fitness      Wii           2010.0  Sports   \n",
       "301  Namco Museum: 50th Anniversary      PS2           2005.0    Misc   \n",
       "520                 Zumba Fitness 2      Wii           2011.0  Sports   \n",
       "\n",
       "     na_sales  eu_sales  jp_sales  other_sales  critic_score user_score  \\\n",
       "119      3.45      2.59       0.0         0.66           NaN        tbd   \n",
       "301      2.08      1.35       0.0         0.54          61.0        tbd   \n",
       "520      1.51      1.03       0.0         0.27           NaN        tbd   \n",
       "\n",
       "    rating_esrb  \n",
       "119           E  \n",
       "301        E10+  \n",
       "520           T  "
      ]
     },
     "metadata": {},
     "output_type": "display_data"
    }
   ],
   "source": [
    "# отфильтруем данные по значению  tbd\n",
    "display(df.loc[df.loc[:,'user_score'] == 'tbd'].head(3))"
   ]
  },
  {
   "cell_type": "markdown",
   "metadata": {},
   "source": [
    "Всего получаем 2376 строк с этим значением. Если верить Википедии то сокращение tbd может быть расшифрованно, как To be declared аналогично термину To be announced (TBA)  -детали, возможно, были определены, но еще не готовы к объявлению. Судя по случайной выборке, эти данные относятся к игре 2001 года, что указывает на то, что данные уже не будут указаны. От исследуемой выборки 15958 строк эти данные представляют 15%, что является очень существенным, а если учесть, тот факт, что оценка пользователей является одним из главных показателей для определения рейтинга игры, то по поводу пропуска этих данных необходимо задать уточняющие вопросы, возможно есть пути получения этих данных.\n",
    "\n",
    "Так же рассматривая данные \"Рейтинг пользователей\" нужно учесть тот факт, что 6123 строки имеют отсутсвующие значения, что вместе с tdb данными образует 53% от всех данных, в итоге получается, что один из ключевых показателей рейтинга игры, актуален меньше, чем на половину. По поводу этих данных необходимо задать уточняющие вопросы.\n",
    "\n",
    "На данном же этапе исследования, будем учитывать тот факт, что данные \"Рейтинг пользователей\" актуален только на 47%"
   ]
  },
  {
   "cell_type": "code",
   "execution_count": 13,
   "metadata": {},
   "outputs": [],
   "source": [
    "# заменим значения\n",
    "## alternativ\n",
    "## df['user_score']=df['user_score'].apply(lambda x: np.nan if x=='tbd' else x)\n",
    "\n",
    "df['user_score'] = df['user_score'].replace('tbd', np.nan)"
   ]
  },
  {
   "cell_type": "markdown",
   "metadata": {},
   "source": [
    "Изменим вещественный тип данных на целочисленный с помощью метода astype()\n",
    "Попытка изменить тип данных приводит к ошибке, поэтому рассмотрим все типы данных - рейтинг пользователей"
   ]
  },
  {
   "cell_type": "code",
   "execution_count": 14,
   "metadata": {},
   "outputs": [
    {
     "name": "stdout",
     "output_type": "stream",
     "text": [
      "[<class 'str'> <class 'float'>]\n"
     ]
    }
   ],
   "source": [
    "# зададим функцию и получим тим данных в каждой строке\n",
    "\n",
    "def type_curreny(val):\n",
    "    return type(val)\n",
    "\n",
    "# зададим переменную с полученным типом данных\n",
    "df_type = df['user_score'].apply(type_curreny)\n",
    "\n",
    "print(df_type.unique())"
   ]
  },
  {
   "cell_type": "markdown",
   "metadata": {},
   "source": [
    "т.к. из приведенных данных видно, что есть тип данных str, воспользуемся методом to_numeric для замены данных, в качестве аргумента обработки ошибок вопользуемся coerce, замена на Nan"
   ]
  },
  {
   "cell_type": "code",
   "execution_count": 15,
   "metadata": {},
   "outputs": [],
   "source": [
    "df['user_score'] = pd.to_numeric(df['user_score'], errors='coerce')"
   ]
  },
  {
   "cell_type": "code",
   "execution_count": 16,
   "metadata": {},
   "outputs": [
    {
     "name": "stdout",
     "output_type": "stream",
     "text": [
      "<class 'pandas.core.frame.DataFrame'>\n",
      "RangeIndex: 16713 entries, 0 to 16712\n",
      "Data columns (total 11 columns):\n",
      " #   Column           Non-Null Count  Dtype  \n",
      "---  ------           --------------  -----  \n",
      " 0   name             16713 non-null  object \n",
      " 1   platform         16713 non-null  object \n",
      " 2   year_of_release  16444 non-null  float64\n",
      " 3   genre            16713 non-null  object \n",
      " 4   na_sales         16713 non-null  float64\n",
      " 5   eu_sales         16713 non-null  float64\n",
      " 6   jp_sales         16713 non-null  float64\n",
      " 7   other_sales      16713 non-null  float64\n",
      " 8   critic_score     8137 non-null   float64\n",
      " 9   user_score       7590 non-null   float64\n",
      " 10  rating_esrb      9949 non-null   object \n",
      "dtypes: float64(7), object(4)\n",
      "memory usage: 1.4+ MB\n"
     ]
    }
   ],
   "source": [
    "# проверим тип данных после изменения\n",
    "\n",
    "df.info()"
   ]
  },
  {
   "cell_type": "markdown",
   "metadata": {},
   "source": [
    "Для заполнения пропущенных значений Nan рассмотрим медианное и среднее значения для оценки пользователей."
   ]
  },
  {
   "cell_type": "code",
   "execution_count": 17,
   "metadata": {},
   "outputs": [
    {
     "name": "stdout",
     "output_type": "stream",
     "text": [
      "Медианное значение для оценки игроков 7.5\n",
      "Среднее значение для оценки игроков 7.1250461133070315\n"
     ]
    }
   ],
   "source": [
    "# Рассмотрим медианное и среднее значения для Оценки пользователей\n",
    "\n",
    "user_score_median = df['user_score'].median()\n",
    "user_score_mean = df['user_score'].mean()\n",
    "\n",
    "print('Медианное значение для оценки игроков', user_score_median)\n",
    "print('Среднее значение для оценки игроков', user_score_mean)"
   ]
  },
  {
   "cell_type": "markdown",
   "metadata": {},
   "source": [
    "Известно, что медиана более устойчива к выбросам, поэтому воспользуемся медианой для заполнения пропущенных значений.\n",
    "\n",
    "Хотя в данном случае очевидно, что значения сильно не отличаются."
   ]
  },
  {
   "cell_type": "markdown",
   "metadata": {},
   "source": [
    "Замена значений Nan на медианное значение в рейтингах игроков приводит к увеличению средней оценки пользователей на 0.2 пункта. Для снижения искажения данных оставим данные пропуски без изменений. "
   ]
  },
  {
   "cell_type": "markdown",
   "metadata": {},
   "source": [
    "### Рейтинг критиков - critic_score"
   ]
  },
  {
   "cell_type": "markdown",
   "metadata": {},
   "source": [
    "Сгруппируем и просмотрим все данные:"
   ]
  },
  {
   "cell_type": "code",
   "execution_count": 18,
   "metadata": {
    "scrolled": true
   },
   "outputs": [
    {
     "name": "stdout",
     "output_type": "stream",
     "text": [
      "critic_score\n",
      "13.0      1\n",
      "17.0      1\n",
      "19.0      6\n",
      "20.0      3\n",
      "21.0      1\n",
      "22.0      1\n",
      "23.0      4\n",
      "24.0      4\n",
      "25.0      7\n",
      "26.0     12\n",
      "27.0      8\n",
      "28.0     11\n",
      "29.0      3\n",
      "30.0     12\n",
      "31.0      9\n",
      "32.0     15\n",
      "33.0     22\n",
      "34.0     10\n",
      "35.0     27\n",
      "36.0     26\n",
      "37.0     28\n",
      "38.0     34\n",
      "39.0     39\n",
      "40.0     26\n",
      "41.0     29\n",
      "42.0     37\n",
      "43.0     54\n",
      "44.0     50\n",
      "45.0     47\n",
      "46.0     56\n",
      "47.0     66\n",
      "48.0     67\n",
      "49.0     86\n",
      "50.0     79\n",
      "51.0     90\n",
      "52.0     73\n",
      "53.0    103\n",
      "54.0    103\n",
      "55.0    110\n",
      "56.0    113\n",
      "57.0    132\n",
      "58.0    151\n",
      "59.0    157\n",
      "60.0    156\n",
      "61.0    165\n",
      "62.0    170\n",
      "63.0    178\n",
      "64.0    169\n",
      "65.0    192\n",
      "66.0    203\n",
      "67.0    182\n",
      "68.0    219\n",
      "69.0    215\n",
      "70.0    256\n",
      "71.0    254\n",
      "72.0    226\n",
      "73.0    238\n",
      "74.0    226\n",
      "75.0    245\n",
      "76.0    235\n",
      "77.0    225\n",
      "78.0    240\n",
      "79.0    218\n",
      "80.0    237\n",
      "81.0    218\n",
      "82.0    208\n",
      "83.0    206\n",
      "84.0    183\n",
      "85.0    151\n",
      "86.0    137\n",
      "87.0    118\n",
      "88.0    116\n",
      "89.0    105\n",
      "90.0     76\n",
      "91.0     70\n",
      "92.0     54\n",
      "93.0     47\n",
      "94.0     37\n",
      "95.0     16\n",
      "96.0     18\n",
      "97.0     11\n",
      "98.0      4\n",
      "Name: critic_score, dtype: int64\n"
     ]
    }
   ],
   "source": [
    "# Сгруппируем и просмотрим все данные critic_score:\n",
    "\n",
    "pd.options.display.max_rows = 100\n",
    "df_user_score_group = df.groupby('critic_score')['critic_score'].count()\n",
    "print(df_user_score_group)"
   ]
  },
  {
   "cell_type": "markdown",
   "metadata": {},
   "source": [
    "Для заполнения пропущенных значений Nan рассмотрим медианное и среднее значения для оценки критиков."
   ]
  },
  {
   "cell_type": "code",
   "execution_count": 19,
   "metadata": {},
   "outputs": [
    {
     "name": "stdout",
     "output_type": "stream",
     "text": [
      "Медианное значение для оценки критиков 71.0\n",
      "Среднее значение для оценки критиков 68.96767850559173\n"
     ]
    }
   ],
   "source": [
    "# Рассмотрим медианное и среднее значения для Оценки критиков\n",
    "\n",
    "critic_score_median = df['critic_score'].median()\n",
    "critic_score_mean = df['critic_score'].mean()\n",
    "\n",
    "print('Медианное значение для оценки критиков', critic_score_median)\n",
    "print('Среднее значение для оценки критиков', critic_score_mean)"
   ]
  },
  {
   "cell_type": "markdown",
   "metadata": {},
   "source": [
    "В виду того, что замена данных на медиальные приводит к изменению среднего значения на 1.0 пункта оставим эти данные с имеющимися пропусками."
   ]
  },
  {
   "cell_type": "markdown",
   "metadata": {},
   "source": [
    "### Рейтинг ESRB"
   ]
  },
  {
   "cell_type": "code",
   "execution_count": 20,
   "metadata": {},
   "outputs": [
    {
     "name": "stdout",
     "output_type": "stream",
     "text": [
      "rating_esrb\n",
      "AO         1\n",
      "E       3990\n",
      "E10+    1420\n",
      "EC         8\n",
      "K-A        3\n",
      "M       1563\n",
      "RP         3\n",
      "T       2961\n",
      "Name: rating_esrb, dtype: int64\n"
     ]
    }
   ],
   "source": [
    "# Сгруппируем и просмотрим все данные rating_esrb:\n",
    "\n",
    "pd.options.display.max_rows = 100\n",
    "df_user_score_group = df.groupby('rating_esrb')['rating_esrb'].count()\n",
    "print(df_user_score_group)"
   ]
  },
  {
   "cell_type": "markdown",
   "metadata": {},
   "source": [
    "Помимо пропусков есть явно нетипичные значения:\n",
    "\n",
    "* AO\n",
    "* EC\n",
    "* k-A\n",
    "* RP"
   ]
  },
  {
   "cell_type": "markdown",
   "metadata": {},
   "source": [
    "Сопоставим эти данные с описанием Entertainment Software Rating Board\n",
    "\n",
    "* «EC» («Early childhood») — «Для детей младшего возраста» (от 3-х лет)\n",
    "* «E» («Everyone») — «Для всех» (от 6-ти лет) - первоначально \"K-A\" (\"Kids to Adults\")\n",
    "* «E10+» («Everyone 10 and older») — «Для всех от 10 лет и старше»\n",
    "\n",
    "* «T» («Teen») — «Подросткам» (от 13-ти лет)\n",
    "* «M» («Mature») — «Для взрослых» (от 17-ти лет)\n",
    "* «AO» («Adults Only 18+») — «Только для взрослых» (от 18-ти лет)\n",
    "* «RP» («Rating Pending») — «Рейтинг ожидается»"
   ]
  },
  {
   "cell_type": "markdown",
   "metadata": {},
   "source": [
    "В результате получается, что все данные корректны, кроме K-A, этот рейтинг заменим на E"
   ]
  },
  {
   "cell_type": "code",
   "execution_count": 21,
   "metadata": {},
   "outputs": [],
   "source": [
    "df['rating_esrb'] = df['rating_esrb'].replace('K-A', \"E\")"
   ]
  },
  {
   "cell_type": "code",
   "execution_count": 22,
   "metadata": {},
   "outputs": [
    {
     "name": "stdout",
     "output_type": "stream",
     "text": [
      "rating_esrb\n",
      "AO         1\n",
      "E       3993\n",
      "E10+    1420\n",
      "EC         8\n",
      "M       1563\n",
      "RP         3\n",
      "T       2961\n",
      "Name: rating_esrb, dtype: int64\n"
     ]
    }
   ],
   "source": [
    "# проверим данные данные rating_esrb:\n",
    "\n",
    "pd.options.display.max_rows = 100\n",
    "df_user_score_group = df.groupby('rating_esrb')['rating_esrb'].count()\n",
    "print(df_user_score_group)"
   ]
  },
  {
   "cell_type": "markdown",
   "metadata": {},
   "source": [
    "Заполним пропуски rating_esrb"
   ]
  },
  {
   "cell_type": "markdown",
   "metadata": {},
   "source": [
    "Игра без рейтинга 39%, необходимо учитывать, что в % соотношении это будет самая большая группа, изменим этот тип на группу ND (not defined)"
   ]
  },
  {
   "cell_type": "code",
   "execution_count": 23,
   "metadata": {},
   "outputs": [],
   "source": [
    "df['rating_esrb'] = df['rating_esrb'].fillna(value='ND')"
   ]
  },
  {
   "cell_type": "code",
   "execution_count": 24,
   "metadata": {},
   "outputs": [
    {
     "name": "stdout",
     "output_type": "stream",
     "text": [
      "<class 'pandas.core.frame.DataFrame'>\n",
      "RangeIndex: 16713 entries, 0 to 16712\n",
      "Data columns (total 11 columns):\n",
      " #   Column           Non-Null Count  Dtype  \n",
      "---  ------           --------------  -----  \n",
      " 0   name             16713 non-null  object \n",
      " 1   platform         16713 non-null  object \n",
      " 2   year_of_release  16444 non-null  float64\n",
      " 3   genre            16713 non-null  object \n",
      " 4   na_sales         16713 non-null  float64\n",
      " 5   eu_sales         16713 non-null  float64\n",
      " 6   jp_sales         16713 non-null  float64\n",
      " 7   other_sales      16713 non-null  float64\n",
      " 8   critic_score     8137 non-null   float64\n",
      " 9   user_score       7590 non-null   float64\n",
      " 10  rating_esrb      16713 non-null  object \n",
      "dtypes: float64(7), object(4)\n",
      "memory usage: 1.4+ MB\n"
     ]
    }
   ],
   "source": [
    "df.info()"
   ]
  },
  {
   "cell_type": "markdown",
   "metadata": {},
   "source": [
    "### Дубликаты и типы данных"
   ]
  },
  {
   "cell_type": "code",
   "execution_count": 25,
   "metadata": {},
   "outputs": [
    {
     "name": "stdout",
     "output_type": "stream",
     "text": [
      "<class 'pandas.core.frame.DataFrame'>\n",
      "RangeIndex: 16713 entries, 0 to 16712\n",
      "Data columns (total 11 columns):\n",
      " #   Column           Non-Null Count  Dtype  \n",
      "---  ------           --------------  -----  \n",
      " 0   name             16713 non-null  object \n",
      " 1   platform         16713 non-null  object \n",
      " 2   year_of_release  16444 non-null  float64\n",
      " 3   genre            16713 non-null  object \n",
      " 4   na_sales         16713 non-null  float64\n",
      " 5   eu_sales         16713 non-null  float64\n",
      " 6   jp_sales         16713 non-null  float64\n",
      " 7   other_sales      16713 non-null  float64\n",
      " 8   critic_score     8137 non-null   float64\n",
      " 9   user_score       7590 non-null   float64\n",
      " 10  rating_esrb      16713 non-null  object \n",
      "dtypes: float64(7), object(4)\n",
      "memory usage: 1.4+ MB\n"
     ]
    }
   ],
   "source": [
    "df.info()"
   ]
  },
  {
   "cell_type": "code",
   "execution_count": 26,
   "metadata": {},
   "outputs": [
    {
     "data": {
      "text/plain": [
       "'явные дубликаты '"
      ]
     },
     "metadata": {},
     "output_type": "display_data"
    },
    {
     "data": {
      "text/plain": [
       "0"
      ]
     },
     "metadata": {},
     "output_type": "display_data"
    }
   ],
   "source": [
    "# проверим данные на явные дубликаты\n",
    "\n",
    "display('явные дубликаты ', df.duplicated().sum()) #  ['name'].unique()"
   ]
  },
  {
   "cell_type": "code",
   "execution_count": 27,
   "metadata": {},
   "outputs": [
    {
     "data": {
      "text/plain": [
       "'Возможные дубликаты '"
      ]
     },
     "metadata": {},
     "output_type": "display_data"
    },
    {
     "data": {
      "text/plain": [
       "4"
      ]
     },
     "metadata": {},
     "output_type": "display_data"
    }
   ],
   "source": [
    "display('Возможные дубликаты ', df[['name', 'platform']].duplicated().sum()) #  ['name'].unique()"
   ]
  },
  {
   "cell_type": "code",
   "execution_count": 28,
   "metadata": {
    "scrolled": true
   },
   "outputs": [
    {
     "data": {
      "text/html": [
       "<div>\n",
       "<style scoped>\n",
       "    .dataframe tbody tr th:only-of-type {\n",
       "        vertical-align: middle;\n",
       "    }\n",
       "\n",
       "    .dataframe tbody tr th {\n",
       "        vertical-align: top;\n",
       "    }\n",
       "\n",
       "    .dataframe thead th {\n",
       "        text-align: right;\n",
       "    }\n",
       "</style>\n",
       "<table border=\"1\" class=\"dataframe\">\n",
       "  <thead>\n",
       "    <tr style=\"text-align: right;\">\n",
       "      <th></th>\n",
       "      <th>name</th>\n",
       "      <th>platform</th>\n",
       "      <th>year_of_release</th>\n",
       "      <th>genre</th>\n",
       "      <th>na_sales</th>\n",
       "      <th>eu_sales</th>\n",
       "      <th>jp_sales</th>\n",
       "      <th>other_sales</th>\n",
       "      <th>critic_score</th>\n",
       "      <th>user_score</th>\n",
       "      <th>rating_esrb</th>\n",
       "    </tr>\n",
       "  </thead>\n",
       "  <tbody>\n",
       "    <tr>\n",
       "      <th>1590</th>\n",
       "      <td>Need for Speed: Most Wanted</td>\n",
       "      <td>X360</td>\n",
       "      <td>2005.0</td>\n",
       "      <td>Racing</td>\n",
       "      <td>1.0</td>\n",
       "      <td>0.13</td>\n",
       "      <td>0.02</td>\n",
       "      <td>0.10</td>\n",
       "      <td>83.0</td>\n",
       "      <td>8.5</td>\n",
       "      <td>T</td>\n",
       "    </tr>\n",
       "    <tr>\n",
       "      <th>4126</th>\n",
       "      <td>Sonic the Hedgehog</td>\n",
       "      <td>PS3</td>\n",
       "      <td>NaN</td>\n",
       "      <td>Platform</td>\n",
       "      <td>0.0</td>\n",
       "      <td>0.48</td>\n",
       "      <td>0.00</td>\n",
       "      <td>0.00</td>\n",
       "      <td>43.0</td>\n",
       "      <td>4.1</td>\n",
       "      <td>E10+</td>\n",
       "    </tr>\n",
       "    <tr>\n",
       "      <th>11714</th>\n",
       "      <td>Need for Speed: Most Wanted</td>\n",
       "      <td>PC</td>\n",
       "      <td>2012.0</td>\n",
       "      <td>Racing</td>\n",
       "      <td>0.0</td>\n",
       "      <td>0.06</td>\n",
       "      <td>0.00</td>\n",
       "      <td>0.02</td>\n",
       "      <td>82.0</td>\n",
       "      <td>8.5</td>\n",
       "      <td>T</td>\n",
       "    </tr>\n",
       "    <tr>\n",
       "      <th>16228</th>\n",
       "      <td>Madden NFL 13</td>\n",
       "      <td>PS3</td>\n",
       "      <td>2012.0</td>\n",
       "      <td>Sports</td>\n",
       "      <td>0.0</td>\n",
       "      <td>0.01</td>\n",
       "      <td>0.00</td>\n",
       "      <td>0.00</td>\n",
       "      <td>83.0</td>\n",
       "      <td>5.5</td>\n",
       "      <td>E</td>\n",
       "    </tr>\n",
       "  </tbody>\n",
       "</table>\n",
       "</div>"
      ],
      "text/plain": [
       "                              name platform  year_of_release     genre  \\\n",
       "1590   Need for Speed: Most Wanted     X360           2005.0    Racing   \n",
       "4126            Sonic the Hedgehog      PS3              NaN  Platform   \n",
       "11714  Need for Speed: Most Wanted       PC           2012.0    Racing   \n",
       "16228                Madden NFL 13      PS3           2012.0    Sports   \n",
       "\n",
       "       na_sales  eu_sales  jp_sales  other_sales  critic_score  user_score  \\\n",
       "1590        1.0      0.13      0.02         0.10          83.0         8.5   \n",
       "4126        0.0      0.48      0.00         0.00          43.0         4.1   \n",
       "11714       0.0      0.06      0.00         0.02          82.0         8.5   \n",
       "16228       0.0      0.01      0.00         0.00          83.0         5.5   \n",
       "\n",
       "      rating_esrb  \n",
       "1590            T  \n",
       "4126         E10+  \n",
       "11714           T  \n",
       "16228           E  "
      ]
     },
     "metadata": {},
     "output_type": "display_data"
    }
   ],
   "source": [
    "# рассмотрим эти значения\n",
    "\n",
    "df_dubble = df[['name', 'platform']].duplicated()\n",
    "\n",
    "display(df[df_dubble])"
   ]
  },
  {
   "cell_type": "markdown",
   "metadata": {},
   "source": [
    "В представленной выборке дубликатов не наблюдается"
   ]
  },
  {
   "cell_type": "markdown",
   "metadata": {},
   "source": [
    "### Суммарные продажи по всем регионам"
   ]
  },
  {
   "cell_type": "code",
   "execution_count": 29,
   "metadata": {},
   "outputs": [
    {
     "data": {
      "text/html": [
       "<div>\n",
       "<style scoped>\n",
       "    .dataframe tbody tr th:only-of-type {\n",
       "        vertical-align: middle;\n",
       "    }\n",
       "\n",
       "    .dataframe tbody tr th {\n",
       "        vertical-align: top;\n",
       "    }\n",
       "\n",
       "    .dataframe thead th {\n",
       "        text-align: right;\n",
       "    }\n",
       "</style>\n",
       "<table border=\"1\" class=\"dataframe\">\n",
       "  <thead>\n",
       "    <tr style=\"text-align: right;\">\n",
       "      <th></th>\n",
       "      <th>name</th>\n",
       "      <th>platform</th>\n",
       "      <th>year_of_release</th>\n",
       "      <th>genre</th>\n",
       "      <th>na_sales</th>\n",
       "      <th>eu_sales</th>\n",
       "      <th>jp_sales</th>\n",
       "      <th>other_sales</th>\n",
       "      <th>critic_score</th>\n",
       "      <th>user_score</th>\n",
       "      <th>rating_esrb</th>\n",
       "      <th>sum_sales</th>\n",
       "    </tr>\n",
       "  </thead>\n",
       "  <tbody>\n",
       "    <tr>\n",
       "      <th>0</th>\n",
       "      <td>Wii Sports</td>\n",
       "      <td>Wii</td>\n",
       "      <td>2006.0</td>\n",
       "      <td>Sports</td>\n",
       "      <td>41.36</td>\n",
       "      <td>28.96</td>\n",
       "      <td>3.77</td>\n",
       "      <td>8.45</td>\n",
       "      <td>76.0</td>\n",
       "      <td>8.0</td>\n",
       "      <td>E</td>\n",
       "      <td>82.54</td>\n",
       "    </tr>\n",
       "    <tr>\n",
       "      <th>1</th>\n",
       "      <td>Super Mario Bros.</td>\n",
       "      <td>NES</td>\n",
       "      <td>1985.0</td>\n",
       "      <td>Platform</td>\n",
       "      <td>29.08</td>\n",
       "      <td>3.58</td>\n",
       "      <td>6.81</td>\n",
       "      <td>0.77</td>\n",
       "      <td>NaN</td>\n",
       "      <td>NaN</td>\n",
       "      <td>ND</td>\n",
       "      <td>40.24</td>\n",
       "    </tr>\n",
       "    <tr>\n",
       "      <th>2</th>\n",
       "      <td>Mario Kart Wii</td>\n",
       "      <td>Wii</td>\n",
       "      <td>2008.0</td>\n",
       "      <td>Racing</td>\n",
       "      <td>15.68</td>\n",
       "      <td>12.76</td>\n",
       "      <td>3.79</td>\n",
       "      <td>3.29</td>\n",
       "      <td>82.0</td>\n",
       "      <td>8.3</td>\n",
       "      <td>E</td>\n",
       "      <td>35.52</td>\n",
       "    </tr>\n",
       "  </tbody>\n",
       "</table>\n",
       "</div>"
      ],
      "text/plain": [
       "                name platform  year_of_release     genre  na_sales  eu_sales  \\\n",
       "0         Wii Sports      Wii           2006.0    Sports     41.36     28.96   \n",
       "1  Super Mario Bros.      NES           1985.0  Platform     29.08      3.58   \n",
       "2     Mario Kart Wii      Wii           2008.0    Racing     15.68     12.76   \n",
       "\n",
       "   jp_sales  other_sales  critic_score  user_score rating_esrb  sum_sales  \n",
       "0      3.77         8.45          76.0         8.0           E      82.54  \n",
       "1      6.81         0.77           NaN         NaN          ND      40.24  \n",
       "2      3.79         3.29          82.0         8.3           E      35.52  "
      ]
     },
     "execution_count": 29,
     "metadata": {},
     "output_type": "execute_result"
    }
   ],
   "source": [
    "# сложим значение продаж для всех регионов\n",
    "# проверим данные\n",
    "# alternativ \n",
    "# df['total_sales'] = df[['na_sales', 'eu_sales', 'jp_sales', 'other_sales']].sum(axis = 1)\n",
    "\n",
    "df['sum_sales'] = df['na_sales']+df['eu_sales']+df['jp_sales']+df['other_sales']\n",
    "df.head(3)"
   ]
  },
  {
   "cell_type": "markdown",
   "metadata": {},
   "source": [
    "Рассмотрим пропуски после этапа подготовки данных"
   ]
  },
  {
   "cell_type": "code",
   "execution_count": 30,
   "metadata": {},
   "outputs": [
    {
     "data": {
      "image/png": "[encoded data removed]",
      "text/plain": [
       "<Figure size 1224x576 with 1 Axes>"
      ]
     },
     "metadata": {
      "needs_background": "light"
     },
     "output_type": "display_data"
    }
   ],
   "source": [
    "\n",
    "percent_of_nulls = (df.isnull().sum()/len(df)*100).sort_values(ascending=False).round(2)\n",
    "\n",
    "#df.info()\n",
    "#print(percent_of_nulls)\n",
    "\n",
    "percent_of_nulls.plot(kind='barh', figsize=(17, 8), title='% of NaN (из {} строк)'.format(len(df)), \n",
    "                               color='#3584BB', legend=False, fontsize=12);"
   ]
  },
  {
   "cell_type": "markdown",
   "metadata": {},
   "source": [
    "### Выводы по этапу подготовка данных"
   ]
  },
  {
   "cell_type": "markdown",
   "metadata": {},
   "source": [
    "* изменены названия столбцов\n",
    "* удалены две строки с отсутсвующим названием игр\n",
    "* отфильтрованны все значения по году выпуска, в выборку включены игры с 1995 года выпуска\n",
    "* заполнены пустые значения на медианные для рейтинга игроков и рейтинга критиков\n",
    "* изменены значения для рейтинга ESRB\n",
    "* изменены тип данных на целочисленные\n",
    "* добавлен столбец с суммарным значением продаж по всем регионам\n",
    "* **актуальность данных \"Рейтинг игроков\" только 47%**\n",
    "* **актуальность данных \"Рейтинг критиков\" только 50%**\n",
    "* для данных \"Рейтинг игроков\" и \"Рейтинг критиков\" слишком много пропущенных значений, трудно сделать правильно предположение по причине возникновения данных пропусков, но с учетом того, что данная информация является ключевой в оценке количества продаж игр, желательно провести дополнительную работу по сбору этих данных. В рамках данного проекта нужно еще раз отметить, что выводы сделанные на основе этих данных могут быть спорными."
   ]
  },
  {
   "cell_type": "markdown",
   "metadata": {},
   "source": [
    "## Анализ данных <a id='3'></a>"
   ]
  },
  {
   "cell_type": "markdown",
   "metadata": {},
   "source": [
    "### Игры по году выпуска"
   ]
  },
  {
   "cell_type": "markdown",
   "metadata": {},
   "source": [
    "Рассмотрим игры по году выпуска.\n",
    "Для этого воспользуемся методом groupby."
   ]
  },
  {
   "cell_type": "code",
   "execution_count": null,
   "metadata": {
    "scrolled": true
   },
   "outputs": [],
   "source": [
    "df_year = df.groupby('year_of_release')[['year_of_release']].agg(['count']).reset_index()\n",
    "df_year.columns = ['год выпуска', 'количество']\n",
    "#display(df_year)"
   ]
  },
  {
   "cell_type": "code",
   "execution_count": null,
   "metadata": {
    "scrolled": true
   },
   "outputs": [],
   "source": [
    "# для анализа данных построим график\n",
    "\n",
    "df_year.plot(x='год выпуска', y='количество', kind='bar', alpha=0.9);\n",
    "#df.sort_values('last_price').plot(x='last_price', y='total_area', kind='scatter', alpha=0.1)"
   ]
  },
  {
   "cell_type": "markdown",
   "metadata": {},
   "source": [
    "На графике хорошо видно, что активный рост выпуска игр начинается с 1994 года, к тому же Entertainment Software Rating Board (ESRB) — негосударственная организация начала свою деятельность как раз в 1994 году, можно предположить, что классификация игр ESRB будет начинаться с 1994 года, так же надо учесть тот факт, что компьютерные игры очень быстро развиваются и данные по выпуску 10 летней давности уже могут быть просто не актуальны. \n",
    "\n",
    "Для оценки возьмем данные с 2012 года, таким образом получим выборку за 5 лет.\n",
    "\n",
    "Для фильтрации воспользуемся методом query"
   ]
  },
  {
   "cell_type": "code",
   "execution_count": null,
   "metadata": {},
   "outputs": [],
   "source": [
    "# отфильтруем игры вышедшие после 2011 года\n",
    "# сбросим индекс\n",
    "\n",
    "df = df.query('year_of_release > 2011').reset_index(drop=True)\n",
    "\n",
    "df.info()"
   ]
  },
  {
   "cell_type": "code",
   "execution_count": null,
   "metadata": {},
   "outputs": [],
   "source": [
    "# график для игр за последние 5 лет\n",
    "\n",
    "df_year = df.groupby('year_of_release')[['year_of_release']].agg(['count']).reset_index()\n",
    "df_year.columns = ['год выпуска', 'количество']\n",
    "\n",
    "df_year.plot(x='год выпуска', y='количество', kind='bar', alpha=0.9);"
   ]
  },
  {
   "cell_type": "markdown",
   "metadata": {},
   "source": [
    "### Продажи по платформам"
   ]
  },
  {
   "cell_type": "code",
   "execution_count": null,
   "metadata": {
    "scrolled": true
   },
   "outputs": [],
   "source": [
    "# сгруппируем данные по платформам и посчитаем количество для каждой платформы\n",
    "\n",
    "df_platform = df.groupby('platform')['platform'].count().sort_values(ascending=False)\n",
    "print('Количество платформ', df_platform)"
   ]
  },
  {
   "cell_type": "code",
   "execution_count": null,
   "metadata": {},
   "outputs": [],
   "source": [
    "# проссумируем количество продаж для разных платформ\n",
    "\n",
    "df_platform_sum = df.groupby('platform')['sum_sales'].sum().sort_values(ascending=False)\n",
    "print('Сумма продаж по каждой платформе', df_platform_sum)"
   ]
  },
  {
   "cell_type": "markdown",
   "metadata": {},
   "source": [
    "Из анализа двух таблиц можно с уверенностью сказать, что самые популярные платформы приносят больше всего продаж.\n",
    "\n",
    "Проанализируем изменение продаж по каждой платформе за год, для этого отсортируем топ 7 платформ, по продажам."
   ]
  },
  {
   "cell_type": "code",
   "execution_count": null,
   "metadata": {},
   "outputs": [],
   "source": [
    "df_platform_sale = df[df['platform'].isin(['PS2', 'X360', 'PS3', 'Wii', 'DS', 'PS', 'PS4'])]\n",
    "display(df_platform_sale.head(3))"
   ]
  },
  {
   "cell_type": "code",
   "execution_count": null,
   "metadata": {},
   "outputs": [],
   "source": [
    "df_platform_sale_pvt = df_platform_sale.pivot_table(index=['year_of_release'], columns='platform', values='sum_sales', aggfunc=['sum']).reset_index()\n",
    "df_platform_sale_pvt.columns = ['год_релиза', 'DS', 'PS3', 'PS4','Wii','X360']\n",
    "\n",
    "display(df_platform_sale_pvt)"
   ]
  },
  {
   "cell_type": "code",
   "execution_count": null,
   "metadata": {
    "scrolled": false
   },
   "outputs": [],
   "source": [
    "df_platform_sale_pvt.plot(x='год_релиза', y=['DS', 'PS3', 'PS4','Wii','X360'],\n",
    "                          title='Продажи 2012-2016, ТОП 5 платформ', kind='bar', figsize=(15, 8), alpha=0.9);\n",
    "#plt.title('Платформы');\n"
   ]
  },
  {
   "cell_type": "markdown",
   "metadata": {},
   "source": [
    "### Выводы: продажи за 5 лет, ТОП7 платформам"
   ]
  },
  {
   "cell_type": "markdown",
   "metadata": {},
   "source": [
    "* по графику видно, что характерный срок появления новых и исчезновения старых платформы 7-8 лет. Это хорошо видно по лидерам продаж: PS, PS2, DS, Wii\n",
    "\n",
    "* по графику видно, что начиная с 2005 года произошло резкое увеличение количество игровых платформ: до этого было только 3\n",
    "* для дальнейшего анализ возьмем данные за 10 лет: с 2006 по 2016 год. С одной стороны на 20016 год данные по платформам будут не актуальны т.к. срок появления новых платформ 7-8 лет, с другой стороны за 10 лет можно будет отследить динамику по жанрам, и возможную миграцию некоторых жанров с одной платформы на другую, что даст возможность делать какие-то прогнозы.\n"
   ]
  },
  {
   "cell_type": "markdown",
   "metadata": {},
   "source": [
    "### Рассмотрим ТОП платформ"
   ]
  },
  {
   "cell_type": "markdown",
   "metadata": {},
   "source": [
    "Построим график для оценки платформ."
   ]
  },
  {
   "cell_type": "code",
   "execution_count": null,
   "metadata": {},
   "outputs": [],
   "source": [
    "# построим новый график\n",
    "df_platform_sale_pvt.plot(x='год_релиза',\n",
    "                               title='Платформы: 2012-2016', kind='bar', figsize=(15, 8), alpha=0.9);\n"
   ]
  },
  {
   "cell_type": "markdown",
   "metadata": {},
   "source": [
    "### Построим график \"Ящик с усами\""
   ]
  },
  {
   "cell_type": "code",
   "execution_count": null,
   "metadata": {
    "scrolled": false
   },
   "outputs": [],
   "source": [
    "df_platform_sale_pvt.boxplot(figsize=(15, 8))\n",
    "plt.ylim(0, 140) #ограничения по оси Y (вертикали)\n",
    "plt.xlim(0, 10) #ограничения по оси Х (горизонтали)"
   ]
  },
  {
   "cell_type": "code",
   "execution_count": null,
   "metadata": {},
   "outputs": [],
   "source": [
    "# график \"ящики с усами в разбивке по платформам\n",
    "import seaborn as sns\n",
    "\n",
    "plt.figure(figsize= (15, 9))\n",
    "sns.boxplot(x = df.query('year_of_release >= 2012')['platform'], \\\n",
    "            y = df.query('year_of_release >= 2012')['sum_sales'])\n",
    "plt.title('График \"ящики с усами в разбивке по платформам\"')\n",
    "plt.ylim(0, 3)\n",
    "plt.show()"
   ]
  },
  {
   "cell_type": "markdown",
   "metadata": {},
   "source": [
    "При таком приближении хорошо видна динамика по смене лидеров рынка:\n",
    "* Wii пик в 2009 году\n",
    "* Х360 пип в 2010 году\n",
    "* PS3 пик в 2011 и 2013 году\n",
    "* PS4 пик в 2015 году\n",
    "\n",
    "В целом исходя из двух графиков:\n",
    "* Самый очевидный вывод, что объем общих продаж планомерно падает начиная с 2009 года.\n",
    "* Единственной перспективной платформой начиная с 20014 года становится PS4, но и её продажи плавно снижаются.\n",
    "* Если рассматривать игры с долгосрочными перспективами (5-7 лет) то желательно рассмотреть другие платформы и каналы продаж т.к. вне зависимости от рекламных бюджетов продажи на этой платформе будут падать."
   ]
  },
  {
   "cell_type": "markdown",
   "metadata": {},
   "source": [
    "### Отзывы игроков и критиков"
   ]
  },
  {
   "cell_type": "code",
   "execution_count": null,
   "metadata": {
    "scrolled": true
   },
   "outputs": [],
   "source": [
    "df.head(3)"
   ]
  },
  {
   "cell_type": "markdown",
   "metadata": {},
   "source": [
    "Сделаем сводную таблицу для самой популярной платформы в 2015 году PS4.\n",
    "Рассмотрим критерии: оценки критиков и игроков.\n",
    "\n",
    "Предварительно отфильтруем данные по платформе PS4."
   ]
  },
  {
   "cell_type": "code",
   "execution_count": null,
   "metadata": {},
   "outputs": [],
   "source": [
    "df_platform_sale_ps4 = df[df['platform'].isin(['PS4'])]\n",
    "display(df_platform_sale_ps4.head(3))\n",
    "display('Сумма продаж по всем играм платформа PS4 2012-2016 года:', df_platform_sale_ps4['sum_sales'].sum())"
   ]
  },
  {
   "cell_type": "code",
   "execution_count": null,
   "metadata": {},
   "outputs": [],
   "source": [
    "df_platform_sale_pvt_ps4 = df_platform_sale_ps4.pivot_table(index=['critic_score', 'user_score'], columns='platform', values='sum_sales', aggfunc=['sum']).reset_index()\n",
    "df_platform_sale_pvt_ps4.columns = ['оценка_критиков', 'оценка_игроков', 'сумма_продаж']\n",
    "\n",
    "display(df_platform_sale_pvt_ps4.sort_values(by='сумма_продаж', ascending=False).head(5))"
   ]
  },
  {
   "cell_type": "code",
   "execution_count": null,
   "metadata": {},
   "outputs": [],
   "source": [
    "# Построим гистаграмму, отсортируем данные по сумме продаж\n",
    "df_platform_sale_pvt_ps4.plot(x='оценка_критиков', y='сумма_продаж', kind='scatter', alpha=0.3)"
   ]
  },
  {
   "cell_type": "code",
   "execution_count": null,
   "metadata": {
    "scrolled": true
   },
   "outputs": [],
   "source": [
    "# Построим гистаграмму, отсортируем данные по сумме продаж\n",
    "df_platform_sale_pvt_ps4.plot(x='оценка_игроков', y='сумма_продаж', kind='scatter', alpha=0.3)"
   ]
  },
  {
   "cell_type": "code",
   "execution_count": null,
   "metadata": {},
   "outputs": [],
   "source": [
    "# рассмотрим выброс\n",
    "display(df_platform_sale_pvt_ps4.loc[96])"
   ]
  },
  {
   "cell_type": "markdown",
   "metadata": {},
   "source": [
    "Оценке графиков мешает одно аномальное значение. Рассмотрим данные без выброса с индексом \"96\""
   ]
  },
  {
   "cell_type": "code",
   "execution_count": null,
   "metadata": {},
   "outputs": [],
   "source": [
    "df_platform_sale_pvt_ps4 = df_platform_sale_pvt_ps4.drop(index=[96])\n",
    "df_platform_sale_pvt_ps4.plot(x='оценка_критиков', y='сумма_продаж', kind='scatter', alpha=0.3)"
   ]
  },
  {
   "cell_type": "code",
   "execution_count": null,
   "metadata": {
    "scrolled": true
   },
   "outputs": [],
   "source": [
    "df_platform_sale_pvt_ps4.plot(x='оценка_игроков', y='сумма_продаж', kind='scatter', alpha=0.3)"
   ]
  },
  {
   "cell_type": "code",
   "execution_count": null,
   "metadata": {},
   "outputs": [],
   "source": [
    "# найдем коэффициенты корреляции Пирсона.\n",
    "print('Коэффициенты корреляции Пирсона (диапазон от -1 до 1) для оценки игроков', (df_platform_sale_pvt_ps4['сумма_продаж'].corr(df_platform_sale_pvt_ps4['оценка_игроков'])).round(3))\n",
    "print('Коэффициенты корреляции Пирсона (диапазон от -1 до 1) для оценки критиков', (df_platform_sale_pvt_ps4['сумма_продаж'].corr(df_platform_sale_pvt_ps4['оценка_критиков'])).round(3))"
   ]
  },
  {
   "cell_type": "markdown",
   "metadata": {},
   "source": [
    "Рассмотрим значение по платформе PS3"
   ]
  },
  {
   "cell_type": "code",
   "execution_count": null,
   "metadata": {},
   "outputs": [],
   "source": [
    "df_platform_sale_ps3 = df[df['platform'].isin(['PS3'])]\n",
    "display(df_platform_sale_ps3.head(3))\n",
    "display('Сумма продаж по всем играм платформа PS3 2012-2016 года:', df_platform_sale_ps3['sum_sales'].sum())\n",
    "\n",
    "\n",
    "\n",
    "df_platform_sale_pvt_ps3 = df_platform_sale_ps3.pivot_table(index=['critic_score', 'user_score'], columns='platform', values='sum_sales', aggfunc=['sum']).reset_index()\n",
    "df_platform_sale_pvt_ps3.columns = ['оценка_критиков', 'оценка_игроков', 'сумма_продаж']\n",
    "\n",
    "display(df_platform_sale_pvt_ps3.sort_values(by='сумма_продаж', ascending=False).head(3))"
   ]
  },
  {
   "cell_type": "code",
   "execution_count": null,
   "metadata": {},
   "outputs": [],
   "source": [
    "# Построим гистаграмму, отсортируем данные по сумме продаж\n",
    "df_platform_sale_pvt_ps3.plot(x='оценка_критиков', y='сумма_продаж', kind='scatter', alpha=0.3)"
   ]
  },
  {
   "cell_type": "code",
   "execution_count": null,
   "metadata": {
    "scrolled": false
   },
   "outputs": [],
   "source": [
    "# Построим гистаграмму, отсортируем данные по сумме продаж\n",
    "df_platform_sale_pvt_ps3.plot(x='оценка_игроков', y='сумма_продаж', kind='scatter', alpha=0.3)"
   ]
  },
  {
   "cell_type": "code",
   "execution_count": null,
   "metadata": {},
   "outputs": [],
   "source": [
    "# найдем коэффициенты корреляции Пирсона.\n",
    "print('Коэффициенты корреляции Пирсона (диапазон от -1 до 1) для оценки игроков PS3', (df_platform_sale_pvt_ps3['сумма_продаж'].corr(df_platform_sale_pvt_ps3['оценка_игроков'])).round(3))\n",
    "print('Коэффициенты корреляции Пирсона (диапазон от -1 до 1) для оценки критиков PS3', (df_platform_sale_pvt_ps3['сумма_продаж'].corr(df_platform_sale_pvt_ps3['оценка_критиков'])).round(3))"
   ]
  },
  {
   "cell_type": "markdown",
   "metadata": {},
   "source": [
    "Рассмотрим значение по платформе X360"
   ]
  },
  {
   "cell_type": "code",
   "execution_count": null,
   "metadata": {
    "scrolled": true
   },
   "outputs": [],
   "source": [
    "df_platform_sale_X360 = df[df['platform'].isin(['X360'])]\n",
    "display(df_platform_sale_X360.head(3))\n",
    "display('Сумма продаж по всем играм платформа X360 2012-2016 года:', df_platform_sale_X360['sum_sales'].sum())"
   ]
  },
  {
   "cell_type": "code",
   "execution_count": null,
   "metadata": {
    "scrolled": true
   },
   "outputs": [],
   "source": [
    "df_platform_sale_pvt_X360 = df_platform_sale_X360.pivot_table(index=['critic_score', 'user_score'], columns='platform', values='sum_sales', aggfunc=['sum']).reset_index()\n",
    "df_platform_sale_pvt_X360.columns = ['оценка_критиков', 'оценка_игроков', 'сумма_продаж']\n",
    "\n",
    "display(df_platform_sale_pvt_X360.sort_values(by='сумма_продаж', ascending=False).head(3))"
   ]
  },
  {
   "cell_type": "code",
   "execution_count": null,
   "metadata": {},
   "outputs": [],
   "source": [
    "# Построим гистаграмму, отсортируем данные по сумме продаж\n",
    "df_platform_sale_pvt_X360.plot(x='оценка_критиков', y='сумма_продаж', kind='scatter', alpha=0.3)"
   ]
  },
  {
   "cell_type": "code",
   "execution_count": null,
   "metadata": {},
   "outputs": [],
   "source": [
    "# Построим гистаграмму, отсортируем данные по сумме продаж\n",
    "df_platform_sale_pvt_X360.plot(x='оценка_игроков', y='сумма_продаж', kind='scatter', alpha=0.3)"
   ]
  },
  {
   "cell_type": "code",
   "execution_count": null,
   "metadata": {},
   "outputs": [],
   "source": [
    "# найдем коэффициенты корреляции Пирсона X360.\n",
    "print('Коэффициенты корреляции Пирсона (диапазон от -1 до 1) для оценки игроков X360', (df_platform_sale_pvt_X360['сумма_продаж'].corr(df_platform_sale_pvt_X360['оценка_игроков'])).round(3))\n",
    "print('Коэффициенты корреляции Пирсона (диапазон от -1 до 1) для оценки критиков X360', (df_platform_sale_pvt_X360['сумма_продаж'].corr(df_platform_sale_pvt_X360['оценка_критиков'])).round(3))"
   ]
  },
  {
   "cell_type": "markdown",
   "metadata": {},
   "source": [
    "### Выводы: отзывы игроков и критиков"
   ]
  },
  {
   "cell_type": "markdown",
   "metadata": {},
   "source": [
    "Из двух последних графиков для платформы PS4 можно сделать следующие выводы:\n",
    "* есть прямая зависимость между оценкой критиков, оценкой игроков и суммой продаж, но она слабо выражена.\n",
    "* судя по коэффициенту Пирсона (меньше 0) прямая взаимосвязь между суммой продаж и оценкой игроков очень низка, и при этом она ниже чем взаимосвязь между суммаой продаж и оценкой критиков.\n",
    "* оценка критиков имеет большую взаимосвязь с уровнем продаж, нежели оценка игроков.\n",
    "* основной диапозон оценок находится в области 6-9 для игроков и 60-80 для критиков, но при этом хорошо видно, что основная масса продаж при этом на достаточно низком уровне до 2 млн копий.\n",
    "* судя по коэффициенту Пирсона корреляция для оценки игроков всегда очень низкая, корреляция для критиков, так же низкая, но всегда выше чем для оценки игроков\n",
    "* **по всем платформам картина сумма продаж и оценки пользователей и оценки игроков примерно одинаковые, везде оценка критиков является более точным аргументом при оценке возможных продаж**"
   ]
  },
  {
   "cell_type": "markdown",
   "metadata": {},
   "source": [
    "### Продажи по жанрам"
   ]
  },
  {
   "cell_type": "markdown",
   "metadata": {},
   "source": [
    "Рассмотрим жанры по общей сумме продаж."
   ]
  },
  {
   "cell_type": "code",
   "execution_count": null,
   "metadata": {},
   "outputs": [],
   "source": [
    "# проссумируем количество продаж для разных платформ\n",
    "\n",
    "df_genre_sum = df.groupby('genre')['sum_sales'].sum().sort_values(ascending=False)\n",
    "display('Сумма продаж по жанрам: 2012-2016г:', df_genre_sum)"
   ]
  },
  {
   "cell_type": "code",
   "execution_count": null,
   "metadata": {
    "scrolled": false
   },
   "outputs": [],
   "source": [
    "df_genre_sum.plot(title='Сумма продаж по жанрам', kind='bar', figsize=(13, 7), alpha=0.9);"
   ]
  },
  {
   "cell_type": "code",
   "execution_count": null,
   "metadata": {},
   "outputs": [],
   "source": [
    "# Медианное значение продаж для разных жанров\n",
    "\n",
    "df_genre_median = df.groupby('genre')['sum_sales'].median().sort_values(ascending=False)\n",
    "display('Медианное значение продаж для разных жанров: 2012-2016г:', df_genre_median)"
   ]
  },
  {
   "cell_type": "code",
   "execution_count": null,
   "metadata": {},
   "outputs": [],
   "source": [
    "df_genre_median.plot(title='Медианное значение продаж по жанрам. 2012-2016', kind='bar', figsize=(13, 7), alpha=0.9);"
   ]
  },
  {
   "cell_type": "markdown",
   "metadata": {},
   "source": [
    "### Выводы: продажи по жанрам"
   ]
  },
  {
   "cell_type": "markdown",
   "metadata": {},
   "source": [
    "На основе графика и цифр хорошо видно, что есть как основные лидеры продаж: Action и Sports, так и явные аутсайдеры: Strategy и Puzzle."
   ]
  },
  {
   "cell_type": "markdown",
   "metadata": {},
   "source": [
    "## Портрет пользователя по регионам <a id='4'></a>"
   ]
  },
  {
   "cell_type": "markdown",
   "metadata": {},
   "source": [
    "### ТОП продаж: регион - платформа"
   ]
  },
  {
   "cell_type": "markdown",
   "metadata": {},
   "source": [
    "Добавим значение с суммой продаж по трем регионам: Северная Америка, Европа, Япония.\n",
    "    \n",
    "По сумме всех продаж в этих регионах будем определять, самую популярную платформу, жанр, ESRB.\n",
    "\n",
    "Для этого сделаем таблицу с группировкой данных по разным платформам."
   ]
  },
  {
   "cell_type": "code",
   "execution_count": null,
   "metadata": {},
   "outputs": [],
   "source": [
    "# добавим сумму по трем регионам\n",
    "\n",
    "df['sum_sales_nej'] = df['na_sales']+df['eu_sales']+df['jp_sales']\n",
    "df.head(3)"
   ]
  },
  {
   "cell_type": "code",
   "execution_count": null,
   "metadata": {},
   "outputs": [],
   "source": [
    "# группировка данных по платформам\n",
    "\n",
    "df_region_group = df.groupby('platform')['na_sales', 'eu_sales', 'jp_sales', 'sum_sales_nej'].sum().sort_values(by='sum_sales_nej', ascending=False).reset_index()\n",
    "df_region_group.columns = ['платформа', 'северная_америка', 'европа', 'япония', 'сумма_продаж']\n",
    "display(df_region_group)\n",
    "display('Общая сумма всех продаж:', df_region_group['сумма_продаж'].sum().round(2))"
   ]
  },
  {
   "cell_type": "code",
   "execution_count": null,
   "metadata": {},
   "outputs": [],
   "source": [
    "platform_df = df_region_group[(df_region_group['сумма_продаж'] > 60)]\n",
    "platform_df = platform_df[['платформа','сумма_продаж']]\n",
    "display(platform_df)"
   ]
  },
  {
   "cell_type": "markdown",
   "metadata": {},
   "source": [
    "Из приведенных данных хорошо видно, что лидерами рынка по трем регионам являются: PS2, X360, Wii, PS3, DS, при этом больше всего продаж приходится на северную америку.\n",
    "\n",
    "Для оценки доли рынка каждой платформы построим круговую гистограмму, данные внесем в ручную. Для расчета оставшейся доли рынка вычтем суммы продаж пяти лидеров из общей суммы всех продаж."
   ]
  },
  {
   "cell_type": "code",
   "execution_count": null,
   "metadata": {},
   "outputs": [],
   "source": [
    "platform_df.plot(y='сумма_продаж', kind='pie', figsize=(8, 8),\n",
    "            autopct=\"%.2f\",\n",
    "           labels=[\"PS4\", \"PS3\", \"X360\", \"3DS\",\"Xone\", \"WiiU\"],\n",
    "           );"
   ]
  },
  {
   "cell_type": "markdown",
   "metadata": {},
   "source": [
    "### ТОП продаж: регион - жанр"
   ]
  },
  {
   "cell_type": "markdown",
   "metadata": {},
   "source": [
    "Для этого создадим сводную таблицу с группировкой данных по жанрам"
   ]
  },
  {
   "cell_type": "code",
   "execution_count": null,
   "metadata": {},
   "outputs": [],
   "source": [
    "# группировка данных по жанрам\n",
    "\n",
    "df_genre_group = df.groupby('genre')['na_sales', 'eu_sales', 'jp_sales', 'sum_sales_nej'].sum().sort_values(by='sum_sales_nej', ascending=False).reset_index()\n",
    "df_genre_group.columns = ['жанр', 'северная_америка', 'европа', 'япония', 'сумма продаж']\n",
    "print(df_genre_group)"
   ]
  },
  {
   "cell_type": "markdown",
   "metadata": {},
   "source": [
    "### ТОП продаж: регион - ESRB"
   ]
  },
  {
   "cell_type": "markdown",
   "metadata": {},
   "source": [
    "Для этого создадим сводную таблицу с группировкой данных по рейтингу ESRB."
   ]
  },
  {
   "cell_type": "code",
   "execution_count": null,
   "metadata": {},
   "outputs": [],
   "source": [
    "df_rating_group = df.groupby('rating_esrb')['na_sales', 'eu_sales', 'jp_sales', 'sum_sales_nej'].sum().sort_values(by='sum_sales_nej', ascending=False).reset_index()\n",
    "df_rating_group.columns = ['рейтинг', 'северная_америка', 'европа', 'япония', 'сумма продаж']\n",
    "print(df_rating_group)"
   ]
  },
  {
   "cell_type": "markdown",
   "metadata": {},
   "source": [
    "### Выводы: продажи по регионам"
   ]
  },
  {
   "cell_type": "markdown",
   "metadata": {},
   "source": [
    "* для всех платформ, жанров и рейтингов ESRB одинакова ситуация, общая сумма продаж по всем трем регионам максимально совпадает с суммой продаж по отдельному региону\n",
    "* топ продаж для Северной Америки и Европы занимает платформа PS4, для Японии 3DS.\n",
    "* безусловными лидерами для всех регионов являются жанры Action, Sports, Исключением является Япония, где на первом месте идут Role-Playing а Action на втором. (неизменно при разных годах выборки)\n",
    "* для всех регионов явным лидером являются игры категории \"M\" (дети от 17-nb лет). Исключение - Япония, здесь на первом месте идут игры категории ND (не определено). (неизменно при разных годах выборки)"
   ]
  },
  {
   "cell_type": "markdown",
   "metadata": {},
   "source": [
    "## Проверка гипотез <a id='5'></a>"
   ]
  },
  {
   "cell_type": "markdown",
   "metadata": {},
   "source": [
    "### Средние пользовательские рейтинги платформ Xbox One и PC одинаковые"
   ]
  },
  {
   "cell_type": "markdown",
   "metadata": {},
   "source": [
    "Проверим гипотезу: средние пользовательские рейтинги платформ Xbox One и PC одинаковые.\n",
    "\n",
    "* Нулевая гипотеза: средние пользовательские рейтинги платформ Xbox One и PC одинаковые\n",
    "* Альтернативная гипотеза: средние пользовательские рейтинги платформ Xbox One и PC разные\n",
    "\n",
    "Для этого создадим две таблицы с данными с оценками пользователей для платформ Xbox One и PC"
   ]
  },
  {
   "cell_type": "code",
   "execution_count": null,
   "metadata": {},
   "outputs": [],
   "source": [
    "# отфильтруем данные с оценкой пользователей больше 0\n",
    "# df = df.query('user_score > 0')"
   ]
  },
  {
   "cell_type": "code",
   "execution_count": null,
   "metadata": {},
   "outputs": [],
   "source": [
    "# проверим гипотезу\n",
    "alpha = 0.01\n",
    "\n",
    "hypothesis_one = st.ttest_ind(\n",
    "    df.query('platform == \"XOne\" & user_score > 0')['user_score'], \n",
    "    df.query('platform == \"PC\" & user_score > 0')['user_score'])\n",
    "\n",
    "print('p-значение:', hypothesis_one.pvalue )\n",
    "\n",
    "if hypothesis_one.pvalue < alpha:\n",
    "   \n",
    "    print(\"Нулевая гипотеза не подтверждена\")\n",
    "else:\n",
    "    print(\"Не удалось отвергнуть нулевую гипотезу\")"
   ]
  },
  {
   "cell_type": "markdown",
   "metadata": {},
   "source": [
    "### Средние пользовательские рейтинги жанров Action и Sports разные."
   ]
  },
  {
   "cell_type": "markdown",
   "metadata": {},
   "source": [
    "Проверим гипотезу: средние пользовательские рейтинги платформ Xbox One и PC одинаковые.\n",
    "\n",
    "* Нулевая гипотеза: средние пользовательские рейтинги для жанров Action и Sports одинаковые\n",
    "* Альтернативная гипотеза: средние пользовательские рейтинги для жанров Action и Sports разные\n",
    "\n",
    "Для этого создадим две таблицы с данными с оценками пользователей для жанров Action и Sports"
   ]
  },
  {
   "cell_type": "code",
   "execution_count": null,
   "metadata": {},
   "outputs": [],
   "source": [
    "# фильтр по Action и user_score > 0\n",
    "df.query('genre == \"Action\" & user_score > 0')\n",
    "\n",
    "\n",
    "df_ganre_action = df.query('genre == \"Action\"').reset_index(drop=True)\n",
    "df_genre_sports  = df.query('genre == \"Sports\"').reset_index(drop=True)\n",
    "\n",
    "# оценки пользователей для PC\n",
    "user_score_action = df_ganre_action.loc[:, 'user_score']\n",
    "\n",
    "# оценки пользователей для XB\n",
    "user_score_sports   = df_genre_sports.loc[:, 'user_score']\n",
    "\n",
    "alpha = 0.01 # зададим уровень статистической значимости\n",
    "\n",
    "#  проверим гипотезу о равенстве средних двух независимых совокупностей\n",
    "hypothesis_action_vs_sports = st.ttest_ind(\n",
    "    user_score_action, \n",
    "    user_score_sports)\n",
    "print('p-значение:', hypothesis_action_vs_sports.pvalue) \n",
    "\n",
    "if hypothesis_action_vs_sports.pvalue > alpha:\n",
    "   \n",
    "    print(\"Принимаем нулевую гипотезу, средние пользовательские рейтинги для жанров Action и Sports одинаковые\")\n",
    "else:\n",
    "    print(\"Принимаем альтернативную гипотезу, средние пользовательские рейтинги для жанров Action и Sports разные\")"
   ]
  },
  {
   "cell_type": "markdown",
   "metadata": {},
   "source": [
    "### Общий вывод по гипотезам"
   ]
  },
  {
   "cell_type": "markdown",
   "metadata": {},
   "source": [
    "* проверить значения Xbox One и PC не представляется возможны в виду отсутсвия оценок для Xbox One\n",
    "* средние пользовательские рейтинги для жанров Action и Sports разные"
   ]
  },
  {
   "cell_type": "markdown",
   "metadata": {},
   "source": [
    "## Проверка ТОП продаж по названиям"
   ]
  },
  {
   "cell_type": "markdown",
   "metadata": {},
   "source": [
    "В ходе анализа была обнаружен выбрас для платформы PS4, при общей сумме продаж в 314.14 млн копий у этой игры были продажи 69 млн, а это примерно 22% от всех продаж. т.к. на 2016  именно это платформа остаетсся самой популярной рассмотрим ТОП продаж по названиям игр за все время и ТОП продаж для PS4."
   ]
  },
  {
   "cell_type": "markdown",
   "metadata": {},
   "source": [
    "* рассмотрим ТОП 5 игр по продажам за все время\n",
    "* рассмотрим ТОП 5 игр для платформы PS4"
   ]
  },
  {
   "cell_type": "code",
   "execution_count": null,
   "metadata": {},
   "outputs": [],
   "source": [
    "df_name_sum = df.groupby('name')['sum_sales'].sum().sort_values(ascending=False)\n",
    "print('Сумма продаж по всем категориям', df_name_sum.head(5))"
   ]
  },
  {
   "cell_type": "code",
   "execution_count": null,
   "metadata": {},
   "outputs": [],
   "source": [
    "# отфильтруем данные для ТОП 5 продаж по имени\n",
    "\n",
    "df_name_sale = df[df['name'].isin(['Wii Sports', 'Grand Theft Auto V', 'Mario Kart Wii', 'Wii Sports Resort', 'Pokemon Red/Pokemon Blue'])]\n",
    "display(df_name_sale.head(3))"
   ]
  },
  {
   "cell_type": "code",
   "execution_count": null,
   "metadata": {
    "scrolled": true
   },
   "outputs": [],
   "source": [
    "df_name_sale_pvt = df_name_sale.pivot_table(index=['year_of_release'], columns=['platform', 'name'], values='sum_sales', aggfunc=['sum']).reset_index()\n",
    "#df_name_sale_pvt.columns = ['год_релиза', 'DS', 'PS', 'PS2','PS3','PS4','Wii','X360']\n",
    "\n",
    "display(df_name_sale_pvt)"
   ]
  },
  {
   "cell_type": "markdown",
   "metadata": {},
   "source": [
    "Данная выборка подтверждает общие наблюдения:\n",
    "* самые популярные жанры Sport и Action\n",
    "* общие продажи по платформам падают"
   ]
  },
  {
   "cell_type": "markdown",
   "metadata": {},
   "source": [
    "## Выводы <a id='6'></a>"
   ]
  },
  {
   "cell_type": "markdown",
   "metadata": {},
   "source": [
    "При анализе были сделан следующие шаги:\n",
    "* открыты данные\n",
    "* все данные обработаны на наличие явных дубликатов, обработаны типы данных\n",
    "* для \"Рейтинга игроков\" и \"Рейтинга критиков\" обработаны пустые значения, пропуски заполнены медианными значениями, изменен тип данных\n",
    "* для \"Рейтинга игроков\" обнаружено большое количество пропусков, актуальность данных составляет только 40%\n",
    "* все данные отфильтрованны с 1995 года, из-за низкого уровня предыдущих продаж, таким образом данные анализировались на основе выборки за 20 лет"
   ]
  },
  {
   "cell_type": "markdown",
   "metadata": {},
   "source": [
    "Выводы по сделанному анализу и проверенным гипотезам:\n",
    "* средний срок продолжительности \"жизни\" платформы 7-8 лет\n",
    "* наблюдается общее падение продаж по всем платформам\n",
    "* лидеры рынка по платформам: Wii сменилось X360, сменилось PS3, сменилось PS4\n",
    "* оценка критиков является большим показателем для возможного уровня продаж, нежели оценка игроков\n",
    "* ТОП продаваемых игр по вем жанрам Action и Sport\n",
    "* ТОП продаваемых игр по возрастному ограничению от 3-х лет, Без категории, далее отслеживается тенденция, чемы выше возраст аудитории тем меньше продажи\n",
    "* ТОП продажам по регионам Северная Америка, дальше идет Европа и только потом Япония. При этом уровень продаж в японии в два раза ниже чем в Северной Америке\n",
    "* гипотеза средние пользовательские рейтинги платформ Xbox One и PC одинаковые отвергнута, при статистической значимости Alpha 0.01\n",
    "\n",
    "* гипотеза cредние пользовательские рейтинги жанров Action и Sports разные подтверждаетя, при статистической значимости Alpha 0.01\n",
    "\n",
    "* **по всем платформам картина сумма продаж и оценки пользователей и оценки игроков примерно одинаковые, везде оценка критиков является более точным аргументом при оценке возможных продаж**"
   ]
  },
  {
   "cell_type": "markdown",
   "metadata": {},
   "source": [
    "Реккомендации по рекламной компании.\n",
    "\n",
    "На основе сделанного анализа, можно реккомендовать направить основные средства на продвижение игр на платформе PS4, в жанрах Action или Sport, в Северной Америке. При оценке потенциала игр можно уделить внимание оценке критиков.\n",
    "Особое внимание нужно уделить категории игр для детей от 10-ти лет."
   ]
  },
  {
   "cell_type": "code",
   "execution_count": null,
   "metadata": {},
   "outputs": [],
   "source": []
  }
 ],
 "metadata": {
  "ExecuteTimeLog": [
   {
    "duration": 26,
    "start_time": "2022-06-09T12:29:37.375Z"
   },
   {
    "duration": 4,
    "start_time": "2022-06-10T08:38:32.120Z"
   },
   {
    "duration": 2,
    "start_time": "2022-06-10T08:43:37.159Z"
   },
   {
    "duration": 370,
    "start_time": "2022-06-10T08:44:10.756Z"
   },
   {
    "duration": 91,
    "start_time": "2022-06-10T08:44:11.210Z"
   },
   {
    "duration": 52,
    "start_time": "2022-06-10T08:44:11.303Z"
   },
   {
    "duration": 61,
    "start_time": "2022-06-10T08:52:27.528Z"
   },
   {
    "duration": 5,
    "start_time": "2022-06-10T08:53:46.940Z"
   },
   {
    "duration": 3,
    "start_time": "2022-06-10T08:59:20.440Z"
   },
   {
    "duration": 4,
    "start_time": "2022-06-10T09:03:35.708Z"
   },
   {
    "duration": 4,
    "start_time": "2022-06-10T09:03:54.298Z"
   },
   {
    "duration": 5,
    "start_time": "2022-06-10T09:10:24.959Z"
   },
   {
    "duration": 3,
    "start_time": "2022-06-10T09:12:40.478Z"
   },
   {
    "duration": 6,
    "start_time": "2022-06-10T09:21:38.350Z"
   },
   {
    "duration": 13,
    "start_time": "2022-06-10T09:24:11.223Z"
   },
   {
    "duration": 14,
    "start_time": "2022-06-10T10:45:27.730Z"
   },
   {
    "duration": 7,
    "start_time": "2022-06-10T10:45:36.729Z"
   },
   {
    "duration": 4,
    "start_time": "2022-06-10T10:45:47.165Z"
   },
   {
    "duration": 6,
    "start_time": "2022-06-10T10:45:50.960Z"
   },
   {
    "duration": 3,
    "start_time": "2022-06-10T10:45:56.187Z"
   },
   {
    "duration": 78,
    "start_time": "2022-06-10T10:45:56.197Z"
   },
   {
    "duration": 83,
    "start_time": "2022-06-10T10:45:56.278Z"
   },
   {
    "duration": 6,
    "start_time": "2022-06-10T10:45:56.363Z"
   },
   {
    "duration": 37,
    "start_time": "2022-06-10T10:45:56.373Z"
   },
   {
    "duration": 28,
    "start_time": "2022-06-10T10:45:56.412Z"
   },
   {
    "duration": 45,
    "start_time": "2022-06-10T10:45:56.442Z"
   },
   {
    "duration": 7,
    "start_time": "2022-06-10T10:48:27.350Z"
   },
   {
    "duration": 13,
    "start_time": "2022-06-10T10:48:33.632Z"
   },
   {
    "duration": 9,
    "start_time": "2022-06-10T10:55:01.571Z"
   },
   {
    "duration": 13,
    "start_time": "2022-06-10T11:02:19.166Z"
   },
   {
    "duration": 13,
    "start_time": "2022-06-10T11:06:06.542Z"
   },
   {
    "duration": 51,
    "start_time": "2022-06-10T11:16:45.871Z"
   },
   {
    "duration": 35,
    "start_time": "2022-06-10T11:17:22.332Z"
   },
   {
    "duration": 19,
    "start_time": "2022-06-10T11:18:00.361Z"
   },
   {
    "duration": 2,
    "start_time": "2022-06-10T11:18:14.003Z"
   },
   {
    "duration": 62,
    "start_time": "2022-06-10T11:18:14.010Z"
   },
   {
    "duration": 52,
    "start_time": "2022-06-10T11:18:14.074Z"
   },
   {
    "duration": 7,
    "start_time": "2022-06-10T11:18:14.128Z"
   },
   {
    "duration": 19,
    "start_time": "2022-06-10T11:18:14.137Z"
   },
   {
    "duration": 9,
    "start_time": "2022-06-10T11:18:14.158Z"
   },
   {
    "duration": 17,
    "start_time": "2022-06-10T11:18:14.169Z"
   },
   {
    "duration": 19,
    "start_time": "2022-06-10T11:18:14.188Z"
   },
   {
    "duration": 33,
    "start_time": "2022-06-10T11:18:14.209Z"
   },
   {
    "duration": 27,
    "start_time": "2022-06-10T11:18:24.854Z"
   },
   {
    "duration": 2,
    "start_time": "2022-06-10T11:18:40.494Z"
   },
   {
    "duration": 53,
    "start_time": "2022-06-10T11:18:40.498Z"
   },
   {
    "duration": 44,
    "start_time": "2022-06-10T11:18:40.553Z"
   },
   {
    "duration": 5,
    "start_time": "2022-06-10T11:18:40.599Z"
   },
   {
    "duration": 26,
    "start_time": "2022-06-10T11:18:40.606Z"
   },
   {
    "duration": 7,
    "start_time": "2022-06-10T11:18:40.634Z"
   },
   {
    "duration": 16,
    "start_time": "2022-06-10T11:18:40.642Z"
   },
   {
    "duration": 11,
    "start_time": "2022-06-10T11:18:40.660Z"
   },
   {
    "duration": 31,
    "start_time": "2022-06-10T11:18:40.673Z"
   },
   {
    "duration": 50,
    "start_time": "2022-06-10T12:33:46.323Z"
   },
   {
    "duration": 414,
    "start_time": "2022-06-10T12:33:54.102Z"
   },
   {
    "duration": 135,
    "start_time": "2022-06-10T12:33:54.520Z"
   },
   {
    "duration": 89,
    "start_time": "2022-06-10T12:33:54.657Z"
   },
   {
    "duration": 19,
    "start_time": "2022-06-10T12:33:54.748Z"
   },
   {
    "duration": 55,
    "start_time": "2022-06-10T12:33:54.769Z"
   },
   {
    "duration": 7,
    "start_time": "2022-06-10T12:33:54.826Z"
   },
   {
    "duration": 18,
    "start_time": "2022-06-10T12:33:54.835Z"
   },
   {
    "duration": 21,
    "start_time": "2022-06-10T12:33:54.855Z"
   },
   {
    "duration": 59,
    "start_time": "2022-06-10T12:33:54.878Z"
   },
   {
    "duration": 51,
    "start_time": "2022-06-10T12:35:05.885Z"
   },
   {
    "duration": 46,
    "start_time": "2022-06-10T12:36:50.154Z"
   },
   {
    "duration": 29,
    "start_time": "2022-06-10T12:37:05.844Z"
   },
   {
    "duration": 7,
    "start_time": "2022-06-10T12:39:37.243Z"
   },
   {
    "duration": 7,
    "start_time": "2022-06-10T12:39:43.812Z"
   },
   {
    "duration": 4,
    "start_time": "2022-06-10T12:39:53.054Z"
   },
   {
    "duration": 77,
    "start_time": "2022-06-10T12:39:53.097Z"
   },
   {
    "duration": 57,
    "start_time": "2022-06-10T12:39:53.177Z"
   },
   {
    "duration": 5,
    "start_time": "2022-06-10T12:39:53.236Z"
   },
   {
    "duration": 17,
    "start_time": "2022-06-10T12:39:53.243Z"
   },
   {
    "duration": 46,
    "start_time": "2022-06-10T12:39:53.263Z"
   },
   {
    "duration": 27,
    "start_time": "2022-06-10T12:39:53.311Z"
   },
   {
    "duration": 23,
    "start_time": "2022-06-10T12:39:53.679Z"
   },
   {
    "duration": 32,
    "start_time": "2022-06-10T12:39:53.704Z"
   },
   {
    "duration": 2,
    "start_time": "2022-06-10T12:41:19.408Z"
   },
   {
    "duration": 20,
    "start_time": "2022-06-10T12:43:49.716Z"
   },
   {
    "duration": 18,
    "start_time": "2022-06-10T12:48:13.546Z"
   },
   {
    "duration": 27,
    "start_time": "2022-06-10T12:49:24.084Z"
   },
   {
    "duration": 24,
    "start_time": "2022-06-10T12:50:17.147Z"
   },
   {
    "duration": 17,
    "start_time": "2022-06-10T12:55:10.026Z"
   },
   {
    "duration": 693,
    "start_time": "2022-06-10T12:55:25.716Z"
   },
   {
    "duration": 31,
    "start_time": "2022-06-10T13:05:07.263Z"
   },
   {
    "duration": 348,
    "start_time": "2022-06-10T13:05:17.420Z"
   },
   {
    "duration": 299,
    "start_time": "2022-06-10T13:05:52.610Z"
   },
   {
    "duration": 20,
    "start_time": "2022-06-10T13:07:20.818Z"
   },
   {
    "duration": 220,
    "start_time": "2022-06-10T13:07:34.740Z"
   },
   {
    "duration": 154,
    "start_time": "2022-06-10T13:07:45.715Z"
   },
   {
    "duration": 15,
    "start_time": "2022-06-10T13:11:09.420Z"
   },
   {
    "duration": 160,
    "start_time": "2022-06-10T13:11:25.649Z"
   },
   {
    "duration": 193,
    "start_time": "2022-06-10T13:11:39.213Z"
   },
   {
    "duration": 16,
    "start_time": "2022-06-10T13:13:06.437Z"
   },
   {
    "duration": 365,
    "start_time": "2022-06-10T13:15:53.048Z"
   },
   {
    "duration": 4,
    "start_time": "2022-06-10T16:32:00.750Z"
   },
   {
    "duration": 49,
    "start_time": "2022-06-10T16:33:11.421Z"
   },
   {
    "duration": 413,
    "start_time": "2022-06-10T16:33:16.770Z"
   },
   {
    "duration": 176,
    "start_time": "2022-06-10T16:33:17.185Z"
   },
   {
    "duration": 57,
    "start_time": "2022-06-10T16:33:17.363Z"
   },
   {
    "duration": 5,
    "start_time": "2022-06-10T16:33:17.422Z"
   },
   {
    "duration": 7,
    "start_time": "2022-06-10T16:33:17.429Z"
   },
   {
    "duration": 23,
    "start_time": "2022-06-10T16:33:17.437Z"
   },
   {
    "duration": 15,
    "start_time": "2022-06-10T16:33:17.461Z"
   },
   {
    "duration": 14,
    "start_time": "2022-06-10T16:33:17.478Z"
   },
   {
    "duration": 30,
    "start_time": "2022-06-10T16:33:17.493Z"
   },
   {
    "duration": 46,
    "start_time": "2022-06-10T16:33:17.525Z"
   },
   {
    "duration": 717,
    "start_time": "2022-06-10T16:33:17.572Z"
   },
   {
    "duration": 3,
    "start_time": "2022-06-10T16:33:18.290Z"
   },
   {
    "duration": 20,
    "start_time": "2022-06-10T16:33:18.295Z"
   },
   {
    "duration": 29,
    "start_time": "2022-06-10T16:36:33.721Z"
   },
   {
    "duration": 3,
    "start_time": "2022-06-10T16:37:44.470Z"
   },
   {
    "duration": 13,
    "start_time": "2022-06-10T16:38:38.076Z"
   },
   {
    "duration": 24,
    "start_time": "2022-06-10T16:44:04.111Z"
   },
   {
    "duration": 386,
    "start_time": "2022-06-10T17:11:19.808Z"
   },
   {
    "duration": 398,
    "start_time": "2022-06-10T17:11:45.228Z"
   },
   {
    "duration": 33,
    "start_time": "2022-06-10T17:14:31.399Z"
   },
   {
    "duration": 44,
    "start_time": "2022-06-10T17:15:47.569Z"
   },
   {
    "duration": 17,
    "start_time": "2022-06-10T17:16:07.104Z"
   },
   {
    "duration": 49,
    "start_time": "2022-06-10T17:17:48.147Z"
   },
   {
    "duration": 2070,
    "start_time": "2022-06-10T17:18:32.398Z"
   },
   {
    "duration": 26,
    "start_time": "2022-06-10T17:18:39.433Z"
   },
   {
    "duration": 16,
    "start_time": "2022-06-10T17:23:49.491Z"
   },
   {
    "duration": 149,
    "start_time": "2022-06-10T17:25:23.927Z"
   },
   {
    "duration": 16,
    "start_time": "2022-06-10T17:28:28.760Z"
   },
   {
    "duration": 2,
    "start_time": "2022-06-10T17:28:48.447Z"
   },
   {
    "duration": 63,
    "start_time": "2022-06-10T17:28:48.461Z"
   },
   {
    "duration": 54,
    "start_time": "2022-06-10T17:28:48.526Z"
   },
   {
    "duration": 6,
    "start_time": "2022-06-10T17:28:48.582Z"
   },
   {
    "duration": 10,
    "start_time": "2022-06-10T17:28:48.590Z"
   },
   {
    "duration": 8,
    "start_time": "2022-06-10T17:28:48.603Z"
   },
   {
    "duration": 16,
    "start_time": "2022-06-10T17:28:48.613Z"
   },
   {
    "duration": 39,
    "start_time": "2022-06-10T17:28:48.631Z"
   },
   {
    "duration": 30,
    "start_time": "2022-06-10T17:28:48.672Z"
   },
   {
    "duration": 17,
    "start_time": "2022-06-10T17:28:48.703Z"
   },
   {
    "duration": 383,
    "start_time": "2022-06-10T17:28:48.721Z"
   },
   {
    "duration": 19,
    "start_time": "2022-06-10T17:28:49.106Z"
   },
   {
    "duration": 39,
    "start_time": "2022-06-10T17:28:49.127Z"
   },
   {
    "duration": 25,
    "start_time": "2022-06-10T17:28:49.168Z"
   },
   {
    "duration": 16,
    "start_time": "2022-06-10T17:28:49.196Z"
   },
   {
    "duration": 16,
    "start_time": "2022-06-10T17:28:49.214Z"
   },
   {
    "duration": 14,
    "start_time": "2022-06-10T17:29:40.597Z"
   },
   {
    "duration": 24,
    "start_time": "2022-06-10T17:30:44.376Z"
   },
   {
    "duration": 24,
    "start_time": "2022-06-10T17:31:10.186Z"
   },
   {
    "duration": 16,
    "start_time": "2022-06-10T17:31:24.080Z"
   },
   {
    "duration": 35,
    "start_time": "2022-06-10T17:31:30.352Z"
   },
   {
    "duration": 15,
    "start_time": "2022-06-10T17:31:36.014Z"
   },
   {
    "duration": 15,
    "start_time": "2022-06-10T17:33:07.756Z"
   },
   {
    "duration": 18,
    "start_time": "2022-06-10T17:33:27.516Z"
   },
   {
    "duration": 23,
    "start_time": "2022-06-10T17:34:02.999Z"
   },
   {
    "duration": 3,
    "start_time": "2022-06-10T17:34:07.000Z"
   },
   {
    "duration": 63,
    "start_time": "2022-06-10T17:34:07.019Z"
   },
   {
    "duration": 74,
    "start_time": "2022-06-10T17:34:07.086Z"
   },
   {
    "duration": 7,
    "start_time": "2022-06-10T17:34:07.163Z"
   },
   {
    "duration": 25,
    "start_time": "2022-06-10T17:34:07.173Z"
   },
   {
    "duration": 9,
    "start_time": "2022-06-10T17:34:07.203Z"
   },
   {
    "duration": 28,
    "start_time": "2022-06-10T17:34:07.214Z"
   },
   {
    "duration": 28,
    "start_time": "2022-06-10T17:34:07.243Z"
   },
   {
    "duration": 52,
    "start_time": "2022-06-10T17:34:07.274Z"
   },
   {
    "duration": 19,
    "start_time": "2022-06-10T17:34:07.328Z"
   },
   {
    "duration": 457,
    "start_time": "2022-06-10T17:34:07.349Z"
   },
   {
    "duration": 28,
    "start_time": "2022-06-10T17:34:07.808Z"
   },
   {
    "duration": 42,
    "start_time": "2022-06-10T17:34:07.837Z"
   },
   {
    "duration": 35,
    "start_time": "2022-06-10T17:34:07.881Z"
   },
   {
    "duration": 49,
    "start_time": "2022-06-10T17:34:07.920Z"
   },
   {
    "duration": 39,
    "start_time": "2022-06-10T17:34:07.973Z"
   },
   {
    "duration": 14,
    "start_time": "2022-06-10T17:34:08.014Z"
   },
   {
    "duration": 560,
    "start_time": "2022-06-10T17:34:47.436Z"
   },
   {
    "duration": 26,
    "start_time": "2022-06-10T17:35:50.095Z"
   },
   {
    "duration": 148,
    "start_time": "2022-06-10T17:36:36.767Z"
   },
   {
    "duration": 11,
    "start_time": "2022-06-10T17:36:44.363Z"
   },
   {
    "duration": 136,
    "start_time": "2022-06-10T17:37:03.949Z"
   },
   {
    "duration": 8,
    "start_time": "2022-06-10T17:38:50.547Z"
   },
   {
    "duration": 10,
    "start_time": "2022-06-10T17:39:41.126Z"
   },
   {
    "duration": 2,
    "start_time": "2022-06-10T17:39:58.527Z"
   },
   {
    "duration": 63,
    "start_time": "2022-06-10T17:39:58.792Z"
   },
   {
    "duration": 74,
    "start_time": "2022-06-10T17:39:58.859Z"
   },
   {
    "duration": 6,
    "start_time": "2022-06-10T17:39:58.935Z"
   },
   {
    "duration": 38,
    "start_time": "2022-06-10T17:39:58.943Z"
   },
   {
    "duration": 18,
    "start_time": "2022-06-10T17:39:58.983Z"
   },
   {
    "duration": 24,
    "start_time": "2022-06-10T17:39:59.003Z"
   },
   {
    "duration": 14,
    "start_time": "2022-06-10T17:39:59.028Z"
   },
   {
    "duration": 60,
    "start_time": "2022-06-10T17:39:59.044Z"
   },
   {
    "duration": 17,
    "start_time": "2022-06-10T17:39:59.106Z"
   },
   {
    "duration": 475,
    "start_time": "2022-06-10T17:39:59.125Z"
   },
   {
    "duration": 28,
    "start_time": "2022-06-10T17:39:59.603Z"
   },
   {
    "duration": 44,
    "start_time": "2022-06-10T17:39:59.633Z"
   },
   {
    "duration": 39,
    "start_time": "2022-06-10T17:39:59.680Z"
   },
   {
    "duration": 39,
    "start_time": "2022-06-10T17:39:59.723Z"
   },
   {
    "duration": 26,
    "start_time": "2022-06-10T17:39:59.766Z"
   },
   {
    "duration": 155,
    "start_time": "2022-06-10T17:39:59.794Z"
   },
   {
    "duration": 0,
    "start_time": "2022-06-10T17:39:59.950Z"
   },
   {
    "duration": 0,
    "start_time": "2022-06-10T17:39:59.952Z"
   },
   {
    "duration": 3,
    "start_time": "2022-06-10T17:40:20.493Z"
   },
   {
    "duration": 19,
    "start_time": "2022-06-10T17:40:23.052Z"
   },
   {
    "duration": 7,
    "start_time": "2022-06-10T17:40:27.026Z"
   },
   {
    "duration": 5,
    "start_time": "2022-06-10T17:41:28.619Z"
   },
   {
    "duration": 10,
    "start_time": "2022-06-10T17:42:45.407Z"
   },
   {
    "duration": 36,
    "start_time": "2022-06-10T17:44:24.689Z"
   },
   {
    "duration": 11,
    "start_time": "2022-06-10T17:44:29.116Z"
   },
   {
    "duration": 3,
    "start_time": "2022-06-10T17:44:45.097Z"
   },
   {
    "duration": 54,
    "start_time": "2022-06-10T17:44:45.106Z"
   },
   {
    "duration": 63,
    "start_time": "2022-06-10T17:44:45.163Z"
   },
   {
    "duration": 6,
    "start_time": "2022-06-10T17:44:45.228Z"
   },
   {
    "duration": 48,
    "start_time": "2022-06-10T17:44:45.260Z"
   },
   {
    "duration": 43,
    "start_time": "2022-06-10T17:44:45.311Z"
   },
   {
    "duration": 34,
    "start_time": "2022-06-10T17:44:45.355Z"
   },
   {
    "duration": 18,
    "start_time": "2022-06-10T17:44:45.391Z"
   },
   {
    "duration": 63,
    "start_time": "2022-06-10T17:44:45.411Z"
   },
   {
    "duration": 24,
    "start_time": "2022-06-10T17:44:45.476Z"
   },
   {
    "duration": 344,
    "start_time": "2022-06-10T17:44:45.502Z"
   },
   {
    "duration": 38,
    "start_time": "2022-06-10T17:44:45.848Z"
   },
   {
    "duration": 18,
    "start_time": "2022-06-10T17:44:45.888Z"
   },
   {
    "duration": 42,
    "start_time": "2022-06-10T17:44:45.907Z"
   },
   {
    "duration": 25,
    "start_time": "2022-06-10T17:44:45.958Z"
   },
   {
    "duration": 18,
    "start_time": "2022-06-10T17:44:45.984Z"
   },
   {
    "duration": 3,
    "start_time": "2022-06-10T17:44:46.004Z"
   },
   {
    "duration": 14,
    "start_time": "2022-06-10T17:44:46.009Z"
   },
   {
    "duration": 36,
    "start_time": "2022-06-10T17:44:46.025Z"
   },
   {
    "duration": 13,
    "start_time": "2022-06-10T17:45:23.585Z"
   },
   {
    "duration": 8,
    "start_time": "2022-06-10T17:45:42.379Z"
   },
   {
    "duration": 9,
    "start_time": "2022-06-10T17:48:42.417Z"
   },
   {
    "duration": 2,
    "start_time": "2022-06-10T17:48:52.527Z"
   },
   {
    "duration": 50,
    "start_time": "2022-06-10T17:48:52.548Z"
   },
   {
    "duration": 51,
    "start_time": "2022-06-10T17:48:52.600Z"
   },
   {
    "duration": 5,
    "start_time": "2022-06-10T17:48:52.653Z"
   },
   {
    "duration": 31,
    "start_time": "2022-06-10T17:48:52.660Z"
   },
   {
    "duration": 12,
    "start_time": "2022-06-10T17:48:52.693Z"
   },
   {
    "duration": 15,
    "start_time": "2022-06-10T17:48:52.707Z"
   },
   {
    "duration": 14,
    "start_time": "2022-06-10T17:48:52.723Z"
   },
   {
    "duration": 36,
    "start_time": "2022-06-10T17:48:52.739Z"
   },
   {
    "duration": 18,
    "start_time": "2022-06-10T17:48:52.777Z"
   },
   {
    "duration": 397,
    "start_time": "2022-06-10T17:48:52.797Z"
   },
   {
    "duration": 19,
    "start_time": "2022-06-10T17:48:53.196Z"
   },
   {
    "duration": 42,
    "start_time": "2022-06-10T17:48:53.216Z"
   },
   {
    "duration": 28,
    "start_time": "2022-06-10T17:48:53.260Z"
   },
   {
    "duration": 17,
    "start_time": "2022-06-10T17:48:53.290Z"
   },
   {
    "duration": 17,
    "start_time": "2022-06-10T17:48:53.309Z"
   },
   {
    "duration": 31,
    "start_time": "2022-06-10T17:48:53.328Z"
   },
   {
    "duration": 13,
    "start_time": "2022-06-10T17:48:53.362Z"
   },
   {
    "duration": 13,
    "start_time": "2022-06-10T17:48:53.378Z"
   },
   {
    "duration": 12,
    "start_time": "2022-06-10T17:51:09.407Z"
   },
   {
    "duration": 3,
    "start_time": "2022-06-10T17:51:24.607Z"
   },
   {
    "duration": 52,
    "start_time": "2022-06-10T17:51:24.629Z"
   },
   {
    "duration": 53,
    "start_time": "2022-06-10T17:51:24.683Z"
   },
   {
    "duration": 24,
    "start_time": "2022-06-10T17:51:24.737Z"
   },
   {
    "duration": 11,
    "start_time": "2022-06-10T17:51:24.762Z"
   },
   {
    "duration": 10,
    "start_time": "2022-06-10T17:51:24.776Z"
   },
   {
    "duration": 20,
    "start_time": "2022-06-10T17:51:24.788Z"
   },
   {
    "duration": 17,
    "start_time": "2022-06-10T17:51:24.810Z"
   },
   {
    "duration": 62,
    "start_time": "2022-06-10T17:51:24.829Z"
   },
   {
    "duration": 18,
    "start_time": "2022-06-10T17:51:24.892Z"
   },
   {
    "duration": 364,
    "start_time": "2022-06-10T17:51:24.912Z"
   },
   {
    "duration": 21,
    "start_time": "2022-06-10T17:51:25.278Z"
   },
   {
    "duration": 22,
    "start_time": "2022-06-10T17:51:25.300Z"
   },
   {
    "duration": 52,
    "start_time": "2022-06-10T17:51:25.324Z"
   },
   {
    "duration": 37,
    "start_time": "2022-06-10T17:51:25.379Z"
   },
   {
    "duration": 24,
    "start_time": "2022-06-10T17:51:25.419Z"
   },
   {
    "duration": 13,
    "start_time": "2022-06-10T17:51:25.446Z"
   },
   {
    "duration": 27,
    "start_time": "2022-06-10T17:51:25.461Z"
   },
   {
    "duration": 45,
    "start_time": "2022-06-10T17:51:25.490Z"
   },
   {
    "duration": 42,
    "start_time": "2022-06-10T17:51:25.537Z"
   },
   {
    "duration": 11,
    "start_time": "2022-06-10T17:51:32.138Z"
   },
   {
    "duration": 12,
    "start_time": "2022-06-10T17:52:06.233Z"
   },
   {
    "duration": 15,
    "start_time": "2022-06-10T17:52:12.039Z"
   },
   {
    "duration": 15,
    "start_time": "2022-06-10T17:52:28.843Z"
   },
   {
    "duration": 3,
    "start_time": "2022-06-10T17:55:23.647Z"
   },
   {
    "duration": 6,
    "start_time": "2022-06-10T17:58:21.595Z"
   },
   {
    "duration": 15,
    "start_time": "2022-06-10T17:58:52.394Z"
   },
   {
    "duration": 7,
    "start_time": "2022-06-10T17:58:58.506Z"
   },
   {
    "duration": 16,
    "start_time": "2022-06-10T17:59:00.337Z"
   },
   {
    "duration": 164,
    "start_time": "2022-06-10T18:00:17.425Z"
   },
   {
    "duration": 5,
    "start_time": "2022-06-10T18:01:14.393Z"
   },
   {
    "duration": 5,
    "start_time": "2022-06-10T18:01:21.647Z"
   },
   {
    "duration": 4,
    "start_time": "2022-06-10T18:01:48.546Z"
   },
   {
    "duration": 42,
    "start_time": "2022-06-11T07:07:06.686Z"
   },
   {
    "duration": 371,
    "start_time": "2022-06-11T07:07:10.484Z"
   },
   {
    "duration": 173,
    "start_time": "2022-06-11T07:07:10.857Z"
   },
   {
    "duration": 46,
    "start_time": "2022-06-11T07:07:11.032Z"
   },
   {
    "duration": 4,
    "start_time": "2022-06-11T07:07:11.080Z"
   },
   {
    "duration": 5,
    "start_time": "2022-06-11T07:07:11.086Z"
   },
   {
    "duration": 6,
    "start_time": "2022-06-11T07:07:11.092Z"
   },
   {
    "duration": 13,
    "start_time": "2022-06-11T07:07:11.099Z"
   },
   {
    "duration": 12,
    "start_time": "2022-06-11T07:07:11.114Z"
   },
   {
    "duration": 23,
    "start_time": "2022-06-11T07:07:11.127Z"
   },
   {
    "duration": 36,
    "start_time": "2022-06-11T07:07:11.151Z"
   },
   {
    "duration": 603,
    "start_time": "2022-06-11T07:07:11.188Z"
   },
   {
    "duration": 16,
    "start_time": "2022-06-11T07:07:11.793Z"
   },
   {
    "duration": 16,
    "start_time": "2022-06-11T07:07:11.810Z"
   },
   {
    "duration": 21,
    "start_time": "2022-06-11T07:07:11.828Z"
   },
   {
    "duration": 13,
    "start_time": "2022-06-11T07:07:11.877Z"
   },
   {
    "duration": 12,
    "start_time": "2022-06-11T07:07:11.891Z"
   },
   {
    "duration": 2,
    "start_time": "2022-06-11T07:07:11.904Z"
   },
   {
    "duration": 17,
    "start_time": "2022-06-11T07:07:11.908Z"
   },
   {
    "duration": 10,
    "start_time": "2022-06-11T07:07:11.927Z"
   },
   {
    "duration": 16,
    "start_time": "2022-06-11T07:07:11.938Z"
   },
   {
    "duration": 29,
    "start_time": "2022-06-11T07:07:11.956Z"
   },
   {
    "duration": 2,
    "start_time": "2022-06-11T07:07:11.986Z"
   },
   {
    "duration": 9,
    "start_time": "2022-06-11T07:07:11.989Z"
   },
   {
    "duration": 10,
    "start_time": "2022-06-11T07:07:11.999Z"
   },
   {
    "duration": 3,
    "start_time": "2022-06-11T07:07:12.011Z"
   },
   {
    "duration": 4,
    "start_time": "2022-06-11T07:07:12.015Z"
   },
   {
    "duration": 14,
    "start_time": "2022-06-11T07:08:03.388Z"
   },
   {
    "duration": 38,
    "start_time": "2022-06-11T07:21:14.286Z"
   },
   {
    "duration": 29,
    "start_time": "2022-06-11T07:21:29.447Z"
   },
   {
    "duration": 26,
    "start_time": "2022-06-11T07:23:02.609Z"
   },
   {
    "duration": 36,
    "start_time": "2022-06-11T07:24:08.627Z"
   },
   {
    "duration": 29,
    "start_time": "2022-06-11T07:24:27.913Z"
   },
   {
    "duration": 41,
    "start_time": "2022-06-11T07:25:56.184Z"
   },
   {
    "duration": 6,
    "start_time": "2022-06-11T07:26:02.724Z"
   },
   {
    "duration": 16,
    "start_time": "2022-06-11T07:26:25.137Z"
   },
   {
    "duration": 14,
    "start_time": "2022-06-11T07:26:43.247Z"
   },
   {
    "duration": 27,
    "start_time": "2022-06-11T07:27:03.410Z"
   },
   {
    "duration": 18,
    "start_time": "2022-06-11T07:27:52.198Z"
   },
   {
    "duration": 19,
    "start_time": "2022-06-11T07:27:57.463Z"
   },
   {
    "duration": 19,
    "start_time": "2022-06-11T07:28:27.638Z"
   },
   {
    "duration": 15,
    "start_time": "2022-06-11T07:28:32.256Z"
   },
   {
    "duration": 18,
    "start_time": "2022-06-11T07:29:24.498Z"
   },
   {
    "duration": 4,
    "start_time": "2022-06-11T07:29:28.295Z"
   },
   {
    "duration": 58,
    "start_time": "2022-06-11T07:29:28.302Z"
   },
   {
    "duration": 58,
    "start_time": "2022-06-11T07:29:28.361Z"
   },
   {
    "duration": 4,
    "start_time": "2022-06-11T07:29:28.421Z"
   },
   {
    "duration": 8,
    "start_time": "2022-06-11T07:29:28.427Z"
   },
   {
    "duration": 8,
    "start_time": "2022-06-11T07:29:28.436Z"
   },
   {
    "duration": 34,
    "start_time": "2022-06-11T07:29:28.445Z"
   },
   {
    "duration": 20,
    "start_time": "2022-06-11T07:29:28.481Z"
   },
   {
    "duration": 29,
    "start_time": "2022-06-11T07:29:28.503Z"
   },
   {
    "duration": 14,
    "start_time": "2022-06-11T07:29:28.535Z"
   },
   {
    "duration": 349,
    "start_time": "2022-06-11T07:29:28.550Z"
   },
   {
    "duration": 15,
    "start_time": "2022-06-11T07:29:28.901Z"
   },
   {
    "duration": 17,
    "start_time": "2022-06-11T07:29:28.917Z"
   },
   {
    "duration": 43,
    "start_time": "2022-06-11T07:29:28.935Z"
   },
   {
    "duration": 17,
    "start_time": "2022-06-11T07:29:28.979Z"
   },
   {
    "duration": 22,
    "start_time": "2022-06-11T07:29:28.999Z"
   },
   {
    "duration": 13,
    "start_time": "2022-06-11T07:29:29.023Z"
   },
   {
    "duration": 2,
    "start_time": "2022-06-11T07:29:29.038Z"
   },
   {
    "duration": 36,
    "start_time": "2022-06-11T07:29:29.042Z"
   },
   {
    "duration": 14,
    "start_time": "2022-06-11T07:29:29.081Z"
   },
   {
    "duration": 16,
    "start_time": "2022-06-11T07:29:29.097Z"
   },
   {
    "duration": 13,
    "start_time": "2022-06-11T07:29:29.114Z"
   },
   {
    "duration": 2,
    "start_time": "2022-06-11T07:29:29.129Z"
   },
   {
    "duration": 8,
    "start_time": "2022-06-11T07:29:29.132Z"
   },
   {
    "duration": 49,
    "start_time": "2022-06-11T07:29:29.141Z"
   },
   {
    "duration": 52,
    "start_time": "2022-06-11T07:29:29.193Z"
   },
   {
    "duration": 11,
    "start_time": "2022-06-11T07:29:29.247Z"
   },
   {
    "duration": 15,
    "start_time": "2022-06-11T07:29:54.654Z"
   },
   {
    "duration": 12,
    "start_time": "2022-06-11T07:30:45.693Z"
   },
   {
    "duration": 14,
    "start_time": "2022-06-11T07:31:02.924Z"
   },
   {
    "duration": 8,
    "start_time": "2022-06-11T07:32:07.644Z"
   },
   {
    "duration": 19,
    "start_time": "2022-06-11T07:32:30.186Z"
   },
   {
    "duration": 2,
    "start_time": "2022-06-11T07:33:15.112Z"
   },
   {
    "duration": 48,
    "start_time": "2022-06-11T07:33:15.116Z"
   },
   {
    "duration": 50,
    "start_time": "2022-06-11T07:33:15.166Z"
   },
   {
    "duration": 4,
    "start_time": "2022-06-11T07:33:15.217Z"
   },
   {
    "duration": 5,
    "start_time": "2022-06-11T07:33:15.223Z"
   },
   {
    "duration": 7,
    "start_time": "2022-06-11T07:33:15.229Z"
   },
   {
    "duration": 11,
    "start_time": "2022-06-11T07:33:15.237Z"
   },
   {
    "duration": 38,
    "start_time": "2022-06-11T07:33:15.249Z"
   },
   {
    "duration": 26,
    "start_time": "2022-06-11T07:33:15.288Z"
   },
   {
    "duration": 13,
    "start_time": "2022-06-11T07:33:15.316Z"
   },
   {
    "duration": 296,
    "start_time": "2022-06-11T07:33:15.331Z"
   },
   {
    "duration": 15,
    "start_time": "2022-06-11T07:33:15.628Z"
   },
   {
    "duration": 15,
    "start_time": "2022-06-11T07:33:15.644Z"
   },
   {
    "duration": 37,
    "start_time": "2022-06-11T07:33:15.660Z"
   },
   {
    "duration": 17,
    "start_time": "2022-06-11T07:33:15.699Z"
   },
   {
    "duration": 14,
    "start_time": "2022-06-11T07:33:15.717Z"
   },
   {
    "duration": 2,
    "start_time": "2022-06-11T07:33:15.732Z"
   },
   {
    "duration": 4,
    "start_time": "2022-06-11T07:33:15.735Z"
   },
   {
    "duration": 8,
    "start_time": "2022-06-11T07:33:15.740Z"
   },
   {
    "duration": 38,
    "start_time": "2022-06-11T07:33:15.749Z"
   },
   {
    "duration": 0,
    "start_time": "2022-06-11T07:33:15.789Z"
   },
   {
    "duration": 0,
    "start_time": "2022-06-11T07:33:15.790Z"
   },
   {
    "duration": 0,
    "start_time": "2022-06-11T07:33:15.792Z"
   },
   {
    "duration": 0,
    "start_time": "2022-06-11T07:33:15.793Z"
   },
   {
    "duration": 0,
    "start_time": "2022-06-11T07:33:15.794Z"
   },
   {
    "duration": 0,
    "start_time": "2022-06-11T07:33:15.795Z"
   },
   {
    "duration": 2,
    "start_time": "2022-06-11T07:36:06.993Z"
   },
   {
    "duration": 565,
    "start_time": "2022-06-11T07:36:21.183Z"
   },
   {
    "duration": 3,
    "start_time": "2022-06-11T07:36:43.446Z"
   },
   {
    "duration": 46,
    "start_time": "2022-06-11T07:36:43.486Z"
   },
   {
    "duration": 41,
    "start_time": "2022-06-11T07:36:43.534Z"
   },
   {
    "duration": 6,
    "start_time": "2022-06-11T07:36:43.576Z"
   },
   {
    "duration": 12,
    "start_time": "2022-06-11T07:36:43.585Z"
   },
   {
    "duration": 8,
    "start_time": "2022-06-11T07:36:43.600Z"
   },
   {
    "duration": 12,
    "start_time": "2022-06-11T07:36:43.609Z"
   },
   {
    "duration": 12,
    "start_time": "2022-06-11T07:36:43.622Z"
   },
   {
    "duration": 54,
    "start_time": "2022-06-11T07:36:43.636Z"
   },
   {
    "duration": 18,
    "start_time": "2022-06-11T07:36:43.693Z"
   },
   {
    "duration": 322,
    "start_time": "2022-06-11T07:36:43.712Z"
   },
   {
    "duration": 16,
    "start_time": "2022-06-11T07:36:44.036Z"
   },
   {
    "duration": 33,
    "start_time": "2022-06-11T07:36:44.053Z"
   },
   {
    "duration": 24,
    "start_time": "2022-06-11T07:36:44.089Z"
   },
   {
    "duration": 13,
    "start_time": "2022-06-11T07:36:44.116Z"
   },
   {
    "duration": 16,
    "start_time": "2022-06-11T07:36:44.130Z"
   },
   {
    "duration": 200,
    "start_time": "2022-06-11T07:36:44.147Z"
   },
   {
    "duration": 0,
    "start_time": "2022-06-11T07:36:44.348Z"
   },
   {
    "duration": 0,
    "start_time": "2022-06-11T07:36:44.349Z"
   },
   {
    "duration": 0,
    "start_time": "2022-06-11T07:36:44.350Z"
   },
   {
    "duration": 0,
    "start_time": "2022-06-11T07:36:44.351Z"
   },
   {
    "duration": 0,
    "start_time": "2022-06-11T07:36:44.351Z"
   },
   {
    "duration": 0,
    "start_time": "2022-06-11T07:36:44.352Z"
   },
   {
    "duration": 0,
    "start_time": "2022-06-11T07:36:44.353Z"
   },
   {
    "duration": 0,
    "start_time": "2022-06-11T07:36:44.354Z"
   },
   {
    "duration": 0,
    "start_time": "2022-06-11T07:36:44.355Z"
   },
   {
    "duration": 22,
    "start_time": "2022-06-11T07:37:54.595Z"
   },
   {
    "duration": 3,
    "start_time": "2022-06-11T07:38:13.089Z"
   },
   {
    "duration": 12,
    "start_time": "2022-06-11T07:38:51.665Z"
   },
   {
    "duration": 2,
    "start_time": "2022-06-11T07:40:06.942Z"
   },
   {
    "duration": 63,
    "start_time": "2022-06-11T07:40:06.947Z"
   },
   {
    "duration": 41,
    "start_time": "2022-06-11T07:40:07.011Z"
   },
   {
    "duration": 4,
    "start_time": "2022-06-11T07:40:07.054Z"
   },
   {
    "duration": 28,
    "start_time": "2022-06-11T07:40:07.059Z"
   },
   {
    "duration": 14,
    "start_time": "2022-06-11T07:40:07.091Z"
   },
   {
    "duration": 12,
    "start_time": "2022-06-11T07:40:07.107Z"
   },
   {
    "duration": 11,
    "start_time": "2022-06-11T07:40:07.120Z"
   },
   {
    "duration": 24,
    "start_time": "2022-06-11T07:40:07.132Z"
   },
   {
    "duration": 39,
    "start_time": "2022-06-11T07:40:07.157Z"
   },
   {
    "duration": 338,
    "start_time": "2022-06-11T07:40:07.200Z"
   },
   {
    "duration": 14,
    "start_time": "2022-06-11T07:40:07.539Z"
   },
   {
    "duration": 34,
    "start_time": "2022-06-11T07:40:07.555Z"
   },
   {
    "duration": 31,
    "start_time": "2022-06-11T07:40:07.591Z"
   },
   {
    "duration": 19,
    "start_time": "2022-06-11T07:40:07.625Z"
   },
   {
    "duration": 22,
    "start_time": "2022-06-11T07:40:07.646Z"
   },
   {
    "duration": 3,
    "start_time": "2022-06-11T07:40:07.695Z"
   },
   {
    "duration": 15,
    "start_time": "2022-06-11T07:40:07.699Z"
   },
   {
    "duration": 31,
    "start_time": "2022-06-11T07:40:07.716Z"
   },
   {
    "duration": 9,
    "start_time": "2022-06-11T07:40:07.749Z"
   },
   {
    "duration": 21,
    "start_time": "2022-06-11T07:40:07.760Z"
   },
   {
    "duration": 28,
    "start_time": "2022-06-11T07:40:07.784Z"
   },
   {
    "duration": 44,
    "start_time": "2022-06-11T07:41:46.193Z"
   },
   {
    "duration": 8,
    "start_time": "2022-06-11T07:44:58.546Z"
   },
   {
    "duration": 8,
    "start_time": "2022-06-11T07:45:23.416Z"
   },
   {
    "duration": 8,
    "start_time": "2022-06-11T07:45:42.615Z"
   },
   {
    "duration": 2,
    "start_time": "2022-06-11T07:45:51.259Z"
   },
   {
    "duration": 53,
    "start_time": "2022-06-11T07:45:51.263Z"
   },
   {
    "duration": 44,
    "start_time": "2022-06-11T07:45:51.318Z"
   },
   {
    "duration": 5,
    "start_time": "2022-06-11T07:45:51.364Z"
   },
   {
    "duration": 9,
    "start_time": "2022-06-11T07:45:51.380Z"
   },
   {
    "duration": 9,
    "start_time": "2022-06-11T07:45:51.391Z"
   },
   {
    "duration": 15,
    "start_time": "2022-06-11T07:45:51.402Z"
   },
   {
    "duration": 12,
    "start_time": "2022-06-11T07:45:51.418Z"
   },
   {
    "duration": 21,
    "start_time": "2022-06-11T07:45:51.431Z"
   },
   {
    "duration": 26,
    "start_time": "2022-06-11T07:45:51.453Z"
   },
   {
    "duration": 269,
    "start_time": "2022-06-11T07:45:51.480Z"
   },
   {
    "duration": 14,
    "start_time": "2022-06-11T07:45:51.751Z"
   },
   {
    "duration": 22,
    "start_time": "2022-06-11T07:45:51.768Z"
   },
   {
    "duration": 20,
    "start_time": "2022-06-11T07:45:51.792Z"
   },
   {
    "duration": 13,
    "start_time": "2022-06-11T07:45:51.814Z"
   },
   {
    "duration": 13,
    "start_time": "2022-06-11T07:45:51.828Z"
   },
   {
    "duration": 1,
    "start_time": "2022-06-11T07:45:51.843Z"
   },
   {
    "duration": 35,
    "start_time": "2022-06-11T07:45:51.846Z"
   },
   {
    "duration": 8,
    "start_time": "2022-06-11T07:45:51.883Z"
   },
   {
    "duration": 0,
    "start_time": "2022-06-11T07:45:51.892Z"
   },
   {
    "duration": 0,
    "start_time": "2022-06-11T07:45:51.894Z"
   },
   {
    "duration": 0,
    "start_time": "2022-06-11T07:45:51.895Z"
   },
   {
    "duration": 10,
    "start_time": "2022-06-11T07:48:16.082Z"
   },
   {
    "duration": 3,
    "start_time": "2022-06-11T07:48:46.454Z"
   },
   {
    "duration": 55,
    "start_time": "2022-06-11T07:48:46.459Z"
   },
   {
    "duration": 56,
    "start_time": "2022-06-11T07:48:46.515Z"
   },
   {
    "duration": 5,
    "start_time": "2022-06-11T07:48:46.579Z"
   },
   {
    "duration": 7,
    "start_time": "2022-06-11T07:48:46.586Z"
   },
   {
    "duration": 7,
    "start_time": "2022-06-11T07:48:46.594Z"
   },
   {
    "duration": 15,
    "start_time": "2022-06-11T07:48:46.602Z"
   },
   {
    "duration": 11,
    "start_time": "2022-06-11T07:48:46.619Z"
   },
   {
    "duration": 24,
    "start_time": "2022-06-11T07:48:46.632Z"
   },
   {
    "duration": 12,
    "start_time": "2022-06-11T07:48:46.678Z"
   },
   {
    "duration": 273,
    "start_time": "2022-06-11T07:48:46.692Z"
   },
   {
    "duration": 21,
    "start_time": "2022-06-11T07:48:46.966Z"
   },
   {
    "duration": 16,
    "start_time": "2022-06-11T07:48:46.988Z"
   },
   {
    "duration": 21,
    "start_time": "2022-06-11T07:48:47.006Z"
   },
   {
    "duration": 19,
    "start_time": "2022-06-11T07:48:47.028Z"
   },
   {
    "duration": 38,
    "start_time": "2022-06-11T07:48:47.049Z"
   },
   {
    "duration": 2,
    "start_time": "2022-06-11T07:48:47.089Z"
   },
   {
    "duration": 12,
    "start_time": "2022-06-11T07:48:47.092Z"
   },
   {
    "duration": 9,
    "start_time": "2022-06-11T07:48:47.106Z"
   },
   {
    "duration": 0,
    "start_time": "2022-06-11T07:48:47.117Z"
   },
   {
    "duration": 0,
    "start_time": "2022-06-11T07:48:47.118Z"
   },
   {
    "duration": 553,
    "start_time": "2022-06-11T07:49:13.435Z"
   },
   {
    "duration": 2,
    "start_time": "2022-06-11T07:49:24.855Z"
   },
   {
    "duration": 49,
    "start_time": "2022-06-11T07:49:24.861Z"
   },
   {
    "duration": 43,
    "start_time": "2022-06-11T07:49:24.911Z"
   },
   {
    "duration": 4,
    "start_time": "2022-06-11T07:49:24.955Z"
   },
   {
    "duration": 8,
    "start_time": "2022-06-11T07:49:24.961Z"
   },
   {
    "duration": 5,
    "start_time": "2022-06-11T07:49:24.977Z"
   },
   {
    "duration": 12,
    "start_time": "2022-06-11T07:49:24.984Z"
   },
   {
    "duration": 12,
    "start_time": "2022-06-11T07:49:24.998Z"
   },
   {
    "duration": 23,
    "start_time": "2022-06-11T07:49:25.012Z"
   },
   {
    "duration": 41,
    "start_time": "2022-06-11T07:49:25.037Z"
   },
   {
    "duration": 353,
    "start_time": "2022-06-11T07:49:25.079Z"
   },
   {
    "duration": 23,
    "start_time": "2022-06-11T07:49:25.434Z"
   },
   {
    "duration": 23,
    "start_time": "2022-06-11T07:49:25.459Z"
   },
   {
    "duration": 20,
    "start_time": "2022-06-11T07:49:25.484Z"
   },
   {
    "duration": 14,
    "start_time": "2022-06-11T07:49:25.507Z"
   },
   {
    "duration": 18,
    "start_time": "2022-06-11T07:49:25.522Z"
   },
   {
    "duration": 3,
    "start_time": "2022-06-11T07:49:25.541Z"
   },
   {
    "duration": 36,
    "start_time": "2022-06-11T07:49:25.545Z"
   },
   {
    "duration": 463,
    "start_time": "2022-06-11T07:49:25.582Z"
   },
   {
    "duration": 0,
    "start_time": "2022-06-11T07:49:26.047Z"
   },
   {
    "duration": 0,
    "start_time": "2022-06-11T07:49:26.048Z"
   },
   {
    "duration": 476,
    "start_time": "2022-06-11T07:52:41.145Z"
   },
   {
    "duration": 11,
    "start_time": "2022-06-11T07:52:56.666Z"
   },
   {
    "duration": 3,
    "start_time": "2022-06-11T07:53:04.505Z"
   },
   {
    "duration": 61,
    "start_time": "2022-06-11T07:53:04.509Z"
   },
   {
    "duration": 43,
    "start_time": "2022-06-11T07:53:04.571Z"
   },
   {
    "duration": 4,
    "start_time": "2022-06-11T07:53:04.616Z"
   },
   {
    "duration": 6,
    "start_time": "2022-06-11T07:53:04.622Z"
   },
   {
    "duration": 8,
    "start_time": "2022-06-11T07:53:04.629Z"
   },
   {
    "duration": 13,
    "start_time": "2022-06-11T07:53:04.638Z"
   },
   {
    "duration": 26,
    "start_time": "2022-06-11T07:53:04.652Z"
   },
   {
    "duration": 21,
    "start_time": "2022-06-11T07:53:04.680Z"
   },
   {
    "duration": 12,
    "start_time": "2022-06-11T07:53:04.703Z"
   },
   {
    "duration": 279,
    "start_time": "2022-06-11T07:53:04.716Z"
   },
   {
    "duration": 14,
    "start_time": "2022-06-11T07:53:04.997Z"
   },
   {
    "duration": 14,
    "start_time": "2022-06-11T07:53:05.013Z"
   },
   {
    "duration": 19,
    "start_time": "2022-06-11T07:53:05.028Z"
   },
   {
    "duration": 39,
    "start_time": "2022-06-11T07:53:05.048Z"
   },
   {
    "duration": 13,
    "start_time": "2022-06-11T07:53:05.089Z"
   },
   {
    "duration": 2,
    "start_time": "2022-06-11T07:53:05.104Z"
   },
   {
    "duration": 8,
    "start_time": "2022-06-11T07:53:05.107Z"
   },
   {
    "duration": 452,
    "start_time": "2022-06-11T07:53:05.117Z"
   },
   {
    "duration": 0,
    "start_time": "2022-06-11T07:53:05.571Z"
   },
   {
    "duration": 0,
    "start_time": "2022-06-11T07:53:05.572Z"
   },
   {
    "duration": 2,
    "start_time": "2022-06-11T07:54:13.964Z"
   },
   {
    "duration": 2,
    "start_time": "2022-06-11T07:54:16.435Z"
   },
   {
    "duration": 52,
    "start_time": "2022-06-11T07:54:16.439Z"
   },
   {
    "duration": 46,
    "start_time": "2022-06-11T07:54:16.492Z"
   },
   {
    "duration": 4,
    "start_time": "2022-06-11T07:54:16.540Z"
   },
   {
    "duration": 5,
    "start_time": "2022-06-11T07:54:16.545Z"
   },
   {
    "duration": 6,
    "start_time": "2022-06-11T07:54:16.551Z"
   },
   {
    "duration": 25,
    "start_time": "2022-06-11T07:54:16.558Z"
   },
   {
    "duration": 11,
    "start_time": "2022-06-11T07:54:16.584Z"
   },
   {
    "duration": 21,
    "start_time": "2022-06-11T07:54:16.597Z"
   },
   {
    "duration": 12,
    "start_time": "2022-06-11T07:54:16.619Z"
   },
   {
    "duration": 301,
    "start_time": "2022-06-11T07:54:16.632Z"
   },
   {
    "duration": 15,
    "start_time": "2022-06-11T07:54:16.934Z"
   },
   {
    "duration": 32,
    "start_time": "2022-06-11T07:54:16.950Z"
   },
   {
    "duration": 19,
    "start_time": "2022-06-11T07:54:16.984Z"
   },
   {
    "duration": 14,
    "start_time": "2022-06-11T07:54:17.004Z"
   },
   {
    "duration": 14,
    "start_time": "2022-06-11T07:54:17.020Z"
   },
   {
    "duration": 2,
    "start_time": "2022-06-11T07:54:17.036Z"
   },
   {
    "duration": 7,
    "start_time": "2022-06-11T07:54:17.039Z"
   },
   {
    "duration": 3,
    "start_time": "2022-06-11T07:54:17.047Z"
   },
   {
    "duration": 2,
    "start_time": "2022-06-11T07:54:17.078Z"
   },
   {
    "duration": 5,
    "start_time": "2022-06-11T07:54:17.081Z"
   },
   {
    "duration": 674,
    "start_time": "2022-06-11T07:54:27.313Z"
   },
   {
    "duration": 7,
    "start_time": "2022-06-11T07:55:26.555Z"
   },
   {
    "duration": 521,
    "start_time": "2022-06-11T07:55:48.293Z"
   },
   {
    "duration": 10,
    "start_time": "2022-06-11T07:56:02.979Z"
   },
   {
    "duration": 2,
    "start_time": "2022-06-11T07:56:28.853Z"
   },
   {
    "duration": 47,
    "start_time": "2022-06-11T07:56:28.868Z"
   },
   {
    "duration": 40,
    "start_time": "2022-06-11T07:56:28.917Z"
   },
   {
    "duration": 5,
    "start_time": "2022-06-11T07:56:28.958Z"
   },
   {
    "duration": 8,
    "start_time": "2022-06-11T07:56:28.964Z"
   },
   {
    "duration": 11,
    "start_time": "2022-06-11T07:56:28.974Z"
   },
   {
    "duration": 13,
    "start_time": "2022-06-11T07:56:28.986Z"
   },
   {
    "duration": 11,
    "start_time": "2022-06-11T07:56:29.000Z"
   },
   {
    "duration": 23,
    "start_time": "2022-06-11T07:56:29.012Z"
   },
   {
    "duration": 13,
    "start_time": "2022-06-11T07:56:29.037Z"
   },
   {
    "duration": 288,
    "start_time": "2022-06-11T07:56:29.052Z"
   },
   {
    "duration": 15,
    "start_time": "2022-06-11T07:56:29.342Z"
   },
   {
    "duration": 29,
    "start_time": "2022-06-11T07:56:29.359Z"
   },
   {
    "duration": 24,
    "start_time": "2022-06-11T07:56:29.389Z"
   },
   {
    "duration": 14,
    "start_time": "2022-06-11T07:56:29.416Z"
   },
   {
    "duration": 15,
    "start_time": "2022-06-11T07:56:29.431Z"
   },
   {
    "duration": 2,
    "start_time": "2022-06-11T07:56:29.447Z"
   },
   {
    "duration": 28,
    "start_time": "2022-06-11T07:56:29.450Z"
   },
   {
    "duration": 449,
    "start_time": "2022-06-11T07:56:29.479Z"
   },
   {
    "duration": 0,
    "start_time": "2022-06-11T07:56:29.930Z"
   },
   {
    "duration": 0,
    "start_time": "2022-06-11T07:56:29.931Z"
   },
   {
    "duration": 14,
    "start_time": "2022-06-11T07:56:39.121Z"
   },
   {
    "duration": 27,
    "start_time": "2022-06-11T07:58:38.185Z"
   },
   {
    "duration": 4,
    "start_time": "2022-06-11T07:58:44.995Z"
   },
   {
    "duration": 9,
    "start_time": "2022-06-11T07:59:30.655Z"
   },
   {
    "duration": 3,
    "start_time": "2022-06-11T07:59:37.283Z"
   },
   {
    "duration": 56,
    "start_time": "2022-06-11T07:59:37.288Z"
   },
   {
    "duration": 48,
    "start_time": "2022-06-11T07:59:37.346Z"
   },
   {
    "duration": 4,
    "start_time": "2022-06-11T07:59:37.396Z"
   },
   {
    "duration": 8,
    "start_time": "2022-06-11T07:59:37.402Z"
   },
   {
    "duration": 8,
    "start_time": "2022-06-11T07:59:37.411Z"
   },
   {
    "duration": 12,
    "start_time": "2022-06-11T07:59:37.420Z"
   },
   {
    "duration": 13,
    "start_time": "2022-06-11T07:59:37.433Z"
   },
   {
    "duration": 46,
    "start_time": "2022-06-11T07:59:37.447Z"
   },
   {
    "duration": 15,
    "start_time": "2022-06-11T07:59:37.495Z"
   },
   {
    "duration": 340,
    "start_time": "2022-06-11T07:59:37.511Z"
   },
   {
    "duration": 15,
    "start_time": "2022-06-11T07:59:37.852Z"
   },
   {
    "duration": 15,
    "start_time": "2022-06-11T07:59:37.878Z"
   },
   {
    "duration": 20,
    "start_time": "2022-06-11T07:59:37.896Z"
   },
   {
    "duration": 16,
    "start_time": "2022-06-11T07:59:37.918Z"
   },
   {
    "duration": 16,
    "start_time": "2022-06-11T07:59:37.935Z"
   },
   {
    "duration": 2,
    "start_time": "2022-06-11T07:59:37.977Z"
   },
   {
    "duration": 11,
    "start_time": "2022-06-11T07:59:37.980Z"
   },
   {
    "duration": 13,
    "start_time": "2022-06-11T07:59:37.993Z"
   },
   {
    "duration": 5,
    "start_time": "2022-06-11T07:59:38.007Z"
   },
   {
    "duration": 6,
    "start_time": "2022-06-11T07:59:38.013Z"
   },
   {
    "duration": 5,
    "start_time": "2022-06-11T08:00:13.817Z"
   },
   {
    "duration": 28,
    "start_time": "2022-06-11T08:00:29.615Z"
   },
   {
    "duration": 146,
    "start_time": "2022-06-11T08:00:34.636Z"
   },
   {
    "duration": 2,
    "start_time": "2022-06-11T08:00:43.635Z"
   },
   {
    "duration": 48,
    "start_time": "2022-06-11T08:00:43.643Z"
   },
   {
    "duration": 47,
    "start_time": "2022-06-11T08:00:43.693Z"
   },
   {
    "duration": 5,
    "start_time": "2022-06-11T08:00:43.741Z"
   },
   {
    "duration": 11,
    "start_time": "2022-06-11T08:00:43.747Z"
   },
   {
    "duration": 21,
    "start_time": "2022-06-11T08:00:43.760Z"
   },
   {
    "duration": 11,
    "start_time": "2022-06-11T08:00:43.783Z"
   },
   {
    "duration": 12,
    "start_time": "2022-06-11T08:00:43.796Z"
   },
   {
    "duration": 25,
    "start_time": "2022-06-11T08:00:43.810Z"
   },
   {
    "duration": 15,
    "start_time": "2022-06-11T08:00:43.837Z"
   },
   {
    "duration": 285,
    "start_time": "2022-06-11T08:00:43.879Z"
   },
   {
    "duration": 20,
    "start_time": "2022-06-11T08:00:44.166Z"
   },
   {
    "duration": 77,
    "start_time": "2022-06-11T08:00:44.188Z"
   },
   {
    "duration": 18,
    "start_time": "2022-06-11T08:00:44.278Z"
   },
   {
    "duration": 15,
    "start_time": "2022-06-11T08:00:44.299Z"
   },
   {
    "duration": 14,
    "start_time": "2022-06-11T08:00:44.316Z"
   },
   {
    "duration": 2,
    "start_time": "2022-06-11T08:00:44.332Z"
   },
   {
    "duration": 7,
    "start_time": "2022-06-11T08:00:44.336Z"
   },
   {
    "duration": 39,
    "start_time": "2022-06-11T08:00:44.344Z"
   },
   {
    "duration": 6,
    "start_time": "2022-06-11T08:00:44.385Z"
   },
   {
    "duration": 130,
    "start_time": "2022-06-11T08:00:44.392Z"
   },
   {
    "duration": 0,
    "start_time": "2022-06-11T08:00:44.524Z"
   },
   {
    "duration": 0,
    "start_time": "2022-06-11T08:00:44.526Z"
   },
   {
    "duration": 2,
    "start_time": "2022-06-11T08:01:52.825Z"
   },
   {
    "duration": 1693,
    "start_time": "2022-06-11T08:05:17.493Z"
   },
   {
    "duration": 1417,
    "start_time": "2022-06-11T08:10:26.566Z"
   },
   {
    "duration": 1378,
    "start_time": "2022-06-11T08:10:38.266Z"
   },
   {
    "duration": 38,
    "start_time": "2022-06-11T08:12:44.533Z"
   },
   {
    "duration": 13,
    "start_time": "2022-06-11T08:16:55.948Z"
   },
   {
    "duration": 1645,
    "start_time": "2022-06-11T08:17:07.865Z"
   },
   {
    "duration": 12,
    "start_time": "2022-06-11T08:17:12.587Z"
   },
   {
    "duration": 2,
    "start_time": "2022-06-11T08:17:18.419Z"
   },
   {
    "duration": 46,
    "start_time": "2022-06-11T08:17:18.445Z"
   },
   {
    "duration": 43,
    "start_time": "2022-06-11T08:17:18.493Z"
   },
   {
    "duration": 5,
    "start_time": "2022-06-11T08:17:18.537Z"
   },
   {
    "duration": 5,
    "start_time": "2022-06-11T08:17:18.543Z"
   },
   {
    "duration": 31,
    "start_time": "2022-06-11T08:17:18.550Z"
   },
   {
    "duration": 14,
    "start_time": "2022-06-11T08:17:18.582Z"
   },
   {
    "duration": 12,
    "start_time": "2022-06-11T08:17:18.598Z"
   },
   {
    "duration": 23,
    "start_time": "2022-06-11T08:17:18.611Z"
   },
   {
    "duration": 44,
    "start_time": "2022-06-11T08:17:18.636Z"
   },
   {
    "duration": 282,
    "start_time": "2022-06-11T08:17:18.682Z"
   },
   {
    "duration": 28,
    "start_time": "2022-06-11T08:17:18.966Z"
   },
   {
    "duration": 16,
    "start_time": "2022-06-11T08:17:18.996Z"
   },
   {
    "duration": 23,
    "start_time": "2022-06-11T08:17:19.018Z"
   },
   {
    "duration": 42,
    "start_time": "2022-06-11T08:17:19.044Z"
   },
   {
    "duration": 14,
    "start_time": "2022-06-11T08:17:19.088Z"
   },
   {
    "duration": 3,
    "start_time": "2022-06-11T08:17:19.103Z"
   },
   {
    "duration": 12,
    "start_time": "2022-06-11T08:17:19.107Z"
   },
   {
    "duration": 15,
    "start_time": "2022-06-11T08:17:19.121Z"
   },
   {
    "duration": 8,
    "start_time": "2022-06-11T08:17:19.138Z"
   },
   {
    "duration": 5,
    "start_time": "2022-06-11T08:17:19.147Z"
   },
   {
    "duration": 33,
    "start_time": "2022-06-11T08:17:19.154Z"
   },
   {
    "duration": 1752,
    "start_time": "2022-06-11T08:17:19.188Z"
   },
   {
    "duration": 48,
    "start_time": "2022-06-11T08:17:20.941Z"
   },
   {
    "duration": 15,
    "start_time": "2022-06-11T08:19:46.291Z"
   },
   {
    "duration": 6,
    "start_time": "2022-06-11T08:19:50.300Z"
   },
   {
    "duration": 2,
    "start_time": "2022-06-11T08:20:28.494Z"
   },
   {
    "duration": 55,
    "start_time": "2022-06-11T08:20:28.528Z"
   },
   {
    "duration": 46,
    "start_time": "2022-06-11T08:20:28.585Z"
   },
   {
    "duration": 5,
    "start_time": "2022-06-11T08:20:28.633Z"
   },
   {
    "duration": 9,
    "start_time": "2022-06-11T08:20:28.640Z"
   },
   {
    "duration": 31,
    "start_time": "2022-06-11T08:20:28.651Z"
   },
   {
    "duration": 12,
    "start_time": "2022-06-11T08:20:28.683Z"
   },
   {
    "duration": 11,
    "start_time": "2022-06-11T08:20:28.697Z"
   },
   {
    "duration": 25,
    "start_time": "2022-06-11T08:20:28.709Z"
   },
   {
    "duration": 12,
    "start_time": "2022-06-11T08:20:28.736Z"
   },
   {
    "duration": 284,
    "start_time": "2022-06-11T08:20:28.750Z"
   },
   {
    "duration": 14,
    "start_time": "2022-06-11T08:20:29.035Z"
   },
   {
    "duration": 29,
    "start_time": "2022-06-11T08:20:29.050Z"
   },
   {
    "duration": 17,
    "start_time": "2022-06-11T08:20:29.081Z"
   },
   {
    "duration": 14,
    "start_time": "2022-06-11T08:20:29.099Z"
   },
   {
    "duration": 22,
    "start_time": "2022-06-11T08:20:29.114Z"
   },
   {
    "duration": 2,
    "start_time": "2022-06-11T08:20:29.137Z"
   },
   {
    "duration": 17,
    "start_time": "2022-06-11T08:20:29.140Z"
   },
   {
    "duration": 22,
    "start_time": "2022-06-11T08:20:29.159Z"
   },
   {
    "duration": 6,
    "start_time": "2022-06-11T08:20:29.182Z"
   },
   {
    "duration": 7,
    "start_time": "2022-06-11T08:20:29.189Z"
   },
   {
    "duration": 4,
    "start_time": "2022-06-11T08:20:29.198Z"
   },
   {
    "duration": 145,
    "start_time": "2022-06-11T08:20:55.654Z"
   },
   {
    "duration": 16,
    "start_time": "2022-06-11T08:23:57.813Z"
   },
   {
    "duration": 6,
    "start_time": "2022-06-11T08:24:27.128Z"
   },
   {
    "duration": 13,
    "start_time": "2022-06-11T08:26:19.654Z"
   },
   {
    "duration": 6,
    "start_time": "2022-06-11T08:26:41.411Z"
   },
   {
    "duration": 3,
    "start_time": "2022-06-11T08:26:56.613Z"
   },
   {
    "duration": 48,
    "start_time": "2022-06-11T08:26:56.623Z"
   },
   {
    "duration": 66,
    "start_time": "2022-06-11T08:26:56.673Z"
   },
   {
    "duration": 5,
    "start_time": "2022-06-11T08:26:56.740Z"
   },
   {
    "duration": 6,
    "start_time": "2022-06-11T08:26:56.746Z"
   },
   {
    "duration": 7,
    "start_time": "2022-06-11T08:26:56.754Z"
   },
   {
    "duration": 30,
    "start_time": "2022-06-11T08:26:56.762Z"
   },
   {
    "duration": 17,
    "start_time": "2022-06-11T08:26:56.801Z"
   },
   {
    "duration": 25,
    "start_time": "2022-06-11T08:26:56.820Z"
   },
   {
    "duration": 13,
    "start_time": "2022-06-11T08:26:56.846Z"
   },
   {
    "duration": 346,
    "start_time": "2022-06-11T08:26:56.861Z"
   },
   {
    "duration": 16,
    "start_time": "2022-06-11T08:26:57.210Z"
   },
   {
    "duration": 13,
    "start_time": "2022-06-11T08:26:57.228Z"
   },
   {
    "duration": 47,
    "start_time": "2022-06-11T08:26:57.244Z"
   },
   {
    "duration": 17,
    "start_time": "2022-06-11T08:26:57.293Z"
   },
   {
    "duration": 18,
    "start_time": "2022-06-11T08:26:57.312Z"
   },
   {
    "duration": 2,
    "start_time": "2022-06-11T08:26:57.332Z"
   },
   {
    "duration": 12,
    "start_time": "2022-06-11T08:26:57.335Z"
   },
   {
    "duration": 15,
    "start_time": "2022-06-11T08:26:57.348Z"
   },
   {
    "duration": 44,
    "start_time": "2022-06-11T08:26:57.364Z"
   },
   {
    "duration": 9,
    "start_time": "2022-06-11T08:26:57.409Z"
   },
   {
    "duration": 15,
    "start_time": "2022-06-11T08:26:57.419Z"
   },
   {
    "duration": 8,
    "start_time": "2022-06-11T08:27:41.324Z"
   },
   {
    "duration": 9,
    "start_time": "2022-06-11T08:28:11.136Z"
   },
   {
    "duration": 11,
    "start_time": "2022-06-11T08:28:18.809Z"
   },
   {
    "duration": 2,
    "start_time": "2022-06-11T08:29:17.412Z"
   },
   {
    "duration": 12,
    "start_time": "2022-06-11T08:29:18.944Z"
   },
   {
    "duration": 13,
    "start_time": "2022-06-11T08:29:33.966Z"
   },
   {
    "duration": 13,
    "start_time": "2022-06-11T08:29:51.412Z"
   },
   {
    "duration": 9,
    "start_time": "2022-06-11T08:30:54.865Z"
   },
   {
    "duration": 20,
    "start_time": "2022-06-11T08:32:23.823Z"
   },
   {
    "duration": 17,
    "start_time": "2022-06-11T08:34:04.644Z"
   },
   {
    "duration": 18,
    "start_time": "2022-06-11T08:34:12.842Z"
   },
   {
    "duration": 12,
    "start_time": "2022-06-11T08:35:51.746Z"
   },
   {
    "duration": 113,
    "start_time": "2022-06-11T09:59:21.800Z"
   },
   {
    "duration": 2,
    "start_time": "2022-06-11T10:00:34.057Z"
   },
   {
    "duration": 21,
    "start_time": "2022-06-11T10:00:43.777Z"
   },
   {
    "duration": 8,
    "start_time": "2022-06-11T10:00:53.416Z"
   },
   {
    "duration": 3,
    "start_time": "2022-06-11T10:01:02.778Z"
   },
   {
    "duration": 67,
    "start_time": "2022-06-11T10:01:02.783Z"
   },
   {
    "duration": 57,
    "start_time": "2022-06-11T10:01:02.852Z"
   },
   {
    "duration": 5,
    "start_time": "2022-06-11T10:01:02.911Z"
   },
   {
    "duration": 7,
    "start_time": "2022-06-11T10:01:02.919Z"
   },
   {
    "duration": 9,
    "start_time": "2022-06-11T10:01:02.927Z"
   },
   {
    "duration": 12,
    "start_time": "2022-06-11T10:01:02.937Z"
   },
   {
    "duration": 39,
    "start_time": "2022-06-11T10:01:02.950Z"
   },
   {
    "duration": 26,
    "start_time": "2022-06-11T10:01:02.990Z"
   },
   {
    "duration": 19,
    "start_time": "2022-06-11T10:01:03.018Z"
   },
   {
    "duration": 353,
    "start_time": "2022-06-11T10:01:03.039Z"
   },
   {
    "duration": 22,
    "start_time": "2022-06-11T10:01:03.394Z"
   },
   {
    "duration": 17,
    "start_time": "2022-06-11T10:01:03.417Z"
   },
   {
    "duration": 19,
    "start_time": "2022-06-11T10:01:03.436Z"
   },
   {
    "duration": 21,
    "start_time": "2022-06-11T10:01:03.478Z"
   },
   {
    "duration": 2,
    "start_time": "2022-06-11T10:01:03.500Z"
   },
   {
    "duration": 11,
    "start_time": "2022-06-11T10:01:03.504Z"
   },
   {
    "duration": 12,
    "start_time": "2022-06-11T10:01:03.517Z"
   },
   {
    "duration": 9,
    "start_time": "2022-06-11T10:01:03.531Z"
   },
   {
    "duration": 7,
    "start_time": "2022-06-11T10:01:03.541Z"
   },
   {
    "duration": 15,
    "start_time": "2022-06-11T10:01:03.578Z"
   },
   {
    "duration": 13,
    "start_time": "2022-06-11T10:01:03.594Z"
   },
   {
    "duration": 6,
    "start_time": "2022-06-11T10:01:34.717Z"
   },
   {
    "duration": 12,
    "start_time": "2022-06-11T10:02:40.517Z"
   },
   {
    "duration": 7,
    "start_time": "2022-06-11T10:04:18.664Z"
   },
   {
    "duration": 12,
    "start_time": "2022-06-11T10:04:34.434Z"
   },
   {
    "duration": 19,
    "start_time": "2022-06-11T10:05:20.536Z"
   },
   {
    "duration": 38,
    "start_time": "2022-06-11T10:05:50.238Z"
   },
   {
    "duration": 14,
    "start_time": "2022-06-11T10:06:42.985Z"
   },
   {
    "duration": 3,
    "start_time": "2022-06-11T10:07:46.386Z"
   },
   {
    "duration": 49,
    "start_time": "2022-06-11T10:07:46.390Z"
   },
   {
    "duration": 43,
    "start_time": "2022-06-11T10:07:46.440Z"
   },
   {
    "duration": 4,
    "start_time": "2022-06-11T10:07:46.486Z"
   },
   {
    "duration": 7,
    "start_time": "2022-06-11T10:07:46.492Z"
   },
   {
    "duration": 9,
    "start_time": "2022-06-11T10:07:46.500Z"
   },
   {
    "duration": 13,
    "start_time": "2022-06-11T10:07:46.510Z"
   },
   {
    "duration": 12,
    "start_time": "2022-06-11T10:07:46.524Z"
   },
   {
    "duration": 50,
    "start_time": "2022-06-11T10:07:46.538Z"
   },
   {
    "duration": 15,
    "start_time": "2022-06-11T10:07:46.589Z"
   },
   {
    "duration": 344,
    "start_time": "2022-06-11T10:07:46.605Z"
   },
   {
    "duration": 15,
    "start_time": "2022-06-11T10:07:46.951Z"
   },
   {
    "duration": 25,
    "start_time": "2022-06-11T10:07:46.967Z"
   },
   {
    "duration": 20,
    "start_time": "2022-06-11T10:07:46.994Z"
   },
   {
    "duration": 24,
    "start_time": "2022-06-11T10:07:47.015Z"
   },
   {
    "duration": 5,
    "start_time": "2022-06-11T10:07:47.041Z"
   },
   {
    "duration": 12,
    "start_time": "2022-06-11T10:07:47.047Z"
   },
   {
    "duration": 12,
    "start_time": "2022-06-11T10:07:47.077Z"
   },
   {
    "duration": 7,
    "start_time": "2022-06-11T10:07:47.091Z"
   },
   {
    "duration": 4,
    "start_time": "2022-06-11T10:07:47.100Z"
   },
   {
    "duration": 14,
    "start_time": "2022-06-11T10:07:47.105Z"
   },
   {
    "duration": 6,
    "start_time": "2022-06-11T10:07:47.121Z"
   },
   {
    "duration": 16,
    "start_time": "2022-06-11T10:07:47.128Z"
   },
   {
    "duration": 35,
    "start_time": "2022-06-11T10:07:47.146Z"
   },
   {
    "duration": 6,
    "start_time": "2022-06-11T10:07:51.754Z"
   },
   {
    "duration": 11,
    "start_time": "2022-06-11T10:09:07.857Z"
   },
   {
    "duration": 7,
    "start_time": "2022-06-11T10:09:32.614Z"
   },
   {
    "duration": 5,
    "start_time": "2022-06-11T10:09:44.436Z"
   },
   {
    "duration": 7,
    "start_time": "2022-06-11T10:09:48.536Z"
   },
   {
    "duration": 3,
    "start_time": "2022-06-11T10:12:09.406Z"
   },
   {
    "duration": 52,
    "start_time": "2022-06-11T10:12:09.411Z"
   },
   {
    "duration": 46,
    "start_time": "2022-06-11T10:12:09.465Z"
   },
   {
    "duration": 4,
    "start_time": "2022-06-11T10:12:09.513Z"
   },
   {
    "duration": 8,
    "start_time": "2022-06-11T10:12:09.519Z"
   },
   {
    "duration": 7,
    "start_time": "2022-06-11T10:12:09.529Z"
   },
   {
    "duration": 12,
    "start_time": "2022-06-11T10:12:09.537Z"
   },
   {
    "duration": 38,
    "start_time": "2022-06-11T10:12:09.551Z"
   },
   {
    "duration": 21,
    "start_time": "2022-06-11T10:12:09.591Z"
   },
   {
    "duration": 13,
    "start_time": "2022-06-11T10:12:09.614Z"
   },
   {
    "duration": 285,
    "start_time": "2022-06-11T10:12:09.629Z"
   },
   {
    "duration": 16,
    "start_time": "2022-06-11T10:12:09.915Z"
   },
   {
    "duration": 15,
    "start_time": "2022-06-11T10:12:09.933Z"
   },
   {
    "duration": 46,
    "start_time": "2022-06-11T10:12:09.949Z"
   },
   {
    "duration": 23,
    "start_time": "2022-06-11T10:12:09.997Z"
   },
   {
    "duration": 3,
    "start_time": "2022-06-11T10:12:10.021Z"
   },
   {
    "duration": 11,
    "start_time": "2022-06-11T10:12:10.025Z"
   },
   {
    "duration": 13,
    "start_time": "2022-06-11T10:12:10.038Z"
   },
   {
    "duration": 7,
    "start_time": "2022-06-11T10:12:10.052Z"
   },
   {
    "duration": 2,
    "start_time": "2022-06-11T10:12:10.077Z"
   },
   {
    "duration": 8,
    "start_time": "2022-06-11T10:12:10.081Z"
   },
   {
    "duration": 10,
    "start_time": "2022-06-11T10:12:10.090Z"
   },
   {
    "duration": 13,
    "start_time": "2022-06-11T10:12:10.102Z"
   },
   {
    "duration": 11,
    "start_time": "2022-06-11T10:12:10.116Z"
   },
   {
    "duration": 5,
    "start_time": "2022-06-11T10:12:10.129Z"
   },
   {
    "duration": 16,
    "start_time": "2022-06-11T10:13:20.026Z"
   },
   {
    "duration": 40,
    "start_time": "2022-06-11T10:14:21.336Z"
   },
   {
    "duration": 10,
    "start_time": "2022-06-11T10:16:58.536Z"
   },
   {
    "duration": 8,
    "start_time": "2022-06-11T10:17:14.226Z"
   },
   {
    "duration": 2,
    "start_time": "2022-06-11T10:17:18.599Z"
   },
   {
    "duration": 48,
    "start_time": "2022-06-11T10:17:18.607Z"
   },
   {
    "duration": 40,
    "start_time": "2022-06-11T10:17:18.657Z"
   },
   {
    "duration": 4,
    "start_time": "2022-06-11T10:17:18.699Z"
   },
   {
    "duration": 6,
    "start_time": "2022-06-11T10:17:18.705Z"
   },
   {
    "duration": 6,
    "start_time": "2022-06-11T10:17:18.713Z"
   },
   {
    "duration": 11,
    "start_time": "2022-06-11T10:17:18.720Z"
   },
   {
    "duration": 11,
    "start_time": "2022-06-11T10:17:18.732Z"
   },
   {
    "duration": 48,
    "start_time": "2022-06-11T10:17:18.744Z"
   },
   {
    "duration": 13,
    "start_time": "2022-06-11T10:17:18.794Z"
   },
   {
    "duration": 299,
    "start_time": "2022-06-11T10:17:18.809Z"
   },
   {
    "duration": 15,
    "start_time": "2022-06-11T10:17:19.109Z"
   },
   {
    "duration": 19,
    "start_time": "2022-06-11T10:17:19.126Z"
   },
   {
    "duration": 38,
    "start_time": "2022-06-11T10:17:19.147Z"
   },
   {
    "duration": 20,
    "start_time": "2022-06-11T10:17:19.187Z"
   },
   {
    "duration": 2,
    "start_time": "2022-06-11T10:17:19.208Z"
   },
   {
    "duration": 8,
    "start_time": "2022-06-11T10:17:19.211Z"
   },
   {
    "duration": 14,
    "start_time": "2022-06-11T10:17:19.220Z"
   },
   {
    "duration": 5,
    "start_time": "2022-06-11T10:17:19.235Z"
   },
   {
    "duration": 4,
    "start_time": "2022-06-11T10:17:19.241Z"
   },
   {
    "duration": 7,
    "start_time": "2022-06-11T10:17:19.246Z"
   },
   {
    "duration": 30,
    "start_time": "2022-06-11T10:17:19.254Z"
   },
   {
    "duration": 20,
    "start_time": "2022-06-11T10:17:19.285Z"
   },
   {
    "duration": 11,
    "start_time": "2022-06-11T10:17:19.306Z"
   },
   {
    "duration": 5,
    "start_time": "2022-06-11T10:17:19.318Z"
   },
   {
    "duration": 7,
    "start_time": "2022-06-11T10:18:20.707Z"
   },
   {
    "duration": 19,
    "start_time": "2022-06-11T10:18:28.318Z"
   },
   {
    "duration": 14,
    "start_time": "2022-06-11T10:18:47.380Z"
   },
   {
    "duration": 6,
    "start_time": "2022-06-11T10:19:12.557Z"
   },
   {
    "duration": 13,
    "start_time": "2022-06-11T10:19:56.537Z"
   },
   {
    "duration": 18,
    "start_time": "2022-06-11T10:20:31.816Z"
   },
   {
    "duration": 49,
    "start_time": "2022-06-11T10:20:39.950Z"
   },
   {
    "duration": 1651,
    "start_time": "2022-06-11T10:23:13.726Z"
   },
   {
    "duration": 6,
    "start_time": "2022-06-11T10:27:22.667Z"
   },
   {
    "duration": 26,
    "start_time": "2022-06-11T10:27:33.880Z"
   },
   {
    "duration": 3,
    "start_time": "2022-06-11T10:27:44.766Z"
   },
   {
    "duration": 47,
    "start_time": "2022-06-11T10:27:44.779Z"
   },
   {
    "duration": 43,
    "start_time": "2022-06-11T10:27:44.828Z"
   },
   {
    "duration": 5,
    "start_time": "2022-06-11T10:27:44.872Z"
   },
   {
    "duration": 9,
    "start_time": "2022-06-11T10:27:44.878Z"
   },
   {
    "duration": 7,
    "start_time": "2022-06-11T10:27:44.889Z"
   },
   {
    "duration": 11,
    "start_time": "2022-06-11T10:27:44.898Z"
   },
   {
    "duration": 12,
    "start_time": "2022-06-11T10:27:44.911Z"
   },
   {
    "duration": 31,
    "start_time": "2022-06-11T10:27:44.924Z"
   },
   {
    "duration": 31,
    "start_time": "2022-06-11T10:27:44.957Z"
   },
   {
    "duration": 277,
    "start_time": "2022-06-11T10:27:44.989Z"
   },
   {
    "duration": 20,
    "start_time": "2022-06-11T10:27:45.268Z"
   },
   {
    "duration": 15,
    "start_time": "2022-06-11T10:27:45.290Z"
   },
   {
    "duration": 18,
    "start_time": "2022-06-11T10:27:45.307Z"
   },
   {
    "duration": 21,
    "start_time": "2022-06-11T10:27:45.328Z"
   },
   {
    "duration": 30,
    "start_time": "2022-06-11T10:27:45.351Z"
   },
   {
    "duration": 11,
    "start_time": "2022-06-11T10:27:45.382Z"
   },
   {
    "duration": 12,
    "start_time": "2022-06-11T10:27:45.394Z"
   },
   {
    "duration": 4,
    "start_time": "2022-06-11T10:27:45.408Z"
   },
   {
    "duration": 8,
    "start_time": "2022-06-11T10:27:45.413Z"
   },
   {
    "duration": 15,
    "start_time": "2022-06-11T10:27:45.423Z"
   },
   {
    "duration": 1660,
    "start_time": "2022-06-11T10:27:45.440Z"
   },
   {
    "duration": 7,
    "start_time": "2022-06-11T10:28:43.346Z"
   },
   {
    "duration": 2,
    "start_time": "2022-06-11T10:28:50.988Z"
   },
   {
    "duration": 52,
    "start_time": "2022-06-11T10:28:51.007Z"
   },
   {
    "duration": 42,
    "start_time": "2022-06-11T10:28:51.061Z"
   },
   {
    "duration": 6,
    "start_time": "2022-06-11T10:28:51.104Z"
   },
   {
    "duration": 14,
    "start_time": "2022-06-11T10:28:51.112Z"
   },
   {
    "duration": 27,
    "start_time": "2022-06-11T10:28:51.128Z"
   },
   {
    "duration": 16,
    "start_time": "2022-06-11T10:28:51.156Z"
   },
   {
    "duration": 26,
    "start_time": "2022-06-11T10:28:51.173Z"
   },
   {
    "duration": 41,
    "start_time": "2022-06-11T10:28:51.201Z"
   },
   {
    "duration": 14,
    "start_time": "2022-06-11T10:28:51.244Z"
   },
   {
    "duration": 283,
    "start_time": "2022-06-11T10:28:51.260Z"
   },
   {
    "duration": 15,
    "start_time": "2022-06-11T10:28:51.545Z"
   },
   {
    "duration": 23,
    "start_time": "2022-06-11T10:28:51.561Z"
   },
   {
    "duration": 26,
    "start_time": "2022-06-11T10:28:51.586Z"
   },
   {
    "duration": 20,
    "start_time": "2022-06-11T10:28:51.614Z"
   },
   {
    "duration": 13,
    "start_time": "2022-06-11T10:28:51.636Z"
   },
   {
    "duration": 24,
    "start_time": "2022-06-11T10:28:51.650Z"
   },
   {
    "duration": 15,
    "start_time": "2022-06-11T10:28:51.675Z"
   },
   {
    "duration": 19,
    "start_time": "2022-06-11T10:28:51.691Z"
   },
   {
    "duration": 33,
    "start_time": "2022-06-11T10:28:51.711Z"
   },
   {
    "duration": 51,
    "start_time": "2022-06-11T10:28:51.746Z"
   },
   {
    "duration": 1611,
    "start_time": "2022-06-11T10:28:51.798Z"
   },
   {
    "duration": 7,
    "start_time": "2022-06-11T10:32:31.027Z"
   },
   {
    "duration": 13,
    "start_time": "2022-06-11T10:32:46.196Z"
   },
   {
    "duration": 10,
    "start_time": "2022-06-11T10:33:37.780Z"
   },
   {
    "duration": 1733,
    "start_time": "2022-06-11T10:37:34.896Z"
   },
   {
    "duration": 2,
    "start_time": "2022-06-11T10:38:05.955Z"
   },
   {
    "duration": 46,
    "start_time": "2022-06-11T10:38:05.980Z"
   },
   {
    "duration": 44,
    "start_time": "2022-06-11T10:38:06.028Z"
   },
   {
    "duration": 5,
    "start_time": "2022-06-11T10:38:06.075Z"
   },
   {
    "duration": 7,
    "start_time": "2022-06-11T10:38:06.081Z"
   },
   {
    "duration": 7,
    "start_time": "2022-06-11T10:38:06.090Z"
   },
   {
    "duration": 17,
    "start_time": "2022-06-11T10:38:06.099Z"
   },
   {
    "duration": 17,
    "start_time": "2022-06-11T10:38:06.118Z"
   },
   {
    "duration": 49,
    "start_time": "2022-06-11T10:38:06.136Z"
   },
   {
    "duration": 13,
    "start_time": "2022-06-11T10:38:06.187Z"
   },
   {
    "duration": 344,
    "start_time": "2022-06-11T10:38:06.202Z"
   },
   {
    "duration": 22,
    "start_time": "2022-06-11T10:38:06.548Z"
   },
   {
    "duration": 19,
    "start_time": "2022-06-11T10:38:06.572Z"
   },
   {
    "duration": 20,
    "start_time": "2022-06-11T10:38:06.592Z"
   },
   {
    "duration": 22,
    "start_time": "2022-06-11T10:38:06.614Z"
   },
   {
    "duration": 2,
    "start_time": "2022-06-11T10:38:06.637Z"
   },
   {
    "duration": 39,
    "start_time": "2022-06-11T10:38:06.641Z"
   },
   {
    "duration": 1800,
    "start_time": "2022-06-11T10:38:06.681Z"
   },
   {
    "duration": 6,
    "start_time": "2022-06-11T10:38:08.483Z"
   },
   {
    "duration": 19,
    "start_time": "2022-06-11T10:38:08.491Z"
   },
   {
    "duration": 37,
    "start_time": "2022-06-11T10:40:01.146Z"
   },
   {
    "duration": 4,
    "start_time": "2022-06-11T10:40:08.716Z"
   },
   {
    "duration": 14,
    "start_time": "2022-06-11T10:40:11.577Z"
   },
   {
    "duration": 3,
    "start_time": "2022-06-11T10:40:15.243Z"
   },
   {
    "duration": 65,
    "start_time": "2022-06-11T10:40:15.258Z"
   },
   {
    "duration": 58,
    "start_time": "2022-06-11T10:40:15.326Z"
   },
   {
    "duration": 6,
    "start_time": "2022-06-11T10:40:15.391Z"
   },
   {
    "duration": 7,
    "start_time": "2022-06-11T10:40:15.398Z"
   },
   {
    "duration": 10,
    "start_time": "2022-06-11T10:40:15.407Z"
   },
   {
    "duration": 13,
    "start_time": "2022-06-11T10:40:15.419Z"
   },
   {
    "duration": 14,
    "start_time": "2022-06-11T10:40:15.434Z"
   },
   {
    "duration": 56,
    "start_time": "2022-06-11T10:40:15.450Z"
   },
   {
    "duration": 16,
    "start_time": "2022-06-11T10:40:15.508Z"
   },
   {
    "duration": 320,
    "start_time": "2022-06-11T10:40:15.525Z"
   },
   {
    "duration": 16,
    "start_time": "2022-06-11T10:40:15.847Z"
   },
   {
    "duration": 33,
    "start_time": "2022-06-11T10:40:15.865Z"
   },
   {
    "duration": 30,
    "start_time": "2022-06-11T10:40:15.899Z"
   },
   {
    "duration": 24,
    "start_time": "2022-06-11T10:40:15.931Z"
   },
   {
    "duration": 10,
    "start_time": "2022-06-11T10:40:15.957Z"
   },
   {
    "duration": 17,
    "start_time": "2022-06-11T10:40:15.968Z"
   },
   {
    "duration": 1489,
    "start_time": "2022-06-11T10:40:15.988Z"
   },
   {
    "duration": 13,
    "start_time": "2022-06-11T10:40:17.479Z"
   },
   {
    "duration": 33,
    "start_time": "2022-06-11T10:40:17.494Z"
   },
   {
    "duration": 47,
    "start_time": "2022-06-11T10:43:50.457Z"
   },
   {
    "duration": 13,
    "start_time": "2022-06-11T10:43:56.081Z"
   },
   {
    "duration": 5,
    "start_time": "2022-06-11T10:45:00.815Z"
   },
   {
    "duration": 22,
    "start_time": "2022-06-11T10:53:06.427Z"
   },
   {
    "duration": 23,
    "start_time": "2022-06-11T10:53:25.926Z"
   },
   {
    "duration": 11,
    "start_time": "2022-06-11T10:53:57.881Z"
   },
   {
    "duration": 8,
    "start_time": "2022-06-11T10:55:04.854Z"
   },
   {
    "duration": 2,
    "start_time": "2022-06-11T10:55:18.617Z"
   },
   {
    "duration": 51,
    "start_time": "2022-06-11T10:55:18.621Z"
   },
   {
    "duration": 44,
    "start_time": "2022-06-11T10:55:18.673Z"
   },
   {
    "duration": 4,
    "start_time": "2022-06-11T10:55:18.719Z"
   },
   {
    "duration": 6,
    "start_time": "2022-06-11T10:55:18.725Z"
   },
   {
    "duration": 7,
    "start_time": "2022-06-11T10:55:18.732Z"
   },
   {
    "duration": 10,
    "start_time": "2022-06-11T10:55:18.741Z"
   },
   {
    "duration": 38,
    "start_time": "2022-06-11T10:55:18.753Z"
   },
   {
    "duration": 23,
    "start_time": "2022-06-11T10:55:18.794Z"
   },
   {
    "duration": 14,
    "start_time": "2022-06-11T10:55:18.819Z"
   },
   {
    "duration": 285,
    "start_time": "2022-06-11T10:55:18.834Z"
   },
   {
    "duration": 15,
    "start_time": "2022-06-11T10:55:19.121Z"
   },
   {
    "duration": 6,
    "start_time": "2022-06-11T10:55:19.137Z"
   },
   {
    "duration": 34,
    "start_time": "2022-06-11T10:55:19.144Z"
   },
   {
    "duration": 20,
    "start_time": "2022-06-11T10:55:19.179Z"
   },
   {
    "duration": 5,
    "start_time": "2022-06-11T10:55:19.200Z"
   },
   {
    "duration": 8,
    "start_time": "2022-06-11T10:55:19.206Z"
   },
   {
    "duration": 1706,
    "start_time": "2022-06-11T10:55:19.215Z"
   },
   {
    "duration": 6,
    "start_time": "2022-06-11T10:55:20.923Z"
   },
   {
    "duration": 48,
    "start_time": "2022-06-11T10:55:20.930Z"
   },
   {
    "duration": 5,
    "start_time": "2022-06-11T10:55:20.980Z"
   },
   {
    "duration": 9,
    "start_time": "2022-06-11T10:56:26.243Z"
   },
   {
    "duration": 8,
    "start_time": "2022-06-11T10:57:02.558Z"
   },
   {
    "duration": 2,
    "start_time": "2022-06-11T10:57:14.017Z"
   },
   {
    "duration": 50,
    "start_time": "2022-06-11T10:57:14.021Z"
   },
   {
    "duration": 42,
    "start_time": "2022-06-11T10:57:14.072Z"
   },
   {
    "duration": 5,
    "start_time": "2022-06-11T10:57:14.116Z"
   },
   {
    "duration": 6,
    "start_time": "2022-06-11T10:57:14.122Z"
   },
   {
    "duration": 6,
    "start_time": "2022-06-11T10:57:14.129Z"
   },
   {
    "duration": 11,
    "start_time": "2022-06-11T10:57:14.136Z"
   },
   {
    "duration": 33,
    "start_time": "2022-06-11T10:57:14.148Z"
   },
   {
    "duration": 22,
    "start_time": "2022-06-11T10:57:14.183Z"
   },
   {
    "duration": 13,
    "start_time": "2022-06-11T10:57:14.208Z"
   },
   {
    "duration": 285,
    "start_time": "2022-06-11T10:57:14.222Z"
   },
   {
    "duration": 16,
    "start_time": "2022-06-11T10:57:14.509Z"
   },
   {
    "duration": 7,
    "start_time": "2022-06-11T10:57:14.526Z"
   },
   {
    "duration": 17,
    "start_time": "2022-06-11T10:57:14.535Z"
   },
   {
    "duration": 129,
    "start_time": "2022-06-11T10:57:14.553Z"
   },
   {
    "duration": 0,
    "start_time": "2022-06-11T10:57:14.684Z"
   },
   {
    "duration": 0,
    "start_time": "2022-06-11T10:57:14.685Z"
   },
   {
    "duration": 0,
    "start_time": "2022-06-11T10:57:14.686Z"
   },
   {
    "duration": 0,
    "start_time": "2022-06-11T10:57:14.687Z"
   },
   {
    "duration": 0,
    "start_time": "2022-06-11T10:57:14.688Z"
   },
   {
    "duration": 0,
    "start_time": "2022-06-11T10:57:14.689Z"
   },
   {
    "duration": 0,
    "start_time": "2022-06-11T10:57:14.690Z"
   },
   {
    "duration": 129,
    "start_time": "2022-06-11T10:57:37.214Z"
   },
   {
    "duration": 2,
    "start_time": "2022-06-11T10:59:14.287Z"
   },
   {
    "duration": 3,
    "start_time": "2022-06-11T10:59:16.797Z"
   },
   {
    "duration": 65,
    "start_time": "2022-06-11T10:59:16.801Z"
   },
   {
    "duration": 42,
    "start_time": "2022-06-11T10:59:16.867Z"
   },
   {
    "duration": 4,
    "start_time": "2022-06-11T10:59:16.911Z"
   },
   {
    "duration": 13,
    "start_time": "2022-06-11T10:59:16.916Z"
   },
   {
    "duration": 9,
    "start_time": "2022-06-11T10:59:16.931Z"
   },
   {
    "duration": 14,
    "start_time": "2022-06-11T10:59:16.941Z"
   },
   {
    "duration": 23,
    "start_time": "2022-06-11T10:59:16.956Z"
   },
   {
    "duration": 21,
    "start_time": "2022-06-11T10:59:16.981Z"
   },
   {
    "duration": 13,
    "start_time": "2022-06-11T10:59:17.005Z"
   },
   {
    "duration": 371,
    "start_time": "2022-06-11T10:59:17.019Z"
   },
   {
    "duration": 17,
    "start_time": "2022-06-11T10:59:17.392Z"
   },
   {
    "duration": 6,
    "start_time": "2022-06-11T10:59:17.410Z"
   },
   {
    "duration": 21,
    "start_time": "2022-06-11T10:59:17.417Z"
   },
   {
    "duration": 4,
    "start_time": "2022-06-11T10:59:17.440Z"
   },
   {
    "duration": 33,
    "start_time": "2022-06-11T10:59:17.446Z"
   },
   {
    "duration": 10,
    "start_time": "2022-06-11T10:59:17.480Z"
   },
   {
    "duration": 19,
    "start_time": "2022-06-11T10:59:17.491Z"
   },
   {
    "duration": 1709,
    "start_time": "2022-06-11T10:59:17.512Z"
   },
   {
    "duration": 8,
    "start_time": "2022-06-11T10:59:19.225Z"
   },
   {
    "duration": 47,
    "start_time": "2022-06-11T10:59:19.234Z"
   },
   {
    "duration": 5,
    "start_time": "2022-06-11T10:59:19.283Z"
   },
   {
    "duration": 19,
    "start_time": "2022-06-11T11:00:28.027Z"
   },
   {
    "duration": 6,
    "start_time": "2022-06-11T11:01:17.081Z"
   },
   {
    "duration": 6,
    "start_time": "2022-06-11T11:01:36.856Z"
   },
   {
    "duration": 7,
    "start_time": "2022-06-11T11:01:38.594Z"
   },
   {
    "duration": 2,
    "start_time": "2022-06-11T11:01:56.355Z"
   },
   {
    "duration": 52,
    "start_time": "2022-06-11T11:01:56.359Z"
   },
   {
    "duration": 40,
    "start_time": "2022-06-11T11:01:56.412Z"
   },
   {
    "duration": 4,
    "start_time": "2022-06-11T11:01:56.454Z"
   },
   {
    "duration": 5,
    "start_time": "2022-06-11T11:01:56.459Z"
   },
   {
    "duration": 15,
    "start_time": "2022-06-11T11:01:56.466Z"
   },
   {
    "duration": 13,
    "start_time": "2022-06-11T11:01:56.482Z"
   },
   {
    "duration": 10,
    "start_time": "2022-06-11T11:01:56.496Z"
   },
   {
    "duration": 23,
    "start_time": "2022-06-11T11:01:56.508Z"
   },
   {
    "duration": 12,
    "start_time": "2022-06-11T11:01:56.533Z"
   },
   {
    "duration": 292,
    "start_time": "2022-06-11T11:01:56.546Z"
   },
   {
    "duration": 16,
    "start_time": "2022-06-11T11:01:56.839Z"
   },
   {
    "duration": 6,
    "start_time": "2022-06-11T11:01:56.857Z"
   },
   {
    "duration": 33,
    "start_time": "2022-06-11T11:01:56.864Z"
   },
   {
    "duration": 5,
    "start_time": "2022-06-11T11:01:56.898Z"
   },
   {
    "duration": 9,
    "start_time": "2022-06-11T11:01:56.904Z"
   },
   {
    "duration": 3,
    "start_time": "2022-06-11T11:01:56.914Z"
   },
   {
    "duration": 11,
    "start_time": "2022-06-11T11:01:56.918Z"
   },
   {
    "duration": 20,
    "start_time": "2022-06-11T11:01:56.931Z"
   },
   {
    "duration": 1727,
    "start_time": "2022-06-11T11:01:56.952Z"
   },
   {
    "duration": 7,
    "start_time": "2022-06-11T11:01:58.683Z"
   },
   {
    "duration": 17,
    "start_time": "2022-06-11T11:01:58.692Z"
   },
   {
    "duration": 5,
    "start_time": "2022-06-11T11:01:58.710Z"
   },
   {
    "duration": 3,
    "start_time": "2022-06-11T11:04:23.188Z"
   },
   {
    "duration": 2,
    "start_time": "2022-06-11T11:04:27.463Z"
   },
   {
    "duration": 46,
    "start_time": "2022-06-11T11:04:27.492Z"
   },
   {
    "duration": 57,
    "start_time": "2022-06-11T11:04:27.540Z"
   },
   {
    "duration": 9,
    "start_time": "2022-06-11T11:04:27.601Z"
   },
   {
    "duration": 8,
    "start_time": "2022-06-11T11:04:27.612Z"
   },
   {
    "duration": 7,
    "start_time": "2022-06-11T11:04:27.623Z"
   },
   {
    "duration": 18,
    "start_time": "2022-06-11T11:04:27.632Z"
   },
   {
    "duration": 26,
    "start_time": "2022-06-11T11:04:27.652Z"
   },
   {
    "duration": 28,
    "start_time": "2022-06-11T11:04:27.680Z"
   },
   {
    "duration": 21,
    "start_time": "2022-06-11T11:04:27.710Z"
   },
   {
    "duration": 340,
    "start_time": "2022-06-11T11:04:27.733Z"
   },
   {
    "duration": 24,
    "start_time": "2022-06-11T11:04:28.074Z"
   },
   {
    "duration": 7,
    "start_time": "2022-06-11T11:04:28.099Z"
   },
   {
    "duration": 20,
    "start_time": "2022-06-11T11:04:28.107Z"
   },
   {
    "duration": 3,
    "start_time": "2022-06-11T11:04:28.130Z"
   },
   {
    "duration": 11,
    "start_time": "2022-06-11T11:04:28.134Z"
   },
   {
    "duration": 5,
    "start_time": "2022-06-11T11:04:28.146Z"
   },
   {
    "duration": 31,
    "start_time": "2022-06-11T11:04:28.153Z"
   },
   {
    "duration": 28,
    "start_time": "2022-06-11T11:04:28.186Z"
   },
   {
    "duration": 1525,
    "start_time": "2022-06-11T11:04:28.215Z"
   },
   {
    "duration": 6,
    "start_time": "2022-06-11T11:04:29.741Z"
   },
   {
    "duration": 12,
    "start_time": "2022-06-11T11:04:29.791Z"
   },
   {
    "duration": 5,
    "start_time": "2022-06-11T11:04:29.804Z"
   },
   {
    "duration": 4,
    "start_time": "2022-06-11T11:05:09.327Z"
   },
   {
    "duration": 7,
    "start_time": "2022-06-11T11:05:11.947Z"
   },
   {
    "duration": 3,
    "start_time": "2022-06-11T11:05:17.957Z"
   },
   {
    "duration": 48,
    "start_time": "2022-06-11T11:05:17.985Z"
   },
   {
    "duration": 46,
    "start_time": "2022-06-11T11:05:18.035Z"
   },
   {
    "duration": 4,
    "start_time": "2022-06-11T11:05:18.083Z"
   },
   {
    "duration": 10,
    "start_time": "2022-06-11T11:05:18.088Z"
   },
   {
    "duration": 6,
    "start_time": "2022-06-11T11:05:18.101Z"
   },
   {
    "duration": 16,
    "start_time": "2022-06-11T11:05:18.108Z"
   },
   {
    "duration": 12,
    "start_time": "2022-06-11T11:05:18.125Z"
   },
   {
    "duration": 47,
    "start_time": "2022-06-11T11:05:18.138Z"
   },
   {
    "duration": 14,
    "start_time": "2022-06-11T11:05:18.186Z"
   },
   {
    "duration": 289,
    "start_time": "2022-06-11T11:05:18.202Z"
   },
   {
    "duration": 16,
    "start_time": "2022-06-11T11:05:18.492Z"
   },
   {
    "duration": 7,
    "start_time": "2022-06-11T11:05:18.509Z"
   },
   {
    "duration": 23,
    "start_time": "2022-06-11T11:05:18.518Z"
   },
   {
    "duration": 4,
    "start_time": "2022-06-11T11:05:18.543Z"
   },
   {
    "duration": 30,
    "start_time": "2022-06-11T11:05:18.548Z"
   },
   {
    "duration": 2,
    "start_time": "2022-06-11T11:05:18.579Z"
   },
   {
    "duration": 9,
    "start_time": "2022-06-11T11:05:18.583Z"
   },
   {
    "duration": 20,
    "start_time": "2022-06-11T11:05:18.593Z"
   },
   {
    "duration": 1796,
    "start_time": "2022-06-11T11:05:18.614Z"
   },
   {
    "duration": 5,
    "start_time": "2022-06-11T11:05:20.412Z"
   },
   {
    "duration": 18,
    "start_time": "2022-06-11T11:05:20.418Z"
   },
   {
    "duration": 5,
    "start_time": "2022-06-11T11:05:20.437Z"
   },
   {
    "duration": 3,
    "start_time": "2022-06-11T11:06:36.257Z"
   },
   {
    "duration": 4,
    "start_time": "2022-06-11T11:07:20.016Z"
   },
   {
    "duration": 3,
    "start_time": "2022-06-11T11:07:22.979Z"
   },
   {
    "duration": 60,
    "start_time": "2022-06-11T11:07:22.993Z"
   },
   {
    "duration": 49,
    "start_time": "2022-06-11T11:07:23.055Z"
   },
   {
    "duration": 6,
    "start_time": "2022-06-11T11:07:23.106Z"
   },
   {
    "duration": 21,
    "start_time": "2022-06-11T11:07:23.113Z"
   },
   {
    "duration": 7,
    "start_time": "2022-06-11T11:07:23.136Z"
   },
   {
    "duration": 16,
    "start_time": "2022-06-11T11:07:23.144Z"
   },
   {
    "duration": 24,
    "start_time": "2022-06-11T11:07:23.161Z"
   },
   {
    "duration": 27,
    "start_time": "2022-06-11T11:07:23.186Z"
   },
   {
    "duration": 14,
    "start_time": "2022-06-11T11:07:23.214Z"
   },
   {
    "duration": 342,
    "start_time": "2022-06-11T11:07:23.230Z"
   },
   {
    "duration": 19,
    "start_time": "2022-06-11T11:07:23.574Z"
   },
   {
    "duration": 7,
    "start_time": "2022-06-11T11:07:23.594Z"
   },
   {
    "duration": 26,
    "start_time": "2022-06-11T11:07:23.602Z"
   },
   {
    "duration": 5,
    "start_time": "2022-06-11T11:07:23.631Z"
   },
   {
    "duration": 10,
    "start_time": "2022-06-11T11:07:23.638Z"
   },
   {
    "duration": 3,
    "start_time": "2022-06-11T11:07:23.650Z"
   },
   {
    "duration": 28,
    "start_time": "2022-06-11T11:07:23.655Z"
   },
   {
    "duration": 23,
    "start_time": "2022-06-11T11:07:23.684Z"
   },
   {
    "duration": 1785,
    "start_time": "2022-06-11T11:07:23.708Z"
   },
   {
    "duration": 4,
    "start_time": "2022-06-11T11:07:25.495Z"
   },
   {
    "duration": 16,
    "start_time": "2022-06-11T11:07:25.500Z"
   },
   {
    "duration": 6,
    "start_time": "2022-06-11T11:07:25.517Z"
   },
   {
    "duration": 5,
    "start_time": "2022-06-11T11:07:42.132Z"
   },
   {
    "duration": 4,
    "start_time": "2022-06-11T11:07:47.246Z"
   },
   {
    "duration": 5,
    "start_time": "2022-06-11T11:09:43.181Z"
   },
   {
    "duration": 6,
    "start_time": "2022-06-11T11:09:45.256Z"
   },
   {
    "duration": 8,
    "start_time": "2022-06-11T11:09:46.588Z"
   },
   {
    "duration": 3,
    "start_time": "2022-06-11T11:09:49.297Z"
   },
   {
    "duration": 68,
    "start_time": "2022-06-11T11:09:49.302Z"
   },
   {
    "duration": 53,
    "start_time": "2022-06-11T11:09:49.372Z"
   },
   {
    "duration": 75,
    "start_time": "2022-06-11T11:09:49.427Z"
   },
   {
    "duration": 105,
    "start_time": "2022-06-11T11:09:49.503Z"
   },
   {
    "duration": 8,
    "start_time": "2022-06-11T11:09:49.610Z"
   },
   {
    "duration": 24,
    "start_time": "2022-06-11T11:09:49.620Z"
   },
   {
    "duration": 16,
    "start_time": "2022-06-11T11:09:49.645Z"
   },
   {
    "duration": 44,
    "start_time": "2022-06-11T11:09:49.662Z"
   },
   {
    "duration": 21,
    "start_time": "2022-06-11T11:09:49.708Z"
   },
   {
    "duration": 289,
    "start_time": "2022-06-11T11:09:49.730Z"
   },
   {
    "duration": 17,
    "start_time": "2022-06-11T11:09:50.021Z"
   },
   {
    "duration": 10,
    "start_time": "2022-06-11T11:09:50.040Z"
   },
   {
    "duration": 58,
    "start_time": "2022-06-11T11:09:50.052Z"
   },
   {
    "duration": 4,
    "start_time": "2022-06-11T11:09:50.111Z"
   },
   {
    "duration": 8,
    "start_time": "2022-06-11T11:09:50.116Z"
   },
   {
    "duration": 5,
    "start_time": "2022-06-11T11:09:50.125Z"
   },
   {
    "duration": 7,
    "start_time": "2022-06-11T11:09:50.132Z"
   },
   {
    "duration": 20,
    "start_time": "2022-06-11T11:09:50.140Z"
   },
   {
    "duration": 1820,
    "start_time": "2022-06-11T11:09:50.161Z"
   },
   {
    "duration": 7,
    "start_time": "2022-06-11T11:09:51.983Z"
   },
   {
    "duration": 27,
    "start_time": "2022-06-11T11:09:51.992Z"
   },
   {
    "duration": 5,
    "start_time": "2022-06-11T11:09:52.021Z"
   },
   {
    "duration": 3,
    "start_time": "2022-06-11T11:10:25.200Z"
   },
   {
    "duration": 51,
    "start_time": "2022-06-11T11:10:25.205Z"
   },
   {
    "duration": 45,
    "start_time": "2022-06-11T11:10:25.257Z"
   },
   {
    "duration": 6,
    "start_time": "2022-06-11T11:10:25.304Z"
   },
   {
    "duration": 11,
    "start_time": "2022-06-11T11:10:25.312Z"
   },
   {
    "duration": 6,
    "start_time": "2022-06-11T11:10:25.324Z"
   },
   {
    "duration": 17,
    "start_time": "2022-06-11T11:10:25.332Z"
   },
   {
    "duration": 36,
    "start_time": "2022-06-11T11:10:25.350Z"
   },
   {
    "duration": 85,
    "start_time": "2022-06-11T11:10:25.388Z"
   },
   {
    "duration": 19,
    "start_time": "2022-06-11T11:10:25.474Z"
   },
   {
    "duration": 303,
    "start_time": "2022-06-11T11:10:25.495Z"
   },
   {
    "duration": 17,
    "start_time": "2022-06-11T11:10:25.800Z"
   },
   {
    "duration": 7,
    "start_time": "2022-06-11T11:10:25.819Z"
   },
   {
    "duration": 19,
    "start_time": "2022-06-11T11:10:25.828Z"
   },
   {
    "duration": 4,
    "start_time": "2022-06-11T11:10:25.848Z"
   },
   {
    "duration": 6,
    "start_time": "2022-06-11T11:10:25.878Z"
   },
   {
    "duration": 12,
    "start_time": "2022-06-11T11:10:25.886Z"
   },
   {
    "duration": 10,
    "start_time": "2022-06-11T11:10:25.899Z"
   },
   {
    "duration": 21,
    "start_time": "2022-06-11T11:10:25.910Z"
   },
   {
    "duration": 1704,
    "start_time": "2022-06-11T11:10:25.933Z"
   },
   {
    "duration": 3,
    "start_time": "2022-06-11T11:10:27.643Z"
   },
   {
    "duration": 36,
    "start_time": "2022-06-11T11:10:27.647Z"
   },
   {
    "duration": 25,
    "start_time": "2022-06-11T11:10:27.686Z"
   },
   {
    "duration": 12,
    "start_time": "2022-06-11T11:10:53.026Z"
   },
   {
    "duration": 8,
    "start_time": "2022-06-11T11:13:46.438Z"
   },
   {
    "duration": 6,
    "start_time": "2022-06-11T11:14:26.166Z"
   },
   {
    "duration": 10,
    "start_time": "2022-06-11T11:14:27.736Z"
   },
   {
    "duration": 3,
    "start_time": "2022-06-11T11:14:33.649Z"
   },
   {
    "duration": 55,
    "start_time": "2022-06-11T11:14:33.656Z"
   },
   {
    "duration": 44,
    "start_time": "2022-06-11T11:14:33.713Z"
   },
   {
    "duration": 4,
    "start_time": "2022-06-11T11:14:33.758Z"
   },
   {
    "duration": 6,
    "start_time": "2022-06-11T11:14:33.764Z"
   },
   {
    "duration": 6,
    "start_time": "2022-06-11T11:14:33.777Z"
   },
   {
    "duration": 17,
    "start_time": "2022-06-11T11:14:33.784Z"
   },
   {
    "duration": 12,
    "start_time": "2022-06-11T11:14:33.803Z"
   },
   {
    "duration": 24,
    "start_time": "2022-06-11T11:14:33.816Z"
   },
   {
    "duration": 13,
    "start_time": "2022-06-11T11:14:33.841Z"
   },
   {
    "duration": 266,
    "start_time": "2022-06-11T11:14:33.877Z"
   },
   {
    "duration": 15,
    "start_time": "2022-06-11T11:14:34.145Z"
   },
   {
    "duration": 17,
    "start_time": "2022-06-11T11:14:34.161Z"
   },
   {
    "duration": 19,
    "start_time": "2022-06-11T11:14:34.179Z"
   },
   {
    "duration": 4,
    "start_time": "2022-06-11T11:14:34.201Z"
   },
   {
    "duration": 11,
    "start_time": "2022-06-11T11:14:34.207Z"
   },
   {
    "duration": 8,
    "start_time": "2022-06-11T11:14:34.220Z"
   },
   {
    "duration": 2,
    "start_time": "2022-06-11T11:14:34.229Z"
   },
   {
    "duration": 7,
    "start_time": "2022-06-11T11:14:34.233Z"
   },
   {
    "duration": 10,
    "start_time": "2022-06-11T11:14:34.241Z"
   },
   {
    "duration": 1732,
    "start_time": "2022-06-11T11:14:34.253Z"
   },
   {
    "duration": 2,
    "start_time": "2022-06-11T11:14:35.990Z"
   },
   {
    "duration": 18,
    "start_time": "2022-06-11T11:14:35.994Z"
   },
   {
    "duration": 18,
    "start_time": "2022-06-11T11:14:36.014Z"
   },
   {
    "duration": 8,
    "start_time": "2022-06-11T11:14:42.388Z"
   },
   {
    "duration": 10,
    "start_time": "2022-06-11T11:14:50.146Z"
   },
   {
    "duration": 8,
    "start_time": "2022-06-11T11:14:51.566Z"
   },
   {
    "duration": 2,
    "start_time": "2022-06-11T11:14:57.265Z"
   },
   {
    "duration": 52,
    "start_time": "2022-06-11T11:14:57.269Z"
   },
   {
    "duration": 50,
    "start_time": "2022-06-11T11:14:57.322Z"
   },
   {
    "duration": 4,
    "start_time": "2022-06-11T11:14:57.373Z"
   },
   {
    "duration": 6,
    "start_time": "2022-06-11T11:14:57.380Z"
   },
   {
    "duration": 8,
    "start_time": "2022-06-11T11:14:57.388Z"
   },
   {
    "duration": 13,
    "start_time": "2022-06-11T11:14:57.397Z"
   },
   {
    "duration": 12,
    "start_time": "2022-06-11T11:14:57.411Z"
   },
   {
    "duration": 37,
    "start_time": "2022-06-11T11:14:57.425Z"
   },
   {
    "duration": 27,
    "start_time": "2022-06-11T11:14:57.464Z"
   },
   {
    "duration": 370,
    "start_time": "2022-06-11T11:14:57.492Z"
   },
   {
    "duration": 26,
    "start_time": "2022-06-11T11:14:57.864Z"
   },
   {
    "duration": 8,
    "start_time": "2022-06-11T11:14:57.893Z"
   },
   {
    "duration": 24,
    "start_time": "2022-06-11T11:14:57.903Z"
   },
   {
    "duration": 4,
    "start_time": "2022-06-11T11:14:57.928Z"
   },
   {
    "duration": 11,
    "start_time": "2022-06-11T11:14:57.933Z"
   },
   {
    "duration": 9,
    "start_time": "2022-06-11T11:14:57.945Z"
   },
   {
    "duration": 2,
    "start_time": "2022-06-11T11:14:57.978Z"
   },
   {
    "duration": 13,
    "start_time": "2022-06-11T11:14:57.982Z"
   },
   {
    "duration": 15,
    "start_time": "2022-06-11T11:14:57.997Z"
   },
   {
    "duration": 1697,
    "start_time": "2022-06-11T11:14:58.013Z"
   },
   {
    "duration": 2,
    "start_time": "2022-06-11T11:14:59.711Z"
   },
   {
    "duration": 17,
    "start_time": "2022-06-11T11:14:59.715Z"
   },
   {
    "duration": 17,
    "start_time": "2022-06-11T11:14:59.733Z"
   },
   {
    "duration": 10,
    "start_time": "2022-06-11T11:15:37.582Z"
   },
   {
    "duration": 8,
    "start_time": "2022-06-11T11:15:40.486Z"
   },
   {
    "duration": 8,
    "start_time": "2022-06-11T11:15:42.908Z"
   },
   {
    "duration": 8,
    "start_time": "2022-06-11T11:15:45.814Z"
   },
   {
    "duration": 8,
    "start_time": "2022-06-11T11:15:52.778Z"
   },
   {
    "duration": 8,
    "start_time": "2022-06-11T11:15:56.534Z"
   },
   {
    "duration": 9,
    "start_time": "2022-06-11T11:16:01.156Z"
   },
   {
    "duration": 9,
    "start_time": "2022-06-11T11:16:04.194Z"
   },
   {
    "duration": 5,
    "start_time": "2022-06-11T11:17:09.036Z"
   },
   {
    "duration": 9,
    "start_time": "2022-06-11T11:17:31.968Z"
   },
   {
    "duration": 22,
    "start_time": "2022-06-11T11:17:35.906Z"
   },
   {
    "duration": 31,
    "start_time": "2022-06-11T11:19:01.326Z"
   },
   {
    "duration": 12,
    "start_time": "2022-06-11T11:19:11.006Z"
   },
   {
    "duration": 7,
    "start_time": "2022-06-11T11:19:25.666Z"
   },
   {
    "duration": 6,
    "start_time": "2022-06-11T11:19:54.266Z"
   },
   {
    "duration": 12,
    "start_time": "2022-06-11T11:19:56.484Z"
   },
   {
    "duration": 6,
    "start_time": "2022-06-11T11:19:59.237Z"
   },
   {
    "duration": 11,
    "start_time": "2022-06-11T11:21:05.285Z"
   },
   {
    "duration": 3,
    "start_time": "2022-06-11T11:21:17.389Z"
   },
   {
    "duration": 52,
    "start_time": "2022-06-11T11:21:17.393Z"
   },
   {
    "duration": 43,
    "start_time": "2022-06-11T11:21:17.446Z"
   },
   {
    "duration": 4,
    "start_time": "2022-06-11T11:21:17.491Z"
   },
   {
    "duration": 9,
    "start_time": "2022-06-11T11:21:17.496Z"
   },
   {
    "duration": 9,
    "start_time": "2022-06-11T11:21:17.506Z"
   },
   {
    "duration": 15,
    "start_time": "2022-06-11T11:21:17.516Z"
   },
   {
    "duration": 13,
    "start_time": "2022-06-11T11:21:17.532Z"
   },
   {
    "duration": 50,
    "start_time": "2022-06-11T11:21:17.546Z"
   },
   {
    "duration": 15,
    "start_time": "2022-06-11T11:21:17.599Z"
   },
   {
    "duration": 332,
    "start_time": "2022-06-11T11:21:17.616Z"
   },
   {
    "duration": 17,
    "start_time": "2022-06-11T11:21:17.949Z"
   },
   {
    "duration": 7,
    "start_time": "2022-06-11T11:21:17.977Z"
   },
   {
    "duration": 21,
    "start_time": "2022-06-11T11:21:17.985Z"
   },
   {
    "duration": 5,
    "start_time": "2022-06-11T11:21:18.007Z"
   },
   {
    "duration": 12,
    "start_time": "2022-06-11T11:21:18.014Z"
   },
   {
    "duration": 8,
    "start_time": "2022-06-11T11:21:18.027Z"
   },
   {
    "duration": 3,
    "start_time": "2022-06-11T11:21:18.037Z"
   },
   {
    "duration": 9,
    "start_time": "2022-06-11T11:21:18.042Z"
   },
   {
    "duration": 32,
    "start_time": "2022-06-11T11:21:18.052Z"
   },
   {
    "duration": 1656,
    "start_time": "2022-06-11T11:21:18.085Z"
   },
   {
    "duration": 3,
    "start_time": "2022-06-11T11:21:19.777Z"
   },
   {
    "duration": 15,
    "start_time": "2022-06-11T11:21:19.782Z"
   },
   {
    "duration": 16,
    "start_time": "2022-06-11T11:21:19.799Z"
   },
   {
    "duration": 2,
    "start_time": "2022-06-11T11:22:16.090Z"
   },
   {
    "duration": 1675,
    "start_time": "2022-06-11T11:22:38.227Z"
   },
   {
    "duration": 9,
    "start_time": "2022-06-11T11:23:59.378Z"
   },
   {
    "duration": 8,
    "start_time": "2022-06-11T11:24:24.245Z"
   },
   {
    "duration": 12,
    "start_time": "2022-06-11T11:24:39.951Z"
   },
   {
    "duration": 3,
    "start_time": "2022-06-11T11:25:02.905Z"
   },
   {
    "duration": 12,
    "start_time": "2022-06-11T11:25:04.325Z"
   },
   {
    "duration": 3,
    "start_time": "2022-06-11T11:25:08.744Z"
   },
   {
    "duration": 57,
    "start_time": "2022-06-11T11:25:08.760Z"
   },
   {
    "duration": 44,
    "start_time": "2022-06-11T11:25:08.818Z"
   },
   {
    "duration": 6,
    "start_time": "2022-06-11T11:25:08.864Z"
   },
   {
    "duration": 16,
    "start_time": "2022-06-11T11:25:08.877Z"
   },
   {
    "duration": 17,
    "start_time": "2022-06-11T11:25:08.896Z"
   },
   {
    "duration": 16,
    "start_time": "2022-06-11T11:25:08.914Z"
   },
   {
    "duration": 14,
    "start_time": "2022-06-11T11:25:08.931Z"
   },
   {
    "duration": 29,
    "start_time": "2022-06-11T11:25:08.946Z"
   },
   {
    "duration": 15,
    "start_time": "2022-06-11T11:25:08.977Z"
   },
   {
    "duration": 319,
    "start_time": "2022-06-11T11:25:08.994Z"
   },
   {
    "duration": 23,
    "start_time": "2022-06-11T11:25:09.315Z"
   },
   {
    "duration": 9,
    "start_time": "2022-06-11T11:25:09.339Z"
   },
   {
    "duration": 43,
    "start_time": "2022-06-11T11:25:09.349Z"
   },
   {
    "duration": 2,
    "start_time": "2022-06-11T11:25:09.395Z"
   },
   {
    "duration": 22,
    "start_time": "2022-06-11T11:25:09.399Z"
   },
   {
    "duration": 20,
    "start_time": "2022-06-11T11:25:09.423Z"
   },
   {
    "duration": 32,
    "start_time": "2022-06-11T11:25:09.445Z"
   },
   {
    "duration": 1699,
    "start_time": "2022-06-11T11:25:09.479Z"
   },
   {
    "duration": 3,
    "start_time": "2022-06-11T11:25:11.180Z"
   },
   {
    "duration": 10,
    "start_time": "2022-06-11T11:25:11.185Z"
   },
   {
    "duration": 4,
    "start_time": "2022-06-11T11:25:19.732Z"
   },
   {
    "duration": 11,
    "start_time": "2022-06-11T11:25:21.813Z"
   },
   {
    "duration": 2,
    "start_time": "2022-06-11T11:25:27.263Z"
   },
   {
    "duration": 53,
    "start_time": "2022-06-11T11:25:27.267Z"
   },
   {
    "duration": 47,
    "start_time": "2022-06-11T11:25:27.321Z"
   },
   {
    "duration": 5,
    "start_time": "2022-06-11T11:25:27.369Z"
   },
   {
    "duration": 13,
    "start_time": "2022-06-11T11:25:27.377Z"
   },
   {
    "duration": 11,
    "start_time": "2022-06-11T11:25:27.391Z"
   },
   {
    "duration": 20,
    "start_time": "2022-06-11T11:25:27.403Z"
   },
   {
    "duration": 12,
    "start_time": "2022-06-11T11:25:27.425Z"
   },
   {
    "duration": 23,
    "start_time": "2022-06-11T11:25:27.439Z"
   },
   {
    "duration": 20,
    "start_time": "2022-06-11T11:25:27.464Z"
   },
   {
    "duration": 395,
    "start_time": "2022-06-11T11:25:27.486Z"
   },
   {
    "duration": 16,
    "start_time": "2022-06-11T11:25:27.882Z"
   },
   {
    "duration": 6,
    "start_time": "2022-06-11T11:25:27.900Z"
   },
   {
    "duration": 18,
    "start_time": "2022-06-11T11:25:27.907Z"
   },
   {
    "duration": 4,
    "start_time": "2022-06-11T11:25:27.926Z"
   },
   {
    "duration": 14,
    "start_time": "2022-06-11T11:25:27.931Z"
   },
   {
    "duration": 37,
    "start_time": "2022-06-11T11:25:27.947Z"
   },
   {
    "duration": 2,
    "start_time": "2022-06-11T11:25:27.986Z"
   },
   {
    "duration": 1652,
    "start_time": "2022-06-11T11:25:27.989Z"
   },
   {
    "duration": 2,
    "start_time": "2022-06-11T11:25:29.680Z"
   },
   {
    "duration": 9,
    "start_time": "2022-06-11T11:25:29.684Z"
   },
   {
    "duration": 35,
    "start_time": "2022-06-11T11:25:55.927Z"
   },
   {
    "duration": 7,
    "start_time": "2022-06-11T11:26:51.635Z"
   },
   {
    "duration": 3,
    "start_time": "2022-06-11T11:27:01.944Z"
   },
   {
    "duration": 68,
    "start_time": "2022-06-11T11:27:01.950Z"
   },
   {
    "duration": 43,
    "start_time": "2022-06-11T11:27:02.020Z"
   },
   {
    "duration": 4,
    "start_time": "2022-06-11T11:27:02.065Z"
   },
   {
    "duration": 8,
    "start_time": "2022-06-11T11:27:02.071Z"
   },
   {
    "duration": 24,
    "start_time": "2022-06-11T11:27:02.080Z"
   },
   {
    "duration": 29,
    "start_time": "2022-06-11T11:27:02.105Z"
   },
   {
    "duration": 14,
    "start_time": "2022-06-11T11:27:02.135Z"
   },
   {
    "duration": 32,
    "start_time": "2022-06-11T11:27:02.151Z"
   },
   {
    "duration": 15,
    "start_time": "2022-06-11T11:27:02.185Z"
   },
   {
    "duration": 280,
    "start_time": "2022-06-11T11:27:02.201Z"
   },
   {
    "duration": 16,
    "start_time": "2022-06-11T11:27:02.483Z"
   },
   {
    "duration": 7,
    "start_time": "2022-06-11T11:27:02.500Z"
   },
   {
    "duration": 26,
    "start_time": "2022-06-11T11:27:02.509Z"
   },
   {
    "duration": 4,
    "start_time": "2022-06-11T11:27:02.537Z"
   },
   {
    "duration": 25,
    "start_time": "2022-06-11T11:27:02.542Z"
   },
   {
    "duration": 20,
    "start_time": "2022-06-11T11:27:02.568Z"
   },
   {
    "duration": 3,
    "start_time": "2022-06-11T11:27:02.590Z"
   },
   {
    "duration": 1740,
    "start_time": "2022-06-11T11:27:02.595Z"
   },
   {
    "duration": 41,
    "start_time": "2022-06-11T11:27:04.337Z"
   },
   {
    "duration": 7,
    "start_time": "2022-06-11T11:27:04.381Z"
   },
   {
    "duration": 1491,
    "start_time": "2022-06-11T11:29:17.014Z"
   },
   {
    "duration": 8,
    "start_time": "2022-06-11T11:29:29.875Z"
   },
   {
    "duration": 37,
    "start_time": "2022-06-11T11:29:40.564Z"
   },
   {
    "duration": 6,
    "start_time": "2022-06-11T11:29:47.805Z"
   },
   {
    "duration": 13,
    "start_time": "2022-06-11T11:33:26.385Z"
   },
   {
    "duration": 26,
    "start_time": "2022-06-11T11:34:46.047Z"
   },
   {
    "duration": 7,
    "start_time": "2022-06-11T11:36:16.255Z"
   },
   {
    "duration": 6,
    "start_time": "2022-06-11T11:37:13.314Z"
   },
   {
    "duration": 5,
    "start_time": "2022-06-11T11:38:42.355Z"
   },
   {
    "duration": 38,
    "start_time": "2022-06-11T11:39:10.218Z"
   },
   {
    "duration": 15,
    "start_time": "2022-06-11T11:39:47.768Z"
   },
   {
    "duration": 9,
    "start_time": "2022-06-11T11:40:25.401Z"
   },
   {
    "duration": 6,
    "start_time": "2022-06-11T11:40:53.210Z"
   },
   {
    "duration": 34,
    "start_time": "2022-06-11T11:55:40.250Z"
   },
   {
    "duration": 4,
    "start_time": "2022-06-11T11:58:26.817Z"
   },
   {
    "duration": 6,
    "start_time": "2022-06-11T11:58:51.095Z"
   },
   {
    "duration": 12,
    "start_time": "2022-06-11T11:59:11.646Z"
   },
   {
    "duration": 5,
    "start_time": "2022-06-11T12:04:23.895Z"
   },
   {
    "duration": 12,
    "start_time": "2022-06-11T12:04:30.427Z"
   },
   {
    "duration": 3,
    "start_time": "2022-06-11T12:05:31.954Z"
   },
   {
    "duration": 14,
    "start_time": "2022-06-11T12:06:09.606Z"
   },
   {
    "duration": 43,
    "start_time": "2022-06-11T14:32:30.665Z"
   },
   {
    "duration": 397,
    "start_time": "2022-06-11T14:32:41.552Z"
   },
   {
    "duration": 186,
    "start_time": "2022-06-11T14:32:41.950Z"
   },
   {
    "duration": 46,
    "start_time": "2022-06-11T14:32:42.138Z"
   },
   {
    "duration": 4,
    "start_time": "2022-06-11T14:32:42.186Z"
   },
   {
    "duration": 7,
    "start_time": "2022-06-11T14:32:42.192Z"
   },
   {
    "duration": 6,
    "start_time": "2022-06-11T14:32:42.200Z"
   },
   {
    "duration": 11,
    "start_time": "2022-06-11T14:32:42.208Z"
   },
   {
    "duration": 12,
    "start_time": "2022-06-11T14:32:42.220Z"
   },
   {
    "duration": 22,
    "start_time": "2022-06-11T14:32:42.233Z"
   },
   {
    "duration": 13,
    "start_time": "2022-06-11T14:32:42.278Z"
   },
   {
    "duration": 618,
    "start_time": "2022-06-11T14:32:42.292Z"
   },
   {
    "duration": 17,
    "start_time": "2022-06-11T14:32:42.912Z"
   },
   {
    "duration": 6,
    "start_time": "2022-06-11T14:32:42.930Z"
   },
   {
    "duration": 41,
    "start_time": "2022-06-11T14:32:42.938Z"
   },
   {
    "duration": 4,
    "start_time": "2022-06-11T14:32:42.980Z"
   },
   {
    "duration": 14,
    "start_time": "2022-06-11T14:32:42.986Z"
   },
   {
    "duration": 1802,
    "start_time": "2022-06-11T14:32:43.001Z"
   },
   {
    "duration": 7,
    "start_time": "2022-06-11T14:32:44.804Z"
   },
   {
    "duration": 15,
    "start_time": "2022-06-11T14:32:44.813Z"
   },
   {
    "duration": 13,
    "start_time": "2022-06-11T14:32:44.830Z"
   },
   {
    "duration": 33,
    "start_time": "2022-06-11T14:32:44.844Z"
   },
   {
    "duration": 7,
    "start_time": "2022-06-11T14:32:44.878Z"
   },
   {
    "duration": 14,
    "start_time": "2022-06-11T14:32:44.886Z"
   },
   {
    "duration": 7,
    "start_time": "2022-06-11T14:32:44.901Z"
   },
   {
    "duration": 8,
    "start_time": "2022-06-11T14:32:44.909Z"
   },
   {
    "duration": 8,
    "start_time": "2022-06-11T14:32:44.918Z"
   },
   {
    "duration": 11,
    "start_time": "2022-06-11T14:32:44.927Z"
   },
   {
    "duration": 13,
    "start_time": "2022-06-11T14:32:44.941Z"
   },
   {
    "duration": 30,
    "start_time": "2022-06-11T14:32:44.956Z"
   },
   {
    "duration": 5,
    "start_time": "2022-06-11T14:32:44.987Z"
   },
   {
    "duration": 10,
    "start_time": "2022-06-11T14:32:44.993Z"
   },
   {
    "duration": 14,
    "start_time": "2022-06-11T14:33:56.071Z"
   },
   {
    "duration": 6,
    "start_time": "2022-06-11T14:36:51.734Z"
   },
   {
    "duration": 13,
    "start_time": "2022-06-11T14:38:22.527Z"
   },
   {
    "duration": 3,
    "start_time": "2022-06-11T14:39:03.943Z"
   },
   {
    "duration": 2,
    "start_time": "2022-06-11T14:53:45.847Z"
   },
   {
    "duration": 18,
    "start_time": "2022-06-11T14:55:41.040Z"
   },
   {
    "duration": 4,
    "start_time": "2022-06-11T14:57:49.740Z"
   },
   {
    "duration": 20,
    "start_time": "2022-06-11T14:58:03.090Z"
   },
   {
    "duration": 13,
    "start_time": "2022-06-11T14:59:15.795Z"
   },
   {
    "duration": 13,
    "start_time": "2022-06-11T14:59:30.270Z"
   },
   {
    "duration": 14,
    "start_time": "2022-06-11T14:59:32.328Z"
   },
   {
    "duration": 2,
    "start_time": "2022-06-11T15:07:06.232Z"
   },
   {
    "duration": 3,
    "start_time": "2022-06-11T15:07:41.901Z"
   },
   {
    "duration": 12,
    "start_time": "2022-06-11T15:09:16.639Z"
   },
   {
    "duration": 189,
    "start_time": "2022-06-11T15:09:43.699Z"
   },
   {
    "duration": 8,
    "start_time": "2022-06-11T15:16:17.407Z"
   },
   {
    "duration": 6,
    "start_time": "2022-06-11T15:17:16.460Z"
   },
   {
    "duration": 5,
    "start_time": "2022-06-11T15:17:52.950Z"
   },
   {
    "duration": 9,
    "start_time": "2022-06-11T15:39:18.324Z"
   },
   {
    "duration": 7,
    "start_time": "2022-06-11T15:39:34.589Z"
   },
   {
    "duration": 42,
    "start_time": "2022-06-11T15:39:48.855Z"
   },
   {
    "duration": 11,
    "start_time": "2022-06-11T15:40:01.913Z"
   },
   {
    "duration": 21,
    "start_time": "2022-06-11T15:46:44.764Z"
   },
   {
    "duration": 11,
    "start_time": "2022-06-11T15:47:08.355Z"
   },
   {
    "duration": 429,
    "start_time": "2022-06-11T15:48:10.128Z"
   },
   {
    "duration": 21,
    "start_time": "2022-06-11T15:52:24.960Z"
   },
   {
    "duration": 9,
    "start_time": "2022-06-11T15:52:51.258Z"
   },
   {
    "duration": 20,
    "start_time": "2022-06-11T15:57:15.868Z"
   },
   {
    "duration": 24,
    "start_time": "2022-06-11T15:57:43.248Z"
   },
   {
    "duration": 3,
    "start_time": "2022-06-11T15:57:54.227Z"
   },
   {
    "duration": 48,
    "start_time": "2022-06-11T15:57:54.235Z"
   },
   {
    "duration": 44,
    "start_time": "2022-06-11T15:57:54.284Z"
   },
   {
    "duration": 4,
    "start_time": "2022-06-11T15:57:54.329Z"
   },
   {
    "duration": 6,
    "start_time": "2022-06-11T15:57:54.334Z"
   },
   {
    "duration": 8,
    "start_time": "2022-06-11T15:57:54.342Z"
   },
   {
    "duration": 35,
    "start_time": "2022-06-11T15:57:54.351Z"
   },
   {
    "duration": 11,
    "start_time": "2022-06-11T15:57:54.387Z"
   },
   {
    "duration": 23,
    "start_time": "2022-06-11T15:57:54.399Z"
   },
   {
    "duration": 14,
    "start_time": "2022-06-11T15:57:54.424Z"
   },
   {
    "duration": 311,
    "start_time": "2022-06-11T15:57:54.440Z"
   },
   {
    "duration": 16,
    "start_time": "2022-06-11T15:57:54.752Z"
   },
   {
    "duration": 12,
    "start_time": "2022-06-11T15:57:54.769Z"
   },
   {
    "duration": 22,
    "start_time": "2022-06-11T15:57:54.782Z"
   },
   {
    "duration": 7,
    "start_time": "2022-06-11T15:57:54.806Z"
   },
   {
    "duration": 12,
    "start_time": "2022-06-11T15:57:54.814Z"
   },
   {
    "duration": 1662,
    "start_time": "2022-06-11T15:57:54.828Z"
   },
   {
    "duration": 6,
    "start_time": "2022-06-11T15:57:56.491Z"
   },
   {
    "duration": 7,
    "start_time": "2022-06-11T15:57:56.499Z"
   },
   {
    "duration": 13,
    "start_time": "2022-06-11T15:57:56.507Z"
   },
   {
    "duration": 5,
    "start_time": "2022-06-11T15:57:56.522Z"
   },
   {
    "duration": 4,
    "start_time": "2022-06-11T15:57:56.529Z"
   },
   {
    "duration": 48,
    "start_time": "2022-06-11T15:57:56.534Z"
   },
   {
    "duration": 6,
    "start_time": "2022-06-11T15:57:56.583Z"
   },
   {
    "duration": 7,
    "start_time": "2022-06-11T15:57:56.590Z"
   },
   {
    "duration": 15,
    "start_time": "2022-06-11T15:57:56.598Z"
   },
   {
    "duration": 4,
    "start_time": "2022-06-11T15:57:56.614Z"
   },
   {
    "duration": 15,
    "start_time": "2022-06-11T15:57:56.619Z"
   },
   {
    "duration": 12,
    "start_time": "2022-06-11T15:57:56.635Z"
   },
   {
    "duration": 33,
    "start_time": "2022-06-11T15:57:56.649Z"
   },
   {
    "duration": 0,
    "start_time": "2022-06-11T15:57:56.684Z"
   },
   {
    "duration": 0,
    "start_time": "2022-06-11T15:57:56.685Z"
   },
   {
    "duration": 0,
    "start_time": "2022-06-11T15:57:56.686Z"
   },
   {
    "duration": 0,
    "start_time": "2022-06-11T15:57:56.687Z"
   },
   {
    "duration": 0,
    "start_time": "2022-06-11T15:57:56.688Z"
   },
   {
    "duration": 0,
    "start_time": "2022-06-11T15:57:56.689Z"
   },
   {
    "duration": 3,
    "start_time": "2022-06-11T15:58:23.058Z"
   },
   {
    "duration": 50,
    "start_time": "2022-06-11T15:58:23.106Z"
   },
   {
    "duration": 43,
    "start_time": "2022-06-11T15:58:23.158Z"
   },
   {
    "duration": 4,
    "start_time": "2022-06-11T15:58:23.202Z"
   },
   {
    "duration": 25,
    "start_time": "2022-06-11T15:58:23.207Z"
   },
   {
    "duration": 18,
    "start_time": "2022-06-11T15:58:23.233Z"
   },
   {
    "duration": 32,
    "start_time": "2022-06-11T15:58:23.252Z"
   },
   {
    "duration": 15,
    "start_time": "2022-06-11T15:58:23.285Z"
   },
   {
    "duration": 56,
    "start_time": "2022-06-11T15:58:23.301Z"
   },
   {
    "duration": 13,
    "start_time": "2022-06-11T15:58:23.358Z"
   },
   {
    "duration": 273,
    "start_time": "2022-06-11T15:58:23.372Z"
   },
   {
    "duration": 16,
    "start_time": "2022-06-11T15:58:23.647Z"
   },
   {
    "duration": 16,
    "start_time": "2022-06-11T15:58:23.664Z"
   },
   {
    "duration": 22,
    "start_time": "2022-06-11T15:58:23.681Z"
   },
   {
    "duration": 4,
    "start_time": "2022-06-11T15:58:23.706Z"
   },
   {
    "duration": 16,
    "start_time": "2022-06-11T15:58:23.711Z"
   },
   {
    "duration": 1781,
    "start_time": "2022-06-11T15:58:23.729Z"
   },
   {
    "duration": 6,
    "start_time": "2022-06-11T15:58:25.511Z"
   },
   {
    "duration": 9,
    "start_time": "2022-06-11T15:58:25.518Z"
   },
   {
    "duration": 15,
    "start_time": "2022-06-11T15:58:25.528Z"
   },
   {
    "duration": 33,
    "start_time": "2022-06-11T15:58:25.545Z"
   },
   {
    "duration": 4,
    "start_time": "2022-06-11T15:58:25.580Z"
   },
   {
    "duration": 12,
    "start_time": "2022-06-11T15:58:25.586Z"
   },
   {
    "duration": 4,
    "start_time": "2022-06-11T15:58:25.600Z"
   },
   {
    "duration": 4,
    "start_time": "2022-06-11T15:58:25.606Z"
   },
   {
    "duration": 11,
    "start_time": "2022-06-11T15:58:25.611Z"
   },
   {
    "duration": 12,
    "start_time": "2022-06-11T15:58:25.623Z"
   },
   {
    "duration": 12,
    "start_time": "2022-06-11T15:58:25.637Z"
   },
   {
    "duration": 31,
    "start_time": "2022-06-11T15:58:25.650Z"
   },
   {
    "duration": 6,
    "start_time": "2022-06-11T15:58:25.682Z"
   },
   {
    "duration": 12,
    "start_time": "2022-06-11T15:58:25.689Z"
   },
   {
    "duration": 12,
    "start_time": "2022-06-11T15:58:25.703Z"
   },
   {
    "duration": 5,
    "start_time": "2022-06-11T15:58:25.716Z"
   },
   {
    "duration": 12,
    "start_time": "2022-06-11T15:58:25.722Z"
   },
   {
    "duration": 47,
    "start_time": "2022-06-11T15:58:25.735Z"
   },
   {
    "duration": 21,
    "start_time": "2022-06-11T15:59:43.367Z"
   },
   {
    "duration": 23,
    "start_time": "2022-06-11T15:59:54.138Z"
   },
   {
    "duration": 8,
    "start_time": "2022-06-11T16:00:43.121Z"
   },
   {
    "duration": 20,
    "start_time": "2022-06-11T16:00:55.601Z"
   },
   {
    "duration": 34,
    "start_time": "2022-06-11T16:58:26.667Z"
   },
   {
    "duration": 433,
    "start_time": "2022-06-11T16:58:43.483Z"
   },
   {
    "duration": 13,
    "start_time": "2022-06-11T17:02:14.911Z"
   },
   {
    "duration": 22,
    "start_time": "2022-06-11T17:02:23.845Z"
   },
   {
    "duration": 22,
    "start_time": "2022-06-11T17:05:21.674Z"
   },
   {
    "duration": 20,
    "start_time": "2022-06-11T17:06:17.384Z"
   },
   {
    "duration": 6,
    "start_time": "2022-06-11T17:08:30.851Z"
   },
   {
    "duration": 19,
    "start_time": "2022-06-11T17:09:19.591Z"
   },
   {
    "duration": 2,
    "start_time": "2022-06-11T17:09:25.246Z"
   },
   {
    "duration": 55,
    "start_time": "2022-06-11T17:09:25.250Z"
   },
   {
    "duration": 49,
    "start_time": "2022-06-11T17:09:25.306Z"
   },
   {
    "duration": 22,
    "start_time": "2022-06-11T17:09:25.357Z"
   },
   {
    "duration": 4,
    "start_time": "2022-06-11T17:09:25.381Z"
   },
   {
    "duration": 7,
    "start_time": "2022-06-11T17:09:25.386Z"
   },
   {
    "duration": 12,
    "start_time": "2022-06-11T17:09:25.394Z"
   },
   {
    "duration": 12,
    "start_time": "2022-06-11T17:09:25.407Z"
   },
   {
    "duration": 25,
    "start_time": "2022-06-11T17:09:25.420Z"
   },
   {
    "duration": 43,
    "start_time": "2022-06-11T17:09:25.446Z"
   },
   {
    "duration": 284,
    "start_time": "2022-06-11T17:09:25.491Z"
   },
   {
    "duration": 19,
    "start_time": "2022-06-11T17:09:25.776Z"
   },
   {
    "duration": 8,
    "start_time": "2022-06-11T17:09:25.798Z"
   },
   {
    "duration": 22,
    "start_time": "2022-06-11T17:09:25.808Z"
   },
   {
    "duration": 6,
    "start_time": "2022-06-11T17:09:25.832Z"
   },
   {
    "duration": 13,
    "start_time": "2022-06-11T17:09:25.839Z"
   },
   {
    "duration": 1752,
    "start_time": "2022-06-11T17:09:25.878Z"
   },
   {
    "duration": 6,
    "start_time": "2022-06-11T17:09:27.631Z"
   },
   {
    "duration": 46,
    "start_time": "2022-06-11T17:09:27.638Z"
   },
   {
    "duration": 24,
    "start_time": "2022-06-11T17:09:27.686Z"
   },
   {
    "duration": 10,
    "start_time": "2022-06-11T17:09:27.712Z"
   },
   {
    "duration": 8,
    "start_time": "2022-06-11T17:09:27.723Z"
   },
   {
    "duration": 22,
    "start_time": "2022-06-11T17:09:27.733Z"
   },
   {
    "duration": 15,
    "start_time": "2022-06-11T17:09:27.756Z"
   },
   {
    "duration": 9,
    "start_time": "2022-06-11T17:09:27.778Z"
   },
   {
    "duration": 10,
    "start_time": "2022-06-11T17:09:27.789Z"
   },
   {
    "duration": 9,
    "start_time": "2022-06-11T17:09:27.801Z"
   },
   {
    "duration": 21,
    "start_time": "2022-06-11T17:09:27.812Z"
   },
   {
    "duration": 18,
    "start_time": "2022-06-11T17:09:27.835Z"
   },
   {
    "duration": 7,
    "start_time": "2022-06-11T17:09:27.855Z"
   },
   {
    "duration": 13,
    "start_time": "2022-06-11T17:09:27.879Z"
   },
   {
    "duration": 24,
    "start_time": "2022-06-11T17:09:27.893Z"
   },
   {
    "duration": 7,
    "start_time": "2022-06-11T17:09:27.919Z"
   },
   {
    "duration": 19,
    "start_time": "2022-06-11T17:09:27.927Z"
   },
   {
    "duration": 6,
    "start_time": "2022-06-11T17:09:27.948Z"
   },
   {
    "duration": 6,
    "start_time": "2022-06-11T17:10:45.576Z"
   },
   {
    "duration": 8,
    "start_time": "2022-06-11T17:16:37.329Z"
   },
   {
    "duration": 7,
    "start_time": "2022-06-11T17:17:31.506Z"
   },
   {
    "duration": 56,
    "start_time": "2022-06-11T17:18:59.791Z"
   },
   {
    "duration": 21,
    "start_time": "2022-06-11T17:24:46.186Z"
   },
   {
    "duration": 20,
    "start_time": "2022-06-11T17:25:36.465Z"
   },
   {
    "duration": 22,
    "start_time": "2022-06-11T17:38:40.802Z"
   },
   {
    "duration": 29,
    "start_time": "2022-06-11T17:41:17.346Z"
   },
   {
    "duration": 19,
    "start_time": "2022-06-11T17:42:08.445Z"
   },
   {
    "duration": 18,
    "start_time": "2022-06-11T17:42:19.985Z"
   },
   {
    "duration": 26,
    "start_time": "2022-06-11T17:45:50.076Z"
   },
   {
    "duration": 1687,
    "start_time": "2022-06-11T17:45:52.476Z"
   },
   {
    "duration": 21,
    "start_time": "2022-06-11T17:47:28.305Z"
   },
   {
    "duration": 18,
    "start_time": "2022-06-11T17:47:38.436Z"
   },
   {
    "duration": 267,
    "start_time": "2022-06-11T17:47:44.385Z"
   },
   {
    "duration": 22,
    "start_time": "2022-06-11T17:52:02.595Z"
   },
   {
    "duration": 20,
    "start_time": "2022-06-11T17:52:10.295Z"
   },
   {
    "duration": 892,
    "start_time": "2022-06-11T17:52:17.114Z"
   },
   {
    "duration": 910,
    "start_time": "2022-06-11T17:57:47.065Z"
   },
   {
    "duration": 930,
    "start_time": "2022-06-11T17:58:07.265Z"
   },
   {
    "duration": 901,
    "start_time": "2022-06-11T17:58:17.315Z"
   },
   {
    "duration": 942,
    "start_time": "2022-06-11T17:58:31.056Z"
   },
   {
    "duration": 844,
    "start_time": "2022-06-11T17:58:42.498Z"
   },
   {
    "duration": 14,
    "start_time": "2022-06-11T18:02:07.016Z"
   },
   {
    "duration": 225,
    "start_time": "2022-06-11T18:02:11.174Z"
   },
   {
    "duration": 19,
    "start_time": "2022-06-11T18:08:49.365Z"
   },
   {
    "duration": 25,
    "start_time": "2022-06-11T18:09:10.887Z"
   },
   {
    "duration": 25,
    "start_time": "2022-06-11T18:11:47.504Z"
   },
   {
    "duration": 237,
    "start_time": "2022-06-11T18:12:26.035Z"
   },
   {
    "duration": 255,
    "start_time": "2022-06-11T18:15:10.854Z"
   },
   {
    "duration": 581,
    "start_time": "2022-06-11T18:16:27.422Z"
   },
   {
    "duration": 2,
    "start_time": "2022-06-11T18:22:03.786Z"
   },
   {
    "duration": 26,
    "start_time": "2022-06-11T18:23:46.378Z"
   },
   {
    "duration": 427,
    "start_time": "2022-06-11T18:29:48.915Z"
   },
   {
    "duration": 3,
    "start_time": "2022-06-11T18:30:35.266Z"
   },
   {
    "duration": 444,
    "start_time": "2022-06-11T18:30:40.416Z"
   },
   {
    "duration": 472,
    "start_time": "2022-06-11T18:31:01.648Z"
   },
   {
    "duration": 518,
    "start_time": "2022-06-11T18:31:11.407Z"
   },
   {
    "duration": 431,
    "start_time": "2022-06-11T18:32:03.985Z"
   },
   {
    "duration": 480,
    "start_time": "2022-06-11T18:32:26.301Z"
   },
   {
    "duration": 3,
    "start_time": "2022-06-11T18:32:55.315Z"
   },
   {
    "duration": 37,
    "start_time": "2022-06-11T18:35:32.258Z"
   },
   {
    "duration": 46,
    "start_time": "2022-06-12T04:30:35.038Z"
   },
   {
    "duration": 446,
    "start_time": "2022-06-12T04:30:41.935Z"
   },
   {
    "duration": 89,
    "start_time": "2022-06-12T04:30:42.383Z"
   },
   {
    "duration": 57,
    "start_time": "2022-06-12T04:30:42.473Z"
   },
   {
    "duration": 3,
    "start_time": "2022-06-12T04:30:42.532Z"
   },
   {
    "duration": 9,
    "start_time": "2022-06-12T04:30:42.537Z"
   },
   {
    "duration": 18,
    "start_time": "2022-06-12T04:30:42.548Z"
   },
   {
    "duration": 16,
    "start_time": "2022-06-12T04:30:42.567Z"
   },
   {
    "duration": 15,
    "start_time": "2022-06-12T04:30:42.584Z"
   },
   {
    "duration": 26,
    "start_time": "2022-06-12T04:30:42.601Z"
   },
   {
    "duration": 41,
    "start_time": "2022-06-12T04:30:42.629Z"
   },
   {
    "duration": 652,
    "start_time": "2022-06-12T04:30:42.672Z"
   },
   {
    "duration": 21,
    "start_time": "2022-06-12T04:30:43.326Z"
   },
   {
    "duration": 20,
    "start_time": "2022-06-12T04:30:43.349Z"
   },
   {
    "duration": 23,
    "start_time": "2022-06-12T04:30:43.370Z"
   },
   {
    "duration": 4,
    "start_time": "2022-06-12T04:30:43.394Z"
   },
   {
    "duration": 14,
    "start_time": "2022-06-12T04:30:43.400Z"
   },
   {
    "duration": 1948,
    "start_time": "2022-06-12T04:30:43.416Z"
   },
   {
    "duration": 6,
    "start_time": "2022-06-12T04:30:45.368Z"
   },
   {
    "duration": 7,
    "start_time": "2022-06-12T04:30:45.376Z"
   },
   {
    "duration": 13,
    "start_time": "2022-06-12T04:30:45.384Z"
   },
   {
    "duration": 7,
    "start_time": "2022-06-12T04:30:45.398Z"
   },
   {
    "duration": 5,
    "start_time": "2022-06-12T04:30:45.407Z"
   },
   {
    "duration": 13,
    "start_time": "2022-06-12T04:30:45.413Z"
   },
   {
    "duration": 42,
    "start_time": "2022-06-12T04:30:45.427Z"
   },
   {
    "duration": 5,
    "start_time": "2022-06-12T04:30:45.470Z"
   },
   {
    "duration": 8,
    "start_time": "2022-06-12T04:30:45.477Z"
   },
   {
    "duration": 5,
    "start_time": "2022-06-12T04:30:45.487Z"
   },
   {
    "duration": 12,
    "start_time": "2022-06-12T04:30:45.495Z"
   },
   {
    "duration": 13,
    "start_time": "2022-06-12T04:30:45.509Z"
   },
   {
    "duration": 6,
    "start_time": "2022-06-12T04:30:45.524Z"
   },
   {
    "duration": 12,
    "start_time": "2022-06-12T04:30:45.565Z"
   },
   {
    "duration": 14,
    "start_time": "2022-06-12T04:30:45.578Z"
   },
   {
    "duration": 8,
    "start_time": "2022-06-12T04:30:45.593Z"
   },
   {
    "duration": 7,
    "start_time": "2022-06-12T04:30:45.602Z"
   },
   {
    "duration": 53,
    "start_time": "2022-06-12T04:30:45.611Z"
   },
   {
    "duration": 25,
    "start_time": "2022-06-12T04:30:45.666Z"
   },
   {
    "duration": 471,
    "start_time": "2022-06-12T04:30:45.693Z"
   },
   {
    "duration": 53,
    "start_time": "2022-06-12T04:30:46.166Z"
   },
   {
    "duration": 7,
    "start_time": "2022-06-12T04:31:12.306Z"
   },
   {
    "duration": 40,
    "start_time": "2022-06-12T04:31:38.983Z"
   },
   {
    "duration": 513,
    "start_time": "2022-06-12T04:31:44.605Z"
   },
   {
    "duration": 332,
    "start_time": "2022-06-12T04:32:00.227Z"
   },
   {
    "duration": 343,
    "start_time": "2022-06-12T04:32:49.525Z"
   },
   {
    "duration": 2,
    "start_time": "2022-06-12T04:34:10.141Z"
   },
   {
    "duration": 395,
    "start_time": "2022-06-12T04:34:25.634Z"
   },
   {
    "duration": 325,
    "start_time": "2022-06-12T04:34:34.151Z"
   },
   {
    "duration": 318,
    "start_time": "2022-06-12T04:35:47.445Z"
   },
   {
    "duration": 322,
    "start_time": "2022-06-12T04:35:59.554Z"
   },
   {
    "duration": 475,
    "start_time": "2022-06-12T04:36:09.856Z"
   },
   {
    "duration": 3,
    "start_time": "2022-06-12T04:57:13.294Z"
   },
   {
    "duration": 232,
    "start_time": "2022-06-12T04:58:12.405Z"
   },
   {
    "duration": 253,
    "start_time": "2022-06-12T04:58:27.931Z"
   },
   {
    "duration": 162,
    "start_time": "2022-06-12T04:58:38.207Z"
   },
   {
    "duration": 171,
    "start_time": "2022-06-12T04:58:51.450Z"
   },
   {
    "duration": 155,
    "start_time": "2022-06-12T04:59:42.327Z"
   },
   {
    "duration": 161,
    "start_time": "2022-06-12T04:59:56.258Z"
   },
   {
    "duration": 208,
    "start_time": "2022-06-12T05:00:36.675Z"
   },
   {
    "duration": 112,
    "start_time": "2022-06-12T05:01:30.048Z"
   },
   {
    "duration": 149,
    "start_time": "2022-06-12T05:01:36.688Z"
   },
   {
    "duration": 170,
    "start_time": "2022-06-12T05:37:42.424Z"
   },
   {
    "duration": 2,
    "start_time": "2022-06-12T05:39:16.706Z"
   },
   {
    "duration": 26,
    "start_time": "2022-06-12T05:39:51.242Z"
   },
   {
    "duration": 12,
    "start_time": "2022-06-12T05:40:12.607Z"
   },
   {
    "duration": 21,
    "start_time": "2022-06-12T05:43:12.373Z"
   },
   {
    "duration": 22,
    "start_time": "2022-06-12T05:46:29.870Z"
   },
   {
    "duration": 32,
    "start_time": "2022-06-12T05:47:24.071Z"
   },
   {
    "duration": 2,
    "start_time": "2022-06-12T05:47:33.914Z"
   },
   {
    "duration": 55,
    "start_time": "2022-06-12T05:47:33.918Z"
   },
   {
    "duration": 46,
    "start_time": "2022-06-12T05:47:33.975Z"
   },
   {
    "duration": 5,
    "start_time": "2022-06-12T05:47:34.414Z"
   },
   {
    "duration": 11,
    "start_time": "2022-06-12T05:47:34.421Z"
   },
   {
    "duration": 12,
    "start_time": "2022-06-12T05:47:34.434Z"
   },
   {
    "duration": 13,
    "start_time": "2022-06-12T05:47:34.524Z"
   },
   {
    "duration": 15,
    "start_time": "2022-06-12T05:47:34.539Z"
   },
   {
    "duration": 24,
    "start_time": "2022-06-12T05:47:34.620Z"
   },
   {
    "duration": 15,
    "start_time": "2022-06-12T05:47:34.646Z"
   },
   {
    "duration": 293,
    "start_time": "2022-06-12T05:47:34.662Z"
   },
   {
    "duration": 21,
    "start_time": "2022-06-12T05:47:34.956Z"
   },
   {
    "duration": 7,
    "start_time": "2022-06-12T05:47:35.353Z"
   },
   {
    "duration": 26,
    "start_time": "2022-06-12T05:47:35.362Z"
   },
   {
    "duration": 4,
    "start_time": "2022-06-12T05:47:35.389Z"
   },
   {
    "duration": 20,
    "start_time": "2022-06-12T05:47:35.395Z"
   },
   {
    "duration": 1928,
    "start_time": "2022-06-12T05:47:35.417Z"
   },
   {
    "duration": 21,
    "start_time": "2022-06-12T05:47:37.347Z"
   },
   {
    "duration": 7,
    "start_time": "2022-06-12T05:47:37.370Z"
   },
   {
    "duration": 15,
    "start_time": "2022-06-12T05:47:37.378Z"
   },
   {
    "duration": 9,
    "start_time": "2022-06-12T05:47:37.395Z"
   },
   {
    "duration": 5,
    "start_time": "2022-06-12T05:47:37.406Z"
   },
   {
    "duration": 14,
    "start_time": "2022-06-12T05:47:37.413Z"
   },
   {
    "duration": 39,
    "start_time": "2022-06-12T05:47:37.429Z"
   },
   {
    "duration": 7,
    "start_time": "2022-06-12T05:47:37.470Z"
   },
   {
    "duration": 9,
    "start_time": "2022-06-12T05:47:37.479Z"
   },
   {
    "duration": 4,
    "start_time": "2022-06-12T05:47:37.490Z"
   },
   {
    "duration": 14,
    "start_time": "2022-06-12T05:47:37.496Z"
   },
   {
    "duration": 12,
    "start_time": "2022-06-12T05:47:37.512Z"
   },
   {
    "duration": 38,
    "start_time": "2022-06-12T05:47:37.526Z"
   },
   {
    "duration": 15,
    "start_time": "2022-06-12T05:47:37.567Z"
   },
   {
    "duration": 15,
    "start_time": "2022-06-12T05:47:37.583Z"
   },
   {
    "duration": 7,
    "start_time": "2022-06-12T05:47:37.600Z"
   },
   {
    "duration": 8,
    "start_time": "2022-06-12T05:47:37.608Z"
   },
   {
    "duration": 54,
    "start_time": "2022-06-12T05:47:37.617Z"
   },
   {
    "duration": 27,
    "start_time": "2022-06-12T05:47:37.672Z"
   },
   {
    "duration": 486,
    "start_time": "2022-06-12T05:47:37.701Z"
   },
   {
    "duration": 336,
    "start_time": "2022-06-12T05:47:38.189Z"
   },
   {
    "duration": 181,
    "start_time": "2022-06-12T05:47:38.527Z"
   },
   {
    "duration": 12,
    "start_time": "2022-06-12T05:47:38.709Z"
   },
   {
    "duration": 22,
    "start_time": "2022-06-12T05:47:38.723Z"
   },
   {
    "duration": 45,
    "start_time": "2022-06-12T05:47:38.747Z"
   },
   {
    "duration": 23,
    "start_time": "2022-06-12T05:48:16.294Z"
   },
   {
    "duration": 22,
    "start_time": "2022-06-12T05:49:37.081Z"
   },
   {
    "duration": 23,
    "start_time": "2022-06-12T05:49:53.219Z"
   },
   {
    "duration": 152,
    "start_time": "2022-06-12T05:53:51.841Z"
   },
   {
    "duration": 24,
    "start_time": "2022-06-12T05:56:51.634Z"
   },
   {
    "duration": 154,
    "start_time": "2022-06-12T05:57:08.142Z"
   },
   {
    "duration": 164,
    "start_time": "2022-06-12T05:58:14.762Z"
   },
   {
    "duration": 15,
    "start_time": "2022-06-12T06:33:33.214Z"
   },
   {
    "duration": 193,
    "start_time": "2022-06-12T06:34:24.077Z"
   },
   {
    "duration": 13,
    "start_time": "2022-06-12T06:37:48.252Z"
   },
   {
    "duration": 290,
    "start_time": "2022-06-12T06:38:02.426Z"
   },
   {
    "duration": 203,
    "start_time": "2022-06-12T06:38:50.441Z"
   },
   {
    "duration": 184,
    "start_time": "2022-06-12T06:43:10.188Z"
   },
   {
    "duration": 130,
    "start_time": "2022-06-12T06:45:21.377Z"
   },
   {
    "duration": 133,
    "start_time": "2022-06-12T06:45:23.209Z"
   },
   {
    "duration": 172,
    "start_time": "2022-06-12T06:46:25.967Z"
   },
   {
    "duration": 140,
    "start_time": "2022-06-12T06:51:45.846Z"
   },
   {
    "duration": 181,
    "start_time": "2022-06-12T06:52:38.870Z"
   },
   {
    "duration": 143,
    "start_time": "2022-06-12T06:53:06.268Z"
   },
   {
    "duration": 326,
    "start_time": "2022-06-12T06:55:28.947Z"
   },
   {
    "duration": 333,
    "start_time": "2022-06-12T06:56:11.754Z"
   },
   {
    "duration": 7,
    "start_time": "2022-06-12T06:56:54.638Z"
   },
   {
    "duration": 13,
    "start_time": "2022-06-12T06:57:34.833Z"
   },
   {
    "duration": 15,
    "start_time": "2022-06-12T06:57:38.982Z"
   },
   {
    "duration": 23,
    "start_time": "2022-06-12T06:57:45.803Z"
   },
   {
    "duration": 362,
    "start_time": "2022-06-12T07:02:02.472Z"
   },
   {
    "duration": 3,
    "start_time": "2022-06-12T07:02:06.002Z"
   },
   {
    "duration": 52,
    "start_time": "2022-06-12T07:02:06.007Z"
   },
   {
    "duration": 50,
    "start_time": "2022-06-12T07:02:06.060Z"
   },
   {
    "duration": 5,
    "start_time": "2022-06-12T07:02:06.113Z"
   },
   {
    "duration": 21,
    "start_time": "2022-06-12T07:02:06.120Z"
   },
   {
    "duration": 22,
    "start_time": "2022-06-12T07:02:06.145Z"
   },
   {
    "duration": 14,
    "start_time": "2022-06-12T07:02:06.169Z"
   },
   {
    "duration": 14,
    "start_time": "2022-06-12T07:02:06.185Z"
   },
   {
    "duration": 63,
    "start_time": "2022-06-12T07:02:06.203Z"
   },
   {
    "duration": 23,
    "start_time": "2022-06-12T07:02:06.269Z"
   },
   {
    "duration": 357,
    "start_time": "2022-06-12T07:02:06.294Z"
   },
   {
    "duration": 24,
    "start_time": "2022-06-12T07:02:06.653Z"
   },
   {
    "duration": 9,
    "start_time": "2022-06-12T07:02:06.679Z"
   },
   {
    "duration": 40,
    "start_time": "2022-06-12T07:02:06.689Z"
   },
   {
    "duration": 25,
    "start_time": "2022-06-12T07:02:06.731Z"
   },
   {
    "duration": 20,
    "start_time": "2022-06-12T07:02:06.759Z"
   },
   {
    "duration": 2131,
    "start_time": "2022-06-12T07:02:06.781Z"
   },
   {
    "duration": 7,
    "start_time": "2022-06-12T07:02:08.915Z"
   },
   {
    "duration": 41,
    "start_time": "2022-06-12T07:02:08.925Z"
   },
   {
    "duration": 15,
    "start_time": "2022-06-12T07:02:08.969Z"
   },
   {
    "duration": 10,
    "start_time": "2022-06-12T07:02:08.987Z"
   },
   {
    "duration": 8,
    "start_time": "2022-06-12T07:02:08.999Z"
   },
   {
    "duration": 22,
    "start_time": "2022-06-12T07:02:09.009Z"
   },
   {
    "duration": 36,
    "start_time": "2022-06-12T07:02:09.035Z"
   },
   {
    "duration": 23,
    "start_time": "2022-06-12T07:02:09.073Z"
   },
   {
    "duration": 19,
    "start_time": "2022-06-12T07:02:09.099Z"
   },
   {
    "duration": 11,
    "start_time": "2022-06-12T07:02:09.121Z"
   },
   {
    "duration": 21,
    "start_time": "2022-06-12T07:02:09.134Z"
   },
   {
    "duration": 23,
    "start_time": "2022-06-12T07:02:09.157Z"
   },
   {
    "duration": 14,
    "start_time": "2022-06-12T07:02:09.182Z"
   },
   {
    "duration": 27,
    "start_time": "2022-06-12T07:02:09.198Z"
   },
   {
    "duration": 16,
    "start_time": "2022-06-12T07:02:09.227Z"
   },
   {
    "duration": 25,
    "start_time": "2022-06-12T07:02:09.244Z"
   },
   {
    "duration": 17,
    "start_time": "2022-06-12T07:02:09.271Z"
   },
   {
    "duration": 38,
    "start_time": "2022-06-12T07:02:09.290Z"
   },
   {
    "duration": 28,
    "start_time": "2022-06-12T07:02:09.330Z"
   },
   {
    "duration": 519,
    "start_time": "2022-06-12T07:02:09.360Z"
   },
   {
    "duration": 359,
    "start_time": "2022-06-12T07:02:09.880Z"
   },
   {
    "duration": 183,
    "start_time": "2022-06-12T07:02:10.241Z"
   },
   {
    "duration": 14,
    "start_time": "2022-06-12T07:02:10.425Z"
   },
   {
    "duration": 38,
    "start_time": "2022-06-12T07:02:10.441Z"
   },
   {
    "duration": 32,
    "start_time": "2022-06-12T07:02:10.481Z"
   },
   {
    "duration": 160,
    "start_time": "2022-06-12T07:02:10.515Z"
   },
   {
    "duration": 149,
    "start_time": "2022-06-12T07:02:10.677Z"
   },
   {
    "duration": 11,
    "start_time": "2022-06-12T07:02:10.828Z"
   },
   {
    "duration": 0,
    "start_time": "2022-06-12T07:02:10.841Z"
   },
   {
    "duration": 0,
    "start_time": "2022-06-12T07:02:10.842Z"
   },
   {
    "duration": 5,
    "start_time": "2022-06-12T07:02:30.921Z"
   },
   {
    "duration": 3,
    "start_time": "2022-06-12T07:05:26.927Z"
   },
   {
    "duration": 54,
    "start_time": "2022-06-12T07:05:26.932Z"
   },
   {
    "duration": 52,
    "start_time": "2022-06-12T07:05:26.988Z"
   },
   {
    "duration": 5,
    "start_time": "2022-06-12T07:05:27.042Z"
   },
   {
    "duration": 4,
    "start_time": "2022-06-12T07:05:27.065Z"
   },
   {
    "duration": 10,
    "start_time": "2022-06-12T07:05:27.070Z"
   },
   {
    "duration": 15,
    "start_time": "2022-06-12T07:05:27.082Z"
   },
   {
    "duration": 113,
    "start_time": "2022-06-12T07:05:27.099Z"
   },
   {
    "duration": 27,
    "start_time": "2022-06-12T07:05:27.214Z"
   },
   {
    "duration": 26,
    "start_time": "2022-06-12T07:05:27.243Z"
   },
   {
    "duration": 336,
    "start_time": "2022-06-12T07:05:27.271Z"
   },
   {
    "duration": 16,
    "start_time": "2022-06-12T07:05:27.609Z"
   },
   {
    "duration": 7,
    "start_time": "2022-06-12T07:05:27.627Z"
   },
   {
    "duration": 36,
    "start_time": "2022-06-12T07:05:27.636Z"
   },
   {
    "duration": 4,
    "start_time": "2022-06-12T07:05:27.674Z"
   },
   {
    "duration": 13,
    "start_time": "2022-06-12T07:05:27.750Z"
   },
   {
    "duration": 2028,
    "start_time": "2022-06-12T07:05:27.765Z"
   },
   {
    "duration": 6,
    "start_time": "2022-06-12T07:05:29.795Z"
   },
   {
    "duration": 13,
    "start_time": "2022-06-12T07:05:29.804Z"
   },
   {
    "duration": 53,
    "start_time": "2022-06-12T07:05:29.820Z"
   },
   {
    "duration": 8,
    "start_time": "2022-06-12T07:05:29.876Z"
   },
   {
    "duration": 12,
    "start_time": "2022-06-12T07:05:29.886Z"
   },
   {
    "duration": 15,
    "start_time": "2022-06-12T07:05:29.899Z"
   },
   {
    "duration": 7,
    "start_time": "2022-06-12T07:05:29.916Z"
   },
   {
    "duration": 6,
    "start_time": "2022-06-12T07:05:29.924Z"
   },
   {
    "duration": 36,
    "start_time": "2022-06-12T07:05:29.932Z"
   },
   {
    "duration": 5,
    "start_time": "2022-06-12T07:05:29.969Z"
   },
   {
    "duration": 18,
    "start_time": "2022-06-12T07:05:29.975Z"
   },
   {
    "duration": 15,
    "start_time": "2022-06-12T07:05:29.996Z"
   },
   {
    "duration": 7,
    "start_time": "2022-06-12T07:05:30.013Z"
   },
   {
    "duration": 50,
    "start_time": "2022-06-12T07:05:30.022Z"
   },
   {
    "duration": 14,
    "start_time": "2022-06-12T07:05:30.074Z"
   },
   {
    "duration": 10,
    "start_time": "2022-06-12T07:05:30.090Z"
   },
   {
    "duration": 6,
    "start_time": "2022-06-12T07:05:30.102Z"
   },
   {
    "duration": 56,
    "start_time": "2022-06-12T07:05:30.110Z"
   },
   {
    "duration": 28,
    "start_time": "2022-06-12T07:05:30.168Z"
   },
   {
    "duration": 544,
    "start_time": "2022-06-12T07:05:30.198Z"
   },
   {
    "duration": 350,
    "start_time": "2022-06-12T07:05:30.745Z"
   },
   {
    "duration": 187,
    "start_time": "2022-06-12T07:05:31.097Z"
   },
   {
    "duration": 14,
    "start_time": "2022-06-12T07:05:31.286Z"
   },
   {
    "duration": 45,
    "start_time": "2022-06-12T07:05:31.302Z"
   },
   {
    "duration": 42,
    "start_time": "2022-06-12T07:05:31.349Z"
   },
   {
    "duration": 250,
    "start_time": "2022-06-12T07:05:31.393Z"
   },
   {
    "duration": 145,
    "start_time": "2022-06-12T07:05:31.644Z"
   },
   {
    "duration": 5,
    "start_time": "2022-06-12T07:05:31.791Z"
   },
   {
    "duration": 167,
    "start_time": "2022-06-12T07:05:31.797Z"
   },
   {
    "duration": 152,
    "start_time": "2022-06-12T07:05:31.966Z"
   },
   {
    "duration": 2,
    "start_time": "2022-06-12T07:06:12.696Z"
   },
   {
    "duration": 6,
    "start_time": "2022-06-12T07:18:48.562Z"
   },
   {
    "duration": 4,
    "start_time": "2022-06-12T07:19:57.242Z"
   },
   {
    "duration": 6,
    "start_time": "2022-06-12T07:21:43.441Z"
   },
   {
    "duration": 25,
    "start_time": "2022-06-12T08:39:26.999Z"
   },
   {
    "duration": 28,
    "start_time": "2022-06-12T08:40:01.742Z"
   },
   {
    "duration": 26,
    "start_time": "2022-06-12T08:41:04.209Z"
   },
   {
    "duration": 7,
    "start_time": "2022-06-12T08:43:47.040Z"
   },
   {
    "duration": 7,
    "start_time": "2022-06-12T08:43:52.348Z"
   },
   {
    "duration": 7,
    "start_time": "2022-06-12T08:44:29.760Z"
   },
   {
    "duration": 7,
    "start_time": "2022-06-12T08:44:37.049Z"
   },
   {
    "duration": 22,
    "start_time": "2022-06-12T08:44:54.080Z"
   },
   {
    "duration": 5,
    "start_time": "2022-06-12T08:45:06.740Z"
   },
   {
    "duration": 3,
    "start_time": "2022-06-12T08:57:10.232Z"
   },
   {
    "duration": 8,
    "start_time": "2022-06-12T08:58:27.580Z"
   },
   {
    "duration": 22,
    "start_time": "2022-06-12T08:58:36.412Z"
   },
   {
    "duration": 14,
    "start_time": "2022-06-12T08:58:47.742Z"
   },
   {
    "duration": 7,
    "start_time": "2022-06-12T08:59:24.140Z"
   },
   {
    "duration": 8,
    "start_time": "2022-06-12T09:02:35.962Z"
   },
   {
    "duration": 9,
    "start_time": "2022-06-12T09:03:26.476Z"
   },
   {
    "duration": 192,
    "start_time": "2022-06-12T09:03:59.248Z"
   },
   {
    "duration": 209,
    "start_time": "2022-06-12T09:04:49.750Z"
   },
   {
    "duration": 10,
    "start_time": "2022-06-12T09:05:33.121Z"
   },
   {
    "duration": 190,
    "start_time": "2022-06-12T09:05:40.270Z"
   },
   {
    "duration": 182,
    "start_time": "2022-06-12T09:06:18.382Z"
   },
   {
    "duration": 22,
    "start_time": "2022-06-12T09:10:58.190Z"
   },
   {
    "duration": 721,
    "start_time": "2022-06-12T09:17:10.561Z"
   },
   {
    "duration": 3,
    "start_time": "2022-06-12T09:18:21.521Z"
   },
   {
    "duration": 37,
    "start_time": "2022-06-12T09:19:14.431Z"
   },
   {
    "duration": 7,
    "start_time": "2022-06-12T09:21:27.002Z"
   },
   {
    "duration": 23,
    "start_time": "2022-06-12T09:21:52.148Z"
   },
   {
    "duration": 6,
    "start_time": "2022-06-12T09:22:03.299Z"
   },
   {
    "duration": 6,
    "start_time": "2022-06-12T09:22:28.470Z"
   },
   {
    "duration": 23,
    "start_time": "2022-06-12T09:23:31.198Z"
   },
   {
    "duration": 5,
    "start_time": "2022-06-12T09:24:04.250Z"
   },
   {
    "duration": 7,
    "start_time": "2022-06-12T09:24:13.860Z"
   },
   {
    "duration": 13,
    "start_time": "2022-06-12T09:28:19.470Z"
   },
   {
    "duration": 20,
    "start_time": "2022-06-12T09:31:28.290Z"
   },
   {
    "duration": 68,
    "start_time": "2022-06-12T09:31:41.620Z"
   },
   {
    "duration": 146,
    "start_time": "2022-06-12T09:35:56.271Z"
   },
   {
    "duration": 19,
    "start_time": "2022-06-12T09:37:40.628Z"
   },
   {
    "duration": 56,
    "start_time": "2022-06-12T09:37:49.238Z"
   },
   {
    "duration": 12,
    "start_time": "2022-06-12T09:40:32.417Z"
   },
   {
    "duration": 12,
    "start_time": "2022-06-12T09:41:04.117Z"
   },
   {
    "duration": 12,
    "start_time": "2022-06-12T09:43:35.972Z"
   },
   {
    "duration": 15,
    "start_time": "2022-06-12T09:49:25.439Z"
   },
   {
    "duration": 15,
    "start_time": "2022-06-12T09:49:45.952Z"
   },
   {
    "duration": 13,
    "start_time": "2022-06-12T09:50:22.356Z"
   },
   {
    "duration": 13,
    "start_time": "2022-06-12T09:51:45.287Z"
   },
   {
    "duration": 2,
    "start_time": "2022-06-12T09:57:39.440Z"
   },
   {
    "duration": 3,
    "start_time": "2022-06-12T09:57:52.619Z"
   },
   {
    "duration": 14,
    "start_time": "2022-06-12T09:59:53.723Z"
   },
   {
    "duration": 21,
    "start_time": "2022-06-12T10:00:28.555Z"
   },
   {
    "duration": 19,
    "start_time": "2022-06-12T10:01:15.341Z"
   },
   {
    "duration": 11,
    "start_time": "2022-06-12T10:21:21.064Z"
   },
   {
    "duration": 46,
    "start_time": "2022-06-12T17:50:40.128Z"
   },
   {
    "duration": 784,
    "start_time": "2022-06-12T17:50:46.168Z"
   },
   {
    "duration": 96,
    "start_time": "2022-06-12T17:50:46.954Z"
   },
   {
    "duration": 50,
    "start_time": "2022-06-12T17:50:47.052Z"
   },
   {
    "duration": 4,
    "start_time": "2022-06-12T17:50:47.104Z"
   },
   {
    "duration": 8,
    "start_time": "2022-06-12T17:50:47.110Z"
   },
   {
    "duration": 7,
    "start_time": "2022-06-12T17:50:47.119Z"
   },
   {
    "duration": 37,
    "start_time": "2022-06-12T17:50:47.128Z"
   },
   {
    "duration": 15,
    "start_time": "2022-06-12T17:50:47.167Z"
   },
   {
    "duration": 26,
    "start_time": "2022-06-12T17:50:47.184Z"
   },
   {
    "duration": 15,
    "start_time": "2022-06-12T17:50:47.214Z"
   },
   {
    "duration": 343,
    "start_time": "2022-06-12T17:50:47.231Z"
   },
   {
    "duration": 18,
    "start_time": "2022-06-12T17:50:47.575Z"
   },
   {
    "duration": 6,
    "start_time": "2022-06-12T17:50:47.595Z"
   },
   {
    "duration": 18,
    "start_time": "2022-06-12T17:50:47.603Z"
   },
   {
    "duration": 4,
    "start_time": "2022-06-12T17:50:47.623Z"
   },
   {
    "duration": 39,
    "start_time": "2022-06-12T17:50:47.629Z"
   },
   {
    "duration": 2041,
    "start_time": "2022-06-12T17:50:47.670Z"
   },
   {
    "duration": 6,
    "start_time": "2022-06-12T17:50:49.713Z"
   },
   {
    "duration": 10,
    "start_time": "2022-06-12T17:50:49.720Z"
   },
   {
    "duration": 14,
    "start_time": "2022-06-12T17:50:49.764Z"
   },
   {
    "duration": 7,
    "start_time": "2022-06-12T17:50:49.779Z"
   },
   {
    "duration": 5,
    "start_time": "2022-06-12T17:50:49.788Z"
   },
   {
    "duration": 15,
    "start_time": "2022-06-12T17:50:49.794Z"
   },
   {
    "duration": 6,
    "start_time": "2022-06-12T17:50:49.810Z"
   },
   {
    "duration": 6,
    "start_time": "2022-06-12T17:50:49.817Z"
   },
   {
    "duration": 40,
    "start_time": "2022-06-12T17:50:49.824Z"
   },
   {
    "duration": 4,
    "start_time": "2022-06-12T17:50:49.865Z"
   },
   {
    "duration": 18,
    "start_time": "2022-06-12T17:50:49.873Z"
   },
   {
    "duration": 15,
    "start_time": "2022-06-12T17:50:49.892Z"
   },
   {
    "duration": 7,
    "start_time": "2022-06-12T17:50:49.909Z"
   },
   {
    "duration": 13,
    "start_time": "2022-06-12T17:50:49.918Z"
   },
   {
    "duration": 46,
    "start_time": "2022-06-12T17:50:49.932Z"
   },
   {
    "duration": 7,
    "start_time": "2022-06-12T17:50:49.980Z"
   },
   {
    "duration": 7,
    "start_time": "2022-06-12T17:50:49.988Z"
   },
   {
    "duration": 27,
    "start_time": "2022-06-12T17:50:49.996Z"
   },
   {
    "duration": 54,
    "start_time": "2022-06-12T17:50:50.025Z"
   },
   {
    "duration": 476,
    "start_time": "2022-06-12T17:50:50.081Z"
   },
   {
    "duration": 336,
    "start_time": "2022-06-12T17:50:50.564Z"
   },
   {
    "duration": 206,
    "start_time": "2022-06-12T17:50:50.902Z"
   },
   {
    "duration": 13,
    "start_time": "2022-06-12T17:50:51.109Z"
   },
   {
    "duration": 49,
    "start_time": "2022-06-12T17:50:51.125Z"
   },
   {
    "duration": 24,
    "start_time": "2022-06-12T17:50:51.175Z"
   },
   {
    "duration": 179,
    "start_time": "2022-06-12T17:50:51.201Z"
   },
   {
    "duration": 146,
    "start_time": "2022-06-12T17:50:51.381Z"
   },
   {
    "duration": 5,
    "start_time": "2022-06-12T17:50:51.529Z"
   },
   {
    "duration": 154,
    "start_time": "2022-06-12T17:50:51.535Z"
   },
   {
    "duration": 156,
    "start_time": "2022-06-12T17:50:51.690Z"
   },
   {
    "duration": 5,
    "start_time": "2022-06-12T17:50:51.848Z"
   },
   {
    "duration": 14,
    "start_time": "2022-06-12T17:50:51.865Z"
   },
   {
    "duration": 11,
    "start_time": "2022-06-12T17:50:51.880Z"
   },
   {
    "duration": 291,
    "start_time": "2022-06-12T17:50:51.893Z"
   },
   {
    "duration": 18,
    "start_time": "2022-06-12T17:50:52.186Z"
   },
   {
    "duration": 14,
    "start_time": "2022-06-12T17:50:52.206Z"
   },
   {
    "duration": 12,
    "start_time": "2022-06-12T17:50:52.222Z"
   },
   {
    "duration": 39,
    "start_time": "2022-06-12T17:50:52.235Z"
   },
   {
    "duration": 11,
    "start_time": "2022-06-12T17:51:11.619Z"
   },
   {
    "duration": 11,
    "start_time": "2022-06-12T17:51:25.518Z"
   },
   {
    "duration": 13,
    "start_time": "2022-06-12T17:53:32.059Z"
   },
   {
    "duration": 15,
    "start_time": "2022-06-12T17:57:18.620Z"
   },
   {
    "duration": 11,
    "start_time": "2022-06-12T18:04:51.461Z"
   },
   {
    "duration": 14,
    "start_time": "2022-06-12T18:05:32.822Z"
   },
   {
    "duration": 14,
    "start_time": "2022-06-12T18:05:44.901Z"
   },
   {
    "duration": 6,
    "start_time": "2022-06-12T18:07:11.442Z"
   },
   {
    "duration": 44,
    "start_time": "2022-06-12T18:09:22.272Z"
   },
   {
    "duration": 7,
    "start_time": "2022-06-12T18:10:32.222Z"
   },
   {
    "duration": 13,
    "start_time": "2022-06-12T18:11:10.482Z"
   },
   {
    "duration": 4,
    "start_time": "2022-06-12T18:12:05.250Z"
   },
   {
    "duration": 63,
    "start_time": "2022-06-12T18:12:05.266Z"
   },
   {
    "duration": 50,
    "start_time": "2022-06-12T18:12:05.331Z"
   },
   {
    "duration": 6,
    "start_time": "2022-06-12T18:12:05.382Z"
   },
   {
    "duration": 5,
    "start_time": "2022-06-12T18:12:05.390Z"
   },
   {
    "duration": 9,
    "start_time": "2022-06-12T18:12:05.397Z"
   },
   {
    "duration": 14,
    "start_time": "2022-06-12T18:12:05.408Z"
   },
   {
    "duration": 47,
    "start_time": "2022-06-12T18:12:05.424Z"
   },
   {
    "duration": 28,
    "start_time": "2022-06-12T18:12:05.473Z"
   },
   {
    "duration": 15,
    "start_time": "2022-06-12T18:12:05.502Z"
   },
   {
    "duration": 350,
    "start_time": "2022-06-12T18:12:05.520Z"
   },
   {
    "duration": 19,
    "start_time": "2022-06-12T18:12:05.872Z"
   },
   {
    "duration": 9,
    "start_time": "2022-06-12T18:12:05.892Z"
   },
   {
    "duration": 25,
    "start_time": "2022-06-12T18:12:05.903Z"
   },
   {
    "duration": 8,
    "start_time": "2022-06-12T18:12:05.930Z"
   },
   {
    "duration": 38,
    "start_time": "2022-06-12T18:12:05.939Z"
   },
   {
    "duration": 1912,
    "start_time": "2022-06-12T18:12:05.979Z"
   },
   {
    "duration": 11,
    "start_time": "2022-06-12T18:12:07.899Z"
   },
   {
    "duration": 6,
    "start_time": "2022-06-12T18:12:07.912Z"
   },
   {
    "duration": 53,
    "start_time": "2022-06-12T18:12:07.920Z"
   },
   {
    "duration": 8,
    "start_time": "2022-06-12T18:12:07.975Z"
   },
   {
    "duration": 5,
    "start_time": "2022-06-12T18:12:07.985Z"
   },
   {
    "duration": 15,
    "start_time": "2022-06-12T18:12:07.992Z"
   },
   {
    "duration": 8,
    "start_time": "2022-06-12T18:12:08.009Z"
   },
   {
    "duration": 5,
    "start_time": "2022-06-12T18:12:08.018Z"
   },
   {
    "duration": 43,
    "start_time": "2022-06-12T18:12:08.024Z"
   },
   {
    "duration": 6,
    "start_time": "2022-06-12T18:12:08.069Z"
   },
   {
    "duration": 21,
    "start_time": "2022-06-12T18:12:08.077Z"
   },
   {
    "duration": 21,
    "start_time": "2022-06-12T18:12:08.102Z"
   },
   {
    "duration": 10,
    "start_time": "2022-06-12T18:12:08.125Z"
   },
   {
    "duration": 47,
    "start_time": "2022-06-12T18:12:08.137Z"
   },
   {
    "duration": 21,
    "start_time": "2022-06-12T18:12:08.186Z"
   },
   {
    "duration": 7,
    "start_time": "2022-06-12T18:12:08.210Z"
   },
   {
    "duration": 7,
    "start_time": "2022-06-12T18:12:08.219Z"
   },
   {
    "duration": 51,
    "start_time": "2022-06-12T18:12:08.228Z"
   },
   {
    "duration": 35,
    "start_time": "2022-06-12T18:12:08.281Z"
   },
   {
    "duration": 629,
    "start_time": "2022-06-12T18:12:08.318Z"
   },
   {
    "duration": 365,
    "start_time": "2022-06-12T18:12:08.949Z"
   },
   {
    "duration": 304,
    "start_time": "2022-06-12T18:12:09.315Z"
   },
   {
    "duration": 13,
    "start_time": "2022-06-12T18:12:09.620Z"
   },
   {
    "duration": 42,
    "start_time": "2022-06-12T18:12:09.634Z"
   },
   {
    "duration": 23,
    "start_time": "2022-06-12T18:12:09.677Z"
   },
   {
    "duration": 162,
    "start_time": "2022-06-12T18:12:09.702Z"
   },
   {
    "duration": 149,
    "start_time": "2022-06-12T18:12:09.866Z"
   },
   {
    "duration": 7,
    "start_time": "2022-06-12T18:12:10.016Z"
   },
   {
    "duration": 179,
    "start_time": "2022-06-12T18:12:10.025Z"
   },
   {
    "duration": 144,
    "start_time": "2022-06-12T18:12:10.206Z"
   },
   {
    "duration": 18,
    "start_time": "2022-06-12T18:12:10.351Z"
   },
   {
    "duration": 17,
    "start_time": "2022-06-12T18:12:10.370Z"
   },
   {
    "duration": 16,
    "start_time": "2022-06-12T18:12:10.389Z"
   },
   {
    "duration": 219,
    "start_time": "2022-06-12T18:12:10.407Z"
   },
   {
    "duration": 15,
    "start_time": "2022-06-12T18:12:10.628Z"
   },
   {
    "duration": 26,
    "start_time": "2022-06-12T18:12:10.645Z"
   },
   {
    "duration": 9,
    "start_time": "2022-06-12T18:12:10.673Z"
   },
   {
    "duration": 0,
    "start_time": "2022-06-12T18:12:10.683Z"
   },
   {
    "duration": 0,
    "start_time": "2022-06-12T18:12:10.684Z"
   },
   {
    "duration": 12,
    "start_time": "2022-06-12T18:14:00.760Z"
   },
   {
    "duration": 164,
    "start_time": "2022-06-12T18:14:41.376Z"
   },
   {
    "duration": 148,
    "start_time": "2022-06-12T18:15:10.082Z"
   },
   {
    "duration": 92,
    "start_time": "2022-06-12T18:15:43.373Z"
   },
   {
    "duration": 158,
    "start_time": "2022-06-12T18:16:08.794Z"
   },
   {
    "duration": 11,
    "start_time": "2022-06-12T18:16:16.975Z"
   },
   {
    "duration": 173,
    "start_time": "2022-06-12T18:16:27.104Z"
   },
   {
    "duration": 172,
    "start_time": "2022-06-12T18:17:00.414Z"
   },
   {
    "duration": 225,
    "start_time": "2022-06-12T18:17:10.803Z"
   },
   {
    "duration": 29,
    "start_time": "2022-06-12T18:18:26.374Z"
   },
   {
    "duration": 10,
    "start_time": "2022-06-12T18:18:40.312Z"
   },
   {
    "duration": 206,
    "start_time": "2022-06-12T18:18:52.900Z"
   },
   {
    "duration": 194,
    "start_time": "2022-06-12T18:20:50.953Z"
   },
   {
    "duration": 94,
    "start_time": "2022-06-12T18:36:40.642Z"
   },
   {
    "duration": 28,
    "start_time": "2022-06-12T18:38:18.736Z"
   },
   {
    "duration": 199,
    "start_time": "2022-06-12T18:38:44.406Z"
   },
   {
    "duration": 215,
    "start_time": "2022-06-12T18:39:31.508Z"
   },
   {
    "duration": 218,
    "start_time": "2022-06-12T18:40:03.536Z"
   },
   {
    "duration": 213,
    "start_time": "2022-06-12T18:40:39.346Z"
   },
   {
    "duration": 199,
    "start_time": "2022-06-12T18:47:41.613Z"
   },
   {
    "duration": 13,
    "start_time": "2022-06-12T18:50:39.300Z"
   },
   {
    "duration": 13,
    "start_time": "2022-06-12T18:50:42.180Z"
   },
   {
    "duration": 3,
    "start_time": "2022-06-12T19:23:22.656Z"
   },
   {
    "duration": 817,
    "start_time": "2022-06-13T06:34:52.242Z"
   },
   {
    "duration": 187,
    "start_time": "2022-06-13T06:34:53.061Z"
   },
   {
    "duration": 51,
    "start_time": "2022-06-13T06:34:53.250Z"
   },
   {
    "duration": 4,
    "start_time": "2022-06-13T06:34:53.303Z"
   },
   {
    "duration": 6,
    "start_time": "2022-06-13T06:34:53.309Z"
   },
   {
    "duration": 8,
    "start_time": "2022-06-13T06:34:53.316Z"
   },
   {
    "duration": 22,
    "start_time": "2022-06-13T06:34:53.326Z"
   },
   {
    "duration": 15,
    "start_time": "2022-06-13T06:34:53.349Z"
   },
   {
    "duration": 29,
    "start_time": "2022-06-13T06:34:53.378Z"
   },
   {
    "duration": 16,
    "start_time": "2022-06-13T06:34:53.408Z"
   },
   {
    "duration": 416,
    "start_time": "2022-06-13T06:34:53.425Z"
   },
   {
    "duration": 36,
    "start_time": "2022-06-13T06:34:53.843Z"
   },
   {
    "duration": 9,
    "start_time": "2022-06-13T06:34:53.883Z"
   },
   {
    "duration": 41,
    "start_time": "2022-06-13T06:34:53.896Z"
   },
   {
    "duration": 7,
    "start_time": "2022-06-13T06:34:53.939Z"
   },
   {
    "duration": 30,
    "start_time": "2022-06-13T06:34:53.948Z"
   },
   {
    "duration": 1937,
    "start_time": "2022-06-13T06:34:53.980Z"
   },
   {
    "duration": 6,
    "start_time": "2022-06-13T06:34:55.919Z"
   },
   {
    "duration": 26,
    "start_time": "2022-06-13T06:34:55.927Z"
   },
   {
    "duration": 37,
    "start_time": "2022-06-13T06:34:55.955Z"
   },
   {
    "duration": 12,
    "start_time": "2022-06-13T06:34:55.994Z"
   },
   {
    "duration": 8,
    "start_time": "2022-06-13T06:34:56.007Z"
   },
   {
    "duration": 18,
    "start_time": "2022-06-13T06:34:56.016Z"
   },
   {
    "duration": 6,
    "start_time": "2022-06-13T06:34:56.035Z"
   },
   {
    "duration": 4,
    "start_time": "2022-06-13T06:34:56.043Z"
   },
   {
    "duration": 7,
    "start_time": "2022-06-13T06:34:56.049Z"
   },
   {
    "duration": 22,
    "start_time": "2022-06-13T06:34:56.058Z"
   },
   {
    "duration": 13,
    "start_time": "2022-06-13T06:34:56.081Z"
   },
   {
    "duration": 13,
    "start_time": "2022-06-13T06:34:56.096Z"
   },
   {
    "duration": 7,
    "start_time": "2022-06-13T06:34:56.110Z"
   },
   {
    "duration": 16,
    "start_time": "2022-06-13T06:34:56.119Z"
   },
   {
    "duration": 42,
    "start_time": "2022-06-13T06:34:56.137Z"
   },
   {
    "duration": 8,
    "start_time": "2022-06-13T06:34:56.181Z"
   },
   {
    "duration": 7,
    "start_time": "2022-06-13T06:34:56.191Z"
   },
   {
    "duration": 28,
    "start_time": "2022-06-13T06:34:56.200Z"
   },
   {
    "duration": 50,
    "start_time": "2022-06-13T06:34:56.229Z"
   },
   {
    "duration": 510,
    "start_time": "2022-06-13T06:34:56.281Z"
   },
   {
    "duration": 322,
    "start_time": "2022-06-13T06:34:56.793Z"
   },
   {
    "duration": 182,
    "start_time": "2022-06-13T06:34:57.116Z"
   },
   {
    "duration": 13,
    "start_time": "2022-06-13T06:34:57.300Z"
   },
   {
    "duration": 25,
    "start_time": "2022-06-13T06:34:57.317Z"
   },
   {
    "duration": 46,
    "start_time": "2022-06-13T06:34:57.343Z"
   },
   {
    "duration": 163,
    "start_time": "2022-06-13T06:34:57.391Z"
   },
   {
    "duration": 189,
    "start_time": "2022-06-13T06:34:57.555Z"
   },
   {
    "duration": 5,
    "start_time": "2022-06-13T06:34:57.746Z"
   },
   {
    "duration": 155,
    "start_time": "2022-06-13T06:34:57.753Z"
   },
   {
    "duration": 205,
    "start_time": "2022-06-13T06:34:57.910Z"
   },
   {
    "duration": 6,
    "start_time": "2022-06-13T06:34:58.116Z"
   },
   {
    "duration": 27,
    "start_time": "2022-06-13T06:34:58.124Z"
   },
   {
    "duration": 9,
    "start_time": "2022-06-13T06:34:58.153Z"
   },
   {
    "duration": 206,
    "start_time": "2022-06-13T06:34:58.163Z"
   },
   {
    "duration": 17,
    "start_time": "2022-06-13T06:34:58.371Z"
   },
   {
    "duration": 13,
    "start_time": "2022-06-13T06:34:58.389Z"
   },
   {
    "duration": 78,
    "start_time": "2022-06-13T06:34:58.403Z"
   },
   {
    "duration": 0,
    "start_time": "2022-06-13T06:34:58.483Z"
   },
   {
    "duration": 0,
    "start_time": "2022-06-13T06:34:58.484Z"
   },
   {
    "duration": 175,
    "start_time": "2022-06-13T06:35:53.063Z"
   },
   {
    "duration": 11,
    "start_time": "2022-06-13T06:36:42.782Z"
   },
   {
    "duration": 11,
    "start_time": "2022-06-13T06:36:45.775Z"
   },
   {
    "duration": 3,
    "start_time": "2022-06-13T08:07:36.662Z"
   },
   {
    "duration": 16,
    "start_time": "2022-06-13T08:09:12.696Z"
   },
   {
    "duration": 29,
    "start_time": "2022-06-13T08:16:17.019Z"
   },
   {
    "duration": 27,
    "start_time": "2022-06-13T08:16:43.103Z"
   },
   {
    "duration": 31,
    "start_time": "2022-06-13T08:17:40.035Z"
   },
   {
    "duration": 23,
    "start_time": "2022-06-13T08:17:47.243Z"
   },
   {
    "duration": 14,
    "start_time": "2022-06-13T08:17:51.773Z"
   },
   {
    "duration": 24,
    "start_time": "2022-06-13T08:17:59.183Z"
   },
   {
    "duration": 3,
    "start_time": "2022-06-13T08:18:08.001Z"
   },
   {
    "duration": 59,
    "start_time": "2022-06-13T08:18:08.008Z"
   },
   {
    "duration": 47,
    "start_time": "2022-06-13T08:18:08.068Z"
   },
   {
    "duration": 4,
    "start_time": "2022-06-13T08:18:08.116Z"
   },
   {
    "duration": 51,
    "start_time": "2022-06-13T08:18:08.122Z"
   },
   {
    "duration": 54,
    "start_time": "2022-06-13T08:18:08.176Z"
   },
   {
    "duration": 64,
    "start_time": "2022-06-13T08:18:08.232Z"
   },
   {
    "duration": 36,
    "start_time": "2022-06-13T08:18:08.298Z"
   },
   {
    "duration": 35,
    "start_time": "2022-06-13T08:18:08.335Z"
   },
   {
    "duration": 13,
    "start_time": "2022-06-13T08:18:08.372Z"
   },
   {
    "duration": 314,
    "start_time": "2022-06-13T08:18:08.387Z"
   },
   {
    "duration": 15,
    "start_time": "2022-06-13T08:18:08.702Z"
   },
   {
    "duration": 6,
    "start_time": "2022-06-13T08:18:08.719Z"
   },
   {
    "duration": 19,
    "start_time": "2022-06-13T08:18:08.726Z"
   },
   {
    "duration": 29,
    "start_time": "2022-06-13T08:18:08.749Z"
   },
   {
    "duration": 11,
    "start_time": "2022-06-13T08:18:08.779Z"
   },
   {
    "duration": 1697,
    "start_time": "2022-06-13T08:18:08.791Z"
   },
   {
    "duration": 6,
    "start_time": "2022-06-13T08:18:10.489Z"
   },
   {
    "duration": 9,
    "start_time": "2022-06-13T08:18:10.496Z"
   },
   {
    "duration": 11,
    "start_time": "2022-06-13T08:18:10.507Z"
   },
   {
    "duration": 6,
    "start_time": "2022-06-13T08:18:10.519Z"
   },
   {
    "duration": 5,
    "start_time": "2022-06-13T08:18:10.526Z"
   },
   {
    "duration": 11,
    "start_time": "2022-06-13T08:18:10.532Z"
   },
   {
    "duration": 36,
    "start_time": "2022-06-13T08:18:10.544Z"
   },
   {
    "duration": 6,
    "start_time": "2022-06-13T08:18:10.582Z"
   },
   {
    "duration": 8,
    "start_time": "2022-06-13T08:18:10.589Z"
   },
   {
    "duration": 4,
    "start_time": "2022-06-13T08:18:10.598Z"
   },
   {
    "duration": 12,
    "start_time": "2022-06-13T08:18:10.603Z"
   },
   {
    "duration": 13,
    "start_time": "2022-06-13T08:18:10.616Z"
   },
   {
    "duration": 7,
    "start_time": "2022-06-13T08:18:10.630Z"
   },
   {
    "duration": 40,
    "start_time": "2022-06-13T08:18:10.638Z"
   },
   {
    "duration": 13,
    "start_time": "2022-06-13T08:18:10.680Z"
   },
   {
    "duration": 6,
    "start_time": "2022-06-13T08:18:10.694Z"
   },
   {
    "duration": 6,
    "start_time": "2022-06-13T08:18:10.701Z"
   },
   {
    "duration": 24,
    "start_time": "2022-06-13T08:18:10.709Z"
   },
   {
    "duration": 53,
    "start_time": "2022-06-13T08:18:10.734Z"
   },
   {
    "duration": 509,
    "start_time": "2022-06-13T08:18:10.790Z"
   },
   {
    "duration": 297,
    "start_time": "2022-06-13T08:18:11.300Z"
   },
   {
    "duration": 162,
    "start_time": "2022-06-13T08:18:11.598Z"
   },
   {
    "duration": 16,
    "start_time": "2022-06-13T08:18:11.762Z"
   },
   {
    "duration": 27,
    "start_time": "2022-06-13T08:18:11.779Z"
   },
   {
    "duration": 21,
    "start_time": "2022-06-13T08:18:11.809Z"
   },
   {
    "duration": 149,
    "start_time": "2022-06-13T08:18:11.831Z"
   },
   {
    "duration": 138,
    "start_time": "2022-06-13T08:18:11.981Z"
   },
   {
    "duration": 4,
    "start_time": "2022-06-13T08:18:12.120Z"
   },
   {
    "duration": 135,
    "start_time": "2022-06-13T08:18:12.126Z"
   },
   {
    "duration": 124,
    "start_time": "2022-06-13T08:18:12.263Z"
   },
   {
    "duration": 6,
    "start_time": "2022-06-13T08:18:12.388Z"
   },
   {
    "duration": 18,
    "start_time": "2022-06-13T08:18:12.395Z"
   },
   {
    "duration": 14,
    "start_time": "2022-06-13T08:18:12.414Z"
   },
   {
    "duration": 177,
    "start_time": "2022-06-13T08:18:12.429Z"
   },
   {
    "duration": 13,
    "start_time": "2022-06-13T08:18:12.608Z"
   },
   {
    "duration": 15,
    "start_time": "2022-06-13T08:18:12.622Z"
   },
   {
    "duration": 186,
    "start_time": "2022-06-13T08:18:12.638Z"
   },
   {
    "duration": 12,
    "start_time": "2022-06-13T08:18:12.825Z"
   },
   {
    "duration": 10,
    "start_time": "2022-06-13T08:18:12.839Z"
   },
   {
    "duration": 33,
    "start_time": "2022-06-13T08:18:12.851Z"
   },
   {
    "duration": 25,
    "start_time": "2022-06-13T08:18:12.886Z"
   },
   {
    "duration": 13,
    "start_time": "2022-06-13T08:19:54.784Z"
   },
   {
    "duration": 23,
    "start_time": "2022-06-13T08:48:45.949Z"
   },
   {
    "duration": 16,
    "start_time": "2022-06-13T08:49:11.661Z"
   },
   {
    "duration": 9,
    "start_time": "2022-06-13T08:49:33.090Z"
   },
   {
    "duration": 9,
    "start_time": "2022-06-13T08:50:50.271Z"
   },
   {
    "duration": 9,
    "start_time": "2022-06-13T08:51:35.920Z"
   },
   {
    "duration": 8,
    "start_time": "2022-06-13T08:52:36.609Z"
   },
   {
    "duration": 24,
    "start_time": "2022-06-13T08:52:52.276Z"
   },
   {
    "duration": 22,
    "start_time": "2022-06-13T08:53:13.168Z"
   },
   {
    "duration": 11,
    "start_time": "2022-06-13T08:54:08.706Z"
   },
   {
    "duration": 11,
    "start_time": "2022-06-13T08:54:20.575Z"
   },
   {
    "duration": 10,
    "start_time": "2022-06-13T08:55:03.593Z"
   },
   {
    "duration": 8,
    "start_time": "2022-06-13T08:55:21.966Z"
   },
   {
    "duration": 8,
    "start_time": "2022-06-13T08:55:34.780Z"
   },
   {
    "duration": 9,
    "start_time": "2022-06-13T08:55:43.567Z"
   },
   {
    "duration": 8,
    "start_time": "2022-06-13T08:58:17.833Z"
   },
   {
    "duration": 7,
    "start_time": "2022-06-13T09:00:17.758Z"
   },
   {
    "duration": 93,
    "start_time": "2022-06-13T09:12:52.325Z"
   },
   {
    "duration": 415,
    "start_time": "2022-06-13T09:13:24.575Z"
   },
   {
    "duration": 11,
    "start_time": "2022-06-13T09:13:27.979Z"
   },
   {
    "duration": 11,
    "start_time": "2022-06-13T09:14:26.601Z"
   },
   {
    "duration": 11,
    "start_time": "2022-06-13T09:16:10.197Z"
   },
   {
    "duration": 11,
    "start_time": "2022-06-13T09:17:36.912Z"
   },
   {
    "duration": 14,
    "start_time": "2022-06-13T09:18:28.038Z"
   },
   {
    "duration": 37,
    "start_time": "2022-06-13T09:18:29.839Z"
   },
   {
    "duration": 41,
    "start_time": "2022-06-13T19:12:55.739Z"
   },
   {
    "duration": 1125,
    "start_time": "2022-06-13T19:12:59.337Z"
   },
   {
    "duration": 186,
    "start_time": "2022-06-13T19:13:00.464Z"
   },
   {
    "duration": 53,
    "start_time": "2022-06-13T19:13:00.652Z"
   },
   {
    "duration": 6,
    "start_time": "2022-06-13T19:13:00.707Z"
   },
   {
    "duration": 52,
    "start_time": "2022-06-13T19:13:00.715Z"
   },
   {
    "duration": 9,
    "start_time": "2022-06-13T19:13:00.769Z"
   },
   {
    "duration": 25,
    "start_time": "2022-06-13T19:13:00.779Z"
   },
   {
    "duration": 24,
    "start_time": "2022-06-13T19:13:00.806Z"
   },
   {
    "duration": 35,
    "start_time": "2022-06-13T19:13:00.832Z"
   },
   {
    "duration": 15,
    "start_time": "2022-06-13T19:13:00.869Z"
   },
   {
    "duration": 295,
    "start_time": "2022-06-13T19:13:00.885Z"
   },
   {
    "duration": 16,
    "start_time": "2022-06-13T19:13:01.181Z"
   },
   {
    "duration": 6,
    "start_time": "2022-06-13T19:13:01.199Z"
   },
   {
    "duration": 41,
    "start_time": "2022-06-13T19:13:01.206Z"
   },
   {
    "duration": 3,
    "start_time": "2022-06-13T19:13:01.249Z"
   },
   {
    "duration": 15,
    "start_time": "2022-06-13T19:13:01.254Z"
   },
   {
    "duration": 1468,
    "start_time": "2022-06-13T19:13:01.270Z"
   },
   {
    "duration": 6,
    "start_time": "2022-06-13T19:13:02.740Z"
   },
   {
    "duration": 12,
    "start_time": "2022-06-13T19:13:02.748Z"
   },
   {
    "duration": 27,
    "start_time": "2022-06-13T19:13:02.762Z"
   },
   {
    "duration": 17,
    "start_time": "2022-06-13T19:13:02.791Z"
   },
   {
    "duration": 5,
    "start_time": "2022-06-13T19:13:02.810Z"
   },
   {
    "duration": 21,
    "start_time": "2022-06-13T19:13:02.816Z"
   },
   {
    "duration": 9,
    "start_time": "2022-06-13T19:13:02.842Z"
   },
   {
    "duration": 4,
    "start_time": "2022-06-13T19:13:02.852Z"
   },
   {
    "duration": 10,
    "start_time": "2022-06-13T19:13:02.858Z"
   },
   {
    "duration": 6,
    "start_time": "2022-06-13T19:13:02.870Z"
   },
   {
    "duration": 16,
    "start_time": "2022-06-13T19:13:02.879Z"
   },
   {
    "duration": 40,
    "start_time": "2022-06-13T19:13:02.897Z"
   },
   {
    "duration": 7,
    "start_time": "2022-06-13T19:13:02.939Z"
   },
   {
    "duration": 14,
    "start_time": "2022-06-13T19:13:02.948Z"
   },
   {
    "duration": 13,
    "start_time": "2022-06-13T19:13:02.964Z"
   },
   {
    "duration": 7,
    "start_time": "2022-06-13T19:13:02.979Z"
   },
   {
    "duration": 8,
    "start_time": "2022-06-13T19:13:02.987Z"
   },
   {
    "duration": 52,
    "start_time": "2022-06-13T19:13:02.997Z"
   },
   {
    "duration": 27,
    "start_time": "2022-06-13T19:13:03.051Z"
   },
   {
    "duration": 563,
    "start_time": "2022-06-13T19:13:03.080Z"
   },
   {
    "duration": 363,
    "start_time": "2022-06-13T19:13:03.645Z"
   },
   {
    "duration": 164,
    "start_time": "2022-06-13T19:13:04.010Z"
   },
   {
    "duration": 11,
    "start_time": "2022-06-13T19:13:04.176Z"
   },
   {
    "duration": 22,
    "start_time": "2022-06-13T19:13:04.189Z"
   },
   {
    "duration": 24,
    "start_time": "2022-06-13T19:13:04.226Z"
   },
   {
    "duration": 138,
    "start_time": "2022-06-13T19:13:04.251Z"
   },
   {
    "duration": 139,
    "start_time": "2022-06-13T19:13:04.391Z"
   },
   {
    "duration": 9,
    "start_time": "2022-06-13T19:13:04.535Z"
   },
   {
    "duration": 142,
    "start_time": "2022-06-13T19:13:04.546Z"
   },
   {
    "duration": 172,
    "start_time": "2022-06-13T19:13:04.689Z"
   },
   {
    "duration": 6,
    "start_time": "2022-06-13T19:13:04.863Z"
   },
   {
    "duration": 16,
    "start_time": "2022-06-13T19:13:04.871Z"
   },
   {
    "duration": 13,
    "start_time": "2022-06-13T19:13:04.889Z"
   },
   {
    "duration": 226,
    "start_time": "2022-06-13T19:13:04.904Z"
   },
   {
    "duration": 17,
    "start_time": "2022-06-13T19:13:05.132Z"
   },
   {
    "duration": 16,
    "start_time": "2022-06-13T19:13:05.151Z"
   },
   {
    "duration": 244,
    "start_time": "2022-06-13T19:13:05.169Z"
   },
   {
    "duration": 25,
    "start_time": "2022-06-13T19:13:05.415Z"
   },
   {
    "duration": 15,
    "start_time": "2022-06-13T19:13:05.441Z"
   },
   {
    "duration": 12,
    "start_time": "2022-06-13T19:13:05.457Z"
   },
   {
    "duration": 13,
    "start_time": "2022-06-13T19:13:05.470Z"
   },
   {
    "duration": 109,
    "start_time": "2022-06-13T19:13:05.485Z"
   },
   {
    "duration": 68,
    "start_time": "2022-06-13T19:20:19.565Z"
   },
   {
    "duration": 14,
    "start_time": "2022-06-13T19:20:36.820Z"
   },
   {
    "duration": 26,
    "start_time": "2022-06-13T19:21:39.320Z"
   },
   {
    "duration": 11,
    "start_time": "2022-06-13T19:24:34.842Z"
   },
   {
    "duration": 24,
    "start_time": "2022-06-13T19:24:53.022Z"
   },
   {
    "duration": 6,
    "start_time": "2022-06-13T19:24:55.542Z"
   },
   {
    "duration": 71,
    "start_time": "2022-06-13T19:24:55.550Z"
   },
   {
    "duration": 61,
    "start_time": "2022-06-13T19:24:55.623Z"
   },
   {
    "duration": 4,
    "start_time": "2022-06-13T19:24:55.686Z"
   },
   {
    "duration": 10,
    "start_time": "2022-06-13T19:24:55.692Z"
   },
   {
    "duration": 34,
    "start_time": "2022-06-13T19:24:55.703Z"
   },
   {
    "duration": 26,
    "start_time": "2022-06-13T19:24:55.745Z"
   },
   {
    "duration": 18,
    "start_time": "2022-06-13T19:24:55.773Z"
   },
   {
    "duration": 33,
    "start_time": "2022-06-13T19:24:55.793Z"
   },
   {
    "duration": 25,
    "start_time": "2022-06-13T19:24:55.830Z"
   },
   {
    "duration": 331,
    "start_time": "2022-06-13T19:24:55.856Z"
   },
   {
    "duration": 16,
    "start_time": "2022-06-13T19:24:56.188Z"
   },
   {
    "duration": 33,
    "start_time": "2022-06-13T19:24:56.206Z"
   },
   {
    "duration": 31,
    "start_time": "2022-06-13T19:24:56.240Z"
   },
   {
    "duration": 4,
    "start_time": "2022-06-13T19:24:56.273Z"
   },
   {
    "duration": 19,
    "start_time": "2022-06-13T19:24:56.278Z"
   },
   {
    "duration": 1465,
    "start_time": "2022-06-13T19:24:56.299Z"
   },
   {
    "duration": 23,
    "start_time": "2022-06-13T19:24:57.770Z"
   },
   {
    "duration": 8,
    "start_time": "2022-06-13T19:24:57.794Z"
   },
   {
    "duration": 19,
    "start_time": "2022-06-13T19:24:57.828Z"
   },
   {
    "duration": 13,
    "start_time": "2022-06-13T19:24:57.849Z"
   },
   {
    "duration": 6,
    "start_time": "2022-06-13T19:24:57.864Z"
   },
   {
    "duration": 16,
    "start_time": "2022-06-13T19:24:57.871Z"
   },
   {
    "duration": 6,
    "start_time": "2022-06-13T19:24:57.888Z"
   },
   {
    "duration": 4,
    "start_time": "2022-06-13T19:24:57.896Z"
   },
   {
    "duration": 9,
    "start_time": "2022-06-13T19:24:57.925Z"
   },
   {
    "duration": 18,
    "start_time": "2022-06-13T19:24:57.936Z"
   },
   {
    "duration": 18,
    "start_time": "2022-06-13T19:24:57.958Z"
   },
   {
    "duration": 18,
    "start_time": "2022-06-13T19:24:57.978Z"
   },
   {
    "duration": 8,
    "start_time": "2022-06-13T19:24:57.998Z"
   },
   {
    "duration": 31,
    "start_time": "2022-06-13T19:24:58.008Z"
   },
   {
    "duration": 25,
    "start_time": "2022-06-13T19:24:58.042Z"
   },
   {
    "duration": 7,
    "start_time": "2022-06-13T19:24:58.069Z"
   },
   {
    "duration": 7,
    "start_time": "2022-06-13T19:24:58.077Z"
   },
   {
    "duration": 53,
    "start_time": "2022-06-13T19:24:58.085Z"
   },
   {
    "duration": 36,
    "start_time": "2022-06-13T19:24:58.140Z"
   },
   {
    "duration": 561,
    "start_time": "2022-06-13T19:24:58.177Z"
   },
   {
    "duration": 337,
    "start_time": "2022-06-13T19:24:58.739Z"
   },
   {
    "duration": 197,
    "start_time": "2022-06-13T19:24:59.077Z"
   },
   {
    "duration": 12,
    "start_time": "2022-06-13T19:24:59.276Z"
   },
   {
    "duration": 42,
    "start_time": "2022-06-13T19:24:59.290Z"
   },
   {
    "duration": 24,
    "start_time": "2022-06-13T19:24:59.333Z"
   },
   {
    "duration": 195,
    "start_time": "2022-06-13T19:24:59.359Z"
   },
   {
    "duration": 200,
    "start_time": "2022-06-13T19:24:59.556Z"
   },
   {
    "duration": 8,
    "start_time": "2022-06-13T19:24:59.758Z"
   },
   {
    "duration": 144,
    "start_time": "2022-06-13T19:24:59.768Z"
   },
   {
    "duration": 162,
    "start_time": "2022-06-13T19:24:59.914Z"
   },
   {
    "duration": 7,
    "start_time": "2022-06-13T19:25:00.078Z"
   },
   {
    "duration": 21,
    "start_time": "2022-06-13T19:25:00.086Z"
   },
   {
    "duration": 24,
    "start_time": "2022-06-13T19:25:00.108Z"
   },
   {
    "duration": 225,
    "start_time": "2022-06-13T19:25:00.134Z"
   },
   {
    "duration": 22,
    "start_time": "2022-06-13T19:25:00.361Z"
   },
   {
    "duration": 18,
    "start_time": "2022-06-13T19:25:00.385Z"
   },
   {
    "duration": 233,
    "start_time": "2022-06-13T19:25:00.405Z"
   },
   {
    "duration": 15,
    "start_time": "2022-06-13T19:25:00.639Z"
   },
   {
    "duration": 20,
    "start_time": "2022-06-13T19:25:00.656Z"
   },
   {
    "duration": 12,
    "start_time": "2022-06-13T19:25:00.678Z"
   },
   {
    "duration": 36,
    "start_time": "2022-06-13T19:25:00.692Z"
   },
   {
    "duration": 5,
    "start_time": "2022-06-13T19:25:35.960Z"
   },
   {
    "duration": 9,
    "start_time": "2022-06-13T19:26:13.764Z"
   },
   {
    "duration": 11,
    "start_time": "2022-06-13T19:27:36.868Z"
   },
   {
    "duration": 19,
    "start_time": "2022-06-13T19:27:39.694Z"
   },
   {
    "duration": 14,
    "start_time": "2022-06-13T19:27:50.563Z"
   },
   {
    "duration": 4,
    "start_time": "2022-06-13T19:27:54.660Z"
   },
   {
    "duration": 49,
    "start_time": "2022-06-13T19:27:54.684Z"
   },
   {
    "duration": 62,
    "start_time": "2022-06-13T19:27:54.735Z"
   },
   {
    "duration": 34,
    "start_time": "2022-06-13T19:27:54.799Z"
   },
   {
    "duration": 25,
    "start_time": "2022-06-13T19:27:54.835Z"
   },
   {
    "duration": 6,
    "start_time": "2022-06-13T19:27:54.863Z"
   },
   {
    "duration": 18,
    "start_time": "2022-06-13T19:27:54.871Z"
   },
   {
    "duration": 14,
    "start_time": "2022-06-13T19:27:54.891Z"
   },
   {
    "duration": 143,
    "start_time": "2022-06-13T19:27:54.907Z"
   },
   {
    "duration": 22,
    "start_time": "2022-06-13T19:27:55.052Z"
   },
   {
    "duration": 312,
    "start_time": "2022-06-13T19:27:55.075Z"
   },
   {
    "duration": 18,
    "start_time": "2022-06-13T19:27:55.389Z"
   },
   {
    "duration": 25,
    "start_time": "2022-06-13T19:27:55.408Z"
   },
   {
    "duration": 42,
    "start_time": "2022-06-13T19:27:55.435Z"
   },
   {
    "duration": 6,
    "start_time": "2022-06-13T19:27:55.481Z"
   },
   {
    "duration": 14,
    "start_time": "2022-06-13T19:27:55.489Z"
   },
   {
    "duration": 1448,
    "start_time": "2022-06-13T19:27:55.506Z"
   },
   {
    "duration": 6,
    "start_time": "2022-06-13T19:27:56.962Z"
   },
   {
    "duration": 7,
    "start_time": "2022-06-13T19:27:56.969Z"
   },
   {
    "duration": 12,
    "start_time": "2022-06-13T19:27:56.978Z"
   },
   {
    "duration": 35,
    "start_time": "2022-06-13T19:27:56.991Z"
   },
   {
    "duration": 8,
    "start_time": "2022-06-13T19:27:57.035Z"
   },
   {
    "duration": 24,
    "start_time": "2022-06-13T19:27:57.045Z"
   },
   {
    "duration": 7,
    "start_time": "2022-06-13T19:27:57.070Z"
   },
   {
    "duration": 7,
    "start_time": "2022-06-13T19:27:57.079Z"
   },
   {
    "duration": 8,
    "start_time": "2022-06-13T19:27:57.087Z"
   },
   {
    "duration": 4,
    "start_time": "2022-06-13T19:27:57.097Z"
   },
   {
    "duration": 41,
    "start_time": "2022-06-13T19:27:57.103Z"
   },
   {
    "duration": 14,
    "start_time": "2022-06-13T19:27:57.146Z"
   },
   {
    "duration": 6,
    "start_time": "2022-06-13T19:27:57.162Z"
   },
   {
    "duration": 14,
    "start_time": "2022-06-13T19:27:57.169Z"
   },
   {
    "duration": 14,
    "start_time": "2022-06-13T19:27:57.184Z"
   },
   {
    "duration": 16,
    "start_time": "2022-06-13T19:27:57.226Z"
   },
   {
    "duration": 9,
    "start_time": "2022-06-13T19:27:57.244Z"
   },
   {
    "duration": 22,
    "start_time": "2022-06-13T19:27:57.255Z"
   },
   {
    "duration": 25,
    "start_time": "2022-06-13T19:27:57.279Z"
   },
   {
    "duration": 482,
    "start_time": "2022-06-13T19:27:57.306Z"
   },
   {
    "duration": 414,
    "start_time": "2022-06-13T19:27:57.790Z"
   },
   {
    "duration": 174,
    "start_time": "2022-06-13T19:27:58.206Z"
   },
   {
    "duration": 13,
    "start_time": "2022-06-13T19:27:58.381Z"
   },
   {
    "duration": 43,
    "start_time": "2022-06-13T19:27:58.396Z"
   },
   {
    "duration": 28,
    "start_time": "2022-06-13T19:27:58.443Z"
   },
   {
    "duration": 144,
    "start_time": "2022-06-13T19:27:58.473Z"
   },
   {
    "duration": 154,
    "start_time": "2022-06-13T19:27:58.625Z"
   },
   {
    "duration": 5,
    "start_time": "2022-06-13T19:27:58.783Z"
   },
   {
    "duration": 154,
    "start_time": "2022-06-13T19:27:58.790Z"
   },
   {
    "duration": 154,
    "start_time": "2022-06-13T19:27:58.946Z"
   },
   {
    "duration": 6,
    "start_time": "2022-06-13T19:27:59.102Z"
   },
   {
    "duration": 34,
    "start_time": "2022-06-13T19:27:59.109Z"
   },
   {
    "duration": 11,
    "start_time": "2022-06-13T19:27:59.144Z"
   },
   {
    "duration": 192,
    "start_time": "2022-06-13T19:27:59.156Z"
   },
   {
    "duration": 19,
    "start_time": "2022-06-13T19:27:59.350Z"
   },
   {
    "duration": 17,
    "start_time": "2022-06-13T19:27:59.371Z"
   },
   {
    "duration": 212,
    "start_time": "2022-06-13T19:27:59.390Z"
   },
   {
    "duration": 22,
    "start_time": "2022-06-13T19:27:59.604Z"
   },
   {
    "duration": 15,
    "start_time": "2022-06-13T19:27:59.629Z"
   },
   {
    "duration": 14,
    "start_time": "2022-06-13T19:27:59.647Z"
   },
   {
    "duration": 13,
    "start_time": "2022-06-13T19:27:59.663Z"
   },
   {
    "duration": 21,
    "start_time": "2022-06-13T19:27:59.678Z"
   },
   {
    "duration": 7,
    "start_time": "2022-06-13T19:28:29.684Z"
   },
   {
    "duration": 4,
    "start_time": "2022-06-13T19:28:59.092Z"
   },
   {
    "duration": 6,
    "start_time": "2022-06-13T19:29:01.662Z"
   },
   {
    "duration": 9,
    "start_time": "2022-06-13T19:29:17.892Z"
   },
   {
    "duration": 14,
    "start_time": "2022-06-13T19:29:58.722Z"
   },
   {
    "duration": 7,
    "start_time": "2022-06-13T19:30:01.142Z"
   },
   {
    "duration": 13,
    "start_time": "2022-06-13T19:30:06.403Z"
   },
   {
    "duration": 8,
    "start_time": "2022-06-13T19:30:07.399Z"
   },
   {
    "duration": 9,
    "start_time": "2022-06-13T19:30:38.372Z"
   },
   {
    "duration": 16,
    "start_time": "2022-06-13T19:30:50.449Z"
   },
   {
    "duration": 21,
    "start_time": "2022-06-13T19:30:52.394Z"
   },
   {
    "duration": 22,
    "start_time": "2022-06-13T19:31:12.885Z"
   },
   {
    "duration": 3,
    "start_time": "2022-06-13T19:31:39.064Z"
   },
   {
    "duration": 4,
    "start_time": "2022-06-13T19:32:28.604Z"
   },
   {
    "duration": 46,
    "start_time": "2022-06-14T03:34:48.882Z"
   },
   {
    "duration": 1159,
    "start_time": "2022-06-14T03:34:52.813Z"
   },
   {
    "duration": 86,
    "start_time": "2022-06-14T03:34:53.974Z"
   },
   {
    "duration": 50,
    "start_time": "2022-06-14T03:34:54.061Z"
   },
   {
    "duration": 5,
    "start_time": "2022-06-14T03:34:54.113Z"
   },
   {
    "duration": 10,
    "start_time": "2022-06-14T03:34:54.119Z"
   },
   {
    "duration": 16,
    "start_time": "2022-06-14T03:34:54.130Z"
   },
   {
    "duration": 14,
    "start_time": "2022-06-14T03:34:54.147Z"
   },
   {
    "duration": 11,
    "start_time": "2022-06-14T03:34:54.162Z"
   },
   {
    "duration": 25,
    "start_time": "2022-06-14T03:34:54.174Z"
   },
   {
    "duration": 31,
    "start_time": "2022-06-14T03:34:54.201Z"
   },
   {
    "duration": 283,
    "start_time": "2022-06-14T03:34:54.234Z"
   },
   {
    "duration": 23,
    "start_time": "2022-06-14T03:34:54.519Z"
   },
   {
    "duration": 8,
    "start_time": "2022-06-14T03:34:54.543Z"
   },
   {
    "duration": 26,
    "start_time": "2022-06-14T03:34:54.552Z"
   },
   {
    "duration": 5,
    "start_time": "2022-06-14T03:34:54.579Z"
   },
   {
    "duration": 14,
    "start_time": "2022-06-14T03:34:54.585Z"
   },
   {
    "duration": 1788,
    "start_time": "2022-06-14T03:34:54.601Z"
   },
   {
    "duration": 13,
    "start_time": "2022-06-14T03:34:56.440Z"
   },
   {
    "duration": 15,
    "start_time": "2022-06-14T03:34:56.457Z"
   },
   {
    "duration": 20,
    "start_time": "2022-06-14T03:34:56.473Z"
   },
   {
    "duration": 14,
    "start_time": "2022-06-14T03:34:56.495Z"
   },
   {
    "duration": 18,
    "start_time": "2022-06-14T03:34:56.510Z"
   },
   {
    "duration": 20,
    "start_time": "2022-06-14T03:34:56.530Z"
   },
   {
    "duration": 6,
    "start_time": "2022-06-14T03:34:56.551Z"
   },
   {
    "duration": 7,
    "start_time": "2022-06-14T03:34:56.558Z"
   },
   {
    "duration": 16,
    "start_time": "2022-06-14T03:34:56.566Z"
   },
   {
    "duration": 7,
    "start_time": "2022-06-14T03:34:56.583Z"
   },
   {
    "duration": 13,
    "start_time": "2022-06-14T03:34:56.594Z"
   },
   {
    "duration": 22,
    "start_time": "2022-06-14T03:34:56.609Z"
   },
   {
    "duration": 6,
    "start_time": "2022-06-14T03:34:56.633Z"
   },
   {
    "duration": 15,
    "start_time": "2022-06-14T03:34:56.641Z"
   },
   {
    "duration": 13,
    "start_time": "2022-06-14T03:34:56.658Z"
   },
   {
    "duration": 7,
    "start_time": "2022-06-14T03:34:56.672Z"
   },
   {
    "duration": 7,
    "start_time": "2022-06-14T03:34:56.680Z"
   },
   {
    "duration": 56,
    "start_time": "2022-06-14T03:34:56.689Z"
   },
   {
    "duration": 26,
    "start_time": "2022-06-14T03:34:56.747Z"
   },
   {
    "duration": 464,
    "start_time": "2022-06-14T03:34:56.774Z"
   },
   {
    "duration": 306,
    "start_time": "2022-06-14T03:34:57.240Z"
   },
   {
    "duration": 219,
    "start_time": "2022-06-14T03:34:57.548Z"
   },
   {
    "duration": 11,
    "start_time": "2022-06-14T03:34:57.769Z"
   },
   {
    "duration": 28,
    "start_time": "2022-06-14T03:34:57.781Z"
   },
   {
    "duration": 30,
    "start_time": "2022-06-14T03:34:57.810Z"
   },
   {
    "duration": 153,
    "start_time": "2022-06-14T03:34:57.842Z"
   },
   {
    "duration": 139,
    "start_time": "2022-06-14T03:34:57.997Z"
   },
   {
    "duration": 6,
    "start_time": "2022-06-14T03:34:58.138Z"
   },
   {
    "duration": 150,
    "start_time": "2022-06-14T03:34:58.145Z"
   },
   {
    "duration": 180,
    "start_time": "2022-06-14T03:34:58.297Z"
   },
   {
    "duration": 6,
    "start_time": "2022-06-14T03:34:58.479Z"
   },
   {
    "duration": 20,
    "start_time": "2022-06-14T03:34:58.487Z"
   },
   {
    "duration": 33,
    "start_time": "2022-06-14T03:34:58.508Z"
   },
   {
    "duration": 203,
    "start_time": "2022-06-14T03:34:58.543Z"
   },
   {
    "duration": 17,
    "start_time": "2022-06-14T03:34:58.748Z"
   },
   {
    "duration": 16,
    "start_time": "2022-06-14T03:34:58.766Z"
   },
   {
    "duration": 285,
    "start_time": "2022-06-14T03:34:58.783Z"
   },
   {
    "duration": 15,
    "start_time": "2022-06-14T03:34:59.069Z"
   },
   {
    "duration": 54,
    "start_time": "2022-06-14T03:34:59.086Z"
   },
   {
    "duration": 19,
    "start_time": "2022-06-14T03:34:59.141Z"
   },
   {
    "duration": 10,
    "start_time": "2022-06-14T03:34:59.161Z"
   },
   {
    "duration": 13,
    "start_time": "2022-06-14T03:34:59.172Z"
   },
   {
    "duration": 6,
    "start_time": "2022-06-14T03:34:59.186Z"
   },
   {
    "duration": 68,
    "start_time": "2022-06-14T03:37:10.872Z"
   },
   {
    "duration": 16,
    "start_time": "2022-06-14T03:37:42.832Z"
   },
   {
    "duration": 15,
    "start_time": "2022-06-14T03:39:39.914Z"
   },
   {
    "duration": 16,
    "start_time": "2022-06-14T03:39:46.942Z"
   },
   {
    "duration": 5,
    "start_time": "2022-06-14T03:45:54.548Z"
   },
   {
    "duration": 17,
    "start_time": "2022-06-14T03:49:14.589Z"
   },
   {
    "duration": 29,
    "start_time": "2022-06-14T03:50:25.031Z"
   },
   {
    "duration": 28,
    "start_time": "2022-06-14T03:51:33.969Z"
   },
   {
    "duration": 3,
    "start_time": "2022-06-14T04:22:57.751Z"
   },
   {
    "duration": 48,
    "start_time": "2022-06-14T04:22:57.767Z"
   },
   {
    "duration": 45,
    "start_time": "2022-06-14T04:22:57.817Z"
   },
   {
    "duration": 5,
    "start_time": "2022-06-14T04:22:57.863Z"
   },
   {
    "duration": 6,
    "start_time": "2022-06-14T04:22:57.870Z"
   },
   {
    "duration": 8,
    "start_time": "2022-06-14T04:22:57.877Z"
   },
   {
    "duration": 41,
    "start_time": "2022-06-14T04:22:57.886Z"
   },
   {
    "duration": 13,
    "start_time": "2022-06-14T04:22:57.929Z"
   },
   {
    "duration": 27,
    "start_time": "2022-06-14T04:22:57.944Z"
   },
   {
    "duration": 15,
    "start_time": "2022-06-14T04:22:57.973Z"
   },
   {
    "duration": 332,
    "start_time": "2022-06-14T04:22:57.990Z"
   },
   {
    "duration": 23,
    "start_time": "2022-06-14T04:22:58.324Z"
   },
   {
    "duration": 13,
    "start_time": "2022-06-14T04:22:58.349Z"
   },
   {
    "duration": 24,
    "start_time": "2022-06-14T04:22:58.364Z"
   },
   {
    "duration": 4,
    "start_time": "2022-06-14T04:22:58.390Z"
   },
   {
    "duration": 38,
    "start_time": "2022-06-14T04:22:58.396Z"
   },
   {
    "duration": 1930,
    "start_time": "2022-06-14T04:22:58.436Z"
   },
   {
    "duration": 7,
    "start_time": "2022-06-14T04:23:00.379Z"
   },
   {
    "duration": 44,
    "start_time": "2022-06-14T04:23:00.387Z"
   },
   {
    "duration": 17,
    "start_time": "2022-06-14T04:23:00.434Z"
   },
   {
    "duration": 17,
    "start_time": "2022-06-14T04:23:00.453Z"
   },
   {
    "duration": 32,
    "start_time": "2022-06-14T04:23:00.471Z"
   },
   {
    "duration": 40,
    "start_time": "2022-06-14T04:23:00.504Z"
   },
   {
    "duration": 11,
    "start_time": "2022-06-14T04:23:00.545Z"
   },
   {
    "duration": 22,
    "start_time": "2022-06-14T04:23:00.558Z"
   },
   {
    "duration": 27,
    "start_time": "2022-06-14T04:23:00.581Z"
   },
   {
    "duration": 13,
    "start_time": "2022-06-14T04:23:00.610Z"
   },
   {
    "duration": 30,
    "start_time": "2022-06-14T04:23:00.625Z"
   },
   {
    "duration": 28,
    "start_time": "2022-06-14T04:23:00.656Z"
   },
   {
    "duration": 16,
    "start_time": "2022-06-14T04:23:00.686Z"
   },
   {
    "duration": 23,
    "start_time": "2022-06-14T04:23:00.704Z"
   },
   {
    "duration": 19,
    "start_time": "2022-06-14T04:23:00.728Z"
   },
   {
    "duration": 22,
    "start_time": "2022-06-14T04:23:00.748Z"
   },
   {
    "duration": 17,
    "start_time": "2022-06-14T04:23:00.772Z"
   },
   {
    "duration": 29,
    "start_time": "2022-06-14T04:23:00.791Z"
   },
   {
    "duration": 25,
    "start_time": "2022-06-14T04:23:00.822Z"
   },
   {
    "duration": 464,
    "start_time": "2022-06-14T04:23:00.849Z"
   },
   {
    "duration": 338,
    "start_time": "2022-06-14T04:23:01.314Z"
   },
   {
    "duration": 199,
    "start_time": "2022-06-14T04:23:01.653Z"
   },
   {
    "duration": 15,
    "start_time": "2022-06-14T04:23:01.854Z"
   },
   {
    "duration": 60,
    "start_time": "2022-06-14T04:23:01.871Z"
   },
   {
    "duration": 36,
    "start_time": "2022-06-14T04:23:01.932Z"
   },
   {
    "duration": 160,
    "start_time": "2022-06-14T04:23:01.970Z"
   },
   {
    "duration": 140,
    "start_time": "2022-06-14T04:23:02.132Z"
   },
   {
    "duration": 6,
    "start_time": "2022-06-14T04:23:02.273Z"
   },
   {
    "duration": 153,
    "start_time": "2022-06-14T04:23:02.280Z"
   },
   {
    "duration": 214,
    "start_time": "2022-06-14T04:23:02.434Z"
   },
   {
    "duration": 5,
    "start_time": "2022-06-14T04:23:02.650Z"
   },
   {
    "duration": 35,
    "start_time": "2022-06-14T04:23:02.656Z"
   },
   {
    "duration": 19,
    "start_time": "2022-06-14T04:23:02.693Z"
   },
   {
    "duration": 208,
    "start_time": "2022-06-14T04:23:02.713Z"
   },
   {
    "duration": 14,
    "start_time": "2022-06-14T04:23:02.926Z"
   },
   {
    "duration": 19,
    "start_time": "2022-06-14T04:23:02.943Z"
   },
   {
    "duration": 202,
    "start_time": "2022-06-14T04:23:02.963Z"
   },
   {
    "duration": 11,
    "start_time": "2022-06-14T04:23:03.167Z"
   },
   {
    "duration": 10,
    "start_time": "2022-06-14T04:23:03.180Z"
   },
   {
    "duration": 13,
    "start_time": "2022-06-14T04:23:03.192Z"
   },
   {
    "duration": 12,
    "start_time": "2022-06-14T04:23:03.227Z"
   },
   {
    "duration": 32,
    "start_time": "2022-06-14T04:23:03.240Z"
   },
   {
    "duration": 33,
    "start_time": "2022-06-14T04:23:03.274Z"
   },
   {
    "duration": 22,
    "start_time": "2022-06-14T04:23:03.309Z"
   },
   {
    "duration": 41,
    "start_time": "2022-06-14T04:23:03.333Z"
   },
   {
    "duration": 950,
    "start_time": "2022-06-14T07:39:32.750Z"
   },
   {
    "duration": 181,
    "start_time": "2022-06-14T07:39:33.703Z"
   },
   {
    "duration": 47,
    "start_time": "2022-06-14T07:39:33.885Z"
   },
   {
    "duration": 5,
    "start_time": "2022-06-14T07:39:33.933Z"
   },
   {
    "duration": 6,
    "start_time": "2022-06-14T07:39:33.939Z"
   },
   {
    "duration": 7,
    "start_time": "2022-06-14T07:39:33.947Z"
   },
   {
    "duration": 11,
    "start_time": "2022-06-14T07:39:33.955Z"
   },
   {
    "duration": 31,
    "start_time": "2022-06-14T07:39:33.967Z"
   },
   {
    "duration": 26,
    "start_time": "2022-06-14T07:39:33.999Z"
   },
   {
    "duration": 16,
    "start_time": "2022-06-14T07:39:34.027Z"
   },
   {
    "duration": 351,
    "start_time": "2022-06-14T07:39:34.045Z"
   },
   {
    "duration": 16,
    "start_time": "2022-06-14T07:39:34.398Z"
   },
   {
    "duration": 6,
    "start_time": "2022-06-14T07:39:34.415Z"
   },
   {
    "duration": 20,
    "start_time": "2022-06-14T07:39:34.423Z"
   },
   {
    "duration": 8,
    "start_time": "2022-06-14T07:39:34.444Z"
   },
   {
    "duration": 14,
    "start_time": "2022-06-14T07:39:34.453Z"
   },
   {
    "duration": 1723,
    "start_time": "2022-06-14T07:39:34.490Z"
   },
   {
    "duration": 10,
    "start_time": "2022-06-14T07:39:36.215Z"
   },
   {
    "duration": 9,
    "start_time": "2022-06-14T07:39:36.227Z"
   },
   {
    "duration": 15,
    "start_time": "2022-06-14T07:39:36.237Z"
   },
   {
    "duration": 37,
    "start_time": "2022-06-14T07:39:36.254Z"
   },
   {
    "duration": 5,
    "start_time": "2022-06-14T07:39:36.293Z"
   },
   {
    "duration": 17,
    "start_time": "2022-06-14T07:39:36.299Z"
   },
   {
    "duration": 5,
    "start_time": "2022-06-14T07:39:36.317Z"
   },
   {
    "duration": 5,
    "start_time": "2022-06-14T07:39:36.323Z"
   },
   {
    "duration": 10,
    "start_time": "2022-06-14T07:39:36.329Z"
   },
   {
    "duration": 6,
    "start_time": "2022-06-14T07:39:36.341Z"
   },
   {
    "duration": 13,
    "start_time": "2022-06-14T07:39:36.351Z"
   },
   {
    "duration": 34,
    "start_time": "2022-06-14T07:39:36.366Z"
   },
   {
    "duration": 7,
    "start_time": "2022-06-14T07:39:36.401Z"
   },
   {
    "duration": 20,
    "start_time": "2022-06-14T07:39:36.409Z"
   },
   {
    "duration": 13,
    "start_time": "2022-06-14T07:39:36.431Z"
   },
   {
    "duration": 6,
    "start_time": "2022-06-14T07:39:36.445Z"
   },
   {
    "duration": 7,
    "start_time": "2022-06-14T07:39:36.453Z"
   },
   {
    "duration": 42,
    "start_time": "2022-06-14T07:39:36.461Z"
   },
   {
    "duration": 25,
    "start_time": "2022-06-14T07:39:36.504Z"
   },
   {
    "duration": 525,
    "start_time": "2022-06-14T07:39:36.531Z"
   },
   {
    "duration": 387,
    "start_time": "2022-06-14T07:39:37.059Z"
   },
   {
    "duration": 161,
    "start_time": "2022-06-14T07:39:37.447Z"
   },
   {
    "duration": 11,
    "start_time": "2022-06-14T07:39:37.610Z"
   },
   {
    "duration": 23,
    "start_time": "2022-06-14T07:39:37.623Z"
   },
   {
    "duration": 21,
    "start_time": "2022-06-14T07:39:37.648Z"
   },
   {
    "duration": 133,
    "start_time": "2022-06-14T07:39:37.691Z"
   },
   {
    "duration": 127,
    "start_time": "2022-06-14T07:39:37.826Z"
   },
   {
    "duration": 5,
    "start_time": "2022-06-14T07:39:37.954Z"
   },
   {
    "duration": 133,
    "start_time": "2022-06-14T07:39:37.960Z"
   },
   {
    "duration": 127,
    "start_time": "2022-06-14T07:39:38.094Z"
   },
   {
    "duration": 8,
    "start_time": "2022-06-14T07:39:38.223Z"
   },
   {
    "duration": 16,
    "start_time": "2022-06-14T07:39:38.233Z"
   },
   {
    "duration": 14,
    "start_time": "2022-06-14T07:39:38.251Z"
   },
   {
    "duration": 189,
    "start_time": "2022-06-14T07:39:38.266Z"
   },
   {
    "duration": 13,
    "start_time": "2022-06-14T07:39:38.456Z"
   },
   {
    "duration": 24,
    "start_time": "2022-06-14T07:39:38.471Z"
   },
   {
    "duration": 183,
    "start_time": "2022-06-14T07:39:38.497Z"
   },
   {
    "duration": 18,
    "start_time": "2022-06-14T07:39:38.682Z"
   },
   {
    "duration": 10,
    "start_time": "2022-06-14T07:39:38.701Z"
   },
   {
    "duration": 11,
    "start_time": "2022-06-14T07:39:38.712Z"
   },
   {
    "duration": 9,
    "start_time": "2022-06-14T07:39:38.724Z"
   },
   {
    "duration": 12,
    "start_time": "2022-06-14T07:39:38.735Z"
   },
   {
    "duration": 45,
    "start_time": "2022-06-14T07:39:38.748Z"
   },
   {
    "duration": 15,
    "start_time": "2022-06-14T07:39:38.795Z"
   },
   {
    "duration": 25,
    "start_time": "2022-06-14T07:39:38.812Z"
   },
   {
    "duration": 23,
    "start_time": "2022-06-14T07:42:20.405Z"
   },
   {
    "duration": 92,
    "start_time": "2022-06-14T07:42:39.848Z"
   },
   {
    "duration": 45,
    "start_time": "2022-06-14T07:42:46.027Z"
   },
   {
    "duration": 40,
    "start_time": "2022-06-14T08:14:49.008Z"
   },
   {
    "duration": 45,
    "start_time": "2022-06-14T08:19:05.190Z"
   },
   {
    "duration": 48,
    "start_time": "2022-06-14T18:28:51.852Z"
   },
   {
    "duration": 1134,
    "start_time": "2022-06-14T18:28:55.962Z"
   },
   {
    "duration": 174,
    "start_time": "2022-06-14T18:28:57.098Z"
   },
   {
    "duration": 66,
    "start_time": "2022-06-14T18:28:57.274Z"
   },
   {
    "duration": 4,
    "start_time": "2022-06-14T18:28:57.342Z"
   },
   {
    "duration": 7,
    "start_time": "2022-06-14T18:28:57.347Z"
   },
   {
    "duration": 6,
    "start_time": "2022-06-14T18:28:57.356Z"
   },
   {
    "duration": 13,
    "start_time": "2022-06-14T18:28:57.363Z"
   },
   {
    "duration": 11,
    "start_time": "2022-06-14T18:28:57.377Z"
   },
   {
    "duration": 26,
    "start_time": "2022-06-14T18:28:57.389Z"
   },
   {
    "duration": 40,
    "start_time": "2022-06-14T18:28:57.418Z"
   },
   {
    "duration": 301,
    "start_time": "2022-06-14T18:28:57.460Z"
   },
   {
    "duration": 18,
    "start_time": "2022-06-14T18:28:57.762Z"
   },
   {
    "duration": 7,
    "start_time": "2022-06-14T18:28:57.781Z"
   },
   {
    "duration": 23,
    "start_time": "2022-06-14T18:28:57.789Z"
   },
   {
    "duration": 4,
    "start_time": "2022-06-14T18:28:57.813Z"
   },
   {
    "duration": 39,
    "start_time": "2022-06-14T18:28:57.819Z"
   },
   {
    "duration": 1833,
    "start_time": "2022-06-14T18:28:57.860Z"
   },
   {
    "duration": 6,
    "start_time": "2022-06-14T18:28:59.699Z"
   },
   {
    "duration": 10,
    "start_time": "2022-06-14T18:28:59.707Z"
   },
   {
    "duration": 12,
    "start_time": "2022-06-14T18:28:59.753Z"
   },
   {
    "duration": 6,
    "start_time": "2022-06-14T18:28:59.766Z"
   },
   {
    "duration": 4,
    "start_time": "2022-06-14T18:28:59.773Z"
   },
   {
    "duration": 17,
    "start_time": "2022-06-14T18:28:59.778Z"
   },
   {
    "duration": 5,
    "start_time": "2022-06-14T18:28:59.796Z"
   },
   {
    "duration": 5,
    "start_time": "2022-06-14T18:28:59.802Z"
   },
   {
    "duration": 7,
    "start_time": "2022-06-14T18:28:59.808Z"
   },
   {
    "duration": 6,
    "start_time": "2022-06-14T18:28:59.816Z"
   },
   {
    "duration": 12,
    "start_time": "2022-06-14T18:28:59.856Z"
   },
   {
    "duration": 14,
    "start_time": "2022-06-14T18:28:59.870Z"
   },
   {
    "duration": 8,
    "start_time": "2022-06-14T18:28:59.885Z"
   },
   {
    "duration": 16,
    "start_time": "2022-06-14T18:28:59.894Z"
   },
   {
    "duration": 51,
    "start_time": "2022-06-14T18:28:59.912Z"
   },
   {
    "duration": 7,
    "start_time": "2022-06-14T18:28:59.964Z"
   },
   {
    "duration": 7,
    "start_time": "2022-06-14T18:28:59.973Z"
   },
   {
    "duration": 21,
    "start_time": "2022-06-14T18:28:59.981Z"
   },
   {
    "duration": 50,
    "start_time": "2022-06-14T18:29:00.004Z"
   },
   {
    "duration": 483,
    "start_time": "2022-06-14T18:29:00.056Z"
   },
   {
    "duration": 318,
    "start_time": "2022-06-14T18:29:00.541Z"
   },
   {
    "duration": 268,
    "start_time": "2022-06-14T18:29:00.861Z"
   },
   {
    "duration": 13,
    "start_time": "2022-06-14T18:29:01.130Z"
   },
   {
    "duration": 27,
    "start_time": "2022-06-14T18:29:01.153Z"
   },
   {
    "duration": 22,
    "start_time": "2022-06-14T18:29:01.181Z"
   },
   {
    "duration": 166,
    "start_time": "2022-06-14T18:29:01.205Z"
   },
   {
    "duration": 140,
    "start_time": "2022-06-14T18:29:01.373Z"
   },
   {
    "duration": 5,
    "start_time": "2022-06-14T18:29:01.514Z"
   },
   {
    "duration": 146,
    "start_time": "2022-06-14T18:29:01.521Z"
   },
   {
    "duration": 141,
    "start_time": "2022-06-14T18:29:01.669Z"
   },
   {
    "duration": 6,
    "start_time": "2022-06-14T18:29:01.812Z"
   },
   {
    "duration": 16,
    "start_time": "2022-06-14T18:29:01.820Z"
   },
   {
    "duration": 26,
    "start_time": "2022-06-14T18:29:01.838Z"
   },
   {
    "duration": 201,
    "start_time": "2022-06-14T18:29:01.865Z"
   },
   {
    "duration": 16,
    "start_time": "2022-06-14T18:29:02.068Z"
   },
   {
    "duration": 15,
    "start_time": "2022-06-14T18:29:02.086Z"
   },
   {
    "duration": 215,
    "start_time": "2022-06-14T18:29:02.102Z"
   },
   {
    "duration": 12,
    "start_time": "2022-06-14T18:29:02.318Z"
   },
   {
    "duration": 26,
    "start_time": "2022-06-14T18:29:02.331Z"
   },
   {
    "duration": 11,
    "start_time": "2022-06-14T18:29:02.359Z"
   },
   {
    "duration": 12,
    "start_time": "2022-06-14T18:29:02.371Z"
   },
   {
    "duration": 13,
    "start_time": "2022-06-14T18:29:02.384Z"
   },
   {
    "duration": 19,
    "start_time": "2022-06-14T18:29:02.398Z"
   },
   {
    "duration": 48,
    "start_time": "2022-06-14T18:29:02.419Z"
   },
   {
    "duration": 35,
    "start_time": "2022-06-14T18:29:02.468Z"
   },
   {
    "duration": 19,
    "start_time": "2022-06-14T18:43:04.386Z"
   },
   {
    "duration": 66,
    "start_time": "2022-06-15T05:45:22.019Z"
   },
   {
    "duration": 43,
    "start_time": "2022-06-15T05:46:07.460Z"
   },
   {
    "duration": 31,
    "start_time": "2022-06-15T05:46:25.477Z"
   },
   {
    "duration": 1239,
    "start_time": "2022-06-15T05:46:33.907Z"
   },
   {
    "duration": 97,
    "start_time": "2022-06-15T05:46:35.148Z"
   },
   {
    "duration": 71,
    "start_time": "2022-06-15T05:46:35.247Z"
   },
   {
    "duration": 5,
    "start_time": "2022-06-15T05:46:35.319Z"
   },
   {
    "duration": 7,
    "start_time": "2022-06-15T05:46:35.325Z"
   },
   {
    "duration": 9,
    "start_time": "2022-06-15T05:46:35.333Z"
   },
   {
    "duration": 19,
    "start_time": "2022-06-15T05:46:35.344Z"
   },
   {
    "duration": 16,
    "start_time": "2022-06-15T05:46:35.365Z"
   },
   {
    "duration": 60,
    "start_time": "2022-06-15T05:46:35.383Z"
   },
   {
    "duration": 14,
    "start_time": "2022-06-15T05:46:37.868Z"
   },
   {
    "duration": 3,
    "start_time": "2022-06-15T05:48:48.268Z"
   },
   {
    "duration": 50,
    "start_time": "2022-06-15T05:48:48.282Z"
   },
   {
    "duration": 64,
    "start_time": "2022-06-15T05:48:48.335Z"
   },
   {
    "duration": 5,
    "start_time": "2022-06-15T05:48:48.400Z"
   },
   {
    "duration": 26,
    "start_time": "2022-06-15T05:48:48.426Z"
   },
   {
    "duration": 10,
    "start_time": "2022-06-15T05:48:48.454Z"
   },
   {
    "duration": 14,
    "start_time": "2022-06-15T05:48:48.465Z"
   },
   {
    "duration": 12,
    "start_time": "2022-06-15T05:48:48.481Z"
   },
   {
    "duration": 51,
    "start_time": "2022-06-15T05:48:48.494Z"
   },
   {
    "duration": 12,
    "start_time": "2022-06-15T05:48:48.546Z"
   },
   {
    "duration": 6,
    "start_time": "2022-06-15T05:48:48.560Z"
   },
   {
    "duration": 60,
    "start_time": "2022-06-15T05:48:48.568Z"
   },
   {
    "duration": 4,
    "start_time": "2022-06-15T05:48:48.630Z"
   },
   {
    "duration": 21,
    "start_time": "2022-06-15T05:48:48.636Z"
   },
   {
    "duration": 2096,
    "start_time": "2022-06-15T05:48:48.660Z"
   },
   {
    "duration": 6,
    "start_time": "2022-06-15T05:48:50.758Z"
   },
   {
    "duration": 12,
    "start_time": "2022-06-15T05:48:50.766Z"
   },
   {
    "duration": 47,
    "start_time": "2022-06-15T05:48:50.780Z"
   },
   {
    "duration": 8,
    "start_time": "2022-06-15T05:48:50.829Z"
   },
   {
    "duration": 12,
    "start_time": "2022-06-15T05:48:50.838Z"
   },
   {
    "duration": 19,
    "start_time": "2022-06-15T05:48:50.852Z"
   },
   {
    "duration": 8,
    "start_time": "2022-06-15T05:48:50.873Z"
   },
   {
    "duration": 17,
    "start_time": "2022-06-15T05:48:50.883Z"
   },
   {
    "duration": 28,
    "start_time": "2022-06-15T05:48:50.903Z"
   },
   {
    "duration": 10,
    "start_time": "2022-06-15T05:48:50.933Z"
   },
   {
    "duration": 29,
    "start_time": "2022-06-15T05:48:50.946Z"
   },
   {
    "duration": 14,
    "start_time": "2022-06-15T05:48:50.977Z"
   },
   {
    "duration": 13,
    "start_time": "2022-06-15T05:48:50.992Z"
   },
   {
    "duration": 44,
    "start_time": "2022-06-15T05:48:51.007Z"
   },
   {
    "duration": 19,
    "start_time": "2022-06-15T05:48:51.053Z"
   },
   {
    "duration": 12,
    "start_time": "2022-06-15T05:48:51.074Z"
   },
   {
    "duration": 6,
    "start_time": "2022-06-15T05:48:51.088Z"
   },
   {
    "duration": 49,
    "start_time": "2022-06-15T05:48:51.096Z"
   },
   {
    "duration": 28,
    "start_time": "2022-06-15T05:48:51.146Z"
   },
   {
    "duration": 586,
    "start_time": "2022-06-15T05:48:51.175Z"
   },
   {
    "duration": 369,
    "start_time": "2022-06-15T05:48:51.762Z"
   },
   {
    "duration": 183,
    "start_time": "2022-06-15T05:48:52.133Z"
   },
   {
    "duration": 19,
    "start_time": "2022-06-15T05:48:52.318Z"
   },
   {
    "duration": 26,
    "start_time": "2022-06-15T05:48:52.339Z"
   },
   {
    "duration": 20,
    "start_time": "2022-06-15T05:48:52.367Z"
   },
   {
    "duration": 241,
    "start_time": "2022-06-15T05:48:52.388Z"
   },
   {
    "duration": 136,
    "start_time": "2022-06-15T05:48:52.632Z"
   },
   {
    "duration": 6,
    "start_time": "2022-06-15T05:48:52.769Z"
   },
   {
    "duration": 145,
    "start_time": "2022-06-15T05:48:52.776Z"
   },
   {
    "duration": 137,
    "start_time": "2022-06-15T05:48:52.927Z"
   },
   {
    "duration": 7,
    "start_time": "2022-06-15T05:48:53.066Z"
   },
   {
    "duration": 14,
    "start_time": "2022-06-15T05:48:53.075Z"
   },
   {
    "duration": 10,
    "start_time": "2022-06-15T05:48:53.091Z"
   },
   {
    "duration": 200,
    "start_time": "2022-06-15T05:48:53.128Z"
   },
   {
    "duration": 14,
    "start_time": "2022-06-15T05:48:53.329Z"
   },
   {
    "duration": 24,
    "start_time": "2022-06-15T05:48:53.345Z"
   },
   {
    "duration": 219,
    "start_time": "2022-06-15T05:48:53.370Z"
   },
   {
    "duration": 15,
    "start_time": "2022-06-15T05:48:53.591Z"
   },
   {
    "duration": 32,
    "start_time": "2022-06-15T05:48:53.608Z"
   },
   {
    "duration": 13,
    "start_time": "2022-06-15T05:48:53.642Z"
   },
   {
    "duration": 13,
    "start_time": "2022-06-15T05:48:53.657Z"
   },
   {
    "duration": 13,
    "start_time": "2022-06-15T05:48:53.672Z"
   },
   {
    "duration": 56,
    "start_time": "2022-06-15T05:48:53.687Z"
   },
   {
    "duration": 17,
    "start_time": "2022-06-15T05:48:53.745Z"
   },
   {
    "duration": 34,
    "start_time": "2022-06-15T05:48:53.763Z"
   },
   {
    "duration": 60,
    "start_time": "2022-06-15T06:01:42.154Z"
   },
   {
    "duration": 17,
    "start_time": "2022-06-15T06:01:51.779Z"
   },
   {
    "duration": 28,
    "start_time": "2022-06-15T06:08:27.788Z"
   },
   {
    "duration": 13,
    "start_time": "2022-06-15T06:15:28.402Z"
   },
   {
    "duration": 3,
    "start_time": "2022-06-15T06:15:35.706Z"
   },
   {
    "duration": 55,
    "start_time": "2022-06-15T06:15:35.714Z"
   },
   {
    "duration": 73,
    "start_time": "2022-06-15T06:15:35.772Z"
   },
   {
    "duration": 5,
    "start_time": "2022-06-15T06:15:35.847Z"
   },
   {
    "duration": 8,
    "start_time": "2022-06-15T06:15:35.854Z"
   },
   {
    "duration": 6,
    "start_time": "2022-06-15T06:15:35.864Z"
   },
   {
    "duration": 13,
    "start_time": "2022-06-15T06:15:35.872Z"
   },
   {
    "duration": 46,
    "start_time": "2022-06-15T06:15:35.887Z"
   },
   {
    "duration": 34,
    "start_time": "2022-06-15T06:15:35.935Z"
   },
   {
    "duration": 14,
    "start_time": "2022-06-15T06:15:35.971Z"
   },
   {
    "duration": 9,
    "start_time": "2022-06-15T06:15:35.987Z"
   },
   {
    "duration": 31,
    "start_time": "2022-06-15T06:15:36.028Z"
   },
   {
    "duration": 5,
    "start_time": "2022-06-15T06:15:36.061Z"
   },
   {
    "duration": 18,
    "start_time": "2022-06-15T06:15:36.068Z"
   },
   {
    "duration": 1937,
    "start_time": "2022-06-15T06:15:36.090Z"
   },
   {
    "duration": 8,
    "start_time": "2022-06-15T06:15:38.033Z"
   },
   {
    "duration": 21,
    "start_time": "2022-06-15T06:15:38.043Z"
   },
   {
    "duration": 16,
    "start_time": "2022-06-15T06:15:38.066Z"
   },
   {
    "duration": 6,
    "start_time": "2022-06-15T06:15:38.083Z"
   },
   {
    "duration": 7,
    "start_time": "2022-06-15T06:15:38.091Z"
   },
   {
    "duration": 39,
    "start_time": "2022-06-15T06:15:38.099Z"
   },
   {
    "duration": 7,
    "start_time": "2022-06-15T06:15:38.140Z"
   },
   {
    "duration": 7,
    "start_time": "2022-06-15T06:15:38.149Z"
   },
   {
    "duration": 8,
    "start_time": "2022-06-15T06:15:38.158Z"
   },
   {
    "duration": 5,
    "start_time": "2022-06-15T06:15:38.168Z"
   },
   {
    "duration": 14,
    "start_time": "2022-06-15T06:15:38.174Z"
   },
   {
    "duration": 50,
    "start_time": "2022-06-15T06:15:38.190Z"
   },
   {
    "duration": 7,
    "start_time": "2022-06-15T06:15:38.242Z"
   },
   {
    "duration": 15,
    "start_time": "2022-06-15T06:15:38.251Z"
   },
   {
    "duration": 15,
    "start_time": "2022-06-15T06:15:38.268Z"
   },
   {
    "duration": 48,
    "start_time": "2022-06-15T06:15:38.284Z"
   },
   {
    "duration": 10,
    "start_time": "2022-06-15T06:15:38.334Z"
   },
   {
    "duration": 28,
    "start_time": "2022-06-15T06:15:38.345Z"
   },
   {
    "duration": 62,
    "start_time": "2022-06-15T06:15:38.374Z"
   },
   {
    "duration": 581,
    "start_time": "2022-06-15T06:15:38.438Z"
   },
   {
    "duration": 378,
    "start_time": "2022-06-15T06:15:39.020Z"
   },
   {
    "duration": 193,
    "start_time": "2022-06-15T06:15:39.400Z"
   },
   {
    "duration": 12,
    "start_time": "2022-06-15T06:15:39.595Z"
   },
   {
    "duration": 38,
    "start_time": "2022-06-15T06:15:39.608Z"
   },
   {
    "duration": 28,
    "start_time": "2022-06-15T06:15:39.648Z"
   },
   {
    "duration": 182,
    "start_time": "2022-06-15T06:15:39.678Z"
   },
   {
    "duration": 152,
    "start_time": "2022-06-15T06:15:39.866Z"
   },
   {
    "duration": 13,
    "start_time": "2022-06-15T06:15:40.020Z"
   },
   {
    "duration": 169,
    "start_time": "2022-06-15T06:15:40.036Z"
   },
   {
    "duration": 152,
    "start_time": "2022-06-15T06:15:40.206Z"
   },
   {
    "duration": 5,
    "start_time": "2022-06-15T06:15:40.360Z"
   },
   {
    "duration": 17,
    "start_time": "2022-06-15T06:15:40.366Z"
   },
   {
    "duration": 14,
    "start_time": "2022-06-15T06:15:40.385Z"
   },
   {
    "duration": 310,
    "start_time": "2022-06-15T06:15:40.400Z"
   },
   {
    "duration": 20,
    "start_time": "2022-06-15T06:15:40.712Z"
   },
   {
    "duration": 29,
    "start_time": "2022-06-15T06:15:40.734Z"
   },
   {
    "duration": 246,
    "start_time": "2022-06-15T06:15:40.766Z"
   },
   {
    "duration": 20,
    "start_time": "2022-06-15T06:15:41.013Z"
   },
   {
    "duration": 17,
    "start_time": "2022-06-15T06:15:41.035Z"
   },
   {
    "duration": 15,
    "start_time": "2022-06-15T06:15:41.054Z"
   },
   {
    "duration": 10,
    "start_time": "2022-06-15T06:15:41.071Z"
   },
   {
    "duration": 49,
    "start_time": "2022-06-15T06:15:41.082Z"
   },
   {
    "duration": 19,
    "start_time": "2022-06-15T06:15:41.133Z"
   },
   {
    "duration": 18,
    "start_time": "2022-06-15T06:15:41.154Z"
   },
   {
    "duration": 29,
    "start_time": "2022-06-15T06:15:41.173Z"
   },
   {
    "duration": 4,
    "start_time": "2022-06-15T07:50:11.486Z"
   },
   {
    "duration": 31,
    "start_time": "2022-06-15T07:50:28.596Z"
   },
   {
    "duration": 44,
    "start_time": "2022-06-15T07:50:45.076Z"
   },
   {
    "duration": 8,
    "start_time": "2022-06-15T07:50:52.160Z"
   },
   {
    "duration": 1220,
    "start_time": "2022-06-15T07:50:57.665Z"
   },
   {
    "duration": 108,
    "start_time": "2022-06-15T07:50:58.887Z"
   },
   {
    "duration": 78,
    "start_time": "2022-06-15T07:50:58.997Z"
   },
   {
    "duration": 4,
    "start_time": "2022-06-15T07:50:59.077Z"
   },
   {
    "duration": 8,
    "start_time": "2022-06-15T07:50:59.084Z"
   },
   {
    "duration": 7,
    "start_time": "2022-06-15T07:50:59.094Z"
   },
   {
    "duration": 26,
    "start_time": "2022-06-15T07:50:59.103Z"
   },
   {
    "duration": 12,
    "start_time": "2022-06-15T07:50:59.131Z"
   },
   {
    "duration": 27,
    "start_time": "2022-06-15T07:50:59.144Z"
   },
   {
    "duration": 12,
    "start_time": "2022-06-15T07:50:59.173Z"
   },
   {
    "duration": 6,
    "start_time": "2022-06-15T07:50:59.187Z"
   },
   {
    "duration": 26,
    "start_time": "2022-06-15T07:50:59.222Z"
   },
   {
    "duration": 5,
    "start_time": "2022-06-15T07:50:59.249Z"
   },
   {
    "duration": 17,
    "start_time": "2022-06-15T07:50:59.256Z"
   },
   {
    "duration": 1957,
    "start_time": "2022-06-15T07:50:59.275Z"
   },
   {
    "duration": 15,
    "start_time": "2022-06-15T07:51:01.242Z"
   },
   {
    "duration": 18,
    "start_time": "2022-06-15T07:51:01.259Z"
   },
   {
    "duration": 26,
    "start_time": "2022-06-15T07:51:01.279Z"
   },
   {
    "duration": 37,
    "start_time": "2022-06-15T07:51:01.306Z"
   },
   {
    "duration": 18,
    "start_time": "2022-06-15T07:51:01.345Z"
   },
   {
    "duration": 35,
    "start_time": "2022-06-15T07:51:01.364Z"
   },
   {
    "duration": 20,
    "start_time": "2022-06-15T07:51:01.400Z"
   },
   {
    "duration": 31,
    "start_time": "2022-06-15T07:51:01.422Z"
   },
   {
    "duration": 25,
    "start_time": "2022-06-15T07:51:01.454Z"
   },
   {
    "duration": 15,
    "start_time": "2022-06-15T07:51:01.480Z"
   },
   {
    "duration": 27,
    "start_time": "2022-06-15T07:51:01.497Z"
   },
   {
    "duration": 16,
    "start_time": "2022-06-15T07:51:01.526Z"
   },
   {
    "duration": 9,
    "start_time": "2022-06-15T07:51:01.543Z"
   },
   {
    "duration": 28,
    "start_time": "2022-06-15T07:51:01.554Z"
   },
   {
    "duration": 23,
    "start_time": "2022-06-15T07:51:01.584Z"
   },
   {
    "duration": 17,
    "start_time": "2022-06-15T07:51:06.013Z"
   },
   {
    "duration": 330,
    "start_time": "2022-06-15T07:51:22.264Z"
   },
   {
    "duration": 5,
    "start_time": "2022-06-15T07:51:47.023Z"
   },
   {
    "duration": 28,
    "start_time": "2022-06-15T07:52:04.885Z"
   },
   {
    "duration": 14,
    "start_time": "2022-06-15T07:53:06.533Z"
   },
   {
    "duration": 22,
    "start_time": "2022-06-15T07:53:49.973Z"
   },
   {
    "duration": 39,
    "start_time": "2022-06-15T07:57:17.334Z"
   },
   {
    "duration": 29,
    "start_time": "2022-06-15T08:04:53.345Z"
   },
   {
    "duration": 1450,
    "start_time": "2022-06-15T15:38:36.325Z"
   },
   {
    "duration": 96,
    "start_time": "2022-06-15T15:38:37.777Z"
   },
   {
    "duration": 119,
    "start_time": "2022-06-15T15:38:37.875Z"
   },
   {
    "duration": 7,
    "start_time": "2022-06-15T15:38:37.997Z"
   },
   {
    "duration": 25,
    "start_time": "2022-06-15T15:38:38.006Z"
   },
   {
    "duration": 16,
    "start_time": "2022-06-15T15:38:38.033Z"
   },
   {
    "duration": 26,
    "start_time": "2022-06-15T15:38:38.050Z"
   },
   {
    "duration": 15,
    "start_time": "2022-06-15T15:38:38.078Z"
   },
   {
    "duration": 68,
    "start_time": "2022-06-15T15:38:38.095Z"
   },
   {
    "duration": 24,
    "start_time": "2022-06-15T15:38:38.168Z"
   },
   {
    "duration": 31,
    "start_time": "2022-06-15T15:38:38.195Z"
   },
   {
    "duration": 31,
    "start_time": "2022-06-15T15:38:38.229Z"
   },
   {
    "duration": 8,
    "start_time": "2022-06-15T15:38:38.264Z"
   },
   {
    "duration": 31,
    "start_time": "2022-06-15T15:38:38.274Z"
   },
   {
    "duration": 2264,
    "start_time": "2022-06-15T15:38:38.307Z"
   },
   {
    "duration": 7,
    "start_time": "2022-06-15T15:38:40.582Z"
   },
   {
    "duration": 8,
    "start_time": "2022-06-15T15:38:40.627Z"
   },
   {
    "duration": 19,
    "start_time": "2022-06-15T15:38:40.637Z"
   },
   {
    "duration": 12,
    "start_time": "2022-06-15T15:38:40.657Z"
   },
   {
    "duration": 8,
    "start_time": "2022-06-15T15:38:40.671Z"
   },
   {
    "duration": 63,
    "start_time": "2022-06-15T15:38:40.681Z"
   },
   {
    "duration": 10,
    "start_time": "2022-06-15T15:38:40.746Z"
   },
   {
    "duration": 10,
    "start_time": "2022-06-15T15:38:40.758Z"
   },
   {
    "duration": 17,
    "start_time": "2022-06-15T15:38:40.770Z"
   },
   {
    "duration": 19,
    "start_time": "2022-06-15T15:38:40.789Z"
   },
   {
    "duration": 30,
    "start_time": "2022-06-15T15:38:40.809Z"
   },
   {
    "duration": 30,
    "start_time": "2022-06-15T15:38:40.842Z"
   },
   {
    "duration": 9,
    "start_time": "2022-06-15T15:38:40.877Z"
   },
   {
    "duration": 23,
    "start_time": "2022-06-15T15:38:40.888Z"
   },
   {
    "duration": 27,
    "start_time": "2022-06-15T15:38:40.913Z"
   },
   {
    "duration": 18,
    "start_time": "2022-06-15T15:38:40.941Z"
   },
   {
    "duration": 383,
    "start_time": "2022-06-15T15:38:40.961Z"
   },
   {
    "duration": 22,
    "start_time": "2022-06-15T15:38:41.346Z"
   },
   {
    "duration": 10,
    "start_time": "2022-06-15T15:38:41.371Z"
   },
   {
    "duration": 35,
    "start_time": "2022-06-15T15:38:41.383Z"
   },
   {
    "duration": 36,
    "start_time": "2022-06-15T15:38:41.420Z"
   },
   {
    "duration": 46,
    "start_time": "2022-06-15T15:38:41.458Z"
   },
   {
    "duration": 573,
    "start_time": "2022-06-15T15:38:41.506Z"
   },
   {
    "duration": 558,
    "start_time": "2022-06-15T15:38:42.082Z"
   },
   {
    "duration": 300,
    "start_time": "2022-06-15T15:38:42.642Z"
   },
   {
    "duration": 21,
    "start_time": "2022-06-15T15:38:42.945Z"
   },
   {
    "duration": 33,
    "start_time": "2022-06-15T15:38:42.968Z"
   },
   {
    "duration": 45,
    "start_time": "2022-06-15T15:38:43.003Z"
   },
   {
    "duration": 211,
    "start_time": "2022-06-15T15:38:43.054Z"
   },
   {
    "duration": 189,
    "start_time": "2022-06-15T15:38:43.267Z"
   },
   {
    "duration": 5,
    "start_time": "2022-06-15T15:38:43.458Z"
   },
   {
    "duration": 228,
    "start_time": "2022-06-15T15:38:43.465Z"
   },
   {
    "duration": 170,
    "start_time": "2022-06-15T15:38:43.696Z"
   },
   {
    "duration": 6,
    "start_time": "2022-06-15T15:38:43.868Z"
   },
   {
    "duration": 23,
    "start_time": "2022-06-15T15:38:43.876Z"
   },
   {
    "duration": 28,
    "start_time": "2022-06-15T15:38:43.901Z"
   },
   {
    "duration": 216,
    "start_time": "2022-06-15T15:38:43.931Z"
   },
   {
    "duration": 18,
    "start_time": "2022-06-15T15:38:44.149Z"
   },
   {
    "duration": 26,
    "start_time": "2022-06-15T15:38:44.169Z"
   },
   {
    "duration": 283,
    "start_time": "2022-06-15T15:38:44.197Z"
   },
   {
    "duration": 16,
    "start_time": "2022-06-15T15:38:44.482Z"
   },
   {
    "duration": 35,
    "start_time": "2022-06-15T15:38:44.501Z"
   },
   {
    "duration": 17,
    "start_time": "2022-06-15T15:38:44.538Z"
   },
   {
    "duration": 23,
    "start_time": "2022-06-15T15:38:44.557Z"
   },
   {
    "duration": 43,
    "start_time": "2022-06-15T15:38:44.583Z"
   },
   {
    "duration": 32,
    "start_time": "2022-06-15T15:38:44.628Z"
   },
   {
    "duration": 24,
    "start_time": "2022-06-15T15:38:44.663Z"
   },
   {
    "duration": 59,
    "start_time": "2022-06-15T15:38:44.690Z"
   },
   {
    "duration": 1327,
    "start_time": "2022-06-15T16:00:04.886Z"
   },
   {
    "duration": 89,
    "start_time": "2022-06-15T16:00:06.215Z"
   },
   {
    "duration": 80,
    "start_time": "2022-06-15T16:00:06.306Z"
   },
   {
    "duration": 5,
    "start_time": "2022-06-15T16:00:06.387Z"
   },
   {
    "duration": 16,
    "start_time": "2022-06-15T16:00:06.394Z"
   },
   {
    "duration": 10,
    "start_time": "2022-06-15T16:00:06.412Z"
   },
   {
    "duration": 19,
    "start_time": "2022-06-15T16:00:06.423Z"
   },
   {
    "duration": 13,
    "start_time": "2022-06-15T16:00:06.451Z"
   },
   {
    "duration": 53,
    "start_time": "2022-06-15T16:00:06.466Z"
   },
   {
    "duration": 14,
    "start_time": "2022-06-15T16:00:06.520Z"
   },
   {
    "duration": 7,
    "start_time": "2022-06-15T16:00:06.536Z"
   },
   {
    "duration": 27,
    "start_time": "2022-06-15T16:00:06.552Z"
   },
   {
    "duration": 4,
    "start_time": "2022-06-15T16:00:06.581Z"
   },
   {
    "duration": 22,
    "start_time": "2022-06-15T16:00:06.587Z"
   },
   {
    "duration": 2073,
    "start_time": "2022-06-15T16:00:06.610Z"
   },
   {
    "duration": 6,
    "start_time": "2022-06-15T16:00:08.688Z"
   },
   {
    "duration": 9,
    "start_time": "2022-06-15T16:00:08.696Z"
   },
   {
    "duration": 55,
    "start_time": "2022-06-15T16:00:08.706Z"
   },
   {
    "duration": 7,
    "start_time": "2022-06-15T16:00:08.763Z"
   },
   {
    "duration": 74,
    "start_time": "2022-06-15T16:00:08.771Z"
   },
   {
    "duration": 49,
    "start_time": "2022-06-15T16:00:08.847Z"
   },
   {
    "duration": 6,
    "start_time": "2022-06-15T16:00:08.898Z"
   },
   {
    "duration": 12,
    "start_time": "2022-06-15T16:00:08.906Z"
   },
   {
    "duration": 13,
    "start_time": "2022-06-15T16:00:08.919Z"
   },
   {
    "duration": 6,
    "start_time": "2022-06-15T16:00:08.934Z"
   },
   {
    "duration": 17,
    "start_time": "2022-06-15T16:00:08.941Z"
   },
   {
    "duration": 16,
    "start_time": "2022-06-15T16:00:08.960Z"
   },
   {
    "duration": 7,
    "start_time": "2022-06-15T16:00:08.977Z"
   },
   {
    "duration": 21,
    "start_time": "2022-06-15T16:00:08.985Z"
   },
   {
    "duration": 43,
    "start_time": "2022-06-15T16:00:09.008Z"
   },
   {
    "duration": 17,
    "start_time": "2022-06-15T16:00:09.053Z"
   },
   {
    "duration": 353,
    "start_time": "2022-06-15T16:00:09.072Z"
   },
   {
    "duration": 28,
    "start_time": "2022-06-15T16:00:09.426Z"
   },
   {
    "duration": 6,
    "start_time": "2022-06-15T16:00:09.456Z"
   },
   {
    "duration": 15,
    "start_time": "2022-06-15T16:00:09.463Z"
   },
   {
    "duration": 24,
    "start_time": "2022-06-15T16:00:09.480Z"
   },
   {
    "duration": 60,
    "start_time": "2022-06-15T16:00:09.506Z"
   },
   {
    "duration": 578,
    "start_time": "2022-06-15T16:00:09.568Z"
   },
   {
    "duration": 352,
    "start_time": "2022-06-15T16:00:10.148Z"
   },
   {
    "duration": 268,
    "start_time": "2022-06-15T16:00:10.502Z"
   },
   {
    "duration": 14,
    "start_time": "2022-06-15T16:00:10.774Z"
   },
   {
    "duration": 30,
    "start_time": "2022-06-15T16:00:10.790Z"
   },
   {
    "duration": 48,
    "start_time": "2022-06-15T16:00:10.822Z"
   },
   {
    "duration": 185,
    "start_time": "2022-06-15T16:00:10.872Z"
   },
   {
    "duration": 178,
    "start_time": "2022-06-15T16:00:11.059Z"
   },
   {
    "duration": 14,
    "start_time": "2022-06-15T16:00:11.239Z"
   },
   {
    "duration": 183,
    "start_time": "2022-06-15T16:00:11.255Z"
   },
   {
    "duration": 154,
    "start_time": "2022-06-15T16:00:11.440Z"
   },
   {
    "duration": 6,
    "start_time": "2022-06-15T16:00:11.596Z"
   },
   {
    "duration": 26,
    "start_time": "2022-06-15T16:00:11.604Z"
   },
   {
    "duration": 27,
    "start_time": "2022-06-15T16:00:11.631Z"
   },
   {
    "duration": 210,
    "start_time": "2022-06-15T16:00:11.660Z"
   },
   {
    "duration": 16,
    "start_time": "2022-06-15T16:00:11.872Z"
   },
   {
    "duration": 48,
    "start_time": "2022-06-15T16:00:11.889Z"
   },
   {
    "duration": 220,
    "start_time": "2022-06-15T16:00:11.938Z"
   },
   {
    "duration": 12,
    "start_time": "2022-06-15T16:00:12.160Z"
   },
   {
    "duration": 11,
    "start_time": "2022-06-15T16:00:12.174Z"
   },
   {
    "duration": 12,
    "start_time": "2022-06-15T16:00:12.187Z"
   },
   {
    "duration": 53,
    "start_time": "2022-06-15T16:00:12.200Z"
   },
   {
    "duration": 22,
    "start_time": "2022-06-15T16:00:12.254Z"
   },
   {
    "duration": 22,
    "start_time": "2022-06-15T16:00:12.277Z"
   },
   {
    "duration": 20,
    "start_time": "2022-06-15T16:00:12.300Z"
   },
   {
    "duration": 63,
    "start_time": "2022-06-15T16:00:12.322Z"
   },
   {
    "duration": 63,
    "start_time": "2022-06-15T16:09:24.091Z"
   },
   {
    "duration": 4,
    "start_time": "2022-06-15T16:09:49.781Z"
   },
   {
    "duration": 59,
    "start_time": "2022-06-15T16:09:49.787Z"
   },
   {
    "duration": 54,
    "start_time": "2022-06-15T16:09:49.847Z"
   },
   {
    "duration": 5,
    "start_time": "2022-06-15T16:09:49.902Z"
   },
   {
    "duration": 9,
    "start_time": "2022-06-15T16:09:49.910Z"
   },
   {
    "duration": 32,
    "start_time": "2022-06-15T16:09:49.921Z"
   },
   {
    "duration": 19,
    "start_time": "2022-06-15T16:09:49.955Z"
   },
   {
    "duration": 15,
    "start_time": "2022-06-15T16:09:49.976Z"
   },
   {
    "duration": 69,
    "start_time": "2022-06-15T16:09:49.992Z"
   },
   {
    "duration": 15,
    "start_time": "2022-06-15T16:09:50.063Z"
   },
   {
    "duration": 8,
    "start_time": "2022-06-15T16:09:50.080Z"
   },
   {
    "duration": 62,
    "start_time": "2022-06-15T16:09:50.090Z"
   },
   {
    "duration": 4,
    "start_time": "2022-06-15T16:09:50.156Z"
   },
   {
    "duration": 18,
    "start_time": "2022-06-15T16:09:50.161Z"
   },
   {
    "duration": 2108,
    "start_time": "2022-06-15T16:09:50.181Z"
   },
   {
    "duration": 7,
    "start_time": "2022-06-15T16:09:52.298Z"
   },
   {
    "duration": 48,
    "start_time": "2022-06-15T16:09:52.307Z"
   },
   {
    "duration": 14,
    "start_time": "2022-06-15T16:09:52.357Z"
   },
   {
    "duration": 8,
    "start_time": "2022-06-15T16:09:52.373Z"
   },
   {
    "duration": 10,
    "start_time": "2022-06-15T16:09:52.383Z"
   },
   {
    "duration": 48,
    "start_time": "2022-06-15T16:09:52.395Z"
   },
   {
    "duration": 7,
    "start_time": "2022-06-15T16:09:52.445Z"
   },
   {
    "duration": 11,
    "start_time": "2022-06-15T16:09:52.454Z"
   },
   {
    "duration": 13,
    "start_time": "2022-06-15T16:09:52.467Z"
   },
   {
    "duration": 22,
    "start_time": "2022-06-15T16:09:52.482Z"
   },
   {
    "duration": 18,
    "start_time": "2022-06-15T16:09:52.505Z"
   },
   {
    "duration": 28,
    "start_time": "2022-06-15T16:09:52.525Z"
   },
   {
    "duration": 8,
    "start_time": "2022-06-15T16:09:52.555Z"
   },
   {
    "duration": 31,
    "start_time": "2022-06-15T16:09:52.565Z"
   },
   {
    "duration": 16,
    "start_time": "2022-06-15T16:09:52.598Z"
   },
   {
    "duration": 39,
    "start_time": "2022-06-15T16:09:52.616Z"
   },
   {
    "duration": 420,
    "start_time": "2022-06-15T16:09:52.657Z"
   },
   {
    "duration": 19,
    "start_time": "2022-06-15T16:09:53.079Z"
   },
   {
    "duration": 17,
    "start_time": "2022-06-15T16:09:53.100Z"
   },
   {
    "duration": 13,
    "start_time": "2022-06-15T16:09:53.119Z"
   },
   {
    "duration": 54,
    "start_time": "2022-06-15T16:09:53.134Z"
   },
   {
    "duration": 40,
    "start_time": "2022-06-15T16:09:53.192Z"
   },
   {
    "duration": 536,
    "start_time": "2022-06-15T16:09:53.234Z"
   },
   {
    "duration": 369,
    "start_time": "2022-06-15T16:09:53.772Z"
   },
   {
    "duration": 208,
    "start_time": "2022-06-15T16:09:54.144Z"
   },
   {
    "duration": 14,
    "start_time": "2022-06-15T16:09:54.354Z"
   },
   {
    "duration": 33,
    "start_time": "2022-06-15T16:09:54.370Z"
   },
   {
    "duration": 49,
    "start_time": "2022-06-15T16:09:54.405Z"
   },
   {
    "duration": 164,
    "start_time": "2022-06-15T16:09:54.456Z"
   },
   {
    "duration": 154,
    "start_time": "2022-06-15T16:09:54.622Z"
   },
   {
    "duration": 5,
    "start_time": "2022-06-15T16:09:54.778Z"
   },
   {
    "duration": 160,
    "start_time": "2022-06-15T16:09:54.784Z"
   },
   {
    "duration": 257,
    "start_time": "2022-06-15T16:09:54.951Z"
   },
   {
    "duration": 8,
    "start_time": "2022-06-15T16:09:55.210Z"
   },
   {
    "duration": 56,
    "start_time": "2022-06-15T16:09:55.220Z"
   },
   {
    "duration": 44,
    "start_time": "2022-06-15T16:09:55.278Z"
   },
   {
    "duration": 225,
    "start_time": "2022-06-15T16:09:55.324Z"
   },
   {
    "duration": 17,
    "start_time": "2022-06-15T16:09:55.552Z"
   },
   {
    "duration": 52,
    "start_time": "2022-06-15T16:09:55.571Z"
   },
   {
    "duration": 250,
    "start_time": "2022-06-15T16:09:55.625Z"
   },
   {
    "duration": 16,
    "start_time": "2022-06-15T16:09:55.877Z"
   },
   {
    "duration": 15,
    "start_time": "2022-06-15T16:09:55.895Z"
   },
   {
    "duration": 46,
    "start_time": "2022-06-15T16:09:55.912Z"
   },
   {
    "duration": 14,
    "start_time": "2022-06-15T16:09:55.960Z"
   },
   {
    "duration": 19,
    "start_time": "2022-06-15T16:09:55.976Z"
   },
   {
    "duration": 22,
    "start_time": "2022-06-15T16:09:55.996Z"
   },
   {
    "duration": 45,
    "start_time": "2022-06-15T16:09:56.019Z"
   },
   {
    "duration": 32,
    "start_time": "2022-06-15T16:09:56.065Z"
   },
   {
    "duration": 4,
    "start_time": "2022-06-15T16:14:28.064Z"
   },
   {
    "duration": 4,
    "start_time": "2022-06-15T16:14:35.032Z"
   },
   {
    "duration": 4,
    "start_time": "2022-06-15T16:14:45.352Z"
   },
   {
    "duration": 53,
    "start_time": "2022-06-15T16:20:50.480Z"
   },
   {
    "duration": 5,
    "start_time": "2022-06-15T16:20:54.581Z"
   },
   {
    "duration": 15,
    "start_time": "2022-06-15T16:28:56.610Z"
   },
   {
    "duration": 22,
    "start_time": "2022-06-15T16:30:10.135Z"
   },
   {
    "duration": 3,
    "start_time": "2022-06-15T16:33:35.721Z"
   },
   {
    "duration": 3,
    "start_time": "2022-06-15T16:35:31.571Z"
   },
   {
    "duration": 14,
    "start_time": "2022-06-15T16:35:44.512Z"
   },
   {
    "duration": 3,
    "start_time": "2022-06-15T16:35:48.361Z"
   },
   {
    "duration": 55,
    "start_time": "2022-06-15T16:35:48.365Z"
   },
   {
    "duration": 51,
    "start_time": "2022-06-15T16:35:48.422Z"
   },
   {
    "duration": 5,
    "start_time": "2022-06-15T16:35:48.475Z"
   },
   {
    "duration": 6,
    "start_time": "2022-06-15T16:35:48.482Z"
   },
   {
    "duration": 10,
    "start_time": "2022-06-15T16:35:48.490Z"
   },
   {
    "duration": 14,
    "start_time": "2022-06-15T16:35:48.502Z"
   },
   {
    "duration": 45,
    "start_time": "2022-06-15T16:35:48.518Z"
   },
   {
    "duration": 31,
    "start_time": "2022-06-15T16:35:48.564Z"
   },
   {
    "duration": 14,
    "start_time": "2022-06-15T16:35:48.597Z"
   },
   {
    "duration": 41,
    "start_time": "2022-06-15T16:35:48.612Z"
   },
   {
    "duration": 27,
    "start_time": "2022-06-15T16:35:48.655Z"
   },
   {
    "duration": 4,
    "start_time": "2022-06-15T16:35:48.684Z"
   },
   {
    "duration": 20,
    "start_time": "2022-06-15T16:35:48.690Z"
   },
   {
    "duration": 2193,
    "start_time": "2022-06-15T16:35:48.712Z"
   },
   {
    "duration": 44,
    "start_time": "2022-06-15T16:35:50.907Z"
   },
   {
    "duration": 15,
    "start_time": "2022-06-15T16:35:50.953Z"
   },
   {
    "duration": 11,
    "start_time": "2022-06-15T16:35:50.969Z"
   },
   {
    "duration": 11,
    "start_time": "2022-06-15T16:35:50.981Z"
   },
   {
    "duration": 18,
    "start_time": "2022-06-15T16:35:50.993Z"
   },
   {
    "duration": 10,
    "start_time": "2022-06-15T16:35:51.013Z"
   },
   {
    "duration": 38,
    "start_time": "2022-06-15T16:35:51.025Z"
   },
   {
    "duration": 8,
    "start_time": "2022-06-15T16:35:51.065Z"
   },
   {
    "duration": 9,
    "start_time": "2022-06-15T16:35:51.079Z"
   },
   {
    "duration": 12,
    "start_time": "2022-06-15T16:35:51.090Z"
   },
   {
    "duration": 7,
    "start_time": "2022-06-15T16:35:51.104Z"
   },
   {
    "duration": 50,
    "start_time": "2022-06-15T16:35:51.113Z"
   },
   {
    "duration": 18,
    "start_time": "2022-06-15T16:35:51.165Z"
   },
   {
    "duration": 10,
    "start_time": "2022-06-15T16:35:51.185Z"
   },
   {
    "duration": 16,
    "start_time": "2022-06-15T16:35:51.197Z"
   },
   {
    "duration": 52,
    "start_time": "2022-06-15T16:35:51.214Z"
   },
   {
    "duration": 17,
    "start_time": "2022-06-15T16:35:51.268Z"
   },
   {
    "duration": 378,
    "start_time": "2022-06-15T16:35:51.286Z"
   },
   {
    "duration": 18,
    "start_time": "2022-06-15T16:35:51.666Z"
   },
   {
    "duration": 6,
    "start_time": "2022-06-15T16:35:51.686Z"
   },
   {
    "duration": 13,
    "start_time": "2022-06-15T16:35:51.694Z"
   },
   {
    "duration": 55,
    "start_time": "2022-06-15T16:35:51.709Z"
   },
   {
    "duration": 30,
    "start_time": "2022-06-15T16:35:51.765Z"
   },
   {
    "duration": 571,
    "start_time": "2022-06-15T16:35:51.797Z"
   },
   {
    "duration": 479,
    "start_time": "2022-06-15T16:35:52.371Z"
   },
   {
    "duration": 206,
    "start_time": "2022-06-15T16:35:52.852Z"
   },
   {
    "duration": 14,
    "start_time": "2022-06-15T16:35:53.059Z"
   },
   {
    "duration": 29,
    "start_time": "2022-06-15T16:35:53.075Z"
   },
   {
    "duration": 55,
    "start_time": "2022-06-15T16:35:53.106Z"
   },
   {
    "duration": 171,
    "start_time": "2022-06-15T16:35:53.163Z"
   },
   {
    "duration": 167,
    "start_time": "2022-06-15T16:35:53.336Z"
   },
   {
    "duration": 5,
    "start_time": "2022-06-15T16:35:53.505Z"
   },
   {
    "duration": 160,
    "start_time": "2022-06-15T16:35:53.512Z"
   },
   {
    "duration": 161,
    "start_time": "2022-06-15T16:35:53.673Z"
   },
   {
    "duration": 6,
    "start_time": "2022-06-15T16:35:53.836Z"
   },
   {
    "duration": 27,
    "start_time": "2022-06-15T16:35:53.851Z"
   },
   {
    "duration": 35,
    "start_time": "2022-06-15T16:35:53.880Z"
   },
   {
    "duration": 233,
    "start_time": "2022-06-15T16:35:53.917Z"
   },
   {
    "duration": 17,
    "start_time": "2022-06-15T16:35:54.152Z"
   },
   {
    "duration": 30,
    "start_time": "2022-06-15T16:35:54.171Z"
   },
   {
    "duration": 262,
    "start_time": "2022-06-15T16:35:54.204Z"
   },
   {
    "duration": 14,
    "start_time": "2022-06-15T16:35:54.468Z"
   },
   {
    "duration": 12,
    "start_time": "2022-06-15T16:35:54.483Z"
   },
   {
    "duration": 16,
    "start_time": "2022-06-15T16:35:54.497Z"
   },
   {
    "duration": 46,
    "start_time": "2022-06-15T16:35:54.515Z"
   },
   {
    "duration": 14,
    "start_time": "2022-06-15T16:35:54.563Z"
   },
   {
    "duration": 24,
    "start_time": "2022-06-15T16:35:54.578Z"
   },
   {
    "duration": 20,
    "start_time": "2022-06-15T16:35:54.604Z"
   },
   {
    "duration": 32,
    "start_time": "2022-06-15T16:35:54.651Z"
   },
   {
    "duration": 3,
    "start_time": "2022-06-15T16:36:36.582Z"
   },
   {
    "duration": 61,
    "start_time": "2022-06-15T16:36:36.587Z"
   },
   {
    "duration": 51,
    "start_time": "2022-06-15T16:36:36.650Z"
   },
   {
    "duration": 5,
    "start_time": "2022-06-15T16:36:36.703Z"
   },
   {
    "duration": 6,
    "start_time": "2022-06-15T16:36:36.711Z"
   },
   {
    "duration": 39,
    "start_time": "2022-06-15T16:36:36.718Z"
   },
   {
    "duration": 13,
    "start_time": "2022-06-15T16:36:36.759Z"
   },
   {
    "duration": 13,
    "start_time": "2022-06-15T16:36:36.774Z"
   },
   {
    "duration": 62,
    "start_time": "2022-06-15T16:36:36.789Z"
   },
   {
    "duration": 13,
    "start_time": "2022-06-15T16:36:36.853Z"
   },
   {
    "duration": 7,
    "start_time": "2022-06-15T16:36:36.868Z"
   },
   {
    "duration": 26,
    "start_time": "2022-06-15T16:36:36.877Z"
   },
   {
    "duration": 5,
    "start_time": "2022-06-15T16:36:36.906Z"
   },
   {
    "duration": 51,
    "start_time": "2022-06-15T16:36:36.912Z"
   },
   {
    "duration": 1999,
    "start_time": "2022-06-15T16:36:36.965Z"
   },
   {
    "duration": 14,
    "start_time": "2022-06-15T16:36:38.968Z"
   },
   {
    "duration": 14,
    "start_time": "2022-06-15T16:36:38.992Z"
   },
   {
    "duration": 47,
    "start_time": "2022-06-15T16:36:39.008Z"
   },
   {
    "duration": 3,
    "start_time": "2022-06-15T16:36:39.056Z"
   },
   {
    "duration": 12,
    "start_time": "2022-06-15T16:36:39.061Z"
   },
   {
    "duration": 5,
    "start_time": "2022-06-15T16:36:39.075Z"
   },
   {
    "duration": 14,
    "start_time": "2022-06-15T16:36:39.082Z"
   },
   {
    "duration": 7,
    "start_time": "2022-06-15T16:36:39.097Z"
   },
   {
    "duration": 47,
    "start_time": "2022-06-15T16:36:39.106Z"
   },
   {
    "duration": 7,
    "start_time": "2022-06-15T16:36:39.155Z"
   },
   {
    "duration": 11,
    "start_time": "2022-06-15T16:36:39.164Z"
   },
   {
    "duration": 16,
    "start_time": "2022-06-15T16:36:39.177Z"
   },
   {
    "duration": 16,
    "start_time": "2022-06-15T16:36:39.195Z"
   },
   {
    "duration": 6,
    "start_time": "2022-06-15T16:36:39.213Z"
   },
   {
    "duration": 41,
    "start_time": "2022-06-15T16:36:39.220Z"
   },
   {
    "duration": 17,
    "start_time": "2022-06-15T16:36:39.263Z"
   },
   {
    "duration": 18,
    "start_time": "2022-06-15T16:36:39.282Z"
   },
   {
    "duration": 440,
    "start_time": "2022-06-15T16:36:39.302Z"
   },
   {
    "duration": 22,
    "start_time": "2022-06-15T16:36:39.744Z"
   },
   {
    "duration": 6,
    "start_time": "2022-06-15T16:36:39.768Z"
   },
   {
    "duration": 11,
    "start_time": "2022-06-15T16:36:39.775Z"
   },
   {
    "duration": 25,
    "start_time": "2022-06-15T16:36:39.790Z"
   },
   {
    "duration": 63,
    "start_time": "2022-06-15T16:36:39.816Z"
   },
   {
    "duration": 534,
    "start_time": "2022-06-15T16:36:39.881Z"
   },
   {
    "duration": 349,
    "start_time": "2022-06-15T16:36:40.417Z"
   },
   {
    "duration": 202,
    "start_time": "2022-06-15T16:36:40.769Z"
   },
   {
    "duration": 15,
    "start_time": "2022-06-15T16:36:40.972Z"
   },
   {
    "duration": 28,
    "start_time": "2022-06-15T16:36:40.989Z"
   },
   {
    "duration": 52,
    "start_time": "2022-06-15T16:36:41.019Z"
   },
   {
    "duration": 173,
    "start_time": "2022-06-15T16:36:41.073Z"
   },
   {
    "duration": 164,
    "start_time": "2022-06-15T16:36:41.248Z"
   },
   {
    "duration": 6,
    "start_time": "2022-06-15T16:36:41.413Z"
   },
   {
    "duration": 166,
    "start_time": "2022-06-15T16:36:41.421Z"
   },
   {
    "duration": 256,
    "start_time": "2022-06-15T16:36:41.588Z"
   },
   {
    "duration": 6,
    "start_time": "2022-06-15T16:36:41.852Z"
   },
   {
    "duration": 25,
    "start_time": "2022-06-15T16:36:41.860Z"
   },
   {
    "duration": 10,
    "start_time": "2022-06-15T16:36:41.887Z"
   },
   {
    "duration": 234,
    "start_time": "2022-06-15T16:36:41.899Z"
   },
   {
    "duration": 25,
    "start_time": "2022-06-15T16:36:42.135Z"
   },
   {
    "duration": 27,
    "start_time": "2022-06-15T16:36:42.162Z"
   },
   {
    "duration": 239,
    "start_time": "2022-06-15T16:36:42.191Z"
   },
   {
    "duration": 21,
    "start_time": "2022-06-15T16:36:42.432Z"
   },
   {
    "duration": 12,
    "start_time": "2022-06-15T16:36:42.454Z"
   },
   {
    "duration": 12,
    "start_time": "2022-06-15T16:36:42.468Z"
   },
   {
    "duration": 14,
    "start_time": "2022-06-15T16:36:42.481Z"
   },
   {
    "duration": 58,
    "start_time": "2022-06-15T16:36:42.496Z"
   },
   {
    "duration": 30,
    "start_time": "2022-06-15T16:36:42.556Z"
   },
   {
    "duration": 26,
    "start_time": "2022-06-15T16:36:42.589Z"
   },
   {
    "duration": 67,
    "start_time": "2022-06-15T16:36:42.617Z"
   },
   {
    "duration": 20,
    "start_time": "2022-06-15T16:45:48.991Z"
   },
   {
    "duration": 13,
    "start_time": "2022-06-15T16:47:05.003Z"
   },
   {
    "duration": 17,
    "start_time": "2022-06-15T16:48:39.147Z"
   },
   {
    "duration": 2,
    "start_time": "2022-06-15T16:54:05.571Z"
   },
   {
    "duration": 28,
    "start_time": "2022-06-15T16:56:53.051Z"
   },
   {
    "duration": 10,
    "start_time": "2022-06-15T17:00:10.159Z"
   },
   {
    "duration": 13,
    "start_time": "2022-06-15T17:00:15.984Z"
   },
   {
    "duration": 4,
    "start_time": "2022-06-15T17:00:48.612Z"
   },
   {
    "duration": 56,
    "start_time": "2022-06-15T17:00:48.617Z"
   },
   {
    "duration": 54,
    "start_time": "2022-06-15T17:00:48.675Z"
   },
   {
    "duration": 7,
    "start_time": "2022-06-15T17:00:48.751Z"
   },
   {
    "duration": 19,
    "start_time": "2022-06-15T17:00:48.760Z"
   },
   {
    "duration": 13,
    "start_time": "2022-06-15T17:00:48.781Z"
   },
   {
    "duration": 21,
    "start_time": "2022-06-15T17:00:48.796Z"
   },
   {
    "duration": 43,
    "start_time": "2022-06-15T17:00:48.819Z"
   },
   {
    "duration": 26,
    "start_time": "2022-06-15T17:00:48.864Z"
   },
   {
    "duration": 17,
    "start_time": "2022-06-15T17:00:48.892Z"
   },
   {
    "duration": 9,
    "start_time": "2022-06-15T17:00:48.952Z"
   },
   {
    "duration": 28,
    "start_time": "2022-06-15T17:00:48.963Z"
   },
   {
    "duration": 5,
    "start_time": "2022-06-15T17:00:48.993Z"
   },
   {
    "duration": 24,
    "start_time": "2022-06-15T17:00:49.000Z"
   },
   {
    "duration": 2156,
    "start_time": "2022-06-15T17:00:49.025Z"
   },
   {
    "duration": 7,
    "start_time": "2022-06-15T17:00:51.183Z"
   },
   {
    "duration": 20,
    "start_time": "2022-06-15T17:00:51.193Z"
   },
   {
    "duration": 7,
    "start_time": "2022-06-15T17:00:51.251Z"
   },
   {
    "duration": 8,
    "start_time": "2022-06-15T17:00:51.260Z"
   },
   {
    "duration": 18,
    "start_time": "2022-06-15T17:00:51.269Z"
   },
   {
    "duration": 8,
    "start_time": "2022-06-15T17:00:51.289Z"
   },
   {
    "duration": 4,
    "start_time": "2022-06-15T17:00:51.299Z"
   },
   {
    "duration": 47,
    "start_time": "2022-06-15T17:00:51.305Z"
   },
   {
    "duration": 13,
    "start_time": "2022-06-15T17:00:51.357Z"
   },
   {
    "duration": 13,
    "start_time": "2022-06-15T17:00:51.372Z"
   },
   {
    "duration": 8,
    "start_time": "2022-06-15T17:00:51.386Z"
   },
   {
    "duration": 18,
    "start_time": "2022-06-15T17:00:51.396Z"
   },
   {
    "duration": 38,
    "start_time": "2022-06-15T17:00:51.416Z"
   },
   {
    "duration": 6,
    "start_time": "2022-06-15T17:00:51.457Z"
   },
   {
    "duration": 40,
    "start_time": "2022-06-15T17:00:51.465Z"
   },
   {
    "duration": 18,
    "start_time": "2022-06-15T17:00:51.507Z"
   },
   {
    "duration": 26,
    "start_time": "2022-06-15T17:00:51.527Z"
   },
   {
    "duration": 347,
    "start_time": "2022-06-15T17:00:51.554Z"
   },
   {
    "duration": 20,
    "start_time": "2022-06-15T17:00:51.904Z"
   },
   {
    "duration": 7,
    "start_time": "2022-06-15T17:00:51.926Z"
   },
   {
    "duration": 21,
    "start_time": "2022-06-15T17:00:51.953Z"
   },
   {
    "duration": 46,
    "start_time": "2022-06-15T17:00:51.976Z"
   },
   {
    "duration": 33,
    "start_time": "2022-06-15T17:00:52.024Z"
   },
   {
    "duration": 580,
    "start_time": "2022-06-15T17:00:52.059Z"
   },
   {
    "duration": 453,
    "start_time": "2022-06-15T17:00:52.640Z"
   },
   {
    "duration": 187,
    "start_time": "2022-06-15T17:00:53.094Z"
   },
   {
    "duration": 14,
    "start_time": "2022-06-15T17:00:53.282Z"
   },
   {
    "duration": 55,
    "start_time": "2022-06-15T17:00:53.298Z"
   },
   {
    "duration": 29,
    "start_time": "2022-06-15T17:00:53.355Z"
   },
   {
    "duration": 169,
    "start_time": "2022-06-15T17:00:53.385Z"
   },
   {
    "duration": 153,
    "start_time": "2022-06-15T17:00:53.555Z"
   },
   {
    "duration": 6,
    "start_time": "2022-06-15T17:00:53.709Z"
   },
   {
    "duration": 168,
    "start_time": "2022-06-15T17:00:53.717Z"
   },
   {
    "duration": 157,
    "start_time": "2022-06-15T17:00:53.887Z"
   },
   {
    "duration": 8,
    "start_time": "2022-06-15T17:00:54.046Z"
   },
   {
    "duration": 16,
    "start_time": "2022-06-15T17:00:54.056Z"
   },
   {
    "duration": 16,
    "start_time": "2022-06-15T17:00:54.074Z"
   },
   {
    "duration": 273,
    "start_time": "2022-06-15T17:00:54.092Z"
   },
   {
    "duration": 18,
    "start_time": "2022-06-15T17:00:54.367Z"
   },
   {
    "duration": 41,
    "start_time": "2022-06-15T17:00:54.386Z"
   },
   {
    "duration": 254,
    "start_time": "2022-06-15T17:00:54.429Z"
   },
   {
    "duration": 13,
    "start_time": "2022-06-15T17:00:54.685Z"
   },
   {
    "duration": 18,
    "start_time": "2022-06-15T17:00:54.699Z"
   },
   {
    "duration": 39,
    "start_time": "2022-06-15T17:00:54.718Z"
   },
   {
    "duration": 12,
    "start_time": "2022-06-15T17:00:54.759Z"
   },
   {
    "duration": 28,
    "start_time": "2022-06-15T17:00:54.772Z"
   },
   {
    "duration": 27,
    "start_time": "2022-06-15T17:00:54.801Z"
   },
   {
    "duration": 34,
    "start_time": "2022-06-15T17:00:54.829Z"
   },
   {
    "duration": 34,
    "start_time": "2022-06-15T17:00:54.865Z"
   },
   {
    "duration": 19,
    "start_time": "2022-06-15T17:01:54.801Z"
   },
   {
    "duration": 17,
    "start_time": "2022-06-15T17:03:16.913Z"
   },
   {
    "duration": 14,
    "start_time": "2022-06-15T17:06:30.332Z"
   },
   {
    "duration": 20,
    "start_time": "2022-06-15T17:07:20.478Z"
   },
   {
    "duration": 30,
    "start_time": "2022-06-15T17:07:44.389Z"
   },
   {
    "duration": 30,
    "start_time": "2022-06-15T17:08:05.492Z"
   },
   {
    "duration": 27,
    "start_time": "2022-06-15T17:09:03.479Z"
   },
   {
    "duration": 25,
    "start_time": "2022-06-15T17:09:09.728Z"
   },
   {
    "duration": 20,
    "start_time": "2022-06-15T17:09:18.500Z"
   },
   {
    "duration": 30,
    "start_time": "2022-06-15T17:09:26.260Z"
   },
   {
    "duration": 9,
    "start_time": "2022-06-15T17:10:16.620Z"
   },
   {
    "duration": 14,
    "start_time": "2022-06-15T17:10:34.682Z"
   },
   {
    "duration": 15,
    "start_time": "2022-06-15T17:11:04.040Z"
   },
   {
    "duration": 12,
    "start_time": "2022-06-15T17:11:21.563Z"
   },
   {
    "duration": 493,
    "start_time": "2022-06-15T17:11:36.377Z"
   },
   {
    "duration": 12,
    "start_time": "2022-06-15T17:11:58.911Z"
   },
   {
    "duration": 41,
    "start_time": "2022-06-15T17:13:15.419Z"
   },
   {
    "duration": 12,
    "start_time": "2022-06-15T17:18:17.212Z"
   },
   {
    "duration": 840,
    "start_time": "2022-06-15T17:18:49.072Z"
   },
   {
    "duration": 11,
    "start_time": "2022-06-15T17:21:23.434Z"
   },
   {
    "duration": 18,
    "start_time": "2022-06-15T17:21:55.112Z"
   },
   {
    "duration": 23,
    "start_time": "2022-06-15T17:22:37.712Z"
   },
   {
    "duration": 23,
    "start_time": "2022-06-15T17:23:38.031Z"
   },
   {
    "duration": 13,
    "start_time": "2022-06-15T17:25:44.539Z"
   },
   {
    "duration": 21,
    "start_time": "2022-06-15T17:25:45.935Z"
   },
   {
    "duration": 12,
    "start_time": "2022-06-15T17:26:43.253Z"
   },
   {
    "duration": 23,
    "start_time": "2022-06-15T17:27:49.572Z"
   },
   {
    "duration": 2,
    "start_time": "2022-06-15T17:30:30.625Z"
   },
   {
    "duration": 249,
    "start_time": "2022-06-15T17:32:03.741Z"
   },
   {
    "duration": 421,
    "start_time": "2022-06-15T17:32:18.362Z"
   },
   {
    "duration": 239,
    "start_time": "2022-06-15T17:32:43.263Z"
   },
   {
    "duration": 253,
    "start_time": "2022-06-15T17:33:33.504Z"
   },
   {
    "duration": 32,
    "start_time": "2022-06-15T17:33:54.882Z"
   },
   {
    "duration": 240,
    "start_time": "2022-06-15T17:34:19.982Z"
   },
   {
    "duration": 230,
    "start_time": "2022-06-15T17:34:24.882Z"
   },
   {
    "duration": 3,
    "start_time": "2022-06-15T17:34:33.685Z"
   },
   {
    "duration": 52,
    "start_time": "2022-06-15T17:34:33.703Z"
   },
   {
    "duration": 54,
    "start_time": "2022-06-15T17:34:33.757Z"
   },
   {
    "duration": 7,
    "start_time": "2022-06-15T17:34:33.813Z"
   },
   {
    "duration": 6,
    "start_time": "2022-06-15T17:34:33.851Z"
   },
   {
    "duration": 9,
    "start_time": "2022-06-15T17:34:33.859Z"
   },
   {
    "duration": 21,
    "start_time": "2022-06-15T17:34:33.871Z"
   },
   {
    "duration": 18,
    "start_time": "2022-06-15T17:34:33.894Z"
   },
   {
    "duration": 30,
    "start_time": "2022-06-15T17:34:33.952Z"
   },
   {
    "duration": 14,
    "start_time": "2022-06-15T17:34:33.984Z"
   },
   {
    "duration": 10,
    "start_time": "2022-06-15T17:34:34.002Z"
   },
   {
    "duration": 34,
    "start_time": "2022-06-15T17:34:34.052Z"
   },
   {
    "duration": 5,
    "start_time": "2022-06-15T17:34:34.088Z"
   },
   {
    "duration": 68,
    "start_time": "2022-06-15T17:34:34.094Z"
   },
   {
    "duration": 2426,
    "start_time": "2022-06-15T17:34:34.164Z"
   },
   {
    "duration": 58,
    "start_time": "2022-06-15T17:34:36.607Z"
   },
   {
    "duration": 22,
    "start_time": "2022-06-15T17:34:36.669Z"
   },
   {
    "duration": 6,
    "start_time": "2022-06-15T17:34:36.692Z"
   },
   {
    "duration": 7,
    "start_time": "2022-06-15T17:34:36.699Z"
   },
   {
    "duration": 46,
    "start_time": "2022-06-15T17:34:36.707Z"
   },
   {
    "duration": 5,
    "start_time": "2022-06-15T17:34:36.755Z"
   },
   {
    "duration": 9,
    "start_time": "2022-06-15T17:34:36.762Z"
   },
   {
    "duration": 10,
    "start_time": "2022-06-15T17:34:36.772Z"
   },
   {
    "duration": 7,
    "start_time": "2022-06-15T17:34:36.784Z"
   },
   {
    "duration": 14,
    "start_time": "2022-06-15T17:34:36.792Z"
   },
   {
    "duration": 16,
    "start_time": "2022-06-15T17:34:36.808Z"
   },
   {
    "duration": 35,
    "start_time": "2022-06-15T17:34:36.826Z"
   },
   {
    "duration": 13,
    "start_time": "2022-06-15T17:34:36.863Z"
   },
   {
    "duration": 14,
    "start_time": "2022-06-15T17:34:36.880Z"
   },
   {
    "duration": 11,
    "start_time": "2022-06-15T17:34:36.895Z"
   },
   {
    "duration": 60,
    "start_time": "2022-06-15T17:34:36.908Z"
   },
   {
    "duration": 5,
    "start_time": "2022-06-15T17:34:36.970Z"
   },
   {
    "duration": 17,
    "start_time": "2022-06-15T17:34:36.977Z"
   },
   {
    "duration": 16,
    "start_time": "2022-06-15T17:34:36.996Z"
   },
   {
    "duration": 49,
    "start_time": "2022-06-15T17:34:37.013Z"
   },
   {
    "duration": 338,
    "start_time": "2022-06-15T17:34:37.064Z"
   },
   {
    "duration": 19,
    "start_time": "2022-06-15T17:34:37.403Z"
   },
   {
    "duration": 7,
    "start_time": "2022-06-15T17:34:37.424Z"
   },
   {
    "duration": 12,
    "start_time": "2022-06-15T17:34:37.452Z"
   },
   {
    "duration": 39,
    "start_time": "2022-06-15T17:34:37.466Z"
   },
   {
    "duration": 57,
    "start_time": "2022-06-15T17:34:37.507Z"
   },
   {
    "duration": 680,
    "start_time": "2022-06-15T17:34:37.566Z"
   },
   {
    "duration": 244,
    "start_time": "2022-06-15T17:34:38.248Z"
   },
   {
    "duration": 189,
    "start_time": "2022-06-15T17:34:38.494Z"
   },
   {
    "duration": 14,
    "start_time": "2022-06-15T17:34:38.685Z"
   },
   {
    "duration": 28,
    "start_time": "2022-06-15T17:34:38.701Z"
   },
   {
    "duration": 46,
    "start_time": "2022-06-15T17:34:38.730Z"
   },
   {
    "duration": 174,
    "start_time": "2022-06-15T17:34:38.778Z"
   },
   {
    "duration": 165,
    "start_time": "2022-06-15T17:34:38.953Z"
   },
   {
    "duration": 6,
    "start_time": "2022-06-15T17:34:39.120Z"
   },
   {
    "duration": 176,
    "start_time": "2022-06-15T17:34:39.128Z"
   },
   {
    "duration": 165,
    "start_time": "2022-06-15T17:34:39.306Z"
   },
   {
    "duration": 7,
    "start_time": "2022-06-15T17:34:39.473Z"
   },
   {
    "duration": 40,
    "start_time": "2022-06-15T17:34:39.482Z"
   },
   {
    "duration": 19,
    "start_time": "2022-06-15T17:34:39.524Z"
   },
   {
    "duration": 212,
    "start_time": "2022-06-15T17:34:39.545Z"
   },
   {
    "duration": 19,
    "start_time": "2022-06-15T17:34:39.760Z"
   },
   {
    "duration": 44,
    "start_time": "2022-06-15T17:34:39.781Z"
   },
   {
    "duration": 260,
    "start_time": "2022-06-15T17:34:39.827Z"
   },
   {
    "duration": 15,
    "start_time": "2022-06-15T17:34:40.089Z"
   },
   {
    "duration": 15,
    "start_time": "2022-06-15T17:34:40.106Z"
   },
   {
    "duration": 40,
    "start_time": "2022-06-15T17:34:40.125Z"
   },
   {
    "duration": 20,
    "start_time": "2022-06-15T17:34:40.167Z"
   },
   {
    "duration": 24,
    "start_time": "2022-06-15T17:34:40.190Z"
   },
   {
    "duration": 28,
    "start_time": "2022-06-15T17:34:40.253Z"
   },
   {
    "duration": 23,
    "start_time": "2022-06-15T17:34:40.284Z"
   },
   {
    "duration": 77,
    "start_time": "2022-06-15T17:34:40.309Z"
   },
   {
    "duration": 30,
    "start_time": "2022-06-15T17:35:52.300Z"
   },
   {
    "duration": 252,
    "start_time": "2022-06-15T17:36:31.641Z"
   },
   {
    "duration": 360,
    "start_time": "2022-06-15T17:36:51.882Z"
   },
   {
    "duration": 227,
    "start_time": "2022-06-15T17:37:00.271Z"
   },
   {
    "duration": 227,
    "start_time": "2022-06-15T17:37:14.652Z"
   },
   {
    "duration": 211,
    "start_time": "2022-06-15T17:37:26.571Z"
   },
   {
    "duration": 246,
    "start_time": "2022-06-15T17:37:33.839Z"
   },
   {
    "duration": 208,
    "start_time": "2022-06-15T17:37:40.892Z"
   },
   {
    "duration": 210,
    "start_time": "2022-06-15T17:37:46.392Z"
   },
   {
    "duration": 355,
    "start_time": "2022-06-15T17:37:50.922Z"
   },
   {
    "duration": 219,
    "start_time": "2022-06-15T17:37:56.715Z"
   },
   {
    "duration": 228,
    "start_time": "2022-06-15T17:38:02.677Z"
   },
   {
    "duration": 40,
    "start_time": "2022-06-15T17:39:08.764Z"
   },
   {
    "duration": 25,
    "start_time": "2022-06-15T17:41:20.942Z"
   },
   {
    "duration": 147,
    "start_time": "2022-06-15T17:41:25.761Z"
   },
   {
    "duration": 162,
    "start_time": "2022-06-15T17:41:31.942Z"
   },
   {
    "duration": 5,
    "start_time": "2022-06-15T17:41:43.104Z"
   },
   {
    "duration": 147,
    "start_time": "2022-06-15T17:41:53.401Z"
   },
   {
    "duration": 7,
    "start_time": "2022-06-15T17:42:00.121Z"
   },
   {
    "duration": 143,
    "start_time": "2022-06-15T17:42:01.582Z"
   },
   {
    "duration": 24,
    "start_time": "2022-06-15T17:46:56.499Z"
   },
   {
    "duration": 52,
    "start_time": "2022-06-15T17:52:04.898Z"
   },
   {
    "duration": 131,
    "start_time": "2022-06-15T17:52:50.622Z"
   },
   {
    "duration": 117,
    "start_time": "2022-06-15T17:53:08.130Z"
   },
   {
    "duration": 30,
    "start_time": "2022-06-15T17:53:58.881Z"
   },
   {
    "duration": 24,
    "start_time": "2022-06-15T17:54:17.200Z"
   },
   {
    "duration": 144,
    "start_time": "2022-06-15T17:54:30.902Z"
   },
   {
    "duration": 136,
    "start_time": "2022-06-15T17:54:42.922Z"
   },
   {
    "duration": 28,
    "start_time": "2022-06-15T17:57:09.312Z"
   },
   {
    "duration": 47,
    "start_time": "2022-06-16T12:17:26.058Z"
   },
   {
    "duration": 6,
    "start_time": "2022-06-16T12:19:04.857Z"
   },
   {
    "duration": 1322,
    "start_time": "2022-06-16T12:19:09.395Z"
   },
   {
    "duration": 93,
    "start_time": "2022-06-16T12:19:10.719Z"
   },
   {
    "duration": 56,
    "start_time": "2022-06-16T12:19:10.814Z"
   },
   {
    "duration": 6,
    "start_time": "2022-06-16T12:19:10.873Z"
   },
   {
    "duration": 32,
    "start_time": "2022-06-16T12:19:10.881Z"
   },
   {
    "duration": 20,
    "start_time": "2022-06-16T12:19:10.915Z"
   },
   {
    "duration": 35,
    "start_time": "2022-06-16T12:19:10.938Z"
   },
   {
    "duration": 20,
    "start_time": "2022-06-16T12:19:10.976Z"
   },
   {
    "duration": 45,
    "start_time": "2022-06-16T12:19:10.998Z"
   },
   {
    "duration": 26,
    "start_time": "2022-06-16T12:19:11.045Z"
   },
   {
    "duration": 12,
    "start_time": "2022-06-16T12:19:11.072Z"
   },
   {
    "duration": 54,
    "start_time": "2022-06-16T12:19:11.086Z"
   },
   {
    "duration": 5,
    "start_time": "2022-06-16T12:19:11.142Z"
   },
   {
    "duration": 51,
    "start_time": "2022-06-16T12:19:11.150Z"
   },
   {
    "duration": 2172,
    "start_time": "2022-06-16T12:19:11.204Z"
   },
   {
    "duration": 6,
    "start_time": "2022-06-16T12:19:13.378Z"
   },
   {
    "duration": 20,
    "start_time": "2022-06-16T12:19:13.386Z"
   },
   {
    "duration": 6,
    "start_time": "2022-06-16T12:19:13.408Z"
   },
   {
    "duration": 7,
    "start_time": "2022-06-16T12:19:13.416Z"
   },
   {
    "duration": 45,
    "start_time": "2022-06-16T12:19:13.425Z"
   },
   {
    "duration": 5,
    "start_time": "2022-06-16T12:19:13.472Z"
   },
   {
    "duration": 6,
    "start_time": "2022-06-16T12:19:13.479Z"
   },
   {
    "duration": 9,
    "start_time": "2022-06-16T12:19:13.486Z"
   },
   {
    "duration": 4,
    "start_time": "2022-06-16T12:19:13.497Z"
   },
   {
    "duration": 8,
    "start_time": "2022-06-16T12:19:13.503Z"
   },
   {
    "duration": 7,
    "start_time": "2022-06-16T12:19:13.512Z"
   },
   {
    "duration": 52,
    "start_time": "2022-06-16T12:19:13.521Z"
   },
   {
    "duration": 17,
    "start_time": "2022-06-16T12:19:13.578Z"
   },
   {
    "duration": 22,
    "start_time": "2022-06-16T12:19:13.597Z"
   },
   {
    "duration": 51,
    "start_time": "2022-06-16T12:19:13.622Z"
   },
   {
    "duration": 24,
    "start_time": "2022-06-16T12:19:13.677Z"
   },
   {
    "duration": 8,
    "start_time": "2022-06-16T12:19:13.703Z"
   },
   {
    "duration": 21,
    "start_time": "2022-06-16T12:19:13.713Z"
   },
   {
    "duration": 42,
    "start_time": "2022-06-16T12:19:13.736Z"
   },
   {
    "duration": 24,
    "start_time": "2022-06-16T12:19:13.780Z"
   },
   {
    "duration": 358,
    "start_time": "2022-06-16T12:19:13.806Z"
   },
   {
    "duration": 19,
    "start_time": "2022-06-16T12:19:14.166Z"
   },
   {
    "duration": 7,
    "start_time": "2022-06-16T12:19:14.187Z"
   },
   {
    "duration": 7,
    "start_time": "2022-06-16T12:19:14.195Z"
   },
   {
    "duration": 71,
    "start_time": "2022-06-16T12:19:14.204Z"
   },
   {
    "duration": 28,
    "start_time": "2022-06-16T12:19:14.277Z"
   },
   {
    "duration": 567,
    "start_time": "2022-06-16T12:19:14.307Z"
   },
   {
    "duration": 256,
    "start_time": "2022-06-16T12:19:14.876Z"
   },
   {
    "duration": 303,
    "start_time": "2022-06-16T12:19:15.134Z"
   },
   {
    "duration": 16,
    "start_time": "2022-06-16T12:19:15.438Z"
   },
   {
    "duration": 28,
    "start_time": "2022-06-16T12:19:15.465Z"
   },
   {
    "duration": 24,
    "start_time": "2022-06-16T12:19:15.494Z"
   },
   {
    "duration": 185,
    "start_time": "2022-06-16T12:19:15.520Z"
   },
   {
    "duration": 158,
    "start_time": "2022-06-16T12:19:15.708Z"
   },
   {
    "duration": 8,
    "start_time": "2022-06-16T12:19:15.868Z"
   },
   {
    "duration": 172,
    "start_time": "2022-06-16T12:19:15.878Z"
   },
   {
    "duration": 165,
    "start_time": "2022-06-16T12:19:16.052Z"
   },
   {
    "duration": 7,
    "start_time": "2022-06-16T12:19:16.219Z"
   },
   {
    "duration": 72,
    "start_time": "2022-06-16T12:19:16.228Z"
   },
   {
    "duration": 144,
    "start_time": "2022-06-16T12:19:16.302Z"
   },
   {
    "duration": 139,
    "start_time": "2022-06-16T12:19:16.448Z"
   },
   {
    "duration": 30,
    "start_time": "2022-06-16T12:19:16.589Z"
   },
   {
    "duration": 61,
    "start_time": "2022-06-16T12:19:16.621Z"
   },
   {
    "duration": 159,
    "start_time": "2022-06-16T12:19:16.685Z"
   },
   {
    "duration": 166,
    "start_time": "2022-06-16T12:19:16.846Z"
   },
   {
    "duration": 15,
    "start_time": "2022-06-16T12:19:17.014Z"
   },
   {
    "duration": 38,
    "start_time": "2022-06-16T12:19:17.030Z"
   },
   {
    "duration": 16,
    "start_time": "2022-06-16T12:19:17.071Z"
   },
   {
    "duration": 236,
    "start_time": "2022-06-16T12:19:17.090Z"
   },
   {
    "duration": 19,
    "start_time": "2022-06-16T12:19:17.328Z"
   },
   {
    "duration": 40,
    "start_time": "2022-06-16T12:19:17.348Z"
   },
   {
    "duration": 322,
    "start_time": "2022-06-16T12:19:17.391Z"
   },
   {
    "duration": 14,
    "start_time": "2022-06-16T12:19:17.715Z"
   },
   {
    "duration": 34,
    "start_time": "2022-06-16T12:19:17.731Z"
   },
   {
    "duration": 12,
    "start_time": "2022-06-16T12:19:17.768Z"
   },
   {
    "duration": 13,
    "start_time": "2022-06-16T12:19:17.782Z"
   },
   {
    "duration": 15,
    "start_time": "2022-06-16T12:19:17.797Z"
   },
   {
    "duration": 59,
    "start_time": "2022-06-16T12:19:17.814Z"
   },
   {
    "duration": 22,
    "start_time": "2022-06-16T12:19:17.874Z"
   },
   {
    "duration": 44,
    "start_time": "2022-06-16T12:19:17.898Z"
   },
   {
    "duration": 16,
    "start_time": "2022-06-16T12:21:52.994Z"
   },
   {
    "duration": 4,
    "start_time": "2022-06-16T12:21:59.133Z"
   },
   {
    "duration": 68,
    "start_time": "2022-06-16T12:21:59.152Z"
   },
   {
    "duration": 52,
    "start_time": "2022-06-16T12:21:59.222Z"
   },
   {
    "duration": 6,
    "start_time": "2022-06-16T12:21:59.275Z"
   },
   {
    "duration": 35,
    "start_time": "2022-06-16T12:21:59.282Z"
   },
   {
    "duration": 20,
    "start_time": "2022-06-16T12:21:59.319Z"
   },
   {
    "duration": 46,
    "start_time": "2022-06-16T12:21:59.342Z"
   },
   {
    "duration": 23,
    "start_time": "2022-06-16T12:21:59.390Z"
   },
   {
    "duration": 31,
    "start_time": "2022-06-16T12:21:59.415Z"
   },
   {
    "duration": 21,
    "start_time": "2022-06-16T12:21:59.447Z"
   },
   {
    "duration": 10,
    "start_time": "2022-06-16T12:21:59.470Z"
   },
   {
    "duration": 25,
    "start_time": "2022-06-16T12:21:59.482Z"
   },
   {
    "duration": 4,
    "start_time": "2022-06-16T12:21:59.509Z"
   },
   {
    "duration": 51,
    "start_time": "2022-06-16T12:21:59.515Z"
   },
   {
    "duration": 2208,
    "start_time": "2022-06-16T12:21:59.569Z"
   },
   {
    "duration": 11,
    "start_time": "2022-06-16T12:22:01.780Z"
   },
   {
    "duration": 24,
    "start_time": "2022-06-16T12:22:01.794Z"
   },
   {
    "duration": 9,
    "start_time": "2022-06-16T12:22:01.819Z"
   },
   {
    "duration": 39,
    "start_time": "2022-06-16T12:22:01.830Z"
   },
   {
    "duration": 44,
    "start_time": "2022-06-16T12:22:01.871Z"
   },
   {
    "duration": 7,
    "start_time": "2022-06-16T12:22:01.918Z"
   },
   {
    "duration": 6,
    "start_time": "2022-06-16T12:22:01.927Z"
   },
   {
    "duration": 21,
    "start_time": "2022-06-16T12:22:01.935Z"
   },
   {
    "duration": 15,
    "start_time": "2022-06-16T12:22:01.958Z"
   },
   {
    "duration": 14,
    "start_time": "2022-06-16T12:22:01.976Z"
   },
   {
    "duration": 16,
    "start_time": "2022-06-16T12:22:01.993Z"
   },
   {
    "duration": 22,
    "start_time": "2022-06-16T12:22:02.011Z"
   },
   {
    "duration": 17,
    "start_time": "2022-06-16T12:22:02.036Z"
   },
   {
    "duration": 16,
    "start_time": "2022-06-16T12:22:02.066Z"
   },
   {
    "duration": 12,
    "start_time": "2022-06-16T12:22:02.084Z"
   },
   {
    "duration": 22,
    "start_time": "2022-06-16T12:22:02.098Z"
   },
   {
    "duration": 47,
    "start_time": "2022-06-16T12:22:02.122Z"
   },
   {
    "duration": 19,
    "start_time": "2022-06-16T12:22:02.171Z"
   },
   {
    "duration": 17,
    "start_time": "2022-06-16T12:22:02.192Z"
   },
   {
    "duration": 22,
    "start_time": "2022-06-16T12:22:02.211Z"
   },
   {
    "duration": 364,
    "start_time": "2022-06-16T12:22:02.235Z"
   },
   {
    "duration": 15,
    "start_time": "2022-06-16T12:22:02.601Z"
   },
   {
    "duration": 8,
    "start_time": "2022-06-16T12:22:02.618Z"
   },
   {
    "duration": 39,
    "start_time": "2022-06-16T12:22:02.629Z"
   },
   {
    "duration": 27,
    "start_time": "2022-06-16T12:22:02.670Z"
   },
   {
    "duration": 243,
    "start_time": "2022-06-16T12:22:02.699Z"
   },
   {
    "duration": 0,
    "start_time": "2022-06-16T12:22:02.945Z"
   },
   {
    "duration": 0,
    "start_time": "2022-06-16T12:22:02.946Z"
   },
   {
    "duration": 0,
    "start_time": "2022-06-16T12:22:02.948Z"
   },
   {
    "duration": 0,
    "start_time": "2022-06-16T12:22:02.949Z"
   },
   {
    "duration": 0,
    "start_time": "2022-06-16T12:22:02.950Z"
   },
   {
    "duration": 0,
    "start_time": "2022-06-16T12:22:02.951Z"
   },
   {
    "duration": 0,
    "start_time": "2022-06-16T12:22:02.952Z"
   },
   {
    "duration": 0,
    "start_time": "2022-06-16T12:22:02.953Z"
   },
   {
    "duration": 0,
    "start_time": "2022-06-16T12:22:02.954Z"
   },
   {
    "duration": 0,
    "start_time": "2022-06-16T12:22:02.955Z"
   },
   {
    "duration": 0,
    "start_time": "2022-06-16T12:22:02.956Z"
   },
   {
    "duration": 0,
    "start_time": "2022-06-16T12:22:02.957Z"
   },
   {
    "duration": 0,
    "start_time": "2022-06-16T12:22:02.958Z"
   },
   {
    "duration": 0,
    "start_time": "2022-06-16T12:22:02.960Z"
   },
   {
    "duration": 0,
    "start_time": "2022-06-16T12:22:02.961Z"
   },
   {
    "duration": 0,
    "start_time": "2022-06-16T12:22:02.962Z"
   },
   {
    "duration": 0,
    "start_time": "2022-06-16T12:22:02.963Z"
   },
   {
    "duration": 0,
    "start_time": "2022-06-16T12:22:02.965Z"
   },
   {
    "duration": 0,
    "start_time": "2022-06-16T12:22:02.966Z"
   },
   {
    "duration": 1,
    "start_time": "2022-06-16T12:22:02.966Z"
   },
   {
    "duration": 0,
    "start_time": "2022-06-16T12:22:02.968Z"
   },
   {
    "duration": 0,
    "start_time": "2022-06-16T12:22:02.969Z"
   },
   {
    "duration": 0,
    "start_time": "2022-06-16T12:22:02.970Z"
   },
   {
    "duration": 0,
    "start_time": "2022-06-16T12:22:02.971Z"
   },
   {
    "duration": 0,
    "start_time": "2022-06-16T12:22:02.972Z"
   },
   {
    "duration": 0,
    "start_time": "2022-06-16T12:22:02.974Z"
   },
   {
    "duration": 0,
    "start_time": "2022-06-16T12:22:02.974Z"
   },
   {
    "duration": 0,
    "start_time": "2022-06-16T12:22:02.975Z"
   },
   {
    "duration": 0,
    "start_time": "2022-06-16T12:22:02.976Z"
   },
   {
    "duration": 0,
    "start_time": "2022-06-16T12:22:02.977Z"
   },
   {
    "duration": 0,
    "start_time": "2022-06-16T12:22:02.978Z"
   },
   {
    "duration": 0,
    "start_time": "2022-06-16T12:22:02.979Z"
   },
   {
    "duration": 0,
    "start_time": "2022-06-16T12:22:02.981Z"
   },
   {
    "duration": 0,
    "start_time": "2022-06-16T12:22:02.982Z"
   },
   {
    "duration": 24,
    "start_time": "2022-06-16T12:24:18.238Z"
   },
   {
    "duration": 23,
    "start_time": "2022-06-16T12:24:56.237Z"
   },
   {
    "duration": 16,
    "start_time": "2022-06-16T12:25:01.605Z"
   },
   {
    "duration": 266,
    "start_time": "2022-06-16T12:25:22.755Z"
   },
   {
    "duration": 3,
    "start_time": "2022-06-16T12:26:11.741Z"
   },
   {
    "duration": 70,
    "start_time": "2022-06-16T12:26:11.748Z"
   },
   {
    "duration": 49,
    "start_time": "2022-06-16T12:26:11.819Z"
   },
   {
    "duration": 6,
    "start_time": "2022-06-16T12:26:11.870Z"
   },
   {
    "duration": 21,
    "start_time": "2022-06-16T12:26:11.878Z"
   },
   {
    "duration": 32,
    "start_time": "2022-06-16T12:26:11.901Z"
   },
   {
    "duration": 32,
    "start_time": "2022-06-16T12:26:11.935Z"
   },
   {
    "duration": 27,
    "start_time": "2022-06-16T12:26:11.969Z"
   },
   {
    "duration": 34,
    "start_time": "2022-06-16T12:26:11.998Z"
   },
   {
    "duration": 19,
    "start_time": "2022-06-16T12:26:12.034Z"
   },
   {
    "duration": 16,
    "start_time": "2022-06-16T12:26:12.055Z"
   },
   {
    "duration": 38,
    "start_time": "2022-06-16T12:26:12.072Z"
   },
   {
    "duration": 14,
    "start_time": "2022-06-16T12:26:12.112Z"
   },
   {
    "duration": 26,
    "start_time": "2022-06-16T12:26:12.129Z"
   },
   {
    "duration": 2137,
    "start_time": "2022-06-16T12:26:12.157Z"
   },
   {
    "duration": 7,
    "start_time": "2022-06-16T12:26:14.295Z"
   },
   {
    "duration": 20,
    "start_time": "2022-06-16T12:26:14.303Z"
   },
   {
    "duration": 40,
    "start_time": "2022-06-16T12:26:14.325Z"
   },
   {
    "duration": 3,
    "start_time": "2022-06-16T12:26:14.367Z"
   },
   {
    "duration": 14,
    "start_time": "2022-06-16T12:26:14.372Z"
   },
   {
    "duration": 10,
    "start_time": "2022-06-16T12:26:14.388Z"
   },
   {
    "duration": 20,
    "start_time": "2022-06-16T12:26:14.400Z"
   },
   {
    "duration": 14,
    "start_time": "2022-06-16T12:26:14.423Z"
   },
   {
    "duration": 27,
    "start_time": "2022-06-16T12:26:14.439Z"
   },
   {
    "duration": 10,
    "start_time": "2022-06-16T12:26:14.468Z"
   },
   {
    "duration": 6,
    "start_time": "2022-06-16T12:26:14.480Z"
   },
   {
    "duration": 15,
    "start_time": "2022-06-16T12:26:14.488Z"
   },
   {
    "duration": 16,
    "start_time": "2022-06-16T12:26:14.505Z"
   },
   {
    "duration": 62,
    "start_time": "2022-06-16T12:26:14.523Z"
   },
   {
    "duration": 15,
    "start_time": "2022-06-16T12:26:14.587Z"
   },
   {
    "duration": 30,
    "start_time": "2022-06-16T12:26:14.603Z"
   },
   {
    "duration": 31,
    "start_time": "2022-06-16T12:26:14.635Z"
   },
   {
    "duration": 18,
    "start_time": "2022-06-16T12:26:14.667Z"
   },
   {
    "duration": 16,
    "start_time": "2022-06-16T12:26:14.687Z"
   },
   {
    "duration": 16,
    "start_time": "2022-06-16T12:26:14.705Z"
   },
   {
    "duration": 369,
    "start_time": "2022-06-16T12:26:14.724Z"
   },
   {
    "duration": 16,
    "start_time": "2022-06-16T12:26:15.095Z"
   },
   {
    "duration": 23,
    "start_time": "2022-06-16T12:26:15.112Z"
   },
   {
    "duration": 12,
    "start_time": "2022-06-16T12:26:15.137Z"
   },
   {
    "duration": 27,
    "start_time": "2022-06-16T12:26:15.164Z"
   },
   {
    "duration": 29,
    "start_time": "2022-06-16T12:26:15.196Z"
   },
   {
    "duration": 346,
    "start_time": "2022-06-16T12:26:15.227Z"
   },
   {
    "duration": 218,
    "start_time": "2022-06-16T12:26:15.575Z"
   },
   {
    "duration": 195,
    "start_time": "2022-06-16T12:26:15.795Z"
   },
   {
    "duration": 15,
    "start_time": "2022-06-16T12:26:15.992Z"
   },
   {
    "duration": 36,
    "start_time": "2022-06-16T12:26:16.009Z"
   },
   {
    "duration": 27,
    "start_time": "2022-06-16T12:26:16.066Z"
   },
   {
    "duration": 175,
    "start_time": "2022-06-16T12:26:16.095Z"
   },
   {
    "duration": 153,
    "start_time": "2022-06-16T12:26:16.272Z"
   },
   {
    "duration": 6,
    "start_time": "2022-06-16T12:26:16.427Z"
   },
   {
    "duration": 181,
    "start_time": "2022-06-16T12:26:16.434Z"
   },
   {
    "duration": 164,
    "start_time": "2022-06-16T12:26:16.617Z"
   },
   {
    "duration": 6,
    "start_time": "2022-06-16T12:26:16.782Z"
   },
   {
    "duration": 75,
    "start_time": "2022-06-16T12:26:16.790Z"
   },
   {
    "duration": 140,
    "start_time": "2022-06-16T12:26:16.867Z"
   },
   {
    "duration": 162,
    "start_time": "2022-06-16T12:26:17.009Z"
   },
   {
    "duration": 28,
    "start_time": "2022-06-16T12:26:17.173Z"
   },
   {
    "duration": 26,
    "start_time": "2022-06-16T12:26:17.203Z"
   },
   {
    "duration": 205,
    "start_time": "2022-06-16T12:26:17.231Z"
   },
   {
    "duration": 171,
    "start_time": "2022-06-16T12:26:17.438Z"
   },
   {
    "duration": 16,
    "start_time": "2022-06-16T12:26:17.611Z"
   },
   {
    "duration": 38,
    "start_time": "2022-06-16T12:26:17.629Z"
   },
   {
    "duration": 10,
    "start_time": "2022-06-16T12:26:17.668Z"
   },
   {
    "duration": 295,
    "start_time": "2022-06-16T12:26:17.680Z"
   },
   {
    "duration": 17,
    "start_time": "2022-06-16T12:26:17.976Z"
   },
   {
    "duration": 27,
    "start_time": "2022-06-16T12:26:17.994Z"
   },
   {
    "duration": 267,
    "start_time": "2022-06-16T12:26:18.023Z"
   },
   {
    "duration": 21,
    "start_time": "2022-06-16T12:26:18.293Z"
   },
   {
    "duration": 29,
    "start_time": "2022-06-16T12:26:18.318Z"
   },
   {
    "duration": 24,
    "start_time": "2022-06-16T12:26:18.349Z"
   },
   {
    "duration": 15,
    "start_time": "2022-06-16T12:26:18.375Z"
   },
   {
    "duration": 19,
    "start_time": "2022-06-16T12:26:18.392Z"
   },
   {
    "duration": 52,
    "start_time": "2022-06-16T12:26:18.413Z"
   },
   {
    "duration": 18,
    "start_time": "2022-06-16T12:26:18.466Z"
   },
   {
    "duration": 42,
    "start_time": "2022-06-16T12:26:18.487Z"
   },
   {
    "duration": 184,
    "start_time": "2022-06-16T12:30:00.884Z"
   },
   {
    "duration": 9,
    "start_time": "2022-06-16T12:34:10.056Z"
   },
   {
    "duration": 173,
    "start_time": "2022-06-16T12:34:52.185Z"
   },
   {
    "duration": 55,
    "start_time": "2022-06-16T12:36:44.697Z"
   },
   {
    "duration": 217,
    "start_time": "2022-06-16T12:44:57.742Z"
   },
   {
    "duration": 10,
    "start_time": "2022-06-16T12:49:26.851Z"
   },
   {
    "duration": 29,
    "start_time": "2022-06-16T12:51:07.486Z"
   },
   {
    "duration": 10,
    "start_time": "2022-06-16T12:51:42.251Z"
   },
   {
    "duration": 11,
    "start_time": "2022-06-16T12:52:21.443Z"
   },
   {
    "duration": 20,
    "start_time": "2022-06-16T12:53:45.491Z"
   },
   {
    "duration": 3,
    "start_time": "2022-06-16T12:54:38.447Z"
   },
   {
    "duration": 13,
    "start_time": "2022-06-16T12:54:58.256Z"
   },
   {
    "duration": 15,
    "start_time": "2022-06-16T12:56:35.756Z"
   },
   {
    "duration": 30,
    "start_time": "2022-06-16T12:56:51.064Z"
   },
   {
    "duration": 10,
    "start_time": "2022-06-16T12:57:02.051Z"
   },
   {
    "duration": 23,
    "start_time": "2022-06-16T12:58:39.752Z"
   },
   {
    "duration": 1307,
    "start_time": "2022-06-16T16:59:30.006Z"
   },
   {
    "duration": 226,
    "start_time": "2022-06-16T16:59:31.316Z"
   },
   {
    "duration": 72,
    "start_time": "2022-06-16T16:59:31.544Z"
   },
   {
    "duration": 5,
    "start_time": "2022-06-16T16:59:31.619Z"
   },
   {
    "duration": 43,
    "start_time": "2022-06-16T16:59:31.627Z"
   },
   {
    "duration": 44,
    "start_time": "2022-06-16T16:59:31.672Z"
   },
   {
    "duration": 24,
    "start_time": "2022-06-16T16:59:31.718Z"
   },
   {
    "duration": 46,
    "start_time": "2022-06-16T16:59:31.747Z"
   },
   {
    "duration": 46,
    "start_time": "2022-06-16T16:59:31.800Z"
   },
   {
    "duration": 21,
    "start_time": "2022-06-16T16:59:31.848Z"
   },
   {
    "duration": 41,
    "start_time": "2022-06-16T16:59:31.871Z"
   },
   {
    "duration": 38,
    "start_time": "2022-06-16T16:59:31.913Z"
   },
   {
    "duration": 5,
    "start_time": "2022-06-16T16:59:31.953Z"
   },
   {
    "duration": 69,
    "start_time": "2022-06-16T16:59:31.961Z"
   },
   {
    "duration": 1575,
    "start_time": "2022-06-16T16:59:32.032Z"
   },
   {
    "duration": 13,
    "start_time": "2022-06-16T16:59:33.616Z"
   },
   {
    "duration": 59,
    "start_time": "2022-06-16T16:59:33.645Z"
   },
   {
    "duration": 14,
    "start_time": "2022-06-16T16:59:33.706Z"
   },
   {
    "duration": 3,
    "start_time": "2022-06-16T16:59:33.722Z"
   },
   {
    "duration": 12,
    "start_time": "2022-06-16T16:59:33.727Z"
   },
   {
    "duration": 6,
    "start_time": "2022-06-16T16:59:33.742Z"
   },
   {
    "duration": 4,
    "start_time": "2022-06-16T16:59:33.750Z"
   },
   {
    "duration": 52,
    "start_time": "2022-06-16T16:59:33.756Z"
   },
   {
    "duration": 5,
    "start_time": "2022-06-16T16:59:33.810Z"
   },
   {
    "duration": 10,
    "start_time": "2022-06-16T16:59:33.817Z"
   },
   {
    "duration": 8,
    "start_time": "2022-06-16T16:59:33.829Z"
   },
   {
    "duration": 13,
    "start_time": "2022-06-16T16:59:33.839Z"
   },
   {
    "duration": 28,
    "start_time": "2022-06-16T16:59:33.855Z"
   },
   {
    "duration": 23,
    "start_time": "2022-06-16T16:59:33.885Z"
   },
   {
    "duration": 20,
    "start_time": "2022-06-16T16:59:33.910Z"
   },
   {
    "duration": 51,
    "start_time": "2022-06-16T16:59:33.932Z"
   },
   {
    "duration": 13,
    "start_time": "2022-06-16T16:59:33.985Z"
   },
   {
    "duration": 31,
    "start_time": "2022-06-16T16:59:34.000Z"
   },
   {
    "duration": 16,
    "start_time": "2022-06-16T16:59:34.033Z"
   },
   {
    "duration": 47,
    "start_time": "2022-06-16T16:59:34.051Z"
   },
   {
    "duration": 347,
    "start_time": "2022-06-16T16:59:34.100Z"
   },
   {
    "duration": 16,
    "start_time": "2022-06-16T16:59:34.449Z"
   },
   {
    "duration": 21,
    "start_time": "2022-06-16T16:59:34.467Z"
   },
   {
    "duration": 20,
    "start_time": "2022-06-16T16:59:34.491Z"
   },
   {
    "duration": 51,
    "start_time": "2022-06-16T16:59:34.513Z"
   },
   {
    "duration": 61,
    "start_time": "2022-06-16T16:59:34.570Z"
   },
   {
    "duration": 261,
    "start_time": "2022-06-16T16:59:34.633Z"
   },
   {
    "duration": 265,
    "start_time": "2022-06-16T16:59:34.898Z"
   },
   {
    "duration": 195,
    "start_time": "2022-06-16T16:59:35.164Z"
   },
   {
    "duration": 22,
    "start_time": "2022-06-16T16:59:35.361Z"
   },
   {
    "duration": 51,
    "start_time": "2022-06-16T16:59:35.387Z"
   },
   {
    "duration": 31,
    "start_time": "2022-06-16T16:59:35.440Z"
   },
   {
    "duration": 153,
    "start_time": "2022-06-16T16:59:35.472Z"
   },
   {
    "duration": 168,
    "start_time": "2022-06-16T16:59:35.627Z"
   },
   {
    "duration": 5,
    "start_time": "2022-06-16T16:59:35.797Z"
   },
   {
    "duration": 193,
    "start_time": "2022-06-16T16:59:35.804Z"
   },
   {
    "duration": 147,
    "start_time": "2022-06-16T16:59:36.004Z"
   },
   {
    "duration": 6,
    "start_time": "2022-06-16T16:59:36.152Z"
   },
   {
    "duration": 70,
    "start_time": "2022-06-16T16:59:36.159Z"
   },
   {
    "duration": 181,
    "start_time": "2022-06-16T16:59:36.231Z"
   },
   {
    "duration": 210,
    "start_time": "2022-06-16T16:59:36.416Z"
   },
   {
    "duration": 33,
    "start_time": "2022-06-16T16:59:36.629Z"
   },
   {
    "duration": 33,
    "start_time": "2022-06-16T16:59:36.678Z"
   },
   {
    "duration": 188,
    "start_time": "2022-06-16T16:59:36.713Z"
   },
   {
    "duration": 228,
    "start_time": "2022-06-16T16:59:36.903Z"
   },
   {
    "duration": 11,
    "start_time": "2022-06-16T16:59:37.133Z"
   },
   {
    "duration": 285,
    "start_time": "2022-06-16T16:59:37.146Z"
   },
   {
    "duration": 11,
    "start_time": "2022-06-16T16:59:37.433Z"
   },
   {
    "duration": 374,
    "start_time": "2022-06-16T16:59:37.446Z"
   },
   {
    "duration": 22,
    "start_time": "2022-06-16T16:59:37.821Z"
   },
   {
    "duration": 38,
    "start_time": "2022-06-16T16:59:37.845Z"
   },
   {
    "duration": 371,
    "start_time": "2022-06-16T16:59:37.884Z"
   },
   {
    "duration": 30,
    "start_time": "2022-06-16T16:59:38.258Z"
   },
   {
    "duration": 47,
    "start_time": "2022-06-16T16:59:38.293Z"
   },
   {
    "duration": 33,
    "start_time": "2022-06-16T16:59:38.343Z"
   },
   {
    "duration": 48,
    "start_time": "2022-06-16T16:59:38.378Z"
   },
   {
    "duration": 55,
    "start_time": "2022-06-16T16:59:38.428Z"
   },
   {
    "duration": 43,
    "start_time": "2022-06-16T16:59:38.485Z"
   },
   {
    "duration": 29,
    "start_time": "2022-06-16T16:59:38.530Z"
   },
   {
    "duration": 74,
    "start_time": "2022-06-16T16:59:38.561Z"
   },
   {
    "duration": 11,
    "start_time": "2022-06-16T17:13:24.170Z"
   },
   {
    "duration": 19,
    "start_time": "2022-06-16T17:13:29.564Z"
   },
   {
    "duration": 966,
    "start_time": "2022-06-16T17:14:24.349Z"
   },
   {
    "duration": 55,
    "start_time": "2022-06-16T17:14:25.317Z"
   },
   {
    "duration": 57,
    "start_time": "2022-06-16T17:14:25.373Z"
   },
   {
    "duration": 5,
    "start_time": "2022-06-16T17:14:25.432Z"
   },
   {
    "duration": 29,
    "start_time": "2022-06-16T17:14:25.438Z"
   },
   {
    "duration": 21,
    "start_time": "2022-06-16T17:14:25.468Z"
   },
   {
    "duration": 14,
    "start_time": "2022-06-16T17:14:25.490Z"
   },
   {
    "duration": 13,
    "start_time": "2022-06-16T17:14:25.506Z"
   },
   {
    "duration": 24,
    "start_time": "2022-06-16T17:14:25.520Z"
   },
   {
    "duration": 12,
    "start_time": "2022-06-16T17:14:25.546Z"
   },
   {
    "duration": 30,
    "start_time": "2022-06-16T17:14:25.560Z"
   },
   {
    "duration": 30,
    "start_time": "2022-06-16T17:14:25.591Z"
   },
   {
    "duration": 6,
    "start_time": "2022-06-16T17:14:25.622Z"
   },
   {
    "duration": 14,
    "start_time": "2022-06-16T17:14:25.630Z"
   },
   {
    "duration": 1442,
    "start_time": "2022-06-16T17:14:25.646Z"
   },
   {
    "duration": 9,
    "start_time": "2022-06-16T17:14:27.097Z"
   },
   {
    "duration": 19,
    "start_time": "2022-06-16T17:14:27.107Z"
   },
   {
    "duration": 5,
    "start_time": "2022-06-16T17:14:27.128Z"
   },
   {
    "duration": 4,
    "start_time": "2022-06-16T17:14:27.134Z"
   },
   {
    "duration": 13,
    "start_time": "2022-06-16T17:14:27.139Z"
   },
   {
    "duration": 30,
    "start_time": "2022-06-16T17:14:27.153Z"
   },
   {
    "duration": 11,
    "start_time": "2022-06-16T17:14:27.184Z"
   },
   {
    "duration": 10,
    "start_time": "2022-06-16T17:14:27.197Z"
   },
   {
    "duration": 8,
    "start_time": "2022-06-16T17:14:27.208Z"
   },
   {
    "duration": 12,
    "start_time": "2022-06-16T17:14:27.217Z"
   },
   {
    "duration": 8,
    "start_time": "2022-06-16T17:14:27.231Z"
   },
   {
    "duration": 14,
    "start_time": "2022-06-16T17:14:27.240Z"
   },
   {
    "duration": 11,
    "start_time": "2022-06-16T17:14:27.257Z"
   },
   {
    "duration": 25,
    "start_time": "2022-06-16T17:14:27.269Z"
   },
   {
    "duration": 14,
    "start_time": "2022-06-16T17:14:27.295Z"
   },
   {
    "duration": 20,
    "start_time": "2022-06-16T17:14:27.310Z"
   },
   {
    "duration": 15,
    "start_time": "2022-06-16T17:14:27.332Z"
   },
   {
    "duration": 38,
    "start_time": "2022-06-16T17:14:27.349Z"
   },
   {
    "duration": 23,
    "start_time": "2022-06-16T17:14:27.390Z"
   },
   {
    "duration": 14,
    "start_time": "2022-06-16T17:14:27.415Z"
   },
   {
    "duration": 24,
    "start_time": "2022-06-16T17:14:27.431Z"
   },
   {
    "duration": 356,
    "start_time": "2022-06-16T17:14:27.456Z"
   },
   {
    "duration": 19,
    "start_time": "2022-06-16T17:14:27.814Z"
   },
   {
    "duration": 7,
    "start_time": "2022-06-16T17:14:27.835Z"
   },
   {
    "duration": 14,
    "start_time": "2022-06-16T17:14:27.844Z"
   },
   {
    "duration": 119,
    "start_time": "2022-06-16T17:14:27.860Z"
   },
   {
    "duration": 30,
    "start_time": "2022-06-16T17:14:27.996Z"
   },
   {
    "duration": 245,
    "start_time": "2022-06-16T17:14:28.028Z"
   },
   {
    "duration": 219,
    "start_time": "2022-06-16T17:14:28.275Z"
   },
   {
    "duration": 176,
    "start_time": "2022-06-16T17:14:28.496Z"
   },
   {
    "duration": 22,
    "start_time": "2022-06-16T17:14:28.674Z"
   },
   {
    "duration": 29,
    "start_time": "2022-06-16T17:14:28.697Z"
   },
   {
    "duration": 23,
    "start_time": "2022-06-16T17:14:28.727Z"
   },
   {
    "duration": 154,
    "start_time": "2022-06-16T17:14:28.752Z"
   },
   {
    "duration": 164,
    "start_time": "2022-06-16T17:14:28.908Z"
   },
   {
    "duration": 17,
    "start_time": "2022-06-16T17:14:29.077Z"
   },
   {
    "duration": 171,
    "start_time": "2022-06-16T17:14:29.096Z"
   },
   {
    "duration": 155,
    "start_time": "2022-06-16T17:14:29.268Z"
   },
   {
    "duration": 6,
    "start_time": "2022-06-16T17:14:29.424Z"
   },
   {
    "duration": 69,
    "start_time": "2022-06-16T17:14:29.432Z"
   },
   {
    "duration": 120,
    "start_time": "2022-06-16T17:14:29.502Z"
   },
   {
    "duration": 148,
    "start_time": "2022-06-16T17:14:29.624Z"
   },
   {
    "duration": 36,
    "start_time": "2022-06-16T17:14:29.773Z"
   },
   {
    "duration": 29,
    "start_time": "2022-06-16T17:14:29.810Z"
   },
   {
    "duration": 157,
    "start_time": "2022-06-16T17:14:29.840Z"
   },
   {
    "duration": 159,
    "start_time": "2022-06-16T17:14:29.999Z"
   },
   {
    "duration": 9,
    "start_time": "2022-06-16T17:14:30.159Z"
   },
   {
    "duration": 277,
    "start_time": "2022-06-16T17:14:30.170Z"
   },
   {
    "duration": 7,
    "start_time": "2022-06-16T17:14:30.450Z"
   },
   {
    "duration": 181,
    "start_time": "2022-06-16T17:14:30.459Z"
   },
   {
    "duration": 15,
    "start_time": "2022-06-16T17:14:30.641Z"
   },
   {
    "duration": 36,
    "start_time": "2022-06-16T17:14:30.658Z"
   },
   {
    "duration": 198,
    "start_time": "2022-06-16T17:14:30.696Z"
   },
   {
    "duration": 11,
    "start_time": "2022-06-16T17:14:30.896Z"
   },
   {
    "duration": 18,
    "start_time": "2022-06-16T17:14:30.909Z"
   },
   {
    "duration": 10,
    "start_time": "2022-06-16T17:14:30.928Z"
   },
   {
    "duration": 18,
    "start_time": "2022-06-16T17:14:30.939Z"
   },
   {
    "duration": 16,
    "start_time": "2022-06-16T17:14:30.959Z"
   },
   {
    "duration": 25,
    "start_time": "2022-06-16T17:14:30.976Z"
   },
   {
    "duration": 17,
    "start_time": "2022-06-16T17:14:31.003Z"
   },
   {
    "duration": 25,
    "start_time": "2022-06-16T17:14:31.021Z"
   },
   {
    "duration": 37,
    "start_time": "2022-06-16T17:16:46.357Z"
   },
   {
    "duration": 1107,
    "start_time": "2022-06-16T17:17:07.465Z"
   },
   {
    "duration": 52,
    "start_time": "2022-06-16T17:17:08.574Z"
   },
   {
    "duration": 46,
    "start_time": "2022-06-16T17:17:08.628Z"
   },
   {
    "duration": 14,
    "start_time": "2022-06-16T17:17:08.676Z"
   },
   {
    "duration": 6,
    "start_time": "2022-06-16T17:17:08.692Z"
   },
   {
    "duration": 7,
    "start_time": "2022-06-16T17:17:08.699Z"
   },
   {
    "duration": 11,
    "start_time": "2022-06-16T17:17:08.708Z"
   },
   {
    "duration": 11,
    "start_time": "2022-06-16T17:17:08.721Z"
   },
   {
    "duration": 28,
    "start_time": "2022-06-16T17:17:08.733Z"
   },
   {
    "duration": 32,
    "start_time": "2022-06-16T17:17:08.763Z"
   },
   {
    "duration": 8,
    "start_time": "2022-06-16T17:17:08.796Z"
   },
   {
    "duration": 23,
    "start_time": "2022-06-16T17:17:08.805Z"
   },
   {
    "duration": 4,
    "start_time": "2022-06-16T17:17:08.829Z"
   },
   {
    "duration": 12,
    "start_time": "2022-06-16T17:17:08.834Z"
   },
   {
    "duration": 1455,
    "start_time": "2022-06-16T17:17:08.847Z"
   },
   {
    "duration": 6,
    "start_time": "2022-06-16T17:17:10.321Z"
   },
   {
    "duration": 16,
    "start_time": "2022-06-16T17:17:10.329Z"
   },
   {
    "duration": 4,
    "start_time": "2022-06-16T17:17:10.347Z"
   },
   {
    "duration": 17,
    "start_time": "2022-06-16T17:17:10.377Z"
   },
   {
    "duration": 27,
    "start_time": "2022-06-16T17:17:10.396Z"
   },
   {
    "duration": 4,
    "start_time": "2022-06-16T17:17:10.425Z"
   },
   {
    "duration": 4,
    "start_time": "2022-06-16T17:17:10.430Z"
   },
   {
    "duration": 10,
    "start_time": "2022-06-16T17:17:10.435Z"
   },
   {
    "duration": 6,
    "start_time": "2022-06-16T17:17:10.446Z"
   },
   {
    "duration": 7,
    "start_time": "2022-06-16T17:17:10.453Z"
   },
   {
    "duration": 9,
    "start_time": "2022-06-16T17:17:10.461Z"
   },
   {
    "duration": 34,
    "start_time": "2022-06-16T17:17:10.471Z"
   },
   {
    "duration": 10,
    "start_time": "2022-06-16T17:17:10.508Z"
   },
   {
    "duration": 13,
    "start_time": "2022-06-16T17:17:10.520Z"
   },
   {
    "duration": 10,
    "start_time": "2022-06-16T17:17:10.534Z"
   },
   {
    "duration": 15,
    "start_time": "2022-06-16T17:17:10.545Z"
   },
   {
    "duration": 46,
    "start_time": "2022-06-16T17:17:10.562Z"
   },
   {
    "duration": 7,
    "start_time": "2022-06-16T17:17:10.609Z"
   },
   {
    "duration": 13,
    "start_time": "2022-06-16T17:17:10.618Z"
   },
   {
    "duration": 15,
    "start_time": "2022-06-16T17:17:10.632Z"
   },
   {
    "duration": 42,
    "start_time": "2022-06-16T17:17:10.648Z"
   },
   {
    "duration": 305,
    "start_time": "2022-06-16T17:17:10.692Z"
   },
   {
    "duration": 13,
    "start_time": "2022-06-16T17:17:10.999Z"
   },
   {
    "duration": 5,
    "start_time": "2022-06-16T17:17:11.013Z"
   },
   {
    "duration": 8,
    "start_time": "2022-06-16T17:17:11.019Z"
   },
   {
    "duration": 20,
    "start_time": "2022-06-16T17:17:11.028Z"
   },
   {
    "duration": 42,
    "start_time": "2022-06-16T17:17:11.050Z"
   },
   {
    "duration": 219,
    "start_time": "2022-06-16T17:17:11.094Z"
   },
   {
    "duration": 250,
    "start_time": "2022-06-16T17:17:11.314Z"
   },
   {
    "duration": 174,
    "start_time": "2022-06-16T17:17:11.565Z"
   },
   {
    "duration": 15,
    "start_time": "2022-06-16T17:17:11.741Z"
   },
   {
    "duration": 36,
    "start_time": "2022-06-16T17:17:11.757Z"
   },
   {
    "duration": 20,
    "start_time": "2022-06-16T17:17:11.795Z"
   },
   {
    "duration": 146,
    "start_time": "2022-06-16T17:17:11.817Z"
   },
   {
    "duration": 145,
    "start_time": "2022-06-16T17:17:11.964Z"
   },
   {
    "duration": 5,
    "start_time": "2022-06-16T17:17:12.110Z"
   },
   {
    "duration": 148,
    "start_time": "2022-06-16T17:17:12.116Z"
   },
   {
    "duration": 154,
    "start_time": "2022-06-16T17:17:12.266Z"
   },
   {
    "duration": 6,
    "start_time": "2022-06-16T17:17:12.422Z"
   },
   {
    "duration": 66,
    "start_time": "2022-06-16T17:17:12.430Z"
   },
   {
    "duration": 134,
    "start_time": "2022-06-16T17:17:12.498Z"
   },
   {
    "duration": 137,
    "start_time": "2022-06-16T17:17:12.634Z"
   },
   {
    "duration": 30,
    "start_time": "2022-06-16T17:17:12.772Z"
   },
   {
    "duration": 21,
    "start_time": "2022-06-16T17:17:12.804Z"
   },
   {
    "duration": 170,
    "start_time": "2022-06-16T17:17:12.827Z"
   },
   {
    "duration": 156,
    "start_time": "2022-06-16T17:17:12.999Z"
   },
   {
    "duration": 8,
    "start_time": "2022-06-16T17:17:13.157Z"
   },
   {
    "duration": 204,
    "start_time": "2022-06-16T17:17:13.166Z"
   },
   {
    "duration": 14,
    "start_time": "2022-06-16T17:17:13.371Z"
   },
   {
    "duration": 281,
    "start_time": "2022-06-16T17:17:13.387Z"
   },
   {
    "duration": 22,
    "start_time": "2022-06-16T17:17:13.670Z"
   },
   {
    "duration": 29,
    "start_time": "2022-06-16T17:17:13.697Z"
   },
   {
    "duration": 223,
    "start_time": "2022-06-16T17:17:13.728Z"
   },
   {
    "duration": 10,
    "start_time": "2022-06-16T17:17:13.953Z"
   },
   {
    "duration": 22,
    "start_time": "2022-06-16T17:17:13.965Z"
   },
   {
    "duration": 29,
    "start_time": "2022-06-16T17:17:13.988Z"
   },
   {
    "duration": 16,
    "start_time": "2022-06-16T17:17:14.019Z"
   },
   {
    "duration": 21,
    "start_time": "2022-06-16T17:17:14.037Z"
   },
   {
    "duration": 24,
    "start_time": "2022-06-16T17:17:14.059Z"
   },
   {
    "duration": 42,
    "start_time": "2022-06-16T17:17:14.084Z"
   },
   {
    "duration": 26,
    "start_time": "2022-06-16T17:17:14.128Z"
   },
   {
    "duration": 281,
    "start_time": "2022-06-16T17:23:00.702Z"
   },
   {
    "duration": 278,
    "start_time": "2022-06-16T17:23:29.616Z"
   },
   {
    "duration": 21,
    "start_time": "2022-06-16T17:33:59.013Z"
   },
   {
    "duration": 9,
    "start_time": "2022-06-16T17:34:39.694Z"
   },
   {
    "duration": 12,
    "start_time": "2022-06-16T17:39:40.397Z"
   },
   {
    "duration": 1115,
    "start_time": "2022-06-17T07:06:55.597Z"
   },
   {
    "duration": 175,
    "start_time": "2022-06-17T07:06:56.714Z"
   },
   {
    "duration": 46,
    "start_time": "2022-06-17T07:06:56.890Z"
   },
   {
    "duration": 5,
    "start_time": "2022-06-17T07:06:56.937Z"
   },
   {
    "duration": 9,
    "start_time": "2022-06-17T07:06:56.943Z"
   },
   {
    "duration": 8,
    "start_time": "2022-06-17T07:06:56.953Z"
   },
   {
    "duration": 20,
    "start_time": "2022-06-17T07:06:56.962Z"
   },
   {
    "duration": 11,
    "start_time": "2022-06-17T07:06:56.983Z"
   },
   {
    "duration": 24,
    "start_time": "2022-06-17T07:06:56.995Z"
   },
   {
    "duration": 12,
    "start_time": "2022-06-17T07:06:57.022Z"
   },
   {
    "duration": 7,
    "start_time": "2022-06-17T07:06:57.036Z"
   },
   {
    "duration": 48,
    "start_time": "2022-06-17T07:06:57.044Z"
   },
   {
    "duration": 4,
    "start_time": "2022-06-17T07:06:57.094Z"
   },
   {
    "duration": 13,
    "start_time": "2022-06-17T07:06:57.100Z"
   },
   {
    "duration": 1807,
    "start_time": "2022-06-17T07:06:57.114Z"
   },
   {
    "duration": 7,
    "start_time": "2022-06-17T07:06:58.922Z"
   },
   {
    "duration": 16,
    "start_time": "2022-06-17T07:06:58.930Z"
   },
   {
    "duration": 5,
    "start_time": "2022-06-17T07:06:58.978Z"
   },
   {
    "duration": 6,
    "start_time": "2022-06-17T07:06:58.985Z"
   },
   {
    "duration": 17,
    "start_time": "2022-06-17T07:06:58.993Z"
   },
   {
    "duration": 6,
    "start_time": "2022-06-17T07:06:59.012Z"
   },
   {
    "duration": 7,
    "start_time": "2022-06-17T07:06:59.020Z"
   },
   {
    "duration": 15,
    "start_time": "2022-06-17T07:06:59.029Z"
   },
   {
    "duration": 6,
    "start_time": "2022-06-17T07:06:59.045Z"
   },
   {
    "duration": 9,
    "start_time": "2022-06-17T07:06:59.052Z"
   },
   {
    "duration": 22,
    "start_time": "2022-06-17T07:06:59.062Z"
   },
   {
    "duration": 17,
    "start_time": "2022-06-17T07:06:59.085Z"
   },
   {
    "duration": 10,
    "start_time": "2022-06-17T07:06:59.105Z"
   },
   {
    "duration": 13,
    "start_time": "2022-06-17T07:06:59.116Z"
   },
   {
    "duration": 11,
    "start_time": "2022-06-17T07:06:59.130Z"
   },
   {
    "duration": 38,
    "start_time": "2022-06-17T07:06:59.143Z"
   },
   {
    "duration": 34,
    "start_time": "2022-06-17T07:06:59.182Z"
   },
   {
    "duration": 4,
    "start_time": "2022-06-17T07:06:59.218Z"
   },
   {
    "duration": 12,
    "start_time": "2022-06-17T07:06:59.225Z"
   },
   {
    "duration": 13,
    "start_time": "2022-06-17T07:06:59.238Z"
   },
   {
    "duration": 45,
    "start_time": "2022-06-17T07:06:59.252Z"
   },
   {
    "duration": 293,
    "start_time": "2022-06-17T07:06:59.298Z"
   },
   {
    "duration": 13,
    "start_time": "2022-06-17T07:06:59.593Z"
   },
   {
    "duration": 5,
    "start_time": "2022-06-17T07:06:59.608Z"
   },
   {
    "duration": 7,
    "start_time": "2022-06-17T07:06:59.615Z"
   },
   {
    "duration": 23,
    "start_time": "2022-06-17T07:06:59.623Z"
   },
   {
    "duration": 40,
    "start_time": "2022-06-17T07:06:59.647Z"
   },
   {
    "duration": 204,
    "start_time": "2022-06-17T07:06:59.690Z"
   },
   {
    "duration": 229,
    "start_time": "2022-06-17T07:06:59.896Z"
   },
   {
    "duration": 190,
    "start_time": "2022-06-17T07:07:00.126Z"
   },
   {
    "duration": 397,
    "start_time": "2022-06-17T07:07:00.317Z"
   },
   {
    "duration": 12,
    "start_time": "2022-06-17T07:07:00.716Z"
   },
   {
    "duration": 31,
    "start_time": "2022-06-17T07:07:00.730Z"
   },
   {
    "duration": 41,
    "start_time": "2022-06-17T07:07:00.772Z"
   },
   {
    "duration": 138,
    "start_time": "2022-06-17T07:07:00.815Z"
   },
   {
    "duration": 134,
    "start_time": "2022-06-17T07:07:00.954Z"
   },
   {
    "duration": 4,
    "start_time": "2022-06-17T07:07:01.090Z"
   },
   {
    "duration": 134,
    "start_time": "2022-06-17T07:07:01.097Z"
   },
   {
    "duration": 130,
    "start_time": "2022-06-17T07:07:01.233Z"
   },
   {
    "duration": 6,
    "start_time": "2022-06-17T07:07:01.364Z"
   },
   {
    "duration": 46,
    "start_time": "2022-06-17T07:07:01.380Z"
   },
   {
    "duration": 122,
    "start_time": "2022-06-17T07:07:01.428Z"
   },
   {
    "duration": 118,
    "start_time": "2022-06-17T07:07:01.551Z"
   },
   {
    "duration": 14,
    "start_time": "2022-06-17T07:07:01.677Z"
   },
   {
    "duration": 25,
    "start_time": "2022-06-17T07:07:01.692Z"
   },
   {
    "duration": 22,
    "start_time": "2022-06-17T07:07:01.718Z"
   },
   {
    "duration": 162,
    "start_time": "2022-06-17T07:07:01.742Z"
   },
   {
    "duration": 150,
    "start_time": "2022-06-17T07:07:01.906Z"
   },
   {
    "duration": 95,
    "start_time": "2022-06-17T07:07:02.058Z"
   },
   {
    "duration": 0,
    "start_time": "2022-06-17T07:07:02.154Z"
   },
   {
    "duration": 0,
    "start_time": "2022-06-17T07:07:02.155Z"
   },
   {
    "duration": 0,
    "start_time": "2022-06-17T07:07:02.156Z"
   },
   {
    "duration": 0,
    "start_time": "2022-06-17T07:07:02.157Z"
   },
   {
    "duration": 0,
    "start_time": "2022-06-17T07:07:02.158Z"
   },
   {
    "duration": 0,
    "start_time": "2022-06-17T07:07:02.159Z"
   },
   {
    "duration": 0,
    "start_time": "2022-06-17T07:07:02.159Z"
   },
   {
    "duration": 0,
    "start_time": "2022-06-17T07:07:02.161Z"
   },
   {
    "duration": 0,
    "start_time": "2022-06-17T07:07:02.161Z"
   },
   {
    "duration": 0,
    "start_time": "2022-06-17T07:07:02.162Z"
   },
   {
    "duration": 0,
    "start_time": "2022-06-17T07:07:02.178Z"
   },
   {
    "duration": 0,
    "start_time": "2022-06-17T07:07:02.178Z"
   },
   {
    "duration": 0,
    "start_time": "2022-06-17T07:07:02.179Z"
   },
   {
    "duration": 0,
    "start_time": "2022-06-17T07:07:02.179Z"
   },
   {
    "duration": 0,
    "start_time": "2022-06-17T07:07:02.180Z"
   },
   {
    "duration": 10,
    "start_time": "2022-06-17T07:07:30.529Z"
   },
   {
    "duration": 10,
    "start_time": "2022-06-17T07:09:54.178Z"
   },
   {
    "duration": 3,
    "start_time": "2022-06-17T07:11:26.192Z"
   },
   {
    "duration": 57,
    "start_time": "2022-06-17T07:11:26.202Z"
   },
   {
    "duration": 56,
    "start_time": "2022-06-17T07:11:26.261Z"
   },
   {
    "duration": 5,
    "start_time": "2022-06-17T07:11:26.318Z"
   },
   {
    "duration": 8,
    "start_time": "2022-06-17T07:11:26.325Z"
   },
   {
    "duration": 8,
    "start_time": "2022-06-17T07:11:26.335Z"
   },
   {
    "duration": 51,
    "start_time": "2022-06-17T07:11:26.345Z"
   },
   {
    "duration": 15,
    "start_time": "2022-06-17T07:11:26.398Z"
   },
   {
    "duration": 28,
    "start_time": "2022-06-17T07:11:26.415Z"
   },
   {
    "duration": 45,
    "start_time": "2022-06-17T07:11:26.444Z"
   },
   {
    "duration": 15,
    "start_time": "2022-06-17T07:11:26.492Z"
   },
   {
    "duration": 25,
    "start_time": "2022-06-17T07:11:26.508Z"
   },
   {
    "duration": 4,
    "start_time": "2022-06-17T07:11:26.535Z"
   },
   {
    "duration": 38,
    "start_time": "2022-06-17T07:11:26.541Z"
   },
   {
    "duration": 2021,
    "start_time": "2022-06-17T07:11:26.583Z"
   },
   {
    "duration": 6,
    "start_time": "2022-06-17T07:11:28.605Z"
   },
   {
    "duration": 14,
    "start_time": "2022-06-17T07:11:28.612Z"
   },
   {
    "duration": 6,
    "start_time": "2022-06-17T07:11:28.628Z"
   },
   {
    "duration": 4,
    "start_time": "2022-06-17T07:11:28.635Z"
   },
   {
    "duration": 38,
    "start_time": "2022-06-17T07:11:28.640Z"
   },
   {
    "duration": 6,
    "start_time": "2022-06-17T07:11:28.692Z"
   },
   {
    "duration": 3,
    "start_time": "2022-06-17T07:11:28.700Z"
   },
   {
    "duration": 9,
    "start_time": "2022-06-17T07:11:28.704Z"
   },
   {
    "duration": 4,
    "start_time": "2022-06-17T07:11:28.714Z"
   },
   {
    "duration": 7,
    "start_time": "2022-06-17T07:11:28.719Z"
   },
   {
    "duration": 7,
    "start_time": "2022-06-17T07:11:28.728Z"
   },
   {
    "duration": 14,
    "start_time": "2022-06-17T07:11:28.736Z"
   },
   {
    "duration": 37,
    "start_time": "2022-06-17T07:11:28.751Z"
   },
   {
    "duration": 13,
    "start_time": "2022-06-17T07:11:28.790Z"
   },
   {
    "duration": 10,
    "start_time": "2022-06-17T07:11:28.804Z"
   },
   {
    "duration": 17,
    "start_time": "2022-06-17T07:11:28.816Z"
   },
   {
    "duration": 57,
    "start_time": "2022-06-17T07:11:28.835Z"
   },
   {
    "duration": 5,
    "start_time": "2022-06-17T07:11:28.894Z"
   },
   {
    "duration": 13,
    "start_time": "2022-06-17T07:11:28.900Z"
   },
   {
    "duration": 13,
    "start_time": "2022-06-17T07:11:28.915Z"
   },
   {
    "duration": 20,
    "start_time": "2022-06-17T07:11:28.929Z"
   },
   {
    "duration": 294,
    "start_time": "2022-06-17T07:11:28.950Z"
   },
   {
    "duration": 12,
    "start_time": "2022-06-17T07:11:29.246Z"
   },
   {
    "duration": 5,
    "start_time": "2022-06-17T07:11:29.259Z"
   },
   {
    "duration": 17,
    "start_time": "2022-06-17T07:11:29.265Z"
   },
   {
    "duration": 32,
    "start_time": "2022-06-17T07:11:29.284Z"
   },
   {
    "duration": 22,
    "start_time": "2022-06-17T07:11:29.320Z"
   },
   {
    "duration": 224,
    "start_time": "2022-06-17T07:11:29.343Z"
   },
   {
    "duration": 213,
    "start_time": "2022-06-17T07:11:29.569Z"
   },
   {
    "duration": 175,
    "start_time": "2022-06-17T07:11:29.784Z"
   },
   {
    "duration": 268,
    "start_time": "2022-06-17T07:11:29.961Z"
   },
   {
    "duration": 13,
    "start_time": "2022-06-17T07:11:30.231Z"
   },
   {
    "duration": 39,
    "start_time": "2022-06-17T07:11:30.245Z"
   },
   {
    "duration": 40,
    "start_time": "2022-06-17T07:11:30.285Z"
   },
   {
    "duration": 221,
    "start_time": "2022-06-17T07:11:30.327Z"
   },
   {
    "duration": 131,
    "start_time": "2022-06-17T07:11:30.549Z"
   },
   {
    "duration": 5,
    "start_time": "2022-06-17T07:11:30.682Z"
   },
   {
    "duration": 146,
    "start_time": "2022-06-17T07:11:30.689Z"
   },
   {
    "duration": 126,
    "start_time": "2022-06-17T07:11:30.837Z"
   },
   {
    "duration": 14,
    "start_time": "2022-06-17T07:11:30.965Z"
   },
   {
    "duration": 56,
    "start_time": "2022-06-17T07:11:30.980Z"
   },
   {
    "duration": 110,
    "start_time": "2022-06-17T07:11:31.038Z"
   },
   {
    "duration": 129,
    "start_time": "2022-06-17T07:11:31.150Z"
   },
   {
    "duration": 8,
    "start_time": "2022-06-17T07:11:31.282Z"
   },
   {
    "duration": 40,
    "start_time": "2022-06-17T07:11:31.293Z"
   },
   {
    "duration": 24,
    "start_time": "2022-06-17T07:11:31.335Z"
   },
   {
    "duration": 142,
    "start_time": "2022-06-17T07:11:31.361Z"
   },
   {
    "duration": 139,
    "start_time": "2022-06-17T07:11:31.504Z"
   },
   {
    "duration": 4,
    "start_time": "2022-06-17T07:11:31.645Z"
   },
   {
    "duration": 44,
    "start_time": "2022-06-17T07:11:31.651Z"
   },
   {
    "duration": 168,
    "start_time": "2022-06-17T07:11:31.697Z"
   },
   {
    "duration": 13,
    "start_time": "2022-06-17T07:11:31.866Z"
   },
   {
    "duration": 225,
    "start_time": "2022-06-17T07:11:31.881Z"
   },
   {
    "duration": 14,
    "start_time": "2022-06-17T07:11:32.107Z"
   },
   {
    "duration": 17,
    "start_time": "2022-06-17T07:11:32.123Z"
   },
   {
    "duration": 204,
    "start_time": "2022-06-17T07:11:32.141Z"
   },
   {
    "duration": 11,
    "start_time": "2022-06-17T07:11:32.346Z"
   },
   {
    "duration": 23,
    "start_time": "2022-06-17T07:11:32.358Z"
   },
   {
    "duration": 30,
    "start_time": "2022-06-17T07:11:32.382Z"
   },
   {
    "duration": 0,
    "start_time": "2022-06-17T07:11:32.413Z"
   },
   {
    "duration": 0,
    "start_time": "2022-06-17T07:11:32.415Z"
   },
   {
    "duration": 0,
    "start_time": "2022-06-17T07:11:32.415Z"
   },
   {
    "duration": 0,
    "start_time": "2022-06-17T07:11:32.416Z"
   },
   {
    "duration": 0,
    "start_time": "2022-06-17T07:11:32.417Z"
   },
   {
    "duration": 478,
    "start_time": "2022-06-17T07:12:12.828Z"
   },
   {
    "duration": 16,
    "start_time": "2022-06-17T07:12:31.606Z"
   },
   {
    "duration": 9,
    "start_time": "2022-06-17T07:12:47.929Z"
   },
   {
    "duration": 11,
    "start_time": "2022-06-17T07:13:50.918Z"
   },
   {
    "duration": 11,
    "start_time": "2022-06-17T07:13:53.580Z"
   },
   {
    "duration": 13,
    "start_time": "2022-06-17T07:14:07.218Z"
   },
   {
    "duration": 9,
    "start_time": "2022-06-17T07:14:42.648Z"
   },
   {
    "duration": 4,
    "start_time": "2022-06-17T07:14:52.430Z"
   },
   {
    "duration": 3,
    "start_time": "2022-06-17T07:15:06.608Z"
   },
   {
    "duration": 56,
    "start_time": "2022-06-17T07:15:06.612Z"
   },
   {
    "duration": 46,
    "start_time": "2022-06-17T07:15:06.670Z"
   },
   {
    "duration": 5,
    "start_time": "2022-06-17T07:15:06.717Z"
   },
   {
    "duration": 8,
    "start_time": "2022-06-17T07:15:06.724Z"
   },
   {
    "duration": 7,
    "start_time": "2022-06-17T07:15:06.733Z"
   },
   {
    "duration": 10,
    "start_time": "2022-06-17T07:15:06.741Z"
   },
   {
    "duration": 12,
    "start_time": "2022-06-17T07:15:06.777Z"
   },
   {
    "duration": 26,
    "start_time": "2022-06-17T07:15:06.790Z"
   },
   {
    "duration": 13,
    "start_time": "2022-06-17T07:15:06.818Z"
   },
   {
    "duration": 7,
    "start_time": "2022-06-17T07:15:06.833Z"
   },
   {
    "duration": 48,
    "start_time": "2022-06-17T07:15:06.841Z"
   },
   {
    "duration": 5,
    "start_time": "2022-06-17T07:15:06.891Z"
   },
   {
    "duration": 14,
    "start_time": "2022-06-17T07:15:06.899Z"
   },
   {
    "duration": 1911,
    "start_time": "2022-06-17T07:15:06.915Z"
   },
   {
    "duration": 7,
    "start_time": "2022-06-17T07:15:08.828Z"
   },
   {
    "duration": 54,
    "start_time": "2022-06-17T07:15:08.837Z"
   },
   {
    "duration": 6,
    "start_time": "2022-06-17T07:15:08.893Z"
   },
   {
    "duration": 3,
    "start_time": "2022-06-17T07:15:08.900Z"
   },
   {
    "duration": 13,
    "start_time": "2022-06-17T07:15:08.905Z"
   },
   {
    "duration": 5,
    "start_time": "2022-06-17T07:15:08.920Z"
   },
   {
    "duration": 9,
    "start_time": "2022-06-17T07:15:08.927Z"
   },
   {
    "duration": 21,
    "start_time": "2022-06-17T07:15:08.937Z"
   },
   {
    "duration": 14,
    "start_time": "2022-06-17T07:15:08.960Z"
   },
   {
    "duration": 21,
    "start_time": "2022-06-17T07:15:08.975Z"
   },
   {
    "duration": 4,
    "start_time": "2022-06-17T07:15:08.998Z"
   },
   {
    "duration": 18,
    "start_time": "2022-06-17T07:15:09.003Z"
   },
   {
    "duration": 14,
    "start_time": "2022-06-17T07:15:09.023Z"
   },
   {
    "duration": 14,
    "start_time": "2022-06-17T07:15:09.038Z"
   },
   {
    "duration": 10,
    "start_time": "2022-06-17T07:15:09.053Z"
   },
   {
    "duration": 23,
    "start_time": "2022-06-17T07:15:09.064Z"
   },
   {
    "duration": 31,
    "start_time": "2022-06-17T07:15:09.089Z"
   },
   {
    "duration": 5,
    "start_time": "2022-06-17T07:15:09.121Z"
   },
   {
    "duration": 15,
    "start_time": "2022-06-17T07:15:09.127Z"
   },
   {
    "duration": 37,
    "start_time": "2022-06-17T07:15:09.143Z"
   },
   {
    "duration": 15,
    "start_time": "2022-06-17T07:15:09.181Z"
   },
   {
    "duration": 292,
    "start_time": "2022-06-17T07:15:09.197Z"
   },
   {
    "duration": 13,
    "start_time": "2022-06-17T07:15:09.491Z"
   },
   {
    "duration": 5,
    "start_time": "2022-06-17T07:15:09.505Z"
   },
   {
    "duration": 9,
    "start_time": "2022-06-17T07:15:09.512Z"
   },
   {
    "duration": 20,
    "start_time": "2022-06-17T07:15:09.525Z"
   },
   {
    "duration": 42,
    "start_time": "2022-06-17T07:15:09.546Z"
   },
   {
    "duration": 192,
    "start_time": "2022-06-17T07:15:09.589Z"
   },
   {
    "duration": 180,
    "start_time": "2022-06-17T07:15:09.783Z"
   },
   {
    "duration": 182,
    "start_time": "2022-06-17T07:15:09.964Z"
   },
   {
    "duration": 254,
    "start_time": "2022-06-17T07:15:10.148Z"
   },
   {
    "duration": 12,
    "start_time": "2022-06-17T07:15:10.404Z"
   },
   {
    "duration": 28,
    "start_time": "2022-06-17T07:15:10.418Z"
   },
   {
    "duration": 40,
    "start_time": "2022-06-17T07:15:10.447Z"
   },
   {
    "duration": 141,
    "start_time": "2022-06-17T07:15:10.488Z"
   },
   {
    "duration": 130,
    "start_time": "2022-06-17T07:15:10.630Z"
   },
   {
    "duration": 4,
    "start_time": "2022-06-17T07:15:10.762Z"
   },
   {
    "duration": 144,
    "start_time": "2022-06-17T07:15:10.768Z"
   },
   {
    "duration": 219,
    "start_time": "2022-06-17T07:15:10.914Z"
   },
   {
    "duration": 5,
    "start_time": "2022-06-17T07:15:11.134Z"
   },
   {
    "duration": 53,
    "start_time": "2022-06-17T07:15:11.140Z"
   },
   {
    "duration": 112,
    "start_time": "2022-06-17T07:15:11.195Z"
   },
   {
    "duration": 123,
    "start_time": "2022-06-17T07:15:11.308Z"
   },
   {
    "duration": 5,
    "start_time": "2022-06-17T07:15:11.432Z"
   },
   {
    "duration": 25,
    "start_time": "2022-06-17T07:15:11.439Z"
   },
   {
    "duration": 32,
    "start_time": "2022-06-17T07:15:11.466Z"
   },
   {
    "duration": 143,
    "start_time": "2022-06-17T07:15:11.500Z"
   },
   {
    "duration": 135,
    "start_time": "2022-06-17T07:15:11.645Z"
   },
   {
    "duration": 4,
    "start_time": "2022-06-17T07:15:11.782Z"
   },
   {
    "duration": 10,
    "start_time": "2022-06-17T07:15:11.788Z"
   },
   {
    "duration": 161,
    "start_time": "2022-06-17T07:15:11.800Z"
   },
   {
    "duration": 15,
    "start_time": "2022-06-17T07:15:11.963Z"
   },
   {
    "duration": 165,
    "start_time": "2022-06-17T07:15:11.979Z"
   },
   {
    "duration": 14,
    "start_time": "2022-06-17T07:15:12.145Z"
   },
   {
    "duration": 26,
    "start_time": "2022-06-17T07:15:12.161Z"
   },
   {
    "duration": 180,
    "start_time": "2022-06-17T07:15:12.189Z"
   },
   {
    "duration": 14,
    "start_time": "2022-06-17T07:15:12.370Z"
   },
   {
    "duration": 8,
    "start_time": "2022-06-17T07:15:12.386Z"
   },
   {
    "duration": 14,
    "start_time": "2022-06-17T07:15:12.396Z"
   },
   {
    "duration": 15,
    "start_time": "2022-06-17T07:15:12.412Z"
   },
   {
    "duration": 14,
    "start_time": "2022-06-17T07:15:12.428Z"
   },
   {
    "duration": 20,
    "start_time": "2022-06-17T07:15:12.443Z"
   },
   {
    "duration": 7,
    "start_time": "2022-06-17T07:15:12.478Z"
   },
   {
    "duration": 23,
    "start_time": "2022-06-17T07:15:12.487Z"
   },
   {
    "duration": 23,
    "start_time": "2022-06-17T07:15:12.511Z"
   },
   {
    "duration": 9,
    "start_time": "2022-06-17T07:15:48.548Z"
   },
   {
    "duration": 17,
    "start_time": "2022-06-17T07:15:54.038Z"
   },
   {
    "duration": 10,
    "start_time": "2022-06-17T07:15:58.508Z"
   },
   {
    "duration": 16,
    "start_time": "2022-06-17T07:16:59.117Z"
   },
   {
    "duration": 535,
    "start_time": "2022-06-17T07:17:00.859Z"
   },
   {
    "duration": 20,
    "start_time": "2022-06-17T07:17:58.392Z"
   },
   {
    "duration": 2,
    "start_time": "2022-06-17T07:18:04.655Z"
   },
   {
    "duration": 45,
    "start_time": "2022-06-17T07:18:04.676Z"
   },
   {
    "duration": 41,
    "start_time": "2022-06-17T07:18:04.723Z"
   },
   {
    "duration": 4,
    "start_time": "2022-06-17T07:18:04.765Z"
   },
   {
    "duration": 11,
    "start_time": "2022-06-17T07:18:04.771Z"
   },
   {
    "duration": 10,
    "start_time": "2022-06-17T07:18:04.784Z"
   },
   {
    "duration": 23,
    "start_time": "2022-06-17T07:18:04.795Z"
   },
   {
    "duration": 12,
    "start_time": "2022-06-17T07:18:04.820Z"
   },
   {
    "duration": 24,
    "start_time": "2022-06-17T07:18:04.833Z"
   },
   {
    "duration": 10,
    "start_time": "2022-06-17T07:18:04.859Z"
   },
   {
    "duration": 10,
    "start_time": "2022-06-17T07:18:04.870Z"
   },
   {
    "duration": 19,
    "start_time": "2022-06-17T07:18:04.881Z"
   },
   {
    "duration": 3,
    "start_time": "2022-06-17T07:18:04.901Z"
   },
   {
    "duration": 15,
    "start_time": "2022-06-17T07:18:04.905Z"
   },
   {
    "duration": 1668,
    "start_time": "2022-06-17T07:18:04.923Z"
   },
   {
    "duration": 5,
    "start_time": "2022-06-17T07:18:06.599Z"
   },
   {
    "duration": 18,
    "start_time": "2022-06-17T07:18:06.605Z"
   },
   {
    "duration": 5,
    "start_time": "2022-06-17T07:18:06.624Z"
   },
   {
    "duration": 4,
    "start_time": "2022-06-17T07:18:06.630Z"
   },
   {
    "duration": 8,
    "start_time": "2022-06-17T07:18:06.635Z"
   },
   {
    "duration": 33,
    "start_time": "2022-06-17T07:18:06.645Z"
   },
   {
    "duration": 2,
    "start_time": "2022-06-17T07:18:06.680Z"
   },
   {
    "duration": 12,
    "start_time": "2022-06-17T07:18:06.684Z"
   },
   {
    "duration": 7,
    "start_time": "2022-06-17T07:18:06.698Z"
   },
   {
    "duration": 9,
    "start_time": "2022-06-17T07:18:06.706Z"
   },
   {
    "duration": 4,
    "start_time": "2022-06-17T07:18:06.716Z"
   },
   {
    "duration": 12,
    "start_time": "2022-06-17T07:18:06.722Z"
   },
   {
    "duration": 10,
    "start_time": "2022-06-17T07:18:06.735Z"
   },
   {
    "duration": 36,
    "start_time": "2022-06-17T07:18:06.747Z"
   },
   {
    "duration": 12,
    "start_time": "2022-06-17T07:18:06.784Z"
   },
   {
    "duration": 19,
    "start_time": "2022-06-17T07:18:06.797Z"
   },
   {
    "duration": 29,
    "start_time": "2022-06-17T07:18:06.817Z"
   },
   {
    "duration": 33,
    "start_time": "2022-06-17T07:18:06.847Z"
   },
   {
    "duration": 14,
    "start_time": "2022-06-17T07:18:06.883Z"
   },
   {
    "duration": 13,
    "start_time": "2022-06-17T07:18:06.898Z"
   },
   {
    "duration": 13,
    "start_time": "2022-06-17T07:18:06.913Z"
   },
   {
    "duration": 283,
    "start_time": "2022-06-17T07:18:06.927Z"
   },
   {
    "duration": 13,
    "start_time": "2022-06-17T07:18:07.212Z"
   },
   {
    "duration": 5,
    "start_time": "2022-06-17T07:18:07.226Z"
   },
   {
    "duration": 10,
    "start_time": "2022-06-17T07:18:07.233Z"
   },
   {
    "duration": 38,
    "start_time": "2022-06-17T07:18:07.244Z"
   },
   {
    "duration": 30,
    "start_time": "2022-06-17T07:18:07.286Z"
   },
   {
    "duration": 204,
    "start_time": "2022-06-17T07:18:07.317Z"
   },
   {
    "duration": 321,
    "start_time": "2022-06-17T07:18:07.523Z"
   },
   {
    "duration": 162,
    "start_time": "2022-06-17T07:18:07.846Z"
   },
   {
    "duration": 263,
    "start_time": "2022-06-17T07:18:08.010Z"
   },
   {
    "duration": 13,
    "start_time": "2022-06-17T07:18:08.277Z"
   },
   {
    "duration": 30,
    "start_time": "2022-06-17T07:18:08.291Z"
   },
   {
    "duration": 20,
    "start_time": "2022-06-17T07:18:08.322Z"
   },
   {
    "duration": 142,
    "start_time": "2022-06-17T07:18:08.343Z"
   },
   {
    "duration": 120,
    "start_time": "2022-06-17T07:18:08.487Z"
   },
   {
    "duration": 5,
    "start_time": "2022-06-17T07:18:08.608Z"
   },
   {
    "duration": 136,
    "start_time": "2022-06-17T07:18:08.614Z"
   },
   {
    "duration": 128,
    "start_time": "2022-06-17T07:18:08.751Z"
   },
   {
    "duration": 5,
    "start_time": "2022-06-17T07:18:08.881Z"
   },
   {
    "duration": 45,
    "start_time": "2022-06-17T07:18:08.887Z"
   },
   {
    "duration": 117,
    "start_time": "2022-06-17T07:18:08.933Z"
   },
   {
    "duration": 116,
    "start_time": "2022-06-17T07:18:09.051Z"
   },
   {
    "duration": 11,
    "start_time": "2022-06-17T07:18:09.169Z"
   },
   {
    "duration": 27,
    "start_time": "2022-06-17T07:18:09.181Z"
   },
   {
    "duration": 20,
    "start_time": "2022-06-17T07:18:09.210Z"
   },
   {
    "duration": 148,
    "start_time": "2022-06-17T07:18:09.231Z"
   },
   {
    "duration": 132,
    "start_time": "2022-06-17T07:18:09.381Z"
   },
   {
    "duration": 6,
    "start_time": "2022-06-17T07:18:09.515Z"
   },
   {
    "duration": 12,
    "start_time": "2022-06-17T07:18:09.522Z"
   },
   {
    "duration": 165,
    "start_time": "2022-06-17T07:18:09.536Z"
   },
   {
    "duration": 7,
    "start_time": "2022-06-17T07:18:09.703Z"
   },
   {
    "duration": 154,
    "start_time": "2022-06-17T07:18:09.711Z"
   },
   {
    "duration": 20,
    "start_time": "2022-06-17T07:18:09.867Z"
   },
   {
    "duration": 17,
    "start_time": "2022-06-17T07:18:09.888Z"
   },
   {
    "duration": 307,
    "start_time": "2022-06-17T07:18:09.906Z"
   },
   {
    "duration": 11,
    "start_time": "2022-06-17T07:18:10.214Z"
   },
   {
    "duration": 16,
    "start_time": "2022-06-17T07:18:10.226Z"
   },
   {
    "duration": 23,
    "start_time": "2022-06-17T07:18:10.243Z"
   },
   {
    "duration": 446,
    "start_time": "2022-06-17T07:18:10.268Z"
   },
   {
    "duration": 0,
    "start_time": "2022-06-17T07:18:10.716Z"
   },
   {
    "duration": 0,
    "start_time": "2022-06-17T07:18:10.717Z"
   },
   {
    "duration": 0,
    "start_time": "2022-06-17T07:18:10.718Z"
   },
   {
    "duration": 0,
    "start_time": "2022-06-17T07:18:10.719Z"
   },
   {
    "duration": 0,
    "start_time": "2022-06-17T07:18:10.720Z"
   },
   {
    "duration": 15,
    "start_time": "2022-06-17T07:19:15.728Z"
   },
   {
    "duration": 10,
    "start_time": "2022-06-17T07:19:38.187Z"
   },
   {
    "duration": 17,
    "start_time": "2022-06-17T07:19:40.048Z"
   },
   {
    "duration": 10,
    "start_time": "2022-06-17T07:20:08.272Z"
   },
   {
    "duration": 3,
    "start_time": "2022-06-17T07:20:11.830Z"
   },
   {
    "duration": 49,
    "start_time": "2022-06-17T07:20:11.835Z"
   },
   {
    "duration": 44,
    "start_time": "2022-06-17T07:20:11.885Z"
   },
   {
    "duration": 4,
    "start_time": "2022-06-17T07:20:11.931Z"
   },
   {
    "duration": 8,
    "start_time": "2022-06-17T07:20:11.937Z"
   },
   {
    "duration": 6,
    "start_time": "2022-06-17T07:20:11.947Z"
   },
   {
    "duration": 33,
    "start_time": "2022-06-17T07:20:11.955Z"
   },
   {
    "duration": 12,
    "start_time": "2022-06-17T07:20:11.990Z"
   },
   {
    "duration": 25,
    "start_time": "2022-06-17T07:20:12.003Z"
   },
   {
    "duration": 12,
    "start_time": "2022-06-17T07:20:12.030Z"
   },
   {
    "duration": 38,
    "start_time": "2022-06-17T07:20:12.043Z"
   },
   {
    "duration": 24,
    "start_time": "2022-06-17T07:20:12.082Z"
   },
   {
    "duration": 6,
    "start_time": "2022-06-17T07:20:12.107Z"
   },
   {
    "duration": 16,
    "start_time": "2022-06-17T07:20:12.114Z"
   },
   {
    "duration": 1756,
    "start_time": "2022-06-17T07:20:12.132Z"
   },
   {
    "duration": 6,
    "start_time": "2022-06-17T07:20:13.889Z"
   },
   {
    "duration": 12,
    "start_time": "2022-06-17T07:20:13.897Z"
   },
   {
    "duration": 4,
    "start_time": "2022-06-17T07:20:13.911Z"
   },
   {
    "duration": 4,
    "start_time": "2022-06-17T07:20:13.916Z"
   },
   {
    "duration": 8,
    "start_time": "2022-06-17T07:20:13.921Z"
   },
   {
    "duration": 4,
    "start_time": "2022-06-17T07:20:13.930Z"
   },
   {
    "duration": 3,
    "start_time": "2022-06-17T07:20:13.935Z"
   },
   {
    "duration": 38,
    "start_time": "2022-06-17T07:20:13.940Z"
   },
   {
    "duration": 4,
    "start_time": "2022-06-17T07:20:13.979Z"
   },
   {
    "duration": 8,
    "start_time": "2022-06-17T07:20:13.984Z"
   },
   {
    "duration": 5,
    "start_time": "2022-06-17T07:20:13.993Z"
   },
   {
    "duration": 14,
    "start_time": "2022-06-17T07:20:13.999Z"
   },
   {
    "duration": 10,
    "start_time": "2022-06-17T07:20:14.016Z"
   },
   {
    "duration": 12,
    "start_time": "2022-06-17T07:20:14.028Z"
   },
   {
    "duration": 41,
    "start_time": "2022-06-17T07:20:14.041Z"
   },
   {
    "duration": 17,
    "start_time": "2022-06-17T07:20:14.083Z"
   },
   {
    "duration": 30,
    "start_time": "2022-06-17T07:20:14.101Z"
   },
   {
    "duration": 5,
    "start_time": "2022-06-17T07:20:14.132Z"
   },
   {
    "duration": 14,
    "start_time": "2022-06-17T07:20:14.138Z"
   },
   {
    "duration": 36,
    "start_time": "2022-06-17T07:20:14.153Z"
   },
   {
    "duration": 14,
    "start_time": "2022-06-17T07:20:14.190Z"
   },
   {
    "duration": 274,
    "start_time": "2022-06-17T07:20:14.205Z"
   },
   {
    "duration": 12,
    "start_time": "2022-06-17T07:20:14.481Z"
   },
   {
    "duration": 5,
    "start_time": "2022-06-17T07:20:14.494Z"
   },
   {
    "duration": 9,
    "start_time": "2022-06-17T07:20:14.500Z"
   },
   {
    "duration": 20,
    "start_time": "2022-06-17T07:20:14.510Z"
   },
   {
    "duration": 18,
    "start_time": "2022-06-17T07:20:14.532Z"
   },
   {
    "duration": 218,
    "start_time": "2022-06-17T07:20:14.552Z"
   },
   {
    "duration": 178,
    "start_time": "2022-06-17T07:20:14.772Z"
   },
   {
    "duration": 170,
    "start_time": "2022-06-17T07:20:14.952Z"
   },
   {
    "duration": 249,
    "start_time": "2022-06-17T07:20:15.124Z"
   },
   {
    "duration": 12,
    "start_time": "2022-06-17T07:20:15.375Z"
   },
   {
    "duration": 27,
    "start_time": "2022-06-17T07:20:15.388Z"
   },
   {
    "duration": 20,
    "start_time": "2022-06-17T07:20:15.416Z"
   },
   {
    "duration": 143,
    "start_time": "2022-06-17T07:20:15.438Z"
   },
   {
    "duration": 123,
    "start_time": "2022-06-17T07:20:15.583Z"
   },
   {
    "duration": 5,
    "start_time": "2022-06-17T07:20:15.708Z"
   },
   {
    "duration": 131,
    "start_time": "2022-06-17T07:20:15.714Z"
   },
   {
    "duration": 241,
    "start_time": "2022-06-17T07:20:15.847Z"
   },
   {
    "duration": 5,
    "start_time": "2022-06-17T07:20:16.090Z"
   },
   {
    "duration": 50,
    "start_time": "2022-06-17T07:20:16.097Z"
   },
   {
    "duration": 116,
    "start_time": "2022-06-17T07:20:16.148Z"
   },
   {
    "duration": 127,
    "start_time": "2022-06-17T07:20:16.266Z"
   },
   {
    "duration": 5,
    "start_time": "2022-06-17T07:20:16.394Z"
   },
   {
    "duration": 30,
    "start_time": "2022-06-17T07:20:16.400Z"
   },
   {
    "duration": 20,
    "start_time": "2022-06-17T07:20:16.431Z"
   },
   {
    "duration": 145,
    "start_time": "2022-06-17T07:20:16.452Z"
   },
   {
    "duration": 133,
    "start_time": "2022-06-17T07:20:16.599Z"
   },
   {
    "duration": 6,
    "start_time": "2022-06-17T07:20:16.733Z"
   },
   {
    "duration": 11,
    "start_time": "2022-06-17T07:20:16.741Z"
   },
   {
    "duration": 154,
    "start_time": "2022-06-17T07:20:16.754Z"
   },
   {
    "duration": 8,
    "start_time": "2022-06-17T07:20:16.909Z"
   },
   {
    "duration": 162,
    "start_time": "2022-06-17T07:20:16.918Z"
   },
   {
    "duration": 13,
    "start_time": "2022-06-17T07:20:17.082Z"
   },
   {
    "duration": 17,
    "start_time": "2022-06-17T07:20:17.096Z"
   },
   {
    "duration": 186,
    "start_time": "2022-06-17T07:20:17.114Z"
   },
   {
    "duration": 11,
    "start_time": "2022-06-17T07:20:17.302Z"
   },
   {
    "duration": 10,
    "start_time": "2022-06-17T07:20:17.314Z"
   },
   {
    "duration": 22,
    "start_time": "2022-06-17T07:20:17.325Z"
   },
   {
    "duration": 29,
    "start_time": "2022-06-17T07:20:17.349Z"
   },
   {
    "duration": 15,
    "start_time": "2022-06-17T07:20:17.379Z"
   },
   {
    "duration": 1520,
    "start_time": "2022-06-17T07:20:17.396Z"
   },
   {
    "duration": 0,
    "start_time": "2022-06-17T07:20:18.918Z"
   },
   {
    "duration": 0,
    "start_time": "2022-06-17T07:20:18.919Z"
   },
   {
    "duration": 0,
    "start_time": "2022-06-17T07:20:18.920Z"
   },
   {
    "duration": 0,
    "start_time": "2022-06-17T07:20:18.921Z"
   },
   {
    "duration": 0,
    "start_time": "2022-06-17T07:20:18.922Z"
   },
   {
    "duration": 480,
    "start_time": "2022-06-17T07:22:55.208Z"
   },
   {
    "duration": 506,
    "start_time": "2022-06-17T07:23:51.747Z"
   },
   {
    "duration": 30,
    "start_time": "2022-06-17T07:24:33.513Z"
   },
   {
    "duration": 9,
    "start_time": "2022-06-17T07:24:48.983Z"
   },
   {
    "duration": 31,
    "start_time": "2022-06-17T07:25:16.687Z"
   },
   {
    "duration": 12,
    "start_time": "2022-06-17T07:26:36.080Z"
   },
   {
    "duration": 16,
    "start_time": "2022-06-17T07:28:32.014Z"
   },
   {
    "duration": 13,
    "start_time": "2022-06-17T07:29:44.199Z"
   },
   {
    "duration": 11,
    "start_time": "2022-06-17T07:31:33.827Z"
   },
   {
    "duration": 33,
    "start_time": "2022-06-17T07:32:05.037Z"
   },
   {
    "duration": 1352,
    "start_time": "2022-06-17T10:52:01.895Z"
   },
   {
    "duration": 104,
    "start_time": "2022-06-17T10:52:03.249Z"
   },
   {
    "duration": 56,
    "start_time": "2022-06-17T10:52:03.356Z"
   },
   {
    "duration": 6,
    "start_time": "2022-06-17T10:52:03.414Z"
   },
   {
    "duration": 44,
    "start_time": "2022-06-17T10:52:03.423Z"
   },
   {
    "duration": 27,
    "start_time": "2022-06-17T10:52:03.469Z"
   },
   {
    "duration": 41,
    "start_time": "2022-06-17T10:52:03.498Z"
   },
   {
    "duration": 29,
    "start_time": "2022-06-17T10:52:03.540Z"
   },
   {
    "duration": 59,
    "start_time": "2022-06-17T10:52:03.571Z"
   },
   {
    "duration": 43,
    "start_time": "2022-06-17T10:52:03.632Z"
   },
   {
    "duration": 31,
    "start_time": "2022-06-17T10:52:03.677Z"
   },
   {
    "duration": 60,
    "start_time": "2022-06-17T10:52:03.710Z"
   },
   {
    "duration": 5,
    "start_time": "2022-06-17T10:52:03.772Z"
   },
   {
    "duration": 33,
    "start_time": "2022-06-17T10:52:03.781Z"
   },
   {
    "duration": 1825,
    "start_time": "2022-06-17T10:52:03.816Z"
   },
   {
    "duration": 8,
    "start_time": "2022-06-17T10:52:05.643Z"
   },
   {
    "duration": 19,
    "start_time": "2022-06-17T10:52:05.653Z"
   },
   {
    "duration": 6,
    "start_time": "2022-06-17T10:52:05.675Z"
   },
   {
    "duration": 29,
    "start_time": "2022-06-17T10:52:05.682Z"
   },
   {
    "duration": 20,
    "start_time": "2022-06-17T10:52:05.712Z"
   },
   {
    "duration": 22,
    "start_time": "2022-06-17T10:52:05.734Z"
   },
   {
    "duration": 2,
    "start_time": "2022-06-17T10:52:05.759Z"
   },
   {
    "duration": 9,
    "start_time": "2022-06-17T10:52:05.763Z"
   },
   {
    "duration": 12,
    "start_time": "2022-06-17T10:52:05.774Z"
   },
   {
    "duration": 12,
    "start_time": "2022-06-17T10:52:05.787Z"
   },
   {
    "duration": 11,
    "start_time": "2022-06-17T10:52:05.801Z"
   },
   {
    "duration": 30,
    "start_time": "2022-06-17T10:52:05.814Z"
   },
   {
    "duration": 18,
    "start_time": "2022-06-17T10:52:05.846Z"
   },
   {
    "duration": 18,
    "start_time": "2022-06-17T10:52:05.866Z"
   },
   {
    "duration": 12,
    "start_time": "2022-06-17T10:52:05.886Z"
   },
   {
    "duration": 55,
    "start_time": "2022-06-17T10:52:05.899Z"
   },
   {
    "duration": 36,
    "start_time": "2022-06-17T10:52:05.955Z"
   },
   {
    "duration": 6,
    "start_time": "2022-06-17T10:52:05.993Z"
   },
   {
    "duration": 36,
    "start_time": "2022-06-17T10:52:06.001Z"
   },
   {
    "duration": 20,
    "start_time": "2022-06-17T10:52:06.038Z"
   },
   {
    "duration": 26,
    "start_time": "2022-06-17T10:52:06.060Z"
   },
   {
    "duration": 426,
    "start_time": "2022-06-17T10:52:06.088Z"
   },
   {
    "duration": 35,
    "start_time": "2022-06-17T10:52:06.516Z"
   },
   {
    "duration": 12,
    "start_time": "2022-06-17T10:52:06.553Z"
   },
   {
    "duration": 10,
    "start_time": "2022-06-17T10:52:06.567Z"
   },
   {
    "duration": 24,
    "start_time": "2022-06-17T10:52:06.583Z"
   },
   {
    "duration": 43,
    "start_time": "2022-06-17T10:52:06.608Z"
   },
   {
    "duration": 253,
    "start_time": "2022-06-17T10:52:06.653Z"
   },
   {
    "duration": 312,
    "start_time": "2022-06-17T10:52:06.908Z"
   },
   {
    "duration": 225,
    "start_time": "2022-06-17T10:52:07.227Z"
   },
   {
    "duration": 358,
    "start_time": "2022-06-17T10:52:07.453Z"
   },
   {
    "duration": 29,
    "start_time": "2022-06-17T10:52:07.813Z"
   },
   {
    "duration": 37,
    "start_time": "2022-06-17T10:52:07.844Z"
   },
   {
    "duration": 26,
    "start_time": "2022-06-17T10:52:07.883Z"
   },
   {
    "duration": 178,
    "start_time": "2022-06-17T10:52:07.930Z"
   },
   {
    "duration": 163,
    "start_time": "2022-06-17T10:52:08.109Z"
   },
   {
    "duration": 5,
    "start_time": "2022-06-17T10:52:08.274Z"
   },
   {
    "duration": 172,
    "start_time": "2022-06-17T10:52:08.281Z"
   },
   {
    "duration": 151,
    "start_time": "2022-06-17T10:52:08.455Z"
   },
   {
    "duration": 6,
    "start_time": "2022-06-17T10:52:08.608Z"
   },
   {
    "duration": 77,
    "start_time": "2022-06-17T10:52:08.615Z"
   },
   {
    "duration": 132,
    "start_time": "2022-06-17T10:52:08.693Z"
   },
   {
    "duration": 148,
    "start_time": "2022-06-17T10:52:08.827Z"
   },
   {
    "duration": 6,
    "start_time": "2022-06-17T10:52:08.977Z"
   },
   {
    "duration": 29,
    "start_time": "2022-06-17T10:52:08.984Z"
   },
   {
    "duration": 27,
    "start_time": "2022-06-17T10:52:09.033Z"
   },
   {
    "duration": 258,
    "start_time": "2022-06-17T10:52:09.062Z"
   },
   {
    "duration": 156,
    "start_time": "2022-06-17T10:52:09.327Z"
   },
   {
    "duration": 6,
    "start_time": "2022-06-17T10:52:09.485Z"
   },
   {
    "duration": 13,
    "start_time": "2022-06-17T10:52:09.492Z"
   },
   {
    "duration": 208,
    "start_time": "2022-06-17T10:52:09.506Z"
   },
   {
    "duration": 27,
    "start_time": "2022-06-17T10:52:09.716Z"
   },
   {
    "duration": 207,
    "start_time": "2022-06-17T10:52:09.745Z"
   },
   {
    "duration": 16,
    "start_time": "2022-06-17T10:52:09.954Z"
   },
   {
    "duration": 26,
    "start_time": "2022-06-17T10:52:09.972Z"
   },
   {
    "duration": 260,
    "start_time": "2022-06-17T10:52:10.000Z"
   },
   {
    "duration": 13,
    "start_time": "2022-06-17T10:52:10.262Z"
   },
   {
    "duration": 15,
    "start_time": "2022-06-17T10:52:10.277Z"
   },
   {
    "duration": 56,
    "start_time": "2022-06-17T10:52:10.294Z"
   },
   {
    "duration": 101,
    "start_time": "2022-06-17T10:52:10.352Z"
   },
   {
    "duration": 0,
    "start_time": "2022-06-17T10:52:10.454Z"
   },
   {
    "duration": 0,
    "start_time": "2022-06-17T10:52:10.456Z"
   },
   {
    "duration": 0,
    "start_time": "2022-06-17T10:52:10.457Z"
   },
   {
    "duration": 0,
    "start_time": "2022-06-17T10:52:10.458Z"
   },
   {
    "duration": 0,
    "start_time": "2022-06-17T10:52:10.459Z"
   },
   {
    "duration": 0,
    "start_time": "2022-06-17T10:52:10.461Z"
   },
   {
    "duration": 0,
    "start_time": "2022-06-17T10:52:10.462Z"
   },
   {
    "duration": 11,
    "start_time": "2022-06-17T10:56:23.367Z"
   },
   {
    "duration": 21,
    "start_time": "2022-06-17T10:56:26.686Z"
   },
   {
    "duration": 15,
    "start_time": "2022-06-17T10:56:30.634Z"
   },
   {
    "duration": 17,
    "start_time": "2022-06-17T11:00:52.743Z"
   },
   {
    "duration": 22,
    "start_time": "2022-06-17T11:01:03.882Z"
   },
   {
    "duration": 11,
    "start_time": "2022-06-17T11:01:11.734Z"
   }
  ],
  "kernelspec": {
   "display_name": "Python 3 (ipykernel)",
   "language": "python",
   "name": "python3"
  },
  "language_info": {
   "codemirror_mode": {
    "name": "ipython",
    "version": 3
   },
   "file_extension": ".py",
   "mimetype": "text/x-python",
   "name": "python",
   "nbconvert_exporter": "python",
   "pygments_lexer": "ipython3",
   "version": "3.9.12"
  },
  "toc": {
   "base_numbering": 1,
   "nav_menu": {},
   "number_sections": true,
   "sideBar": true,
   "skip_h1_title": true,
   "title_cell": "Table of Contents",
   "title_sidebar": "Contents",
   "toc_cell": false,
   "toc_position": {
    "height": "calc(100% - 180px)",
    "left": "10px",
    "top": "150px",
    "width": "400.6px"
   },
   "toc_section_display": true,
   "toc_window_display": false
  }
 },
 "nbformat": 4,
 "nbformat_minor": 2
}
